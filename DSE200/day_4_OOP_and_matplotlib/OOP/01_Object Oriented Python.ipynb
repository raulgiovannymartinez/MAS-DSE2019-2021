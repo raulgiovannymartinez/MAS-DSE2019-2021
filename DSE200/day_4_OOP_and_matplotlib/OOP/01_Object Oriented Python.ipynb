{
 "cells": [
  {
   "cell_type": "markdown",
   "metadata": {},
   "source": [
    "## Function ##\n",
    "We often want to take a piece of code and wrap it into a function. That way we can use the code in several places without \n",
    "repeating it.\n",
    "\n",
    "### Function Parameters ###"
   ]
  },
  {
   "cell_type": "code",
   "execution_count": 2,
   "metadata": {},
   "outputs": [
    {
     "name": "stdout",
     "output_type": "stream",
     "text": [
      "37\n",
      "inout\n"
     ]
    }
   ],
   "source": [
    "def add(a,b):\n",
    "    return a+b\n",
    "print(add(32,5))\n",
    "print(add('in','out'))"
   ]
  },
  {
   "cell_type": "markdown",
   "metadata": {},
   "source": [
    "Functions can have parameters with default value. This helps keep the interface the the function simple while at the same time allowing fine control when needed. It also help keep functions backward compatible with code that was  written before the new parameters were added."
   ]
  },
  {
   "cell_type": "code",
   "execution_count": 3,
   "metadata": {},
   "outputs": [
    {
     "name": "stdout",
     "output_type": "stream",
     "text": [
      "(cat)\n",
      "]dog[\n",
      "(this and that)\n"
     ]
    }
   ],
   "source": [
    "def paren(String,left='(',right=')'):\n",
    "    print(left+String+right)\n",
    "paren('cat')\n",
    "paren('dog',right='[',left=']')\n",
    "paren('this',right=' and that)')\n"
   ]
  },
  {
   "cell_type": "markdown",
   "metadata": {},
   "source": [
    "Function can even have generic parameters, which allow functions to have an arbitrary number of parameters and an arbitrary set of keywards. \n",
    "\n",
    "(*Advanced topic*: Another cool thing that this allows is to define a generic \"wrapper\" function which can be wrapped around any function and change it's behaviour. For more on that pattern google `\"python decorators\"`)"
   ]
  },
  {
   "cell_type": "code",
   "execution_count": 4,
   "metadata": {},
   "outputs": [
    {
     "name": "stdout",
     "output_type": "stream",
     "text": [
      "args=[ 1,2,3,4 ]\n",
      "kwargs={  }\n",
      "args=[ this,that ]\n",
      "kwargs={ (butnot=the other) }\n"
     ]
    }
   ],
   "source": [
    "def generic(*args,**kwargs):\n",
    "    print('args=[',','.join([str(arg) for arg in args]),']')\n",
    "    print('kwargs={',','.join(['(%s=%s)'%(str(k),str(kwargs[k])) for k in kwargs.keys()]),'}')\n",
    "generic(1,2,3,4)\n",
    "generic('this','that',butnot='the other')"
   ]
  },
  {
   "cell_type": "markdown",
   "metadata": {},
   "source": [
    "### Namespaces and scopes ###\n",
    "\n",
    "A namespace is a collection of names that are accessible to a program. As we saw when we discussed the import command,\n",
    "it is often better to import functions into a separate namespace as when we use \n",
    "\n",
    "`import pandas as pd`\n",
    "\n",
    "which creates names of the form `pd.DataFrame` rather than\n",
    "\n",
    "`from pandas import *`\n",
    "\n",
    "which creates names of the form `DataFrame`.\n",
    "\n",
    "An important property of good software design is that function not have **side effects**. In other words, the only effect that calling a function would have on the state of the variables in the caller is done via assignment of the returned value to\n",
    "a variable in the calling function. Any other kind of impact is called a \"side-effect\" and is undesirable because it breaks the logical modularization of the code.\n",
    "\n",
    "On common side-effect can occur when a function assigns a value to a variable that is defined in the calling program. To protect against this side effect the variables that are defined inside a function occupy a separate name space, called the **local** name space. As in python variables come into being when they are assigned to, a variable is declared local if it is assigned a value inside the program. In addition, the parameters to the function are part of the local namespace.\n",
    "\n",
    "The local namespace is deleted when the function returns.\n",
    "\n",
    "Note however that the function **can read** variables that are defined in the calling program. It just can't **write** to those variables. Reading external variables gives the function access to global variables without requiring that they are passed as parameters."
   ]
  },
  {
   "cell_type": "code",
   "execution_count": 10,
   "metadata": {
    "scrolled": true
   },
   "outputs": [
    {
     "ename": "UnboundLocalError",
     "evalue": "local variable 'a' referenced before assignment",
     "output_type": "error",
     "traceback": [
      "\u001b[0;31m---------------------------------------------------------------------------\u001b[0m",
      "\u001b[0;31mUnboundLocalError\u001b[0m                         Traceback (most recent call last)",
      "\u001b[0;32m<ipython-input-10-acc1ff21a6a0>\u001b[0m in \u001b[0;36m<module>\u001b[0;34m\u001b[0m\n\u001b[1;32m     10\u001b[0m \u001b[0;34m\u001b[0m\u001b[0m\n\u001b[1;32m     11\u001b[0m \u001b[0ma\u001b[0m\u001b[0;34m=\u001b[0m\u001b[0;36m5\u001b[0m\u001b[0;34m;\u001b[0m \u001b[0mb\u001b[0m\u001b[0;34m=\u001b[0m\u001b[0;36m10\u001b[0m\u001b[0;34m\u001b[0m\u001b[0;34m\u001b[0m\u001b[0m\n\u001b[0;32m---> 12\u001b[0;31m \u001b[0mf\u001b[0m\u001b[0;34m(\u001b[0m\u001b[0;34m)\u001b[0m\u001b[0;34m\u001b[0m\u001b[0;34m\u001b[0m\u001b[0m\n\u001b[0m\u001b[1;32m     13\u001b[0m \u001b[0mprint\u001b[0m\u001b[0;34m(\u001b[0m\u001b[0;34m\"from caller a=\"\u001b[0m\u001b[0;34m,\u001b[0m\u001b[0ma\u001b[0m\u001b[0;34m,\u001b[0m\u001b[0;34m' b='\u001b[0m\u001b[0;34m,\u001b[0m\u001b[0mb\u001b[0m\u001b[0;34m)\u001b[0m\u001b[0;34m\u001b[0m\u001b[0;34m\u001b[0m\u001b[0m\n",
      "\u001b[0;32m<ipython-input-10-acc1ff21a6a0>\u001b[0m in \u001b[0;36mf\u001b[0;34m()\u001b[0m\n\u001b[1;32m      5\u001b[0m \u001b[0;32mdef\u001b[0m \u001b[0mf\u001b[0m\u001b[0;34m(\u001b[0m\u001b[0;34m)\u001b[0m\u001b[0;34m:\u001b[0m\u001b[0;34m\u001b[0m\u001b[0;34m\u001b[0m\u001b[0m\n\u001b[1;32m      6\u001b[0m \u001b[0;34m\u001b[0m\u001b[0m\n\u001b[0;32m----> 7\u001b[0;31m     \u001b[0mprint\u001b[0m\u001b[0;34m(\u001b[0m\u001b[0;34m'initially b='\u001b[0m\u001b[0;34m,\u001b[0m\u001b[0ma\u001b[0m\u001b[0;34m)\u001b[0m\u001b[0;34m\u001b[0m\u001b[0;34m\u001b[0m\u001b[0m\n\u001b[0m\u001b[1;32m      8\u001b[0m     \u001b[0ma\u001b[0m\u001b[0;34m=\u001b[0m\u001b[0;36m4\u001b[0m   \u001b[0;31m# create a local variable 'a' that masks the global 'a'\u001b[0m\u001b[0;34m\u001b[0m\u001b[0;34m\u001b[0m\u001b[0m\n\u001b[1;32m      9\u001b[0m     \u001b[0mprint\u001b[0m\u001b[0;34m(\u001b[0m\u001b[0;34m'finally  a='\u001b[0m\u001b[0;34m,\u001b[0m\u001b[0ma\u001b[0m\u001b[0;34m,\u001b[0m\u001b[0;34m' b='\u001b[0m\u001b[0;34m,\u001b[0m\u001b[0mb\u001b[0m\u001b[0;34m)\u001b[0m\u001b[0;34m\u001b[0m\u001b[0;34m\u001b[0m\u001b[0m\n",
      "\u001b[0;31mUnboundLocalError\u001b[0m: local variable 'a' referenced before assignment"
     ]
    }
   ],
   "source": [
    "# an example of local and global vaiables.\n",
    "a=5\n",
    "b=10\n",
    "\n",
    "def f():\n",
    "\n",
    "    print('initially b=',a)\n",
    "    a=4   # create a local variable 'a' that masks the global 'a'\n",
    "    print('finally  a=',a,' b=',b)\n",
    "\n",
    "a=5; b=10\n",
    "f()\n",
    "print(\"from caller a=\",a,' b=',b)"
   ]
  },
  {
   "cell_type": "markdown",
   "metadata": {},
   "source": [
    "#### Guess and check what happens if you add the variable 'a' to the command \"print 'initially b=',b\""
   ]
  },
  {
   "cell_type": "markdown",
   "metadata": {},
   "source": [
    "#### locals and globals are dictionaries\n",
    "All variables that are defined in the current context, either as global or as local variables, can be accessed through the dictionaries named `local` and `global`"
   ]
  },
  {
   "cell_type": "code",
   "execution_count": 11,
   "metadata": {},
   "outputs": [
    {
     "name": "stdout",
     "output_type": "stream",
     "text": [
      "locals:\n",
      "('x', 5)\n",
      "('y', 1)\n",
      "globals:\n",
      "\t__name__:__main__\n",
      "\t__doc__:Automatically created module for IPython interactive environment\n",
      "\t__package__:None\n",
      "\t__loader__:None\n",
      "\t__spec__:None\n",
      "\t__builtin__:<module 'builtins' (built-in)>\n",
      "\t__builtins__:<module 'builtins' (built-in)>\n",
      "\t_ih:['', '# an example of local and global vaiables.\\na=5\\nb=10\\n\\ndef f():\\n    print(\\'initially b=\\',b, \\'a=\\',a)\\n    a=4   # create a local variable \\'a\\' that masks the global \\'a\\'\\n    print(\\'finally  a=\\',a,\\' b=\\',b)\\n\\n#a=5; b=10\\nf()\\nprint(\"from caller a=\",a,\\' b=\\',b)', '# an example of local and global vaiables.\\na=5\\nb=10\\n\\ndef f():\\n    print(\\'initially b=\\',b, \\'a=\\',a)\\n    a=4   # create a local variable \\'a\\' that masks the global \\'a\\'\\n    print(\\'finally  a=\\',a,\\' b=\\',b)\\n\\n#a=5; b=10\\nf()\\nprint(\"from caller a=\",a,\\' b=\\',b)', '# an example of local and global vaiables.\\na=5\\nb=10\\n\\ndef f():\\n    print(\\'initially b=\\',b, \\'a=\\',a)\\n    a=4   # create a local variable \\'a\\' that masks the global \\'a\\'\\n    print(\\'finally  a=\\',a,\\' b=\\',b)\\n\\na=5; b=10\\nf()\\nprint(\"from caller a=\",a,\\' b=\\',b)', '# an example of local and global vaiables.\\na=5\\nb=10\\n\\ndef f():\\n    print(\\'initially b=\\',b, \\'a=\\',a)\\n    a=4   # create a local variable \\'a\\' that masks the global \\'a\\'\\n    print(\\'finally  a=\\',a,\\' b=\\',b)\\n\\na=5; b=10\\nf()\\nprint(\"from caller a=\",a,\\' b=\\',b)', '# an example of local and global vaiables.\\na=5\\nb=10\\n\\ndef f():\\n    print(\\'initially b=\\',b, \\'a=\\',a)\\n    a=4   # create a local variable \\'a\\' that masks the global \\'a\\'\\n    print(\\'finally  a=\\',a,\\' b=\\',b)\\n\\na=5; b=10\\nf()\\nprint(\"from caller a=\",a,\\' b=\\',b)', '# an example of local and global vaiables.\\na=5\\nb=10\\n\\ndef f():\\n    a = 4\\n    print(\\'initially b=\\',b, \\'a=\\',a)\\n    a=4   # create a local variable \\'a\\' that masks the global \\'a\\'\\n    print(\\'finally  a=\\',a,\\' b=\\',b)\\n\\na=5; b=10\\nf()\\nprint(\"from caller a=\",a,\\' b=\\',b)', '# an example of local and global vaiables.\\na=5\\nb=10\\n\\ndef f():\\n\\n    print(\\'initially b=\\')\\n    a=4   # create a local variable \\'a\\' that masks the global \\'a\\'\\n    print(\\'finally  a=\\',a,\\' b=\\',b)\\n\\na=5; b=10\\nf()\\nprint(\"from caller a=\",a,\\' b=\\',b)', '# an example of local and global vaiables.\\na=5\\nb=10\\n\\ndef f():\\n\\n    print(\\'initially b=\\',b)\\n    a=4   # create a local variable \\'a\\' that masks the global \\'a\\'\\n    print(\\'finally  a=\\',a,\\' b=\\',b)\\n\\na=5; b=10\\nf()\\nprint(\"from caller a=\",a,\\' b=\\',b)', '# an example of local and global vaiables.\\na=5\\nb=10\\n\\ndef f():\\n\\n    print(\\'initially b=\\',a)\\n    a=4   # create a local variable \\'a\\' that masks the global \\'a\\'\\n    print(\\'finally  a=\\',a,\\' b=\\',b)\\n\\na=5; b=10\\nf()\\nprint(\"from caller a=\",a,\\' b=\\',b)', '# an example of local and global vaiables.\\na=5\\nb=10\\n\\ndef f():\\n\\n    print(\\'initially b=\\',a)\\n    a=4   # create a local variable \\'a\\' that masks the global \\'a\\'\\n    print(\\'finally  a=\\',a,\\' b=\\',b)\\n\\na=5; b=10\\nf()\\nprint(\"from caller a=\",a,\\' b=\\',b)', \"def f(x,y=1):\\n    print('locals:')\\n    print('\\\\n'.join([str(item) for item in locals().items()]))\\n    print('globals:')\\n    print('\\\\n'.join(['\\\\t'+str(key)+':'+str(value) for key,value in globals().items()]))\\nf(5);\"]\n",
      "\t_oh:{}\n",
      "\t_dh:['/home/raulmartinez/Documents/DSE/2019-rgm001/DSE200/day_4_OOP_and_matplotlib/OOP']\n",
      "\tIn:['', '# an example of local and global vaiables.\\na=5\\nb=10\\n\\ndef f():\\n    print(\\'initially b=\\',b, \\'a=\\',a)\\n    a=4   # create a local variable \\'a\\' that masks the global \\'a\\'\\n    print(\\'finally  a=\\',a,\\' b=\\',b)\\n\\n#a=5; b=10\\nf()\\nprint(\"from caller a=\",a,\\' b=\\',b)', '# an example of local and global vaiables.\\na=5\\nb=10\\n\\ndef f():\\n    print(\\'initially b=\\',b, \\'a=\\',a)\\n    a=4   # create a local variable \\'a\\' that masks the global \\'a\\'\\n    print(\\'finally  a=\\',a,\\' b=\\',b)\\n\\n#a=5; b=10\\nf()\\nprint(\"from caller a=\",a,\\' b=\\',b)', '# an example of local and global vaiables.\\na=5\\nb=10\\n\\ndef f():\\n    print(\\'initially b=\\',b, \\'a=\\',a)\\n    a=4   # create a local variable \\'a\\' that masks the global \\'a\\'\\n    print(\\'finally  a=\\',a,\\' b=\\',b)\\n\\na=5; b=10\\nf()\\nprint(\"from caller a=\",a,\\' b=\\',b)', '# an example of local and global vaiables.\\na=5\\nb=10\\n\\ndef f():\\n    print(\\'initially b=\\',b, \\'a=\\',a)\\n    a=4   # create a local variable \\'a\\' that masks the global \\'a\\'\\n    print(\\'finally  a=\\',a,\\' b=\\',b)\\n\\na=5; b=10\\nf()\\nprint(\"from caller a=\",a,\\' b=\\',b)', '# an example of local and global vaiables.\\na=5\\nb=10\\n\\ndef f():\\n    print(\\'initially b=\\',b, \\'a=\\',a)\\n    a=4   # create a local variable \\'a\\' that masks the global \\'a\\'\\n    print(\\'finally  a=\\',a,\\' b=\\',b)\\n\\na=5; b=10\\nf()\\nprint(\"from caller a=\",a,\\' b=\\',b)', '# an example of local and global vaiables.\\na=5\\nb=10\\n\\ndef f():\\n    a = 4\\n    print(\\'initially b=\\',b, \\'a=\\',a)\\n    a=4   # create a local variable \\'a\\' that masks the global \\'a\\'\\n    print(\\'finally  a=\\',a,\\' b=\\',b)\\n\\na=5; b=10\\nf()\\nprint(\"from caller a=\",a,\\' b=\\',b)', '# an example of local and global vaiables.\\na=5\\nb=10\\n\\ndef f():\\n\\n    print(\\'initially b=\\')\\n    a=4   # create a local variable \\'a\\' that masks the global \\'a\\'\\n    print(\\'finally  a=\\',a,\\' b=\\',b)\\n\\na=5; b=10\\nf()\\nprint(\"from caller a=\",a,\\' b=\\',b)', '# an example of local and global vaiables.\\na=5\\nb=10\\n\\ndef f():\\n\\n    print(\\'initially b=\\',b)\\n    a=4   # create a local variable \\'a\\' that masks the global \\'a\\'\\n    print(\\'finally  a=\\',a,\\' b=\\',b)\\n\\na=5; b=10\\nf()\\nprint(\"from caller a=\",a,\\' b=\\',b)', '# an example of local and global vaiables.\\na=5\\nb=10\\n\\ndef f():\\n\\n    print(\\'initially b=\\',a)\\n    a=4   # create a local variable \\'a\\' that masks the global \\'a\\'\\n    print(\\'finally  a=\\',a,\\' b=\\',b)\\n\\na=5; b=10\\nf()\\nprint(\"from caller a=\",a,\\' b=\\',b)', '# an example of local and global vaiables.\\na=5\\nb=10\\n\\ndef f():\\n\\n    print(\\'initially b=\\',a)\\n    a=4   # create a local variable \\'a\\' that masks the global \\'a\\'\\n    print(\\'finally  a=\\',a,\\' b=\\',b)\\n\\na=5; b=10\\nf()\\nprint(\"from caller a=\",a,\\' b=\\',b)', \"def f(x,y=1):\\n    print('locals:')\\n    print('\\\\n'.join([str(item) for item in locals().items()]))\\n    print('globals:')\\n    print('\\\\n'.join(['\\\\t'+str(key)+':'+str(value) for key,value in globals().items()]))\\nf(5);\"]\n",
      "\tOut:{}\n",
      "\tget_ipython:<bound method InteractiveShell.get_ipython of <ipykernel.zmqshell.ZMQInteractiveShell object at 0x7fac6a7ebcd0>>\n",
      "\texit:<IPython.core.autocall.ZMQExitAutocall object at 0x7fac6a7aefd0>\n",
      "\tquit:<IPython.core.autocall.ZMQExitAutocall object at 0x7fac6a7aefd0>\n",
      "\t_:\n",
      "\t__:\n",
      "\t___:\n",
      "\t_i:# an example of local and global vaiables.\n",
      "a=5\n",
      "b=10\n",
      "\n",
      "def f():\n",
      "\n",
      "    print('initially b=',a)\n",
      "    a=4   # create a local variable 'a' that masks the global 'a'\n",
      "    print('finally  a=',a,' b=',b)\n",
      "\n",
      "a=5; b=10\n",
      "f()\n",
      "print(\"from caller a=\",a,' b=',b)\n",
      "\t_ii:# an example of local and global vaiables.\n",
      "a=5\n",
      "b=10\n",
      "\n",
      "def f():\n",
      "\n",
      "    print('initially b=',a)\n",
      "    a=4   # create a local variable 'a' that masks the global 'a'\n",
      "    print('finally  a=',a,' b=',b)\n",
      "\n",
      "a=5; b=10\n",
      "f()\n",
      "print(\"from caller a=\",a,' b=',b)\n",
      "\t_iii:# an example of local and global vaiables.\n",
      "a=5\n",
      "b=10\n",
      "\n",
      "def f():\n",
      "\n",
      "    print('initially b=',b)\n",
      "    a=4   # create a local variable 'a' that masks the global 'a'\n",
      "    print('finally  a=',a,' b=',b)\n",
      "\n",
      "a=5; b=10\n",
      "f()\n",
      "print(\"from caller a=\",a,' b=',b)\n",
      "\t_i1:# an example of local and global vaiables.\n",
      "a=5\n",
      "b=10\n",
      "\n",
      "def f():\n",
      "    print('initially b=',b, 'a=',a)\n",
      "    a=4   # create a local variable 'a' that masks the global 'a'\n",
      "    print('finally  a=',a,' b=',b)\n",
      "\n",
      "#a=5; b=10\n",
      "f()\n",
      "print(\"from caller a=\",a,' b=',b)\n",
      "\ta:5\n",
      "\tb:10\n",
      "\tf:<function f at 0x7fac6859bdd0>\n",
      "\t_i2:# an example of local and global vaiables.\n",
      "a=5\n",
      "b=10\n",
      "\n",
      "def f():\n",
      "    print('initially b=',b, 'a=',a)\n",
      "    a=4   # create a local variable 'a' that masks the global 'a'\n",
      "    print('finally  a=',a,' b=',b)\n",
      "\n",
      "#a=5; b=10\n",
      "f()\n",
      "print(\"from caller a=\",a,' b=',b)\n",
      "\t_i3:# an example of local and global vaiables.\n",
      "a=5\n",
      "b=10\n",
      "\n",
      "def f():\n",
      "    print('initially b=',b, 'a=',a)\n",
      "    a=4   # create a local variable 'a' that masks the global 'a'\n",
      "    print('finally  a=',a,' b=',b)\n",
      "\n",
      "a=5; b=10\n",
      "f()\n",
      "print(\"from caller a=\",a,' b=',b)\n",
      "\t_i4:# an example of local and global vaiables.\n",
      "a=5\n",
      "b=10\n",
      "\n",
      "def f():\n",
      "    print('initially b=',b, 'a=',a)\n",
      "    a=4   # create a local variable 'a' that masks the global 'a'\n",
      "    print('finally  a=',a,' b=',b)\n",
      "\n",
      "a=5; b=10\n",
      "f()\n",
      "print(\"from caller a=\",a,' b=',b)\n",
      "\t_i5:# an example of local and global vaiables.\n",
      "a=5\n",
      "b=10\n",
      "\n",
      "def f():\n",
      "    print('initially b=',b, 'a=',a)\n",
      "    a=4   # create a local variable 'a' that masks the global 'a'\n",
      "    print('finally  a=',a,' b=',b)\n",
      "\n",
      "a=5; b=10\n",
      "f()\n",
      "print(\"from caller a=\",a,' b=',b)\n",
      "\t_i6:# an example of local and global vaiables.\n",
      "a=5\n",
      "b=10\n",
      "\n",
      "def f():\n",
      "    a = 4\n",
      "    print('initially b=',b, 'a=',a)\n",
      "    a=4   # create a local variable 'a' that masks the global 'a'\n",
      "    print('finally  a=',a,' b=',b)\n",
      "\n",
      "a=5; b=10\n",
      "f()\n",
      "print(\"from caller a=\",a,' b=',b)\n",
      "\t_i7:# an example of local and global vaiables.\n",
      "a=5\n",
      "b=10\n",
      "\n",
      "def f():\n",
      "\n",
      "    print('initially b=')\n",
      "    a=4   # create a local variable 'a' that masks the global 'a'\n",
      "    print('finally  a=',a,' b=',b)\n",
      "\n",
      "a=5; b=10\n",
      "f()\n",
      "print(\"from caller a=\",a,' b=',b)\n",
      "\t_i8:# an example of local and global vaiables.\n",
      "a=5\n",
      "b=10\n",
      "\n",
      "def f():\n",
      "\n",
      "    print('initially b=',b)\n",
      "    a=4   # create a local variable 'a' that masks the global 'a'\n",
      "    print('finally  a=',a,' b=',b)\n",
      "\n",
      "a=5; b=10\n",
      "f()\n",
      "print(\"from caller a=\",a,' b=',b)\n",
      "\t_i9:# an example of local and global vaiables.\n",
      "a=5\n",
      "b=10\n",
      "\n",
      "def f():\n",
      "\n",
      "    print('initially b=',a)\n",
      "    a=4   # create a local variable 'a' that masks the global 'a'\n",
      "    print('finally  a=',a,' b=',b)\n",
      "\n",
      "a=5; b=10\n",
      "f()\n",
      "print(\"from caller a=\",a,' b=',b)\n",
      "\t_i10:# an example of local and global vaiables.\n",
      "a=5\n",
      "b=10\n",
      "\n",
      "def f():\n",
      "\n",
      "    print('initially b=',a)\n",
      "    a=4   # create a local variable 'a' that masks the global 'a'\n",
      "    print('finally  a=',a,' b=',b)\n",
      "\n",
      "a=5; b=10\n",
      "f()\n",
      "print(\"from caller a=\",a,' b=',b)\n",
      "\t_i11:def f(x,y=1):\n",
      "    print('locals:')\n",
      "    print('\\n'.join([str(item) for item in locals().items()]))\n",
      "    print('globals:')\n",
      "    print('\\n'.join(['\\t'+str(key)+':'+str(value) for key,value in globals().items()]))\n",
      "f(5);\n"
     ]
    }
   ],
   "source": [
    "def f(x,y=1):\n",
    "    print('locals:')\n",
    "    print('\\n'.join([str(item) for item in locals().items()]))\n",
    "    print('globals:')\n",
    "    print('\\n'.join(['\\t'+str(key)+':'+str(value) for key,value in globals().items()]))\n",
    "f(5);"
   ]
  },
  {
   "cell_type": "markdown",
   "metadata": {},
   "source": [
    "### Lambda expressions ###\n",
    "\n",
    "Functions can be parameters to other functions. For examples the `sort` command has an optional parameter `key`\n",
    "which defines a function whose input is an item in the list to be sorted and whose output sortable element such as a number or a string.\n",
    "\n",
    "Such functions are often very simple. Writing these function explicitly can lead to bluky and confusing code.\n",
    "\n",
    "A better solution is to use what are called \"anonymous functions\" or \"lambda functions\". These are functions which do not have a name and whose definition is very short and can be included inside the call to the function. See the example below.\n",
    "\n"
   ]
  },
  {
   "cell_type": "code",
   "execution_count": 15,
   "metadata": {},
   "outputs": [
    {
     "name": "stdout",
     "output_type": "stream",
     "text": [
      "[('dave', 'B', 10), ('jane', 'B', 12), ('john', 'A', 15)]\n",
      "[('dave', 'B', 10), ('jane', 'B', 12), ('john', 'A', 15)]\n"
     ]
    }
   ],
   "source": [
    "student_tuples = [\n",
    "        ('john', 'A', 15),\n",
    "        ('jane', 'B', 12),\n",
    "        ('dave', 'B', 10),\n",
    "]\n",
    "\n",
    "def keyfunction(student):\n",
    "    return student[2]\n",
    "print(sorted(student_tuples, key=keyfunction))   # sort by age\n",
    "\n",
    "# is equivalent to \n",
    "print(sorted(student_tuples, key= lambda student: student[2]))   # sort by age\n",
    "\n"
   ]
  },
  {
   "cell_type": "markdown",
   "metadata": {},
   "source": [
    "## Object oriented programming ##\n",
    "\n",
    "The code in this notebook is associated with the book [\"Introduction to computation\n",
    "and programming using Python\" By John V. Guttag](http://mitpress.mit.edu/books/introduction-computation-and-programming-using-python-0) The code here is taken from Chapter 8\n",
    "\n",
    "While functions help modularize computer code they leave much to be desired. It is often desirable to create modules that combine several functions together with the data on which these functions operate. In python these modules are called **classes**. A class is a definition of a type of **object** which can be manipulated in a predefined set of ways."
   ]
  },
  {
   "cell_type": "markdown",
   "metadata": {},
   "source": [
    "### A new class: IntSet\n",
    "Below we define a class called `IntSet` which represents a set of integers. The commands to create two new empty sets \n",
    "of type `intSet` called `X` and `Y` are\n",
    "\n",
    "> X=IntSet(); Y=IntSet()\n",
    "\n",
    "An object is a collection of **attributes** and **methods**. The attributes store the data which defines the object while the methods are the functions that can operate on this data.\n",
    "\n",
    "The syntax for accessing the attribute `vals` in the variable `X` is `X.vals`. The syntax for calling the method `insert` to insert the number `7` into the intSet Y is `Y.insert(7)`\n",
    "\n",
    "By Convention, if the name of an attribute or a method start with an underscore `_` the attribute or method is considered **private**. This means that the methods and attributes should not be accessed directly by outside code.\n",
    "\n",
    "Two standard private methods are:\n",
    "\n",
    "* `__init__`  a method for initializing the object. This method is called automatically when the class name is called.\n",
    "* `__str__` a method that returns a representation of the object as a string. This method is called by the print command."
   ]
  },
  {
   "cell_type": "code",
   "execution_count": 22,
   "metadata": {},
   "outputs": [],
   "source": [
    "#Page 93, Figure 8.1\n",
    "class IntSet(object):\n",
    "    \"\"\"An intSet is a set of integers\"\"\"\n",
    "    #Information about the implementation (not the abstraction)\n",
    "    #The value of the set is represented by a list of ints, self.vals.\n",
    "    #Each int in the set occurs in self.vals exactly once.\n",
    "    \n",
    "    def __init__(self):\n",
    "        \"\"\"Create an empty set of integers\"\"\"\n",
    "        self.vals = []\n",
    "\n",
    "    def insert(self, e):\n",
    "        \"\"\"Assumes e is an integer and inserts e into self\"\"\"\n",
    "        if not e in self.vals:\n",
    "            self.vals.append(e)\n",
    "\n",
    "    def member(self, e):\n",
    "        \"\"\"Assumes e is an integer\n",
    "           Returns True if e is in self, and False otherwise\"\"\"\n",
    "        return e in self.vals\n",
    "\n",
    "    def remove(self, e):\n",
    "        \"\"\"Assumes e is an integer and removes e from self\n",
    "           Raises ValueError if e is not in self\"\"\"\n",
    "        try:\n",
    "            self.vals.remove(e)\n",
    "        except:\n",
    "            print(ValueError(str(e) + ' not found'))\n",
    "\n",
    "    def getMembers(self):\n",
    "        \"\"\"Returns a list containing the elements of self.\n",
    "           Nothing can be assumed about the order of the elements\"\"\"\n",
    "        return self.vals[:]\n",
    "\n",
    "    def __str__(self):\n",
    "        \"\"\"Returns a string representation of self\"\"\"\n",
    "        self.vals.sort()\n",
    "        result = ''\n",
    "        for e in self.vals:\n",
    "            result = result + str(e) + ','\n",
    "        return '{/' + result[:-1] + '}' #-1 omits trailing comma"
   ]
  },
  {
   "cell_type": "code",
   "execution_count": 23,
   "metadata": {},
   "outputs": [
    {
     "name": "stdout",
     "output_type": "stream",
     "text": [
      "s= {/}\n",
      "{/3,25}\n",
      "True\n",
      "11 not found\n"
     ]
    },
    {
     "data": {
      "text/plain": [
       "'{/3,25}'"
      ]
     },
     "execution_count": 23,
     "metadata": {},
     "output_type": "execute_result"
    }
   ],
   "source": [
    "#Page 94\n",
    "s = IntSet()\n",
    "print('s=',s)\n",
    "s.insert(3)\n",
    "s.insert(25);\n",
    "print(s)\n",
    "print(s.member(3))\n",
    "s.remove(11)\n",
    "s.__str__()"
   ]
  },
  {
   "cell_type": "code",
   "execution_count": 21,
   "metadata": {},
   "outputs": [
    {
     "data": {
      "text/plain": [
       "'{3,25}'"
      ]
     },
     "execution_count": 21,
     "metadata": {},
     "output_type": "execute_result"
    }
   ],
   "source": [
    "s.__str__()\n"
   ]
  },
  {
   "cell_type": "markdown",
   "metadata": {},
   "source": [
    "### An exisiting class: arrays\n",
    "The package **numpy** defines the type \"array\" which defines k-dimensional arrays and over-rides many of the operations for them. A special method name is associated with each operand, some of those are:\n",
    "\n",
    "|operator| method name |\n",
    "|--------|-------------|\n",
    "| `+`    |   `__add__` |  \n",
    "| `*`    |  `__mul__`  |"
   ]
  },
  {
   "cell_type": "code",
   "execution_count": 24,
   "metadata": {},
   "outputs": [
    {
     "name": "stdout",
     "output_type": "stream",
     "text": [
      "a1 = [1 2 4]\n",
      "a2 = [2 4 8]\n",
      "a1 + 3 = [4 5 7]\n",
      "3 - a1 = [ 2  1 -1]\n",
      "a1 - a2 = [-1 -2 -4]\n",
      "a1*a2 = [ 2  8 32]\n"
     ]
    }
   ],
   "source": [
    "import numpy\n",
    "#Page 148\n",
    "a1 = numpy.array([1, 2, 4])\n",
    "print('a1 =', a1)\n",
    "a2 = a1*2\n",
    "print('a2 =', a2)\n",
    "print('a1 + 3 =', a1 + 3)\n",
    "print('3 - a1 =', 3 - a1)\n",
    "print('a1 - a2 =', a1 - a2)\n",
    "print('a1*a2 =', a1*a2)"
   ]
  },
  {
   "cell_type": "markdown",
   "metadata": {},
   "source": [
    "### Defining the \"Person\" class ###\n",
    "\n",
    "We define a base class which holds the methods (functions) and properties (data) commong to all persons."
   ]
  },
  {
   "cell_type": "code",
   "execution_count": 27,
   "metadata": {},
   "outputs": [],
   "source": [
    "#Page 97, Figure 8.2\n",
    "import datetime\n",
    "\n",
    "class Person(object):  # (object) is redundant, all classes inherit from \"object\".\n",
    "\n",
    "    def __init__(self, name):\n",
    "        \"\"\"Create a person\"\"\"\n",
    "        self.name = name\n",
    "        try:\n",
    "            lastBlank = name.rindex(' ')\n",
    "            self.lastName = name[lastBlank+1:]\n",
    "        except:  # exception occurs if cannot find a space and something following it.\n",
    "            self.lastName = name\n",
    "        self.birthday = None\n",
    " \n",
    "    def getName(self):\n",
    "        \"\"\"Returns self's full name\"\"\"\n",
    "        return self.name\n",
    "\n",
    "    def getLastName(self):\n",
    "        \"\"\"Returns self's last name\"\"\"\n",
    "        return self.lastName\n",
    "\n",
    "    def setBirthday(self, birthdate):\n",
    "        \"\"\"Assumes birthdate is of type datetime.date\n",
    "           Sets self's birthday to birthdate\"\"\"\n",
    "        self.birthday = birthdate\n",
    "\n",
    "    def getAge(self):\n",
    "        \"\"\"Returns self's current age in days\"\"\"\n",
    "        if self.birthday == None:\n",
    "            raise ValueError\n",
    "        return (datetime.date.today() - self.birthday).days\n",
    "\n",
    "    def __lt__(self, other):\n",
    "        \"\"\"Returns True if self's name is lexicographically\n",
    "           less than other's name, and False otherwise\"\"\"\n",
    "        if self.lastName == other.lastName:\n",
    "            return self.name < other.name\n",
    "        return self.lastName < other.lastName\n",
    "\n",
    "    def __str__(self):\n",
    "        \"\"\"Returns self's name\"\"\"\n",
    "        return self.name"
   ]
  },
  {
   "cell_type": "code",
   "execution_count": 52,
   "metadata": {},
   "outputs": [
    {
     "name": "stdout",
     "output_type": "stream",
     "text": [
      "Obama\n",
      "Barack Hussein Obama is 21283 days old\n"
     ]
    }
   ],
   "source": [
    "#Page 97\n",
    "me = Person('Michael Guttag')\n",
    "him = Person('Barack Hussein Obama')\n",
    "her = Person('Madonna')\n",
    "print(him.getLastName())\n",
    "him.setBirthday(datetime.date(1961, 8, 4))\n",
    "her.setBirthday(datetime.date(1958, 8, 16))\n",
    "print(him.getName(), 'is', him.getAge(), 'days old')"
   ]
  },
  {
   "cell_type": "code",
   "execution_count": 53,
   "metadata": {},
   "outputs": [
    {
     "data": {
      "text/plain": [
       "21283"
      ]
     },
     "execution_count": 53,
     "metadata": {},
     "output_type": "execute_result"
    }
   ],
   "source": [
    "him.getAge()"
   ]
  },
  {
   "cell_type": "markdown",
   "metadata": {},
   "source": [
    "### Objects of type Person can be used anywhere ###\n",
    "We can create a list of people. As we defined the order relationship between persons `__lt__`, we can sort the list.\n"
   ]
  },
  {
   "cell_type": "code",
   "execution_count": 29,
   "metadata": {},
   "outputs": [
    {
     "name": "stdout",
     "output_type": "stream",
     "text": [
      "<class '__main__.Person'>\n",
      "Michael Guttag\n",
      "Barack Hussein Obama\n",
      "Madonna\n",
      "sorted list\n",
      "Michael Guttag\n",
      "Madonna\n",
      "Barack Hussein Obama\n"
     ]
    }
   ],
   "source": [
    "#Page 98\n",
    "print(type(me))\n",
    "pList = [me, him, her]\n",
    "for p in pList:\n",
    "    print(p)\n",
    "pList.sort()\n",
    "print('sorted list')\n",
    "for p in pList:\n",
    "    print(p)"
   ]
  },
  {
   "cell_type": "markdown",
   "metadata": {},
   "source": [
    "### Defining MITPerson as a sub-class of Person ###"
   ]
  },
  {
   "cell_type": "code",
   "execution_count": 31,
   "metadata": {},
   "outputs": [],
   "source": [
    "#Page 99, Figure 8.3\n",
    "class MITPerson(Person):\n",
    "    \n",
    "    nextIdNum = 0   #identification number - this is a class variable, \n",
    "                    # is attached to the whole class, not to each object.\n",
    "    \n",
    "    def __init__(self, name):\n",
    "        Person.__init__(self, name)  # call the parent class initializer.\n",
    "        self.idNum = MITPerson.nextIdNum\n",
    "        MITPerson.nextIdNum += 1\n",
    "        \n",
    "    def getIdNum(self):\n",
    "        return self.idNum\n",
    "    \n",
    "    def __lt__(self, other):\n",
    "        if type(other)==MITPerson:\n",
    "            return self.idNum < other.idNum\n",
    "        else:\n",
    "            return Person.__lt__(self,other)\n",
    "\n",
    "    def isStudent(self):\n",
    "        return isinstance(self, Student)\n",
    "    \n",
    "    def __str__(self):\n",
    "        return self.name+' is from MIT and their ID no. is '+str(self.idNum)"
   ]
  },
  {
   "cell_type": "code",
   "execution_count": 36,
   "metadata": {},
   "outputs": [
    {
     "name": "stdout",
     "output_type": "stream",
     "text": [
      "Barbara Beaver is from MIT and their ID no. is 4\n"
     ]
    }
   ],
   "source": [
    "#Page 100\n",
    "p1 = MITPerson('Barbara Beaver')\n",
    "print(p1)\n"
   ]
  },
  {
   "cell_type": "markdown",
   "metadata": {},
   "source": [
    "### Excercise:\n",
    "Over-ride the method `__str__` for `MITPerson` so that the default printout of an `MITPerson` includes the fact that they are from MIT and their ID number."
   ]
  },
  {
   "cell_type": "code",
   "execution_count": 59,
   "metadata": {},
   "outputs": [
    {
     "name": "stdout",
     "output_type": "stream",
     "text": [
      "26\n",
      "27\n",
      "28\n"
     ]
    },
    {
     "ename": "ValueError",
     "evalue": "",
     "output_type": "error",
     "traceback": [
      "\u001b[0;31m---------------------------------------------------------------------------\u001b[0m",
      "\u001b[0;31mValueError\u001b[0m                                Traceback (most recent call last)",
      "\u001b[0;32m<ipython-input-59-01fb06220ce5>\u001b[0m in \u001b[0;36m<module>\u001b[0;34m\u001b[0m\n\u001b[1;32m      2\u001b[0m \u001b[0mprint\u001b[0m\u001b[0;34m(\u001b[0m\u001b[0mp2\u001b[0m\u001b[0;34m.\u001b[0m\u001b[0mgetIdNum\u001b[0m\u001b[0;34m(\u001b[0m\u001b[0;34m)\u001b[0m\u001b[0;34m)\u001b[0m\u001b[0;34m\u001b[0m\u001b[0;34m\u001b[0m\u001b[0m\n\u001b[1;32m      3\u001b[0m \u001b[0mprint\u001b[0m\u001b[0;34m(\u001b[0m\u001b[0mp3\u001b[0m\u001b[0;34m.\u001b[0m\u001b[0mgetIdNum\u001b[0m\u001b[0;34m(\u001b[0m\u001b[0;34m)\u001b[0m\u001b[0;34m)\u001b[0m\u001b[0;34m\u001b[0m\u001b[0;34m\u001b[0m\u001b[0m\n\u001b[0;32m----> 4\u001b[0;31m \u001b[0mprint\u001b[0m\u001b[0;34m(\u001b[0m\u001b[0mp4\u001b[0m\u001b[0;34m.\u001b[0m\u001b[0mgetAge\u001b[0m\u001b[0;34m(\u001b[0m\u001b[0;34m)\u001b[0m\u001b[0;34m)\u001b[0m\u001b[0;34m\u001b[0m\u001b[0;34m\u001b[0m\u001b[0m\n\u001b[0m",
      "\u001b[0;32m<ipython-input-27-6da945c7741f>\u001b[0m in \u001b[0;36mgetAge\u001b[0;34m(self)\u001b[0m\n\u001b[1;32m     30\u001b[0m         \u001b[0;34m\"\"\"Returns self's current age in days\"\"\"\u001b[0m\u001b[0;34m\u001b[0m\u001b[0;34m\u001b[0m\u001b[0m\n\u001b[1;32m     31\u001b[0m         \u001b[0;32mif\u001b[0m \u001b[0mself\u001b[0m\u001b[0;34m.\u001b[0m\u001b[0mbirthday\u001b[0m \u001b[0;34m==\u001b[0m \u001b[0;32mNone\u001b[0m\u001b[0;34m:\u001b[0m\u001b[0;34m\u001b[0m\u001b[0;34m\u001b[0m\u001b[0m\n\u001b[0;32m---> 32\u001b[0;31m             \u001b[0;32mraise\u001b[0m \u001b[0mValueError\u001b[0m\u001b[0;34m\u001b[0m\u001b[0;34m\u001b[0m\u001b[0m\n\u001b[0m\u001b[1;32m     33\u001b[0m         \u001b[0;32mreturn\u001b[0m \u001b[0;34m(\u001b[0m\u001b[0mdatetime\u001b[0m\u001b[0;34m.\u001b[0m\u001b[0mdate\u001b[0m\u001b[0;34m.\u001b[0m\u001b[0mtoday\u001b[0m\u001b[0;34m(\u001b[0m\u001b[0;34m)\u001b[0m \u001b[0;34m-\u001b[0m \u001b[0mself\u001b[0m\u001b[0;34m.\u001b[0m\u001b[0mbirthday\u001b[0m\u001b[0;34m)\u001b[0m\u001b[0;34m.\u001b[0m\u001b[0mdays\u001b[0m\u001b[0;34m\u001b[0m\u001b[0;34m\u001b[0m\u001b[0m\n\u001b[1;32m     34\u001b[0m \u001b[0;34m\u001b[0m\u001b[0m\n",
      "\u001b[0;31mValueError\u001b[0m: "
     ]
    }
   ],
   "source": [
    "print(p1.getIdNum())\n",
    "print(p2.getIdNum())\n",
    "print(p3.getIdNum())\n",
    "print(p4.getAge())"
   ]
  },
  {
   "cell_type": "code",
   "execution_count": 58,
   "metadata": {},
   "outputs": [
    {
     "name": "stdout",
     "output_type": "stream",
     "text": [
      "variable type is MITPerson [True, True, True, False]\n",
      "p1 < p2 = True\n",
      "p3 < p2 = False\n",
      "p4 < p1 = True\n",
      "p1 < p4 = False\n"
     ]
    }
   ],
   "source": [
    "p1 = MITPerson('Mark Guttag')\n",
    "p2 = MITPerson('Billy Bob Beaver1')   # three different persons (person objects) called Billy Bob Beaver.\n",
    "p3 = MITPerson('Billy Bob Beaver2')\n",
    "p4 = Person('Billy Bob Beaver3')\n",
    "print('variable type is MITPerson',[type(p) is MITPerson for p in [p1,p2,p3,p4]])\n",
    "\n",
    "print('p1 < p2 =', p1 < p2)\n",
    "print('p3 < p2 =', p3 < p2)\n",
    "print('p4 < p1 =', p4 < p1)\n",
    "\n",
    "print('p1 < p4 =', p1 < p4)"
   ]
  },
  {
   "cell_type": "markdown",
   "metadata": {},
   "source": [
    "### Fix this error ###\n",
    "1. What cased the error? Why is `p4<p1` ok, but `p1<p4` not ok?\n",
    "2. How would you fix the problem?\n",
    "\n",
    "### Next, we create Classes Student, UG and Grad ###"
   ]
  },
  {
   "cell_type": "code",
   "execution_count": 61,
   "metadata": {},
   "outputs": [],
   "source": [
    "#Page 101, Figure 8.4\n",
    "class Student(MITPerson):\n",
    "    pass\n",
    "\n",
    "class UG(Student):\n",
    "    def __init__(self, name, classYear):\n",
    "        MITPerson.__init__(self, name)\n",
    "        self.year = classYear\n",
    "    def getClass(self):\n",
    "        return self.year\n",
    "    \n",
    "class Grad(Student):\n",
    "    pass"
   ]
  },
  {
   "cell_type": "markdown",
   "metadata": {},
   "source": [
    "### Type vs. isinstance\n",
    "`Grad` and `UG` are subclasses of `Student`.\n",
    "If a an object is initialized as a `Grad` it's type is `Grad`. To check the ancestors of the type\n",
    "we use the command `issinstance`. Thus calling `isinstance` on an object of type `UG` will return **True** on the classes `UG,Student,MITPerson,Person` but will return false on the class `Grad`"
   ]
  },
  {
   "cell_type": "code",
   "execution_count": 62,
   "metadata": {},
   "outputs": [
    {
     "name": "stdout",
     "output_type": "stream",
     "text": [
      "Buzz Aldrin is from MIT and their ID no. is 29 is a graduate student is True\n",
      "Buzz Aldrin is from MIT and their ID no. is 29 is an undergraduate student is False\n",
      "Buzz Aldrin is from MIT and their ID no. is 29 is a student is False\n"
     ]
    }
   ],
   "source": [
    "#Page 101\n",
    "p5 = Grad('Buzz Aldrin')\n",
    "print(p5, 'is a graduate student is', type(p5) == Grad)\n",
    "print(p5, 'is an undergraduate student is', type(p5) == UG)\n",
    "print(p5, 'is a student is',type(p5)==Student)"
   ]
  },
  {
   "cell_type": "code",
   "execution_count": 63,
   "metadata": {},
   "outputs": [
    {
     "name": "stdout",
     "output_type": "stream",
     "text": [
      "Buzz Aldrin is from MIT and their ID no. is 29 is a type of student is True\n",
      "Billy Beaver is from MIT and their ID no. is 30 is a type of student is True\n",
      "Billy Bob Beaver2 is from MIT and their ID no. is 28 is a type of student is False\n",
      "Eternal Student is from MIT and their ID no. is 31 is a type of student is True\n"
     ]
    }
   ],
   "source": [
    "#Page 102\n",
    "p6 = UG('Billy Beaver', 1984)\n",
    "p7 = Student('Eternal Student')\n",
    "def isStudent(self):\n",
    "    return isinstance(self, Student)\n",
    "print(p5, 'is a type of student is', p5.isStudent())\n",
    "print(p6, 'is a type of student is', p6.isStudent())\n",
    "print(p3, 'is a type of student is', p3.isStudent())\n",
    "print(p7, 'is a type of student is', p7.isStudent())"
   ]
  },
  {
   "cell_type": "code",
   "execution_count": 31,
   "metadata": {
    "scrolled": true
   },
   "outputs": [],
   "source": [
    "# one more type of student.\n",
    "\n",
    "class TransferStudent(Student):\n",
    "\n",
    "    def __init__(self, name, fromSchool):\n",
    "        MITPerson.__init__(self, name)\n",
    "        self.fromSchool = fromSchool\n",
    "\n",
    "    def getOldSchool(self):\n",
    "        return self.fromSchool"
   ]
  },
  {
   "cell_type": "markdown",
   "metadata": {},
   "source": [
    "### Define the class `Grades` which defines a grade list"
   ]
  },
  {
   "cell_type": "code",
   "execution_count": 65,
   "metadata": {},
   "outputs": [],
   "source": [
    "#Page 103, Figure 8.5\n",
    "\n",
    "class Grades(object):\n",
    "    \"\"\"A mapping from students to a list of grades\"\"\"\n",
    "    def __init__(self):\n",
    "        \"\"\"Create empty grade book\"\"\"\n",
    "        self.students = []\n",
    "        self.grades = {}\n",
    "        self.isSorted = True\n",
    "\n",
    "    def addStudent(self, student):\n",
    "        \"\"\"Assumes: student is of type Student\n",
    "           Add student to the grade book\"\"\"\n",
    "        if student in self.students:\n",
    "            raise ValueError('Duplicate student')\n",
    "        self.students.append(student)\n",
    "        self.grades[student.getIdNum()] = []\n",
    "        self.isSorted = False\n",
    "\n",
    "    def addGrade(self, student, grade):\n",
    "        \"\"\"Assumes: grade is a float\n",
    "           Add grade to the list of grades for student\"\"\"\n",
    "        try:\n",
    "            self.grades[student.getIdNum()].append(grade)\n",
    "        except:\n",
    "            raise ValueError('Student not in mapping')\n",
    "\n",
    "    def getGrades(self, student):\n",
    "        \"\"\"Return a list of grades for student\"\"\"\n",
    "        try: #return copy of student's grades\n",
    "            return self.grades[student.getIdNum()][:]\n",
    "        except:\n",
    "            raise ValueError('Student not in mapping')\n",
    "\n",
    "    def getStudents(self):\n",
    "        \"\"\"Return a list of the students in the grade book\"\"\"\n",
    "        if not self.isSorted:\n",
    "            self.students.sort()\n",
    "            self.isSorted = True\n",
    "        return self.students[:] #return copy of list of students"
   ]
  },
  {
   "cell_type": "code",
   "execution_count": 33,
   "metadata": {},
   "outputs": [
    {
     "name": "stdout",
     "output_type": "stream",
     "text": [
      "\n",
      "Billy Buckner is from MIT and their ID no. is 10's mean grade is 50.0\n",
      "Bucky F. Dent is from MIT and their ID no. is 11's mean grade is 87.5\n",
      "Jane Doe is from MIT and their ID no. is 7's mean grade is 75.0\n",
      "John Doe is from MIT and their ID no. is 8's mean grade is 75.0\n",
      "David Henry is from MIT and their ID no. is 9 has no grades\n"
     ]
    }
   ],
   "source": [
    "#Page 105, Figure 8.6\n",
    "\n",
    "# A function (not a method) that takes as input a \"Grades\" object and returns \n",
    "# the average grade of each student.\n",
    "def gradeReport(course):\n",
    "    \"\"\"Assumes course is of type Grades\"\"\"\n",
    "    report = ''\n",
    "    for s in course.getStudents():\n",
    "        tot = 0.0\n",
    "        numGrades = 0\n",
    "        for g in course.getGrades(s):\n",
    "            tot += g\n",
    "            numGrades += 1\n",
    "        try:\n",
    "            average = tot/numGrades\n",
    "            report = report + '\\n'\\\n",
    "                     + str(s) + '\\'s mean grade is ' + str(average)\n",
    "        except ZeroDivisionError:\n",
    "            report = report + '\\n'\\\n",
    "                     + str(s) + ' has no grades'\n",
    "    return report\n",
    "\n",
    "ug1 = UG('Jane Doe', 2014)\n",
    "ug2 = UG('John Doe', 2015)\n",
    "ug3 = UG('David Henry', 2003)\n",
    "g1 = Grad('Billy Buckner')\n",
    "g2 = Grad('Bucky F. Dent')\n",
    "sixHundred = Grades()\n",
    "sixHundred.addStudent(ug1)\n",
    "sixHundred.addStudent(ug2)\n",
    "sixHundred.addStudent(g1)\n",
    "sixHundred.addStudent(g2)\n",
    "for s in sixHundred.getStudents():\n",
    "    sixHundred.addGrade(s, 75)\n",
    "sixHundred.addGrade(g1, 25)\n",
    "sixHundred.addGrade(g2, 100)\n",
    "sixHundred.addStudent(ug3)\n",
    "print(gradeReport(sixHundred))"
   ]
  },
  {
   "cell_type": "code",
   "execution_count": 66,
   "metadata": {},
   "outputs": [],
   "source": [
    "#Page 107, Figure 8,7\n",
    "# A generator function\n",
    "def getStudents(self):\n",
    "    \"\"\"Return the students in the grade book one at a time\"\"\"\n",
    "    if not self.isSorted:\n",
    "        self.students.sort()\n",
    "        self.isSorted = True\n",
    "    for s in self.students:\n",
    "        yield s"
   ]
  },
  {
   "cell_type": "code",
   "execution_count": 67,
   "metadata": {},
   "outputs": [
    {
     "name": "stdout",
     "output_type": "stream",
     "text": [
      "Charlie is from MIT and their ID no. is 33\n",
      "Julie is from MIT and their ID no. is 32\n"
     ]
    }
   ],
   "source": [
    "#Page 107\n",
    "book = Grades()\n",
    "book.addStudent(Grad('Julie'))\n",
    "book.addStudent(Grad('Charlie'))\n",
    "for s in book.getStudents():\n",
    "    print(s)"
   ]
  },
  {
   "cell_type": "code",
   "execution_count": 68,
   "metadata": {},
   "outputs": [
    {
     "name": "stdout",
     "output_type": "stream",
     "text": [
      "[<__main__.Grad object at 0x7fac5837b9d0>, <__main__.Grad object at 0x7fac6a7c7b50>]\n"
     ]
    }
   ],
   "source": [
    "print(book.getStudents())"
   ]
  }
 ],
 "metadata": {
  "kernelspec": {
   "display_name": "Python 3",
   "language": "python",
   "name": "python3"
  },
  "language_info": {
   "codemirror_mode": {
    "name": "ipython",
    "version": 3
   },
   "file_extension": ".py",
   "mimetype": "text/x-python",
   "name": "python",
   "nbconvert_exporter": "python",
   "pygments_lexer": "ipython3",
   "version": "3.7.4"
  }
 },
 "nbformat": 4,
 "nbformat_minor": 1
}
