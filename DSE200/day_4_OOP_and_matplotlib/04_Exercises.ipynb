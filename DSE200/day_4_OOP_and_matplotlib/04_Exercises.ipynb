{
 "cells": [
  {
   "cell_type": "markdown",
   "metadata": {},
   "source": [
    "# Lecture4 Exercises"
   ]
  },
  {
   "cell_type": "markdown",
   "metadata": {},
   "source": [
    "## Functional Programming\n",
    "\n",
    "Use the [map](https://docs.python.org/2/library/functions.html#map) and [filter](https://docs.python.org/2/library/functions.html#filter) functions to convert the list `l = [0,1,2,3,4,5,6,7,8,9,10]` into a list of the squares of the even numbers in `l`.\n",
    "\n",
    "Hints:\n",
    "\n",
    "1. Use map() to apply a function to each element in the list\n",
    "2. Use filter() to filter elements of a list\n",
    "3. Use lambda to define anonymous functions\n",
    "4. *Do not* use list comprehensions"
   ]
  },
  {
   "cell_type": "code",
   "execution_count": 1,
   "metadata": {},
   "outputs": [
    {
     "name": "stdout",
     "output_type": "stream",
     "text": [
      "[0, 2, 4, 6, 8, 10]\n",
      "[0, 4, 16, 36, 64, 100]\n"
     ]
    }
   ],
   "source": [
    "l = [0,1,2,3,4,5,6,7,8,9,10]\n",
    "\n",
    "#write code here\n",
    "\n",
    "#Use lambda to define anonymous functions. Do not use list comprehensions\n",
    "\n",
    "#Use filter() to filter elements of a list\n",
    "l_filtered = list(filter(lambda x: x%2 == 0, l))\n",
    "print(l_filtered)\n",
    "\n",
    "#Use map() to apply a function to each element in the list\n",
    "l_squares = list(map(lambda x: x**2, l_filtered))\n",
    "print(l_squares)"
   ]
  },
  {
   "cell_type": "markdown",
   "metadata": {},
   "source": [
    "### Object Oriented Programming"
   ]
  },
  {
   "cell_type": "markdown",
   "metadata": {},
   "source": [
    "Implement a Python iterator which iterates over string characters (ASCII only) returning their ASCII code\n",
    "\n",
    "1. Define a new iterator class which contains two methods:\n",
    "    -init – a constructor taking the ASCII string as a argument,\n",
    "    -next – returns the ASCII code of the next character or raises a StopIteration exception if the string end was encountered.\n",
    "\n",
    "2. Define a new iterable class which wraps around a string and contains iter method which returns the iterator instance.\n",
    "3. Test your code using explicit calls of next method (see example in the lecture) and for loop."
   ]
  },
  {
   "cell_type": "code",
   "execution_count": 2,
   "metadata": {},
   "outputs": [],
   "source": [
    "class StringIterator:\n",
    "    \n",
    "    \"\"\"\n",
    "    Define a new iterator class which contains two methods: -init – a constructor taking \n",
    "    the ASCII string as a argument, -next – returns the ASCII code of the next character \n",
    "    or raises a StopIteration exception if the string end was encountered\n",
    "    \"\"\"\n",
    "    \n",
    "    def __init__(self, string):\n",
    "        \n",
    "        #initialize ASCII string\n",
    "        self.ASCII_string = string\n",
    "        self.nextchar = 0\n",
    "    \n",
    "    def next(self):\n",
    "        \n",
    "        #check if the nextchar class variable is still under string length, if yes increase by one and return ASCII code\n",
    "        if self.nextchar < len(self.ASCII_string):\n",
    "            self.curr_ASCIIcode = ord(self.ASCII_string[self.nextchar])\n",
    "            self.nextchar+=1\n",
    "            return self.curr_ASCIIcode\n",
    "        \n",
    "        #raise a stop iteration exception\n",
    "        else:\n",
    "            raise StopIteration('Index out of range: method \"next\" reached end of string')\n",
    "             \n",
    "class StringIterable:\n",
    "    \n",
    "    \"\"\"\n",
    "    Define a new iterable class which wraps around a string \n",
    "    and contains iter method which returns the iterator instance\n",
    "    \"\"\"\n",
    "    \n",
    "    def __init__(self,string):\n",
    "        \n",
    "        #initialize ASCII string\n",
    "        self.ASCII_string = string\n",
    "        self.nextchar = 0\n",
    "        \n",
    "    def __iter__(self): \n",
    "        \n",
    "        #return iterator instance\n",
    "        return self\n",
    "        \n",
    "    def __next__(self):\n",
    "        \n",
    "        #call next function on StringIterator class\n",
    "        return StringIterator.next(self)\n",
    "    \n",
    "    ##### you dont need to have next in this class, could have used the class defined earlier for next directly "
   ]
  },
  {
   "cell_type": "code",
   "execution_count": 3,
   "metadata": {},
   "outputs": [
    {
     "name": "stdout",
     "output_type": "stream",
     "text": [
      "73\n",
      "32\n",
      "76\n",
      "111\n",
      "118\n",
      "101\n",
      "32\n",
      "72\n",
      "97\n",
      "114\n",
      "100\n",
      "99\n",
      "111\n",
      "114\n",
      "101\n",
      "32\n",
      "80\n",
      "67\n",
      "65\n"
     ]
    },
    {
     "ename": "StopIteration",
     "evalue": "Index out of range: method \"next\" reached end of string",
     "output_type": "error",
     "traceback": [
      "\u001b[0;31m---------------------------------------------------------------------------\u001b[0m",
      "\u001b[0;31mStopIteration\u001b[0m                             Traceback (most recent call last)",
      "\u001b[0;32m<ipython-input-3-6694f6be959b>\u001b[0m in \u001b[0;36m<module>\u001b[0;34m\u001b[0m\n\u001b[1;32m      5\u001b[0m \u001b[0mstring1\u001b[0m \u001b[0;34m=\u001b[0m \u001b[0mStringIterator\u001b[0m\u001b[0;34m(\u001b[0m\u001b[0;34m'I Love Hardcore PCA'\u001b[0m\u001b[0;34m)\u001b[0m\u001b[0;34m\u001b[0m\u001b[0;34m\u001b[0m\u001b[0m\n\u001b[1;32m      6\u001b[0m \u001b[0;32mfor\u001b[0m \u001b[0mi\u001b[0m \u001b[0;32min\u001b[0m \u001b[0mrange\u001b[0m\u001b[0;34m(\u001b[0m\u001b[0mlen\u001b[0m\u001b[0;34m(\u001b[0m\u001b[0;34m'I Love Hardcore PCA'\u001b[0m\u001b[0;34m)\u001b[0m\u001b[0;34m+\u001b[0m\u001b[0;36m1\u001b[0m\u001b[0;34m)\u001b[0m\u001b[0;34m:\u001b[0m\u001b[0;34m\u001b[0m\u001b[0;34m\u001b[0m\u001b[0m\n\u001b[0;32m----> 7\u001b[0;31m     \u001b[0mprint\u001b[0m\u001b[0;34m(\u001b[0m\u001b[0mstring1\u001b[0m\u001b[0;34m.\u001b[0m\u001b[0mnext\u001b[0m\u001b[0;34m(\u001b[0m\u001b[0;34m)\u001b[0m\u001b[0;34m)\u001b[0m\u001b[0;34m\u001b[0m\u001b[0;34m\u001b[0m\u001b[0m\n\u001b[0m",
      "\u001b[0;32m<ipython-input-2-46170b80db11>\u001b[0m in \u001b[0;36mnext\u001b[0;34m(self)\u001b[0m\n\u001b[1;32m     23\u001b[0m         \u001b[0;31m#raise a stop iteration exception\u001b[0m\u001b[0;34m\u001b[0m\u001b[0;34m\u001b[0m\u001b[0;34m\u001b[0m\u001b[0m\n\u001b[1;32m     24\u001b[0m         \u001b[0;32melse\u001b[0m\u001b[0;34m:\u001b[0m\u001b[0;34m\u001b[0m\u001b[0;34m\u001b[0m\u001b[0m\n\u001b[0;32m---> 25\u001b[0;31m             \u001b[0;32mraise\u001b[0m \u001b[0mStopIteration\u001b[0m\u001b[0;34m(\u001b[0m\u001b[0;34m'Index out of range: method \"next\" reached end of string'\u001b[0m\u001b[0;34m)\u001b[0m\u001b[0;34m\u001b[0m\u001b[0;34m\u001b[0m\u001b[0m\n\u001b[0m\u001b[1;32m     26\u001b[0m \u001b[0;34m\u001b[0m\u001b[0m\n\u001b[1;32m     27\u001b[0m \u001b[0;32mclass\u001b[0m \u001b[0mStringIterable\u001b[0m\u001b[0;34m:\u001b[0m\u001b[0;34m\u001b[0m\u001b[0;34m\u001b[0m\u001b[0m\n",
      "\u001b[0;31mStopIteration\u001b[0m: Index out of range: method \"next\" reached end of string"
     ]
    }
   ],
   "source": [
    "#Test StringIterator\n",
    "\"\"\"\n",
    "display every element until 'next' method reached end of string and StopIteration error is raised\n",
    "\"\"\"\n",
    "string1 = StringIterator('I Love Hardcore PCA')\n",
    "for i in range(len('I Love Hardcore PCA')+1):\n",
    "    print(string1.next())"
   ]
  },
  {
   "cell_type": "code",
   "execution_count": 4,
   "metadata": {},
   "outputs": [
    {
     "ename": "TypeError",
     "evalue": "'StringIterator' object is not iterable",
     "output_type": "error",
     "traceback": [
      "\u001b[0;31m---------------------------------------------------------------------------\u001b[0m",
      "\u001b[0;31mTypeError\u001b[0m                                 Traceback (most recent call last)",
      "\u001b[0;32m<ipython-input-4-167361fc2c2c>\u001b[0m in \u001b[0;36m<module>\u001b[0;34m\u001b[0m\n\u001b[1;32m      2\u001b[0m \u001b[0mClass\u001b[0m \u001b[0mStringIterator\u001b[0m \u001b[0;32mis\u001b[0m \u001b[0;32mnot\u001b[0m \u001b[0miterable\u001b[0m\u001b[0;34m,\u001b[0m \u001b[0;34m'next'\u001b[0m \u001b[0mmethod\u001b[0m \u001b[0mneeds\u001b[0m \u001b[0mto\u001b[0m \u001b[0mbe\u001b[0m \u001b[0mcalled\u001b[0m\u001b[0;34m\u001b[0m\u001b[0;34m\u001b[0m\u001b[0m\n\u001b[1;32m      3\u001b[0m \"\"\"\n\u001b[0;32m----> 4\u001b[0;31m \u001b[0;32mfor\u001b[0m \u001b[0mi\u001b[0m \u001b[0;32min\u001b[0m \u001b[0mStringIterator\u001b[0m\u001b[0;34m(\u001b[0m\u001b[0;34m'I Love Hardcore PCA'\u001b[0m\u001b[0;34m)\u001b[0m\u001b[0;34m:\u001b[0m\u001b[0;34m\u001b[0m\u001b[0;34m\u001b[0m\u001b[0m\n\u001b[0m\u001b[1;32m      5\u001b[0m     \u001b[0mprint\u001b[0m\u001b[0;34m(\u001b[0m\u001b[0mi\u001b[0m\u001b[0;34m)\u001b[0m\u001b[0;34m\u001b[0m\u001b[0;34m\u001b[0m\u001b[0m\n",
      "\u001b[0;31mTypeError\u001b[0m: 'StringIterator' object is not iterable"
     ]
    }
   ],
   "source": [
    "\"\"\"\n",
    "Class StringIterator is not iterable, 'next' method needs to be called\n",
    "\"\"\"\n",
    "for i in StringIterator('I Love Hardcore PCA'):\n",
    "    print(i)"
   ]
  },
  {
   "cell_type": "code",
   "execution_count": 5,
   "metadata": {},
   "outputs": [
    {
     "name": "stdout",
     "output_type": "stream",
     "text": [
      "73\n",
      "32\n",
      "76\n",
      "111\n",
      "118\n",
      "101\n",
      "32\n",
      "72\n",
      "97\n",
      "114\n",
      "100\n",
      "99\n",
      "111\n",
      "114\n",
      "101\n",
      "32\n",
      "80\n",
      "67\n",
      "65\n"
     ]
    }
   ],
   "source": [
    "#Test StringIterable\n",
    "\"\"\"\n",
    "Class StringIterable is iterable, the method iter allows us to return every instance iteratively\n",
    "\"\"\"\n",
    "for i in StringIterable('I Love Hardcore PCA'):\n",
    "    print(i)"
   ]
  },
  {
   "cell_type": "markdown",
   "metadata": {},
   "source": [
    "## Fibonacci Sequence\n",
    "\n",
    "write a class Fibonacci whose constructor takes two numbers; the class uses these two numbers as the first two numbers in the sequence. \n",
    "\n",
    "1. The class should have a method calculate(n) that returns the n-th number in the sequence.\n",
    "2. Add a method next(). The first call to next() returns the first number in the sequence, the second call returns the second number, and so on. You'll need instance variables to save state between calls. \n",
    "3. Finally, add a method writeToFile(n, filename), that writes the first n numbers in the sequence to the file named filename, one number per line.\n",
    "\n",
    "**HINT:** you should store previously computed fibonachi numbers instead of recomputing every one as they are needed"
   ]
  },
  {
   "cell_type": "code",
   "execution_count": 6,
   "metadata": {},
   "outputs": [],
   "source": [
    "class Fibonacci:\n",
    "    def __init__(self):\n",
    "        \n",
    "        #define first two elements of sequence and first index\n",
    "        self._seq=[0,1]\n",
    "        self._index=0\n",
    "    \n",
    "    def next(self):\n",
    "        \n",
    "        #save current index and increase by one\n",
    "        i = self._index\n",
    "        self._index+=1\n",
    "        \n",
    "        #return the first two known elements, for n>1 return the sum of the last two elements of the series\n",
    "        if i < len(self._seq):\n",
    "            return self._seq[i]\n",
    "        else:\n",
    "            ##### Still i can be out of list here\n",
    "            a = self._seq[-1] + self._seq[-2] \n",
    "            self._seq.append(a)\n",
    "            return self._seq[i]\n",
    "            \n",
    "    def calculate(self, n):\n",
    "        \n",
    "        #return first and second element\n",
    "        if n <= 0:\n",
    "            return 0\n",
    "        elif n == 1:\n",
    "            return 1\n",
    "        #for n>1 return the calculation of the nth element\n",
    "        else:\n",
    "            n1 = 0\n",
    "            n2 = 1\n",
    "            i = 1\n",
    "            while i < n:\n",
    "                nth = n1+n2\n",
    "                n1 = n2\n",
    "                n2 = nth\n",
    "                i += 1\n",
    "            return nth\n",
    "                 \n",
    "    def writeToFile(self, n, filename):\n",
    "        \n",
    "        #define first two elements\n",
    "        seq_ = [0,1]\n",
    "        \n",
    "        #return sequence for first and second element\n",
    "        if n <= 0:\n",
    "            seq2file = seq_[0]\n",
    "        if n == 1:\n",
    "            seq2file = seq_\n",
    "        #return the list of nth elements from the series\n",
    "        else:\n",
    "            i = 1\n",
    "            n1 = seq_[0]\n",
    "            n2 = seq_[1]\n",
    "            while i < n:\n",
    "                nth = n1+n2\n",
    "                n1 = n2\n",
    "                n2 = nth\n",
    "                seq_.append(nth)\n",
    "                i += 1\n",
    "            seq2file = seq_\n",
    "        \n",
    "        #save series as a text file with filename defined by the user with one number per line\n",
    "        file_ = open(filename+'.txt', 'w')\n",
    "        for line in seq2file:\n",
    "          file_.write(str(line))\n",
    "          file_.write('\\n')\n",
    "        file_.close()\n",
    "            "
   ]
  },
  {
   "cell_type": "code",
   "execution_count": 7,
   "metadata": {},
   "outputs": [
    {
     "name": "stdout",
     "output_type": "stream",
     "text": [
      "/home/raulmartinez/Documents/DSE/2019-rgm001/DSE200/day_4_OOP_and_matplotlib/OOP\r\n"
     ]
    }
   ],
   "source": [
    "#working directory where writeToFile will save file\n",
    "!pwd"
   ]
  },
  {
   "cell_type": "code",
   "execution_count": 8,
   "metadata": {},
   "outputs": [
    {
     "name": "stdout",
     "output_type": "stream",
     "text": [
      "True\n",
      "True\n",
      "True\n",
      "True\n",
      "True\n",
      "True\n",
      "True\n",
      "True\n"
     ]
    }
   ],
   "source": [
    "#Testing code, should all equal print true\n",
    "fib = Fibonacci()\n",
    "\n",
    "print(fib.calculate(0) == 0)\n",
    "print(fib.calculate(1) == 1)\n",
    "print(fib.calculate(2) == 1)\n",
    "print(fib.calculate(3) == 2)\n",
    "print(fib.calculate(20) == 6765) \n",
    "print(fib.next() == fib.calculate(0))\n",
    "print(fib.next() == fib.calculate(1))\n",
    "print(fib.next() == fib.calculate(2))\n",
    "fib.writeToFile(30, \"fib.out\")"
   ]
  },
  {
   "cell_type": "markdown",
   "metadata": {},
   "source": [
    "Write a function solve(h,l) which solves the folowing classic puzzle: \n",
    "\n",
    "We count h heads and l legs among the chickens and rabbits in a farm. How many rabbits and how many chickens do we have? where h and l are the parameters passed to the function solve\n",
    "\n",
    "    >> numheads=35\n",
    "    >> numlegs=94\n",
    "    >> solutions=solve(numheads,numlegs)\n",
    "    >> print solutions\n",
    "\n"
   ]
  },
  {
   "cell_type": "code",
   "execution_count": 9,
   "metadata": {},
   "outputs": [],
   "source": [
    "import numpy as np\n",
    "\n",
    "def solve(h,l):\n",
    "    \"\"\"\n",
    "    Example numbers:\n",
    "    numheads = 35\n",
    "    numlegs = 94\n",
    "\n",
    "    Variables:\n",
    "    x = chickens (2 legs, 1 head)\n",
    "    y = rabbits (4 legs, 1 head)\n",
    "\n",
    "    Example Equation:\n",
    "    x + y = 35 (eqn for heads)\n",
    "    2x + 4y = 94 (eqn for legs)\n",
    "\n",
    "    Matrix Form Solution\n",
    "    A = [[1 1],[2 4]] \n",
    "    b = [[numheads],[numlegs]]\n",
    "    X = [[x],[y]]\n",
    "    A * X = b\n",
    "    X = A^-1 * b\n",
    "    \"\"\"\n",
    "    \n",
    "    #compute linear algebra described on docstring above\n",
    "    A = np.matrix([[1,1],[2,4]])\n",
    "    b = np.matrix([[h],[l]])\n",
    "    X = np.matmul(np.linalg.inv(A),b)\n",
    "    return X"
   ]
  },
  {
   "cell_type": "code",
   "execution_count": 10,
   "metadata": {},
   "outputs": [
    {
     "name": "stdout",
     "output_type": "stream",
     "text": [
      "[[23.]\n",
      " [12.]]\n",
      "23.0 Chickens and 12.0 Rabbits\n",
      "If any number is negative: solution not found\n"
     ]
    }
   ],
   "source": [
    "#Test function above\n",
    "numheads=35\n",
    "numlegs=94\n",
    "solutions=solve(numheads,numlegs)\n",
    "print(solutions)\n",
    "print(str(str(solutions[0,0])+' Chickens and '+str(solutions[1,0])+' Rabbits'))\n",
    "print('If any number is negative: solution not found')\n",
    "##### Didnt the handle the case non integer and negative output"
   ]
  },
  {
   "cell_type": "code",
   "execution_count": null,
   "metadata": {},
   "outputs": [],
   "source": []
  }
 ],
 "metadata": {
  "kernelspec": {
   "display_name": "Python 3",
   "language": "python",
   "name": "python3"
  },
  "language_info": {
   "codemirror_mode": {
    "name": "ipython",
    "version": 3
   },
   "file_extension": ".py",
   "mimetype": "text/x-python",
   "name": "python",
   "nbconvert_exporter": "python",
   "pygments_lexer": "ipython3",
   "version": "3.6.4"
  }
 },
 "nbformat": 4,
 "nbformat_minor": 1
}
