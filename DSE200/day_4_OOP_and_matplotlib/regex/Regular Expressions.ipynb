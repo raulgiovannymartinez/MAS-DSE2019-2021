{
 "cells": [
  {
   "cell_type": "markdown",
   "metadata": {},
   "source": [
    "Adapted from [RexEgg](http://www.rexegg.com/regex-python.html) "
   ]
  },
  {
   "cell_type": "code",
   "execution_count": 1,
   "metadata": {},
   "outputs": [],
   "source": [
    "import re\n",
    "# import regex if you want to use a more advanced version or re.\n",
    "# The regex module has many advanced\n",
    "# features for regex lovers. http://pypi.python.org/pypi/regex"
   ]
  },
  {
   "cell_type": "markdown",
   "metadata": {},
   "source": [
    "## A simple example\n",
    "\n",
    "### The three parts of a regular expression\n",
    "\n",
    "* pattern = defines the pattern to be used\n",
    "* subject = the string to be processed\n",
    "* regex = the program which can efficiently match the pattern to a string"
   ]
  },
  {
   "cell_type": "code",
   "execution_count": 2,
   "metadata": {},
   "outputs": [],
   "source": [
    "pattern = r'(\\w+):(\\w+):(\\d+)'\n",
    "subject = 'apple:green:3 banana:yellow:5'\n",
    "regex = re.compile(pattern)"
   ]
  },
  {
   "cell_type": "markdown",
   "metadata": {},
   "source": [
    "### The six main tasks we're likely to have"
   ]
  },
  {
   "cell_type": "code",
   "execution_count": 3,
   "metadata": {},
   "outputs": [
    {
     "name": "stdout",
     "output_type": "stream",
     "text": [
      "*** Is there a Match? ***\n",
      "Yes\n"
     ]
    }
   ],
   "source": [
    "# Task 1: Is there a match?\n",
    "print(\"*** Is there a Match? ***\")\n",
    "if regex.search(subject):\n",
    "\tprint (\"Yes\")\n",
    "else:\n",
    "\tprint (\"No\")"
   ]
  },
  {
   "cell_type": "code",
   "execution_count": 5,
   "metadata": {},
   "outputs": [
    {
     "name": "stdout",
     "output_type": "stream",
     "text": [
      "\n",
      "*** Number of Matches ***\n",
      "2\n"
     ]
    }
   ],
   "source": [
    "# Task 2: How many matches are there?\n",
    "print(\"\\n\" + \"*** Number of Matches ***\")\n",
    "matches = regex.findall(subject)\n",
    "print(len(matches))"
   ]
  },
  {
   "cell_type": "code",
   "execution_count": 7,
   "metadata": {},
   "outputs": [
    {
     "name": "stdout",
     "output_type": "stream",
     "text": [
      "\n",
      "*** First Match ***\n",
      "Overall match:  apple:green:3\n",
      "Group 1 :  apple\n",
      "Group 2 :  green\n",
      "Group 3 :  3\n"
     ]
    }
   ],
   "source": [
    "# Task 3: What is the first match?\n",
    "print(\"\\n\" + \"*** First Match ***\")\n",
    "match = regex.search(subject)\n",
    "#group is decided based on the parenthesis above\n",
    "if match:\n",
    "\tprint(\"Overall match: \", match.group(0))\n",
    "\tprint(\"Group 1 : \", match.group(1))\n",
    "\tprint(\"Group 2 : \", match.group(2))\n",
    "\tprint(\"Group 3 : \", match.group(3))"
   ]
  },
  {
   "cell_type": "code",
   "execution_count": 8,
   "metadata": {},
   "outputs": [
    {
     "name": "stdout",
     "output_type": "stream",
     "text": [
      "\n",
      "*** All Matches ***\n",
      "\n",
      "------ Method 1: finditer ------\n",
      "\n",
      "--- Start of Match ---\n",
      "Overall match:  apple:green:3\n",
      "Group 1 :  apple\n",
      "Group 2 :  green\n",
      "Group 3 :  3\n",
      "--- End of Match---\n",
      "\n",
      "--- Start of Match ---\n",
      "Overall match:  banana:yellow:5\n",
      "Group 1 :  banana\n",
      "Group 2 :  yellow\n",
      "Group 3 :  5\n",
      "--- End of Match---\n",
      "\n"
     ]
    }
   ],
   "source": [
    "\t\n",
    "# Task 4: What are all the matches?\n",
    "print(\"\\n\" + \"*** All Matches ***\\n\")\n",
    "print(\"------ Method 1: finditer ------\\n\")\n",
    "for match in regex.finditer(subject):\n",
    "    print(\"--- Start of Match ---\")\n",
    "    print(\"Overall match: \", match.group(0))\n",
    "    print(\"Group 1 : \", match.group(1))\n",
    "    print(\"Group 2 : \", match.group(2))\n",
    "    print(\"Group 3 : \", match.group(3))\n",
    "    print (\"--- End of Match---\\n\")\t\t"
   ]
  },
  {
   "cell_type": "code",
   "execution_count": 8,
   "metadata": {},
   "outputs": [
    {
     "name": "stdout",
     "output_type": "stream",
     "text": [
      "\n",
      "------ Method 2: findall ------\n",
      "\n",
      "--- Start of Match ---\n",
      "Overall Match:  apple:green:3\n",
      "Group 1:  apple\n",
      "Group 2:  green\n",
      "Group 3:  3\n",
      "--- End of Match---\n",
      "\n",
      "--- Start of Match ---\n",
      "Overall Match:  banana:yellow:5\n",
      "Group 1:  banana\n",
      "Group 2:  yellow\n",
      "Group 3:  5\n",
      "--- End of Match---\n",
      "\n"
     ]
    }
   ],
   "source": [
    "print(\"\\n------ Method 2: findall ------\\n\")\n",
    "# if there are capture groups, findall doesn't return the overall match\n",
    "# therefore, in that case, wrap the pattern in capturing parentheses\n",
    "# the overall match becomes group 1, so other group numbers are bumped up!\n",
    "wrappedpattern = \"(\" + pattern + \")\"\n",
    "wrappedregex = re.compile(wrappedpattern)\n",
    "matches = wrappedregex.findall(subject)\n",
    "if len(matches)>0:\n",
    "    for match in matches:\n",
    "        print(\"--- Start of Match ---\")\n",
    "        print(\"Overall Match: \",match[0])\n",
    "        print(\"Group 1: \",match[1])\n",
    "        print(\"Group 2: \",match[2])\n",
    "        print(\"Group 3: \",match[3])\n",
    "        print(\"--- End of Match---\\n\")\t\t"
   ]
  },
  {
   "cell_type": "code",
   "execution_count": 9,
   "metadata": {},
   "outputs": [
    {
     "name": "stdout",
     "output_type": "stream",
     "text": [
      "\n",
      "*** Replacements ***\n",
      "Let's reverse the groups\n",
      "3:green:apple 5:yellow:banana\n"
     ]
    }
   ],
   "source": [
    "# Task 5: Replace the matches\n",
    "# simple replacement: reverse group\n",
    "print(\"\\n\" + \"*** Replacements ***\")\n",
    "print(\"Let's reverse the groups\")\n",
    "def reversegroups(m):\n",
    "    return m.group(3) + \":\" + m.group(2) + \":\" + m.group(1)\n",
    "replaced = regex.sub(reversegroups, subject)\n",
    "print(replaced)"
   ]
  },
  {
   "cell_type": "code",
   "execution_count": 11,
   "metadata": {
    "scrolled": true
   },
   "outputs": [
    {
     "name": "stdout",
     "output_type": "stream",
     "text": [
      "apple:green:3 banana:yellow:5\n",
      "\n",
      "*** Splits ***\n",
      "apple\n",
      "green\n",
      "3\n",
      "banana\n",
      "yellow\n",
      "5\n"
     ]
    }
   ],
   "source": [
    "# Task 6: Split\n",
    "print(subject)\n",
    "print(\"\\n\" + \"*** Splits ***\")\n",
    "# Let's split at colons or spaces\n",
    "splits = re.split(r\":|\\s\",subject)\n",
    "for split in splits:\n",
    "    print (split)"
   ]
  },
  {
   "cell_type": "markdown",
   "metadata": {},
   "source": [
    "### A More sophisticated example\n",
    "For 6 similar tasks"
   ]
  },
  {
   "cell_type": "code",
   "execution_count": 38,
   "metadata": {},
   "outputs": [
    {
     "data": {
      "text/plain": [
       "['Tarzan11', 'Tarzan22']"
      ]
     },
     "execution_count": 38,
     "metadata": {},
     "output_type": "execute_result"
    }
   ],
   "source": [
    "subject = 'Jane\"\" \"\"Tarzan12\"\" Tarzan11@Tarzan22 {4 Tarzan34}'\n",
    "regex = re.compile(r'{[^}]+}|\"Tarzan\\d+\"|(Tarzan\\d+)')\n",
    "# regex = re.compile(r'\"Tarzan\\d+\"')\n",
    "\n",
    "# put Group 1 captures in a list\n",
    "matches = [group for group in re.findall(regex, subject) if group]\n",
    "matches"
   ]
  },
  {
   "cell_type": "code",
   "execution_count": 17,
   "metadata": {},
   "outputs": [
    {
     "name": "stdout",
     "output_type": "stream",
     "text": [
      "*** Is there a Match? ***\n",
      "Yes\n"
     ]
    }
   ],
   "source": [
    "# Task 1: Is there a match?\n",
    "print(\"*** Is there a Match? ***\")\n",
    "if len(matches)>0:\n",
    "\tprint (\"Yes\")\n",
    "else:\n",
    "\tprint (\"No\")"
   ]
  },
  {
   "cell_type": "code",
   "execution_count": 18,
   "metadata": {},
   "outputs": [
    {
     "name": "stdout",
     "output_type": "stream",
     "text": [
      "\n",
      "*** Number of Matches ***\n",
      "2\n"
     ]
    }
   ],
   "source": [
    "# Task 2: How many matches are there?\n",
    "print(\"\\n\" + \"*** Number of Matches ***\")\n",
    "print(len(matches))"
   ]
  },
  {
   "cell_type": "code",
   "execution_count": 19,
   "metadata": {},
   "outputs": [
    {
     "name": "stdout",
     "output_type": "stream",
     "text": [
      "\n",
      "*** First Match ***\n",
      "Tarzan11\n"
     ]
    }
   ],
   "source": [
    "# Task 3: What is the first match?\n",
    "print(\"\\n\" + \"*** First Match ***\")\n",
    "if len(matches)>0:\n",
    "\tprint (matches[0])"
   ]
  },
  {
   "cell_type": "code",
   "execution_count": 20,
   "metadata": {},
   "outputs": [
    {
     "name": "stdout",
     "output_type": "stream",
     "text": [
      "\n",
      "*** Matches ***\n",
      "Tarzan11\n",
      "Tarzan22\n"
     ]
    }
   ],
   "source": [
    "# Task 4: What are all the matches?\n",
    "print(\"\\n\" + \"*** Matches ***\")\n",
    "if len(matches)>0:\n",
    "\tfor match in matches:\n",
    "\t    print (match)"
   ]
  },
  {
   "cell_type": "code",
   "execution_count": 16,
   "metadata": {},
   "outputs": [
    {
     "name": "stdout",
     "output_type": "stream",
     "text": [
      "\n",
      "*** Replacements ***\n",
      "Jane\"\" \"\"Tarzan12\"\" Superman@Superman {4 Tarzan34}\n"
     ]
    }
   ],
   "source": [
    "# Task 5: Replace the matches\n",
    "def myreplacement(m):\n",
    "    if m.group(1):\n",
    "        return \"Superman\"\n",
    "    else:\n",
    "        return m.group(0)\n",
    "replaced = regex.sub(myreplacement, subject)\n",
    "print(\"\\n\" + \"*** Replacements ***\")\n",
    "print(replaced)"
   ]
  },
  {
   "cell_type": "code",
   "execution_count": 17,
   "metadata": {},
   "outputs": [
    {
     "name": "stdout",
     "output_type": "stream",
     "text": [
      "\n",
      "*** Splits ***\n",
      "Jane\"\" \"\"Tarzan12\"\" \n",
      "@\n",
      " {4 Tarzan34}\n"
     ]
    }
   ],
   "source": [
    "# Task 6: Split\n",
    "# Start by replacing by something distinctive,\n",
    "# as in Step 5. Then split.\n",
    "splits = replaced.split('Superman')\n",
    "print(\"\\n\" + \"*** Splits ***\")\n",
    "for split in splits:\n",
    "\t    print (split)"
   ]
  },
  {
   "cell_type": "markdown",
   "metadata": {},
   "source": [
    "### More info\n",
    "\n",
    "* The regular expression cheat-sheet\n",
    "* [Regex in Tutorial point](https://www.tutorialspoint.com/python/python_reg_expressions.htm)\n",
    "* [The O'Reilly book on regular expressions](https://www.amazon.com/dp/0596528124?tag=onamazon-20)\n",
    "\n",
    "If you are going to work with a lot of unstructured data, you will be a heavy user of regular expressions, and it will be worth your time to learn the many features of the regular expression language."
   ]
  }
 ],
 "metadata": {
  "kernelspec": {
   "display_name": "Python 3",
   "language": "python",
   "name": "python3"
  },
  "language_info": {
   "codemirror_mode": {
    "name": "ipython",
    "version": 3
   },
   "file_extension": ".py",
   "mimetype": "text/x-python",
   "name": "python",
   "nbconvert_exporter": "python",
   "pygments_lexer": "ipython3",
   "version": "3.7.4"
  }
 },
 "nbformat": 4,
 "nbformat_minor": 1
}
