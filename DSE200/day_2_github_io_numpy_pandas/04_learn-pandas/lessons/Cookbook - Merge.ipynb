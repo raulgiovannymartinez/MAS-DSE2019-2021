{
 "cells": [
  {
   "cell_type": "code",
   "execution_count": null,
   "metadata": {},
   "outputs": [],
   "source": [
    "import pandas as pd\n",
    "import sys\n",
    "%matplotlib inline"
   ]
  },
  {
   "cell_type": "code",
   "execution_count": null,
   "metadata": {},
   "outputs": [],
   "source": [
    "print('Python version ' + sys.version)\n",
    "print('Pandas version ' + pd.__version__)"
   ]
  },
  {
   "cell_type": "markdown",
   "metadata": {},
   "source": [
    "# Merge"
   ]
  },
  {
   "cell_type": "markdown",
   "metadata": {},
   "source": [
    "I have two dataframes that have dates as their index.\n",
    "\n",
    "The problem is that one of the dataframes has a timestamp and this is preventing me from adding the dataframes together. How can I match up the time stamps?"
   ]
  },
  {
   "cell_type": "code",
   "execution_count": null,
   "metadata": {},
   "outputs": [],
   "source": [
    "df1 = pd.DataFrame({'col1':[pd.Timestamp('20130102000030'),\n",
    "                         pd.Timestamp('2013-01-03 00:00:30'),\n",
    "                         pd.Timestamp('1/4/2013 000030')],\n",
    "                 'col2':[1,10,18]\n",
    "                 })\n",
    "df1"
   ]
  },
  {
   "cell_type": "code",
   "execution_count": null,
   "metadata": {},
   "outputs": [],
   "source": [
    "df1 = df1.set_index('col1')\n",
    "df1"
   ]
  },
  {
   "cell_type": "code",
   "execution_count": null,
   "metadata": {},
   "outputs": [],
   "source": [
    "d = {'col2':[22,10,113]}\n",
    "\n",
    "i = [pd.Timestamp('20130102'),\n",
    "     pd.Timestamp('2013-01-03'),\n",
    "     pd.Timestamp('1/4/2013')]\n",
    "                 \n",
    "\n",
    "df2 = pd.DataFrame(data=d, index = i)\n",
    "df2.index.name = 'col1'\n",
    "df2"
   ]
  },
  {
   "cell_type": "code",
   "execution_count": null,
   "metadata": {},
   "outputs": [],
   "source": [
    "# If we try to add the data frames together, we do not get the results we want.\n",
    "df2+df1"
   ]
  },
  {
   "cell_type": "code",
   "execution_count": null,
   "metadata": {},
   "outputs": [],
   "source": [
    "# Make the index of df2 the same as the index of df1\n",
    "# Fill the missing values with previous known value\n",
    "#\n",
    "#2013-01-02 00:00:00 => 22\n",
    "#2013-01-02 00:00:30 => 22 \n",
    "#2013-01-03 00:00:00 => 10\n",
    "#2013-01-03 00:00:00 => 10\n",
    "#2013-01-04 00:00:00 => 113\n",
    "#2013-01-04 00:00:00 => 113\n",
    "df2.reindex(df1.index, method='pad')"
   ]
  },
  {
   "cell_type": "code",
   "execution_count": null,
   "metadata": {},
   "outputs": [],
   "source": [
    "# Now we can add them\n",
    "df2 = df2.reindex(df1.index, method='pad')\n",
    "df1+df2"
   ]
  },
  {
   "cell_type": "markdown",
   "metadata": {},
   "source": [
    "### How do I add two dataframes together by row?"
   ]
  },
  {
   "cell_type": "code",
   "execution_count": null,
   "metadata": {},
   "outputs": [],
   "source": [
    "df1 = pd.DataFrame([1,2,3])\n",
    "df1"
   ]
  },
  {
   "cell_type": "code",
   "execution_count": null,
   "metadata": {},
   "outputs": [],
   "source": [
    "df2 = pd.DataFrame([4,5,6])\n",
    "df2"
   ]
  },
  {
   "cell_type": "code",
   "execution_count": null,
   "metadata": {},
   "outputs": [],
   "source": [
    "pd.concat([df1,df2])"
   ]
  },
  {
   "cell_type": "markdown",
   "metadata": {},
   "source": [
    "### How do I join two data frames by index?"
   ]
  },
  {
   "cell_type": "code",
   "execution_count": null,
   "metadata": {},
   "outputs": [],
   "source": [
    "d = {'col1':[22,10,113]}\n",
    "\n",
    "i = [pd.Timestamp('1/1/2013'),\n",
    "     pd.Timestamp('1/2/2013'),\n",
    "     pd.Timestamp('1/3/2013')]\n",
    "                 \n",
    "\n",
    "df1 = pd.DataFrame(data=d, index = i)\n",
    "df1"
   ]
  },
  {
   "cell_type": "code",
   "execution_count": null,
   "metadata": {},
   "outputs": [],
   "source": [
    "d = {'col2':[5,5]}\n",
    "\n",
    "i = [pd.Timestamp('1/1/2013'),\n",
    "     pd.Timestamp('1/3/2013')]\n",
    "                 \n",
    "\n",
    "df2 = pd.DataFrame(data=d, index = i)\n",
    "df2"
   ]
  },
  {
   "cell_type": "code",
   "execution_count": null,
   "metadata": {},
   "outputs": [],
   "source": [
    "df1.merge(df2, left_index=True, right_index=True, how='left')"
   ]
  },
  {
   "cell_type": "markdown",
   "metadata": {},
   "source": [
    "**Author:** [David Rojas](http://www.hedaro.com/)"
   ]
  }
 ],
 "metadata": {
  "kernelspec": {
   "display_name": "Python 3",
   "language": "python",
   "name": "python3"
  },
  "language_info": {
   "codemirror_mode": {
    "name": "ipython",
    "version": 3
   },
   "file_extension": ".py",
   "mimetype": "text/x-python",
   "name": "python",
   "nbconvert_exporter": "python",
   "pygments_lexer": "ipython3",
   "version": "3.6.4"
  }
 },
 "nbformat": 4,
 "nbformat_minor": 1
}
