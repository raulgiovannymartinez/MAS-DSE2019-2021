{
 "cells": [
  {
   "cell_type": "code",
   "execution_count": null,
   "metadata": {},
   "outputs": [],
   "source": [
    "import pandas as pd\n",
    "import numpy as np\n",
    "import sys\n",
    "%matplotlib inline"
   ]
  },
  {
   "cell_type": "code",
   "execution_count": null,
   "metadata": {},
   "outputs": [],
   "source": [
    "print('Python version ' + sys.version)\n",
    "print('Pandas version ' + pd.__version__)"
   ]
  },
  {
   "cell_type": "markdown",
   "metadata": {},
   "source": [
    "# Select"
   ]
  },
  {
   "cell_type": "markdown",
   "metadata": {},
   "source": [
    "### How do I select a random sample of a group?"
   ]
  },
  {
   "cell_type": "code",
   "execution_count": null,
   "metadata": {},
   "outputs": [],
   "source": [
    "# Initial dataframe\n",
    "df = pd.DataFrame({'group1' : [\"a\",\"b\",\"a\",\"a\",\"b\",\"c\",\"c\",\"c\",\"c\",\n",
    "                            \"c\",\"a\",\"a\",\"a\",\"b\",\"b\",\"b\",\"b\"],\n",
    "                'group2' : [1,2,3,4,1,3,5,6,5,4,1,2,3,4,3,2,1],\n",
    "                'value'  : [\"apple\",\"pear\",\"orange\",\"apple\",\n",
    "                            \"banana\",\"durian\",\"lemon\",\"lime\",\n",
    "                            \"raspberry\",\"durian\",\"peach\",\"nectarine\",\n",
    "                            \"banana\",\"lemon\",\"guava\",\"blackberry\",\"grape\"]})\n",
    "df"
   ]
  },
  {
   "cell_type": "code",
   "execution_count": null,
   "metadata": {},
   "outputs": [],
   "source": [
    "# We don't simply want to select random rows from df\n",
    "# We want to first group df by (group1 & group2) then select random rows\n",
    "from random import choice\n",
    "\n",
    "# First create the group\n",
    "grouped = df.groupby(['group1','group2'])\n",
    "grouped.size()\n",
    "\n",
    "\n",
    "#Notice that group (a,1) has two posibilities\n",
    "#Notice that group (a,2) has one posibilities\n",
    "\n",
    "#This means that if we select a random sample from group (a,1) we will get either \"apple\" or \"peach\"\n",
    "#This means that if we select a random sample from group (a,2) we will always get \"nectarine\""
   ]
  },
  {
   "cell_type": "code",
   "execution_count": null,
   "metadata": {},
   "outputs": [],
   "source": [
    "#df.loc[select a random record from each group]\n",
    "df.loc[[choice(x) for x in grouped.groups.values()]]"
   ]
  },
  {
   "cell_type": "markdown",
   "metadata": {},
   "source": [
    "### How do I slice each row of a column?"
   ]
  },
  {
   "cell_type": "code",
   "execution_count": null,
   "metadata": {},
   "outputs": [],
   "source": [
    "df = pd.DataFrame(data=['abcdef']*10, columns=['text'])\n",
    "df"
   ]
  },
  {
   "cell_type": "code",
   "execution_count": null,
   "metadata": {},
   "outputs": [],
   "source": [
    "# Select the first 2 characters of each row\n",
    "df['text'].apply(lambda x: x[:2])"
   ]
  },
  {
   "cell_type": "markdown",
   "metadata": {},
   "source": [
    "### How can I select rows of my dataframe based on a \"complex\" filter applied to multiple columns?"
   ]
  },
  {
   "cell_type": "code",
   "execution_count": null,
   "metadata": {},
   "outputs": [],
   "source": [
    "d = {'Dates':[pd.Timestamp('2013-01-02'),\n",
    "              pd.Timestamp('2013-01-03'),\n",
    "              pd.Timestamp('2013-01-04')],\n",
    "     'Num1':[1,2,3],\n",
    "     'Num2':[-1,-2,-3]}\n",
    "                 \n",
    "\n",
    "df = pd.DataFrame(data=d)\n",
    "df"
   ]
  },
  {
   "cell_type": "code",
   "execution_count": null,
   "metadata": {},
   "outputs": [],
   "source": [
    "# where all values in column \"Num1\" are positive\n",
    "positive = df['Num1'] > 0\n",
    "\n",
    "# where values in column \"Num2\" is equal to -1\n",
    "negativeOne = df['Num2'] == -1\n",
    "\n",
    "# where values in the column \"Dates\" are in (1/2/2013 or 1/20/2013)\n",
    "Dates = df['Dates'].isin(['2013-01-02','2013-01-20'])\n",
    "\n",
    "df[positive & negativeOne & Dates]"
   ]
  },
  {
   "cell_type": "markdown",
   "metadata": {},
   "source": [
    "### How to get the maximum value of a group?"
   ]
  },
  {
   "cell_type": "code",
   "execution_count": null,
   "metadata": {},
   "outputs": [],
   "source": [
    "df = pd.DataFrame({'col1':['minus','minus','positive','nan'],\n",
    "                'col2':[10,20,30,40],\n",
    "                'col3':[-10,-20,30,np.nan]\n",
    "                })\n",
    "df"
   ]
  },
  {
   "cell_type": "code",
   "execution_count": null,
   "metadata": {},
   "outputs": [],
   "source": [
    "# Method 1\n",
    "df.groupby('col1').apply(lambda x: x.max())"
   ]
  },
  {
   "cell_type": "code",
   "execution_count": null,
   "metadata": {},
   "outputs": [],
   "source": [
    "# Method 2\n",
    "df.groupby('col1').agg('max')"
   ]
  },
  {
   "cell_type": "markdown",
   "metadata": {},
   "source": [
    "### How to select records from one level of a multi-index data frame?"
   ]
  },
  {
   "cell_type": "code",
   "execution_count": null,
   "metadata": {},
   "outputs": [],
   "source": [
    "df = pd.DataFrame({'group1' : [\"a\",\"b\",\"a\",\"a\",\"b\",\"c\",\"c\",\"c\",\"c\",\n",
    "                            \"c\",\"a\",\"a\",\"a\",\"b\",\"b\",\"b\",\"b\"],\n",
    "                'value' : [1,2,3,4,1,3,5,6,5,4,1,2,3,4,3,2,1],\n",
    "                'group2'  : [\"apple\",\"pear\",\"orange\",\"apple\",\n",
    "                            \"banana\",\"durian\",\"lemon\",\"lime\",\n",
    "                            \"raspberry\",\"durian\",\"peach\",\"nectarine\",\n",
    "                            \"banana\",\"lemon\",\"guava\",\"blackberry\",\"grape\"]})\n",
    "df = df.set_index(['group1','group2'])\n",
    "df"
   ]
  },
  {
   "cell_type": "code",
   "execution_count": null,
   "metadata": {},
   "outputs": [],
   "source": [
    "df.xs('a', level='group1')"
   ]
  },
  {
   "cell_type": "markdown",
   "metadata": {},
   "source": [
    "### How do I reset the index when the index names are the same as the column names?"
   ]
  },
  {
   "cell_type": "code",
   "execution_count": null,
   "metadata": {},
   "outputs": [],
   "source": [
    "df = pd.DataFrame({\"Name\":[\"Alice\", \"Bob\", \"Mallory\", \"Mallory\", \"Bob\" , \"Mallory\"] , \n",
    "                \"City\":[\"Seattle\", \"Seattle\", \"Portland\", \"Seattle\", \"Seattle\", \"Portland\"]}\n",
    "               )\n",
    "df"
   ]
  },
  {
   "cell_type": "code",
   "execution_count": null,
   "metadata": {},
   "outputs": [],
   "source": [
    "group = df.groupby(['City','Name'])\n",
    "s = group.agg('size')\n",
    "s.add_suffix('_size').reset_index()"
   ]
  },
  {
   "cell_type": "markdown",
   "metadata": {},
   "source": [
    "**Author:** [David Rojas](http://www.hedaro.com/)  "
   ]
  }
 ],
 "metadata": {
  "kernelspec": {
   "display_name": "Python 3",
   "language": "python",
   "name": "python3"
  },
  "language_info": {
   "codemirror_mode": {
    "name": "ipython",
    "version": 3
   },
   "file_extension": ".py",
   "mimetype": "text/x-python",
   "name": "python",
   "nbconvert_exporter": "python",
   "pygments_lexer": "ipython3",
   "version": "3.6.4"
  }
 },
 "nbformat": 4,
 "nbformat_minor": 1
}
