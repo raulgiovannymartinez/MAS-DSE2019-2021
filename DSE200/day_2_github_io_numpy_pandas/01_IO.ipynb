{
 "cells": [
  {
   "cell_type": "code",
   "execution_count": null,
   "metadata": {},
   "outputs": [],
   "source": [
    "# This line loads into iPython the libraries needed to generate \n",
    "# graphics in-line\n",
    "%pylab inline"
   ]
  },
  {
   "cell_type": "markdown",
   "metadata": {},
   "source": [
    "# Using python packages\n",
    "Python code is organized in units called \"packages\". The central repository of public packages\n",
    "is [pypi](https://pypi.python.org/)\n",
    "\n",
    "Using a python library requires two steps:\n",
    "\n",
    "1. Installing the packages (and their dependencies)\n",
    "2. Importing the packages into the program"
   ]
  },
  {
   "cell_type": "markdown",
   "metadata": {},
   "source": [
    "## installing packages\n",
    "We use two package managers: pip and conda. Here we demonstrate the use pip. Conda is similar."
   ]
  },
  {
   "cell_type": "code",
   "execution_count": null,
   "metadata": {},
   "outputs": [],
   "source": [
    "#get help on the pip command\n",
    "!pip -h"
   ]
  },
  {
   "cell_type": "code",
   "execution_count": null,
   "metadata": {},
   "outputs": [],
   "source": [
    "# List the installed packages\n",
    "!pip list"
   ]
  },
  {
   "cell_type": "code",
   "execution_count": null,
   "metadata": {},
   "outputs": [],
   "source": [
    "# Show information regarding a specific package\n",
    "!pip show -v boto"
   ]
  },
  {
   "cell_type": "code",
   "execution_count": null,
   "metadata": {},
   "outputs": [],
   "source": [
    "# Install a package\n",
    "!pip install boto"
   ]
  },
  {
   "cell_type": "code",
   "execution_count": null,
   "metadata": {},
   "outputs": [],
   "source": [
    "# upgrade the package\n",
    "!pip install --upgrade boto"
   ]
  },
  {
   "cell_type": "markdown",
   "metadata": {},
   "source": [
    "**Note:** You would usually run the installation in a shell, rather than in iPython. This is for various reasons, one of which is that you often need root permission to install a package, which means that you need to use the command `sudo` in front of pip. i.e.\n",
    "\n",
    "  `sudo pip install --upgrade boto`\n",
    "\n",
    "Doing so requires entering a password, which is hard to do inside a notebook, and is not recommended because it leaves\n",
    "a trace of the password in an open file."
   ]
  },
  {
   "cell_type": "markdown",
   "metadata": {},
   "source": [
    "## Importing packages\n",
    "\n",
    "We review the different ways to load a package. \n",
    "\n",
    "Note that we have already loaded pylab using the magic `%pylab inline`\n",
    "so that for this notebook, these operations are unnecessary."
   ]
  },
  {
   "cell_type": "code",
   "execution_count": null,
   "metadata": {},
   "outputs": [],
   "source": [
    "import pylab"
   ]
  },
  {
   "cell_type": "markdown",
   "metadata": {},
   "source": [
    "To get the documentation about a package, put `\"?\"` after it"
   ]
  },
  {
   "cell_type": "code",
   "execution_count": null,
   "metadata": {},
   "outputs": [],
   "source": [
    "pylab?"
   ]
  },
  {
   "cell_type": "markdown",
   "metadata": {},
   "source": [
    "A package is a collection of objects (variables, classes, methods).\n",
    "\n",
    "To get a list of the objects defined in pylab, type `tab` after the `\".\"`"
   ]
  },
  {
   "cell_type": "code",
   "execution_count": null,
   "metadata": {
    "collapsed": true
   },
   "outputs": [],
   "source": [
    "pylab."
   ]
  },
  {
   "cell_type": "markdown",
   "metadata": {},
   "source": [
    "To get information about a particular method, put a question mark `\"?\"` after the full name of the method"
   ]
  },
  {
   "cell_type": "code",
   "execution_count": null,
   "metadata": {},
   "outputs": [],
   "source": [
    "pylab.plot?"
   ]
  },
  {
   "cell_type": "code",
   "execution_count": null,
   "metadata": {},
   "outputs": [],
   "source": [
    "# to import pylab but use a shorter name\n",
    "import pylab as pl"
   ]
  },
  {
   "cell_type": "code",
   "execution_count": null,
   "metadata": {},
   "outputs": [],
   "source": [
    " pl.plot([1,2,1,4])"
   ]
  },
  {
   "cell_type": "code",
   "execution_count": null,
   "metadata": {},
   "outputs": [],
   "source": [
    "# you can also import specific object directly into the current namespace\n",
    "from pylab import plot\n",
    "plot([1,3,1,3])"
   ]
  },
  {
   "cell_type": "code",
   "execution_count": null,
   "metadata": {},
   "outputs": [],
   "source": [
    "# you can even import all objects into the current name space, \n",
    "# but beware of name colissions!\n",
    "from pylab import *"
   ]
  },
  {
   "cell_type": "markdown",
   "metadata": {},
   "source": [
    "## Auto Reload\n",
    "Suppose you imported a package and then, at a later point, the package changed (for example, you used pip to install a new version of the package). Rerunning the `import` command in your notebook will not reload the package. The only way to load the updated module into the notebook is to restart the kernel, thereby losing all variables that have been computed so far.\n",
    "\n",
    "If you want your packages to get reloaded automatically before each cell is executed, use the following ipython extension:"
   ]
  },
  {
   "cell_type": "code",
   "execution_count": null,
   "metadata": {
    "collapsed": true
   },
   "outputs": [],
   "source": [
    "%load_ext autoreload\n",
    "%autoreload 2"
   ]
  },
  {
   "cell_type": "markdown",
   "metadata": {},
   "source": [
    "# Data Input and Output"
   ]
  },
  {
   "cell_type": "raw",
   "metadata": {},
   "source": [
    "%cd ../data/ThinkStatsData/\n",
    "!ls -l"
   ]
  },
  {
   "cell_type": "raw",
   "metadata": {},
   "source": [
    "!cat survey.pl"
   ]
  },
  {
   "cell_type": "code",
   "execution_count": null,
   "metadata": {},
   "outputs": [],
   "source": [
    "!cp survey.pl survey.tmp\n",
    "#To read or write to a file we need a file handle\n",
    "handle=open('survey.tmp','r+')"
   ]
  },
  {
   "cell_type": "code",
   "execution_count": null,
   "metadata": {},
   "outputs": [],
   "source": [
    "# 'r+' means that the file is opened for both reading and writing. \n",
    "# For more information we check the documentation for \"open\"\n",
    "open?"
   ]
  },
  {
   "cell_type": "code",
   "execution_count": null,
   "metadata": {},
   "outputs": [],
   "source": [
    "# read the file line by line and output the lines that contain the string 'class'\n",
    "\n",
    "i=0        # counts the detected lines\n",
    "for line in handle.readlines():\n",
    "    if 'class' in line:\n",
    "        print (i,line,end = \"\") \n",
    "        i+=1\n",
    "handle.close()"
   ]
  },
  {
   "cell_type": "code",
   "execution_count": null,
   "metadata": {},
   "outputs": [],
   "source": [
    "# read the file line by line and output the lines \n",
    "# that contain the string 'class'\n",
    "# and store the location of the beginning of such lines\n",
    "handle=open('survey.tmp','r+')\n",
    "\n",
    "table=[]   # the locations of the start of the detected lines in the file\n",
    "i=0        # counts the detected lines\n",
    "c=0        # counts all the lines\n",
    "line='start'\n",
    "while line != '':\n",
    "    loc=handle.tell()\n",
    "    line=handle.readline()\n",
    "    if 'class' in line:\n",
    "        print (i,line,end = \"\")\n",
    "        table.append((i,loc))\n",
    "        i=i+1\n",
    "handle.close()\n",
    "print(table)"
   ]
  },
  {
   "cell_type": "code",
   "execution_count": null,
   "metadata": {},
   "outputs": [],
   "source": [
    "#we can jump from place to place in the file\n",
    "handle=open('survey.tmp','r+')\n",
    "for (i,loc) in table:\n",
    "    handle.seek(loc)\n",
    "    line=handle.readline()\n",
    "    print (i,line,end = \"\")\n",
    "    \n",
    "    #alter the line and write it back in.\n",
    "    line=line[:7]+'***'+line[10:]\n",
    "    handle.seek(loc)\n",
    "    handle.write(line)\n",
    "\n",
    "handle.close()"
   ]
  },
  {
   "cell_type": "code",
   "execution_count": null,
   "metadata": {},
   "outputs": [],
   "source": [
    "!cat survey.tmp"
   ]
  },
  {
   "cell_type": "markdown",
   "metadata": {},
   "source": [
    "### Random access vs. sequential access\n",
    "One can access file contents randomly, but there is a large penalty in terms of latency and latency variability.\n",
    "We will look into this later today."
   ]
  },
  {
   "cell_type": "markdown",
   "metadata": {},
   "source": [
    "# File formats\n",
    "The files we dealt with so far are plain text files. This is the format that is most portable, because you can always open\n",
    "a text file in a text editor or look at some lines using `head` or `tail`\n",
    "\n",
    "However, there are some important down sides to using text files:\n",
    "\n",
    "1. **Space inefficiency:** the number 12345678901234567890 requires 20 bytes of disk space to store in ascii, but only  8 bytes to store in binary format. Moreover, structured data such as digitized sound can be compressed by large factors with negligible error.\n",
    "1. **Self description vs. external description:** When we store data using ascii, we need to write two programs - an encoding program and a decoding program. This is a lot of additional work. By using **self-describing** data structures we can avoid this work altogether."
   ]
  },
  {
   "cell_type": "code",
   "execution_count": null,
   "metadata": {},
   "outputs": [],
   "source": [
    "#the calculation of the number of bytes required \n",
    "from math import log\n",
    "(log(12345678901234567890)/log(2))/8"
   ]
  },
  {
   "cell_type": "markdown",
   "metadata": {},
   "source": [
    "## Binary file formats\n",
    "Binary files are written using the command `write` and read using the command `read`. Binary files lack the concept of **lines**, they only have positions. "
   ]
  },
  {
   "cell_type": "code",
   "execution_count": null,
   "metadata": {},
   "outputs": [],
   "source": [
    "file_=open('binaryFile','wb')\n",
    "buffer_=bytearray(range(100,200))\n",
    "file_.write(buffer_)\n",
    "file_.close()"
   ]
  },
  {
   "cell_type": "code",
   "execution_count": null,
   "metadata": {},
   "outputs": [],
   "source": [
    "# printing the content of a binary file as text does not make much sense\n",
    "!head binaryFile"
   ]
  },
  {
   "cell_type": "code",
   "execution_count": null,
   "metadata": {},
   "outputs": [],
   "source": [
    "file_=open('binaryFile','rb')\n",
    "buffer2=bytearray(file_.read())\n",
    "print(type(buffer2))\n",
    "S=','.join([str(i) for i in buffer2])\n",
    "print(S)\n",
    "print('length as csv',len(S))\n",
    "file_.close()\n",
    "print('length of binary file=100 byte')\n",
    "!ls -l binaryFile"
   ]
  },
  {
   "cell_type": "markdown",
   "metadata": {},
   "source": [
    "## Self describing files\n",
    "We will cover two types of self-describing files:\n",
    "\n",
    "* The first are `pickle` files. This format is popular within the python environment and can store any python data structure. The encoded file is typically readable, but that is not the main feature.  \n",
    "* The second are `json`. This format came out of `javascript` and is used extensively over the web as a way to communicate complex data structure. It is a format that emphasizes readability and interoperability. It is now the de-facto standard for internet communication between programs."
   ]
  },
  {
   "cell_type": "code",
   "execution_count": null,
   "metadata": {},
   "outputs": [],
   "source": [
    "# Lets define a complex data structure\n",
    "A={'first name':'Yoav',\n",
    "   'last name':'Freund',\n",
    "   'speaks':('English','Hebrew'),\n",
    "   'Research':{'Probability':7,\n",
    "               'bio-informatics':3,\n",
    "               'Data Science':2.1\n",
    "               },\n",
    "   'longList':numpy.zeros(10000)\n",
    "   }\n",
    "A"
   ]
  },
  {
   "cell_type": "code",
   "execution_count": null,
   "metadata": {},
   "outputs": [],
   "source": [
    "# Lets store this data in a Pickle file\n",
    "import pickle\n",
    "pickle.dump(A,open('pickle.pkl','wb'))\n",
    "!ls -l pickle*"
   ]
  },
  {
   "cell_type": "markdown",
   "metadata": {},
   "source": [
    "### There are currently 3 different protocols which can be used for pickling.\n",
    "\n",
    "* Protocol version 0 is the original ASCII protocol and is backwards compatible with earlier versions of Python.\n",
    "* Protocol version 1 is the old binary format which is also compatible with earlier versions of Python.\n",
    "* Protocol version 2 was introduced in Python 2.3. It provides much more efficient pickling of new-style classes.\n",
    "* Protocol version 3 is for Python3\n",
    "\n",
    "The optional *protocol* argument tells the pickler to use the given\n",
    "protocol supported protocols are 0, 1, 2, 3 and 4.  The default\n",
    "protocol is 3; a backward-incompatible protocol designed for Python 3.\n",
    "\n",
    "Specifying a negative protocol version selects the highest protocol\n",
    "version supported.  The higher the protocol used, the more recent the\n",
    "version of Python needed to read the pickle produced."
   ]
  },
  {
   "cell_type": "code",
   "execution_count": null,
   "metadata": {},
   "outputs": [],
   "source": [
    "pickle.dump?"
   ]
  },
  {
   "cell_type": "code",
   "execution_count": null,
   "metadata": {},
   "outputs": [],
   "source": [
    "pickle.dump(A,open('pickle0.pkl','wb'),0)\n",
    "pickle.dump(A,open('pickle1.pkl','wb'),1)\n",
    "pickle.dump(A,open('pickle2.pkl','wb'),2)\n",
    "pickle.dump(A,open('pickle3.pkl','wb'),3)\n",
    "!ls -l pickle*"
   ]
  },
  {
   "cell_type": "code",
   "execution_count": null,
   "metadata": {},
   "outputs": [],
   "source": [
    "# only protocol 0 uses ascii, 1,2 generate smaller files\n",
    "!head -100 pickle.pkl"
   ]
  },
  {
   "cell_type": "markdown",
   "metadata": {},
   "source": [
    "## Pickling and compressing\n",
    "One useful combination is to use gzip to compress the pickled file. This way you get both the self description and the space reduction benefits. The main thing you lose is the readability of the stored file."
   ]
  },
  {
   "cell_type": "code",
   "execution_count": null,
   "metadata": {},
   "outputs": [],
   "source": [
    "import gzip\n",
    "pickle.dump(A,gzip.open('picklez0.pkl','wb'),0)\n",
    "pickle.dump(A,gzip.open('picklez1.pkl','wb'),1)\n",
    "pickle.dump(A,gzip.open('picklez2.pkl','wb'),2)"
   ]
  },
  {
   "cell_type": "code",
   "execution_count": null,
   "metadata": {},
   "outputs": [],
   "source": [
    "#loading the file back\n",
    "B=pickle.load(gzip.open('picklez2.pkl','rb'))\n",
    "B"
   ]
  },
  {
   "cell_type": "code",
   "execution_count": null,
   "metadata": {},
   "outputs": [],
   "source": [
    "ls -l pickl*"
   ]
  },
  {
   "cell_type": "markdown",
   "metadata": {},
   "source": [
    "## JSON\n",
    "Using JSON is very similar to pickle, the results are more readable, but json cannot encode arbitrary python data types."
   ]
  },
  {
   "cell_type": "code",
   "execution_count": null,
   "metadata": {},
   "outputs": [],
   "source": [
    "import json\n",
    "A['longList']='shortList'  # json cannot deal with numpy arrays\n",
    "json.dump(A,open('json.jsn','w'))\n",
    "pickle.dump(A,open('json.pkl','wb'))"
   ]
  },
  {
   "cell_type": "code",
   "execution_count": null,
   "metadata": {},
   "outputs": [],
   "source": [
    "!cat json.jsn"
   ]
  },
  {
   "cell_type": "code",
   "execution_count": null,
   "metadata": {},
   "outputs": [],
   "source": [
    "#json is almost identical to the string generated by \"print\"\n",
    "print(A)"
   ]
  },
  {
   "cell_type": "code",
   "execution_count": null,
   "metadata": {},
   "outputs": [],
   "source": [
    "B=json.load(open('json.jsn','rb'))\n",
    "B"
   ]
  },
  {
   "cell_type": "code",
   "execution_count": null,
   "metadata": {},
   "outputs": [],
   "source": [
    "!ls -l json* pick*"
   ]
  },
  {
   "cell_type": "markdown",
   "metadata": {},
   "source": [
    "## Formatted printing\n",
    "Sometimes we want to print variables in a nicely formatted way. For this we use the command \"format-string'%(list of variables)"
   ]
  },
  {
   "cell_type": "code",
   "execution_count": null,
   "metadata": {},
   "outputs": [],
   "source": [
    "A=[ (i,i*i) for i in range(10)]\n",
    "B=['even' if i%2==0 else 'odd' for i in range(10)]\n",
    "print(A,B)"
   ]
  },
  {
   "cell_type": "markdown",
   "metadata": {},
   "source": [
    "To print this nicely, one line per number, we can use the following \n",
    "### Old string formatting"
   ]
  },
  {
   "cell_type": "code",
   "execution_count": null,
   "metadata": {},
   "outputs": [],
   "source": [
    "for i in range(10):\n",
    "    print(\"%1d is %4s, and its square is %d\"%(A[i][0],B[i],A[i][1]))\n",
    "#the %5s element pads the string to be of length 5, which guarantees that the columns will be aligned"
   ]
  },
  {
   "cell_type": "code",
   "execution_count": null,
   "metadata": {},
   "outputs": [],
   "source": [
    "print ('\\n'.join([\"%1d is %4s, and its square is %d\"%(A[i][0],B[i],A[i][1]) for i in range(10)]))"
   ]
  },
  {
   "cell_type": "markdown",
   "metadata": {},
   "source": [
    "### using format( ) method"
   ]
  },
  {
   "cell_type": "code",
   "execution_count": null,
   "metadata": {},
   "outputs": [],
   "source": [
    "print(\"Sammy the {0} has a pet {1}!\".format(\"shark\", \"pilot fish\"))\n",
    "print(\"Sammy the {1} has a pet {0}!\".format(\"shark\", \"pilot fish\"))\n",
    "print(\"Sammy the {0} {1} a {pr}.\".format(\"shark\", \"made\", pr = \"pull request\"))\n",
    "print(\"Sammy ate {0:.3f} percent of a pizza!\".format(75.765367))"
   ]
  },
  {
   "cell_type": "code",
   "execution_count": null,
   "metadata": {},
   "outputs": [],
   "source": [
    "print(\"Sammy has {0:4} red {1:16}!\".format(5, \"balloons\"))"
   ]
  },
  {
   "cell_type": "code",
   "execution_count": null,
   "metadata": {},
   "outputs": [],
   "source": [
    "# by default strings are left-justified within the field, and numbers are right-justified.\n",
    "# You can modify this by placing an alignment code just following the colon.\n",
    "# < will left-align the text in a field, ^ will center the text in the field, and > will right-align it.\n",
    "print(\"Sammy has {0:<4} red {1:^16}!\".format(5, \"balloons\"))"
   ]
  },
  {
   "cell_type": "code",
   "execution_count": null,
   "metadata": {},
   "outputs": [],
   "source": [
    "print ('\\n'.join([\"{0:1d} is {1:>4s}, and its square is {2:1d}\".format(A[i][0],B[i],A[i][1]) for i in range(10)]))"
   ]
  },
  {
   "cell_type": "markdown",
   "metadata": {},
   "source": [
    "### Fancier Output Formatting"
   ]
  },
  {
   "cell_type": "code",
   "execution_count": null,
   "metadata": {},
   "outputs": [],
   "source": [
    "print ('\\n'.join([f\"{A[i][0]:1d} is {B[i]:>4s}, and its square is {A[i][1]:1d}\" for i in range(10)]))"
   ]
  },
  {
   "cell_type": "markdown",
   "metadata": {},
   "source": [
    "For more information about formatting, see this page: https://docs.python.org/3/tutorial/inputoutput.html"
   ]
  }
 ],
 "metadata": {
  "kernelspec": {
   "display_name": "Python 3",
   "language": "python",
   "name": "python3"
  },
  "language_info": {
   "codemirror_mode": {
    "name": "ipython",
    "version": 3
   },
   "file_extension": ".py",
   "mimetype": "text/x-python",
   "name": "python",
   "nbconvert_exporter": "python",
   "pygments_lexer": "ipython3",
   "version": "3.6.4"
  }
 },
 "nbformat": 4,
 "nbformat_minor": 1
}
