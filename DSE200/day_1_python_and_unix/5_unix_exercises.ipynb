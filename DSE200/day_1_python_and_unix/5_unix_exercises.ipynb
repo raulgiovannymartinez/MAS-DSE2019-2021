{
 "cells": [
  {
   "cell_type": "markdown",
   "metadata": {},
   "source": [
    "### Excercise 1: reconstruct a file from segments."
   ]
  },
  {
   "cell_type": "markdown",
   "metadata": {},
   "source": [
    "Each of the files F* is a short segment of the original text file.\n",
    "The fragments are non-overlapping: one segments starts where the previous one ends.\n",
    "\n",
    "The format of the file is `(n1: 5 char int),(n2: 5 char int),string`\n",
    "The string represents the content of the file in the range `[n1:n2]`\n",
    "\n",
    "Your task is to reconstruct the original file using unix commands only. There is a one line solution involving several unix commands connected by pipes \"|\"."
   ]
  },
  {
   "cell_type": "code",
   "execution_count": 10,
   "metadata": {
    "scrolled": false
   },
   "outputs": [
    {
     "name": "stdout",
     "output_type": "stream",
     "text": [
      "/home/raul/DSE200/data/NLTK/Chopped\n",
      "Caesar\tF114  F130  F147  F163\tF18   F197  F213  F23\tF35  F51  F67  F82\r\n",
      "F0\tF115  F131  F148  F164\tF180  F198  F214  F230\tF36  F52  F68  F83\r\n",
      "F1\tF117  F132  F149  F165\tF181  F199  F215  F231\tF37  F53  F69  F84\r\n",
      "F10\tF118  F133  F15   F166\tF182  F2    F216  F232\tF38  F54  F7   F85\r\n",
      "F100\tF119  F134  F151  F167\tF183  F20   F218  F233\tF39  F55  F70  F86\r\n",
      "F101\tF12   F135  F152  F168\tF185  F200  F219  F24\tF4   F56  F71  F87\r\n",
      "F102\tF120  F136  F153  F169\tF186  F201  F22   F25\tF40  F57  F72  F88\r\n",
      "F104\tF121  F137  F154  F170\tF187  F202  F220  F26\tF41  F58  F73  F9\r\n",
      "F106\tF122  F138  F155  F171\tF189  F204  F221  F27\tF42  F59  F74  F90\r\n",
      "F107\tF123  F139  F156  F172\tF19   F205  F222  F28\tF43  F6   F75  F91\r\n",
      "F108\tF124  F14   F157  F173\tF190  F206  F223  F29\tF44  F60  F76  F93\r\n",
      "F109\tF125  F140  F158  F174\tF191  F207  F224  F3\tF45  F61  F77  F94\r\n",
      "F11\tF126  F141  F159  F175\tF192  F208  F225  F30\tF46  F62  F78  F95\r\n",
      "F110\tF127  F142  F16   F176\tF193  F209  F226  F31\tF48  F63  F79  F96\r\n",
      "F111\tF128  F144  F160  F177\tF194  F210  F227  F32\tF49  F64  F8   F97\r\n",
      "F112\tF129  F145  F161  F178\tF195  F211  F228  F33\tF5   F65  F80  F99\r\n",
      "F113\tF13   F146  F162  F179\tF196  F212  F229  F34\tF50  F66  F81  tmp/\r\n"
     ]
    }
   ],
   "source": [
    "%cd ~/DSE200/data/NLTK/Chopped/ \n",
    "!ls -F"
   ]
  },
  {
   "cell_type": "code",
   "execution_count": 19,
   "metadata": {},
   "outputs": [
    {
     "name": "stdout",
     "output_type": "stream",
     "text": [
      "The Fulton County Grand Jury said Friday an investigation of Atlantas recent primary election produced no evidence that any irregularities took place. The jury further said in term-end presentments that the City Executive Committee which had over-all charge of the election deserves the praise and thanks of the City of Atlanta for the manner in which the election was conducted. The September-October term jury had been charged by Fulton Superior Court Judge Durwood Pye to investigate reports of possible irregularities in the hard-fought primary which was won by Mayor-nominate Ivan Allen Jr.. Only a relative handful of such reports was received the jury said considering the widespread interest in the election the number of voters and the size of this city. The jury said it did find that many of Georgias registration and election laws are outmoded or inadequate and often ambiguous. It recommended that Fulton legislators act to have these laws studied and revised to the end of modernizing and improving them. The grand jury commented on a number of other topics among them the Atlanta and Fulton County purchasing departments which it said are well operated and follow generally accepted practices which inure to the best interest of both governments. Merger proposed However the jury said it believes these two offices should be combined to achieve greater efficiency and reduce the cost of administration. The City Purchasing Department the jury said is lacking in experienced clerical personnel as a result of city personnel policies."
     ]
    }
   ],
   "source": [
    "#Merge all F* files\n",
    "\n",
    "#steps:\n",
    "    #list all files that start with F\n",
    "    #sort numerically\n",
    "    #remove index column\n",
    "    #remove tabs\n",
    "    #remove all numbers \n",
    "    #remove characters '' and ``\n",
    "    #remove double spaces\n",
    "    #remove spaces before each dot (i.e. ' .')\n",
    "\n",
    "!ls F* | sort -n F* | cut -b 8- | sed \"s/^[ \\t]*//\" | tr -d [:digit:] | tr -d ['\\n',\"''\",'``']  | tr -s ' ' | sed 's/ \\././g'"
   ]
  },
  {
   "cell_type": "markdown",
   "metadata": {},
   "source": [
    "### Excercise 2:"
   ]
  },
  {
   "cell_type": "code",
   "execution_count": 21,
   "metadata": {},
   "outputs": [],
   "source": [
    "#Issue a UNIX command to create a file called Caesar that contains the following lines (include the mistakes!!)\n",
    "\n",
    "Text = \"\"\"Caesar, a great general, is petitioned by several citizens to show clemency to one of his enemies.\n",
    "He declines, pompously speaking of himself in the third person. The group of conspirators then proceeds to stab him.\n",
    "With his dying breath he gasps, \"Et tu, Brute? (\"And you, Brutus?\") Thus falls Caesar.\" \n",
    "The conspirators exult, and Shakespeare inserts a self-referential joke as Cassius says, \n",
    "\"How many ages hence shall this our lofty scene be acted over in states unborn and accents yet unknown!\"\n",
    "\"\"\"\n",
    "#Change the permissions of this file to 666\n",
    "#Issue a UNIX command to determine the file type\n",
    "#Isue a uniix comannd to count the number of words in the above text that contains no vowels\n",
    "#Replace the word Caesar wherever it is found in the entire text to Leonidas\n",
    "#Make a copy of the above file without the first and last lines of the text and rename this file to Leonidas"
   ]
  },
  {
   "cell_type": "code",
   "execution_count": 29,
   "metadata": {},
   "outputs": [
    {
     "name": "stdout",
     "output_type": "stream",
     "text": [
      "/home/raul/DSE200/homework/hw1\n",
      "total 24\n",
      "-rw-rw-rw- 1 raul raul 16215 Oct 10 19:11 5_unix_exercises.ipynb\n",
      "-rw-rw-rw- 1 raul raul   501 Oct 10 19:12 Caesar.txt\n",
      "-rw-r--r-- 1 raul raul   298 Oct 10 19:12 Leonidas.txt\n",
      "-rw-r--r-- 1 raul raul     0 Oct 10 19:02 test1.txt\n",
      "-rw-r--r-- 1 raul raul     0 Oct 10 19:02 Test1.txt\n",
      "-rw-r--r-- 1 raul raul     0 Oct 10 19:02 test2.txt\n",
      "-rw-r--r-- 1 raul raul     0 Oct 10 19:02 Test2.txt\n",
      "-rw-r--r-- 1 raul raul     0 Oct 10 19:02 test3.txt\n",
      "-rw-r--r-- 1 raul raul     0 Oct 10 19:02 Test3.txt\n",
      "Caesar.txt: ASCII text\n",
      "1\n",
      "Leonidas, a great general, is petitioned by several citizens to show clemency to one of his enemies.\n",
      "He declines, pompously speaking of himself in the third person. The group of conspirators then proceeds to stab him.\n",
      "With his dying breath he gasps, \"Et tu, Brute? (\"And you, Brutus?\") Thus falls Leonidas.\" \n",
      "The conspirators exult, and Shakespeare inserts a self-referential joke as Cassius says, \n",
      "\"How many ages hence shall this our lofty scene be acted over in states unborn and accents yet unknown!\"\n",
      "\n"
     ]
    }
   ],
   "source": [
    "#create file called Caesar\n",
    "%cd /home/raul/DSE200/homework/hw1\n",
    "Text_string = \"'\" + Text + \"'\"\n",
    "!echo $Text_string > Caesar.txt\n",
    "\n",
    "#change the permission of the file\n",
    "!chmod 666 Caesar.txt\n",
    "!ls -l\n",
    "\n",
    "#determine file type\n",
    "!file Caesar.txt\n",
    "\n",
    "#count number of words with no vowels\n",
    "!cat Caesar.txt| sed 's/ /\\n/g'| sed '/^$/d' | grep -vic [aeiou]\n",
    "\n",
    "#replace Caesar with Leonidas\n",
    "!cat Caesar.txt| sed 's/Caesar/Leonidas/g'\n",
    "\n",
    "#Make a copy of the above file without first and last lines and rename to Leonidas\n",
    "!cat Caesar.txt| sed 's/Caesar/Leonidas/g' | sed -n 2,4p > Leonidas.txt"
   ]
  },
  {
   "cell_type": "markdown",
   "metadata": {},
   "source": [
    "### Excercise 3:"
   ]
  },
  {
   "cell_type": "code",
   "execution_count": 10,
   "metadata": {},
   "outputs": [],
   "source": [
    "#What is the command to count lines,words and characters in a file and how do you make this comand display only linecount?\n",
    "#Also write a single command that lists the files in the current directory that begin with upper case letters"
   ]
  },
  {
   "cell_type": "code",
   "execution_count": 8,
   "metadata": {},
   "outputs": [
    {
     "name": "stdout",
     "output_type": "stream",
     "text": [
      "/home/raul/DSE200/homework/hw1\n",
      "  6  82 501 Caesar.txt\n",
      "3 Leonidas.txt\n",
      "Caesar.txt  Leonidas.txt  Test1.txt  Test2.txt\tTest3.txt\n"
     ]
    }
   ],
   "source": [
    "%cd /home/raul/DSE200/homework/hw1\n",
    "#What is the command to count lines, words, and characters\n",
    "#word count command\n",
    "!wc Caesar.txt \n",
    "\n",
    "#display only linecount by adding the option -l\n",
    "!wc -l Leonidas.txt\n",
    "\n",
    "#write a single command that lists the files in the current directory that begin with upper case\n",
    "#create files with lower case and upper in current directory for testing\n",
    "!touch Test1.txt\n",
    "!touch test1.txt\n",
    "!touch Test2.txt\n",
    "!touch test2.txt\n",
    "!touch Test3.txt\n",
    "!touch test3.txt\n",
    "\n",
    "#list files with upper case\n",
    "!ls [[:upper:]]*"
   ]
  },
  {
   "cell_type": "markdown",
   "metadata": {},
   "source": [
    "### Excercise 4:"
   ]
  },
  {
   "cell_type": "code",
   "execution_count": 11,
   "metadata": {},
   "outputs": [],
   "source": [
    "#Combine the files Caesar and Leonidas and save the combined file as kings\n",
    "#Display the contents of this file using more command\n",
    "#Sort this file in reverse alphabetic order and display it by piping it into more"
   ]
  },
  {
   "cell_type": "code",
   "execution_count": 1,
   "metadata": {},
   "outputs": [
    {
     "name": "stdout",
     "output_type": "stream",
     "text": [
      "/home/raul/DSE200/homework/hw1\n",
      "Caesar, a great general, is petitioned by several citizens to show clemency to o\n",
      "ne of his enemies.\n",
      "He declines, pompously speaking of himself in the third person. The group of con\n",
      "spirators then proceeds to stab him.\n",
      "With his dying breath he gasps, \"Et tu, Brute? (\"And you, Brutus?\") Thus falls C\n",
      "aesar.\" \n",
      "The conspirators exult, and Shakespeare inserts a self-referential joke as Cassi\n",
      "us says, \n",
      "\"How many ages hence shall this our lofty scene be acted over in states unborn a\n",
      "nd accents yet unknown!\"\n",
      "\n",
      "He declines, pompously speaking of himself in the third person. The group of con\n",
      "spirators then proceeds to stab him.\n",
      "With his dying breath he gasps, \"Et tu, Brute? (\"And you, Brutus?\") Thus falls L\n",
      "eonidas.\" \n",
      "The conspirators exult, and Shakespeare inserts a self-referential joke as Cassi\n",
      "us says, \n",
      "you,\n",
      "you,\n",
      "yet\n",
      "With\n",
      "With\n",
      "unknown!\"\n",
      "unborn\n",
      "tu,\n",
      "tu,\n",
      "to\n",
      "to\n",
      "to\n",
      "to\n",
      "Thus\n",
      "Thus\n",
      "this\n",
      "third\n",
      "third\n",
      "then\n",
      "then\n",
      "The\n",
      "The\n",
      "The\n",
      "\u001b[Km--More--\u001b[m"
     ]
    }
   ],
   "source": [
    "%cd /home/raul/DSE200/homework/hw1\n",
    "\n",
    "#Combine files caesar and Leonidas and save as kings\n",
    "!cat Caesar.txt Leonidas.txt > kings.txt\n",
    "\n",
    "#Display the contents of this file using more command\n",
    "!more kings.txt\n",
    "\n",
    "#sort the file in reverse alphabetic order and display it by piping it into more\n",
    "!cat kings.txt | sed 's/ /\\n/g' | sort -r | more"
   ]
  },
  {
   "cell_type": "markdown",
   "metadata": {},
   "source": [
    "### Excercise 5:"
   ]
  },
  {
   "cell_type": "code",
   "execution_count": 12,
   "metadata": {},
   "outputs": [],
   "source": [
    "#List all files in your current directory. Make a subDirectory and copy all these files in the subdirectory.\n",
    "#Write Unix commands to rename all the files to the format - currentDate_originalname"
   ]
  },
  {
   "cell_type": "code",
   "execution_count": 55,
   "metadata": {},
   "outputs": [
    {
     "name": "stdout",
     "output_type": "stream",
     "text": [
      "/home/raul/DSE200/homework/hw1/Exercise_5\n",
      "file1  file2  file3\n",
      "cp: -r not specified; omitting directory 'subdirectory'\n"
     ]
    }
   ],
   "source": [
    "#List all files in your current directory (first make files to copy)\n",
    "%cd /home/raul/DSE200/homework/hw1/Exercise_5\n",
    "!touch file1 file2 file3\n",
    "!ls\n",
    "\n",
    "#Make a sub-directory and copy all the files in it, omit -r to not copy the folder subdirectory\n",
    "%mkdir subdirectory\n",
    "!cp * subdirectory/\n",
    "\n",
    "#write unix commands to rename all the files to the format currentdate_original name\n",
    "!for i in *; do mv $i `date +\"%Y_%m_%d\"`_$i; done"
   ]
  },
  {
   "cell_type": "markdown",
   "metadata": {},
   "source": [
    "### Excercise 6:"
   ]
  },
  {
   "cell_type": "code",
   "execution_count": 1,
   "metadata": {},
   "outputs": [],
   "source": [
    "#Suppose we have a script that performs numerous efficiency tests. \n",
    "#The output from the script contains lots of information, but our purpose now is to extract information\n",
    "#about the CPU time of each test and sort these CPU times. The output from the tests takes the following form:\n",
    "output = \"\"\"\n",
    "f95 -c -O0  versions/main_wIO.f F77WAVE.f\n",
    "f95 -o app  -static main_wIO.o F77WAVE.o   -lf2c\n",
    "app < input > tmp.out\n",
    "CPU-time: 255.97   f95 -O0 formatted I/O\n",
    "f95 -c -O1  versions/main_wIO.f F77WAVE.f\n",
    "f95 -o app  -static main_wIO.o F77WAVE.o   -lf2c\n",
    "app < input > tmp.out\n",
    "CPU-time: 252.47   f95 -O1 formatted I/O\n",
    "f95 -c -O2  versions/main_wIO.f F77WAVE.f\n",
    "f95 -o app  -static main_wIO.o F77WAVE.o   -lf2c\n",
    "app < input > tmp.out\n",
    "CPU-time: 252.40   f95 -O2 formatted I/O\n",
    "f95 -c -O3  versions/main_wIO.f F77WAVE.f\n",
    "f95 -o app  -static main_wIO.o F77WAVE.o   -lf2c\n",
    "app < input > tmp.out\n",
    "CPU-time: 255.28   f95 -O0 formatted I/O\n",
    "f95 -c -O4  versions/main_wIO.f F77WAVE.f\n",
    "f95 -o app  -static main_wIO.o F77WAVE.o   -lf2c\n",
    "app < input > tmp.out\n",
    "CPU-time: 251.43  f95 -O0 formatted I/O\n",
    "f95 -c -O5  versions/main_wIO.f F77WAVE.f\n",
    "f95 -o app  -static main_wIO.o F77WAVE.o   -lf2c\n",
    "app < input > tmp.out\n",
    "CPU-time: 255.90   f95 -O0 formatted I/O\n",
    "f95 -c -O6  versions/main_wIO.f F77WAVE.f\n",
    "f95 -o app  -static main_wIO.o F77WAVE.o   -lf2c\n",
    "app < input > tmp.out\n",
    "CPU-time: 252.15   f95 -O0 formatted I/O\n",
    "\"\"\"\n",
    "\n",
    "#First we need to extract the lines starting with CPU-time. \n",
    "#Then we need to sort the extracted lines with respect to the CPU time, which is the number appearing in the second column. \n",
    "#Write a script to accomplish this task. \n",
    "\n",
    "#Hint: Find the lines with CPU time results by using a string comparison of the first 7 characters \n",
    "#to detect the keyword CPU-time. Then write a tailored sort function for sorting two lines \n",
    "#(extract the CPU time from the second column in both lines and compare the CPU times as floating-point numbers). \n",
    "#A tailored sort function takes two arguments a and b, which hold two list elements. \n",
    "#The sort function returns -1 if a is less than b, 1 if a is greater than b, and 0 otherwise (a equals b)."
   ]
  },
  {
   "cell_type": "code",
   "execution_count": 19,
   "metadata": {},
   "outputs": [
    {
     "name": "stdout",
     "output_type": "stream",
     "text": [
      "CPU-time: 251.43  f95 -O0 formatted I/O\r\n",
      "CPU-time: 252.15   f95 -O0 formatted I/O\r\n",
      "CPU-time: 252.40   f95 -O2 formatted I/O\r\n",
      "CPU-time: 252.47   f95 -O1 formatted I/O\r\n",
      "CPU-time: 255.28   f95 -O0 formatted I/O\r\n",
      "CPU-time: 255.90   f95 -O0 formatted I/O\r\n",
      "CPU-time: 255.97   f95 -O0 formatted I/O\r\n"
     ]
    }
   ],
   "source": [
    "#Extract lines that start with CPE-time\n",
    "# !echo \"$output\" | grep 'CPU-time'\n",
    "\n",
    "#sort lines with respect to CPU time in second column\n",
    "!echo \"$output\" | grep 'CPU-time' | sort -nk 2"
   ]
  },
  {
   "cell_type": "markdown",
   "metadata": {},
   "source": [
    "### Excercise 7:"
   ]
  },
  {
   "cell_type": "code",
   "execution_count": 14,
   "metadata": {},
   "outputs": [],
   "source": [
    "#Make a copy of your working directory along with its subdirectories and \n",
    "#write unix+python commands that traverses the copied working directory and its subdirectories (recursively) and returns a \n",
    "#list of all files that are larger than X Mb and that have not been accessed the last Y days, \n",
    "#where X and Y are passed as user inputs.\n",
    "#Include an option in this function that moves the files to a subdirectory trash under /tmp \n",
    "#(you need to create trash if it does not exist)."
   ]
  },
  {
   "cell_type": "code",
   "execution_count": 19,
   "metadata": {},
   "outputs": [
    {
     "name": "stdout",
     "output_type": "stream",
     "text": [
      "/home/raul/DSE200/homework/hw1/Exercise_7\n",
      "Enter upper limit for fize size (in Mb): 0.0004\n",
      "Enter number of days where files have not been accessed: 6\n",
      "Move these files to Trash? (Y/N): Y\n",
      "/home/raul/DSE200/homework/hw1/Exercise_7/Working_Directory\n"
     ]
    }
   ],
   "source": [
    "%cd /home/raul/DSE200/homework/hw1/Exercise_7\n",
    "\n",
    "#Make a copy of working directory along with its subdirectories\n",
    "!mkdir copy_Working_Directory\n",
    "!cp -r Working_Directory/* copy_Working_Directory\n",
    "\n",
    "#Define user inputs\n",
    "X = input('Enter upper limit for fize size (in Mb): ')\n",
    "Y = input('Enter number of days where files have not been accessed: ')\n",
    "Trash = input('Move these files to Trash? (Y/N): ')\n",
    "\n",
    "#Move working directory\n",
    "#look for data in working directorty and not copied as the date modified gets updated\n",
    "%cd /home/raul/DSE200/homework/hw1/Exercise_7/Working_Directory\n",
    "\n",
    "#Extract data from files inside working directory and save it to another folder named FileInfo_copy..\n",
    "!mkdir -p /home/raul/DSE200/homework/hw1/Exercise_7/FileInfo_copy_Working_Directory\n",
    "!ls -ld $(find .) | grep -v '^d' | awk '{print $5}' > /home/raul/DSE200/homework/hw1/Exercise_7/FileInfo_copy_Working_Directory/file_size.csv\n",
    "!ls -ld $(find .) | grep -v '^d' | awk '{print $6}' > /home/raul/DSE200/homework/hw1/Exercise_7/FileInfo_copy_Working_Directory/month.csv\n",
    "!ls -ld $(find .) | grep -v '^d' | awk '{print $7}' > /home/raul/DSE200/homework/hw1/Exercise_7/FileInfo_copy_Working_Directory/day.csv\n",
    "!ls -ld $(find .) | grep -v '^d' | awk '{print $9}' > /home/raul/DSE200/homework/hw1/Exercise_7/FileInfo_copy_Working_Directory/file_dir.csv\n",
    "\n",
    "#Make trash directory\n",
    "!mkdir -p /home/raul/DSE200/homework/hw1/Exercise_7/tmp/trash\n",
    "\n",
    "#Python code to check which files to list\n",
    "import pandas as pd\n",
    "from datetime import datetime, date, timedelta\n",
    "import shutil\n",
    "\n",
    "#define files to read and create dataframe with file info\n",
    "file_names = ['day','file_dir','file_size','month']\n",
    "df = pd.DataFrame(columns = file_names)\n",
    "for file_name in file_names:\n",
    "    home_dir = '/home/raul/DSE200/homework/hw1/Exercise_7/FileInfo_copy_Working_Directory'\n",
    "    df[file_name] = pd.read_csv(home_dir + '/' + file_name + '.csv',header = None)[0]\n",
    "date_string = [str(df.month[i])+ ' ' + str(df.day[i]) + ' 2019' for i in range(len(df))] #find date\n",
    "df['date'] = [datetime.strptime(i,'%b %d %Y') for i in date_string]\n",
    "file_dir_split = [str(i).split('/') for i in df.file_dir] #find file\n",
    "df['file'] = [i[len(i)-1] for i in file_dir_split]\n",
    "\n",
    "# #filter dataframe based on X and Y user inputs\n",
    "X_bytes = float(X)*1e6 #want files larger than this number\n",
    "Date_minus_Y_days = datetime.today() - timedelta(days=int(Y))\n",
    "df = df[(df.file_size > X_bytes) & (df.date < Date_minus_Y_days)]\n",
    "\n",
    "#output dataframe with list of files\n",
    "df.to_csv(home_dir+'/List_Files_Dataframe.csv')\n",
    "\n",
    "#move files to trash directory if desired by the user\n",
    "if Trash == 'Y':\n",
    "    trash_dir = '/home/raul/DSE200/homework/hw1/Exercise_7/tmp/trash'\n",
    "    copy_working_dir = '/home/raul/DSE200/homework/hw1/Exercise_7/copy_Working_Directory'\n",
    "    for file_dir in df.file_dir:\n",
    "        file_dir = file_dir.split('./')[1]\n",
    "        shutil.move(copy_working_dir+'/'+file_dir,trash_dir)"
   ]
  }
 ],
 "metadata": {
  "kernelspec": {
   "display_name": "Python 3",
   "language": "python",
   "name": "python3"
  },
  "language_info": {
   "codemirror_mode": {
    "name": "ipython",
    "version": 3
   },
   "file_extension": ".py",
   "mimetype": "text/x-python",
   "name": "python",
   "nbconvert_exporter": "python",
   "pygments_lexer": "ipython3",
   "version": "3.7.3"
  }
 },
 "nbformat": 4,
 "nbformat_minor": 1
}
