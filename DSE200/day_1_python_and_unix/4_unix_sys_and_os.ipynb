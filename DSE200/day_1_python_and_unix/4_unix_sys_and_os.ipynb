{
 "cells": [
  {
   "cell_type": "markdown",
   "metadata": {},
   "source": [
    "## The unix system\n",
    "\n",
    "* Prepending commands with !\n",
    "* Files, directories and paths\n",
    "* AWS, virtual machines and AMI's\n",
    "* Bash scripts (just to know what they are)\n",
    "* grep, wc, sort\n",
    "* .bashrc, environmental variables, paths."
   ]
  },
  {
   "cell_type": "code",
   "execution_count": null,
   "metadata": {},
   "outputs": [],
   "source": []
  },
  {
   "cell_type": "markdown",
   "metadata": {},
   "source": [
    "## listing files\n",
    "* The `ls` command lists the files in the current directory\n",
    "* `ls -F` identifies each files as directory, executable, text\n",
    "* `ls -lrta`: \n",
    "    * `l` (long) lists extensive information about each file\n",
    "    * `rt` (reverse time): list files in reverse order in time.\n",
    "    * `a` show hidden files (whose names start with .)"
   ]
  },
  {
   "cell_type": "code",
   "execution_count": 25,
   "metadata": {},
   "outputs": [
    {
     "name": "stdout",
     "output_type": "stream",
     "text": [
      "/Users/suggu\n",
      "\u001b[34mApplications\u001b[m\u001b[m \u001b[34mDownloads\u001b[m\u001b[m    \u001b[34mNotebooks\u001b[m\u001b[m    \u001b[34mSublime\u001b[m\u001b[m      \u001b[34mproject\u001b[m\u001b[m      \u001b[34mtemp\u001b[m\u001b[m\r\n",
      "\u001b[34mArcanist\u001b[m\u001b[m     \u001b[34mIdeaProjects\u001b[m\u001b[m \u001b[34mPictures\u001b[m\u001b[m     \u001b[34mUCSD\u001b[m\u001b[m         \u001b[34mpython\u001b[m\u001b[m       \u001b[34mtmp\u001b[m\u001b[m\r\n",
      "\u001b[34mCodeForces\u001b[m\u001b[m   \u001b[34mLibrary\u001b[m\u001b[m      \u001b[34mPostman\u001b[m\u001b[m      \u001b[34manaconda3\u001b[m\u001b[m    \u001b[34mseaborn-data\u001b[m\u001b[m \u001b[34mvenv\u001b[m\u001b[m\r\n",
      "\u001b[34mDesktop\u001b[m\u001b[m      \u001b[34mMovies\u001b[m\u001b[m       \u001b[34mPublic\u001b[m\u001b[m       \u001b[34mhtml\u001b[m\u001b[m         \u001b[34mslider\u001b[m\u001b[m       \u001b[34mxgboost\u001b[m\u001b[m\r\n",
      "\u001b[34mDocuments\u001b[m\u001b[m    \u001b[34mMusic\u001b[m\u001b[m        \u001b[34mR\u001b[m\u001b[m            \u001b[35mminced\u001b[m\u001b[m       \u001b[34mtarget\u001b[m\u001b[m\r\n"
     ]
    }
   ],
   "source": [
    "%cd ~\n",
    "!ls"
   ]
  },
  {
   "cell_type": "code",
   "execution_count": 26,
   "metadata": {
    "scrolled": true
   },
   "outputs": [
    {
     "name": "stdout",
     "output_type": "stream",
     "text": [
      "\u001b[34mApplications\u001b[m\u001b[m/ \u001b[34mIdeaProjects\u001b[m\u001b[m/ \u001b[34mPostman\u001b[m\u001b[m/      \u001b[34mhtml\u001b[m\u001b[m/         \u001b[34mtarget\u001b[m\u001b[m/\r\n",
      "\u001b[34mArcanist\u001b[m\u001b[m/     \u001b[34mLibrary\u001b[m\u001b[m/      \u001b[34mPublic\u001b[m\u001b[m/       \u001b[35mminced\u001b[m\u001b[m@       \u001b[34mtemp\u001b[m\u001b[m/\r\n",
      "\u001b[34mCodeForces\u001b[m\u001b[m/   \u001b[34mMovies\u001b[m\u001b[m/       \u001b[34mR\u001b[m\u001b[m/            \u001b[34mproject\u001b[m\u001b[m/      \u001b[34mtmp\u001b[m\u001b[m/\r\n",
      "\u001b[34mDesktop\u001b[m\u001b[m/      \u001b[34mMusic\u001b[m\u001b[m/        \u001b[34mSublime\u001b[m\u001b[m/      \u001b[34mpython\u001b[m\u001b[m/       \u001b[34mvenv\u001b[m\u001b[m/\r\n",
      "\u001b[34mDocuments\u001b[m\u001b[m/    \u001b[34mNotebooks\u001b[m\u001b[m/    \u001b[34mUCSD\u001b[m\u001b[m/         \u001b[34mseaborn-data\u001b[m\u001b[m/ \u001b[34mxgboost\u001b[m\u001b[m/\r\n",
      "\u001b[34mDownloads\u001b[m\u001b[m/    \u001b[34mPictures\u001b[m\u001b[m/     \u001b[34manaconda3\u001b[m\u001b[m/    \u001b[34mslider\u001b[m\u001b[m/\r\n"
     ]
    }
   ],
   "source": [
    "!ls -F"
   ]
  },
  {
   "cell_type": "code",
   "execution_count": 27,
   "metadata": {},
   "outputs": [
    {
     "name": "stdout",
     "output_type": "stream",
     "text": [
      "drwx------@  6 suggu  staff   192 Sep 12 04:32 \u001b[34mDocuments\u001b[m\u001b[m\r\n",
      "drwx------+ 42 suggu  staff  1344 Sep 20 17:00 \u001b[34mDownloads\u001b[m\u001b[m\r\n",
      "drwx------@ 23 suggu  staff   736 Sep 23 08:50 \u001b[34mDesktop\u001b[m\u001b[m\r\n"
     ]
    }
   ],
   "source": [
    "!ls -ldrt D*"
   ]
  },
  {
   "cell_type": "code",
   "execution_count": 33,
   "metadata": {},
   "outputs": [
    {
     "name": "stdout",
     "output_type": "stream",
     "text": [
      "anaconda3/bin: directory\r\n"
     ]
    }
   ],
   "source": [
    "# Find out type of file\n",
    "# Here we are usning file path anaconda3/bin. Use any file path () here, no need to be same as this.  \n",
    "!file anaconda3/bin"
   ]
  },
  {
   "cell_type": "markdown",
   "metadata": {},
   "source": [
    "## Navigating file paths"
   ]
  },
  {
   "cell_type": "code",
   "execution_count": 34,
   "metadata": {},
   "outputs": [
    {
     "name": "stdout",
     "output_type": "stream",
     "text": [
      "/Users/suggu\r\n"
     ]
    }
   ],
   "source": [
    "# pwd identifies the current working directory\n",
    "!pwd"
   ]
  },
  {
   "cell_type": "code",
   "execution_count": 35,
   "metadata": {},
   "outputs": [
    {
     "name": "stdout",
     "output_type": "stream",
     "text": [
      "ls: /home/ubuntu: No such file or directory\r\n"
     ]
    }
   ],
   "source": [
    "# /home/ubuntu is the home directory of the user \"ubuntu\" that is - you!\n",
    "!ls -lrt /home/ubuntu"
   ]
  },
  {
   "cell_type": "code",
   "execution_count": 36,
   "metadata": {},
   "outputs": [
    {
     "name": "stdout",
     "output_type": "stream",
     "text": [
      "/Users/suggu\n"
     ]
    }
   ],
   "source": [
    "# A shorthand for the home directory of the current user is \"~\"\n",
    "%cd ~"
   ]
  },
  {
   "cell_type": "code",
   "execution_count": 37,
   "metadata": {},
   "outputs": [
    {
     "name": "stdout",
     "output_type": "stream",
     "text": [
      "[Errno 2] No such file or directory: '/Users/suggu/logs/'\n",
      "/Users/suggu\n",
      "/Users/suggu\r\n"
     ]
    }
   ],
   "source": [
    "# !cd causes unix to move to a different directory, but leaves python behind\n",
    "%cd ~/logs/\n",
    "!pwd"
   ]
  },
  {
   "cell_type": "code",
   "execution_count": 38,
   "metadata": {},
   "outputs": [
    {
     "name": "stdout",
     "output_type": "stream",
     "text": [
      "[Errno 2] No such file or directory: '/Users/suggu/logs/'\n",
      "/Users/suggu\n"
     ]
    }
   ],
   "source": [
    "# To actually change the directory use the magic %cd, which actually moves us and reports where we landed\n",
    "%cd ~/logs/"
   ]
  },
  {
   "cell_type": "markdown",
   "metadata": {},
   "source": [
    "Some useful shorthands for navigating directories\n",
    "* **~** home directory of current user\n",
    "* **~john** home directory of the user \"john\"\n",
    "* **.** the current directory\n",
    "* **..** the parent directory of the current directory.\n"
   ]
  },
  {
   "cell_type": "code",
   "execution_count": 39,
   "metadata": {},
   "outputs": [
    {
     "name": "stdout",
     "output_type": "stream",
     "text": [
      "[Errno 2] No such file or directory: '/Users/suggu/data'\n",
      "/Users/suggu\n",
      "!ls -F\n",
      "\u001b[34mApplications\u001b[m\u001b[m/ \u001b[34mIdeaProjects\u001b[m\u001b[m/ \u001b[34mPostman\u001b[m\u001b[m/      \u001b[34mhtml\u001b[m\u001b[m/         \u001b[34mtarget\u001b[m\u001b[m/\n",
      "\u001b[34mArcanist\u001b[m\u001b[m/     \u001b[34mLibrary\u001b[m\u001b[m/      \u001b[34mPublic\u001b[m\u001b[m/       \u001b[35mminced\u001b[m\u001b[m@       \u001b[34mtemp\u001b[m\u001b[m/\n",
      "\u001b[34mCodeForces\u001b[m\u001b[m/   \u001b[34mMovies\u001b[m\u001b[m/       \u001b[34mR\u001b[m\u001b[m/            \u001b[34mproject\u001b[m\u001b[m/      \u001b[34mtmp\u001b[m\u001b[m/\n",
      "\u001b[34mDesktop\u001b[m\u001b[m/      \u001b[34mMusic\u001b[m\u001b[m/        \u001b[34mSublime\u001b[m\u001b[m/      \u001b[34mpython\u001b[m\u001b[m/       \u001b[34mvenv\u001b[m\u001b[m/\n",
      "\u001b[34mDocuments\u001b[m\u001b[m/    \u001b[34mNotebooks\u001b[m\u001b[m/    \u001b[34mUCSD\u001b[m\u001b[m/         \u001b[34mseaborn-data\u001b[m\u001b[m/ \u001b[34mxgboost\u001b[m\u001b[m/\n",
      "\u001b[34mDownloads\u001b[m\u001b[m/    \u001b[34mPictures\u001b[m\u001b[m/     \u001b[34manaconda3\u001b[m\u001b[m/    \u001b[34mslider\u001b[m\u001b[m/\n",
      "!ls ../\n",
      "\u001b[34mGuest\u001b[m\u001b[m  \u001b[30m\u001b[42mShared\u001b[m\u001b[m \u001b[34msuggu\u001b[m\u001b[m\n"
     ]
    }
   ],
   "source": [
    "%cd ~/data\n",
    "print(\"!ls -F\")\n",
    "!ls -F\n",
    "print(\"!ls ../\")\n",
    "!ls ../"
   ]
  },
  {
   "cell_type": "markdown",
   "metadata": {},
   "source": [
    "### Symbolic links"
   ]
  },
  {
   "cell_type": "code",
   "execution_count": 40,
   "metadata": {
    "scrolled": true
   },
   "outputs": [
    {
     "name": "stdout",
     "output_type": "stream",
     "text": [
      "[Errno 2] No such file or directory: '../data/'\n",
      "/Users/suggu\n",
      "\u001b[35mminced\u001b[m\u001b[m\n",
      "\n",
      "Applications:\n",
      "\u001b[34mChrome Apps.localized\u001b[m\u001b[m\n",
      "\n",
      "Arcanist:\n",
      "\u001b[34marcanist\u001b[m\u001b[m  \u001b[34mlibphutil\u001b[m\u001b[m\n",
      "\n",
      "CodeForces:\n",
      "1065_A.cpp 1066_A.cpp\n",
      "\n",
      "Desktop:\n",
      "Screen Shot 2019-07-12 at 2.35.08 PM.png\n",
      "Screen Shot 2019-08-13 at 10.19.24 AM.png\n",
      "Screen Shot 2019-08-13 at 10.22.14 AM.png\n",
      "Screen Shot 2019-08-13 at 9.48.00 AM.png\n",
      "Screen Shot 2019-08-14 at 11.10.49 AM.png\n",
      "Screen Shot 2019-08-15 at 6.43.41 AM.png\n",
      "Screen Shot 2019-08-15 at 7.35.56 AM.png\n",
      "Screen Shot 2019-08-19 at 11.22.32 AM.png\n",
      "Screen Shot 2019-08-24 at 1.06.03 PM.png\n",
      "Screen Shot 2019-08-27 at 6.03.05 AM.png\n",
      "Screen Shot 2019-08-29 at 3.04.36 PM.png\n",
      "Screen Shot 2019-09-02 at 4.08.44 PM.png\n",
      "Screen Shot 2019-09-03 at 12.07.53 PM.png\n",
      "Screen Shot 2019-09-03 at 12.09.27 PM.png\n",
      "Screen Shot 2019-09-04 at 1.44.06 PM.png\n",
      "Screen Shot 2019-09-06 at 8.58.11 PM.png\n",
      "Screen Shot 2019-09-09 at 10.10.05 AM.png\n",
      "Screen Shot 2019-09-09 at 10.12.47 AM.png\n",
      "Screen Shot 2019-09-23 at 8.50.21 AM.png\n",
      "\n",
      "Documents:\n",
      "Expenses.numbers \u001b[34mZoom\u001b[m\u001b[m\n",
      "\n",
      "Downloads:\n",
      "1906.01906.pdf\n",
      "1906.05433.pdf\n",
      "20190906-statements-6377-.pdf\n",
      "\u001b[34mAirWatch\u001b[m\u001b[m\n",
      "\u001b[34mApplication\u001b[m\u001b[m\n",
      "Bad Blood [John Carreyrou].mobi\n",
      "Bad Blood [John Carreyrou].mobi.epub\n",
      "\u001b[34mBank docs\u001b[m\u001b[m\n",
      "\u001b[34mBooks\u001b[m\u001b[m\n",
      "DSC_0050.JPG\n",
      "\u001b[34mDesktop\u001b[m\u001b[m\n",
      "\u001b[34mDocs\u001b[m\u001b[m\n",
      "I94_sai_akhil_suggu.pdf\n",
      "\u001b[34mIELTS\u001b[m\u001b[m\n",
      "\u001b[34mImages\u001b[m\u001b[m\n",
      "\u001b[34mInstallers\u001b[m\u001b[m\n",
      "\u001b[34mIntern\u001b[m\u001b[m\n",
      "Modelling Churn.py\n",
      "ModernC.pdf\n",
      "\u001b[34mPemFiles\u001b[m\u001b[m\n",
      "\u001b[34mReadDocs\u001b[m\u001b[m\n",
      "Sai Suggu - Exit Checklist - Google Docs.pdf\n",
      "\u001b[34mSlides\u001b[m\u001b[m\n",
      "Suggu_Sai_Appointment_Letter_-_Data_Science_and_Engineering_FA19.pdf\n",
      "\u001b[34mSummer School 2018\u001b[m\u001b[m\n",
      "\u001b[34mTickets\u001b[m\u001b[m\n",
      "UAE visa cancellation and exit_SaiAkhilSuggu.pdf\n",
      "\u001b[34mWorkSpace\u001b[m\u001b[m\n",
      "code.zip\n",
      "\u001b[34mmisc\u001b[m\u001b[m\n",
      "notebooks.tar\n",
      "\u001b[34mphilosophy_nimit\u001b[m\u001b[m\n",
      "\u001b[34msai_akhil_suggu_90382229.zip\u001b[m\u001b[m\n",
      "\u001b[34mucsd_docs\u001b[m\u001b[m\n",
      "\u001b[34mverification\u001b[m\u001b[m\n",
      "\u001b[34mvisa_docs\u001b[m\u001b[m\n",
      "\u001b[34mvisa_docs_sai_akhil_suggu\u001b[m\u001b[m\n",
      "\u001b[34myes bank docs\u001b[m\u001b[m\n",
      "\n",
      "IdeaProjects:\n",
      "\u001b[34mAttributionModel\u001b[m\u001b[m                 \u001b[34manalysis\u001b[m\u001b[m\n",
      "\u001b[34mCaptainCashLimit\u001b[m\u001b[m                 \u001b[34mcampaign_assesment_analysis\u001b[m\u001b[m\n",
      "CaptainCashLimit.zip             \u001b[34mcct_clustering\u001b[m\u001b[m\n",
      "\u001b[34mConversionRate\u001b[m\u001b[m                   \u001b[34mcustomer_cancellation_analysis\u001b[m\u001b[m\n",
      "\u001b[34mDropSuggestion\u001b[m\u001b[m                   \u001b[34mdatascience-ab_testing\u001b[m\u001b[m\n",
      "\u001b[34mForSetup\u001b[m\u001b[m                         \u001b[34mdatascience-knowledge_repository\u001b[m\u001b[m\n",
      "\u001b[34mFunctionApproximator\u001b[m\u001b[m             \u001b[34mdsa\u001b[m\u001b[m\n",
      "\u001b[34mIRIS\u001b[m\u001b[m                             \u001b[34mknowledge-repo\u001b[m\u001b[m\n",
      "\u001b[34mLTV\u001b[m\u001b[m                              \u001b[34moptimus\u001b[m\u001b[m\n",
      "\u001b[34mSawa\u001b[m\u001b[m                             \u001b[34mpeak-algorithms\u001b[m\u001b[m\n",
      "Sawa.zip                         \u001b[34mpeak_sde_scheduled\u001b[m\u001b[m\n",
      "\u001b[34mSharePricingV2\u001b[m\u001b[m                   \u001b[34mpricing_component_optimisation\u001b[m\u001b[m\n",
      "\u001b[34mZeppelinNotebooks\u001b[m\u001b[m                \u001b[34myoda-feature-engineering\u001b[m\u001b[m\n",
      "\u001b[34mallocation\u001b[m\u001b[m                       \u001b[34myoda-trainer\u001b[m\u001b[m\n",
      "\u001b[34manalyses\u001b[m\u001b[m\n",
      "\n",
      "Library:\n",
      "\u001b[34mAccounts\u001b[m\u001b[m                \u001b[34mGameKit\u001b[m\u001b[m                 \u001b[34mPersonalizationPortrait\u001b[m\u001b[m\n",
      "\u001b[34mApplication Scripts\u001b[m\u001b[m     \u001b[34mGoogle\u001b[m\u001b[m                  \u001b[34mPreferencePanes\u001b[m\u001b[m\n",
      "\u001b[34mApplication Support\u001b[m\u001b[m     \u001b[34mGroup Containers\u001b[m\u001b[m        \u001b[34mPreferences\u001b[m\u001b[m\n",
      "\u001b[34mAssistant\u001b[m\u001b[m               \u001b[34mHomeKit\u001b[m\u001b[m                 \u001b[34mPrinters\u001b[m\u001b[m\n",
      "\u001b[34mAssistants\u001b[m\u001b[m              \u001b[34mIdentityServices\u001b[m\u001b[m        \u001b[34mPubSub\u001b[m\u001b[m\n",
      "\u001b[34mAudio\u001b[m\u001b[m                   \u001b[34mInput Methods\u001b[m\u001b[m           \u001b[34mReceipts\u001b[m\u001b[m\n",
      "\u001b[34mCaches\u001b[m\u001b[m                  \u001b[34mInternet Plug-Ins\u001b[m\u001b[m       \u001b[34mSafari\u001b[m\u001b[m\n",
      "\u001b[34mCalendars\u001b[m\u001b[m               \u001b[34mJupyter\u001b[m\u001b[m                 \u001b[34mSafariSafeBrowsing\u001b[m\u001b[m\n",
      "\u001b[34mCallServices\u001b[m\u001b[m            \u001b[34mKeyboard\u001b[m\u001b[m                \u001b[34mSaved Application State\u001b[m\u001b[m\n",
      "\u001b[34mColorPickers\u001b[m\u001b[m            \u001b[34mKeyboard Layouts\u001b[m\u001b[m        \u001b[34mScreen Savers\u001b[m\u001b[m\n",
      "\u001b[34mColors\u001b[m\u001b[m                  \u001b[34mKeyboardServices\u001b[m\u001b[m        \u001b[34mServices\u001b[m\u001b[m\n",
      "\u001b[34mCompositions\u001b[m\u001b[m            \u001b[34mKeychains\u001b[m\u001b[m               \u001b[34mSharing\u001b[m\u001b[m\n",
      "\u001b[34mContainers\u001b[m\u001b[m              \u001b[34mLanguageModeling\u001b[m\u001b[m        \u001b[34mSounds\u001b[m\u001b[m\n",
      "\u001b[34mCookies\u001b[m\u001b[m                 \u001b[34mLaunchAgents\u001b[m\u001b[m            \u001b[34mSpelling\u001b[m\u001b[m\n",
      "\u001b[34mCoreFollowUp\u001b[m\u001b[m            \u001b[34mLogs\u001b[m\u001b[m                    \u001b[34mSuggestions\u001b[m\u001b[m\n",
      "\u001b[34mDictionaries\u001b[m\u001b[m            \u001b[34mMail\u001b[m\u001b[m                    \u001b[34mSyncedPreferences\u001b[m\u001b[m\n",
      "\u001b[34mFamily\u001b[m\u001b[m                  \u001b[34mMaps\u001b[m\u001b[m                    \u001b[34mVoiceTrigger\u001b[m\u001b[m\n",
      "\u001b[34mFavorites\u001b[m\u001b[m               \u001b[34mMessages\u001b[m\u001b[m                \u001b[34mVoices\u001b[m\u001b[m\n",
      "\u001b[34mFileProvider\u001b[m\u001b[m            \u001b[34mMetadata\u001b[m\u001b[m                \u001b[34mWebKit\u001b[m\u001b[m\n",
      "\u001b[34mFontCollections\u001b[m\u001b[m         \u001b[34mMobile Documents\u001b[m\u001b[m        \u001b[34mcom.apple.internal.ck\u001b[m\u001b[m\n",
      "\u001b[34mFonts\u001b[m\u001b[m                   \u001b[34mNews\u001b[m\u001b[m                    \u001b[34miMovie\u001b[m\u001b[m\n",
      "\u001b[34mFrontBoard\u001b[m\u001b[m              \u001b[34mPasses\u001b[m\u001b[m                  \u001b[34mstudentd\u001b[m\u001b[m\n",
      "\n",
      "Movies:\n",
      "\n",
      "Music:\n",
      "ASP Mattias explanation I.mp4 T39-piano-8k.wav\n",
      "Stairway To Heaven.mp3        T39-piano.wav\n",
      "Strummed Acoustic 04_mono.wav cowbell.wav\n",
      "T08-violin-8k.wav             drums_synt-8k.wav\n",
      "T08-violin.wav                drums_synt.wav\n",
      "T37-vibraphone-8k.wav         \u001b[34miTunes\u001b[m\u001b[m\n",
      "T37-vibraphone.wav            simpleLoop.wav\n",
      "\n",
      "Notebooks:\n",
      "1.1.0-riyadh-171-20190704-prod-notebook.html\n",
      "\u001b[34mAB_test_plots\u001b[m\u001b[m\n",
      "\u001b[34mCareem\u001b[m\u001b[m\n",
      "\u001b[34mExploration\u001b[m\u001b[m\n",
      "\u001b[34mPlotting\u001b[m\u001b[m\n",
      "\u001b[34mPython Learning\u001b[m\u001b[m\n",
      "Understanding geo distribution.ipynb\n",
      "catboost_tutorial.ipynb\n",
      "\u001b[34mmaintenance\u001b[m\u001b[m\n",
      "temp.ipynb\n",
      "\n",
      "Pictures:\n",
      "45659961_746324599067984_2250804223086166016_o.jpg\n",
      "Screen Shot 2019-04-26 at 2.09.46 PM.png\n",
      "\n",
      "Postman:\n",
      "\u001b[34mfiles\u001b[m\u001b[m\n",
      "\n",
      "Public:\n",
      "\u001b[30m\u001b[43mDrop Box\u001b[m\u001b[m\n",
      "\n",
      "R:\n",
      "script_1.R script_2.R\n",
      "\n",
      "Sublime:\n",
      "1036_A.cpp                        1065_A.cpp\n",
      "1036_B.cpp                        1066_A.cpp\n",
      "1038_A.cpp                        Captain_data.scala\n",
      "1040_A.cpp                        algorithm_switcher_function.r\n",
      "1041_B.cpp                        algorithm_switcher_function_js.js\n",
      "1042_A.cpp                        app_sessions.scala\n",
      "1045_H.cpp                        dash_app\n",
      "1047_A.cpp                        debarya_job.scala\n",
      "1059_A.cpp                        recent.json\n",
      "1060_A.cpp                        sublime_explore.sublime-project\n",
      "1064_A                            sublime_explore.sublime-workspace\n",
      "1064_A.cpp\n",
      "\n",
      "UCSD:\n",
      "\u001b[34mdse\u001b[m\u001b[m\n",
      "\n",
      "anaconda3:\n",
      "\u001b[34mAnaconda-Navigator.app\u001b[m\u001b[m             \u001b[34mphrasebooks\u001b[m\u001b[m\n",
      "README.rst                         \u001b[34mpkgs\u001b[m\u001b[m\n",
      "\u001b[34mbin\u001b[m\u001b[m                                \u001b[34mplugins\u001b[m\u001b[m\n",
      "\u001b[34mconda-meta\u001b[m\u001b[m                         \u001b[34mpython.app\u001b[m\u001b[m\n",
      "\u001b[34mdoc\u001b[m\u001b[m                                \u001b[34mqml\u001b[m\u001b[m\n",
      "\u001b[34metc\u001b[m\u001b[m                                \u001b[34mresources\u001b[m\u001b[m\n",
      "\u001b[34minclude\u001b[m\u001b[m                            \u001b[34msbin\u001b[m\u001b[m\n",
      "\u001b[34mlib\u001b[m\u001b[m                                \u001b[34mshare\u001b[m\u001b[m\n",
      "\u001b[34mlibexec\u001b[m\u001b[m                            \u001b[34mssl\u001b[m\u001b[m\n",
      "\u001b[34mman\u001b[m\u001b[m                                \u001b[34mtranslations\u001b[m\u001b[m\n",
      "\u001b[34mmkspecs\u001b[m\u001b[m                            \u001b[34mvar\u001b[m\u001b[m\n",
      "org.freedesktop.dbus-session.plist\n",
      "\n",
      "html:\n",
      "\u001b[34mslider\u001b[m\u001b[m\n",
      "\n",
      "project:\n",
      "build.properties \u001b[34mtarget\u001b[m\u001b[m\n",
      "\n",
      "python:\n",
      "Iraq_customer_cancellation_analyis.ipynb\n",
      "\u001b[34mexplore\u001b[m\u001b[m\n",
      "\u001b[34mvenv_check\u001b[m\u001b[m\n",
      "\u001b[34mwebcrawling\u001b[m\u001b[m\n",
      "\n",
      "seaborn-data:\n",
      "iris.csv    titanic.csv\n",
      "\n",
      "slider:\n",
      "\n",
      "target:\n",
      "\n",
      "temp:\n",
      "columns       new_columns   new_columns_2 new_columns_3\n",
      "\n",
      "tmp:\n",
      "file0 file1 file2 file3 file4 file5 file6 file7 file8 file9\n",
      "\n",
      "venv:\n",
      "\u001b[34mbin\u001b[m\u001b[m                \u001b[34minclude\u001b[m\u001b[m            \u001b[34mlib\u001b[m\u001b[m                pip-selfcheck.json\n",
      "\n",
      "xgboost:\n",
      "CITATION               \u001b[34mamalgamation\u001b[m\u001b[m           \u001b[34minclude\u001b[m\u001b[m\n",
      "CMakeLists.txt         appveyor.yml           \u001b[34mjvm-packages\u001b[m\u001b[m\n",
      "CONTRIBUTORS.md        \u001b[34mbuild\u001b[m\u001b[m                  \u001b[34mlib\u001b[m\u001b[m\n",
      "Jenkinsfile            \u001b[31mbuild.sh\u001b[m\u001b[m               \u001b[34mmake\u001b[m\u001b[m\n",
      "Jenkinsfile-restricted \u001b[34mcmake\u001b[m\u001b[m                  \u001b[34mplugin\u001b[m\u001b[m\n",
      "LICENSE                config.mk              \u001b[34mpython-package\u001b[m\u001b[m\n",
      "Makefile               \u001b[34mcub\u001b[m\u001b[m                    \u001b[34mrabit\u001b[m\u001b[m\n",
      "NEWS.md                \u001b[34mdemo\u001b[m\u001b[m                   \u001b[34msrc\u001b[m\u001b[m\n",
      "\u001b[34mR-package\u001b[m\u001b[m              \u001b[34mdmlc-core\u001b[m\u001b[m              \u001b[34mtests\u001b[m\u001b[m\n",
      "README.md              \u001b[34mdoc\u001b[m\u001b[m                    \u001b[31mxgboost\u001b[m\u001b[m\n"
     ]
    }
   ],
   "source": [
    "# \"scripts\" and \"data\" are not actual directories, rather they are symbolic links to directories\n",
    "%cd ../data/\n",
    "!ls *"
   ]
  },
  {
   "cell_type": "code",
   "execution_count": 47,
   "metadata": {},
   "outputs": [
    {
     "name": "stdout",
     "output_type": "stream",
     "text": [
      "/Users/suggu\n",
      "lrwxr-xr-x  1 suggu  staff  64 Sep 24 10:22 \u001b[35mminced\u001b[m\u001b[m -> /Users/suggu/UCSD/dse/dse-200/dse200-notebooks/data/NLTK/Chopped\n",
      "  669  681 received ''\n"
     ]
    }
   ],
   "source": [
    "# Symbolic links are created by the command \"ln -s\" \n",
    "# Here we create a link from the home directory to the directory DSE200/data/NLTK/Chopped\n",
    "# Use DSE 200 folder instead of just dse200-notebooks. In my case, it is ~/UCSD/dse/dse-200/dse200-notebooks\n",
    "%cd ~\n",
    "!ln -s dse200-notebooks/data/NLTK/Chopped minced\n",
    "!ls -l minced\n",
    "# the unix command \"cat\" prints out the contents of a file.\n",
    "!cat minced/F0"
   ]
  },
  {
   "cell_type": "code",
   "execution_count": 48,
   "metadata": {},
   "outputs": [
    {
     "name": "stdout",
     "output_type": "stream",
     "text": [
      "/Users/suggu/UCSD/dse/dse-200/dse200-notebooks/data/NLTK/Chopped\n",
      "/Users/suggu/UCSD/dse/dse-200/dse200-notebooks/data/NLTK/Chopped\r\n"
     ]
    }
   ],
   "source": [
    "%cd minced/\n",
    "!pwd"
   ]
  },
  {
   "cell_type": "markdown",
   "metadata": {},
   "source": [
    "### Creating files and directories"
   ]
  },
  {
   "cell_type": "code",
   "execution_count": 49,
   "metadata": {},
   "outputs": [
    {
     "name": "stdout",
     "output_type": "stream",
     "text": [
      "mkdir: /Users/suggu/tmp: File exists\n",
      "/Users/suggu/tmp\n",
      "file0 file1 file2 file3 file4 file5 file6 file7 file8 file9\n"
     ]
    }
   ],
   "source": [
    "# to create a directory, use `mkdir`\n",
    "!mkdir ~/tmp\n",
    "%cd ~/tmp\n",
    "!ls"
   ]
  },
  {
   "cell_type": "code",
   "execution_count": 50,
   "metadata": {},
   "outputs": [
    {
     "name": "stdout",
     "output_type": "stream",
     "text": [
      "total 0\r\n",
      "-rw-r--r--  1 suggu  staff  0 Sep 24 10:23 file0\r\n",
      "-rw-r--r--  1 suggu  staff  0 Sep 24 10:23 file1\r\n",
      "-rw-r--r--  1 suggu  staff  0 Sep 24 10:23 file2\r\n",
      "-rw-r--r--  1 suggu  staff  0 Sep 24 10:23 file3\r\n",
      "-rw-r--r--  1 suggu  staff  0 Sep 24 10:23 file4\r\n",
      "-rw-r--r--  1 suggu  staff  0 Sep 24 10:23 file5\r\n",
      "-rw-r--r--  1 suggu  staff  0 Sep 24 10:23 file6\r\n",
      "-rw-r--r--  1 suggu  staff  0 Sep 24 10:23 file7\r\n",
      "-rw-r--r--  1 suggu  staff  0 Sep 24 10:23 file8\r\n",
      "-rw-r--r--  1 suggu  staff  0 Sep 24 10:23 file9\r\n"
     ]
    }
   ],
   "source": [
    "# to create a file or update the time-stamp of the file use `touch`\n",
    "for i in range(10):\n",
    "    !touch file$i\n",
    "!ls -l"
   ]
  },
  {
   "cell_type": "markdown",
   "metadata": {},
   "source": [
    "### Moving and copying files"
   ]
  },
  {
   "cell_type": "code",
   "execution_count": 51,
   "metadata": {},
   "outputs": [
    {
     "name": "stdout",
     "output_type": "stream",
     "text": [
      "/Users/suggu/tmp\n",
      "file0 file1 file2 file3 file4 file5 file6 file7 file8 file9\r\n"
     ]
    }
   ],
   "source": [
    "%cd ~/tmp\n",
    "!ls"
   ]
  },
  {
   "cell_type": "code",
   "execution_count": 53,
   "metadata": {},
   "outputs": [
    {
     "name": "stdout",
     "output_type": "stream",
     "text": [
      "[Errno 2] No such file or directory: '/Users/suggu/dse-200/dse200-notebooks/data/NLTK/Chopped/'\n",
      "/Users/suggu/tmp\n",
      "file0 file1 file2 file3 file4 file5 file6 file7 file8 file9\r\n"
     ]
    }
   ],
   "source": [
    "# Use dse 200 notebooks path, instead of ~/dse-200/dse200-notebooks\n",
    "%cd ~/dse-200/dse200-notebooks/data/NLTK/Chopped/\n",
    "!ls"
   ]
  },
  {
   "cell_type": "code",
   "execution_count": 54,
   "metadata": {},
   "outputs": [
    {
     "name": "stdout",
     "output_type": "stream",
     "text": [
      "cat: F138: No such file or directory\r\n"
     ]
    }
   ],
   "source": [
    "!cat F138"
   ]
  },
  {
   "cell_type": "code",
   "execution_count": 55,
   "metadata": {},
   "outputs": [
    {
     "name": "stdout",
     "output_type": "stream",
     "text": [
      "cp: F87: No such file or directory\n",
      "cp: F87: No such file or directory\n",
      "ls: F87: No such file or directory\n",
      "tmp:\n"
     ]
    }
   ],
   "source": [
    "\n",
    "# cp copies a file to a new location, maintaining the original copy\n",
    "!mkdir tmp\n",
    "!cp F87 tmp   # copy a file to a new location, maintaining the name\n",
    "!cp F87 tmp/newname # copy a file to a new location + name\n",
    "!ls -l F87 tmp"
   ]
  },
  {
   "cell_type": "code",
   "execution_count": 58,
   "metadata": {},
   "outputs": [],
   "source": [
    "In?"
   ]
  },
  {
   "cell_type": "code",
   "execution_count": 59,
   "metadata": {},
   "outputs": [],
   "source": [
    "# you can also copy a whole directory and all it's subdirectories\n",
    "#!cp -r tmp newtmp\n",
    "!ls tmp/"
   ]
  },
  {
   "cell_type": "code",
   "execution_count": 60,
   "metadata": {},
   "outputs": [
    {
     "name": "stdout",
     "output_type": "stream",
     "text": [
      "mv: rename newtmp to tmp/newtmp: No such file or directory\n",
      "ls: tmp/*: No such file or directory\n"
     ]
    }
   ],
   "source": [
    "# mv moves a file, or a whole directory, to a new location or a new name.\n",
    "# it just manipulates pointers, so it is much faster than copy. (similar to \n",
    "# the difference between deep and shallow copy in python)\n",
    "!mv newtmp tmp # move directory to a new location\n",
    "!ls tmp/*"
   ]
  },
  {
   "cell_type": "code",
   "execution_count": 61,
   "metadata": {},
   "outputs": [
    {
     "name": "stdout",
     "output_type": "stream",
     "text": [
      "mv: rename tmp/newname to tmp/newername: No such file or directory\n",
      "ls: tmp/*: No such file or directory\n"
     ]
    }
   ],
   "source": [
    "# mv file or directory to a new name (=rename)\n",
    "!mv tmp/newname tmp/newername\n",
    "!ls tmp/*"
   ]
  },
  {
   "cell_type": "code",
   "execution_count": 62,
   "metadata": {},
   "outputs": [],
   "source": [
    "#cleanup\n",
    "!rm -r tmp"
   ]
  },
  {
   "cell_type": "markdown",
   "metadata": {},
   "source": [
    "### Removing files and directories"
   ]
  },
  {
   "cell_type": "code",
   "execution_count": 63,
   "metadata": {},
   "outputs": [
    {
     "name": "stdout",
     "output_type": "stream",
     "text": [
      "total 0\r\n",
      "-rw-r--r--  1 suggu  staff  0 Sep 24 10:23 file0\r\n",
      "-rw-r--r--  1 suggu  staff  0 Sep 24 10:23 file2\r\n",
      "-rw-r--r--  1 suggu  staff  0 Sep 24 10:23 file4\r\n",
      "-rw-r--r--  1 suggu  staff  0 Sep 24 10:23 file6\r\n",
      "-rw-r--r--  1 suggu  staff  0 Sep 24 10:23 file8\r\n"
     ]
    }
   ],
   "source": [
    "\n",
    "# to remove a file use the command `rm`\n",
    "for i in range(1,10,2):\n",
    "    !rm file$i\n",
    "!ls -l"
   ]
  },
  {
   "cell_type": "code",
   "execution_count": 64,
   "metadata": {},
   "outputs": [
    {
     "name": "stdout",
     "output_type": "stream",
     "text": [
      "/Users/suggu\n",
      "ls: tmp: No such file or directory\n"
     ]
    }
   ],
   "source": [
    "# to remove an empry directory, use 'rmdir'\n",
    "# If you want to remove a directory and everything that is in it use `rm -rf`. Note that this\n",
    "# is an irreversible action, it is NOT like moving a file to the trash bin.\n",
    "%cd ~\n",
    "!rm -rf tmp\n",
    "!ls -l tmp"
   ]
  },
  {
   "cell_type": "markdown",
   "metadata": {},
   "source": [
    "### Groups and Unix File Permissions\n",
    "\n",
    "It is often the case that a file should not be readable/writeable by all users of a machine (IE private data, system configuration).  \n",
    "To enforce this there are a number of file properties which UNIX enforces.\n",
    "\n",
    "Each user falls into one of three relationships with the file:\n",
    "\n",
    "* **Owner** - The user who created the file and is able to modify permissions\n",
    "* **Group** - The user is in a the user group assigned to the file (we won't talk about this much)\n",
    "* **World** - Everybody else\n",
    "\n",
    "Each file has three permissions for each of these user sets:\n",
    "\n",
    "* **Read**  - The ability to view the file's contents\n",
    "* **Write** - The ability to modify the file\n",
    "* **Execute** - The ability to run the file (if it is a script or program).  \n",
    "\n",
    "Since there are three user sets and three permissions, there are 9 distinct true/false permissions which can be granted.  Thus each file has 9 bits to define these permissions.\n",
    "\n",
    "#### Viewing permissions\n",
    "\n",
    "To view permissions of a file use the -l option for ls"
   ]
  },
  {
   "cell_type": "code",
   "execution_count": 65,
   "metadata": {},
   "outputs": [
    {
     "name": "stdout",
     "output_type": "stream",
     "text": [
      "/Users/suggu/examples\n",
      "total 0\n",
      "-r--r--r--  1 suggu  staff  0 Sep 24 10:27 AllRead\n",
      "-rwxrwxrwx  1 suggu  staff  0 Sep 24 10:27 \u001b[31mFullPermission\u001b[m\u001b[m\n",
      "----rwx---  1 suggu  staff  0 Sep 24 10:27 \u001b[31mGroupOnly\u001b[m\u001b[m\n",
      "----------  1 suggu  staff  0 Sep 24 10:27 NoPermissions\n",
      "-rwx------  1 suggu  staff  0 Sep 24 10:27 \u001b[31mOwnerOnly\u001b[m\u001b[m\n",
      "-------rwx  1 suggu  staff  0 Sep 24 10:27 \u001b[31mWorldOnly\u001b[m\u001b[m\n",
      "/Users/suggu\n"
     ]
    }
   ],
   "source": [
    "#First we create some files:\n",
    "#Disregard the chmod command for now\n",
    "!mkdir examples\n",
    "%cd examples\n",
    "!touch NoPermissions\n",
    "!chmod 000 NoPermissions \n",
    "!touch AllRead\n",
    "!chmod 444 AllRead \n",
    "!touch FullPermission\n",
    "!chmod 777 FullPermission \n",
    "!touch OwnerOnly\n",
    "!chmod 700 OwnerOnly \n",
    "!touch GroupOnly\n",
    "!chmod 070 GroupOnly \n",
    "!touch WorldOnly\n",
    "!chmod 007 WorldOnly \n",
    "\n",
    "#Now we list the permissions of the files\n",
    "!ls -l\n",
    "\n",
    "#Return to old working directory\n",
    "%cd ../\n"
   ]
  },
  {
   "cell_type": "markdown",
   "metadata": {},
   "source": [
    "In the first column of the output you see dashes for ungranted permissions and letters (r, w, or x) for granted permissions.  \n",
    "\n",
    "Lets break this down:\n",
    "\n",
    "| Bit | Definition |\n",
    "|---|------------------|\n",
    "| 1 | Sticky Bit\\* |\n",
    "| 2 | Owner Read |\n",
    "| 3 | Owner Write |\n",
    "| 4 | Owner Execute |\n",
    "| 5 | Group Read |\n",
    "| 6 | Group Write |\n",
    "| 7 | Group Execute |\n",
    "| 8 | World Read |\n",
    "| 9 | World Write |\n",
    "| 10| World Execute |\n",
    "\n",
    "\\* The sticky bit is a special permission we won't be going into\n",
    "\n",
    "Since you have three groups of three binary permissions, a common way to refer to permissions is via the octal representation of bits 2-10.  This yields a 3 digit octal number with the left most digit being owner permissions, middle digit group permissions, and right most bit the world permissions.\n",
    "\n",
    "For example: -r--rw---x translates to 461 in octal\n",
    "\n",
    "#### Changing Permissions\n",
    "\n",
    "To change permissions, the owner of a file can use the command *chmod*.  The main use case is you specify the octal code of your desired permissions followed by the file name.  For examples of this look at the code we used to create the files above."
   ]
  },
  {
   "cell_type": "markdown",
   "metadata": {},
   "source": [
    "## manual pages"
   ]
  },
  {
   "cell_type": "code",
   "execution_count": 66,
   "metadata": {},
   "outputs": [],
   "source": [
    "%man ls"
   ]
  },
  {
   "cell_type": "markdown",
   "metadata": {},
   "source": [
    "## Exploring the computer"
   ]
  },
  {
   "cell_type": "code",
   "execution_count": 67,
   "metadata": {},
   "outputs": [
    {
     "name": "stdout",
     "output_type": "stream",
     "text": [
      "/bin/sh: lsb_release: command not found\r\n"
     ]
    }
   ],
   "source": [
    "# Find out which version of Ubuntu you are running \n",
    "!lsb_release -a\n",
    "\n",
    "# for mac, use sw_vers"
   ]
  },
  {
   "cell_type": "code",
   "execution_count": 71,
   "metadata": {},
   "outputs": [
    {
     "name": "stdout",
     "output_type": "stream",
     "text": [
      "cat: /proc/cpuinfo: No such file or directory\r\n"
     ]
    }
   ],
   "source": [
    "# find out about the hardware\n",
    "!cat /proc/cpuinfo\n",
    "\n",
    "#for mac use, sysctl -a | grep machdep.cpu"
   ]
  },
  {
   "cell_type": "code",
   "execution_count": 72,
   "metadata": {},
   "outputs": [
    {
     "name": "stdout",
     "output_type": "stream",
     "text": [
      "/bin/sh: free: command not found\r\n"
     ]
    }
   ],
   "source": [
    "# find out how much memory you are using\n",
    "!free -m\n",
    "\n",
    "# for mac use, top -l 1 -s 0 | grep PhysMem | sed 's/, /\\n         /g'"
   ]
  },
  {
   "cell_type": "code",
   "execution_count": 73,
   "metadata": {},
   "outputs": [
    {
     "name": "stdout",
     "output_type": "stream",
     "text": [
      "Filesystem      Size   Used  Avail Capacity iused               ifree %iused  Mounted on\r\n",
      "/dev/disk1s1   233Gi   88Gi  142Gi    39% 1325187 9223372036853450620    0%   /\r\n",
      "devfs          195Ki  195Ki    0Bi   100%     676                   0  100%   /dev\r\n",
      "/dev/disk1s4   233Gi  3.0Gi  142Gi     3%       3 9223372036854775804    0%   /private/var/vm\r\n",
      "map -hosts       0Bi    0Bi    0Bi   100%       0                   0  100%   /net\r\n",
      "map auto_home    0Bi    0Bi    0Bi   100%       0                   0  100%   /home\r\n",
      "/dev/disk2s1   1.1Gi  1.1Gi  1.4Mi   100%   11714          4294955565    0%   /Volumes/IntelliJ IDEA CE\r\n",
      "/dev/disk3     140Mi  140Mi    0Bi   100%       0                   0  100%   /Volumes/Tor Browser\r\n"
     ]
    }
   ],
   "source": [
    "# find out how much disk space you are using\n",
    "!df -h"
   ]
  },
  {
   "cell_type": "code",
   "execution_count": 121,
   "metadata": {},
   "outputs": [
    {
     "name": "stdout",
     "output_type": "stream",
     "text": [
      "/Users/suggu\n",
      "24175208\tLibrary\n",
      "15700672\tanaconda3\n",
      "15012432\tMusic\n",
      "12790256\tDownloads\n",
      "6420632\tIdeaProjects\n",
      "2779312\tNotebooks\n",
      "2212104\tUCSD\n",
      "734176\tvenv\n",
      "124616\txgboost\n",
      "72168\tArcanist\n",
      "48968\tpython\n",
      "13736\tproject\n",
      "10304\tDesktop\n",
      "1688\tPictures\n",
      "1688\tApplications\n",
      "392\tDocuments\n",
      "224\tSublime\n",
      "120\tseaborn-data\n",
      "64\ttemp\n",
      "40\tR\n",
      "32\tCodeForces\n",
      "16\tPublic\n",
      "8\ttarget\n",
      "8\thtml\n",
      "0\tslider\n",
      "0\tminced\n",
      "0\texamples\n",
      "0\tcut55-56\n",
      "0\tPostman\n",
      "0\tMovies\n"
     ]
    }
   ],
   "source": [
    "# some time we want to supress the error messages.\n",
    "# To do that we redirect stderr to a fictitious file called /dev/null\n",
    "# In addition, we can take the output and sort it (numerically, in reverse) according to the size\n",
    "\n",
    "%cd ~\n",
    "!du -s * 2>/dev/null | sort -nr"
   ]
  },
  {
   "cell_type": "code",
   "execution_count": 122,
   "metadata": {},
   "outputs": [
    {
     "name": "stdout",
     "output_type": "stream",
     "text": [
      "/Users/suggu\n",
      "du: Library/Application Support/CallHistoryTransactions: Operation not permitted\n",
      "du: Library/Application Support/com.apple.TCC: Operation not permitted\n",
      "du: Library/Application Support/AddressBook: Operation not permitted\n",
      "du: Library/Application Support/CallHistoryDB: Operation not permitted\n",
      "du: Library/IdentityServices: Operation not permitted\n",
      "du: Library/Calendars: Operation not permitted\n",
      "du: Library/Messages: Operation not permitted\n",
      "du: Library/HomeKit: Operation not permitted\n",
      "du: Library/Mail: Operation not permitted\n",
      "du: Library/Safari: Operation not permitted\n",
      "du: Library/Suggestions: Operation not permitted\n",
      "du: Library/Containers/com.apple.VoiceMemos: Operation not permitted\n",
      "du: Library/Containers/com.apple.Home: Operation not permitted\n",
      "du: Library/Containers/com.apple.Safari: Operation not permitted\n",
      "du: Library/Containers/com.apple.iChat: Operation not permitted\n",
      "du: Library/Containers/com.apple.mail: Operation not permitted\n",
      "du: Library/Containers/com.apple.news: Operation not permitted\n",
      "du: Library/Containers/com.apple.stocks: Operation not permitted\n",
      "du: Library/PersonalizationPortrait: Operation not permitted\n",
      "du: Library/Metadata/CoreSpotlight: Operation not permitted\n",
      "du: Library/Cookies: Operation not permitted\n",
      "du: Library/Caches/com.apple.safaridavclient: Operation not permitted\n",
      "du: Library/Caches/com.apple.HomeKit.configurations: Operation not permitted\n",
      "24175216\tLibrary\n",
      "15700672\tanaconda3\n",
      "15012432\tMusic\n",
      "12790256\tDownloads\n",
      "6420632\tIdeaProjects\n",
      "2779312\tNotebooks\n",
      "2212104\tUCSD\n",
      "734176\tvenv\n",
      "124616\txgboost\n",
      "72168\tArcanist\n",
      "48968\tpython\n",
      "13736\tproject\n",
      "10304\tDesktop\n",
      "1688\tPictures\n",
      "1688\tApplications\n",
      "392\tDocuments\n",
      "224\tSublime\n",
      "120\tseaborn-data\n",
      "64\ttemp\n",
      "40\tR\n",
      "32\tCodeForces\n",
      "16\tPublic\n",
      "8\ttarget\n",
      "8\thtml\n",
      "0\tslider\n",
      "0\tminced\n",
      "0\texamples\n",
      "0\tcut55-56\n",
      "0\tPostman\n",
      "0\tMovies\n"
     ]
    }
   ],
   "source": [
    "#find out which directories consume most of this disk space\n",
    "%cd ~\n",
    "!du -s * | sort -nr"
   ]
  },
  {
   "cell_type": "code",
   "execution_count": null,
   "metadata": {},
   "outputs": [],
   "source": [
    "!ls -a .ipynb_checkpoints/"
   ]
  },
  {
   "cell_type": "code",
   "execution_count": 76,
   "metadata": {},
   "outputs": [
    {
     "name": "stdout",
     "output_type": "stream",
     "text": [
      "584\tanaconda3/Anaconda-Navigator.app\n",
      "8\tanaconda3/README.rst\n",
      "1756880\tanaconda3/bin\n",
      "44624\tanaconda3/conda-meta\n",
      "1056\tanaconda3/doc\n",
      "200\tanaconda3/etc\n",
      "524792\tanaconda3/include\n",
      "7108240\tanaconda3/lib\n",
      "4712\tanaconda3/libexec\n",
      "112\tanaconda3/man\n",
      "4960\tanaconda3/mkspecs\n",
      "8\tanaconda3/org.freedesktop.dbus-session.plist\n",
      "632\tanaconda3/phrasebooks\n",
      "6142888\tanaconda3/pkgs\n",
      "10936\tanaconda3/plugins\n",
      "6896\tanaconda3/python.app\n",
      "7448\tanaconda3/qml\n",
      "0\tanaconda3/resources\n",
      "1640\tanaconda3/sbin\n",
      "84056\tanaconda3/share\n",
      "0\tanaconda3/ssl\n",
      "0\tanaconda3/translations\n",
      "0\tanaconda3/var\n"
     ]
    }
   ],
   "source": [
    "# based on what we see here, we check the directory anaconda3\n",
    "!du -s anaconda3/*"
   ]
  },
  {
   "cell_type": "markdown",
   "metadata": {},
   "source": [
    "## analyzing data\n",
    "head, tail, more, grep, wc, sort, cut (awk)"
   ]
  },
  {
   "cell_type": "code",
   "execution_count": 77,
   "metadata": {},
   "outputs": [
    {
     "name": "stdout",
     "output_type": "stream",
     "text": [
      "[Errno 2] No such file or directory: '/Users/suggu/dse200-notebooks/data/ThinkStatsData/'\n",
      "/Users/suggu\n",
      "\u001b[34mApplications\u001b[m\u001b[m \u001b[34mDownloads\u001b[m\u001b[m    \u001b[34mNotebooks\u001b[m\u001b[m    \u001b[34mSublime\u001b[m\u001b[m      \u001b[35mminced\u001b[m\u001b[m       \u001b[34mtarget\u001b[m\u001b[m\r\n",
      "\u001b[34mArcanist\u001b[m\u001b[m     \u001b[34mIdeaProjects\u001b[m\u001b[m \u001b[34mPictures\u001b[m\u001b[m     \u001b[34mUCSD\u001b[m\u001b[m         \u001b[34mproject\u001b[m\u001b[m      \u001b[34mtemp\u001b[m\u001b[m\r\n",
      "\u001b[34mCodeForces\u001b[m\u001b[m   \u001b[34mLibrary\u001b[m\u001b[m      \u001b[34mPostman\u001b[m\u001b[m      \u001b[34manaconda3\u001b[m\u001b[m    \u001b[34mpython\u001b[m\u001b[m       \u001b[34mvenv\u001b[m\u001b[m\r\n",
      "\u001b[34mDesktop\u001b[m\u001b[m      \u001b[34mMovies\u001b[m\u001b[m       \u001b[34mPublic\u001b[m\u001b[m       \u001b[34mexamples\u001b[m\u001b[m     \u001b[34mseaborn-data\u001b[m\u001b[m \u001b[34mxgboost\u001b[m\u001b[m\r\n",
      "\u001b[34mDocuments\u001b[m\u001b[m    \u001b[34mMusic\u001b[m\u001b[m        \u001b[34mR\u001b[m\u001b[m            \u001b[34mhtml\u001b[m\u001b[m         \u001b[34mslider\u001b[m\u001b[m\r\n"
     ]
    }
   ],
   "source": [
    "# Use DSE 200 folder instead of just dse200-notebooks. In my case, it is ~/UCSD/dse/dse-200/dse200-notebooks\n",
    "%cd ~/dse200-notebooks/data/ThinkStatsData/\n",
    "!ls"
   ]
  },
  {
   "cell_type": "code",
   "execution_count": 78,
   "metadata": {},
   "outputs": [
    {
     "name": "stdout",
     "output_type": "stream",
     "text": [
      "wc: Applications: read: Is a directory\r\n",
      "wc: Arcanist: read: Is a directory\r\n",
      "wc: CodeForces: read: Is a directory\r\n",
      "wc: Desktop: read: Is a directory\r\n",
      "wc: Documents: read: Is a directory\r\n",
      "wc: Downloads: read: Is a directory\r\n",
      "wc: IdeaProjects: read: Is a directory\r\n",
      "wc: Library: read: Is a directory\r\n",
      "wc: Movies: read: Is a directory\r\n",
      "wc: Music: read: Is a directory\r\n",
      "wc: Notebooks: read: Is a directory\r\n",
      "wc: Pictures: read: Is a directory\r\n",
      "wc: Postman: read: Is a directory\r\n",
      "wc: Public: read: Is a directory\r\n",
      "wc: R: read: Is a directory\r\n",
      "wc: Sublime: read: Is a directory\r\n",
      "wc: UCSD: read: Is a directory\r\n",
      "wc: anaconda3: read: Is a directory\r\n",
      "wc: examples: read: Is a directory\r\n",
      "wc: html: read: Is a directory\r\n",
      "wc: minced: read: Is a directory\r\n",
      "wc: project: read: Is a directory\r\n",
      "wc: python: read: Is a directory\r\n",
      "wc: seaborn-data: read: Is a directory\r\n",
      "wc: slider: read: Is a directory\r\n",
      "wc: target: read: Is a directory\r\n",
      "wc: temp: read: Is a directory\r\n",
      "wc: venv: read: Is a directory\r\n",
      "wc: xgboost: read: Is a directory\r\n",
      "       0       0       0 total\r\n"
     ]
    }
   ],
   "source": [
    "# print the number of lines, words and characters in each file\n",
    "!wc *"
   ]
  },
  {
   "cell_type": "code",
   "execution_count": 79,
   "metadata": {},
   "outputs": [
    {
     "name": "stdout",
     "output_type": "stream",
     "text": [
      "head: 2002FemPreg.dat: No such file or directory\r\n"
     ]
    }
   ],
   "source": [
    "# print the first 2 lines of a file\n",
    "!head -2 2002FemPreg.dat"
   ]
  },
  {
   "cell_type": "code",
   "execution_count": 80,
   "metadata": {},
   "outputs": [],
   "source": [
    "## This list of tuples defines the names and locations of the elements.\n",
    "fields=[\n",
    "    ('caseid', 1, 12, int),\n",
    "    ('nbrnaliv', 22, 22, int),\n",
    "    ('babysex', 56, 56, int),\n",
    "    ('birthwgt_lb', 57, 58, int),\n",
    "    ('birthwgt_oz', 59, 60, int),\n",
    "    ('prglength', 275, 276, int),\n",
    "    ('outcome', 277, 277, int),\n",
    "    ('birthord', 278, 279, int),\n",
    "    ('agepreg', 284, 287, int),\n",
    "    ('finalwgt', 423, 440, float),\n",
    "]"
   ]
  },
  {
   "cell_type": "code",
   "execution_count": 81,
   "metadata": {},
   "outputs": [
    {
     "data": {
      "text/plain": [
       "{'caseid': (1, 12, int),\n",
       " 'nbrnaliv': (22, 22, int),\n",
       " 'babysex': (56, 56, int),\n",
       " 'birthwgt_lb': (57, 58, int),\n",
       " 'birthwgt_oz': (59, 60, int),\n",
       " 'prglength': (275, 276, int),\n",
       " 'outcome': (277, 277, int),\n",
       " 'birthord': (278, 279, int),\n",
       " 'agepreg': (284, 287, int),\n",
       " 'finalwgt': (423, 440, float)}"
      ]
     },
     "execution_count": 81,
     "metadata": {},
     "output_type": "execute_result"
    }
   ],
   "source": [
    "## Lets transform it into a dictionary whose keys are the names of the field\n",
    "fields_dict={name:(f,t,typ) for (name,f,t,typ) in fields}\n",
    "fields_dict"
   ]
  },
  {
   "cell_type": "code",
   "execution_count": 82,
   "metadata": {},
   "outputs": [
    {
     "name": "stdout",
     "output_type": "stream",
     "text": [
      "grep: 2002FemPreg.dat: No such file or directory\r\n"
     ]
    }
   ],
   "source": [
    "# print the lines that contain a particular string\n",
    "string='3116'\n",
    "!grep $string 2002FemPreg.dat"
   ]
  },
  {
   "cell_type": "code",
   "execution_count": 83,
   "metadata": {},
   "outputs": [
    {
     "name": "stdout",
     "output_type": "stream",
     "text": [
      "wc: 2002FemPreg.dat: open: No such file or directory\n",
      "grep: 2002FemPreg.dat: No such file or directory\n",
      "       0       0       0\n"
     ]
    }
   ],
   "source": [
    "#suppose we just want to know how many lines have this string inside them.\n",
    "# this is our first use of pipes\n",
    "#the output from grep serves as the input to wc\n",
    "!wc 2002FemPreg.dat\n",
    "!grep $string 2002FemPreg.dat | wc"
   ]
  },
  {
   "cell_type": "code",
   "execution_count": 84,
   "metadata": {},
   "outputs": [],
   "source": [
    "#cut is a command that cuts specific fields from from each line \n",
    "%man cut"
   ]
  },
  {
   "cell_type": "code",
   "execution_count": 86,
   "metadata": {},
   "outputs": [
    {
     "name": "stdout",
     "output_type": "stream",
     "text": [
      "babysex 56 56 55-56\n",
      "cut: 2002FemPreg.dat: No such file or directory\r\n"
     ]
    }
   ],
   "source": [
    "# Extract from each line a specific field\n",
    "field='babysex'\n",
    "(fr,to,typ)=fields_dict[field]\n",
    "Range=str(fr-1)+'-'+str(to)\n",
    "print(field,fr,to,Range)\n",
    "!cut -c $Range 2002FemPreg.dat | head -5"
   ]
  },
  {
   "cell_type": "code",
   "execution_count": 87,
   "metadata": {},
   "outputs": [
    {
     "name": "stdout",
     "output_type": "stream",
     "text": [
      "cut: 2002FemPreg.dat: No such file or directory\r\n"
     ]
    }
   ],
   "source": [
    "# lets sort these lines numerically, and look at the end, also known as the tail\n",
    "!cut -c $Range 2002FemPreg.dat | sort -n | tail"
   ]
  },
  {
   "cell_type": "code",
   "execution_count": 88,
   "metadata": {},
   "outputs": [
    {
     "name": "stdout",
     "output_type": "stream",
     "text": [
      "cut: 2002FemPreg.dat: No such file or directory\r\n"
     ]
    }
   ],
   "source": [
    "#count the number of times each value appears using uniq\n",
    "!cut -c $Range 2002FemPreg.dat | sort -n | uniq -c"
   ]
  },
  {
   "cell_type": "code",
   "execution_count": 89,
   "metadata": {},
   "outputs": [
    {
     "name": "stdout",
     "output_type": "stream",
     "text": [
      "cut: 2002FemPreg.dat: No such file or directory\n",
      "head of cut 55-56\n",
      "\u001b[34mApplications\u001b[m\u001b[m \u001b[34mDownloads\u001b[m\u001b[m    \u001b[34mNotebooks\u001b[m\u001b[m    \u001b[34mSublime\u001b[m\u001b[m      \u001b[34mhtml\u001b[m\u001b[m         \u001b[34mslider\u001b[m\u001b[m\n",
      "\u001b[34mArcanist\u001b[m\u001b[m     \u001b[34mIdeaProjects\u001b[m\u001b[m \u001b[34mPictures\u001b[m\u001b[m     \u001b[34mUCSD\u001b[m\u001b[m         \u001b[35mminced\u001b[m\u001b[m       \u001b[34mtarget\u001b[m\u001b[m\n",
      "\u001b[34mCodeForces\u001b[m\u001b[m   \u001b[34mLibrary\u001b[m\u001b[m      \u001b[34mPostman\u001b[m\u001b[m      \u001b[34manaconda3\u001b[m\u001b[m    \u001b[34mproject\u001b[m\u001b[m      \u001b[34mtemp\u001b[m\u001b[m\n",
      "\u001b[34mDesktop\u001b[m\u001b[m      \u001b[34mMovies\u001b[m\u001b[m       \u001b[34mPublic\u001b[m\u001b[m       cut55-56     \u001b[34mpython\u001b[m\u001b[m       \u001b[34mvenv\u001b[m\u001b[m\n",
      "\u001b[34mDocuments\u001b[m\u001b[m    \u001b[34mMusic\u001b[m\u001b[m        \u001b[34mR\u001b[m\u001b[m            \u001b[34mexamples\u001b[m\u001b[m     \u001b[34mseaborn-data\u001b[m\u001b[m \u001b[34mxgboost\u001b[m\u001b[m\n",
      "output from uniq\n"
     ]
    }
   ],
   "source": [
    "# do the same thing but using an intermediary file\n",
    "!cut -c $Range 2002FemPreg.dat > cut$Range\n",
    "print('head of cut',Range)\n",
    "!head cut$Range\n",
    "!ls\n",
    "print('output from uniq')\n",
    "!cat cut$Range | sort -n | uniq -c"
   ]
  },
  {
   "cell_type": "markdown",
   "metadata": {},
   "source": [
    "## Environment variables\n",
    "\n",
    "Environment variables are strings that define the set up of the session. Environment variables allow the user to avoid\n",
    "retyping the same parameters over and over."
   ]
  },
  {
   "cell_type": "code",
   "execution_count": 90,
   "metadata": {},
   "outputs": [
    {
     "data": {
      "text/plain": [
       "{'KNOWLEDGE_REPO': '/Users/suggu/IdeaProjects/knowledge-repo',\n",
       " 'TERM_PROGRAM': 'Apple_Terminal',\n",
       " 'TERM': 'xterm-color',\n",
       " 'SHELL': '/bin/bash',\n",
       " 'TMPDIR': '/var/folders/d_/_3b3lhz55wb2p2343trsgpp40000gn/T/',\n",
       " 'Apple_PubSub_Socket_Render': '/private/tmp/com.apple.launchd.AAEWLqAebh/Render',\n",
       " 'TERM_PROGRAM_VERSION': '421.2',\n",
       " 'OLDPWD': '/Users/suggu/UCSD/dse/dse-200',\n",
       " 'TERM_SESSION_ID': 'FB190F93-B60B-4103-85F7-2326541B2D0D',\n",
       " 'USER': 'suggu',\n",
       " 'SSH_AUTH_SOCK': '/private/tmp/com.apple.launchd.qgHm6e3W3e/Listeners',\n",
       " 'PATH': '/Users/suggu/anaconda3/bin:/Users/suggu/Arcanist/arcanist/bin/:/Users/suggu/anaconda3/bin:/usr/local/bin:/usr/bin:/bin:/usr/sbin:/sbin:/Users/suggu/anaconda3/bin/knowledge_repo',\n",
       " 'PWD': '/Users/suggu/UCSD/dse/dse-200/dse200-notebooks-private-2019',\n",
       " 'LANG': 'en_US.UTF-8',\n",
       " 'XPC_FLAGS': '0x0',\n",
       " 'XPC_SERVICE_NAME': '0',\n",
       " 'HOME': '/Users/suggu',\n",
       " 'SHLVL': '1',\n",
       " 'LOGNAME': 'suggu',\n",
       " '_': '/Users/suggu/anaconda3/bin/jupyter',\n",
       " 'JPY_PARENT_PID': '31020',\n",
       " 'CLICOLOR': '1',\n",
       " 'PAGER': 'cat',\n",
       " 'GIT_PAGER': 'cat',\n",
       " 'MPLBACKEND': 'module://ipykernel.pylab.backend_inline'}"
      ]
     },
     "execution_count": 90,
     "metadata": {},
     "output_type": "execute_result"
    }
   ],
   "source": [
    "#view all of the currently defined environment variable\n",
    "%env"
   ]
  },
  {
   "cell_type": "code",
   "execution_count": 91,
   "metadata": {},
   "outputs": [
    {
     "name": "stdout",
     "output_type": "stream",
     "text": [
      "hello world!\n",
      "/Users/suggu suggu\n"
     ]
    }
   ],
   "source": [
    "#view the valuse of a particular variables \n",
    "!echo 'hello world!'\n",
    "!echo $HOME $USER"
   ]
  },
  {
   "cell_type": "code",
   "execution_count": 92,
   "metadata": {},
   "outputs": [
    {
     "name": "stdout",
     "output_type": "stream",
     "text": [
      "25\r\n"
     ]
    }
   ],
   "source": [
    "#The $ symbol is required as a prefix of the variable names\n",
    "#When used inside ipython, this $ can be used to refer to any currently defined variable\n",
    "i=25\n",
    "!echo $i"
   ]
  },
  {
   "cell_type": "code",
   "execution_count": 93,
   "metadata": {},
   "outputs": [
    {
     "name": "stdout",
     "output_type": "stream",
     "text": [
      "PATH=/Users/suggu/anaconda3/bin:/Users/suggu/Arcanist/arcanist/bin/:/Users/suggu/anaconda3/bin:/usr/local/bin:/usr/bin:/bin:/usr/sbin:/sbin:/Users/suggu/anaconda3/bin/knowledge_repo\r\n"
     ]
    }
   ],
   "source": [
    "#Particularly important are environment variables called \"paths\"\n",
    "!env | grep -i path"
   ]
  },
  {
   "cell_type": "code",
   "execution_count": 94,
   "metadata": {},
   "outputs": [
    {
     "name": "stdout",
     "output_type": "stream",
     "text": [
      "/usr/bin/sort\r\n"
     ]
    }
   ],
   "source": [
    "# The path defines where the system will look for commands and in what order.\n",
    "# PATH tells the unix shell (bash) where to find the executables corresponding to commands\n",
    "# while PYTHONPATH tells python from where to `import` packages.\n",
    "# lets see where unix finds the command \"sort\"\n",
    "!which sort\n",
    "# Check on the variable PATH and you will see that /usr/bin is on it."
   ]
  },
  {
   "cell_type": "code",
   "execution_count": 95,
   "metadata": {},
   "outputs": [
    {
     "name": "stdout",
     "output_type": "stream",
     "text": [
      "/usr/bin/sort\r\n"
     ]
    }
   ],
   "source": [
    "# You can also find all of the places along the path that have a definition relevant to sort\n",
    "!whereis sort\n",
    "# The last one is the manual page for sort which you can view using the command %man sort"
   ]
  },
  {
   "cell_type": "markdown",
   "metadata": {},
   "source": [
    "#### Excercise \n",
    "find where the location of the commands `python`,`ipython` and `mail`"
   ]
  },
  {
   "cell_type": "code",
   "execution_count": 96,
   "metadata": {},
   "outputs": [
    {
     "name": "stdout",
     "output_type": "stream",
     "text": [
      "/Users/suggu/anaconda3/bin/jupyter\r\n"
     ]
    }
   ],
   "source": [
    "!which jupyter"
   ]
  },
  {
   "cell_type": "markdown",
   "metadata": {},
   "source": [
    "## Wildcards and glob\n",
    "\n",
    "We have seen the most used wild-card `*`, which matches any sequence of (non blank) characters.\n",
    "For example `B*.py` will match any filename that starts with `B` and ends with `.py`.\n",
    "\n",
    "Other useful wildcards are:\n",
    "\n",
    "wild card | Description\n",
    "--------|--------------------------------------------------------   \n",
    "    `*`   |  An asterisk matches any number of characters in a filename, including none.\n",
    "    `?`   |  The question mark matches any single character.\n",
    "    `[ ]` |  Brackets enclose a set of characters, any one of which may match a single character at that position.\n",
    "    `-`   |  A hyphen used within [ ] denotes a range of characters.\n",
    "    `~`   |  A tilde at the beginning of a word expands to the name of your home directory.  If you append another user's login name to the character, it refers to that user's home directory.\n",
    "    \n",
    "**Here are some examples:**\n",
    "\n",
    "1. **cat c* ** list the content of any file whose name begins with c including the file c, if it exists.\n",
    "1. **ls *.c ** lists all files that have a .c extension.\n",
    "1. **cp ../rmt?. ** copies every file in the parent directory that is four characters long and begins with rmt to the working directory. (The names will remain the same.)\n",
    "1. **ls rmt[34567] ** lists every file that begins with rmt and has a 3, 4, 5, 6, or 7 at the end.\n",
    "1. **ls rmt[3-7] ** does exactly the same thing as the previous example.\n",
    "1. **ls ~ ** lists your home directory.\n",
    "1. **ls ~hessen ** lists the home directory of the guy1 with the user id hessen."
   ]
  },
  {
   "cell_type": "markdown",
   "metadata": {},
   "source": [
    "#### within python, use glob()\n",
    "\n",
    "You get the same functionality as wildcards by using the function `glob`, but instead of getting the result printed out, you get it as a list of strings."
   ]
  },
  {
   "cell_type": "code",
   "execution_count": 97,
   "metadata": {},
   "outputs": [
    {
     "name": "stdout",
     "output_type": "stream",
     "text": [
      "ls: li*: No such file or directory\r\n"
     ]
    },
    {
     "data": {
      "text/plain": [
       "[]"
      ]
     },
     "execution_count": 97,
     "metadata": {},
     "output_type": "execute_result"
    }
   ],
   "source": [
    "!ls -d li* # do not descent into directories\n",
    "from glob import glob\n",
    "L=glob('pickle*')\n",
    "L"
   ]
  },
  {
   "cell_type": "markdown",
   "metadata": {},
   "source": [
    "## Loading and saving files\n",
    "\n",
    "It is often useful to load short files into the notebook, alter them, and save them back into the file system. The magics `%load` and `%%writefile` are used to do that.\n"
   ]
  },
  {
   "cell_type": "code",
   "execution_count": 133,
   "metadata": {},
   "outputs": [
    {
     "name": "stdout",
     "output_type": "stream",
     "text": [
      "sublime_python_check.py\r\n"
     ]
    }
   ],
   "source": [
    "!ls python/explore"
   ]
  },
  {
   "cell_type": "code",
   "execution_count": null,
   "metadata": {},
   "outputs": [],
   "source": [
    "# Here You can use any python file which you want to load into notebook. \n",
    "# Place holder here is ~/python/explore/sublime_python_check.py, which wont be in your system\n",
    "# %load ~/python/explore/sublime_python_check.py\n",
    "import numpy as np\n",
    "\n",
    "\n",
    "print(\"hello world\")"
   ]
  },
  {
   "cell_type": "code",
   "execution_count": 124,
   "metadata": {},
   "outputs": [
    {
     "name": "stdout",
     "output_type": "stream",
     "text": [
      "Writing abc.txt\n"
     ]
    }
   ],
   "source": [
    "%%writefile abc.txt \n",
    "hello ipython, this is the first text file"
   ]
  },
  {
   "cell_type": "code",
   "execution_count": 126,
   "metadata": {},
   "outputs": [
    {
     "name": "stdout",
     "output_type": "stream",
     "text": [
      "hello ipython, this is the first text file\r\n"
     ]
    }
   ],
   "source": [
    "!cat abc.txt"
   ]
  },
  {
   "cell_type": "code",
   "execution_count": 127,
   "metadata": {},
   "outputs": [
    {
     "name": "stdout",
     "output_type": "stream",
     "text": [
      "Overwriting abc.txt\n"
     ]
    }
   ],
   "source": [
    "%%writefile abc.txt \n",
    "Hello ipython world \n",
    "This is from command line \n",
    "I love ipython "
   ]
  },
  {
   "cell_type": "code",
   "execution_count": 128,
   "metadata": {},
   "outputs": [
    {
     "name": "stdout",
     "output_type": "stream",
     "text": [
      "Hello ipython world \r\n",
      "This is from command line \r\n",
      "I love ipython \r\n"
     ]
    }
   ],
   "source": [
    "!cat abc.txt"
   ]
  },
  {
   "cell_type": "code",
   "execution_count": null,
   "metadata": {},
   "outputs": [],
   "source": [
    "# %load abc.txt\n",
    "Hello ipython world \n",
    "This is from command line \n",
    "I love ipython \n"
   ]
  },
  {
   "cell_type": "markdown",
   "metadata": {},
   "source": [
    "## Processes\n",
    "\n",
    "A process is a sequence of commands that are executed in sequence, one after the other.\n",
    "By using \"time sharing\" a single CPU can compute many processes at the same time, frequently switching from one process to the next. In a multi-core machine, there are several CPUs and so even more processes can execute at the same time."
   ]
  },
  {
   "cell_type": "code",
   "execution_count": 112,
   "metadata": {},
   "outputs": [
    {
     "name": "stdout",
     "output_type": "stream",
     "text": [
      "invalid option or syntax: -b\r\n",
      "top usage: top\r\n",
      "\t\t[-a | -d | -e | -c <mode>]\r\n",
      "\t\t[-F | -f]\r\n",
      "\t\t[-h]\r\n",
      "\t\t[-i <interval>]\r\n",
      "\t\t[-l <samples>]\r\n",
      "\t\t[-ncols <columns>]\r\n",
      "\t\t[-o <key>] [-O <secondaryKey>]\r\n",
      "\t\t\tkeys: pid (default), command, cpu, cpu_me, cpu_others, csw,\r\n",
      "\t\t\t\ttime, threads, ports, mregion, mem, rprvt, purg, vsize, vprvt,\r\n",
      "\t\t\t\tkprvt, kshrd, pgrp, ppid, state, uid, wq, faults, cow, user,\r\n",
      "\t\t\t\tmsgsent, msgrecv, sysbsd, sysmach, pageins, boosts, instrs, cycles\r\n",
      "\t\t[-R | -r]\r\n",
      "\t\t[-S]\r\n",
      "\t\t[-s <delay>]\r\n",
      "\t\t[-n <nprocs>]\r\n",
      "\t\t[-stats <key(s)>]\r\n",
      "\t\t[-pid <processid>]\r\n",
      "\t\t[-user <username>]\r\n",
      "\t\t[-U <username>]\r\n",
      "\t\t[-u]\r\n",
      "\r\n"
     ]
    }
   ],
   "source": [
    "# You can find out the current processes on your system using the command 'top'\n",
    "# without flags, the command will open a window that will constantly update and that also\n",
    "# allows you to quit (or kill) processes. Here we use the flags to specify that top should only run once\"\n",
    "\n",
    "!top -b -n 1\n",
    "\n",
    "# for mac use !top -n 1 -l 1"
   ]
  },
  {
   "cell_type": "markdown",
   "metadata": {},
   "source": [
    "## Pipes\n",
    "We used pipes above to communicate between two or more unix commands.\n",
    "We now discuss this in more detail.\n",
    "\n",
    "Unix processes have three default input and output channels\n",
    "* **stdin** the standard input channel - by default - the keyboard\n",
    "* **stdout** the standard output channel - by default - the terminal.\n",
    "* **stderr** the standard error channel - by default - the terminal.\n",
    "\n",
    "Channels can be used to connect programs to each other and to connect programs and files. This is called **I/O redirection**.\n",
    "\n",
    "Connecting a standard channel to files is done using the following symbols\n",
    "(in bash, which is the standard shell in both ubuntu and os-x).\n",
    "\n",
    "| command      | result |\n",
    "|--------------|-----------------------------------------------------|\n",
    "| < filename   | Redirect stdin to read from the file \"filename\" |\n",
    "| > filename  | Redirect stdout to file \"filename.\" |\n",
    "| >>filename  | Redirect and append stdout to file \"filename.\" |\n",
    "| 1>filename   | Redirect stdout to file \"filename.\" |\n",
    "| 1>>filename  | Redirect and append stdout to file \"filename.\" |\n",
    "| 2>filename   | Redirect stderr to file \"filename.\" |\n",
    "| 2>>filename  | Redirect and append stderr to file \"filename.\" |\n",
    "| &>filename   | Redirect both stdout and stderr to file \"filename.\" |\n"
   ]
  },
  {
   "cell_type": "code",
   "execution_count": 113,
   "metadata": {},
   "outputs": [
    {
     "name": "stdout",
     "output_type": "stream",
     "text": [
      "/Users/suggu\n",
      "/bin/sh: .bash_login: No such file or directory\r\n"
     ]
    }
   ],
   "source": [
    "# One of the most basic unix command is cat\n",
    "%cd ~\n",
    "!cat < .bash_login"
   ]
  },
  {
   "cell_type": "code",
   "execution_count": 114,
   "metadata": {},
   "outputs": [
    {
     "name": "stdout",
     "output_type": "stream",
     "text": [
      "MAS-FILE\n",
      "MAS-DSE is the best\n"
     ]
    }
   ],
   "source": [
    "# echo is another basic command, it pipes the string it gets as a parameter to std-out\n",
    "# To create a file with some specific line we can use\n",
    "!echo \"MAS-DSE is the best\" | cat > \"MAS-FILE\"\n",
    "!ls MAS*\n",
    "!cat MAS-FILE\n",
    "!rm MAS-FILE"
   ]
  }
 ],
 "metadata": {
  "kernelspec": {
   "display_name": "Python 3",
   "language": "python",
   "name": "python3"
  },
  "language_info": {
   "codemirror_mode": {
    "name": "ipython",
    "version": 3
   },
   "file_extension": ".py",
   "mimetype": "text/x-python",
   "name": "python",
   "nbconvert_exporter": "python",
   "pygments_lexer": "ipython3",
   "version": "3.6.4"
  }
 },
 "nbformat": 4,
 "nbformat_minor": 1
}
