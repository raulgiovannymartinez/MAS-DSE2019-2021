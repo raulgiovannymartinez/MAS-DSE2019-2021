{
 "cells": [
  {
   "cell_type": "markdown",
   "metadata": {},
   "source": [
    "### Resources for python\n",
    "\n",
    "Here are some of the best resources for Python on the web. \n",
    "\n",
    "#### Learning resources\n",
    "\n",
    "* [Interactive Python](http://interactivepython.org/) An online book that includes embedded live excercises. Fun!\n",
    "* [Dive Into Python](http://diveintopython3.problemsolving.io/) An excellent, thorough book.\n",
    "* [tutorial point](http://www.tutorialspoint.com/python/index.htm) A resource that is useful when you want an explanation of one concept, rather than a whole chapter.\n",
    "\n",
    "There are endless other learning resources, you can find some more on the [class resources webpage](https://mas-dse.github.io/DSE200/resources/)\n",
    "\n",
    "#### Reference resources\n",
    "\n",
    "Typically, if you have a question about python, you can find an answer by using google. The following sites will usually have the best answer.\n",
    "\n",
    "* [Official python documentation](https://docs.python.org/3/library/)\n",
    "* [Quick Reference from Tutorial Point](http://www.tutorialspoint.com/python/python_quick_guide.htm)\n",
    "\n",
    "### Basic types\n",
    "\n",
    "The main basic data types in python are numbers (`int`s and `float`s) `bool`ean and `str`ings."
   ]
  },
  {
   "cell_type": "code",
   "execution_count": 2,
   "metadata": {},
   "outputs": [
    {
     "name": "stdout",
     "output_type": "stream",
     "text": [
      "<class 'int'> <class 'float'> <class 'str'> <class 'bool'>\n"
     ]
    }
   ],
   "source": [
    "print(type(123),type(123.0),type('123'),type(True))"
   ]
  },
  {
   "cell_type": "code",
   "execution_count": 3,
   "metadata": {},
   "outputs": [
    {
     "name": "stdout",
     "output_type": "stream",
     "text": [
      " this is a string enclosed by \"\" not '' \n",
      " this string is not enlosed by \"\" \n",
      "This string spans \n",
      " two lines\n",
      "\n",
      "\n",
      "this string is \n",
      "a whole paragraph, ' and \" can be used freely\n",
      "and can span lines without using \\\n",
      "\n"
     ]
    }
   ],
   "source": [
    "# Strings can be enclosed by ',\" or \"\"\"\n",
    "print(\" this is a string enclosed by \\\"\\\" not '' \")\n",
    "print(' this string is not enlosed by \"\" ')\n",
    "print('This string spans \\n two lines\\n\\n')\n",
    "print(\"\"\"this string is \n",
    "a whole paragraph, ' and \" can be used freely\n",
    "and can span lines without using \\\\\n",
    "\"\"\")"
   ]
  },
  {
   "cell_type": "markdown",
   "metadata": {},
   "source": [
    "### The numbers support all of the standard mathematical operations"
   ]
  },
  {
   "cell_type": "code",
   "execution_count": 4,
   "metadata": {},
   "outputs": [
    {
     "data": {
      "text/plain": [
       "125"
      ]
     },
     "execution_count": 4,
     "metadata": {},
     "output_type": "execute_result"
    }
   ],
   "source": [
    "123+2"
   ]
  },
  {
   "cell_type": "code",
   "execution_count": 5,
   "metadata": {},
   "outputs": [
    {
     "data": {
      "text/plain": [
       "121.0"
      ]
     },
     "execution_count": 5,
     "metadata": {},
     "output_type": "execute_result"
    }
   ],
   "source": [
    "123-2.0  # if one of the operands is a float, the result is a float."
   ]
  },
  {
   "cell_type": "code",
   "execution_count": 6,
   "metadata": {},
   "outputs": [
    {
     "data": {
      "text/plain": [
       "61.5"
      ]
     },
     "execution_count": 6,
     "metadata": {},
     "output_type": "execute_result"
    }
   ],
   "source": [
    "123/2    # integer division"
   ]
  },
  {
   "cell_type": "code",
   "execution_count": 7,
   "metadata": {},
   "outputs": [
    {
     "data": {
      "text/plain": [
       "61.5"
      ]
     },
     "execution_count": 7,
     "metadata": {},
     "output_type": "execute_result"
    }
   ],
   "source": [
    "# the output from the last line in a cell is printed automatically\n",
    "130.0/2\n",
    "123/2.0  # floating point division"
   ]
  },
  {
   "cell_type": "code",
   "execution_count": 8,
   "metadata": {},
   "outputs": [
    {
     "name": "stdout",
     "output_type": "stream",
     "text": [
      "65.0\n"
     ]
    },
    {
     "data": {
      "text/plain": [
       "61.5"
      ]
     },
     "execution_count": 8,
     "metadata": {},
     "output_type": "execute_result"
    }
   ],
   "source": [
    "# In order to print(a result that is not in the last line use \"print\"\n",
    "print(130.0/2)\n",
    "123/2.0  # floating point division"
   ]
  },
  {
   "cell_type": "code",
   "execution_count": 9,
   "metadata": {},
   "outputs": [
    {
     "name": "stdout",
     "output_type": "stream",
     "text": [
      "1\n",
      "2\n",
      "3\n"
     ]
    }
   ],
   "source": [
    "#Ending a print(command) with a comma supresses the carriage-return\n",
    "print(1),\n",
    "print(2),\n",
    "print(3)"
   ]
  },
  {
   "cell_type": "code",
   "execution_count": 10,
   "metadata": {},
   "outputs": [
    {
     "name": "stdout",
     "output_type": "stream",
     "text": [
      "3 , 0.0\n"
     ]
    }
   ],
   "source": [
    "# i % j computes the remaineder from dividing i by j (integer division)\n",
    "print(123 % 5,',', 123-(123/5)*5)   # the 'print' command is redundant in the last line of a cell."
   ]
  },
  {
   "cell_type": "code",
   "execution_count": 11,
   "metadata": {},
   "outputs": [
    {
     "data": {
      "text/plain": [
       "5.5"
      ]
     },
     "execution_count": 11,
     "metadata": {},
     "output_type": "execute_result"
    }
   ],
   "source": [
    "11.0/2"
   ]
  },
  {
   "cell_type": "code",
   "execution_count": 12,
   "metadata": {},
   "outputs": [
    {
     "data": {
      "text/plain": [
       "'1230'"
      ]
     },
     "execution_count": 12,
     "metadata": {},
     "output_type": "execute_result"
    }
   ],
   "source": [
    "# Summing of strings means concatanation \n",
    "x='123'+'0'\n",
    "x"
   ]
  },
  {
   "cell_type": "code",
   "execution_count": 13,
   "metadata": {},
   "outputs": [
    {
     "name": "stdout",
     "output_type": "stream",
     "text": [
      "2 -5\n"
     ]
    }
   ],
   "source": [
    "# incrementing or decrementing a variable\n",
    "a=0; b=0 # yes, you can have more than one command in a line, but it is usually considered bad style\n",
    "a+=1; a+=1 # equivalent to `a=a+1`\n",
    "b-=2; b-=3\n",
    "print(a,b)"
   ]
  },
  {
   "cell_type": "code",
   "execution_count": 14,
   "metadata": {},
   "outputs": [
    {
     "data": {
      "text/plain": [
       "('1230', 1229)"
      ]
     },
     "execution_count": 14,
     "metadata": {},
     "output_type": "execute_result"
    }
   ],
   "source": [
    "# casting a string as an integer\n",
    "x,int(x)-1"
   ]
  },
  {
   "cell_type": "code",
   "execution_count": 15,
   "metadata": {},
   "outputs": [
    {
     "data": {
      "text/plain": [
       "'15$'"
      ]
     },
     "execution_count": 15,
     "metadata": {},
     "output_type": "execute_result"
    }
   ],
   "source": [
    "# casting an integer as a string\n",
    "str(15)+'$'"
   ]
  },
  {
   "cell_type": "markdown",
   "metadata": {},
   "source": [
    "#### Exercise\n",
    "Write a statement that, given two integers, a and b, outputs the string\n",
    "> a + b = a+b\n",
    "\n",
    "for example, if a=15 and b=3, output \n",
    "> 15 + 3 = 18"
   ]
  },
  {
   "cell_type": "code",
   "execution_count": 16,
   "metadata": {},
   "outputs": [],
   "source": [
    "a=150\n",
    "b=3\n",
    "# your solution here\n",
    "\n",
    "\n"
   ]
  },
  {
   "cell_type": "markdown",
   "metadata": {},
   "source": [
    "### Booleans and conditions"
   ]
  },
  {
   "cell_type": "code",
   "execution_count": 49,
   "metadata": {},
   "outputs": [
    {
     "name": "stdout",
     "output_type": "stream",
     "text": [
      "True False True False True True\n"
     ]
    }
   ],
   "source": [
    "print(1==1, 1==2, 1<2, 1<1, 1<=1,1>=0.99)"
   ]
  },
  {
   "cell_type": "code",
   "execution_count": 50,
   "metadata": {},
   "outputs": [
    {
     "name": "stdout",
     "output_type": "stream",
     "text": [
      "<class 'bool'>\n"
     ]
    }
   ],
   "source": [
    "print(type(1==1))"
   ]
  },
  {
   "cell_type": "code",
   "execution_count": 51,
   "metadata": {},
   "outputs": [
    {
     "data": {
      "text/plain": [
       "(True, False, True)"
      ]
     },
     "execution_count": 51,
     "metadata": {},
     "output_type": "execute_result"
    }
   ],
   "source": [
    "True or False, True and False, not False"
   ]
  },
  {
   "cell_type": "code",
   "execution_count": 52,
   "metadata": {},
   "outputs": [
    {
     "data": {
      "text/plain": [
       "True"
      ]
     },
     "execution_count": 52,
     "metadata": {},
     "output_type": "execute_result"
    }
   ],
   "source": [
    "# testing whether a number is a multiple of 7\n",
    "a=343\n",
    "a % 7 == 0"
   ]
  },
  {
   "cell_type": "code",
   "execution_count": 53,
   "metadata": {},
   "outputs": [
    {
     "data": {
      "text/plain": [
       "True"
      ]
     },
     "execution_count": 53,
     "metadata": {},
     "output_type": "execute_result"
    }
   ],
   "source": [
    "'abc'<'abd'"
   ]
  },
  {
   "cell_type": "markdown",
   "metadata": {},
   "source": [
    "### String opeations"
   ]
  },
  {
   "cell_type": "code",
   "execution_count": 54,
   "metadata": {},
   "outputs": [
    {
     "data": {
      "text/plain": [
       "'12'"
      ]
     },
     "execution_count": 54,
     "metadata": {},
     "output_type": "execute_result"
    }
   ],
   "source": [
    "'1'+'2' # Concatanation"
   ]
  },
  {
   "cell_type": "code",
   "execution_count": 55,
   "metadata": {},
   "outputs": [],
   "source": [
    "word='Lough'"
   ]
  },
  {
   "cell_type": "code",
   "execution_count": 56,
   "metadata": {},
   "outputs": [
    {
     "data": {
      "text/plain": [
       "False"
      ]
     },
     "execution_count": 56,
     "metadata": {},
     "output_type": "execute_result"
    }
   ],
   "source": [
    "'gg' in word # test for substring"
   ]
  },
  {
   "cell_type": "markdown",
   "metadata": {},
   "source": [
    " "
   ]
  },
  {
   "cell_type": "code",
   "execution_count": 57,
   "metadata": {},
   "outputs": [
    {
     "data": {
      "text/plain": [
       "-1"
      ]
     },
     "execution_count": 57,
     "metadata": {},
     "output_type": "execute_result"
    }
   ],
   "source": [
    "word.find('gg')"
   ]
  },
  {
   "cell_type": "code",
   "execution_count": 58,
   "metadata": {},
   "outputs": [
    {
     "data": {
      "text/plain": [
       "('Lough', 'LOUGH', 'lough')"
      ]
     },
     "execution_count": 58,
     "metadata": {},
     "output_type": "execute_result"
    }
   ],
   "source": [
    "word,word.upper(), word.lower()"
   ]
  },
  {
   "cell_type": "code",
   "execution_count": 59,
   "metadata": {},
   "outputs": [
    {
     "data": {
      "text/plain": [
       "('ough', 'Loug')"
      ]
     },
     "execution_count": 59,
     "metadata": {},
     "output_type": "execute_result"
    }
   ],
   "source": [
    "word[1:],word[:-1]   # get all but the first, or all but the last characters of the word"
   ]
  },
  {
   "cell_type": "code",
   "execution_count": 60,
   "metadata": {},
   "outputs": [
    {
     "data": {
      "text/plain": [
       "('this is it', 'this is it   ', '   this is it')"
      ]
     },
     "execution_count": 60,
     "metadata": {},
     "output_type": "execute_result"
    }
   ],
   "source": [
    "text='   this is it   '\n",
    "text.strip(),text.lstrip(),text.rstrip() "
   ]
  },
  {
   "cell_type": "markdown",
   "metadata": {},
   "source": [
    "### Lists and Tuples ###\n",
    "In the next cell we read the file, parse it according to `fields`, and create a dictionary of lists, one for each field."
   ]
  },
  {
   "cell_type": "code",
   "execution_count": 61,
   "metadata": {},
   "outputs": [
    {
     "data": {
      "text/plain": [
       "[4, 'lll', 2, 1]"
      ]
     },
     "execution_count": 61,
     "metadata": {},
     "output_type": "execute_result"
    }
   ],
   "source": [
    "A=[4,3,2,1]\n",
    "A[1]='lll'\n",
    "A"
   ]
  },
  {
   "cell_type": "code",
   "execution_count": 62,
   "metadata": {},
   "outputs": [
    {
     "ename": "TypeError",
     "evalue": "'tuple' object does not support item assignment",
     "output_type": "error",
     "traceback": [
      "\u001b[0;31m---------------------------------------------------------------------------\u001b[0m",
      "\u001b[0;31mTypeError\u001b[0m                                 Traceback (most recent call last)",
      "\u001b[0;32m<ipython-input-62-10b0f04b5fd1>\u001b[0m in \u001b[0;36m<module>\u001b[0;34m\u001b[0m\n\u001b[1;32m      2\u001b[0m \u001b[0;31m# When we try to change values in tuple, we get error : 'tuple' object does not support item assignment\u001b[0m\u001b[0;34m\u001b[0m\u001b[0;34m\u001b[0m\u001b[0m\n\u001b[1;32m      3\u001b[0m \u001b[0mB\u001b[0m\u001b[0;34m=\u001b[0m\u001b[0;34m(\u001b[0m\u001b[0;36m4\u001b[0m\u001b[0;34m,\u001b[0m\u001b[0;36m3\u001b[0m\u001b[0;34m,\u001b[0m\u001b[0;36m2\u001b[0m\u001b[0;34m,\u001b[0m\u001b[0;36m1\u001b[0m\u001b[0;34m)\u001b[0m\u001b[0;34m\u001b[0m\u001b[0m\n\u001b[0;32m----> 4\u001b[0;31m \u001b[0mB\u001b[0m\u001b[0;34m[\u001b[0m\u001b[0;36m1\u001b[0m\u001b[0;34m]\u001b[0m\u001b[0;34m=\u001b[0m\u001b[0;34m'lll'\u001b[0m\u001b[0;34m\u001b[0m\u001b[0m\n\u001b[0m\u001b[1;32m      5\u001b[0m \u001b[0mB\u001b[0m\u001b[0;34m\u001b[0m\u001b[0m\n",
      "\u001b[0;31mTypeError\u001b[0m: 'tuple' object does not support item assignment"
     ]
    }
   ],
   "source": [
    "#tuples are not mutable (immutable)\n",
    "# When we try to change values in tuple, we get error : 'tuple' object does not support item assignment\n",
    "B=(4,3,2,1)\n",
    "B[1]='lll'\n",
    "B"
   ]
  },
  {
   "cell_type": "code",
   "execution_count": 63,
   "metadata": {},
   "outputs": [
    {
     "data": {
      "text/plain": [
       "[('caseid', 1, 12, int),\n",
       " ('nbrnaliv', 22, 22, int),\n",
       " ('babysex', 56, 56, int),\n",
       " ('birthwgt_oz', 59, 60, int),\n",
       " ('prglength', 275, 276, int),\n",
       " ('outcome', 277, 277, int),\n",
       " ('birthord', 278, 279, int),\n",
       " ('agepreg', 284, 287, int),\n",
       " ('finalwgt', 423, 440, float)]"
      ]
     },
     "execution_count": 63,
     "metadata": {},
     "output_type": "execute_result"
    }
   ],
   "source": [
    "## This list of tuples defines the names and locations of the elements.\n",
    "fields=[\n",
    "    ('caseid', 1, 12, int),\n",
    "    ('nbrnaliv', 22, 22, int),\n",
    "    ('babysex', 56, 56, int),\n",
    "    ('birthwgt_oz', 59, 60, int),\n",
    "    ('prglength', 275, 276, int),\n",
    "    ('outcome', 277, 277, int),\n",
    "    ('birthord', 278, 279, int),\n",
    "    ('agepreg', 284, 287, int),\n",
    "    ('finalwgt', 423, 440, float),\n",
    "]\n",
    "fields\n",
    "# note the types of the 4 fields, especially the last one"
   ]
  },
  {
   "cell_type": "code",
   "execution_count": 64,
   "metadata": {},
   "outputs": [
    {
     "data": {
      "text/plain": [
       "list"
      ]
     },
     "execution_count": 64,
     "metadata": {},
     "output_type": "execute_result"
    }
   ],
   "source": [
    "type(fields)"
   ]
  },
  {
   "cell_type": "code",
   "execution_count": 65,
   "metadata": {},
   "outputs": [
    {
     "name": "stdout",
     "output_type": "stream",
     "text": [
      "('babysex', 56, 56, <class 'int'>)\n",
      "<class 'tuple'>\n"
     ]
    }
   ],
   "source": [
    "print(fields[2])\n",
    "print(type(fields[2]))"
   ]
  },
  {
   "cell_type": "code",
   "execution_count": 66,
   "metadata": {},
   "outputs": [
    {
     "name": "stdout",
     "output_type": "stream",
     "text": [
      "babysex\n",
      "<class 'str'>\n"
     ]
    }
   ],
   "source": [
    "print(fields[2][0])\n",
    "print(type(fields[2][0]))"
   ]
  },
  {
   "cell_type": "markdown",
   "metadata": {},
   "source": [
    "### Sets\n",
    "Sets are mutable collections of objects in which each object can appear at most once.\n",
    "\n",
    "Sets are unordered, sorting them creates a list.\n"
   ]
  },
  {
   "cell_type": "code",
   "execution_count": 67,
   "metadata": {},
   "outputs": [
    {
     "data": {
      "text/plain": [
       "{1, 2, 4, 99}"
      ]
     },
     "execution_count": 67,
     "metadata": {},
     "output_type": "execute_result"
    }
   ],
   "source": [
    "s=set([2,99,2,1,4,99,99]) # you can make sets from lists\n",
    "s"
   ]
  },
  {
   "cell_type": "code",
   "execution_count": 68,
   "metadata": {},
   "outputs": [
    {
     "data": {
      "text/plain": [
       "[1, 2, 99, 4]"
      ]
     },
     "execution_count": 68,
     "metadata": {},
     "output_type": "execute_result"
    }
   ],
   "source": [
    "l=list(s)   # and lists from sets\n",
    "l"
   ]
  },
  {
   "cell_type": "code",
   "execution_count": 69,
   "metadata": {},
   "outputs": [
    {
     "data": {
      "text/plain": [
       "{1, 2, 4, 99, 'a', 'b'}"
      ]
     },
     "execution_count": 69,
     "metadata": {},
     "output_type": "execute_result"
    }
   ],
   "source": [
    "t=set(['a','b','a',2])\n",
    "t | s   # you can take the OR (union) of two sets"
   ]
  },
  {
   "cell_type": "code",
   "execution_count": 70,
   "metadata": {},
   "outputs": [
    {
     "data": {
      "text/plain": [
       "{2}"
      ]
     },
     "execution_count": 70,
     "metadata": {},
     "output_type": "execute_result"
    }
   ],
   "source": [
    "# You can take the intersection of two sets\n",
    "s & t"
   ]
  },
  {
   "cell_type": "code",
   "execution_count": 71,
   "metadata": {},
   "outputs": [
    {
     "data": {
      "text/plain": [
       "({'a', 'b'}, {1, 4, 99})"
      ]
     },
     "execution_count": 71,
     "metadata": {},
     "output_type": "execute_result"
    }
   ],
   "source": [
    "t-s, s-t # you can find all of the elements that are in one set but not the other "
   ]
  },
  {
   "cell_type": "markdown",
   "metadata": {},
   "source": [
    "Operation\t| Equivalent | Result\n",
    "-------------------|---------------|---------------------\n",
    "len(s)\t \t|     -      | cardinality of set s \n",
    "x in s\t \t|     -      | test x for membership in s\n",
    "x not in s\t|     -      | \ttest x for non-membership in s\n",
    "s.issubset(t) |\ts <= t\t| test whether every element in s is in t\n",
    "s.issuperset(t) | s >= t | test whether every element in t is in s\n",
    "s.union(t) | s &#124; t\t| new set with elements from both s and t\n",
    "s.intersection(t)\t| s & t\t| new set with elements common to s and t\n",
    "s.difference(t)\t| s - t\t| new set with elements in s but not in t\n",
    "s.symmetric_difference(t)\t| s ^ t |\tnew set with elements in either s or t but not both\n",
    "s.copy()\t \t| - | new set with a shallow copy of s"
   ]
  },
  {
   "cell_type": "markdown",
   "metadata": {},
   "source": [
    "### Mutable and immutable objects, shallow and deep copies\n",
    "\n",
    "* **Lists are Mutable** the object references *can* be changed.\n",
    "* **Tuples are immutable** the object references *cannot* be changed.\n"
   ]
  },
  {
   "cell_type": "markdown",
   "metadata": {},
   "source": [
    "### The \"Import\" command\n",
    "the `import` command is used to load external modules. Those modules can be established libraries, code you downloaded from github, or code you wrote yourself. There are several styles of `import`:\n",
    "* `import string` - you later refer to functions using `string.find`\n",
    "* `import string as str` - you later refer to functions using `str.find`\n",
    "* `from string import find` - you later refer to function using `find`\n",
    "* `from string import *` - you later refer to function in `string` using it's name alone."
   ]
  },
  {
   "cell_type": "code",
   "execution_count": 72,
   "metadata": {},
   "outputs": [
    {
     "data": {
      "text/plain": [
       "([('caseid', 1, 12, int),\n",
       "  ('nbrnaliv', 22, 22, int),\n",
       "  ('babysex', 56, 56, int),\n",
       "  ('birthwgt_oz', 59, 60, int),\n",
       "  ('prglength', 275, 276, int),\n",
       "  ('outcome', 277, 277, int),\n",
       "  ('birthord', 278, 279, int),\n",
       "  ('agepreg', 284, 287, int),\n",
       "  ('finalwgt', 423, 440, float)],\n",
       " [('caseid', 1, 12, int),\n",
       "  ('nbrnaliv', 22, 22, int),\n",
       "  ('babysex', 56, 56, int),\n",
       "  'something else',\n",
       "  ('prglength', 275, 276, int),\n",
       "  ('outcome', 277, 277, int),\n",
       "  ('birthord', 278, 279, int),\n",
       "  ('agepreg', 284, 287, int),\n",
       "  ('finalwgt', 423, 440, float)])"
      ]
     },
     "execution_count": 72,
     "metadata": {},
     "output_type": "execute_result"
    }
   ],
   "source": [
    "from copy import deepcopy\n",
    "import copy\n",
    "#lists are mutable:\n",
    "fields_copy=copy.copy(fields)\n",
    "fields_copy[3]='something else'\n",
    "\n",
    "fields,fields_copy"
   ]
  },
  {
   "cell_type": "markdown",
   "metadata": {},
   "source": [
    "#### Assignment, copy and deepcopy\n",
    "\n",
    "We want to keep the list `fields` unchanged, because we will use it later to parse the file.\n",
    "\n",
    "We want to create a *deep copy* of the list. The three main ways to create a new list are:\n",
    "\n",
    "1. **Assignment:** `list2=list1` this does not create a new data structure, instead, it creates a pointer to an existing data structure.\n",
    "2. **Shallow Copy:** `list2=copy.copy(list1)` list2 is a new container, but the elements in the container are not copied.\n",
    "3. **Deep Copy:** `list2=copy.deepcopy(list1)` list2 is a new container and each element is a new object, continuing recursively.\n",
    "\n",
    "\n",
    "[More on deep and shallow copies](https://docs.python.org/2/library/copy.html)"
   ]
  },
  {
   "cell_type": "code",
   "execution_count": 73,
   "metadata": {},
   "outputs": [
    {
     "ename": "TypeError",
     "evalue": "'tuple' object does not support item assignment",
     "output_type": "error",
     "traceback": [
      "\u001b[0;31m---------------------------------------------------------------------------\u001b[0m",
      "\u001b[0;31mTypeError\u001b[0m                                 Traceback (most recent call last)",
      "\u001b[0;32m<ipython-input-73-c83dfc45747b>\u001b[0m in \u001b[0;36m<module>\u001b[0;34m\u001b[0m\n\u001b[1;32m      1\u001b[0m \u001b[0;31m#tuples are not mutable (immutable)\u001b[0m\u001b[0;34m\u001b[0m\u001b[0;34m\u001b[0m\u001b[0m\n\u001b[0;32m----> 2\u001b[0;31m \u001b[0mfields_copy\u001b[0m\u001b[0;34m[\u001b[0m\u001b[0;36m2\u001b[0m\u001b[0;34m]\u001b[0m\u001b[0;34m[\u001b[0m\u001b[0;36m0\u001b[0m\u001b[0;34m]\u001b[0m\u001b[0;34m=\u001b[0m\u001b[0;36m15\u001b[0m\u001b[0;34m\u001b[0m\u001b[0m\n\u001b[0m",
      "\u001b[0;31mTypeError\u001b[0m: 'tuple' object does not support item assignment"
     ]
    }
   ],
   "source": [
    "#tuples are not mutable (immutable)\n",
    "fields_copy[2][0]=15"
   ]
  },
  {
   "cell_type": "code",
   "execution_count": 74,
   "metadata": {},
   "outputs": [
    {
     "data": {
      "text/plain": [
       "range(0, 10)"
      ]
     },
     "execution_count": 74,
     "metadata": {},
     "output_type": "execute_result"
    }
   ],
   "source": [
    "# slices\n",
    "L=range(10)\n",
    "L"
   ]
  },
  {
   "cell_type": "code",
   "execution_count": 75,
   "metadata": {},
   "outputs": [
    {
     "name": "stdout",
     "output_type": "stream",
     "text": [
      "L= range(0, 10)\n",
      "L[3:]= range(3, 10)\n"
     ]
    }
   ],
   "source": [
    "print('L=',L)\n",
    "print('L[3:]=',L[3:])"
   ]
  },
  {
   "cell_type": "code",
   "execution_count": 76,
   "metadata": {},
   "outputs": [
    {
     "name": "stdout",
     "output_type": "stream",
     "text": [
      "range(7, 10)\n",
      "range(4, 10)\n"
     ]
    }
   ],
   "source": [
    "#counting form the end of the list\n",
    "print(L[-3:])\n",
    "print(L[-6:])"
   ]
  },
  {
   "cell_type": "markdown",
   "metadata": {},
   "source": [
    "#### Exercise\n",
    "Write a statement that, given a list L and an integer k would print the last k elements of the List"
   ]
  },
  {
   "cell_type": "code",
   "execution_count": null,
   "metadata": {},
   "outputs": [],
   "source": [
    "# for example given list L = [4,3,9,'t','we', 10] and k = 4, we need to print - [9,'t','we',10]"
   ]
  },
  {
   "cell_type": "code",
   "execution_count": 19,
   "metadata": {},
   "outputs": [],
   "source": [
    "L=['a','b',1,2]\n",
    "k=2\n",
    "# for this input, the output should be [1,2]\n",
    "# your answer solution here\n"
   ]
  },
  {
   "cell_type": "markdown",
   "metadata": {},
   "source": [
    "### List Operations"
   ]
  },
  {
   "cell_type": "code",
   "execution_count": 78,
   "metadata": {},
   "outputs": [
    {
     "name": "stdout",
     "output_type": "stream",
     "text": [
      "A+B= [3, 1, 2, 'a', 'c', 'c', 'b']\n"
     ]
    }
   ],
   "source": [
    "# lists can be diverse, each element in the list can be of a different type.\n",
    "# lists are really list of pointers, and these pointers can \n",
    "# point to anything.\n",
    "A=[3,1,2]\n",
    "B=['a','c','c','b']\n",
    "# Concatanating\n",
    "print('A+B=',A+B)"
   ]
  },
  {
   "cell_type": "code",
   "execution_count": 79,
   "metadata": {},
   "outputs": [
    {
     "name": "stdout",
     "output_type": "stream",
     "text": [
      "C= (1, 'a', 'c', 1, 'a', 'c')\n"
     ]
    }
   ],
   "source": [
    "C=(1,'a','c')\n",
    "C=C+C\n",
    "print('C=',C)"
   ]
  },
  {
   "cell_type": "code",
   "execution_count": 80,
   "metadata": {},
   "outputs": [
    {
     "name": "stdout",
     "output_type": "stream",
     "text": [
      "D= ([3, 1, 2], [3, 1, 2], ['a', 'c', 'c', 'b'], 3)\n"
     ]
    }
   ],
   "source": [
    "# A list of lists\n",
    "D=(A,A,B,3)\n",
    "print('D=',D)"
   ]
  },
  {
   "cell_type": "code",
   "execution_count": 81,
   "metadata": {},
   "outputs": [
    {
     "name": "stdout",
     "output_type": "stream",
     "text": [
      "None\n",
      "['a', 'c', 'c', 'b', 'e']\n"
     ]
    }
   ],
   "source": [
    "# appends in place, does not return anything - can only be used on *mutable* objects\n",
    "print(B.append('e'))\n",
    "print(B)"
   ]
  },
  {
   "cell_type": "code",
   "execution_count": 82,
   "metadata": {},
   "outputs": [
    {
     "name": "stdout",
     "output_type": "stream",
     "text": [
      "E= ['a', 'b', 5]\n"
     ]
    }
   ],
   "source": [
    "# appending to the end of a list.\n",
    "E=['a','b']\n",
    "E.append(5)\n",
    "print('E=',E)"
   ]
  },
  {
   "cell_type": "code",
   "execution_count": 83,
   "metadata": {},
   "outputs": [
    {
     "name": "stdout",
     "output_type": "stream",
     "text": [
      "F= ['a', 'b', [...]]\n"
     ]
    }
   ],
   "source": [
    "# A list can even have itself as a member (remember, it is just a pointer)\n",
    "F=['a','b']\n",
    "F.append(F)\n",
    "print('F=',F)"
   ]
  },
  {
   "cell_type": "markdown",
   "metadata": {},
   "source": [
    "#### Sorting\n",
    "\n",
    "Two operations for sorting the elements in a list/tuple\n",
    "1. `sorted(A)` returns a list containing the values of the list or tuple `A` in sorted order.\n",
    "1. `A.sort()` sorts the elements of the list A **in place**, does not return anything. Can operate only on lists (mutable), not tuples (immutable)."
   ]
  },
  {
   "cell_type": "code",
   "execution_count": 84,
   "metadata": {},
   "outputs": [
    {
     "name": "stdout",
     "output_type": "stream",
     "text": [
      "sorted(A)= [1, 2, 3]\n",
      "sorted(B)= ['a', 'b', 'c', 'c', 'e']\n"
     ]
    },
    {
     "ename": "TypeError",
     "evalue": "'<' not supported between instances of 'str' and 'int'",
     "output_type": "error",
     "traceback": [
      "\u001b[0;31m---------------------------------------------------------------------------\u001b[0m",
      "\u001b[0;31mTypeError\u001b[0m                                 Traceback (most recent call last)",
      "\u001b[0;32m<ipython-input-84-a14afe9ae71d>\u001b[0m in \u001b[0;36m<module>\u001b[0;34m\u001b[0m\n\u001b[1;32m      9\u001b[0m \u001b[0;31m# But we can't apply sorted on list with both numerical value and words since order is not defined\u001b[0m\u001b[0;34m\u001b[0m\u001b[0;34m\u001b[0m\u001b[0m\n\u001b[1;32m     10\u001b[0m \u001b[0;31m# We get error : TypeError: '<' not supported between instances of 'str' and 'int'\u001b[0m\u001b[0;34m\u001b[0m\u001b[0;34m\u001b[0m\u001b[0m\n\u001b[0;32m---> 11\u001b[0;31m \u001b[0mprint\u001b[0m\u001b[0;34m(\u001b[0m\u001b[0;34m'sorted(C)='\u001b[0m\u001b[0;34m,\u001b[0m\u001b[0msorted\u001b[0m\u001b[0;34m(\u001b[0m\u001b[0mC\u001b[0m\u001b[0;34m)\u001b[0m\u001b[0;34m)\u001b[0m\u001b[0;34m\u001b[0m\u001b[0m\n\u001b[0m",
      "\u001b[0;31mTypeError\u001b[0m: '<' not supported between instances of 'str' and 'int'"
     ]
    }
   ],
   "source": [
    "# *sort* Returns a new list that is a sorted version\n",
    "\n",
    "# We can apply sorted on list with numerical values\n",
    "print('sorted(A)=',sorted(A))\n",
    "\n",
    "# we can apply sorted on list with letters and words\n",
    "print('sorted(B)=',sorted(B))\n",
    "\n",
    "# But we can't apply sorted on list with both numerical value and words since order is not defined\n",
    "# We get error : TypeError: '<' not supported between instances of 'str' and 'int'\n",
    "print('sorted(C)=',sorted(C))"
   ]
  },
  {
   "cell_type": "code",
   "execution_count": 85,
   "metadata": {},
   "outputs": [
    {
     "name": "stdout",
     "output_type": "stream",
     "text": [
      "['a', 'b', 'c', 'c', 'e']\n"
     ]
    },
    {
     "ename": "AttributeError",
     "evalue": "'tuple' object has no attribute 'sort'",
     "output_type": "error",
     "traceback": [
      "\u001b[0;31m---------------------------------------------------------------------------\u001b[0m",
      "\u001b[0;31mAttributeError\u001b[0m                            Traceback (most recent call last)",
      "\u001b[0;32m<ipython-input-85-82931c765cbe>\u001b[0m in \u001b[0;36m<module>\u001b[0;34m\u001b[0m\n\u001b[1;32m      3\u001b[0m \u001b[0;31m# We get error : AttributeError: 'tuple' object has no attribute 'sort' for the following\u001b[0m\u001b[0;34m\u001b[0m\u001b[0;34m\u001b[0m\u001b[0m\n\u001b[1;32m      4\u001b[0m \u001b[0;31m# since .sort() can operate only on lists (mutable), not tuples (immutable)\u001b[0m\u001b[0;34m\u001b[0m\u001b[0;34m\u001b[0m\u001b[0m\n\u001b[0;32m----> 5\u001b[0;31m \u001b[0mprint\u001b[0m\u001b[0;34m(\u001b[0m\u001b[0mtuple\u001b[0m\u001b[0;34m(\u001b[0m\u001b[0mB\u001b[0m\u001b[0;34m)\u001b[0m\u001b[0;34m.\u001b[0m\u001b[0msort\u001b[0m\u001b[0;34m(\u001b[0m\u001b[0;34m)\u001b[0m\u001b[0;34m)\u001b[0m\u001b[0;34m\u001b[0m\u001b[0m\n\u001b[0m",
      "\u001b[0;31mAttributeError\u001b[0m: 'tuple' object has no attribute 'sort'"
     ]
    }
   ],
   "source": [
    "print(sorted(tuple(B)))\n",
    "\n",
    "# We get error : AttributeError: 'tuple' object has no attribute 'sort' for the following\n",
    "# since .sort() can operate only on lists (mutable), not tuples (immutable)\n",
    "print(tuple(B).sort())"
   ]
  },
  {
   "cell_type": "code",
   "execution_count": 86,
   "metadata": {},
   "outputs": [
    {
     "name": "stdout",
     "output_type": "stream",
     "text": [
      "None None\n",
      "[1, 2, 3] ['a', 'b', 'c', 'c', 'e']\n"
     ]
    }
   ],
   "source": [
    "# A.sort() sorts the elements of the list A in place\n",
    "print(A.sort(),B.sort())\n",
    "print(A,B)"
   ]
  },
  {
   "cell_type": "markdown",
   "metadata": {},
   "source": [
    "### More about Sorting\n",
    "Sort/sorted have other useful parameters.\n",
    "\n",
    "Googling for `python sorted` or `python sort` you find (among many others) the following page\n",
    "https://docs.python.org/2/library/functions.html#sorted\n",
    "\n",
    "#### sorted(iterable[, cmp[, key[, reverse]]])\n",
    "\n",
    "Return a new sorted list from the items in iterable.\n",
    "\n",
    "The optional arguments cmp, key, and reverse have the same meaning as\n",
    "those for the list.sort() method (described in section Mutable\n",
    "Sequence Types).\n",
    "\n",
    "cmp specifies a *custom comparison function* of two arguments (iterable\n",
    "elements) which should return a negative, zero or positive number\n",
    "depending on whether the first argument is considered smaller than,\n",
    "equal to, or larger than the second argument. The default value is None.\n",
    "\n",
    "key specifies a function of one argument that is used to extract a\n",
    "comparison key from each list element: key=str.lower. The default\n",
    "value is None (compare the elements directly).\n",
    "\n",
    "reverse is a boolean value. If set to True, then the list elements are\n",
    "sorted as if each comparison were reversed.\n",
    "\n",
    "In general, the key and reverse conversion processes are much faster\n",
    "than specifying an equivalent cmp function. This is because cmp is\n",
    "called multiple times for each list element while key and reverse\n",
    "touch each element only once. Use functools.cmp_to_key() to convert an\n",
    "old-style cmp function to a key function.\n",
    "\n",
    "For sorting examples and a brief sorting tutorial, see [Sorting HowTo](https://wiki.python.org/moin/HowTo/Sorting/)"
   ]
  },
  {
   "cell_type": "markdown",
   "metadata": {},
   "source": [
    "### for loops\n",
    "For loops are a common way to iterate over the elements of a list\n",
    "\n",
    "One unique feature of python is that code blocks are not surrounded by `{}` oe `begin`,`end`. Instead, python uses indentation,\n",
    "The lines inside a block have to be indented by a tab, or by 4 spaces, relative to the surrounding commands.\n",
    "\n",
    "While this might seem unintuitive at first, it encourages writing more readable code, over time, you'd learn to love it!"
   ]
  },
  {
   "cell_type": "code",
   "execution_count": 87,
   "metadata": {},
   "outputs": [
    {
     "name": "stdout",
     "output_type": "stream",
     "text": [
      "a=a\n",
      "b=b\n",
      "c=c\n"
     ]
    }
   ],
   "source": [
    "L=['a','b','c']\n",
    "# note the : and the <tab> they are both necessary\n",
    "# note that the loop does not have an \"end\" command\n",
    "for l in L:\n",
    "    print(l+'='+l)"
   ]
  },
  {
   "cell_type": "markdown",
   "metadata": {},
   "source": [
    "### The range command creates a list of integers:\n",
    "> **range(end)** - generates the list [0,1,...,end-1]\n",
    "\n",
    "> **range(start,end)** generates the list [start,...,end-1]\n",
    "\n",
    "> **range(start,end,step)** generates the list [start,start+step,start+2*step,...] ending at the largest element that is smaller than end"
   ]
  },
  {
   "cell_type": "code",
   "execution_count": 88,
   "metadata": {},
   "outputs": [
    {
     "name": "stdout",
     "output_type": "stream",
     "text": [
      "0 a=a\n",
      "1 b=b\n",
      "2 c=c\n"
     ]
    }
   ],
   "source": [
    "# another way to achieve the same result is\n",
    "for i in range(len(L)):\n",
    "    l=L[i]\n",
    "    print(i,l+'='+l)  "
   ]
  },
  {
   "cell_type": "code",
   "execution_count": 89,
   "metadata": {},
   "outputs": [
    {
     "name": "stdout",
     "output_type": "stream",
     "text": [
      "1 b=b\n",
      "2 c=c\n"
     ]
    }
   ],
   "source": [
    "# print(only the odd numbered elements\n",
    "for i in range(1,len(L),1):\n",
    "    l=L[i]\n",
    "    print(i,l+'='+l)   "
   ]
  },
  {
   "cell_type": "code",
   "execution_count": 90,
   "metadata": {},
   "outputs": [
    {
     "name": "stdout",
     "output_type": "stream",
     "text": [
      "('caseid', 1, 12, <class 'int'>)\n",
      "('nbrnaliv', 22, 22, <class 'int'>)\n",
      "('babysex', 56, 56, <class 'int'>)\n",
      "('birthwgt_oz', 59, 60, <class 'int'>)\n",
      "('prglength', 275, 276, <class 'int'>)\n",
      "('outcome', 277, 277, <class 'int'>)\n",
      "('birthord', 278, 279, <class 'int'>)\n",
      "('agepreg', 284, 287, <class 'int'>)\n",
      "('finalwgt', 423, 440, <class 'float'>)\n"
     ]
    }
   ],
   "source": [
    "#looping over the \"fields\" list\n",
    "for field in fields:\n",
    "    print(field)"
   ]
  },
  {
   "cell_type": "markdown",
   "metadata": {},
   "source": [
    "### If-Then-Else\n",
    "\n",
    "A conditional statement can take any of the following forms."
   ]
  },
  {
   "cell_type": "code",
   "execution_count": 91,
   "metadata": {},
   "outputs": [
    {
     "name": "stdout",
     "output_type": "stream",
     "text": [
      "A is equal to or larger than 30\n"
     ]
    }
   ],
   "source": [
    "A=231\n",
    "if A<30:\n",
    "    print('A is smaller than 30')\n",
    "else:\n",
    "    print('A is equal to or larger than 30')"
   ]
  },
  {
   "cell_type": "code",
   "execution_count": 92,
   "metadata": {},
   "outputs": [
    {
     "name": "stdout",
     "output_type": "stream",
     "text": [
      "A is larger than 30\n"
     ]
    }
   ],
   "source": [
    "if A>30:\n",
    "    print('A is larger than 30')\n",
    "elif A==22:\n",
    "    print('A = 22')\n",
    "else:\n",
    "    print('Catchall condition')\n",
    "    "
   ]
  },
  {
   "cell_type": "markdown",
   "metadata": {},
   "source": [
    "### Combining loops and conditionals ###\n",
    "Combining for loops and conditionals is one of the main work-horses of any procedural language."
   ]
  },
  {
   "cell_type": "code",
   "execution_count": 93,
   "metadata": {},
   "outputs": [
    {
     "name": "stdout",
     "output_type": "stream",
     "text": [
      "1 is not a string\n",
      "2 is a string\n",
      "3 is not a string\n",
      "a is a string\n",
      "22 is not a string\n",
      "green is a string\n",
      "[] is not a string\n",
      "(1, 2, 3) is not a string\n"
     ]
    }
   ],
   "source": [
    "L=[1,'2',3,'a',22,'green',[],(1,2,3)]\n",
    "for l in L:\n",
    "    if type(l)==str:\n",
    "        print(l,'is a string')\n",
    "    else:\n",
    "        print(l,'is not a string')"
   ]
  },
  {
   "cell_type": "code",
   "execution_count": 94,
   "metadata": {},
   "outputs": [
    {
     "name": "stdout",
     "output_type": "stream",
     "text": [
      "1 2\n",
      "3 a\n",
      "5 green\n"
     ]
    }
   ],
   "source": [
    "# use \"continue\" when you want to skip a single iteration\n",
    "# here is code that would print(only the strings, ignoring items of other types,\n",
    "# it also prints the location of the element in the list.\n",
    "i=-1   # Starting at -1 because the python convension is that the index of the first element is 0\n",
    "for l in L:\n",
    "    i+=1   # a counter indicating the location of l in L\n",
    "    if type(l)!=str:\n",
    "        continue\n",
    "    print(i,l)"
   ]
  },
  {
   "cell_type": "code",
   "execution_count": 95,
   "metadata": {},
   "outputs": [
    {
     "name": "stdout",
     "output_type": "stream",
     "text": [
      "2\n"
     ]
    }
   ],
   "source": [
    "# use \"break\" when you want to quit the loop early\n",
    "# here is code to find and print(the first string in the list\n",
    "for l in L:\n",
    "    if type(l)==str:\n",
    "        print(l)\n",
    "        break"
   ]
  },
  {
   "cell_type": "markdown",
   "metadata": {},
   "source": [
    "### Dictionaries\n",
    "Dictionaries, also called \"hash tables\" are data structures that map keys into values.\n",
    "The value can be anything. The key has to be **immutable**, for example, numbers, strings or tuples.\n",
    "A key can appear only once, which means that the keys form a **set** (see above)"
   ]
  },
  {
   "cell_type": "code",
   "execution_count": 96,
   "metadata": {},
   "outputs": [],
   "source": [
    "# columns is initialized as a dictionary\n",
    "columns={}\n",
    "# an empty list is created for each field\n",
    "for (field, start, end, cast) in fields:\n",
    "    columns[field]=[]"
   ]
  },
  {
   "cell_type": "code",
   "execution_count": 97,
   "metadata": {},
   "outputs": [
    {
     "data": {
      "text/plain": [
       "{'caseid': [],\n",
       " 'nbrnaliv': [],\n",
       " 'babysex': [],\n",
       " 'birthwgt_oz': [],\n",
       " 'prglength': [],\n",
       " 'outcome': [],\n",
       " 'birthord': [],\n",
       " 'agepreg': [],\n",
       " 'finalwgt': []}"
      ]
     },
     "execution_count": 97,
     "metadata": {},
     "output_type": "execute_result"
    }
   ],
   "source": [
    "columns"
   ]
  },
  {
   "cell_type": "code",
   "execution_count": 98,
   "metadata": {},
   "outputs": [
    {
     "data": {
      "text/plain": [
       "{'dan': 12, 'john': 10, 'sarah': 9, 'judy': 3}"
      ]
     },
     "execution_count": 98,
     "metadata": {},
     "output_type": "execute_result"
    }
   ],
   "source": [
    "# An explicit definition of a dictionary:\n",
    "Dict={'dan':12,'john':10,'sarah':9}\n",
    "Dict['judy']=3\n",
    "Dict"
   ]
  },
  {
   "cell_type": "code",
   "execution_count": 99,
   "metadata": {},
   "outputs": [
    {
     "name": "stdout",
     "output_type": "stream",
     "text": [
      "caseid\n",
      "nbrnaliv\n",
      "babysex\n",
      "birthwgt_oz\n",
      "prglength\n",
      "outcome\n",
      "birthord\n",
      "agepreg\n",
      "finalwgt\n"
     ]
    }
   ],
   "source": [
    "#list the keys in the dictionary\n",
    "for key in columns.keys():\n",
    "    # note the comma at the end of the print(command)\n",
    "    print(key)"
   ]
  },
  {
   "cell_type": "markdown",
   "metadata": {},
   "source": [
    "### Not everything can be used as a key\n",
    "Only immutable objects can be used as keys. \n",
    "Lists cannot be used as keys, but tuples can!\n",
    "\n",
    "Immutable objects are \"hashable\""
   ]
  },
  {
   "cell_type": "code",
   "execution_count": 100,
   "metadata": {},
   "outputs": [
    {
     "name": "stdout",
     "output_type": "stream",
     "text": [
      "{'dan': 12, 'john': 10, 'sarah': 9, 'judy': 3, ('john', 'doe'): 23}\n"
     ]
    }
   ],
   "source": [
    "Dict[('john','doe')]=23\n",
    "print(Dict)"
   ]
  },
  {
   "cell_type": "code",
   "execution_count": 103,
   "metadata": {},
   "outputs": [
    {
     "ename": "TypeError",
     "evalue": "unhashable type: 'list'",
     "output_type": "error",
     "traceback": [
      "\u001b[0;31m---------------------------------------------------------------------------\u001b[0m",
      "\u001b[0;31mTypeError\u001b[0m                                 Traceback (most recent call last)",
      "\u001b[0;32m<ipython-input-103-e7770a94f0e5>\u001b[0m in \u001b[0;36m<module>\u001b[0;34m\u001b[0m\n\u001b[0;32m----> 1\u001b[0;31m \u001b[0mDict\u001b[0m\u001b[0;34m[\u001b[0m\u001b[0;34m[\u001b[0m\u001b[0;34m'james'\u001b[0m\u001b[0;34m,\u001b[0m\u001b[0;34m'brown'\u001b[0m\u001b[0;34m]\u001b[0m\u001b[0;34m]\u001b[0m\u001b[0;34m=\u001b[0m\u001b[0;36m2\u001b[0m\u001b[0;34m\u001b[0m\u001b[0m\n\u001b[0m",
      "\u001b[0;31mTypeError\u001b[0m: unhashable type: 'list'"
     ]
    }
   ],
   "source": [
    "# lists are mutable, cannnot be used as keys in dictionary\n",
    "Dict[['james','brown']]=2"
   ]
  },
  {
   "cell_type": "code",
   "execution_count": 105,
   "metadata": {},
   "outputs": [
    {
     "ename": "TypeError",
     "evalue": "unhashable type: 'dict'",
     "output_type": "error",
     "traceback": [
      "\u001b[0;31m---------------------------------------------------------------------------\u001b[0m",
      "\u001b[0;31mTypeError\u001b[0m                                 Traceback (most recent call last)",
      "\u001b[0;32m<ipython-input-105-00182df51340>\u001b[0m in \u001b[0;36m<module>\u001b[0;34m\u001b[0m\n\u001b[1;32m      1\u001b[0m \u001b[0;31m# dict is mutable, cannnot be used as keys in dictionary\u001b[0m\u001b[0;34m\u001b[0m\u001b[0;34m\u001b[0m\u001b[0m\n\u001b[0;32m----> 2\u001b[0;31m \u001b[0mDict\u001b[0m\u001b[0;34m[\u001b[0m\u001b[0;34m{\u001b[0m\u001b[0;34m'james'\u001b[0m\u001b[0;34m:\u001b[0m\u001b[0;34m'brown'\u001b[0m\u001b[0;34m}\u001b[0m\u001b[0;34m]\u001b[0m\u001b[0;34m=\u001b[0m\u001b[0;36m2\u001b[0m\u001b[0;34m\u001b[0m\u001b[0m\n\u001b[0m",
      "\u001b[0;31mTypeError\u001b[0m: unhashable type: 'dict'"
     ]
    }
   ],
   "source": [
    "# dict is mutable, cannnot be used as keys in dictionary\n",
    "Dict[{'james':'brown'}]=2"
   ]
  },
  {
   "cell_type": "markdown",
   "metadata": {},
   "source": [
    "### We now go back to parsing the maternity data file\n",
    "First, we have a look at the first two lines of the data file"
   ]
  },
  {
   "cell_type": "code",
   "execution_count": 106,
   "metadata": {},
   "outputs": [
    {
     "name": "stdout",
     "output_type": "stream",
     "text": [
      "           1 1     6 1     11093 1084     9 039 9   0  1 813             1093 13837                        1                5                                                                        116610931166 9201093                111             3    1   12  11         5391 110933316108432411211     2995 1212 69544441116122222 2 2224693215    000000000000000000000000000000000000003410.38939935294273869.3496019830486 6448.2711117047512 91231\r\n",
      "           1 2     6 1     11166 1157     9 039 9   0  2 714             1166  6542112  2  05 1 4  5       51               1   41  4  201 20                                                        1166109311661093116611661231        111             3    1   14  11         5391 211663925115738501211 2 432 8701414 69544441116122222 2 2224693215    000000000000000000000000000000000000003410.38939935294273869.3496019830486 6448.2711117047512 91231\r\n"
     ]
    }
   ],
   "source": [
    "# This is an example of issuing a system command from within iPython, more on that later.\n",
    "!head -2 ../data/ThinkStatsData/2002FemPreg.dat"
   ]
  },
  {
   "cell_type": "markdown",
   "metadata": {},
   "source": [
    "##### Next, we should open the file to read from, we will talk about files in detail later on."
   ]
  },
  {
   "cell_type": "code",
   "execution_count": 107,
   "metadata": {},
   "outputs": [],
   "source": [
    "# The data is read from the file and inserted into the table.\n",
    "file=open('../data/ThinkStatsData/2002FemPreg.dat','r')"
   ]
  },
  {
   "cell_type": "markdown",
   "metadata": {},
   "source": [
    "#### Read the first line into a the variable \"line\""
   ]
  },
  {
   "cell_type": "code",
   "execution_count": 108,
   "metadata": {},
   "outputs": [
    {
     "data": {
      "text/plain": [
       "'           1 1     6 1     11093 1084     9 039 9   0  1 813             1093 13837                        1                5                                                                        116610931166 9201093                111             3    1   12  11         5391 110933316108432411211     2995 1212 69544441116122222 2 2224693215    000000000000000000000000000000000000003410.38939935294273869.3496019830486 6448.2711117047512 91231\\n'"
      ]
     },
     "execution_count": 108,
     "metadata": {},
     "output_type": "execute_result"
    }
   ],
   "source": [
    "line = file.readline()\n",
    "line"
   ]
  },
  {
   "cell_type": "code",
   "execution_count": 109,
   "metadata": {},
   "outputs": [],
   "source": [
    "for (field, start, end, cast) in fields:\n",
    "    s = line[start-1:end]\n",
    "    val = cast(s)\n",
    "    columns[field].append(val)"
   ]
  },
  {
   "cell_type": "code",
   "execution_count": 110,
   "metadata": {},
   "outputs": [
    {
     "data": {
      "text/plain": [
       "{'caseid': [1],\n",
       " 'nbrnaliv': [1],\n",
       " 'babysex': [1],\n",
       " 'birthwgt_oz': [13],\n",
       " 'prglength': [39],\n",
       " 'outcome': [1],\n",
       " 'birthord': [1],\n",
       " 'agepreg': [3316],\n",
       " 'finalwgt': [6448.271111704751]}"
      ]
     },
     "execution_count": 110,
     "metadata": {},
     "output_type": "execute_result"
    }
   ],
   "source": [
    "columns"
   ]
  },
  {
   "cell_type": "markdown",
   "metadata": {},
   "source": [
    "### Exceptions\n",
    "When we read a data file there is always a chance that some of the lines in the file are corrupted. The chance approaches certainty as the length of the file increases to gigabytes.\n",
    "\n",
    "To demonstrate what corruption might cause, lets corrupt the first line."
   ]
  },
  {
   "cell_type": "code",
   "execution_count": 111,
   "metadata": {},
   "outputs": [
    {
     "name": "stdout",
     "output_type": "stream",
     "text": [
      "           1 1     6 1     11093 1084     9 039 9   0  1 813             1093 13837                        1                5                                                                        116610931166 9201093                111             3    1   12  11         5391 110933316108432411211     2995 1212 69544441116122222 2 2224693215    000000000000000000000000000000000000003410.38939935294273869.3496019830486 6448.2711117047512 91231\n",
      "\n",
      "           1 1     6 *     11093 1084     9 039 9   0  1 813             1093 13837                        1                5                                                                        116610931166 9201093                111             3    1   12  11         5391 110933316108432411211     2995 1212 69544441116122222 2 2224693215    000000000000000000000000000000000000003410.38939935294273869.3496019830486 6448.2711117047512 91231\n",
      "\n"
     ]
    }
   ],
   "source": [
    "#Strings are immutable, so we have to construct the corrupted one\n",
    "print(line)\n",
    "line=line[:21]+'*'+line[22:]\n",
    "print(line)"
   ]
  },
  {
   "cell_type": "code",
   "execution_count": 112,
   "metadata": {},
   "outputs": [
    {
     "ename": "ValueError",
     "evalue": "invalid literal for int() with base 10: '*'",
     "output_type": "error",
     "traceback": [
      "\u001b[0;31m---------------------------------------------------------------------------\u001b[0m",
      "\u001b[0;31mValueError\u001b[0m                                Traceback (most recent call last)",
      "\u001b[0;32m<ipython-input-112-0a35a3e2387d>\u001b[0m in \u001b[0;36m<module>\u001b[0;34m\u001b[0m\n\u001b[1;32m      7\u001b[0m \u001b[0;32mfor\u001b[0m \u001b[0;34m(\u001b[0m\u001b[0mfield\u001b[0m\u001b[0;34m,\u001b[0m \u001b[0mstart\u001b[0m\u001b[0;34m,\u001b[0m \u001b[0mend\u001b[0m\u001b[0;34m,\u001b[0m \u001b[0mcast\u001b[0m\u001b[0;34m)\u001b[0m \u001b[0;32min\u001b[0m \u001b[0mfields\u001b[0m\u001b[0;34m:\u001b[0m\u001b[0;34m\u001b[0m\u001b[0m\n\u001b[1;32m      8\u001b[0m     \u001b[0ms\u001b[0m \u001b[0;34m=\u001b[0m \u001b[0mline\u001b[0m\u001b[0;34m[\u001b[0m\u001b[0mstart\u001b[0m\u001b[0;34m-\u001b[0m\u001b[0;36m1\u001b[0m\u001b[0;34m:\u001b[0m\u001b[0mend\u001b[0m\u001b[0;34m]\u001b[0m\u001b[0;34m\u001b[0m\u001b[0m\n\u001b[0;32m----> 9\u001b[0;31m     \u001b[0mval\u001b[0m \u001b[0;34m=\u001b[0m \u001b[0mcast\u001b[0m\u001b[0;34m(\u001b[0m\u001b[0ms\u001b[0m\u001b[0;34m)\u001b[0m\u001b[0;34m\u001b[0m\u001b[0m\n\u001b[0m\u001b[1;32m     10\u001b[0m     \u001b[0mcolumns\u001b[0m\u001b[0;34m[\u001b[0m\u001b[0mfield\u001b[0m\u001b[0;34m]\u001b[0m\u001b[0;34m.\u001b[0m\u001b[0mappend\u001b[0m\u001b[0;34m(\u001b[0m\u001b[0mval\u001b[0m\u001b[0;34m)\u001b[0m\u001b[0;34m\u001b[0m\u001b[0m\n\u001b[1;32m     11\u001b[0m \u001b[0mcolumns\u001b[0m\u001b[0;34m\u001b[0m\u001b[0m\n",
      "\u001b[0;31mValueError\u001b[0m: invalid literal for int() with base 10: '*'"
     ]
    }
   ],
   "source": [
    "# columns is initialized as a dictionary\n",
    "columns={}\n",
    "# an empty list is created for each field\n",
    "for (field, start, end, cast) in fields:\n",
    "    columns[field]=[]\n",
    "    \n",
    "for (field, start, end, cast) in fields:\n",
    "    s = line[start-1:end]\n",
    "    val = cast(s)\n",
    "    columns[field].append(val)\n",
    "columns"
   ]
  },
  {
   "cell_type": "code",
   "execution_count": 113,
   "metadata": {},
   "outputs": [
    {
     "data": {
      "text/plain": [
       "{'caseid': [1],\n",
       " 'nbrnaliv': [],\n",
       " 'babysex': [],\n",
       " 'birthwgt_oz': [],\n",
       " 'prglength': [],\n",
       " 'outcome': [],\n",
       " 'birthord': [],\n",
       " 'agepreg': [],\n",
       " 'finalwgt': []}"
      ]
     },
     "execution_count": 113,
     "metadata": {},
     "output_type": "execute_result"
    }
   ],
   "source": [
    "columns"
   ]
  },
  {
   "cell_type": "markdown",
   "metadata": {},
   "source": [
    "The program throws and exception and crashes. Only the element \"caseid\" is read. Nothing else\n",
    "\n",
    "**unless** we handle the exception inside the program.\n",
    "\n",
    "In order to handle the exception, we surround the offending lines with a **try/except** pair as follows:"
   ]
  },
  {
   "cell_type": "code",
   "execution_count": 114,
   "metadata": {},
   "outputs": [
    {
     "name": "stdout",
     "output_type": "stream",
     "text": [
      "bad field: nbrnaliv value is \"*\"\n"
     ]
    },
    {
     "data": {
      "text/plain": [
       "{'caseid': [1],\n",
       " 'nbrnaliv': [None],\n",
       " 'babysex': [1],\n",
       " 'birthwgt_oz': [13],\n",
       " 'prglength': [39],\n",
       " 'outcome': [1],\n",
       " 'birthord': [1],\n",
       " 'agepreg': [3316],\n",
       " 'finalwgt': [6448.271111704751]}"
      ]
     },
     "execution_count": 114,
     "metadata": {},
     "output_type": "execute_result"
    }
   ],
   "source": [
    "# columns is initialized as a dictionary\n",
    "columns={}\n",
    "# an empty list is created for each field\n",
    "for (field, start, end, cast) in fields:\n",
    "    columns[field]=[]\n",
    "    \n",
    "for (field, start, end, cast) in fields:\n",
    "    try:\n",
    "        s = line[start-1:end]\n",
    "        val = cast(s)\n",
    "    except ValueError:\n",
    "        print('bad field:',field,'value is \"%s\"'%s)\n",
    "        val = None\n",
    "    columns[field].append(val)\n",
    "columns"
   ]
  },
  {
   "cell_type": "markdown",
   "metadata": {},
   "source": [
    "Because we use `try/except` we ignore the ill-formed dields but read all of the good ones."
   ]
  },
  {
   "cell_type": "markdown",
   "metadata": {},
   "source": [
    "### Comma-Separated values, split and join\n",
    "These days, one of the most common open format for exporting and importing data is *comma-separated-values* or *.csv*.\n",
    "\n",
    "#### Advantages and disadvantages of the csv format relative to the fixed locations format\n",
    "\n",
    "**Advantages**\n",
    "1. Easier to read, lines are typically shorter.\n",
    "2. Missing values ar represented by consecutive commas.\n",
    "3. No need to decide ahead of time on the number of digits/letters in each field.\n",
    "4. No need to encode the field locations, just types.\n",
    "\n",
    "**Disadvantages**\n",
    "1. Fixed length lines can be processed more efficiently.\n",
    "\n",
    "#### Handling CSV files.\n",
    "There are two commands in python to handle csv files: `split` and `join`\n",
    "\n",
    "* `','.join(list_)` is a function that takes as input a list of strings and outputs a new string that is the concatanation of the strings in `list_`, separated by commas. The comman `','` can be relaced by any other string\n",
    "* `s.split(',')` is the reverse of `join`, it is a function that takes as input a string and outputs"
   ]
  },
  {
   "cell_type": "code",
   "execution_count": 115,
   "metadata": {},
   "outputs": [
    {
     "data": {
      "text/plain": [
       "'a,b,c,d'"
      ]
     },
     "execution_count": 115,
     "metadata": {},
     "output_type": "execute_result"
    }
   ],
   "source": [
    "list_=['a','b','c','d']\n",
    "s=','.join(list_)\n",
    "s"
   ]
  },
  {
   "cell_type": "code",
   "execution_count": 116,
   "metadata": {},
   "outputs": [
    {
     "data": {
      "text/plain": [
       "['a', 'b', 'c', 'd']"
      ]
     },
     "execution_count": 116,
     "metadata": {},
     "output_type": "execute_result"
    }
   ],
   "source": [
    "s.split(',')"
   ]
  },
  {
   "cell_type": "code",
   "execution_count": 117,
   "metadata": {},
   "outputs": [],
   "source": [
    "fields=[('index',int),\n",
    "        ('decription',str),\n",
    "        ('low',float),\n",
    "        ('high',float)\n",
    "        ]\n",
    "Text= \"\"\"1,sunny,60.2,75\n",
    "2,cloudy,40,63.2\n",
    "3,overcast,50.3,55\n",
    "\"\"\""
   ]
  },
  {
   "cell_type": "code",
   "execution_count": 118,
   "metadata": {},
   "outputs": [
    {
     "data": {
      "text/plain": [
       "['1,sunny,60.2,75', '2,cloudy,40,63.2', '3,overcast,50.3,55']"
      ]
     },
     "execution_count": 118,
     "metadata": {},
     "output_type": "execute_result"
    }
   ],
   "source": [
    "lines=Text.splitlines()\n",
    "lines"
   ]
  },
  {
   "cell_type": "code",
   "execution_count": 119,
   "metadata": {},
   "outputs": [
    {
     "name": "stdout",
     "output_type": "stream",
     "text": [
      "['1', 'sunny', '60.2', '75']\n",
      "['2', 'cloudy', '40', '63.2']\n",
      "['3', 'overcast', '50.3', '55']\n",
      "{'index': [1, 2, 3], 'decription': ['sunny', 'cloudy', 'overcast'], 'low': [60.2, 40.0, 50.3], 'high': [75.0, 63.2, 55.0]}\n"
     ]
    }
   ],
   "source": [
    "columns={}\n",
    "for field in fields:\n",
    "    columns[field[0]]=[]\n",
    "    \n",
    "for line in lines:\n",
    "    elements=line.split(',')\n",
    "    print(elements)\n",
    "    for i in range(len(fields)):\n",
    "        (name,cast)=fields[i]\n",
    "        columns[name].append(cast(elements[i]))\n",
    "\n",
    "print(columns)\n",
    "        "
   ]
  },
  {
   "cell_type": "markdown",
   "metadata": {},
   "source": [
    "### List comprehension\n",
    "\n",
    "Python provides a concise way to express iterations. This is particularly useful when using the python interpreter. Using list comprehension one can define a complicated computation in a single line."
   ]
  },
  {
   "cell_type": "code",
   "execution_count": 120,
   "metadata": {},
   "outputs": [
    {
     "data": {
      "text/plain": [
       "[(0, 0),\n",
       " (1, 1),\n",
       " (2, 4),\n",
       " (3, 9),\n",
       " (4, 16),\n",
       " (5, 25),\n",
       " (6, 36),\n",
       " (7, 49),\n",
       " (8, 64),\n",
       " (9, 81)]"
      ]
     },
     "execution_count": 120,
     "metadata": {},
     "output_type": "execute_result"
    }
   ],
   "source": [
    "L=[]\n",
    "for i in range(10):\n",
    "    L.append((i,i*i))\n",
    "L"
   ]
  },
  {
   "cell_type": "code",
   "execution_count": 121,
   "metadata": {},
   "outputs": [
    {
     "data": {
      "text/plain": [
       "[(0, 0),\n",
       " (1, 1),\n",
       " (2, 4),\n",
       " (3, 9),\n",
       " (4, 16),\n",
       " (5, 25),\n",
       " (6, 36),\n",
       " (7, 49),\n",
       " (8, 64),\n",
       " (9, 81)]"
      ]
     },
     "execution_count": 121,
     "metadata": {},
     "output_type": "execute_result"
    }
   ],
   "source": [
    "### a simple example of list comprehension\n",
    "[(i,i*i) for i in range(10)]"
   ]
  },
  {
   "cell_type": "code",
   "execution_count": 122,
   "metadata": {},
   "outputs": [
    {
     "data": {
      "text/plain": [
       "'index,decription,low,high'"
      ]
     },
     "execution_count": 122,
     "metadata": {},
     "output_type": "execute_result"
    }
   ],
   "source": [
    "# A more involved example\n",
    "','.join([name for (name,cast) in fields])"
   ]
  },
  {
   "cell_type": "code",
   "execution_count": 123,
   "metadata": {},
   "outputs": [
    {
     "data": {
      "text/plain": [
       "[0, 3, 6, 9, 12, 15, 18]"
      ]
     },
     "execution_count": 123,
     "metadata": {},
     "output_type": "execute_result"
    }
   ],
   "source": [
    "# comprehensions can also include \n",
    "[i for i in range(20) if i%3==0]"
   ]
  },
  {
   "cell_type": "markdown",
   "metadata": {},
   "source": [
    "### Dictionary Comprehension\n",
    "Similar to list comprehensions, there are dictionary comprehensions that defines, in a single line, a for loop\n",
    "that defines a whole table."
   ]
  },
  {
   "cell_type": "code",
   "execution_count": 124,
   "metadata": {},
   "outputs": [
    {
     "data": {
      "text/plain": [
       "{1: 7}"
      ]
     },
     "execution_count": 124,
     "metadata": {},
     "output_type": "execute_result"
    }
   ],
   "source": [
    "a=7\n",
    "{i:a for (i,j) in [(1,1),(1,2)]}"
   ]
  },
  {
   "cell_type": "code",
   "execution_count": 125,
   "metadata": {},
   "outputs": [
    {
     "name": "stdout",
     "output_type": "stream",
     "text": [
      "{34: '\"', 35: '#', 36: '$', 37: '%', 38: '&', 39: \"'\", 40: '(', 41: ')', 42: '*', 43: '+', 44: ',', 45: '-', 46: '.', 47: '/', 48: '0', 49: '1', 50: '2', 51: '3', 52: '4', 53: '5', 54: '6', 55: '7', 56: '8', 57: '9', 58: ':', 59: ';', 60: '<', 61: '=', 62: '>', 63: '?', 64: '@', 65: 'A', 66: 'B', 67: 'C', 68: 'D', 69: 'E', 70: 'F', 71: 'G', 72: 'H', 73: 'I', 74: 'J', 75: 'K', 76: 'L', 77: 'M', 78: 'N', 79: 'O', 80: 'P', 81: 'Q', 82: 'R', 83: 'S', 84: 'T', 85: 'U', 86: 'V', 87: 'W', 88: 'X', 89: 'Y', 90: 'Z', 91: '[', 92: '\\\\', 93: ']', 94: '^', 95: '_', 96: '`', 97: 'a', 98: 'b', 99: 'c', 100: 'd', 101: 'e', 102: 'f', 103: 'g', 104: 'h', 105: 'i', 106: 'j', 107: 'k', 108: 'l', 109: 'm', 110: 'n', 111: 'o', 112: 'p', 113: 'q', 114: 'r', 115: 's', 116: 't', 117: 'u', 118: 'v', 119: 'w', 120: 'x', 121: 'y', 122: 'z', 123: '{', 124: '|', 125: '}', 126: '~'}\n",
      "{'\"': 34, '#': 35, '$': 36, '%': 37, '&': 38, \"'\": 39, '(': 40, ')': 41, '*': 42, '+': 43, ',': 44, '-': 45, '.': 46, '/': 47, '0': 48, '1': 49, '2': 50, '3': 51, '4': 52, '5': 53, '6': 54, '7': 55, '8': 56, '9': 57, ':': 58, ';': 59, '<': 60, '=': 61, '>': 62, '?': 63, '@': 64, 'A': 65, 'B': 66, 'C': 67, 'D': 68, 'E': 69, 'F': 70, 'G': 71, 'H': 72, 'I': 73, 'J': 74, 'K': 75, 'L': 76, 'M': 77, 'N': 78, 'O': 79, 'P': 80, 'Q': 81, 'R': 82, 'S': 83, 'T': 84, 'U': 85, 'V': 86, 'W': 87, 'X': 88, 'Y': 89, 'Z': 90, '[': 91, '\\\\': 92, ']': 93, '^': 94, '_': 95, '`': 96, 'a': 97, 'b': 98, 'c': 99, 'd': 100, 'e': 101, 'f': 102, 'g': 103, 'h': 104, 'i': 105, 'j': 106, 'k': 107, 'l': 108, 'm': 109, 'n': 110, 'o': 111, 'p': 112, 'q': 113, 'r': 114, 's': 115, 't': 116, 'u': 117, 'v': 118, 'w': 119, 'x': 120, 'y': 121, 'z': 122, '{': 123, '|': 124, '}': 125, '~': 126}\n"
     ]
    }
   ],
   "source": [
    "# plain text is coded in a system called ASCII. \n",
    "# Here we create a table for translating from ASCII numbers to characters and another going the other way\n",
    "\n",
    "ascii2char = {i:chr(i) for i in range(34,127)}\n",
    "char2ascii = {chr(i):i for i in range(34,127)}\n",
    "print(ascii2char)\n",
    "print(char2ascii)"
   ]
  },
  {
   "cell_type": "code",
   "execution_count": 126,
   "metadata": {},
   "outputs": [
    {
     "name": "stdout",
     "output_type": "stream",
     "text": [
      "{65: 'A', 66: 'B', 67: 'C', 68: 'D', 69: 'E', 70: 'F', 71: 'G', 72: 'H', 73: 'I', 74: 'J', 75: 'K', 76: 'L', 77: 'M', 78: 'N', 79: 'O', 80: 'P', 81: 'Q', 82: 'R', 83: 'S', 84: 'T', 85: 'U', 86: 'V', 87: 'W', 88: 'X', 89: 'Y', 90: 'Z'}\n"
     ]
    }
   ],
   "source": [
    "# we can also use a condition in the dictionary comprehension. Here we use a condition to select only the\n",
    "# letters that are upper-case\n",
    "\n",
    "upper2ascii = {i:chr(i) for i in range(34,127) if chr(i).isupper()}\n",
    "print(upper2ascii)"
   ]
  }
 ],
 "metadata": {
  "kernelspec": {
   "display_name": "Python 3",
   "language": "python",
   "name": "python3"
  },
  "language_info": {
   "codemirror_mode": {
    "name": "ipython",
    "version": 3
   },
   "file_extension": ".py",
   "mimetype": "text/x-python",
   "name": "python",
   "nbconvert_exporter": "python",
   "pygments_lexer": "ipython3",
   "version": "3.6.4"
  }
 },
 "nbformat": 4,
 "nbformat_minor": 1
}
