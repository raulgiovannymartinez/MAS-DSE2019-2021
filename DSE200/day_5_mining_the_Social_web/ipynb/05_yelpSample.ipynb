{
 "cells": [
  {
   "cell_type": "code",
   "execution_count": 1,
   "metadata": {},
   "outputs": [
    {
     "name": "stdout",
     "output_type": "stream",
     "text": [
      "usage: yelp_sample_python3.py [-h] [-q TERM] [-l LOCATION]\r\n",
      "\r\n",
      "optional arguments:\r\n",
      "  -h, --help            show this help message and exit\r\n",
      "  -q TERM, --term TERM  Search term (default: dinner)\r\n",
      "  -l LOCATION, --location LOCATION\r\n",
      "                        Search location (default: San Francisco, CA)\r\n"
     ]
    }
   ],
   "source": [
    "# get some help\n",
    "!python yelp_sample_python3.py -h"
   ]
  },
  {
   "cell_type": "code",
   "execution_count": 2,
   "metadata": {},
   "outputs": [
    {
     "name": "stdout",
     "output_type": "stream",
     "text": [
      "Querying https://api.yelp.com/v3/businesses/search ...\n",
      "3 businesses found, querying business info for the top result \"3S6VtYgcXL8lRic0iV5GYQ\" ...\n",
      "Querying https://api.yelp.com/v3/businesses/3S6VtYgcXL8lRic0iV5GYQ ...\n",
      "Result for business \"3S6VtYgcXL8lRic0iV5GYQ\" found:\n",
      "{ 'alias': 'sushi-ota-san-diego',\n",
      "  'categories': [ {'alias': 'sushi', 'title': 'Sushi Bars'},\n",
      "                  {'alias': 'japanese', 'title': 'Japanese'}],\n",
      "  'coordinates': {'latitude': 32.8036636, 'longitude': -117.2171253},\n",
      "  'display_phone': '(858) 270-5670',\n",
      "  'hours': [ { 'hours_type': 'REGULAR',\n",
      "               'is_open_now': True,\n",
      "               'open': [ { 'day': 0,\n",
      "                           'end': '2230',\n",
      "                           'is_overnight': False,\n",
      "                           'start': '1730'},\n",
      "                         { 'day': 1,\n",
      "                           'end': '1400',\n",
      "                           'is_overnight': False,\n",
      "                           'start': '1130'},\n",
      "                         { 'day': 1,\n",
      "                           'end': '2230',\n",
      "                           'is_overnight': False,\n",
      "                           'start': '1730'},\n",
      "                         { 'day': 2,\n",
      "                           'end': '1400',\n",
      "                           'is_overnight': False,\n",
      "                           'start': '1130'},\n",
      "                         { 'day': 2,\n",
      "                           'end': '2230',\n",
      "                           'is_overnight': False,\n",
      "                           'start': '1730'},\n",
      "                         { 'day': 3,\n",
      "                           'end': '1400',\n",
      "                           'is_overnight': False,\n",
      "                           'start': '1130'},\n",
      "                         { 'day': 3,\n",
      "                           'end': '2230',\n",
      "                           'is_overnight': False,\n",
      "                           'start': '1730'},\n",
      "                         { 'day': 4,\n",
      "                           'end': '1400',\n",
      "                           'is_overnight': False,\n",
      "                           'start': '1130'},\n",
      "                         { 'day': 4,\n",
      "                           'end': '2230',\n",
      "                           'is_overnight': False,\n",
      "                           'start': '1730'},\n",
      "                         { 'day': 5,\n",
      "                           'end': '2230',\n",
      "                           'is_overnight': False,\n",
      "                           'start': '1700'},\n",
      "                         { 'day': 6,\n",
      "                           'end': '2230',\n",
      "                           'is_overnight': False,\n",
      "                           'start': '1700'}]}],\n",
      "  'id': '3S6VtYgcXL8lRic0iV5GYQ',\n",
      "  'image_url': 'https://s3-media2.fl.yelpcdn.com/bphoto/MtEcy_Dmb2hitJFjbAgoHw/o.jpg',\n",
      "  'is_claimed': True,\n",
      "  'is_closed': False,\n",
      "  'location': { 'address1': '4529 Mission Bay Dr',\n",
      "                'address2': '',\n",
      "                'address3': '',\n",
      "                'city': 'San Diego',\n",
      "                'country': 'US',\n",
      "                'cross_streets': 'Bunker Hill St',\n",
      "                'display_address': [ '4529 Mission Bay Dr',\n",
      "                                     'San Diego, CA 92109'],\n",
      "                'state': 'CA',\n",
      "                'zip_code': '92109'},\n",
      "  'name': 'Sushi Ota',\n",
      "  'phone': '+18582705670',\n",
      "  'photos': [ 'https://s3-media2.fl.yelpcdn.com/bphoto/MtEcy_Dmb2hitJFjbAgoHw/o.jpg',\n",
      "              'https://s3-media4.fl.yelpcdn.com/bphoto/BNaO2d9AOka07nabqHGHtw/o.jpg',\n",
      "              'https://s3-media3.fl.yelpcdn.com/bphoto/b-UdczBrrEkddO6HCpupjg/o.jpg'],\n",
      "  'price': '$$$',\n",
      "  'rating': 4.5,\n",
      "  'review_count': 3653,\n",
      "  'transactions': [],\n",
      "  'url': 'https://www.yelp.com/biz/sushi-ota-san-diego?adjust_creative=B9Xw52PjsM0DbZG7Il637g&utm_campaign=yelp_api_v3&utm_medium=api_v3_business_lookup&utm_source=B9Xw52PjsM0DbZG7Il637g'}\n"
     ]
    }
   ],
   "source": [
    "!python yelp_sample_python3.py --term=\"Sushi Ota\" --location=\"San Diego, CA\""
   ]
  },
  {
   "cell_type": "markdown",
   "metadata": {},
   "source": [
    "#### excercise\n",
    "\n",
    "Write a script that returns a web page that contains all of the information about a single restaurant, including the larger images (not starts, for example)."
   ]
  }
 ],
 "metadata": {
  "kernelspec": {
   "display_name": "Python 3",
   "language": "python",
   "name": "python3"
  },
  "language_info": {
   "codemirror_mode": {
    "name": "ipython",
    "version": 3
   },
   "file_extension": ".py",
   "mimetype": "text/x-python",
   "name": "python",
   "nbconvert_exporter": "python",
   "pygments_lexer": "ipython3",
   "version": "3.7.5"
  }
 },
 "nbformat": 4,
 "nbformat_minor": 1
}
