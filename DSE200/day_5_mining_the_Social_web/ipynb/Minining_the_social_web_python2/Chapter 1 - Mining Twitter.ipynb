{
 "metadata": {
  "name": "",
  "signature": "sha256:97091aa8b11d609a81419100892cf6679fb18bda53c658e9a387bce94d722e6e"
 },
 "nbformat": 3,
 "nbformat_minor": 0,
 "worksheets": [
  {
   "cells": [
    {
     "cell_type": "markdown",
     "metadata": {},
     "source": [
      "#Mining the Social Web, 2nd Edition\n",
      "\n",
      "##Chapter 1: Mining Twitter: Exploring Trending Topics, Discovering What People Are Talking About, and More\n",
      "\n",
      "This IPython Notebook provides an interactive way to follow along with and explore the numbered examples from [_Mining the Social Web (2nd Edition)_](http://bit.ly/135dHfs). The intent behind this notebook is to reinforce the concepts from the sample code in a fun, convenient, and effective way. This notebook assumes that you are reading along with the book and have the context of the discussion as you work through these exercises.\n",
      "\n",
      "In the somewhat unlikely event that you've somehow stumbled across this notebook outside of its context on GitHub, [you can find the full source code repository here](http://bit.ly/16kGNyb).\n",
      "\n",
      "## Copyright and Licensing\n",
      "\n",
      "You are free to use or adapt this notebook for any purpose you'd like. However, please respect the [Simplified BSD License](https://github.com/ptwobrussell/Mining-the-Social-Web-2nd-Edition/blob/master/LICENSE.txt) that governs its use."
     ]
    },
    {
     "cell_type": "markdown",
     "metadata": {},
     "source": [
      "# Twitter API Access\n",
      "\n",
      "Twitter implements OAuth 1.0A as its standard authentication mechanism, and in order to use it to make requests to Twitter's API, you'll need to go to https://dev.twitter.com/apps and create a sample application. There are four primary identifiers you'll need to note for an OAuth 1.0A workflow: consumer key, consumer secret, access token, and access token secret. Note that you will need an ordinary Twitter account in order to login, create an app, and get these credentials.\n",
      "\n",
      "<img src=\"files/resources/ch01-twitter/images/Twitter-AppCredentials.png\" width=\"600px\">"
     ]
    },
    {
     "cell_type": "code",
     "collapsed": false,
     "input": [
      "Twitter={}\n",
      "Twitter['Consumer Key'] = ''\n",
      "Twitter['Consumer Secret'] = ''\n",
      "Twitter['Access Token'] = ''\n",
      "Twitter['Access Token Secret'] = ''\n",
      "print Twitter\n",
      "import pickle\n",
      "#pickle.dump(Twitter,open('/Vault/Twitter.pkl','w'))"
     ],
     "language": "python",
     "metadata": {},
     "outputs": [
      {
       "output_type": "stream",
       "stream": "stdout",
       "text": [
        "{'Access Token Secret': '', 'Access Token': '', 'Consumer Key': '', 'Consumer Secret': ''}\n"
       ]
      }
     ],
     "prompt_number": 1
    },
    {
     "cell_type": "code",
     "collapsed": false,
     "input": [
      "Twitter=pickle.load(open('/Users/yoavfreund/.Vault/Twitter.pkl','r'))\n"
     ],
     "language": "python",
     "metadata": {},
     "outputs": [],
     "prompt_number": 3
    },
    {
     "cell_type": "markdown",
     "metadata": {},
     "source": [
      "If you are taking advantage of the virtual machine experience for this chapter that is powered by Vagrant, you should just be able to execute the code in this notebook without any worries whatsoever about installing dependencies. If you are running the code from your own development envioronment, however, be advised that these examples in this chapter take advantage of a Python package called [twitter](https://github.com/sixohsix/twitter) to make API calls. You can install this package in a terminal with [pip](https://pypi.python.org/pypi/pip) with the command `pip install twitter`, preferably from within a [Python virtual environment](https://pypi.python.org/pypi/virtualenv). "
     ]
    },
    {
     "cell_type": "markdown",
     "metadata": {},
     "source": [
      "Once installed, you should be able to open up a Python interpreter (or better yet, your [IPython](http://ipython.org/) interpreter) and get rolling."
     ]
    },
    {
     "cell_type": "heading",
     "level": 2,
     "metadata": {},
     "source": [
      "Example 1. Authorizing an application to access Twitter account data"
     ]
    },
    {
     "cell_type": "code",
     "collapsed": false,
     "input": [
      "import twitter\n",
      "\n",
      "# XXX: Go to http://dev.twitter.com/apps/new to create an app and get values\n",
      "# for these credentials, which you'll need to provide in place of these\n",
      "# empty string values that are defined as placeholders.\n",
      "# See https://dev.twitter.com/docs/auth/oauth for more information \n",
      "# on Twitter's OAuth implementation.\n",
      "\n",
      "auth = twitter.oauth.OAuth(Twitter['Access Token'],\n",
      "                           Twitter['Access Token Secret'],\n",
      "                           Twitter['Consumer Key'],\n",
      "                           Twitter['Consumer Secret'])\n",
      "\n",
      "twitter_api = twitter.Twitter(auth=auth)\n",
      "\n",
      "# Nothing to see by displaying twitter_api except that it's now a\n",
      "# defined variable\n",
      "\n",
      "print twitter_api"
     ],
     "language": "python",
     "metadata": {},
     "outputs": [
      {
       "output_type": "stream",
       "stream": "stdout",
       "text": [
        "<twitter.api.Twitter object at 0x10867ba10>\n"
       ]
      }
     ],
     "prompt_number": 4
    },
    {
     "cell_type": "heading",
     "level": 2,
     "metadata": {},
     "source": [
      "Example 2. Retrieving trends"
     ]
    },
    {
     "cell_type": "code",
     "collapsed": false,
     "input": [
      "# The Yahoo! Where On Earth ID for the entire world is 1.\n",
      "# See https://dev.twitter.com/docs/api/1.1/get/trends/place and\n",
      "# http://developer.yahoo.com/geo/geoplanet/\n",
      "\n",
      "# look at the BOSS placefinder here: https://developer.yahoo.com/boss/placefinder/\n",
      "\n",
      "WORLD_WOE_ID = 1\n",
      "US_WOE_ID = 23424977"
     ],
     "language": "python",
     "metadata": {},
     "outputs": [],
     "prompt_number": 5
    },
    {
     "cell_type": "markdown",
     "metadata": {},
     "source": [
      "Look for the WOEID for [san-diego](http://woeid.rosselliot.co.nz/lookup/san%20diego%20%20ca)"
     ]
    },
    {
     "cell_type": "code",
     "collapsed": false,
     "input": [
      "SAN_DIEGO_WOE_ID=2487889\n",
      "\n",
      "# Prefix ID with the underscore for query string parameterization.\n",
      "# Without the underscore, the twitter package appends the ID value\n",
      "# to the URL itself as a special case keyword argument.\n",
      "\n",
      "world_trends = twitter_api.trends.place(_id=WORLD_WOE_ID)\n",
      "us_trends = twitter_api.trends.place(_id=US_WOE_ID)\n",
      "san_diego_trends = twitter_api.trends.place(_id=SAN_DIEGO_WOE_ID)\n",
      "print world_trends\n",
      "print\n",
      "print us_trends\n",
      "print\n",
      "print san_diego_trends"
     ],
     "language": "python",
     "metadata": {},
     "outputs": [
      {
       "output_type": "stream",
       "stream": "stdout",
       "text": [
        "[{u'created_at': u'2014-11-21T23:09:45Z', u'trends': [{u'url': u'http://twitter.com/search?q=%23NightChangesVideo', u'query': u'%23NightChangesVideo', u'name': u'#NightChangesVideo', u'promoted_content': None}, {u'url': u'http://twitter.com/search?q=%23NeDemekU%C4%9FurKARTALUyumad%C4%B1asfdgfh', u'query': u'%23NeDemekU%C4%9FurKARTALUyumad%C4%B1asfdgfh', u'name': u'#NeDemekU\\u011furKARTALUyumad\\u0131asfdgfh', u'promoted_content': None}, {u'url': u'http://twitter.com/search?q=%23BeyazShow', u'query': u'%23BeyazShow', u'name': u'#BeyazShow', u'promoted_content': None}, {u'url': u'http://twitter.com/search?q=%23Uyumad%C4%B1m%C3%87%C3%BCnk%C3%BC', u'query': u'%23Uyumad%C4%B1m%C3%87%C3%BCnk%C3%BC', u'name': u'#Uyumad\\u0131m\\xc7\\xfcnk\\xfc', u'promoted_content': None}, {u'url': u'http://twitter.com/search?q=%23NadaMasRelajante', u'query': u'%23NadaMasRelajante', u'name': u'#NadaMasRelajante', u'promoted_content': None}, {u'url': u'http://twitter.com/search?q=%22Jack+and+Jack+Groove%22', u'query': u'%22Jack+and+Jack+Groove%22', u'name': u'Jack and Jack Groove', u'promoted_content': None}, {u'url': u'http://twitter.com/search?q=%22Esio+Trot%22', u'query': u'%22Esio+Trot%22', u'name': u'Esio Trot', u'promoted_content': None}, {u'url': u'http://twitter.com/search?q=%22Delena+Is+The+Best+Part+Of+TVD%22', u'query': u'%22Delena+Is+The+Best+Part+Of+TVD%22', u'name': u'Delena Is The Best Part Of TVD', u'promoted_content': None}, {u'url': u'http://twitter.com/search?q=Laurent', u'query': u'Laurent', u'name': u'Laurent', u'promoted_content': None}, {u'url': u'http://twitter.com/search?q=S%C4%B1rp', u'query': u'S%C4%B1rp', u'name': u'S\\u0131rp', u'promoted_content': None}], u'as_of': u'2014-11-21T23:12:58Z', u'locations': [{u'woeid': 1, u'name': u'Worldwide'}]}]\n",
        "\n",
        "[{u'created_at': u'2014-11-21T23:02:49Z', u'trends': [{u'url': u'http://twitter.com/search?q=%23NightChangesVideo', u'query': u'%23NightChangesVideo', u'name': u'#NightChangesVideo', u'promoted_content': None}, {u'url': u'http://twitter.com/search?q=%23ImmigrationAction', u'query': u'%23ImmigrationAction', u'name': u'#ImmigrationAction', u'promoted_content': None}, {u'url': u'http://twitter.com/search?q=%23serenafriday', u'query': u'%23serenafriday', u'name': u'#serenafriday', u'promoted_content': None}, {u'url': u'http://twitter.com/search?q=%23ThanksMichelleObama', u'query': u'%23ThanksMichelleObama', u'name': u'#ThanksMichelleObama', u'promoted_content': None}, {u'url': u'http://twitter.com/search?q=%23DefendtheDuggars', u'query': u'%23DefendtheDuggars', u'name': u'#DefendtheDuggars', u'promoted_content': None}, {u'url': u'http://twitter.com/search?q=%22Pitch+Perfect+2%22', u'query': u'%22Pitch+Perfect+2%22', u'name': u'Pitch Perfect 2', u'promoted_content': None}, {u'url': u'http://twitter.com/search?q=%22Jack+and+Jack+Groove%22', u'query': u'%22Jack+and+Jack+Groove%22', u'name': u'Jack and Jack Groove', u'promoted_content': None}, {u'url': u'http://twitter.com/search?q=%22Lana+Del+Rey+for+MAXIM%22', u'query': u'%22Lana+Del+Rey+for+MAXIM%22', u'name': u'Lana Del Rey for MAXIM', u'promoted_content': None}, {u'url': u'http://twitter.com/search?q=Gruber', u'query': u'Gruber', u'name': u'Gruber', u'promoted_content': None}, {u'url': u'http://twitter.com/search?q=%22Mocking+Jay%22', u'query': u'%22Mocking+Jay%22', u'name': u'Mocking Jay', u'promoted_content': None}], u'as_of': u'2014-11-21T23:12:58Z', u'locations': [{u'woeid': 23424977, u'name': u'United States'}]}]\n",
        "\n",
        "[{u'created_at': u'2014-11-21T23:02:50Z', u'trends': [{u'url': u'http://twitter.com/search?q=%23NightChangesVideo', u'query': u'%23NightChangesVideo', u'name': u'#NightChangesVideo', u'promoted_content': None}, {u'url': u'http://twitter.com/search?q=Mockingjay', u'query': u'Mockingjay', u'name': u'Mockingjay', u'promoted_content': None}, {u'url': u'http://twitter.com/search?q=Tomas', u'query': u'Tomas', u'name': u'Tomas', u'promoted_content': None}, {u'url': u'http://twitter.com/search?q=%23HTGAWM', u'query': u'%23HTGAWM', u'name': u'#HTGAWM', u'promoted_content': None}, {u'url': u'http://twitter.com/search?q=%22The+1975%22', u'query': u'%22The+1975%22', u'name': u'The 1975', u'promoted_content': None}, {u'url': u'http://twitter.com/search?q=Chiefs', u'query': u'Chiefs', u'name': u'Chiefs', u'promoted_content': None}, {u'url': u'http://twitter.com/search?q=SDSU', u'query': u'SDSU', u'name': u'SDSU', u'promoted_content': None}, {u'url': u'http://twitter.com/search?q=%23Scandal', u'query': u'%23Scandal', u'name': u'#Scandal', u'promoted_content': None}, {u'url': u'http://twitter.com/search?q=%22Super+Bowl%22', u'query': u'%22Super+Bowl%22', u'name': u'Super Bowl', u'promoted_content': None}, {u'url': u'http://twitter.com/search?q=%23ImmigrationAction', u'query': u'%23ImmigrationAction', u'name': u'#ImmigrationAction', u'promoted_content': None}], u'as_of': u'2014-11-21T23:12:58Z', u'locations': [{u'woeid': 2487889, u'name': u'San Diego'}]}]\n"
       ]
      }
     ],
     "prompt_number": 6
    },
    {
     "cell_type": "code",
     "collapsed": false,
     "input": [
      "trends=san_diego_trends\n",
      "print type(trends)\n",
      "print trends[0].keys()\n",
      "print trends[0]['trends']"
     ],
     "language": "python",
     "metadata": {},
     "outputs": [
      {
       "output_type": "stream",
       "stream": "stdout",
       "text": [
        "<class 'twitter.api.TwitterListResponse'>\n",
        "[u'created_at', u'trends', u'as_of', u'locations']\n",
        "[{u'url': u'http://twitter.com/search?q=%23NightChangesVideo', u'query': u'%23NightChangesVideo', u'name': u'#NightChangesVideo', u'promoted_content': None}, {u'url': u'http://twitter.com/search?q=Mockingjay', u'query': u'Mockingjay', u'name': u'Mockingjay', u'promoted_content': None}, {u'url': u'http://twitter.com/search?q=Tomas', u'query': u'Tomas', u'name': u'Tomas', u'promoted_content': None}, {u'url': u'http://twitter.com/search?q=%23HTGAWM', u'query': u'%23HTGAWM', u'name': u'#HTGAWM', u'promoted_content': None}, {u'url': u'http://twitter.com/search?q=%22The+1975%22', u'query': u'%22The+1975%22', u'name': u'The 1975', u'promoted_content': None}, {u'url': u'http://twitter.com/search?q=Chiefs', u'query': u'Chiefs', u'name': u'Chiefs', u'promoted_content': None}, {u'url': u'http://twitter.com/search?q=SDSU', u'query': u'SDSU', u'name': u'SDSU', u'promoted_content': None}, {u'url': u'http://twitter.com/search?q=%23Scandal', u'query': u'%23Scandal', u'name': u'#Scandal', u'promoted_content': None}, {u'url': u'http://twitter.com/search?q=%22Super+Bowl%22', u'query': u'%22Super+Bowl%22', u'name': u'Super Bowl', u'promoted_content': None}, {u'url': u'http://twitter.com/search?q=%23ImmigrationAction', u'query': u'%23ImmigrationAction', u'name': u'#ImmigrationAction', u'promoted_content': None}]\n"
       ]
      }
     ],
     "prompt_number": 7
    },
    {
     "cell_type": "heading",
     "level": 2,
     "metadata": {},
     "source": [
      "Example 3. Displaying API responses as pretty-printed JSON"
     ]
    },
    {
     "cell_type": "code",
     "collapsed": false,
     "input": [
      "import json\n",
      "\n",
      "print json.dumps(world_trends, indent=1)\n",
      "print\n",
      "print json.dumps(us_trends, indent=1)\n",
      "print \n",
      "print json.dumps(san_diego_trends,indent=1)"
     ],
     "language": "python",
     "metadata": {},
     "outputs": [
      {
       "output_type": "stream",
       "stream": "stdout",
       "text": [
        "[\n",
        " {\n",
        "  \"created_at\": \"2014-11-21T23:09:45Z\", \n",
        "  \"trends\": [\n",
        "   {\n",
        "    \"url\": \"http://twitter.com/search?q=%23NightChangesVideo\", \n",
        "    \"query\": \"%23NightChangesVideo\", \n",
        "    \"name\": \"#NightChangesVideo\", \n",
        "    \"promoted_content\": null\n",
        "   }, \n",
        "   {\n",
        "    \"url\": \"http://twitter.com/search?q=%23NeDemekU%C4%9FurKARTALUyumad%C4%B1asfdgfh\", \n",
        "    \"query\": \"%23NeDemekU%C4%9FurKARTALUyumad%C4%B1asfdgfh\", \n",
        "    \"name\": \"#NeDemekU\\u011furKARTALUyumad\\u0131asfdgfh\", \n",
        "    \"promoted_content\": null\n",
        "   }, \n",
        "   {\n",
        "    \"url\": \"http://twitter.com/search?q=%23BeyazShow\", \n",
        "    \"query\": \"%23BeyazShow\", \n",
        "    \"name\": \"#BeyazShow\", \n",
        "    \"promoted_content\": null\n",
        "   }, \n",
        "   {\n",
        "    \"url\": \"http://twitter.com/search?q=%23Uyumad%C4%B1m%C3%87%C3%BCnk%C3%BC\", \n",
        "    \"query\": \"%23Uyumad%C4%B1m%C3%87%C3%BCnk%C3%BC\", \n",
        "    \"name\": \"#Uyumad\\u0131m\\u00c7\\u00fcnk\\u00fc\", \n",
        "    \"promoted_content\": null\n",
        "   }, \n",
        "   {\n",
        "    \"url\": \"http://twitter.com/search?q=%23NadaMasRelajante\", \n",
        "    \"query\": \"%23NadaMasRelajante\", \n",
        "    \"name\": \"#NadaMasRelajante\", \n",
        "    \"promoted_content\": null\n",
        "   }, \n",
        "   {\n",
        "    \"url\": \"http://twitter.com/search?q=%22Jack+and+Jack+Groove%22\", \n",
        "    \"query\": \"%22Jack+and+Jack+Groove%22\", \n",
        "    \"name\": \"Jack and Jack Groove\", \n",
        "    \"promoted_content\": null\n",
        "   }, \n",
        "   {\n",
        "    \"url\": \"http://twitter.com/search?q=%22Esio+Trot%22\", \n",
        "    \"query\": \"%22Esio+Trot%22\", \n",
        "    \"name\": \"Esio Trot\", \n",
        "    \"promoted_content\": null\n",
        "   }, \n",
        "   {\n",
        "    \"url\": \"http://twitter.com/search?q=%22Delena+Is+The+Best+Part+Of+TVD%22\", \n",
        "    \"query\": \"%22Delena+Is+The+Best+Part+Of+TVD%22\", \n",
        "    \"name\": \"Delena Is The Best Part Of TVD\", \n",
        "    \"promoted_content\": null\n",
        "   }, \n",
        "   {\n",
        "    \"url\": \"http://twitter.com/search?q=Laurent\", \n",
        "    \"query\": \"Laurent\", \n",
        "    \"name\": \"Laurent\", \n",
        "    \"promoted_content\": null\n",
        "   }, \n",
        "   {\n",
        "    \"url\": \"http://twitter.com/search?q=S%C4%B1rp\", \n",
        "    \"query\": \"S%C4%B1rp\", \n",
        "    \"name\": \"S\\u0131rp\", \n",
        "    \"promoted_content\": null\n",
        "   }\n",
        "  ], \n",
        "  \"as_of\": \"2014-11-21T23:12:58Z\", \n",
        "  \"locations\": [\n",
        "   {\n",
        "    \"woeid\": 1, \n",
        "    \"name\": \"Worldwide\"\n",
        "   }\n",
        "  ]\n",
        " }\n",
        "]\n",
        "\n",
        "[\n",
        " {\n",
        "  \"created_at\": \"2014-11-21T23:02:49Z\", \n",
        "  \"trends\": [\n",
        "   {\n",
        "    \"url\": \"http://twitter.com/search?q=%23NightChangesVideo\", \n",
        "    \"query\": \"%23NightChangesVideo\", \n",
        "    \"name\": \"#NightChangesVideo\", \n",
        "    \"promoted_content\": null\n",
        "   }, \n",
        "   {\n",
        "    \"url\": \"http://twitter.com/search?q=%23ImmigrationAction\", \n",
        "    \"query\": \"%23ImmigrationAction\", \n",
        "    \"name\": \"#ImmigrationAction\", \n",
        "    \"promoted_content\": null\n",
        "   }, \n",
        "   {\n",
        "    \"url\": \"http://twitter.com/search?q=%23serenafriday\", \n",
        "    \"query\": \"%23serenafriday\", \n",
        "    \"name\": \"#serenafriday\", \n",
        "    \"promoted_content\": null\n",
        "   }, \n",
        "   {\n",
        "    \"url\": \"http://twitter.com/search?q=%23ThanksMichelleObama\", \n",
        "    \"query\": \"%23ThanksMichelleObama\", \n",
        "    \"name\": \"#ThanksMichelleObama\", \n",
        "    \"promoted_content\": null\n",
        "   }, \n",
        "   {\n",
        "    \"url\": \"http://twitter.com/search?q=%23DefendtheDuggars\", \n",
        "    \"query\": \"%23DefendtheDuggars\", \n",
        "    \"name\": \"#DefendtheDuggars\", \n",
        "    \"promoted_content\": null\n",
        "   }, \n",
        "   {\n",
        "    \"url\": \"http://twitter.com/search?q=%22Pitch+Perfect+2%22\", \n",
        "    \"query\": \"%22Pitch+Perfect+2%22\", \n",
        "    \"name\": \"Pitch Perfect 2\", \n",
        "    \"promoted_content\": null\n",
        "   }, \n",
        "   {\n",
        "    \"url\": \"http://twitter.com/search?q=%22Jack+and+Jack+Groove%22\", \n",
        "    \"query\": \"%22Jack+and+Jack+Groove%22\", \n",
        "    \"name\": \"Jack and Jack Groove\", \n",
        "    \"promoted_content\": null\n",
        "   }, \n",
        "   {\n",
        "    \"url\": \"http://twitter.com/search?q=%22Lana+Del+Rey+for+MAXIM%22\", \n",
        "    \"query\": \"%22Lana+Del+Rey+for+MAXIM%22\", \n",
        "    \"name\": \"Lana Del Rey for MAXIM\", \n",
        "    \"promoted_content\": null\n",
        "   }, \n",
        "   {\n",
        "    \"url\": \"http://twitter.com/search?q=Gruber\", \n",
        "    \"query\": \"Gruber\", \n",
        "    \"name\": \"Gruber\", \n",
        "    \"promoted_content\": null\n",
        "   }, \n",
        "   {\n",
        "    \"url\": \"http://twitter.com/search?q=%22Mocking+Jay%22\", \n",
        "    \"query\": \"%22Mocking+Jay%22\", \n",
        "    \"name\": \"Mocking Jay\", \n",
        "    \"promoted_content\": null\n",
        "   }\n",
        "  ], \n",
        "  \"as_of\": \"2014-11-21T23:12:58Z\", \n",
        "  \"locations\": [\n",
        "   {\n",
        "    \"woeid\": 23424977, \n",
        "    \"name\": \"United States\"\n",
        "   }\n",
        "  ]\n",
        " }\n",
        "]\n",
        "\n",
        "[\n",
        " {\n",
        "  \"created_at\": \"2014-11-21T23:02:50Z\", \n",
        "  \"trends\": [\n",
        "   {\n",
        "    \"url\": \"http://twitter.com/search?q=%23NightChangesVideo\", \n",
        "    \"query\": \"%23NightChangesVideo\", \n",
        "    \"name\": \"#NightChangesVideo\", \n",
        "    \"promoted_content\": null\n",
        "   }, \n",
        "   {\n",
        "    \"url\": \"http://twitter.com/search?q=Mockingjay\", \n",
        "    \"query\": \"Mockingjay\", \n",
        "    \"name\": \"Mockingjay\", \n",
        "    \"promoted_content\": null\n",
        "   }, \n",
        "   {\n",
        "    \"url\": \"http://twitter.com/search?q=Tomas\", \n",
        "    \"query\": \"Tomas\", \n",
        "    \"name\": \"Tomas\", \n",
        "    \"promoted_content\": null\n",
        "   }, \n",
        "   {\n",
        "    \"url\": \"http://twitter.com/search?q=%23HTGAWM\", \n",
        "    \"query\": \"%23HTGAWM\", \n",
        "    \"name\": \"#HTGAWM\", \n",
        "    \"promoted_content\": null\n",
        "   }, \n",
        "   {\n",
        "    \"url\": \"http://twitter.com/search?q=%22The+1975%22\", \n",
        "    \"query\": \"%22The+1975%22\", \n",
        "    \"name\": \"The 1975\", \n",
        "    \"promoted_content\": null\n",
        "   }, \n",
        "   {\n",
        "    \"url\": \"http://twitter.com/search?q=Chiefs\", \n",
        "    \"query\": \"Chiefs\", \n",
        "    \"name\": \"Chiefs\", \n",
        "    \"promoted_content\": null\n",
        "   }, \n",
        "   {\n",
        "    \"url\": \"http://twitter.com/search?q=SDSU\", \n",
        "    \"query\": \"SDSU\", \n",
        "    \"name\": \"SDSU\", \n",
        "    \"promoted_content\": null\n",
        "   }, \n",
        "   {\n",
        "    \"url\": \"http://twitter.com/search?q=%23Scandal\", \n",
        "    \"query\": \"%23Scandal\", \n",
        "    \"name\": \"#Scandal\", \n",
        "    \"promoted_content\": null\n",
        "   }, \n",
        "   {\n",
        "    \"url\": \"http://twitter.com/search?q=%22Super+Bowl%22\", \n",
        "    \"query\": \"%22Super+Bowl%22\", \n",
        "    \"name\": \"Super Bowl\", \n",
        "    \"promoted_content\": null\n",
        "   }, \n",
        "   {\n",
        "    \"url\": \"http://twitter.com/search?q=%23ImmigrationAction\", \n",
        "    \"query\": \"%23ImmigrationAction\", \n",
        "    \"name\": \"#ImmigrationAction\", \n",
        "    \"promoted_content\": null\n",
        "   }\n",
        "  ], \n",
        "  \"as_of\": \"2014-11-21T23:12:58Z\", \n",
        "  \"locations\": [\n",
        "   {\n",
        "    \"woeid\": 2487889, \n",
        "    \"name\": \"San Diego\"\n",
        "   }\n",
        "  ]\n",
        " }\n",
        "]\n"
       ]
      }
     ],
     "prompt_number": 8
    },
    {
     "cell_type": "heading",
     "level": 2,
     "metadata": {},
     "source": [
      "Example 4. Computing the intersection of two sets of trends"
     ]
    },
    {
     "cell_type": "code",
     "collapsed": false,
     "input": [
      "trends_set = {}\n",
      "trends_set['world'] = set([trend['name'] \n",
      "                        for trend in world_trends[0]['trends']])\n",
      "\n",
      "trends_set['us'] = set([trend['name'] \n",
      "                     for trend in us_trends[0]['trends']]) \n",
      "\n",
      "trends_set['san diego'] = set([trend['name'] \n",
      "                     for trend in san_diego_trends[0]['trends']]) \n",
      "\n",
      "for loc in ['world','us','san diego']:\n",
      "    print '-'*10,loc\n",
      "    print ','.join(trends_set[loc])\n",
      "\n",
      "print '='*10,'intersection of world and us'\n",
      "print trends_set['world'].intersection(trends_set['us'])\n",
      "\n",
      "print '='*10,'intersection of us and san-diego'\n",
      "print trends_set['san diego'].intersection(trends_set['us'])"
     ],
     "language": "python",
     "metadata": {},
     "outputs": [
      {
       "output_type": "stream",
       "stream": "stdout",
       "text": [
        "---------- world\n",
        "Delena Is The Best Part Of TVD,#BeyazShow,S\u0131rp,#Uyumad\u0131m\u00c7\u00fcnk\u00fc,#NadaMasRelajante,#NeDemekU\u011furKARTALUyumad\u0131asfdgfh,#NightChangesVideo,Laurent,Esio Trot,Jack and Jack Groove\n",
        "---------- us\n",
        "#serenafriday,#DefendtheDuggars,#NightChangesVideo,#ImmigrationAction,Lana Del Rey for MAXIM,Mocking Jay,Pitch Perfect 2,#ThanksMichelleObama,Gruber,Jack and Jack Groove\n",
        "---------- san diego\n",
        "Tomas,Super Bowl,#NightChangesVideo,#ImmigrationAction,#HTGAWM,Chiefs,#Scandal,Mockingjay,The 1975,SDSU\n",
        "========== intersection of world and us\n",
        "set([u'#NightChangesVideo', u'Jack and Jack Groove'])\n",
        "========== intersection of us and san-diego\n",
        "set([u'#NightChangesVideo', u'#ImmigrationAction'])\n"
       ]
      }
     ],
     "prompt_number": 9
    },
    {
     "cell_type": "heading",
     "level": 2,
     "metadata": {},
     "source": [
      "Example 5. Collecting search results"
     ]
    },
    {
     "cell_type": "code",
     "collapsed": false,
     "input": [
      "# XXX: Set this variable to a trending topic, \n",
      "# or anything else for that matter. The example query below\n",
      "# was a trending topic when this content was being developed\n",
      "# and is used throughout the remainder of this chapter.\n",
      "\n",
      "q = 'Obama' \n",
      "\n",
      "count = 100\n",
      "\n",
      "# See https://dev.twitter.com/docs/api/1.1/get/search/tweets\n",
      "\n",
      "search_results = twitter_api.search.tweets(q=q, count=count)\n",
      "\n",
      "statuses = search_results['statuses']"
     ],
     "language": "python",
     "metadata": {},
     "outputs": []
    },
    {
     "cell_type": "code",
     "collapsed": false,
     "input": [
      "[s['text'] for s in search_results['statuses']]"
     ],
     "language": "python",
     "metadata": {},
     "outputs": [
      {
       "metadata": {},
       "output_type": "pyout",
       "prompt_number": 33,
       "text": [
        "[u'RT @aciprensa: Arzobispo de Los \\xc1ngeles a Obama: Medidas migratorias no bastan, urge reforma integral http://t.co/naVF06qfR5 http://t.co/Aj\\u2026',\n",
        " u'#RichardKent NC CRTofAPPEALS deniedCASE Nov4&amp;7 http://t.co/cEt01UXPZ8 Urge PresObama 2ENFORCE theConstitution.http://t.co/xV30etWOQd',\n",
        " u'Obama defends immigration reform: US President Barack Obama vows to press for further immigration reform, as R... http://t.co/HdpbmZtJcD',\n",
        " u'RT @camilacabello97: IMAGINE SEEING MICHELLE OBAMA SINGING ALONG TO BOSS. GOALS.',\n",
        " u'RT @VAGALUEM: Michelle Obama\\nBolsa tudo ficando pesado Oprah d\\xf3lares (chefe)',\n",
        " u'RT @MonicaCrowley: Obama: \"We expect those in this country to play by the rules.\"  You mean like you do?!',\n",
        " u'RT @camilacabello97: MICHELLE OBAMA HEARD BOSS.',\n",
        " u'RT @GovMikeHuckabee: President Obama heads into dangerous waters on immigration http://t.co/gOx7QCPkcN',\n",
        " u'Obama defends immigration reform http://t.co/pUGvahqcyH',\n",
        " u'The problem with Obama granting amnesty to all the immigrants is that the border has been purposely flooded for quite some time',\n",
        " u\"RT @Gawker: GOP-controlled committee agrees: Obama didn't fuck up Benghazi. http://t.co/Bz9encsceb\",\n",
        " u'RT @ruiz_sosa94: I hope Obama gives me papers lol I came to Houston at the age of 1 lol',\n",
        " u'Obama defends immigration reform: US President Barack Obama vows to press for further immigration reform, as R... http://t.co/BEZtEQxWOX',\n",
        " u\"RT @GOP: Obama himself has repeatedly said that he doesn't have the authority to impose an immigration action: http://t.co/O7h1597bSI\",\n",
        " u'If someone is injured or killed by an illegal, they (or their family) should sue #Obama.',\n",
        " u'RT @ROCKWITHBECK: The  Truth About Obama\\'s \"Temporary\" Ebola Amnesty http://t.co/qv6p1W8EsO',\n",
        " u'Obama defends immigration reform: US President Barack Obama vows to press for further immigration reform, as R... http://t.co/sCYvMAi8zn',\n",
        " u\"Obama's timing is perfect @G__hyena. it will take two years to process 5m applications for residency. Just in time for the 2016 election.\",\n",
        " u'RT @verumserum: House Intel Minority repeats claim that Obama called this \"acts of terror\\' on the day after the attack: http://t.co/mO6P4jv\\u2026',\n",
        " u'RT @SenatorKirk: \\u0646\\u0627\\u0645\\u0647 43 \\u0633\\u0646\\u0627\\u062a\\u0648\\u0631 \\u062c\\u0645\\u0647\\u0648\\u0631\\u06cc\\u062e\\u0648\\u0627\\u0647 \\u0628\\u0647 @WhiteHouse  \\u062f\\u0631\\u0628\\u0627\\u0631\\u0647 \\u0645\\u0630\\u0627\\u06a9\\u0631\\u0627\\u062a \\u0647\\u0633\\u062a\\u0647 \\u0627\\u06cc \\u0628\\u0627 \\u0627\\u06cc\\u0631\\u0627\\u0646 \\u0631\\u0627 \\u0628\\u062e\\u0648\\u0627\\u0646\\u06cc\\u062f. http://t.co/4uvs3lV0Bq',\n",
        " u'RT @MarthaLivingmar: Obama is getting high on power and has crossed the legal constitution lines so many times, what will be next? IMPEACH \\u2026',\n",
        " u'Las vidas que Obama sac\\xf3 y dej\\xf3 \"en las sombras\" con medida migratoria http://t.co/Py7pG1Q6Of',\n",
        " u'Las vidas que Obama sac\\xf3 y dej\\xf3 \"en las sombras\": La vida de casi cinco millones de personas mejorar\\xe1 gracias ... http://t.co/M0DkkjBvOg',\n",
        " u'RT @BarackObama: \\u201cWe didn\\u2019t raise the Statue of Liberty with her back to the world\\u2014we did it with her light shining.\\u201d \\u2014President Obama #Imm\\u2026',\n",
        " u'RT @camilacabello97: MICHELLE OBAMA HEARD BOSS.',\n",
        " u'RT @MonicaCrowley: Great column by @WayneDupreeShow in the @WashTimes -&gt; RT \"Black leaders shamefully silent on Obama\\'s amnesty\" http://t.c\\u2026',\n",
        " u'Obama defends immigration reform: US President Barack Obama vows to press for further immigration reform, as R... http://t.co/Z0h451KJjC',\n",
        " u'Las vidas que Obama sac\\xf3 y dej\\xf3 \"en las sombras\": La vida de casi cinco millones de personas mejorar\\xe1 gracias ... http://t.co/gsvQZAoOhj',\n",
        " u\"RT @brownjenjen: Could Obama cut deal on Keystone pipeline? Don't rule it out http://t.co/Gd1Uy8jxET Keystone pipeline  #Keystonepipeline #\\u2026\",\n",
        " u'RT @camilacabello97: IMAGINE SEEING MICHELLE OBAMA SINGING ALONG TO BOSS. GOALS.',\n",
        " u'Obama seeks support for immigration plan, blasts Boehner http://t.co/9jsVaeZlio LAS VEGAS \\u2014 President Barack Obama defended his decisio...',\n",
        " u'Las vidas que Obama sac\\xf3 y dej\\xf3 \"en las sombras\" con medida migratoria http://t.co/M0BnQEU1BD',\n",
        " u'@amtvmedia @JulieSheats http://t.co/j1dkuPW8jU',\n",
        " u'Obama defends immigration reform http://t.co/MY9XJultce',\n",
        " u'Las vidas que Obama sac\\xf3 y dej\\xf3 \"en las sombras\" http://t.co/SF9RJBMmNt',\n",
        " u'RT @Bidenshairplugs: Obama is importing poverty. The next time a Democrat talks about income inequality just punch them in the mouth. \\n\\n#Im\\u2026',\n",
        " u\"Mr. President, forget something?: He's got a lot on his mind -- can you blame him?\\n    \\n http://t.co/lWPumdm3wj\",\n",
        " u\"RT @camilacabello97: WE'RE PERFORMING AT THE NATIONAL TREE LIGHTING. TO SING FOR THE PRESIDENT. DO U KNOW HOW LONG IVE LOVED OBAMA. IM MEET\\u2026\",\n",
        " u'Las vidas que Obama sac\\xf3 y dej\\xf3 \"en las sombras\": La vida de casi cinco millones de personas mejorar\\xe1 gracias ... http://t.co/eJPBibKT2z',\n",
        " u'RT @BarackObama: \\u201cWe didn\\u2019t raise the Statue of Liberty with her back to the world\\u2014we did it with her light shining.\\u201d \\u2014President Obama #Imm\\u2026',\n",
        " u'RT @joe_nuzz: UAE sends clear signal on fighting terrorism, tougher than Obama on CAIROTHEDOG, Muslim Brotherhood   http://t.co/6jEsM6xd6z',\n",
        " u'Las vidas que Obama sac\\xf3 y dej\\xf3 \"en las sombras\": La vida de casi cinco millones de personas mejorar\\xe1 gracias ... http://t.co/1BigFcKY9Y',\n",
        " u'@lNCURSlO obama confirmed for Yaoi Luver',\n",
        " u\"RT @brownjenjen: Could Obama cut deal on Keystone pipeline? Don't rule it out http://t.co/Gd1Uy8jxET Keystone pipeline  #Keystonepipeline #\\u2026\",\n",
        " u\"3 takeaways from Obama's immigration announcement http://t.co/8HV6lhNCnE\",\n",
        " u\"RT @TheMichaelRock: I like to constantly tell my Atheist coworker about the things I don't believe in, like the Tooth Fairy, Easter Bunny a\\u2026\",\n",
        " u'@bycon11 @cvpayne CP admitted he voted for Obama first time while employed by FOX.Based on your assumption,he would never have admitted that',\n",
        " u'RT @BarackObama: \\u201cThis is not just a Latino issue. This is an American issue.\\u201d \\u2014President Obama #ImmigrationAction',\n",
        " u\"Obama ain't tryna kick it though\",\n",
        " u'[ #Full_De_Love ] Las vidas que Obama sac\\xf3 y dej\\xf3 \"en las sombras\": La vida de casi cinco millone... http://t.co/8kNBYuE6Ks #Ivansytto_c',\n",
        " u\"Mr. President, forget something?: He's got a lot on his mind -- can you blame him?\\n    \\n http://t.co/PEFGoRFW4T\",\n",
        " u'#Obama\\u2019s bordr raid #executivefiat #executiveorder #PresidentObama http://t.co/Cq9swiJ6SU',\n",
        " u'RT @MasterGuns1313: Obama: US Taxpayers Must Pay For Illegals\\u2019 Children http://t.co/I2fVlnl87p via @dailycaller',\n",
        " u'Obama defends immigration reform http://t.co/rPrxBbscMw',\n",
        " u'RT @NROcorner: Most Legalized Illegals Will Have No Net Income-Tax Liabilities: President Obama says that his executive order... http://t.c\\u2026',\n",
        " u'[ #Full_De_Love ] Las vidas que Obama sac\\xf3 y dej\\xf3 \"en las sombras\": La vida de casi cinco millone... http://t.co/tK4Sveo6Cg #Ivansytto_c',\n",
        " u\"RT @conncarroll: Huge: Sen. Claire McCaskill (D-MO) comes out against Obama's amnesty http://t.co/iQHJ8mWhaI\",\n",
        " u'Hillary Clinton: GOP \"abdication\" forced Obama\\'s hand on immigration http://t.co/c77pbJMP4H',\n",
        " u'#Obama to \\'commit felony worth 5-years jail time\\'. Reactions to amnesty decree vary wildly http://t.co/2jUfPtbflb #StopExecutiveAmnesty\"',\n",
        " u'Obama defends immigration reform http://t.co/H6FTv1Po4Q',\n",
        " u\"RT @camilacabello97: WE'RE PERFORMING AT THE NATIONAL TREE LIGHTING. TO SING FOR THE PRESIDENT. DO U KNOW HOW LONG IVE LOVED OBAMA. IM MEET\\u2026\",\n",
        " u'GOP-controlled House panel finds no wrongdoing by Obama appointees, CIA or military in 2012 Benghazi attack: http://t.co/OpNDYQTOEH',\n",
        " u'[#Oye_TitoNikee] Las vidas que Obama sac\\xf3 y dej\\xf3 \"en las sombras\": La vida de casi cinco mill... http://t.co/TQmeQvVYf5 [#Oye_TitoNikee]',\n",
        " u'RT @mikell24: I am convinced Obama could set fire to a roomful of orphans on live TV and liberals would sing his praises.',\n",
        " u'RT @PolitiBunny: As I said before, I am hopeful that if I pick enough fruit Obama will give me back my insurance policy. @SHannitysHair @fl\\u2026',\n",
        " u'Las vidas que Obama sac\\xf3 y dej\\xf3 \"en las sombras\": La vida de casi cinco millones de personas mejorar\\xe1 gracias ... http://t.co/wKYbMORWYm',\n",
        " u'RT @deoinverno: When Obama said \"to those in Congress who question my authority, I have one answer.. Pass a bill\" http://t.co/EjCbYqwIgP',\n",
        " u'#Obama opens the flood gates on the Southern Border while #Ferguson burns\\n#NoAmnesty #Illegals #BorderCrisis',\n",
        " u'Las vidas que Obama sac\\xf3 y dej\\xf3 \"en las sombras\": La vida de casi cinco millones de personas mejorar... http://t.co/MaPXTb44Wy #Noticias',\n",
        " u\"RT @latimes: Obama isn't the first president to push through immigration reform by working outside of Congress http://t.co/QieMrvb2QE\",\n",
        " u\"Mr. President, forget something?: He's got a lot on his mind -- can you blame him?\\n    \\n http://t.co/u1FPpsKoI1\",\n",
        " u'#ExpertoNBA \\u263a \\u2665 \\u263a Obama defiende medidas migratorias entre gritos en espa\\xf1ol de \"S\\xed se puede\": LAS VEGAS, EE.U... http://t.co/VSz6cq1kZy',\n",
        " u'Las vidas que Obama sac\\xf3 y dej\\xf3 \"en las sombras\": La vida de casi cinco millones de personas mejorar\\xe1 gracias ... http://t.co/Dk1b9bEJj5',\n",
        " u\"RT @fretsward: FACT CHECK: Obama's claims on illegal immigration http://t.co/7dWSoJpp8b via @YahooNews\\n\\nThe fact: lawlessness and treason...\",\n",
        " u'RT @BBCWorld: Obama vows to work with Congress to make permanent reform of immigration a reality http://t.co/IWrpFG6xst http://t.co/7XcNIA7\\u2026',\n",
        " u'Las vidas que Obama sac\\xf3 y dej\\xf3 \"en las sombras\": La vida de casi cinco millones de personas mejorar\\xe1 gracias ... http://t.co/ILM7mTU0IP',\n",
        " u'RT @DailyCaller: Episcopalian Bishop Calls Obama \\u2018A Sodomite\\u2019 http://t.co/8wUh4UCh82',\n",
        " u'[#Oye_TitoNikee] Las vidas que Obama sac\\xf3 y dej\\xf3 \"en las sombras\": La vida de casi cinco millones de personas ... http://t.co/NBpRQuoHu6',\n",
        " u'Las vidas que Obama sac\\xf3 y dej\\xf3 \"en las sombras\": La vida de casi cinco millones de personas mejorar\\xe1 gracias ... http://t.co/1GYmjuqJwp',\n",
        " u\"RT @Crowdifornia: Obama to 'commit felony worth 5-years jail time'. Reactions to amnesty decree vary wildly http://t.co/3N02f1WC1T #StopExe\\u2026\",\n",
        " u\"Weren't you illegal like a day ago? Just because Obama says you can be here doesn't mean you're American \\U0001f612\",\n",
        " u'RT @MonicaCrowley: He slaps Congress across the face again. RT \"Obama releases Gitmo detainees, defying Congress\" http://t.co/VZvPp1qwQh',\n",
        " u\"The #ACA won't cover your #abortion, &amp; #Obama made sure, personally. So much for #Democrats being pro-#womensrights http://t.co/1WIPP1Ohlx\",\n",
        " u'Las vidas que Obama sac\\xf3 y dej\\xf3 \"en las sombras\" http://t.co/K0QOtcOr6V',\n",
        " u'RT @teleSURtv: #AlDescubierto | \\xbfQui\\xe9n se beneficia con los anuncios de @BarackObama? &gt;&gt;&gt;http://t.co/61TsXniHNk http://t.co/l2VNcE4gvE',\n",
        " u'Obama defends immigration reform: US President Barack Obama vows to press for further immigration reform, as R... http://t.co/ypi02Q7uYO',\n",
        " u'RT @BarackObama: \\u201cWe didn\\u2019t raise the Statue of Liberty with her back to the world\\u2014we did it with her light shining.\\u201d \\u2014President Obama #Imm\\u2026',\n",
        " u'Obama defends immigration reform: US President Barack Obama vows to press for further immigration reform, as R... http://t.co/7lnCBf9zkv',\n",
        " u'Las vidas que Obama sac\\xf3 y dej\\xf3 \"en las sombras\" http://t.co/aazwrPSxM6',\n",
        " u'@paulwilburmin Had not Obama opened his mouth? http://t.co/v0OI796g3n via @Eindtijdnieuws Jesus Christ reveals the RFID chip.',\n",
        " u'#shipping  #Free Obama defends immigration reform: US President Barack Obama vows to press for further immigra... http://t.co/oBE4x6tT5i',\n",
        " u'RT @servative: @donotforget911 President Obama Must Be Impeached | @servative @the405radio http://t.co/s7GQzTRQ4U @vcrappy @KarolynRae @Chr\\u2026',\n",
        " u'Where Obama should be \"@PeacefulChrist: @FreedomTwighter @PAMsLOvE @TonyPhyrillas http://t.co/1pkUVgyJJ2\"',\n",
        " u'RT @dccc: Yesterday, the President unveiled a common-sense plan for #ImmigrationAction.\\n\\nStand w/ him \\u279c http://t.co/FZzFDWZxbc http://t.co/\\u2026',\n",
        " u\"RT @peddoc63: Obama want to keep illegal families united. Here's a way! Deport them altogether! #EasyPeasy #amnesty #tcot http://t.co/L4eoQ\\u2026\",\n",
        " u\"Obama May Have Tied the #GOP's Hands on #Immigration http://t.co/OiIOwldEeE http://t.co/fmcannnKYG\",\n",
        " u'Obama defends immigration reform: US President Barack Obama vows to press for further immigration reform, as R... http://t.co/nh8UIQYOun',\n",
        " u\"Without network coverage, Obama immigration speech barely keeps up with 'Big Bang Theory' http://t.co/CB64Qtb0tc\",\n",
        " u'Obama Releases More Gitmo Terrorists http://t.co/5OXxSi1DFA via @patriotupdate',\n",
        " u\"Latin America applauds Obama's immigration plan http://t.co/9LeCXMcBTI\"]"
       ]
      }
     ],
     "prompt_number": 33
    },
    {
     "cell_type": "code",
     "collapsed": false,
     "input": [
      "# Iterate through 5 more batches of results by following the cursor\n",
      "\n",
      "for _ in range(5):\n",
      "    print \"Length of statuses\", len(statuses)\n",
      "    try:\n",
      "        next_results = search_results['search_metadata']['next_results']\n",
      "    except KeyError, e: # No more results when next_results doesn't exist\n",
      "        break\n",
      "        \n",
      "    # Create a dictionary from next_results, which has the following form:\n",
      "    # ?max_id=313519052523986943&q=NCAA&include_entities=1\n",
      "    kwargs = dict([ kv.split('=') for kv in next_results[1:].split(\"&\") ])\n",
      "    \n",
      "    search_results = twitter_api.search.tweets(**kwargs)\n",
      "    statuses += search_results['statuses']\n",
      "\n",
      "# Show one sample search result by slicing the list...\n",
      "print json.dumps(statuses[0], indent=1)"
     ],
     "language": "python",
     "metadata": {},
     "outputs": [
      {
       "output_type": "stream",
       "stream": "stdout",
       "text": [
        "Length of statuses 100\n",
        "Length of statuses"
       ]
      },
      {
       "output_type": "stream",
       "stream": "stdout",
       "text": [
        " 200\n",
        "Length of statuses"
       ]
      },
      {
       "output_type": "stream",
       "stream": "stdout",
       "text": [
        " 300\n",
        "Length of statuses"
       ]
      },
      {
       "output_type": "stream",
       "stream": "stdout",
       "text": [
        " 400\n",
        "Length of statuses"
       ]
      },
      {
       "output_type": "stream",
       "stream": "stdout",
       "text": [
        " 500\n",
        "{\n",
        " \"contributors\": null, \n",
        " \"truncated\": false, \n",
        " \"text\": \"RT @aciprensa: Arzobispo de Los \\u00c1ngeles a Obama: Medidas migratorias no bastan, urge reforma integral http://t.co/naVF06qfR5 http://t.co/Aj\\u2026\", \n",
        " \"in_reply_to_status_id\": null, \n",
        " \"id\": 535938825508626432, \n",
        " \"favorite_count\": 0, \n",
        " \"source\": \"<a href=\\\"http://twitter.com/download/iphone\\\" rel=\\\"nofollow\\\">Twitter for iPhone</a>\", \n",
        " \"retweeted\": false, \n",
        " \"coordinates\": null, \n",
        " \"entities\": {\n",
        "  \"symbols\": [], \n",
        "  \"user_mentions\": [\n",
        "   {\n",
        "    \"id\": 17828368, \n",
        "    \"indices\": [\n",
        "     3, \n",
        "     13\n",
        "    ], \n",
        "    \"id_str\": \"17828368\", \n",
        "    \"screen_name\": \"aciprensa\", \n",
        "    \"name\": \"ACI Prensa\"\n",
        "   }\n",
        "  ], \n",
        "  \"hashtags\": [], \n",
        "  \"urls\": [\n",
        "   {\n",
        "    \"url\": \"http://t.co/naVF06qfR5\", \n",
        "    \"indices\": [\n",
        "     102, \n",
        "     124\n",
        "    ], \n",
        "    \"expanded_url\": \"http://ht.ly/EFd8f\", \n",
        "    \"display_url\": \"ht.ly/EFd8f\"\n",
        "   }\n",
        "  ], \n",
        "  \"media\": [\n",
        "   {\n",
        "    \"source_status_id_str\": \"535926959248003072\", \n",
        "    \"expanded_url\": \"http://twitter.com/aciprensa/status/535926959248003072/photo/1\", \n",
        "    \"display_url\": \"pic.twitter.com/Ajl5mykTuX\", \n",
        "    \"url\": \"http://t.co/Ajl5mykTuX\", \n",
        "    \"media_url_https\": \"https://pbs.twimg.com/media/B2_-usiIMAEq5mN.jpg\", \n",
        "    \"source_status_id\": 535926959248003072, \n",
        "    \"id_str\": \"535926958862118913\", \n",
        "    \"sizes\": {\n",
        "     \"large\": {\n",
        "      \"h\": 500, \n",
        "      \"resize\": \"fit\", \n",
        "      \"w\": 900\n",
        "     }, \n",
        "     \"small\": {\n",
        "      \"h\": 188, \n",
        "      \"resize\": \"fit\", \n",
        "      \"w\": 340\n",
        "     }, \n",
        "     \"medium\": {\n",
        "      \"h\": 333, \n",
        "      \"resize\": \"fit\", \n",
        "      \"w\": 600\n",
        "     }, \n",
        "     \"thumb\": {\n",
        "      \"h\": 150, \n",
        "      \"resize\": \"crop\", \n",
        "      \"w\": 150\n",
        "     }\n",
        "    }, \n",
        "    \"indices\": [\n",
        "     139, \n",
        "     140\n",
        "    ], \n",
        "    \"type\": \"photo\", \n",
        "    \"id\": 535926958862118913, \n",
        "    \"media_url\": \"http://pbs.twimg.com/media/B2_-usiIMAEq5mN.jpg\"\n",
        "   }\n",
        "  ]\n",
        " }, \n",
        " \"in_reply_to_screen_name\": null, \n",
        " \"in_reply_to_user_id\": null, \n",
        " \"retweet_count\": 9, \n",
        " \"id_str\": \"535938825508626432\", \n",
        " \"favorited\": false, \n",
        " \"retweeted_status\": {\n",
        "  \"contributors\": null, \n",
        "  \"truncated\": false, \n",
        "  \"text\": \"Arzobispo de Los \\u00c1ngeles a Obama: Medidas migratorias no bastan, urge reforma integral http://t.co/naVF06qfR5 http://t.co/Ajl5mykTuX\", \n",
        "  \"in_reply_to_status_id\": null, \n",
        "  \"id\": 535926959248003072, \n",
        "  \"favorite_count\": 7, \n",
        "  \"source\": \"<a href=\\\"http://www.hootsuite.com\\\" rel=\\\"nofollow\\\">Hootsuite</a>\", \n",
        "  \"retweeted\": false, \n",
        "  \"coordinates\": null, \n",
        "  \"entities\": {\n",
        "   \"symbols\": [], \n",
        "   \"user_mentions\": [], \n",
        "   \"hashtags\": [], \n",
        "   \"urls\": [\n",
        "    {\n",
        "     \"url\": \"http://t.co/naVF06qfR5\", \n",
        "     \"indices\": [\n",
        "      87, \n",
        "      109\n",
        "     ], \n",
        "     \"expanded_url\": \"http://ht.ly/EFd8f\", \n",
        "     \"display_url\": \"ht.ly/EFd8f\"\n",
        "    }\n",
        "   ], \n",
        "   \"media\": [\n",
        "    {\n",
        "     \"expanded_url\": \"http://twitter.com/aciprensa/status/535926959248003072/photo/1\", \n",
        "     \"display_url\": \"pic.twitter.com/Ajl5mykTuX\", \n",
        "     \"url\": \"http://t.co/Ajl5mykTuX\", \n",
        "     \"media_url_https\": \"https://pbs.twimg.com/media/B2_-usiIMAEq5mN.jpg\", \n",
        "     \"id_str\": \"535926958862118913\", \n",
        "     \"sizes\": {\n",
        "      \"large\": {\n",
        "       \"h\": 500, \n",
        "       \"resize\": \"fit\", \n",
        "       \"w\": 900\n",
        "      }, \n",
        "      \"small\": {\n",
        "       \"h\": 188, \n",
        "       \"resize\": \"fit\", \n",
        "       \"w\": 340\n",
        "      }, \n",
        "      \"medium\": {\n",
        "       \"h\": 333, \n",
        "       \"resize\": \"fit\", \n",
        "       \"w\": 600\n",
        "      }, \n",
        "      \"thumb\": {\n",
        "       \"h\": 150, \n",
        "       \"resize\": \"crop\", \n",
        "       \"w\": 150\n",
        "      }\n",
        "     }, \n",
        "     \"indices\": [\n",
        "      110, \n",
        "      132\n",
        "     ], \n",
        "     \"type\": \"photo\", \n",
        "     \"id\": 535926958862118913, \n",
        "     \"media_url\": \"http://pbs.twimg.com/media/B2_-usiIMAEq5mN.jpg\"\n",
        "    }\n",
        "   ]\n",
        "  }, \n",
        "  \"in_reply_to_screen_name\": null, \n",
        "  \"in_reply_to_user_id\": null, \n",
        "  \"retweet_count\": 9, \n",
        "  \"id_str\": \"535926959248003072\", \n",
        "  \"favorited\": false, \n",
        "  \"user\": {\n",
        "   \"follow_request_sent\": false, \n",
        "   \"profile_use_background_image\": true, \n",
        "   \"profile_text_color\": \"858385\", \n",
        "   \"default_profile_image\": false, \n",
        "   \"id\": 17828368, \n",
        "   \"profile_background_image_url_https\": \"https://pbs.twimg.com/profile_background_images/212689674/backcna.jpg\", \n",
        "   \"verified\": false, \n",
        "   \"profile_location\": null, \n",
        "   \"profile_image_url_https\": \"https://pbs.twimg.com/profile_images/458685084103479296/sNKsue34_normal.jpeg\", \n",
        "   \"profile_sidebar_fill_color\": \"B8DEF0\", \n",
        "   \"entities\": {\n",
        "    \"url\": {\n",
        "     \"urls\": [\n",
        "      {\n",
        "       \"url\": \"http://t.co/93vPWIqOjT\", \n",
        "       \"indices\": [\n",
        "        0, \n",
        "        22\n",
        "       ], \n",
        "       \"expanded_url\": \"http://www.aciprensa.com\", \n",
        "       \"display_url\": \"aciprensa.com\"\n",
        "      }\n",
        "     ]\n",
        "    }, \n",
        "    \"description\": {\n",
        "     \"urls\": []\n",
        "    }\n",
        "   }, \n",
        "   \"followers_count\": 111559, \n",
        "   \"profile_sidebar_border_color\": \"A3C2D1\", \n",
        "   \"id_str\": \"17828368\", \n",
        "   \"profile_background_color\": \"3C6EA3\", \n",
        "   \"listed_count\": 1167, \n",
        "   \"is_translation_enabled\": false, \n",
        "   \"utc_offset\": -18000, \n",
        "   \"statuses_count\": 29746, \n",
        "   \"description\": \"Lo que todo cat\\u00f3lico necesita saber.\", \n",
        "   \"friends_count\": 280, \n",
        "   \"location\": \"Am\\u00e9rica Latina\", \n",
        "   \"profile_link_color\": \"2689AD\", \n",
        "   \"profile_image_url\": \"http://pbs.twimg.com/profile_images/458685084103479296/sNKsue34_normal.jpeg\", \n",
        "   \"following\": false, \n",
        "   \"geo_enabled\": false, \n",
        "   \"profile_banner_url\": \"https://pbs.twimg.com/profile_banners/17828368/1360196095\", \n",
        "   \"profile_background_image_url\": \"http://pbs.twimg.com/profile_background_images/212689674/backcna.jpg\", \n",
        "   \"name\": \"ACI Prensa\", \n",
        "   \"lang\": \"es\", \n",
        "   \"profile_background_tile\": false, \n",
        "   \"favourites_count\": 308, \n",
        "   \"screen_name\": \"aciprensa\", \n",
        "   \"notifications\": false, \n",
        "   \"url\": \"http://t.co/93vPWIqOjT\", \n",
        "   \"created_at\": \"Wed Dec 03 04:06:54 +0000 2008\", \n",
        "   \"contributors_enabled\": false, \n",
        "   \"time_zone\": \"Eastern Time (US & Canada)\", \n",
        "   \"protected\": false, \n",
        "   \"default_profile\": false, \n",
        "   \"is_translator\": false\n",
        "  }, \n",
        "  \"geo\": null, \n",
        "  \"in_reply_to_user_id_str\": null, \n",
        "  \"possibly_sensitive\": false, \n",
        "  \"lang\": \"es\", \n",
        "  \"created_at\": \"Fri Nov 21 22:45:18 +0000 2014\", \n",
        "  \"in_reply_to_status_id_str\": null, \n",
        "  \"place\": null, \n",
        "  \"metadata\": {\n",
        "   \"iso_language_code\": \"es\", \n",
        "   \"result_type\": \"recent\"\n",
        "  }\n",
        " }, \n",
        " \"user\": {\n",
        "  \"follow_request_sent\": false, \n",
        "  \"profile_use_background_image\": true, \n",
        "  \"profile_text_color\": \"333333\", \n",
        "  \"default_profile_image\": false, \n",
        "  \"id\": 1227972086, \n",
        "  \"profile_background_image_url_https\": \"https://abs.twimg.com/images/themes/theme1/bg.png\", \n",
        "  \"verified\": false, \n",
        "  \"profile_location\": null, \n",
        "  \"profile_image_url_https\": \"https://pbs.twimg.com/profile_images/494538896546734080/GBKWAB_i_normal.jpeg\", \n",
        "  \"profile_sidebar_fill_color\": \"DDEEF6\", \n",
        "  \"entities\": {\n",
        "   \"description\": {\n",
        "    \"urls\": []\n",
        "   }\n",
        "  }, \n",
        "  \"followers_count\": 27, \n",
        "  \"profile_sidebar_border_color\": \"C0DEED\", \n",
        "  \"id_str\": \"1227972086\", \n",
        "  \"profile_background_color\": \"C0DEED\", \n",
        "  \"listed_count\": 3, \n",
        "  \"is_translation_enabled\": false, \n",
        "  \"utc_offset\": null, \n",
        "  \"statuses_count\": 438, \n",
        "  \"description\": \"\", \n",
        "  \"friends_count\": 227, \n",
        "  \"location\": \"Argentina\", \n",
        "  \"profile_link_color\": \"0084B4\", \n",
        "  \"profile_image_url\": \"http://pbs.twimg.com/profile_images/494538896546734080/GBKWAB_i_normal.jpeg\", \n",
        "  \"following\": false, \n",
        "  \"geo_enabled\": true, \n",
        "  \"profile_banner_url\": \"https://pbs.twimg.com/profile_banners/1227972086/1411696845\", \n",
        "  \"profile_background_image_url\": \"http://abs.twimg.com/images/themes/theme1/bg.png\", \n",
        "  \"name\": \"Irma Lucia Perez\", \n",
        "  \"lang\": \"es\", \n",
        "  \"profile_background_tile\": false, \n",
        "  \"favourites_count\": 23, \n",
        "  \"screen_name\": \"IrmaPerezLucia\", \n",
        "  \"notifications\": false, \n",
        "  \"url\": null, \n",
        "  \"created_at\": \"Thu Feb 28 17:05:46 +0000 2013\", \n",
        "  \"contributors_enabled\": false, \n",
        "  \"time_zone\": null, \n",
        "  \"protected\": false, \n",
        "  \"default_profile\": true, \n",
        "  \"is_translator\": false\n",
        " }, \n",
        " \"geo\": null, \n",
        " \"in_reply_to_user_id_str\": null, \n",
        " \"possibly_sensitive\": false, \n",
        " \"lang\": \"es\", \n",
        " \"created_at\": \"Fri Nov 21 23:32:27 +0000 2014\", \n",
        " \"in_reply_to_status_id_str\": null, \n",
        " \"place\": null, \n",
        " \"metadata\": {\n",
        "  \"iso_language_code\": \"es\", \n",
        "  \"result_type\": \"recent\"\n",
        " }\n",
        "}"
       ]
      },
      {
       "output_type": "stream",
       "stream": "stdout",
       "text": [
        "\n"
       ]
      }
     ],
     "prompt_number": 34
    },
    {
     "cell_type": "markdown",
     "metadata": {},
     "source": [
      "Note: Should you desire to do so, you can load the same set of search results that are illustrated in the text of _Mining the Social Web_ by executing the code below that reads a snapshot of the data and stores it into the same statuses variable as was defined above. Alternatively, you can choose to skip execution of this cell in order to follow along with your own data."
     ]
    },
    {
     "cell_type": "code",
     "collapsed": false,
     "input": [
      "import json\n",
      "#statuses = json.loads(open('resources/ch01-twitter/data/MentionSomeoneImportantForYou.json').read())\n",
      "\n",
      "# The result of the list comprehension is a list with only one element that\n",
      "# can be accessed by its index and set to the variable t\n",
      "t = statuses\n",
      "#[ status for status in statuses \n",
      "#          if status['id'] == 316948241264549888 ][0]\n",
      "\n",
      "# Explore the variable t to get familiarized with the data structure...\n",
      "\n",
      "print t['retweet_count']\n",
      "print t['retweeted_status']\n",
      "\n",
      "# Can you find the most retweeted tweet in your search results? Try do do it!"
     ],
     "language": "python",
     "metadata": {},
     "outputs": [
      {
       "ename": "TypeError",
       "evalue": "list indices must be integers, not str",
       "output_type": "pyerr",
       "traceback": [
        "\u001b[0;31m---------------------------------------------------------------------------\u001b[0m\n\u001b[0;31mTypeError\u001b[0m                                 Traceback (most recent call last)",
        "\u001b[0;32m<ipython-input-36-0e6329861009>\u001b[0m in \u001b[0;36m<module>\u001b[0;34m()\u001b[0m\n\u001b[1;32m     10\u001b[0m \u001b[0;31m# Explore the variable t to get familiarized with the data structure...\u001b[0m\u001b[0;34m\u001b[0m\u001b[0;34m\u001b[0m\u001b[0m\n\u001b[1;32m     11\u001b[0m \u001b[0;34m\u001b[0m\u001b[0m\n\u001b[0;32m---> 12\u001b[0;31m \u001b[0;32mprint\u001b[0m \u001b[0mt\u001b[0m\u001b[0;34m[\u001b[0m\u001b[0;34m'retweet_count'\u001b[0m\u001b[0;34m]\u001b[0m\u001b[0;34m\u001b[0m\u001b[0m\n\u001b[0m\u001b[1;32m     13\u001b[0m \u001b[0;32mprint\u001b[0m \u001b[0mt\u001b[0m\u001b[0;34m[\u001b[0m\u001b[0;34m'retweeted_status'\u001b[0m\u001b[0;34m]\u001b[0m\u001b[0;34m\u001b[0m\u001b[0m\n\u001b[1;32m     14\u001b[0m \u001b[0;34m\u001b[0m\u001b[0m\n",
        "\u001b[0;31mTypeError\u001b[0m: list indices must be integers, not str"
       ]
      }
     ],
     "prompt_number": 36
    },
    {
     "cell_type": "heading",
     "level": 2,
     "metadata": {},
     "source": [
      "Example 6. Extracting text, screen names, and hashtags from tweets"
     ]
    },
    {
     "cell_type": "code",
     "collapsed": false,
     "input": [
      "status_texts = [ status['text'] \n",
      "                 for status in statuses ]\n",
      "\n",
      "screen_names = [ user_mention['screen_name'] \n",
      "                 for status in statuses\n",
      "                     for user_mention in status['entities']['user_mentions'] ]\n",
      "\n",
      "hashtags = [ hashtag['text'] \n",
      "             for status in statuses\n",
      "                 for hashtag in status['entities']['hashtags'] ]\n",
      "\n",
      "# Compute a collection of all words from all tweets\n",
      "words = [ w \n",
      "          for t in status_texts \n",
      "              for w in t.split() ]\n",
      "\n",
      "# Explore the first 5 items for each...\n",
      "\n",
      "print json.dumps(status_texts[0:5], indent=1)\n",
      "print json.dumps(screen_names[0:5], indent=1) \n",
      "print json.dumps(hashtags[0:5], indent=1)\n",
      "print json.dumps(words[0:5], indent=1)"
     ],
     "language": "python",
     "metadata": {},
     "outputs": [
      {
       "output_type": "stream",
       "stream": "stdout",
       "text": [
        "[\n",
        " \"\\u201c@KathleenMariee_: #MentionSomeOneImportantForYou @AhhlicksCruise , @itsravennn_cx ,@kandykisses_13 , @BMOLOGY\\u201d\\ud83d\\udc4d\", \n",
        " \"#MentionSomeoneImportantForYou My bf @Linkin_Sunrise.\", \n",
        " \"RT @hassanmusician: #MentionSomeoneImportantForYou God.\", \n",
        " \"#MentionSomeoneImportantForYou @Louis_Tomlinson\", \n",
        " \"#MentionSomeoneImportantForYou @Delta_Universe\"\n",
        "]\n",
        "[\n",
        " \"KathleenMariee_\", \n",
        " \"AhhlicksCruise\", \n",
        " \"itsravennn_cx\", \n",
        " \"kandykisses_13\", \n",
        " \"BMOLOGY\"\n",
        "]\n",
        "[\n",
        " \"MentionSomeOneImportantForYou\", \n",
        " \"MentionSomeoneImportantForYou\", \n",
        " \"MentionSomeoneImportantForYou\", \n",
        " \"MentionSomeoneImportantForYou\", \n",
        " \"MentionSomeoneImportantForYou\"\n",
        "]\n",
        "[\n",
        " \"\\u201c@KathleenMariee_:\", \n",
        " \"#MentionSomeOneImportantForYou\", \n",
        " \"@AhhlicksCruise\", \n",
        " \",\", \n",
        " \"@itsravennn_cx\"\n",
        "]\n"
       ]
      }
     ],
     "prompt_number": 12
    },
    {
     "cell_type": "heading",
     "level": 2,
     "metadata": {},
     "source": [
      "Example 7. Creating a basic frequency distribution from the words in tweets"
     ]
    },
    {
     "cell_type": "code",
     "collapsed": false,
     "input": [
      "from collections import Counter\n",
      "\n",
      "for item in [words, screen_names, hashtags]:\n",
      "    c = Counter(item)\n",
      "    print c.most_common()[:10] # top 10\n",
      "    print"
     ],
     "language": "python",
     "metadata": {},
     "outputs": [
      {
       "output_type": "stream",
       "stream": "stdout",
       "text": [
        "[(u'#MentionSomeoneImportantForYou', 92), (u'RT', 34), (u'my', 10), (u',', 6), (u'@justinbieber', 6), (u'&lt;3', 6), (u'My', 5), (u'and', 4), (u'I', 4), (u'te', 3)]\n",
        "\n",
        "[(u'justinbieber', 6), (u'Kid_Charliej', 2), (u'Cavillafuerte', 2), (u'touchmestyles_', 1), (u'aliceorr96', 1), (u'gymleeam', 1), (u'fienas', 1), (u'nayely_1D', 1), (u'angelchute', 1), (u'BigTittieAngel', 1)]\n",
        "\n",
        "[(u'MentionSomeoneImportantForYou', 94), (u'mentionsomeoneimportantforyou', 3), (u'NoHomo', 1), (u'Love', 1), (u'MentionSomeOneImportantForYou', 1), (u'MyHeart', 1), (u'bebesito', 1)]\n",
        "\n"
       ]
      }
     ],
     "prompt_number": 13
    },
    {
     "cell_type": "heading",
     "level": 2,
     "metadata": {},
     "source": [
      "Example 8. Using prettytable to display tuples in a nice tabular format"
     ]
    },
    {
     "cell_type": "code",
     "collapsed": false,
     "input": [
      "from prettytable import PrettyTable\n",
      "\n",
      "for label, data in (('Word', words), \n",
      "                    ('Screen Name', screen_names), \n",
      "                    ('Hashtag', hashtags)):\n",
      "    pt = PrettyTable(field_names=[label, 'Count']) \n",
      "    c = Counter(data)\n",
      "    [ pt.add_row(kv) for kv in c.most_common()[:10] ]\n",
      "    pt.align[label], pt.align['Count'] = 'l', 'r' # Set column alignment\n",
      "    print pt"
     ],
     "language": "python",
     "metadata": {},
     "outputs": [
      {
       "output_type": "stream",
       "stream": "stdout",
       "text": [
        "+--------------------------------+-------+\n",
        "| Word                           | Count |\n",
        "+--------------------------------+-------+\n",
        "| #MentionSomeoneImportantForYou |    92 |\n",
        "| RT                             |    34 |\n",
        "| my                             |    10 |\n",
        "| ,                              |     6 |\n",
        "| @justinbieber                  |     6 |\n",
        "| &lt;3                          |     6 |\n",
        "| My                             |     5 |\n",
        "| and                            |     4 |\n",
        "| I                              |     4 |\n",
        "| te                             |     3 |\n",
        "+--------------------------------+-------+\n",
        "+----------------+-------+\n",
        "| Screen Name    | Count |\n",
        "+----------------+-------+\n",
        "| justinbieber   |     6 |\n",
        "| Kid_Charliej   |     2 |\n",
        "| Cavillafuerte  |     2 |\n",
        "| touchmestyles_ |     1 |\n",
        "| aliceorr96     |     1 |\n",
        "| gymleeam       |     1 |\n",
        "| fienas         |     1 |\n",
        "| nayely_1D      |     1 |\n",
        "| angelchute     |     1 |\n",
        "| BigTittieAngel |     1 |\n",
        "+----------------+-------+\n",
        "+-------------------------------+-------+\n",
        "| Hashtag                       | Count |\n",
        "+-------------------------------+-------+\n",
        "| MentionSomeoneImportantForYou |    94 |\n",
        "| mentionsomeoneimportantforyou |     3 |\n",
        "| NoHomo                        |     1 |\n",
        "| Love                          |     1 |\n",
        "| MentionSomeOneImportantForYou |     1 |\n",
        "| MyHeart                       |     1 |\n",
        "| bebesito                      |     1 |\n",
        "+-------------------------------+-------+\n"
       ]
      }
     ],
     "prompt_number": 14
    },
    {
     "cell_type": "heading",
     "level": 2,
     "metadata": {},
     "source": [
      "Example 9. Calculating lexical diversity for tweets"
     ]
    },
    {
     "cell_type": "code",
     "collapsed": false,
     "input": [
      "# A function for computing lexical diversity\n",
      "def lexical_diversity(tokens):\n",
      "    return 1.0*len(set(tokens))/len(tokens) \n",
      "\n",
      "# A function for computing the average number of words per tweet\n",
      "def average_words(statuses):\n",
      "    total_words = sum([ len(s.split()) for s in statuses ]) \n",
      "    return 1.0*total_words/len(statuses)\n",
      "\n",
      "print lexical_diversity(words)\n",
      "print lexical_diversity(screen_names)\n",
      "print lexical_diversity(hashtags)\n",
      "print average_words(status_texts)"
     ],
     "language": "python",
     "metadata": {},
     "outputs": [
      {
       "output_type": "stream",
       "stream": "stdout",
       "text": [
        "0.67610619469\n",
        "0.955414012739\n",
        "0.0686274509804\n",
        "5.76530612245\n"
       ]
      }
     ],
     "prompt_number": 46
    },
    {
     "cell_type": "heading",
     "level": 2,
     "metadata": {},
     "source": [
      "Example 10. Finding the most popular retweets"
     ]
    },
    {
     "cell_type": "code",
     "collapsed": false,
     "input": [
      "retweets = [\n",
      "            # Store out a tuple of these three values ...\n",
      "            (status['retweet_count'], \n",
      "             status['retweeted_status']['user']['screen_name'],\n",
      "             status['text']) \n",
      "            \n",
      "            # ... for each status ...\n",
      "            for status in statuses \n",
      "            \n",
      "            # ... so long as the status meets this condition.\n",
      "                if status.has_key('retweeted_status')\n",
      "           ]\n",
      "\n",
      "# Slice off the first 5 from the sorted results and display each item in the tuple\n",
      "\n",
      "pt = PrettyTable(field_names=['Count', 'Screen Name', 'Text'])\n",
      "[ pt.add_row(row) for row in sorted(retweets, reverse=True)[:5] ]\n",
      "pt.max_width['Text'] = 50\n",
      "pt.align= 'l'\n",
      "print pt"
     ],
     "language": "python",
     "metadata": {},
     "outputs": [
      {
       "output_type": "stream",
       "stream": "stdout",
       "text": [
        "+-------+----------------+----------------------------------------------------+\n",
        "| Count | Screen Name    | Text                                               |\n",
        "+-------+----------------+----------------------------------------------------+\n",
        "| 23    | hassanmusician | RT @hassanmusician: #MentionSomeoneImportantForYou |\n",
        "|       |                | God.                                               |\n",
        "| 21    | HSweethearts   | RT @HSweethearts: #MentionSomeoneImportantForYou   |\n",
        "|       |                | my high school sweetheart \u2764\ud83d\udc8b                      |\n",
        "| 15    | LosAlejandro_  | RT @LosAlejandro_: \u00bfNadie te menciono en           |\n",
        "|       |                | \"#MentionSomeoneImportantForYou\"? JAJAJAJAJAJAJAJA |\n",
        "|       |                | JAJAJAJAJAJAJAJAJAJAJAJAJAJAJAJAJAJAJAJA Ven, ...  |\n",
        "| 9     | SCOTTSUMME     | RT @SCOTTSUMME: #MentionSomeoneImportantForYou My  |\n",
        "|       |                | Mum. Shes loving, caring, strong, all in one. I    |\n",
        "|       |                | love her so much \u2764\u2764\u2764\u2764                              |\n",
        "| 7     | degrassihaha   | RT @degrassihaha: #MentionSomeoneImportantForYou I |\n",
        "|       |                | can't put every Degrassi cast member, crew member, |\n",
        "|       |                | and writer in just one tweet....                   |\n",
        "+-------+----------------+----------------------------------------------------+\n"
       ]
      }
     ],
     "prompt_number": 15
    },
    {
     "cell_type": "heading",
     "level": 2,
     "metadata": {},
     "source": [
      "Example 11. Looking up users who have retweeted a status"
     ]
    },
    {
     "cell_type": "code",
     "collapsed": false,
     "input": [
      "# Get the original tweet id for a tweet from its retweeted_status node \n",
      "# and insert it here in place of the sample value that is provided\n",
      "# from the text of the book\n",
      "\n",
      "_retweets = twitter_api.statuses.retweets(id=317127304981667841)\n",
      "print [r['user']['screen_name'] for r in _retweets]"
     ],
     "language": "python",
     "metadata": {},
     "outputs": [
      {
       "output_type": "stream",
       "stream": "stdout",
       "text": [
        "[u'jyeee', u'Ceejaynatics', u'Majendalove', u'shameeennnn', u'EmilyearoRuiz', u'Oliviyaaay', u'ShikaynaAryan', u'LoveKyana18', u'AileenPangan', u'kidamgos', u'ShaaaronOng', u'asdfghjbl']\n"
       ]
      }
     ],
     "prompt_number": 48
    },
    {
     "cell_type": "heading",
     "level": 2,
     "metadata": {},
     "source": [
      "Example 12. Plotting frequencies of words"
     ]
    },
    {
     "cell_type": "code",
     "collapsed": false,
     "input": [
      "word_counts = sorted(Counter(words).values(), reverse=True)\n",
      "\n",
      "plt.loglog(word_counts)\n",
      "plt.ylabel(\"Freq\")\n",
      "plt.xlabel(\"Word Rank\")"
     ],
     "language": "python",
     "metadata": {},
     "outputs": [
      {
       "metadata": {},
       "output_type": "pyout",
       "prompt_number": 49,
       "text": [
        "<matplotlib.text.Text at 0x10b12fed0>"
       ]
      },
      {
       "metadata": {},
       "output_type": "display_data",
       "png": "[encoded data removed]",
       "text": [
        "<matplotlib.figure.Figure at 0x108717a50>"
       ]
      }
     ],
     "prompt_number": 49
    },
    {
     "cell_type": "heading",
     "level": 2,
     "metadata": {},
     "source": [
      "Example 13. Generating histograms of words, screen names, and hashtags"
     ]
    },
    {
     "cell_type": "code",
     "collapsed": false,
     "input": [
      "for label, data in (('Words', words), \n",
      "                    ('Screen Names', screen_names), \n",
      "                    ('Hashtags', hashtags)):\n",
      "\n",
      "    # Build a frequency map for each set of data\n",
      "    # and plot the values\n",
      "    c = Counter(data)\n",
      "    plt.hist(c.values())\n",
      "    \n",
      "    # Add a title and y-label ...\n",
      "    plt.title(label)\n",
      "    plt.ylabel(\"Number of items in bin\")\n",
      "    plt.xlabel(\"Bins (number of times an item appeared)\")\n",
      "    \n",
      "    # ... and display as a new figure\n",
      "    plt.figure()"
     ],
     "language": "python",
     "metadata": {},
     "outputs": [
      {
       "metadata": {},
       "output_type": "display_data",
       "png": "[encoded data removed]",
       "text": [
        "<matplotlib.figure.Figure at 0x10240cf90>"
       ]
      },
      {
       "metadata": {},
       "output_type": "display_data",
       "png": "[encoded data removed]",
       "text": [
        "<matplotlib.figure.Figure at 0x10b097950>"
       ]
      },
      {
       "metadata": {},
       "output_type": "display_data",
       "png": "[encoded data removed]",
       "text": [
        "<matplotlib.figure.Figure at 0x10b21d410>"
       ]
      },
      {
       "metadata": {},
       "output_type": "display_data",
       "text": [
        "<matplotlib.figure.Figure at 0x109809ad0>"
       ]
      }
     ],
     "prompt_number": 50
    },
    {
     "cell_type": "heading",
     "level": 2,
     "metadata": {},
     "source": [
      "Example 14. Generating a histogram of retweet counts"
     ]
    },
    {
     "cell_type": "code",
     "collapsed": false,
     "input": [
      "# Using underscores while unpacking values in\n",
      "# a tuple is idiomatic for discarding them\n",
      "\n",
      "counts = [count for count, _, _ in retweets]\n",
      "\n",
      "plt.hist(counts,bins=20)\n",
      "plt.title(\"Retweets\")\n",
      "plt.xlabel('Bins (number of times retweeted)')\n",
      "plt.ylabel('Number of tweets in bin')\n",
      "\n",
      "print counts"
     ],
     "language": "python",
     "metadata": {},
     "outputs": [
      {
       "output_type": "stream",
       "stream": "stdout",
       "text": [
        "[23, 1, 21, 1, 5, 2, 2, 2, 3, 1, 1, 1, 1, 9, 1, 1, 1, 15, 1, 1, 1, 2, 1, 1, 7, 6, 1, 3, 1, 1, 1, 1, 1]\n"
       ]
      },
      {
       "metadata": {},
       "output_type": "display_data",
       "png": "[encoded data removed]",
       "text": [
        "<matplotlib.figure.Figure at 0x1098b0950>"
       ]
      }
     ],
     "prompt_number": 53
    },
    {
     "cell_type": "markdown",
     "metadata": {},
     "source": [
      "Note: This histogram gives you an idea of how many times tweets are retweeted with the x-axis defining partitions for tweets that have been retweeted some number of times and the y-axis telling you how many tweets fell into each bin. For example, a y-axis value of 5 for the \"15-20 bin\" on the x-axis means that there were 5 tweets that were retweeted between 15 and 20 times.\n",
      "\n",
      "Here's another variation that transforms the data using the (automatically imported from numpy) log function in order to improve the resolution of the plot."
     ]
    },
    {
     "cell_type": "code",
     "collapsed": false,
     "input": [
      "# Using underscores while unpacking values in\n",
      "# a tuple is idiomatic for discarding them\n",
      "\n",
      "counts = [count for count, _, _ in retweets]\n",
      "\n",
      "# Taking the log of the *data values* themselves can \n",
      "# often provide quick and valuable insight into the\n",
      "# underlying distribution as well. Try it back on\n",
      "# Example 13 and see if it helps.\n",
      "\n",
      "plt.hist(log(counts))\n",
      "plt.title(\"Retweets\")\n",
      "plt.xlabel('Log[Bins (number of times retweeted)]')\n",
      "plt.ylabel('Log[Number of tweets in bin]')\n",
      "\n",
      "print log(counts)"
     ],
     "language": "python",
     "metadata": {},
     "outputs": [
      {
       "output_type": "stream",
       "stream": "stdout",
       "text": [
        "[ 3.13549422  0.          3.04452244  0.          1.60943791  0.69314718\n",
        "  0.69314718  0.69314718  1.09861229  0.          0.          0.          0.\n",
        "  2.19722458  0.          0.          0.          2.7080502   0.          0.\n",
        "  0.          0.69314718  0.          0.          1.94591015  1.79175947\n",
        "  0.          1.09861229  0.          0.          0.          0.          0.        ]\n"
       ]
      },
      {
       "metadata": {},
       "output_type": "display_data",
       "png": "[encoded data removed]",
       "text": [
        "<matplotlib.figure.Figure at 0x10b4a40d0>"
       ]
      }
     ],
     "prompt_number": 52
    },
    {
     "cell_type": "code",
     "collapsed": false,
     "input": [],
     "language": "python",
     "metadata": {},
     "outputs": []
    }
   ],
   "metadata": {}
  }
 ]
}