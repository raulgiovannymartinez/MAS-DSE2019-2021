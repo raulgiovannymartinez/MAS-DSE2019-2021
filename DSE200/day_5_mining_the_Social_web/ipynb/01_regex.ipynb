{
 "cells": [
  {
   "cell_type": "markdown",
   "metadata": {
    "slideshow": {
     "slide_type": "-"
    }
   },
   "source": [
    "# Regex tutorial\n",
    "\n",
    "You write regular expressions (regex) to match patterns in strings.  When you are processing text, you may want to extract a **substring** of some predictable structure: a phone number, an email address, or something more specific to your research or task.  You may also want to clean your text of some kind of junk: maybe there are repetitive formatting errors due to some transcription process that you need to remove.\n",
    "        \n",
    "In these cases and in many others like them, writing the right regex will be better than working by hand or using a magical third-party library/software that claims to do what you want.\n",
    "\n",
    "Please refer back to the slides to see the building blocks of regex.\n",
    "\n",
    "## Character classes\n",
    "\n",
    "- Used to match any one of a specific set of characters\n",
    "- Defined using the **[** and **]** metacharacters\n",
    "- Within a character class, **^** and **-** can have special meaning (complement and range), depending on their position in the class\n"
   ]
  },
  {
   "cell_type": "code",
   "execution_count": null,
   "metadata": {
    "slideshow": {
     "slide_type": "-"
    }
   },
   "outputs": [],
   "source": [
    "import re #the regex module in the python standard library\n",
    "\n",
    "#strings to be searched for matching regex patterns\n",
    "str1 = \"Aardvarks belong to the Captain\"\n",
    "str2 = \"Albert's famous equation, E = mc^2.\"\n",
    "str3 = \"Located at 455 Serra Mall.\"\n",
    "str4 = \"Beware of the shape-shifters!\"\n",
    "test_strings = [str1, str2, str3, str4] #created a list of strings"
   ]
  },
  {
   "cell_type": "code",
   "execution_count": null,
   "metadata": {
    "slideshow": {
     "slide_type": "slide"
    }
   },
   "outputs": [],
   "source": [
    "for test_string in test_strings:\n",
    "    print('The test string is \"' + test_string + '\"')\n",
    "    match = re.search(r'[a-z]', test_string)\n",
    "    if match:\n",
    "        print('The first possible match is: ' + match.group())\n",
    "    else:\n",
    "        print('no match.')"
   ]
  },
  {
   "cell_type": "markdown",
   "metadata": {},
   "source": [
    "Let's go through the code above line by line:\n",
    "\n",
    "    for test_string in test_strings:\n",
    "\n",
    "`test_strings` is a list, and so it is iterable in a for loop.  Every element in this list is a string.  So for the rest of the for loop, we will be referring to the current element as `test_string`\n",
    "\n",
    "    print('The test string is \"' + test_string + '\"')\n",
    "    \n",
    "This just prints out the current object we're iterating over\n",
    "\n",
    "    match = re.search(r'[A-Z]', test_string)\n",
    "\n",
    "Remember the basic approach to using regex in Python.  You give a searcher (in this case, the function `re.search()` a pattern and a string in which to find matches.  That's exactly what this line does.  `re.search()` returns either an object of type `SRE_Match` or `None`. \n",
    "    \n",
    "    if match:\n",
    "        print('The first possible match is: ' + match.group())\n",
    "    else:\n",
    "        print('no match.')\n",
    "\n",
    "`match` is an object that has two possible states: `SRE_Match` or `None`.  `None` is a type of object that returns `false` in a logical test.  In this for loop, we've basically told the Python interpreter to check whether match is `NoneType` or not.  If it isn't, we return a string plus `match.group()`.  `group()` is a method that `SRE_Match` objects have.  By default, it returns the 0th group; we'll get to what that means later.  For now, just know that it will return the substring that matched the pattern defined.\n",
    "\n",
    "Note that since we are using `re.search`, only a single character is returned.  That's because of the following:\n",
    "\n",
    "1. We only defined a single character pattern and\n",
    "2. `re.search` finds the first possible match and then doesn't look for any more.\n",
    "\n",
    "If you wanted to find **all** of the possible matches in a string, you can use `re.findall()`, which will return a list of all matches:"
   ]
  },
  {
   "cell_type": "code",
   "execution_count": null,
   "metadata": {},
   "outputs": [],
   "source": [
    "for string in test_strings:\n",
    "    print(string)\n",
    "    print(re.findall(r'[A-Z]', string))"
   ]
  },
  {
   "cell_type": "markdown",
   "metadata": {},
   "source": [
    "You can also compile your regex ahead of time.  This will create `SRE_Pattern` objects.  There are many performance reasons to do this.  Additionally, you can create lists of these objects and iterate over both strings and patterns more easily.  Here's an example:"
   ]
  },
  {
   "cell_type": "code",
   "execution_count": null,
   "metadata": {},
   "outputs": [],
   "source": [
    "patterns = [re.compile(r'[ABC]'),\n",
    "re.compile(r'[^ABC]'),\n",
    "re.compile(r'[ABC^]'),\n",
    "re.compile(r'[0123456789]'),\n",
    "re.compile(r'[0-9]'),\n",
    "re.compile(r'[0-4]'),\n",
    "re.compile(r'[A-Z]'),\n",
    "re.compile(r'[A-Za-z]'),\n",
    "re.compile(r'[A-Za-z0-9]'),\n",
    "re.compile(r'[-a-z]'),\n",
    "re.compile(r'[- a-z]')]\n",
    "\n",
    "def find_match(pattern, string):\n",
    "    match = re.search(pattern, string)\n",
    "    if match:\n",
    "        return match.group()\n",
    "    else:\n",
    "        return 'no match.'\n",
    "    \n",
    "for test_string in test_strings:\n",
    "    matches = [find_match(pattern, test_string) for pattern in patterns]\n",
    "  \n",
    "    for i in range(len(patterns)):\n",
    "        print('The first potential match for \"' + patterns[i].pattern + '\" in \"' + test_string + '\" is: ' + matches[i])"
   ]
  },
  {
   "cell_type": "markdown",
   "metadata": {},
   "source": [
    "Let's go over this code line by line: \n",
    "\n",
    "    patterns = [re.compile(r'[ABC]'),\n",
    "    re.compile(r'[^ABC]'),\n",
    "    re.compile(r'[ABC^]'),\n",
    "    re.compile(r'[0123456789]'),\n",
    "    re.compile(r'[0-9]'),\n",
    "    re.compile(r'[0-4]'),\n",
    "    re.compile(r'[A-Z]'),\n",
    "    re.compile(r'[A-Za-z]'),\n",
    "    re.compile(r'[A-Za-z0-9]'),\n",
    "    re.compile(r'[-a-z]'),\n",
    "    re.compile(r'[- a-z]')]\n",
    "\n",
    "This creates a list of `SRE_Pattern`s.\n",
    "    \n",
    "    def find_match(pattern, string):\n",
    "        match = re.search(pattern, string)\n",
    "        if match:\n",
    "            return match.group()\n",
    "        else:\n",
    "            return 'no match.'\n",
    "\n",
    "I defined a function `find_match` that expects some variables called `pattern` and `string`.  Notice that this function is very similar to the logical condition testing from the code above.  Note also that this function returns either the match.group() or a string `\"no match.\"` \n",
    "        \n",
    "    for test_string in test_strings:\n",
    "        matches = [find_match(pattern, test_string) for pattern in patterns]\n",
    "\n",
    "By defining the `find_match()` function above, I can then call it from within a list comprehension.  In words, for each string `test_string` that is in `test_strings`, I want to compare against the list of patterns and return matches.  The resulting list of `matches` should be the same length as `patterns`; one match per pattern tested.  \n",
    "\n",
    "        for pattern in patterns:\n",
    "            print('The first potential match for \"' + pattern.pattern + '\" in \"' + test_string + '\" is: ' + matches[patterns.index(pattern)])\n",
    "\n",
    "Because I wanted to print(some diagnostic code, I need to iterate over each `pattern` in `patterns` (a list and thus iterable) and print(it out, along with the test string.  If you want to get the pattern out of an `SRE_Pattern` object, you can call its member method `.pattern` and it will return the regex pattern as a string.  Since we are nesting this loop within the bigger loop above, this loop will go over every pattern in the `patterns` list for each string, and then repeat for the next string in the list `test_strings`.\n",
    "\n",
    "However, note that I am dynamically referring to the index of the `matches` list.  By this, I mean the following code:\n",
    "\n",
    "    matches[patterns.index(pattern)]\n",
    "\n",
    "Make sure this makes sense to you.  Remember, `matches` and `patterns` are the same length.  That means that if I want to return the match that correspondes to the current pattern, I have to call the match at the same index as the current pattern for their respective lists.  Every list has an `.index()` method, and you can find the corresponding index number in the list for a given element passed to the method as an argument.  So if I wanted *where* in `patterns` was the regex `r'[^ABC]'`, I could use `patterns.index(re.compile(r'[^ABC]'))`.  This will return an `int`, which corresponds to the position of `r'[^ABC]'` in `patterns.`"
   ]
  },
  {
   "cell_type": "code",
   "execution_count": null,
   "metadata": {},
   "outputs": [],
   "source": [
    "print(patterns.index(re.compile(r'[^ABC]')))"
   ]
  },
  {
   "cell_type": "markdown",
   "metadata": {},
   "source": [
    "## Pre-defined character classes: shorthand"
   ]
  },
  {
   "cell_type": "code",
   "execution_count": null,
   "metadata": {},
   "outputs": [],
   "source": [
    "patterns2 = [re.compile(r'.'),\n",
    "re.compile(r'\\w'),\n",
    "re.compile(r'\\W'),\n",
    "re.compile(r'\\d'),\n",
    "re.compile(r'\\D'),\n",
    "re.compile(r'\\n'),\n",
    "re.compile(r'\\r'),\n",
    "re.compile(r'\\t'),\n",
    "re.compile(r'\\f'),\n",
    "re.compile(r'\\s')]\n",
    "\n",
    "test_strings.append('Aardvarks belong to the Captain, capt_hook')\n",
    "\n",
    "for test_string in test_strings:\n",
    "    matches = [find_match(pattern, test_string) for pattern in patterns2]\n",
    "\n",
    "    for pattern in patterns2:\n",
    "        print('The first potential match for \"' + pattern.pattern + '\" in \"' + test_string + '\" is: ' + matches[patterns2.index(pattern)])"
   ]
  },
  {
   "cell_type": "markdown",
   "metadata": {},
   "source": [
    "## Matching character sequences\n"
   ]
  },
  {
   "cell_type": "code",
   "execution_count": null,
   "metadata": {},
   "outputs": [],
   "source": [
    "test_strings2 = [\"The Aardvarks belong to the Captain.\",\n",
    "                 \"Bitter butter won't make the batter better.\",\n",
    "                 \"Hark, the pitter patter of little feet!\"]\n",
    "\n",
    "patterns3 = [re.compile(r'Aa'),\n",
    "re.compile(r'[Aa][Aa]'),\n",
    "re.compile(r'[aeiou][aeiou]'),\n",
    "re.compile(r'[AaEeIiOoUu][aeiou]'),\n",
    "re.compile(r'[Tt]he'),\n",
    "re.compile(r'^[Tt]he'),\n",
    "re.compile(r'n.'),\n",
    "re.compile(r'n.$'),\n",
    "re.compile(r'\\W\\w'),\n",
    "re.compile(r'\\w[aeiou]tter'),\n",
    "re.compile(r'\\w[aeiou]tter'),\n",
    "re.compile(r'..tt..')]\n",
    "\n",
    "for test_string in test_strings2:\n",
    "    matches = [find_match(pattern, test_string) for pattern in patterns3]\n",
    "\n",
    "    for pattern in patterns3:\n",
    "        print('The first potential match for \"' + pattern.pattern + '\" in \"' + test_string + '\" is: ' + matches[patterns3.index(pattern)])"
   ]
  },
  {
   "cell_type": "markdown",
   "metadata": {},
   "source": [
    "## Matching character sequences"
   ]
  },
  {
   "cell_type": "code",
   "execution_count": null,
   "metadata": {},
   "outputs": [],
   "source": [
    "def find_all_matches(pattern, string):\n",
    "    matches = re.findall(pattern, string)\n",
    "    if matches:\n",
    "        return matches\n",
    "    else:\n",
    "        return None\n",
    "\n",
    "for test_string in test_strings2:\n",
    "    matches = [find_all_matches(pattern, test_string) for pattern in patterns3]\n",
    "    \n",
    "    for pattern in patterns3:\n",
    "        if matches[patterns3.index(pattern)]:\n",
    "            print('All potential matches for \"' + pattern.pattern + '\" in \"' + test_string + '\" is/are: ' + ', '.join(matches[patterns3.index(pattern)]))\n",
    "        else:\n",
    "            print('There were no matches for \"' + pattern.pattern + '\" in \"' + test_string + '\".')\n"
   ]
  },
  {
   "cell_type": "markdown",
   "metadata": {},
   "source": [
    "We have a new function and some new code.  Let's go over it:\n",
    "\n",
    "First, I wrote a function called `find_all_matches`:\n",
    "    \n",
    "    def find_all_matches(pattern, string):\n",
    "        matches = re.findall(pattern, string)\n",
    "        if matches:\n",
    "            return matches\n",
    "        else:\n",
    "            return None\n",
    "\n",
    "There are only two differences between `find_matches` and `find_all_matches`.  First, `find_all_matches` uses `re.findall` not `re.search`.  So matches is a list of all possible matches.  Thus, instead of return a single string in either condition, `find_all_matches` can return either a list of strings or `None`.\n",
    "\n",
    "    for test_string in test_strings2:\n",
    "        matches = [find_all_matches(pattern, test_string) for pattern in patterns3]\n",
    "        \n",
    "        for pattern in patterns3:\n",
    "            if matches[patterns3.index(pattern)]:\n",
    "\n",
    "Remember the use of `.index()` from the previous code walkthrough.  Also, remember that `None` returns false in a logical condition test.  In this `if` statement, I'm testing to see if there were any matches for the current pattern in the loop.  If there were any matches, the code will execute the next line.  Otherwise, it will go to the `else` block.        \n",
    "                \n",
    "                print('All potential matches for \"' + pattern.pattern + '\" in \"' + test_string + '\" is/are: ' + ', '.join(matches[patterns3.index(pattern)]))\n",
    "        \n",
    "If `matches` at the index of the current pattern is not `None`, it will be a list of strings.  Because I'm printing these results, I wanted to nicely format them for diagnostic purposes.  So we use the standard list-to-string Python expression of `''.join(list)`.  In this case, I wanted the results to be comma-separated.  \n",
    "        \n",
    "            else:\n",
    "                print('There were no matches for \"' + pattern.pattern + '\" in \"' + test_string + '\".')\n"
   ]
  },
  {
   "cell_type": "markdown",
   "metadata": {},
   "source": [
    "## Quantification and grouping"
   ]
  },
  {
   "cell_type": "code",
   "execution_count": null,
   "metadata": {},
   "outputs": [],
   "source": [
    "test_strings3 = ['Now Mr. N said, \"Nooooooo!\"',\n",
    "                 'Then she told him he had to be quiet.']\n",
    "\n",
    "patterns4 = [re.compile(r'No*'),\n",
    "re.compile(r'No+'),\n",
    "re.compile(r'No?'),\n",
    "re.compile(r'No{7}'),\n",
    "re.compile(r's?he'),\n",
    "re.compile(r'(she|he)')]\n",
    "\n",
    "for test_string in test_strings3:\n",
    "    matches = [find_all_matches(pattern, test_string) for pattern in patterns4]\n",
    "    \n",
    "    for pattern in patterns4:\n",
    "        if matches[patterns4.index(pattern)]:\n",
    "            print('All potential matches for \"' + pattern.pattern + '\" in \"' + test_string + '\" is/are: ' + ', '.join(matches[patterns4.index(pattern)]))\n",
    "        else:\n",
    "            print('There were no matches for \"' + pattern.pattern + '\" in \"' + test_string + '\".')"
   ]
  },
  {
   "cell_type": "markdown",
   "metadata": {},
   "source": [
    "## Capturing groups\n",
    "\n",
    "In Python, `SRE_Match` objects have `.groups` and `.group` methods.  These correspond to the capturing groups established in the regex, if you chose to indicate groups.  By default, the 0th group is the entire match to the whole regex.  To access the result for a capturing group, you pass the capturing group index to the `.group` method.   "
   ]
  },
  {
   "cell_type": "code",
   "execution_count": null,
   "metadata": {},
   "outputs": [],
   "source": [
    "test_strings4 = ['The benefit is being held for Mr. Kite and Mr. Henderson.',\n",
    "                 'Tickets cost $5.00 for adults, $3.50 for children.',\n",
    "                 'Over 9000 attendees are expected, up from 900 attendees last year.',\n",
    "                 'Over 9,123,456 attendees are expected, up from 900 attendees last year.']\n",
    "\n",
    "patterns5 = [re.compile(r'Mr\\. (\\w+)'),\n",
    "re.compile(r'\\$(\\d+\\.\\d\\d)'),\n",
    "re.compile(r'(\\d+) attendees'),\n",
    "re.compile(r'((\\d+,)*\\d+) attendees')]"
   ]
  },
  {
   "cell_type": "code",
   "execution_count": null,
   "metadata": {},
   "outputs": [],
   "source": [
    "# simple example\n",
    "print('string=', test_strings4[3])\n",
    "print('pattern', patterns5[3].pattern)\n",
    "matches = re.search(patterns5[3], test_strings4[3])\n",
    "print('groups:',matches.groups())\n",
    "print('Group 0: ' + matches.group(0))\n",
    "print('Group 1: ' + matches.group(1))\n",
    "print('Group 2: ' + matches.group(2))\n",
    "#print('Group 3: ' + matches.group(3) # what happens if you uncomment this?"
   ]
  },
  {
   "cell_type": "markdown",
   "metadata": {},
   "source": [
    "This example searched for r'((\\d+,)*\\d+) attendees' in the string \"Over 9000 attendees are expected, up from 900 attendees last year.'\"  There are two groups, one nested inside the other.  Groups are indexed outer-most left parens.  This is why Group 1 is `9,000` and Group 2 is `9,`."
   ]
  },
  {
   "cell_type": "code",
   "execution_count": null,
   "metadata": {},
   "outputs": [],
   "source": [
    "for test_string in test_strings4:\n",
    "    for pattern in patterns5:\n",
    "        for result in re.finditer(pattern, test_string):\n",
    "            for i in range(pattern.groups+1):\n",
    "                \n",
    "                print('In \"' + test_string + '\", '  + 'given pattern \"' + pattern.pattern + '\", the group ' +str(i)+ ' match is ' + str(result.group(i)))"
   ]
  },
  {
   "cell_type": "markdown",
   "metadata": {},
   "source": [
    "Before we go over this code block, let's establish the purpose of the code.  I wanted to return all the matches for each group.  But there are a few concerns:\n",
    "\n",
    "1. The *number* of groups is different for each pattern.  So I can't hardcode the number of times to loop over.  In other words, the number of times my loop should iterate has to be *dynamically* assigned, conditioning on *which regex pattern* is the comparison regex in the loop.\n",
    "2. `.findall' return a list of matches, and if there are groups, it will return a list of tuples, where each tuple is the length of the number of capturing groups."
   ]
  },
  {
   "cell_type": "code",
   "execution_count": null,
   "metadata": {},
   "outputs": [],
   "source": [
    "matches = re.findall(patterns5[3], test_strings4[3])\n",
    "matches"
   ]
  },
  {
   "cell_type": "markdown",
   "metadata": {},
   "source": [
    "You can refer to the index of a tuple within a list of tuples through indexing a second index:"
   ]
  },
  {
   "cell_type": "code",
   "execution_count": null,
   "metadata": {},
   "outputs": [],
   "source": [
    "matches[0][0]"
   ]
  },
  {
   "cell_type": "markdown",
   "metadata": {},
   "source": [
    "But there are other ways of constructing this kind of loop."
   ]
  },
  {
   "cell_type": "markdown",
   "metadata": {},
   "source": [
    "    for test_string in test_strings4:\n",
    "        for pattern in patterns5:\n",
    "            for result in re.finditer(pattern, test_string):\n",
    "                \n",
    "`re.finditer` returns an iterator, which is a new Python concept to you.  This loop means that for every pattern and for each string we're testing, instead of creating a list of matches, we're going to create a iterator object that contains the results.\n",
    "                \n",
    "                for i in range(pattern.groups+1):\n",
    "\n",
    "The `.groups` method will list the number of capturing groups in the regular expression.  `range` is a function that will return a list of integers ranging from a start or a stop value and by a step value.  If you just give it a int, by default it will treat that value is a stopping value and start from 0.   Now, we add 1 to this value because the end point is omitted in `range`.  If we want to return *all* the groups, we have to add that end point back.\n",
    "\n",
    "                    print('In \"' + test_string + '\", '  + 'given pattern \"' + pattern.pattern + '\", the group ' +str(i)+ ' match is ' + str(result.group(i)))\n",
    "\n",
    "Because `i` is established as the index value of the current regex match produced by the iterator, we can use `i` as the index value for which group we'd like to return.  That's why we can call `result.group(i)`. \n",
    "\n",
    "In no way was this the *only* way to accomplish this task!  I wanted to show you a few different functions in this tutorial, as well as introduce you to the more examples where typical \"Pythonic\" code constructions are useful, such as list comprehensions and `join`.  There are many ways of replicating all of these diagnostic printout examples."
   ]
  },
  {
   "cell_type": "markdown",
   "metadata": {},
   "source": [
    "## Final exercise\n",
    "\n",
    "Let's see how much you've learned.  We're going to give you three strings that have a phone number in them.  Your job is to write a regex that will return the telephone numbers in each string."
   ]
  },
  {
   "cell_type": "code",
   "execution_count": null,
   "metadata": {},
   "outputs": [],
   "source": [
    "phone_strings = ['Call Empire Carpets at 588-2300',\n",
    "'Does Jenny live at 867 5309?',\n",
    "'You can reach Mr. Plow at 636-555-3226']"
   ]
  }
 ],
 "metadata": {
  "kernelspec": {
   "display_name": "Python 3",
   "language": "python",
   "name": "python3"
  },
  "language_info": {
   "codemirror_mode": {
    "name": "ipython",
    "version": 3
   },
   "file_extension": ".py",
   "mimetype": "text/x-python",
   "name": "python",
   "nbconvert_exporter": "python",
   "pygments_lexer": "ipython3",
   "version": "3.6.4"
  }
 },
 "nbformat": 4,
 "nbformat_minor": 1
}
