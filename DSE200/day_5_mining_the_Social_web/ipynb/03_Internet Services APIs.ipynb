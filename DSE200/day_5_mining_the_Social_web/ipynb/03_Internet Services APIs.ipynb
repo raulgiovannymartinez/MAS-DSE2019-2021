{
 "cells": [
  {
   "cell_type": "markdown",
   "metadata": {},
   "source": [
    "# URLlib2"
   ]
  },
  {
   "cell_type": "markdown",
   "metadata": {},
   "source": [
    "# Scrapy\n",
    "\n",
    "* [Tutorial](http://doc.scrapy.org/en/0.24/intro/tutorial.html)\n",
    "* Also important are the section **selector** and **Scrapy shell**\n",
    "* I would like to write a scraper that extracts the tables of name information from iguana"
   ]
  },
  {
   "cell_type": "markdown",
   "metadata": {},
   "source": [
    "# Web APIs\n",
    "Extracting information from static web sites can be done using scraping software such as Scrapy. However, there are several disadvantages to web scraping:\n",
    "\n",
    "1. Significant programming effort is required to navigate the web site and extract the information.\n",
    "1. Any change in the structure of the web pages requires updating the scraper.\n",
    "1. Dynamic pages, based on *Javascript*, of the type used in most modern web sites, are very hard to  understand and to scrape.\n",
    "\n",
    "Most large internet companies provide an interface to their public information. That interface, called and **API** (Application Program Interface) or **SDK** (Software Development Kit), provide the programmer with a convenient and well documented interface for accessing the information provided by the company. \n",
    "\n",
    "### Types of APIs\n",
    "\n",
    "There is a spectrum of support levels that are provided through by a web site. At the more basic level, a web site is created manually and is intended only to be read by humans. This kind of site, assuming it has a consistent design and format, can be scraped by tools such as **scrapy**.  At the opposite extreme are servers that provide what are called \"web services\" which allow the client to issue complex queries and to change the content of the web site.\n",
    "Some significant points along this path are:\n",
    "\n",
    "1. **FTP**: A web site that provides data through downloadable files (similar to anonymous FTP). This provides the user read access to a directory tree that resides on the server. With luck, the format of the files is simple enough to allow easy parsing by the client. Many of the government data web sites are of this kind.\n",
    "1. **Restful API** An HTTP based [RESTful API](http://en.wikipedia.org/wiki/Representational_state_transfer) (REST is the acronim for Representational-State-Transfer). This protocol defines URLs for requesting information and the format of the response, which is usually a JSON or and XML packet. Example: the URL [http://www.thomas-bayer.com/sqlrest/CUSTOMER/?sortBy=age&country=US](http://www.thomas-bayer.com/sqlrest/CUSTOMER/?sortBy=age&country=US) returns a list of URLs each of which contains some information about a customer of thomas-bayer. The main property of a restful API is that it is **stateless** in other words, the protocol does not have a notion of a \"session\" and each query needs to provide complete information and not rely on something that is stored on the server.\n",
    "Most websites protect their data using an authentication system such as `OAuth`\n",
    "2. **SDK** A language specific library (for Python, Ruby, Java, PERL, C# or other languages) which provides a *Wrapper* around the RESTful API. Using the language wrapper is generally preferable because it insulates the application code from changes in the RESTful layer.\n",
    "3. **Web Service** A web service is a web site that is not intended to be read directly by a human. Instead, there is a layer (usually written in javascript) which allows the user to retrieve and display the information that interests them. At the same time, computer clients can retrieve the data to be used in other services or products. An example of a web service is [Google Finance](https://www.google.com/finance?q=NYSE%3AT&client=fss&ei=XZsuWKmiDMLp2AaUz7Mw)\n",
    "Another is the chrome extension [Ghostery](https://www.ghostery.com) which provides you with real time information, as you are browsing the web, on who is tracking your activity.\n",
    "\n",
    "The benefit to the company providing the API is that by making it easy to interface with it's databases it encourages third party software houses to build extensions and enhancement to the ccompanies basic offering. In that way increasing the size of the consumer market without taking on development risks.\n",
    "\n",
    "Most of the APIs defined below are for the Python wrapper. In some cases, such as Yelp, only a Restful API is available, and some example code using this API is given.\n",
    "\n",
    "## Some of the popular web APIs available today\n",
    "* [A collection of  more than 16,000 web APIs](http://www.programmableweb.com/category/all/apis?order=field_popularity) try searching for \"traffic\" or \"crime\"\n",
    "* Twitter API [Github](https://github.com/bear/python-twitter), [Doc](https://dev.twitter.com/overview/documentation)\n",
    "* Facebook API [Github](https://github.com/pythonforfacebook/facebook-sdk)\n",
    "  * [Doc for graph API](https://developers.facebook.com/docs/graph-api) This API is for retrieving and sending information to the Facebook social graph.\n",
    "  * [Doc for Javascript API](https://developers.facebook.com/docs/javascript) This API is for creating page plugins (i.e. like button) and for using \"login through facebook\"\n",
    "* Google APIs: Google supports a large number of APIs, including API for gmail, google calendars, google maps and  you-tube. In order to help find your way through this vast collection, google provides an [API discovery web page](https://developers.google.com/apis-explorer/#p/)\n",
    "* Amazon\n",
    "   * [Amazon Product Advertising API](https://pypi.python.org/pypi/python-amazon-product-api/), [Doc](http://python-amazon-product-api.readthedocs.org/en/latest/)\n",
    "   * [Boto](http://aws.amazon.com/sdk-for-python/) an API for controlling AWS.  LaunchNotebookServer.py uses Boto. AWS contains dozens of services, each of which is exposed to the API. [Github](https://github.com/boto/boto),[Doc](http://boto.readthedocs.org/en/latest/)\n",
    "* Yahoo, [a diverse set of APIs and services](https://developer.yahoo.com/everything.html). Unfortunately, it seems that while wrappers for some languages are provided, Python is not supported by Yahoo.  Here are three of the interesting API services provided by Yahoo.\n",
    "   * [OAuth:](https://developer.yahoo.com/oauth/) a popular protocol for delegating login authorization (\"Login Using Yahoo!\")\n",
    "   * World location database: [BOSS](https://developer.yahoo.com/boss/placefinder/)\n",
    "   * [Weather](https://developer.yahoo.com/weather/)\n",
    "* [Yelp](http://www.yelp.com/developers/documentation) Yelp only provides a RESTful API. [Here is a sample of python code using the RESTful API](https://github.com/Yelp/yelp-api/tree/master/v2/), for python API [link](https://github.com/Yelp/yelp-python)"
   ]
  },
  {
   "cell_type": "markdown",
   "metadata": {},
   "source": [
    "Other interesting services:\n",
    "* [QuandL](https://www.quandl.com/) is a company whose business model is to gather, clean and format data and provide the results through an API. They are especially strong with financial information.\n",
    "You can browse their vast collection of data [here](https://www.quandl.com/c/). Their Python API provides the data in a pandas dataframe, ready for perocessing. The Python API is documented [here](https://www.quandl.com/help/python)\n",
    "* [Decibel](https://developer.decibel.net/sample-code-rest-python) is a data service that provides extensive information about music, artists, and the music industry.\n",
    "* **Fantasy Sports** There are several sites that provide data feeds for *fantasy sports*. Mostly APIs consist of RESTfull API without language wrappers.\n",
    "   * [Yahoo!](https://developer.yahoo.com/fantasysports/)\n",
    "   * [CBSsports](http://developer.cbssports.com/documentation/api/files/sports)\n",
    "   * [FantasyData](https://sportsdata.io/developers/api-documentation/nfl#)\n",
    "   * [FantasyFootballNerd](http://www.fantasyfootballnerd.com/fantasy-football-api)"
   ]
  }
 ],
 "metadata": {
  "kernelspec": {
   "display_name": "Python 3",
   "language": "python",
   "name": "python3"
  },
  "language_info": {
   "codemirror_mode": {
    "name": "ipython",
    "version": 3
   },
   "file_extension": ".py",
   "mimetype": "text/x-python",
   "name": "python",
   "nbconvert_exporter": "python",
   "pygments_lexer": "ipython3",
   "version": "3.7.5"
  }
 },
 "nbformat": 4,
 "nbformat_minor": 1
}
