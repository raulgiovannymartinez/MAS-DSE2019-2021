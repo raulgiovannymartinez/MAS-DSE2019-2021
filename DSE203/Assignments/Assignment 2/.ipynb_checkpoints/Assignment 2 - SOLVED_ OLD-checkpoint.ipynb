{
 "cells": [
  {
   "cell_type": "code",
   "execution_count": 1,
   "metadata": {},
   "outputs": [
    {
     "data": {
      "application/javascript": [
       "IPython.OutputArea.prototype._should_scroll = function(lines) {\n",
       "    return false;\n",
       "}"
      ],
      "text/plain": [
       "<IPython.core.display.Javascript object>"
      ]
     },
     "metadata": {},
     "output_type": "display_data"
    }
   ],
   "source": [
    "%%javascript\n",
    "IPython.OutputArea.prototype._should_scroll = function(lines) {\n",
    "    return false;\n",
    "}"
   ]
  },
  {
   "cell_type": "markdown",
   "metadata": {},
   "source": [
    "## Raul G. Martinez\n",
    "## PID: A12461871\n",
    "## UCSD MAS DSE Cohort 6\n",
    "## DSE 203 - Fall 2020\n",
    "**------------------------------------------------------------------------------------------------------------------------------------------------------------------------------------------------------------------**"
   ]
  },
  {
   "cell_type": "markdown",
   "metadata": {},
   "source": [
    "# Instructions\n",
    "\n",
    "## Assignment 2\n",
    "\n",
    "Due Nov 1 by 11:59pm \n",
    "\n",
    "Points 30 \n",
    "\n",
    "Submitting a file upload \n",
    "\n",
    "Available Oct 23 at 12am - Nov 1 at 11:59pm 10 days\n",
    "\n",
    "Data: citeseer.csv and dblp.csv  (in Canvas/Files)\n",
    "\n",
    "\n",
    "**Your task:**\n",
    "\n",
    "Entity Resolution of the two tables using the two different methods shown in class (dedupe and Anhai's py_entitymatching)\n",
    "\n",
    "Your submission should include the  python scripts (includes SQL scripts) + results\n",
    "\n",
    "\n",
    "**Suggested Reference:**\n",
    "\n",
    "Jupyter Notebook I've uploaded: Entity Matching Complete Workflow.ipynb (Canvas/Files/Hands on/EM)\n",
    "\n",
    "Anhai's Entity Matching Guide: https://sites.google.com/site/anhaidgroup/projects/magellan/py_entitymatching (Links to an external site.)\n",
    "\n",
    "dedupe Slides: Canvas/Files/Hands-on Session/dedupe\n",
    "\n",
    "dedupe Examples (A how-to-use guide through example programs): https://github.com/dedupeio/dedupe-examples\n",
    "\n",
    " \n",
    "\n",
    "**Notes:**\n",
    "\n",
    "(1) You have to install all the dependencies first before you can successfully install Anhai's py_entitymatching package\n",
    "\n",
    "(2) If you try running the dedupe examples from this repo: https://github.com/dedupeio/dedupe-examples, (Links to an external site.) you might run into various issues. Read the dedupe Slides (in Canvas) to troubleshoot these."
   ]
  },
  {
   "cell_type": "markdown",
   "metadata": {},
   "source": [
    "# Solution"
   ]
  },
  {
   "cell_type": "markdown",
   "metadata": {},
   "source": [
    "## Method 1: Anahi's py_entitymatching"
   ]
  },
  {
   "cell_type": "code",
   "execution_count": 5,
   "metadata": {},
   "outputs": [
    {
     "name": "stdout",
     "output_type": "stream",
     "text": [
      "Python 3.7.9\n"
     ]
    }
   ],
   "source": [
    "# display python version used\n",
    "!python --version"
   ]
  },
  {
   "cell_type": "code",
   "execution_count": 13,
   "metadata": {},
   "outputs": [],
   "source": [
    "# import libraries\n",
    "import py_entitymatching as em\n",
    "import pandas as pd\n",
    "import os, sys"
   ]
  },
  {
   "cell_type": "markdown",
   "metadata": {},
   "source": [
    "### Read Data"
   ]
  },
  {
   "cell_type": "code",
   "execution_count": 7,
   "metadata": {},
   "outputs": [
    {
     "name": "stderr",
     "output_type": "stream",
     "text": [
      "Metadata file is not present in the given path; proceeding to read the csv file.\n",
      "Metadata file is not present in the given path; proceeding to read the csv file.\n"
     ]
    }
   ],
   "source": [
    "# read csv files\n",
    "A = em.read_csv_metadata('../. ./Data for Assignments/citeseer.csv',low_memory=False) # setting the parameter low_memory to False  to speed up loading.\n",
    "B = em.read_csv_metadata('../../Data for Assignments/dblp.csv', low_memory=False)"
   ]
  },
  {
   "cell_type": "code",
   "execution_count": 22,
   "metadata": {},
   "outputs": [
    {
     "data": {
      "text/plain": [
       "(1823978, 2512927)"
      ]
     },
     "execution_count": 22,
     "metadata": {},
     "output_type": "execute_result"
    }
   ],
   "source": [
    "# show number of tuples\n",
    "len(A), len(B)"
   ]
  },
  {
   "cell_type": "code",
   "execution_count": 29,
   "metadata": {},
   "outputs": [
    {
     "data": {
      "text/plain": [
       "id                        0\n",
       "title                   132\n",
       "authors                   1\n",
       "journal             1823080\n",
       "month               1823978\n",
       "year                1453068\n",
       "publication_type    1822993\n",
       "dtype: int64"
      ]
     },
     "execution_count": 29,
     "metadata": {},
     "output_type": "execute_result"
    }
   ],
   "source": [
    "# find number of null values\n",
    "A.isnull().sum()"
   ]
  },
  {
   "cell_type": "code",
   "execution_count": 23,
   "metadata": {},
   "outputs": [
    {
     "data": {
      "text/html": [
       "<div>\n",
       "<style scoped>\n",
       "    .dataframe tbody tr th:only-of-type {\n",
       "        vertical-align: middle;\n",
       "    }\n",
       "\n",
       "    .dataframe tbody tr th {\n",
       "        vertical-align: top;\n",
       "    }\n",
       "\n",
       "    .dataframe thead th {\n",
       "        text-align: right;\n",
       "    }\n",
       "</style>\n",
       "<table border=\"1\" class=\"dataframe\">\n",
       "  <thead>\n",
       "    <tr style=\"text-align: right;\">\n",
       "      <th></th>\n",
       "      <th>id</th>\n",
       "      <th>title</th>\n",
       "      <th>authors</th>\n",
       "      <th>journal</th>\n",
       "      <th>month</th>\n",
       "      <th>year</th>\n",
       "      <th>publication_type</th>\n",
       "    </tr>\n",
       "  </thead>\n",
       "  <tbody>\n",
       "    <tr>\n",
       "      <th>0</th>\n",
       "      <td>1</td>\n",
       "      <td>An Arithmetic Analogue of Bezouts Theorem</td>\n",
       "      <td>David Mckinnon</td>\n",
       "      <td>NaN</td>\n",
       "      <td>NaN</td>\n",
       "      <td>NaN</td>\n",
       "      <td>NaN</td>\n",
       "    </tr>\n",
       "    <tr>\n",
       "      <th>1</th>\n",
       "      <td>2</td>\n",
       "      <td>Thompsons Group F is Not Minimally Almost Convex</td>\n",
       "      <td>James Belk, Kai-uwe Bux</td>\n",
       "      <td>NaN</td>\n",
       "      <td>NaN</td>\n",
       "      <td>2002.0</td>\n",
       "      <td>NaN</td>\n",
       "    </tr>\n",
       "    <tr>\n",
       "      <th>2</th>\n",
       "      <td>3</td>\n",
       "      <td>Cognitive Dimensions Tradeoffs in Tangible User Interface Design</td>\n",
       "      <td>Darren Edge, Alan Blackwell</td>\n",
       "      <td>NaN</td>\n",
       "      <td>NaN</td>\n",
       "      <td>NaN</td>\n",
       "      <td>NaN</td>\n",
       "    </tr>\n",
       "    <tr>\n",
       "      <th>3</th>\n",
       "      <td>4</td>\n",
       "      <td>ACTIVITY NOUNS, UNACCUSATIVITY, AND ARGUMENT MARKING IN YUKATEKAN SSILA meeting; Special Session...</td>\n",
       "      <td>J. Bohnemeyer, Max Planck, I. Introduction</td>\n",
       "      <td>NaN</td>\n",
       "      <td>NaN</td>\n",
       "      <td>2002.0</td>\n",
       "      <td>NaN</td>\n",
       "    </tr>\n",
       "    <tr>\n",
       "      <th>4</th>\n",
       "      <td>5</td>\n",
       "      <td>PS1-6 A6 ULTRASOUND-GUIDED HIFU NEUROLYSIS OF PERIPHERAL NERVES TO TREAT SPASTICITY AND</td>\n",
       "      <td>J. L. Foley, J. W. Little, F. L. Starr Iii, C. Frantz</td>\n",
       "      <td>NaN</td>\n",
       "      <td>NaN</td>\n",
       "      <td>NaN</td>\n",
       "      <td>NaN</td>\n",
       "    </tr>\n",
       "  </tbody>\n",
       "</table>\n",
       "</div>"
      ],
      "text/plain": [
       "   id  \\\n",
       "0   1   \n",
       "1   2   \n",
       "2   3   \n",
       "3   4   \n",
       "4   5   \n",
       "\n",
       "                                                                                                 title  \\\n",
       "0                                                            An Arithmetic Analogue of Bezouts Theorem   \n",
       "1                                                     Thompsons Group F is Not Minimally Almost Convex   \n",
       "2                                     Cognitive Dimensions Tradeoffs in Tangible User Interface Design   \n",
       "3  ACTIVITY NOUNS, UNACCUSATIVITY, AND ARGUMENT MARKING IN YUKATEKAN SSILA meeting; Special Session...   \n",
       "4              PS1-6 A6 ULTRASOUND-GUIDED HIFU NEUROLYSIS OF PERIPHERAL NERVES TO TREAT SPASTICITY AND   \n",
       "\n",
       "                                                 authors journal  month  \\\n",
       "0                                         David Mckinnon     NaN    NaN   \n",
       "1                                James Belk, Kai-uwe Bux     NaN    NaN   \n",
       "2                            Darren Edge, Alan Blackwell     NaN    NaN   \n",
       "3             J. Bohnemeyer, Max Planck, I. Introduction     NaN    NaN   \n",
       "4  J. L. Foley, J. W. Little, F. L. Starr Iii, C. Frantz     NaN    NaN   \n",
       "\n",
       "     year publication_type  \n",
       "0     NaN              NaN  \n",
       "1  2002.0              NaN  \n",
       "2     NaN              NaN  \n",
       "3  2002.0              NaN  \n",
       "4     NaN              NaN  "
      ]
     },
     "execution_count": 23,
     "metadata": {},
     "output_type": "execute_result"
    }
   ],
   "source": [
    "# display head of A\n",
    "A.head()"
   ]
  },
  {
   "cell_type": "code",
   "execution_count": 24,
   "metadata": {},
   "outputs": [
    {
     "data": {
      "text/html": [
       "<div>\n",
       "<style scoped>\n",
       "    .dataframe tbody tr th:only-of-type {\n",
       "        vertical-align: middle;\n",
       "    }\n",
       "\n",
       "    .dataframe tbody tr th {\n",
       "        vertical-align: top;\n",
       "    }\n",
       "\n",
       "    .dataframe thead th {\n",
       "        text-align: right;\n",
       "    }\n",
       "</style>\n",
       "<table border=\"1\" class=\"dataframe\">\n",
       "  <thead>\n",
       "    <tr style=\"text-align: right;\">\n",
       "      <th></th>\n",
       "      <th>id</th>\n",
       "      <th>title</th>\n",
       "      <th>authors</th>\n",
       "      <th>journal</th>\n",
       "      <th>month</th>\n",
       "      <th>year</th>\n",
       "      <th>publication_type</th>\n",
       "    </tr>\n",
       "  </thead>\n",
       "  <tbody>\n",
       "    <tr>\n",
       "      <th>0</th>\n",
       "      <td>1</td>\n",
       "      <td>Klaus Tschira Stiftung gemeinntzige GmbH, KTS</td>\n",
       "      <td>Klaus Tschira</td>\n",
       "      <td>NaN</td>\n",
       "      <td>NaN</td>\n",
       "      <td>2012</td>\n",
       "      <td>www</td>\n",
       "    </tr>\n",
       "    <tr>\n",
       "      <th>1</th>\n",
       "      <td>2</td>\n",
       "      <td>The SGML/XML Web Page</td>\n",
       "      <td>Robin Cover</td>\n",
       "      <td>NaN</td>\n",
       "      <td>NaN</td>\n",
       "      <td>2006</td>\n",
       "      <td>www</td>\n",
       "    </tr>\n",
       "    <tr>\n",
       "      <th>2</th>\n",
       "      <td>3</td>\n",
       "      <td>The Future of Classic Data Administration: Objects + Databases + CASE</td>\n",
       "      <td>Arnon Rosenthal</td>\n",
       "      <td>NaN</td>\n",
       "      <td>NaN</td>\n",
       "      <td>1998</td>\n",
       "      <td>www</td>\n",
       "    </tr>\n",
       "    <tr>\n",
       "      <th>3</th>\n",
       "      <td>4</td>\n",
       "      <td>XML Query Data Model</td>\n",
       "      <td>Mary F. Fernandez, Jonathan Robie</td>\n",
       "      <td>NaN</td>\n",
       "      <td>NaN</td>\n",
       "      <td>2001</td>\n",
       "      <td>www</td>\n",
       "    </tr>\n",
       "    <tr>\n",
       "      <th>4</th>\n",
       "      <td>5</td>\n",
       "      <td>The XML Query Algebra</td>\n",
       "      <td>Peter Fankhauser, Mary F. Fernndez, Ashok Malhotra, Michael Rys, Jrme Simon, Philip Wadler</td>\n",
       "      <td>NaN</td>\n",
       "      <td>NaN</td>\n",
       "      <td>2001</td>\n",
       "      <td>www</td>\n",
       "    </tr>\n",
       "  </tbody>\n",
       "</table>\n",
       "</div>"
      ],
      "text/plain": [
       "   id                                                                  title  \\\n",
       "0   1                          Klaus Tschira Stiftung gemeinntzige GmbH, KTS   \n",
       "1   2                                                  The SGML/XML Web Page   \n",
       "2   3  The Future of Classic Data Administration: Objects + Databases + CASE   \n",
       "3   4                                                   XML Query Data Model   \n",
       "4   5                                                  The XML Query Algebra   \n",
       "\n",
       "                                                                                      authors  \\\n",
       "0                                                                               Klaus Tschira   \n",
       "1                                                                                 Robin Cover   \n",
       "2                                                                             Arnon Rosenthal   \n",
       "3                                                           Mary F. Fernandez, Jonathan Robie   \n",
       "4  Peter Fankhauser, Mary F. Fernndez, Ashok Malhotra, Michael Rys, Jrme Simon, Philip Wadler   \n",
       "\n",
       "  journal month  year publication_type  \n",
       "0     NaN   NaN  2012              www  \n",
       "1     NaN   NaN  2006              www  \n",
       "2     NaN   NaN  1998              www  \n",
       "3     NaN   NaN  2001              www  \n",
       "4     NaN   NaN  2001              www  "
      ]
     },
     "execution_count": 24,
     "metadata": {},
     "output_type": "execute_result"
    }
   ],
   "source": [
    "# display head of B\n",
    "B.head()"
   ]
  },
  {
   "cell_type": "code",
   "execution_count": 25,
   "metadata": {},
   "outputs": [
    {
     "data": {
      "text/plain": [
       "True"
      ]
     },
     "execution_count": 25,
     "metadata": {},
     "output_type": "execute_result"
    }
   ],
   "source": [
    "# Set 'id' as the keys to the input tables\n",
    "em.set_key(A, 'id')\n",
    "em.set_key(B, 'id')"
   ]
  },
  {
   "cell_type": "markdown",
   "metadata": {},
   "source": [
    "### Downsampling"
   ]
  },
  {
   "cell_type": "code",
   "execution_count": 14,
   "metadata": {},
   "outputs": [
    {
     "name": "stderr",
     "output_type": "stream",
     "text": [
      "c:\\users\\rmartinez4\\anaconda3\\envs\\py37\\lib\\site-packages\\py_entitymatching\\sampler\\down_sample.py:354: FutureWarning: The pandas.np module is deprecated and will be removed from pandas in a future version. Import numpy directly instead\n",
      "  sample_table_splits = pd.np.array_split(sample_table_b, n_jobs)\n",
      "c:\\users\\rmartinez4\\anaconda3\\envs\\py37\\lib\\site-packages\\joblib\\externals\\loky\\process_executor.py:691: UserWarning: A worker stopped while some jobs were given to the executor. This can be caused by a too short worker timeout or by a memory leak.\n",
      "  \"timeout or by a memory leak.\", UserWarning\n"
     ]
    }
   ],
   "source": [
    "# Downsample the datasets \n",
    "sample_A, sample_B = em.down_sample(A, B, size=1000, y_param=1, show_progress=True, n_jobs=-1)"
   ]
  },
  {
   "cell_type": "code",
   "execution_count": 26,
   "metadata": {},
   "outputs": [
    {
     "data": {
      "text/plain": [
       "(987, 1000)"
      ]
     },
     "execution_count": 26,
     "metadata": {},
     "output_type": "execute_result"
    }
   ],
   "source": [
    "# Display the number of tuples in the sampled datasets\n",
    "len(sample_A), len(sample_B)"
   ]
  },
  {
   "cell_type": "code",
   "execution_count": 30,
   "metadata": {},
   "outputs": [
    {
     "data": {
      "text/plain": [
       "id                    0\n",
       "title                 0\n",
       "authors               0\n",
       "journal             986\n",
       "month               987\n",
       "year                855\n",
       "publication_type    986\n",
       "dtype: int64"
      ]
     },
     "execution_count": 30,
     "metadata": {},
     "output_type": "execute_result"
    }
   ],
   "source": [
    "# find number of null values in table A\n",
    "sample_A.isnull().sum()"
   ]
  },
  {
   "cell_type": "code",
   "execution_count": 31,
   "metadata": {},
   "outputs": [
    {
     "data": {
      "text/plain": [
       "id                     0\n",
       "title                  0\n",
       "authors                0\n",
       "journal              581\n",
       "month               1000\n",
       "year                   0\n",
       "publication_type       0\n",
       "dtype: int64"
      ]
     },
     "execution_count": 31,
     "metadata": {},
     "output_type": "execute_result"
    }
   ],
   "source": [
    "# find number of null values in table B\n",
    "sample_B.isnull().sum()"
   ]
  },
  {
   "cell_type": "code",
   "execution_count": 27,
   "metadata": {},
   "outputs": [
    {
     "name": "stdout",
     "output_type": "stream",
     "text": [
      "id: 1919862163272\n",
      "key: id\n",
      "id: 1919862162888\n",
      "key: id\n"
     ]
    }
   ],
   "source": [
    "# Show the metadata of sample_A, sample_B\n",
    "em.show_properties(sample_A)\n",
    "em.show_properties(sample_B)"
   ]
  },
  {
   "cell_type": "code",
   "execution_count": 35,
   "metadata": {},
   "outputs": [
    {
     "data": {
      "text/html": [
       "<div>\n",
       "<style scoped>\n",
       "    .dataframe tbody tr th:only-of-type {\n",
       "        vertical-align: middle;\n",
       "    }\n",
       "\n",
       "    .dataframe tbody tr th {\n",
       "        vertical-align: top;\n",
       "    }\n",
       "\n",
       "    .dataframe thead th {\n",
       "        text-align: right;\n",
       "    }\n",
       "</style>\n",
       "<table border=\"1\" class=\"dataframe\">\n",
       "  <thead>\n",
       "    <tr style=\"text-align: right;\">\n",
       "      <th></th>\n",
       "      <th>id</th>\n",
       "      <th>title</th>\n",
       "      <th>authors</th>\n",
       "      <th>journal</th>\n",
       "      <th>month</th>\n",
       "      <th>year</th>\n",
       "      <th>publication_type</th>\n",
       "    </tr>\n",
       "  </thead>\n",
       "  <tbody>\n",
       "    <tr>\n",
       "      <th>555013</th>\n",
       "      <td>555014</td>\n",
       "      <td>Color Maps and Figures Figure 2.2. Locations of MA Sub-global Assessments. The map shows the loc...</td>\n",
       "      <td>Human Well-being Sub-global</td>\n",
       "      <td>NaN</td>\n",
       "      <td>NaN</td>\n",
       "      <td>NaN</td>\n",
       "      <td>NaN</td>\n",
       "    </tr>\n",
       "    <tr>\n",
       "      <th>577545</th>\n",
       "      <td>577546</td>\n",
       "      <td>Session F1F SIMULA 2000: AN INTERNET BASED WORKING ENVIRONMENT FOR THE SUPPORT OF EDUCATIONAL AP...</td>\n",
       "      <td>Juan Jos Zamora, Ion Larraaga</td>\n",
       "      <td>NaN</td>\n",
       "      <td>NaN</td>\n",
       "      <td>NaN</td>\n",
       "      <td>NaN</td>\n",
       "    </tr>\n",
       "    <tr>\n",
       "      <th>133129</th>\n",
       "      <td>133130</td>\n",
       "      <td>Abstract Techniques and Processes for Improving the Quality and Performance of Open-Source Software</td>\n",
       "      <td>Adam Porter, Cemal Yilmaz, Atif M. Memon, Arvind S. Krishna, Douglas C. Schmidt, Aniruddha Gokhale</td>\n",
       "      <td>NaN</td>\n",
       "      <td>NaN</td>\n",
       "      <td>NaN</td>\n",
       "      <td>NaN</td>\n",
       "    </tr>\n",
       "    <tr>\n",
       "      <th>198669</th>\n",
       "      <td>198670</td>\n",
       "      <td>Architecture, Implementation, and Deployment of a High Performance, High Capacity Resilient Mass...</td>\n",
       "      <td>Terry Jones, Beata Sarnowska, Frank Lovato, David Magee, John Kothe</td>\n",
       "      <td>NaN</td>\n",
       "      <td>NaN</td>\n",
       "      <td>NaN</td>\n",
       "      <td>NaN</td>\n",
       "    </tr>\n",
       "    <tr>\n",
       "      <th>1525775</th>\n",
       "      <td>1525776</td>\n",
       "      <td>THE DIGITAL DIVIDE: YOUR ROLE IN BRIDGING THE GAP IN AQUATIC LIBRARY SERVICES FOR THE DISCONNECTED</td>\n",
       "      <td>Meryl J. Williams, Choo Poh-sze</td>\n",
       "      <td>NaN</td>\n",
       "      <td>NaN</td>\n",
       "      <td>NaN</td>\n",
       "      <td>NaN</td>\n",
       "    </tr>\n",
       "  </tbody>\n",
       "</table>\n",
       "</div>"
      ],
      "text/plain": [
       "              id  \\\n",
       "555013    555014   \n",
       "577545    577546   \n",
       "133129    133130   \n",
       "198669    198670   \n",
       "1525775  1525776   \n",
       "\n",
       "                                                                                                       title  \\\n",
       "555013   Color Maps and Figures Figure 2.2. Locations of MA Sub-global Assessments. The map shows the loc...   \n",
       "577545   Session F1F SIMULA 2000: AN INTERNET BASED WORKING ENVIRONMENT FOR THE SUPPORT OF EDUCATIONAL AP...   \n",
       "133129   Abstract Techniques and Processes for Improving the Quality and Performance of Open-Source Software   \n",
       "198669   Architecture, Implementation, and Deployment of a High Performance, High Capacity Resilient Mass...   \n",
       "1525775   THE DIGITAL DIVIDE: YOUR ROLE IN BRIDGING THE GAP IN AQUATIC LIBRARY SERVICES FOR THE DISCONNECTED   \n",
       "\n",
       "                                                                                                    authors  \\\n",
       "555013                                                                          Human Well-being Sub-global   \n",
       "577545                                                                        Juan Jos Zamora, Ion Larraaga   \n",
       "133129   Adam Porter, Cemal Yilmaz, Atif M. Memon, Arvind S. Krishna, Douglas C. Schmidt, Aniruddha Gokhale   \n",
       "198669                                  Terry Jones, Beata Sarnowska, Frank Lovato, David Magee, John Kothe   \n",
       "1525775                                                                     Meryl J. Williams, Choo Poh-sze   \n",
       "\n",
       "        journal  month  year publication_type  \n",
       "555013      NaN    NaN   NaN              NaN  \n",
       "577545      NaN    NaN   NaN              NaN  \n",
       "133129      NaN    NaN   NaN              NaN  \n",
       "198669      NaN    NaN   NaN              NaN  \n",
       "1525775     NaN    NaN   NaN              NaN  "
      ]
     },
     "execution_count": 35,
     "metadata": {},
     "output_type": "execute_result"
    }
   ],
   "source": [
    "sample_A.head()"
   ]
  },
  {
   "cell_type": "code",
   "execution_count": 37,
   "metadata": {},
   "outputs": [
    {
     "data": {
      "text/html": [
       "<div>\n",
       "<style scoped>\n",
       "    .dataframe tbody tr th:only-of-type {\n",
       "        vertical-align: middle;\n",
       "    }\n",
       "\n",
       "    .dataframe tbody tr th {\n",
       "        vertical-align: top;\n",
       "    }\n",
       "\n",
       "    .dataframe thead th {\n",
       "        text-align: right;\n",
       "    }\n",
       "</style>\n",
       "<table border=\"1\" class=\"dataframe\">\n",
       "  <thead>\n",
       "    <tr style=\"text-align: right;\">\n",
       "      <th></th>\n",
       "      <th>id</th>\n",
       "      <th>title</th>\n",
       "      <th>authors</th>\n",
       "      <th>journal</th>\n",
       "      <th>month</th>\n",
       "      <th>year</th>\n",
       "      <th>publication_type</th>\n",
       "    </tr>\n",
       "  </thead>\n",
       "  <tbody>\n",
       "    <tr>\n",
       "      <th>52062</th>\n",
       "      <td>52063</td>\n",
       "      <td>Generating Tests for Control Portion of SDL Specifications.</td>\n",
       "      <td>Gang Luo, Anindya Das, Gregor von Bochmann</td>\n",
       "      <td>NaN</td>\n",
       "      <td>NaN</td>\n",
       "      <td>1993</td>\n",
       "      <td>inproceedings</td>\n",
       "    </tr>\n",
       "    <tr>\n",
       "      <th>1560853</th>\n",
       "      <td>1560854</td>\n",
       "      <td>Feature selection for a cooperative coevolutionary classifier in liver fibrosis diagnosis.</td>\n",
       "      <td>Catalin Stoean, Ruxandra Stoean, Monica Lupsor, Horia Stefanescu, Radu Badea</td>\n",
       "      <td>Comp. in Bio. and Med.</td>\n",
       "      <td>NaN</td>\n",
       "      <td>2011</td>\n",
       "      <td>article</td>\n",
       "    </tr>\n",
       "    <tr>\n",
       "      <th>181219</th>\n",
       "      <td>181220</td>\n",
       "      <td>A Factor-2 Approximation for Labeling Points with Maximum Sliding Labels.</td>\n",
       "      <td>Zhongping Qin, Binhai Zhu</td>\n",
       "      <td>NaN</td>\n",
       "      <td>NaN</td>\n",
       "      <td>2002</td>\n",
       "      <td>inproceedings</td>\n",
       "    </tr>\n",
       "    <tr>\n",
       "      <th>1528667</th>\n",
       "      <td>1528668</td>\n",
       "      <td>Enhancing the search ability of differential evolution through orthogonal crossover.</td>\n",
       "      <td>Yong Wang, Zixing Cai, Qingfu Zhang</td>\n",
       "      <td>Inf. Sci.</td>\n",
       "      <td>NaN</td>\n",
       "      <td>2012</td>\n",
       "      <td>article</td>\n",
       "    </tr>\n",
       "    <tr>\n",
       "      <th>281703</th>\n",
       "      <td>281704</td>\n",
       "      <td>Integrating bioinformatic data sources over the SFSU ER design tools XML databus.</td>\n",
       "      <td>Yan Liu, Sorna Vincent, Marguerite C. Murphy</td>\n",
       "      <td>NaN</td>\n",
       "      <td>NaN</td>\n",
       "      <td>2006</td>\n",
       "      <td>inproceedings</td>\n",
       "    </tr>\n",
       "  </tbody>\n",
       "</table>\n",
       "</div>"
      ],
      "text/plain": [
       "              id  \\\n",
       "52062      52063   \n",
       "1560853  1560854   \n",
       "181219    181220   \n",
       "1528667  1528668   \n",
       "281703    281704   \n",
       "\n",
       "                                                                                              title  \\\n",
       "52062                                   Generating Tests for Control Portion of SDL Specifications.   \n",
       "1560853  Feature selection for a cooperative coevolutionary classifier in liver fibrosis diagnosis.   \n",
       "181219                    A Factor-2 Approximation for Labeling Points with Maximum Sliding Labels.   \n",
       "1528667        Enhancing the search ability of differential evolution through orthogonal crossover.   \n",
       "281703            Integrating bioinformatic data sources over the SFSU ER design tools XML databus.   \n",
       "\n",
       "                                                                              authors  \\\n",
       "52062                                      Gang Luo, Anindya Das, Gregor von Bochmann   \n",
       "1560853  Catalin Stoean, Ruxandra Stoean, Monica Lupsor, Horia Stefanescu, Radu Badea   \n",
       "181219                                                      Zhongping Qin, Binhai Zhu   \n",
       "1528667                                           Yong Wang, Zixing Cai, Qingfu Zhang   \n",
       "281703                                   Yan Liu, Sorna Vincent, Marguerite C. Murphy   \n",
       "\n",
       "                        journal month  year publication_type  \n",
       "52062                       NaN   NaN  1993    inproceedings  \n",
       "1560853  Comp. in Bio. and Med.   NaN  2011          article  \n",
       "181219                      NaN   NaN  2002    inproceedings  \n",
       "1528667               Inf. Sci.   NaN  2012          article  \n",
       "281703                      NaN   NaN  2006    inproceedings  "
      ]
     },
     "execution_count": 37,
     "metadata": {},
     "output_type": "execute_result"
    }
   ],
   "source": [
    "sample_B.head()"
   ]
  },
  {
   "cell_type": "markdown",
   "metadata": {},
   "source": [
    "### Blocking"
   ]
  },
  {
   "cell_type": "code",
   "execution_count": 54,
   "metadata": {},
   "outputs": [
    {
     "name": "stderr",
     "output_type": "stream",
     "text": [
      "c:\\users\\rmartinez4\\anaconda3\\envs\\py37\\lib\\site-packages\\py_stringsimjoin\\utils\\converter.py:99: FutureWarning: The pandas.np module is deprecated and will be removed from pandas in a future version. Import numpy directly instead\n",
      "  if col_type == pd.np.object:\n",
      "c:\\users\\rmartinez4\\anaconda3\\envs\\py37\\lib\\site-packages\\py_entitymatching\\blocker\\overlap_blocker.py:258: SettingWithCopyWarning: \n",
      "A value is trying to be set on a copy of a slice from a DataFrame.\n",
      "Try using .loc[row_indexer,col_indexer] = value instead\n",
      "\n",
      "See the caveats in the documentation: https://pandas.pydata.org/pandas-docs/stable/user_guide/indexing.html#returning-a-view-versus-a-copy\n",
      "  l_df[l_dummy_overlap_attr] = l_df[l_overlap_attr]\n",
      "c:\\users\\rmartinez4\\anaconda3\\envs\\py37\\lib\\site-packages\\py_entitymatching\\blocker\\overlap_blocker.py:259: SettingWithCopyWarning: \n",
      "A value is trying to be set on a copy of a slice from a DataFrame.\n",
      "Try using .loc[row_indexer,col_indexer] = value instead\n",
      "\n",
      "See the caveats in the documentation: https://pandas.pydata.org/pandas-docs/stable/user_guide/indexing.html#returning-a-view-versus-a-copy\n",
      "  r_df[r_dummy_overlap_attr] = r_df[r_overlap_attr]\n",
      "c:\\users\\rmartinez4\\anaconda3\\envs\\py37\\lib\\site-packages\\py_entitymatching\\blocker\\overlap_blocker.py:615: SettingWithCopyWarning: \n",
      "A value is trying to be set on a copy of a slice from a DataFrame.\n",
      "Try using .loc[row_indexer,col_indexer] = value instead\n",
      "\n",
      "See the caveats in the documentation: https://pandas.pydata.org/pandas-docs/stable/user_guide/indexing.html#returning-a-view-versus-a-copy\n",
      "  table[overlap_attr] = values\n",
      "c:\\users\\rmartinez4\\anaconda3\\envs\\py37\\lib\\site-packages\\py_stringsimjoin\\utils\\validation.py:30: FutureWarning: The pandas.np module is deprecated and will be removed from pandas in a future version. Import numpy directly instead\n",
      "  if attr_type != pd.np.object:\n"
     ]
    }
   ],
   "source": [
    "# Instantiate overlap blocker object\n",
    "ob = em.OverlapBlocker()\n",
    "\n",
    "# Specify the tokenization to be 'word' level and set overlap_size\n",
    "C1 = ob.block_tables(sample_A, sample_B, 'title', 'title', word_level=True, overlap_size=5 , \n",
    "                    l_output_attrs=['title', 'authors', 'journal', 'year'], \n",
    "                    r_output_attrs=['title','authors', 'journal', 'year'],\n",
    "                    show_progress=False)"
   ]
  },
  {
   "cell_type": "code",
   "execution_count": 55,
   "metadata": {},
   "outputs": [
    {
     "data": {
      "text/plain": [
       "1963"
      ]
     },
     "execution_count": 55,
     "metadata": {},
     "output_type": "execute_result"
    }
   ],
   "source": [
    "len(C1)"
   ]
  },
  {
   "cell_type": "code",
   "execution_count": 56,
   "metadata": {
    "scrolled": true
   },
   "outputs": [
    {
     "data": {
      "text/html": [
       "<div>\n",
       "<style scoped>\n",
       "    .dataframe tbody tr th:only-of-type {\n",
       "        vertical-align: middle;\n",
       "    }\n",
       "\n",
       "    .dataframe tbody tr th {\n",
       "        vertical-align: top;\n",
       "    }\n",
       "\n",
       "    .dataframe thead th {\n",
       "        text-align: right;\n",
       "    }\n",
       "</style>\n",
       "<table border=\"1\" class=\"dataframe\">\n",
       "  <thead>\n",
       "    <tr style=\"text-align: right;\">\n",
       "      <th></th>\n",
       "      <th>_id</th>\n",
       "      <th>ltable_id</th>\n",
       "      <th>rtable_id</th>\n",
       "      <th>ltable_title</th>\n",
       "      <th>ltable_authors</th>\n",
       "      <th>ltable_journal</th>\n",
       "      <th>ltable_year</th>\n",
       "      <th>rtable_title</th>\n",
       "      <th>rtable_authors</th>\n",
       "      <th>rtable_journal</th>\n",
       "      <th>rtable_year</th>\n",
       "    </tr>\n",
       "  </thead>\n",
       "  <tbody>\n",
       "    <tr>\n",
       "      <th>0</th>\n",
       "      <td>0</td>\n",
       "      <td>233224</td>\n",
       "      <td>52063</td>\n",
       "      <td>12:41 PM 6/18/99 Page 1 GENERATING TESTS FOR CONTROL PORTION OF</td>\n",
       "      <td>Sdl Specifications, Gang Luo, Anindya Das, Gregor V. Bochmann</td>\n",
       "      <td>NaN</td>\n",
       "      <td>NaN</td>\n",
       "      <td>Generating Tests for Control Portion of SDL Specifications.</td>\n",
       "      <td>Gang Luo, Anindya Das, Gregor von Bochmann</td>\n",
       "      <td>NaN</td>\n",
       "      <td>1993</td>\n",
       "    </tr>\n",
       "    <tr>\n",
       "      <th>1</th>\n",
       "      <td>1</td>\n",
       "      <td>549580</td>\n",
       "      <td>1560854</td>\n",
       "      <td>Co-evolutionary Perspectives in Practice? A Case Study of an Emerging Organizational Form Prepar...</td>\n",
       "      <td>Edited Arie, Y. Lewin, Henk W. Volberda, Benjamin Powell, Johannes Pennings</td>\n",
       "      <td>NaN</td>\n",
       "      <td>2001.0</td>\n",
       "      <td>Feature selection for a cooperative coevolutionary classifier in liver fibrosis diagnosis.</td>\n",
       "      <td>Catalin Stoean, Ruxandra Stoean, Monica Lupsor, Horia Stefanescu, Radu Badea</td>\n",
       "      <td>Comp. in Bio. and Med.</td>\n",
       "      <td>2011</td>\n",
       "    </tr>\n",
       "    <tr>\n",
       "      <th>2</th>\n",
       "      <td>2</td>\n",
       "      <td>1025416</td>\n",
       "      <td>1560854</td>\n",
       "      <td>A Multiobjective Genetic Algorithm for Feature Selection and Data Base Learning in Fuzzy-Rule Ba...</td>\n",
       "      <td>O. Cordna, F. Herreraa, M. J. Jesusb, L. Magdalenac, A. M. Snchezd, P. Villard</td>\n",
       "      <td>NaN</td>\n",
       "      <td>NaN</td>\n",
       "      <td>Feature selection for a cooperative coevolutionary classifier in liver fibrosis diagnosis.</td>\n",
       "      <td>Catalin Stoean, Ruxandra Stoean, Monica Lupsor, Horia Stefanescu, Radu Badea</td>\n",
       "      <td>Comp. in Bio. and Med.</td>\n",
       "      <td>2011</td>\n",
       "    </tr>\n",
       "    <tr>\n",
       "      <th>3</th>\n",
       "      <td>3</td>\n",
       "      <td>343013</td>\n",
       "      <td>181220</td>\n",
       "      <td>Abstract A New Approximation Algorithm for Labeling Weighted Points with Sliding Labels</td>\n",
       "      <td>Thomas Erlebach, Torben Hagerup, Klaus Jansen, Moritz Minzlaff Alex, Er Wolff</td>\n",
       "      <td>NaN</td>\n",
       "      <td>NaN</td>\n",
       "      <td>A Factor-2 Approximation for Labeling Points with Maximum Sliding Labels.</td>\n",
       "      <td>Zhongping Qin, Binhai Zhu</td>\n",
       "      <td>NaN</td>\n",
       "      <td>2002</td>\n",
       "    </tr>\n",
       "    <tr>\n",
       "      <th>4</th>\n",
       "      <td>4</td>\n",
       "      <td>224823</td>\n",
       "      <td>281704</td>\n",
       "      <td>Integrating XML Data Sources using RDF/S Schemas: The ICS-FORTH Semantic Web Integration Middlew...</td>\n",
       "      <td>Ioanna Koffina, Giorgos Serfiotis, Vassilis Christophides, Val Tannen, Alin Deutsch</td>\n",
       "      <td>NaN</td>\n",
       "      <td>NaN</td>\n",
       "      <td>Integrating bioinformatic data sources over the SFSU ER design tools XML databus.</td>\n",
       "      <td>Yan Liu, Sorna Vincent, Marguerite C. Murphy</td>\n",
       "      <td>NaN</td>\n",
       "      <td>2006</td>\n",
       "    </tr>\n",
       "  </tbody>\n",
       "</table>\n",
       "</div>"
      ],
      "text/plain": [
       "   _id  ltable_id  rtable_id  \\\n",
       "0    0     233224      52063   \n",
       "1    1     549580    1560854   \n",
       "2    2    1025416    1560854   \n",
       "3    3     343013     181220   \n",
       "4    4     224823     281704   \n",
       "\n",
       "                                                                                          ltable_title  \\\n",
       "0                                      12:41 PM 6/18/99 Page 1 GENERATING TESTS FOR CONTROL PORTION OF   \n",
       "1  Co-evolutionary Perspectives in Practice? A Case Study of an Emerging Organizational Form Prepar...   \n",
       "2  A Multiobjective Genetic Algorithm for Feature Selection and Data Base Learning in Fuzzy-Rule Ba...   \n",
       "3             Abstract A New Approximation Algorithm for Labeling Weighted Points with Sliding Labels    \n",
       "4  Integrating XML Data Sources using RDF/S Schemas: The ICS-FORTH Semantic Web Integration Middlew...   \n",
       "\n",
       "                                                                        ltable_authors  \\\n",
       "0                        Sdl Specifications, Gang Luo, Anindya Das, Gregor V. Bochmann   \n",
       "1          Edited Arie, Y. Lewin, Henk W. Volberda, Benjamin Powell, Johannes Pennings   \n",
       "2       O. Cordna, F. Herreraa, M. J. Jesusb, L. Magdalenac, A. M. Snchezd, P. Villard   \n",
       "3        Thomas Erlebach, Torben Hagerup, Klaus Jansen, Moritz Minzlaff Alex, Er Wolff   \n",
       "4  Ioanna Koffina, Giorgos Serfiotis, Vassilis Christophides, Val Tannen, Alin Deutsch   \n",
       "\n",
       "   ltable_journal  ltable_year  \\\n",
       "0             NaN          NaN   \n",
       "1             NaN       2001.0   \n",
       "2             NaN          NaN   \n",
       "3             NaN          NaN   \n",
       "4             NaN          NaN   \n",
       "\n",
       "                                                                                 rtable_title  \\\n",
       "0                                 Generating Tests for Control Portion of SDL Specifications.   \n",
       "1  Feature selection for a cooperative coevolutionary classifier in liver fibrosis diagnosis.   \n",
       "2  Feature selection for a cooperative coevolutionary classifier in liver fibrosis diagnosis.   \n",
       "3                   A Factor-2 Approximation for Labeling Points with Maximum Sliding Labels.   \n",
       "4           Integrating bioinformatic data sources over the SFSU ER design tools XML databus.   \n",
       "\n",
       "                                                                 rtable_authors  \\\n",
       "0                                    Gang Luo, Anindya Das, Gregor von Bochmann   \n",
       "1  Catalin Stoean, Ruxandra Stoean, Monica Lupsor, Horia Stefanescu, Radu Badea   \n",
       "2  Catalin Stoean, Ruxandra Stoean, Monica Lupsor, Horia Stefanescu, Radu Badea   \n",
       "3                                                     Zhongping Qin, Binhai Zhu   \n",
       "4                                  Yan Liu, Sorna Vincent, Marguerite C. Murphy   \n",
       "\n",
       "           rtable_journal  rtable_year  \n",
       "0                     NaN         1993  \n",
       "1  Comp. in Bio. and Med.         2011  \n",
       "2  Comp. in Bio. and Med.         2011  \n",
       "3                     NaN         2002  \n",
       "4                     NaN         2006  "
      ]
     },
     "execution_count": 56,
     "metadata": {},
     "output_type": "execute_result"
    }
   ],
   "source": [
    "C1.head()"
   ]
  },
  {
   "cell_type": "code",
   "execution_count": null,
   "metadata": {},
   "outputs": [],
   "source": [
    "# define black box function\n",
    "def address_address_function(x, y):\n",
    "    # x, y will be of type pandas series\n",
    "    \n",
    "    # get name attribute\n",
    "    x_address = x['address']\n",
    "    y_address = y['address']\n",
    "    # get the city\n",
    "    x_split, y_split = x_address.split(','), y_address.split(',')\n",
    "    x_city = x_split[len(x_split) - 1]\n",
    "    y_city = y_split[len(y_split) - 1]\n",
    "    # check if the cities match\n",
    "    if x_city != y_city:\n",
    "        return True\n",
    "    else:\n",
    "        return False"
   ]
  },
  {
   "cell_type": "code",
   "execution_count": null,
   "metadata": {},
   "outputs": [],
   "source": [
    "# Instantiate blackbox blocker\n",
    "bb = em.BlackBoxBlocker()\n",
    "# Set the black box function\n",
    "bb.set_black_box_function(address_address_function)"
   ]
  },
  {
   "cell_type": "code",
   "execution_count": null,
   "metadata": {},
   "outputs": [],
   "source": [
    "C2 = bb.block_tables(A, B, l_output_attrs=['name', 'address'], r_output_attrs=['name', 'address'])"
   ]
  },
  {
   "cell_type": "markdown",
   "metadata": {},
   "source": [
    "### Generating Features for Manually"
   ]
  },
  {
   "cell_type": "code",
   "execution_count": 57,
   "metadata": {},
   "outputs": [
    {
     "name": "stderr",
     "output_type": "stream",
     "text": [
      "c:\\users\\rmartinez4\\anaconda3\\envs\\py37\\lib\\site-packages\\py_entitymatching\\feature\\attributeutils.py:191: FutureWarning: The pandas.np module is deprecated and will be removed from pandas in a future version. Import numpy directly instead\n",
      "  if returned_type == bool or returned_type == pd.np.bool_:\n",
      "Column month does not seem to qualify as any atomic type. It may contain all NaNs. Please update the values of column month\n",
      "Column month does not seem to qualify as any atomic type. It may contain all NaNs. Please update the values of column month\n"
     ]
    }
   ],
   "source": [
    "## Getting Attribute Types\n",
    "atypes1 = em.get_attr_types(sample_A)\n",
    "atypes2 = em.get_attr_types(sample_B)"
   ]
  },
  {
   "cell_type": "code",
   "execution_count": 63,
   "metadata": {},
   "outputs": [
    {
     "data": {
      "text/plain": [
       "dict_keys(['id', 'title', 'authors', 'journal', 'month', 'year', 'publication_type', '_table'])"
      ]
     },
     "execution_count": 63,
     "metadata": {},
     "output_type": "execute_result"
    }
   ],
   "source": [
    "atypes1.keys()"
   ]
  },
  {
   "cell_type": "code",
   "execution_count": 61,
   "metadata": {},
   "outputs": [
    {
     "data": {
      "text/plain": [
       "dict_keys(['id', 'title', 'authors', 'journal', 'month', 'year', 'publication_type', '_table'])"
      ]
     },
     "execution_count": 61,
     "metadata": {},
     "output_type": "execute_result"
    }
   ],
   "source": [
    "atypes2.keys()"
   ]
  },
  {
   "cell_type": "code",
   "execution_count": 79,
   "metadata": {},
   "outputs": [
    {
     "data": {
      "text/plain": [
       "(1919525555656, 1919862163272, 1920323417032, 1919862162888)"
      ]
     },
     "execution_count": 79,
     "metadata": {},
     "output_type": "execute_result"
    }
   ],
   "source": [
    "## Getting Attribute Correspondences\n",
    "block_c = em.get_attr_corres(sample_A, sample_B)\n",
    "id(A), id(block_c['ltable']), id(B), id(block_c['rtable'])"
   ]
  },
  {
   "cell_type": "code",
   "execution_count": 80,
   "metadata": {},
   "outputs": [
    {
     "data": {
      "text/plain": [
       "[('id', 'id'),\n",
       " ('title', 'title'),\n",
       " ('authors', 'authors'),\n",
       " ('journal', 'journal'),\n",
       " ('month', 'month'),\n",
       " ('year', 'year'),\n",
       " ('publication_type', 'publication_type')]"
      ]
     },
     "execution_count": 80,
     "metadata": {},
     "output_type": "execute_result"
    }
   ],
   "source": [
    "block_c['corres']"
   ]
  },
  {
   "cell_type": "code",
   "execution_count": 83,
   "metadata": {},
   "outputs": [
    {
     "data": {
      "text/plain": [
       "{'qgm_2': <function py_entitymatching.feature.tokenizers._make_tok_qgram.<locals>.tok_qgram>,\n",
       " 'qgm_3': <function py_entitymatching.feature.tokenizers._make_tok_qgram.<locals>.tok_qgram>,\n",
       " 'wspace': <function py_entitymatching.feature.tokenizers.tok_wspace>,\n",
       " 'alphabetic': <function py_entitymatching.feature.tokenizers.tok_alphabetic>,\n",
       " 'alphanumeric': <function py_entitymatching.feature.tokenizers.tok_alphanumeric>,\n",
       " 'dlm_dc0': <function py_entitymatching.feature.tokenizers._make_tok_delim.<locals>.tok_delim>}"
      ]
     },
     "execution_count": 83,
     "metadata": {},
     "output_type": "execute_result"
    }
   ],
   "source": [
    "## Getting tokenizers\n",
    "# for blocking\n",
    "tok = em.get_tokenizers_for_blocking()\n",
    "tok"
   ]
  },
  {
   "cell_type": "code",
   "execution_count": 84,
   "metadata": {},
   "outputs": [
    {
     "data": {
      "text/plain": [
       "{'affine': <function py_entitymatching.feature.simfunctions.affine>,\n",
       " 'hamming_dist': <function py_entitymatching.feature.simfunctions.hamming_dist>,\n",
       " 'hamming_sim': <function py_entitymatching.feature.simfunctions.hamming_sim>,\n",
       " 'lev_dist': <function py_entitymatching.feature.simfunctions.lev_dist>,\n",
       " 'lev_sim': <function py_entitymatching.feature.simfunctions.lev_sim>,\n",
       " 'jaro': <function py_entitymatching.feature.simfunctions.jaro>,\n",
       " 'jaro_winkler': <function py_entitymatching.feature.simfunctions.jaro_winkler>,\n",
       " 'needleman_wunsch': <function py_entitymatching.feature.simfunctions.needleman_wunsch>,\n",
       " 'smith_waterman': <function py_entitymatching.feature.simfunctions.smith_waterman>,\n",
       " 'overlap_coeff': <function py_entitymatching.feature.simfunctions.overlap_coeff>,\n",
       " 'jaccard': <function py_entitymatching.feature.simfunctions.jaccard>,\n",
       " 'dice': <function py_entitymatching.feature.simfunctions.dice>,\n",
       " 'monge_elkan': <function py_entitymatching.feature.simfunctions.monge_elkan>,\n",
       " 'cosine': <function py_entitymatching.feature.simfunctions.cosine>,\n",
       " 'exact_match': <function py_entitymatching.feature.simfunctions.exact_match>,\n",
       " 'rel_diff': <function py_entitymatching.feature.simfunctions.rel_diff>,\n",
       " 'abs_norm': <function py_entitymatching.feature.simfunctions.abs_norm>}"
      ]
     },
     "execution_count": 84,
     "metadata": {},
     "output_type": "execute_result"
    }
   ],
   "source": [
    "## Getting Similarity Functions\n",
    "# for blocking\n",
    "sim = em.get_sim_funs_for_blocking()\n",
    "sim"
   ]
  },
  {
   "cell_type": "code",
   "execution_count": 86,
   "metadata": {},
   "outputs": [
    {
     "data": {
      "text/html": [
       "<div>\n",
       "<style scoped>\n",
       "    .dataframe tbody tr th:only-of-type {\n",
       "        vertical-align: middle;\n",
       "    }\n",
       "\n",
       "    .dataframe tbody tr th {\n",
       "        vertical-align: top;\n",
       "    }\n",
       "\n",
       "    .dataframe thead th {\n",
       "        text-align: right;\n",
       "    }\n",
       "</style>\n",
       "<table border=\"1\" class=\"dataframe\">\n",
       "  <thead>\n",
       "    <tr style=\"text-align: right;\">\n",
       "      <th></th>\n",
       "      <th>feature_name</th>\n",
       "      <th>left_attribute</th>\n",
       "      <th>right_attribute</th>\n",
       "      <th>left_attr_tokenizer</th>\n",
       "      <th>right_attr_tokenizer</th>\n",
       "      <th>simfunction</th>\n",
       "      <th>function</th>\n",
       "      <th>function_source</th>\n",
       "      <th>is_auto_generated</th>\n",
       "    </tr>\n",
       "  </thead>\n",
       "  <tbody>\n",
       "    <tr>\n",
       "      <th>0</th>\n",
       "      <td>id_id_exm</td>\n",
       "      <td>id</td>\n",
       "      <td>id</td>\n",
       "      <td>None</td>\n",
       "      <td>None</td>\n",
       "      <td>exact_match</td>\n",
       "      <td>&lt;function id_id_exm at 0x000001BEFB573948&gt;</td>\n",
       "      <td>from py_entitymatching.feature.simfunctions import *\\nfrom py_entitymatching.feature.tokenizers ...</td>\n",
       "      <td>True</td>\n",
       "    </tr>\n",
       "    <tr>\n",
       "      <th>1</th>\n",
       "      <td>id_id_anm</td>\n",
       "      <td>id</td>\n",
       "      <td>id</td>\n",
       "      <td>None</td>\n",
       "      <td>None</td>\n",
       "      <td>abs_norm</td>\n",
       "      <td>&lt;function id_id_anm at 0x000001BEFB573B88&gt;</td>\n",
       "      <td>from py_entitymatching.feature.simfunctions import *\\nfrom py_entitymatching.feature.tokenizers ...</td>\n",
       "      <td>True</td>\n",
       "    </tr>\n",
       "    <tr>\n",
       "      <th>2</th>\n",
       "      <td>id_id_lev_dist</td>\n",
       "      <td>id</td>\n",
       "      <td>id</td>\n",
       "      <td>None</td>\n",
       "      <td>None</td>\n",
       "      <td>lev_dist</td>\n",
       "      <td>&lt;function id_id_lev_dist at 0x000001BEFB573CA8&gt;</td>\n",
       "      <td>from py_entitymatching.feature.simfunctions import *\\nfrom py_entitymatching.feature.tokenizers ...</td>\n",
       "      <td>True</td>\n",
       "    </tr>\n",
       "    <tr>\n",
       "      <th>3</th>\n",
       "      <td>id_id_lev_sim</td>\n",
       "      <td>id</td>\n",
       "      <td>id</td>\n",
       "      <td>None</td>\n",
       "      <td>None</td>\n",
       "      <td>lev_sim</td>\n",
       "      <td>&lt;function id_id_lev_sim at 0x000001BEFB573DC8&gt;</td>\n",
       "      <td>from py_entitymatching.feature.simfunctions import *\\nfrom py_entitymatching.feature.tokenizers ...</td>\n",
       "      <td>True</td>\n",
       "    </tr>\n",
       "    <tr>\n",
       "      <th>4</th>\n",
       "      <td>journal_journal_jac_qgm_3_qgm_3</td>\n",
       "      <td>journal</td>\n",
       "      <td>journal</td>\n",
       "      <td>qgm_3</td>\n",
       "      <td>qgm_3</td>\n",
       "      <td>jaccard</td>\n",
       "      <td>&lt;function journal_journal_jac_qgm_3_qgm_3 at 0x000001BEFB573EE8&gt;</td>\n",
       "      <td>from py_entitymatching.feature.simfunctions import *\\nfrom py_entitymatching.feature.tokenizers ...</td>\n",
       "      <td>True</td>\n",
       "    </tr>\n",
       "  </tbody>\n",
       "</table>\n",
       "</div>"
      ],
      "text/plain": [
       "                      feature_name left_attribute right_attribute  \\\n",
       "0                        id_id_exm             id              id   \n",
       "1                        id_id_anm             id              id   \n",
       "2                   id_id_lev_dist             id              id   \n",
       "3                    id_id_lev_sim             id              id   \n",
       "4  journal_journal_jac_qgm_3_qgm_3        journal         journal   \n",
       "\n",
       "  left_attr_tokenizer right_attr_tokenizer  simfunction  \\\n",
       "0                None                 None  exact_match   \n",
       "1                None                 None     abs_norm   \n",
       "2                None                 None     lev_dist   \n",
       "3                None                 None      lev_sim   \n",
       "4               qgm_3                qgm_3      jaccard   \n",
       "\n",
       "                                                           function  \\\n",
       "0                        <function id_id_exm at 0x000001BEFB573948>   \n",
       "1                        <function id_id_anm at 0x000001BEFB573B88>   \n",
       "2                   <function id_id_lev_dist at 0x000001BEFB573CA8>   \n",
       "3                    <function id_id_lev_sim at 0x000001BEFB573DC8>   \n",
       "4  <function journal_journal_jac_qgm_3_qgm_3 at 0x000001BEFB573EE8>   \n",
       "\n",
       "                                                                                       function_source  \\\n",
       "0  from py_entitymatching.feature.simfunctions import *\\nfrom py_entitymatching.feature.tokenizers ...   \n",
       "1  from py_entitymatching.feature.simfunctions import *\\nfrom py_entitymatching.feature.tokenizers ...   \n",
       "2  from py_entitymatching.feature.simfunctions import *\\nfrom py_entitymatching.feature.tokenizers ...   \n",
       "3  from py_entitymatching.feature.simfunctions import *\\nfrom py_entitymatching.feature.tokenizers ...   \n",
       "4  from py_entitymatching.feature.simfunctions import *\\nfrom py_entitymatching.feature.tokenizers ...   \n",
       "\n",
       "   is_auto_generated  \n",
       "0               True  \n",
       "1               True  \n",
       "2               True  \n",
       "3               True  \n",
       "4               True  "
      ]
     },
     "execution_count": 86,
     "metadata": {},
     "output_type": "execute_result"
    }
   ],
   "source": [
    "## Getting Features\n",
    "feature_table = em.get_features(sample_A, sample_B, atypes1, atypes2, block_c, tok, sim)\n",
    "feature_table.head()"
   ]
  },
  {
   "cell_type": "code",
   "execution_count": null,
   "metadata": {},
   "outputs": [],
   "source": []
  }
 ],
 "metadata": {
  "kernelspec": {
   "display_name": "Python 3",
   "language": "python",
   "name": "python3"
  },
  "language_info": {
   "codemirror_mode": {
    "name": "ipython",
    "version": 3
   },
   "file_extension": ".py",
   "mimetype": "text/x-python",
   "name": "python",
   "nbconvert_exporter": "python",
   "pygments_lexer": "ipython3",
   "version": "3.7.9"
  }
 },
 "nbformat": 4,
 "nbformat_minor": 4
}
