{
 "cells": [
  {
   "cell_type": "code",
   "execution_count": 1,
   "metadata": {},
   "outputs": [
    {
     "data": {
      "application/javascript": [
       "IPython.OutputArea.prototype._should_scroll = function(lines) {\n",
       "    return false;\n",
       "}"
      ],
      "text/plain": [
       "<IPython.core.display.Javascript object>"
      ]
     },
     "metadata": {},
     "output_type": "display_data"
    }
   ],
   "source": [
    "%%javascript\n",
    "IPython.OutputArea.prototype._should_scroll = function(lines) {\n",
    "    return false;\n",
    "}"
   ]
  },
  {
   "cell_type": "markdown",
   "metadata": {},
   "source": [
    "**Raul G. Martinez**\n",
    "\n",
    "**PID: A12461871**\n",
    "\n",
    "**UCSD MAS DSE Cohort 6**\n",
    "\n",
    "**DSE 203 - Fall 2020**\n",
    "\n",
    "**------------------------------------------------------------------------------------------------------------------------------------------------------------------------------------------------------------------**"
   ]
  },
  {
   "cell_type": "markdown",
   "metadata": {},
   "source": [
    "**Instructions for Assignment 2**\n",
    "\n",
    "Due Nov 1 by 11:59pm \n",
    "\n",
    "Points 30 \n",
    "\n",
    "Submitting a file upload \n",
    "\n",
    "Available Oct 23 at 12am - Nov 1 at 11:59pm 10 days\n",
    "\n",
    "Data: citeseer.csv and dblp.csv  (in Canvas/Files)\n",
    "\n",
    "\n",
    "**Your task:**\n",
    "\n",
    "Entity Resolution of the two tables using the two different methods shown in class (dedupe and Anhai's py_entitymatching)\n",
    "\n",
    "Your submission should include the  python scripts (includes SQL scripts) + results\n",
    "\n",
    "\n",
    "**Suggested Reference:**\n",
    "\n",
    "Jupyter Notebook I've uploaded: Entity Matching Complete Workflow.ipynb (Canvas/Files/Hands on/EM)\n",
    "\n",
    "Anhai's Entity Matching Guide: https://sites.google.com/site/anhaidgroup/projects/magellan/py_entitymatching (Links to an external site.)\n",
    "\n",
    "dedupe Slides: Canvas/Files/Hands-on Session/dedupe\n",
    "\n",
    "dedupe Examples (A how-to-use guide through example programs): https://github.com/dedupeio/dedupe-examples\n",
    "\n",
    " \n",
    "\n",
    "**Notes:**\n",
    "\n",
    "(1) You have to install all the dependencies first before you can successfully install Anhai's py_entitymatching package\n",
    "\n",
    "(2) If you try running the dedupe examples from this repo: https://github.com/dedupeio/dedupe-examples, (Links to an external site.) you might run into various issues. Read the dedupe Slides (in Canvas) to troubleshoot these."
   ]
  },
  {
   "cell_type": "markdown",
   "metadata": {},
   "source": [
    "**------------------------------------------------------------------------------------------------------------------------------------------------------------------------------------------------------------------**"
   ]
  },
  {
   "cell_type": "markdown",
   "metadata": {},
   "source": [
    "**Solution**"
   ]
  },
  {
   "cell_type": "markdown",
   "metadata": {},
   "source": [
    "## Entity Resolution with Anahi's py_entitymatching"
   ]
  },
  {
   "cell_type": "code",
   "execution_count": 2,
   "metadata": {},
   "outputs": [],
   "source": [
    "import py_entitymatching as em\n",
    "import py_stringmatching as sm\n",
    "import pandas as pd\n",
    "import os, sys"
   ]
  },
  {
   "cell_type": "code",
   "execution_count": 3,
   "metadata": {},
   "outputs": [
    {
     "name": "stdout",
     "output_type": "stream",
     "text": [
      "python version: 3.7.9 (default, Aug 31 2020, 17:10:11) [MSC v.1916 64 bit (AMD64)]\n",
      "pandas version: 1.1.3\n",
      "magellan version: 0.3.2\n"
     ]
    }
   ],
   "source": [
    "# Display the versions\n",
    "print('python version: ' + sys.version )\n",
    "print('pandas version: ' + pd.__version__ )\n",
    "print('magellan version: ' + em.__version__ )"
   ]
  },
  {
   "cell_type": "markdown",
   "metadata": {},
   "source": [
    "### Read input tables"
   ]
  },
  {
   "cell_type": "code",
   "execution_count": 4,
   "metadata": {},
   "outputs": [
    {
     "name": "stderr",
     "output_type": "stream",
     "text": [
      "Metadata file is not present in the given path; proceeding to read the csv file.\n",
      "Metadata file is not present in the given path; proceeding to read the csv file.\n"
     ]
    }
   ],
   "source": [
    "# Read dataset\n",
    "A = em.read_csv_metadata('../../Data for Assignments/citeseer.csv',low_memory=False) # setting the parameter low_memory to False  to speed up loading.\n",
    "B = em.read_csv_metadata('../../Data for Assignments/dblp.csv', low_memory=False)"
   ]
  },
  {
   "cell_type": "code",
   "execution_count": 5,
   "metadata": {},
   "outputs": [
    {
     "data": {
      "text/plain": [
       "(1823978, 2512927)"
      ]
     },
     "execution_count": 5,
     "metadata": {},
     "output_type": "execute_result"
    }
   ],
   "source": [
    "len(A), len(B)"
   ]
  },
  {
   "cell_type": "code",
   "execution_count": 6,
   "metadata": {},
   "outputs": [],
   "source": [
    "# use subset of original data\n",
    "A = A[:100000]\n",
    "B = B[:100000]"
   ]
  },
  {
   "cell_type": "code",
   "execution_count": 7,
   "metadata": {},
   "outputs": [
    {
     "data": {
      "text/plain": [
       "id                       0\n",
       "title                    6\n",
       "authors                  0\n",
       "journal              99992\n",
       "month               100000\n",
       "year                 80697\n",
       "publication_type     99991\n",
       "dtype: int64"
      ]
     },
     "execution_count": 7,
     "metadata": {},
     "output_type": "execute_result"
    }
   ],
   "source": [
    "# find number of null values\n",
    "A.isnull().sum()"
   ]
  },
  {
   "cell_type": "code",
   "execution_count": 8,
   "metadata": {},
   "outputs": [
    {
     "data": {
      "text/plain": [
       "id                       0\n",
       "title                    0\n",
       "authors                  0\n",
       "journal             100000\n",
       "month               100000\n",
       "year                     0\n",
       "publication_type         0\n",
       "dtype: int64"
      ]
     },
     "execution_count": 8,
     "metadata": {},
     "output_type": "execute_result"
    }
   ],
   "source": [
    "# find number of null values\n",
    "B.isnull().sum()"
   ]
  },
  {
   "cell_type": "code",
   "execution_count": 9,
   "metadata": {},
   "outputs": [
    {
     "data": {
      "text/html": [
       "<div>\n",
       "<style scoped>\n",
       "    .dataframe tbody tr th:only-of-type {\n",
       "        vertical-align: middle;\n",
       "    }\n",
       "\n",
       "    .dataframe tbody tr th {\n",
       "        vertical-align: top;\n",
       "    }\n",
       "\n",
       "    .dataframe thead th {\n",
       "        text-align: right;\n",
       "    }\n",
       "</style>\n",
       "<table border=\"1\" class=\"dataframe\">\n",
       "  <thead>\n",
       "    <tr style=\"text-align: right;\">\n",
       "      <th></th>\n",
       "      <th>id</th>\n",
       "      <th>title</th>\n",
       "      <th>authors</th>\n",
       "      <th>journal</th>\n",
       "      <th>month</th>\n",
       "      <th>year</th>\n",
       "      <th>publication_type</th>\n",
       "    </tr>\n",
       "  </thead>\n",
       "  <tbody>\n",
       "    <tr>\n",
       "      <th>0</th>\n",
       "      <td>1</td>\n",
       "      <td>An Arithmetic Analogue of Bezouts Theorem</td>\n",
       "      <td>David Mckinnon</td>\n",
       "      <td>NaN</td>\n",
       "      <td>NaN</td>\n",
       "      <td>NaN</td>\n",
       "      <td>NaN</td>\n",
       "    </tr>\n",
       "    <tr>\n",
       "      <th>1</th>\n",
       "      <td>2</td>\n",
       "      <td>Thompsons Group F is Not Minimally Almost Convex</td>\n",
       "      <td>James Belk, Kai-uwe Bux</td>\n",
       "      <td>NaN</td>\n",
       "      <td>NaN</td>\n",
       "      <td>2002.0</td>\n",
       "      <td>NaN</td>\n",
       "    </tr>\n",
       "    <tr>\n",
       "      <th>2</th>\n",
       "      <td>3</td>\n",
       "      <td>Cognitive Dimensions Tradeoffs in Tangible User Interface Design</td>\n",
       "      <td>Darren Edge, Alan Blackwell</td>\n",
       "      <td>NaN</td>\n",
       "      <td>NaN</td>\n",
       "      <td>NaN</td>\n",
       "      <td>NaN</td>\n",
       "    </tr>\n",
       "    <tr>\n",
       "      <th>3</th>\n",
       "      <td>4</td>\n",
       "      <td>ACTIVITY NOUNS, UNACCUSATIVITY, AND ARGUMENT MARKING IN YUKATEKAN SSILA meeting; Special Session...</td>\n",
       "      <td>J. Bohnemeyer, Max Planck, I. Introduction</td>\n",
       "      <td>NaN</td>\n",
       "      <td>NaN</td>\n",
       "      <td>2002.0</td>\n",
       "      <td>NaN</td>\n",
       "    </tr>\n",
       "    <tr>\n",
       "      <th>4</th>\n",
       "      <td>5</td>\n",
       "      <td>PS1-6 A6 ULTRASOUND-GUIDED HIFU NEUROLYSIS OF PERIPHERAL NERVES TO TREAT SPASTICITY AND</td>\n",
       "      <td>J. L. Foley, J. W. Little, F. L. Starr Iii, C. Frantz</td>\n",
       "      <td>NaN</td>\n",
       "      <td>NaN</td>\n",
       "      <td>NaN</td>\n",
       "      <td>NaN</td>\n",
       "    </tr>\n",
       "  </tbody>\n",
       "</table>\n",
       "</div>"
      ],
      "text/plain": [
       "   id  \\\n",
       "0   1   \n",
       "1   2   \n",
       "2   3   \n",
       "3   4   \n",
       "4   5   \n",
       "\n",
       "                                                                                                 title  \\\n",
       "0                                                            An Arithmetic Analogue of Bezouts Theorem   \n",
       "1                                                     Thompsons Group F is Not Minimally Almost Convex   \n",
       "2                                     Cognitive Dimensions Tradeoffs in Tangible User Interface Design   \n",
       "3  ACTIVITY NOUNS, UNACCUSATIVITY, AND ARGUMENT MARKING IN YUKATEKAN SSILA meeting; Special Session...   \n",
       "4              PS1-6 A6 ULTRASOUND-GUIDED HIFU NEUROLYSIS OF PERIPHERAL NERVES TO TREAT SPASTICITY AND   \n",
       "\n",
       "                                                 authors journal  month  \\\n",
       "0                                         David Mckinnon     NaN    NaN   \n",
       "1                                James Belk, Kai-uwe Bux     NaN    NaN   \n",
       "2                            Darren Edge, Alan Blackwell     NaN    NaN   \n",
       "3             J. Bohnemeyer, Max Planck, I. Introduction     NaN    NaN   \n",
       "4  J. L. Foley, J. W. Little, F. L. Starr Iii, C. Frantz     NaN    NaN   \n",
       "\n",
       "     year publication_type  \n",
       "0     NaN              NaN  \n",
       "1  2002.0              NaN  \n",
       "2     NaN              NaN  \n",
       "3  2002.0              NaN  \n",
       "4     NaN              NaN  "
      ]
     },
     "execution_count": 9,
     "metadata": {},
     "output_type": "execute_result"
    }
   ],
   "source": [
    "A.head()"
   ]
  },
  {
   "cell_type": "code",
   "execution_count": 10,
   "metadata": {},
   "outputs": [
    {
     "data": {
      "text/html": [
       "<div>\n",
       "<style scoped>\n",
       "    .dataframe tbody tr th:only-of-type {\n",
       "        vertical-align: middle;\n",
       "    }\n",
       "\n",
       "    .dataframe tbody tr th {\n",
       "        vertical-align: top;\n",
       "    }\n",
       "\n",
       "    .dataframe thead th {\n",
       "        text-align: right;\n",
       "    }\n",
       "</style>\n",
       "<table border=\"1\" class=\"dataframe\">\n",
       "  <thead>\n",
       "    <tr style=\"text-align: right;\">\n",
       "      <th></th>\n",
       "      <th>id</th>\n",
       "      <th>title</th>\n",
       "      <th>authors</th>\n",
       "      <th>journal</th>\n",
       "      <th>month</th>\n",
       "      <th>year</th>\n",
       "      <th>publication_type</th>\n",
       "    </tr>\n",
       "  </thead>\n",
       "  <tbody>\n",
       "    <tr>\n",
       "      <th>0</th>\n",
       "      <td>1</td>\n",
       "      <td>Klaus Tschira Stiftung gemeinntzige GmbH, KTS</td>\n",
       "      <td>Klaus Tschira</td>\n",
       "      <td>NaN</td>\n",
       "      <td>NaN</td>\n",
       "      <td>2012</td>\n",
       "      <td>www</td>\n",
       "    </tr>\n",
       "    <tr>\n",
       "      <th>1</th>\n",
       "      <td>2</td>\n",
       "      <td>The SGML/XML Web Page</td>\n",
       "      <td>Robin Cover</td>\n",
       "      <td>NaN</td>\n",
       "      <td>NaN</td>\n",
       "      <td>2006</td>\n",
       "      <td>www</td>\n",
       "    </tr>\n",
       "    <tr>\n",
       "      <th>2</th>\n",
       "      <td>3</td>\n",
       "      <td>The Future of Classic Data Administration: Objects + Databases + CASE</td>\n",
       "      <td>Arnon Rosenthal</td>\n",
       "      <td>NaN</td>\n",
       "      <td>NaN</td>\n",
       "      <td>1998</td>\n",
       "      <td>www</td>\n",
       "    </tr>\n",
       "    <tr>\n",
       "      <th>3</th>\n",
       "      <td>4</td>\n",
       "      <td>XML Query Data Model</td>\n",
       "      <td>Mary F. Fernandez, Jonathan Robie</td>\n",
       "      <td>NaN</td>\n",
       "      <td>NaN</td>\n",
       "      <td>2001</td>\n",
       "      <td>www</td>\n",
       "    </tr>\n",
       "    <tr>\n",
       "      <th>4</th>\n",
       "      <td>5</td>\n",
       "      <td>The XML Query Algebra</td>\n",
       "      <td>Peter Fankhauser, Mary F. Fernndez, Ashok Malhotra, Michael Rys, Jrme Simon, Philip Wadler</td>\n",
       "      <td>NaN</td>\n",
       "      <td>NaN</td>\n",
       "      <td>2001</td>\n",
       "      <td>www</td>\n",
       "    </tr>\n",
       "  </tbody>\n",
       "</table>\n",
       "</div>"
      ],
      "text/plain": [
       "   id                                                                  title  \\\n",
       "0   1                          Klaus Tschira Stiftung gemeinntzige GmbH, KTS   \n",
       "1   2                                                  The SGML/XML Web Page   \n",
       "2   3  The Future of Classic Data Administration: Objects + Databases + CASE   \n",
       "3   4                                                   XML Query Data Model   \n",
       "4   5                                                  The XML Query Algebra   \n",
       "\n",
       "                                                                                      authors  \\\n",
       "0                                                                               Klaus Tschira   \n",
       "1                                                                                 Robin Cover   \n",
       "2                                                                             Arnon Rosenthal   \n",
       "3                                                           Mary F. Fernandez, Jonathan Robie   \n",
       "4  Peter Fankhauser, Mary F. Fernndez, Ashok Malhotra, Michael Rys, Jrme Simon, Philip Wadler   \n",
       "\n",
       "  journal month  year publication_type  \n",
       "0     NaN   NaN  2012              www  \n",
       "1     NaN   NaN  2006              www  \n",
       "2     NaN   NaN  1998              www  \n",
       "3     NaN   NaN  2001              www  \n",
       "4     NaN   NaN  2001              www  "
      ]
     },
     "execution_count": 10,
     "metadata": {},
     "output_type": "execute_result"
    }
   ],
   "source": [
    "B.head()"
   ]
  },
  {
   "cell_type": "code",
   "execution_count": 11,
   "metadata": {},
   "outputs": [],
   "source": [
    "# drop all nan columns\n",
    "A = A.drop(columns=['journal','month','year','publication_type'])\n",
    "B = B.drop(columns=['journal','month','year','publication_type'])"
   ]
  },
  {
   "cell_type": "code",
   "execution_count": 12,
   "metadata": {},
   "outputs": [
    {
     "data": {
      "text/plain": [
       "True"
      ]
     },
     "execution_count": 12,
     "metadata": {},
     "output_type": "execute_result"
    }
   ],
   "source": [
    "# Set 'id' as the keys to the input tables\n",
    "em.set_key(A, 'id')\n",
    "em.set_key(B, 'id')"
   ]
  },
  {
   "cell_type": "code",
   "execution_count": 13,
   "metadata": {},
   "outputs": [
    {
     "data": {
      "text/html": [
       "<div>\n",
       "<style scoped>\n",
       "    .dataframe tbody tr th:only-of-type {\n",
       "        vertical-align: middle;\n",
       "    }\n",
       "\n",
       "    .dataframe tbody tr th {\n",
       "        vertical-align: top;\n",
       "    }\n",
       "\n",
       "    .dataframe thead th {\n",
       "        text-align: right;\n",
       "    }\n",
       "</style>\n",
       "<table border=\"1\" class=\"dataframe\">\n",
       "  <thead>\n",
       "    <tr style=\"text-align: right;\">\n",
       "      <th></th>\n",
       "      <th>id</th>\n",
       "      <th>title</th>\n",
       "      <th>authors</th>\n",
       "    </tr>\n",
       "  </thead>\n",
       "  <tbody>\n",
       "    <tr>\n",
       "      <th>0</th>\n",
       "      <td>1</td>\n",
       "      <td>An Arithmetic Analogue of Bezouts Theorem</td>\n",
       "      <td>David Mckinnon</td>\n",
       "    </tr>\n",
       "    <tr>\n",
       "      <th>1</th>\n",
       "      <td>2</td>\n",
       "      <td>Thompsons Group F is Not Minimally Almost Convex</td>\n",
       "      <td>James Belk, Kai-uwe Bux</td>\n",
       "    </tr>\n",
       "    <tr>\n",
       "      <th>2</th>\n",
       "      <td>3</td>\n",
       "      <td>Cognitive Dimensions Tradeoffs in Tangible User Interface Design</td>\n",
       "      <td>Darren Edge, Alan Blackwell</td>\n",
       "    </tr>\n",
       "    <tr>\n",
       "      <th>3</th>\n",
       "      <td>4</td>\n",
       "      <td>ACTIVITY NOUNS, UNACCUSATIVITY, AND ARGUMENT MARKING IN YUKATEKAN SSILA meeting; Special Session...</td>\n",
       "      <td>J. Bohnemeyer, Max Planck, I. Introduction</td>\n",
       "    </tr>\n",
       "    <tr>\n",
       "      <th>4</th>\n",
       "      <td>5</td>\n",
       "      <td>PS1-6 A6 ULTRASOUND-GUIDED HIFU NEUROLYSIS OF PERIPHERAL NERVES TO TREAT SPASTICITY AND</td>\n",
       "      <td>J. L. Foley, J. W. Little, F. L. Starr Iii, C. Frantz</td>\n",
       "    </tr>\n",
       "  </tbody>\n",
       "</table>\n",
       "</div>"
      ],
      "text/plain": [
       "   id  \\\n",
       "0   1   \n",
       "1   2   \n",
       "2   3   \n",
       "3   4   \n",
       "4   5   \n",
       "\n",
       "                                                                                                 title  \\\n",
       "0                                                            An Arithmetic Analogue of Bezouts Theorem   \n",
       "1                                                     Thompsons Group F is Not Minimally Almost Convex   \n",
       "2                                     Cognitive Dimensions Tradeoffs in Tangible User Interface Design   \n",
       "3  ACTIVITY NOUNS, UNACCUSATIVITY, AND ARGUMENT MARKING IN YUKATEKAN SSILA meeting; Special Session...   \n",
       "4              PS1-6 A6 ULTRASOUND-GUIDED HIFU NEUROLYSIS OF PERIPHERAL NERVES TO TREAT SPASTICITY AND   \n",
       "\n",
       "                                                 authors  \n",
       "0                                         David Mckinnon  \n",
       "1                                James Belk, Kai-uwe Bux  \n",
       "2                            Darren Edge, Alan Blackwell  \n",
       "3             J. Bohnemeyer, Max Planck, I. Introduction  \n",
       "4  J. L. Foley, J. W. Little, F. L. Starr Iii, C. Frantz  "
      ]
     },
     "execution_count": 13,
     "metadata": {},
     "output_type": "execute_result"
    }
   ],
   "source": [
    "A.head()"
   ]
  },
  {
   "cell_type": "code",
   "execution_count": 14,
   "metadata": {},
   "outputs": [
    {
     "data": {
      "text/html": [
       "<div>\n",
       "<style scoped>\n",
       "    .dataframe tbody tr th:only-of-type {\n",
       "        vertical-align: middle;\n",
       "    }\n",
       "\n",
       "    .dataframe tbody tr th {\n",
       "        vertical-align: top;\n",
       "    }\n",
       "\n",
       "    .dataframe thead th {\n",
       "        text-align: right;\n",
       "    }\n",
       "</style>\n",
       "<table border=\"1\" class=\"dataframe\">\n",
       "  <thead>\n",
       "    <tr style=\"text-align: right;\">\n",
       "      <th></th>\n",
       "      <th>id</th>\n",
       "      <th>title</th>\n",
       "      <th>authors</th>\n",
       "    </tr>\n",
       "  </thead>\n",
       "  <tbody>\n",
       "    <tr>\n",
       "      <th>0</th>\n",
       "      <td>1</td>\n",
       "      <td>Klaus Tschira Stiftung gemeinntzige GmbH, KTS</td>\n",
       "      <td>Klaus Tschira</td>\n",
       "    </tr>\n",
       "    <tr>\n",
       "      <th>1</th>\n",
       "      <td>2</td>\n",
       "      <td>The SGML/XML Web Page</td>\n",
       "      <td>Robin Cover</td>\n",
       "    </tr>\n",
       "    <tr>\n",
       "      <th>2</th>\n",
       "      <td>3</td>\n",
       "      <td>The Future of Classic Data Administration: Objects + Databases + CASE</td>\n",
       "      <td>Arnon Rosenthal</td>\n",
       "    </tr>\n",
       "    <tr>\n",
       "      <th>3</th>\n",
       "      <td>4</td>\n",
       "      <td>XML Query Data Model</td>\n",
       "      <td>Mary F. Fernandez, Jonathan Robie</td>\n",
       "    </tr>\n",
       "    <tr>\n",
       "      <th>4</th>\n",
       "      <td>5</td>\n",
       "      <td>The XML Query Algebra</td>\n",
       "      <td>Peter Fankhauser, Mary F. Fernndez, Ashok Malhotra, Michael Rys, Jrme Simon, Philip Wadler</td>\n",
       "    </tr>\n",
       "  </tbody>\n",
       "</table>\n",
       "</div>"
      ],
      "text/plain": [
       "   id                                                                  title  \\\n",
       "0   1                          Klaus Tschira Stiftung gemeinntzige GmbH, KTS   \n",
       "1   2                                                  The SGML/XML Web Page   \n",
       "2   3  The Future of Classic Data Administration: Objects + Databases + CASE   \n",
       "3   4                                                   XML Query Data Model   \n",
       "4   5                                                  The XML Query Algebra   \n",
       "\n",
       "                                                                                      authors  \n",
       "0                                                                               Klaus Tschira  \n",
       "1                                                                                 Robin Cover  \n",
       "2                                                                             Arnon Rosenthal  \n",
       "3                                                           Mary F. Fernandez, Jonathan Robie  \n",
       "4  Peter Fankhauser, Mary F. Fernndez, Ashok Malhotra, Michael Rys, Jrme Simon, Philip Wadler  "
      ]
     },
     "execution_count": 14,
     "metadata": {},
     "output_type": "execute_result"
    }
   ],
   "source": [
    "B.head()"
   ]
  },
  {
   "cell_type": "markdown",
   "metadata": {},
   "source": [
    "### Downsampling"
   ]
  },
  {
   "cell_type": "code",
   "execution_count": 15,
   "metadata": {
    "scrolled": true
   },
   "outputs": [
    {
     "name": "stderr",
     "output_type": "stream",
     "text": [
      "C:\\Users\\rmartinez4\\Anaconda3\\envs\\py37\\lib\\site-packages\\py_entitymatching\\sampler\\down_sample.py:354: FutureWarning: The pandas.np module is deprecated and will be removed from pandas in a future version. Import numpy directly instead\n",
      "  sample_table_splits = pd.np.array_split(sample_table_b, n_jobs)\n"
     ]
    }
   ],
   "source": [
    "# Downsample the datasets \n",
    "sample_A, sample_B = em.down_sample(A, B, size=3000, y_param=1, show_progress=True, n_jobs=-1)"
   ]
  },
  {
   "cell_type": "code",
   "execution_count": 16,
   "metadata": {},
   "outputs": [
    {
     "data": {
      "text/plain": [
       "(2580, 3000)"
      ]
     },
     "execution_count": 16,
     "metadata": {},
     "output_type": "execute_result"
    }
   ],
   "source": [
    "# Display the number of tuples in the sampled datasets\n",
    "len(sample_A), len(sample_B)"
   ]
  },
  {
   "cell_type": "code",
   "execution_count": 17,
   "metadata": {},
   "outputs": [
    {
     "name": "stdout",
     "output_type": "stream",
     "text": [
      "id: 2134681404552\n",
      "key: id\n"
     ]
    }
   ],
   "source": [
    "# Show the metadata of sample_A, sample_B\n",
    "em.show_properties(sample_A)"
   ]
  },
  {
   "cell_type": "code",
   "execution_count": 18,
   "metadata": {},
   "outputs": [
    {
     "name": "stdout",
     "output_type": "stream",
     "text": [
      "id: 2134681404168\n",
      "key: id\n"
     ]
    }
   ],
   "source": [
    "em.show_properties(sample_B)"
   ]
  },
  {
   "cell_type": "code",
   "execution_count": 19,
   "metadata": {},
   "outputs": [
    {
     "data": {
      "text/plain": [
       "id         0\n",
       "title      0\n",
       "authors    0\n",
       "dtype: int64"
      ]
     },
     "execution_count": 19,
     "metadata": {},
     "output_type": "execute_result"
    }
   ],
   "source": [
    "sample_A.isnull().sum()"
   ]
  },
  {
   "cell_type": "code",
   "execution_count": 20,
   "metadata": {},
   "outputs": [
    {
     "data": {
      "text/plain": [
       "id         0\n",
       "title      0\n",
       "authors    0\n",
       "dtype: int64"
      ]
     },
     "execution_count": 20,
     "metadata": {},
     "output_type": "execute_result"
    }
   ],
   "source": [
    "sample_B.isnull().sum()"
   ]
  },
  {
   "cell_type": "code",
   "execution_count": 21,
   "metadata": {},
   "outputs": [
    {
     "data": {
      "text/html": [
       "<div>\n",
       "<style scoped>\n",
       "    .dataframe tbody tr th:only-of-type {\n",
       "        vertical-align: middle;\n",
       "    }\n",
       "\n",
       "    .dataframe tbody tr th {\n",
       "        vertical-align: top;\n",
       "    }\n",
       "\n",
       "    .dataframe thead th {\n",
       "        text-align: right;\n",
       "    }\n",
       "</style>\n",
       "<table border=\"1\" class=\"dataframe\">\n",
       "  <thead>\n",
       "    <tr style=\"text-align: right;\">\n",
       "      <th></th>\n",
       "      <th>id</th>\n",
       "      <th>title</th>\n",
       "      <th>authors</th>\n",
       "    </tr>\n",
       "  </thead>\n",
       "  <tbody>\n",
       "    <tr>\n",
       "      <th>2</th>\n",
       "      <td>3</td>\n",
       "      <td>Cognitive Dimensions Tradeoffs in Tangible User Interface Design</td>\n",
       "      <td>Darren Edge, Alan Blackwell</td>\n",
       "    </tr>\n",
       "    <tr>\n",
       "      <th>3</th>\n",
       "      <td>4</td>\n",
       "      <td>ACTIVITY NOUNS, UNACCUSATIVITY, AND ARGUMENT MARKING IN YUKATEKAN SSILA meeting; Special Session...</td>\n",
       "      <td>J. Bohnemeyer, Max Planck, I. Introduction</td>\n",
       "    </tr>\n",
       "    <tr>\n",
       "      <th>6</th>\n",
       "      <td>7</td>\n",
       "      <td>A Methodology for the Enhancement of a Hypertext Version of a Textbook by the Automatic Insertio...</td>\n",
       "      <td>F. Crestani, M. Melucci</td>\n",
       "    </tr>\n",
       "    <tr>\n",
       "      <th>24584</th>\n",
       "      <td>24585</td>\n",
       "      <td>[4] A. Berman and J. Plemmons, Nonnegative Matrices in the Mathematical Sciences, Academic Press...</td>\n",
       "      <td>M. Aigner, G. M. Ziegler, Proofs From The Book, Nd Edition, Springer Verlag, H. Alt, C. Knauer, ...</td>\n",
       "    </tr>\n",
       "    <tr>\n",
       "      <th>8204</th>\n",
       "      <td>8205</td>\n",
       "      <td>Pacific Symposium on Biocomputing 14:75-86 (2009) CONTEXT-SPECIFIC GENE REGULATIONS IN CANCER GE...</td>\n",
       "      <td>Ina Sen, Michael P. Verdicchio, Sungwon Jung, Robert Trevino, Michael Bittner, Seungchan Kim</td>\n",
       "    </tr>\n",
       "  </tbody>\n",
       "</table>\n",
       "</div>"
      ],
      "text/plain": [
       "          id  \\\n",
       "2          3   \n",
       "3          4   \n",
       "6          7   \n",
       "24584  24585   \n",
       "8204    8205   \n",
       "\n",
       "                                                                                                     title  \\\n",
       "2                                         Cognitive Dimensions Tradeoffs in Tangible User Interface Design   \n",
       "3      ACTIVITY NOUNS, UNACCUSATIVITY, AND ARGUMENT MARKING IN YUKATEKAN SSILA meeting; Special Session...   \n",
       "6      A Methodology for the Enhancement of a Hypertext Version of a Textbook by the Automatic Insertio...   \n",
       "24584  [4] A. Berman and J. Plemmons, Nonnegative Matrices in the Mathematical Sciences, Academic Press...   \n",
       "8204   Pacific Symposium on Biocomputing 14:75-86 (2009) CONTEXT-SPECIFIC GENE REGULATIONS IN CANCER GE...   \n",
       "\n",
       "                                                                                                   authors  \n",
       "2                                                                              Darren Edge, Alan Blackwell  \n",
       "3                                                               J. Bohnemeyer, Max Planck, I. Introduction  \n",
       "6                                                                                  F. Crestani, M. Melucci  \n",
       "24584  M. Aigner, G. M. Ziegler, Proofs From The Book, Nd Edition, Springer Verlag, H. Alt, C. Knauer, ...  \n",
       "8204          Ina Sen, Michael P. Verdicchio, Sungwon Jung, Robert Trevino, Michael Bittner, Seungchan Kim  "
      ]
     },
     "execution_count": 21,
     "metadata": {},
     "output_type": "execute_result"
    }
   ],
   "source": [
    "sample_A.head()"
   ]
  },
  {
   "cell_type": "code",
   "execution_count": 22,
   "metadata": {},
   "outputs": [
    {
     "data": {
      "text/html": [
       "<div>\n",
       "<style scoped>\n",
       "    .dataframe tbody tr th:only-of-type {\n",
       "        vertical-align: middle;\n",
       "    }\n",
       "\n",
       "    .dataframe tbody tr th {\n",
       "        vertical-align: top;\n",
       "    }\n",
       "\n",
       "    .dataframe thead th {\n",
       "        text-align: right;\n",
       "    }\n",
       "</style>\n",
       "<table border=\"1\" class=\"dataframe\">\n",
       "  <thead>\n",
       "    <tr style=\"text-align: right;\">\n",
       "      <th></th>\n",
       "      <th>id</th>\n",
       "      <th>title</th>\n",
       "      <th>authors</th>\n",
       "    </tr>\n",
       "  </thead>\n",
       "  <tbody>\n",
       "    <tr>\n",
       "      <th>1951</th>\n",
       "      <td>1952</td>\n",
       "      <td>Building Acceptable Classification Models.</td>\n",
       "      <td>David Martens, Bart Baesens</td>\n",
       "    </tr>\n",
       "    <tr>\n",
       "      <th>3284</th>\n",
       "      <td>3285</td>\n",
       "      <td>Narrative Interactive Multimedia Learning Environments: Achievements and Challenges.</td>\n",
       "      <td>Paul Brna</td>\n",
       "    </tr>\n",
       "    <tr>\n",
       "      <th>83153</th>\n",
       "      <td>83154</td>\n",
       "      <td>How to Design Good Educational Blogs in LMS?.</td>\n",
       "      <td>Ahmed Mohamed Fahmy Yousef, Guido Rling</td>\n",
       "    </tr>\n",
       "    <tr>\n",
       "      <th>30784</th>\n",
       "      <td>30785</td>\n",
       "      <td>Performance Analysis and Improvement Using LFSR in the Pipelined Key Scheduling Section of DES.</td>\n",
       "      <td>P. V. Sruthi, Prabaharan Poornachandran, A. S. Remya Ajai</td>\n",
       "    </tr>\n",
       "    <tr>\n",
       "      <th>29678</th>\n",
       "      <td>29679</td>\n",
       "      <td>An 800MS/s dual-residue pipeline ADC in 40nm CMOS.</td>\n",
       "      <td>Jan Mulder, Frank M. L. van der Goes, Davide Vecchi, Jan R. Westra, Emre Ayranci, Christopher M....</td>\n",
       "    </tr>\n",
       "  </tbody>\n",
       "</table>\n",
       "</div>"
      ],
      "text/plain": [
       "          id  \\\n",
       "1951    1952   \n",
       "3284    3285   \n",
       "83153  83154   \n",
       "30784  30785   \n",
       "29678  29679   \n",
       "\n",
       "                                                                                                 title  \\\n",
       "1951                                                        Building Acceptable Classification Models.   \n",
       "3284              Narrative Interactive Multimedia Learning Environments: Achievements and Challenges.   \n",
       "83153                                                    How to Design Good Educational Blogs in LMS?.   \n",
       "30784  Performance Analysis and Improvement Using LFSR in the Pipelined Key Scheduling Section of DES.   \n",
       "29678                                               An 800MS/s dual-residue pipeline ADC in 40nm CMOS.   \n",
       "\n",
       "                                                                                                   authors  \n",
       "1951                                                                           David Martens, Bart Baesens  \n",
       "3284                                                                                             Paul Brna  \n",
       "83153                                                              Ahmed Mohamed Fahmy Yousef, Guido Rling  \n",
       "30784                                            P. V. Sruthi, Prabaharan Poornachandran, A. S. Remya Ajai  \n",
       "29678  Jan Mulder, Frank M. L. van der Goes, Davide Vecchi, Jan R. Westra, Emre Ayranci, Christopher M....  "
      ]
     },
     "execution_count": 22,
     "metadata": {},
     "output_type": "execute_result"
    }
   ],
   "source": [
    "sample_B.head()"
   ]
  },
  {
   "cell_type": "markdown",
   "metadata": {},
   "source": [
    "### Generating features for manually"
   ]
  },
  {
   "cell_type": "code",
   "execution_count": 23,
   "metadata": {},
   "outputs": [
    {
     "name": "stderr",
     "output_type": "stream",
     "text": [
      "C:\\Users\\rmartinez4\\Anaconda3\\envs\\py37\\lib\\site-packages\\py_entitymatching\\feature\\attributeutils.py:191: FutureWarning: The pandas.np module is deprecated and will be removed from pandas in a future version. Import numpy directly instead\n",
      "  if returned_type == bool or returned_type == pd.np.bool_:\n"
     ]
    }
   ],
   "source": [
    "## Getting Attribute Types\n",
    "atypes1 = em.get_attr_types(sample_A)\n",
    "atypes2 = em.get_attr_types(sample_B)"
   ]
  },
  {
   "cell_type": "code",
   "execution_count": 24,
   "metadata": {},
   "outputs": [
    {
     "data": {
      "text/plain": [
       "('str_gt_10w', 'str_bt_5w_10w', 'str_gt_10w', 'str_bt_5w_10w')"
      ]
     },
     "execution_count": 24,
     "metadata": {},
     "output_type": "execute_result"
    }
   ],
   "source": [
    "# display attributes for each\n",
    "atypes1['title'], atypes2['title'], atypes1['authors'], atypes2['authors']"
   ]
  },
  {
   "cell_type": "code",
   "execution_count": 25,
   "metadata": {},
   "outputs": [],
   "source": [
    "# make sure attributes match between columns 'title' and 'author'\n",
    "atypes2['title'] = 'str_gt_10w'\n",
    "atypes1['authors'] = 'str_bt_5w_10w'"
   ]
  },
  {
   "cell_type": "code",
   "execution_count": 26,
   "metadata": {},
   "outputs": [
    {
     "data": {
      "text/plain": [
       "('str_gt_10w', 'str_gt_10w', 'str_bt_5w_10w', 'str_bt_5w_10w')"
      ]
     },
     "execution_count": 26,
     "metadata": {},
     "output_type": "execute_result"
    }
   ],
   "source": [
    "# confirm they match\n",
    "atypes1['title'], atypes2['title'], atypes1['authors'], atypes2['authors']"
   ]
  },
  {
   "cell_type": "code",
   "execution_count": 27,
   "metadata": {},
   "outputs": [
    {
     "data": {
      "text/plain": [
       "(2134599011016, 2134681404552, 2135555200840, 2134681404168)"
      ]
     },
     "execution_count": 27,
     "metadata": {},
     "output_type": "execute_result"
    }
   ],
   "source": [
    "## Getting Attribute Correspondences\n",
    "block_c = em.get_attr_corres(sample_A, sample_B)\n",
    "id(A), id(block_c['ltable']), id(B), id(block_c['rtable'])"
   ]
  },
  {
   "cell_type": "code",
   "execution_count": 28,
   "metadata": {},
   "outputs": [
    {
     "data": {
      "text/plain": [
       "[('id', 'id'), ('title', 'title'), ('authors', 'authors')]"
      ]
     },
     "execution_count": 28,
     "metadata": {},
     "output_type": "execute_result"
    }
   ],
   "source": [
    "block_c['corres']"
   ]
  },
  {
   "cell_type": "code",
   "execution_count": 29,
   "metadata": {},
   "outputs": [
    {
     "data": {
      "text/plain": [
       "dict_keys(['corres', 'ltable', 'rtable'])"
      ]
     },
     "execution_count": 29,
     "metadata": {},
     "output_type": "execute_result"
    }
   ],
   "source": [
    "block_c.keys()"
   ]
  },
  {
   "cell_type": "code",
   "execution_count": 30,
   "metadata": {},
   "outputs": [
    {
     "data": {
      "text/plain": [
       "{'qgm_2': <function py_entitymatching.feature.tokenizers._make_tok_qgram.<locals>.tok_qgram>,\n",
       " 'qgm_3': <function py_entitymatching.feature.tokenizers._make_tok_qgram.<locals>.tok_qgram>,\n",
       " 'wspace': <function py_entitymatching.feature.tokenizers.tok_wspace>,\n",
       " 'alphabetic': <function py_entitymatching.feature.tokenizers.tok_alphabetic>,\n",
       " 'alphanumeric': <function py_entitymatching.feature.tokenizers.tok_alphanumeric>,\n",
       " 'dlm_dc0': <function py_entitymatching.feature.tokenizers._make_tok_delim.<locals>.tok_delim>}"
      ]
     },
     "execution_count": 30,
     "metadata": {},
     "output_type": "execute_result"
    }
   ],
   "source": [
    "# Getting tokenizers for blocking\n",
    "tok = em.get_tokenizers_for_blocking()\n",
    "tok"
   ]
  },
  {
   "cell_type": "code",
   "execution_count": 31,
   "metadata": {},
   "outputs": [
    {
     "data": {
      "text/plain": [
       "{'affine': <function py_entitymatching.feature.simfunctions.affine>,\n",
       " 'hamming_dist': <function py_entitymatching.feature.simfunctions.hamming_dist>,\n",
       " 'hamming_sim': <function py_entitymatching.feature.simfunctions.hamming_sim>,\n",
       " 'lev_dist': <function py_entitymatching.feature.simfunctions.lev_dist>,\n",
       " 'lev_sim': <function py_entitymatching.feature.simfunctions.lev_sim>,\n",
       " 'jaro': <function py_entitymatching.feature.simfunctions.jaro>,\n",
       " 'jaro_winkler': <function py_entitymatching.feature.simfunctions.jaro_winkler>,\n",
       " 'needleman_wunsch': <function py_entitymatching.feature.simfunctions.needleman_wunsch>,\n",
       " 'smith_waterman': <function py_entitymatching.feature.simfunctions.smith_waterman>,\n",
       " 'overlap_coeff': <function py_entitymatching.feature.simfunctions.overlap_coeff>,\n",
       " 'jaccard': <function py_entitymatching.feature.simfunctions.jaccard>,\n",
       " 'dice': <function py_entitymatching.feature.simfunctions.dice>,\n",
       " 'monge_elkan': <function py_entitymatching.feature.simfunctions.monge_elkan>,\n",
       " 'cosine': <function py_entitymatching.feature.simfunctions.cosine>,\n",
       " 'exact_match': <function py_entitymatching.feature.simfunctions.exact_match>,\n",
       " 'rel_diff': <function py_entitymatching.feature.simfunctions.rel_diff>,\n",
       " 'abs_norm': <function py_entitymatching.feature.simfunctions.abs_norm>}"
      ]
     },
     "execution_count": 31,
     "metadata": {},
     "output_type": "execute_result"
    }
   ],
   "source": [
    "# Getting Similarity Functions for blocking\n",
    "sim = em.get_sim_funs_for_blocking()\n",
    "sim"
   ]
  },
  {
   "cell_type": "code",
   "execution_count": 32,
   "metadata": {},
   "outputs": [
    {
     "data": {
      "text/html": [
       "<div>\n",
       "<style scoped>\n",
       "    .dataframe tbody tr th:only-of-type {\n",
       "        vertical-align: middle;\n",
       "    }\n",
       "\n",
       "    .dataframe tbody tr th {\n",
       "        vertical-align: top;\n",
       "    }\n",
       "\n",
       "    .dataframe thead th {\n",
       "        text-align: right;\n",
       "    }\n",
       "</style>\n",
       "<table border=\"1\" class=\"dataframe\">\n",
       "  <thead>\n",
       "    <tr style=\"text-align: right;\">\n",
       "      <th></th>\n",
       "      <th>feature_name</th>\n",
       "      <th>left_attribute</th>\n",
       "      <th>right_attribute</th>\n",
       "      <th>left_attr_tokenizer</th>\n",
       "      <th>right_attr_tokenizer</th>\n",
       "      <th>simfunction</th>\n",
       "      <th>function</th>\n",
       "      <th>function_source</th>\n",
       "      <th>is_auto_generated</th>\n",
       "    </tr>\n",
       "  </thead>\n",
       "  <tbody>\n",
       "    <tr>\n",
       "      <th>0</th>\n",
       "      <td>id_id_exm</td>\n",
       "      <td>id</td>\n",
       "      <td>id</td>\n",
       "      <td>None</td>\n",
       "      <td>None</td>\n",
       "      <td>exact_match</td>\n",
       "      <td>&lt;function id_id_exm at 0x000001F10002B5E8&gt;</td>\n",
       "      <td>from py_entitymatching.feature.simfunctions import *\\nfrom py_entitymatching.feature.tokenizers ...</td>\n",
       "      <td>True</td>\n",
       "    </tr>\n",
       "    <tr>\n",
       "      <th>1</th>\n",
       "      <td>id_id_anm</td>\n",
       "      <td>id</td>\n",
       "      <td>id</td>\n",
       "      <td>None</td>\n",
       "      <td>None</td>\n",
       "      <td>abs_norm</td>\n",
       "      <td>&lt;function id_id_anm at 0x000001F10002BCA8&gt;</td>\n",
       "      <td>from py_entitymatching.feature.simfunctions import *\\nfrom py_entitymatching.feature.tokenizers ...</td>\n",
       "      <td>True</td>\n",
       "    </tr>\n",
       "    <tr>\n",
       "      <th>2</th>\n",
       "      <td>id_id_lev_dist</td>\n",
       "      <td>id</td>\n",
       "      <td>id</td>\n",
       "      <td>None</td>\n",
       "      <td>None</td>\n",
       "      <td>lev_dist</td>\n",
       "      <td>&lt;function id_id_lev_dist at 0x000001F10002B558&gt;</td>\n",
       "      <td>from py_entitymatching.feature.simfunctions import *\\nfrom py_entitymatching.feature.tokenizers ...</td>\n",
       "      <td>True</td>\n",
       "    </tr>\n",
       "    <tr>\n",
       "      <th>3</th>\n",
       "      <td>id_id_lev_sim</td>\n",
       "      <td>id</td>\n",
       "      <td>id</td>\n",
       "      <td>None</td>\n",
       "      <td>None</td>\n",
       "      <td>lev_sim</td>\n",
       "      <td>&lt;function id_id_lev_sim at 0x000001F100462048&gt;</td>\n",
       "      <td>from py_entitymatching.feature.simfunctions import *\\nfrom py_entitymatching.feature.tokenizers ...</td>\n",
       "      <td>True</td>\n",
       "    </tr>\n",
       "    <tr>\n",
       "      <th>4</th>\n",
       "      <td>title_title_jac_qgm_3_qgm_3</td>\n",
       "      <td>title</td>\n",
       "      <td>title</td>\n",
       "      <td>qgm_3</td>\n",
       "      <td>qgm_3</td>\n",
       "      <td>jaccard</td>\n",
       "      <td>&lt;function title_title_jac_qgm_3_qgm_3 at 0x000001F100462168&gt;</td>\n",
       "      <td>from py_entitymatching.feature.simfunctions import *\\nfrom py_entitymatching.feature.tokenizers ...</td>\n",
       "      <td>True</td>\n",
       "    </tr>\n",
       "  </tbody>\n",
       "</table>\n",
       "</div>"
      ],
      "text/plain": [
       "                  feature_name left_attribute right_attribute  \\\n",
       "0                    id_id_exm             id              id   \n",
       "1                    id_id_anm             id              id   \n",
       "2               id_id_lev_dist             id              id   \n",
       "3                id_id_lev_sim             id              id   \n",
       "4  title_title_jac_qgm_3_qgm_3          title           title   \n",
       "\n",
       "  left_attr_tokenizer right_attr_tokenizer  simfunction  \\\n",
       "0                None                 None  exact_match   \n",
       "1                None                 None     abs_norm   \n",
       "2                None                 None     lev_dist   \n",
       "3                None                 None      lev_sim   \n",
       "4               qgm_3                qgm_3      jaccard   \n",
       "\n",
       "                                                       function  \\\n",
       "0                    <function id_id_exm at 0x000001F10002B5E8>   \n",
       "1                    <function id_id_anm at 0x000001F10002BCA8>   \n",
       "2               <function id_id_lev_dist at 0x000001F10002B558>   \n",
       "3                <function id_id_lev_sim at 0x000001F100462048>   \n",
       "4  <function title_title_jac_qgm_3_qgm_3 at 0x000001F100462168>   \n",
       "\n",
       "                                                                                       function_source  \\\n",
       "0  from py_entitymatching.feature.simfunctions import *\\nfrom py_entitymatching.feature.tokenizers ...   \n",
       "1  from py_entitymatching.feature.simfunctions import *\\nfrom py_entitymatching.feature.tokenizers ...   \n",
       "2  from py_entitymatching.feature.simfunctions import *\\nfrom py_entitymatching.feature.tokenizers ...   \n",
       "3  from py_entitymatching.feature.simfunctions import *\\nfrom py_entitymatching.feature.tokenizers ...   \n",
       "4  from py_entitymatching.feature.simfunctions import *\\nfrom py_entitymatching.feature.tokenizers ...   \n",
       "\n",
       "   is_auto_generated  \n",
       "0               True  \n",
       "1               True  \n",
       "2               True  \n",
       "3               True  \n",
       "4               True  "
      ]
     },
     "execution_count": 32,
     "metadata": {},
     "output_type": "execute_result"
    }
   ],
   "source": [
    "# Getting Features\n",
    "feature_table = em.get_features(sample_A, sample_B, atypes1, atypes2, block_c, tok, sim)\n",
    "feature_table.head()"
   ]
  },
  {
   "cell_type": "markdown",
   "metadata": {},
   "source": [
    "### Block tables to get candidate set"
   ]
  },
  {
   "cell_type": "code",
   "execution_count": 33,
   "metadata": {},
   "outputs": [
    {
     "name": "stderr",
     "output_type": "stream",
     "text": [
      "C:\\Users\\rmartinez4\\Anaconda3\\envs\\py37\\lib\\site-packages\\py_stringsimjoin\\utils\\converter.py:99: FutureWarning: The pandas.np module is deprecated and will be removed from pandas in a future version. Import numpy directly instead\n",
      "  if col_type == pd.np.object:\n",
      "C:\\Users\\rmartinez4\\Anaconda3\\envs\\py37\\lib\\site-packages\\py_stringsimjoin\\utils\\validation.py:30: FutureWarning: The pandas.np module is deprecated and will be removed from pandas in a future version. Import numpy directly instead\n",
      "  if attr_type != pd.np.object:\n"
     ]
    },
    {
     "data": {
      "text/plain": [
       "25"
      ]
     },
     "execution_count": 33,
     "metadata": {},
     "output_type": "execute_result"
    }
   ],
   "source": [
    "# use rule-based blocker on 'title' column\n",
    "rb = em.RuleBasedBlocker()\n",
    "rb.add_rule(['title_title_jac_qgm_3_qgm_3(ltuple, rtuple) < 0.7'], feature_table)\n",
    "\n",
    "C1 = rb.block_tables(sample_A, sample_B, l_output_attrs=['title', 'authors'], r_output_attrs=['title', 'authors'], show_progress=False)\n",
    "len(C1)"
   ]
  },
  {
   "cell_type": "code",
   "execution_count": 34,
   "metadata": {},
   "outputs": [
    {
     "data": {
      "text/html": [
       "<div>\n",
       "<style scoped>\n",
       "    .dataframe tbody tr th:only-of-type {\n",
       "        vertical-align: middle;\n",
       "    }\n",
       "\n",
       "    .dataframe tbody tr th {\n",
       "        vertical-align: top;\n",
       "    }\n",
       "\n",
       "    .dataframe thead th {\n",
       "        text-align: right;\n",
       "    }\n",
       "</style>\n",
       "<table border=\"1\" class=\"dataframe\">\n",
       "  <thead>\n",
       "    <tr style=\"text-align: right;\">\n",
       "      <th></th>\n",
       "      <th>_id</th>\n",
       "      <th>ltable_id</th>\n",
       "      <th>rtable_id</th>\n",
       "      <th>ltable_title</th>\n",
       "      <th>ltable_authors</th>\n",
       "      <th>rtable_title</th>\n",
       "      <th>rtable_authors</th>\n",
       "    </tr>\n",
       "  </thead>\n",
       "  <tbody>\n",
       "    <tr>\n",
       "      <th>0</th>\n",
       "      <td>0</td>\n",
       "      <td>86543</td>\n",
       "      <td>93390</td>\n",
       "      <td>Query Optimization by Predicate Move-Around</td>\n",
       "      <td>Alon Y. Levy, Inderpal Singh Mumick, Yehoshua Sagiv</td>\n",
       "      <td>Query Optimization by Predicate Move-Around.</td>\n",
       "      <td>Alon Y. Levy, Inderpal Singh Mumick, Yehoshua Sagiv</td>\n",
       "    </tr>\n",
       "    <tr>\n",
       "      <th>1</th>\n",
       "      <td>1</td>\n",
       "      <td>47767</td>\n",
       "      <td>99906</td>\n",
       "      <td>3D Trajectory Recovery for Tracking Multiple Objects and Trajectory Guided Recognition of Actions</td>\n",
       "      <td>Romer Rosales, Stan Sclaroff</td>\n",
       "      <td>3D Trajectory Recovery for Tracking Multiple Objects and Trajectory Guided Recognition of Actions.</td>\n",
       "      <td>Rmer Rosales, Stan Sclaroff</td>\n",
       "    </tr>\n",
       "    <tr>\n",
       "      <th>2</th>\n",
       "      <td>2</td>\n",
       "      <td>34416</td>\n",
       "      <td>8127</td>\n",
       "      <td>Botnet Detection Based on Network Behavior</td>\n",
       "      <td>W. Timothy Strayer, David Lapsely, Robert Walsh, Carl Livadas</td>\n",
       "      <td>Botnet Detection Based on Network Behavior.</td>\n",
       "      <td>W. Timothy Strayer, David E. Lapsley, Robert Walsh, Carl Livadas</td>\n",
       "    </tr>\n",
       "    <tr>\n",
       "      <th>3</th>\n",
       "      <td>3</td>\n",
       "      <td>29913</td>\n",
       "      <td>91546</td>\n",
       "      <td>Bridging the Application and DBMS Profiling Divide for Database Application Developers</td>\n",
       "      <td>Surajit Chaudhuri</td>\n",
       "      <td>Bridging the Application and DBMS Profiling Divide for Database Application Developers.</td>\n",
       "      <td>Surajit Chaudhuri, Vivek R. Narasayya, Manoj Syamala</td>\n",
       "    </tr>\n",
       "    <tr>\n",
       "      <th>4</th>\n",
       "      <td>4</td>\n",
       "      <td>47241</td>\n",
       "      <td>90913</td>\n",
       "      <td>Focused Crawling Using Context Graphs</td>\n",
       "      <td>M. Diligenti, F. M. Coetzee, S. Lawrence, C. L. Giles, M. Gori</td>\n",
       "      <td>Focused Crawling Using Context Graphs.</td>\n",
       "      <td>Michelangelo Diligenti, Frans Coetzee, Steve Lawrence, C. Lee Giles, Marco Gori</td>\n",
       "    </tr>\n",
       "  </tbody>\n",
       "</table>\n",
       "</div>"
      ],
      "text/plain": [
       "   _id ltable_id rtable_id  \\\n",
       "0    0     86543     93390   \n",
       "1    1     47767     99906   \n",
       "2    2     34416      8127   \n",
       "3    3     29913     91546   \n",
       "4    4     47241     90913   \n",
       "\n",
       "                                                                                        ltable_title  \\\n",
       "0                                                        Query Optimization by Predicate Move-Around   \n",
       "1  3D Trajectory Recovery for Tracking Multiple Objects and Trajectory Guided Recognition of Actions   \n",
       "2                                                         Botnet Detection Based on Network Behavior   \n",
       "3             Bridging the Application and DBMS Profiling Divide for Database Application Developers   \n",
       "4                                                              Focused Crawling Using Context Graphs   \n",
       "\n",
       "                                                   ltable_authors  \\\n",
       "0             Alon Y. Levy, Inderpal Singh Mumick, Yehoshua Sagiv   \n",
       "1                                    Romer Rosales, Stan Sclaroff   \n",
       "2   W. Timothy Strayer, David Lapsely, Robert Walsh, Carl Livadas   \n",
       "3                                               Surajit Chaudhuri   \n",
       "4  M. Diligenti, F. M. Coetzee, S. Lawrence, C. L. Giles, M. Gori   \n",
       "\n",
       "                                                                                         rtable_title  \\\n",
       "0                                                        Query Optimization by Predicate Move-Around.   \n",
       "1  3D Trajectory Recovery for Tracking Multiple Objects and Trajectory Guided Recognition of Actions.   \n",
       "2                                                         Botnet Detection Based on Network Behavior.   \n",
       "3             Bridging the Application and DBMS Profiling Divide for Database Application Developers.   \n",
       "4                                                              Focused Crawling Using Context Graphs.   \n",
       "\n",
       "                                                                    rtable_authors  \n",
       "0                              Alon Y. Levy, Inderpal Singh Mumick, Yehoshua Sagiv  \n",
       "1                                                      Rmer Rosales, Stan Sclaroff  \n",
       "2                 W. Timothy Strayer, David E. Lapsley, Robert Walsh, Carl Livadas  \n",
       "3                             Surajit Chaudhuri, Vivek R. Narasayya, Manoj Syamala  \n",
       "4  Michelangelo Diligenti, Frans Coetzee, Steve Lawrence, C. Lee Giles, Marco Gori  "
      ]
     },
     "execution_count": 34,
     "metadata": {},
     "output_type": "execute_result"
    }
   ],
   "source": [
    "C1.head()"
   ]
  },
  {
   "cell_type": "code",
   "execution_count": 35,
   "metadata": {},
   "outputs": [
    {
     "data": {
      "text/plain": [
       "157"
      ]
     },
     "execution_count": 35,
     "metadata": {},
     "output_type": "execute_result"
    }
   ],
   "source": [
    "def title_title_function(x,y):\n",
    "    \n",
    "    # extract authors column\n",
    "    x_author = x['authors']\n",
    "    y_author = y['authors']\n",
    "    \n",
    "    # combine all last names in a string separated by a space\n",
    "    x_lastnames = ' '.join([i.split(' ')[-1] for i in x_author.split(',')])\n",
    "    y_lastnames = ' '.join([i.split(' ')[-1] for i in y_author.split(',')])\n",
    "    \n",
    "    # convert all last names to lower case\n",
    "    x_lastnames = str(x_lastnames).lower()\n",
    "    y_lastnames = str(y_lastnames).lower()\n",
    "        \n",
    "    # exclude when similarity score is lower than threshold\n",
    "    if jac.get_raw_score(ws_tok_set.tokenize(x_lastnames), ws_tok_set.tokenize(y_lastnames)) < 0.7:\n",
    "        return True\n",
    "    else:\n",
    "        return False\n",
    "\n",
    "# Apply black box blocker on 'authors' column\n",
    "ws_tok_set = sm.WhitespaceTokenizer(return_set=True)\n",
    "jac = sm.Jaccard()\n",
    "\n",
    "bb = em.BlackBoxBlocker()\n",
    "bb.set_black_box_function(title_title_function)\n",
    "\n",
    "C2 = bb.block_tables(sample_A, sample_B, l_output_attrs=['title', 'authors'], r_output_attrs=['title', 'authors'], show_progress=False)\n",
    "len(C2)"
   ]
  },
  {
   "cell_type": "code",
   "execution_count": 36,
   "metadata": {},
   "outputs": [
    {
     "data": {
      "text/html": [
       "<div>\n",
       "<style scoped>\n",
       "    .dataframe tbody tr th:only-of-type {\n",
       "        vertical-align: middle;\n",
       "    }\n",
       "\n",
       "    .dataframe tbody tr th {\n",
       "        vertical-align: top;\n",
       "    }\n",
       "\n",
       "    .dataframe thead th {\n",
       "        text-align: right;\n",
       "    }\n",
       "</style>\n",
       "<table border=\"1\" class=\"dataframe\">\n",
       "  <thead>\n",
       "    <tr style=\"text-align: right;\">\n",
       "      <th></th>\n",
       "      <th>_id</th>\n",
       "      <th>ltable_id</th>\n",
       "      <th>rtable_id</th>\n",
       "      <th>ltable_title</th>\n",
       "      <th>ltable_authors</th>\n",
       "      <th>rtable_title</th>\n",
       "      <th>rtable_authors</th>\n",
       "    </tr>\n",
       "  </thead>\n",
       "  <tbody>\n",
       "    <tr>\n",
       "      <th>0</th>\n",
       "      <td>0</td>\n",
       "      <td>8205</td>\n",
       "      <td>84457</td>\n",
       "      <td>Pacific Symposium on Biocomputing 14:75-86 (2009) CONTEXT-SPECIFIC GENE REGULATIONS IN CANCER GE...</td>\n",
       "      <td>Ina Sen, Michael P. Verdicchio, Sungwon Jung, Robert Trevino, Michael Bittner, Seungchan Kim</td>\n",
       "      <td>Context-Specific Gene Regulations in Cancer Gene Expression Data.</td>\n",
       "      <td>Ina Sen, Michael P. Verdicchio, Sungwon Jung, Robert Trevino, Michael L. Bittner</td>\n",
       "    </tr>\n",
       "    <tr>\n",
       "      <th>1</th>\n",
       "      <td>1</td>\n",
       "      <td>65621</td>\n",
       "      <td>41771</td>\n",
       "      <td>ADAPTIVE CALIBRATION AND CONTROL OF CASCADE PROCESSES WITH UNKNOWN MEASUREMENT MODEL AND ACTUATO...</td>\n",
       "      <td>Zeyu Liu, Perry Li</td>\n",
       "      <td>A novel multi-band spectral subtraction method based on phase modification and magnitude compens...</td>\n",
       "      <td>Chao Li, Wen-Ju Liu</td>\n",
       "    </tr>\n",
       "    <tr>\n",
       "      <th>2</th>\n",
       "      <td>2</td>\n",
       "      <td>57491</td>\n",
       "      <td>35426</td>\n",
       "      <td>A Formal Framework for Image Indexing with Triples: Toward a Concept-Based Image Retrieval</td>\n",
       "      <td>Jae Dong Yang, Hyung Jeong Yang</td>\n",
       "      <td>Optimal Overlay Construction on Heterogeneous Live Peer-to-Peer Streaming Systems.</td>\n",
       "      <td>Min Yang, Yuanyuan Yang</td>\n",
       "    </tr>\n",
       "    <tr>\n",
       "      <th>3</th>\n",
       "      <td>3</td>\n",
       "      <td>57491</td>\n",
       "      <td>93599</td>\n",
       "      <td>A Formal Framework for Image Indexing with Triples: Toward a Concept-Based Image Retrieval</td>\n",
       "      <td>Jae Dong Yang, Hyung Jeong Yang</td>\n",
       "      <td>Better IT Governance for Organizations - A Model for Improving Flexibility and Capabilities of S...</td>\n",
       "      <td>Jungho Yang</td>\n",
       "    </tr>\n",
       "    <tr>\n",
       "      <th>4</th>\n",
       "      <td>4</td>\n",
       "      <td>202</td>\n",
       "      <td>18784</td>\n",
       "      <td>Field Modifiable Architecture with FPGAs and its Design/Verification/Debugging Methodologies</td>\n",
       "      <td>Masahiro Fujita, Satoshi Komatsu, Hiroshi Saito, Kenshu Seto, Thanyapat Sakunkonchak, Yoshihisa ...</td>\n",
       "      <td>Field Modifiable Architecture with FPGAs and its Design/Verification/Debugging Methodologies.</td>\n",
       "      <td>Masahiro Fujita, Satoshi Komatsu, Hiroshi Saito, Kenshu Seto, Thanyapat Sakunkonchak, Yoshihisa ...</td>\n",
       "    </tr>\n",
       "  </tbody>\n",
       "</table>\n",
       "</div>"
      ],
      "text/plain": [
       "   _id  ltable_id  rtable_id  \\\n",
       "0    0       8205      84457   \n",
       "1    1      65621      41771   \n",
       "2    2      57491      35426   \n",
       "3    3      57491      93599   \n",
       "4    4        202      18784   \n",
       "\n",
       "                                                                                          ltable_title  \\\n",
       "0  Pacific Symposium on Biocomputing 14:75-86 (2009) CONTEXT-SPECIFIC GENE REGULATIONS IN CANCER GE...   \n",
       "1  ADAPTIVE CALIBRATION AND CONTROL OF CASCADE PROCESSES WITH UNKNOWN MEASUREMENT MODEL AND ACTUATO...   \n",
       "2           A Formal Framework for Image Indexing with Triples: Toward a Concept-Based Image Retrieval   \n",
       "3           A Formal Framework for Image Indexing with Triples: Toward a Concept-Based Image Retrieval   \n",
       "4         Field Modifiable Architecture with FPGAs and its Design/Verification/Debugging Methodologies   \n",
       "\n",
       "                                                                                        ltable_authors  \\\n",
       "0         Ina Sen, Michael P. Verdicchio, Sungwon Jung, Robert Trevino, Michael Bittner, Seungchan Kim   \n",
       "1                                                                                   Zeyu Liu, Perry Li   \n",
       "2                                                                      Jae Dong Yang, Hyung Jeong Yang   \n",
       "3                                                                      Jae Dong Yang, Hyung Jeong Yang   \n",
       "4  Masahiro Fujita, Satoshi Komatsu, Hiroshi Saito, Kenshu Seto, Thanyapat Sakunkonchak, Yoshihisa ...   \n",
       "\n",
       "                                                                                          rtable_title  \\\n",
       "0                                    Context-Specific Gene Regulations in Cancer Gene Expression Data.   \n",
       "1  A novel multi-band spectral subtraction method based on phase modification and magnitude compens...   \n",
       "2                   Optimal Overlay Construction on Heterogeneous Live Peer-to-Peer Streaming Systems.   \n",
       "3  Better IT Governance for Organizations - A Model for Improving Flexibility and Capabilities of S...   \n",
       "4        Field Modifiable Architecture with FPGAs and its Design/Verification/Debugging Methodologies.   \n",
       "\n",
       "                                                                                        rtable_authors  \n",
       "0                     Ina Sen, Michael P. Verdicchio, Sungwon Jung, Robert Trevino, Michael L. Bittner  \n",
       "1                                                                                  Chao Li, Wen-Ju Liu  \n",
       "2                                                                              Min Yang, Yuanyuan Yang  \n",
       "3                                                                                          Jungho Yang  \n",
       "4  Masahiro Fujita, Satoshi Komatsu, Hiroshi Saito, Kenshu Seto, Thanyapat Sakunkonchak, Yoshihisa ...  "
      ]
     },
     "execution_count": 36,
     "metadata": {},
     "output_type": "execute_result"
    }
   ],
   "source": [
    "C2.head()"
   ]
  },
  {
   "cell_type": "markdown",
   "metadata": {},
   "source": [
    "### Combine all blocker outputs"
   ]
  },
  {
   "cell_type": "code",
   "execution_count": 39,
   "metadata": {},
   "outputs": [
    {
     "data": {
      "text/plain": [
       "165"
      ]
     },
     "execution_count": 39,
     "metadata": {},
     "output_type": "execute_result"
    }
   ],
   "source": [
    "C = em.combine_blocker_outputs_via_union([C1, C2])\n",
    "len(C)"
   ]
  },
  {
   "cell_type": "code",
   "execution_count": 40,
   "metadata": {},
   "outputs": [
    {
     "data": {
      "text/html": [
       "<div>\n",
       "<style scoped>\n",
       "    .dataframe tbody tr th:only-of-type {\n",
       "        vertical-align: middle;\n",
       "    }\n",
       "\n",
       "    .dataframe tbody tr th {\n",
       "        vertical-align: top;\n",
       "    }\n",
       "\n",
       "    .dataframe thead th {\n",
       "        text-align: right;\n",
       "    }\n",
       "</style>\n",
       "<table border=\"1\" class=\"dataframe\">\n",
       "  <thead>\n",
       "    <tr style=\"text-align: right;\">\n",
       "      <th></th>\n",
       "      <th>_id</th>\n",
       "      <th>ltable_id</th>\n",
       "      <th>rtable_id</th>\n",
       "      <th>ltable_title</th>\n",
       "      <th>ltable_authors</th>\n",
       "      <th>rtable_title</th>\n",
       "      <th>rtable_authors</th>\n",
       "    </tr>\n",
       "  </thead>\n",
       "  <tbody>\n",
       "    <tr>\n",
       "      <th>0</th>\n",
       "      <td>0</td>\n",
       "      <td>202</td>\n",
       "      <td>18784</td>\n",
       "      <td>Field Modifiable Architecture with FPGAs and its Design/Verification/Debugging Methodologies</td>\n",
       "      <td>Masahiro Fujita, Satoshi Komatsu, Hiroshi Saito, Kenshu Seto, Thanyapat Sakunkonchak, Yoshihisa ...</td>\n",
       "      <td>Field Modifiable Architecture with FPGAs and its Design/Verification/Debugging Methodologies.</td>\n",
       "      <td>Masahiro Fujita, Satoshi Komatsu, Hiroshi Saito, Kenshu Seto, Thanyapat Sakunkonchak, Yoshihisa ...</td>\n",
       "    </tr>\n",
       "    <tr>\n",
       "      <th>1</th>\n",
       "      <td>1</td>\n",
       "      <td>449</td>\n",
       "      <td>90667</td>\n",
       "      <td>LBSs and Location Privacy  From Data Privacy to Location Privacy  Unique Challenges of Location...</td>\n",
       "      <td>Ling Liu</td>\n",
       "      <td>An Agent and Goal-Oriented Approach for Virtual Enterprise Modelling: A Case Study.</td>\n",
       "      <td>Zhi Liu, Lin Liu</td>\n",
       "    </tr>\n",
       "    <tr>\n",
       "      <th>2</th>\n",
       "      <td>2</td>\n",
       "      <td>1196</td>\n",
       "      <td>62720</td>\n",
       "      <td>A Service Flow Management Strategy for IEEE 802.16 Broadband Wireless Access Systems in TDD Mode</td>\n",
       "      <td>Wenhua Jiao Hongxi Wang</td>\n",
       "      <td>Towards a measurement tool for verification and validation of simulation models.</td>\n",
       "      <td>Zhongshi Wang</td>\n",
       "    </tr>\n",
       "    <tr>\n",
       "      <th>3</th>\n",
       "      <td>3</td>\n",
       "      <td>1196</td>\n",
       "      <td>67994</td>\n",
       "      <td>A Service Flow Management Strategy for IEEE 802.16 Broadband Wireless Access Systems in TDD Mode</td>\n",
       "      <td>Wenhua Jiao Hongxi Wang</td>\n",
       "      <td>Sample selection based on multiple incremental decision trees in BSP programming library.</td>\n",
       "      <td>Shuo Wang, Jian-Jian Wang, Yi Wang, Xuezheng Wang</td>\n",
       "    </tr>\n",
       "    <tr>\n",
       "      <th>4</th>\n",
       "      <td>4</td>\n",
       "      <td>1196</td>\n",
       "      <td>85023</td>\n",
       "      <td>A Service Flow Management Strategy for IEEE 802.16 Broadband Wireless Access Systems in TDD Mode</td>\n",
       "      <td>Wenhua Jiao Hongxi Wang</td>\n",
       "      <td>A review of electronic signatures regulations: do they facilitate or impede international electr...</td>\n",
       "      <td>Minyan Wang</td>\n",
       "    </tr>\n",
       "  </tbody>\n",
       "</table>\n",
       "</div>"
      ],
      "text/plain": [
       "   _id ltable_id rtable_id  \\\n",
       "0    0       202     18784   \n",
       "1    1       449     90667   \n",
       "2    2      1196     62720   \n",
       "3    3      1196     67994   \n",
       "4    4      1196     85023   \n",
       "\n",
       "                                                                                          ltable_title  \\\n",
       "0         Field Modifiable Architecture with FPGAs and its Design/Verification/Debugging Methodologies   \n",
       "1   LBSs and Location Privacy  From Data Privacy to Location Privacy  Unique Challenges of Location...   \n",
       "2     A Service Flow Management Strategy for IEEE 802.16 Broadband Wireless Access Systems in TDD Mode   \n",
       "3     A Service Flow Management Strategy for IEEE 802.16 Broadband Wireless Access Systems in TDD Mode   \n",
       "4     A Service Flow Management Strategy for IEEE 802.16 Broadband Wireless Access Systems in TDD Mode   \n",
       "\n",
       "                                                                                        ltable_authors  \\\n",
       "0  Masahiro Fujita, Satoshi Komatsu, Hiroshi Saito, Kenshu Seto, Thanyapat Sakunkonchak, Yoshihisa ...   \n",
       "1                                                                                             Ling Liu   \n",
       "2                                                                              Wenhua Jiao Hongxi Wang   \n",
       "3                                                                              Wenhua Jiao Hongxi Wang   \n",
       "4                                                                              Wenhua Jiao Hongxi Wang   \n",
       "\n",
       "                                                                                          rtable_title  \\\n",
       "0        Field Modifiable Architecture with FPGAs and its Design/Verification/Debugging Methodologies.   \n",
       "1                  An Agent and Goal-Oriented Approach for Virtual Enterprise Modelling: A Case Study.   \n",
       "2                     Towards a measurement tool for verification and validation of simulation models.   \n",
       "3            Sample selection based on multiple incremental decision trees in BSP programming library.   \n",
       "4  A review of electronic signatures regulations: do they facilitate or impede international electr...   \n",
       "\n",
       "                                                                                        rtable_authors  \n",
       "0  Masahiro Fujita, Satoshi Komatsu, Hiroshi Saito, Kenshu Seto, Thanyapat Sakunkonchak, Yoshihisa ...  \n",
       "1                                                                                     Zhi Liu, Lin Liu  \n",
       "2                                                                                        Zhongshi Wang  \n",
       "3                                                    Shuo Wang, Jian-Jian Wang, Yi Wang, Xuezheng Wang  \n",
       "4                                                                                          Minyan Wang  "
      ]
     },
     "execution_count": 40,
     "metadata": {},
     "output_type": "execute_result"
    }
   ],
   "source": [
    "C.head()"
   ]
  },
  {
   "cell_type": "markdown",
   "metadata": {},
   "source": [
    "### Sampling and labeling the candidate set"
   ]
  },
  {
   "cell_type": "code",
   "execution_count": 41,
   "metadata": {},
   "outputs": [
    {
     "name": "stderr",
     "output_type": "stream",
     "text": [
      "C:\\Users\\rmartinez4\\Anaconda3\\envs\\py37\\lib\\site-packages\\py_entitymatching\\sampler\\single_table.py:103: FutureWarning: The pandas.np module is deprecated and will be removed from pandas in a future version. Import numpy directly instead\n",
      "  sample_indices = pd.np.random.choice(len(table), sample_size,\n"
     ]
    },
    {
     "data": {
      "text/plain": [
       "50"
      ]
     },
     "execution_count": 41,
     "metadata": {},
     "output_type": "execute_result"
    }
   ],
   "source": [
    "# Sample candidate set, in other words, rough evaluation by using Precision@K metric (where k = 50)\n",
    "S = em.sample_table(C, 50)\n",
    "len(S)"
   ]
  },
  {
   "cell_type": "code",
   "execution_count": 42,
   "metadata": {},
   "outputs": [
    {
     "data": {
      "text/html": [
       "<div>\n",
       "<style scoped>\n",
       "    .dataframe tbody tr th:only-of-type {\n",
       "        vertical-align: middle;\n",
       "    }\n",
       "\n",
       "    .dataframe tbody tr th {\n",
       "        vertical-align: top;\n",
       "    }\n",
       "\n",
       "    .dataframe thead th {\n",
       "        text-align: right;\n",
       "    }\n",
       "</style>\n",
       "<table border=\"1\" class=\"dataframe\">\n",
       "  <thead>\n",
       "    <tr style=\"text-align: right;\">\n",
       "      <th></th>\n",
       "      <th>_id</th>\n",
       "      <th>ltable_id</th>\n",
       "      <th>rtable_id</th>\n",
       "      <th>ltable_title</th>\n",
       "      <th>ltable_authors</th>\n",
       "      <th>rtable_title</th>\n",
       "      <th>rtable_authors</th>\n",
       "    </tr>\n",
       "  </thead>\n",
       "  <tbody>\n",
       "    <tr>\n",
       "      <th>3</th>\n",
       "      <td>3</td>\n",
       "      <td>1196</td>\n",
       "      <td>67994</td>\n",
       "      <td>A Service Flow Management Strategy for IEEE 802.16 Broadband Wireless Access Systems in TDD Mode</td>\n",
       "      <td>Wenhua Jiao Hongxi Wang</td>\n",
       "      <td>Sample selection based on multiple incremental decision trees in BSP programming library.</td>\n",
       "      <td>Shuo Wang, Jian-Jian Wang, Yi Wang, Xuezheng Wang</td>\n",
       "    </tr>\n",
       "    <tr>\n",
       "      <th>10</th>\n",
       "      <td>10</td>\n",
       "      <td>5629</td>\n",
       "      <td>35844</td>\n",
       "      <td>LOOP SCHEDULING FOR MINIMIZING SCHEDULE LENGTH AND SWITCHING ACTIVITIES</td>\n",
       "      <td>Zili Shao, Qingfeng Zhuge, Edwin H. -m. Sha</td>\n",
       "      <td>Timing Optimization of Nested Loops Considering Code Size for DSP Applications.</td>\n",
       "      <td>Qingfeng Zhuge, Zili Shao, Edwin Hsing-Mean Sha</td>\n",
       "    </tr>\n",
       "    <tr>\n",
       "      <th>12</th>\n",
       "      <td>12</td>\n",
       "      <td>6029</td>\n",
       "      <td>78323</td>\n",
       "      <td>National Knowledge Service Business Plan and on the National Library for Health Development Plan...</td>\n",
       "      <td>J A Muir Gray</td>\n",
       "      <td>Introduction to silicon compilation.</td>\n",
       "      <td>John P. Gray</td>\n",
       "    </tr>\n",
       "    <tr>\n",
       "      <th>15</th>\n",
       "      <td>15</td>\n",
       "      <td>6542</td>\n",
       "      <td>83517</td>\n",
       "      <td>An Architecture of Game Grid Based on Resource Router</td>\n",
       "      <td>Yu Wang, Enhua Tan, Wei Li, Zhiwei Xu</td>\n",
       "      <td>A Semantic Web Based Peer to Peer Service Discovery Mechanism for Intelligent Business Process.</td>\n",
       "      <td>Desheng Li, Ruzhi Xu, Haiyang Wang</td>\n",
       "    </tr>\n",
       "    <tr>\n",
       "      <th>20</th>\n",
       "      <td>20</td>\n",
       "      <td>9736</td>\n",
       "      <td>84183</td>\n",
       "      <td>Pacific Symposium on Biocomputing 8:490-501(2003) ERRORS AND LINKAGE DISEQUILIBRIUM INTERACT MUL...</td>\n",
       "      <td>D. Gordon, M. A. Levenstien, S. J. Finch, J. Ott, D. Gordon, M. A. Levenstien, S. J. Finch, J. Ott</td>\n",
       "      <td>Errors and Linkage Disequilibrium Interact Multiplicatively When Computing Sample Sizes for Gene...</td>\n",
       "      <td>Derek Gordon, Mark A. Levenstien, Stephen J. Finch, Jrg Ott</td>\n",
       "    </tr>\n",
       "  </tbody>\n",
       "</table>\n",
       "</div>"
      ],
      "text/plain": [
       "    _id ltable_id rtable_id  \\\n",
       "3     3      1196     67994   \n",
       "10   10      5629     35844   \n",
       "12   12      6029     78323   \n",
       "15   15      6542     83517   \n",
       "20   20      9736     84183   \n",
       "\n",
       "                                                                                           ltable_title  \\\n",
       "3      A Service Flow Management Strategy for IEEE 802.16 Broadband Wireless Access Systems in TDD Mode   \n",
       "10                              LOOP SCHEDULING FOR MINIMIZING SCHEDULE LENGTH AND SWITCHING ACTIVITIES   \n",
       "12  National Knowledge Service Business Plan and on the National Library for Health Development Plan...   \n",
       "15                                                An Architecture of Game Grid Based on Resource Router   \n",
       "20  Pacific Symposium on Biocomputing 8:490-501(2003) ERRORS AND LINKAGE DISEQUILIBRIUM INTERACT MUL...   \n",
       "\n",
       "                                                                                        ltable_authors  \\\n",
       "3                                                                              Wenhua Jiao Hongxi Wang   \n",
       "10                                                         Zili Shao, Qingfeng Zhuge, Edwin H. -m. Sha   \n",
       "12                                                                                       J A Muir Gray   \n",
       "15                                                               Yu Wang, Enhua Tan, Wei Li, Zhiwei Xu   \n",
       "20  D. Gordon, M. A. Levenstien, S. J. Finch, J. Ott, D. Gordon, M. A. Levenstien, S. J. Finch, J. Ott   \n",
       "\n",
       "                                                                                           rtable_title  \\\n",
       "3             Sample selection based on multiple incremental decision trees in BSP programming library.   \n",
       "10                      Timing Optimization of Nested Loops Considering Code Size for DSP Applications.   \n",
       "12                                                                 Introduction to silicon compilation.   \n",
       "15      A Semantic Web Based Peer to Peer Service Discovery Mechanism for Intelligent Business Process.   \n",
       "20  Errors and Linkage Disequilibrium Interact Multiplicatively When Computing Sample Sizes for Gene...   \n",
       "\n",
       "                                                 rtable_authors  \n",
       "3             Shuo Wang, Jian-Jian Wang, Yi Wang, Xuezheng Wang  \n",
       "10              Qingfeng Zhuge, Zili Shao, Edwin Hsing-Mean Sha  \n",
       "12                                                 John P. Gray  \n",
       "15                           Desheng Li, Ruzhi Xu, Haiyang Wang  \n",
       "20  Derek Gordon, Mark A. Levenstien, Stephen J. Finch, Jrg Ott  "
      ]
     },
     "execution_count": 42,
     "metadata": {},
     "output_type": "execute_result"
    }
   ],
   "source": [
    "S.head()"
   ]
  },
  {
   "cell_type": "code",
   "execution_count": 43,
   "metadata": {},
   "outputs": [
    {
     "name": "stderr",
     "output_type": "stream",
     "text": [
      "Column name (gold) is not present in dataframe\n"
     ]
    },
    {
     "data": {
      "text/plain": [
       "50"
      ]
     },
     "execution_count": 43,
     "metadata": {},
     "output_type": "execute_result"
    }
   ],
   "source": [
    "# Label S\n",
    "G = em.label_table(S, 'gold')\n",
    "len(G)"
   ]
  },
  {
   "cell_type": "code",
   "execution_count": 44,
   "metadata": {},
   "outputs": [
    {
     "data": {
      "text/html": [
       "<div>\n",
       "<style scoped>\n",
       "    .dataframe tbody tr th:only-of-type {\n",
       "        vertical-align: middle;\n",
       "    }\n",
       "\n",
       "    .dataframe tbody tr th {\n",
       "        vertical-align: top;\n",
       "    }\n",
       "\n",
       "    .dataframe thead th {\n",
       "        text-align: right;\n",
       "    }\n",
       "</style>\n",
       "<table border=\"1\" class=\"dataframe\">\n",
       "  <thead>\n",
       "    <tr style=\"text-align: right;\">\n",
       "      <th></th>\n",
       "      <th>_id</th>\n",
       "      <th>ltable_id</th>\n",
       "      <th>rtable_id</th>\n",
       "      <th>ltable_title</th>\n",
       "      <th>ltable_authors</th>\n",
       "      <th>rtable_title</th>\n",
       "      <th>rtable_authors</th>\n",
       "      <th>gold</th>\n",
       "    </tr>\n",
       "  </thead>\n",
       "  <tbody>\n",
       "    <tr>\n",
       "      <th>3</th>\n",
       "      <td>3</td>\n",
       "      <td>1196</td>\n",
       "      <td>67994</td>\n",
       "      <td>A Service Flow Management Strategy for IEEE 802.16 Broadband Wireless Access Systems in TDD Mode</td>\n",
       "      <td>Wenhua Jiao Hongxi Wang</td>\n",
       "      <td>Sample selection based on multiple incremental decision trees in BSP programming library.</td>\n",
       "      <td>Shuo Wang, Jian-Jian Wang, Yi Wang, Xuezheng Wang</td>\n",
       "      <td>0</td>\n",
       "    </tr>\n",
       "    <tr>\n",
       "      <th>10</th>\n",
       "      <td>10</td>\n",
       "      <td>5629</td>\n",
       "      <td>35844</td>\n",
       "      <td>LOOP SCHEDULING FOR MINIMIZING SCHEDULE LENGTH AND SWITCHING ACTIVITIES</td>\n",
       "      <td>Zili Shao, Qingfeng Zhuge, Edwin H. -m. Sha</td>\n",
       "      <td>Timing Optimization of Nested Loops Considering Code Size for DSP Applications.</td>\n",
       "      <td>Qingfeng Zhuge, Zili Shao, Edwin Hsing-Mean Sha</td>\n",
       "      <td>0</td>\n",
       "    </tr>\n",
       "    <tr>\n",
       "      <th>12</th>\n",
       "      <td>12</td>\n",
       "      <td>6029</td>\n",
       "      <td>78323</td>\n",
       "      <td>National Knowledge Service Business Plan and on the National Library for Health Development Plan...</td>\n",
       "      <td>J A Muir Gray</td>\n",
       "      <td>Introduction to silicon compilation.</td>\n",
       "      <td>John P. Gray</td>\n",
       "      <td>0</td>\n",
       "    </tr>\n",
       "    <tr>\n",
       "      <th>15</th>\n",
       "      <td>15</td>\n",
       "      <td>6542</td>\n",
       "      <td>83517</td>\n",
       "      <td>An Architecture of Game Grid Based on Resource Router</td>\n",
       "      <td>Yu Wang, Enhua Tan, Wei Li, Zhiwei Xu</td>\n",
       "      <td>A Semantic Web Based Peer to Peer Service Discovery Mechanism for Intelligent Business Process.</td>\n",
       "      <td>Desheng Li, Ruzhi Xu, Haiyang Wang</td>\n",
       "      <td>0</td>\n",
       "    </tr>\n",
       "    <tr>\n",
       "      <th>20</th>\n",
       "      <td>20</td>\n",
       "      <td>9736</td>\n",
       "      <td>84183</td>\n",
       "      <td>Pacific Symposium on Biocomputing 8:490-501(2003) ERRORS AND LINKAGE DISEQUILIBRIUM INTERACT MUL...</td>\n",
       "      <td>D. Gordon, M. A. Levenstien, S. J. Finch, J. Ott, D. Gordon, M. A. Levenstien, S. J. Finch, J. Ott</td>\n",
       "      <td>Errors and Linkage Disequilibrium Interact Multiplicatively When Computing Sample Sizes for Gene...</td>\n",
       "      <td>Derek Gordon, Mark A. Levenstien, Stephen J. Finch, Jrg Ott</td>\n",
       "      <td>0</td>\n",
       "    </tr>\n",
       "    <tr>\n",
       "      <th>23</th>\n",
       "      <td>23</td>\n",
       "      <td>12962</td>\n",
       "      <td>13507</td>\n",
       "      <td>SimTester: A Controllable and Observable Testing Framework for Embedded Systems</td>\n",
       "      <td>Tingting Yu, Witawas Srisa-an, Gregg Rothermel</td>\n",
       "      <td>Testing Inter-layer and Inter-task Interactions in RTES Applications.</td>\n",
       "      <td>Ahyoung Sung, Witawas Srisa-an, Gregg Rothermel, Tingting Yu</td>\n",
       "      <td>0</td>\n",
       "    </tr>\n",
       "    <tr>\n",
       "      <th>33</th>\n",
       "      <td>33</td>\n",
       "      <td>18047</td>\n",
       "      <td>91948</td>\n",
       "      <td>Offering a Precision-Performance Tradeoff for Aggregation Queries over Replicated Data</td>\n",
       "      <td>Chris Olston, Jennifer Widom</td>\n",
       "      <td>Offering a Precision-Performance Tradeoff for Aggregation Queries over Replicated Data.</td>\n",
       "      <td>Chris Olston, Jennifer Widom</td>\n",
       "      <td>1</td>\n",
       "    </tr>\n",
       "    <tr>\n",
       "      <th>34</th>\n",
       "      <td>34</td>\n",
       "      <td>18073</td>\n",
       "      <td>66485</td>\n",
       "      <td>Freeflow: Mediating Between Representation and Action in Workflow Systems</td>\n",
       "      <td>Paul Dourish, Jim Holmes, Allan Maclean, Pernille Marqvardsen, Alex Zbyslaw</td>\n",
       "      <td>Freeflow: Mediating Between Representation and Action in Workflow Systems.</td>\n",
       "      <td>Paul Dourish, Jim Holmes, Allan MacLean, Pernille Marqvardsen, Alex Zbyslaw</td>\n",
       "      <td>0</td>\n",
       "    </tr>\n",
       "    <tr>\n",
       "      <th>35</th>\n",
       "      <td>35</td>\n",
       "      <td>18136</td>\n",
       "      <td>25039</td>\n",
       "      <td>Rapid Knowledge Work Visualization for Abstract Organizations</td>\n",
       "      <td>Markus Strohmaier, Stefanie Lindstaedt</td>\n",
       "      <td>KnowFlow - A Hybrid Approach to Identifying and Visualizing Distributed Knowledge Work Practices.</td>\n",
       "      <td>Markus Strohmaier, Stefanie N. Lindstaedt</td>\n",
       "      <td>0</td>\n",
       "    </tr>\n",
       "    <tr>\n",
       "      <th>37</th>\n",
       "      <td>37</td>\n",
       "      <td>19395</td>\n",
       "      <td>35426</td>\n",
       "      <td>Optimal and heuristic algorithms for quality-of-service routing with multiple constraints</td>\n",
       "      <td>Wen-lin Yang</td>\n",
       "      <td>Optimal Overlay Construction on Heterogeneous Live Peer-to-Peer Streaming Systems.</td>\n",
       "      <td>Min Yang, Yuanyuan Yang</td>\n",
       "      <td>0</td>\n",
       "    </tr>\n",
       "    <tr>\n",
       "      <th>38</th>\n",
       "      <td>38</td>\n",
       "      <td>19395</td>\n",
       "      <td>93599</td>\n",
       "      <td>Optimal and heuristic algorithms for quality-of-service routing with multiple constraints</td>\n",
       "      <td>Wen-lin Yang</td>\n",
       "      <td>Better IT Governance for Organizations - A Model for Improving Flexibility and Capabilities of S...</td>\n",
       "      <td>Jungho Yang</td>\n",
       "      <td>0</td>\n",
       "    </tr>\n",
       "    <tr>\n",
       "      <th>40</th>\n",
       "      <td>40</td>\n",
       "      <td>20643</td>\n",
       "      <td>35426</td>\n",
       "      <td>Phone Server: Design, Implementation and Performance Evaluation</td>\n",
       "      <td>Bo Yang</td>\n",
       "      <td>Optimal Overlay Construction on Heterogeneous Live Peer-to-Peer Streaming Systems.</td>\n",
       "      <td>Min Yang, Yuanyuan Yang</td>\n",
       "      <td>0</td>\n",
       "    </tr>\n",
       "    <tr>\n",
       "      <th>43</th>\n",
       "      <td>43</td>\n",
       "      <td>20743</td>\n",
       "      <td>60902</td>\n",
       "      <td>Improving Spatial Reuse through Tuning Transmit Power, Carrier Sense Threshold, and Data Rate in...</td>\n",
       "      <td>Tae-suk Kim</td>\n",
       "      <td>Proposed Methodology for Comparing Schedule Generation Schemes in Construction Resource Scheduling.</td>\n",
       "      <td>Jin-Lee Kim</td>\n",
       "      <td>0</td>\n",
       "    </tr>\n",
       "    <tr>\n",
       "      <th>45</th>\n",
       "      <td>45</td>\n",
       "      <td>21154</td>\n",
       "      <td>51447</td>\n",
       "      <td>BAYESIAN MOTION BLUR IDENTIFICATION USING BLUR PRIORI *</td>\n",
       "      <td>Xuezheng Liu, Mingjing Li, Hongjiang Zhang, Dingxing Wang</td>\n",
       "      <td>Design of an Expandable Website Platform for Quality Course Cluster.</td>\n",
       "      <td>Shuoping Wang, Gaoyan Zhang, Jun Liu</td>\n",
       "      <td>0</td>\n",
       "    </tr>\n",
       "    <tr>\n",
       "      <th>46</th>\n",
       "      <td>46</td>\n",
       "      <td>22133</td>\n",
       "      <td>26444</td>\n",
       "      <td>LANGUAGE MODEL ADAPTATION FOR AUTOMATIC SPEECH RECOGNITION AND STATISTICAL MACHINE TRANSLATION</td>\n",
       "      <td>Woosung Kim</td>\n",
       "      <td>A Study on Developing CRM Scorecard.</td>\n",
       "      <td>Hyung-Su Kim, Young-Gul Kim</td>\n",
       "      <td>0</td>\n",
       "    </tr>\n",
       "    <tr>\n",
       "      <th>48</th>\n",
       "      <td>48</td>\n",
       "      <td>22148</td>\n",
       "      <td>13626</td>\n",
       "      <td>Granular Computing on Binary Relations II Rough Set Representations and Belief Functions</td>\n",
       "      <td>T. Y. Lin</td>\n",
       "      <td>Model Checking Value-Passing Processes.</td>\n",
       "      <td>Huimin Lin</td>\n",
       "      <td>0</td>\n",
       "    </tr>\n",
       "    <tr>\n",
       "      <th>51</th>\n",
       "      <td>51</td>\n",
       "      <td>23233</td>\n",
       "      <td>51636</td>\n",
       "      <td>NIOS: A Distributed Service Oriented Architecture for Business Process Execution ABSTRACT</td>\n",
       "      <td>Guoli Li</td>\n",
       "      <td>Concept Granular System and Granular Concept Lattice.</td>\n",
       "      <td>Hong Li</td>\n",
       "      <td>0</td>\n",
       "    </tr>\n",
       "    <tr>\n",
       "      <th>56</th>\n",
       "      <td>56</td>\n",
       "      <td>25994</td>\n",
       "      <td>4163</td>\n",
       "      <td>structures and fuzzy concept networks</td>\n",
       "      <td>Kyung-joong Kim, Sung-bae Cho</td>\n",
       "      <td>Evolutionary Algorithms for Board Game Players with Domain Knowledge.</td>\n",
       "      <td>Kyung-Joong Kim, Sung-Bae Cho</td>\n",
       "      <td>0</td>\n",
       "    </tr>\n",
       "    <tr>\n",
       "      <th>60</th>\n",
       "      <td>60</td>\n",
       "      <td>26587</td>\n",
       "      <td>19443</td>\n",
       "      <td>Special Issue Editorial Building Parallel and Distributed Systems</td>\n",
       "      <td>Paddy Nixon, Vinny Cahill, Fethi Rabhi</td>\n",
       "      <td>Software Engineering for Distrinuted Systems.</td>\n",
       "      <td>Paddy Nixon, Vinny Cahill, Fethi A. Rabhi</td>\n",
       "      <td>0</td>\n",
       "    </tr>\n",
       "    <tr>\n",
       "      <th>64</th>\n",
       "      <td>64</td>\n",
       "      <td>28412</td>\n",
       "      <td>18324</td>\n",
       "      <td>Commitments and Conventions: The Foundation of Coordination in Multi- Agent Systems</td>\n",
       "      <td>Nick R. Jennings</td>\n",
       "      <td>Symbolic incompletely specified functions for correct evaluation in the presence of indeterminat...</td>\n",
       "      <td>Glenn Jennings</td>\n",
       "      <td>0</td>\n",
       "    </tr>\n",
       "    <tr>\n",
       "      <th>69</th>\n",
       "      <td>69</td>\n",
       "      <td>30333</td>\n",
       "      <td>10331</td>\n",
       "      <td>Abstract H-Animator: A Visual Tool for Modeling, Reuse and Sharing of X3D Humanoid Animations</td>\n",
       "      <td>Fabio Buttussi, Luca Chittaro, Daniele Nadalutti</td>\n",
       "      <td>Filtering Fitness Trail Content Generated by Mobile Users.</td>\n",
       "      <td>Fabio Buttussi, Luca Chittaro, Daniele Nadalutti</td>\n",
       "      <td>0</td>\n",
       "    </tr>\n",
       "    <tr>\n",
       "      <th>77</th>\n",
       "      <td>77</td>\n",
       "      <td>34811</td>\n",
       "      <td>57009</td>\n",
       "      <td>Grid Service Monitor Performance Monitoring and Measurement of Grid Services Using Peer-to-Peer ...</td>\n",
       "      <td>Yin Chen</td>\n",
       "      <td>A fast simulation approach for tandem queueing systems.</td>\n",
       "      <td>Liang Chen, Chien-Liang A. Chen</td>\n",
       "      <td>0</td>\n",
       "    </tr>\n",
       "    <tr>\n",
       "      <th>81</th>\n",
       "      <td>81</td>\n",
       "      <td>36543</td>\n",
       "      <td>7194</td>\n",
       "      <td>Challenges in Visual Data Analysis</td>\n",
       "      <td>Daniel A. Keim, Florian Mansmann, Jrn Schneidewind, Hartmut Ziegler</td>\n",
       "      <td>Visual Analytics: Scope and Challenges.</td>\n",
       "      <td>Daniel A. Keim, Florian Mansmann, Jrn Schneidewind, Jim Thomas, Hartmut Ziegler</td>\n",
       "      <td>0</td>\n",
       "    </tr>\n",
       "    <tr>\n",
       "      <th>86</th>\n",
       "      <td>86</td>\n",
       "      <td>43111</td>\n",
       "      <td>17598</td>\n",
       "      <td>An Unfolding Algorithm for Synchronous Products of Transition Systems</td>\n",
       "      <td>Javier Esparza, Stefan Romer</td>\n",
       "      <td>An Unfolding Algorithm for Synchronous Products of Transition Systems.</td>\n",
       "      <td>Javier Esparza, Stefan Rmer</td>\n",
       "      <td>1</td>\n",
       "    </tr>\n",
       "    <tr>\n",
       "      <th>88</th>\n",
       "      <td>88</td>\n",
       "      <td>43692</td>\n",
       "      <td>3999</td>\n",
       "      <td>Abstract Domain Decomposition Methods for Linear-Quadratic Elliptic Optimal Control Problems</td>\n",
       "      <td>Hoang Q. Nguyen, Hoang Q. Nguyen</td>\n",
       "      <td>Cloud-Based Data Warehousing Application Framework for Modeling Global and Regional Data Managem...</td>\n",
       "      <td>Thanh Binh Nguyen</td>\n",
       "      <td>0</td>\n",
       "    </tr>\n",
       "    <tr>\n",
       "      <th>91</th>\n",
       "      <td>91</td>\n",
       "      <td>43831</td>\n",
       "      <td>16565</td>\n",
       "      <td>Resolving Implementation Convolution in Middleware Systems</td>\n",
       "      <td>Charles Zhang, Hans-arno Jacobsen</td>\n",
       "      <td>Efficiently mining crosscutting concerns through random walks.</td>\n",
       "      <td>Charles Zhang, Hans-Arno Jacobsen</td>\n",
       "      <td>0</td>\n",
       "    </tr>\n",
       "    <tr>\n",
       "      <th>93</th>\n",
       "      <td>93</td>\n",
       "      <td>44183</td>\n",
       "      <td>37337</td>\n",
       "      <td>MetaFluxNet, a Program Package for Metabolic Pathway Construction and Analysis, and Its Use in L...</td>\n",
       "      <td>Sang Yup Lee, Dong-yup Lee, Soon Ho Hong, Tae Yong Kim</td>\n",
       "      <td>A Real-Time Communication Method for Wormhole Switching Networks.</td>\n",
       "      <td>Byungjae Kim, Jong Kim, Sung Je Hong, Sunggu Lee</td>\n",
       "      <td>0</td>\n",
       "    </tr>\n",
       "    <tr>\n",
       "      <th>95</th>\n",
       "      <td>95</td>\n",
       "      <td>44416</td>\n",
       "      <td>30646</td>\n",
       "      <td>An Interaction Control Architecture for Large Chairperson-controlled Conferences Over the Internet</td>\n",
       "      <td>Lukas Ruf, Thomas Walter, Bernhard Plattner</td>\n",
       "      <td>An Interaction Control Architecture for Large Chairperson-Controlled Conferences over the Internet.</td>\n",
       "      <td>Lukas Ruf, Thomas Walter, Bernhard Plattner</td>\n",
       "      <td>1</td>\n",
       "    </tr>\n",
       "    <tr>\n",
       "      <th>98</th>\n",
       "      <td>98</td>\n",
       "      <td>45083</td>\n",
       "      <td>93216</td>\n",
       "      <td>Biodiversity Informatics Infrastructure: An Information Commons for the Biodiversity Community</td>\n",
       "      <td>Gladys A. Cotter, Barbara T. Bauldock</td>\n",
       "      <td>Biodiversity Informatics Infrastructure: An Information Commons for the Biodiversity Community.</td>\n",
       "      <td>Gladys A. Cotter, Barbara T. Bauldock</td>\n",
       "      <td>1</td>\n",
       "    </tr>\n",
       "    <tr>\n",
       "      <th>103</th>\n",
       "      <td>103</td>\n",
       "      <td>45965</td>\n",
       "      <td>27465</td>\n",
       "      <td>Using Constraint Programming and Local Search Methods to Solve Vehicle Routing Problems</td>\n",
       "      <td>Paul Shaw</td>\n",
       "      <td>The Role of Identification in the Privacy Decisions of Information System Students.</td>\n",
       "      <td>Thomas Shaw</td>\n",
       "      <td>0</td>\n",
       "    </tr>\n",
       "    <tr>\n",
       "      <th>104</th>\n",
       "      <td>104</td>\n",
       "      <td>46229</td>\n",
       "      <td>11715</td>\n",
       "      <td>Abstract Access to Italian legal literature: Integration between Structured Repositories and Web...</td>\n",
       "      <td>E. Francesconi, G. Peruginelli</td>\n",
       "      <td>Searching and retrieving legal literature through automated semantic indexing.</td>\n",
       "      <td>Enrico Francesconi, Ginevra Peruginelli</td>\n",
       "      <td>0</td>\n",
       "    </tr>\n",
       "    <tr>\n",
       "      <th>108</th>\n",
       "      <td>108</td>\n",
       "      <td>48058</td>\n",
       "      <td>10412</td>\n",
       "      <td>Generalized Knapsack Solvers for Multi-Unit Combinatorial Auctions: Analysis and Application to ...</td>\n",
       "      <td>Terence Kelly</td>\n",
       "      <td>A Longitudinal, Naturalistic Study of Information Search &amp; Use Behavior as Implicit Feedback for...</td>\n",
       "      <td>Diane Kelly</td>\n",
       "      <td>0</td>\n",
       "    </tr>\n",
       "    <tr>\n",
       "      <th>111</th>\n",
       "      <td>111</td>\n",
       "      <td>50060</td>\n",
       "      <td>97312</td>\n",
       "      <td>Converting Legacy Relational Database into XML Database through Reverse Engineering</td>\n",
       "      <td>Chunyan Wang, Anthony Lo, Reda Alhajj, Ken Barker</td>\n",
       "      <td>Converting Legacy Relational Database into XML Database through Reverse Engineering.</td>\n",
       "      <td>Chunyan Wang, Anthony Chiu Wa Lo, Reda Alhajj, Ken Barker</td>\n",
       "      <td>1</td>\n",
       "    </tr>\n",
       "    <tr>\n",
       "      <th>124</th>\n",
       "      <td>124</td>\n",
       "      <td>65850</td>\n",
       "      <td>54467</td>\n",
       "      <td>Modularization and automatic composition of Object- Role Modeling (ORM) schemes</td>\n",
       "      <td>Mustafa Jarrar</td>\n",
       "      <td>Modularization and Automatic Composition of Object-Role Modeling (ORM) Schemes.</td>\n",
       "      <td>Mustafa Jarrar</td>\n",
       "      <td>1</td>\n",
       "    </tr>\n",
       "    <tr>\n",
       "      <th>127</th>\n",
       "      <td>127</td>\n",
       "      <td>66232</td>\n",
       "      <td>57009</td>\n",
       "      <td>The Analysis of Different Production Planning Decision Models in the Supply Chain Network</td>\n",
       "      <td>Yin-yann Chen</td>\n",
       "      <td>A fast simulation approach for tandem queueing systems.</td>\n",
       "      <td>Liang Chen, Chien-Liang A. Chen</td>\n",
       "      <td>0</td>\n",
       "    </tr>\n",
       "    <tr>\n",
       "      <th>132</th>\n",
       "      <td>132</td>\n",
       "      <td>70320</td>\n",
       "      <td>74019</td>\n",
       "      <td>On the Minimization of SOPs for Bi-Decomposable Functions</td>\n",
       "      <td>Tsutomu Sasao, Jon T. Butler</td>\n",
       "      <td>Hardware Index to Set Partition Converter.</td>\n",
       "      <td>Jon T. Butler, Tsutomu Sasao</td>\n",
       "      <td>0</td>\n",
       "    </tr>\n",
       "    <tr>\n",
       "      <th>137</th>\n",
       "      <td>137</td>\n",
       "      <td>76990</td>\n",
       "      <td>37547</td>\n",
       "      <td>PAPER Evaluation of Two Load-Balancing Primary-Backup Process Allocation Schemes</td>\n",
       "      <td>Heejo Lee, Jong Kim, Sung Je Hong</td>\n",
       "      <td>DTN: A New Partitionable Torus Topology.</td>\n",
       "      <td>SangHo Chae, Jong Kim, Dongseung Kim, Sung Je Hong, Sunggu Lee</td>\n",
       "      <td>0</td>\n",
       "    </tr>\n",
       "    <tr>\n",
       "      <th>138</th>\n",
       "      <td>138</td>\n",
       "      <td>78425</td>\n",
       "      <td>75967</td>\n",
       "      <td>Low Power Design of Memory Intensive Functions Case Study: Vector Quantization</td>\n",
       "      <td>David B. Lidsky, Jan M. Rabaey</td>\n",
       "      <td>Early Power Exploration - A World Wide Web Application.</td>\n",
       "      <td>David Lidsky, Jan M. Rabaey</td>\n",
       "      <td>0</td>\n",
       "    </tr>\n",
       "    <tr>\n",
       "      <th>139</th>\n",
       "      <td>139</td>\n",
       "      <td>80863</td>\n",
       "      <td>60953</td>\n",
       "      <td>Permuted Estimators for Regenerative Simulations</td>\n",
       "      <td>James M. Calvin, Marvin K. Nakayama</td>\n",
       "      <td>Output analysis: a comparison of output-analysis methods for simulations of processes with multi...</td>\n",
       "      <td>James M. Calvin, Marvin K. Nakayama</td>\n",
       "      <td>0</td>\n",
       "    </tr>\n",
       "    <tr>\n",
       "      <th>141</th>\n",
       "      <td>141</td>\n",
       "      <td>81155</td>\n",
       "      <td>91111</td>\n",
       "      <td>Adaptive Commitment for Distributed Real-Time Transactions</td>\n",
       "      <td>Nandit Soparkar, Eliezer Levy, Henry F. Korth, Avi Silberschatz</td>\n",
       "      <td>Triggered Real-Time Databases with Consistency Constraints.</td>\n",
       "      <td>Henry F. Korth, Nandit Soparkar, Abraham Silberschatz</td>\n",
       "      <td>0</td>\n",
       "    </tr>\n",
       "    <tr>\n",
       "      <th>144</th>\n",
       "      <td>144</td>\n",
       "      <td>82965</td>\n",
       "      <td>37455</td>\n",
       "      <td>PROGRAM ANALYSIS FOR CACHE COHERENCE: BEYOND PROCEDURAL BOUNDARIES</td>\n",
       "      <td>Lynn Choi, Pen-chung Yew</td>\n",
       "      <td>Program Analysis for Cache Coherence: Beyond Procedural Boundaries.</td>\n",
       "      <td>Lynn Choi, Pen-Chung Yew</td>\n",
       "      <td>1</td>\n",
       "    </tr>\n",
       "    <tr>\n",
       "      <th>145</th>\n",
       "      <td>145</td>\n",
       "      <td>83921</td>\n",
       "      <td>89103</td>\n",
       "      <td>Theory and Practice of I/O-Efficient Algorithms for Multidimensional Batched Searching Problems ...</td>\n",
       "      <td>Lars Arge, Octavian Procopiuc, Sridhar Ramaswamy, Torsten Suel, Jeffrey Scott Vitter</td>\n",
       "      <td>A Unified Approach for Indexed and Non-Indexed Spatial Joins.</td>\n",
       "      <td>Lars Arge, Octavian Procopiuc, Sridhar Ramaswamy, Torsten Suel, Jan Vahrenhold, Jeffrey Scott Vi...</td>\n",
       "      <td>0</td>\n",
       "    </tr>\n",
       "    <tr>\n",
       "      <th>154</th>\n",
       "      <td>154</td>\n",
       "      <td>96995</td>\n",
       "      <td>51636</td>\n",
       "      <td>A computation offloadingscheme on handheld devices</td>\n",
       "      <td>Zhiyuan Li</td>\n",
       "      <td>Concept Granular System and Granular Concept Lattice.</td>\n",
       "      <td>Hong Li</td>\n",
       "      <td>0</td>\n",
       "    </tr>\n",
       "    <tr>\n",
       "      <th>155</th>\n",
       "      <td>155</td>\n",
       "      <td>96995</td>\n",
       "      <td>85299</td>\n",
       "      <td>A computation offloadingscheme on handheld devices</td>\n",
       "      <td>Zhiyuan Li</td>\n",
       "      <td>Dynamic nature of trust in e-commerce.</td>\n",
       "      <td>Nan Li</td>\n",
       "      <td>0</td>\n",
       "    </tr>\n",
       "    <tr>\n",
       "      <th>157</th>\n",
       "      <td>157</td>\n",
       "      <td>97468</td>\n",
       "      <td>73784</td>\n",
       "      <td>A Prototype Content-based Image Retrieval System for Spine X-rays</td>\n",
       "      <td>L. Rodney Long, Sameer K. Antani, George R. Thoma</td>\n",
       "      <td>Unsupervised Grow-Cut: Cellular Automata-Based Medical Image Segmentation.</td>\n",
       "      <td>Payel Ghosh, Sameer Antani, L. Rodney Long, George R. Thoma</td>\n",
       "      <td>0</td>\n",
       "    </tr>\n",
       "    <tr>\n",
       "      <th>158</th>\n",
       "      <td>158</td>\n",
       "      <td>97733</td>\n",
       "      <td>92305</td>\n",
       "      <td>A Native Extension of SQL for Mining Data Streams</td>\n",
       "      <td>Chang Luo, Hetal Thakkar, Haixun Wang, Carlo Zaniolo</td>\n",
       "      <td>ATLAS: A Small but Complete SQL Extension for Data Mining and Data Streams.</td>\n",
       "      <td>Haixun Wang, Carlo Zaniolo, Chang Luo</td>\n",
       "      <td>0</td>\n",
       "    </tr>\n",
       "    <tr>\n",
       "      <th>160</th>\n",
       "      <td>160</td>\n",
       "      <td>98084</td>\n",
       "      <td>78514</td>\n",
       "      <td>Abstract Practical Iterated Fill Synthesis for CMP Uniformity</td>\n",
       "      <td>Yu Chen, Andrew B. Kahng, Gabriel Robins, Er Zelikovsky</td>\n",
       "      <td>Practical iterated fill synthesis for CMP uniformity.</td>\n",
       "      <td>Yu Chen, Andrew B. Kahng, Gabriel Robins, Alexander Zelikovsky</td>\n",
       "      <td>0</td>\n",
       "    </tr>\n",
       "    <tr>\n",
       "      <th>161</th>\n",
       "      <td>161</td>\n",
       "      <td>98124</td>\n",
       "      <td>32911</td>\n",
       "      <td>Evolving Modular Recursive Sorting Algorithms</td>\n",
       "      <td>Ros Agapitos, Simon M. Lucas</td>\n",
       "      <td>Evolving Modular Recursive Sorting Algorithms.</td>\n",
       "      <td>Alexandros Agapitos, Simon M. Lucas</td>\n",
       "      <td>1</td>\n",
       "    </tr>\n",
       "    <tr>\n",
       "      <th>162</th>\n",
       "      <td>162</td>\n",
       "      <td>99327</td>\n",
       "      <td>6271</td>\n",
       "      <td>Link Bandwidth Detection for Multimedia Streaming in a Distributed Server Environment</td>\n",
       "      <td>Liu Yin</td>\n",
       "      <td>The Self-Organizing Maps: Background, Theories, Extensions and Applications.</td>\n",
       "      <td>Hujun Yin</td>\n",
       "      <td>0</td>\n",
       "    </tr>\n",
       "    <tr>\n",
       "      <th>163</th>\n",
       "      <td>163</td>\n",
       "      <td>99496</td>\n",
       "      <td>31095</td>\n",
       "      <td>The Influence of Social Dependencies on Decision-Making: Initial Investigations with a New Game</td>\n",
       "      <td>Barbara J. Grosz</td>\n",
       "      <td>TEAM: A Transportable Natural-Language Interface System.</td>\n",
       "      <td>Barbara J. Grosz</td>\n",
       "      <td>0</td>\n",
       "    </tr>\n",
       "  </tbody>\n",
       "</table>\n",
       "</div>"
      ],
      "text/plain": [
       "     _id ltable_id rtable_id  \\\n",
       "3      3      1196     67994   \n",
       "10    10      5629     35844   \n",
       "12    12      6029     78323   \n",
       "15    15      6542     83517   \n",
       "20    20      9736     84183   \n",
       "23    23     12962     13507   \n",
       "33    33     18047     91948   \n",
       "34    34     18073     66485   \n",
       "35    35     18136     25039   \n",
       "37    37     19395     35426   \n",
       "38    38     19395     93599   \n",
       "40    40     20643     35426   \n",
       "43    43     20743     60902   \n",
       "45    45     21154     51447   \n",
       "46    46     22133     26444   \n",
       "48    48     22148     13626   \n",
       "51    51     23233     51636   \n",
       "56    56     25994      4163   \n",
       "60    60     26587     19443   \n",
       "64    64     28412     18324   \n",
       "69    69     30333     10331   \n",
       "77    77     34811     57009   \n",
       "81    81     36543      7194   \n",
       "86    86     43111     17598   \n",
       "88    88     43692      3999   \n",
       "91    91     43831     16565   \n",
       "93    93     44183     37337   \n",
       "95    95     44416     30646   \n",
       "98    98     45083     93216   \n",
       "103  103     45965     27465   \n",
       "104  104     46229     11715   \n",
       "108  108     48058     10412   \n",
       "111  111     50060     97312   \n",
       "124  124     65850     54467   \n",
       "127  127     66232     57009   \n",
       "132  132     70320     74019   \n",
       "137  137     76990     37547   \n",
       "138  138     78425     75967   \n",
       "139  139     80863     60953   \n",
       "141  141     81155     91111   \n",
       "144  144     82965     37455   \n",
       "145  145     83921     89103   \n",
       "154  154     96995     51636   \n",
       "155  155     96995     85299   \n",
       "157  157     97468     73784   \n",
       "158  158     97733     92305   \n",
       "160  160     98084     78514   \n",
       "161  161     98124     32911   \n",
       "162  162     99327      6271   \n",
       "163  163     99496     31095   \n",
       "\n",
       "                                                                                            ltable_title  \\\n",
       "3       A Service Flow Management Strategy for IEEE 802.16 Broadband Wireless Access Systems in TDD Mode   \n",
       "10                               LOOP SCHEDULING FOR MINIMIZING SCHEDULE LENGTH AND SWITCHING ACTIVITIES   \n",
       "12   National Knowledge Service Business Plan and on the National Library for Health Development Plan...   \n",
       "15                                                 An Architecture of Game Grid Based on Resource Router   \n",
       "20   Pacific Symposium on Biocomputing 8:490-501(2003) ERRORS AND LINKAGE DISEQUILIBRIUM INTERACT MUL...   \n",
       "23                       SimTester: A Controllable and Observable Testing Framework for Embedded Systems   \n",
       "33               Offering a Precision-Performance Tradeoff for Aggregation Queries over Replicated Data    \n",
       "34                             Freeflow: Mediating Between Representation and Action in Workflow Systems   \n",
       "35                                         Rapid Knowledge Work Visualization for Abstract Organizations   \n",
       "37             Optimal and heuristic algorithms for quality-of-service routing with multiple constraints   \n",
       "38             Optimal and heuristic algorithms for quality-of-service routing with multiple constraints   \n",
       "40                                       Phone Server: Design, Implementation and Performance Evaluation   \n",
       "43   Improving Spatial Reuse through Tuning Transmit Power, Carrier Sense Threshold, and Data Rate in...   \n",
       "45                                               BAYESIAN MOTION BLUR IDENTIFICATION USING BLUR PRIORI *   \n",
       "46        LANGUAGE MODEL ADAPTATION FOR AUTOMATIC SPEECH RECOGNITION AND STATISTICAL MACHINE TRANSLATION   \n",
       "48              Granular Computing on Binary Relations II Rough Set Representations and Belief Functions   \n",
       "51             NIOS: A Distributed Service Oriented Architecture for Business Process Execution ABSTRACT   \n",
       "56                                                                 structures and fuzzy concept networks   \n",
       "60                                     Special Issue Editorial Building Parallel and Distributed Systems   \n",
       "64                   Commitments and Conventions: The Foundation of Coordination in Multi- Agent Systems   \n",
       "69         Abstract H-Animator: A Visual Tool for Modeling, Reuse and Sharing of X3D Humanoid Animations   \n",
       "77   Grid Service Monitor Performance Monitoring and Measurement of Grid Services Using Peer-to-Peer ...   \n",
       "81                                                                   Challenges in Visual Data Analysis    \n",
       "86                                 An Unfolding Algorithm for Synchronous Products of Transition Systems   \n",
       "88          Abstract Domain Decomposition Methods for Linear-Quadratic Elliptic Optimal Control Problems   \n",
       "91                                            Resolving Implementation Convolution in Middleware Systems   \n",
       "93   MetaFluxNet, a Program Package for Metabolic Pathway Construction and Analysis, and Its Use in L...   \n",
       "95    An Interaction Control Architecture for Large Chairperson-controlled Conferences Over the Internet   \n",
       "98        Biodiversity Informatics Infrastructure: An Information Commons for the Biodiversity Community   \n",
       "103              Using Constraint Programming and Local Search Methods to Solve Vehicle Routing Problems   \n",
       "104  Abstract Access to Italian legal literature: Integration between Structured Repositories and Web...   \n",
       "108  Generalized Knapsack Solvers for Multi-Unit Combinatorial Auctions: Analysis and Application to ...   \n",
       "111                  Converting Legacy Relational Database into XML Database through Reverse Engineering   \n",
       "124                      Modularization and automatic composition of Object- Role Modeling (ORM) schemes   \n",
       "127            The Analysis of Different Production Planning Decision Models in the Supply Chain Network   \n",
       "132                                            On the Minimization of SOPs for Bi-Decomposable Functions   \n",
       "137                     PAPER Evaluation of Two Load-Balancing Primary-Backup Process Allocation Schemes   \n",
       "138                       Low Power Design of Memory Intensive Functions Case Study: Vector Quantization   \n",
       "139                                                     Permuted Estimators for Regenerative Simulations   \n",
       "141                                           Adaptive Commitment for Distributed Real-Time Transactions   \n",
       "144                                   PROGRAM ANALYSIS FOR CACHE COHERENCE: BEYOND PROCEDURAL BOUNDARIES   \n",
       "145  Theory and Practice of I/O-Efficient Algorithms for Multidimensional Batched Searching Problems ...   \n",
       "154                                                   A computation offloadingscheme on handheld devices   \n",
       "155                                                   A computation offloadingscheme on handheld devices   \n",
       "157                                    A Prototype Content-based Image Retrieval System for Spine X-rays   \n",
       "158                                                    A Native Extension of SQL for Mining Data Streams   \n",
       "160                                        Abstract Practical Iterated Fill Synthesis for CMP Uniformity   \n",
       "161                                                        Evolving Modular Recursive Sorting Algorithms   \n",
       "162                Link Bandwidth Detection for Multimedia Streaming in a Distributed Server Environment   \n",
       "163     The Influence of Social Dependencies on Decision-Making: Initial Investigations with a New Game    \n",
       "\n",
       "                                                                                         ltable_authors  \\\n",
       "3                                                                               Wenhua Jiao Hongxi Wang   \n",
       "10                                                          Zili Shao, Qingfeng Zhuge, Edwin H. -m. Sha   \n",
       "12                                                                                        J A Muir Gray   \n",
       "15                                                                Yu Wang, Enhua Tan, Wei Li, Zhiwei Xu   \n",
       "20   D. Gordon, M. A. Levenstien, S. J. Finch, J. Ott, D. Gordon, M. A. Levenstien, S. J. Finch, J. Ott   \n",
       "23                                                       Tingting Yu, Witawas Srisa-an, Gregg Rothermel   \n",
       "33                                                                         Chris Olston, Jennifer Widom   \n",
       "34                          Paul Dourish, Jim Holmes, Allan Maclean, Pernille Marqvardsen, Alex Zbyslaw   \n",
       "35                                                               Markus Strohmaier, Stefanie Lindstaedt   \n",
       "37                                                                                         Wen-lin Yang   \n",
       "38                                                                                         Wen-lin Yang   \n",
       "40                                                                                              Bo Yang   \n",
       "43                                                                                          Tae-suk Kim   \n",
       "45                                            Xuezheng Liu, Mingjing Li, Hongjiang Zhang, Dingxing Wang   \n",
       "46                                                                                          Woosung Kim   \n",
       "48                                                                                            T. Y. Lin   \n",
       "51                                                                                             Guoli Li   \n",
       "56                                                                        Kyung-joong Kim, Sung-bae Cho   \n",
       "60                                                               Paddy Nixon, Vinny Cahill, Fethi Rabhi   \n",
       "64                                                                                     Nick R. Jennings   \n",
       "69                                                     Fabio Buttussi, Luca Chittaro, Daniele Nadalutti   \n",
       "77                                                                                             Yin Chen   \n",
       "81                                  Daniel A. Keim, Florian Mansmann, Jrn Schneidewind, Hartmut Ziegler   \n",
       "86                                                                         Javier Esparza, Stefan Romer   \n",
       "88                                                                     Hoang Q. Nguyen, Hoang Q. Nguyen   \n",
       "91                                                                    Charles Zhang, Hans-arno Jacobsen   \n",
       "93                                               Sang Yup Lee, Dong-yup Lee, Soon Ho Hong, Tae Yong Kim   \n",
       "95                                                          Lukas Ruf, Thomas Walter, Bernhard Plattner   \n",
       "98                                                                Gladys A. Cotter, Barbara T. Bauldock   \n",
       "103                                                                                           Paul Shaw   \n",
       "104                                                                      E. Francesconi, G. Peruginelli   \n",
       "108                                                                                       Terence Kelly   \n",
       "111                                                   Chunyan Wang, Anthony Lo, Reda Alhajj, Ken Barker   \n",
       "124                                                                                      Mustafa Jarrar   \n",
       "127                                                                                       Yin-yann Chen   \n",
       "132                                                                        Tsutomu Sasao, Jon T. Butler   \n",
       "137                                                                   Heejo Lee, Jong Kim, Sung Je Hong   \n",
       "138                                                                      David B. Lidsky, Jan M. Rabaey   \n",
       "139                                                                 James M. Calvin, Marvin K. Nakayama   \n",
       "141                                     Nandit Soparkar, Eliezer Levy, Henry F. Korth, Avi Silberschatz   \n",
       "144                                                                            Lynn Choi, Pen-chung Yew   \n",
       "145                Lars Arge, Octavian Procopiuc, Sridhar Ramaswamy, Torsten Suel, Jeffrey Scott Vitter   \n",
       "154                                                                                          Zhiyuan Li   \n",
       "155                                                                                          Zhiyuan Li   \n",
       "157                                                   L. Rodney Long, Sameer K. Antani, George R. Thoma   \n",
       "158                                                Chang Luo, Hetal Thakkar, Haixun Wang, Carlo Zaniolo   \n",
       "160                                             Yu Chen, Andrew B. Kahng, Gabriel Robins, Er Zelikovsky   \n",
       "161                                                                        Ros Agapitos, Simon M. Lucas   \n",
       "162                                                                                             Liu Yin   \n",
       "163                                                                                    Barbara J. Grosz   \n",
       "\n",
       "                                                                                            rtable_title  \\\n",
       "3              Sample selection based on multiple incremental decision trees in BSP programming library.   \n",
       "10                       Timing Optimization of Nested Loops Considering Code Size for DSP Applications.   \n",
       "12                                                                  Introduction to silicon compilation.   \n",
       "15       A Semantic Web Based Peer to Peer Service Discovery Mechanism for Intelligent Business Process.   \n",
       "20   Errors and Linkage Disequilibrium Interact Multiplicatively When Computing Sample Sizes for Gene...   \n",
       "23                                 Testing Inter-layer and Inter-task Interactions in RTES Applications.   \n",
       "33               Offering a Precision-Performance Tradeoff for Aggregation Queries over Replicated Data.   \n",
       "34                            Freeflow: Mediating Between Representation and Action in Workflow Systems.   \n",
       "35     KnowFlow - A Hybrid Approach to Identifying and Visualizing Distributed Knowledge Work Practices.   \n",
       "37                    Optimal Overlay Construction on Heterogeneous Live Peer-to-Peer Streaming Systems.   \n",
       "38   Better IT Governance for Organizations - A Model for Improving Flexibility and Capabilities of S...   \n",
       "40                    Optimal Overlay Construction on Heterogeneous Live Peer-to-Peer Streaming Systems.   \n",
       "43   Proposed Methodology for Comparing Schedule Generation Schemes in Construction Resource Scheduling.   \n",
       "45                                  Design of an Expandable Website Platform for Quality Course Cluster.   \n",
       "46                                                                  A Study on Developing CRM Scorecard.   \n",
       "48                                                               Model Checking Value-Passing Processes.   \n",
       "51                                                 Concept Granular System and Granular Concept Lattice.   \n",
       "56                                 Evolutionary Algorithms for Board Game Players with Domain Knowledge.   \n",
       "60                                                         Software Engineering for Distrinuted Systems.   \n",
       "64   Symbolic incompletely specified functions for correct evaluation in the presence of indeterminat...   \n",
       "69                                            Filtering Fitness Trail Content Generated by Mobile Users.   \n",
       "77                                               A fast simulation approach for tandem queueing systems.   \n",
       "81                                                               Visual Analytics: Scope and Challenges.   \n",
       "86                                An Unfolding Algorithm for Synchronous Products of Transition Systems.   \n",
       "88   Cloud-Based Data Warehousing Application Framework for Modeling Global and Regional Data Managem...   \n",
       "91                                        Efficiently mining crosscutting concerns through random walks.   \n",
       "93                                     A Real-Time Communication Method for Wormhole Switching Networks.   \n",
       "95   An Interaction Control Architecture for Large Chairperson-Controlled Conferences over the Internet.   \n",
       "98       Biodiversity Informatics Infrastructure: An Information Commons for the Biodiversity Community.   \n",
       "103                  The Role of Identification in the Privacy Decisions of Information System Students.   \n",
       "104                       Searching and retrieving legal literature through automated semantic indexing.   \n",
       "108  A Longitudinal, Naturalistic Study of Information Search & Use Behavior as Implicit Feedback for...   \n",
       "111                 Converting Legacy Relational Database into XML Database through Reverse Engineering.   \n",
       "124                      Modularization and Automatic Composition of Object-Role Modeling (ORM) Schemes.   \n",
       "127                                              A fast simulation approach for tandem queueing systems.   \n",
       "132                                                           Hardware Index to Set Partition Converter.   \n",
       "137                                                             DTN: A New Partitionable Torus Topology.   \n",
       "138                                              Early Power Exploration - A World Wide Web Application.   \n",
       "139  Output analysis: a comparison of output-analysis methods for simulations of processes with multi...   \n",
       "141                                          Triggered Real-Time Databases with Consistency Constraints.   \n",
       "144                                  Program Analysis for Cache Coherence: Beyond Procedural Boundaries.   \n",
       "145                                        A Unified Approach for Indexed and Non-Indexed Spatial Joins.   \n",
       "154                                                Concept Granular System and Granular Concept Lattice.   \n",
       "155                                                               Dynamic nature of trust in e-commerce.   \n",
       "157                           Unsupervised Grow-Cut: Cellular Automata-Based Medical Image Segmentation.   \n",
       "158                          ATLAS: A Small but Complete SQL Extension for Data Mining and Data Streams.   \n",
       "160                                                Practical iterated fill synthesis for CMP uniformity.   \n",
       "161                                                       Evolving Modular Recursive Sorting Algorithms.   \n",
       "162                         The Self-Organizing Maps: Background, Theories, Extensions and Applications.   \n",
       "163                                             TEAM: A Transportable Natural-Language Interface System.   \n",
       "\n",
       "                                                                                          rtable_authors  \\\n",
       "3                                                      Shuo Wang, Jian-Jian Wang, Yi Wang, Xuezheng Wang   \n",
       "10                                                       Qingfeng Zhuge, Zili Shao, Edwin Hsing-Mean Sha   \n",
       "12                                                                                          John P. Gray   \n",
       "15                                                                    Desheng Li, Ruzhi Xu, Haiyang Wang   \n",
       "20                                           Derek Gordon, Mark A. Levenstien, Stephen J. Finch, Jrg Ott   \n",
       "23                                          Ahyoung Sung, Witawas Srisa-an, Gregg Rothermel, Tingting Yu   \n",
       "33                                                                          Chris Olston, Jennifer Widom   \n",
       "34                           Paul Dourish, Jim Holmes, Allan MacLean, Pernille Marqvardsen, Alex Zbyslaw   \n",
       "35                                                             Markus Strohmaier, Stefanie N. Lindstaedt   \n",
       "37                                                                               Min Yang, Yuanyuan Yang   \n",
       "38                                                                                           Jungho Yang   \n",
       "40                                                                               Min Yang, Yuanyuan Yang   \n",
       "43                                                                                           Jin-Lee Kim   \n",
       "45                                                                  Shuoping Wang, Gaoyan Zhang, Jun Liu   \n",
       "46                                                                           Hyung-Su Kim, Young-Gul Kim   \n",
       "48                                                                                            Huimin Lin   \n",
       "51                                                                                               Hong Li   \n",
       "56                                                                         Kyung-Joong Kim, Sung-Bae Cho   \n",
       "60                                                             Paddy Nixon, Vinny Cahill, Fethi A. Rabhi   \n",
       "64                                                                                        Glenn Jennings   \n",
       "69                                                      Fabio Buttussi, Luca Chittaro, Daniele Nadalutti   \n",
       "77                                                                       Liang Chen, Chien-Liang A. Chen   \n",
       "81                       Daniel A. Keim, Florian Mansmann, Jrn Schneidewind, Jim Thomas, Hartmut Ziegler   \n",
       "86                                                                           Javier Esparza, Stefan Rmer   \n",
       "88                                                                                     Thanh Binh Nguyen   \n",
       "91                                                                     Charles Zhang, Hans-Arno Jacobsen   \n",
       "93                                                      Byungjae Kim, Jong Kim, Sung Je Hong, Sunggu Lee   \n",
       "95                                                           Lukas Ruf, Thomas Walter, Bernhard Plattner   \n",
       "98                                                                 Gladys A. Cotter, Barbara T. Bauldock   \n",
       "103                                                                                          Thomas Shaw   \n",
       "104                                                              Enrico Francesconi, Ginevra Peruginelli   \n",
       "108                                                                                          Diane Kelly   \n",
       "111                                            Chunyan Wang, Anthony Chiu Wa Lo, Reda Alhajj, Ken Barker   \n",
       "124                                                                                       Mustafa Jarrar   \n",
       "127                                                                      Liang Chen, Chien-Liang A. Chen   \n",
       "132                                                                         Jon T. Butler, Tsutomu Sasao   \n",
       "137                                       SangHo Chae, Jong Kim, Dongseung Kim, Sung Je Hong, Sunggu Lee   \n",
       "138                                                                          David Lidsky, Jan M. Rabaey   \n",
       "139                                                                  James M. Calvin, Marvin K. Nakayama   \n",
       "141                                                Henry F. Korth, Nandit Soparkar, Abraham Silberschatz   \n",
       "144                                                                             Lynn Choi, Pen-Chung Yew   \n",
       "145  Lars Arge, Octavian Procopiuc, Sridhar Ramaswamy, Torsten Suel, Jan Vahrenhold, Jeffrey Scott Vi...   \n",
       "154                                                                                              Hong Li   \n",
       "155                                                                                               Nan Li   \n",
       "157                                          Payel Ghosh, Sameer Antani, L. Rodney Long, George R. Thoma   \n",
       "158                                                                Haixun Wang, Carlo Zaniolo, Chang Luo   \n",
       "160                                       Yu Chen, Andrew B. Kahng, Gabriel Robins, Alexander Zelikovsky   \n",
       "161                                                                  Alexandros Agapitos, Simon M. Lucas   \n",
       "162                                                                                            Hujun Yin   \n",
       "163                                                                                     Barbara J. Grosz   \n",
       "\n",
       "     gold  \n",
       "3       0  \n",
       "10      0  \n",
       "12      0  \n",
       "15      0  \n",
       "20      0  \n",
       "23      0  \n",
       "33      1  \n",
       "34      0  \n",
       "35      0  \n",
       "37      0  \n",
       "38      0  \n",
       "40      0  \n",
       "43      0  \n",
       "45      0  \n",
       "46      0  \n",
       "48      0  \n",
       "51      0  \n",
       "56      0  \n",
       "60      0  \n",
       "64      0  \n",
       "69      0  \n",
       "77      0  \n",
       "81      0  \n",
       "86      1  \n",
       "88      0  \n",
       "91      0  \n",
       "93      0  \n",
       "95      1  \n",
       "98      1  \n",
       "103     0  \n",
       "104     0  \n",
       "108     0  \n",
       "111     1  \n",
       "124     1  \n",
       "127     0  \n",
       "132     0  \n",
       "137     0  \n",
       "138     0  \n",
       "139     0  \n",
       "141     0  \n",
       "144     1  \n",
       "145     0  \n",
       "154     0  \n",
       "155     0  \n",
       "157     0  \n",
       "158     0  \n",
       "160     0  \n",
       "161     1  \n",
       "162     0  \n",
       "163     0  "
      ]
     },
     "execution_count": 44,
     "metadata": {},
     "output_type": "execute_result"
    }
   ],
   "source": [
    "G"
   ]
  },
  {
   "cell_type": "markdown",
   "metadata": {},
   "source": [
    "### Splitting the labeled data into development and evaluation set"
   ]
  },
  {
   "cell_type": "code",
   "execution_count": 45,
   "metadata": {},
   "outputs": [
    {
     "name": "stderr",
     "output_type": "stream",
     "text": [
      "C:\\Users\\rmartinez4\\Anaconda3\\envs\\py37\\lib\\site-packages\\py_entitymatching\\matcher\\matcherutils.py:98: FutureWarning: The pandas.np module is deprecated and will be removed from pandas in a future version. Import numpy directly instead\n",
      "  idx_values = pd.np.array(labeled_data.index.values)\n"
     ]
    },
    {
     "data": {
      "text/plain": [
       "(40, 10)"
      ]
     },
     "execution_count": 45,
     "metadata": {},
     "output_type": "execute_result"
    }
   ],
   "source": [
    "# Split S into development set (I) and evaluation set (J)\n",
    "IJ = em.split_train_test(G, train_proportion=0.8, random_state=0)\n",
    "I = IJ['train']\n",
    "J = IJ['test']\n",
    "len(I), len(J)"
   ]
  },
  {
   "cell_type": "markdown",
   "metadata": {},
   "source": [
    "### Creating features"
   ]
  },
  {
   "cell_type": "code",
   "execution_count": 46,
   "metadata": {},
   "outputs": [
    {
     "name": "stderr",
     "output_type": "stream",
     "text": [
      "C:\\Users\\rmartinez4\\Anaconda3\\envs\\py37\\lib\\site-packages\\py_entitymatching\\feature\\attributeutils.py:191: FutureWarning: The pandas.np module is deprecated and will be removed from pandas in a future version. Import numpy directly instead\n",
      "  if returned_type == bool or returned_type == pd.np.bool_:\n"
     ]
    },
    {
     "data": {
      "text/html": [
       "<div>\n",
       "<style scoped>\n",
       "    .dataframe tbody tr th:only-of-type {\n",
       "        vertical-align: middle;\n",
       "    }\n",
       "\n",
       "    .dataframe tbody tr th {\n",
       "        vertical-align: top;\n",
       "    }\n",
       "\n",
       "    .dataframe thead th {\n",
       "        text-align: right;\n",
       "    }\n",
       "</style>\n",
       "<table border=\"1\" class=\"dataframe\">\n",
       "  <thead>\n",
       "    <tr style=\"text-align: right;\">\n",
       "      <th></th>\n",
       "      <th>feature_name</th>\n",
       "      <th>left_attribute</th>\n",
       "      <th>right_attribute</th>\n",
       "      <th>left_attr_tokenizer</th>\n",
       "      <th>right_attr_tokenizer</th>\n",
       "      <th>simfunction</th>\n",
       "      <th>function</th>\n",
       "      <th>function_source</th>\n",
       "      <th>is_auto_generated</th>\n",
       "    </tr>\n",
       "  </thead>\n",
       "  <tbody>\n",
       "    <tr>\n",
       "      <th>0</th>\n",
       "      <td>id_id_exm</td>\n",
       "      <td>id</td>\n",
       "      <td>id</td>\n",
       "      <td>None</td>\n",
       "      <td>None</td>\n",
       "      <td>exact_match</td>\n",
       "      <td>&lt;function id_id_exm at 0x000001F1044F70D8&gt;</td>\n",
       "      <td>from py_entitymatching.feature.simfunctions import *\\nfrom py_entitymatching.feature.tokenizers ...</td>\n",
       "      <td>True</td>\n",
       "    </tr>\n",
       "    <tr>\n",
       "      <th>1</th>\n",
       "      <td>id_id_anm</td>\n",
       "      <td>id</td>\n",
       "      <td>id</td>\n",
       "      <td>None</td>\n",
       "      <td>None</td>\n",
       "      <td>abs_norm</td>\n",
       "      <td>&lt;function id_id_anm at 0x000001F1044F7048&gt;</td>\n",
       "      <td>from py_entitymatching.feature.simfunctions import *\\nfrom py_entitymatching.feature.tokenizers ...</td>\n",
       "      <td>True</td>\n",
       "    </tr>\n",
       "    <tr>\n",
       "      <th>2</th>\n",
       "      <td>id_id_lev_dist</td>\n",
       "      <td>id</td>\n",
       "      <td>id</td>\n",
       "      <td>None</td>\n",
       "      <td>None</td>\n",
       "      <td>lev_dist</td>\n",
       "      <td>&lt;function id_id_lev_dist at 0x000001F1044F7F78&gt;</td>\n",
       "      <td>from py_entitymatching.feature.simfunctions import *\\nfrom py_entitymatching.feature.tokenizers ...</td>\n",
       "      <td>True</td>\n",
       "    </tr>\n",
       "    <tr>\n",
       "      <th>3</th>\n",
       "      <td>id_id_lev_sim</td>\n",
       "      <td>id</td>\n",
       "      <td>id</td>\n",
       "      <td>None</td>\n",
       "      <td>None</td>\n",
       "      <td>lev_sim</td>\n",
       "      <td>&lt;function id_id_lev_sim at 0x000001F1044F7E58&gt;</td>\n",
       "      <td>from py_entitymatching.feature.simfunctions import *\\nfrom py_entitymatching.feature.tokenizers ...</td>\n",
       "      <td>True</td>\n",
       "    </tr>\n",
       "    <tr>\n",
       "      <th>4</th>\n",
       "      <td>title_title_jac_qgm_3_qgm_3</td>\n",
       "      <td>title</td>\n",
       "      <td>title</td>\n",
       "      <td>qgm_3</td>\n",
       "      <td>qgm_3</td>\n",
       "      <td>jaccard</td>\n",
       "      <td>&lt;function title_title_jac_qgm_3_qgm_3 at 0x000001F1142E4708&gt;</td>\n",
       "      <td>from py_entitymatching.feature.simfunctions import *\\nfrom py_entitymatching.feature.tokenizers ...</td>\n",
       "      <td>True</td>\n",
       "    </tr>\n",
       "  </tbody>\n",
       "</table>\n",
       "</div>"
      ],
      "text/plain": [
       "                  feature_name left_attribute right_attribute  \\\n",
       "0                    id_id_exm             id              id   \n",
       "1                    id_id_anm             id              id   \n",
       "2               id_id_lev_dist             id              id   \n",
       "3                id_id_lev_sim             id              id   \n",
       "4  title_title_jac_qgm_3_qgm_3          title           title   \n",
       "\n",
       "  left_attr_tokenizer right_attr_tokenizer  simfunction  \\\n",
       "0                None                 None  exact_match   \n",
       "1                None                 None     abs_norm   \n",
       "2                None                 None     lev_dist   \n",
       "3                None                 None      lev_sim   \n",
       "4               qgm_3                qgm_3      jaccard   \n",
       "\n",
       "                                                       function  \\\n",
       "0                    <function id_id_exm at 0x000001F1044F70D8>   \n",
       "1                    <function id_id_anm at 0x000001F1044F7048>   \n",
       "2               <function id_id_lev_dist at 0x000001F1044F7F78>   \n",
       "3                <function id_id_lev_sim at 0x000001F1044F7E58>   \n",
       "4  <function title_title_jac_qgm_3_qgm_3 at 0x000001F1142E4708>   \n",
       "\n",
       "                                                                                       function_source  \\\n",
       "0  from py_entitymatching.feature.simfunctions import *\\nfrom py_entitymatching.feature.tokenizers ...   \n",
       "1  from py_entitymatching.feature.simfunctions import *\\nfrom py_entitymatching.feature.tokenizers ...   \n",
       "2  from py_entitymatching.feature.simfunctions import *\\nfrom py_entitymatching.feature.tokenizers ...   \n",
       "3  from py_entitymatching.feature.simfunctions import *\\nfrom py_entitymatching.feature.tokenizers ...   \n",
       "4  from py_entitymatching.feature.simfunctions import *\\nfrom py_entitymatching.feature.tokenizers ...   \n",
       "\n",
       "   is_auto_generated  \n",
       "0               True  \n",
       "1               True  \n",
       "2               True  \n",
       "3               True  \n",
       "4               True  "
      ]
     },
     "execution_count": 46,
     "metadata": {},
     "output_type": "execute_result"
    }
   ],
   "source": [
    "# use entire dataset to create features\n",
    "feature_table = em.get_features_for_matching(A, B, validate_inferred_attr_types=False)\n",
    "feature_table.head()"
   ]
  },
  {
   "cell_type": "markdown",
   "metadata": {},
   "source": [
    "### Converting the development set to feature vectors"
   ]
  },
  {
   "cell_type": "code",
   "execution_count": 47,
   "metadata": {},
   "outputs": [
    {
     "name": "stderr",
     "output_type": "stream",
     "text": [
      "C:\\Users\\rmartinez4\\Anaconda3\\envs\\py37\\lib\\site-packages\\py_entitymatching\\feature\\extractfeatures.py:157: FutureWarning: The pandas.np module is deprecated and will be removed from pandas in a future version. Import numpy directly instead\n",
      "  c_splits = pd.np.array_split(candset, n_procs)\n"
     ]
    },
    {
     "data": {
      "text/plain": [
       "40"
      ]
     },
     "execution_count": 47,
     "metadata": {},
     "output_type": "execute_result"
    }
   ],
   "source": [
    "# Convert the I into a set of feature vectors using F\n",
    "H = em.extract_feature_vecs(I, \n",
    "                            feature_table=feature_table, \n",
    "                            attrs_after=['gold'],\n",
    "                            show_progress=False)\n",
    "len(H)"
   ]
  },
  {
   "cell_type": "code",
   "execution_count": 48,
   "metadata": {},
   "outputs": [
    {
     "data": {
      "text/html": [
       "<div>\n",
       "<style scoped>\n",
       "    .dataframe tbody tr th:only-of-type {\n",
       "        vertical-align: middle;\n",
       "    }\n",
       "\n",
       "    .dataframe tbody tr th {\n",
       "        vertical-align: top;\n",
       "    }\n",
       "\n",
       "    .dataframe thead th {\n",
       "        text-align: right;\n",
       "    }\n",
       "</style>\n",
       "<table border=\"1\" class=\"dataframe\">\n",
       "  <thead>\n",
       "    <tr style=\"text-align: right;\">\n",
       "      <th></th>\n",
       "      <th>_id</th>\n",
       "      <th>ltable_id</th>\n",
       "      <th>rtable_id</th>\n",
       "      <th>id_id_exm</th>\n",
       "      <th>id_id_anm</th>\n",
       "      <th>id_id_lev_dist</th>\n",
       "      <th>id_id_lev_sim</th>\n",
       "      <th>title_title_jac_qgm_3_qgm_3</th>\n",
       "      <th>title_title_cos_dlm_dc0_dlm_dc0</th>\n",
       "      <th>title_title_mel</th>\n",
       "      <th>title_title_lev_dist</th>\n",
       "      <th>title_title_lev_sim</th>\n",
       "      <th>authors_authors_jac_qgm_3_qgm_3</th>\n",
       "      <th>authors_authors_cos_dlm_dc0_dlm_dc0</th>\n",
       "      <th>authors_authors_mel</th>\n",
       "      <th>authors_authors_lev_dist</th>\n",
       "      <th>authors_authors_lev_sim</th>\n",
       "      <th>gold</th>\n",
       "    </tr>\n",
       "  </thead>\n",
       "  <tbody>\n",
       "    <tr>\n",
       "      <th>124</th>\n",
       "      <td>124</td>\n",
       "      <td>65850</td>\n",
       "      <td>54467</td>\n",
       "      <td>0</td>\n",
       "      <td>0.827137</td>\n",
       "      <td>5</td>\n",
       "      <td>0.0</td>\n",
       "      <td>0.688889</td>\n",
       "      <td>0.527046</td>\n",
       "      <td>0.910414</td>\n",
       "      <td>5</td>\n",
       "      <td>0.936709</td>\n",
       "      <td>1.000000</td>\n",
       "      <td>1.000000</td>\n",
       "      <td>1.000000</td>\n",
       "      <td>0.0</td>\n",
       "      <td>1.000000</td>\n",
       "      <td>1</td>\n",
       "    </tr>\n",
       "    <tr>\n",
       "      <th>132</th>\n",
       "      <td>132</td>\n",
       "      <td>70320</td>\n",
       "      <td>74019</td>\n",
       "      <td>0</td>\n",
       "      <td>0.950026</td>\n",
       "      <td>4</td>\n",
       "      <td>0.2</td>\n",
       "      <td>0.030612</td>\n",
       "      <td>0.000000</td>\n",
       "      <td>0.497494</td>\n",
       "      <td>46</td>\n",
       "      <td>0.192982</td>\n",
       "      <td>0.578947</td>\n",
       "      <td>0.600000</td>\n",
       "      <td>0.600840</td>\n",
       "      <td>26.0</td>\n",
       "      <td>0.071429</td>\n",
       "      <td>0</td>\n",
       "    </tr>\n",
       "    <tr>\n",
       "      <th>93</th>\n",
       "      <td>93</td>\n",
       "      <td>44183</td>\n",
       "      <td>37337</td>\n",
       "      <td>0</td>\n",
       "      <td>0.845054</td>\n",
       "      <td>5</td>\n",
       "      <td>0.0</td>\n",
       "      <td>0.066298</td>\n",
       "      <td>0.081111</td>\n",
       "      <td>0.582108</td>\n",
       "      <td>122</td>\n",
       "      <td>0.186667</td>\n",
       "      <td>0.180556</td>\n",
       "      <td>0.111803</td>\n",
       "      <td>0.651870</td>\n",
       "      <td>34.0</td>\n",
       "      <td>0.370370</td>\n",
       "      <td>0</td>\n",
       "    </tr>\n",
       "    <tr>\n",
       "      <th>127</th>\n",
       "      <td>127</td>\n",
       "      <td>66232</td>\n",
       "      <td>57009</td>\n",
       "      <td>0</td>\n",
       "      <td>0.860747</td>\n",
       "      <td>5</td>\n",
       "      <td>0.0</td>\n",
       "      <td>0.035971</td>\n",
       "      <td>0.000000</td>\n",
       "      <td>0.592197</td>\n",
       "      <td>69</td>\n",
       "      <td>0.224719</td>\n",
       "      <td>0.142857</td>\n",
       "      <td>0.316228</td>\n",
       "      <td>0.612452</td>\n",
       "      <td>21.0</td>\n",
       "      <td>0.322581</td>\n",
       "      <td>0</td>\n",
       "    </tr>\n",
       "    <tr>\n",
       "      <th>60</th>\n",
       "      <td>60</td>\n",
       "      <td>26587</td>\n",
       "      <td>19443</td>\n",
       "      <td>0</td>\n",
       "      <td>0.731297</td>\n",
       "      <td>5</td>\n",
       "      <td>0.0</td>\n",
       "      <td>0.206522</td>\n",
       "      <td>0.000000</td>\n",
       "      <td>0.664487</td>\n",
       "      <td>36</td>\n",
       "      <td>0.446154</td>\n",
       "      <td>0.886364</td>\n",
       "      <td>0.925820</td>\n",
       "      <td>0.985366</td>\n",
       "      <td>3.0</td>\n",
       "      <td>0.926829</td>\n",
       "      <td>0</td>\n",
       "    </tr>\n",
       "  </tbody>\n",
       "</table>\n",
       "</div>"
      ],
      "text/plain": [
       "     _id ltable_id rtable_id  id_id_exm  id_id_anm  id_id_lev_dist  \\\n",
       "124  124     65850     54467          0   0.827137               5   \n",
       "132  132     70320     74019          0   0.950026               4   \n",
       "93    93     44183     37337          0   0.845054               5   \n",
       "127  127     66232     57009          0   0.860747               5   \n",
       "60    60     26587     19443          0   0.731297               5   \n",
       "\n",
       "     id_id_lev_sim  title_title_jac_qgm_3_qgm_3  \\\n",
       "124            0.0                     0.688889   \n",
       "132            0.2                     0.030612   \n",
       "93             0.0                     0.066298   \n",
       "127            0.0                     0.035971   \n",
       "60             0.0                     0.206522   \n",
       "\n",
       "     title_title_cos_dlm_dc0_dlm_dc0  title_title_mel  title_title_lev_dist  \\\n",
       "124                         0.527046         0.910414                     5   \n",
       "132                         0.000000         0.497494                    46   \n",
       "93                          0.081111         0.582108                   122   \n",
       "127                         0.000000         0.592197                    69   \n",
       "60                          0.000000         0.664487                    36   \n",
       "\n",
       "     title_title_lev_sim  authors_authors_jac_qgm_3_qgm_3  \\\n",
       "124             0.936709                         1.000000   \n",
       "132             0.192982                         0.578947   \n",
       "93              0.186667                         0.180556   \n",
       "127             0.224719                         0.142857   \n",
       "60              0.446154                         0.886364   \n",
       "\n",
       "     authors_authors_cos_dlm_dc0_dlm_dc0  authors_authors_mel  \\\n",
       "124                             1.000000             1.000000   \n",
       "132                             0.600000             0.600840   \n",
       "93                              0.111803             0.651870   \n",
       "127                             0.316228             0.612452   \n",
       "60                              0.925820             0.985366   \n",
       "\n",
       "     authors_authors_lev_dist  authors_authors_lev_sim  gold  \n",
       "124                       0.0                 1.000000     1  \n",
       "132                      26.0                 0.071429     0  \n",
       "93                       34.0                 0.370370     0  \n",
       "127                      21.0                 0.322581     0  \n",
       "60                        3.0                 0.926829     0  "
      ]
     },
     "execution_count": 48,
     "metadata": {},
     "output_type": "execute_result"
    }
   ],
   "source": [
    "H.head()"
   ]
  },
  {
   "cell_type": "markdown",
   "metadata": {},
   "source": [
    "### Converting the evaluation set to feature vectors"
   ]
  },
  {
   "cell_type": "code",
   "execution_count": 49,
   "metadata": {},
   "outputs": [
    {
     "name": "stderr",
     "output_type": "stream",
     "text": [
      "C:\\Users\\rmartinez4\\Anaconda3\\envs\\py37\\lib\\site-packages\\py_entitymatching\\feature\\extractfeatures.py:157: FutureWarning: The pandas.np module is deprecated and will be removed from pandas in a future version. Import numpy directly instead\n",
      "  c_splits = pd.np.array_split(candset, n_procs)\n"
     ]
    }
   ],
   "source": [
    "L = em.extract_feature_vecs(J, feature_table=feature_table,\n",
    "                            attrs_after='gold', show_progress=False)"
   ]
  },
  {
   "cell_type": "markdown",
   "metadata": {},
   "source": [
    "### Train, predict, and evaluate different matchers"
   ]
  },
  {
   "cell_type": "code",
   "execution_count": 50,
   "metadata": {},
   "outputs": [
    {
     "name": "stdout",
     "output_type": "stream",
     "text": [
      "Evaluation Summary for ---> DecisionTree\n",
      "Precision : 50.0% (1/2)\n",
      "Recall : 50.0% (1/2)\n",
      "F1 : 50.0%\n",
      "False positives : 1 (out of 2 positive predictions)\n",
      "False negatives : 1 (out of 8 negative predictions)\n",
      "\n",
      "\n",
      "Evaluation Summary for ---> SVM\n",
      "Precision : 50.0% (1/2)\n",
      "Recall : 50.0% (1/2)\n",
      "F1 : 50.0%\n",
      "False positives : 1 (out of 2 positive predictions)\n",
      "False negatives : 1 (out of 8 negative predictions)\n",
      "\n",
      "\n",
      "Evaluation Summary for ---> RF\n",
      "Precision : 50.0% (1/2)\n",
      "Recall : 50.0% (1/2)\n",
      "F1 : 50.0%\n",
      "False positives : 1 (out of 2 positive predictions)\n",
      "False negatives : 1 (out of 8 negative predictions)\n",
      "\n",
      "\n"
     ]
    }
   ],
   "source": [
    "# Create a set of ML-matchers, test only these 3 but ideally we would evaluate all available methods\n",
    "dt = em.DTMatcher(name='DecisionTree', random_state=0)\n",
    "svm = em.SVMMatcher(name='SVM', random_state=0)\n",
    "rf = em.RFMatcher(name='RF', random_state=0)\n",
    "\n",
    "for matcher in [dt, svm, rf]:\n",
    "    print('Evaluation Summary for ---> {}'.format(matcher.name))\n",
    "    \n",
    "    # Train using feature vectors from I \n",
    "    dt.fit(table=H,exclude_attrs=['_id', 'ltable_id', 'rtable_id', 'gold'],target_attr='gold')\n",
    "    \n",
    "    # Predict on L \n",
    "    predictions = dt.predict(table=L, exclude_attrs=['_id', 'ltable_id', 'rtable_id', 'gold'], \n",
    "                  append=True, target_attr='predicted', inplace=False)\n",
    "    \n",
    "    # Evaluate the predictions\n",
    "    eval_result = em.eval_matches(predictions, 'gold', 'predicted')\n",
    "    em.print_eval_summary(eval_result)\n",
    "    print('\\n')"
   ]
  },
  {
   "cell_type": "markdown",
   "metadata": {},
   "source": [
    "## Entity Resolution with Dedupe"
   ]
  },
  {
   "cell_type": "code",
   "execution_count": 51,
   "metadata": {},
   "outputs": [],
   "source": [
    "import os\n",
    "import csv\n",
    "import re\n",
    "import logging\n",
    "import optparse\n",
    "\n",
    "import dedupe\n",
    "from unidecode import unidecode"
   ]
  },
  {
   "cell_type": "markdown",
   "metadata": {},
   "source": [
    "### Define functions"
   ]
  },
  {
   "cell_type": "code",
   "execution_count": 52,
   "metadata": {},
   "outputs": [],
   "source": [
    "def preProcess(column):\n",
    "    \"\"\"\n",
    "    Do a little bit of data cleaning with the help of Unidecode and Regex.\n",
    "    Things like casing, extra spaces, quotes and new lines can be ignored.\n",
    "    \"\"\"\n",
    "    column = unidecode(column)\n",
    "    column = re.sub('  +', ' ', column)\n",
    "    column = re.sub('\\n', ' ', column)\n",
    "    column = column.strip().strip('\"').strip(\"'\").lower().strip()\n",
    "    # If data is missing, indicate that by setting the value to `None`\n",
    "    if not column:\n",
    "        column = None\n",
    "    return column\n",
    "\n",
    "\n",
    "def readData(filename):\n",
    "    \"\"\"\n",
    "    Read in our data from a CSV file and create a dictionary of records,\n",
    "    where the key is a unique record ID and each value is dict\n",
    "    \n",
    "    Note: Source code was modified to only read the first 10,000 rows\n",
    "    \"\"\"\n",
    "\n",
    "    data_d = {}\n",
    "    with open(filename) as f:\n",
    "        reader = csv.DictReader(f)\n",
    "        count=0\n",
    "        for row in reader:\n",
    "            clean_row = [(k, preProcess(v)) for (k, v) in row.items()]\n",
    "            row_id = int(row['id'])\n",
    "            data_d[row_id] = dict(clean_row)\n",
    "            \n",
    "            count+=1\n",
    "            if count >= 10000: break\n",
    "\n",
    "    return data_d"
   ]
  },
  {
   "cell_type": "markdown",
   "metadata": {},
   "source": [
    "### Read CSV files"
   ]
  },
  {
   "cell_type": "code",
   "execution_count": 53,
   "metadata": {},
   "outputs": [],
   "source": [
    "# Read dataset, first 10,000 rows only\n",
    "A1 = readData('../../Data for Assignments/citeseer.csv') \n",
    "B1 = readData('../../Data for Assignments/dblp.csv')"
   ]
  },
  {
   "cell_type": "code",
   "execution_count": 54,
   "metadata": {},
   "outputs": [
    {
     "data": {
      "text/plain": [
       "(10000, 10000)"
      ]
     },
     "execution_count": 54,
     "metadata": {},
     "output_type": "execute_result"
    }
   ],
   "source": [
    "len(A1), len(B1)"
   ]
  },
  {
   "cell_type": "code",
   "execution_count": 55,
   "metadata": {},
   "outputs": [
    {
     "name": "stdout",
     "output_type": "stream",
     "text": [
      "dict_keys(['id', 'title', 'authors', 'journal', 'month', 'year', 'publication_type'])\n",
      "dict_keys(['id', 'title', 'authors', 'journal', 'month', 'year', 'publication_type'])\n"
     ]
    }
   ],
   "source": [
    "# show column names\n",
    "print([v.keys() for k,v in A1.items()][0])\n",
    "print([v.keys() for k,v in B1.items()][0])"
   ]
  },
  {
   "cell_type": "markdown",
   "metadata": {},
   "source": [
    "### Set up data in dedupe and also run entity matching measures"
   ]
  },
  {
   "cell_type": "code",
   "execution_count": 59,
   "metadata": {},
   "outputs": [
    {
     "name": "stderr",
     "output_type": "stream",
     "text": [
      "INFO:dedupe.canopy_index:Removing stop word  c\n",
      "INFO:dedupe.canopy_index:Removing stop word an\n",
      "INFO:dedupe.canopy_index:Removing stop word ch\n",
      "INFO:dedupe.canopy_index:Removing stop word he\n",
      "INFO:dedupe.canopy_index:Removing stop word is\n",
      "INFO:dedupe.canopy_index:Removing stop word r \n",
      "INFO:dedupe.canopy_index:Removing stop word st\n",
      "INFO:dedupe.canopy_index:Removing stop word  l\n",
      "INFO:dedupe.canopy_index:Removing stop word do\n",
      "INFO:dedupe.canopy_index:Removing stop word i \n",
      "INFO:dedupe.canopy_index:Removing stop word in\n",
      "INFO:dedupe.canopy_index:Removing stop word li\n",
      "INFO:dedupe.canopy_index:Removing stop word on\n",
      "INFO:dedupe.canopy_index:Removing stop word  d\n",
      "INFO:dedupe.canopy_index:Removing stop word  t\n",
      "INFO:dedupe.canopy_index:Removing stop word da\n",
      "INFO:dedupe.canopy_index:Removing stop word o \n",
      "INFO:dedupe.canopy_index:Removing stop word ti\n",
      "INFO:dedupe.canopy_index:Removing stop word  a\n",
      "INFO:dedupe.canopy_index:Removing stop word  h\n",
      "INFO:dedupe.canopy_index:Removing stop word  j\n",
      "INFO:dedupe.canopy_index:Removing stop word  p\n",
      "INFO:dedupe.canopy_index:Removing stop word al\n",
      "INFO:dedupe.canopy_index:Removing stop word ca\n",
      "INFO:dedupe.canopy_index:Removing stop word e \n",
      "INFO:dedupe.canopy_index:Removing stop word en\n",
      "INFO:dedupe.canopy_index:Removing stop word ie\n",
      "INFO:dedupe.canopy_index:Removing stop word io\n",
      "INFO:dedupe.canopy_index:Removing stop word lo\n",
      "INFO:dedupe.canopy_index:Removing stop word na\n",
      "INFO:dedupe.canopy_index:Removing stop word ol\n",
      "INFO:dedupe.canopy_index:Removing stop word ra\n",
      "INFO:dedupe.canopy_index:Removing stop word s \n",
      "INFO:dedupe.canopy_index:Removing stop word vi\n",
      "INFO:dedupe.canopy_index:Removing stop word  k\n",
      "INFO:dedupe.canopy_index:Removing stop word ar\n",
      "INFO:dedupe.canopy_index:Removing stop word ei\n",
      "INFO:dedupe.canopy_index:Removing stop word es\n",
      "INFO:dedupe.canopy_index:Removing stop word ho\n",
      "INFO:dedupe.canopy_index:Removing stop word k \n",
      "INFO:dedupe.canopy_index:Removing stop word l \n",
      "INFO:dedupe.canopy_index:Removing stop word le\n",
      "INFO:dedupe.canopy_index:Removing stop word mi\n",
      "INFO:dedupe.canopy_index:Removing stop word n \n",
      "INFO:dedupe.canopy_index:Removing stop word va\n",
      "INFO:dedupe.canopy_index:Removing stop word dr\n",
      "INFO:dedupe.canopy_index:Removing stop word nd\n",
      "INFO:dedupe.canopy_index:Removing stop word be\n",
      "INFO:dedupe.canopy_index:Removing stop word or\n",
      "INFO:dedupe.canopy_index:Removing stop word ro\n",
      "INFO:dedupe.canopy_index:Removing stop word  g\n",
      "INFO:dedupe.canopy_index:Removing stop word am\n",
      "INFO:dedupe.canopy_index:Removing stop word h \n",
      "INFO:dedupe.canopy_index:Removing stop word ic\n",
      "INFO:dedupe.canopy_index:Removing stop word rt\n",
      "INFO:dedupe.canopy_index:Removing stop word t \n",
      "INFO:dedupe.canopy_index:Removing stop word te\n",
      "INFO:dedupe.canopy_index:Removing stop word as\n",
      "INFO:dedupe.canopy_index:Removing stop word ba\n",
      "INFO:dedupe.canopy_index:Removing stop word ka\n",
      "INFO:dedupe.canopy_index:Removing stop word m \n",
      "INFO:dedupe.canopy_index:Removing stop word ne\n",
      "INFO:dedupe.canopy_index:Removing stop word ad\n",
      "INFO:dedupe.canopy_index:Removing stop word ge\n",
      "INFO:dedupe.canopy_index:Removing stop word d \n",
      "INFO:dedupe.canopy_index:Removing stop word os\n",
      "INFO:dedupe.canopy_index:Removing stop word se\n",
      "INFO:dedupe.canopy_index:Removing stop word pa\n",
      "INFO:dedupe.canopy_index:Removing stop word hi\n",
      "INFO:dedupe.canopy_index:Removing stop word th\n",
      "INFO:dedupe.canopy_index:Removing stop word ll\n",
      "INFO:dedupe.canopy_index:Removing stop word a\n",
      "INFO:dedupe.canopy_index:Removing stop word for\n",
      "INFO:dedupe.canopy_index:Removing stop word based\n",
      "INFO:dedupe.canopy_index:Removing stop word and\n",
      "INFO:dedupe.canopy_index:Removing stop word in\n",
      "INFO:dedupe.canopy_index:Removing stop word the\n",
      "INFO:dedupe.canopy_index:Removing stop word of\n",
      "INFO:dedupe.canopy_index:Removing stop word  a\n",
      "INFO:dedupe.canopy_index:Removing stop word  f\n",
      "INFO:dedupe.canopy_index:Removing stop word  p\n",
      "INFO:dedupe.canopy_index:Removing stop word a \n",
      "INFO:dedupe.canopy_index:Removing stop word al\n",
      "INFO:dedupe.canopy_index:Removing stop word as\n",
      "INFO:dedupe.canopy_index:Removing stop word ba\n",
      "INFO:dedupe.canopy_index:Removing stop word ch\n",
      "INFO:dedupe.canopy_index:Removing stop word co\n",
      "INFO:dedupe.canopy_index:Removing stop word ed\n",
      "INFO:dedupe.canopy_index:Removing stop word er\n",
      "INFO:dedupe.canopy_index:Removing stop word fo\n",
      "INFO:dedupe.canopy_index:Removing stop word io\n",
      "INFO:dedupe.canopy_index:Removing stop word le\n",
      "INFO:dedupe.canopy_index:Removing stop word ne\n",
      "INFO:dedupe.canopy_index:Removing stop word oc\n",
      "INFO:dedupe.canopy_index:Removing stop word or\n",
      "INFO:dedupe.canopy_index:Removing stop word pr\n",
      "INFO:dedupe.canopy_index:Removing stop word r \n",
      "INFO:dedupe.canopy_index:Removing stop word ro\n",
      "INFO:dedupe.canopy_index:Removing stop word rt\n",
      "INFO:dedupe.canopy_index:Removing stop word ss\n",
      "INFO:dedupe.canopy_index:Removing stop word ti\n",
      "INFO:dedupe.canopy_index:Removing stop word  l\n",
      "INFO:dedupe.canopy_index:Removing stop word an\n",
      "INFO:dedupe.canopy_index:Removing stop word ct\n",
      "INFO:dedupe.canopy_index:Removing stop word e \n",
      "INFO:dedupe.canopy_index:Removing stop word en\n",
      "INFO:dedupe.canopy_index:Removing stop word g \n",
      "INFO:dedupe.canopy_index:Removing stop word im\n",
      "INFO:dedupe.canopy_index:Removing stop word is\n",
      "INFO:dedupe.canopy_index:Removing stop word me\n",
      "INFO:dedupe.canopy_index:Removing stop word nc\n",
      "INFO:dedupe.canopy_index:Removing stop word ni\n",
      "INFO:dedupe.canopy_index:Removing stop word pe\n",
      "INFO:dedupe.canopy_index:Removing stop word si\n",
      "INFO:dedupe.canopy_index:Removing stop word st\n",
      "INFO:dedupe.canopy_index:Removing stop word ta\n",
      "INFO:dedupe.canopy_index:Removing stop word un\n",
      "INFO:dedupe.canopy_index:Removing stop word vi\n",
      "INFO:dedupe.canopy_index:Removing stop word  i\n",
      "INFO:dedupe.canopy_index:Removing stop word ab\n",
      "INFO:dedupe.canopy_index:Removing stop word da\n",
      "INFO:dedupe.canopy_index:Removing stop word iv\n",
      "INFO:dedupe.canopy_index:Removing stop word ll\n",
      "INFO:dedupe.canopy_index:Removing stop word ol\n",
      "INFO:dedupe.canopy_index:Removing stop word ra\n",
      "INFO:dedupe.canopy_index:Removing stop word th\n",
      "INFO:dedupe.canopy_index:Removing stop word  m\n",
      "INFO:dedupe.canopy_index:Removing stop word de\n",
      "INFO:dedupe.canopy_index:Removing stop word he\n",
      "INFO:dedupe.canopy_index:Removing stop word l \n",
      "INFO:dedupe.canopy_index:Removing stop word nd\n",
      "INFO:dedupe.canopy_index:Removing stop word tr\n",
      "INFO:dedupe.canopy_index:Removing stop word  d\n",
      "INFO:dedupe.canopy_index:Removing stop word  t\n",
      "INFO:dedupe.canopy_index:Removing stop word f \n",
      "INFO:dedupe.canopy_index:Removing stop word mo\n",
      "INFO:dedupe.canopy_index:Removing stop word of\n",
      "INFO:dedupe.canopy_index:Removing stop word rk\n",
      "INFO:dedupe.canopy_index:Removing stop word so\n",
      "INFO:dedupe.canopy_index:Removing stop word tw\n",
      "INFO:dedupe.canopy_index:Removing stop word wo\n",
      "INFO:dedupe.canopy_index:Removing stop word ca\n",
      "INFO:dedupe.canopy_index:Removing stop word ge\n",
      "INFO:dedupe.canopy_index:Removing stop word iz\n",
      "INFO:dedupe.canopy_index:Removing stop word ob\n",
      "INFO:dedupe.canopy_index:Removing stop word op\n",
      "INFO:dedupe.canopy_index:Removing stop word sy\n",
      "INFO:dedupe.canopy_index:Removing stop word us\n",
      "INFO:dedupe.canopy_index:Removing stop word  b\n",
      "INFO:dedupe.canopy_index:Removing stop word  r\n",
      "INFO:dedupe.canopy_index:Removing stop word hi\n",
      "INFO:dedupe.canopy_index:Removing stop word lt\n",
      "INFO:dedupe.canopy_index:Removing stop word mu\n",
      "INFO:dedupe.canopy_index:Removing stop word pa\n",
      "INFO:dedupe.canopy_index:Removing stop word ul\n",
      "INFO:dedupe.canopy_index:Removing stop word gr\n",
      "INFO:dedupe.canopy_index:Removing stop word og\n",
      "INFO:dedupe.canopy_index:Removing stop word  g\n",
      "INFO:dedupe.canopy_index:Removing stop word gi\n",
      "INFO:dedupe.canopy_index:Removing stop word ia\n",
      "INFO:dedupe.canopy_index:Removing stop word ut\n",
      "INFO:dedupe.canopy_index:Removing stop word ag\n",
      "INFO:dedupe.canopy_index:Removing stop word no\n",
      "INFO:dedupe.canopy_index:Removing stop word lo\n",
      "INFO:dedupe.canopy_index:Removing stop word ev\n",
      "INFO:dedupe.canopy_index:Removing stop word ts\n",
      "INFO:dedupe.canopy_index:Removing stop word  u\n",
      "INFO:dedupe.canopy_index:Removing stop word ci\n",
      "INFO:dedupe.canopy_index:Removing stop word bi\n",
      "INFO:dedupe.canopy_index:Removing stop word am\n",
      "INFO:dedupe.canopy_index:Removing stop word m \n",
      "INFO:dedupe.canopy_index:Removing stop word mp\n",
      "INFO:dedupe.canopy_index:Removing stop word ie\n",
      "INFO:dedupe.canopy_index:Removing stop word fi\n",
      "INFO:dedupe.canopy_index:Removing stop word rm\n"
     ]
    },
    {
     "name": "stderr",
     "output_type": "stream",
     "text": [
      "INFO:dedupe.canopy_index:Removing stop word c \n",
      "INFO:dedupe.canopy_index:Removing stop word pl\n",
      "INFO:dedupe.canopy_index:Removing stop word lu\n",
      "INFO:dedupe.canopy_index:Removing stop word o \n",
      "INFO:dedupe.canopy_index:Removing stop word ex\n",
      "INFO:dedupe.canopy_index:Removing stop word er\n",
      "INFO:dedupe.canopy_index:Removing stop word ng\n",
      "INFO:dedupe.canopy_index:Removing stop word ri\n",
      "INFO:dedupe.canopy_index:Removing stop word  w\n",
      "INFO:dedupe.canopy_index:Removing stop word g \n",
      "INFO:dedupe.canopy_index:Removing stop word ia\n",
      "INFO:dedupe.canopy_index:Removing stop word  r\n",
      "INFO:dedupe.canopy_index:Removing stop word ha\n",
      "INFO:dedupe.canopy_index:Removing stop word  f\n",
      "INFO:dedupe.canopy_index:Removing stop word  m\n",
      "INFO:dedupe.canopy_index:Removing stop word ma\n",
      "INFO:dedupe.canopy_index:Removing stop word re\n",
      "INFO:dedupe.canopy_index:Removing stop word de\n",
      "INFO:dedupe.canopy_index:Removing stop word la\n",
      "INFO:dedupe.canopy_index:Removing stop word mo\n",
      "INFO:dedupe.canopy_index:Removing stop word nt\n",
      "INFO:dedupe.canopy_index:Removing stop word il\n",
      "INFO:dedupe.canopy_index:Removing stop word sh\n",
      "INFO:dedupe.canopy_index:Removing stop word  n\n",
      "INFO:dedupe.canopy_index:Removing stop word sa\n",
      "INFO:dedupe.canopy_index:Removing stop word  b\n",
      "INFO:dedupe.canopy_index:Removing stop word ni\n",
      "INFO:dedupe.canopy_index:Removing stop word ta\n",
      "INFO:dedupe.canopy_index:Removing stop word  c\n",
      "INFO:dedupe.canopy_index:Removing stop word  n\n",
      "INFO:dedupe.canopy_index:Removing stop word ac\n",
      "INFO:dedupe.canopy_index:Removing stop word ap\n",
      "INFO:dedupe.canopy_index:Removing stop word at\n",
      "INFO:dedupe.canopy_index:Removing stop word d \n",
      "INFO:dedupe.canopy_index:Removing stop word el\n",
      "INFO:dedupe.canopy_index:Removing stop word h \n",
      "INFO:dedupe.canopy_index:Removing stop word la\n",
      "INFO:dedupe.canopy_index:Removing stop word n \n",
      "INFO:dedupe.canopy_index:Removing stop word on\n",
      "INFO:dedupe.canopy_index:Removing stop word pp\n",
      "INFO:dedupe.canopy_index:Removing stop word re\n",
      "INFO:dedupe.canopy_index:Removing stop word se\n",
      "INFO:dedupe.canopy_index:Removing stop word t \n",
      "INFO:dedupe.canopy_index:Removing stop word  s\n",
      "INFO:dedupe.canopy_index:Removing stop word ar\n",
      "INFO:dedupe.canopy_index:Removing stop word ea\n",
      "INFO:dedupe.canopy_index:Removing stop word il\n",
      "INFO:dedupe.canopy_index:Removing stop word it\n",
      "INFO:dedupe.canopy_index:Removing stop word mi\n",
      "INFO:dedupe.canopy_index:Removing stop word ng\n",
      "INFO:dedupe.canopy_index:Removing stop word ri\n",
      "INFO:dedupe.canopy_index:Removing stop word su\n",
      "INFO:dedupe.canopy_index:Removing stop word y \n",
      "INFO:dedupe.canopy_index:Removing stop word  w\n",
      "INFO:dedupe.canopy_index:Removing stop word ms\n",
      "INFO:dedupe.canopy_index:Removing stop word s \n",
      "INFO:dedupe.canopy_index:Removing stop word ve\n",
      "INFO:dedupe.canopy_index:Removing stop word em\n",
      "INFO:dedupe.canopy_index:Removing stop word ic\n",
      "INFO:dedupe.canopy_index:Removing stop word ma\n",
      "INFO:dedupe.canopy_index:Removing stop word ns\n",
      "INFO:dedupe.canopy_index:Removing stop word  o\n",
      "INFO:dedupe.canopy_index:Removing stop word et\n",
      "INFO:dedupe.canopy_index:Removing stop word na\n",
      "INFO:dedupe.canopy_index:Removing stop word rs\n",
      "INFO:dedupe.canopy_index:Removing stop word ur\n",
      "INFO:dedupe.canopy_index:Removing stop word ec\n",
      "INFO:dedupe.canopy_index:Removing stop word li\n",
      "INFO:dedupe.canopy_index:Removing stop word od\n",
      "INFO:dedupe.canopy_index:Removing stop word te\n",
      "INFO:dedupe.canopy_index:Removing stop word  e\n",
      "INFO:dedupe.canopy_index:Removing stop word ou\n",
      "INFO:dedupe.canopy_index:Removing stop word ig\n",
      "INFO:dedupe.canopy_index:Removing stop word ry\n",
      "INFO:dedupe.training:Final predicate set:\n",
      "INFO:dedupe.training:(LevenshteinSearchPredicate: (3, authors), SimplePredicate: (commonTwoTokens, title))\n"
     ]
    }
   ],
   "source": [
    "# Use RecordLink to join both datasets\n",
    "fields = [\n",
    "            {'field': 'title', 'type': 'String'},\n",
    "            {'field': 'authors', 'type': 'String'}]\n",
    "\n",
    "#Create a new linker object and pass our data model to it.\n",
    "linker = dedupe.RecordLink(fields)\n",
    "\n",
    "# run entity matching measures\n",
    "linker.prepare_training(A1, B1, sample_size=1000)"
   ]
  },
  {
   "cell_type": "markdown",
   "metadata": {},
   "source": [
    "### Active learning part"
   ]
  },
  {
   "cell_type": "code",
   "execution_count": 60,
   "metadata": {},
   "outputs": [
    {
     "name": "stderr",
     "output_type": "stream",
     "text": [
      "title : node localization using mobile robots in delay-tolerant sensor networks\n",
      "authors : pubudu n pathirana, nirupama bulusu, andrey v savkin, sanjay jha\n",
      "\n",
      "title : node localization using mobile robots in delay-tolerant sensor networks.\n",
      "authors : pubudu n. pathirana, nirupama bulusu, andrey v. savkin, sanjay jha, thanh dang\n",
      "\n",
      "0/10 positive, 0/10 negative\n",
      "Do these records refer to the same thing?\n",
      "(y)es / (n)o / (u)nsure / (f)inished\n"
     ]
    },
    {
     "name": "stdout",
     "output_type": "stream",
     "text": [
      "y\n"
     ]
    },
    {
     "name": "stderr",
     "output_type": "stream",
     "text": [
      "title : a fast 2-approximation algorithm for the minimum manhattan network problem\n",
      "authors : zeyu guo, he sun, hong zhu\n",
      "\n",
      "title : a fast 2-approximation algorithm for the minimum manhattan network problem.\n",
      "authors : zeyu guo, he sun 0001, hong zhu\n",
      "\n",
      "1/10 positive, 0/10 negative\n",
      "Do these records refer to the same thing?\n",
      "(y)es / (n)o / (u)nsure / (f)inished / (p)revious\n"
     ]
    },
    {
     "name": "stdout",
     "output_type": "stream",
     "text": [
      "y\n"
     ]
    },
    {
     "name": "stderr",
     "output_type": "stream",
     "text": [
      "INFO:dedupe.training:Final predicate set:\n",
      "INFO:dedupe.training:(LevenshteinSearchPredicate: (4, title), SimplePredicate: (oneGramFingerprint, title))\n",
      "title : protection of database security via collaborative inference detection 1 abstract\n",
      "authors : yu chen, wesley w. chu\n",
      "\n",
      "title : protection of database security via collaborative inference detection.\n",
      "authors : yu chen, wesley w. chu\n",
      "\n",
      "2/10 positive, 0/10 negative\n",
      "Do these records refer to the same thing?\n",
      "(y)es / (n)o / (u)nsure / (f)inished / (p)revious\n"
     ]
    },
    {
     "name": "stdout",
     "output_type": "stream",
     "text": [
      "y\n"
     ]
    },
    {
     "name": "stderr",
     "output_type": "stream",
     "text": [
      "title : 2010 eleventh brazilian symposium on neural networks evolution strategies with q-gaussian mutation for dynamic optimization problems\n",
      "authors : renato tins, shengxiang yang\n",
      "\n",
      "title : evolution strategies with q-gaussian mutation for dynamic optimization problems.\n",
      "authors : renato tins, shengxiang yang\n",
      "\n",
      "3/10 positive, 0/10 negative\n",
      "Do these records refer to the same thing?\n",
      "(y)es / (n)o / (u)nsure / (f)inished / (p)revious\n"
     ]
    },
    {
     "name": "stdout",
     "output_type": "stream",
     "text": [
      "n\n"
     ]
    },
    {
     "name": "stderr",
     "output_type": "stream",
     "text": [
      "INFO:dedupe.training:Final predicate set:\n",
      "INFO:dedupe.training:(SimplePredicate: (commonThreeTokens, authors), TfidfTextSearchPredicate: (0.4, title))\n",
      "title : contents\n",
      "authors : chris brown\n",
      "\n",
      "title : portrait identification in digitized paintings on the basis of a face detection system.\n",
      "authors : christos-nikolaos anagnostopoulos, ioannis anagnostopoulos, ilias maglogiannis, dimitris vergados\n",
      "\n",
      "3/10 positive, 1/10 negative\n",
      "Do these records refer to the same thing?\n",
      "(y)es / (n)o / (u)nsure / (f)inished / (p)revious\n"
     ]
    },
    {
     "name": "stdout",
     "output_type": "stream",
     "text": [
      "n\n"
     ]
    },
    {
     "name": "stderr",
     "output_type": "stream",
     "text": [
      "title : education\n",
      "authors : dr. sylvia ratnasamy\n",
      "\n",
      "title : education.\n",
      "authors : paola salomoni, silvia mirri, stefano ferretti, marco roccetti\n",
      "\n",
      "3/10 positive, 2/10 negative\n",
      "Do these records refer to the same thing?\n",
      "(y)es / (n)o / (u)nsure / (f)inished / (p)revious\n"
     ]
    },
    {
     "name": "stdout",
     "output_type": "stream",
     "text": [
      "u\n"
     ]
    },
    {
     "name": "stderr",
     "output_type": "stream",
     "text": [
      "title : action rules mining\n",
      "authors : angelina a. tzacheva, zbigniew w. ras\n",
      "\n",
      "title : action rules mining\n",
      "authors : agnieszka dardzinska\n",
      "\n",
      "3/10 positive, 2/10 negative\n",
      "Do these records refer to the same thing?\n",
      "(y)es / (n)o / (u)nsure / (f)inished / (p)revious\n"
     ]
    },
    {
     "name": "stdout",
     "output_type": "stream",
     "text": [
      "y\n"
     ]
    },
    {
     "name": "stderr",
     "output_type": "stream",
     "text": [
      "title : introduction\n",
      "authors : globalized economy, dr. wesley cragg, director gardiner, programme business ethics\n",
      "\n",
      "title : introduction.\n",
      "authors : hamid r. tizhoosh, mario ventresca\n",
      "\n",
      "4/10 positive, 2/10 negative\n",
      "Do these records refer to the same thing?\n",
      "(y)es / (n)o / (u)nsure / (f)inished / (p)revious\n"
     ]
    },
    {
     "name": "stdout",
     "output_type": "stream",
     "text": [
      "u\n"
     ]
    },
    {
     "name": "stderr",
     "output_type": "stream",
     "text": [
      "INFO:dedupe.training:Final predicate set:\n",
      "INFO:dedupe.training:(SimplePredicate: (doubleMetaphone, title), SimplePredicate: (firstTokenPredicate, title))\n",
      "title : implementation\n",
      "authors : david short, malcolm dellow\n",
      "\n",
      "title : implementation of learning objects using j2me: putting into practice the concept of m-learning in brazil.\n",
      "authors : leandro ramos de oliveira, roseclea duarte medina\n",
      "\n",
      "4/10 positive, 2/10 negative\n",
      "Do these records refer to the same thing?\n",
      "(y)es / (n)o / (u)nsure / (f)inished / (p)revious\n"
     ]
    },
    {
     "name": "stdout",
     "output_type": "stream",
     "text": [
      "u\n"
     ]
    },
    {
     "name": "stderr",
     "output_type": "stream",
     "text": [
      "title : introduction to and report from the symposium on management of geodetic data,\n",
      "authors : c. boucher, k. poder, c. r. schwarz, c. c. tscherning\n",
      "\n",
      "title : introduction.\n",
      "authors : steve cunningham, roger j. hubbold\n",
      "\n",
      "4/10 positive, 2/10 negative\n",
      "Do these records refer to the same thing?\n",
      "(y)es / (n)o / (u)nsure / (f)inished / (p)revious\n"
     ]
    },
    {
     "name": "stdout",
     "output_type": "stream",
     "text": [
      "u\n"
     ]
    },
    {
     "name": "stderr",
     "output_type": "stream",
     "text": [
      "title : notice\n",
      "authors : john benner, satyen deb, robert mcconnell, electrochemical society, john benner, satyen deb, robert mcconnell, electrochemical society\n",
      "\n",
      "title : getalife - an artificial life environment for the evaluation of agent-based systems and evolutionary algorithms for reinforcement learning.\n",
      "authors : daniel machado, miguel rocha\n",
      "\n",
      "4/10 positive, 2/10 negative\n",
      "Do these records refer to the same thing?\n",
      "(y)es / (n)o / (u)nsure / (f)inished / (p)revious\n"
     ]
    },
    {
     "name": "stdout",
     "output_type": "stream",
     "text": [
      "n\n"
     ]
    },
    {
     "name": "stderr",
     "output_type": "stream",
     "text": [
      "title : 6. the value of evaluation through the local implementation\n",
      "authors : suzanne hoverman\n",
      "\n",
      "title : 6th.\n",
      "authors : damien perritaz, christophe salzmann, denis gillet, olivier naef, jacques bapst, frdric barras, elena mugellini, omar abou khaled\n",
      "\n",
      "4/10 positive, 3/10 negative\n",
      "Do these records refer to the same thing?\n",
      "(y)es / (n)o / (u)nsure / (f)inished / (p)revious\n"
     ]
    },
    {
     "name": "stdout",
     "output_type": "stream",
     "text": [
      "n\n"
     ]
    },
    {
     "name": "stderr",
     "output_type": "stream",
     "text": [
      "title : summary\n",
      "authors : kenneth a. taylor, holger schmitz, mary c. reedy, yale e. goldman, clara franzini-armstrong, hiroyuki sasaki, richard t. tregear, kate poole, carmen lucaveche, robert j. edwards, li fan chen, hanspeter winkler, michael k. reedy, cambridge cb qh, united kingdom, abteilung biophysik\n",
      "\n",
      "title : sequence jobs and assign due dates with uncertain processing times and quadratic penalty functions.\n",
      "authors : yu xia 0004, bintong chen, jinfeng yue\n",
      "\n",
      "4/10 positive, 4/10 negative\n",
      "Do these records refer to the same thing?\n",
      "(y)es / (n)o / (u)nsure / (f)inished / (p)revious\n"
     ]
    },
    {
     "name": "stdout",
     "output_type": "stream",
     "text": [
      "n\n"
     ]
    },
    {
     "name": "stderr",
     "output_type": "stream",
     "text": [
      "title : preliminaries\n",
      "authors : prime contractor, nexant inc, southern african power pool (sapp\n",
      "\n",
      "title : preliminaries.\n",
      "authors : andrzej p. wierzbicki, yoshiteru nakamori\n",
      "\n",
      "4/10 positive, 5/10 negative\n",
      "Do these records refer to the same thing?\n",
      "(y)es / (n)o / (u)nsure / (f)inished / (p)revious\n"
     ]
    },
    {
     "name": "stdout",
     "output_type": "stream",
     "text": [
      "u\n"
     ]
    },
    {
     "name": "stderr",
     "output_type": "stream",
     "text": [
      "title : introduction\n",
      "authors : globalized economy, dr. wesley cragg, director gardiner, programme business ethics\n",
      "\n",
      "title : introduction.\n",
      "authors : olga pombo, juan manuel torres, john symons\n",
      "\n",
      "4/10 positive, 5/10 negative\n",
      "Do these records refer to the same thing?\n",
      "(y)es / (n)o / (u)nsure / (f)inished / (p)revious\n"
     ]
    },
    {
     "name": "stdout",
     "output_type": "stream",
     "text": [
      "u\n"
     ]
    },
    {
     "name": "stderr",
     "output_type": "stream",
     "text": [
      "title : editorial\n",
      "authors : werner hlzl, andreas reinstaller\n",
      "\n",
      "title : editorial.\n",
      "authors : martin hgele, paul-gerhard plger\n",
      "\n",
      "4/10 positive, 5/10 negative\n",
      "Do these records refer to the same thing?\n",
      "(y)es / (n)o / (u)nsure / (f)inished / (p)revious\n"
     ]
    },
    {
     "name": "stdout",
     "output_type": "stream",
     "text": [
      "u\n"
     ]
    },
    {
     "name": "stderr",
     "output_type": "stream",
     "text": [
      "title : authors\n",
      "authors : of ips, pieter van der wolf, tomas henriksson, alistair bruce, axel jantsch, mikael millberg, zhonghai lu, alain clouard\n",
      "\n",
      "title : automatic generation of semantic metadata as basis for user modeling and adaptation.\n",
      "authors : kees van der sluijs, geert-jan houben\n",
      "\n",
      "4/10 positive, 5/10 negative\n",
      "Do these records refer to the same thing?\n",
      "(y)es / (n)o / (u)nsure / (f)inished / (p)revious\n"
     ]
    },
    {
     "name": "stdout",
     "output_type": "stream",
     "text": [
      "n\n"
     ]
    },
    {
     "name": "stderr",
     "output_type": "stream",
     "text": [
      "title : plans\n",
      "authors : james ramsay\n",
      "\n",
      "title : transactional memory\n",
      "authors : james r. larus, ravi rajwar\n",
      "\n",
      "4/10 positive, 6/10 negative\n",
      "Do these records refer to the same thing?\n",
      "(y)es / (n)o / (u)nsure / (f)inished / (p)revious\n"
     ]
    },
    {
     "name": "stdout",
     "output_type": "stream",
     "text": [
      "n\n"
     ]
    },
    {
     "name": "stderr",
     "output_type": "stream",
     "text": [
      "title : and\n",
      "authors : hans lindblad\n",
      "\n",
      "title : visualisation of cluster analysis results.\n",
      "authors : hans-joachim mucha, hans-georg bartel, carlos morales-merino\n",
      "\n",
      "4/10 positive, 7/10 negative\n",
      "Do these records refer to the same thing?\n",
      "(y)es / (n)o / (u)nsure / (f)inished / (p)revious\n"
     ]
    },
    {
     "name": "stdout",
     "output_type": "stream",
     "text": [
      "n\n"
     ]
    },
    {
     "name": "stderr",
     "output_type": "stream",
     "text": [
      "title : www.fmre-gske.be\n",
      "authors : koningin elisabeth, reine elisabeth, geneeskundige stichting, koningin elisabeth, inleiding verslag, activiteiten gske fmre\n",
      "\n",
      "title : how to engineer robotic organisms and swarms? - bio-inspiration, bio-mimicry, and artificial evolution in embodied self-organized systems.\n",
      "authors : thomas schmickl\n",
      "\n",
      "4/10 positive, 8/10 negative\n",
      "Do these records refer to the same thing?\n",
      "(y)es / (n)o / (u)nsure / (f)inished / (p)revious\n"
     ]
    },
    {
     "name": "stdout",
     "output_type": "stream",
     "text": [
      "n\n"
     ]
    },
    {
     "name": "stderr",
     "output_type": "stream",
     "text": [
      "title : and\n",
      "authors : peter r. taylor, charles w. bauschlicher, david w. schwenke\n",
      "\n",
      "title : experience-centered design: designers, users, and communities in dialogue\n",
      "authors : peter c. wright, john c. mccarthy\n",
      "\n",
      "4/10 positive, 9/10 negative\n",
      "Do these records refer to the same thing?\n",
      "(y)es / (n)o / (u)nsure / (f)inished / (p)revious\n"
     ]
    },
    {
     "name": "stdout",
     "output_type": "stream",
     "text": [
      "n\n"
     ]
    },
    {
     "name": "stderr",
     "output_type": "stream",
     "text": [
      "title : contents\n",
      "authors : peter d. karp\n",
      "\n",
      "title : behaviorally founded recommendation algorithm for browsing assistance systems.\n",
      "authors : peter gczy, noriaki izumi, shotaro akaho, kiti hasida\n",
      "\n",
      "4/10 positive, 10/10 negative\n",
      "Do these records refer to the same thing?\n",
      "(y)es / (n)o / (u)nsure / (f)inished / (p)revious\n"
     ]
    },
    {
     "name": "stdout",
     "output_type": "stream",
     "text": [
      "n\n"
     ]
    },
    {
     "name": "stderr",
     "output_type": "stream",
     "text": [
      "title : contents\n",
      "authors : james s. plank\n",
      "\n",
      "title : incongruence detection in audio-visual processing.\n",
      "authors : michal havlena, jan heller, hendrik kayser, jrg-hendrik bach, jrn anemller, toms pajdla\n",
      "\n",
      "4/10 positive, 11/10 negative\n",
      "Do these records refer to the same thing?\n",
      "(y)es / (n)o / (u)nsure / (f)inished / (p)revious\n"
     ]
    },
    {
     "name": "stdout",
     "output_type": "stream",
     "text": [
      "n\n"
     ]
    },
    {
     "name": "stderr",
     "output_type": "stream",
     "text": [
      "title : physical layers\n",
      "authors : pierre boulet, aurlien gron, andrew a. vladimirov, konstantin v. gavrilenko, andrei a. mikhailovsky, mac layer\n",
      "\n",
      "title : c.s. peirce and artificial intelligence: historical heritage and (new) theoretical stakes.\n",
      "authors : pierre steiner\n",
      "\n",
      "4/10 positive, 12/10 negative\n",
      "Do these records refer to the same thing?\n",
      "(y)es / (n)o / (u)nsure / (f)inished / (p)revious\n"
     ]
    },
    {
     "name": "stdout",
     "output_type": "stream",
     "text": [
      "n\n"
     ]
    },
    {
     "name": "stderr",
     "output_type": "stream",
     "text": [
      "title : the design and performance of dynamic and static configuration mechanisms in component middleware for distributed real-time and embedded systems abstract\n",
      "authors : venkita subramonian, liang-jui shen, christopher gill, nanbor wang\n",
      "\n",
      "title : products of automata\n",
      "authors : ferenc gcseg\n",
      "\n",
      "4/10 positive, 13/10 negative\n",
      "Do these records refer to the same thing?\n",
      "(y)es / (n)o / (u)nsure / (f)inished / (p)revious\n"
     ]
    },
    {
     "name": "stdout",
     "output_type": "stream",
     "text": [
      "n\n"
     ]
    },
    {
     "name": "stderr",
     "output_type": "stream",
     "text": [
      "title : problem formulation\n",
      "authors : wiwek deshmukh, advisor dr. yingshu li\n",
      "\n",
      "title : the problem of determinacy of infinite games from an intuitionistic point of view.\n",
      "authors : wim veldman\n",
      "\n",
      "4/10 positive, 14/10 negative\n",
      "Do these records refer to the same thing?\n",
      "(y)es / (n)o / (u)nsure / (f)inished / (p)revious\n"
     ]
    },
    {
     "name": "stdout",
     "output_type": "stream",
     "text": [
      "n\n"
     ]
    },
    {
     "name": "stderr",
     "output_type": "stream",
     "text": [
      "title : contents\n",
      "authors : matthew flatt, robert bruce findler, john clements, i windowing toolbox\n",
      "\n",
      "title : machine learning techniques for multimedia - case studies on organization and retrieval\n",
      "authors : matthieu cord, pdraig cunningham\n",
      "\n",
      "4/10 positive, 15/10 negative\n",
      "Do these records refer to the same thing?\n",
      "(y)es / (n)o / (u)nsure / (f)inished / (p)revious\n"
     ]
    },
    {
     "name": "stdout",
     "output_type": "stream",
     "text": [
      "n\n"
     ]
    },
    {
     "name": "stderr",
     "output_type": "stream",
     "text": [
      "title : 3\n",
      "authors : hallie quinn brown\n",
      "\n",
      "title : blogging from the top: a survey of higher education leaders' use of web 2.0 technologies.\n",
      "authors : david c. wyld\n",
      "\n",
      "4/10 positive, 16/10 negative\n",
      "Do these records refer to the same thing?\n",
      "(y)es / (n)o / (u)nsure / (f)inished / (p)revious\n"
     ]
    },
    {
     "name": "stdout",
     "output_type": "stream",
     "text": [
      "n\n"
     ]
    },
    {
     "name": "stderr",
     "output_type": "stream",
     "text": [
      "title : abstract\n",
      "authors : alexander rakhlin, ambuj tewari, peter bartlett, all rights reserved, alexander rakhlin, peter l. bartlett, ambuj tewari\n",
      "\n",
      "title : knowledge annotation: making implicit knowledge explicit\n",
      "authors : alexiei dingli\n",
      "\n",
      "4/10 positive, 17/10 negative\n",
      "Do these records refer to the same thing?\n",
      "(y)es / (n)o / (u)nsure / (f)inished / (p)revious\n"
     ]
    },
    {
     "name": "stdout",
     "output_type": "stream",
     "text": [
      "n\n"
     ]
    },
    {
     "name": "stderr",
     "output_type": "stream",
     "text": [
      "title : www.publish.csiro.au/journals/sh sexual health, 2010, 7, 3134 misclassification bias: diversity in conceptualisations about having had sex\n",
      "authors : stephanie a. s, ers a, on j. hill a, william l. yarber a, cynthia a. graham a, richard a. crosby a, robin r. milhausen a\n",
      "\n",
      "title : vagueness and logic.\n",
      "authors : stewart shapiro\n",
      "\n",
      "4/10 positive, 18/10 negative\n",
      "Do these records refer to the same thing?\n",
      "(y)es / (n)o / (u)nsure / (f)inished / (p)revious\n"
     ]
    },
    {
     "name": "stdout",
     "output_type": "stream",
     "text": [
      "n\n"
     ]
    },
    {
     "name": "stderr",
     "output_type": "stream",
     "text": [
      "title : programs with common sense\n",
      "authors : john mccarthy\n",
      "\n",
      "title : how to describe and propagate uncertainty when processing time series: metrological and computational challenges, with potential applications to environmental studies.\n",
      "authors : christian servin, martine ceberio, aline jaimes, craig e. tweedie, vladik kreinovich\n",
      "\n",
      "4/10 positive, 19/10 negative\n",
      "Do these records refer to the same thing?\n",
      "(y)es / (n)o / (u)nsure / (f)inished / (p)revious\n"
     ]
    },
    {
     "name": "stdout",
     "output_type": "stream",
     "text": [
      "n\n"
     ]
    },
    {
     "name": "stderr",
     "output_type": "stream",
     "text": [
      "title : chairperson\n",
      "authors : vijay tirumalai, william a. stapleton, ph. d, keith a. woodbury, ph. d, david j. jackson, ph. d, kenneth g. ricks, ph. d\n",
      "\n",
      "title : evaluation and certifications for component packages software.\n",
      "authors : haeng-kon kim\n",
      "\n",
      "4/10 positive, 20/10 negative\n",
      "Do these records refer to the same thing?\n",
      "(y)es / (n)o / (u)nsure / (f)inished / (p)revious\n"
     ]
    },
    {
     "name": "stdout",
     "output_type": "stream",
     "text": [
      "n\n"
     ]
    },
    {
     "name": "stderr",
     "output_type": "stream",
     "text": [
      "title : 1\n",
      "authors : anca muscholl, doron peled\n",
      "\n",
      "title : dsp for matlab and labview iii: digital filter design\n",
      "authors : forester w. isen\n",
      "\n",
      "4/10 positive, 21/10 negative\n",
      "Do these records refer to the same thing?\n",
      "(y)es / (n)o / (u)nsure / (f)inished / (p)revious\n"
     ]
    },
    {
     "name": "stdout",
     "output_type": "stream",
     "text": [
      "n\n"
     ]
    },
    {
     "name": "stderr",
     "output_type": "stream",
     "text": [
      "title : editorial issue number one hundred and prospect values education: the australian experience open file: learningto livetogether through theteaching of history and geography part one: the duty, ability and desire for peaceful co-existence\n",
      "authors : quartely review of, yves andr, antoine bailly, yves andr, zuzana wienerova, clarence edward, beeby w. l. renwick\n",
      "\n",
      "title : bioinformatics: an introduction, second edition\n",
      "authors : jeremy j. ramsden\n",
      "\n",
      "4/10 positive, 22/10 negative\n",
      "Do these records refer to the same thing?\n",
      "(y)es / (n)o / (u)nsure / (f)inished / (p)revious\n"
     ]
    },
    {
     "name": "stdout",
     "output_type": "stream",
     "text": [
      "n\n"
     ]
    },
    {
     "name": "stderr",
     "output_type": "stream",
     "text": [
      "title : a a abb\n",
      "authors : b bcc, c caa\n",
      "\n",
      "title : security and privacy challenges of a digital government.\n",
      "authors : james b. d. joshi, arif ghafoor, walid g. aref, eugene h. spafford\n",
      "\n",
      "4/10 positive, 23/10 negative\n",
      "Do these records refer to the same thing?\n",
      "(y)es / (n)o / (u)nsure / (f)inished / (p)revious\n"
     ]
    },
    {
     "name": "stdout",
     "output_type": "stream",
     "text": [
      "n\n"
     ]
    },
    {
     "name": "stderr",
     "output_type": "stream",
     "text": [
      "title : audio\n",
      "authors : dr. hans stork\n",
      "\n",
      "title : time-domain beamforming and blind source separation - speech input in the car environment\n",
      "authors : julien bourgeois, wolfgang minker\n",
      "\n",
      "4/10 positive, 24/10 negative\n",
      "Do these records refer to the same thing?\n",
      "(y)es / (n)o / (u)nsure / (f)inished / (p)revious\n"
     ]
    },
    {
     "name": "stdout",
     "output_type": "stream",
     "text": [
      "n\n"
     ]
    },
    {
     "name": "stderr",
     "output_type": "stream",
     "text": [
      "title : table of contents\n",
      "authors : jonathan henke, shannon lawrence, ian miller, irene perciali, ph. d, david nasatir, ph. d., charis kaskiris, cara bautista\n",
      "\n",
      "title : routing protocols for next-generation networks inspired by collective behaviors of insect societies: an overview.\n",
      "authors : muddassar farooq, gianni a. di caro\n",
      "\n",
      "4/10 positive, 25/10 negative\n",
      "Do these records refer to the same thing?\n",
      "(y)es / (n)o / (u)nsure / (f)inished / (p)revious\n"
     ]
    },
    {
     "name": "stdout",
     "output_type": "stream",
     "text": [
      "n\n"
     ]
    },
    {
     "name": "stderr",
     "output_type": "stream",
     "text": [
      "title : petition to list the scalloped hammerhead shark (sphyrna lewini) under the u.s. endangered species act either worldwide or as one or more distinct population segments\n",
      "authors : frank burek, national oceanic, atmospheric administration\n",
      "\n",
      "title : evolutionary tolerance.\n",
      "authors : lus moniz pereira\n",
      "\n",
      "4/10 positive, 26/10 negative\n",
      "Do these records refer to the same thing?\n",
      "(y)es / (n)o / (u)nsure / (f)inished / (p)revious\n"
     ]
    },
    {
     "name": "stdout",
     "output_type": "stream",
     "text": [
      "n\n"
     ]
    },
    {
     "name": "stderr",
     "output_type": "stream",
     "text": [
      "title : component design\n",
      "authors : katherine c. morris, david sauder, sandy ressler, barbara h. franklin, john w. lyons, katherine c. morris, david sauder, sandy ressler\n",
      "\n",
      "title : partially distributed emergency teams: considerations of decision support for virtual communities of practice.\n",
      "authors : linda plotnick, murray turoff, connie white\n",
      "\n",
      "4/10 positive, 27/10 negative\n",
      "Do these records refer to the same thing?\n",
      "(y)es / (n)o / (u)nsure / (f)inished / (p)revious\n"
     ]
    },
    {
     "name": "stdout",
     "output_type": "stream",
     "text": [
      "n\n"
     ]
    },
    {
     "name": "stderr",
     "output_type": "stream",
     "text": [
      "title : authors\n",
      "authors : leonello serva apat, marino sorriso-valvo irpi-cnr, j. wasowski\n",
      "\n",
      "title : gait analysis and human motion tracking.\n",
      "authors : huiyu zhou\n",
      "\n",
      "4/10 positive, 28/10 negative\n",
      "Do these records refer to the same thing?\n",
      "(y)es / (n)o / (u)nsure / (f)inished / (p)revious\n"
     ]
    },
    {
     "name": "stdout",
     "output_type": "stream",
     "text": [
      "n\n"
     ]
    },
    {
     "name": "stderr",
     "output_type": "stream",
     "text": [
      "title : support vector machines and kernel methods\n",
      "authors : geoff gordon\n",
      "\n",
      "title : estimating quality of support vector machines learning under probabilistic and interval uncertainty: algorithms and computational complexity.\n",
      "authors : canh hao nguyen, tu bao ho, vladik kreinovich\n",
      "\n",
      "4/10 positive, 29/10 negative\n",
      "Do these records refer to the same thing?\n",
      "(y)es / (n)o / (u)nsure / (f)inished / (p)revious\n"
     ]
    },
    {
     "name": "stdout",
     "output_type": "stream",
     "text": [
      "n\n"
     ]
    },
    {
     "name": "stderr",
     "output_type": "stream",
     "text": [
      "title : references\n",
      "authors : li ding, aniko sabo, nicolas berkowicz, rekha r. meyer, yoram shotl, mark r. johnson, kymberlie h, richard k. wilson, john spieth, email alerting, li ding, aniko sabo, nicolas berkowicz, rekha r. meyer, yoram shotl, mark r. johnson, kymberlie h. pepin, richard k. wilson, john spieth\n",
      "\n",
      "title : an user-driven tool for interactive retrieval of non annotated videos.\n",
      "authors : maria ngeles mendoza, toms arnau, isabel gracia, filiberto pla, nicolas prez de la blanca\n",
      "\n",
      "4/10 positive, 30/10 negative\n",
      "Do these records refer to the same thing?\n",
      "(y)es / (n)o / (u)nsure / (f)inished / (p)revious\n"
     ]
    },
    {
     "name": "stdout",
     "output_type": "stream",
     "text": [
      "n\n"
     ]
    },
    {
     "name": "stderr",
     "output_type": "stream",
     "text": [
      "title : summary\n",
      "authors : doris wagner, frank wellmer, kieran dilks, dilusha william, michael r. smith, prakash p. kumar, jose luis riechmann, andrew j. greenl, elliot m. meyerowitz\n",
      "\n",
      "title : bandwidth extension of speech using perceptual criteria\n",
      "authors : visar berisha, steven sandoval, julie liss\n",
      "\n",
      "4/10 positive, 31/10 negative\n",
      "Do these records refer to the same thing?\n",
      "(y)es / (n)o / (u)nsure / (f)inished / (p)revious\n"
     ]
    },
    {
     "name": "stdout",
     "output_type": "stream",
     "text": [
      "n\n"
     ]
    },
    {
     "name": "stderr",
     "output_type": "stream",
     "text": [
      "title : this article has been accepted for publication in a future issue of this journal, but has not been fully edited. content may change prior to final publication. ieee transactions on circuits and systemsii: express briefs analysis of the bridged t-coil cir\n",
      "authors : h paramesh, student member, david j. allstot\n",
      "\n",
      "title : evaluating the next generation of multimedia software.\n",
      "authors : ray adams\n",
      "\n",
      "4/10 positive, 32/10 negative\n",
      "Do these records refer to the same thing?\n",
      "(y)es / (n)o / (u)nsure / (f)inished / (p)revious\n"
     ]
    },
    {
     "name": "stdout",
     "output_type": "stream",
     "text": [
      "n\n"
     ]
    },
    {
     "name": "stderr",
     "output_type": "stream",
     "text": [
      "title : contents\n",
      "authors : mary l. mcnabb, gilbert valdez, jeri nowakowski, mark hawkes\n",
      "\n",
      "title : design methods for fluid construction grammar.\n",
      "authors : luc steels\n",
      "\n",
      "4/10 positive, 33/10 negative\n",
      "Do these records refer to the same thing?\n",
      "(y)es / (n)o / (u)nsure / (f)inished / (p)revious\n"
     ]
    },
    {
     "name": "stdout",
     "output_type": "stream",
     "text": [
      "n\n"
     ]
    },
    {
     "name": "stderr",
     "output_type": "stream",
     "text": [
      "title : keeping things simple: finding frequent item sets by recursive elimination\n",
      "authors : christian borgelt\n",
      "\n",
      "title : simple algorithms for frequent item set mining.\n",
      "authors : christian borgelt\n",
      "\n",
      "4/10 positive, 34/10 negative\n",
      "Do these records refer to the same thing?\n",
      "(y)es / (n)o / (u)nsure / (f)inished / (p)revious\n"
     ]
    },
    {
     "name": "stdout",
     "output_type": "stream",
     "text": [
      "y\n"
     ]
    },
    {
     "name": "stderr",
     "output_type": "stream",
     "text": [
      "title : contributors\n",
      "authors : user group all, american english, american english, colleen cook, amy hoseth, fred heath, martha kyrillidou, brucethompson jonathan, d. sousa, duane webster\n",
      "\n",
      "title : gesture, gaze and persuasive strategies in political discourse.\n",
      "authors : isabella poggi, laura vincze\n",
      "\n",
      "5/10 positive, 34/10 negative\n",
      "Do these records refer to the same thing?\n",
      "(y)es / (n)o / (u)nsure / (f)inished / (p)revious\n"
     ]
    },
    {
     "name": "stdout",
     "output_type": "stream",
     "text": [
      "n\n"
     ]
    },
    {
     "name": "stderr",
     "output_type": "stream",
     "text": [
      "INFO:dedupe.training:Final predicate set:\n",
      "INFO:dedupe.training:(TfidfTextSearchPredicate: (0.2, title), TfidfTextSearchPredicate: (0.8, authors))\n",
      "INFO:dedupe.training:(SimplePredicate: (doubleMetaphone, title), SimplePredicate: (firstTokenPredicate, title))\n",
      "title : data center evolution\n",
      "authors : krishna kant\n",
      "\n",
      "title : configuration management security in data center environments.\n",
      "authors : krishna kant\n",
      "\n",
      "5/10 positive, 35/10 negative\n",
      "Do these records refer to the same thing?\n",
      "(y)es / (n)o / (u)nsure / (f)inished / (p)revious\n"
     ]
    },
    {
     "name": "stdout",
     "output_type": "stream",
     "text": [
      "y\n"
     ]
    },
    {
     "name": "stderr",
     "output_type": "stream",
     "text": [
      "title : distributed ( + 1)-coloring in linear (in ) time\n",
      "authors : leonid barenboim, michael elkin\n",
      "\n",
      "title : distributed graph coloring: fundamentals and recent developments\n",
      "authors : leonid barenboim, michael elkin\n",
      "\n",
      "6/10 positive, 35/10 negative\n",
      "Do these records refer to the same thing?\n",
      "(y)es / (n)o / (u)nsure / (f)inished / (p)revious\n"
     ]
    },
    {
     "name": "stdout",
     "output_type": "stream",
     "text": [
      "y\n"
     ]
    },
    {
     "name": "stderr",
     "output_type": "stream",
     "text": [
      "title : generalized patterns in words and permutations\n",
      "authors : sergey kitaev\n",
      "\n",
      "title : patterns in permutations and words\n",
      "authors : sergey kitaev\n",
      "\n",
      "7/10 positive, 35/10 negative\n",
      "Do these records refer to the same thing?\n",
      "(y)es / (n)o / (u)nsure / (f)inished / (p)revious\n"
     ]
    },
    {
     "name": "stdout",
     "output_type": "stream",
     "text": [
      "y\n"
     ]
    },
    {
     "name": "stderr",
     "output_type": "stream",
     "text": [
      "title : musical instrument classification and duet analysis employing music information retrieval techniques\n",
      "authors : bozena kostek\n",
      "\n",
      "title : perception-based data processing in acoustics: applications to music information retrieval and psychophysiology\n",
      "authors : bozena kostek\n",
      "\n",
      "8/10 positive, 35/10 negative\n",
      "Do these records refer to the same thing?\n",
      "(y)es / (n)o / (u)nsure / (f)inished / (p)revious\n"
     ]
    },
    {
     "name": "stdout",
     "output_type": "stream",
     "text": [
      "y\n"
     ]
    },
    {
     "name": "stderr",
     "output_type": "stream",
     "text": [
      "title : splittability of bilexical context-free grammars is undecidable\n",
      "authors : mark-jan nederhof, giorgio satta\n",
      "\n",
      "title : probabilistic parsing.\n",
      "authors : mark-jan nederhof, giorgio satta\n",
      "\n",
      "9/10 positive, 35/10 negative\n",
      "Do these records refer to the same thing?\n",
      "(y)es / (n)o / (u)nsure / (f)inished / (p)revious\n"
     ]
    },
    {
     "name": "stdout",
     "output_type": "stream",
     "text": [
      "n\n"
     ]
    },
    {
     "name": "stderr",
     "output_type": "stream",
     "text": [
      "title : keeping things simple: finding frequent item sets by recursive elimination\n",
      "authors : christian borgelt\n",
      "\n",
      "title : network creation: overview.\n",
      "authors : christian borgelt\n",
      "\n",
      "9/10 positive, 36/10 negative\n",
      "Do these records refer to the same thing?\n",
      "(y)es / (n)o / (u)nsure / (f)inished / (p)revious\n"
     ]
    },
    {
     "name": "stdout",
     "output_type": "stream",
     "text": [
      "n\n"
     ]
    },
    {
     "name": "stderr",
     "output_type": "stream",
     "text": [
      "title : mathematical morphology on bipolar fuzzy sets\n",
      "authors : isabelle bloch\n",
      "\n",
      "title : bipolar fuzzy spatial information: geometry, morphology, spatial reasoning.\n",
      "authors : isabelle bloch\n",
      "\n",
      "9/10 positive, 37/10 negative\n",
      "Do these records refer to the same thing?\n",
      "(y)es / (n)o / (u)nsure / (f)inished / (p)revious\n"
     ]
    },
    {
     "name": "stdout",
     "output_type": "stream",
     "text": [
      "y\n"
     ]
    },
    {
     "name": "stderr",
     "output_type": "stream",
     "text": [
      "title : modular reuse of ontologies: theory and practice\n",
      "authors : bernardo cuenca grau, ian horrocks, yevgeny kazakov, ulrike sattler\n",
      "\n",
      "title : extracting modules from ontologies: a logic-based approach.\n",
      "authors : bernardo cuenca grau, ian horrocks, yevgeny kazakov, ulrike sattler\n",
      "\n",
      "10/10 positive, 37/10 negative\n",
      "Do these records refer to the same thing?\n",
      "(y)es / (n)o / (u)nsure / (f)inished / (p)revious\n"
     ]
    },
    {
     "name": "stdout",
     "output_type": "stream",
     "text": [
      "f\n"
     ]
    },
    {
     "name": "stderr",
     "output_type": "stream",
     "text": [
      "Finished labeling\n"
     ]
    }
   ],
   "source": [
    "dedupe.console_label(linker)"
   ]
  },
  {
   "cell_type": "markdown",
   "metadata": {},
   "source": [
    "### Train the classifier"
   ]
  },
  {
   "cell_type": "code",
   "execution_count": 61,
   "metadata": {},
   "outputs": [
    {
     "name": "stderr",
     "output_type": "stream",
     "text": [
      "INFO:rlr.crossvalidation:using cross validation to find optimum alpha...\n",
      "INFO:rlr.crossvalidation:optimum alpha: 0.000010, score 0.4359232627630916\n",
      "INFO:dedupe.training:Final predicate set:\n",
      "INFO:dedupe.training:(TfidfTextSearchPredicate: (0.2, title), TfidfTextSearchPredicate: (0.8, authors))\n",
      "INFO:dedupe.training:(SimplePredicate: (doubleMetaphone, title), SimplePredicate: (firstTokenPredicate, title))\n"
     ]
    }
   ],
   "source": [
    "linker.train()"
   ]
  },
  {
   "cell_type": "markdown",
   "metadata": {},
   "source": [
    "### Get matching pairs"
   ]
  },
  {
   "cell_type": "code",
   "execution_count": 62,
   "metadata": {},
   "outputs": [
    {
     "name": "stderr",
     "output_type": "stream",
     "text": [
      "INFO:dedupe.canopy_index:Removing stop word a\n",
      "INFO:dedupe.canopy_index:Removing stop word for\n",
      "INFO:dedupe.canopy_index:Removing stop word based\n",
      "INFO:dedupe.canopy_index:Removing stop word and\n",
      "INFO:dedupe.canopy_index:Removing stop word in\n",
      "INFO:dedupe.canopy_index:Removing stop word the\n",
      "INFO:dedupe.canopy_index:Removing stop word of\n"
     ]
    },
    {
     "name": "stdout",
     "output_type": "stream",
     "text": [
      "Using join() method, number of matches = 28\n",
      "[((7208, 3414), 0.8717715), ((7600, 8114), 0.7836728), ((9320, 8507), 0.7299457), ((8803, 9361), 0.69728917), ((2648, 4778), 0.624293), ((9139, 8037), 0.605023), ((9206, 7820), 0.60468143), ((8589, 8164), 0.59365), ((5033, 9184), 0.5700371), ((9045, 9963), 0.5240481)]\n"
     ]
    },
    {
     "name": "stderr",
     "output_type": "stream",
     "text": [
      "INFO:dedupe.canopy_index:Removing stop word a\n",
      "INFO:dedupe.canopy_index:Removing stop word for\n",
      "INFO:dedupe.canopy_index:Removing stop word based\n",
      "INFO:dedupe.canopy_index:Removing stop word and\n",
      "INFO:dedupe.canopy_index:Removing stop word in\n",
      "INFO:dedupe.canopy_index:Removing stop word the\n",
      "INFO:dedupe.canopy_index:Removing stop word of\n"
     ]
    },
    {
     "name": "stdout",
     "output_type": "stream",
     "text": [
      "\n",
      "Using pairs() method, number of matches = 61\n",
      "[((774, {'id': '774', 'title': 'numerical algorithms based on', 'authors': 'pj. ponenti, j. liandrat, biorthogonal wavelets, j. liandrap', 'journal': None, 'month': None, 'year': '1996', 'publication_type': None}), (4017, {'id': '4017', 'title': 'numerical prediction of friction, wear, heat generation and lubrication in case of sliding rubber components.', 'authors': 'tibor j. goda', 'journal': None, 'month': None, 'year': '2009', 'publication_type': 'incollection'})), ((1046, {'id': '1046', 'title': 'identifying idiomatic expressions using automatic word-alignment', 'authors': 'begoa villada moirn, jrg tiedemann', 'journal': None, 'month': None, 'year': None, 'publication_type': None}), (8508, {'id': '8508', 'title': 'bitext alignment', 'authors': 'jrg tiedemann', 'journal': None, 'month': None, 'year': '2011', 'publication_type': 'book'})), ((1079, {'id': '1079', 'title': 'introduction', 'authors': 'globalized economy, dr. wesley cragg, director gardiner, programme business ethics', 'journal': None, 'month': None, 'year': None, 'publication_type': None}), (546, {'id': '546', 'title': 'introduction.', 'authors': 'yuliang zheng', 'journal': None, 'month': None, 'year': '2010', 'publication_type': 'incollection'})), ((1079, {'id': '1079', 'title': 'introduction', 'authors': 'globalized economy, dr. wesley cragg, director gardiner, programme business ethics', 'journal': None, 'month': None, 'year': None, 'publication_type': None}), (791, {'id': '791', 'title': 'introduction.', 'authors': 'william sims bainbridge', 'journal': None, 'month': None, 'year': '2010', 'publication_type': 'incollection'})), ((1079, {'id': '1079', 'title': 'introduction', 'authors': 'globalized economy, dr. wesley cragg, director gardiner, programme business ethics', 'journal': None, 'month': None, 'year': None, 'publication_type': None}), (827, {'id': '827', 'title': 'introduction.', 'authors': 'nikolaos dimakis, john soldatos, lazaros polymenakos', 'journal': None, 'month': None, 'year': '2009', 'publication_type': 'incollection'})), ((1079, {'id': '1079', 'title': 'introduction', 'authors': 'globalized economy, dr. wesley cragg, director gardiner, programme business ethics', 'journal': None, 'month': None, 'year': None, 'publication_type': None}), (861, {'id': '861', 'title': 'introduction.', 'authors': 'ian douglas, zhengjie liu', 'journal': None, 'month': None, 'year': '2011', 'publication_type': 'incollection'})), ((1079, {'id': '1079', 'title': 'introduction', 'authors': 'globalized economy, dr. wesley cragg, director gardiner, programme business ethics', 'journal': None, 'month': None, 'year': None, 'publication_type': None}), (883, {'id': '883', 'title': 'introduction.', 'authors': 'emmanuel dubois 0001, philip d. gray, laurence nigay', 'journal': None, 'month': None, 'year': '2010', 'publication_type': 'incollection'})), ((1079, {'id': '1079', 'title': 'introduction', 'authors': 'globalized economy, dr. wesley cragg, director gardiner, programme business ethics', 'journal': None, 'month': None, 'year': None, 'publication_type': None}), (925, {'id': '925', 'title': 'introduction.', 'authors': 'fabio patern', 'journal': None, 'month': None, 'year': '2011', 'publication_type': 'incollection'})), ((1079, {'id': '1079', 'title': 'introduction', 'authors': 'globalized economy, dr. wesley cragg, director gardiner, programme business ethics', 'journal': None, 'month': None, 'year': None, 'publication_type': None}), (959, {'id': '959', 'title': 'introduction.', 'authors': 'gustavo rossi, daniel schwabe, luis olsina, oscar pastor', 'journal': None, 'month': None, 'year': '2008', 'publication_type': 'incollection'})), ((1079, {'id': '1079', 'title': 'introduction', 'authors': 'globalized economy, dr. wesley cragg, director gardiner, programme business ethics', 'journal': None, 'month': None, 'year': None, 'publication_type': None}), (1120, {'id': '1120', 'title': 'introduction.', 'authors': 'georges g. grinstein, haim levkowitz', 'journal': None, 'month': None, 'year': '1995', 'publication_type': 'incollection'}))]\n"
     ]
    }
   ],
   "source": [
    "# options join(), pairs(), score(), one_to_one(), many_to_one()\n",
    "\n",
    "# use join() and pairs() to illustrate the matching, display the first 10 results\n",
    "join = linker.join(A1, B1, threshold=0.0)\n",
    "print('Using join() method, number of matches = {}'.format(len(join)))\n",
    "print(join[:10])\n",
    "\n",
    "pairs = linker.pairs(A1, B1)\n",
    "pairs_list = list(pairs)\n",
    "print('\\nUsing pairs() method, number of matches = {}'.format(len(pairs_list)))\n",
    "print(pairs_list[:10])\n"
   ]
  },
  {
   "cell_type": "code",
   "execution_count": null,
   "metadata": {},
   "outputs": [],
   "source": []
  }
 ],
 "metadata": {
  "kernelspec": {
   "display_name": "Python 3",
   "language": "python",
   "name": "python3"
  },
  "language_info": {
   "codemirror_mode": {
    "name": "ipython",
    "version": 3
   },
   "file_extension": ".py",
   "mimetype": "text/x-python",
   "name": "python",
   "nbconvert_exporter": "python",
   "pygments_lexer": "ipython3",
   "version": "3.7.9"
  },
  "toc": {
   "base_numbering": 1,
   "nav_menu": {},
   "number_sections": true,
   "sideBar": true,
   "skip_h1_title": false,
   "title_cell": "Table of Contents",
   "title_sidebar": "Contents",
   "toc_cell": false,
   "toc_position": {
    "height": "calc(100% - 180px)",
    "left": "10px",
    "top": "150px",
    "width": "165px"
   },
   "toc_section_display": true,
   "toc_window_display": true
  },
  "varInspector": {
   "cols": {
    "lenName": 16,
    "lenType": 16,
    "lenVar": 40
   },
   "kernels_config": {
    "python": {
     "delete_cmd_postfix": "",
     "delete_cmd_prefix": "del ",
     "library": "var_list.py",
     "varRefreshCmd": "print(var_dic_list())"
    },
    "r": {
     "delete_cmd_postfix": ") ",
     "delete_cmd_prefix": "rm(",
     "library": "var_list.r",
     "varRefreshCmd": "cat(var_dic_list()) "
    }
   },
   "types_to_exclude": [
    "module",
    "function",
    "builtin_function_or_method",
    "instance",
    "_Feature"
   ],
   "window_display": false
  }
 },
 "nbformat": 4,
 "nbformat_minor": 2
}
