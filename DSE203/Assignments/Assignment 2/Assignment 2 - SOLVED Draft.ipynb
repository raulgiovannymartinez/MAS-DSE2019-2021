{
 "cells": [
  {
   "cell_type": "code",
   "execution_count": 1,
   "metadata": {},
   "outputs": [
    {
     "data": {
      "application/javascript": [
       "IPython.OutputArea.prototype._should_scroll = function(lines) {\n",
       "    return false;\n",
       "}"
      ],
      "text/plain": [
       "<IPython.core.display.Javascript object>"
      ]
     },
     "metadata": {},
     "output_type": "display_data"
    }
   ],
   "source": [
    "%%javascript\n",
    "IPython.OutputArea.prototype._should_scroll = function(lines) {\n",
    "    return false;\n",
    "}"
   ]
  },
  {
   "cell_type": "markdown",
   "metadata": {},
   "source": [
    "## Raul G. Martinez\n",
    "## PID: A12461871\n",
    "## UCSD MAS DSE Cohort 6\n",
    "## DSE 203 - Fall 2020\n",
    "**------------------------------------------------------------------------------------------------------------------------------------------------------------------------------------------------------------------**"
   ]
  },
  {
   "cell_type": "markdown",
   "metadata": {},
   "source": [
    "# Instructions\n",
    "\n",
    "## Assignment 2\n",
    "\n",
    "Due Nov 1 by 11:59pm \n",
    "\n",
    "Points 30 \n",
    "\n",
    "Submitting a file upload \n",
    "\n",
    "Available Oct 23 at 12am - Nov 1 at 11:59pm 10 days\n",
    "\n",
    "Data: citeseer.csv and dblp.csv  (in Canvas/Files)\n",
    "\n",
    "\n",
    "**Your task:**\n",
    "\n",
    "Entity Resolution of the two tables using the two different methods shown in class (dedupe and Anhai's py_entitymatching)\n",
    "\n",
    "Your submission should include the  python scripts (includes SQL scripts) + results\n",
    "\n",
    "\n",
    "**Suggested Reference:**\n",
    "\n",
    "Jupyter Notebook I've uploaded: Entity Matching Complete Workflow.ipynb (Canvas/Files/Hands on/EM)\n",
    "\n",
    "Anhai's Entity Matching Guide: https://sites.google.com/site/anhaidgroup/projects/magellan/py_entitymatching (Links to an external site.)\n",
    "\n",
    "dedupe Slides: Canvas/Files/Hands-on Session/dedupe\n",
    "\n",
    "dedupe Examples (A how-to-use guide through example programs): https://github.com/dedupeio/dedupe-examples\n",
    "\n",
    " \n",
    "\n",
    "**Notes:**\n",
    "\n",
    "(1) You have to install all the dependencies first before you can successfully install Anhai's py_entitymatching package\n",
    "\n",
    "(2) If you try running the dedupe examples from this repo: https://github.com/dedupeio/dedupe-examples, (Links to an external site.) you might run into various issues. Read the dedupe Slides (in Canvas) to troubleshoot these."
   ]
  },
  {
   "cell_type": "markdown",
   "metadata": {},
   "source": [
    "# Solution"
   ]
  },
  {
   "cell_type": "markdown",
   "metadata": {},
   "source": [
    "## Method 1: Anahi's py_entitymatching"
   ]
  },
  {
   "cell_type": "code",
   "execution_count": 2,
   "metadata": {},
   "outputs": [
    {
     "name": "stdout",
     "output_type": "stream",
     "text": [
      "Python 3.7.9\n"
     ]
    }
   ],
   "source": [
    "# display python version used\n",
    "!python --version"
   ]
  },
  {
   "cell_type": "code",
   "execution_count": 3,
   "metadata": {},
   "outputs": [],
   "source": [
    "import py_entitymatching as em\n",
    "import py_stringmatching as sm\n",
    "import pandas as pd\n",
    "import os, sys"
   ]
  },
  {
   "cell_type": "markdown",
   "metadata": {},
   "source": [
    "## Prepare the dataset"
   ]
  },
  {
   "cell_type": "code",
   "execution_count": 4,
   "metadata": {},
   "outputs": [
    {
     "name": "stderr",
     "output_type": "stream",
     "text": [
      "Metadata file is not present in the given path; proceeding to read the csv file.\n",
      "Metadata file is not present in the given path; proceeding to read the csv file.\n"
     ]
    }
   ],
   "source": [
    "## Read dataset\n",
    "A = em.read_csv_metadata('../../Data for Assignments/citeseer.csv',low_memory=False) # setting the parameter low_memory to False  to speed up loading.\n",
    "B = em.read_csv_metadata('../../Data for Assignments/dblp.csv', low_memory=False)"
   ]
  },
  {
   "cell_type": "code",
   "execution_count": 5,
   "metadata": {},
   "outputs": [],
   "source": [
    "A = A[:100000]\n",
    "B = B[:100000]"
   ]
  },
  {
   "cell_type": "code",
   "execution_count": 6,
   "metadata": {},
   "outputs": [
    {
     "data": {
      "text/plain": [
       "(100000, 100000)"
      ]
     },
     "execution_count": 6,
     "metadata": {},
     "output_type": "execute_result"
    }
   ],
   "source": [
    "len(A), len(B)"
   ]
  },
  {
   "cell_type": "code",
   "execution_count": 7,
   "metadata": {},
   "outputs": [
    {
     "data": {
      "text/plain": [
       "id                       0\n",
       "title                    6\n",
       "authors                  0\n",
       "journal              99992\n",
       "month               100000\n",
       "year                 80697\n",
       "publication_type     99991\n",
       "dtype: int64"
      ]
     },
     "execution_count": 7,
     "metadata": {},
     "output_type": "execute_result"
    }
   ],
   "source": [
    "# find number of null values\n",
    "A.isnull().sum()"
   ]
  },
  {
   "cell_type": "code",
   "execution_count": 8,
   "metadata": {},
   "outputs": [
    {
     "data": {
      "text/plain": [
       "id                       0\n",
       "title                    0\n",
       "authors                  0\n",
       "journal             100000\n",
       "month               100000\n",
       "year                     0\n",
       "publication_type         0\n",
       "dtype: int64"
      ]
     },
     "execution_count": 8,
     "metadata": {},
     "output_type": "execute_result"
    }
   ],
   "source": [
    "# find number of null values\n",
    "B.isnull().sum()"
   ]
  },
  {
   "cell_type": "code",
   "execution_count": 9,
   "metadata": {},
   "outputs": [
    {
     "data": {
      "text/html": [
       "<div>\n",
       "<style scoped>\n",
       "    .dataframe tbody tr th:only-of-type {\n",
       "        vertical-align: middle;\n",
       "    }\n",
       "\n",
       "    .dataframe tbody tr th {\n",
       "        vertical-align: top;\n",
       "    }\n",
       "\n",
       "    .dataframe thead th {\n",
       "        text-align: right;\n",
       "    }\n",
       "</style>\n",
       "<table border=\"1\" class=\"dataframe\">\n",
       "  <thead>\n",
       "    <tr style=\"text-align: right;\">\n",
       "      <th></th>\n",
       "      <th>id</th>\n",
       "      <th>title</th>\n",
       "      <th>authors</th>\n",
       "      <th>journal</th>\n",
       "      <th>month</th>\n",
       "      <th>year</th>\n",
       "      <th>publication_type</th>\n",
       "    </tr>\n",
       "  </thead>\n",
       "  <tbody>\n",
       "    <tr>\n",
       "      <th>0</th>\n",
       "      <td>1</td>\n",
       "      <td>An Arithmetic Analogue of Bezouts Theorem</td>\n",
       "      <td>David Mckinnon</td>\n",
       "      <td>NaN</td>\n",
       "      <td>NaN</td>\n",
       "      <td>NaN</td>\n",
       "      <td>NaN</td>\n",
       "    </tr>\n",
       "    <tr>\n",
       "      <th>1</th>\n",
       "      <td>2</td>\n",
       "      <td>Thompsons Group F is Not Minimally Almost Convex</td>\n",
       "      <td>James Belk, Kai-uwe Bux</td>\n",
       "      <td>NaN</td>\n",
       "      <td>NaN</td>\n",
       "      <td>2002.0</td>\n",
       "      <td>NaN</td>\n",
       "    </tr>\n",
       "    <tr>\n",
       "      <th>2</th>\n",
       "      <td>3</td>\n",
       "      <td>Cognitive Dimensions Tradeoffs in Tangible User Interface Design</td>\n",
       "      <td>Darren Edge, Alan Blackwell</td>\n",
       "      <td>NaN</td>\n",
       "      <td>NaN</td>\n",
       "      <td>NaN</td>\n",
       "      <td>NaN</td>\n",
       "    </tr>\n",
       "    <tr>\n",
       "      <th>3</th>\n",
       "      <td>4</td>\n",
       "      <td>ACTIVITY NOUNS, UNACCUSATIVITY, AND ARGUMENT MARKING IN YUKATEKAN SSILA meeting; Special Session...</td>\n",
       "      <td>J. Bohnemeyer, Max Planck, I. Introduction</td>\n",
       "      <td>NaN</td>\n",
       "      <td>NaN</td>\n",
       "      <td>2002.0</td>\n",
       "      <td>NaN</td>\n",
       "    </tr>\n",
       "    <tr>\n",
       "      <th>4</th>\n",
       "      <td>5</td>\n",
       "      <td>PS1-6 A6 ULTRASOUND-GUIDED HIFU NEUROLYSIS OF PERIPHERAL NERVES TO TREAT SPASTICITY AND</td>\n",
       "      <td>J. L. Foley, J. W. Little, F. L. Starr Iii, C. Frantz</td>\n",
       "      <td>NaN</td>\n",
       "      <td>NaN</td>\n",
       "      <td>NaN</td>\n",
       "      <td>NaN</td>\n",
       "    </tr>\n",
       "  </tbody>\n",
       "</table>\n",
       "</div>"
      ],
      "text/plain": [
       "   id  \\\n",
       "0   1   \n",
       "1   2   \n",
       "2   3   \n",
       "3   4   \n",
       "4   5   \n",
       "\n",
       "                                                                                                 title  \\\n",
       "0                                                            An Arithmetic Analogue of Bezouts Theorem   \n",
       "1                                                     Thompsons Group F is Not Minimally Almost Convex   \n",
       "2                                     Cognitive Dimensions Tradeoffs in Tangible User Interface Design   \n",
       "3  ACTIVITY NOUNS, UNACCUSATIVITY, AND ARGUMENT MARKING IN YUKATEKAN SSILA meeting; Special Session...   \n",
       "4              PS1-6 A6 ULTRASOUND-GUIDED HIFU NEUROLYSIS OF PERIPHERAL NERVES TO TREAT SPASTICITY AND   \n",
       "\n",
       "                                                 authors journal  month  \\\n",
       "0                                         David Mckinnon     NaN    NaN   \n",
       "1                                James Belk, Kai-uwe Bux     NaN    NaN   \n",
       "2                            Darren Edge, Alan Blackwell     NaN    NaN   \n",
       "3             J. Bohnemeyer, Max Planck, I. Introduction     NaN    NaN   \n",
       "4  J. L. Foley, J. W. Little, F. L. Starr Iii, C. Frantz     NaN    NaN   \n",
       "\n",
       "     year publication_type  \n",
       "0     NaN              NaN  \n",
       "1  2002.0              NaN  \n",
       "2     NaN              NaN  \n",
       "3  2002.0              NaN  \n",
       "4     NaN              NaN  "
      ]
     },
     "execution_count": 9,
     "metadata": {},
     "output_type": "execute_result"
    }
   ],
   "source": [
    "A.head()"
   ]
  },
  {
   "cell_type": "code",
   "execution_count": 10,
   "metadata": {},
   "outputs": [
    {
     "data": {
      "text/html": [
       "<div>\n",
       "<style scoped>\n",
       "    .dataframe tbody tr th:only-of-type {\n",
       "        vertical-align: middle;\n",
       "    }\n",
       "\n",
       "    .dataframe tbody tr th {\n",
       "        vertical-align: top;\n",
       "    }\n",
       "\n",
       "    .dataframe thead th {\n",
       "        text-align: right;\n",
       "    }\n",
       "</style>\n",
       "<table border=\"1\" class=\"dataframe\">\n",
       "  <thead>\n",
       "    <tr style=\"text-align: right;\">\n",
       "      <th></th>\n",
       "      <th>id</th>\n",
       "      <th>title</th>\n",
       "      <th>authors</th>\n",
       "      <th>journal</th>\n",
       "      <th>month</th>\n",
       "      <th>year</th>\n",
       "      <th>publication_type</th>\n",
       "    </tr>\n",
       "  </thead>\n",
       "  <tbody>\n",
       "    <tr>\n",
       "      <th>0</th>\n",
       "      <td>1</td>\n",
       "      <td>Klaus Tschira Stiftung gemeinntzige GmbH, KTS</td>\n",
       "      <td>Klaus Tschira</td>\n",
       "      <td>NaN</td>\n",
       "      <td>NaN</td>\n",
       "      <td>2012</td>\n",
       "      <td>www</td>\n",
       "    </tr>\n",
       "    <tr>\n",
       "      <th>1</th>\n",
       "      <td>2</td>\n",
       "      <td>The SGML/XML Web Page</td>\n",
       "      <td>Robin Cover</td>\n",
       "      <td>NaN</td>\n",
       "      <td>NaN</td>\n",
       "      <td>2006</td>\n",
       "      <td>www</td>\n",
       "    </tr>\n",
       "    <tr>\n",
       "      <th>2</th>\n",
       "      <td>3</td>\n",
       "      <td>The Future of Classic Data Administration: Objects + Databases + CASE</td>\n",
       "      <td>Arnon Rosenthal</td>\n",
       "      <td>NaN</td>\n",
       "      <td>NaN</td>\n",
       "      <td>1998</td>\n",
       "      <td>www</td>\n",
       "    </tr>\n",
       "    <tr>\n",
       "      <th>3</th>\n",
       "      <td>4</td>\n",
       "      <td>XML Query Data Model</td>\n",
       "      <td>Mary F. Fernandez, Jonathan Robie</td>\n",
       "      <td>NaN</td>\n",
       "      <td>NaN</td>\n",
       "      <td>2001</td>\n",
       "      <td>www</td>\n",
       "    </tr>\n",
       "    <tr>\n",
       "      <th>4</th>\n",
       "      <td>5</td>\n",
       "      <td>The XML Query Algebra</td>\n",
       "      <td>Peter Fankhauser, Mary F. Fernndez, Ashok Malhotra, Michael Rys, Jrme Simon, Philip Wadler</td>\n",
       "      <td>NaN</td>\n",
       "      <td>NaN</td>\n",
       "      <td>2001</td>\n",
       "      <td>www</td>\n",
       "    </tr>\n",
       "  </tbody>\n",
       "</table>\n",
       "</div>"
      ],
      "text/plain": [
       "   id                                                                  title  \\\n",
       "0   1                          Klaus Tschira Stiftung gemeinntzige GmbH, KTS   \n",
       "1   2                                                  The SGML/XML Web Page   \n",
       "2   3  The Future of Classic Data Administration: Objects + Databases + CASE   \n",
       "3   4                                                   XML Query Data Model   \n",
       "4   5                                                  The XML Query Algebra   \n",
       "\n",
       "                                                                                      authors  \\\n",
       "0                                                                               Klaus Tschira   \n",
       "1                                                                                 Robin Cover   \n",
       "2                                                                             Arnon Rosenthal   \n",
       "3                                                           Mary F. Fernandez, Jonathan Robie   \n",
       "4  Peter Fankhauser, Mary F. Fernndez, Ashok Malhotra, Michael Rys, Jrme Simon, Philip Wadler   \n",
       "\n",
       "  journal month  year publication_type  \n",
       "0     NaN   NaN  2012              www  \n",
       "1     NaN   NaN  2006              www  \n",
       "2     NaN   NaN  1998              www  \n",
       "3     NaN   NaN  2001              www  \n",
       "4     NaN   NaN  2001              www  "
      ]
     },
     "execution_count": 10,
     "metadata": {},
     "output_type": "execute_result"
    }
   ],
   "source": [
    "B.head()"
   ]
  },
  {
   "cell_type": "code",
   "execution_count": 11,
   "metadata": {},
   "outputs": [],
   "source": [
    "# drop all nan columns\n",
    "A = A.drop(columns=['journal','month','year','publication_type'])\n",
    "B = B.drop(columns=['journal','month','year','publication_type'])"
   ]
  },
  {
   "cell_type": "code",
   "execution_count": 12,
   "metadata": {},
   "outputs": [
    {
     "data": {
      "text/plain": [
       "True"
      ]
     },
     "execution_count": 12,
     "metadata": {},
     "output_type": "execute_result"
    }
   ],
   "source": [
    "# Set 'id' as the keys to the input tables\n",
    "em.set_key(A, 'id')\n",
    "em.set_key(B, 'id')"
   ]
  },
  {
   "cell_type": "code",
   "execution_count": 13,
   "metadata": {},
   "outputs": [
    {
     "data": {
      "text/html": [
       "<div>\n",
       "<style scoped>\n",
       "    .dataframe tbody tr th:only-of-type {\n",
       "        vertical-align: middle;\n",
       "    }\n",
       "\n",
       "    .dataframe tbody tr th {\n",
       "        vertical-align: top;\n",
       "    }\n",
       "\n",
       "    .dataframe thead th {\n",
       "        text-align: right;\n",
       "    }\n",
       "</style>\n",
       "<table border=\"1\" class=\"dataframe\">\n",
       "  <thead>\n",
       "    <tr style=\"text-align: right;\">\n",
       "      <th></th>\n",
       "      <th>id</th>\n",
       "      <th>title</th>\n",
       "      <th>authors</th>\n",
       "    </tr>\n",
       "  </thead>\n",
       "  <tbody>\n",
       "    <tr>\n",
       "      <th>0</th>\n",
       "      <td>1</td>\n",
       "      <td>An Arithmetic Analogue of Bezouts Theorem</td>\n",
       "      <td>David Mckinnon</td>\n",
       "    </tr>\n",
       "    <tr>\n",
       "      <th>1</th>\n",
       "      <td>2</td>\n",
       "      <td>Thompsons Group F is Not Minimally Almost Convex</td>\n",
       "      <td>James Belk, Kai-uwe Bux</td>\n",
       "    </tr>\n",
       "    <tr>\n",
       "      <th>2</th>\n",
       "      <td>3</td>\n",
       "      <td>Cognitive Dimensions Tradeoffs in Tangible User Interface Design</td>\n",
       "      <td>Darren Edge, Alan Blackwell</td>\n",
       "    </tr>\n",
       "    <tr>\n",
       "      <th>3</th>\n",
       "      <td>4</td>\n",
       "      <td>ACTIVITY NOUNS, UNACCUSATIVITY, AND ARGUMENT MARKING IN YUKATEKAN SSILA meeting; Special Session...</td>\n",
       "      <td>J. Bohnemeyer, Max Planck, I. Introduction</td>\n",
       "    </tr>\n",
       "    <tr>\n",
       "      <th>4</th>\n",
       "      <td>5</td>\n",
       "      <td>PS1-6 A6 ULTRASOUND-GUIDED HIFU NEUROLYSIS OF PERIPHERAL NERVES TO TREAT SPASTICITY AND</td>\n",
       "      <td>J. L. Foley, J. W. Little, F. L. Starr Iii, C. Frantz</td>\n",
       "    </tr>\n",
       "  </tbody>\n",
       "</table>\n",
       "</div>"
      ],
      "text/plain": [
       "   id  \\\n",
       "0   1   \n",
       "1   2   \n",
       "2   3   \n",
       "3   4   \n",
       "4   5   \n",
       "\n",
       "                                                                                                 title  \\\n",
       "0                                                            An Arithmetic Analogue of Bezouts Theorem   \n",
       "1                                                     Thompsons Group F is Not Minimally Almost Convex   \n",
       "2                                     Cognitive Dimensions Tradeoffs in Tangible User Interface Design   \n",
       "3  ACTIVITY NOUNS, UNACCUSATIVITY, AND ARGUMENT MARKING IN YUKATEKAN SSILA meeting; Special Session...   \n",
       "4              PS1-6 A6 ULTRASOUND-GUIDED HIFU NEUROLYSIS OF PERIPHERAL NERVES TO TREAT SPASTICITY AND   \n",
       "\n",
       "                                                 authors  \n",
       "0                                         David Mckinnon  \n",
       "1                                James Belk, Kai-uwe Bux  \n",
       "2                            Darren Edge, Alan Blackwell  \n",
       "3             J. Bohnemeyer, Max Planck, I. Introduction  \n",
       "4  J. L. Foley, J. W. Little, F. L. Starr Iii, C. Frantz  "
      ]
     },
     "execution_count": 13,
     "metadata": {},
     "output_type": "execute_result"
    }
   ],
   "source": [
    "A.head()"
   ]
  },
  {
   "cell_type": "code",
   "execution_count": 14,
   "metadata": {},
   "outputs": [
    {
     "data": {
      "text/html": [
       "<div>\n",
       "<style scoped>\n",
       "    .dataframe tbody tr th:only-of-type {\n",
       "        vertical-align: middle;\n",
       "    }\n",
       "\n",
       "    .dataframe tbody tr th {\n",
       "        vertical-align: top;\n",
       "    }\n",
       "\n",
       "    .dataframe thead th {\n",
       "        text-align: right;\n",
       "    }\n",
       "</style>\n",
       "<table border=\"1\" class=\"dataframe\">\n",
       "  <thead>\n",
       "    <tr style=\"text-align: right;\">\n",
       "      <th></th>\n",
       "      <th>id</th>\n",
       "      <th>title</th>\n",
       "      <th>authors</th>\n",
       "    </tr>\n",
       "  </thead>\n",
       "  <tbody>\n",
       "    <tr>\n",
       "      <th>0</th>\n",
       "      <td>1</td>\n",
       "      <td>Klaus Tschira Stiftung gemeinntzige GmbH, KTS</td>\n",
       "      <td>Klaus Tschira</td>\n",
       "    </tr>\n",
       "    <tr>\n",
       "      <th>1</th>\n",
       "      <td>2</td>\n",
       "      <td>The SGML/XML Web Page</td>\n",
       "      <td>Robin Cover</td>\n",
       "    </tr>\n",
       "    <tr>\n",
       "      <th>2</th>\n",
       "      <td>3</td>\n",
       "      <td>The Future of Classic Data Administration: Objects + Databases + CASE</td>\n",
       "      <td>Arnon Rosenthal</td>\n",
       "    </tr>\n",
       "    <tr>\n",
       "      <th>3</th>\n",
       "      <td>4</td>\n",
       "      <td>XML Query Data Model</td>\n",
       "      <td>Mary F. Fernandez, Jonathan Robie</td>\n",
       "    </tr>\n",
       "    <tr>\n",
       "      <th>4</th>\n",
       "      <td>5</td>\n",
       "      <td>The XML Query Algebra</td>\n",
       "      <td>Peter Fankhauser, Mary F. Fernndez, Ashok Malhotra, Michael Rys, Jrme Simon, Philip Wadler</td>\n",
       "    </tr>\n",
       "  </tbody>\n",
       "</table>\n",
       "</div>"
      ],
      "text/plain": [
       "   id                                                                  title  \\\n",
       "0   1                          Klaus Tschira Stiftung gemeinntzige GmbH, KTS   \n",
       "1   2                                                  The SGML/XML Web Page   \n",
       "2   3  The Future of Classic Data Administration: Objects + Databases + CASE   \n",
       "3   4                                                   XML Query Data Model   \n",
       "4   5                                                  The XML Query Algebra   \n",
       "\n",
       "                                                                                      authors  \n",
       "0                                                                               Klaus Tschira  \n",
       "1                                                                                 Robin Cover  \n",
       "2                                                                             Arnon Rosenthal  \n",
       "3                                                           Mary F. Fernandez, Jonathan Robie  \n",
       "4  Peter Fankhauser, Mary F. Fernndez, Ashok Malhotra, Michael Rys, Jrme Simon, Philip Wadler  "
      ]
     },
     "execution_count": 14,
     "metadata": {},
     "output_type": "execute_result"
    }
   ],
   "source": [
    "B.head()"
   ]
  },
  {
   "cell_type": "markdown",
   "metadata": {},
   "source": [
    "## Downsampling"
   ]
  },
  {
   "cell_type": "code",
   "execution_count": 15,
   "metadata": {
    "scrolled": true
   },
   "outputs": [
    {
     "name": "stderr",
     "output_type": "stream",
     "text": [
      "c:\\users\\rmartinez4\\anaconda3\\envs\\py37\\lib\\site-packages\\py_entitymatching\\sampler\\down_sample.py:354: FutureWarning: The pandas.np module is deprecated and will be removed from pandas in a future version. Import numpy directly instead\n",
      "  sample_table_splits = pd.np.array_split(sample_table_b, n_jobs)\n"
     ]
    }
   ],
   "source": [
    "# Downsample the datasets \n",
    "sample_A, sample_B = em.down_sample(A, B, size=100, y_param=1, show_progress=True, n_jobs=-1)"
   ]
  },
  {
   "cell_type": "code",
   "execution_count": 16,
   "metadata": {},
   "outputs": [
    {
     "data": {
      "text/plain": [
       "(99, 100)"
      ]
     },
     "execution_count": 16,
     "metadata": {},
     "output_type": "execute_result"
    }
   ],
   "source": [
    "# Display the number of tuples in the sampled datasets\n",
    "len(sample_A), len(sample_B)"
   ]
  },
  {
   "cell_type": "code",
   "execution_count": 17,
   "metadata": {},
   "outputs": [
    {
     "name": "stdout",
     "output_type": "stream",
     "text": [
      "id: 1641593909512\n",
      "key: id\n"
     ]
    }
   ],
   "source": [
    "# Show the metadata of sample_A, sample_B\n",
    "em.show_properties(sample_A)"
   ]
  },
  {
   "cell_type": "code",
   "execution_count": 18,
   "metadata": {},
   "outputs": [
    {
     "name": "stdout",
     "output_type": "stream",
     "text": [
      "id: 1641594146376\n",
      "key: id\n"
     ]
    }
   ],
   "source": [
    "em.show_properties(sample_B)"
   ]
  },
  {
   "cell_type": "code",
   "execution_count": 19,
   "metadata": {},
   "outputs": [
    {
     "data": {
      "text/plain": [
       "id         0\n",
       "title      0\n",
       "authors    0\n",
       "dtype: int64"
      ]
     },
     "execution_count": 19,
     "metadata": {},
     "output_type": "execute_result"
    }
   ],
   "source": [
    "sample_A.isnull().sum()"
   ]
  },
  {
   "cell_type": "code",
   "execution_count": 20,
   "metadata": {},
   "outputs": [
    {
     "data": {
      "text/plain": [
       "id         0\n",
       "title      0\n",
       "authors    0\n",
       "dtype: int64"
      ]
     },
     "execution_count": 20,
     "metadata": {},
     "output_type": "execute_result"
    }
   ],
   "source": [
    "sample_B.isnull().sum()"
   ]
  },
  {
   "cell_type": "code",
   "execution_count": 21,
   "metadata": {},
   "outputs": [
    {
     "data": {
      "text/html": [
       "<div>\n",
       "<style scoped>\n",
       "    .dataframe tbody tr th:only-of-type {\n",
       "        vertical-align: middle;\n",
       "    }\n",
       "\n",
       "    .dataframe tbody tr th {\n",
       "        vertical-align: top;\n",
       "    }\n",
       "\n",
       "    .dataframe thead th {\n",
       "        text-align: right;\n",
       "    }\n",
       "</style>\n",
       "<table border=\"1\" class=\"dataframe\">\n",
       "  <thead>\n",
       "    <tr style=\"text-align: right;\">\n",
       "      <th></th>\n",
       "      <th>id</th>\n",
       "      <th>title</th>\n",
       "      <th>authors</th>\n",
       "    </tr>\n",
       "  </thead>\n",
       "  <tbody>\n",
       "    <tr>\n",
       "      <th>2576</th>\n",
       "      <td>2577</td>\n",
       "      <td>Towards Using Simulation to Evaluate Safety Policy for Systems of Systems</td>\n",
       "      <td>Robert Alex, Martin Hall-may, Georgios Despotou, Tim Kelly</td>\n",
       "    </tr>\n",
       "    <tr>\n",
       "      <th>34849</th>\n",
       "      <td>34850</td>\n",
       "      <td>Using the Castle Metaphor to Communicate Basic Concepts in Cybersecurity Education</td>\n",
       "      <td>G. Markowsky, L. Markowsky</td>\n",
       "    </tr>\n",
       "    <tr>\n",
       "      <th>48</th>\n",
       "      <td>49</td>\n",
       "      <td>Oral Presentation Halogen-Free Process for the Conversion of Carbon Dioxide to</td>\n",
       "      <td>Urethanes Homogeneous Catalysis, Mahmut Abla, Jun-chul Choi, Toshiyasu Sakakura, Bunh Co Etoh, E...</td>\n",
       "    </tr>\n",
       "    <tr>\n",
       "      <th>1595</th>\n",
       "      <td>1596</td>\n",
       "      <td>AN IDENTITY RELATED TO THE RIESZ TRANSFORMS ON THE HEISENBERG GROUP DER-CHEN CHANG AND JINGZHI TIE</td>\n",
       "      <td>Dedicated Professor, Stephen Wainger</td>\n",
       "    </tr>\n",
       "    <tr>\n",
       "      <th>6205</th>\n",
       "      <td>6206</td>\n",
       "      <td>Parallel Distributed Processing Challenges the Strong Modularity Hypothesis, Not the Locality As...</td>\n",
       "      <td>David C. Plaut</td>\n",
       "    </tr>\n",
       "  </tbody>\n",
       "</table>\n",
       "</div>"
      ],
      "text/plain": [
       "          id  \\\n",
       "2576    2577   \n",
       "34849  34850   \n",
       "48        49   \n",
       "1595    1596   \n",
       "6205    6206   \n",
       "\n",
       "                                                                                                     title  \\\n",
       "2576                             Towards Using Simulation to Evaluate Safety Policy for Systems of Systems   \n",
       "34849                   Using the Castle Metaphor to Communicate Basic Concepts in Cybersecurity Education   \n",
       "48                          Oral Presentation Halogen-Free Process for the Conversion of Carbon Dioxide to   \n",
       "1595    AN IDENTITY RELATED TO THE RIESZ TRANSFORMS ON THE HEISENBERG GROUP DER-CHEN CHANG AND JINGZHI TIE   \n",
       "6205   Parallel Distributed Processing Challenges the Strong Modularity Hypothesis, Not the Locality As...   \n",
       "\n",
       "                                                                                                   authors  \n",
       "2576                                            Robert Alex, Martin Hall-may, Georgios Despotou, Tim Kelly  \n",
       "34849                                                                           G. Markowsky, L. Markowsky  \n",
       "48     Urethanes Homogeneous Catalysis, Mahmut Abla, Jun-chul Choi, Toshiyasu Sakakura, Bunh Co Etoh, E...  \n",
       "1595                                                                  Dedicated Professor, Stephen Wainger  \n",
       "6205                                                                                        David C. Plaut  "
      ]
     },
     "execution_count": 21,
     "metadata": {},
     "output_type": "execute_result"
    }
   ],
   "source": [
    "sample_A.head()"
   ]
  },
  {
   "cell_type": "code",
   "execution_count": 22,
   "metadata": {},
   "outputs": [
    {
     "data": {
      "text/html": [
       "<div>\n",
       "<style scoped>\n",
       "    .dataframe tbody tr th:only-of-type {\n",
       "        vertical-align: middle;\n",
       "    }\n",
       "\n",
       "    .dataframe tbody tr th {\n",
       "        vertical-align: top;\n",
       "    }\n",
       "\n",
       "    .dataframe thead th {\n",
       "        text-align: right;\n",
       "    }\n",
       "</style>\n",
       "<table border=\"1\" class=\"dataframe\">\n",
       "  <thead>\n",
       "    <tr style=\"text-align: right;\">\n",
       "      <th></th>\n",
       "      <th>id</th>\n",
       "      <th>title</th>\n",
       "      <th>authors</th>\n",
       "    </tr>\n",
       "  </thead>\n",
       "  <tbody>\n",
       "    <tr>\n",
       "      <th>18131</th>\n",
       "      <td>18132</td>\n",
       "      <td>An Experimental Study of Vietnamese Question Answering System.</td>\n",
       "      <td>Vu Mai Tran, Vinh Duc Nguyen, Oanh Thi Tran, Uyen Thu Thi Pham, Thuy Quang Ha</td>\n",
       "    </tr>\n",
       "    <tr>\n",
       "      <th>75332</th>\n",
       "      <td>75333</td>\n",
       "      <td>A new algorithm for third generation circuit simulators: the one-step relaxation method.</td>\n",
       "      <td>B. Hennion, P. Senn, D. Coquelle</td>\n",
       "    </tr>\n",
       "    <tr>\n",
       "      <th>71924</th>\n",
       "      <td>71925</td>\n",
       "      <td>High Level Modelling and Design For a Microthreaded Scheduler to Support Microgrids.</td>\n",
       "      <td>Nabil Hasasneh, Ian Bell, Chris R. Jesshope</td>\n",
       "    </tr>\n",
       "    <tr>\n",
       "      <th>71550</th>\n",
       "      <td>71551</td>\n",
       "      <td>Advanced Relay Nodes for Adaptive Network Services - Concept and Prototype Experiment.</td>\n",
       "      <td>Masayoshi Shimamura, Takeshi Ikenaga, Masato Tsuru</td>\n",
       "    </tr>\n",
       "    <tr>\n",
       "      <th>89063</th>\n",
       "      <td>89064</td>\n",
       "      <td>Spatio-temporal Information Systems in a Statistical Context.</td>\n",
       "      <td>Leonardo Tininini, Mario Paolucci, Giuseppe Sindoni, Stefano De Francisci</td>\n",
       "    </tr>\n",
       "  </tbody>\n",
       "</table>\n",
       "</div>"
      ],
      "text/plain": [
       "          id  \\\n",
       "18131  18132   \n",
       "75332  75333   \n",
       "71924  71925   \n",
       "71550  71551   \n",
       "89063  89064   \n",
       "\n",
       "                                                                                          title  \\\n",
       "18131                            An Experimental Study of Vietnamese Question Answering System.   \n",
       "75332  A new algorithm for third generation circuit simulators: the one-step relaxation method.   \n",
       "71924      High Level Modelling and Design For a Microthreaded Scheduler to Support Microgrids.   \n",
       "71550    Advanced Relay Nodes for Adaptive Network Services - Concept and Prototype Experiment.   \n",
       "89063                             Spatio-temporal Information Systems in a Statistical Context.   \n",
       "\n",
       "                                                                             authors  \n",
       "18131  Vu Mai Tran, Vinh Duc Nguyen, Oanh Thi Tran, Uyen Thu Thi Pham, Thuy Quang Ha  \n",
       "75332                                               B. Hennion, P. Senn, D. Coquelle  \n",
       "71924                                    Nabil Hasasneh, Ian Bell, Chris R. Jesshope  \n",
       "71550                             Masayoshi Shimamura, Takeshi Ikenaga, Masato Tsuru  \n",
       "89063      Leonardo Tininini, Mario Paolucci, Giuseppe Sindoni, Stefano De Francisci  "
      ]
     },
     "execution_count": 22,
     "metadata": {},
     "output_type": "execute_result"
    }
   ],
   "source": [
    "sample_B.head()"
   ]
  },
  {
   "cell_type": "markdown",
   "metadata": {},
   "source": [
    "## Data Exploration"
   ]
  },
  {
   "cell_type": "code",
   "execution_count": 23,
   "metadata": {},
   "outputs": [],
   "source": [
    "## Open OpenRefine Server"
   ]
  },
  {
   "cell_type": "markdown",
   "metadata": {},
   "source": [
    "## Blocking"
   ]
  },
  {
   "cell_type": "markdown",
   "metadata": {},
   "source": [
    "### Checking similarities"
   ]
  },
  {
   "cell_type": "code",
   "execution_count": 25,
   "metadata": {},
   "outputs": [],
   "source": [
    "# ws_tok_set = sm.WhitespaceTokenizer(return_set=True)"
   ]
  },
  {
   "cell_type": "code",
   "execution_count": 26,
   "metadata": {},
   "outputs": [],
   "source": [
    "# jac = sm.Jaccard()\n",
    "# lev = sm.Levenshtein()"
   ]
  },
  {
   "cell_type": "code",
   "execution_count": 27,
   "metadata": {},
   "outputs": [],
   "source": [
    "# x = 'Evaluating Probabilistic Queries over Imprecise Data'\n",
    "# y = 'Evaluating probabilistic queries over imprecise data'"
   ]
  },
  {
   "cell_type": "code",
   "execution_count": 28,
   "metadata": {},
   "outputs": [],
   "source": [
    "# jac.get_raw_score(ws_tok_set.tokenize(x.lower()), ws_tok_set.tokenize(y.lower()))"
   ]
  },
  {
   "cell_type": "code",
   "execution_count": 29,
   "metadata": {},
   "outputs": [],
   "source": [
    "# lev.get_sim_score(x, y)"
   ]
  },
  {
   "cell_type": "code",
   "execution_count": 38,
   "metadata": {},
   "outputs": [
    {
     "data": {
      "text/plain": [
       "'_rule_0'"
      ]
     },
     "execution_count": 38,
     "metadata": {},
     "output_type": "execute_result"
    }
   ],
   "source": [
    "# use rule-based blocker\n",
    "rb = em.RuleBasedBlocker()\n",
    "rb.add_rule(['title_title_jac_qgm_3_qgm_3(ltuple, rtuple) < 0.4'], feature_table)"
   ]
  },
  {
   "cell_type": "code",
   "execution_count": 39,
   "metadata": {},
   "outputs": [
    {
     "name": "stderr",
     "output_type": "stream",
     "text": [
      "c:\\users\\rmartinez4\\anaconda3\\envs\\py37\\lib\\site-packages\\py_stringsimjoin\\utils\\converter.py:99: FutureWarning: The pandas.np module is deprecated and will be removed from pandas in a future version. Import numpy directly instead\n",
      "  if col_type == pd.np.object:\n",
      "c:\\users\\rmartinez4\\anaconda3\\envs\\py37\\lib\\site-packages\\py_stringsimjoin\\utils\\validation.py:30: FutureWarning: The pandas.np module is deprecated and will be removed from pandas in a future version. Import numpy directly instead\n",
      "  if attr_type != pd.np.object:\n"
     ]
    }
   ],
   "source": [
    "C1 = rb.block_tables(sample_A, sample_B, l_output_attrs=['title', 'authors'], r_output_attrs=['title', 'authors'], show_progress=False)"
   ]
  },
  {
   "cell_type": "code",
   "execution_count": 40,
   "metadata": {},
   "outputs": [
    {
     "data": {
      "text/plain": [
       "1"
      ]
     },
     "execution_count": 40,
     "metadata": {},
     "output_type": "execute_result"
    }
   ],
   "source": [
    "len(C1)"
   ]
  },
  {
   "cell_type": "code",
   "execution_count": 41,
   "metadata": {},
   "outputs": [
    {
     "data": {
      "text/html": [
       "<div>\n",
       "<style scoped>\n",
       "    .dataframe tbody tr th:only-of-type {\n",
       "        vertical-align: middle;\n",
       "    }\n",
       "\n",
       "    .dataframe tbody tr th {\n",
       "        vertical-align: top;\n",
       "    }\n",
       "\n",
       "    .dataframe thead th {\n",
       "        text-align: right;\n",
       "    }\n",
       "</style>\n",
       "<table border=\"1\" class=\"dataframe\">\n",
       "  <thead>\n",
       "    <tr style=\"text-align: right;\">\n",
       "      <th></th>\n",
       "      <th>_id</th>\n",
       "      <th>ltable_id</th>\n",
       "      <th>rtable_id</th>\n",
       "      <th>ltable_title</th>\n",
       "      <th>ltable_authors</th>\n",
       "      <th>rtable_title</th>\n",
       "      <th>rtable_authors</th>\n",
       "    </tr>\n",
       "  </thead>\n",
       "  <tbody>\n",
       "    <tr>\n",
       "      <th>0</th>\n",
       "      <td>0</td>\n",
       "      <td>98104</td>\n",
       "      <td>8015</td>\n",
       "      <td>Distance Bounding Protocols: Authentication Logic Analysis and Collusion Attacks</td>\n",
       "      <td>Catherine Meadows, Radha Poovendran, Dusko Pavlovic, Liwu Chang, Paul Syverson</td>\n",
       "      <td>Distance Bounding Protocols: Authentication Logic Analysis and Collusion Attacks.</td>\n",
       "      <td>Catherine Meadows, Radha Poovendran, Dusko Pavlovic, LiWu Chang, Paul F. Syverson</td>\n",
       "    </tr>\n",
       "  </tbody>\n",
       "</table>\n",
       "</div>"
      ],
      "text/plain": [
       "   _id ltable_id rtable_id  \\\n",
       "0    0     98104      8015   \n",
       "\n",
       "                                                                       ltable_title  \\\n",
       "0  Distance Bounding Protocols: Authentication Logic Analysis and Collusion Attacks   \n",
       "\n",
       "                                                                   ltable_authors  \\\n",
       "0  Catherine Meadows, Radha Poovendran, Dusko Pavlovic, Liwu Chang, Paul Syverson   \n",
       "\n",
       "                                                                        rtable_title  \\\n",
       "0  Distance Bounding Protocols: Authentication Logic Analysis and Collusion Attacks.   \n",
       "\n",
       "                                                                      rtable_authors  \n",
       "0  Catherine Meadows, Radha Poovendran, Dusko Pavlovic, LiWu Chang, Paul F. Syverson  "
      ]
     },
     "execution_count": 41,
     "metadata": {},
     "output_type": "execute_result"
    }
   ],
   "source": [
    "C1.head()"
   ]
  },
  {
   "cell_type": "code",
   "execution_count": 42,
   "metadata": {},
   "outputs": [],
   "source": [
    "# # Instantiate overlap blocker object\n",
    "# ob = em.OverlapBlocker()\n",
    "\n",
    "# # Specify the tokenization to be 'word' level and set overlap_size to be 3.\n",
    "# C2 = ob.block_tables(sample_A, sample_B, 'title', 'title', word_level=True, overlap_size=10 , \n",
    "#                     l_output_attrs=['title', 'authors'], \n",
    "#                     r_output_attrs=['title','authors'],\n",
    "#                     show_progress=False)"
   ]
  },
  {
   "cell_type": "code",
   "execution_count": 43,
   "metadata": {},
   "outputs": [],
   "source": [
    "# len(C2)"
   ]
  },
  {
   "cell_type": "code",
   "execution_count": 44,
   "metadata": {},
   "outputs": [],
   "source": [
    "# # Display first 5 tuple pairs in the candidate set.\n",
    "# C2.head()"
   ]
  },
  {
   "cell_type": "code",
   "execution_count": 45,
   "metadata": {},
   "outputs": [],
   "source": [
    "def title_title_function(x,y):\n",
    "    \n",
    "    # extract authors column\n",
    "    x_author = x['authors']\n",
    "    y_author = y['authors']\n",
    "    \n",
    "    # combine all last names in a string separated by a space\n",
    "    x_lastnames = ' '.join([i.split(' ')[-1] for i in x_author.split(',')])\n",
    "    y_lastnames = ' '.join([i.split(' ')[-1] for i in y_author.split(',')])\n",
    "    \n",
    "    # convert all last names to lower case\n",
    "    x_lastnames = str(x_lastnames).lower()\n",
    "    y_lastnames = str(y_lastnames).lower()\n",
    "        \n",
    "    # exclude when similarity score is lower than threshold\n",
    "    if jac.get_raw_score(ws_tok_set.tokenize(x_lastnames), ws_tok_set.tokenize(y_lastnames)) < 0.4:\n",
    "        return True\n",
    "    else:\n",
    "        return False\n",
    "\n",
    "# Apply black box blocker\n",
    "ws_tok_set = sm.WhitespaceTokenizer(return_set=True)\n",
    "jac = sm.Jaccard()\n",
    "\n",
    "bb = em.BlackBoxBlocker()\n",
    "bb.set_black_box_function(title_title_function)"
   ]
  },
  {
   "cell_type": "code",
   "execution_count": 46,
   "metadata": {},
   "outputs": [],
   "source": [
    "C3 = bb.block_tables(sample_A, sample_B, l_output_attrs=['title', 'authors'], r_output_attrs=['title', 'authors'], show_progress=False)"
   ]
  },
  {
   "cell_type": "code",
   "execution_count": 47,
   "metadata": {},
   "outputs": [
    {
     "data": {
      "text/plain": [
       "8"
      ]
     },
     "execution_count": 47,
     "metadata": {},
     "output_type": "execute_result"
    }
   ],
   "source": [
    "len(C3)"
   ]
  },
  {
   "cell_type": "code",
   "execution_count": 48,
   "metadata": {},
   "outputs": [
    {
     "data": {
      "text/html": [
       "<div>\n",
       "<style scoped>\n",
       "    .dataframe tbody tr th:only-of-type {\n",
       "        vertical-align: middle;\n",
       "    }\n",
       "\n",
       "    .dataframe tbody tr th {\n",
       "        vertical-align: top;\n",
       "    }\n",
       "\n",
       "    .dataframe thead th {\n",
       "        text-align: right;\n",
       "    }\n",
       "</style>\n",
       "<table border=\"1\" class=\"dataframe\">\n",
       "  <thead>\n",
       "    <tr style=\"text-align: right;\">\n",
       "      <th></th>\n",
       "      <th>_id</th>\n",
       "      <th>ltable_id</th>\n",
       "      <th>rtable_id</th>\n",
       "      <th>ltable_title</th>\n",
       "      <th>ltable_authors</th>\n",
       "      <th>rtable_title</th>\n",
       "      <th>rtable_authors</th>\n",
       "    </tr>\n",
       "  </thead>\n",
       "  <tbody>\n",
       "    <tr>\n",
       "      <th>0</th>\n",
       "      <td>0</td>\n",
       "      <td>65152</td>\n",
       "      <td>24079</td>\n",
       "      <td>Supporting Social Interaction: Role of Social Presence Supporting Social Interaction in Virtual ...</td>\n",
       "      <td>Kathy Shen, Angela Yu, Mohamed Khalifa, Kathy Ning Shen, Mohamed Khalifa, Angela Yan Yu</td>\n",
       "      <td>Build Up Organizational Innovativeness: An Integrated View.</td>\n",
       "      <td>Mohamed Khalifa, Angela Yan Yu, Kathy Ning Shen</td>\n",
       "    </tr>\n",
       "    <tr>\n",
       "      <th>1</th>\n",
       "      <td>1</td>\n",
       "      <td>71336</td>\n",
       "      <td>92678</td>\n",
       "      <td>Carlsberg: A Distributed Execution Environment Providing Coherent Shared Memory and Integrated M...</td>\n",
       "      <td>Povl T. Koch, Robert J. Fowler</td>\n",
       "      <td>Efficient Processing of Expressive Node-Selecting Queries on XML Data in Secondary Storage: A Tr...</td>\n",
       "      <td>Christoph Koch</td>\n",
       "    </tr>\n",
       "    <tr>\n",
       "      <th>2</th>\n",
       "      <td>2</td>\n",
       "      <td>46286</td>\n",
       "      <td>52452</td>\n",
       "      <td>MobiEyes: Distributed Processing of Continuously Moving Queries on Moving Objects in a Mobile Sy...</td>\n",
       "      <td>Ling Liu</td>\n",
       "      <td>A Process View Framework for Artifact-Centric Business Processes.</td>\n",
       "      <td>Sira Yongchareon, Chengfei Liu</td>\n",
       "    </tr>\n",
       "    <tr>\n",
       "      <th>3</th>\n",
       "      <td>3</td>\n",
       "      <td>27896</td>\n",
       "      <td>5045</td>\n",
       "      <td>Abstract</td>\n",
       "      <td>O G. Lobo, Cludio F. Lima, O G. Lobo, Ualg Informatics, Cludio F. Lima, Ualg Informatics</td>\n",
       "      <td>Parameter Setting in Evolutionary Algorithms</td>\n",
       "      <td>Fernando G. Lobo, Cludio F. Lima, Zbigniew Michalewicz</td>\n",
       "    </tr>\n",
       "    <tr>\n",
       "      <th>4</th>\n",
       "      <td>4</td>\n",
       "      <td>73985</td>\n",
       "      <td>97886</td>\n",
       "      <td>MULTIPLE FEATURE INTEGRATION FOR WRITER VERIFICATION</td>\n",
       "      <td>Sung-hyuk Cha, Sargur, N. Srihari</td>\n",
       "      <td>Nearest Neighbor Search Using Additive Binary Tree.</td>\n",
       "      <td>Sung-Hyuk Cha, Sargur N. Srihari</td>\n",
       "    </tr>\n",
       "  </tbody>\n",
       "</table>\n",
       "</div>"
      ],
      "text/plain": [
       "   _id  ltable_id  rtable_id  \\\n",
       "0    0      65152      24079   \n",
       "1    1      71336      92678   \n",
       "2    2      46286      52452   \n",
       "3    3      27896       5045   \n",
       "4    4      73985      97886   \n",
       "\n",
       "                                                                                          ltable_title  \\\n",
       "0  Supporting Social Interaction: Role of Social Presence Supporting Social Interaction in Virtual ...   \n",
       "1  Carlsberg: A Distributed Execution Environment Providing Coherent Shared Memory and Integrated M...   \n",
       "2  MobiEyes: Distributed Processing of Continuously Moving Queries on Moving Objects in a Mobile Sy...   \n",
       "3                                                                                             Abstract   \n",
       "4                                                 MULTIPLE FEATURE INTEGRATION FOR WRITER VERIFICATION   \n",
       "\n",
       "                                                                             ltable_authors  \\\n",
       "0   Kathy Shen, Angela Yu, Mohamed Khalifa, Kathy Ning Shen, Mohamed Khalifa, Angela Yan Yu   \n",
       "1                                                            Povl T. Koch, Robert J. Fowler   \n",
       "2                                                                                  Ling Liu   \n",
       "3  O G. Lobo, Cludio F. Lima, O G. Lobo, Ualg Informatics, Cludio F. Lima, Ualg Informatics   \n",
       "4                                                         Sung-hyuk Cha, Sargur, N. Srihari   \n",
       "\n",
       "                                                                                          rtable_title  \\\n",
       "0                                          Build Up Organizational Innovativeness: An Integrated View.   \n",
       "1  Efficient Processing of Expressive Node-Selecting Queries on XML Data in Secondary Storage: A Tr...   \n",
       "2                                    A Process View Framework for Artifact-Centric Business Processes.   \n",
       "3                                                         Parameter Setting in Evolutionary Algorithms   \n",
       "4                                                  Nearest Neighbor Search Using Additive Binary Tree.   \n",
       "\n",
       "                                           rtable_authors  \n",
       "0         Mohamed Khalifa, Angela Yan Yu, Kathy Ning Shen  \n",
       "1                                          Christoph Koch  \n",
       "2                          Sira Yongchareon, Chengfei Liu  \n",
       "3  Fernando G. Lobo, Cludio F. Lima, Zbigniew Michalewicz  \n",
       "4                        Sung-Hyuk Cha, Sargur N. Srihari  "
      ]
     },
     "execution_count": 48,
     "metadata": {},
     "output_type": "execute_result"
    }
   ],
   "source": [
    "C3.head()"
   ]
  },
  {
   "cell_type": "code",
   "execution_count": 49,
   "metadata": {},
   "outputs": [],
   "source": [
    "## Exercise1: how to add custom stopwords like \"title\""
   ]
  },
  {
   "cell_type": "code",
   "execution_count": 50,
   "metadata": {},
   "outputs": [],
   "source": [
    "## Exercise2: how to make multiple rules in the blocker?\n",
    "## Exercise3: how to define a blackbox blocker using your own rules?"
   ]
  },
  {
   "cell_type": "markdown",
   "metadata": {},
   "source": [
    "### Combine all blocker outputs"
   ]
  },
  {
   "cell_type": "code",
   "execution_count": 51,
   "metadata": {},
   "outputs": [],
   "source": [
    "C = em.combine_blocker_outputs_via_union([C1, C3])"
   ]
  },
  {
   "cell_type": "code",
   "execution_count": 52,
   "metadata": {},
   "outputs": [
    {
     "data": {
      "text/plain": [
       "8"
      ]
     },
     "execution_count": 52,
     "metadata": {},
     "output_type": "execute_result"
    }
   ],
   "source": [
    "len(C)"
   ]
  },
  {
   "cell_type": "code",
   "execution_count": 53,
   "metadata": {},
   "outputs": [
    {
     "data": {
      "text/html": [
       "<div>\n",
       "<style scoped>\n",
       "    .dataframe tbody tr th:only-of-type {\n",
       "        vertical-align: middle;\n",
       "    }\n",
       "\n",
       "    .dataframe tbody tr th {\n",
       "        vertical-align: top;\n",
       "    }\n",
       "\n",
       "    .dataframe thead th {\n",
       "        text-align: right;\n",
       "    }\n",
       "</style>\n",
       "<table border=\"1\" class=\"dataframe\">\n",
       "  <thead>\n",
       "    <tr style=\"text-align: right;\">\n",
       "      <th></th>\n",
       "      <th>_id</th>\n",
       "      <th>ltable_id</th>\n",
       "      <th>rtable_id</th>\n",
       "      <th>ltable_title</th>\n",
       "      <th>ltable_authors</th>\n",
       "      <th>rtable_title</th>\n",
       "      <th>rtable_authors</th>\n",
       "    </tr>\n",
       "  </thead>\n",
       "  <tbody>\n",
       "    <tr>\n",
       "      <th>0</th>\n",
       "      <td>0</td>\n",
       "      <td>23352</td>\n",
       "      <td>2990</td>\n",
       "      <td>Evaluating WordNet-based Measures of Lexical Semantic Relatedness</td>\n",
       "      <td>Er Budanitsky Graeme Hirst</td>\n",
       "      <td>Semantic Distance Measures with Distributional Profiles of Coarse-Grained Concepts.</td>\n",
       "      <td>Graeme Hirst, Saif Mohammad</td>\n",
       "    </tr>\n",
       "    <tr>\n",
       "      <th>1</th>\n",
       "      <td>1</td>\n",
       "      <td>27896</td>\n",
       "      <td>5045</td>\n",
       "      <td>Abstract</td>\n",
       "      <td>O G. Lobo, Cludio F. Lima, O G. Lobo, Ualg Informatics, Cludio F. Lima, Ualg Informatics</td>\n",
       "      <td>Parameter Setting in Evolutionary Algorithms</td>\n",
       "      <td>Fernando G. Lobo, Cludio F. Lima, Zbigniew Michalewicz</td>\n",
       "    </tr>\n",
       "    <tr>\n",
       "      <th>2</th>\n",
       "      <td>2</td>\n",
       "      <td>36207</td>\n",
       "      <td>4596</td>\n",
       "      <td>MODELING CROWD BEHAVIOR USING EMOTIONAL ANTS</td>\n",
       "      <td>Soumya Banarjee, Crina Grosan, Ajith Abraham</td>\n",
       "      <td>Stock Market Modeling Using Genetic Programming Ensembles.</td>\n",
       "      <td>Crina Grosan, Ajith Abraham</td>\n",
       "    </tr>\n",
       "    <tr>\n",
       "      <th>3</th>\n",
       "      <td>3</td>\n",
       "      <td>46286</td>\n",
       "      <td>52452</td>\n",
       "      <td>MobiEyes: Distributed Processing of Continuously Moving Queries on Moving Objects in a Mobile Sy...</td>\n",
       "      <td>Ling Liu</td>\n",
       "      <td>A Process View Framework for Artifact-Centric Business Processes.</td>\n",
       "      <td>Sira Yongchareon, Chengfei Liu</td>\n",
       "    </tr>\n",
       "    <tr>\n",
       "      <th>4</th>\n",
       "      <td>4</td>\n",
       "      <td>65152</td>\n",
       "      <td>24079</td>\n",
       "      <td>Supporting Social Interaction: Role of Social Presence Supporting Social Interaction in Virtual ...</td>\n",
       "      <td>Kathy Shen, Angela Yu, Mohamed Khalifa, Kathy Ning Shen, Mohamed Khalifa, Angela Yan Yu</td>\n",
       "      <td>Build Up Organizational Innovativeness: An Integrated View.</td>\n",
       "      <td>Mohamed Khalifa, Angela Yan Yu, Kathy Ning Shen</td>\n",
       "    </tr>\n",
       "    <tr>\n",
       "      <th>5</th>\n",
       "      <td>5</td>\n",
       "      <td>71336</td>\n",
       "      <td>92678</td>\n",
       "      <td>Carlsberg: A Distributed Execution Environment Providing Coherent Shared Memory and Integrated M...</td>\n",
       "      <td>Povl T. Koch, Robert J. Fowler</td>\n",
       "      <td>Efficient Processing of Expressive Node-Selecting Queries on XML Data in Secondary Storage: A Tr...</td>\n",
       "      <td>Christoph Koch</td>\n",
       "    </tr>\n",
       "    <tr>\n",
       "      <th>6</th>\n",
       "      <td>6</td>\n",
       "      <td>73985</td>\n",
       "      <td>97886</td>\n",
       "      <td>MULTIPLE FEATURE INTEGRATION FOR WRITER VERIFICATION</td>\n",
       "      <td>Sung-hyuk Cha, Sargur, N. Srihari</td>\n",
       "      <td>Nearest Neighbor Search Using Additive Binary Tree.</td>\n",
       "      <td>Sung-Hyuk Cha, Sargur N. Srihari</td>\n",
       "    </tr>\n",
       "    <tr>\n",
       "      <th>7</th>\n",
       "      <td>7</td>\n",
       "      <td>98104</td>\n",
       "      <td>8015</td>\n",
       "      <td>Distance Bounding Protocols: Authentication Logic Analysis and Collusion Attacks</td>\n",
       "      <td>Catherine Meadows, Radha Poovendran, Dusko Pavlovic, Liwu Chang, Paul Syverson</td>\n",
       "      <td>Distance Bounding Protocols: Authentication Logic Analysis and Collusion Attacks.</td>\n",
       "      <td>Catherine Meadows, Radha Poovendran, Dusko Pavlovic, LiWu Chang, Paul F. Syverson</td>\n",
       "    </tr>\n",
       "  </tbody>\n",
       "</table>\n",
       "</div>"
      ],
      "text/plain": [
       "   _id ltable_id rtable_id  \\\n",
       "0    0     23352      2990   \n",
       "1    1     27896      5045   \n",
       "2    2     36207      4596   \n",
       "3    3     46286     52452   \n",
       "4    4     65152     24079   \n",
       "5    5     71336     92678   \n",
       "6    6     73985     97886   \n",
       "7    7     98104      8015   \n",
       "\n",
       "                                                                                          ltable_title  \\\n",
       "0                                    Evaluating WordNet-based Measures of Lexical Semantic Relatedness   \n",
       "1                                                                                             Abstract   \n",
       "2                                                         MODELING CROWD BEHAVIOR USING EMOTIONAL ANTS   \n",
       "3  MobiEyes: Distributed Processing of Continuously Moving Queries on Moving Objects in a Mobile Sy...   \n",
       "4  Supporting Social Interaction: Role of Social Presence Supporting Social Interaction in Virtual ...   \n",
       "5  Carlsberg: A Distributed Execution Environment Providing Coherent Shared Memory and Integrated M...   \n",
       "6                                                 MULTIPLE FEATURE INTEGRATION FOR WRITER VERIFICATION   \n",
       "7                     Distance Bounding Protocols: Authentication Logic Analysis and Collusion Attacks   \n",
       "\n",
       "                                                                             ltable_authors  \\\n",
       "0                                                                Er Budanitsky Graeme Hirst   \n",
       "1  O G. Lobo, Cludio F. Lima, O G. Lobo, Ualg Informatics, Cludio F. Lima, Ualg Informatics   \n",
       "2                                              Soumya Banarjee, Crina Grosan, Ajith Abraham   \n",
       "3                                                                                  Ling Liu   \n",
       "4   Kathy Shen, Angela Yu, Mohamed Khalifa, Kathy Ning Shen, Mohamed Khalifa, Angela Yan Yu   \n",
       "5                                                            Povl T. Koch, Robert J. Fowler   \n",
       "6                                                         Sung-hyuk Cha, Sargur, N. Srihari   \n",
       "7            Catherine Meadows, Radha Poovendran, Dusko Pavlovic, Liwu Chang, Paul Syverson   \n",
       "\n",
       "                                                                                          rtable_title  \\\n",
       "0                  Semantic Distance Measures with Distributional Profiles of Coarse-Grained Concepts.   \n",
       "1                                                         Parameter Setting in Evolutionary Algorithms   \n",
       "2                                           Stock Market Modeling Using Genetic Programming Ensembles.   \n",
       "3                                    A Process View Framework for Artifact-Centric Business Processes.   \n",
       "4                                          Build Up Organizational Innovativeness: An Integrated View.   \n",
       "5  Efficient Processing of Expressive Node-Selecting Queries on XML Data in Secondary Storage: A Tr...   \n",
       "6                                                  Nearest Neighbor Search Using Additive Binary Tree.   \n",
       "7                    Distance Bounding Protocols: Authentication Logic Analysis and Collusion Attacks.   \n",
       "\n",
       "                                                                      rtable_authors  \n",
       "0                                                        Graeme Hirst, Saif Mohammad  \n",
       "1                             Fernando G. Lobo, Cludio F. Lima, Zbigniew Michalewicz  \n",
       "2                                                        Crina Grosan, Ajith Abraham  \n",
       "3                                                     Sira Yongchareon, Chengfei Liu  \n",
       "4                                    Mohamed Khalifa, Angela Yan Yu, Kathy Ning Shen  \n",
       "5                                                                     Christoph Koch  \n",
       "6                                                   Sung-Hyuk Cha, Sargur N. Srihari  \n",
       "7  Catherine Meadows, Radha Poovendran, Dusko Pavlovic, LiWu Chang, Paul F. Syverson  "
      ]
     },
     "execution_count": 53,
     "metadata": {},
     "output_type": "execute_result"
    }
   ],
   "source": [
    "C"
   ]
  },
  {
   "cell_type": "markdown",
   "metadata": {},
   "source": [
    "## Generating Features for Manually¶"
   ]
  },
  {
   "cell_type": "code",
   "execution_count": 24,
   "metadata": {},
   "outputs": [
    {
     "name": "stderr",
     "output_type": "stream",
     "text": [
      "c:\\users\\rmartinez4\\anaconda3\\envs\\py37\\lib\\site-packages\\py_entitymatching\\feature\\attributeutils.py:191: FutureWarning: The pandas.np module is deprecated and will be removed from pandas in a future version. Import numpy directly instead\n",
      "  if returned_type == bool or returned_type == pd.np.bool_:\n"
     ]
    }
   ],
   "source": [
    "## Getting Attribute Types\n",
    "atypes1 = em.get_attr_types(sample_A)\n",
    "atypes2 = em.get_attr_types(sample_B)"
   ]
  },
  {
   "cell_type": "code",
   "execution_count": 25,
   "metadata": {},
   "outputs": [
    {
     "data": {
      "text/plain": [
       "('str_gt_10w', 'str_bt_5w_10w', 'str_gt_10w', 'str_bt_5w_10w')"
      ]
     },
     "execution_count": 25,
     "metadata": {},
     "output_type": "execute_result"
    }
   ],
   "source": [
    "atypes1['title'], atypes2['title'], atypes1['authors'], atypes2['authors']"
   ]
  },
  {
   "cell_type": "code",
   "execution_count": 26,
   "metadata": {},
   "outputs": [],
   "source": [
    "atypes2['title'] = 'str_gt_10w'\n",
    "atypes1['authors'] = 'str_bt_5w_10w'"
   ]
  },
  {
   "cell_type": "code",
   "execution_count": 27,
   "metadata": {},
   "outputs": [
    {
     "data": {
      "text/plain": [
       "('str_gt_10w', 'str_gt_10w', 'str_bt_5w_10w', 'str_bt_5w_10w')"
      ]
     },
     "execution_count": 27,
     "metadata": {},
     "output_type": "execute_result"
    }
   ],
   "source": [
    "atypes1['title'], atypes2['title'], atypes1['authors'], atypes2['authors']"
   ]
  },
  {
   "cell_type": "code",
   "execution_count": 28,
   "metadata": {},
   "outputs": [
    {
     "data": {
      "text/plain": [
       "(1641262680520, 1641593909512, 1641262679048, 1641594146376)"
      ]
     },
     "execution_count": 28,
     "metadata": {},
     "output_type": "execute_result"
    }
   ],
   "source": [
    "## Getting Attribute Correspondences\n",
    "block_c = em.get_attr_corres(sample_A, sample_B)\n",
    "id(A), id(block_c['ltable']), id(B), id(block_c['rtable'])"
   ]
  },
  {
   "cell_type": "code",
   "execution_count": 29,
   "metadata": {},
   "outputs": [
    {
     "data": {
      "text/plain": [
       "[('id', 'id'), ('title', 'title'), ('authors', 'authors')]"
      ]
     },
     "execution_count": 29,
     "metadata": {},
     "output_type": "execute_result"
    }
   ],
   "source": [
    "block_c['corres']"
   ]
  },
  {
   "cell_type": "code",
   "execution_count": 30,
   "metadata": {},
   "outputs": [
    {
     "data": {
      "text/plain": [
       "dict_keys(['corres', 'ltable', 'rtable'])"
      ]
     },
     "execution_count": 30,
     "metadata": {},
     "output_type": "execute_result"
    }
   ],
   "source": [
    "block_c.keys()"
   ]
  },
  {
   "cell_type": "code",
   "execution_count": 31,
   "metadata": {},
   "outputs": [],
   "source": [
    "## Getting tokenizers\n",
    "# for blocking\n",
    "tok = em.get_tokenizers_for_blocking()\n",
    "# for matching\n",
    "# tok = em.get_tokenizers_for_matching()"
   ]
  },
  {
   "cell_type": "code",
   "execution_count": 32,
   "metadata": {},
   "outputs": [
    {
     "data": {
      "text/plain": [
       "{'qgm_2': <function py_entitymatching.feature.tokenizers._make_tok_qgram.<locals>.tok_qgram>,\n",
       " 'qgm_3': <function py_entitymatching.feature.tokenizers._make_tok_qgram.<locals>.tok_qgram>,\n",
       " 'wspace': <function py_entitymatching.feature.tokenizers.tok_wspace>,\n",
       " 'alphabetic': <function py_entitymatching.feature.tokenizers.tok_alphabetic>,\n",
       " 'alphanumeric': <function py_entitymatching.feature.tokenizers.tok_alphanumeric>,\n",
       " 'dlm_dc0': <function py_entitymatching.feature.tokenizers._make_tok_delim.<locals>.tok_delim>}"
      ]
     },
     "execution_count": 32,
     "metadata": {},
     "output_type": "execute_result"
    }
   ],
   "source": [
    "tok"
   ]
  },
  {
   "cell_type": "code",
   "execution_count": 33,
   "metadata": {},
   "outputs": [],
   "source": [
    "## Getting Similarity Functions\n",
    "# for blocking\n",
    "sim = em.get_sim_funs_for_blocking()\n",
    "\n",
    "# for matching\n",
    "# sim = em.get_sim_funs_for_matching()"
   ]
  },
  {
   "cell_type": "code",
   "execution_count": 34,
   "metadata": {},
   "outputs": [
    {
     "data": {
      "text/plain": [
       "{'affine': <function py_entitymatching.feature.simfunctions.affine>,\n",
       " 'hamming_dist': <function py_entitymatching.feature.simfunctions.hamming_dist>,\n",
       " 'hamming_sim': <function py_entitymatching.feature.simfunctions.hamming_sim>,\n",
       " 'lev_dist': <function py_entitymatching.feature.simfunctions.lev_dist>,\n",
       " 'lev_sim': <function py_entitymatching.feature.simfunctions.lev_sim>,\n",
       " 'jaro': <function py_entitymatching.feature.simfunctions.jaro>,\n",
       " 'jaro_winkler': <function py_entitymatching.feature.simfunctions.jaro_winkler>,\n",
       " 'needleman_wunsch': <function py_entitymatching.feature.simfunctions.needleman_wunsch>,\n",
       " 'smith_waterman': <function py_entitymatching.feature.simfunctions.smith_waterman>,\n",
       " 'overlap_coeff': <function py_entitymatching.feature.simfunctions.overlap_coeff>,\n",
       " 'jaccard': <function py_entitymatching.feature.simfunctions.jaccard>,\n",
       " 'dice': <function py_entitymatching.feature.simfunctions.dice>,\n",
       " 'monge_elkan': <function py_entitymatching.feature.simfunctions.monge_elkan>,\n",
       " 'cosine': <function py_entitymatching.feature.simfunctions.cosine>,\n",
       " 'exact_match': <function py_entitymatching.feature.simfunctions.exact_match>,\n",
       " 'rel_diff': <function py_entitymatching.feature.simfunctions.rel_diff>,\n",
       " 'abs_norm': <function py_entitymatching.feature.simfunctions.abs_norm>}"
      ]
     },
     "execution_count": 34,
     "metadata": {},
     "output_type": "execute_result"
    }
   ],
   "source": [
    "sim"
   ]
  },
  {
   "cell_type": "code",
   "execution_count": 35,
   "metadata": {},
   "outputs": [],
   "source": [
    "## Getting Features\n",
    "feature_table = em.get_features(sample_A, sample_B, atypes1, atypes2, block_c, tok, sim)\n"
   ]
  },
  {
   "cell_type": "code",
   "execution_count": 36,
   "metadata": {},
   "outputs": [
    {
     "data": {
      "text/html": [
       "<div>\n",
       "<style scoped>\n",
       "    .dataframe tbody tr th:only-of-type {\n",
       "        vertical-align: middle;\n",
       "    }\n",
       "\n",
       "    .dataframe tbody tr th {\n",
       "        vertical-align: top;\n",
       "    }\n",
       "\n",
       "    .dataframe thead th {\n",
       "        text-align: right;\n",
       "    }\n",
       "</style>\n",
       "<table border=\"1\" class=\"dataframe\">\n",
       "  <thead>\n",
       "    <tr style=\"text-align: right;\">\n",
       "      <th></th>\n",
       "      <th>feature_name</th>\n",
       "      <th>left_attribute</th>\n",
       "      <th>right_attribute</th>\n",
       "      <th>left_attr_tokenizer</th>\n",
       "      <th>right_attr_tokenizer</th>\n",
       "      <th>simfunction</th>\n",
       "      <th>function</th>\n",
       "      <th>function_source</th>\n",
       "      <th>is_auto_generated</th>\n",
       "    </tr>\n",
       "  </thead>\n",
       "  <tbody>\n",
       "    <tr>\n",
       "      <th>0</th>\n",
       "      <td>id_id_exm</td>\n",
       "      <td>id</td>\n",
       "      <td>id</td>\n",
       "      <td>None</td>\n",
       "      <td>None</td>\n",
       "      <td>exact_match</td>\n",
       "      <td>&lt;function id_id_exm at 0x0000017E22E034C8&gt;</td>\n",
       "      <td>from py_entitymatching.feature.simfunctions import *\\nfrom py_entitymatching.feature.tokenizers ...</td>\n",
       "      <td>True</td>\n",
       "    </tr>\n",
       "    <tr>\n",
       "      <th>1</th>\n",
       "      <td>id_id_anm</td>\n",
       "      <td>id</td>\n",
       "      <td>id</td>\n",
       "      <td>None</td>\n",
       "      <td>None</td>\n",
       "      <td>abs_norm</td>\n",
       "      <td>&lt;function id_id_anm at 0x0000017E22E03438&gt;</td>\n",
       "      <td>from py_entitymatching.feature.simfunctions import *\\nfrom py_entitymatching.feature.tokenizers ...</td>\n",
       "      <td>True</td>\n",
       "    </tr>\n",
       "    <tr>\n",
       "      <th>2</th>\n",
       "      <td>id_id_lev_dist</td>\n",
       "      <td>id</td>\n",
       "      <td>id</td>\n",
       "      <td>None</td>\n",
       "      <td>None</td>\n",
       "      <td>lev_dist</td>\n",
       "      <td>&lt;function id_id_lev_dist at 0x0000017E231524C8&gt;</td>\n",
       "      <td>from py_entitymatching.feature.simfunctions import *\\nfrom py_entitymatching.feature.tokenizers ...</td>\n",
       "      <td>True</td>\n",
       "    </tr>\n",
       "    <tr>\n",
       "      <th>3</th>\n",
       "      <td>id_id_lev_sim</td>\n",
       "      <td>id</td>\n",
       "      <td>id</td>\n",
       "      <td>None</td>\n",
       "      <td>None</td>\n",
       "      <td>lev_sim</td>\n",
       "      <td>&lt;function id_id_lev_sim at 0x0000017E231521F8&gt;</td>\n",
       "      <td>from py_entitymatching.feature.simfunctions import *\\nfrom py_entitymatching.feature.tokenizers ...</td>\n",
       "      <td>True</td>\n",
       "    </tr>\n",
       "    <tr>\n",
       "      <th>4</th>\n",
       "      <td>title_title_jac_qgm_3_qgm_3</td>\n",
       "      <td>title</td>\n",
       "      <td>title</td>\n",
       "      <td>qgm_3</td>\n",
       "      <td>qgm_3</td>\n",
       "      <td>jaccard</td>\n",
       "      <td>&lt;function title_title_jac_qgm_3_qgm_3 at 0x0000017E23152288&gt;</td>\n",
       "      <td>from py_entitymatching.feature.simfunctions import *\\nfrom py_entitymatching.feature.tokenizers ...</td>\n",
       "      <td>True</td>\n",
       "    </tr>\n",
       "    <tr>\n",
       "      <th>5</th>\n",
       "      <td>title_title_cos_dlm_dc0_dlm_dc0</td>\n",
       "      <td>title</td>\n",
       "      <td>title</td>\n",
       "      <td>dlm_dc0</td>\n",
       "      <td>dlm_dc0</td>\n",
       "      <td>cosine</td>\n",
       "      <td>&lt;function title_title_cos_dlm_dc0_dlm_dc0 at 0x0000017E23152168&gt;</td>\n",
       "      <td>from py_entitymatching.feature.simfunctions import *\\nfrom py_entitymatching.feature.tokenizers ...</td>\n",
       "      <td>True</td>\n",
       "    </tr>\n",
       "    <tr>\n",
       "      <th>6</th>\n",
       "      <td>authors_authors_jac_qgm_3_qgm_3</td>\n",
       "      <td>authors</td>\n",
       "      <td>authors</td>\n",
       "      <td>qgm_3</td>\n",
       "      <td>qgm_3</td>\n",
       "      <td>jaccard</td>\n",
       "      <td>&lt;function authors_authors_jac_qgm_3_qgm_3 at 0x0000017E272F4048&gt;</td>\n",
       "      <td>from py_entitymatching.feature.simfunctions import *\\nfrom py_entitymatching.feature.tokenizers ...</td>\n",
       "      <td>True</td>\n",
       "    </tr>\n",
       "    <tr>\n",
       "      <th>7</th>\n",
       "      <td>authors_authors_cos_dlm_dc0_dlm_dc0</td>\n",
       "      <td>authors</td>\n",
       "      <td>authors</td>\n",
       "      <td>dlm_dc0</td>\n",
       "      <td>dlm_dc0</td>\n",
       "      <td>cosine</td>\n",
       "      <td>&lt;function authors_authors_cos_dlm_dc0_dlm_dc0 at 0x0000017E272F4168&gt;</td>\n",
       "      <td>from py_entitymatching.feature.simfunctions import *\\nfrom py_entitymatching.feature.tokenizers ...</td>\n",
       "      <td>True</td>\n",
       "    </tr>\n",
       "    <tr>\n",
       "      <th>8</th>\n",
       "      <td>authors_authors_mel</td>\n",
       "      <td>authors</td>\n",
       "      <td>authors</td>\n",
       "      <td>None</td>\n",
       "      <td>None</td>\n",
       "      <td>monge_elkan</td>\n",
       "      <td>&lt;function authors_authors_mel at 0x0000017E272F4288&gt;</td>\n",
       "      <td>from py_entitymatching.feature.simfunctions import *\\nfrom py_entitymatching.feature.tokenizers ...</td>\n",
       "      <td>True</td>\n",
       "    </tr>\n",
       "    <tr>\n",
       "      <th>9</th>\n",
       "      <td>authors_authors_lev_dist</td>\n",
       "      <td>authors</td>\n",
       "      <td>authors</td>\n",
       "      <td>None</td>\n",
       "      <td>None</td>\n",
       "      <td>lev_dist</td>\n",
       "      <td>&lt;function authors_authors_lev_dist at 0x0000017E272F43A8&gt;</td>\n",
       "      <td>from py_entitymatching.feature.simfunctions import *\\nfrom py_entitymatching.feature.tokenizers ...</td>\n",
       "      <td>True</td>\n",
       "    </tr>\n",
       "    <tr>\n",
       "      <th>10</th>\n",
       "      <td>authors_authors_lev_sim</td>\n",
       "      <td>authors</td>\n",
       "      <td>authors</td>\n",
       "      <td>None</td>\n",
       "      <td>None</td>\n",
       "      <td>lev_sim</td>\n",
       "      <td>&lt;function authors_authors_lev_sim at 0x0000017E272F44C8&gt;</td>\n",
       "      <td>from py_entitymatching.feature.simfunctions import *\\nfrom py_entitymatching.feature.tokenizers ...</td>\n",
       "      <td>True</td>\n",
       "    </tr>\n",
       "  </tbody>\n",
       "</table>\n",
       "</div>"
      ],
      "text/plain": [
       "                           feature_name left_attribute right_attribute  \\\n",
       "0                             id_id_exm             id              id   \n",
       "1                             id_id_anm             id              id   \n",
       "2                        id_id_lev_dist             id              id   \n",
       "3                         id_id_lev_sim             id              id   \n",
       "4           title_title_jac_qgm_3_qgm_3          title           title   \n",
       "5       title_title_cos_dlm_dc0_dlm_dc0          title           title   \n",
       "6       authors_authors_jac_qgm_3_qgm_3        authors         authors   \n",
       "7   authors_authors_cos_dlm_dc0_dlm_dc0        authors         authors   \n",
       "8                   authors_authors_mel        authors         authors   \n",
       "9              authors_authors_lev_dist        authors         authors   \n",
       "10              authors_authors_lev_sim        authors         authors   \n",
       "\n",
       "   left_attr_tokenizer right_attr_tokenizer  simfunction  \\\n",
       "0                 None                 None  exact_match   \n",
       "1                 None                 None     abs_norm   \n",
       "2                 None                 None     lev_dist   \n",
       "3                 None                 None      lev_sim   \n",
       "4                qgm_3                qgm_3      jaccard   \n",
       "5              dlm_dc0              dlm_dc0       cosine   \n",
       "6                qgm_3                qgm_3      jaccard   \n",
       "7              dlm_dc0              dlm_dc0       cosine   \n",
       "8                 None                 None  monge_elkan   \n",
       "9                 None                 None     lev_dist   \n",
       "10                None                 None      lev_sim   \n",
       "\n",
       "                                                                function  \\\n",
       "0                             <function id_id_exm at 0x0000017E22E034C8>   \n",
       "1                             <function id_id_anm at 0x0000017E22E03438>   \n",
       "2                        <function id_id_lev_dist at 0x0000017E231524C8>   \n",
       "3                         <function id_id_lev_sim at 0x0000017E231521F8>   \n",
       "4           <function title_title_jac_qgm_3_qgm_3 at 0x0000017E23152288>   \n",
       "5       <function title_title_cos_dlm_dc0_dlm_dc0 at 0x0000017E23152168>   \n",
       "6       <function authors_authors_jac_qgm_3_qgm_3 at 0x0000017E272F4048>   \n",
       "7   <function authors_authors_cos_dlm_dc0_dlm_dc0 at 0x0000017E272F4168>   \n",
       "8                   <function authors_authors_mel at 0x0000017E272F4288>   \n",
       "9              <function authors_authors_lev_dist at 0x0000017E272F43A8>   \n",
       "10              <function authors_authors_lev_sim at 0x0000017E272F44C8>   \n",
       "\n",
       "                                                                                        function_source  \\\n",
       "0   from py_entitymatching.feature.simfunctions import *\\nfrom py_entitymatching.feature.tokenizers ...   \n",
       "1   from py_entitymatching.feature.simfunctions import *\\nfrom py_entitymatching.feature.tokenizers ...   \n",
       "2   from py_entitymatching.feature.simfunctions import *\\nfrom py_entitymatching.feature.tokenizers ...   \n",
       "3   from py_entitymatching.feature.simfunctions import *\\nfrom py_entitymatching.feature.tokenizers ...   \n",
       "4   from py_entitymatching.feature.simfunctions import *\\nfrom py_entitymatching.feature.tokenizers ...   \n",
       "5   from py_entitymatching.feature.simfunctions import *\\nfrom py_entitymatching.feature.tokenizers ...   \n",
       "6   from py_entitymatching.feature.simfunctions import *\\nfrom py_entitymatching.feature.tokenizers ...   \n",
       "7   from py_entitymatching.feature.simfunctions import *\\nfrom py_entitymatching.feature.tokenizers ...   \n",
       "8   from py_entitymatching.feature.simfunctions import *\\nfrom py_entitymatching.feature.tokenizers ...   \n",
       "9   from py_entitymatching.feature.simfunctions import *\\nfrom py_entitymatching.feature.tokenizers ...   \n",
       "10  from py_entitymatching.feature.simfunctions import *\\nfrom py_entitymatching.feature.tokenizers ...   \n",
       "\n",
       "    is_auto_generated  \n",
       "0                True  \n",
       "1                True  \n",
       "2                True  \n",
       "3                True  \n",
       "4                True  \n",
       "5                True  \n",
       "6                True  \n",
       "7                True  \n",
       "8                True  \n",
       "9                True  \n",
       "10               True  "
      ]
     },
     "execution_count": 36,
     "metadata": {},
     "output_type": "execute_result"
    }
   ],
   "source": [
    "feature_table"
   ]
  },
  {
   "cell_type": "code",
   "execution_count": 37,
   "metadata": {},
   "outputs": [],
   "source": [
    "#### Exercise: how to add a custom feature - to do Jaccard on title_authors and add it to feature table?"
   ]
  },
  {
   "cell_type": "code",
   "execution_count": 77,
   "metadata": {},
   "outputs": [
    {
     "data": {
      "text/plain": [
       "8"
      ]
     },
     "execution_count": 77,
     "metadata": {},
     "output_type": "execute_result"
    }
   ],
   "source": [
    "len(C)"
   ]
  },
  {
   "cell_type": "code",
   "execution_count": 78,
   "metadata": {},
   "outputs": [
    {
     "name": "stderr",
     "output_type": "stream",
     "text": [
      "c:\\users\\rmartinez4\\anaconda3\\envs\\py37\\lib\\site-packages\\py_entitymatching\\sampler\\single_table.py:103: FutureWarning: The pandas.np module is deprecated and will be removed from pandas in a future version. Import numpy directly instead\n",
      "  sample_indices = pd.np.random.choice(len(table), sample_size,\n"
     ]
    }
   ],
   "source": [
    "# Sample  candidate set\n",
    "S = em.sample_table(C, 6)"
   ]
  },
  {
   "cell_type": "code",
   "execution_count": 79,
   "metadata": {},
   "outputs": [
    {
     "data": {
      "text/html": [
       "<div>\n",
       "<style scoped>\n",
       "    .dataframe tbody tr th:only-of-type {\n",
       "        vertical-align: middle;\n",
       "    }\n",
       "\n",
       "    .dataframe tbody tr th {\n",
       "        vertical-align: top;\n",
       "    }\n",
       "\n",
       "    .dataframe thead th {\n",
       "        text-align: right;\n",
       "    }\n",
       "</style>\n",
       "<table border=\"1\" class=\"dataframe\">\n",
       "  <thead>\n",
       "    <tr style=\"text-align: right;\">\n",
       "      <th></th>\n",
       "      <th>_id</th>\n",
       "      <th>ltable_id</th>\n",
       "      <th>rtable_id</th>\n",
       "      <th>ltable_title</th>\n",
       "      <th>ltable_authors</th>\n",
       "      <th>rtable_title</th>\n",
       "      <th>rtable_authors</th>\n",
       "    </tr>\n",
       "  </thead>\n",
       "  <tbody>\n",
       "    <tr>\n",
       "      <th>0</th>\n",
       "      <td>0</td>\n",
       "      <td>23352</td>\n",
       "      <td>2990</td>\n",
       "      <td>Evaluating WordNet-based Measures of Lexical Semantic Relatedness</td>\n",
       "      <td>Er Budanitsky Graeme Hirst</td>\n",
       "      <td>Semantic Distance Measures with Distributional Profiles of Coarse-Grained Concepts.</td>\n",
       "      <td>Graeme Hirst, Saif Mohammad</td>\n",
       "    </tr>\n",
       "    <tr>\n",
       "      <th>1</th>\n",
       "      <td>1</td>\n",
       "      <td>27896</td>\n",
       "      <td>5045</td>\n",
       "      <td>Abstract</td>\n",
       "      <td>O G. Lobo, Cludio F. Lima, O G. Lobo, Ualg Informatics, Cludio F. Lima, Ualg Informatics</td>\n",
       "      <td>Parameter Setting in Evolutionary Algorithms</td>\n",
       "      <td>Fernando G. Lobo, Cludio F. Lima, Zbigniew Michalewicz</td>\n",
       "    </tr>\n",
       "    <tr>\n",
       "      <th>2</th>\n",
       "      <td>2</td>\n",
       "      <td>36207</td>\n",
       "      <td>4596</td>\n",
       "      <td>MODELING CROWD BEHAVIOR USING EMOTIONAL ANTS</td>\n",
       "      <td>Soumya Banarjee, Crina Grosan, Ajith Abraham</td>\n",
       "      <td>Stock Market Modeling Using Genetic Programming Ensembles.</td>\n",
       "      <td>Crina Grosan, Ajith Abraham</td>\n",
       "    </tr>\n",
       "    <tr>\n",
       "      <th>4</th>\n",
       "      <td>4</td>\n",
       "      <td>65152</td>\n",
       "      <td>24079</td>\n",
       "      <td>Supporting Social Interaction: Role of Social Presence Supporting Social Interaction in Virtual ...</td>\n",
       "      <td>Kathy Shen, Angela Yu, Mohamed Khalifa, Kathy Ning Shen, Mohamed Khalifa, Angela Yan Yu</td>\n",
       "      <td>Build Up Organizational Innovativeness: An Integrated View.</td>\n",
       "      <td>Mohamed Khalifa, Angela Yan Yu, Kathy Ning Shen</td>\n",
       "    </tr>\n",
       "    <tr>\n",
       "      <th>5</th>\n",
       "      <td>5</td>\n",
       "      <td>71336</td>\n",
       "      <td>92678</td>\n",
       "      <td>Carlsberg: A Distributed Execution Environment Providing Coherent Shared Memory and Integrated M...</td>\n",
       "      <td>Povl T. Koch, Robert J. Fowler</td>\n",
       "      <td>Efficient Processing of Expressive Node-Selecting Queries on XML Data in Secondary Storage: A Tr...</td>\n",
       "      <td>Christoph Koch</td>\n",
       "    </tr>\n",
       "    <tr>\n",
       "      <th>7</th>\n",
       "      <td>7</td>\n",
       "      <td>98104</td>\n",
       "      <td>8015</td>\n",
       "      <td>Distance Bounding Protocols: Authentication Logic Analysis and Collusion Attacks</td>\n",
       "      <td>Catherine Meadows, Radha Poovendran, Dusko Pavlovic, Liwu Chang, Paul Syverson</td>\n",
       "      <td>Distance Bounding Protocols: Authentication Logic Analysis and Collusion Attacks.</td>\n",
       "      <td>Catherine Meadows, Radha Poovendran, Dusko Pavlovic, LiWu Chang, Paul F. Syverson</td>\n",
       "    </tr>\n",
       "  </tbody>\n",
       "</table>\n",
       "</div>"
      ],
      "text/plain": [
       "   _id ltable_id rtable_id  \\\n",
       "0    0     23352      2990   \n",
       "1    1     27896      5045   \n",
       "2    2     36207      4596   \n",
       "4    4     65152     24079   \n",
       "5    5     71336     92678   \n",
       "7    7     98104      8015   \n",
       "\n",
       "                                                                                          ltable_title  \\\n",
       "0                                    Evaluating WordNet-based Measures of Lexical Semantic Relatedness   \n",
       "1                                                                                             Abstract   \n",
       "2                                                         MODELING CROWD BEHAVIOR USING EMOTIONAL ANTS   \n",
       "4  Supporting Social Interaction: Role of Social Presence Supporting Social Interaction in Virtual ...   \n",
       "5  Carlsberg: A Distributed Execution Environment Providing Coherent Shared Memory and Integrated M...   \n",
       "7                     Distance Bounding Protocols: Authentication Logic Analysis and Collusion Attacks   \n",
       "\n",
       "                                                                             ltable_authors  \\\n",
       "0                                                                Er Budanitsky Graeme Hirst   \n",
       "1  O G. Lobo, Cludio F. Lima, O G. Lobo, Ualg Informatics, Cludio F. Lima, Ualg Informatics   \n",
       "2                                              Soumya Banarjee, Crina Grosan, Ajith Abraham   \n",
       "4   Kathy Shen, Angela Yu, Mohamed Khalifa, Kathy Ning Shen, Mohamed Khalifa, Angela Yan Yu   \n",
       "5                                                            Povl T. Koch, Robert J. Fowler   \n",
       "7            Catherine Meadows, Radha Poovendran, Dusko Pavlovic, Liwu Chang, Paul Syverson   \n",
       "\n",
       "                                                                                          rtable_title  \\\n",
       "0                  Semantic Distance Measures with Distributional Profiles of Coarse-Grained Concepts.   \n",
       "1                                                         Parameter Setting in Evolutionary Algorithms   \n",
       "2                                           Stock Market Modeling Using Genetic Programming Ensembles.   \n",
       "4                                          Build Up Organizational Innovativeness: An Integrated View.   \n",
       "5  Efficient Processing of Expressive Node-Selecting Queries on XML Data in Secondary Storage: A Tr...   \n",
       "7                    Distance Bounding Protocols: Authentication Logic Analysis and Collusion Attacks.   \n",
       "\n",
       "                                                                      rtable_authors  \n",
       "0                                                        Graeme Hirst, Saif Mohammad  \n",
       "1                             Fernando G. Lobo, Cludio F. Lima, Zbigniew Michalewicz  \n",
       "2                                                        Crina Grosan, Ajith Abraham  \n",
       "4                                    Mohamed Khalifa, Angela Yan Yu, Kathy Ning Shen  \n",
       "5                                                                     Christoph Koch  \n",
       "7  Catherine Meadows, Radha Poovendran, Dusko Pavlovic, LiWu Chang, Paul F. Syverson  "
      ]
     },
     "execution_count": 79,
     "metadata": {},
     "output_type": "execute_result"
    }
   ],
   "source": [
    "S"
   ]
  },
  {
   "cell_type": "code",
   "execution_count": 80,
   "metadata": {},
   "outputs": [
    {
     "name": "stderr",
     "output_type": "stream",
     "text": [
      "Column name (gold) is not present in dataframe\n"
     ]
    }
   ],
   "source": [
    "# Label S\n",
    "G = em.label_table(S, 'gold')"
   ]
  },
  {
   "cell_type": "code",
   "execution_count": 81,
   "metadata": {},
   "outputs": [
    {
     "data": {
      "text/html": [
       "<div>\n",
       "<style scoped>\n",
       "    .dataframe tbody tr th:only-of-type {\n",
       "        vertical-align: middle;\n",
       "    }\n",
       "\n",
       "    .dataframe tbody tr th {\n",
       "        vertical-align: top;\n",
       "    }\n",
       "\n",
       "    .dataframe thead th {\n",
       "        text-align: right;\n",
       "    }\n",
       "</style>\n",
       "<table border=\"1\" class=\"dataframe\">\n",
       "  <thead>\n",
       "    <tr style=\"text-align: right;\">\n",
       "      <th></th>\n",
       "      <th>_id</th>\n",
       "      <th>ltable_id</th>\n",
       "      <th>rtable_id</th>\n",
       "      <th>ltable_title</th>\n",
       "      <th>ltable_authors</th>\n",
       "      <th>rtable_title</th>\n",
       "      <th>rtable_authors</th>\n",
       "      <th>gold</th>\n",
       "    </tr>\n",
       "  </thead>\n",
       "  <tbody>\n",
       "    <tr>\n",
       "      <th>0</th>\n",
       "      <td>0</td>\n",
       "      <td>23352</td>\n",
       "      <td>2990</td>\n",
       "      <td>Evaluating WordNet-based Measures of Lexical Semantic Relatedness</td>\n",
       "      <td>Er Budanitsky Graeme Hirst</td>\n",
       "      <td>Semantic Distance Measures with Distributional Profiles of Coarse-Grained Concepts.</td>\n",
       "      <td>Graeme Hirst, Saif Mohammad</td>\n",
       "      <td>0</td>\n",
       "    </tr>\n",
       "    <tr>\n",
       "      <th>1</th>\n",
       "      <td>1</td>\n",
       "      <td>27896</td>\n",
       "      <td>5045</td>\n",
       "      <td>Abstract</td>\n",
       "      <td>O G. Lobo, Cludio F. Lima, O G. Lobo, Ualg Informatics, Cludio F. Lima, Ualg Informatics</td>\n",
       "      <td>Parameter Setting in Evolutionary Algorithms</td>\n",
       "      <td>Fernando G. Lobo, Cludio F. Lima, Zbigniew Michalewicz</td>\n",
       "      <td>0</td>\n",
       "    </tr>\n",
       "    <tr>\n",
       "      <th>2</th>\n",
       "      <td>2</td>\n",
       "      <td>36207</td>\n",
       "      <td>4596</td>\n",
       "      <td>MODELING CROWD BEHAVIOR USING EMOTIONAL ANTS</td>\n",
       "      <td>Soumya Banarjee, Crina Grosan, Ajith Abraham</td>\n",
       "      <td>Stock Market Modeling Using Genetic Programming Ensembles.</td>\n",
       "      <td>Crina Grosan, Ajith Abraham</td>\n",
       "      <td>0</td>\n",
       "    </tr>\n",
       "    <tr>\n",
       "      <th>4</th>\n",
       "      <td>4</td>\n",
       "      <td>65152</td>\n",
       "      <td>24079</td>\n",
       "      <td>Supporting Social Interaction: Role of Social Presence Supporting Social Interaction in Virtual ...</td>\n",
       "      <td>Kathy Shen, Angela Yu, Mohamed Khalifa, Kathy Ning Shen, Mohamed Khalifa, Angela Yan Yu</td>\n",
       "      <td>Build Up Organizational Innovativeness: An Integrated View.</td>\n",
       "      <td>Mohamed Khalifa, Angela Yan Yu, Kathy Ning Shen</td>\n",
       "      <td>0</td>\n",
       "    </tr>\n",
       "    <tr>\n",
       "      <th>5</th>\n",
       "      <td>5</td>\n",
       "      <td>71336</td>\n",
       "      <td>92678</td>\n",
       "      <td>Carlsberg: A Distributed Execution Environment Providing Coherent Shared Memory and Integrated M...</td>\n",
       "      <td>Povl T. Koch, Robert J. Fowler</td>\n",
       "      <td>Efficient Processing of Expressive Node-Selecting Queries on XML Data in Secondary Storage: A Tr...</td>\n",
       "      <td>Christoph Koch</td>\n",
       "      <td>0</td>\n",
       "    </tr>\n",
       "    <tr>\n",
       "      <th>7</th>\n",
       "      <td>7</td>\n",
       "      <td>98104</td>\n",
       "      <td>8015</td>\n",
       "      <td>Distance Bounding Protocols: Authentication Logic Analysis and Collusion Attacks</td>\n",
       "      <td>Catherine Meadows, Radha Poovendran, Dusko Pavlovic, Liwu Chang, Paul Syverson</td>\n",
       "      <td>Distance Bounding Protocols: Authentication Logic Analysis and Collusion Attacks.</td>\n",
       "      <td>Catherine Meadows, Radha Poovendran, Dusko Pavlovic, LiWu Chang, Paul F. Syverson</td>\n",
       "      <td>0</td>\n",
       "    </tr>\n",
       "  </tbody>\n",
       "</table>\n",
       "</div>"
      ],
      "text/plain": [
       "   _id ltable_id rtable_id  \\\n",
       "0    0     23352      2990   \n",
       "1    1     27896      5045   \n",
       "2    2     36207      4596   \n",
       "4    4     65152     24079   \n",
       "5    5     71336     92678   \n",
       "7    7     98104      8015   \n",
       "\n",
       "                                                                                          ltable_title  \\\n",
       "0                                    Evaluating WordNet-based Measures of Lexical Semantic Relatedness   \n",
       "1                                                                                             Abstract   \n",
       "2                                                         MODELING CROWD BEHAVIOR USING EMOTIONAL ANTS   \n",
       "4  Supporting Social Interaction: Role of Social Presence Supporting Social Interaction in Virtual ...   \n",
       "5  Carlsberg: A Distributed Execution Environment Providing Coherent Shared Memory and Integrated M...   \n",
       "7                     Distance Bounding Protocols: Authentication Logic Analysis and Collusion Attacks   \n",
       "\n",
       "                                                                             ltable_authors  \\\n",
       "0                                                                Er Budanitsky Graeme Hirst   \n",
       "1  O G. Lobo, Cludio F. Lima, O G. Lobo, Ualg Informatics, Cludio F. Lima, Ualg Informatics   \n",
       "2                                              Soumya Banarjee, Crina Grosan, Ajith Abraham   \n",
       "4   Kathy Shen, Angela Yu, Mohamed Khalifa, Kathy Ning Shen, Mohamed Khalifa, Angela Yan Yu   \n",
       "5                                                            Povl T. Koch, Robert J. Fowler   \n",
       "7            Catherine Meadows, Radha Poovendran, Dusko Pavlovic, Liwu Chang, Paul Syverson   \n",
       "\n",
       "                                                                                          rtable_title  \\\n",
       "0                  Semantic Distance Measures with Distributional Profiles of Coarse-Grained Concepts.   \n",
       "1                                                         Parameter Setting in Evolutionary Algorithms   \n",
       "2                                           Stock Market Modeling Using Genetic Programming Ensembles.   \n",
       "4                                          Build Up Organizational Innovativeness: An Integrated View.   \n",
       "5  Efficient Processing of Expressive Node-Selecting Queries on XML Data in Secondary Storage: A Tr...   \n",
       "7                    Distance Bounding Protocols: Authentication Logic Analysis and Collusion Attacks.   \n",
       "\n",
       "                                                                      rtable_authors  \\\n",
       "0                                                        Graeme Hirst, Saif Mohammad   \n",
       "1                             Fernando G. Lobo, Cludio F. Lima, Zbigniew Michalewicz   \n",
       "2                                                        Crina Grosan, Ajith Abraham   \n",
       "4                                    Mohamed Khalifa, Angela Yan Yu, Kathy Ning Shen   \n",
       "5                                                                     Christoph Koch   \n",
       "7  Catherine Meadows, Radha Poovendran, Dusko Pavlovic, LiWu Chang, Paul F. Syverson   \n",
       "\n",
       "   gold  \n",
       "0     0  \n",
       "1     0  \n",
       "2     0  \n",
       "4     0  \n",
       "5     0  \n",
       "7     0  "
      ]
     },
     "execution_count": 81,
     "metadata": {},
     "output_type": "execute_result"
    }
   ],
   "source": [
    "G"
   ]
  },
  {
   "cell_type": "code",
   "execution_count": 82,
   "metadata": {},
   "outputs": [
    {
     "name": "stderr",
     "output_type": "stream",
     "text": [
      "c:\\users\\rmartinez4\\anaconda3\\envs\\py37\\lib\\site-packages\\py_entitymatching\\matcher\\matcherutils.py:98: FutureWarning: The pandas.np module is deprecated and will be removed from pandas in a future version. Import numpy directly instead\n",
      "  idx_values = pd.np.array(labeled_data.index.values)\n"
     ]
    }
   ],
   "source": [
    "# Split S into development set (I) and evaluation set (J)\n",
    "IJ = em.split_train_test(G, train_proportion=0.5, random_state=0)\n",
    "I = IJ['train']\n",
    "J = IJ['test']"
   ]
  },
  {
   "cell_type": "code",
   "execution_count": 83,
   "metadata": {},
   "outputs": [
    {
     "data": {
      "text/html": [
       "<div>\n",
       "<style scoped>\n",
       "    .dataframe tbody tr th:only-of-type {\n",
       "        vertical-align: middle;\n",
       "    }\n",
       "\n",
       "    .dataframe tbody tr th {\n",
       "        vertical-align: top;\n",
       "    }\n",
       "\n",
       "    .dataframe thead th {\n",
       "        text-align: right;\n",
       "    }\n",
       "</style>\n",
       "<table border=\"1\" class=\"dataframe\">\n",
       "  <thead>\n",
       "    <tr style=\"text-align: right;\">\n",
       "      <th></th>\n",
       "      <th>_id</th>\n",
       "      <th>ltable_id</th>\n",
       "      <th>rtable_id</th>\n",
       "      <th>ltable_title</th>\n",
       "      <th>ltable_authors</th>\n",
       "      <th>rtable_title</th>\n",
       "      <th>rtable_authors</th>\n",
       "      <th>gold</th>\n",
       "    </tr>\n",
       "  </thead>\n",
       "  <tbody>\n",
       "    <tr>\n",
       "      <th>4</th>\n",
       "      <td>4</td>\n",
       "      <td>65152</td>\n",
       "      <td>24079</td>\n",
       "      <td>Supporting Social Interaction: Role of Social Presence Supporting Social Interaction in Virtual ...</td>\n",
       "      <td>Kathy Shen, Angela Yu, Mohamed Khalifa, Kathy Ning Shen, Mohamed Khalifa, Angela Yan Yu</td>\n",
       "      <td>Build Up Organizational Innovativeness: An Integrated View.</td>\n",
       "      <td>Mohamed Khalifa, Angela Yan Yu, Kathy Ning Shen</td>\n",
       "      <td>0</td>\n",
       "    </tr>\n",
       "    <tr>\n",
       "      <th>0</th>\n",
       "      <td>0</td>\n",
       "      <td>23352</td>\n",
       "      <td>2990</td>\n",
       "      <td>Evaluating WordNet-based Measures of Lexical Semantic Relatedness</td>\n",
       "      <td>Er Budanitsky Graeme Hirst</td>\n",
       "      <td>Semantic Distance Measures with Distributional Profiles of Coarse-Grained Concepts.</td>\n",
       "      <td>Graeme Hirst, Saif Mohammad</td>\n",
       "      <td>0</td>\n",
       "    </tr>\n",
       "    <tr>\n",
       "      <th>5</th>\n",
       "      <td>5</td>\n",
       "      <td>71336</td>\n",
       "      <td>92678</td>\n",
       "      <td>Carlsberg: A Distributed Execution Environment Providing Coherent Shared Memory and Integrated M...</td>\n",
       "      <td>Povl T. Koch, Robert J. Fowler</td>\n",
       "      <td>Efficient Processing of Expressive Node-Selecting Queries on XML Data in Secondary Storage: A Tr...</td>\n",
       "      <td>Christoph Koch</td>\n",
       "      <td>0</td>\n",
       "    </tr>\n",
       "  </tbody>\n",
       "</table>\n",
       "</div>"
      ],
      "text/plain": [
       "   _id ltable_id rtable_id  \\\n",
       "4    4     65152     24079   \n",
       "0    0     23352      2990   \n",
       "5    5     71336     92678   \n",
       "\n",
       "                                                                                          ltable_title  \\\n",
       "4  Supporting Social Interaction: Role of Social Presence Supporting Social Interaction in Virtual ...   \n",
       "0                                    Evaluating WordNet-based Measures of Lexical Semantic Relatedness   \n",
       "5  Carlsberg: A Distributed Execution Environment Providing Coherent Shared Memory and Integrated M...   \n",
       "\n",
       "                                                                            ltable_authors  \\\n",
       "4  Kathy Shen, Angela Yu, Mohamed Khalifa, Kathy Ning Shen, Mohamed Khalifa, Angela Yan Yu   \n",
       "0                                                               Er Budanitsky Graeme Hirst   \n",
       "5                                                           Povl T. Koch, Robert J. Fowler   \n",
       "\n",
       "                                                                                          rtable_title  \\\n",
       "4                                          Build Up Organizational Innovativeness: An Integrated View.   \n",
       "0                  Semantic Distance Measures with Distributional Profiles of Coarse-Grained Concepts.   \n",
       "5  Efficient Processing of Expressive Node-Selecting Queries on XML Data in Secondary Storage: A Tr...   \n",
       "\n",
       "                                    rtable_authors  gold  \n",
       "4  Mohamed Khalifa, Angela Yan Yu, Kathy Ning Shen     0  \n",
       "0                      Graeme Hirst, Saif Mohammad     0  \n",
       "5                                   Christoph Koch     0  "
      ]
     },
     "execution_count": 83,
     "metadata": {},
     "output_type": "execute_result"
    }
   ],
   "source": [
    "I"
   ]
  },
  {
   "cell_type": "code",
   "execution_count": 84,
   "metadata": {},
   "outputs": [
    {
     "data": {
      "text/html": [
       "<div>\n",
       "<style scoped>\n",
       "    .dataframe tbody tr th:only-of-type {\n",
       "        vertical-align: middle;\n",
       "    }\n",
       "\n",
       "    .dataframe tbody tr th {\n",
       "        vertical-align: top;\n",
       "    }\n",
       "\n",
       "    .dataframe thead th {\n",
       "        text-align: right;\n",
       "    }\n",
       "</style>\n",
       "<table border=\"1\" class=\"dataframe\">\n",
       "  <thead>\n",
       "    <tr style=\"text-align: right;\">\n",
       "      <th></th>\n",
       "      <th>_id</th>\n",
       "      <th>ltable_id</th>\n",
       "      <th>rtable_id</th>\n",
       "      <th>ltable_title</th>\n",
       "      <th>ltable_authors</th>\n",
       "      <th>rtable_title</th>\n",
       "      <th>rtable_authors</th>\n",
       "      <th>gold</th>\n",
       "    </tr>\n",
       "  </thead>\n",
       "  <tbody>\n",
       "    <tr>\n",
       "      <th>7</th>\n",
       "      <td>7</td>\n",
       "      <td>98104</td>\n",
       "      <td>8015</td>\n",
       "      <td>Distance Bounding Protocols: Authentication Logic Analysis and Collusion Attacks</td>\n",
       "      <td>Catherine Meadows, Radha Poovendran, Dusko Pavlovic, Liwu Chang, Paul Syverson</td>\n",
       "      <td>Distance Bounding Protocols: Authentication Logic Analysis and Collusion Attacks.</td>\n",
       "      <td>Catherine Meadows, Radha Poovendran, Dusko Pavlovic, LiWu Chang, Paul F. Syverson</td>\n",
       "      <td>0</td>\n",
       "    </tr>\n",
       "    <tr>\n",
       "      <th>2</th>\n",
       "      <td>2</td>\n",
       "      <td>36207</td>\n",
       "      <td>4596</td>\n",
       "      <td>MODELING CROWD BEHAVIOR USING EMOTIONAL ANTS</td>\n",
       "      <td>Soumya Banarjee, Crina Grosan, Ajith Abraham</td>\n",
       "      <td>Stock Market Modeling Using Genetic Programming Ensembles.</td>\n",
       "      <td>Crina Grosan, Ajith Abraham</td>\n",
       "      <td>0</td>\n",
       "    </tr>\n",
       "    <tr>\n",
       "      <th>1</th>\n",
       "      <td>1</td>\n",
       "      <td>27896</td>\n",
       "      <td>5045</td>\n",
       "      <td>Abstract</td>\n",
       "      <td>O G. Lobo, Cludio F. Lima, O G. Lobo, Ualg Informatics, Cludio F. Lima, Ualg Informatics</td>\n",
       "      <td>Parameter Setting in Evolutionary Algorithms</td>\n",
       "      <td>Fernando G. Lobo, Cludio F. Lima, Zbigniew Michalewicz</td>\n",
       "      <td>0</td>\n",
       "    </tr>\n",
       "  </tbody>\n",
       "</table>\n",
       "</div>"
      ],
      "text/plain": [
       "   _id ltable_id rtable_id  \\\n",
       "7    7     98104      8015   \n",
       "2    2     36207      4596   \n",
       "1    1     27896      5045   \n",
       "\n",
       "                                                                       ltable_title  \\\n",
       "7  Distance Bounding Protocols: Authentication Logic Analysis and Collusion Attacks   \n",
       "2                                      MODELING CROWD BEHAVIOR USING EMOTIONAL ANTS   \n",
       "1                                                                          Abstract   \n",
       "\n",
       "                                                                             ltable_authors  \\\n",
       "7            Catherine Meadows, Radha Poovendran, Dusko Pavlovic, Liwu Chang, Paul Syverson   \n",
       "2                                              Soumya Banarjee, Crina Grosan, Ajith Abraham   \n",
       "1  O G. Lobo, Cludio F. Lima, O G. Lobo, Ualg Informatics, Cludio F. Lima, Ualg Informatics   \n",
       "\n",
       "                                                                        rtable_title  \\\n",
       "7  Distance Bounding Protocols: Authentication Logic Analysis and Collusion Attacks.   \n",
       "2                         Stock Market Modeling Using Genetic Programming Ensembles.   \n",
       "1                                       Parameter Setting in Evolutionary Algorithms   \n",
       "\n",
       "                                                                      rtable_authors  \\\n",
       "7  Catherine Meadows, Radha Poovendran, Dusko Pavlovic, LiWu Chang, Paul F. Syverson   \n",
       "2                                                        Crina Grosan, Ajith Abraham   \n",
       "1                             Fernando G. Lobo, Cludio F. Lima, Zbigniew Michalewicz   \n",
       "\n",
       "   gold  \n",
       "7     0  \n",
       "2     0  \n",
       "1     0  "
      ]
     },
     "execution_count": 84,
     "metadata": {},
     "output_type": "execute_result"
    }
   ],
   "source": [
    "J"
   ]
  },
  {
   "cell_type": "code",
   "execution_count": 85,
   "metadata": {},
   "outputs": [],
   "source": [
    "# Create a set of ML-matchers\n",
    "dt = em.DTMatcher(name='DecisionTree', random_state=0)\n",
    "svm = em.SVMMatcher(name='SVM', random_state=0)\n",
    "rf = em.RFMatcher(name='RF', random_state=0)\n",
    "lg = em.LogRegMatcher(name='LogReg', random_state=0)\n",
    "ln = em.LinRegMatcher(name='LinReg')\n",
    "nb = em.NBMatcher(name='NaiveBayes')"
   ]
  },
  {
   "cell_type": "code",
   "execution_count": 86,
   "metadata": {},
   "outputs": [
    {
     "name": "stderr",
     "output_type": "stream",
     "text": [
      "c:\\users\\rmartinez4\\anaconda3\\envs\\py37\\lib\\site-packages\\py_entitymatching\\feature\\attributeutils.py:191: FutureWarning: The pandas.np module is deprecated and will be removed from pandas in a future version. Import numpy directly instead\n",
      "  if returned_type == bool or returned_type == pd.np.bool_:\n"
     ]
    }
   ],
   "source": [
    "feature_table = em.get_features_for_matching(A, B, validate_inferred_attr_types=False)\n"
   ]
  },
  {
   "cell_type": "code",
   "execution_count": 87,
   "metadata": {},
   "outputs": [
    {
     "name": "stderr",
     "output_type": "stream",
     "text": [
      "c:\\users\\rmartinez4\\anaconda3\\envs\\py37\\lib\\site-packages\\py_entitymatching\\feature\\extractfeatures.py:157: FutureWarning: The pandas.np module is deprecated and will be removed from pandas in a future version. Import numpy directly instead\n",
      "  c_splits = pd.np.array_split(candset, n_procs)\n"
     ]
    },
    {
     "ename": "AttributeError",
     "evalue": "module 'cloudpickle.cloudpickle' has no attribute 'dumps'",
     "output_type": "error",
     "traceback": [
      "\u001b[1;31m---------------------------------------------------------------------------\u001b[0m",
      "\u001b[1;31mAttributeError\u001b[0m                            Traceback (most recent call last)",
      "\u001b[1;32m<ipython-input-87-0c4be9cf8afc>\u001b[0m in \u001b[0;36m<module>\u001b[1;34m()\u001b[0m\n\u001b[0;32m      3\u001b[0m                             \u001b[0mfeature_table\u001b[0m\u001b[1;33m=\u001b[0m\u001b[0mfeature_table\u001b[0m\u001b[1;33m,\u001b[0m\u001b[1;33m\u001b[0m\u001b[1;33m\u001b[0m\u001b[0m\n\u001b[0;32m      4\u001b[0m                             \u001b[0mattrs_after\u001b[0m\u001b[1;33m=\u001b[0m\u001b[1;34m'gold'\u001b[0m\u001b[1;33m,\u001b[0m\u001b[1;33m\u001b[0m\u001b[1;33m\u001b[0m\u001b[0m\n\u001b[1;32m----> 5\u001b[1;33m                             show_progress=False)\n\u001b[0m",
      "\u001b[1;32mc:\\users\\rmartinez4\\anaconda3\\envs\\py37\\lib\\site-packages\\py_entitymatching\\feature\\extractfeatures.py\u001b[0m in \u001b[0;36mextract_feature_vecs\u001b[1;34m(candset, attrs_before, feature_table, attrs_after, verbose, show_progress, n_jobs)\u001b[0m\n\u001b[0;32m    157\u001b[0m     \u001b[0mc_splits\u001b[0m \u001b[1;33m=\u001b[0m \u001b[0mpd\u001b[0m\u001b[1;33m.\u001b[0m\u001b[0mnp\u001b[0m\u001b[1;33m.\u001b[0m\u001b[0marray_split\u001b[0m\u001b[1;33m(\u001b[0m\u001b[0mcandset\u001b[0m\u001b[1;33m,\u001b[0m \u001b[0mn_procs\u001b[0m\u001b[1;33m)\u001b[0m\u001b[1;33m\u001b[0m\u001b[1;33m\u001b[0m\u001b[0m\n\u001b[0;32m    158\u001b[0m \u001b[1;33m\u001b[0m\u001b[0m\n\u001b[1;32m--> 159\u001b[1;33m     \u001b[0mpickled_obj\u001b[0m \u001b[1;33m=\u001b[0m \u001b[0mcloudpickle\u001b[0m\u001b[1;33m.\u001b[0m\u001b[0mdumps\u001b[0m\u001b[1;33m(\u001b[0m\u001b[0mfeature_table\u001b[0m\u001b[1;33m)\u001b[0m\u001b[1;33m\u001b[0m\u001b[1;33m\u001b[0m\u001b[0m\n\u001b[0m\u001b[0;32m    160\u001b[0m \u001b[1;33m\u001b[0m\u001b[0m\n\u001b[0;32m    161\u001b[0m     feat_vals_by_splits = Parallel(n_jobs=n_procs)(delayed(get_feature_vals_by_cand_split)(pickled_obj,\n",
      "\u001b[1;31mAttributeError\u001b[0m: module 'cloudpickle.cloudpickle' has no attribute 'dumps'"
     ]
    }
   ],
   "source": [
    "# Convert the I into a set of feature vectors using F\n",
    "H = em.extract_feature_vecs(I, \n",
    "                            feature_table=feature_table, \n",
    "                            attrs_after='gold',\n",
    "                            show_progress=False)"
   ]
  },
  {
   "cell_type": "code",
   "execution_count": null,
   "metadata": {},
   "outputs": [],
   "source": []
  },
  {
   "cell_type": "code",
   "execution_count": null,
   "metadata": {},
   "outputs": [],
   "source": []
  },
  {
   "cell_type": "markdown",
   "metadata": {},
   "source": [
    "## Label the Sampled Set"
   ]
  },
  {
   "cell_type": "code",
   "execution_count": 149,
   "metadata": {},
   "outputs": [
    {
     "name": "stderr",
     "output_type": "stream",
     "text": [
      "Column name (gold_label) is not present in dataframe\n"
     ]
    }
   ],
   "source": [
    "# Label the sampled set\n",
    "# Specify the name for the label column\n",
    "G = em.label_table(C, 'gold_label')"
   ]
  },
  {
   "cell_type": "code",
   "execution_count": 150,
   "metadata": {},
   "outputs": [
    {
     "data": {
      "text/plain": [
       "9"
      ]
     },
     "execution_count": 150,
     "metadata": {},
     "output_type": "execute_result"
    }
   ],
   "source": [
    "len(G)"
   ]
  },
  {
   "cell_type": "code",
   "execution_count": 151,
   "metadata": {},
   "outputs": [],
   "source": [
    "# Assume that we have labeled the data and stored it in \n",
    "# labeled_data_demo.csv\n",
    "\n",
    "# path_labeled_data = datasets_dir + os.sep + 'labeled_data_demo.csv'\n",
    "# G = em.read_csv_metadata(path_labeled_data, key='_id', \n",
    "#                          fk_ltable='ltable_id', fk_rtable='rtable_id',\n",
    "#                          ltable=A, rtable=B)"
   ]
  },
  {
   "cell_type": "code",
   "execution_count": 152,
   "metadata": {},
   "outputs": [
    {
     "data": {
      "text/html": [
       "<div>\n",
       "<style scoped>\n",
       "    .dataframe tbody tr th:only-of-type {\n",
       "        vertical-align: middle;\n",
       "    }\n",
       "\n",
       "    .dataframe tbody tr th {\n",
       "        vertical-align: top;\n",
       "    }\n",
       "\n",
       "    .dataframe thead th {\n",
       "        text-align: right;\n",
       "    }\n",
       "</style>\n",
       "<table border=\"1\" class=\"dataframe\">\n",
       "  <thead>\n",
       "    <tr style=\"text-align: right;\">\n",
       "      <th></th>\n",
       "      <th>_id</th>\n",
       "      <th>ltable_id</th>\n",
       "      <th>rtable_id</th>\n",
       "      <th>ltable_title</th>\n",
       "      <th>ltable_authors</th>\n",
       "      <th>rtable_title</th>\n",
       "      <th>rtable_authors</th>\n",
       "      <th>gold_label</th>\n",
       "    </tr>\n",
       "  </thead>\n",
       "  <tbody>\n",
       "    <tr>\n",
       "      <th>0</th>\n",
       "      <td>0</td>\n",
       "      <td>1569</td>\n",
       "      <td>76915</td>\n",
       "      <td>Statistical Performance Modeling and Optimization</td>\n",
       "      <td>Xin Li, Jiayong Le, Lawrence T. Pileggi</td>\n",
       "      <td>STAC: statistical timing analysis with correlation.</td>\n",
       "      <td>Jiayong Le, Xin Li, Lawrence T. Pileggi</td>\n",
       "      <td>0</td>\n",
       "    </tr>\n",
       "    <tr>\n",
       "      <th>1</th>\n",
       "      <td>1</td>\n",
       "      <td>13049</td>\n",
       "      <td>84477</td>\n",
       "      <td>Pacific Symposium on Biocomputing 14:264-275 (2009) DISSECTING THE INTERFACE BETWEEN SIGNALING A...</td>\n",
       "      <td>Human B Cells, Kai Wang, Mariano J. Alvarez, Brygida C. Bisikirska, Rune Linding, Katia Basso, R...</td>\n",
       "      <td>Dissecting the Interface Between Signaling and Transcriptional Regulation in Human B Cells.</td>\n",
       "      <td>Kai Wang, Mariano J. Alvarez, Brygida C. Bisikirska, Rune Linding, Katia Basso, Riccardo Dalla F...</td>\n",
       "      <td>0</td>\n",
       "    </tr>\n",
       "    <tr>\n",
       "      <th>2</th>\n",
       "      <td>2</td>\n",
       "      <td>29366</td>\n",
       "      <td>25032</td>\n",
       "      <td>Electric Reliability Technology Solutions and was funded by the Office of Electric</td>\n",
       "      <td>Ian Dobson, Benjamin A. Carreras</td>\n",
       "      <td>Understanding the Effect of Risk Aversion on Risk.</td>\n",
       "      <td>U. S. Bhatt, David E. Newman, Benjamin A. Carreras, Ian Dobson</td>\n",
       "      <td>0</td>\n",
       "    </tr>\n",
       "    <tr>\n",
       "      <th>3</th>\n",
       "      <td>3</td>\n",
       "      <td>31914</td>\n",
       "      <td>73030</td>\n",
       "      <td>Minimally Synchronous Parallel ML with Parallel Composition</td>\n",
       "      <td>Radia Benheddi, Frdric Loulergue</td>\n",
       "      <td>Parallel composition and bulk synchronous parallel functional programming.</td>\n",
       "      <td>Frdric Loulergue</td>\n",
       "      <td>0</td>\n",
       "    </tr>\n",
       "    <tr>\n",
       "      <th>4</th>\n",
       "      <td>4</td>\n",
       "      <td>36852</td>\n",
       "      <td>45632</td>\n",
       "      <td>Seeing Speech: Capturing Vocal Tract Shaping Using Real-Time Magnetic Resonance Imaging Understa...</td>\n",
       "      <td>Krishna Nayak, Dani Byrd, Shrikanth Narayanan</td>\n",
       "      <td>Accelerated 3D MRI of vocal tract shaping using compressed sensing and parallel imaging.</td>\n",
       "      <td>Yoon-Chul Kim, Shrikanth S. Narayanan, Krishna S. Nayak</td>\n",
       "      <td>0</td>\n",
       "    </tr>\n",
       "  </tbody>\n",
       "</table>\n",
       "</div>"
      ],
      "text/plain": [
       "   _id ltable_id rtable_id  \\\n",
       "0    0      1569     76915   \n",
       "1    1     13049     84477   \n",
       "2    2     29366     25032   \n",
       "3    3     31914     73030   \n",
       "4    4     36852     45632   \n",
       "\n",
       "                                                                                          ltable_title  \\\n",
       "0                                                    Statistical Performance Modeling and Optimization   \n",
       "1  Pacific Symposium on Biocomputing 14:264-275 (2009) DISSECTING THE INTERFACE BETWEEN SIGNALING A...   \n",
       "2                   Electric Reliability Technology Solutions and was funded by the Office of Electric   \n",
       "3                                          Minimally Synchronous Parallel ML with Parallel Composition   \n",
       "4  Seeing Speech: Capturing Vocal Tract Shaping Using Real-Time Magnetic Resonance Imaging Understa...   \n",
       "\n",
       "                                                                                        ltable_authors  \\\n",
       "0                                                              Xin Li, Jiayong Le, Lawrence T. Pileggi   \n",
       "1  Human B Cells, Kai Wang, Mariano J. Alvarez, Brygida C. Bisikirska, Rune Linding, Katia Basso, R...   \n",
       "2                                                                     Ian Dobson, Benjamin A. Carreras   \n",
       "3                                                                     Radia Benheddi, Frdric Loulergue   \n",
       "4                                                        Krishna Nayak, Dani Byrd, Shrikanth Narayanan   \n",
       "\n",
       "                                                                                  rtable_title  \\\n",
       "0                                          STAC: statistical timing analysis with correlation.   \n",
       "1  Dissecting the Interface Between Signaling and Transcriptional Regulation in Human B Cells.   \n",
       "2                                           Understanding the Effect of Risk Aversion on Risk.   \n",
       "3                   Parallel composition and bulk synchronous parallel functional programming.   \n",
       "4     Accelerated 3D MRI of vocal tract shaping using compressed sensing and parallel imaging.   \n",
       "\n",
       "                                                                                        rtable_authors  \\\n",
       "0                                                              Jiayong Le, Xin Li, Lawrence T. Pileggi   \n",
       "1  Kai Wang, Mariano J. Alvarez, Brygida C. Bisikirska, Rune Linding, Katia Basso, Riccardo Dalla F...   \n",
       "2                                       U. S. Bhatt, David E. Newman, Benjamin A. Carreras, Ian Dobson   \n",
       "3                                                                                     Frdric Loulergue   \n",
       "4                                              Yoon-Chul Kim, Shrikanth S. Narayanan, Krishna S. Nayak   \n",
       "\n",
       "   gold_label  \n",
       "0           0  \n",
       "1           0  \n",
       "2           0  \n",
       "3           0  \n",
       "4           0  "
      ]
     },
     "execution_count": 152,
     "metadata": {},
     "output_type": "execute_result"
    }
   ],
   "source": [
    "G.head()"
   ]
  },
  {
   "cell_type": "markdown",
   "metadata": {},
   "source": [
    "## Select the best learned matchers"
   ]
  },
  {
   "cell_type": "code",
   "execution_count": 67,
   "metadata": {},
   "outputs": [],
   "source": [
    "# # Get the datasets directory\n",
    "# datasets_dir = em.get_install_path() + os.sep + 'datasets'\n",
    "\n",
    "# path_A = datasets_dir + os.sep + 'dblp_demo.csv'\n",
    "# path_B = datasets_dir + os.sep + 'acm_demo.csv'\n",
    "# path_labeled_data = datasets_dir + os.sep + 'labeled_data_demo.csv'"
   ]
  },
  {
   "cell_type": "code",
   "execution_count": 68,
   "metadata": {},
   "outputs": [
    {
     "name": "stderr",
     "output_type": "stream",
     "text": [
      "Metadata file is not present in the given path; proceeding to read the csv file.\n",
      "Metadata file is not present in the given path; proceeding to read the csv file.\n"
     ]
    }
   ],
   "source": [
    "# A = em.read_csv_metadata(path_A, key='id')\n",
    "# B = em.read_csv_metadata(path_B, key='id')\n",
    "# # Load the pre-labeled data\n",
    "# S = em.read_csv_metadata(path_labeled_data, \n",
    "#                          key='_id',\n",
    "#                          ltable=A, rtable=B, \n",
    "#                          fk_ltable='ltable_id', fk_rtable='rtable_id')"
   ]
  },
  {
   "cell_type": "code",
   "execution_count": 153,
   "metadata": {},
   "outputs": [
    {
     "name": "stderr",
     "output_type": "stream",
     "text": [
      "c:\\users\\rmartinez4\\anaconda3\\envs\\py37\\lib\\site-packages\\py_entitymatching\\matcher\\matcherutils.py:98: FutureWarning: The pandas.np module is deprecated and will be removed from pandas in a future version. Import numpy directly instead\n",
      "  idx_values = pd.np.array(labeled_data.index.values)\n"
     ]
    }
   ],
   "source": [
    "# Split S into I an J\n",
    "IJ = em.split_train_test(G, train_proportion=0.5, random_state=0)\n",
    "I = IJ['train']\n",
    "J = IJ['test']"
   ]
  },
  {
   "cell_type": "code",
   "execution_count": 114,
   "metadata": {},
   "outputs": [
    {
     "data": {
      "text/html": [
       "<div>\n",
       "<style scoped>\n",
       "    .dataframe tbody tr th:only-of-type {\n",
       "        vertical-align: middle;\n",
       "    }\n",
       "\n",
       "    .dataframe tbody tr th {\n",
       "        vertical-align: top;\n",
       "    }\n",
       "\n",
       "    .dataframe thead th {\n",
       "        text-align: right;\n",
       "    }\n",
       "</style>\n",
       "<table border=\"1\" class=\"dataframe\">\n",
       "  <thead>\n",
       "    <tr style=\"text-align: right;\">\n",
       "      <th></th>\n",
       "      <th>_id</th>\n",
       "      <th>ltable_id</th>\n",
       "      <th>rtable_id</th>\n",
       "      <th>ltable_title</th>\n",
       "      <th>ltable_authors</th>\n",
       "      <th>rtable_title</th>\n",
       "      <th>rtable_authors</th>\n",
       "      <th>gold_label</th>\n",
       "    </tr>\n",
       "  </thead>\n",
       "  <tbody>\n",
       "    <tr>\n",
       "      <th>6</th>\n",
       "      <td>6</td>\n",
       "      <td>77629</td>\n",
       "      <td>32542</td>\n",
       "      <td>Code Size and Depth Flows in Genetic Programming</td>\n",
       "      <td>Terence Soule, James A. Foster</td>\n",
       "      <td>Computational Complexity, Genetic Programming, and Implications.</td>\n",
       "      <td>Bart Rylander, Terence Soule, James A. Foster</td>\n",
       "      <td>0</td>\n",
       "    </tr>\n",
       "    <tr>\n",
       "      <th>3</th>\n",
       "      <td>3</td>\n",
       "      <td>31914</td>\n",
       "      <td>73030</td>\n",
       "      <td>Minimally Synchronous Parallel ML with Parallel Composition</td>\n",
       "      <td>Radia Benheddi, Frdric Loulergue</td>\n",
       "      <td>Parallel composition and bulk synchronous parallel functional programming.</td>\n",
       "      <td>Frdric Loulergue</td>\n",
       "      <td>0</td>\n",
       "    </tr>\n",
       "    <tr>\n",
       "      <th>0</th>\n",
       "      <td>0</td>\n",
       "      <td>1569</td>\n",
       "      <td>76915</td>\n",
       "      <td>Statistical Performance Modeling and Optimization</td>\n",
       "      <td>Xin Li, Jiayong Le, Lawrence T. Pileggi</td>\n",
       "      <td>STAC: statistical timing analysis with correlation.</td>\n",
       "      <td>Jiayong Le, Xin Li, Lawrence T. Pileggi</td>\n",
       "      <td>1</td>\n",
       "    </tr>\n",
       "    <tr>\n",
       "      <th>5</th>\n",
       "      <td>5</td>\n",
       "      <td>47803</td>\n",
       "      <td>22785</td>\n",
       "      <td>An Analysis of Web Site Privacy Policy Evolution in the Presence of HIPAA</td>\n",
       "      <td>Annie I. Antn, Julia B. Earp, Matthew W. Vail, Neha Jain, Carrie Gheen, Jack M. Frink</td>\n",
       "      <td>Privacy Policy Representation in Web-based Healthcare.</td>\n",
       "      <td>Julia Brande Earp, Matthew W. Vail, Annie I. Antn</td>\n",
       "      <td>0</td>\n",
       "    </tr>\n",
       "  </tbody>\n",
       "</table>\n",
       "</div>"
      ],
      "text/plain": [
       "   _id ltable_id rtable_id  \\\n",
       "6    6     77629     32542   \n",
       "3    3     31914     73030   \n",
       "0    0      1569     76915   \n",
       "5    5     47803     22785   \n",
       "\n",
       "                                                                ltable_title  \\\n",
       "6                           Code Size and Depth Flows in Genetic Programming   \n",
       "3                Minimally Synchronous Parallel ML with Parallel Composition   \n",
       "0                          Statistical Performance Modeling and Optimization   \n",
       "5  An Analysis of Web Site Privacy Policy Evolution in the Presence of HIPAA   \n",
       "\n",
       "                                                                          ltable_authors  \\\n",
       "6                                                         Terence Soule, James A. Foster   \n",
       "3                                                       Radia Benheddi, Frdric Loulergue   \n",
       "0                                                Xin Li, Jiayong Le, Lawrence T. Pileggi   \n",
       "5  Annie I. Antn, Julia B. Earp, Matthew W. Vail, Neha Jain, Carrie Gheen, Jack M. Frink   \n",
       "\n",
       "                                                                 rtable_title  \\\n",
       "6            Computational Complexity, Genetic Programming, and Implications.   \n",
       "3  Parallel composition and bulk synchronous parallel functional programming.   \n",
       "0                         STAC: statistical timing analysis with correlation.   \n",
       "5                      Privacy Policy Representation in Web-based Healthcare.   \n",
       "\n",
       "                                      rtable_authors  gold_label  \n",
       "6      Bart Rylander, Terence Soule, James A. Foster           0  \n",
       "3                                   Frdric Loulergue           0  \n",
       "0            Jiayong Le, Xin Li, Lawrence T. Pileggi           1  \n",
       "5  Julia Brande Earp, Matthew W. Vail, Annie I. Antn           0  "
      ]
     },
     "execution_count": 114,
     "metadata": {},
     "output_type": "execute_result"
    }
   ],
   "source": [
    "I"
   ]
  },
  {
   "cell_type": "code",
   "execution_count": 115,
   "metadata": {},
   "outputs": [
    {
     "data": {
      "text/html": [
       "<div>\n",
       "<style scoped>\n",
       "    .dataframe tbody tr th:only-of-type {\n",
       "        vertical-align: middle;\n",
       "    }\n",
       "\n",
       "    .dataframe tbody tr th {\n",
       "        vertical-align: top;\n",
       "    }\n",
       "\n",
       "    .dataframe thead th {\n",
       "        text-align: right;\n",
       "    }\n",
       "</style>\n",
       "<table border=\"1\" class=\"dataframe\">\n",
       "  <thead>\n",
       "    <tr style=\"text-align: right;\">\n",
       "      <th></th>\n",
       "      <th>_id</th>\n",
       "      <th>ltable_id</th>\n",
       "      <th>rtable_id</th>\n",
       "      <th>ltable_title</th>\n",
       "      <th>ltable_authors</th>\n",
       "      <th>rtable_title</th>\n",
       "      <th>rtable_authors</th>\n",
       "      <th>gold_label</th>\n",
       "    </tr>\n",
       "  </thead>\n",
       "  <tbody>\n",
       "    <tr>\n",
       "      <th>7</th>\n",
       "      <td>7</td>\n",
       "      <td>79410</td>\n",
       "      <td>60717</td>\n",
       "      <td>1 PERILS AND PITFALLS OF PARALLEL DISCRETE-EVENT SIMULATION</td>\n",
       "      <td>Rajive L. Bagrodia</td>\n",
       "      <td>Transparent implementation of conservative algorithms in parallel simulation languages.</td>\n",
       "      <td>Vikas Jha, Rajive L. Bagrodia</td>\n",
       "      <td>0</td>\n",
       "    </tr>\n",
       "    <tr>\n",
       "      <th>2</th>\n",
       "      <td>2</td>\n",
       "      <td>29366</td>\n",
       "      <td>25032</td>\n",
       "      <td>Electric Reliability Technology Solutions and was funded by the Office of Electric</td>\n",
       "      <td>Ian Dobson, Benjamin A. Carreras</td>\n",
       "      <td>Understanding the Effect of Risk Aversion on Risk.</td>\n",
       "      <td>U. S. Bhatt, David E. Newman, Benjamin A. Carreras, Ian Dobson</td>\n",
       "      <td>0</td>\n",
       "    </tr>\n",
       "    <tr>\n",
       "      <th>1</th>\n",
       "      <td>1</td>\n",
       "      <td>13049</td>\n",
       "      <td>84477</td>\n",
       "      <td>Pacific Symposium on Biocomputing 14:264-275 (2009) DISSECTING THE INTERFACE BETWEEN SIGNALING A...</td>\n",
       "      <td>Human B Cells, Kai Wang, Mariano J. Alvarez, Brygida C. Bisikirska, Rune Linding, Katia Basso, R...</td>\n",
       "      <td>Dissecting the Interface Between Signaling and Transcriptional Regulation in Human B Cells.</td>\n",
       "      <td>Kai Wang, Mariano J. Alvarez, Brygida C. Bisikirska, Rune Linding, Katia Basso, Riccardo Dalla F...</td>\n",
       "      <td>1</td>\n",
       "    </tr>\n",
       "    <tr>\n",
       "      <th>4</th>\n",
       "      <td>4</td>\n",
       "      <td>36852</td>\n",
       "      <td>45632</td>\n",
       "      <td>Seeing Speech: Capturing Vocal Tract Shaping Using Real-Time Magnetic Resonance Imaging Understa...</td>\n",
       "      <td>Krishna Nayak, Dani Byrd, Shrikanth Narayanan</td>\n",
       "      <td>Accelerated 3D MRI of vocal tract shaping using compressed sensing and parallel imaging.</td>\n",
       "      <td>Yoon-Chul Kim, Shrikanth S. Narayanan, Krishna S. Nayak</td>\n",
       "      <td>0</td>\n",
       "    </tr>\n",
       "    <tr>\n",
       "      <th>8</th>\n",
       "      <td>8</td>\n",
       "      <td>97482</td>\n",
       "      <td>98721</td>\n",
       "      <td>Digital Object Identifier (DOI) 10.1007/s00138-004-0162-5 Applications Layer-based video registr...</td>\n",
       "      <td>Jiangjian Xiao, Mubarak Shah</td>\n",
       "      <td>Accurate Motion Layer Segmentation and Matting.</td>\n",
       "      <td>Jiangjian Xiao, Mubarak Shah</td>\n",
       "      <td>0</td>\n",
       "    </tr>\n",
       "  </tbody>\n",
       "</table>\n",
       "</div>"
      ],
      "text/plain": [
       "   _id ltable_id rtable_id  \\\n",
       "7    7     79410     60717   \n",
       "2    2     29366     25032   \n",
       "1    1     13049     84477   \n",
       "4    4     36852     45632   \n",
       "8    8     97482     98721   \n",
       "\n",
       "                                                                                          ltable_title  \\\n",
       "7                                          1 PERILS AND PITFALLS OF PARALLEL DISCRETE-EVENT SIMULATION   \n",
       "2                   Electric Reliability Technology Solutions and was funded by the Office of Electric   \n",
       "1  Pacific Symposium on Biocomputing 14:264-275 (2009) DISSECTING THE INTERFACE BETWEEN SIGNALING A...   \n",
       "4  Seeing Speech: Capturing Vocal Tract Shaping Using Real-Time Magnetic Resonance Imaging Understa...   \n",
       "8  Digital Object Identifier (DOI) 10.1007/s00138-004-0162-5 Applications Layer-based video registr...   \n",
       "\n",
       "                                                                                        ltable_authors  \\\n",
       "7                                                                                   Rajive L. Bagrodia   \n",
       "2                                                                     Ian Dobson, Benjamin A. Carreras   \n",
       "1  Human B Cells, Kai Wang, Mariano J. Alvarez, Brygida C. Bisikirska, Rune Linding, Katia Basso, R...   \n",
       "4                                                        Krishna Nayak, Dani Byrd, Shrikanth Narayanan   \n",
       "8                                                                         Jiangjian Xiao, Mubarak Shah   \n",
       "\n",
       "                                                                                  rtable_title  \\\n",
       "7      Transparent implementation of conservative algorithms in parallel simulation languages.   \n",
       "2                                           Understanding the Effect of Risk Aversion on Risk.   \n",
       "1  Dissecting the Interface Between Signaling and Transcriptional Regulation in Human B Cells.   \n",
       "4     Accelerated 3D MRI of vocal tract shaping using compressed sensing and parallel imaging.   \n",
       "8                                              Accurate Motion Layer Segmentation and Matting.   \n",
       "\n",
       "                                                                                        rtable_authors  \\\n",
       "7                                                                        Vikas Jha, Rajive L. Bagrodia   \n",
       "2                                       U. S. Bhatt, David E. Newman, Benjamin A. Carreras, Ian Dobson   \n",
       "1  Kai Wang, Mariano J. Alvarez, Brygida C. Bisikirska, Rune Linding, Katia Basso, Riccardo Dalla F...   \n",
       "4                                              Yoon-Chul Kim, Shrikanth S. Narayanan, Krishna S. Nayak   \n",
       "8                                                                         Jiangjian Xiao, Mubarak Shah   \n",
       "\n",
       "   gold_label  \n",
       "7           0  \n",
       "2           0  \n",
       "1           1  \n",
       "4           0  \n",
       "8           0  "
      ]
     },
     "execution_count": 115,
     "metadata": {},
     "output_type": "execute_result"
    }
   ],
   "source": [
    "J"
   ]
  },
  {
   "cell_type": "code",
   "execution_count": 116,
   "metadata": {},
   "outputs": [],
   "source": [
    "# Create a set of ML-matchers\n",
    "dt = em.DTMatcher(name='DecisionTree', random_state=0)\n",
    "svm = em.SVMMatcher(name='SVM', random_state=0)\n",
    "rf = em.RFMatcher(name='RF', random_state=0)\n",
    "lg = em.LogRegMatcher(name='LogReg', random_state=0)\n",
    "ln = em.LinRegMatcher(name='LinReg')"
   ]
  },
  {
   "cell_type": "code",
   "execution_count": 117,
   "metadata": {},
   "outputs": [
    {
     "name": "stderr",
     "output_type": "stream",
     "text": [
      "c:\\users\\rmartinez4\\anaconda3\\envs\\py37\\lib\\site-packages\\py_entitymatching\\feature\\attributeutils.py:191: FutureWarning: The pandas.np module is deprecated and will be removed from pandas in a future version. Import numpy directly instead\n",
      "  if returned_type == bool or returned_type == pd.np.bool_:\n"
     ]
    }
   ],
   "source": [
    "# Generate a set of features\n",
    "F = em.get_features_for_matching(A, B, validate_inferred_attr_types=False)"
   ]
  },
  {
   "cell_type": "code",
   "execution_count": 118,
   "metadata": {},
   "outputs": [
    {
     "data": {
      "text/plain": [
       "0                               id_id_exm\n",
       "1                               id_id_anm\n",
       "2                          id_id_lev_dist\n",
       "3                           id_id_lev_sim\n",
       "4             title_title_jac_qgm_3_qgm_3\n",
       "5         title_title_cos_dlm_dc0_dlm_dc0\n",
       "6                         title_title_mel\n",
       "7                    title_title_lev_dist\n",
       "8                     title_title_lev_sim\n",
       "9         authors_authors_jac_qgm_3_qgm_3\n",
       "10    authors_authors_cos_dlm_dc0_dlm_dc0\n",
       "11                    authors_authors_mel\n",
       "12               authors_authors_lev_dist\n",
       "13                authors_authors_lev_sim\n",
       "Name: feature_name, dtype: object"
      ]
     },
     "execution_count": 118,
     "metadata": {},
     "output_type": "execute_result"
    }
   ],
   "source": [
    "F.feature_name"
   ]
  },
  {
   "cell_type": "markdown",
   "metadata": {},
   "source": [
    "#### Extracting Feature Vector"
   ]
  },
  {
   "cell_type": "code",
   "execution_count": 119,
   "metadata": {},
   "outputs": [
    {
     "name": "stderr",
     "output_type": "stream",
     "text": [
      "Column name (label) is not present in dataframe\n",
      "The attributes mentioned in attrs_after is not present in the input table\n"
     ]
    },
    {
     "ename": "AssertionError",
     "evalue": "The attributes mentioned in attrs_after is not present in the input table",
     "output_type": "error",
     "traceback": [
      "\u001b[1;31m---------------------------------------------------------------------------\u001b[0m",
      "\u001b[1;31mAssertionError\u001b[0m                            Traceback (most recent call last)",
      "\u001b[1;32m<ipython-input-119-a71b6981db18>\u001b[0m in \u001b[0;36m<module>\u001b[1;34m()\u001b[0m\n\u001b[0;32m      3\u001b[0m                             \u001b[0mfeature_table\u001b[0m\u001b[1;33m=\u001b[0m\u001b[0mF\u001b[0m\u001b[1;33m,\u001b[0m\u001b[1;33m\u001b[0m\u001b[1;33m\u001b[0m\u001b[0m\n\u001b[0;32m      4\u001b[0m                             \u001b[0mattrs_after\u001b[0m\u001b[1;33m=\u001b[0m\u001b[1;34m'label'\u001b[0m\u001b[1;33m,\u001b[0m\u001b[1;33m\u001b[0m\u001b[1;33m\u001b[0m\u001b[0m\n\u001b[1;32m----> 5\u001b[1;33m                             show_progress=False)\n\u001b[0m",
      "\u001b[1;32mc:\\users\\rmartinez4\\anaconda3\\envs\\py37\\lib\\site-packages\\py_entitymatching\\feature\\extractfeatures.py\u001b[0m in \u001b[0;36mextract_feature_vecs\u001b[1;34m(candset, attrs_before, feature_table, attrs_after, verbose, show_progress, n_jobs)\u001b[0m\n\u001b[0;32m    108\u001b[0m                 'in the input table')\n\u001b[0;32m    109\u001b[0m             raise AssertionError(\n\u001b[1;32m--> 110\u001b[1;33m                 \u001b[1;34m'The attributes mentioned in attrs_after is not present '\u001b[0m\u001b[1;33m\u001b[0m\u001b[1;33m\u001b[0m\u001b[0m\n\u001b[0m\u001b[0;32m    111\u001b[0m                 'in the input table')\n\u001b[0;32m    112\u001b[0m \u001b[1;33m\u001b[0m\u001b[0m\n",
      "\u001b[1;31mAssertionError\u001b[0m: The attributes mentioned in attrs_after is not present in the input table"
     ]
    }
   ],
   "source": [
    "# Convert the I into a set of feature vectors using F\n",
    "H = em.extract_feature_vecs(I, \n",
    "                            feature_table=F, \n",
    "                            attrs_after='label',\n",
    "                            show_progress=False)"
   ]
  },
  {
   "cell_type": "code",
   "execution_count": 75,
   "metadata": {},
   "outputs": [
    {
     "data": {
      "text/html": [
       "<div>\n",
       "<style scoped>\n",
       "    .dataframe tbody tr th:only-of-type {\n",
       "        vertical-align: middle;\n",
       "    }\n",
       "\n",
       "    .dataframe tbody tr th {\n",
       "        vertical-align: top;\n",
       "    }\n",
       "\n",
       "    .dataframe thead th {\n",
       "        text-align: right;\n",
       "    }\n",
       "</style>\n",
       "<table border=\"1\" class=\"dataframe\">\n",
       "  <thead>\n",
       "    <tr style=\"text-align: right;\">\n",
       "      <th></th>\n",
       "      <th>_id</th>\n",
       "      <th>ltable_id</th>\n",
       "      <th>rtable_id</th>\n",
       "      <th>id_id_lev_dist</th>\n",
       "      <th>id_id_lev_sim</th>\n",
       "      <th>id_id_jar</th>\n",
       "      <th>id_id_jwn</th>\n",
       "      <th>id_id_exm</th>\n",
       "      <th>id_id_jac_qgm_3_qgm_3</th>\n",
       "      <th>title_title_jac_qgm_3_qgm_3</th>\n",
       "      <th>...</th>\n",
       "      <th>authors_authors_jac_qgm_3_qgm_3</th>\n",
       "      <th>authors_authors_cos_dlm_dc0_dlm_dc0</th>\n",
       "      <th>authors_authors_mel</th>\n",
       "      <th>authors_authors_lev_dist</th>\n",
       "      <th>authors_authors_lev_sim</th>\n",
       "      <th>year_year_exm</th>\n",
       "      <th>year_year_anm</th>\n",
       "      <th>year_year_lev_dist</th>\n",
       "      <th>year_year_lev_sim</th>\n",
       "      <th>label</th>\n",
       "    </tr>\n",
       "  </thead>\n",
       "  <tbody>\n",
       "    <tr>\n",
       "      <th>430</th>\n",
       "      <td>430</td>\n",
       "      <td>l1494</td>\n",
       "      <td>r1257</td>\n",
       "      <td>4</td>\n",
       "      <td>0.20</td>\n",
       "      <td>0.466667</td>\n",
       "      <td>0.466667</td>\n",
       "      <td>0</td>\n",
       "      <td>0.000000</td>\n",
       "      <td>0.000000</td>\n",
       "      <td>...</td>\n",
       "      <td>0.000000</td>\n",
       "      <td>0.000000</td>\n",
       "      <td>0.445707</td>\n",
       "      <td>44.0</td>\n",
       "      <td>0.083333</td>\n",
       "      <td>1</td>\n",
       "      <td>1.0</td>\n",
       "      <td>0.0</td>\n",
       "      <td>1.0</td>\n",
       "      <td>0</td>\n",
       "    </tr>\n",
       "    <tr>\n",
       "      <th>35</th>\n",
       "      <td>35</td>\n",
       "      <td>l1385</td>\n",
       "      <td>r1160</td>\n",
       "      <td>4</td>\n",
       "      <td>0.20</td>\n",
       "      <td>0.466667</td>\n",
       "      <td>0.466667</td>\n",
       "      <td>0</td>\n",
       "      <td>0.000000</td>\n",
       "      <td>0.025641</td>\n",
       "      <td>...</td>\n",
       "      <td>0.000000</td>\n",
       "      <td>0.000000</td>\n",
       "      <td>0.589417</td>\n",
       "      <td>43.0</td>\n",
       "      <td>0.271186</td>\n",
       "      <td>1</td>\n",
       "      <td>1.0</td>\n",
       "      <td>0.0</td>\n",
       "      <td>1.0</td>\n",
       "      <td>0</td>\n",
       "    </tr>\n",
       "    <tr>\n",
       "      <th>394</th>\n",
       "      <td>394</td>\n",
       "      <td>l1345</td>\n",
       "      <td>r85</td>\n",
       "      <td>4</td>\n",
       "      <td>0.20</td>\n",
       "      <td>0.000000</td>\n",
       "      <td>0.000000</td>\n",
       "      <td>0</td>\n",
       "      <td>0.090909</td>\n",
       "      <td>1.000000</td>\n",
       "      <td>...</td>\n",
       "      <td>0.951111</td>\n",
       "      <td>0.945946</td>\n",
       "      <td>0.822080</td>\n",
       "      <td>172.0</td>\n",
       "      <td>0.338462</td>\n",
       "      <td>1</td>\n",
       "      <td>1.0</td>\n",
       "      <td>0.0</td>\n",
       "      <td>1.0</td>\n",
       "      <td>1</td>\n",
       "    </tr>\n",
       "    <tr>\n",
       "      <th>29</th>\n",
       "      <td>29</td>\n",
       "      <td>l611</td>\n",
       "      <td>r141</td>\n",
       "      <td>3</td>\n",
       "      <td>0.25</td>\n",
       "      <td>0.666667</td>\n",
       "      <td>0.666667</td>\n",
       "      <td>0</td>\n",
       "      <td>0.090909</td>\n",
       "      <td>0.049383</td>\n",
       "      <td>...</td>\n",
       "      <td>0.000000</td>\n",
       "      <td>0.000000</td>\n",
       "      <td>0.531543</td>\n",
       "      <td>26.0</td>\n",
       "      <td>0.277778</td>\n",
       "      <td>1</td>\n",
       "      <td>1.0</td>\n",
       "      <td>0.0</td>\n",
       "      <td>1.0</td>\n",
       "      <td>0</td>\n",
       "    </tr>\n",
       "    <tr>\n",
       "      <th>181</th>\n",
       "      <td>181</td>\n",
       "      <td>l1164</td>\n",
       "      <td>r1161</td>\n",
       "      <td>2</td>\n",
       "      <td>0.60</td>\n",
       "      <td>0.733333</td>\n",
       "      <td>0.733333</td>\n",
       "      <td>0</td>\n",
       "      <td>0.076923</td>\n",
       "      <td>1.000000</td>\n",
       "      <td>...</td>\n",
       "      <td>0.592593</td>\n",
       "      <td>0.668153</td>\n",
       "      <td>0.684700</td>\n",
       "      <td>34.0</td>\n",
       "      <td>0.244444</td>\n",
       "      <td>1</td>\n",
       "      <td>1.0</td>\n",
       "      <td>0.0</td>\n",
       "      <td>1.0</td>\n",
       "      <td>1</td>\n",
       "    </tr>\n",
       "  </tbody>\n",
       "</table>\n",
       "<p>5 rows × 24 columns</p>\n",
       "</div>"
      ],
      "text/plain": [
       "     _id ltable_id rtable_id  id_id_lev_dist  id_id_lev_sim  id_id_jar  \\\n",
       "430  430     l1494     r1257               4           0.20   0.466667   \n",
       "35    35     l1385     r1160               4           0.20   0.466667   \n",
       "394  394     l1345       r85               4           0.20   0.000000   \n",
       "29    29      l611      r141               3           0.25   0.666667   \n",
       "181  181     l1164     r1161               2           0.60   0.733333   \n",
       "\n",
       "     id_id_jwn  id_id_exm  id_id_jac_qgm_3_qgm_3  title_title_jac_qgm_3_qgm_3  \\\n",
       "430   0.466667          0               0.000000                     0.000000   \n",
       "35    0.466667          0               0.000000                     0.025641   \n",
       "394   0.000000          0               0.090909                     1.000000   \n",
       "29    0.666667          0               0.090909                     0.049383   \n",
       "181   0.733333          0               0.076923                     1.000000   \n",
       "\n",
       "     ...  authors_authors_jac_qgm_3_qgm_3  \\\n",
       "430  ...                         0.000000   \n",
       "35   ...                         0.000000   \n",
       "394  ...                         0.951111   \n",
       "29   ...                         0.000000   \n",
       "181  ...                         0.592593   \n",
       "\n",
       "     authors_authors_cos_dlm_dc0_dlm_dc0  authors_authors_mel  \\\n",
       "430                             0.000000             0.445707   \n",
       "35                              0.000000             0.589417   \n",
       "394                             0.945946             0.822080   \n",
       "29                              0.000000             0.531543   \n",
       "181                             0.668153             0.684700   \n",
       "\n",
       "     authors_authors_lev_dist  authors_authors_lev_sim  year_year_exm  \\\n",
       "430                      44.0                 0.083333              1   \n",
       "35                       43.0                 0.271186              1   \n",
       "394                     172.0                 0.338462              1   \n",
       "29                       26.0                 0.277778              1   \n",
       "181                      34.0                 0.244444              1   \n",
       "\n",
       "     year_year_anm  year_year_lev_dist  year_year_lev_sim  label  \n",
       "430            1.0                 0.0                1.0      0  \n",
       "35             1.0                 0.0                1.0      0  \n",
       "394            1.0                 0.0                1.0      1  \n",
       "29             1.0                 0.0                1.0      0  \n",
       "181            1.0                 0.0                1.0      1  \n",
       "\n",
       "[5 rows x 24 columns]"
      ]
     },
     "execution_count": 75,
     "metadata": {},
     "output_type": "execute_result"
    }
   ],
   "source": [
    "# # Display first few rows\n",
    "# H.head()"
   ]
  },
  {
   "cell_type": "code",
   "execution_count": 76,
   "metadata": {},
   "outputs": [
    {
     "data": {
      "text/plain": [
       "True"
      ]
     },
     "execution_count": 76,
     "metadata": {},
     "output_type": "execute_result"
    }
   ],
   "source": [
    "# # Check if the feature vectors contain missing values\n",
    "# # A return value of True means that there are missing values\n",
    "# any(pd.notnull(H))"
   ]
  },
  {
   "cell_type": "code",
   "execution_count": 77,
   "metadata": {},
   "outputs": [
    {
     "name": "stderr",
     "output_type": "stream",
     "text": [
      "/Library/Frameworks/Python.framework/Versions/3.7/lib/python3.7/site-packages/sklearn/utils/deprecation.py:66: DeprecationWarning: Class Imputer is deprecated; Imputer was deprecated in version 0.20 and will be removed in 0.22. Import impute.SimpleImputer from sklearn instead.\n",
      "  warnings.warn(msg, category=DeprecationWarning)\n"
     ]
    }
   ],
   "source": [
    "# # Impute feature vectors with the mean of the column values.\n",
    "# H = em.impute_table(H, \n",
    "#                 exclude_attrs=['_id', 'ltable_id', 'rtable_id', 'label'],\n",
    "#                 strategy='mean')"
   ]
  },
  {
   "cell_type": "markdown",
   "metadata": {},
   "source": [
    "#### Selecting the best matcher using cross-validation"
   ]
  },
  {
   "cell_type": "code",
   "execution_count": 78,
   "metadata": {},
   "outputs": [
    {
     "data": {
      "text/html": [
       "<div>\n",
       "<style scoped>\n",
       "    .dataframe tbody tr th:only-of-type {\n",
       "        vertical-align: middle;\n",
       "    }\n",
       "\n",
       "    .dataframe tbody tr th {\n",
       "        vertical-align: top;\n",
       "    }\n",
       "\n",
       "    .dataframe thead th {\n",
       "        text-align: right;\n",
       "    }\n",
       "</style>\n",
       "<table border=\"1\" class=\"dataframe\">\n",
       "  <thead>\n",
       "    <tr style=\"text-align: right;\">\n",
       "      <th></th>\n",
       "      <th>Matcher</th>\n",
       "      <th>Average precision</th>\n",
       "      <th>Average recall</th>\n",
       "      <th>Average f1</th>\n",
       "    </tr>\n",
       "  </thead>\n",
       "  <tbody>\n",
       "    <tr>\n",
       "      <th>0</th>\n",
       "      <td>DecisionTree</td>\n",
       "      <td>0.915322</td>\n",
       "      <td>0.950714</td>\n",
       "      <td>0.930980</td>\n",
       "    </tr>\n",
       "    <tr>\n",
       "      <th>1</th>\n",
       "      <td>RF</td>\n",
       "      <td>1.000000</td>\n",
       "      <td>0.950714</td>\n",
       "      <td>0.974131</td>\n",
       "    </tr>\n",
       "    <tr>\n",
       "      <th>2</th>\n",
       "      <td>SVM</td>\n",
       "      <td>0.977778</td>\n",
       "      <td>0.810632</td>\n",
       "      <td>0.883248</td>\n",
       "    </tr>\n",
       "    <tr>\n",
       "      <th>3</th>\n",
       "      <td>LinReg</td>\n",
       "      <td>1.000000</td>\n",
       "      <td>0.935330</td>\n",
       "      <td>0.966131</td>\n",
       "    </tr>\n",
       "    <tr>\n",
       "      <th>4</th>\n",
       "      <td>LogReg</td>\n",
       "      <td>0.985714</td>\n",
       "      <td>0.935330</td>\n",
       "      <td>0.958724</td>\n",
       "    </tr>\n",
       "  </tbody>\n",
       "</table>\n",
       "</div>"
      ],
      "text/plain": [
       "        Matcher  Average precision  Average recall  Average f1\n",
       "0  DecisionTree           0.915322        0.950714    0.930980\n",
       "1            RF           1.000000        0.950714    0.974131\n",
       "2           SVM           0.977778        0.810632    0.883248\n",
       "3        LinReg           1.000000        0.935330    0.966131\n",
       "4        LogReg           0.985714        0.935330    0.958724"
      ]
     },
     "execution_count": 78,
     "metadata": {},
     "output_type": "execute_result"
    }
   ],
   "source": [
    "# # Select the best ML matcher using CV\n",
    "# result = em.select_matcher([dt, rf, svm, ln, lg], table=H, \n",
    "#         exclude_attrs=['_id', 'ltable_id', 'rtable_id', 'label'],\n",
    "#         k=5,\n",
    "#         target_attr='label', metric_to_select_matcher='f1', random_state=0)\n",
    "# result['cv_stats']"
   ]
  },
  {
   "cell_type": "code",
   "execution_count": 79,
   "metadata": {},
   "outputs": [
    {
     "data": {
      "text/html": [
       "<div>\n",
       "<style scoped>\n",
       "    .dataframe tbody tr th:only-of-type {\n",
       "        vertical-align: middle;\n",
       "    }\n",
       "\n",
       "    .dataframe tbody tr th {\n",
       "        vertical-align: top;\n",
       "    }\n",
       "\n",
       "    .dataframe thead th {\n",
       "        text-align: right;\n",
       "    }\n",
       "</style>\n",
       "<table border=\"1\" class=\"dataframe\">\n",
       "  <thead>\n",
       "    <tr style=\"text-align: right;\">\n",
       "      <th></th>\n",
       "      <th>Name</th>\n",
       "      <th>Matcher</th>\n",
       "      <th>Num folds</th>\n",
       "      <th>Fold 1</th>\n",
       "      <th>Fold 2</th>\n",
       "      <th>Fold 3</th>\n",
       "      <th>Fold 4</th>\n",
       "      <th>Fold 5</th>\n",
       "      <th>Mean score</th>\n",
       "    </tr>\n",
       "  </thead>\n",
       "  <tbody>\n",
       "    <tr>\n",
       "      <th>0</th>\n",
       "      <td>DecisionTree</td>\n",
       "      <td>&lt;py_entitymatching.matcher.dtmatcher.DTMatcher object at 0x1435d2310&gt;</td>\n",
       "      <td>5</td>\n",
       "      <td>0.95</td>\n",
       "      <td>1.000000</td>\n",
       "      <td>0.764706</td>\n",
       "      <td>0.933333</td>\n",
       "      <td>0.928571</td>\n",
       "      <td>0.915322</td>\n",
       "    </tr>\n",
       "    <tr>\n",
       "      <th>1</th>\n",
       "      <td>RF</td>\n",
       "      <td>&lt;py_entitymatching.matcher.rfmatcher.RFMatcher object at 0x1435f02d0&gt;</td>\n",
       "      <td>5</td>\n",
       "      <td>1.00</td>\n",
       "      <td>1.000000</td>\n",
       "      <td>1.000000</td>\n",
       "      <td>1.000000</td>\n",
       "      <td>1.000000</td>\n",
       "      <td>1.000000</td>\n",
       "    </tr>\n",
       "    <tr>\n",
       "      <th>2</th>\n",
       "      <td>SVM</td>\n",
       "      <td>&lt;py_entitymatching.matcher.svmmatcher.SVMMatcher object at 0x1435d23d0&gt;</td>\n",
       "      <td>5</td>\n",
       "      <td>1.00</td>\n",
       "      <td>1.000000</td>\n",
       "      <td>0.888889</td>\n",
       "      <td>1.000000</td>\n",
       "      <td>1.000000</td>\n",
       "      <td>0.977778</td>\n",
       "    </tr>\n",
       "    <tr>\n",
       "      <th>3</th>\n",
       "      <td>LinReg</td>\n",
       "      <td>&lt;py_entitymatching.matcher.linregmatcher.LinRegMatcher object at 0x143382e50&gt;</td>\n",
       "      <td>5</td>\n",
       "      <td>1.00</td>\n",
       "      <td>1.000000</td>\n",
       "      <td>1.000000</td>\n",
       "      <td>1.000000</td>\n",
       "      <td>1.000000</td>\n",
       "      <td>1.000000</td>\n",
       "    </tr>\n",
       "    <tr>\n",
       "      <th>4</th>\n",
       "      <td>LogReg</td>\n",
       "      <td>&lt;py_entitymatching.matcher.logregmatcher.LogRegMatcher object at 0x143384410&gt;</td>\n",
       "      <td>5</td>\n",
       "      <td>1.00</td>\n",
       "      <td>0.928571</td>\n",
       "      <td>1.000000</td>\n",
       "      <td>1.000000</td>\n",
       "      <td>1.000000</td>\n",
       "      <td>0.985714</td>\n",
       "    </tr>\n",
       "  </tbody>\n",
       "</table>\n",
       "</div>"
      ],
      "text/plain": [
       "           Name  \\\n",
       "0  DecisionTree   \n",
       "1            RF   \n",
       "2           SVM   \n",
       "3        LinReg   \n",
       "4        LogReg   \n",
       "\n",
       "                                                                         Matcher  \\\n",
       "0          <py_entitymatching.matcher.dtmatcher.DTMatcher object at 0x1435d2310>   \n",
       "1          <py_entitymatching.matcher.rfmatcher.RFMatcher object at 0x1435f02d0>   \n",
       "2        <py_entitymatching.matcher.svmmatcher.SVMMatcher object at 0x1435d23d0>   \n",
       "3  <py_entitymatching.matcher.linregmatcher.LinRegMatcher object at 0x143382e50>   \n",
       "4  <py_entitymatching.matcher.logregmatcher.LogRegMatcher object at 0x143384410>   \n",
       "\n",
       "   Num folds  Fold 1    Fold 2    Fold 3    Fold 4    Fold 5  Mean score  \n",
       "0          5    0.95  1.000000  0.764706  0.933333  0.928571    0.915322  \n",
       "1          5    1.00  1.000000  1.000000  1.000000  1.000000    1.000000  \n",
       "2          5    1.00  1.000000  0.888889  1.000000  1.000000    0.977778  \n",
       "3          5    1.00  1.000000  1.000000  1.000000  1.000000    1.000000  \n",
       "4          5    1.00  0.928571  1.000000  1.000000  1.000000    0.985714  "
      ]
     },
     "execution_count": 79,
     "metadata": {},
     "output_type": "execute_result"
    }
   ],
   "source": [
    "# result['drill_down_cv_stats']['precision']"
   ]
  },
  {
   "cell_type": "code",
   "execution_count": 80,
   "metadata": {},
   "outputs": [
    {
     "data": {
      "text/html": [
       "<div>\n",
       "<style scoped>\n",
       "    .dataframe tbody tr th:only-of-type {\n",
       "        vertical-align: middle;\n",
       "    }\n",
       "\n",
       "    .dataframe tbody tr th {\n",
       "        vertical-align: top;\n",
       "    }\n",
       "\n",
       "    .dataframe thead th {\n",
       "        text-align: right;\n",
       "    }\n",
       "</style>\n",
       "<table border=\"1\" class=\"dataframe\">\n",
       "  <thead>\n",
       "    <tr style=\"text-align: right;\">\n",
       "      <th></th>\n",
       "      <th>Name</th>\n",
       "      <th>Matcher</th>\n",
       "      <th>Num folds</th>\n",
       "      <th>Fold 1</th>\n",
       "      <th>Fold 2</th>\n",
       "      <th>Fold 3</th>\n",
       "      <th>Fold 4</th>\n",
       "      <th>Fold 5</th>\n",
       "      <th>Mean score</th>\n",
       "    </tr>\n",
       "  </thead>\n",
       "  <tbody>\n",
       "    <tr>\n",
       "      <th>0</th>\n",
       "      <td>DecisionTree</td>\n",
       "      <td>&lt;py_entitymatching.matcher.dtmatcher.DTMatcher object at 0x1435d2310&gt;</td>\n",
       "      <td>5</td>\n",
       "      <td>0.95</td>\n",
       "      <td>1.000000</td>\n",
       "      <td>0.928571</td>\n",
       "      <td>0.8750</td>\n",
       "      <td>1.000000</td>\n",
       "      <td>0.950714</td>\n",
       "    </tr>\n",
       "    <tr>\n",
       "      <th>1</th>\n",
       "      <td>RF</td>\n",
       "      <td>&lt;py_entitymatching.matcher.rfmatcher.RFMatcher object at 0x1435f02d0&gt;</td>\n",
       "      <td>5</td>\n",
       "      <td>0.95</td>\n",
       "      <td>1.000000</td>\n",
       "      <td>0.928571</td>\n",
       "      <td>0.8750</td>\n",
       "      <td>1.000000</td>\n",
       "      <td>0.950714</td>\n",
       "    </tr>\n",
       "    <tr>\n",
       "      <th>2</th>\n",
       "      <td>SVM</td>\n",
       "      <td>&lt;py_entitymatching.matcher.svmmatcher.SVMMatcher object at 0x1435d23d0&gt;</td>\n",
       "      <td>5</td>\n",
       "      <td>0.90</td>\n",
       "      <td>0.923077</td>\n",
       "      <td>0.571429</td>\n",
       "      <td>0.8125</td>\n",
       "      <td>0.846154</td>\n",
       "      <td>0.810632</td>\n",
       "    </tr>\n",
       "    <tr>\n",
       "      <th>3</th>\n",
       "      <td>LinReg</td>\n",
       "      <td>&lt;py_entitymatching.matcher.linregmatcher.LinRegMatcher object at 0x143382e50&gt;</td>\n",
       "      <td>5</td>\n",
       "      <td>0.95</td>\n",
       "      <td>1.000000</td>\n",
       "      <td>0.928571</td>\n",
       "      <td>0.8750</td>\n",
       "      <td>0.923077</td>\n",
       "      <td>0.935330</td>\n",
       "    </tr>\n",
       "    <tr>\n",
       "      <th>4</th>\n",
       "      <td>LogReg</td>\n",
       "      <td>&lt;py_entitymatching.matcher.logregmatcher.LogRegMatcher object at 0x143384410&gt;</td>\n",
       "      <td>5</td>\n",
       "      <td>0.95</td>\n",
       "      <td>1.000000</td>\n",
       "      <td>0.928571</td>\n",
       "      <td>0.8750</td>\n",
       "      <td>0.923077</td>\n",
       "      <td>0.935330</td>\n",
       "    </tr>\n",
       "  </tbody>\n",
       "</table>\n",
       "</div>"
      ],
      "text/plain": [
       "           Name  \\\n",
       "0  DecisionTree   \n",
       "1            RF   \n",
       "2           SVM   \n",
       "3        LinReg   \n",
       "4        LogReg   \n",
       "\n",
       "                                                                         Matcher  \\\n",
       "0          <py_entitymatching.matcher.dtmatcher.DTMatcher object at 0x1435d2310>   \n",
       "1          <py_entitymatching.matcher.rfmatcher.RFMatcher object at 0x1435f02d0>   \n",
       "2        <py_entitymatching.matcher.svmmatcher.SVMMatcher object at 0x1435d23d0>   \n",
       "3  <py_entitymatching.matcher.linregmatcher.LinRegMatcher object at 0x143382e50>   \n",
       "4  <py_entitymatching.matcher.logregmatcher.LogRegMatcher object at 0x143384410>   \n",
       "\n",
       "   Num folds  Fold 1    Fold 2    Fold 3  Fold 4    Fold 5  Mean score  \n",
       "0          5    0.95  1.000000  0.928571  0.8750  1.000000    0.950714  \n",
       "1          5    0.95  1.000000  0.928571  0.8750  1.000000    0.950714  \n",
       "2          5    0.90  0.923077  0.571429  0.8125  0.846154    0.810632  \n",
       "3          5    0.95  1.000000  0.928571  0.8750  0.923077    0.935330  \n",
       "4          5    0.95  1.000000  0.928571  0.8750  0.923077    0.935330  "
      ]
     },
     "execution_count": 80,
     "metadata": {},
     "output_type": "execute_result"
    }
   ],
   "source": [
    "# result['drill_down_cv_stats']['recall']"
   ]
  },
  {
   "cell_type": "code",
   "execution_count": 81,
   "metadata": {},
   "outputs": [
    {
     "data": {
      "text/html": [
       "<div>\n",
       "<style scoped>\n",
       "    .dataframe tbody tr th:only-of-type {\n",
       "        vertical-align: middle;\n",
       "    }\n",
       "\n",
       "    .dataframe tbody tr th {\n",
       "        vertical-align: top;\n",
       "    }\n",
       "\n",
       "    .dataframe thead th {\n",
       "        text-align: right;\n",
       "    }\n",
       "</style>\n",
       "<table border=\"1\" class=\"dataframe\">\n",
       "  <thead>\n",
       "    <tr style=\"text-align: right;\">\n",
       "      <th></th>\n",
       "      <th>Name</th>\n",
       "      <th>Matcher</th>\n",
       "      <th>Num folds</th>\n",
       "      <th>Fold 1</th>\n",
       "      <th>Fold 2</th>\n",
       "      <th>Fold 3</th>\n",
       "      <th>Fold 4</th>\n",
       "      <th>Fold 5</th>\n",
       "      <th>Mean score</th>\n",
       "    </tr>\n",
       "  </thead>\n",
       "  <tbody>\n",
       "    <tr>\n",
       "      <th>0</th>\n",
       "      <td>DecisionTree</td>\n",
       "      <td>&lt;py_entitymatching.matcher.dtmatcher.DTMatcher object at 0x1435d2310&gt;</td>\n",
       "      <td>5</td>\n",
       "      <td>0.950000</td>\n",
       "      <td>1.000000</td>\n",
       "      <td>0.838710</td>\n",
       "      <td>0.903226</td>\n",
       "      <td>0.962963</td>\n",
       "      <td>0.930980</td>\n",
       "    </tr>\n",
       "    <tr>\n",
       "      <th>1</th>\n",
       "      <td>RF</td>\n",
       "      <td>&lt;py_entitymatching.matcher.rfmatcher.RFMatcher object at 0x1435f02d0&gt;</td>\n",
       "      <td>5</td>\n",
       "      <td>0.974359</td>\n",
       "      <td>1.000000</td>\n",
       "      <td>0.962963</td>\n",
       "      <td>0.933333</td>\n",
       "      <td>1.000000</td>\n",
       "      <td>0.974131</td>\n",
       "    </tr>\n",
       "    <tr>\n",
       "      <th>2</th>\n",
       "      <td>SVM</td>\n",
       "      <td>&lt;py_entitymatching.matcher.svmmatcher.SVMMatcher object at 0x1435d23d0&gt;</td>\n",
       "      <td>5</td>\n",
       "      <td>0.947368</td>\n",
       "      <td>0.960000</td>\n",
       "      <td>0.695652</td>\n",
       "      <td>0.896552</td>\n",
       "      <td>0.916667</td>\n",
       "      <td>0.883248</td>\n",
       "    </tr>\n",
       "    <tr>\n",
       "      <th>3</th>\n",
       "      <td>LinReg</td>\n",
       "      <td>&lt;py_entitymatching.matcher.linregmatcher.LinRegMatcher object at 0x143382e50&gt;</td>\n",
       "      <td>5</td>\n",
       "      <td>0.974359</td>\n",
       "      <td>1.000000</td>\n",
       "      <td>0.962963</td>\n",
       "      <td>0.933333</td>\n",
       "      <td>0.960000</td>\n",
       "      <td>0.966131</td>\n",
       "    </tr>\n",
       "    <tr>\n",
       "      <th>4</th>\n",
       "      <td>LogReg</td>\n",
       "      <td>&lt;py_entitymatching.matcher.logregmatcher.LogRegMatcher object at 0x143384410&gt;</td>\n",
       "      <td>5</td>\n",
       "      <td>0.974359</td>\n",
       "      <td>0.962963</td>\n",
       "      <td>0.962963</td>\n",
       "      <td>0.933333</td>\n",
       "      <td>0.960000</td>\n",
       "      <td>0.958724</td>\n",
       "    </tr>\n",
       "  </tbody>\n",
       "</table>\n",
       "</div>"
      ],
      "text/plain": [
       "           Name  \\\n",
       "0  DecisionTree   \n",
       "1            RF   \n",
       "2           SVM   \n",
       "3        LinReg   \n",
       "4        LogReg   \n",
       "\n",
       "                                                                         Matcher  \\\n",
       "0          <py_entitymatching.matcher.dtmatcher.DTMatcher object at 0x1435d2310>   \n",
       "1          <py_entitymatching.matcher.rfmatcher.RFMatcher object at 0x1435f02d0>   \n",
       "2        <py_entitymatching.matcher.svmmatcher.SVMMatcher object at 0x1435d23d0>   \n",
       "3  <py_entitymatching.matcher.linregmatcher.LinRegMatcher object at 0x143382e50>   \n",
       "4  <py_entitymatching.matcher.logregmatcher.LogRegMatcher object at 0x143384410>   \n",
       "\n",
       "   Num folds    Fold 1    Fold 2    Fold 3    Fold 4    Fold 5  Mean score  \n",
       "0          5  0.950000  1.000000  0.838710  0.903226  0.962963    0.930980  \n",
       "1          5  0.974359  1.000000  0.962963  0.933333  1.000000    0.974131  \n",
       "2          5  0.947368  0.960000  0.695652  0.896552  0.916667    0.883248  \n",
       "3          5  0.974359  1.000000  0.962963  0.933333  0.960000    0.966131  \n",
       "4          5  0.974359  0.962963  0.962963  0.933333  0.960000    0.958724  "
      ]
     },
     "execution_count": 81,
     "metadata": {},
     "output_type": "execute_result"
    }
   ],
   "source": [
    "# result['drill_down_cv_stats']['f1']"
   ]
  },
  {
   "cell_type": "code",
   "execution_count": 82,
   "metadata": {},
   "outputs": [],
   "source": [
    "### Exercise: how to add a feature to do Jaccard on title + authors and add it to the feature table?\n",
    "## check if it improves the matcher"
   ]
  },
  {
   "cell_type": "code",
   "execution_count": null,
   "metadata": {},
   "outputs": [],
   "source": []
  },
  {
   "cell_type": "markdown",
   "metadata": {},
   "source": [
    "## Use a ML Matcher to Get Prediction and use Trigger to improve Results"
   ]
  },
  {
   "cell_type": "code",
   "execution_count": 120,
   "metadata": {},
   "outputs": [
    {
     "name": "stderr",
     "output_type": "stream",
     "text": [
      "c:\\users\\rmartinez4\\anaconda3\\envs\\py37\\lib\\site-packages\\py_entitymatching\\matcher\\matcherutils.py:98: FutureWarning: The pandas.np module is deprecated and will be removed from pandas in a future version. Import numpy directly instead\n",
      "  idx_values = pd.np.array(labeled_data.index.values)\n"
     ]
    }
   ],
   "source": [
    "# Split S into I an J\n",
    "IJ = em.split_train_test(G, train_proportion=0.5, random_state=0)\n",
    "I = IJ['train']\n",
    "J = IJ['test']"
   ]
  },
  {
   "cell_type": "code",
   "execution_count": 121,
   "metadata": {},
   "outputs": [
    {
     "data": {
      "text/plain": [
       "4"
      ]
     },
     "execution_count": 121,
     "metadata": {},
     "output_type": "execute_result"
    }
   ],
   "source": [
    "len(I)"
   ]
  },
  {
   "cell_type": "code",
   "execution_count": 122,
   "metadata": {},
   "outputs": [
    {
     "data": {
      "text/plain": [
       "5"
      ]
     },
     "execution_count": 122,
     "metadata": {},
     "output_type": "execute_result"
    }
   ],
   "source": [
    "len(J)"
   ]
  },
  {
   "cell_type": "code",
   "execution_count": 123,
   "metadata": {},
   "outputs": [
    {
     "data": {
      "text/html": [
       "<div>\n",
       "<style scoped>\n",
       "    .dataframe tbody tr th:only-of-type {\n",
       "        vertical-align: middle;\n",
       "    }\n",
       "\n",
       "    .dataframe tbody tr th {\n",
       "        vertical-align: top;\n",
       "    }\n",
       "\n",
       "    .dataframe thead th {\n",
       "        text-align: right;\n",
       "    }\n",
       "</style>\n",
       "<table border=\"1\" class=\"dataframe\">\n",
       "  <thead>\n",
       "    <tr style=\"text-align: right;\">\n",
       "      <th></th>\n",
       "      <th>_id</th>\n",
       "      <th>ltable_id</th>\n",
       "      <th>rtable_id</th>\n",
       "      <th>ltable_title</th>\n",
       "      <th>ltable_authors</th>\n",
       "      <th>rtable_title</th>\n",
       "      <th>rtable_authors</th>\n",
       "      <th>gold_label</th>\n",
       "    </tr>\n",
       "  </thead>\n",
       "  <tbody>\n",
       "    <tr>\n",
       "      <th>6</th>\n",
       "      <td>6</td>\n",
       "      <td>77629</td>\n",
       "      <td>32542</td>\n",
       "      <td>Code Size and Depth Flows in Genetic Programming</td>\n",
       "      <td>Terence Soule, James A. Foster</td>\n",
       "      <td>Computational Complexity, Genetic Programming, and Implications.</td>\n",
       "      <td>Bart Rylander, Terence Soule, James A. Foster</td>\n",
       "      <td>0</td>\n",
       "    </tr>\n",
       "    <tr>\n",
       "      <th>3</th>\n",
       "      <td>3</td>\n",
       "      <td>31914</td>\n",
       "      <td>73030</td>\n",
       "      <td>Minimally Synchronous Parallel ML with Parallel Composition</td>\n",
       "      <td>Radia Benheddi, Frdric Loulergue</td>\n",
       "      <td>Parallel composition and bulk synchronous parallel functional programming.</td>\n",
       "      <td>Frdric Loulergue</td>\n",
       "      <td>0</td>\n",
       "    </tr>\n",
       "    <tr>\n",
       "      <th>0</th>\n",
       "      <td>0</td>\n",
       "      <td>1569</td>\n",
       "      <td>76915</td>\n",
       "      <td>Statistical Performance Modeling and Optimization</td>\n",
       "      <td>Xin Li, Jiayong Le, Lawrence T. Pileggi</td>\n",
       "      <td>STAC: statistical timing analysis with correlation.</td>\n",
       "      <td>Jiayong Le, Xin Li, Lawrence T. Pileggi</td>\n",
       "      <td>1</td>\n",
       "    </tr>\n",
       "    <tr>\n",
       "      <th>5</th>\n",
       "      <td>5</td>\n",
       "      <td>47803</td>\n",
       "      <td>22785</td>\n",
       "      <td>An Analysis of Web Site Privacy Policy Evolution in the Presence of HIPAA</td>\n",
       "      <td>Annie I. Antn, Julia B. Earp, Matthew W. Vail, Neha Jain, Carrie Gheen, Jack M. Frink</td>\n",
       "      <td>Privacy Policy Representation in Web-based Healthcare.</td>\n",
       "      <td>Julia Brande Earp, Matthew W. Vail, Annie I. Antn</td>\n",
       "      <td>0</td>\n",
       "    </tr>\n",
       "  </tbody>\n",
       "</table>\n",
       "</div>"
      ],
      "text/plain": [
       "   _id ltable_id rtable_id  \\\n",
       "6    6     77629     32542   \n",
       "3    3     31914     73030   \n",
       "0    0      1569     76915   \n",
       "5    5     47803     22785   \n",
       "\n",
       "                                                                ltable_title  \\\n",
       "6                           Code Size and Depth Flows in Genetic Programming   \n",
       "3                Minimally Synchronous Parallel ML with Parallel Composition   \n",
       "0                          Statistical Performance Modeling and Optimization   \n",
       "5  An Analysis of Web Site Privacy Policy Evolution in the Presence of HIPAA   \n",
       "\n",
       "                                                                          ltable_authors  \\\n",
       "6                                                         Terence Soule, James A. Foster   \n",
       "3                                                       Radia Benheddi, Frdric Loulergue   \n",
       "0                                                Xin Li, Jiayong Le, Lawrence T. Pileggi   \n",
       "5  Annie I. Antn, Julia B. Earp, Matthew W. Vail, Neha Jain, Carrie Gheen, Jack M. Frink   \n",
       "\n",
       "                                                                 rtable_title  \\\n",
       "6            Computational Complexity, Genetic Programming, and Implications.   \n",
       "3  Parallel composition and bulk synchronous parallel functional programming.   \n",
       "0                         STAC: statistical timing analysis with correlation.   \n",
       "5                      Privacy Policy Representation in Web-based Healthcare.   \n",
       "\n",
       "                                      rtable_authors  gold_label  \n",
       "6      Bart Rylander, Terence Soule, James A. Foster           0  \n",
       "3                                   Frdric Loulergue           0  \n",
       "0            Jiayong Le, Xin Li, Lawrence T. Pileggi           1  \n",
       "5  Julia Brande Earp, Matthew W. Vail, Annie I. Antn           0  "
      ]
     },
     "execution_count": 123,
     "metadata": {},
     "output_type": "execute_result"
    }
   ],
   "source": [
    "I"
   ]
  },
  {
   "cell_type": "code",
   "execution_count": 124,
   "metadata": {},
   "outputs": [
    {
     "data": {
      "text/html": [
       "<div>\n",
       "<style scoped>\n",
       "    .dataframe tbody tr th:only-of-type {\n",
       "        vertical-align: middle;\n",
       "    }\n",
       "\n",
       "    .dataframe tbody tr th {\n",
       "        vertical-align: top;\n",
       "    }\n",
       "\n",
       "    .dataframe thead th {\n",
       "        text-align: right;\n",
       "    }\n",
       "</style>\n",
       "<table border=\"1\" class=\"dataframe\">\n",
       "  <thead>\n",
       "    <tr style=\"text-align: right;\">\n",
       "      <th></th>\n",
       "      <th>_id</th>\n",
       "      <th>ltable_id</th>\n",
       "      <th>rtable_id</th>\n",
       "      <th>ltable_title</th>\n",
       "      <th>ltable_authors</th>\n",
       "      <th>rtable_title</th>\n",
       "      <th>rtable_authors</th>\n",
       "      <th>gold_label</th>\n",
       "    </tr>\n",
       "  </thead>\n",
       "  <tbody>\n",
       "    <tr>\n",
       "      <th>7</th>\n",
       "      <td>7</td>\n",
       "      <td>79410</td>\n",
       "      <td>60717</td>\n",
       "      <td>1 PERILS AND PITFALLS OF PARALLEL DISCRETE-EVENT SIMULATION</td>\n",
       "      <td>Rajive L. Bagrodia</td>\n",
       "      <td>Transparent implementation of conservative algorithms in parallel simulation languages.</td>\n",
       "      <td>Vikas Jha, Rajive L. Bagrodia</td>\n",
       "      <td>0</td>\n",
       "    </tr>\n",
       "    <tr>\n",
       "      <th>2</th>\n",
       "      <td>2</td>\n",
       "      <td>29366</td>\n",
       "      <td>25032</td>\n",
       "      <td>Electric Reliability Technology Solutions and was funded by the Office of Electric</td>\n",
       "      <td>Ian Dobson, Benjamin A. Carreras</td>\n",
       "      <td>Understanding the Effect of Risk Aversion on Risk.</td>\n",
       "      <td>U. S. Bhatt, David E. Newman, Benjamin A. Carreras, Ian Dobson</td>\n",
       "      <td>0</td>\n",
       "    </tr>\n",
       "    <tr>\n",
       "      <th>1</th>\n",
       "      <td>1</td>\n",
       "      <td>13049</td>\n",
       "      <td>84477</td>\n",
       "      <td>Pacific Symposium on Biocomputing 14:264-275 (2009) DISSECTING THE INTERFACE BETWEEN SIGNALING A...</td>\n",
       "      <td>Human B Cells, Kai Wang, Mariano J. Alvarez, Brygida C. Bisikirska, Rune Linding, Katia Basso, R...</td>\n",
       "      <td>Dissecting the Interface Between Signaling and Transcriptional Regulation in Human B Cells.</td>\n",
       "      <td>Kai Wang, Mariano J. Alvarez, Brygida C. Bisikirska, Rune Linding, Katia Basso, Riccardo Dalla F...</td>\n",
       "      <td>1</td>\n",
       "    </tr>\n",
       "    <tr>\n",
       "      <th>4</th>\n",
       "      <td>4</td>\n",
       "      <td>36852</td>\n",
       "      <td>45632</td>\n",
       "      <td>Seeing Speech: Capturing Vocal Tract Shaping Using Real-Time Magnetic Resonance Imaging Understa...</td>\n",
       "      <td>Krishna Nayak, Dani Byrd, Shrikanth Narayanan</td>\n",
       "      <td>Accelerated 3D MRI of vocal tract shaping using compressed sensing and parallel imaging.</td>\n",
       "      <td>Yoon-Chul Kim, Shrikanth S. Narayanan, Krishna S. Nayak</td>\n",
       "      <td>0</td>\n",
       "    </tr>\n",
       "    <tr>\n",
       "      <th>8</th>\n",
       "      <td>8</td>\n",
       "      <td>97482</td>\n",
       "      <td>98721</td>\n",
       "      <td>Digital Object Identifier (DOI) 10.1007/s00138-004-0162-5 Applications Layer-based video registr...</td>\n",
       "      <td>Jiangjian Xiao, Mubarak Shah</td>\n",
       "      <td>Accurate Motion Layer Segmentation and Matting.</td>\n",
       "      <td>Jiangjian Xiao, Mubarak Shah</td>\n",
       "      <td>0</td>\n",
       "    </tr>\n",
       "  </tbody>\n",
       "</table>\n",
       "</div>"
      ],
      "text/plain": [
       "   _id ltable_id rtable_id  \\\n",
       "7    7     79410     60717   \n",
       "2    2     29366     25032   \n",
       "1    1     13049     84477   \n",
       "4    4     36852     45632   \n",
       "8    8     97482     98721   \n",
       "\n",
       "                                                                                          ltable_title  \\\n",
       "7                                          1 PERILS AND PITFALLS OF PARALLEL DISCRETE-EVENT SIMULATION   \n",
       "2                   Electric Reliability Technology Solutions and was funded by the Office of Electric   \n",
       "1  Pacific Symposium on Biocomputing 14:264-275 (2009) DISSECTING THE INTERFACE BETWEEN SIGNALING A...   \n",
       "4  Seeing Speech: Capturing Vocal Tract Shaping Using Real-Time Magnetic Resonance Imaging Understa...   \n",
       "8  Digital Object Identifier (DOI) 10.1007/s00138-004-0162-5 Applications Layer-based video registr...   \n",
       "\n",
       "                                                                                        ltable_authors  \\\n",
       "7                                                                                   Rajive L. Bagrodia   \n",
       "2                                                                     Ian Dobson, Benjamin A. Carreras   \n",
       "1  Human B Cells, Kai Wang, Mariano J. Alvarez, Brygida C. Bisikirska, Rune Linding, Katia Basso, R...   \n",
       "4                                                        Krishna Nayak, Dani Byrd, Shrikanth Narayanan   \n",
       "8                                                                         Jiangjian Xiao, Mubarak Shah   \n",
       "\n",
       "                                                                                  rtable_title  \\\n",
       "7      Transparent implementation of conservative algorithms in parallel simulation languages.   \n",
       "2                                           Understanding the Effect of Risk Aversion on Risk.   \n",
       "1  Dissecting the Interface Between Signaling and Transcriptional Regulation in Human B Cells.   \n",
       "4     Accelerated 3D MRI of vocal tract shaping using compressed sensing and parallel imaging.   \n",
       "8                                              Accurate Motion Layer Segmentation and Matting.   \n",
       "\n",
       "                                                                                        rtable_authors  \\\n",
       "7                                                                        Vikas Jha, Rajive L. Bagrodia   \n",
       "2                                       U. S. Bhatt, David E. Newman, Benjamin A. Carreras, Ian Dobson   \n",
       "1  Kai Wang, Mariano J. Alvarez, Brygida C. Bisikirska, Rune Linding, Katia Basso, Riccardo Dalla F...   \n",
       "4                                              Yoon-Chul Kim, Shrikanth S. Narayanan, Krishna S. Nayak   \n",
       "8                                                                         Jiangjian Xiao, Mubarak Shah   \n",
       "\n",
       "   gold_label  \n",
       "7           0  \n",
       "2           0  \n",
       "1           1  \n",
       "4           0  \n",
       "8           0  "
      ]
     },
     "execution_count": 124,
     "metadata": {},
     "output_type": "execute_result"
    }
   ],
   "source": [
    "J"
   ]
  },
  {
   "cell_type": "code",
   "execution_count": 125,
   "metadata": {},
   "outputs": [],
   "source": [
    "# Create a Decision Tree Matcher\n",
    "dt = em.DTMatcher(name='DecisionTree', random_state=0)"
   ]
  },
  {
   "cell_type": "code",
   "execution_count": 126,
   "metadata": {},
   "outputs": [
    {
     "name": "stderr",
     "output_type": "stream",
     "text": [
      "c:\\users\\rmartinez4\\anaconda3\\envs\\py37\\lib\\site-packages\\py_entitymatching\\feature\\attributeutils.py:191: FutureWarning: The pandas.np module is deprecated and will be removed from pandas in a future version. Import numpy directly instead\n",
      "  if returned_type == bool or returned_type == pd.np.bool_:\n"
     ]
    }
   ],
   "source": [
    "# Generate a set of features\n",
    "feature_table = em.get_features_for_matching(A, B, validate_inferred_attr_types=False)"
   ]
  },
  {
   "cell_type": "code",
   "execution_count": 127,
   "metadata": {},
   "outputs": [
    {
     "data": {
      "text/html": [
       "<div>\n",
       "<style scoped>\n",
       "    .dataframe tbody tr th:only-of-type {\n",
       "        vertical-align: middle;\n",
       "    }\n",
       "\n",
       "    .dataframe tbody tr th {\n",
       "        vertical-align: top;\n",
       "    }\n",
       "\n",
       "    .dataframe thead th {\n",
       "        text-align: right;\n",
       "    }\n",
       "</style>\n",
       "<table border=\"1\" class=\"dataframe\">\n",
       "  <thead>\n",
       "    <tr style=\"text-align: right;\">\n",
       "      <th></th>\n",
       "      <th>feature_name</th>\n",
       "      <th>left_attribute</th>\n",
       "      <th>right_attribute</th>\n",
       "      <th>left_attr_tokenizer</th>\n",
       "      <th>right_attr_tokenizer</th>\n",
       "      <th>simfunction</th>\n",
       "      <th>function</th>\n",
       "      <th>function_source</th>\n",
       "      <th>is_auto_generated</th>\n",
       "    </tr>\n",
       "  </thead>\n",
       "  <tbody>\n",
       "    <tr>\n",
       "      <th>0</th>\n",
       "      <td>id_id_exm</td>\n",
       "      <td>id</td>\n",
       "      <td>id</td>\n",
       "      <td>None</td>\n",
       "      <td>None</td>\n",
       "      <td>exact_match</td>\n",
       "      <td>&lt;function id_id_exm at 0x000002C8462178B8&gt;</td>\n",
       "      <td>from py_entitymatching.feature.simfunctions import *\\nfrom py_entitymatching.feature.tokenizers ...</td>\n",
       "      <td>True</td>\n",
       "    </tr>\n",
       "    <tr>\n",
       "      <th>1</th>\n",
       "      <td>id_id_anm</td>\n",
       "      <td>id</td>\n",
       "      <td>id</td>\n",
       "      <td>None</td>\n",
       "      <td>None</td>\n",
       "      <td>abs_norm</td>\n",
       "      <td>&lt;function id_id_anm at 0x000002C846217798&gt;</td>\n",
       "      <td>from py_entitymatching.feature.simfunctions import *\\nfrom py_entitymatching.feature.tokenizers ...</td>\n",
       "      <td>True</td>\n",
       "    </tr>\n",
       "    <tr>\n",
       "      <th>2</th>\n",
       "      <td>id_id_lev_dist</td>\n",
       "      <td>id</td>\n",
       "      <td>id</td>\n",
       "      <td>None</td>\n",
       "      <td>None</td>\n",
       "      <td>lev_dist</td>\n",
       "      <td>&lt;function id_id_lev_dist at 0x000002C8462163A8&gt;</td>\n",
       "      <td>from py_entitymatching.feature.simfunctions import *\\nfrom py_entitymatching.feature.tokenizers ...</td>\n",
       "      <td>True</td>\n",
       "    </tr>\n",
       "    <tr>\n",
       "      <th>3</th>\n",
       "      <td>id_id_lev_sim</td>\n",
       "      <td>id</td>\n",
       "      <td>id</td>\n",
       "      <td>None</td>\n",
       "      <td>None</td>\n",
       "      <td>lev_sim</td>\n",
       "      <td>&lt;function id_id_lev_sim at 0x000002C8461E5EE8&gt;</td>\n",
       "      <td>from py_entitymatching.feature.simfunctions import *\\nfrom py_entitymatching.feature.tokenizers ...</td>\n",
       "      <td>True</td>\n",
       "    </tr>\n",
       "    <tr>\n",
       "      <th>4</th>\n",
       "      <td>title_title_jac_qgm_3_qgm_3</td>\n",
       "      <td>title</td>\n",
       "      <td>title</td>\n",
       "      <td>qgm_3</td>\n",
       "      <td>qgm_3</td>\n",
       "      <td>jaccard</td>\n",
       "      <td>&lt;function title_title_jac_qgm_3_qgm_3 at 0x000002C8461E5D38&gt;</td>\n",
       "      <td>from py_entitymatching.feature.simfunctions import *\\nfrom py_entitymatching.feature.tokenizers ...</td>\n",
       "      <td>True</td>\n",
       "    </tr>\n",
       "  </tbody>\n",
       "</table>\n",
       "</div>"
      ],
      "text/plain": [
       "                  feature_name left_attribute right_attribute  \\\n",
       "0                    id_id_exm             id              id   \n",
       "1                    id_id_anm             id              id   \n",
       "2               id_id_lev_dist             id              id   \n",
       "3                id_id_lev_sim             id              id   \n",
       "4  title_title_jac_qgm_3_qgm_3          title           title   \n",
       "\n",
       "  left_attr_tokenizer right_attr_tokenizer  simfunction  \\\n",
       "0                None                 None  exact_match   \n",
       "1                None                 None     abs_norm   \n",
       "2                None                 None     lev_dist   \n",
       "3                None                 None      lev_sim   \n",
       "4               qgm_3                qgm_3      jaccard   \n",
       "\n",
       "                                                       function  \\\n",
       "0                    <function id_id_exm at 0x000002C8462178B8>   \n",
       "1                    <function id_id_anm at 0x000002C846217798>   \n",
       "2               <function id_id_lev_dist at 0x000002C8462163A8>   \n",
       "3                <function id_id_lev_sim at 0x000002C8461E5EE8>   \n",
       "4  <function title_title_jac_qgm_3_qgm_3 at 0x000002C8461E5D38>   \n",
       "\n",
       "                                                                                       function_source  \\\n",
       "0  from py_entitymatching.feature.simfunctions import *\\nfrom py_entitymatching.feature.tokenizers ...   \n",
       "1  from py_entitymatching.feature.simfunctions import *\\nfrom py_entitymatching.feature.tokenizers ...   \n",
       "2  from py_entitymatching.feature.simfunctions import *\\nfrom py_entitymatching.feature.tokenizers ...   \n",
       "3  from py_entitymatching.feature.simfunctions import *\\nfrom py_entitymatching.feature.tokenizers ...   \n",
       "4  from py_entitymatching.feature.simfunctions import *\\nfrom py_entitymatching.feature.tokenizers ...   \n",
       "\n",
       "   is_auto_generated  \n",
       "0               True  \n",
       "1               True  \n",
       "2               True  \n",
       "3               True  \n",
       "4               True  "
      ]
     },
     "execution_count": 127,
     "metadata": {},
     "output_type": "execute_result"
    }
   ],
   "source": [
    "feature_table.head()"
   ]
  },
  {
   "cell_type": "code",
   "execution_count": 95,
   "metadata": {},
   "outputs": [],
   "source": [
    "# # We will remove many of the features here to purposly create a poor model. This will make it easier \n",
    "# # to demonstrate triggers later\n",
    "# F = feature_table.drop([1, 2, 3, 4, 5, 6, 7, 8, 9, 10, 11, 12, 13, 14])\n",
    "# F"
   ]
  },
  {
   "cell_type": "code",
   "execution_count": 128,
   "metadata": {},
   "outputs": [],
   "source": [
    "F = feature_table"
   ]
  },
  {
   "cell_type": "code",
   "execution_count": 83,
   "metadata": {},
   "outputs": [
    {
     "data": {
      "text/html": [
       "<div>\n",
       "<style scoped>\n",
       "    .dataframe tbody tr th:only-of-type {\n",
       "        vertical-align: middle;\n",
       "    }\n",
       "\n",
       "    .dataframe tbody tr th {\n",
       "        vertical-align: top;\n",
       "    }\n",
       "\n",
       "    .dataframe thead th {\n",
       "        text-align: right;\n",
       "    }\n",
       "</style>\n",
       "<table border=\"1\" class=\"dataframe\">\n",
       "  <thead>\n",
       "    <tr style=\"text-align: right;\">\n",
       "      <th></th>\n",
       "      <th>feature_name</th>\n",
       "      <th>left_attribute</th>\n",
       "      <th>right_attribute</th>\n",
       "      <th>left_attr_tokenizer</th>\n",
       "      <th>right_attr_tokenizer</th>\n",
       "      <th>simfunction</th>\n",
       "      <th>function</th>\n",
       "      <th>function_source</th>\n",
       "      <th>is_auto_generated</th>\n",
       "    </tr>\n",
       "  </thead>\n",
       "  <tbody>\n",
       "    <tr>\n",
       "      <th>0</th>\n",
       "      <td>id_id_exm</td>\n",
       "      <td>id</td>\n",
       "      <td>id</td>\n",
       "      <td>None</td>\n",
       "      <td>None</td>\n",
       "      <td>exact_match</td>\n",
       "      <td>&lt;function id_id_exm at 0x000002C8473B3E58&gt;</td>\n",
       "      <td>from py_entitymatching.feature.simfunctions import *\\nfrom py_entitymatching.feature.tokenizers ...</td>\n",
       "      <td>True</td>\n",
       "    </tr>\n",
       "    <tr>\n",
       "      <th>1</th>\n",
       "      <td>id_id_anm</td>\n",
       "      <td>id</td>\n",
       "      <td>id</td>\n",
       "      <td>None</td>\n",
       "      <td>None</td>\n",
       "      <td>abs_norm</td>\n",
       "      <td>&lt;function id_id_anm at 0x000002C8375353A8&gt;</td>\n",
       "      <td>from py_entitymatching.feature.simfunctions import *\\nfrom py_entitymatching.feature.tokenizers ...</td>\n",
       "      <td>True</td>\n",
       "    </tr>\n",
       "    <tr>\n",
       "      <th>2</th>\n",
       "      <td>id_id_lev_dist</td>\n",
       "      <td>id</td>\n",
       "      <td>id</td>\n",
       "      <td>None</td>\n",
       "      <td>None</td>\n",
       "      <td>lev_dist</td>\n",
       "      <td>&lt;function id_id_lev_dist at 0x000002C833EC2D38&gt;</td>\n",
       "      <td>from py_entitymatching.feature.simfunctions import *\\nfrom py_entitymatching.feature.tokenizers ...</td>\n",
       "      <td>True</td>\n",
       "    </tr>\n",
       "    <tr>\n",
       "      <th>3</th>\n",
       "      <td>id_id_lev_sim</td>\n",
       "      <td>id</td>\n",
       "      <td>id</td>\n",
       "      <td>None</td>\n",
       "      <td>None</td>\n",
       "      <td>lev_sim</td>\n",
       "      <td>&lt;function id_id_lev_sim at 0x000002C833EC2798&gt;</td>\n",
       "      <td>from py_entitymatching.feature.simfunctions import *\\nfrom py_entitymatching.feature.tokenizers ...</td>\n",
       "      <td>True</td>\n",
       "    </tr>\n",
       "    <tr>\n",
       "      <th>4</th>\n",
       "      <td>title_title_jac_qgm_3_qgm_3</td>\n",
       "      <td>title</td>\n",
       "      <td>title</td>\n",
       "      <td>qgm_3</td>\n",
       "      <td>qgm_3</td>\n",
       "      <td>jaccard</td>\n",
       "      <td>&lt;function title_title_jac_qgm_3_qgm_3 at 0x000002C8460EAA68&gt;</td>\n",
       "      <td>from py_entitymatching.feature.simfunctions import *\\nfrom py_entitymatching.feature.tokenizers ...</td>\n",
       "      <td>True</td>\n",
       "    </tr>\n",
       "  </tbody>\n",
       "</table>\n",
       "</div>"
      ],
      "text/plain": [
       "                  feature_name left_attribute right_attribute  \\\n",
       "0                    id_id_exm             id              id   \n",
       "1                    id_id_anm             id              id   \n",
       "2               id_id_lev_dist             id              id   \n",
       "3                id_id_lev_sim             id              id   \n",
       "4  title_title_jac_qgm_3_qgm_3          title           title   \n",
       "\n",
       "  left_attr_tokenizer right_attr_tokenizer  simfunction  \\\n",
       "0                None                 None  exact_match   \n",
       "1                None                 None     abs_norm   \n",
       "2                None                 None     lev_dist   \n",
       "3                None                 None      lev_sim   \n",
       "4               qgm_3                qgm_3      jaccard   \n",
       "\n",
       "                                                       function  \\\n",
       "0                    <function id_id_exm at 0x000002C8473B3E58>   \n",
       "1                    <function id_id_anm at 0x000002C8375353A8>   \n",
       "2               <function id_id_lev_dist at 0x000002C833EC2D38>   \n",
       "3                <function id_id_lev_sim at 0x000002C833EC2798>   \n",
       "4  <function title_title_jac_qgm_3_qgm_3 at 0x000002C8460EAA68>   \n",
       "\n",
       "                                                                                       function_source  \\\n",
       "0  from py_entitymatching.feature.simfunctions import *\\nfrom py_entitymatching.feature.tokenizers ...   \n",
       "1  from py_entitymatching.feature.simfunctions import *\\nfrom py_entitymatching.feature.tokenizers ...   \n",
       "2  from py_entitymatching.feature.simfunctions import *\\nfrom py_entitymatching.feature.tokenizers ...   \n",
       "3  from py_entitymatching.feature.simfunctions import *\\nfrom py_entitymatching.feature.tokenizers ...   \n",
       "4  from py_entitymatching.feature.simfunctions import *\\nfrom py_entitymatching.feature.tokenizers ...   \n",
       "\n",
       "   is_auto_generated  \n",
       "0               True  \n",
       "1               True  \n",
       "2               True  \n",
       "3               True  \n",
       "4               True  "
      ]
     },
     "execution_count": 83,
     "metadata": {},
     "output_type": "execute_result"
    }
   ],
   "source": [
    "F.head()"
   ]
  },
  {
   "cell_type": "code",
   "execution_count": 135,
   "metadata": {
    "scrolled": true
   },
   "outputs": [
    {
     "name": "stderr",
     "output_type": "stream",
     "text": [
      "Column name (gold) is not present in dataframe\n",
      "The attributes mentioned in attrs_after is not present in the input table\n"
     ]
    },
    {
     "ename": "AssertionError",
     "evalue": "The attributes mentioned in attrs_after is not present in the input table",
     "output_type": "error",
     "traceback": [
      "\u001b[1;31m---------------------------------------------------------------------------\u001b[0m",
      "\u001b[1;31mAssertionError\u001b[0m                            Traceback (most recent call last)",
      "\u001b[1;32m<ipython-input-135-7e8bf5367efd>\u001b[0m in \u001b[0;36m<module>\u001b[1;34m()\u001b[0m\n\u001b[0;32m      3\u001b[0m                             \u001b[0mfeature_table\u001b[0m\u001b[1;33m=\u001b[0m\u001b[0mF\u001b[0m\u001b[1;33m,\u001b[0m\u001b[1;33m\u001b[0m\u001b[1;33m\u001b[0m\u001b[0m\n\u001b[0;32m      4\u001b[0m                             \u001b[0mattrs_after\u001b[0m\u001b[1;33m=\u001b[0m\u001b[1;34m'gold'\u001b[0m\u001b[1;33m,\u001b[0m\u001b[1;33m\u001b[0m\u001b[1;33m\u001b[0m\u001b[0m\n\u001b[1;32m----> 5\u001b[1;33m                             show_progress=False)\n\u001b[0m",
      "\u001b[1;32mc:\\users\\rmartinez4\\anaconda3\\envs\\py37\\lib\\site-packages\\py_entitymatching\\feature\\extractfeatures.py\u001b[0m in \u001b[0;36mextract_feature_vecs\u001b[1;34m(candset, attrs_before, feature_table, attrs_after, verbose, show_progress, n_jobs)\u001b[0m\n\u001b[0;32m    108\u001b[0m                 'in the input table')\n\u001b[0;32m    109\u001b[0m             raise AssertionError(\n\u001b[1;32m--> 110\u001b[1;33m                 \u001b[1;34m'The attributes mentioned in attrs_after is not present '\u001b[0m\u001b[1;33m\u001b[0m\u001b[1;33m\u001b[0m\u001b[0m\n\u001b[0m\u001b[0;32m    111\u001b[0m                 'in the input table')\n\u001b[0;32m    112\u001b[0m \u001b[1;33m\u001b[0m\u001b[0m\n",
      "\u001b[1;31mAssertionError\u001b[0m: The attributes mentioned in attrs_after is not present in the input table"
     ]
    }
   ],
   "source": [
    "# Convert the I into a set of feature vectors using F\n",
    "H = em.extract_feature_vecs(I, \n",
    "                            feature_table=F, \n",
    "                            attrs_after='gold',\n",
    "                            show_progress=False)"
   ]
  },
  {
   "cell_type": "code",
   "execution_count": 108,
   "metadata": {},
   "outputs": [
    {
     "ename": "NameError",
     "evalue": "name 'H' is not defined",
     "output_type": "error",
     "traceback": [
      "\u001b[1;31m---------------------------------------------------------------------------\u001b[0m",
      "\u001b[1;31mNameError\u001b[0m                                 Traceback (most recent call last)",
      "\u001b[1;32m<ipython-input-108-638b2637d9ed>\u001b[0m in \u001b[0;36m<module>\u001b[1;34m()\u001b[0m\n\u001b[0;32m      1\u001b[0m \u001b[1;31m# Impute feature vectors with the mean of the column values.\u001b[0m\u001b[1;33m\u001b[0m\u001b[1;33m\u001b[0m\u001b[1;33m\u001b[0m\u001b[0m\n\u001b[1;32m----> 2\u001b[1;33m H = em.impute_table(H, \n\u001b[0m\u001b[0;32m      3\u001b[0m                 \u001b[0mexclude_attrs\u001b[0m\u001b[1;33m=\u001b[0m\u001b[1;33m[\u001b[0m\u001b[1;34m'_id'\u001b[0m\u001b[1;33m,\u001b[0m \u001b[1;34m'ltable_id'\u001b[0m\u001b[1;33m,\u001b[0m \u001b[1;34m'rtable_id'\u001b[0m\u001b[1;33m,\u001b[0m \u001b[1;34m'label'\u001b[0m\u001b[1;33m]\u001b[0m\u001b[1;33m,\u001b[0m\u001b[1;33m\u001b[0m\u001b[1;33m\u001b[0m\u001b[0m\n\u001b[0;32m      4\u001b[0m                 strategy='mean')\n",
      "\u001b[1;31mNameError\u001b[0m: name 'H' is not defined"
     ]
    }
   ],
   "source": [
    "# Impute feature vectors with the mean of the column values.\n",
    "H = em.impute_table(H, \n",
    "                exclude_attrs=['_id', 'ltable_id', 'rtable_id', 'label'],\n",
    "                strategy='mean')"
   ]
  },
  {
   "cell_type": "code",
   "execution_count": 93,
   "metadata": {},
   "outputs": [],
   "source": [
    "# Fit the decision tree to the feature vectors\n",
    "dt.fit(table=H, exclude_attrs=['_id', 'ltable_id', 'rtable_id', 'label'], target_attr='label')"
   ]
  },
  {
   "cell_type": "code",
   "execution_count": 94,
   "metadata": {},
   "outputs": [
    {
     "data": {
      "text/html": [
       "<div>\n",
       "<style scoped>\n",
       "    .dataframe tbody tr th:only-of-type {\n",
       "        vertical-align: middle;\n",
       "    }\n",
       "\n",
       "    .dataframe tbody tr th {\n",
       "        vertical-align: top;\n",
       "    }\n",
       "\n",
       "    .dataframe thead th {\n",
       "        text-align: right;\n",
       "    }\n",
       "</style>\n",
       "<table border=\"1\" class=\"dataframe\">\n",
       "  <thead>\n",
       "    <tr style=\"text-align: right;\">\n",
       "      <th></th>\n",
       "      <th>_id</th>\n",
       "      <th>ltable_id</th>\n",
       "      <th>rtable_id</th>\n",
       "      <th>id_id_lev_dist</th>\n",
       "      <th>authors_authors_lev_sim</th>\n",
       "      <th>year_year_exm</th>\n",
       "      <th>year_year_anm</th>\n",
       "      <th>year_year_lev_dist</th>\n",
       "      <th>year_year_lev_sim</th>\n",
       "      <th>label</th>\n",
       "      <th>predicted_labels</th>\n",
       "      <th>proba</th>\n",
       "    </tr>\n",
       "  </thead>\n",
       "  <tbody>\n",
       "    <tr>\n",
       "      <th>430</th>\n",
       "      <td>430</td>\n",
       "      <td>l1494</td>\n",
       "      <td>r1257</td>\n",
       "      <td>4.0</td>\n",
       "      <td>0.083333</td>\n",
       "      <td>1.0</td>\n",
       "      <td>1.0</td>\n",
       "      <td>0.0</td>\n",
       "      <td>1.0</td>\n",
       "      <td>0</td>\n",
       "      <td>0</td>\n",
       "      <td>0.0</td>\n",
       "    </tr>\n",
       "    <tr>\n",
       "      <th>35</th>\n",
       "      <td>35</td>\n",
       "      <td>l1385</td>\n",
       "      <td>r1160</td>\n",
       "      <td>4.0</td>\n",
       "      <td>0.271186</td>\n",
       "      <td>1.0</td>\n",
       "      <td>1.0</td>\n",
       "      <td>0.0</td>\n",
       "      <td>1.0</td>\n",
       "      <td>0</td>\n",
       "      <td>0</td>\n",
       "      <td>0.0</td>\n",
       "    </tr>\n",
       "    <tr>\n",
       "      <th>394</th>\n",
       "      <td>394</td>\n",
       "      <td>l1345</td>\n",
       "      <td>r85</td>\n",
       "      <td>4.0</td>\n",
       "      <td>0.338462</td>\n",
       "      <td>1.0</td>\n",
       "      <td>1.0</td>\n",
       "      <td>0.0</td>\n",
       "      <td>1.0</td>\n",
       "      <td>1</td>\n",
       "      <td>1</td>\n",
       "      <td>1.0</td>\n",
       "    </tr>\n",
       "    <tr>\n",
       "      <th>29</th>\n",
       "      <td>29</td>\n",
       "      <td>l611</td>\n",
       "      <td>r141</td>\n",
       "      <td>3.0</td>\n",
       "      <td>0.277778</td>\n",
       "      <td>1.0</td>\n",
       "      <td>1.0</td>\n",
       "      <td>0.0</td>\n",
       "      <td>1.0</td>\n",
       "      <td>0</td>\n",
       "      <td>0</td>\n",
       "      <td>0.0</td>\n",
       "    </tr>\n",
       "    <tr>\n",
       "      <th>181</th>\n",
       "      <td>181</td>\n",
       "      <td>l1164</td>\n",
       "      <td>r1161</td>\n",
       "      <td>2.0</td>\n",
       "      <td>0.244444</td>\n",
       "      <td>1.0</td>\n",
       "      <td>1.0</td>\n",
       "      <td>0.0</td>\n",
       "      <td>1.0</td>\n",
       "      <td>1</td>\n",
       "      <td>1</td>\n",
       "      <td>1.0</td>\n",
       "    </tr>\n",
       "  </tbody>\n",
       "</table>\n",
       "</div>"
      ],
      "text/plain": [
       "     _id ltable_id rtable_id  id_id_lev_dist  authors_authors_lev_sim  \\\n",
       "430  430     l1494     r1257             4.0                 0.083333   \n",
       "35    35     l1385     r1160             4.0                 0.271186   \n",
       "394  394     l1345       r85             4.0                 0.338462   \n",
       "29    29      l611      r141             3.0                 0.277778   \n",
       "181  181     l1164     r1161             2.0                 0.244444   \n",
       "\n",
       "     year_year_exm  year_year_anm  year_year_lev_dist  year_year_lev_sim  \\\n",
       "430            1.0            1.0                 0.0                1.0   \n",
       "35             1.0            1.0                 0.0                1.0   \n",
       "394            1.0            1.0                 0.0                1.0   \n",
       "29             1.0            1.0                 0.0                1.0   \n",
       "181            1.0            1.0                 0.0                1.0   \n",
       "\n",
       "     label  predicted_labels  proba  \n",
       "430      0                 0    0.0  \n",
       "35       0                 0    0.0  \n",
       "394      1                 1    1.0  \n",
       "29       0                 0    0.0  \n",
       "181      1                 1    1.0  "
      ]
     },
     "execution_count": 94,
     "metadata": {},
     "output_type": "execute_result"
    }
   ],
   "source": [
    "# Use the decision tree matcher to predict if tuple pairs match\n",
    "dt.predict(table=H, exclude_attrs=['_id', 'ltable_id', 'rtable_id', 'label'], target_attr='predicted_labels', \n",
    "           return_probs=True, probs_attr='proba', append=True, inplace=True)\n",
    "H.head()"
   ]
  },
  {
   "cell_type": "markdown",
   "metadata": {},
   "source": [
    "#### Debug the ML Matcher"
   ]
  },
  {
   "cell_type": "code",
   "execution_count": 96,
   "metadata": {},
   "outputs": [
    {
     "name": "stderr",
     "output_type": "stream",
     "text": [
      "/Library/Frameworks/Python.framework/Versions/3.7/lib/python3.7/site-packages/py_entitymatching/matcher/matcherutils.py:104: FutureWarning: \n",
      ".ix is deprecated. Please use\n",
      ".loc for label based indexing or\n",
      ".iloc for positional indexing\n",
      "\n",
      "See the documentation here:\n",
      "http://pandas.pydata.org/pandas-docs/stable/user_guide/indexing.html#ix-indexer-is-deprecated\n",
      "  label_train = labeled_data.ix[idx_train]\n",
      "/Library/Frameworks/Python.framework/Versions/3.7/lib/python3.7/site-packages/py_entitymatching/matcher/matcherutils.py:105: FutureWarning: \n",
      ".ix is deprecated. Please use\n",
      ".loc for label based indexing or\n",
      ".iloc for positional indexing\n",
      "\n",
      "See the documentation here:\n",
      "http://pandas.pydata.org/pandas-docs/stable/user_guide/indexing.html#ix-indexer-is-deprecated\n",
      "  label_test = labeled_data.ix[idx_test]\n"
     ]
    }
   ],
   "source": [
    "# Split H into P and Q\n",
    "PQ = em.split_train_test(H, train_proportion=0.5, random_state=0)\n",
    "P = PQ['train']\n",
    "Q = PQ['test']"
   ]
  },
  {
   "cell_type": "code",
   "execution_count": 97,
   "metadata": {},
   "outputs": [
    {
     "name": "stderr",
     "output_type": "stream",
     "text": [
      "/Library/Frameworks/Python.framework/Versions/3.7/lib/python3.7/site-packages/py_entitymatching/evaluation/evaluation.py:172: FutureWarning: \n",
      ".ix is deprecated. Please use\n",
      ".loc for label based indexing or\n",
      ".iloc for positional indexing\n",
      "\n",
      "See the documentation here:\n",
      "http://pandas.pydata.org/pandas-docs/stable/user_guide/indexing.html#ix-indexer-is-deprecated\n",
      "  false_pos_ls = list(new_data_frame.ix[false_positive_indices].index.values)\n",
      "/Library/Frameworks/Python.framework/Versions/3.7/lib/python3.7/site-packages/py_entitymatching/evaluation/evaluation.py:173: FutureWarning: \n",
      ".ix is deprecated. Please use\n",
      ".loc for label based indexing or\n",
      ".iloc for positional indexing\n",
      "\n",
      "See the documentation here:\n",
      "http://pandas.pydata.org/pandas-docs/stable/user_guide/indexing.html#ix-indexer-is-deprecated\n",
      "  false_neg_ls = list(new_data_frame.ix[false_negative_indices].index.values)\n",
      "/Library/Frameworks/Python.framework/Versions/3.7/lib/python3.7/site-packages/py_entitymatching/debugmatcher/debug_gui_utils.py:69: FutureWarning: \n",
      ".ix is deprecated. Please use\n",
      ".loc for label based indexing or\n",
      ".iloc for positional indexing\n",
      "\n",
      "See the documentation here:\n",
      "http://pandas.pydata.org/pandas-docs/stable/user_guide/indexing.html#ix-indexer-is-deprecated\n",
      "  d = table.ix[ls]\n"
     ]
    }
   ],
   "source": [
    "# Debug RF matcher using GUI\n",
    "em.vis_debug_dt(dt, P, Q, \n",
    "        exclude_attrs=['_id', 'ltable_id', 'rtable_id', 'label'],\n",
    "        target_attr='label')\n",
    "\n",
    "# We see with the debugger that the false negatives have completely different values in the Title attribute.\n",
    "# This is most likly because we removed all of the features that compare the Title attribute from each table earlier. \n"
   ]
  },
  {
   "cell_type": "code",
   "execution_count": 98,
   "metadata": {},
   "outputs": [
    {
     "data": {
      "text/html": [
       "<div>\n",
       "<style scoped>\n",
       "    .dataframe tbody tr th:only-of-type {\n",
       "        vertical-align: middle;\n",
       "    }\n",
       "\n",
       "    .dataframe tbody tr th {\n",
       "        vertical-align: top;\n",
       "    }\n",
       "\n",
       "    .dataframe thead th {\n",
       "        text-align: right;\n",
       "    }\n",
       "</style>\n",
       "<table border=\"1\" class=\"dataframe\">\n",
       "  <thead>\n",
       "    <tr style=\"text-align: right;\">\n",
       "      <th></th>\n",
       "      <th>_id</th>\n",
       "      <th>ltable_id</th>\n",
       "      <th>rtable_id</th>\n",
       "      <th>id_id_lev_dist</th>\n",
       "      <th>authors_authors_lev_sim</th>\n",
       "      <th>year_year_exm</th>\n",
       "      <th>year_year_anm</th>\n",
       "      <th>year_year_lev_dist</th>\n",
       "      <th>year_year_lev_sim</th>\n",
       "      <th>label</th>\n",
       "      <th>predicted_labels</th>\n",
       "      <th>proba</th>\n",
       "    </tr>\n",
       "  </thead>\n",
       "  <tbody>\n",
       "    <tr>\n",
       "      <th>371</th>\n",
       "      <td>371</td>\n",
       "      <td>l650</td>\n",
       "      <td>r1594</td>\n",
       "      <td>4.0</td>\n",
       "      <td>0.120000</td>\n",
       "      <td>1.0</td>\n",
       "      <td>1.0</td>\n",
       "      <td>0.0</td>\n",
       "      <td>1.0</td>\n",
       "      <td>1</td>\n",
       "      <td>0</td>\n",
       "      <td>0.500000</td>\n",
       "    </tr>\n",
       "    <tr>\n",
       "      <th>259</th>\n",
       "      <td>259</td>\n",
       "      <td>l938</td>\n",
       "      <td>r1090</td>\n",
       "      <td>5.0</td>\n",
       "      <td>0.200000</td>\n",
       "      <td>1.0</td>\n",
       "      <td>1.0</td>\n",
       "      <td>0.0</td>\n",
       "      <td>1.0</td>\n",
       "      <td>1</td>\n",
       "      <td>0</td>\n",
       "      <td>0.333333</td>\n",
       "    </tr>\n",
       "    <tr>\n",
       "      <th>346</th>\n",
       "      <td>346</td>\n",
       "      <td>l1681</td>\n",
       "      <td>r693</td>\n",
       "      <td>4.0</td>\n",
       "      <td>0.238095</td>\n",
       "      <td>1.0</td>\n",
       "      <td>1.0</td>\n",
       "      <td>0.0</td>\n",
       "      <td>1.0</td>\n",
       "      <td>1</td>\n",
       "      <td>0</td>\n",
       "      <td>0.500000</td>\n",
       "    </tr>\n",
       "    <tr>\n",
       "      <th>184</th>\n",
       "      <td>184</td>\n",
       "      <td>l891</td>\n",
       "      <td>r485</td>\n",
       "      <td>4.0</td>\n",
       "      <td>0.137931</td>\n",
       "      <td>1.0</td>\n",
       "      <td>1.0</td>\n",
       "      <td>0.0</td>\n",
       "      <td>1.0</td>\n",
       "      <td>1</td>\n",
       "      <td>0</td>\n",
       "      <td>0.500000</td>\n",
       "    </tr>\n",
       "    <tr>\n",
       "      <th>11</th>\n",
       "      <td>11</td>\n",
       "      <td>l1189</td>\n",
       "      <td>r1674</td>\n",
       "      <td>4.0</td>\n",
       "      <td>0.222222</td>\n",
       "      <td>1.0</td>\n",
       "      <td>1.0</td>\n",
       "      <td>0.0</td>\n",
       "      <td>1.0</td>\n",
       "      <td>1</td>\n",
       "      <td>0</td>\n",
       "      <td>0.250000</td>\n",
       "    </tr>\n",
       "    <tr>\n",
       "      <th>121</th>\n",
       "      <td>121</td>\n",
       "      <td>l169</td>\n",
       "      <td>r521</td>\n",
       "      <td>4.0</td>\n",
       "      <td>0.153846</td>\n",
       "      <td>1.0</td>\n",
       "      <td>1.0</td>\n",
       "      <td>0.0</td>\n",
       "      <td>1.0</td>\n",
       "      <td>1</td>\n",
       "      <td>0</td>\n",
       "      <td>0.500000</td>\n",
       "    </tr>\n",
       "    <tr>\n",
       "      <th>267</th>\n",
       "      <td>267</td>\n",
       "      <td>l120</td>\n",
       "      <td>r1181</td>\n",
       "      <td>4.0</td>\n",
       "      <td>0.216667</td>\n",
       "      <td>1.0</td>\n",
       "      <td>1.0</td>\n",
       "      <td>0.0</td>\n",
       "      <td>1.0</td>\n",
       "      <td>1</td>\n",
       "      <td>0</td>\n",
       "      <td>0.500000</td>\n",
       "    </tr>\n",
       "    <tr>\n",
       "      <th>147</th>\n",
       "      <td>147</td>\n",
       "      <td>l867</td>\n",
       "      <td>r1263</td>\n",
       "      <td>4.0</td>\n",
       "      <td>0.142857</td>\n",
       "      <td>1.0</td>\n",
       "      <td>1.0</td>\n",
       "      <td>0.0</td>\n",
       "      <td>1.0</td>\n",
       "      <td>1</td>\n",
       "      <td>0</td>\n",
       "      <td>0.333333</td>\n",
       "    </tr>\n",
       "  </tbody>\n",
       "</table>\n",
       "</div>"
      ],
      "text/plain": [
       "     _id ltable_id rtable_id  id_id_lev_dist  authors_authors_lev_sim  \\\n",
       "371  371      l650     r1594             4.0                 0.120000   \n",
       "259  259      l938     r1090             5.0                 0.200000   \n",
       "346  346     l1681      r693             4.0                 0.238095   \n",
       "184  184      l891      r485             4.0                 0.137931   \n",
       "11    11     l1189     r1674             4.0                 0.222222   \n",
       "121  121      l169      r521             4.0                 0.153846   \n",
       "267  267      l120     r1181             4.0                 0.216667   \n",
       "147  147      l867     r1263             4.0                 0.142857   \n",
       "\n",
       "     year_year_exm  year_year_anm  year_year_lev_dist  year_year_lev_sim  \\\n",
       "371            1.0            1.0                 0.0                1.0   \n",
       "259            1.0            1.0                 0.0                1.0   \n",
       "346            1.0            1.0                 0.0                1.0   \n",
       "184            1.0            1.0                 0.0                1.0   \n",
       "11             1.0            1.0                 0.0                1.0   \n",
       "121            1.0            1.0                 0.0                1.0   \n",
       "267            1.0            1.0                 0.0                1.0   \n",
       "147            1.0            1.0                 0.0                1.0   \n",
       "\n",
       "     label  predicted_labels     proba  \n",
       "371      1                 0  0.500000  \n",
       "259      1                 0  0.333333  \n",
       "346      1                 0  0.500000  \n",
       "184      1                 0  0.500000  \n",
       "11       1                 0  0.250000  \n",
       "121      1                 0  0.500000  \n",
       "267      1                 0  0.500000  \n",
       "147      1                 0  0.333333  "
      ]
     },
     "execution_count": 98,
     "metadata": {},
     "output_type": "execute_result"
    }
   ],
   "source": [
    "# We can see which tuples are not predicted correctly\n",
    "H[H['label'] != H['predicted_labels']]"
   ]
  },
  {
   "cell_type": "code",
   "execution_count": null,
   "metadata": {},
   "outputs": [],
   "source": [
    "#### Use trigger to improve result"
   ]
  },
  {
   "cell_type": "code",
   "execution_count": 99,
   "metadata": {},
   "outputs": [],
   "source": [
    "# Use the constructor to create a trigger\n",
    "mt = em.MatchTrigger()"
   ]
  },
  {
   "cell_type": "code",
   "execution_count": 100,
   "metadata": {},
   "outputs": [
    {
     "data": {
      "text/plain": [
       "odict_keys(['_rule_0', '_rule_1'])"
      ]
     },
     "execution_count": 100,
     "metadata": {},
     "output_type": "execute_result"
    }
   ],
   "source": [
    "# Add two rules to the rule-based matcher\n",
    "\n",
    "# Since we removed all of the features comparing Title earlier, we want to now add a rule that compares Titles\n",
    "mt.add_cond_rule(['title_title_lev_sim(ltuple, rtuple) > 0.7'], feature_table)\n",
    "# The rule has two predicates, one comparing the titles and the other looking for an exact match of the years\n",
    "mt.add_cond_rule(['title_title_lev_sim(ltuple, rtuple) > 0.4', 'year_year_exm(ltuple, rtuple) == 1'], feature_table)\n",
    "mt.get_rule_names()"
   ]
  },
  {
   "cell_type": "code",
   "execution_count": 101,
   "metadata": {},
   "outputs": [
    {
     "data": {
      "text/plain": [
       "True"
      ]
     },
     "execution_count": 101,
     "metadata": {},
     "output_type": "execute_result"
    }
   ],
   "source": [
    "# Since we are using the trigger to fix a problem related to false negatives, we want the condition to be \n",
    "# True and the action to be 1. This way, the trigger will set a prediction to 1 when the rule returns True.\n",
    "\n",
    "mt.add_cond_status(True)\n",
    "mt.add_action(1)"
   ]
  },
  {
   "cell_type": "code",
   "execution_count": 102,
   "metadata": {},
   "outputs": [
    {
     "name": "stderr",
     "output_type": "stream",
     "text": [
      "/Library/Frameworks/Python.framework/Versions/3.7/lib/python3.7/site-packages/py_entitymatching/utils/generic_helper.py:228: FutureWarning: \n",
      ".ix is deprecated. Please use\n",
      ".loc for label based indexing or\n",
      ".iloc for positional indexing\n",
      "\n",
      "See the documentation here:\n",
      "http://pandas.pydata.org/pandas-docs/stable/user_guide/indexing.html#ix-indexer-is-deprecated\n",
      "  return (ft_df.ix[feature_name]['is_auto_generated'],\n",
      "/Library/Frameworks/Python.framework/Versions/3.7/lib/python3.7/site-packages/py_entitymatching/utils/generic_helper.py:229: FutureWarning: \n",
      ".ix is deprecated. Please use\n",
      ".loc for label based indexing or\n",
      ".iloc for positional indexing\n",
      "\n",
      "See the documentation here:\n",
      "http://pandas.pydata.org/pandas-docs/stable/user_guide/indexing.html#ix-indexer-is-deprecated\n",
      "  ft_df.ix[feature_name]['simfunction'],\n",
      "/Library/Frameworks/Python.framework/Versions/3.7/lib/python3.7/site-packages/py_entitymatching/utils/generic_helper.py:230: FutureWarning: \n",
      ".ix is deprecated. Please use\n",
      ".loc for label based indexing or\n",
      ".iloc for positional indexing\n",
      "\n",
      "See the documentation here:\n",
      "http://pandas.pydata.org/pandas-docs/stable/user_guide/indexing.html#ix-indexer-is-deprecated\n",
      "  ft_df.ix[feature_name]['left_attribute'],\n",
      "/Library/Frameworks/Python.framework/Versions/3.7/lib/python3.7/site-packages/py_entitymatching/utils/generic_helper.py:231: FutureWarning: \n",
      ".ix is deprecated. Please use\n",
      ".loc for label based indexing or\n",
      ".iloc for positional indexing\n",
      "\n",
      "See the documentation here:\n",
      "http://pandas.pydata.org/pandas-docs/stable/user_guide/indexing.html#ix-indexer-is-deprecated\n",
      "  ft_df.ix[feature_name]['right_attribute'],\n",
      "/Library/Frameworks/Python.framework/Versions/3.7/lib/python3.7/site-packages/py_entitymatching/utils/generic_helper.py:232: FutureWarning: \n",
      ".ix is deprecated. Please use\n",
      ".loc for label based indexing or\n",
      ".iloc for positional indexing\n",
      "\n",
      "See the documentation here:\n",
      "http://pandas.pydata.org/pandas-docs/stable/user_guide/indexing.html#ix-indexer-is-deprecated\n",
      "  ft_df.ix[feature_name]['left_attr_tokenizer'],\n",
      "/Library/Frameworks/Python.framework/Versions/3.7/lib/python3.7/site-packages/py_entitymatching/utils/generic_helper.py:233: FutureWarning: \n",
      ".ix is deprecated. Please use\n",
      ".loc for label based indexing or\n",
      ".iloc for positional indexing\n",
      "\n",
      "See the documentation here:\n",
      "http://pandas.pydata.org/pandas-docs/stable/user_guide/indexing.html#ix-indexer-is-deprecated\n",
      "  ft_df.ix[feature_name]['right_attr_tokenizer'],\n",
      "/Library/Frameworks/Python.framework/Versions/3.7/lib/python3.7/site-packages/py_entitymatching/triggers/matchtrigger.py:236: FutureWarning: \n",
      ".ix is deprecated. Please use\n",
      ".loc for label based indexing or\n",
      ".iloc for positional indexing\n",
      "\n",
      "See the documentation here:\n",
      "http://pandas.pydata.org/pandas-docs/stable/user_guide/indexing.html#ix-indexer-is-deprecated\n",
      "  l_row = l_tbl.ix[row[lid_idx]]\n",
      "/Library/Frameworks/Python.framework/Versions/3.7/lib/python3.7/site-packages/py_entitymatching/triggers/matchtrigger.py:237: FutureWarning: \n",
      ".ix is deprecated. Please use\n",
      ".loc for label based indexing or\n",
      ".iloc for positional indexing\n",
      "\n",
      "See the documentation here:\n",
      "http://pandas.pydata.org/pandas-docs/stable/user_guide/indexing.html#ix-indexer-is-deprecated\n",
      "  r_row = r_tbl.ix[row[rid_idx]]\n"
     ]
    }
   ],
   "source": [
    "## Use the Trigger to improve results\n",
    "preds = mt.execute(input_table=H, label_column='predicted_labels', inplace=False)\n"
   ]
  },
  {
   "cell_type": "code",
   "execution_count": 103,
   "metadata": {},
   "outputs": [
    {
     "data": {
      "text/html": [
       "<div>\n",
       "<style scoped>\n",
       "    .dataframe tbody tr th:only-of-type {\n",
       "        vertical-align: middle;\n",
       "    }\n",
       "\n",
       "    .dataframe tbody tr th {\n",
       "        vertical-align: top;\n",
       "    }\n",
       "\n",
       "    .dataframe thead th {\n",
       "        text-align: right;\n",
       "    }\n",
       "</style>\n",
       "<table border=\"1\" class=\"dataframe\">\n",
       "  <thead>\n",
       "    <tr style=\"text-align: right;\">\n",
       "      <th></th>\n",
       "      <th>_id</th>\n",
       "      <th>ltable_id</th>\n",
       "      <th>rtable_id</th>\n",
       "      <th>id_id_lev_dist</th>\n",
       "      <th>authors_authors_lev_sim</th>\n",
       "      <th>year_year_exm</th>\n",
       "      <th>year_year_anm</th>\n",
       "      <th>year_year_lev_dist</th>\n",
       "      <th>year_year_lev_sim</th>\n",
       "      <th>label</th>\n",
       "      <th>predicted_labels</th>\n",
       "      <th>proba</th>\n",
       "    </tr>\n",
       "  </thead>\n",
       "  <tbody>\n",
       "    <tr>\n",
       "      <th>11</th>\n",
       "      <td>11</td>\n",
       "      <td>l1189</td>\n",
       "      <td>r1674</td>\n",
       "      <td>4.0</td>\n",
       "      <td>0.222222</td>\n",
       "      <td>1.0</td>\n",
       "      <td>1.0</td>\n",
       "      <td>0.0</td>\n",
       "      <td>1.0</td>\n",
       "      <td>1</td>\n",
       "      <td>0</td>\n",
       "      <td>0.25</td>\n",
       "    </tr>\n",
       "    <tr>\n",
       "      <th>86</th>\n",
       "      <td>86</td>\n",
       "      <td>l1570</td>\n",
       "      <td>r516</td>\n",
       "      <td>4.0</td>\n",
       "      <td>0.223684</td>\n",
       "      <td>1.0</td>\n",
       "      <td>1.0</td>\n",
       "      <td>0.0</td>\n",
       "      <td>1.0</td>\n",
       "      <td>0</td>\n",
       "      <td>1</td>\n",
       "      <td>0.00</td>\n",
       "    </tr>\n",
       "    <tr>\n",
       "      <th>267</th>\n",
       "      <td>267</td>\n",
       "      <td>l120</td>\n",
       "      <td>r1181</td>\n",
       "      <td>4.0</td>\n",
       "      <td>0.216667</td>\n",
       "      <td>1.0</td>\n",
       "      <td>1.0</td>\n",
       "      <td>0.0</td>\n",
       "      <td>1.0</td>\n",
       "      <td>1</td>\n",
       "      <td>0</td>\n",
       "      <td>0.50</td>\n",
       "    </tr>\n",
       "  </tbody>\n",
       "</table>\n",
       "</div>"
      ],
      "text/plain": [
       "     _id ltable_id rtable_id  id_id_lev_dist  authors_authors_lev_sim  \\\n",
       "11    11     l1189     r1674             4.0                 0.222222   \n",
       "86    86     l1570      r516             4.0                 0.223684   \n",
       "267  267      l120     r1181             4.0                 0.216667   \n",
       "\n",
       "     year_year_exm  year_year_anm  year_year_lev_dist  year_year_lev_sim  \\\n",
       "11             1.0            1.0                 0.0                1.0   \n",
       "86             1.0            1.0                 0.0                1.0   \n",
       "267            1.0            1.0                 0.0                1.0   \n",
       "\n",
       "     label  predicted_labels  proba  \n",
       "11       1                 0   0.25  \n",
       "86       0                 1   0.00  \n",
       "267      1                 0   0.50  "
      ]
     },
     "execution_count": 103,
     "metadata": {},
     "output_type": "execute_result"
    }
   ],
   "source": [
    "# We were able to significantly reduce the number of incorrectly labeled tuple pairs\n",
    "preds[preds['label'] != preds['predicted_labels']]"
   ]
  },
  {
   "cell_type": "code",
   "execution_count": 104,
   "metadata": {},
   "outputs": [
    {
     "data": {
      "text/html": [
       "<div>\n",
       "<style scoped>\n",
       "    .dataframe tbody tr th:only-of-type {\n",
       "        vertical-align: middle;\n",
       "    }\n",
       "\n",
       "    .dataframe tbody tr th {\n",
       "        vertical-align: top;\n",
       "    }\n",
       "\n",
       "    .dataframe thead th {\n",
       "        text-align: right;\n",
       "    }\n",
       "</style>\n",
       "<table border=\"1\" class=\"dataframe\">\n",
       "  <thead>\n",
       "    <tr style=\"text-align: right;\">\n",
       "      <th></th>\n",
       "      <th>_id</th>\n",
       "      <th>ltable_id</th>\n",
       "      <th>rtable_id</th>\n",
       "      <th>ltable_title</th>\n",
       "      <th>ltable_authors</th>\n",
       "      <th>ltable_year</th>\n",
       "      <th>rtable_title</th>\n",
       "      <th>rtable_authors</th>\n",
       "      <th>rtable_year</th>\n",
       "      <th>label</th>\n",
       "    </tr>\n",
       "  </thead>\n",
       "  <tbody>\n",
       "    <tr>\n",
       "      <th>11</th>\n",
       "      <td>11</td>\n",
       "      <td>l1189</td>\n",
       "      <td>r1674</td>\n",
       "      <td>Weimin Du, Xiangning Liu, Abdelsalam Helal</td>\n",
       "      <td>Multiview Access Protocols for Large-Scale Replication</td>\n",
       "      <td>1998</td>\n",
       "      <td>Multiview access protocols for large-scale replication</td>\n",
       "      <td>Xiangning Liu, Abdelsalam Helal, Weimin Du</td>\n",
       "      <td>1998</td>\n",
       "      <td>1</td>\n",
       "    </tr>\n",
       "    <tr>\n",
       "      <th>267</th>\n",
       "      <td>267</td>\n",
       "      <td>l120</td>\n",
       "      <td>r1181</td>\n",
       "      <td>w. Bruce kroft, James callan, erik w. Brown</td>\n",
       "      <td>fast incrremental indexiing for fulltext informtion retreval</td>\n",
       "      <td>1994</td>\n",
       "      <td>Fast Incremental Indexing For Full-Text Information Retrieval</td>\n",
       "      <td>Eric W. Brown, James P. Callan, W. Bruce Croft</td>\n",
       "      <td>1994</td>\n",
       "      <td>1</td>\n",
       "    </tr>\n",
       "  </tbody>\n",
       "</table>\n",
       "</div>"
      ],
      "text/plain": [
       "     _id ltable_id rtable_id                                 ltable_title  \\\n",
       "11    11     l1189     r1674   Weimin Du, Xiangning Liu, Abdelsalam Helal   \n",
       "267  267      l120     r1181  w. Bruce kroft, James callan, erik w. Brown   \n",
       "\n",
       "                                                   ltable_authors  \\\n",
       "11         Multiview Access Protocols for Large-Scale Replication   \n",
       "267  fast incrremental indexiing for fulltext informtion retreval   \n",
       "\n",
       "     ltable_year  \\\n",
       "11          1998   \n",
       "267         1994   \n",
       "\n",
       "                                                      rtable_title  \\\n",
       "11          Multiview access protocols for large-scale replication   \n",
       "267  Fast Incremental Indexing For Full-Text Information Retrieval   \n",
       "\n",
       "                                     rtable_authors  rtable_year  label  \n",
       "11       Xiangning Liu, Abdelsalam Helal, Weimin Du         1998      1  \n",
       "267  Eric W. Brown, James P. Callan, W. Bruce Croft         1994      1  "
      ]
     },
     "execution_count": 104,
     "metadata": {},
     "output_type": "execute_result"
    }
   ],
   "source": [
    "# We can see that the two tuples that are still labeled incorrectly are due to the title and authors being in the\n",
    "# wrong column for one of the tuples.\n",
    "pd.concat([S[S['_id'] == 11], S[S['_id'] == 267]])"
   ]
  },
  {
   "cell_type": "code",
   "execution_count": null,
   "metadata": {},
   "outputs": [],
   "source": []
  }
 ],
 "metadata": {
  "kernelspec": {
   "display_name": "Python 3",
   "language": "python",
   "name": "python3"
  },
  "language_info": {
   "codemirror_mode": {
    "name": "ipython",
    "version": 3
   },
   "file_extension": ".py",
   "mimetype": "text/x-python",
   "name": "python",
   "nbconvert_exporter": "python",
   "pygments_lexer": "ipython3",
   "version": "3.7.9"
  }
 },
 "nbformat": 4,
 "nbformat_minor": 2
}
