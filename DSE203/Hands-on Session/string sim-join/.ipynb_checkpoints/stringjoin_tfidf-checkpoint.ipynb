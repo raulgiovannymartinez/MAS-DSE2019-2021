{
 "cells": [
  {
   "cell_type": "markdown",
   "metadata": {},
   "source": [
    "This quickstart guide explains how to join two tables A and B using TF-IDF \n",
    "similarity measure. First, you need to import the required packages \n",
    "as follows (if you have installed **py_stringsimjoin** it will \n",
    "automatically install the dependencies **py_stringmatching** and **pandas**):"
   ]
  },
  {
   "cell_type": "code",
   "execution_count": 11,
   "metadata": {},
   "outputs": [],
   "source": [
    "# Import libraries\n",
    "import py_stringsimjoin as ssj\n",
    "import py_stringmatching as sm\n",
    "import pandas as pd\n",
    "import os\n",
    "import sys"
   ]
  },
  {
   "cell_type": "code",
   "execution_count": 12,
   "metadata": {},
   "outputs": [
    {
     "name": "stdout",
     "output_type": "stream",
     "text": [
      "python version: 3.8.3 (default, Jul  2 2020, 17:30:36) [MSC v.1916 64 bit (AMD64)]\n",
      "py_stringsimjoin version: 0.3.1\n",
      "py_stringmatching version: 0.4.1\n",
      "pandas version: 1.0.5\n"
     ]
    }
   ],
   "source": [
    "print('python version: ' + sys.version)\n",
    "print('py_stringsimjoin version: ' + ssj.__version__)\n",
    "print('py_stringmatching version: ' + sm.__version__)\n",
    "print('pandas version: ' + pd.__version__)"
   ]
  },
  {
   "cell_type": "markdown",
   "metadata": {},
   "source": [
    "Joining two tables using TF-IDF measure typically consists of six steps:\n",
    "1. Loading the input tables\n",
    "2. Profiling the tables\n",
    "3. Creating a tokenizer\n",
    "4. Applying overlap filter\n",
    "5. Creating the corpus for TF-IDF matcher \n",
    "6. Applying the TF-IDF matcher "
   ]
  },
  {
   "cell_type": "markdown",
   "metadata": {},
   "source": [
    "# 1. Loading the input tables"
   ]
  },
  {
   "cell_type": "markdown",
   "metadata": {},
   "source": [
    "We begin by loading the two tables. For the purpose of this \n",
    "guide, we use the books dataset that comes with the package. "
   ]
  },
  {
   "cell_type": "code",
   "execution_count": 13,
   "metadata": {},
   "outputs": [],
   "source": [
    "# construct the path of the tables to be loaded. Since we are loading a \n",
    "# dataset from the package, we need to access the data from the path \n",
    "# where the package is installed. If you need to load your own data, you can directly\n",
    "# provide your table path to the read_csv command.\n",
    "\n",
    "table_A_path = os.sep.join([ssj.get_install_path(), 'datasets', 'data', 'books_table_A.csv.gz'])\n",
    "table_B_path = os.sep.join([ssj.get_install_path(), 'datasets', 'data', 'books_table_B.csv.gz'])"
   ]
  },
  {
   "cell_type": "code",
   "execution_count": 14,
   "metadata": {},
   "outputs": [
    {
     "name": "stdout",
     "output_type": "stream",
     "text": [
      "Number of records in A: 3022\n",
      "Number of records in B: 3099\n"
     ]
    }
   ],
   "source": [
    "# Load csv files as dataframes. Since we are reading a compressed csv file, \n",
    "# we provide the compression argument. If you are reading an uncompressed \n",
    "# csv file, you should not specify the compression argument.\n",
    "\n",
    "A = pd.read_csv(table_A_path, compression='gzip')\n",
    "B = pd.read_csv(table_B_path, compression='gzip')\n",
    "print('Number of records in A: ' + str(len(A)))\n",
    "print('Number of records in B: ' + str(len(B)))"
   ]
  },
  {
   "cell_type": "code",
   "execution_count": 15,
   "metadata": {},
   "outputs": [
    {
     "data": {
      "text/html": [
       "<div>\n",
       "<style scoped>\n",
       "    .dataframe tbody tr th:only-of-type {\n",
       "        vertical-align: middle;\n",
       "    }\n",
       "\n",
       "    .dataframe tbody tr th {\n",
       "        vertical-align: top;\n",
       "    }\n",
       "\n",
       "    .dataframe thead th {\n",
       "        text-align: right;\n",
       "    }\n",
       "</style>\n",
       "<table border=\"1\" class=\"dataframe\">\n",
       "  <thead>\n",
       "    <tr style=\"text-align: right;\">\n",
       "      <th></th>\n",
       "      <th>ID</th>\n",
       "      <th>Title</th>\n",
       "      <th>Price</th>\n",
       "      <th>Author</th>\n",
       "      <th>ISBN13</th>\n",
       "      <th>Publisher</th>\n",
       "      <th>Publication_Date</th>\n",
       "      <th>Pages</th>\n",
       "      <th>Dimensions</th>\n",
       "    </tr>\n",
       "  </thead>\n",
       "  <tbody>\n",
       "    <tr>\n",
       "      <th>0</th>\n",
       "      <td>BN0001</td>\n",
       "      <td>The Maze Runner Series Complete Collection</td>\n",
       "      <td>$24.21</td>\n",
       "      <td>James Dashner</td>\n",
       "      <td>9780385388894</td>\n",
       "      <td>Random House Children's Books</td>\n",
       "      <td>7/8/14</td>\n",
       "      <td>NaN</td>\n",
       "      <td>5.60(w) x 8.40(h) x 3.30(d)</td>\n",
       "    </tr>\n",
       "  </tbody>\n",
       "</table>\n",
       "</div>"
      ],
      "text/plain": [
       "       ID                                       Title    Price         Author  \\\n",
       "0  BN0001  The Maze Runner Series Complete Collection  $24.21   James Dashner   \n",
       "\n",
       "          ISBN13                      Publisher Publication_Date  Pages  \\\n",
       "0  9780385388894  Random House Children's Books           7/8/14    NaN   \n",
       "\n",
       "                    Dimensions  \n",
       "0  5.60(w) x 8.40(h) x 3.30(d)  "
      ]
     },
     "execution_count": 15,
     "metadata": {},
     "output_type": "execute_result"
    }
   ],
   "source": [
    "A.head(1)"
   ]
  },
  {
   "cell_type": "code",
   "execution_count": 16,
   "metadata": {},
   "outputs": [
    {
     "data": {
      "text/html": [
       "<div>\n",
       "<style scoped>\n",
       "    .dataframe tbody tr th:only-of-type {\n",
       "        vertical-align: middle;\n",
       "    }\n",
       "\n",
       "    .dataframe tbody tr th {\n",
       "        vertical-align: top;\n",
       "    }\n",
       "\n",
       "    .dataframe thead th {\n",
       "        text-align: right;\n",
       "    }\n",
       "</style>\n",
       "<table border=\"1\" class=\"dataframe\">\n",
       "  <thead>\n",
       "    <tr style=\"text-align: right;\">\n",
       "      <th></th>\n",
       "      <th>ID</th>\n",
       "      <th>Title</th>\n",
       "      <th>UsedPrice</th>\n",
       "      <th>NewPrice</th>\n",
       "      <th>Author</th>\n",
       "      <th>ISBN10</th>\n",
       "      <th>ISBN13</th>\n",
       "      <th>Publisher</th>\n",
       "      <th>Publication_Date</th>\n",
       "      <th>Pages</th>\n",
       "      <th>Dimensions</th>\n",
       "    </tr>\n",
       "  </thead>\n",
       "  <tbody>\n",
       "    <tr>\n",
       "      <th>0</th>\n",
       "      <td>HC0001</td>\n",
       "      <td>The Hunger Games(Hunger Games (Quality))</td>\n",
       "      <td>$4.98</td>\n",
       "      <td>$11.02</td>\n",
       "      <td>Suzanne Collins</td>\n",
       "      <td>0439023521</td>\n",
       "      <td>9780439023528</td>\n",
       "      <td>Scholastic Press</td>\n",
       "      <td>Jul. 3rd, 2010</td>\n",
       "      <td>374</td>\n",
       "      <td>5.30 x 8.00 x 0.90 inches</td>\n",
       "    </tr>\n",
       "  </tbody>\n",
       "</table>\n",
       "</div>"
      ],
      "text/plain": [
       "       ID                                     Title UsedPrice NewPrice  \\\n",
       "0  HC0001  The Hunger Games(Hunger Games (Quality))     $4.98   $11.02   \n",
       "\n",
       "            Author      ISBN10         ISBN13         Publisher  \\\n",
       "0  Suzanne Collins  0439023521  9780439023528  Scholastic Press   \n",
       "\n",
       "  Publication_Date  Pages                 Dimensions  \n",
       "0   Jul. 3rd, 2010    374  5.30 x 8.00 x 0.90 inches  "
      ]
     },
     "execution_count": 16,
     "metadata": {},
     "output_type": "execute_result"
    }
   ],
   "source": [
    "B.head(1)"
   ]
  },
  {
   "cell_type": "markdown",
   "metadata": {},
   "source": [
    "# 2. Profiling the tables"
   ]
  },
  {
   "cell_type": "markdown",
   "metadata": {},
   "source": [
    "Before performing the join, we may want to profile the tables to \n",
    "know about the characteristics of the attributes. This can help identify:\n",
    "\n",
    "a) unique attributes in the table which can be used as key attribute when performing \n",
    "   the join. A key attribute is needed to uniquely identify a tuple. \n",
    "   \n",
    "b) the number of missing values present in each attribute. This can \n",
    "   help you in deciding the attribute on which to perform the join. \n",
    "   For example, an attribute with a lot of missing values may not be a good \n",
    "   join attribute. Further, based on the missing value information you \n",
    "   need to decide on how to handle missing values when performing the join \n",
    "   \n",
    "You can profile the attributes in a table using the following command:"
   ]
  },
  {
   "cell_type": "code",
   "execution_count": 17,
   "metadata": {},
   "outputs": [
    {
     "data": {
      "text/html": [
       "<div>\n",
       "<style scoped>\n",
       "    .dataframe tbody tr th:only-of-type {\n",
       "        vertical-align: middle;\n",
       "    }\n",
       "\n",
       "    .dataframe tbody tr th {\n",
       "        vertical-align: top;\n",
       "    }\n",
       "\n",
       "    .dataframe thead th {\n",
       "        text-align: right;\n",
       "    }\n",
       "</style>\n",
       "<table border=\"1\" class=\"dataframe\">\n",
       "  <thead>\n",
       "    <tr style=\"text-align: right;\">\n",
       "      <th></th>\n",
       "      <th>Unique values</th>\n",
       "      <th>Missing values</th>\n",
       "      <th>Comments</th>\n",
       "    </tr>\n",
       "    <tr>\n",
       "      <th>Attribute</th>\n",
       "      <th></th>\n",
       "      <th></th>\n",
       "      <th></th>\n",
       "    </tr>\n",
       "  </thead>\n",
       "  <tbody>\n",
       "    <tr>\n",
       "      <th>ID</th>\n",
       "      <td>3022 (100.0%)</td>\n",
       "      <td>0 (0.0%)</td>\n",
       "      <td>This attribute can be used as a key attribute.</td>\n",
       "    </tr>\n",
       "    <tr>\n",
       "      <th>Title</th>\n",
       "      <td>2859 (94.61%)</td>\n",
       "      <td>0 (0.0%)</td>\n",
       "      <td></td>\n",
       "    </tr>\n",
       "    <tr>\n",
       "      <th>Price</th>\n",
       "      <td>698 (23.1%)</td>\n",
       "      <td>0 (0.0%)</td>\n",
       "      <td></td>\n",
       "    </tr>\n",
       "    <tr>\n",
       "      <th>Author</th>\n",
       "      <td>1225 (40.54%)</td>\n",
       "      <td>0 (0.0%)</td>\n",
       "      <td></td>\n",
       "    </tr>\n",
       "    <tr>\n",
       "      <th>ISBN13</th>\n",
       "      <td>2869 (94.94%)</td>\n",
       "      <td>0 (0.0%)</td>\n",
       "      <td></td>\n",
       "    </tr>\n",
       "    <tr>\n",
       "      <th>Publisher</th>\n",
       "      <td>200 (6.62%)</td>\n",
       "      <td>0 (0.0%)</td>\n",
       "      <td></td>\n",
       "    </tr>\n",
       "    <tr>\n",
       "      <th>Publication_Date</th>\n",
       "      <td>1100 (36.4%)</td>\n",
       "      <td>0 (0.0%)</td>\n",
       "      <td></td>\n",
       "    </tr>\n",
       "    <tr>\n",
       "      <th>Pages</th>\n",
       "      <td>303 (10.03%)</td>\n",
       "      <td>12 (0.4%)</td>\n",
       "      <td>Joining on this attribute will ignore 12 (0.4%) rows.</td>\n",
       "    </tr>\n",
       "    <tr>\n",
       "      <th>Dimensions</th>\n",
       "      <td>1764 (58.37%)</td>\n",
       "      <td>20 (0.66%)</td>\n",
       "      <td>Joining on this attribute will ignore 20 (0.66%) rows.</td>\n",
       "    </tr>\n",
       "  </tbody>\n",
       "</table>\n",
       "</div>"
      ],
      "text/plain": [
       "                  Unique values Missing values  \\\n",
       "Attribute                                        \n",
       "ID                3022 (100.0%)       0 (0.0%)   \n",
       "Title             2859 (94.61%)       0 (0.0%)   \n",
       "Price               698 (23.1%)       0 (0.0%)   \n",
       "Author            1225 (40.54%)       0 (0.0%)   \n",
       "ISBN13            2869 (94.94%)       0 (0.0%)   \n",
       "Publisher           200 (6.62%)       0 (0.0%)   \n",
       "Publication_Date   1100 (36.4%)       0 (0.0%)   \n",
       "Pages              303 (10.03%)      12 (0.4%)   \n",
       "Dimensions        1764 (58.37%)     20 (0.66%)   \n",
       "\n",
       "                                                                Comments  \n",
       "Attribute                                                                 \n",
       "ID                        This attribute can be used as a key attribute.  \n",
       "Title                                                                     \n",
       "Price                                                                     \n",
       "Author                                                                    \n",
       "ISBN13                                                                    \n",
       "Publisher                                                                 \n",
       "Publication_Date                                                          \n",
       "Pages              Joining on this attribute will ignore 12 (0.4%) rows.  \n",
       "Dimensions        Joining on this attribute will ignore 20 (0.66%) rows.  "
      ]
     },
     "execution_count": 17,
     "metadata": {},
     "output_type": "execute_result"
    }
   ],
   "source": [
    "# profile attributes in table A\n",
    "ssj.profile_table_for_join(A)"
   ]
  },
  {
   "cell_type": "code",
   "execution_count": 18,
   "metadata": {},
   "outputs": [
    {
     "data": {
      "text/html": [
       "<div>\n",
       "<style scoped>\n",
       "    .dataframe tbody tr th:only-of-type {\n",
       "        vertical-align: middle;\n",
       "    }\n",
       "\n",
       "    .dataframe tbody tr th {\n",
       "        vertical-align: top;\n",
       "    }\n",
       "\n",
       "    .dataframe thead th {\n",
       "        text-align: right;\n",
       "    }\n",
       "</style>\n",
       "<table border=\"1\" class=\"dataframe\">\n",
       "  <thead>\n",
       "    <tr style=\"text-align: right;\">\n",
       "      <th></th>\n",
       "      <th>Unique values</th>\n",
       "      <th>Missing values</th>\n",
       "      <th>Comments</th>\n",
       "    </tr>\n",
       "    <tr>\n",
       "      <th>Attribute</th>\n",
       "      <th></th>\n",
       "      <th></th>\n",
       "      <th></th>\n",
       "    </tr>\n",
       "  </thead>\n",
       "  <tbody>\n",
       "    <tr>\n",
       "      <th>ID</th>\n",
       "      <td>3099 (100.0%)</td>\n",
       "      <td>0 (0.0%)</td>\n",
       "      <td>This attribute can be used as a key attribute.</td>\n",
       "    </tr>\n",
       "    <tr>\n",
       "      <th>Title</th>\n",
       "      <td>2913 (94.0%)</td>\n",
       "      <td>0 (0.0%)</td>\n",
       "      <td></td>\n",
       "    </tr>\n",
       "    <tr>\n",
       "      <th>UsedPrice</th>\n",
       "      <td>320 (10.33%)</td>\n",
       "      <td>3 (0.1%)</td>\n",
       "      <td>Joining on this attribute will ignore 3 (0.1%) rows.</td>\n",
       "    </tr>\n",
       "    <tr>\n",
       "      <th>NewPrice</th>\n",
       "      <td>883 (28.49%)</td>\n",
       "      <td>166 (5.36%)</td>\n",
       "      <td>Joining on this attribute will ignore 166 (5.36%) rows.</td>\n",
       "    </tr>\n",
       "    <tr>\n",
       "      <th>Author</th>\n",
       "      <td>1371 (44.24%)</td>\n",
       "      <td>5 (0.16%)</td>\n",
       "      <td>Joining on this attribute will ignore 5 (0.16%) rows.</td>\n",
       "    </tr>\n",
       "    <tr>\n",
       "      <th>ISBN10</th>\n",
       "      <td>3099 (100.0%)</td>\n",
       "      <td>0 (0.0%)</td>\n",
       "      <td>This attribute can be used as a key attribute.</td>\n",
       "    </tr>\n",
       "    <tr>\n",
       "      <th>ISBN13</th>\n",
       "      <td>3099 (100.0%)</td>\n",
       "      <td>0 (0.0%)</td>\n",
       "      <td>This attribute can be used as a key attribute.</td>\n",
       "    </tr>\n",
       "    <tr>\n",
       "      <th>Publisher</th>\n",
       "      <td>367 (11.84%)</td>\n",
       "      <td>0 (0.0%)</td>\n",
       "      <td></td>\n",
       "    </tr>\n",
       "    <tr>\n",
       "      <th>Publication_Date</th>\n",
       "      <td>1165 (37.59%)</td>\n",
       "      <td>0 (0.0%)</td>\n",
       "      <td></td>\n",
       "    </tr>\n",
       "    <tr>\n",
       "      <th>Pages</th>\n",
       "      <td>510 (16.46%)</td>\n",
       "      <td>0 (0.0%)</td>\n",
       "      <td></td>\n",
       "    </tr>\n",
       "    <tr>\n",
       "      <th>Dimensions</th>\n",
       "      <td>2572 (82.99%)</td>\n",
       "      <td>248 (8.0%)</td>\n",
       "      <td>Joining on this attribute will ignore 248 (8.0%) rows.</td>\n",
       "    </tr>\n",
       "  </tbody>\n",
       "</table>\n",
       "</div>"
      ],
      "text/plain": [
       "                  Unique values Missing values  \\\n",
       "Attribute                                        \n",
       "ID                3099 (100.0%)       0 (0.0%)   \n",
       "Title              2913 (94.0%)       0 (0.0%)   \n",
       "UsedPrice          320 (10.33%)       3 (0.1%)   \n",
       "NewPrice           883 (28.49%)    166 (5.36%)   \n",
       "Author            1371 (44.24%)      5 (0.16%)   \n",
       "ISBN10            3099 (100.0%)       0 (0.0%)   \n",
       "ISBN13            3099 (100.0%)       0 (0.0%)   \n",
       "Publisher          367 (11.84%)       0 (0.0%)   \n",
       "Publication_Date  1165 (37.59%)       0 (0.0%)   \n",
       "Pages              510 (16.46%)       0 (0.0%)   \n",
       "Dimensions        2572 (82.99%)     248 (8.0%)   \n",
       "\n",
       "                                                                 Comments  \n",
       "Attribute                                                                  \n",
       "ID                         This attribute can be used as a key attribute.  \n",
       "Title                                                                      \n",
       "UsedPrice            Joining on this attribute will ignore 3 (0.1%) rows.  \n",
       "NewPrice          Joining on this attribute will ignore 166 (5.36%) rows.  \n",
       "Author              Joining on this attribute will ignore 5 (0.16%) rows.  \n",
       "ISBN10                     This attribute can be used as a key attribute.  \n",
       "ISBN13                     This attribute can be used as a key attribute.  \n",
       "Publisher                                                                  \n",
       "Publication_Date                                                           \n",
       "Pages                                                                      \n",
       "Dimensions         Joining on this attribute will ignore 248 (8.0%) rows.  "
      ]
     },
     "execution_count": 18,
     "metadata": {},
     "output_type": "execute_result"
    }
   ],
   "source": [
    "# profile attributes in table B\n",
    "ssj.profile_table_for_join(B)"
   ]
  },
  {
   "cell_type": "markdown",
   "metadata": {},
   "source": [
    "Based on the profile output, we find that the 'Title' attribute in both tables does \n",
    "not contain any missing values. Hence, for the purpose of this guide, we will now \n",
    "join tables A and B on 'Title' attribute using TF-IDF measure. Next, we need to decide \n",
    "on what threshold to use for the join. For this guide, we will use a threshold of 0.5. \n",
    "Specifically, the join will now find tuple pairs from A and B such that the TF-IDF score \n",
    "over the 'Title' attributes is at least 0.5.\n",
    "\n",
    "Naively, performing the join will involve enumerating the cartesian product \n",
    "AxB (3022 x 3099 = 9365178) and computing TF-IDF score for every pair. But, this can be \n",
    "very time consuming. Hence, we can optimize by first appplying an overlap filter over tables \n",
    "A and B to find pairs sharing at least one token in the 'Title' attribute. The intuition here \n",
    "is that in order for TF-IDF score to be above zero, there must be at least one common token \n",
    "between the attributes. Finally, we apply the TF-IDF measure over the candidate pairs \n",
    "to obtain the join output."
   ]
  },
  {
   "cell_type": "markdown",
   "metadata": {},
   "source": [
    "# 3. Creating a tokenizer"
   ]
  },
  {
   "cell_type": "markdown",
   "metadata": {},
   "source": [
    "Since TF-IDF measure treats input strings as bags of tokens, we \n",
    "need to select a tokenizer which can be used to tokenize each string \n",
    "into a bag of tokens. Currently, we support tokenizers from **py_stringmatching**\n",
    "package which provides five different tokenizer types: alphabetical tokenizer, \n",
    "alphanumeric tokenizer, delimiter-based tokenizer, qgram tokenizer, \n",
    "and whitespace tokenizer.\n",
    "\n",
    "For the purpose of this guide, we will use a whitespace tokenizer. Once\n",
    "we have selected a tokenizer type, we need to create a tokenizer object as\n",
    "shown below:"
   ]
  },
  {
   "cell_type": "code",
   "execution_count": 19,
   "metadata": {},
   "outputs": [
    {
     "data": {
      "text/plain": [
       "['The', 'Maze', 'Runner', 'Series', 'Complete', 'Collection']"
      ]
     },
     "execution_count": 19,
     "metadata": {},
     "output_type": "execute_result"
    }
   ],
   "source": [
    "# create whitespace tokenizer for tokenizing 'Title' attribute\n",
    "ws = sm.WhitespaceTokenizer()\n",
    "\n",
    "ws.tokenize('The Maze Runner Series Complete Collection')"
   ]
  },
  {
   "cell_type": "markdown",
   "metadata": {},
   "source": [
    "# 4. Applying overlap filter"
   ]
  },
  {
   "cell_type": "raw",
   "metadata": {},
   "source": [
    "Next, we need to create and apply overlap filter over tables A and B to obtain a candidate set of pairs C. "
   ]
  },
  {
   "cell_type": "code",
   "execution_count": 20,
   "metadata": {},
   "outputs": [
    {
     "name": "stderr",
     "output_type": "stream",
     "text": [
      "C:\\Users\\rmartinez4\\Anaconda3\\lib\\site-packages\\py_stringsimjoin\\utils\\validation.py:30: FutureWarning: The pandas.np module is deprecated and will be removed from pandas in a future version. Import numpy directly instead\n",
      "  if attr_type != pd.np.object:\n"
     ]
    }
   ],
   "source": [
    "# create overlap filter with whitespace tokenizer and threshold of 1. \n",
    "of = ssj.OverlapFilter(ws, 1) \n",
    "\n",
    "# apply overlap filter to tables A and B to find tuple pairs \n",
    "# sharing at least 1 token in Title attribute\n",
    "C = of.filter_tables(A, B, 'ID', 'ID', 'Title', 'Title', n_jobs=-1)"
   ]
  },
  {
   "cell_type": "code",
   "execution_count": 21,
   "metadata": {},
   "outputs": [
    {
     "data": {
      "text/plain": [
       "1103242"
      ]
     },
     "execution_count": 21,
     "metadata": {},
     "output_type": "execute_result"
    }
   ],
   "source": [
    "len(C)"
   ]
  },
  {
   "cell_type": "code",
   "execution_count": 22,
   "metadata": {},
   "outputs": [
    {
     "data": {
      "text/html": [
       "<div>\n",
       "<style scoped>\n",
       "    .dataframe tbody tr th:only-of-type {\n",
       "        vertical-align: middle;\n",
       "    }\n",
       "\n",
       "    .dataframe tbody tr th {\n",
       "        vertical-align: top;\n",
       "    }\n",
       "\n",
       "    .dataframe thead th {\n",
       "        text-align: right;\n",
       "    }\n",
       "</style>\n",
       "<table border=\"1\" class=\"dataframe\">\n",
       "  <thead>\n",
       "    <tr style=\"text-align: right;\">\n",
       "      <th></th>\n",
       "      <th>_id</th>\n",
       "      <th>l_ID</th>\n",
       "      <th>r_ID</th>\n",
       "    </tr>\n",
       "  </thead>\n",
       "  <tbody>\n",
       "    <tr>\n",
       "      <th>0</th>\n",
       "      <td>0</td>\n",
       "      <td>BN0001</td>\n",
       "      <td>HC0001</td>\n",
       "    </tr>\n",
       "    <tr>\n",
       "      <th>1</th>\n",
       "      <td>1</td>\n",
       "      <td>BN0002</td>\n",
       "      <td>HC0001</td>\n",
       "    </tr>\n",
       "    <tr>\n",
       "      <th>2</th>\n",
       "      <td>2</td>\n",
       "      <td>BN0003</td>\n",
       "      <td>HC0001</td>\n",
       "    </tr>\n",
       "    <tr>\n",
       "      <th>3</th>\n",
       "      <td>3</td>\n",
       "      <td>BN0007</td>\n",
       "      <td>HC0001</td>\n",
       "    </tr>\n",
       "    <tr>\n",
       "      <th>4</th>\n",
       "      <td>4</td>\n",
       "      <td>BN0008</td>\n",
       "      <td>HC0001</td>\n",
       "    </tr>\n",
       "  </tbody>\n",
       "</table>\n",
       "</div>"
      ],
      "text/plain": [
       "   _id    l_ID    r_ID\n",
       "0    0  BN0001  HC0001\n",
       "1    1  BN0002  HC0001\n",
       "2    2  BN0003  HC0001\n",
       "3    3  BN0007  HC0001\n",
       "4    4  BN0008  HC0001"
      ]
     },
     "execution_count": 22,
     "metadata": {},
     "output_type": "execute_result"
    }
   ],
   "source": [
    "C.head(5)"
   ]
  },
  {
   "cell_type": "markdown",
   "metadata": {},
   "source": [
    "If you want to include pairs with missing value in the output, \n",
    "you need to set the **allow_missing** flag to True when creating\n",
    "the overlap filter as shown below:"
   ]
  },
  {
   "cell_type": "code",
   "execution_count": 23,
   "metadata": {},
   "outputs": [],
   "source": [
    "of = ssj.OverlapFilter(ws, 1, allow_missing=True) "
   ]
  },
  {
   "cell_type": "markdown",
   "metadata": {},
   "source": [
    "Now, when you apply the filter, pairs with missing values will also \n",
    "be included in the output."
   ]
  },
  {
   "cell_type": "markdown",
   "metadata": {},
   "source": [
    "# 5. Creating the corpus for TF-IDF matcher"
   ]
  },
  {
   "cell_type": "markdown",
   "metadata": {},
   "source": [
    "The next step is to create the corpus required for TF-IDF measure. \n",
    "Specifically, the corpus consists of the list of tokens in the 'Title' \n",
    "attribute. The corpus can be created as follows:"
   ]
  },
  {
   "cell_type": "code",
   "execution_count": 27,
   "metadata": {},
   "outputs": [],
   "source": [
    "# create a list of tokens\n",
    "A_tokens = A['Title'].apply(ws.tokenize).tolist()\n",
    "B_tokens = B['Title'].apply(ws.tokenize).tolist()\n",
    "\n",
    "# merge both the lists of tokens to create the corpus\n",
    "corpus = A_tokens + B_tokens"
   ]
  },
  {
   "cell_type": "markdown",
   "metadata": {},
   "source": [
    "# 6. Applying the TF-IDF matcher "
   ]
  },
  {
   "cell_type": "markdown",
   "metadata": {},
   "source": [
    "Finally, you need to create and apply the TF-IDF matcher as shown below:"
   ]
  },
  {
   "cell_type": "code",
   "execution_count": 19,
   "metadata": {},
   "outputs": [],
   "source": [
    "# create tf-idf object with the generated corpus\n",
    "tfidf = sm.TfIdf(corpus, dampen=True)"
   ]
  },
  {
   "cell_type": "code",
   "execution_count": 14,
   "metadata": {},
   "outputs": [
    {
     "name": "stderr",
     "output_type": "stream",
     "text": [
      "0%                          100%\n",
      "[                              ]\r",
      "[#                             ] | ETA[sec]: 15.574 \r",
      "[##                            ] | ETA[sec]: 14.979 \r",
      "[###                           ] | ETA[sec]: 14.457 \r",
      "[####                          ] | ETA[sec]: 14.274 \r",
      "[#####                         ] | ETA[sec]: 13.637 \r",
      "[######                        ] | ETA[sec]: 13.016 \r",
      "[#######                       ] | ETA[sec]: 12.488 \r",
      "[########                      ] | ETA[sec]: 11.978 \r",
      "[#########                     ] | ETA[sec]: 11.499 \r",
      "[##########                    ] | ETA[sec]: 10.947 \r",
      "[###########                   ] | ETA[sec]: 10.356 \r",
      "[############                  ] | ETA[sec]: 9.863 \r",
      "[#############                 ] | ETA[sec]: 9.320 \r",
      "[##############                ] | ETA[sec]: 8.751 \r",
      "[###############               ] | ETA[sec]: 8.191 \r",
      "[################              ] | ETA[sec]: 7.651 \r",
      "[#################             ] | ETA[sec]: 7.101 \r",
      "[##################            ] | ETA[sec]: 6.546 \r",
      "[###################           ] | ETA[sec]: 6.005 \r",
      "[####################          ] | ETA[sec]: 5.466 \r",
      "[#####################         ] | ETA[sec]: 4.943 \r",
      "[######################        ] | ETA[sec]: 4.389 \r",
      "[#######################       ] | ETA[sec]: 3.839 \r",
      "[########################      ] | ETA[sec]: 3.280 \r",
      "[#########################     ] | ETA[sec]: 2.724 \r",
      "[##########################    ] | ETA[sec]: 2.172 \r",
      "[###########################   ] | ETA[sec]: 1.623 \r",
      "[############################  ] | ETA[sec]: 1.078 \r",
      "[############################# ] | ETA[sec]: 0.538 \r",
      "[##############################] | ETA[sec]: 0.001 \r",
      "[##############################] | ETA[sec]: 0.000 \n",
      "Total time elapsed: 16.146 sec\n"
     ]
    }
   ],
   "source": [
    "# apply the matcher with a threshold of 0.5. This will find pairs from C \n",
    "# with TF-IDF score >= 0.5. Setting n_jobs=-1 exploits all CPU cores available.\n",
    "\n",
    "output_pairs = ssj.apply_matcher(C, 'l_ID', 'r_ID', A, B, 'ID', 'ID', 'Title', 'Title',\n",
    "                                 ws, tfidf.get_sim_score, 0.5, \n",
    "                                 l_out_attrs=['Title'], r_out_attrs=['Title'], n_jobs=-1)"
   ]
  },
  {
   "cell_type": "code",
   "execution_count": 15,
   "metadata": {},
   "outputs": [
    {
     "data": {
      "text/plain": [
       "1222"
      ]
     },
     "execution_count": 15,
     "metadata": {},
     "output_type": "execute_result"
    }
   ],
   "source": [
    "len(output_pairs)"
   ]
  },
  {
   "cell_type": "code",
   "execution_count": 16,
   "metadata": {},
   "outputs": [
    {
     "data": {
      "text/html": [
       "<div>\n",
       "<table border=\"1\" class=\"dataframe\">\n",
       "  <thead>\n",
       "    <tr style=\"text-align: right;\">\n",
       "      <th></th>\n",
       "      <th>_id</th>\n",
       "      <th>l_ID</th>\n",
       "      <th>r_ID</th>\n",
       "      <th>l_Title</th>\n",
       "      <th>r_Title</th>\n",
       "      <th>_sim_score</th>\n",
       "    </tr>\n",
       "  </thead>\n",
       "  <tbody>\n",
       "    <tr>\n",
       "      <th>0</th>\n",
       "      <td>33</td>\n",
       "      <td>BN0070</td>\n",
       "      <td>HC0001</td>\n",
       "      <td>The Hunger Games (Hunger Games Series #1)</td>\n",
       "      <td>The Hunger Games(Hunger Games (Quality))</td>\n",
       "      <td>0.565250</td>\n",
       "    </tr>\n",
       "    <tr>\n",
       "      <th>1</th>\n",
       "      <td>1665</td>\n",
       "      <td>BN0019</td>\n",
       "      <td>HC0003</td>\n",
       "      <td>Looking for Alaska</td>\n",
       "      <td>Looking for Alaska</td>\n",
       "      <td>1.000000</td>\n",
       "    </tr>\n",
       "    <tr>\n",
       "      <th>2</th>\n",
       "      <td>1885</td>\n",
       "      <td>BN0043</td>\n",
       "      <td>HC0006</td>\n",
       "      <td>The Book Thief</td>\n",
       "      <td>The Book Thief</td>\n",
       "      <td>1.000000</td>\n",
       "    </tr>\n",
       "    <tr>\n",
       "      <th>3</th>\n",
       "      <td>2020</td>\n",
       "      <td>BN0319</td>\n",
       "      <td>HC0006</td>\n",
       "      <td>Thief of Always</td>\n",
       "      <td>The Book Thief</td>\n",
       "      <td>0.510586</td>\n",
       "    </tr>\n",
       "    <tr>\n",
       "      <th>4</th>\n",
       "      <td>2449</td>\n",
       "      <td>BN1295</td>\n",
       "      <td>HC0006</td>\n",
       "      <td>Midnight Thief (Midnight Thief Series #1)</td>\n",
       "      <td>The Book Thief</td>\n",
       "      <td>0.512195</td>\n",
       "    </tr>\n",
       "  </tbody>\n",
       "</table>\n",
       "</div>"
      ],
      "text/plain": [
       "    _id    l_ID    r_ID                                    l_Title  \\\n",
       "0    33  BN0070  HC0001  The Hunger Games (Hunger Games Series #1)   \n",
       "1  1665  BN0019  HC0003                         Looking for Alaska   \n",
       "2  1885  BN0043  HC0006                             The Book Thief   \n",
       "3  2020  BN0319  HC0006                            Thief of Always   \n",
       "4  2449  BN1295  HC0006  Midnight Thief (Midnight Thief Series #1)   \n",
       "\n",
       "                                    r_Title  _sim_score  \n",
       "0  The Hunger Games(Hunger Games (Quality))    0.565250  \n",
       "1                        Looking for Alaska    1.000000  \n",
       "2                            The Book Thief    1.000000  \n",
       "3                            The Book Thief    0.510586  \n",
       "4                            The Book Thief    0.512195  "
      ]
     },
     "execution_count": 16,
     "metadata": {},
     "output_type": "execute_result"
    }
   ],
   "source": [
    "output_pairs.head()"
   ]
  },
  {
   "cell_type": "markdown",
   "metadata": {
    "collapsed": true
   },
   "source": [
    "If you want to include pairs with missing value in the output, \n",
    "you need to set the **allow_missing** flag to True in the \n",
    "**apply_matcher** method."
   ]
  }
 ],
 "metadata": {
  "kernelspec": {
   "display_name": "Python 3",
   "language": "python",
   "name": "python3"
  },
  "language_info": {
   "codemirror_mode": {
    "name": "ipython",
    "version": 3
   },
   "file_extension": ".py",
   "mimetype": "text/x-python",
   "name": "python",
   "nbconvert_exporter": "python",
   "pygments_lexer": "ipython3",
   "version": "3.8.3"
  }
 },
 "nbformat": 4,
 "nbformat_minor": 1
}
