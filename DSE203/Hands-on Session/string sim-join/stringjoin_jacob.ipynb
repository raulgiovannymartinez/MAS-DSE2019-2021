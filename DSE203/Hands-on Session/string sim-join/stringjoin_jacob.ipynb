{
 "cells": [
  {
   "cell_type": "markdown",
   "metadata": {},
   "source": [
    "This quickstart guide explains how to join two tables A and B using Jaccard similarity measure. First, you need to import the required packages as follows (if you have installed **py_stringsimjoin** it will automatically install the dependencies **py_stringmatching** and **pandas**):"
   ]
  },
  {
   "cell_type": "code",
   "execution_count": 1,
   "metadata": {},
   "outputs": [],
   "source": [
    "# Import libraries\n",
    "import py_stringsimjoin as ssj\n",
    "import py_stringmatching as sm\n",
    "import pandas as pd\n",
    "import os, sys"
   ]
  },
  {
   "cell_type": "code",
   "execution_count": 2,
   "metadata": {},
   "outputs": [
    {
     "name": "stdout",
     "output_type": "stream",
     "text": [
      "python version: 3.7.4 (v3.7.4:e09359112e, Jul  8 2019, 14:54:52) \n",
      "[Clang 6.0 (clang-600.0.57)]\n",
      "py_stringsimjoin version: 0.3.1\n",
      "py_stringmatching version: 0.4.1\n",
      "pandas version: 0.25.3\n"
     ]
    }
   ],
   "source": [
    "print('python version: ' + sys.version)\n",
    "print('py_stringsimjoin version: ' + ssj.__version__)\n",
    "print('py_stringmatching version: ' + sm.__version__)\n",
    "print('pandas version: ' + pd.__version__)"
   ]
  },
  {
   "cell_type": "markdown",
   "metadata": {},
   "source": [
    "Joining two tables using Jaccard measure typically consists of four steps:\n",
    "1. Loading the input tables\n",
    "2. Profiling the tables\n",
    "3. Creating a tokenizer\n",
    "4. Performing the join"
   ]
  },
  {
   "cell_type": "markdown",
   "metadata": {},
   "source": [
    "# 1. Loading the input tables"
   ]
  },
  {
   "cell_type": "markdown",
   "metadata": {},
   "source": [
    "We begin by loading the two tables. For the purpose of this guide, \n",
    "we use the sample dataset that comes with the package. "
   ]
  },
  {
   "cell_type": "code",
   "execution_count": 3,
   "metadata": {},
   "outputs": [],
   "source": [
    "# construct the path of the tables to be loaded. Since we are loading a \n",
    "# dataset from the package, we need to access the data from the path \n",
    "# where the package is installed. If you need to load your own data, you can directly\n",
    "# provide your table path to the read_csv command.\n",
    "\n",
    "table_A_path = os.sep.join([ssj.get_install_path(), 'datasets', 'data', 'person_table_A.csv'])\n",
    "table_B_path = os.sep.join([ssj.get_install_path(), 'datasets', 'data', 'person_table_B.csv'])"
   ]
  },
  {
   "cell_type": "code",
   "execution_count": 4,
   "metadata": {},
   "outputs": [
    {
     "name": "stdout",
     "output_type": "stream",
     "text": [
      "Number of records in A: 7\n",
      "Number of records in B: 8\n"
     ]
    }
   ],
   "source": [
    "# Load csv files as dataframes.\n",
    "A = pd.read_csv(table_A_path)\n",
    "B = pd.read_csv(table_B_path)\n",
    "print('Number of records in A: ' + str(len(A)))\n",
    "print('Number of records in B: ' + str(len(B)))"
   ]
  },
  {
   "cell_type": "code",
   "execution_count": 5,
   "metadata": {},
   "outputs": [
    {
     "data": {
      "text/html": [
       "<div>\n",
       "<style scoped>\n",
       "    .dataframe tbody tr th:only-of-type {\n",
       "        vertical-align: middle;\n",
       "    }\n",
       "\n",
       "    .dataframe tbody tr th {\n",
       "        vertical-align: top;\n",
       "    }\n",
       "\n",
       "    .dataframe thead th {\n",
       "        text-align: right;\n",
       "    }\n",
       "</style>\n",
       "<table border=\"1\" class=\"dataframe\">\n",
       "  <thead>\n",
       "    <tr style=\"text-align: right;\">\n",
       "      <th></th>\n",
       "      <th>A.id</th>\n",
       "      <th>A.name</th>\n",
       "      <th>A.birth_year</th>\n",
       "      <th>A.hourly_wage</th>\n",
       "      <th>A.address</th>\n",
       "      <th>A.zipcode</th>\n",
       "    </tr>\n",
       "  </thead>\n",
       "  <tbody>\n",
       "    <tr>\n",
       "      <th>0</th>\n",
       "      <td>a1</td>\n",
       "      <td>Kevin Smith</td>\n",
       "      <td>1989</td>\n",
       "      <td>30.0</td>\n",
       "      <td>607 From St, San Francisco</td>\n",
       "      <td>94107.0</td>\n",
       "    </tr>\n",
       "    <tr>\n",
       "      <th>1</th>\n",
       "      <td>a2</td>\n",
       "      <td>Michael Franklin</td>\n",
       "      <td>1988</td>\n",
       "      <td>27.5</td>\n",
       "      <td>1652 Stockton St, San Francisco</td>\n",
       "      <td>94122.0</td>\n",
       "    </tr>\n",
       "    <tr>\n",
       "      <th>2</th>\n",
       "      <td>a3</td>\n",
       "      <td>William Bridge</td>\n",
       "      <td>1986</td>\n",
       "      <td>32.0</td>\n",
       "      <td>3131 Webster St, San Francisco</td>\n",
       "      <td>94107.0</td>\n",
       "    </tr>\n",
       "    <tr>\n",
       "      <th>3</th>\n",
       "      <td>a4</td>\n",
       "      <td>Binto George</td>\n",
       "      <td>1987</td>\n",
       "      <td>32.5</td>\n",
       "      <td>423 Powell St, San Francisco</td>\n",
       "      <td>94122.0</td>\n",
       "    </tr>\n",
       "    <tr>\n",
       "      <th>4</th>\n",
       "      <td>a5</td>\n",
       "      <td>Alphonse Kemper</td>\n",
       "      <td>1984</td>\n",
       "      <td>35.0</td>\n",
       "      <td>1702 Post Street, San Francisco</td>\n",
       "      <td>94122.0</td>\n",
       "    </tr>\n",
       "    <tr>\n",
       "      <th>5</th>\n",
       "      <td>a6</td>\n",
       "      <td></td>\n",
       "      <td>1990</td>\n",
       "      <td>40.0</td>\n",
       "      <td>24th Street, San Francisco</td>\n",
       "      <td>94122.0</td>\n",
       "    </tr>\n",
       "    <tr>\n",
       "      <th>6</th>\n",
       "      <td>a7</td>\n",
       "      <td>NaN</td>\n",
       "      <td>1986</td>\n",
       "      <td>25.0</td>\n",
       "      <td>20th Street, San Francisco</td>\n",
       "      <td>NaN</td>\n",
       "    </tr>\n",
       "  </tbody>\n",
       "</table>\n",
       "</div>"
      ],
      "text/plain": [
       "  A.id            A.name  A.birth_year  A.hourly_wage  \\\n",
       "0   a1       Kevin Smith          1989           30.0   \n",
       "1   a2  Michael Franklin          1988           27.5   \n",
       "2   a3    William Bridge          1986           32.0   \n",
       "3   a4      Binto George          1987           32.5   \n",
       "4   a5   Alphonse Kemper          1984           35.0   \n",
       "5   a6                            1990           40.0   \n",
       "6   a7               NaN          1986           25.0   \n",
       "\n",
       "                         A.address  A.zipcode  \n",
       "0       607 From St, San Francisco    94107.0  \n",
       "1  1652 Stockton St, San Francisco    94122.0  \n",
       "2   3131 Webster St, San Francisco    94107.0  \n",
       "3     423 Powell St, San Francisco    94122.0  \n",
       "4  1702 Post Street, San Francisco    94122.0  \n",
       "5       24th Street, San Francisco    94122.0  \n",
       "6       20th Street, San Francisco        NaN  "
      ]
     },
     "execution_count": 5,
     "metadata": {},
     "output_type": "execute_result"
    }
   ],
   "source": [
    "A"
   ]
  },
  {
   "cell_type": "code",
   "execution_count": 6,
   "metadata": {},
   "outputs": [
    {
     "data": {
      "text/html": [
       "<div>\n",
       "<style scoped>\n",
       "    .dataframe tbody tr th:only-of-type {\n",
       "        vertical-align: middle;\n",
       "    }\n",
       "\n",
       "    .dataframe tbody tr th {\n",
       "        vertical-align: top;\n",
       "    }\n",
       "\n",
       "    .dataframe thead th {\n",
       "        text-align: right;\n",
       "    }\n",
       "</style>\n",
       "<table border=\"1\" class=\"dataframe\">\n",
       "  <thead>\n",
       "    <tr style=\"text-align: right;\">\n",
       "      <th></th>\n",
       "      <th>B.id</th>\n",
       "      <th>B.name</th>\n",
       "      <th>B.birth_year</th>\n",
       "      <th>B.hourly_wage</th>\n",
       "      <th>B.address</th>\n",
       "      <th>B.zipcode</th>\n",
       "    </tr>\n",
       "  </thead>\n",
       "  <tbody>\n",
       "    <tr>\n",
       "      <th>0</th>\n",
       "      <td>b1</td>\n",
       "      <td>Mark Levene</td>\n",
       "      <td>1987</td>\n",
       "      <td>29.5</td>\n",
       "      <td>108 Clement St, San Francisco</td>\n",
       "      <td>94107.0</td>\n",
       "    </tr>\n",
       "    <tr>\n",
       "      <th>1</th>\n",
       "      <td>b2</td>\n",
       "      <td>Bill Bridge</td>\n",
       "      <td>1986</td>\n",
       "      <td>32.0</td>\n",
       "      <td>3131 Webster St, San Francisco</td>\n",
       "      <td>94107.0</td>\n",
       "    </tr>\n",
       "    <tr>\n",
       "      <th>2</th>\n",
       "      <td>b3</td>\n",
       "      <td>Mike Franklin</td>\n",
       "      <td>1988</td>\n",
       "      <td>27.5</td>\n",
       "      <td>1652 Stockton St, San Francisco</td>\n",
       "      <td>94122.0</td>\n",
       "    </tr>\n",
       "    <tr>\n",
       "      <th>3</th>\n",
       "      <td>b4</td>\n",
       "      <td>Joseph Kuan</td>\n",
       "      <td>1982</td>\n",
       "      <td>26.0</td>\n",
       "      <td>108 South Park, San Francisco</td>\n",
       "      <td>94122.0</td>\n",
       "    </tr>\n",
       "    <tr>\n",
       "      <th>4</th>\n",
       "      <td>b5</td>\n",
       "      <td>Alfons Kemper</td>\n",
       "      <td>1984</td>\n",
       "      <td>35.0</td>\n",
       "      <td>170 Post St, Apt 4,  San Francisco</td>\n",
       "      <td>94122.0</td>\n",
       "    </tr>\n",
       "    <tr>\n",
       "      <th>5</th>\n",
       "      <td>b6</td>\n",
       "      <td>Michael Brodie</td>\n",
       "      <td>1987</td>\n",
       "      <td>32.5</td>\n",
       "      <td>133 Clement Street, San Francisco</td>\n",
       "      <td>94107.0</td>\n",
       "    </tr>\n",
       "    <tr>\n",
       "      <th>6</th>\n",
       "      <td>b7</td>\n",
       "      <td></td>\n",
       "      <td>1990</td>\n",
       "      <td>40.0</td>\n",
       "      <td>24th Street, San Francisco</td>\n",
       "      <td>94122.0</td>\n",
       "    </tr>\n",
       "    <tr>\n",
       "      <th>7</th>\n",
       "      <td>b8</td>\n",
       "      <td>NaN</td>\n",
       "      <td>1986</td>\n",
       "      <td>25.0</td>\n",
       "      <td>20th Street, San Francisco</td>\n",
       "      <td>NaN</td>\n",
       "    </tr>\n",
       "  </tbody>\n",
       "</table>\n",
       "</div>"
      ],
      "text/plain": [
       "  B.id          B.name  B.birth_year  B.hourly_wage  \\\n",
       "0   b1     Mark Levene          1987           29.5   \n",
       "1   b2     Bill Bridge          1986           32.0   \n",
       "2   b3   Mike Franklin          1988           27.5   \n",
       "3   b4     Joseph Kuan          1982           26.0   \n",
       "4   b5   Alfons Kemper          1984           35.0   \n",
       "5   b6  Michael Brodie          1987           32.5   \n",
       "6   b7                          1990           40.0   \n",
       "7   b8             NaN          1986           25.0   \n",
       "\n",
       "                            B.address  B.zipcode  \n",
       "0       108 Clement St, San Francisco    94107.0  \n",
       "1      3131 Webster St, San Francisco    94107.0  \n",
       "2     1652 Stockton St, San Francisco    94122.0  \n",
       "3       108 South Park, San Francisco    94122.0  \n",
       "4  170 Post St, Apt 4,  San Francisco    94122.0  \n",
       "5   133 Clement Street, San Francisco    94107.0  \n",
       "6          24th Street, San Francisco    94122.0  \n",
       "7          20th Street, San Francisco        NaN  "
      ]
     },
     "execution_count": 6,
     "metadata": {},
     "output_type": "execute_result"
    }
   ],
   "source": [
    "B"
   ]
  },
  {
   "cell_type": "markdown",
   "metadata": {},
   "source": [
    "# 2. Profiling the tables"
   ]
  },
  {
   "cell_type": "markdown",
   "metadata": {},
   "source": [
    "Before performing the join, we may want to profile the tables to \n",
    "know about the characteristics of the attributes. This can help identify:\n",
    "\n",
    "a) unique attributes in the table which can be used as key attribute when performing \n",
    "   the join. A key attribute is needed to uniquely identify a tuple. \n",
    "   \n",
    "b) the number of missing values present in each attribute. This can \n",
    "   help you in deciding the attribute on which to perform the join. \n",
    "   For example, an attribute with a lot of missing values may not be a good \n",
    "   join attribute. Further, based on the missing value information you \n",
    "   need to decide on how to handle missing values when performing the join \n",
    "   (See the section below on 'Handling missing values' to know more about\n",
    "   the options available for handling missing values when performing the join).\n",
    "   \n",
    "You can profile the attributes in a table using the following command:"
   ]
  },
  {
   "cell_type": "code",
   "execution_count": 7,
   "metadata": {},
   "outputs": [
    {
     "data": {
      "text/html": [
       "<div>\n",
       "<style scoped>\n",
       "    .dataframe tbody tr th:only-of-type {\n",
       "        vertical-align: middle;\n",
       "    }\n",
       "\n",
       "    .dataframe tbody tr th {\n",
       "        vertical-align: top;\n",
       "    }\n",
       "\n",
       "    .dataframe thead th {\n",
       "        text-align: right;\n",
       "    }\n",
       "</style>\n",
       "<table border=\"1\" class=\"dataframe\">\n",
       "  <thead>\n",
       "    <tr style=\"text-align: right;\">\n",
       "      <th></th>\n",
       "      <th>Unique values</th>\n",
       "      <th>Missing values</th>\n",
       "      <th>Comments</th>\n",
       "    </tr>\n",
       "    <tr>\n",
       "      <th>Attribute</th>\n",
       "      <th></th>\n",
       "      <th></th>\n",
       "      <th></th>\n",
       "    </tr>\n",
       "  </thead>\n",
       "  <tbody>\n",
       "    <tr>\n",
       "      <th>A.id</th>\n",
       "      <td>7 (100.0%)</td>\n",
       "      <td>0 (0.0%)</td>\n",
       "      <td>This attribute can be used as a key attribute.</td>\n",
       "    </tr>\n",
       "    <tr>\n",
       "      <th>A.name</th>\n",
       "      <td>7 (100.0%)</td>\n",
       "      <td>1 (14.29%)</td>\n",
       "      <td>Joining on this attribute will ignore 1 (14.29%) rows.</td>\n",
       "    </tr>\n",
       "    <tr>\n",
       "      <th>A.birth_year</th>\n",
       "      <td>6 (85.71%)</td>\n",
       "      <td>0 (0.0%)</td>\n",
       "      <td></td>\n",
       "    </tr>\n",
       "    <tr>\n",
       "      <th>A.hourly_wage</th>\n",
       "      <td>7 (100.0%)</td>\n",
       "      <td>0 (0.0%)</td>\n",
       "      <td>This attribute can be used as a key attribute.</td>\n",
       "    </tr>\n",
       "    <tr>\n",
       "      <th>A.address</th>\n",
       "      <td>7 (100.0%)</td>\n",
       "      <td>0 (0.0%)</td>\n",
       "      <td>This attribute can be used as a key attribute.</td>\n",
       "    </tr>\n",
       "    <tr>\n",
       "      <th>A.zipcode</th>\n",
       "      <td>3 (42.86%)</td>\n",
       "      <td>1 (14.29%)</td>\n",
       "      <td>Joining on this attribute will ignore 1 (14.29%) rows.</td>\n",
       "    </tr>\n",
       "  </tbody>\n",
       "</table>\n",
       "</div>"
      ],
      "text/plain": [
       "              Unique values Missing values  \\\n",
       "Attribute                                    \n",
       "A.id             7 (100.0%)       0 (0.0%)   \n",
       "A.name           7 (100.0%)     1 (14.29%)   \n",
       "A.birth_year     6 (85.71%)       0 (0.0%)   \n",
       "A.hourly_wage    7 (100.0%)       0 (0.0%)   \n",
       "A.address        7 (100.0%)       0 (0.0%)   \n",
       "A.zipcode        3 (42.86%)     1 (14.29%)   \n",
       "\n",
       "                                                             Comments  \n",
       "Attribute                                                              \n",
       "A.id                   This attribute can be used as a key attribute.  \n",
       "A.name         Joining on this attribute will ignore 1 (14.29%) rows.  \n",
       "A.birth_year                                                           \n",
       "A.hourly_wage          This attribute can be used as a key attribute.  \n",
       "A.address              This attribute can be used as a key attribute.  \n",
       "A.zipcode      Joining on this attribute will ignore 1 (14.29%) rows.  "
      ]
     },
     "execution_count": 7,
     "metadata": {},
     "output_type": "execute_result"
    }
   ],
   "source": [
    "# profile attributes in table A\n",
    "ssj.profile_table_for_join(A)"
   ]
  },
  {
   "cell_type": "code",
   "execution_count": 8,
   "metadata": {},
   "outputs": [
    {
     "data": {
      "text/html": [
       "<div>\n",
       "<style scoped>\n",
       "    .dataframe tbody tr th:only-of-type {\n",
       "        vertical-align: middle;\n",
       "    }\n",
       "\n",
       "    .dataframe tbody tr th {\n",
       "        vertical-align: top;\n",
       "    }\n",
       "\n",
       "    .dataframe thead th {\n",
       "        text-align: right;\n",
       "    }\n",
       "</style>\n",
       "<table border=\"1\" class=\"dataframe\">\n",
       "  <thead>\n",
       "    <tr style=\"text-align: right;\">\n",
       "      <th></th>\n",
       "      <th>Unique values</th>\n",
       "      <th>Missing values</th>\n",
       "      <th>Comments</th>\n",
       "    </tr>\n",
       "    <tr>\n",
       "      <th>Attribute</th>\n",
       "      <th></th>\n",
       "      <th></th>\n",
       "      <th></th>\n",
       "    </tr>\n",
       "  </thead>\n",
       "  <tbody>\n",
       "    <tr>\n",
       "      <th>B.id</th>\n",
       "      <td>8 (100.0%)</td>\n",
       "      <td>0 (0.0%)</td>\n",
       "      <td>This attribute can be used as a key attribute.</td>\n",
       "    </tr>\n",
       "    <tr>\n",
       "      <th>B.name</th>\n",
       "      <td>8 (100.0%)</td>\n",
       "      <td>1 (12.5%)</td>\n",
       "      <td>Joining on this attribute will ignore 1 (12.5%) rows.</td>\n",
       "    </tr>\n",
       "    <tr>\n",
       "      <th>B.birth_year</th>\n",
       "      <td>6 (75.0%)</td>\n",
       "      <td>0 (0.0%)</td>\n",
       "      <td></td>\n",
       "    </tr>\n",
       "    <tr>\n",
       "      <th>B.hourly_wage</th>\n",
       "      <td>8 (100.0%)</td>\n",
       "      <td>0 (0.0%)</td>\n",
       "      <td>This attribute can be used as a key attribute.</td>\n",
       "    </tr>\n",
       "    <tr>\n",
       "      <th>B.address</th>\n",
       "      <td>8 (100.0%)</td>\n",
       "      <td>0 (0.0%)</td>\n",
       "      <td>This attribute can be used as a key attribute.</td>\n",
       "    </tr>\n",
       "    <tr>\n",
       "      <th>B.zipcode</th>\n",
       "      <td>3 (37.5%)</td>\n",
       "      <td>1 (12.5%)</td>\n",
       "      <td>Joining on this attribute will ignore 1 (12.5%) rows.</td>\n",
       "    </tr>\n",
       "  </tbody>\n",
       "</table>\n",
       "</div>"
      ],
      "text/plain": [
       "              Unique values Missing values  \\\n",
       "Attribute                                    \n",
       "B.id             8 (100.0%)       0 (0.0%)   \n",
       "B.name           8 (100.0%)      1 (12.5%)   \n",
       "B.birth_year      6 (75.0%)       0 (0.0%)   \n",
       "B.hourly_wage    8 (100.0%)       0 (0.0%)   \n",
       "B.address        8 (100.0%)       0 (0.0%)   \n",
       "B.zipcode         3 (37.5%)      1 (12.5%)   \n",
       "\n",
       "                                                            Comments  \n",
       "Attribute                                                             \n",
       "B.id                  This attribute can be used as a key attribute.  \n",
       "B.name         Joining on this attribute will ignore 1 (12.5%) rows.  \n",
       "B.birth_year                                                          \n",
       "B.hourly_wage         This attribute can be used as a key attribute.  \n",
       "B.address             This attribute can be used as a key attribute.  \n",
       "B.zipcode      Joining on this attribute will ignore 1 (12.5%) rows.  "
      ]
     },
     "execution_count": 8,
     "metadata": {},
     "output_type": "execute_result"
    }
   ],
   "source": [
    "# profile attributes in table B\n",
    "ssj.profile_table_for_join(B)"
   ]
  },
  {
   "cell_type": "markdown",
   "metadata": {},
   "source": [
    "If the input tables does not contain any key attribute, then you need \n",
    "to create a key attribute. In the current example, both the input tables\n",
    "A and B have key attributes, and hence you can proceed to the next step.\n",
    "In the case the table does not have any key attribute, you can \n",
    "add a key attribute using the following command:"
   ]
  },
  {
   "cell_type": "code",
   "execution_count": 9,
   "metadata": {},
   "outputs": [
    {
     "data": {
      "text/html": [
       "<div>\n",
       "<style scoped>\n",
       "    .dataframe tbody tr th:only-of-type {\n",
       "        vertical-align: middle;\n",
       "    }\n",
       "\n",
       "    .dataframe tbody tr th {\n",
       "        vertical-align: top;\n",
       "    }\n",
       "\n",
       "    .dataframe thead th {\n",
       "        text-align: right;\n",
       "    }\n",
       "</style>\n",
       "<table border=\"1\" class=\"dataframe\">\n",
       "  <thead>\n",
       "    <tr style=\"text-align: right;\">\n",
       "      <th></th>\n",
       "      <th>B.id</th>\n",
       "      <th>B.name</th>\n",
       "      <th>B.birth_year</th>\n",
       "      <th>B.hourly_wage</th>\n",
       "      <th>B.address</th>\n",
       "      <th>B.zipcode</th>\n",
       "      <th>new_key_attr</th>\n",
       "    </tr>\n",
       "  </thead>\n",
       "  <tbody>\n",
       "    <tr>\n",
       "      <th>0</th>\n",
       "      <td>b1</td>\n",
       "      <td>Mark Levene</td>\n",
       "      <td>1987</td>\n",
       "      <td>29.5</td>\n",
       "      <td>108 Clement St, San Francisco</td>\n",
       "      <td>94107.0</td>\n",
       "      <td>0</td>\n",
       "    </tr>\n",
       "    <tr>\n",
       "      <th>1</th>\n",
       "      <td>b2</td>\n",
       "      <td>Bill Bridge</td>\n",
       "      <td>1986</td>\n",
       "      <td>32.0</td>\n",
       "      <td>3131 Webster St, San Francisco</td>\n",
       "      <td>94107.0</td>\n",
       "      <td>1</td>\n",
       "    </tr>\n",
       "    <tr>\n",
       "      <th>2</th>\n",
       "      <td>b3</td>\n",
       "      <td>Mike Franklin</td>\n",
       "      <td>1988</td>\n",
       "      <td>27.5</td>\n",
       "      <td>1652 Stockton St, San Francisco</td>\n",
       "      <td>94122.0</td>\n",
       "      <td>2</td>\n",
       "    </tr>\n",
       "    <tr>\n",
       "      <th>3</th>\n",
       "      <td>b4</td>\n",
       "      <td>Joseph Kuan</td>\n",
       "      <td>1982</td>\n",
       "      <td>26.0</td>\n",
       "      <td>108 South Park, San Francisco</td>\n",
       "      <td>94122.0</td>\n",
       "      <td>3</td>\n",
       "    </tr>\n",
       "    <tr>\n",
       "      <th>4</th>\n",
       "      <td>b5</td>\n",
       "      <td>Alfons Kemper</td>\n",
       "      <td>1984</td>\n",
       "      <td>35.0</td>\n",
       "      <td>170 Post St, Apt 4,  San Francisco</td>\n",
       "      <td>94122.0</td>\n",
       "      <td>4</td>\n",
       "    </tr>\n",
       "    <tr>\n",
       "      <th>5</th>\n",
       "      <td>b6</td>\n",
       "      <td>Michael Brodie</td>\n",
       "      <td>1987</td>\n",
       "      <td>32.5</td>\n",
       "      <td>133 Clement Street, San Francisco</td>\n",
       "      <td>94107.0</td>\n",
       "      <td>5</td>\n",
       "    </tr>\n",
       "    <tr>\n",
       "      <th>6</th>\n",
       "      <td>b7</td>\n",
       "      <td></td>\n",
       "      <td>1990</td>\n",
       "      <td>40.0</td>\n",
       "      <td>24th Street, San Francisco</td>\n",
       "      <td>94122.0</td>\n",
       "      <td>6</td>\n",
       "    </tr>\n",
       "    <tr>\n",
       "      <th>7</th>\n",
       "      <td>b8</td>\n",
       "      <td>NaN</td>\n",
       "      <td>1986</td>\n",
       "      <td>25.0</td>\n",
       "      <td>20th Street, San Francisco</td>\n",
       "      <td>NaN</td>\n",
       "      <td>7</td>\n",
       "    </tr>\n",
       "  </tbody>\n",
       "</table>\n",
       "</div>"
      ],
      "text/plain": [
       "  B.id          B.name  B.birth_year  B.hourly_wage  \\\n",
       "0   b1     Mark Levene          1987           29.5   \n",
       "1   b2     Bill Bridge          1986           32.0   \n",
       "2   b3   Mike Franklin          1988           27.5   \n",
       "3   b4     Joseph Kuan          1982           26.0   \n",
       "4   b5   Alfons Kemper          1984           35.0   \n",
       "5   b6  Michael Brodie          1987           32.5   \n",
       "6   b7                          1990           40.0   \n",
       "7   b8             NaN          1986           25.0   \n",
       "\n",
       "                            B.address  B.zipcode  new_key_attr  \n",
       "0       108 Clement St, San Francisco    94107.0             0  \n",
       "1      3131 Webster St, San Francisco    94107.0             1  \n",
       "2     1652 Stockton St, San Francisco    94122.0             2  \n",
       "3       108 South Park, San Francisco    94122.0             3  \n",
       "4  170 Post St, Apt 4,  San Francisco    94122.0             4  \n",
       "5   133 Clement Street, San Francisco    94107.0             5  \n",
       "6          24th Street, San Francisco    94122.0             6  \n",
       "7          20th Street, San Francisco        NaN             7  "
      ]
     },
     "execution_count": 9,
     "metadata": {},
     "output_type": "execute_result"
    }
   ],
   "source": [
    "B['new_key_attr'] = range(0, len(B))\n",
    "B"
   ]
  },
  {
   "cell_type": "markdown",
   "metadata": {},
   "source": [
    "For the purpose of this guide, we will now join tables A and B on \n",
    "'name' attribute using Jaccard measure. Next, we need to decide on what \n",
    "threshold to use for the join. For this guide, we will use a threshold of 0.3. \n",
    "Specifically, the join will now find tuple pairs from A and B such that \n",
    "the Jaccard score over the 'name' attributes is at least 0.3."
   ]
  },
  {
   "cell_type": "markdown",
   "metadata": {},
   "source": [
    "# 3. Creating a tokenizer"
   ]
  },
  {
   "cell_type": "markdown",
   "metadata": {},
   "source": [
    "Since Jaccard measure treats input strings as sets of tokens, we \n",
    "need to select a tokenizer which can be used to tokenize each string \n",
    "into a set of tokens. Currently, we support tokenizers from **py_stringmatching**\n",
    "package which provides five different tokenizer types: alphabetical tokenizer, \n",
    "alphanumeric tokenizer, delimiter-based tokenizer, qgram tokenizer, \n",
    "and whitespace tokenizer.\n",
    "\n",
    "For the purpose of this guide, we will use a whitespace tokenizer. Once\n",
    "we have selected a tokenizer type, we need to create a tokenizer object as\n",
    "shown below:"
   ]
  },
  {
   "cell_type": "code",
   "execution_count": 10,
   "metadata": {},
   "outputs": [
    {
     "data": {
      "text/plain": [
       "['William', 'Bridge']"
      ]
     },
     "execution_count": 10,
     "metadata": {},
     "output_type": "execute_result"
    }
   ],
   "source": [
    "# create whitespace tokenizer for tokenizing 'name' attribute. The return_set flag should be set to True since\n",
    "# Jaccard is a set based measure.\n",
    "ws = sm.WhitespaceTokenizer(return_set=True)\n",
    "\n",
    "# a whitespace tokenizer will tokenize the input string using whitespace\n",
    "ws.tokenize('William Bridge')"
   ]
  },
  {
   "cell_type": "markdown",
   "metadata": {},
   "source": [
    "# 4. Performing the join"
   ]
  },
  {
   "cell_type": "markdown",
   "metadata": {},
   "source": [
    "The next step after creating a tokenizer is to perform the join. \n",
    "The Jaccard join can be performed using the following command:"
   ]
  },
  {
   "cell_type": "code",
   "execution_count": 14,
   "metadata": {},
   "outputs": [
    {
     "name": "stderr",
     "output_type": "stream",
     "text": [
      "0% [#####  ] 100% | ETA: 00:00:00"
     ]
    }
   ],
   "source": [
    "# find all pairs from A and B such that the Jaccard score\n",
    "# on 'name' is at least 0.3.\n",
    "# l_out_attrs and r_out_attrs denote the attributes from the \n",
    "# left table (A) and right table (B) that need to be included in the output.\n",
    "\n",
    "output_pairs = ssj.jaccard_join(A, B, 'A.id', 'B.id', 'A.name', 'B.name', ws, 0.3, \n",
    "                                l_out_attrs=['A.name'], r_out_attrs=['B.name'])"
   ]
  },
  {
   "cell_type": "code",
   "execution_count": 15,
   "metadata": {},
   "outputs": [
    {
     "data": {
      "text/plain": [
       "5"
      ]
     },
     "execution_count": 15,
     "metadata": {},
     "output_type": "execute_result"
    }
   ],
   "source": [
    "len(output_pairs)"
   ]
  },
  {
   "cell_type": "code",
   "execution_count": 16,
   "metadata": {},
   "outputs": [
    {
     "data": {
      "text/html": [
       "<div>\n",
       "<style scoped>\n",
       "    .dataframe tbody tr th:only-of-type {\n",
       "        vertical-align: middle;\n",
       "    }\n",
       "\n",
       "    .dataframe tbody tr th {\n",
       "        vertical-align: top;\n",
       "    }\n",
       "\n",
       "    .dataframe thead th {\n",
       "        text-align: right;\n",
       "    }\n",
       "</style>\n",
       "<table border=\"1\" class=\"dataframe\">\n",
       "  <thead>\n",
       "    <tr style=\"text-align: right;\">\n",
       "      <th></th>\n",
       "      <th>_id</th>\n",
       "      <th>l_A.id</th>\n",
       "      <th>r_B.id</th>\n",
       "      <th>l_A.name</th>\n",
       "      <th>r_B.name</th>\n",
       "      <th>_sim_score</th>\n",
       "    </tr>\n",
       "  </thead>\n",
       "  <tbody>\n",
       "    <tr>\n",
       "      <th>0</th>\n",
       "      <td>0</td>\n",
       "      <td>a3</td>\n",
       "      <td>b2</td>\n",
       "      <td>William Bridge</td>\n",
       "      <td>Bill Bridge</td>\n",
       "      <td>0.333333</td>\n",
       "    </tr>\n",
       "    <tr>\n",
       "      <th>1</th>\n",
       "      <td>1</td>\n",
       "      <td>a2</td>\n",
       "      <td>b3</td>\n",
       "      <td>Michael Franklin</td>\n",
       "      <td>Mike Franklin</td>\n",
       "      <td>0.333333</td>\n",
       "    </tr>\n",
       "    <tr>\n",
       "      <th>2</th>\n",
       "      <td>2</td>\n",
       "      <td>a5</td>\n",
       "      <td>b5</td>\n",
       "      <td>Alphonse Kemper</td>\n",
       "      <td>Alfons Kemper</td>\n",
       "      <td>0.333333</td>\n",
       "    </tr>\n",
       "    <tr>\n",
       "      <th>3</th>\n",
       "      <td>3</td>\n",
       "      <td>a2</td>\n",
       "      <td>b6</td>\n",
       "      <td>Michael Franklin</td>\n",
       "      <td>Michael Brodie</td>\n",
       "      <td>0.333333</td>\n",
       "    </tr>\n",
       "    <tr>\n",
       "      <th>4</th>\n",
       "      <td>4</td>\n",
       "      <td>a6</td>\n",
       "      <td>b7</td>\n",
       "      <td></td>\n",
       "      <td></td>\n",
       "      <td>1.000000</td>\n",
       "    </tr>\n",
       "  </tbody>\n",
       "</table>\n",
       "</div>"
      ],
      "text/plain": [
       "   _id l_A.id r_B.id          l_A.name        r_B.name  _sim_score\n",
       "0    0     a3     b2    William Bridge     Bill Bridge    0.333333\n",
       "1    1     a2     b3  Michael Franklin   Mike Franklin    0.333333\n",
       "2    2     a5     b5   Alphonse Kemper   Alfons Kemper    0.333333\n",
       "3    3     a2     b6  Michael Franklin  Michael Brodie    0.333333\n",
       "4    4     a6     b7                                      1.000000"
      ]
     },
     "execution_count": 16,
     "metadata": {},
     "output_type": "execute_result"
    }
   ],
   "source": [
    "# examine the output pairs\n",
    "output_pairs"
   ]
  },
  {
   "cell_type": "markdown",
   "metadata": {},
   "source": [
    "# Handling empty values"
   ]
  },
  {
   "cell_type": "markdown",
   "metadata": {},
   "source": [
    "By default, the pairs with empty sets of tokens are included \n",
    "in the output. This is because Jaccard of two empty sets is not\n",
    "well defined and we do not want to miss any possible matches. \n",
    "As you can see from the previous output, the tuple pair (a6, b7) \n",
    "is included in the output with a similarity score of 1. If you do \n",
    "not want to allow pairs containing empty sets of tokens in the \n",
    "output, then you need to set the **allow_empty** flag to False as \n",
    "shown below:"
   ]
  },
  {
   "cell_type": "code",
   "execution_count": 20,
   "metadata": {},
   "outputs": [
    {
     "name": "stderr",
     "output_type": "stream",
     "text": [
      "0% [#######] 100% | ETA: 00:00:00\n",
      "Total time elapsed: 00:00:00\n"
     ]
    }
   ],
   "source": [
    "output_pairs = ssj.jaccard_join(A, B, 'A.id', 'B.id', 'A.name', 'B.name', ws, 0.3, allow_empty=False,\n",
    "                                l_out_attrs=['A.name'], r_out_attrs=['B.name'])"
   ]
  },
  {
   "cell_type": "code",
   "execution_count": 21,
   "metadata": {},
   "outputs": [
    {
     "data": {
      "text/html": [
       "<div>\n",
       "<style scoped>\n",
       "    .dataframe tbody tr th:only-of-type {\n",
       "        vertical-align: middle;\n",
       "    }\n",
       "\n",
       "    .dataframe tbody tr th {\n",
       "        vertical-align: top;\n",
       "    }\n",
       "\n",
       "    .dataframe thead th {\n",
       "        text-align: right;\n",
       "    }\n",
       "</style>\n",
       "<table border=\"1\" class=\"dataframe\">\n",
       "  <thead>\n",
       "    <tr style=\"text-align: right;\">\n",
       "      <th></th>\n",
       "      <th>_id</th>\n",
       "      <th>l_A.id</th>\n",
       "      <th>r_B.id</th>\n",
       "      <th>l_A.name</th>\n",
       "      <th>r_B.name</th>\n",
       "      <th>_sim_score</th>\n",
       "    </tr>\n",
       "  </thead>\n",
       "  <tbody>\n",
       "    <tr>\n",
       "      <th>0</th>\n",
       "      <td>0</td>\n",
       "      <td>a3</td>\n",
       "      <td>b2</td>\n",
       "      <td>William Bridge</td>\n",
       "      <td>Bill Bridge</td>\n",
       "      <td>0.333333</td>\n",
       "    </tr>\n",
       "    <tr>\n",
       "      <th>1</th>\n",
       "      <td>1</td>\n",
       "      <td>a2</td>\n",
       "      <td>b3</td>\n",
       "      <td>Michael Franklin</td>\n",
       "      <td>Mike Franklin</td>\n",
       "      <td>0.333333</td>\n",
       "    </tr>\n",
       "    <tr>\n",
       "      <th>2</th>\n",
       "      <td>2</td>\n",
       "      <td>a5</td>\n",
       "      <td>b5</td>\n",
       "      <td>Alphonse Kemper</td>\n",
       "      <td>Alfons Kemper</td>\n",
       "      <td>0.333333</td>\n",
       "    </tr>\n",
       "    <tr>\n",
       "      <th>3</th>\n",
       "      <td>3</td>\n",
       "      <td>a2</td>\n",
       "      <td>b6</td>\n",
       "      <td>Michael Franklin</td>\n",
       "      <td>Michael Brodie</td>\n",
       "      <td>0.333333</td>\n",
       "    </tr>\n",
       "  </tbody>\n",
       "</table>\n",
       "</div>"
      ],
      "text/plain": [
       "   _id l_A.id r_B.id          l_A.name        r_B.name  _sim_score\n",
       "0    0     a3     b2    William Bridge     Bill Bridge    0.333333\n",
       "1    1     a2     b3  Michael Franklin   Mike Franklin    0.333333\n",
       "2    2     a5     b5   Alphonse Kemper   Alfons Kemper    0.333333\n",
       "3    3     a2     b6  Michael Franklin  Michael Brodie    0.333333"
      ]
     },
     "execution_count": 21,
     "metadata": {},
     "output_type": "execute_result"
    }
   ],
   "source": [
    "output_pairs"
   ]
  },
  {
   "cell_type": "markdown",
   "metadata": {},
   "source": [
    "As you can see, the tuple pair (a6, b7) is not present in the output."
   ]
  },
  {
   "cell_type": "markdown",
   "metadata": {},
   "source": [
    "# Handling missing values"
   ]
  },
  {
   "cell_type": "markdown",
   "metadata": {
    "collapsed": true
   },
   "source": [
    "By default, pairs with missing values are not included\n",
    "in the output. This is because a string with a missing value\n",
    "can potentially match with all strings in the other table and \n",
    "hence the number of output pairs can become huge. If you want \n",
    "to include pairs with missing value in the output, you need to \n",
    "set the **allow_missing** flag to True, as shown below:"
   ]
  },
  {
   "cell_type": "code",
   "execution_count": 22,
   "metadata": {},
   "outputs": [
    {
     "name": "stderr",
     "output_type": "stream",
     "text": [
      "0% [#####  ] 100% | ETA: 00:00:00"
     ]
    },
    {
     "name": "stdout",
     "output_type": "stream",
     "text": [
      "Finding pairs with missing value...\n"
     ]
    },
    {
     "name": "stderr",
     "output_type": "stream",
     "text": [
      "0% [##] 100% | ETA: 00:00:00\n",
      "Total time elapsed: 00:00:00\n"
     ]
    }
   ],
   "source": [
    "output_pairs = ssj.jaccard_join(A, B, 'A.id', 'B.id', 'A.name', 'B.name', ws, 0.3, allow_missing=True,\n",
    "                                l_out_attrs=['A.name'], r_out_attrs=['B.name'])"
   ]
  },
  {
   "cell_type": "code",
   "execution_count": 23,
   "metadata": {},
   "outputs": [
    {
     "data": {
      "text/html": [
       "<div>\n",
       "<style scoped>\n",
       "    .dataframe tbody tr th:only-of-type {\n",
       "        vertical-align: middle;\n",
       "    }\n",
       "\n",
       "    .dataframe tbody tr th {\n",
       "        vertical-align: top;\n",
       "    }\n",
       "\n",
       "    .dataframe thead th {\n",
       "        text-align: right;\n",
       "    }\n",
       "</style>\n",
       "<table border=\"1\" class=\"dataframe\">\n",
       "  <thead>\n",
       "    <tr style=\"text-align: right;\">\n",
       "      <th></th>\n",
       "      <th>_id</th>\n",
       "      <th>l_A.id</th>\n",
       "      <th>r_B.id</th>\n",
       "      <th>l_A.name</th>\n",
       "      <th>r_B.name</th>\n",
       "      <th>_sim_score</th>\n",
       "    </tr>\n",
       "  </thead>\n",
       "  <tbody>\n",
       "    <tr>\n",
       "      <th>0</th>\n",
       "      <td>0</td>\n",
       "      <td>a3</td>\n",
       "      <td>b2</td>\n",
       "      <td>William Bridge</td>\n",
       "      <td>Bill Bridge</td>\n",
       "      <td>0.333333</td>\n",
       "    </tr>\n",
       "    <tr>\n",
       "      <th>1</th>\n",
       "      <td>1</td>\n",
       "      <td>a2</td>\n",
       "      <td>b3</td>\n",
       "      <td>Michael Franklin</td>\n",
       "      <td>Mike Franklin</td>\n",
       "      <td>0.333333</td>\n",
       "    </tr>\n",
       "    <tr>\n",
       "      <th>2</th>\n",
       "      <td>2</td>\n",
       "      <td>a5</td>\n",
       "      <td>b5</td>\n",
       "      <td>Alphonse Kemper</td>\n",
       "      <td>Alfons Kemper</td>\n",
       "      <td>0.333333</td>\n",
       "    </tr>\n",
       "    <tr>\n",
       "      <th>3</th>\n",
       "      <td>3</td>\n",
       "      <td>a2</td>\n",
       "      <td>b6</td>\n",
       "      <td>Michael Franklin</td>\n",
       "      <td>Michael Brodie</td>\n",
       "      <td>0.333333</td>\n",
       "    </tr>\n",
       "    <tr>\n",
       "      <th>4</th>\n",
       "      <td>4</td>\n",
       "      <td>a6</td>\n",
       "      <td>b7</td>\n",
       "      <td></td>\n",
       "      <td></td>\n",
       "      <td>1.000000</td>\n",
       "    </tr>\n",
       "    <tr>\n",
       "      <th>0</th>\n",
       "      <td>5</td>\n",
       "      <td>a7</td>\n",
       "      <td>b1</td>\n",
       "      <td>NaN</td>\n",
       "      <td>Mark Levene</td>\n",
       "      <td>NaN</td>\n",
       "    </tr>\n",
       "    <tr>\n",
       "      <th>1</th>\n",
       "      <td>6</td>\n",
       "      <td>a7</td>\n",
       "      <td>b2</td>\n",
       "      <td>NaN</td>\n",
       "      <td>Bill Bridge</td>\n",
       "      <td>NaN</td>\n",
       "    </tr>\n",
       "    <tr>\n",
       "      <th>2</th>\n",
       "      <td>7</td>\n",
       "      <td>a7</td>\n",
       "      <td>b3</td>\n",
       "      <td>NaN</td>\n",
       "      <td>Mike Franklin</td>\n",
       "      <td>NaN</td>\n",
       "    </tr>\n",
       "    <tr>\n",
       "      <th>3</th>\n",
       "      <td>8</td>\n",
       "      <td>a7</td>\n",
       "      <td>b4</td>\n",
       "      <td>NaN</td>\n",
       "      <td>Joseph Kuan</td>\n",
       "      <td>NaN</td>\n",
       "    </tr>\n",
       "    <tr>\n",
       "      <th>4</th>\n",
       "      <td>9</td>\n",
       "      <td>a7</td>\n",
       "      <td>b5</td>\n",
       "      <td>NaN</td>\n",
       "      <td>Alfons Kemper</td>\n",
       "      <td>NaN</td>\n",
       "    </tr>\n",
       "    <tr>\n",
       "      <th>5</th>\n",
       "      <td>10</td>\n",
       "      <td>a7</td>\n",
       "      <td>b6</td>\n",
       "      <td>NaN</td>\n",
       "      <td>Michael Brodie</td>\n",
       "      <td>NaN</td>\n",
       "    </tr>\n",
       "    <tr>\n",
       "      <th>6</th>\n",
       "      <td>11</td>\n",
       "      <td>a7</td>\n",
       "      <td>b7</td>\n",
       "      <td>NaN</td>\n",
       "      <td></td>\n",
       "      <td>NaN</td>\n",
       "    </tr>\n",
       "    <tr>\n",
       "      <th>7</th>\n",
       "      <td>12</td>\n",
       "      <td>a7</td>\n",
       "      <td>b8</td>\n",
       "      <td>NaN</td>\n",
       "      <td>NaN</td>\n",
       "      <td>NaN</td>\n",
       "    </tr>\n",
       "    <tr>\n",
       "      <th>8</th>\n",
       "      <td>13</td>\n",
       "      <td>a1</td>\n",
       "      <td>b8</td>\n",
       "      <td>Kevin Smith</td>\n",
       "      <td>NaN</td>\n",
       "      <td>NaN</td>\n",
       "    </tr>\n",
       "    <tr>\n",
       "      <th>9</th>\n",
       "      <td>14</td>\n",
       "      <td>a2</td>\n",
       "      <td>b8</td>\n",
       "      <td>Michael Franklin</td>\n",
       "      <td>NaN</td>\n",
       "      <td>NaN</td>\n",
       "    </tr>\n",
       "    <tr>\n",
       "      <th>10</th>\n",
       "      <td>15</td>\n",
       "      <td>a3</td>\n",
       "      <td>b8</td>\n",
       "      <td>William Bridge</td>\n",
       "      <td>NaN</td>\n",
       "      <td>NaN</td>\n",
       "    </tr>\n",
       "    <tr>\n",
       "      <th>11</th>\n",
       "      <td>16</td>\n",
       "      <td>a4</td>\n",
       "      <td>b8</td>\n",
       "      <td>Binto George</td>\n",
       "      <td>NaN</td>\n",
       "      <td>NaN</td>\n",
       "    </tr>\n",
       "    <tr>\n",
       "      <th>12</th>\n",
       "      <td>17</td>\n",
       "      <td>a5</td>\n",
       "      <td>b8</td>\n",
       "      <td>Alphonse Kemper</td>\n",
       "      <td>NaN</td>\n",
       "      <td>NaN</td>\n",
       "    </tr>\n",
       "    <tr>\n",
       "      <th>13</th>\n",
       "      <td>18</td>\n",
       "      <td>a6</td>\n",
       "      <td>b8</td>\n",
       "      <td></td>\n",
       "      <td>NaN</td>\n",
       "      <td>NaN</td>\n",
       "    </tr>\n",
       "  </tbody>\n",
       "</table>\n",
       "</div>"
      ],
      "text/plain": [
       "    _id l_A.id r_B.id          l_A.name        r_B.name  _sim_score\n",
       "0     0     a3     b2    William Bridge     Bill Bridge    0.333333\n",
       "1     1     a2     b3  Michael Franklin   Mike Franklin    0.333333\n",
       "2     2     a5     b5   Alphonse Kemper   Alfons Kemper    0.333333\n",
       "3     3     a2     b6  Michael Franklin  Michael Brodie    0.333333\n",
       "4     4     a6     b7                                      1.000000\n",
       "0     5     a7     b1               NaN     Mark Levene         NaN\n",
       "1     6     a7     b2               NaN     Bill Bridge         NaN\n",
       "2     7     a7     b3               NaN   Mike Franklin         NaN\n",
       "3     8     a7     b4               NaN     Joseph Kuan         NaN\n",
       "4     9     a7     b5               NaN   Alfons Kemper         NaN\n",
       "5    10     a7     b6               NaN  Michael Brodie         NaN\n",
       "6    11     a7     b7               NaN                         NaN\n",
       "7    12     a7     b8               NaN             NaN         NaN\n",
       "8    13     a1     b8       Kevin Smith             NaN         NaN\n",
       "9    14     a2     b8  Michael Franklin             NaN         NaN\n",
       "10   15     a3     b8    William Bridge             NaN         NaN\n",
       "11   16     a4     b8      Binto George             NaN         NaN\n",
       "12   17     a5     b8   Alphonse Kemper             NaN         NaN\n",
       "13   18     a6     b8                               NaN         NaN"
      ]
     },
     "execution_count": 23,
     "metadata": {},
     "output_type": "execute_result"
    }
   ],
   "source": [
    "output_pairs"
   ]
  },
  {
   "cell_type": "markdown",
   "metadata": {},
   "source": [
    "# Enabling parallel processing"
   ]
  },
  {
   "cell_type": "markdown",
   "metadata": {},
   "source": [
    "If you have multiple cores which you want to exploit for performing the \n",
    "join, you need to use the **n_jobs** option. If n_jobs is -1, all CPUs \n",
    "are used. If 1 is given, no parallel computing code is used at all, \n",
    "which is useful for debugging and is the default option. For n_jobs below \n",
    "-1, (n_cpus + 1 + n_jobs) are used (where n_cpus is the total number of \n",
    "CPUs in the machine). Thus for n_jobs = -2, all CPUs but one are used. If \n",
    "(n_cpus + 1 + n_jobs) becomes less than 1, then no parallel computing code \n",
    "will be used (i.e., equivalent to the default).\n",
    "\n",
    "The following command exploits all the cores available to perform the join:"
   ]
  },
  {
   "cell_type": "code",
   "execution_count": 20,
   "metadata": {},
   "outputs": [
    {
     "name": "stderr",
     "output_type": "stream",
     "text": [
      "0%  100%\n",
      "[  ]\r",
      "[# ] | ETA: 00:00:00"
     ]
    }
   ],
   "source": [
    "output_pairs = ssj.jaccard_join(A, B, 'A.id', 'B.id', 'A.name', 'B.name', ws, 0.3, \n",
    "                                l_out_attrs=['A.name'], r_out_attrs=['B.name'], n_jobs=-1)"
   ]
  },
  {
   "cell_type": "code",
   "execution_count": 21,
   "metadata": {},
   "outputs": [
    {
     "data": {
      "text/plain": [
       "5"
      ]
     },
     "execution_count": 21,
     "metadata": {},
     "output_type": "execute_result"
    }
   ],
   "source": [
    "len(output_pairs)"
   ]
  },
  {
   "cell_type": "markdown",
   "metadata": {},
   "source": [
    "You need to set n_jobs to 1 when you are debugging or you do not want \n",
    "to use any parallel computing code. If you want to execute the join as \n",
    "fast as possible, you need to set n_jobs to -1 which will exploit all \n",
    "the CPUs in your machine. In case there are other concurrent processes \n",
    "running in your machine and you do not want to halt them, then you may \n",
    "need to set n_jobs to a value below -1."
   ]
  },
  {
   "cell_type": "markdown",
   "metadata": {},
   "source": [
    "# Additional options"
   ]
  },
  {
   "cell_type": "markdown",
   "metadata": {},
   "source": [
    "You can find all the options available for the Jaccard join \n",
    "function using the **help** command as shown below:"
   ]
  },
  {
   "cell_type": "code",
   "execution_count": null,
   "metadata": {
    "collapsed": true
   },
   "outputs": [],
   "source": [
    "help(ssj.jaccard_join)"
   ]
  },
  {
   "cell_type": "markdown",
   "metadata": {},
   "source": [
    "# More information"
   ]
  },
  {
   "cell_type": "markdown",
   "metadata": {},
   "source": [
    "Similar to Jaccard measure, you can use the package to perform \n",
    "join using other measures such as cosine, Dice, edit distance, overlap and \n",
    "overlap coefficient. For measures such as TF-IDF which are not \n",
    "directly supported, you can perform the join using the filters provided \n",
    "in the package. To know more about other join methods as well as how to \n",
    "use filters, refer to the how-to guide (available from the \n",
    "[package homepage](https://sites.google.com/site/anhaidgroup/projects/py_stringsimjoin)). "
   ]
  }
 ],
 "metadata": {
  "kernelspec": {
   "display_name": "Python 3",
   "language": "python",
   "name": "python3"
  },
  "language_info": {
   "codemirror_mode": {
    "name": "ipython",
    "version": 3
   },
   "file_extension": ".py",
   "mimetype": "text/x-python",
   "name": "python",
   "nbconvert_exporter": "python",
   "pygments_lexer": "ipython3",
   "version": "3.7.4"
  }
 },
 "nbformat": 4,
 "nbformat_minor": 1
}
