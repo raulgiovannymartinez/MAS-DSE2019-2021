{
 "cells": [
  {
   "cell_type": "code",
   "execution_count": 1,
   "metadata": {},
   "outputs": [
    {
     "name": "stdout",
     "output_type": "stream",
     "text": [
      "Python 3.7.9\n"
     ]
    }
   ],
   "source": [
    "!python --version"
   ]
  },
  {
   "cell_type": "code",
   "execution_count": 2,
   "metadata": {},
   "outputs": [],
   "source": [
    "import py_entitymatching as em\n",
    "import pandas as pd\n",
    "import os, sys"
   ]
  },
  {
   "cell_type": "code",
   "execution_count": 3,
   "metadata": {},
   "outputs": [],
   "source": [
    "## Prepare the dataset"
   ]
  },
  {
   "cell_type": "code",
   "execution_count": 4,
   "metadata": {},
   "outputs": [
    {
     "name": "stdout",
     "output_type": "stream",
     "text": [
      "C:\\Users\\rmartinez4\\Box\\UCSD MAS DSE\\2019-rgm001\\DSE203\\Hands-on Session\\entity matching\n"
     ]
    }
   ],
   "source": [
    "print(os.getcwd())"
   ]
  },
  {
   "cell_type": "code",
   "execution_count": 5,
   "metadata": {},
   "outputs": [
    {
     "name": "stderr",
     "output_type": "stream",
     "text": [
      "Metadata file is not present in the given path; proceeding to read the csv file.\n",
      "Metadata file is not present in the given path; proceeding to read the csv file.\n"
     ]
    }
   ],
   "source": [
    "## Read dataset\n",
    "A = em.read_csv_metadata('../../Data for Assignments/citeseer.csv',low_memory=False) # setting the parameter low_memory to False  to speed up loading.\n",
    "B = em.read_csv_metadata('../../Data for Assignments/dblp.csv', low_memory=False)"
   ]
  },
  {
   "cell_type": "code",
   "execution_count": 6,
   "metadata": {},
   "outputs": [
    {
     "data": {
      "text/plain": [
       "(1823978, 2512927)"
      ]
     },
     "execution_count": 6,
     "metadata": {},
     "output_type": "execute_result"
    }
   ],
   "source": [
    "len(A), len(B)"
   ]
  },
  {
   "cell_type": "code",
   "execution_count": 7,
   "metadata": {},
   "outputs": [
    {
     "data": {
      "text/html": [
       "<div>\n",
       "<style scoped>\n",
       "    .dataframe tbody tr th:only-of-type {\n",
       "        vertical-align: middle;\n",
       "    }\n",
       "\n",
       "    .dataframe tbody tr th {\n",
       "        vertical-align: top;\n",
       "    }\n",
       "\n",
       "    .dataframe thead th {\n",
       "        text-align: right;\n",
       "    }\n",
       "</style>\n",
       "<table border=\"1\" class=\"dataframe\">\n",
       "  <thead>\n",
       "    <tr style=\"text-align: right;\">\n",
       "      <th></th>\n",
       "      <th>id</th>\n",
       "      <th>title</th>\n",
       "      <th>authors</th>\n",
       "      <th>journal</th>\n",
       "      <th>month</th>\n",
       "      <th>year</th>\n",
       "      <th>publication_type</th>\n",
       "    </tr>\n",
       "  </thead>\n",
       "  <tbody>\n",
       "    <tr>\n",
       "      <th>0</th>\n",
       "      <td>1</td>\n",
       "      <td>An Arithmetic Analogue of Bezouts Theorem</td>\n",
       "      <td>David Mckinnon</td>\n",
       "      <td>NaN</td>\n",
       "      <td>NaN</td>\n",
       "      <td>NaN</td>\n",
       "      <td>NaN</td>\n",
       "    </tr>\n",
       "    <tr>\n",
       "      <th>1</th>\n",
       "      <td>2</td>\n",
       "      <td>Thompsons Group F is Not Minimally Almost Convex</td>\n",
       "      <td>James Belk, Kai-uwe Bux</td>\n",
       "      <td>NaN</td>\n",
       "      <td>NaN</td>\n",
       "      <td>2002.0</td>\n",
       "      <td>NaN</td>\n",
       "    </tr>\n",
       "    <tr>\n",
       "      <th>2</th>\n",
       "      <td>3</td>\n",
       "      <td>Cognitive Dimensions Tradeoffs in Tangible User Interface Design</td>\n",
       "      <td>Darren Edge, Alan Blackwell</td>\n",
       "      <td>NaN</td>\n",
       "      <td>NaN</td>\n",
       "      <td>NaN</td>\n",
       "      <td>NaN</td>\n",
       "    </tr>\n",
       "    <tr>\n",
       "      <th>3</th>\n",
       "      <td>4</td>\n",
       "      <td>ACTIVITY NOUNS, UNACCUSATIVITY, AND ARGUMENT MARKING IN YUKATEKAN SSILA meeting; Special Session...</td>\n",
       "      <td>J. Bohnemeyer, Max Planck, I. Introduction</td>\n",
       "      <td>NaN</td>\n",
       "      <td>NaN</td>\n",
       "      <td>2002.0</td>\n",
       "      <td>NaN</td>\n",
       "    </tr>\n",
       "    <tr>\n",
       "      <th>4</th>\n",
       "      <td>5</td>\n",
       "      <td>PS1-6 A6 ULTRASOUND-GUIDED HIFU NEUROLYSIS OF PERIPHERAL NERVES TO TREAT SPASTICITY AND</td>\n",
       "      <td>J. L. Foley, J. W. Little, F. L. Starr Iii, C. Frantz</td>\n",
       "      <td>NaN</td>\n",
       "      <td>NaN</td>\n",
       "      <td>NaN</td>\n",
       "      <td>NaN</td>\n",
       "    </tr>\n",
       "  </tbody>\n",
       "</table>\n",
       "</div>"
      ],
      "text/plain": [
       "   id  \\\n",
       "0   1   \n",
       "1   2   \n",
       "2   3   \n",
       "3   4   \n",
       "4   5   \n",
       "\n",
       "                                                                                                 title  \\\n",
       "0                                                            An Arithmetic Analogue of Bezouts Theorem   \n",
       "1                                                     Thompsons Group F is Not Minimally Almost Convex   \n",
       "2                                     Cognitive Dimensions Tradeoffs in Tangible User Interface Design   \n",
       "3  ACTIVITY NOUNS, UNACCUSATIVITY, AND ARGUMENT MARKING IN YUKATEKAN SSILA meeting; Special Session...   \n",
       "4              PS1-6 A6 ULTRASOUND-GUIDED HIFU NEUROLYSIS OF PERIPHERAL NERVES TO TREAT SPASTICITY AND   \n",
       "\n",
       "                                                 authors journal  month  \\\n",
       "0                                         David Mckinnon     NaN    NaN   \n",
       "1                                James Belk, Kai-uwe Bux     NaN    NaN   \n",
       "2                            Darren Edge, Alan Blackwell     NaN    NaN   \n",
       "3             J. Bohnemeyer, Max Planck, I. Introduction     NaN    NaN   \n",
       "4  J. L. Foley, J. W. Little, F. L. Starr Iii, C. Frantz     NaN    NaN   \n",
       "\n",
       "     year publication_type  \n",
       "0     NaN              NaN  \n",
       "1  2002.0              NaN  \n",
       "2     NaN              NaN  \n",
       "3  2002.0              NaN  \n",
       "4     NaN              NaN  "
      ]
     },
     "execution_count": 7,
     "metadata": {},
     "output_type": "execute_result"
    }
   ],
   "source": [
    "A.head()"
   ]
  },
  {
   "cell_type": "code",
   "execution_count": 8,
   "metadata": {},
   "outputs": [
    {
     "data": {
      "text/html": [
       "<div>\n",
       "<style scoped>\n",
       "    .dataframe tbody tr th:only-of-type {\n",
       "        vertical-align: middle;\n",
       "    }\n",
       "\n",
       "    .dataframe tbody tr th {\n",
       "        vertical-align: top;\n",
       "    }\n",
       "\n",
       "    .dataframe thead th {\n",
       "        text-align: right;\n",
       "    }\n",
       "</style>\n",
       "<table border=\"1\" class=\"dataframe\">\n",
       "  <thead>\n",
       "    <tr style=\"text-align: right;\">\n",
       "      <th></th>\n",
       "      <th>id</th>\n",
       "      <th>title</th>\n",
       "      <th>authors</th>\n",
       "      <th>journal</th>\n",
       "      <th>month</th>\n",
       "      <th>year</th>\n",
       "      <th>publication_type</th>\n",
       "    </tr>\n",
       "  </thead>\n",
       "  <tbody>\n",
       "    <tr>\n",
       "      <th>0</th>\n",
       "      <td>1</td>\n",
       "      <td>Klaus Tschira Stiftung gemeinntzige GmbH, KTS</td>\n",
       "      <td>Klaus Tschira</td>\n",
       "      <td>NaN</td>\n",
       "      <td>NaN</td>\n",
       "      <td>2012</td>\n",
       "      <td>www</td>\n",
       "    </tr>\n",
       "    <tr>\n",
       "      <th>1</th>\n",
       "      <td>2</td>\n",
       "      <td>The SGML/XML Web Page</td>\n",
       "      <td>Robin Cover</td>\n",
       "      <td>NaN</td>\n",
       "      <td>NaN</td>\n",
       "      <td>2006</td>\n",
       "      <td>www</td>\n",
       "    </tr>\n",
       "    <tr>\n",
       "      <th>2</th>\n",
       "      <td>3</td>\n",
       "      <td>The Future of Classic Data Administration: Objects + Databases + CASE</td>\n",
       "      <td>Arnon Rosenthal</td>\n",
       "      <td>NaN</td>\n",
       "      <td>NaN</td>\n",
       "      <td>1998</td>\n",
       "      <td>www</td>\n",
       "    </tr>\n",
       "    <tr>\n",
       "      <th>3</th>\n",
       "      <td>4</td>\n",
       "      <td>XML Query Data Model</td>\n",
       "      <td>Mary F. Fernandez, Jonathan Robie</td>\n",
       "      <td>NaN</td>\n",
       "      <td>NaN</td>\n",
       "      <td>2001</td>\n",
       "      <td>www</td>\n",
       "    </tr>\n",
       "    <tr>\n",
       "      <th>4</th>\n",
       "      <td>5</td>\n",
       "      <td>The XML Query Algebra</td>\n",
       "      <td>Peter Fankhauser, Mary F. Fernndez, Ashok Malhotra, Michael Rys, Jrme Simon, Philip Wadler</td>\n",
       "      <td>NaN</td>\n",
       "      <td>NaN</td>\n",
       "      <td>2001</td>\n",
       "      <td>www</td>\n",
       "    </tr>\n",
       "  </tbody>\n",
       "</table>\n",
       "</div>"
      ],
      "text/plain": [
       "   id                                                                  title  \\\n",
       "0   1                          Klaus Tschira Stiftung gemeinntzige GmbH, KTS   \n",
       "1   2                                                  The SGML/XML Web Page   \n",
       "2   3  The Future of Classic Data Administration: Objects + Databases + CASE   \n",
       "3   4                                                   XML Query Data Model   \n",
       "4   5                                                  The XML Query Algebra   \n",
       "\n",
       "                                                                                      authors  \\\n",
       "0                                                                               Klaus Tschira   \n",
       "1                                                                                 Robin Cover   \n",
       "2                                                                             Arnon Rosenthal   \n",
       "3                                                           Mary F. Fernandez, Jonathan Robie   \n",
       "4  Peter Fankhauser, Mary F. Fernndez, Ashok Malhotra, Michael Rys, Jrme Simon, Philip Wadler   \n",
       "\n",
       "  journal month  year publication_type  \n",
       "0     NaN   NaN  2012              www  \n",
       "1     NaN   NaN  2006              www  \n",
       "2     NaN   NaN  1998              www  \n",
       "3     NaN   NaN  2001              www  \n",
       "4     NaN   NaN  2001              www  "
      ]
     },
     "execution_count": 8,
     "metadata": {},
     "output_type": "execute_result"
    }
   ],
   "source": [
    "B.head()"
   ]
  },
  {
   "cell_type": "code",
   "execution_count": 9,
   "metadata": {},
   "outputs": [
    {
     "data": {
      "text/plain": [
       "True"
      ]
     },
     "execution_count": 9,
     "metadata": {},
     "output_type": "execute_result"
    }
   ],
   "source": [
    "# Set 'id' as the keys to the input tables\n",
    "em.set_key(A, 'id')\n",
    "em.set_key(B, 'id')"
   ]
  },
  {
   "cell_type": "markdown",
   "metadata": {},
   "source": [
    "## Downsampling"
   ]
  },
  {
   "cell_type": "code",
   "execution_count": 10,
   "metadata": {},
   "outputs": [
    {
     "name": "stderr",
     "output_type": "stream",
     "text": [
      "c:\\users\\rmartinez4\\anaconda3\\envs\\py37\\lib\\site-packages\\py_entitymatching\\sampler\\down_sample.py:354: FutureWarning: The pandas.np module is deprecated and will be removed from pandas in a future version. Import numpy directly instead\n",
      "  sample_table_splits = pd.np.array_split(sample_table_b, n_jobs)\n",
      "c:\\users\\rmartinez4\\anaconda3\\envs\\py37\\lib\\site-packages\\joblib\\externals\\loky\\process_executor.py:691: UserWarning: A worker stopped while some jobs were given to the executor. This can be caused by a too short worker timeout or by a memory leak.\n",
      "  \"timeout or by a memory leak.\", UserWarning\n"
     ]
    }
   ],
   "source": [
    "# Downsample the datasets \n",
    "sample_A, sample_B = em.down_sample(A, B, size=1000, y_param=1, show_progress=True, n_jobs=-1)"
   ]
  },
  {
   "cell_type": "code",
   "execution_count": 11,
   "metadata": {},
   "outputs": [
    {
     "data": {
      "text/plain": [
       "(984, 1000)"
      ]
     },
     "execution_count": 11,
     "metadata": {},
     "output_type": "execute_result"
    }
   ],
   "source": [
    "# Display the number of tuples in the sampled datasets\n",
    "len(sample_A), len(sample_B)"
   ]
  },
  {
   "cell_type": "code",
   "execution_count": 12,
   "metadata": {},
   "outputs": [
    {
     "name": "stdout",
     "output_type": "stream",
     "text": [
      "id: 1969344374344\n",
      "key: id\n"
     ]
    }
   ],
   "source": [
    "# Show the metadata of sample_A, sample_B\n",
    "em.show_properties(sample_A)"
   ]
  },
  {
   "cell_type": "code",
   "execution_count": 13,
   "metadata": {},
   "outputs": [
    {
     "name": "stdout",
     "output_type": "stream",
     "text": [
      "id: 1969344373960\n",
      "key: id\n"
     ]
    }
   ],
   "source": [
    "em.show_properties(sample_B)"
   ]
  },
  {
   "cell_type": "code",
   "execution_count": 14,
   "metadata": {},
   "outputs": [
    {
     "data": {
      "text/plain": [
       "module"
      ]
     },
     "execution_count": 14,
     "metadata": {},
     "output_type": "execute_result"
    }
   ],
   "source": [
    "type(em)"
   ]
  },
  {
   "cell_type": "markdown",
   "metadata": {},
   "source": [
    "## Data Exploration"
   ]
  },
  {
   "cell_type": "code",
   "execution_count": 33,
   "metadata": {},
   "outputs": [],
   "source": [
    "## Open OpenRefine Server"
   ]
  },
  {
   "cell_type": "markdown",
   "metadata": {},
   "source": [
    "## Blocking"
   ]
  },
  {
   "cell_type": "code",
   "execution_count": null,
   "metadata": {},
   "outputs": [],
   "source": [
    "## Use overlap blocer as an example"
   ]
  },
  {
   "cell_type": "code",
   "execution_count": 15,
   "metadata": {},
   "outputs": [],
   "source": [
    "# Instantiate overlap blocker object\n",
    "ob = em.OverlapBlocker()"
   ]
  },
  {
   "cell_type": "code",
   "execution_count": 16,
   "metadata": {},
   "outputs": [
    {
     "data": {
      "text/plain": [
       "py_entitymatching.blocker.overlap_blocker.OverlapBlocker"
      ]
     },
     "execution_count": 16,
     "metadata": {},
     "output_type": "execute_result"
    }
   ],
   "source": [
    "type(ob)"
   ]
  },
  {
   "cell_type": "code",
   "execution_count": 17,
   "metadata": {},
   "outputs": [
    {
     "name": "stderr",
     "output_type": "stream",
     "text": [
      "c:\\users\\rmartinez4\\anaconda3\\envs\\py37\\lib\\site-packages\\py_stringsimjoin\\utils\\converter.py:99: FutureWarning: The pandas.np module is deprecated and will be removed from pandas in a future version. Import numpy directly instead\n",
      "  if col_type == pd.np.object:\n",
      "c:\\users\\rmartinez4\\anaconda3\\envs\\py37\\lib\\site-packages\\py_entitymatching\\blocker\\overlap_blocker.py:258: SettingWithCopyWarning: \n",
      "A value is trying to be set on a copy of a slice from a DataFrame.\n",
      "Try using .loc[row_indexer,col_indexer] = value instead\n",
      "\n",
      "See the caveats in the documentation: https://pandas.pydata.org/pandas-docs/stable/user_guide/indexing.html#returning-a-view-versus-a-copy\n",
      "  l_df[l_dummy_overlap_attr] = l_df[l_overlap_attr]\n",
      "c:\\users\\rmartinez4\\anaconda3\\envs\\py37\\lib\\site-packages\\py_entitymatching\\blocker\\overlap_blocker.py:259: SettingWithCopyWarning: \n",
      "A value is trying to be set on a copy of a slice from a DataFrame.\n",
      "Try using .loc[row_indexer,col_indexer] = value instead\n",
      "\n",
      "See the caveats in the documentation: https://pandas.pydata.org/pandas-docs/stable/user_guide/indexing.html#returning-a-view-versus-a-copy\n",
      "  r_df[r_dummy_overlap_attr] = r_df[r_overlap_attr]\n",
      "c:\\users\\rmartinez4\\anaconda3\\envs\\py37\\lib\\site-packages\\py_entitymatching\\blocker\\overlap_blocker.py:615: SettingWithCopyWarning: \n",
      "A value is trying to be set on a copy of a slice from a DataFrame.\n",
      "Try using .loc[row_indexer,col_indexer] = value instead\n",
      "\n",
      "See the caveats in the documentation: https://pandas.pydata.org/pandas-docs/stable/user_guide/indexing.html#returning-a-view-versus-a-copy\n",
      "  table[overlap_attr] = values\n",
      "c:\\users\\rmartinez4\\anaconda3\\envs\\py37\\lib\\site-packages\\py_stringsimjoin\\utils\\validation.py:30: FutureWarning: The pandas.np module is deprecated and will be removed from pandas in a future version. Import numpy directly instead\n",
      "  if attr_type != pd.np.object:\n"
     ]
    }
   ],
   "source": [
    "# Specify the tokenization to be 'word' level and set overlap_size to be 3.\n",
    "C1 = ob.block_tables(sample_A, sample_B, 'title', 'title', word_level=True, overlap_size=5 , \n",
    "                    l_output_attrs=['title', 'authors', 'journal', 'year'], \n",
    "                    r_output_attrs=['title','authors', 'journal', 'year'],\n",
    "                    show_progress=False)"
   ]
  },
  {
   "cell_type": "code",
   "execution_count": 18,
   "metadata": {},
   "outputs": [
    {
     "data": {
      "text/html": [
       "<div>\n",
       "<style scoped>\n",
       "    .dataframe tbody tr th:only-of-type {\n",
       "        vertical-align: middle;\n",
       "    }\n",
       "\n",
       "    .dataframe tbody tr th {\n",
       "        vertical-align: top;\n",
       "    }\n",
       "\n",
       "    .dataframe thead th {\n",
       "        text-align: right;\n",
       "    }\n",
       "</style>\n",
       "<table border=\"1\" class=\"dataframe\">\n",
       "  <thead>\n",
       "    <tr style=\"text-align: right;\">\n",
       "      <th></th>\n",
       "      <th>_id</th>\n",
       "      <th>ltable_id</th>\n",
       "      <th>rtable_id</th>\n",
       "      <th>ltable_title</th>\n",
       "      <th>ltable_authors</th>\n",
       "      <th>ltable_journal</th>\n",
       "      <th>ltable_year</th>\n",
       "      <th>rtable_title</th>\n",
       "      <th>rtable_authors</th>\n",
       "      <th>rtable_journal</th>\n",
       "      <th>rtable_year</th>\n",
       "    </tr>\n",
       "  </thead>\n",
       "  <tbody>\n",
       "    <tr>\n",
       "      <th>0</th>\n",
       "      <td>0</td>\n",
       "      <td>132599</td>\n",
       "      <td>955350</td>\n",
       "      <td>Testing Triangle-Freeness in General Graphs (Extended Abstract)</td>\n",
       "      <td>Noga Alon, Tali Kaufman, Michael Krivelevich, Dana Ron</td>\n",
       "      <td>NaN</td>\n",
       "      <td>2005.0</td>\n",
       "      <td>Testing for Cycles in Infinite Graphs with Periodic Structure (Extended Abstract)</td>\n",
       "      <td>Kazuo Iwano, Kenneth Steiglitz</td>\n",
       "      <td>NaN</td>\n",
       "      <td>1987</td>\n",
       "    </tr>\n",
       "    <tr>\n",
       "      <th>1</th>\n",
       "      <td>1</td>\n",
       "      <td>472302</td>\n",
       "      <td>1286421</td>\n",
       "      <td>A NONLINEAR OBSERVABILITY FORMULATION FOR POWER SYSTEMS INCORPORATING GENERATOR DYNAMICS</td>\n",
       "      <td>Chris J. Dafis, C. O. Nwankpa</td>\n",
       "      <td>NaN</td>\n",
       "      <td>NaN</td>\n",
       "      <td>A nonlinear observability formulation for power systems incorporating generator dynamics.</td>\n",
       "      <td>Chris J. Dafis, Chika O. Nwankpa</td>\n",
       "      <td>NaN</td>\n",
       "      <td>2002</td>\n",
       "    </tr>\n",
       "    <tr>\n",
       "      <th>2</th>\n",
       "      <td>2</td>\n",
       "      <td>1326183</td>\n",
       "      <td>31744</td>\n",
       "      <td>An Architecture for Embedded Software Integration Using Reusable Components</td>\n",
       "      <td>Shige Wang, Kang G. Shin</td>\n",
       "      <td>NaN</td>\n",
       "      <td>NaN</td>\n",
       "      <td>An architecture for embedded software integration using reusable components.</td>\n",
       "      <td>Shige Wang, Kang G. Shin</td>\n",
       "      <td>NaN</td>\n",
       "      <td>2000</td>\n",
       "    </tr>\n",
       "    <tr>\n",
       "      <th>3</th>\n",
       "      <td>3</td>\n",
       "      <td>1036499</td>\n",
       "      <td>2115349</td>\n",
       "      <td>Speech and Multimodal Dialogue Systems for Telephony Applications based on a Speech Database of ...</td>\n",
       "      <td>Micha Baum, Gregor Erbach, Markus Kommenda, Georg Niklfeld, Estela Puig-waldmller</td>\n",
       "      <td>NaN</td>\n",
       "      <td>NaN</td>\n",
       "      <td>A Web-based, Offline-able, and Personalized Runtime Environment for executing applications on mo...</td>\n",
       "      <td>Yung-Wei Kao, Chia Feng Lin, Kuei-An Yang, Shyan-Ming Yuan</td>\n",
       "      <td>Computer Standards &amp; Interfaces</td>\n",
       "      <td>2012</td>\n",
       "    </tr>\n",
       "    <tr>\n",
       "      <th>4</th>\n",
       "      <td>4</td>\n",
       "      <td>344293</td>\n",
       "      <td>2115349</td>\n",
       "      <td>INTERNATIONAL JOURNAL OF c  2007 Institute for Scientific INFORMATION AND SYSTEMS SCIENCES Compu...</td>\n",
       "      <td>Mohan Sridharan, Peter Stone</td>\n",
       "      <td>NaN</td>\n",
       "      <td>NaN</td>\n",
       "      <td>A Web-based, Offline-able, and Personalized Runtime Environment for executing applications on mo...</td>\n",
       "      <td>Yung-Wei Kao, Chia Feng Lin, Kuei-An Yang, Shyan-Ming Yuan</td>\n",
       "      <td>Computer Standards &amp; Interfaces</td>\n",
       "      <td>2012</td>\n",
       "    </tr>\n",
       "  </tbody>\n",
       "</table>\n",
       "</div>"
      ],
      "text/plain": [
       "   _id  ltable_id  rtable_id  \\\n",
       "0    0     132599     955350   \n",
       "1    1     472302    1286421   \n",
       "2    2    1326183      31744   \n",
       "3    3    1036499    2115349   \n",
       "4    4     344293    2115349   \n",
       "\n",
       "                                                                                          ltable_title  \\\n",
       "0                                      Testing Triangle-Freeness in General Graphs (Extended Abstract)   \n",
       "1             A NONLINEAR OBSERVABILITY FORMULATION FOR POWER SYSTEMS INCORPORATING GENERATOR DYNAMICS   \n",
       "2                          An Architecture for Embedded Software Integration Using Reusable Components   \n",
       "3  Speech and Multimodal Dialogue Systems for Telephony Applications based on a Speech Database of ...   \n",
       "4  INTERNATIONAL JOURNAL OF c  2007 Institute for Scientific INFORMATION AND SYSTEMS SCIENCES Compu...   \n",
       "\n",
       "                                                                      ltable_authors  \\\n",
       "0                             Noga Alon, Tali Kaufman, Michael Krivelevich, Dana Ron   \n",
       "1                                                      Chris J. Dafis, C. O. Nwankpa   \n",
       "2                                                           Shige Wang, Kang G. Shin   \n",
       "3  Micha Baum, Gregor Erbach, Markus Kommenda, Georg Niklfeld, Estela Puig-waldmller   \n",
       "4                                                       Mohan Sridharan, Peter Stone   \n",
       "\n",
       "   ltable_journal  ltable_year  \\\n",
       "0             NaN       2005.0   \n",
       "1             NaN          NaN   \n",
       "2             NaN          NaN   \n",
       "3             NaN          NaN   \n",
       "4             NaN          NaN   \n",
       "\n",
       "                                                                                          rtable_title  \\\n",
       "0                    Testing for Cycles in Infinite Graphs with Periodic Structure (Extended Abstract)   \n",
       "1            A nonlinear observability formulation for power systems incorporating generator dynamics.   \n",
       "2                         An architecture for embedded software integration using reusable components.   \n",
       "3  A Web-based, Offline-able, and Personalized Runtime Environment for executing applications on mo...   \n",
       "4  A Web-based, Offline-able, and Personalized Runtime Environment for executing applications on mo...   \n",
       "\n",
       "                                               rtable_authors  \\\n",
       "0                              Kazuo Iwano, Kenneth Steiglitz   \n",
       "1                            Chris J. Dafis, Chika O. Nwankpa   \n",
       "2                                    Shige Wang, Kang G. Shin   \n",
       "3  Yung-Wei Kao, Chia Feng Lin, Kuei-An Yang, Shyan-Ming Yuan   \n",
       "4  Yung-Wei Kao, Chia Feng Lin, Kuei-An Yang, Shyan-Ming Yuan   \n",
       "\n",
       "                    rtable_journal  rtable_year  \n",
       "0                              NaN         1987  \n",
       "1                              NaN         2002  \n",
       "2                              NaN         2000  \n",
       "3  Computer Standards & Interfaces         2012  \n",
       "4  Computer Standards & Interfaces         2012  "
      ]
     },
     "execution_count": 18,
     "metadata": {},
     "output_type": "execute_result"
    }
   ],
   "source": [
    "# Display first 5 tuple pairs in the candidate set.\n",
    "C1.head()"
   ]
  },
  {
   "cell_type": "code",
   "execution_count": 47,
   "metadata": {},
   "outputs": [],
   "source": [
    "## Exercise1: how to add custom stopwords like \"title\""
   ]
  },
  {
   "cell_type": "code",
   "execution_count": 105,
   "metadata": {},
   "outputs": [],
   "source": [
    "## Exercise2: how to make multiple rules in the blocker?\n",
    "## Exercise3: how to define a blackbox blocker using your own rules?"
   ]
  },
  {
   "cell_type": "markdown",
   "metadata": {},
   "source": [
    "## Generating Features for Manually¶"
   ]
  },
  {
   "cell_type": "code",
   "execution_count": 19,
   "metadata": {},
   "outputs": [
    {
     "name": "stderr",
     "output_type": "stream",
     "text": [
      "c:\\users\\rmartinez4\\anaconda3\\envs\\py37\\lib\\site-packages\\py_entitymatching\\feature\\attributeutils.py:191: FutureWarning: The pandas.np module is deprecated and will be removed from pandas in a future version. Import numpy directly instead\n",
      "  if returned_type == bool or returned_type == pd.np.bool_:\n",
      "Column month does not seem to qualify as any atomic type. It may contain all NaNs. Please update the values of column month\n"
     ]
    }
   ],
   "source": [
    "## Getting Attribute Types\n",
    "atypes1 = em.get_attr_types(sample_A)\n",
    "atypes2 = em.get_attr_types(sample_B)"
   ]
  },
  {
   "cell_type": "code",
   "execution_count": 20,
   "metadata": {},
   "outputs": [
    {
     "data": {
      "text/plain": [
       "dict_keys(['id', 'title', 'authors', 'journal', 'month', 'year', 'publication_type', '_table'])"
      ]
     },
     "execution_count": 20,
     "metadata": {},
     "output_type": "execute_result"
    }
   ],
   "source": [
    "atypes1.keys()"
   ]
  },
  {
   "cell_type": "code",
   "execution_count": 21,
   "metadata": {},
   "outputs": [
    {
     "data": {
      "text/plain": [
       "(1968232251464, 1969344374344, 1968492951112, 1969344373960)"
      ]
     },
     "execution_count": 21,
     "metadata": {},
     "output_type": "execute_result"
    }
   ],
   "source": [
    "## Getting Attribute Correspondences\n",
    "block_c = em.get_attr_corres(sample_A, sample_B)\n",
    "id(A), id(block_c['ltable']), id(B), id(block_c['rtable'])\n"
   ]
  },
  {
   "cell_type": "code",
   "execution_count": 22,
   "metadata": {},
   "outputs": [
    {
     "data": {
      "text/plain": [
       "[('id', 'id'),\n",
       " ('title', 'title'),\n",
       " ('authors', 'authors'),\n",
       " ('journal', 'journal'),\n",
       " ('month', 'month'),\n",
       " ('year', 'year'),\n",
       " ('publication_type', 'publication_type')]"
      ]
     },
     "execution_count": 22,
     "metadata": {},
     "output_type": "execute_result"
    }
   ],
   "source": [
    "block_c['corres']"
   ]
  },
  {
   "cell_type": "code",
   "execution_count": 23,
   "metadata": {},
   "outputs": [],
   "source": [
    "## Getting tokenizers\n",
    "# for blocking\n",
    "tok = em.get_tokenizers_for_blocking()\n",
    "# for matching\n",
    "# tok = em.get_tokenizers_for_matching()"
   ]
  },
  {
   "cell_type": "code",
   "execution_count": 24,
   "metadata": {},
   "outputs": [
    {
     "data": {
      "text/plain": [
       "{'qgm_2': <function py_entitymatching.feature.tokenizers._make_tok_qgram.<locals>.tok_qgram>,\n",
       " 'qgm_3': <function py_entitymatching.feature.tokenizers._make_tok_qgram.<locals>.tok_qgram>,\n",
       " 'wspace': <function py_entitymatching.feature.tokenizers.tok_wspace>,\n",
       " 'alphabetic': <function py_entitymatching.feature.tokenizers.tok_alphabetic>,\n",
       " 'alphanumeric': <function py_entitymatching.feature.tokenizers.tok_alphanumeric>,\n",
       " 'dlm_dc0': <function py_entitymatching.feature.tokenizers._make_tok_delim.<locals>.tok_delim>}"
      ]
     },
     "execution_count": 24,
     "metadata": {},
     "output_type": "execute_result"
    }
   ],
   "source": [
    "tok"
   ]
  },
  {
   "cell_type": "code",
   "execution_count": 25,
   "metadata": {},
   "outputs": [],
   "source": [
    "## Getting Similarity Functions\n",
    "# for blocking\n",
    "sim = em.get_sim_funs_for_blocking()\n",
    "\n",
    "# for matching\n",
    "# sim = em.get_sim_funs_for_matching()"
   ]
  },
  {
   "cell_type": "code",
   "execution_count": 26,
   "metadata": {},
   "outputs": [
    {
     "data": {
      "text/plain": [
       "{'affine': <function py_entitymatching.feature.simfunctions.affine>,\n",
       " 'hamming_dist': <function py_entitymatching.feature.simfunctions.hamming_dist>,\n",
       " 'hamming_sim': <function py_entitymatching.feature.simfunctions.hamming_sim>,\n",
       " 'lev_dist': <function py_entitymatching.feature.simfunctions.lev_dist>,\n",
       " 'lev_sim': <function py_entitymatching.feature.simfunctions.lev_sim>,\n",
       " 'jaro': <function py_entitymatching.feature.simfunctions.jaro>,\n",
       " 'jaro_winkler': <function py_entitymatching.feature.simfunctions.jaro_winkler>,\n",
       " 'needleman_wunsch': <function py_entitymatching.feature.simfunctions.needleman_wunsch>,\n",
       " 'smith_waterman': <function py_entitymatching.feature.simfunctions.smith_waterman>,\n",
       " 'overlap_coeff': <function py_entitymatching.feature.simfunctions.overlap_coeff>,\n",
       " 'jaccard': <function py_entitymatching.feature.simfunctions.jaccard>,\n",
       " 'dice': <function py_entitymatching.feature.simfunctions.dice>,\n",
       " 'monge_elkan': <function py_entitymatching.feature.simfunctions.monge_elkan>,\n",
       " 'cosine': <function py_entitymatching.feature.simfunctions.cosine>,\n",
       " 'exact_match': <function py_entitymatching.feature.simfunctions.exact_match>,\n",
       " 'rel_diff': <function py_entitymatching.feature.simfunctions.rel_diff>,\n",
       " 'abs_norm': <function py_entitymatching.feature.simfunctions.abs_norm>}"
      ]
     },
     "execution_count": 26,
     "metadata": {},
     "output_type": "execute_result"
    }
   ],
   "source": [
    "sim"
   ]
  },
  {
   "cell_type": "code",
   "execution_count": 27,
   "metadata": {},
   "outputs": [],
   "source": [
    "## Getting Features\n",
    "feature_table = em.get_features(sample_A, sample_B, atypes1, atypes2, block_c, tok, sim)\n"
   ]
  },
  {
   "cell_type": "code",
   "execution_count": 28,
   "metadata": {},
   "outputs": [
    {
     "data": {
      "text/html": [
       "<div>\n",
       "<style scoped>\n",
       "    .dataframe tbody tr th:only-of-type {\n",
       "        vertical-align: middle;\n",
       "    }\n",
       "\n",
       "    .dataframe tbody tr th {\n",
       "        vertical-align: top;\n",
       "    }\n",
       "\n",
       "    .dataframe thead th {\n",
       "        text-align: right;\n",
       "    }\n",
       "</style>\n",
       "<table border=\"1\" class=\"dataframe\">\n",
       "  <thead>\n",
       "    <tr style=\"text-align: right;\">\n",
       "      <th></th>\n",
       "      <th>feature_name</th>\n",
       "      <th>left_attribute</th>\n",
       "      <th>right_attribute</th>\n",
       "      <th>left_attr_tokenizer</th>\n",
       "      <th>right_attr_tokenizer</th>\n",
       "      <th>simfunction</th>\n",
       "      <th>function</th>\n",
       "      <th>function_source</th>\n",
       "      <th>is_auto_generated</th>\n",
       "    </tr>\n",
       "  </thead>\n",
       "  <tbody>\n",
       "    <tr>\n",
       "      <th>0</th>\n",
       "      <td>id_id_exm</td>\n",
       "      <td>id</td>\n",
       "      <td>id</td>\n",
       "      <td>None</td>\n",
       "      <td>None</td>\n",
       "      <td>exact_match</td>\n",
       "      <td>&lt;function id_id_exm at 0x000001CA1E43FCA8&gt;</td>\n",
       "      <td>from py_entitymatching.feature.simfunctions import *\\nfrom py_entitymatching.feature.tokenizers ...</td>\n",
       "      <td>True</td>\n",
       "    </tr>\n",
       "    <tr>\n",
       "      <th>1</th>\n",
       "      <td>id_id_anm</td>\n",
       "      <td>id</td>\n",
       "      <td>id</td>\n",
       "      <td>None</td>\n",
       "      <td>None</td>\n",
       "      <td>abs_norm</td>\n",
       "      <td>&lt;function id_id_anm at 0x000001CA1E43FF78&gt;</td>\n",
       "      <td>from py_entitymatching.feature.simfunctions import *\\nfrom py_entitymatching.feature.tokenizers ...</td>\n",
       "      <td>True</td>\n",
       "    </tr>\n",
       "    <tr>\n",
       "      <th>2</th>\n",
       "      <td>id_id_lev_dist</td>\n",
       "      <td>id</td>\n",
       "      <td>id</td>\n",
       "      <td>None</td>\n",
       "      <td>None</td>\n",
       "      <td>lev_dist</td>\n",
       "      <td>&lt;function id_id_lev_dist at 0x000001CA1E43FD38&gt;</td>\n",
       "      <td>from py_entitymatching.feature.simfunctions import *\\nfrom py_entitymatching.feature.tokenizers ...</td>\n",
       "      <td>True</td>\n",
       "    </tr>\n",
       "    <tr>\n",
       "      <th>3</th>\n",
       "      <td>id_id_lev_sim</td>\n",
       "      <td>id</td>\n",
       "      <td>id</td>\n",
       "      <td>None</td>\n",
       "      <td>None</td>\n",
       "      <td>lev_sim</td>\n",
       "      <td>&lt;function id_id_lev_sim at 0x000001CA1E43FC18&gt;</td>\n",
       "      <td>from py_entitymatching.feature.simfunctions import *\\nfrom py_entitymatching.feature.tokenizers ...</td>\n",
       "      <td>True</td>\n",
       "    </tr>\n",
       "    <tr>\n",
       "      <th>4</th>\n",
       "      <td>year_year_exm</td>\n",
       "      <td>year</td>\n",
       "      <td>year</td>\n",
       "      <td>None</td>\n",
       "      <td>None</td>\n",
       "      <td>exact_match</td>\n",
       "      <td>&lt;function year_year_exm at 0x000001CA1E43FAF8&gt;</td>\n",
       "      <td>from py_entitymatching.feature.simfunctions import *\\nfrom py_entitymatching.feature.tokenizers ...</td>\n",
       "      <td>True</td>\n",
       "    </tr>\n",
       "  </tbody>\n",
       "</table>\n",
       "</div>"
      ],
      "text/plain": [
       "     feature_name left_attribute right_attribute left_attr_tokenizer  \\\n",
       "0       id_id_exm             id              id                None   \n",
       "1       id_id_anm             id              id                None   \n",
       "2  id_id_lev_dist             id              id                None   \n",
       "3   id_id_lev_sim             id              id                None   \n",
       "4   year_year_exm           year            year                None   \n",
       "\n",
       "  right_attr_tokenizer  simfunction  \\\n",
       "0                 None  exact_match   \n",
       "1                 None     abs_norm   \n",
       "2                 None     lev_dist   \n",
       "3                 None      lev_sim   \n",
       "4                 None  exact_match   \n",
       "\n",
       "                                          function  \\\n",
       "0       <function id_id_exm at 0x000001CA1E43FCA8>   \n",
       "1       <function id_id_anm at 0x000001CA1E43FF78>   \n",
       "2  <function id_id_lev_dist at 0x000001CA1E43FD38>   \n",
       "3   <function id_id_lev_sim at 0x000001CA1E43FC18>   \n",
       "4   <function year_year_exm at 0x000001CA1E43FAF8>   \n",
       "\n",
       "                                                                                       function_source  \\\n",
       "0  from py_entitymatching.feature.simfunctions import *\\nfrom py_entitymatching.feature.tokenizers ...   \n",
       "1  from py_entitymatching.feature.simfunctions import *\\nfrom py_entitymatching.feature.tokenizers ...   \n",
       "2  from py_entitymatching.feature.simfunctions import *\\nfrom py_entitymatching.feature.tokenizers ...   \n",
       "3  from py_entitymatching.feature.simfunctions import *\\nfrom py_entitymatching.feature.tokenizers ...   \n",
       "4  from py_entitymatching.feature.simfunctions import *\\nfrom py_entitymatching.feature.tokenizers ...   \n",
       "\n",
       "   is_auto_generated  \n",
       "0               True  \n",
       "1               True  \n",
       "2               True  \n",
       "3               True  \n",
       "4               True  "
      ]
     },
     "execution_count": 28,
     "metadata": {},
     "output_type": "execute_result"
    }
   ],
   "source": [
    "feature_table.head()"
   ]
  },
  {
   "cell_type": "code",
   "execution_count": 29,
   "metadata": {},
   "outputs": [],
   "source": [
    "#### Exercise: how to add a custom feature - to do Jaccard on title_authors and add it to feature table?"
   ]
  },
  {
   "cell_type": "markdown",
   "metadata": {},
   "source": [
    "## Label the Sampled Set"
   ]
  },
  {
   "cell_type": "code",
   "execution_count": 30,
   "metadata": {},
   "outputs": [
    {
     "name": "stderr",
     "output_type": "stream",
     "text": [
      "Column name (gold_label) is not present in dataframe\n"
     ]
    },
    {
     "ename": "AttributeError",
     "evalue": "'DataFrame' object has no attribute 'set_value'",
     "output_type": "error",
     "traceback": [
      "\u001b[1;31m---------------------------------------------------------------------------\u001b[0m",
      "\u001b[1;31mAttributeError\u001b[0m                            Traceback (most recent call last)",
      "\u001b[1;32m<ipython-input-30-52c81518d541>\u001b[0m in \u001b[0;36m<module>\u001b[1;34m()\u001b[0m\n\u001b[0;32m      1\u001b[0m \u001b[1;31m# Label the sampled set\u001b[0m\u001b[1;33m\u001b[0m\u001b[1;33m\u001b[0m\u001b[1;33m\u001b[0m\u001b[0m\n\u001b[0;32m      2\u001b[0m \u001b[1;31m# Specify the name for the label column\u001b[0m\u001b[1;33m\u001b[0m\u001b[1;33m\u001b[0m\u001b[1;33m\u001b[0m\u001b[0m\n\u001b[1;32m----> 3\u001b[1;33m \u001b[0mG\u001b[0m \u001b[1;33m=\u001b[0m \u001b[0mem\u001b[0m\u001b[1;33m.\u001b[0m\u001b[0mlabel_table\u001b[0m\u001b[1;33m(\u001b[0m\u001b[0mC1\u001b[0m\u001b[1;33m,\u001b[0m \u001b[1;34m'gold_label'\u001b[0m\u001b[1;33m)\u001b[0m\u001b[1;33m\u001b[0m\u001b[1;33m\u001b[0m\u001b[0m\n\u001b[0m",
      "\u001b[1;32mc:\\users\\rmartinez4\\anaconda3\\envs\\py37\\lib\\site-packages\\py_entitymatching\\labeler\\labeler.py\u001b[0m in \u001b[0;36mlabel_table\u001b[1;34m(table, label_column_name, verbose)\u001b[0m\n\u001b[0;32m     70\u001b[0m \u001b[1;33m\u001b[0m\u001b[0m\n\u001b[0;32m     71\u001b[0m     \u001b[1;32mfrom\u001b[0m \u001b[0mpy_entitymatching\u001b[0m\u001b[1;33m.\u001b[0m\u001b[0mgui\u001b[0m\u001b[1;33m.\u001b[0m\u001b[0mtable_gui\u001b[0m \u001b[1;32mimport\u001b[0m \u001b[0medit_table\u001b[0m\u001b[1;33m\u001b[0m\u001b[1;33m\u001b[0m\u001b[0m\n\u001b[1;32m---> 72\u001b[1;33m     \u001b[0medit_table\u001b[0m\u001b[1;33m(\u001b[0m\u001b[0mlabeled_table\u001b[0m\u001b[1;33m)\u001b[0m\u001b[1;33m\u001b[0m\u001b[1;33m\u001b[0m\u001b[0m\n\u001b[0m\u001b[0;32m     73\u001b[0m \u001b[1;33m\u001b[0m\u001b[0m\n\u001b[0;32m     74\u001b[0m     \u001b[1;31m# Post process the labeled table: validate whether the labels contain\u001b[0m\u001b[1;33m\u001b[0m\u001b[1;33m\u001b[0m\u001b[1;33m\u001b[0m\u001b[0m\n",
      "\u001b[1;32mc:\\users\\rmartinez4\\anaconda3\\envs\\py37\\lib\\site-packages\\py_entitymatching\\gui\\table_gui.py\u001b[0m in \u001b[0;36medit_table\u001b[1;34m(table, show_flag)\u001b[0m\n\u001b[0;32m     92\u001b[0m             \u001b[0minp\u001b[0m \u001b[1;33m=\u001b[0m \u001b[0mtable\u001b[0m\u001b[1;33m.\u001b[0m\u001b[0miat\u001b[0m\u001b[1;33m[\u001b[0m\u001b[0mi\u001b[0m\u001b[1;33m,\u001b[0m \u001b[0mj\u001b[0m\u001b[1;33m]\u001b[0m\u001b[1;33m\u001b[0m\u001b[1;33m\u001b[0m\u001b[0m\n\u001b[0;32m     93\u001b[0m             \u001b[0mval\u001b[0m \u001b[1;33m=\u001b[0m \u001b[0m_cast_val\u001b[0m\u001b[1;33m(\u001b[0m\u001b[0mval\u001b[0m\u001b[1;33m,\u001b[0m \u001b[0minp\u001b[0m\u001b[1;33m)\u001b[0m\u001b[1;33m\u001b[0m\u001b[1;33m\u001b[0m\u001b[0m\n\u001b[1;32m---> 94\u001b[1;33m             \u001b[0mtable\u001b[0m\u001b[1;33m.\u001b[0m\u001b[0mset_value\u001b[0m\u001b[1;33m(\u001b[0m\u001b[0midxv\u001b[0m\u001b[1;33m[\u001b[0m\u001b[0mi\u001b[0m\u001b[1;33m]\u001b[0m\u001b[1;33m,\u001b[0m \u001b[0mcols\u001b[0m\u001b[1;33m[\u001b[0m\u001b[0mj\u001b[0m\u001b[1;33m]\u001b[0m\u001b[1;33m,\u001b[0m \u001b[0mval\u001b[0m\u001b[1;33m)\u001b[0m\u001b[1;33m\u001b[0m\u001b[1;33m\u001b[0m\u001b[0m\n\u001b[0m\u001b[0;32m     95\u001b[0m \u001b[1;33m\u001b[0m\u001b[0m\n\u001b[0;32m     96\u001b[0m \u001b[1;33m\u001b[0m\u001b[0m\n",
      "\u001b[1;32mc:\\users\\rmartinez4\\anaconda3\\envs\\py37\\lib\\site-packages\\pandas\\core\\generic.py\u001b[0m in \u001b[0;36m__getattr__\u001b[1;34m(self, name)\u001b[0m\n\u001b[0;32m   5137\u001b[0m             \u001b[1;32mif\u001b[0m \u001b[0mself\u001b[0m\u001b[1;33m.\u001b[0m\u001b[0m_info_axis\u001b[0m\u001b[1;33m.\u001b[0m\u001b[0m_can_hold_identifiers_and_holds_name\u001b[0m\u001b[1;33m(\u001b[0m\u001b[0mname\u001b[0m\u001b[1;33m)\u001b[0m\u001b[1;33m:\u001b[0m\u001b[1;33m\u001b[0m\u001b[1;33m\u001b[0m\u001b[0m\n\u001b[0;32m   5138\u001b[0m                 \u001b[1;32mreturn\u001b[0m \u001b[0mself\u001b[0m\u001b[1;33m[\u001b[0m\u001b[0mname\u001b[0m\u001b[1;33m]\u001b[0m\u001b[1;33m\u001b[0m\u001b[1;33m\u001b[0m\u001b[0m\n\u001b[1;32m-> 5139\u001b[1;33m             \u001b[1;32mreturn\u001b[0m \u001b[0mobject\u001b[0m\u001b[1;33m.\u001b[0m\u001b[0m__getattribute__\u001b[0m\u001b[1;33m(\u001b[0m\u001b[0mself\u001b[0m\u001b[1;33m,\u001b[0m \u001b[0mname\u001b[0m\u001b[1;33m)\u001b[0m\u001b[1;33m\u001b[0m\u001b[1;33m\u001b[0m\u001b[0m\n\u001b[0m\u001b[0;32m   5140\u001b[0m \u001b[1;33m\u001b[0m\u001b[0m\n\u001b[0;32m   5141\u001b[0m     \u001b[1;32mdef\u001b[0m \u001b[0m__setattr__\u001b[0m\u001b[1;33m(\u001b[0m\u001b[0mself\u001b[0m\u001b[1;33m,\u001b[0m \u001b[0mname\u001b[0m\u001b[1;33m:\u001b[0m \u001b[0mstr\u001b[0m\u001b[1;33m,\u001b[0m \u001b[0mvalue\u001b[0m\u001b[1;33m)\u001b[0m \u001b[1;33m->\u001b[0m \u001b[1;32mNone\u001b[0m\u001b[1;33m:\u001b[0m\u001b[1;33m\u001b[0m\u001b[1;33m\u001b[0m\u001b[0m\n",
      "\u001b[1;31mAttributeError\u001b[0m: 'DataFrame' object has no attribute 'set_value'"
     ]
    }
   ],
   "source": [
    "# Label the sampled set\n",
    "# Specify the name for the label column\n",
    "G = em.label_table(C1, 'gold_label')"
   ]
  },
  {
   "cell_type": "code",
   "execution_count": null,
   "metadata": {},
   "outputs": [],
   "source": [
    "# Assume that we have labeled the data and stored it in \n",
    "# labeled_data_demo.csv\n",
    "\n",
    "path_labeled_data = datasets_dir + os.sep + 'labeled_data_demo.csv'\n",
    "G = em.read_csv_metadata(path_labeled_data, key='_id', \n",
    "                         fk_ltable='ltable_id', fk_rtable='rtable_id',\n",
    "                         ltable=A, rtable=B)"
   ]
  },
  {
   "cell_type": "code",
   "execution_count": 65,
   "metadata": {},
   "outputs": [
    {
     "data": {
      "text/html": [
       "<div>\n",
       "<style scoped>\n",
       "    .dataframe tbody tr th:only-of-type {\n",
       "        vertical-align: middle;\n",
       "    }\n",
       "\n",
       "    .dataframe tbody tr th {\n",
       "        vertical-align: top;\n",
       "    }\n",
       "\n",
       "    .dataframe thead th {\n",
       "        text-align: right;\n",
       "    }\n",
       "</style>\n",
       "<table border=\"1\" class=\"dataframe\">\n",
       "  <thead>\n",
       "    <tr style=\"text-align: right;\">\n",
       "      <th></th>\n",
       "      <th>_id</th>\n",
       "      <th>ltable_id</th>\n",
       "      <th>rtable_id</th>\n",
       "      <th>ltable_title</th>\n",
       "      <th>ltable_authors</th>\n",
       "      <th>ltable_year</th>\n",
       "      <th>rtable_title</th>\n",
       "      <th>rtable_authors</th>\n",
       "      <th>rtable_year</th>\n",
       "      <th>label</th>\n",
       "    </tr>\n",
       "  </thead>\n",
       "  <tbody>\n",
       "    <tr>\n",
       "      <th>0</th>\n",
       "      <td>0</td>\n",
       "      <td>l1223</td>\n",
       "      <td>r498</td>\n",
       "      <td>Dynamic Information Visualization</td>\n",
       "      <td>Yannis E. Ioannidis</td>\n",
       "      <td>1996</td>\n",
       "      <td>Dynamic information visualization</td>\n",
       "      <td>Yannis E. Ioannidis</td>\n",
       "      <td>1996</td>\n",
       "      <td>1</td>\n",
       "    </tr>\n",
       "    <tr>\n",
       "      <th>1</th>\n",
       "      <td>1</td>\n",
       "      <td>l1563</td>\n",
       "      <td>r1285</td>\n",
       "      <td>Dynamic Load Balancing in Hierarchical Parallel Database Systems</td>\n",
       "      <td>Luc Bouganim, Daniela Florescu, Patrick Valduriez</td>\n",
       "      <td>1996</td>\n",
       "      <td>Dynamic Load Balancing in Hierarchical Parallel Database Systems</td>\n",
       "      <td>Luc Bouganim, Daniela Florescu, Patrick Valduriez</td>\n",
       "      <td>1996</td>\n",
       "      <td>1</td>\n",
       "    </tr>\n",
       "    <tr>\n",
       "      <th>2</th>\n",
       "      <td>2</td>\n",
       "      <td>l1514</td>\n",
       "      <td>r1348</td>\n",
       "      <td>Query Processing and Optimization in Oracle Rdb</td>\n",
       "      <td>Gennady Antoshenkov, Mohamed Ziauddin</td>\n",
       "      <td>1996</td>\n",
       "      <td>prospector: a content-based multimedia server for massively parallel architectures</td>\n",
       "      <td>S. Choo, W. O'Connell, G. Linerman, H. Chen, K. Ganapathy, A. Biliris, E. Panagos, D. Schrader</td>\n",
       "      <td>1996</td>\n",
       "      <td>0</td>\n",
       "    </tr>\n",
       "    <tr>\n",
       "      <th>3</th>\n",
       "      <td>3</td>\n",
       "      <td>l206</td>\n",
       "      <td>r1641</td>\n",
       "      <td>An Asymptotically Optimal Multiversion B-Tree</td>\n",
       "      <td>Thomas Ohler, Peter Widmayer, Bruno Becker, Stephan Gschwind, Bernhard Seeger</td>\n",
       "      <td>1996</td>\n",
       "      <td>A complete temporal relational algebra</td>\n",
       "      <td>Debabrata Dey, Terence M. Barron, Veda C. Storey</td>\n",
       "      <td>1996</td>\n",
       "      <td>0</td>\n",
       "    </tr>\n",
       "    <tr>\n",
       "      <th>4</th>\n",
       "      <td>4</td>\n",
       "      <td>l1589</td>\n",
       "      <td>r495</td>\n",
       "      <td>Evaluating Probabilistic Queries over Imprecise Data</td>\n",
       "      <td>Reynold Cheng, Dmitri V. Kalashnikov, Sunil Prabhakar</td>\n",
       "      <td>2003</td>\n",
       "      <td>Evaluating probabilistic queries over imprecise data</td>\n",
       "      <td>Reynold Cheng, Dmitri V. Kalashnikov, Sunil Prabhakar</td>\n",
       "      <td>2003</td>\n",
       "      <td>1</td>\n",
       "    </tr>\n",
       "  </tbody>\n",
       "</table>\n",
       "</div>"
      ],
      "text/plain": [
       "   _id ltable_id rtable_id  \\\n",
       "0    0     l1223      r498   \n",
       "1    1     l1563     r1285   \n",
       "2    2     l1514     r1348   \n",
       "3    3      l206     r1641   \n",
       "4    4     l1589      r495   \n",
       "\n",
       "                                                       ltable_title  \\\n",
       "0                                 Dynamic Information Visualization   \n",
       "1  Dynamic Load Balancing in Hierarchical Parallel Database Systems   \n",
       "2                   Query Processing and Optimization in Oracle Rdb   \n",
       "3                     An Asymptotically Optimal Multiversion B-Tree   \n",
       "4              Evaluating Probabilistic Queries over Imprecise Data   \n",
       "\n",
       "                                                                  ltable_authors  \\\n",
       "0                                                            Yannis E. Ioannidis   \n",
       "1                              Luc Bouganim, Daniela Florescu, Patrick Valduriez   \n",
       "2                                          Gennady Antoshenkov, Mohamed Ziauddin   \n",
       "3  Thomas Ohler, Peter Widmayer, Bruno Becker, Stephan Gschwind, Bernhard Seeger   \n",
       "4                          Reynold Cheng, Dmitri V. Kalashnikov, Sunil Prabhakar   \n",
       "\n",
       "   ltable_year  \\\n",
       "0         1996   \n",
       "1         1996   \n",
       "2         1996   \n",
       "3         1996   \n",
       "4         2003   \n",
       "\n",
       "                                                                         rtable_title  \\\n",
       "0                                                   Dynamic information visualization   \n",
       "1                    Dynamic Load Balancing in Hierarchical Parallel Database Systems   \n",
       "2  prospector: a content-based multimedia server for massively parallel architectures   \n",
       "3                                              A complete temporal relational algebra   \n",
       "4                                Evaluating probabilistic queries over imprecise data   \n",
       "\n",
       "                                                                                   rtable_authors  \\\n",
       "0                                                                             Yannis E. Ioannidis   \n",
       "1                                               Luc Bouganim, Daniela Florescu, Patrick Valduriez   \n",
       "2  S. Choo, W. O'Connell, G. Linerman, H. Chen, K. Ganapathy, A. Biliris, E. Panagos, D. Schrader   \n",
       "3                                                Debabrata Dey, Terence M. Barron, Veda C. Storey   \n",
       "4                                           Reynold Cheng, Dmitri V. Kalashnikov, Sunil Prabhakar   \n",
       "\n",
       "   rtable_year  label  \n",
       "0         1996      1  \n",
       "1         1996      1  \n",
       "2         1996      0  \n",
       "3         1996      0  \n",
       "4         2003      1  "
      ]
     },
     "execution_count": 65,
     "metadata": {},
     "output_type": "execute_result"
    }
   ],
   "source": [
    "G.head()"
   ]
  },
  {
   "cell_type": "markdown",
   "metadata": {},
   "source": [
    "## Select the best learned matchers"
   ]
  },
  {
   "cell_type": "code",
   "execution_count": 67,
   "metadata": {},
   "outputs": [],
   "source": [
    "# Get the datasets directory\n",
    "datasets_dir = em.get_install_path() + os.sep + 'datasets'\n",
    "\n",
    "path_A = datasets_dir + os.sep + 'dblp_demo.csv'\n",
    "path_B = datasets_dir + os.sep + 'acm_demo.csv'\n",
    "path_labeled_data = datasets_dir + os.sep + 'labeled_data_demo.csv'"
   ]
  },
  {
   "cell_type": "code",
   "execution_count": 68,
   "metadata": {},
   "outputs": [
    {
     "name": "stderr",
     "output_type": "stream",
     "text": [
      "Metadata file is not present in the given path; proceeding to read the csv file.\n",
      "Metadata file is not present in the given path; proceeding to read the csv file.\n"
     ]
    }
   ],
   "source": [
    "A = em.read_csv_metadata(path_A, key='id')\n",
    "B = em.read_csv_metadata(path_B, key='id')\n",
    "# Load the pre-labeled data\n",
    "S = em.read_csv_metadata(path_labeled_data, \n",
    "                         key='_id',\n",
    "                         ltable=A, rtable=B, \n",
    "                         fk_ltable='ltable_id', fk_rtable='rtable_id')"
   ]
  },
  {
   "cell_type": "code",
   "execution_count": 69,
   "metadata": {},
   "outputs": [
    {
     "name": "stderr",
     "output_type": "stream",
     "text": [
      "/Library/Frameworks/Python.framework/Versions/3.7/lib/python3.7/site-packages/py_entitymatching/matcher/matcherutils.py:104: FutureWarning: \n",
      ".ix is deprecated. Please use\n",
      ".loc for label based indexing or\n",
      ".iloc for positional indexing\n",
      "\n",
      "See the documentation here:\n",
      "http://pandas.pydata.org/pandas-docs/stable/user_guide/indexing.html#ix-indexer-is-deprecated\n",
      "  label_train = labeled_data.ix[idx_train]\n",
      "/Library/Frameworks/Python.framework/Versions/3.7/lib/python3.7/site-packages/py_entitymatching/matcher/matcherutils.py:105: FutureWarning: \n",
      ".ix is deprecated. Please use\n",
      ".loc for label based indexing or\n",
      ".iloc for positional indexing\n",
      "\n",
      "See the documentation here:\n",
      "http://pandas.pydata.org/pandas-docs/stable/user_guide/indexing.html#ix-indexer-is-deprecated\n",
      "  label_test = labeled_data.ix[idx_test]\n"
     ]
    }
   ],
   "source": [
    "# Split S into I an J\n",
    "IJ = em.split_train_test(S, train_proportion=0.5, random_state=0)\n",
    "I = IJ['train']\n",
    "J = IJ['test']"
   ]
  },
  {
   "cell_type": "code",
   "execution_count": 1,
   "metadata": {},
   "outputs": [
    {
     "ename": "NameError",
     "evalue": "name 'I' is not defined",
     "output_type": "error",
     "traceback": [
      "\u001b[1;31m---------------------------------------------------------------------------\u001b[0m",
      "\u001b[1;31mNameError\u001b[0m                                 Traceback (most recent call last)",
      "\u001b[1;32m<ipython-input-1-bde71cc9b50e>\u001b[0m in \u001b[0;36m<module>\u001b[1;34m()\u001b[0m\n\u001b[1;32m----> 1\u001b[1;33m \u001b[0mI\u001b[0m\u001b[1;33m\u001b[0m\u001b[1;33m\u001b[0m\u001b[0m\n\u001b[0m",
      "\u001b[1;31mNameError\u001b[0m: name 'I' is not defined"
     ]
    }
   ],
   "source": [
    "I"
   ]
  },
  {
   "cell_type": "code",
   "execution_count": 70,
   "metadata": {},
   "outputs": [],
   "source": [
    "# Create a set of ML-matchers\n",
    "dt = em.DTMatcher(name='DecisionTree', random_state=0)\n",
    "svm = em.SVMMatcher(name='SVM', random_state=0)\n",
    "rf = em.RFMatcher(name='RF', random_state=0)\n",
    "lg = em.LogRegMatcher(name='LogReg', random_state=0)\n",
    "ln = em.LinRegMatcher(name='LinReg')"
   ]
  },
  {
   "cell_type": "code",
   "execution_count": 71,
   "metadata": {},
   "outputs": [],
   "source": [
    "# Generate a set of features\n",
    "F = em.get_features_for_matching(A, B, validate_inferred_attr_types=False)"
   ]
  },
  {
   "cell_type": "code",
   "execution_count": 72,
   "metadata": {},
   "outputs": [
    {
     "data": {
      "text/plain": [
       "0                          id_id_lev_dist\n",
       "1                           id_id_lev_sim\n",
       "2                               id_id_jar\n",
       "3                               id_id_jwn\n",
       "4                               id_id_exm\n",
       "5                   id_id_jac_qgm_3_qgm_3\n",
       "6             title_title_jac_qgm_3_qgm_3\n",
       "7         title_title_cos_dlm_dc0_dlm_dc0\n",
       "8                         title_title_mel\n",
       "9                    title_title_lev_dist\n",
       "10                    title_title_lev_sim\n",
       "11        authors_authors_jac_qgm_3_qgm_3\n",
       "12    authors_authors_cos_dlm_dc0_dlm_dc0\n",
       "13                    authors_authors_mel\n",
       "14               authors_authors_lev_dist\n",
       "15                authors_authors_lev_sim\n",
       "16                          year_year_exm\n",
       "17                          year_year_anm\n",
       "18                     year_year_lev_dist\n",
       "19                      year_year_lev_sim\n",
       "Name: feature_name, dtype: object"
      ]
     },
     "execution_count": 72,
     "metadata": {},
     "output_type": "execute_result"
    }
   ],
   "source": [
    "F.feature_name"
   ]
  },
  {
   "cell_type": "markdown",
   "metadata": {},
   "source": [
    "#### Extracting Feature Vector"
   ]
  },
  {
   "cell_type": "code",
   "execution_count": 74,
   "metadata": {},
   "outputs": [
    {
     "name": "stderr",
     "output_type": "stream",
     "text": [
      "/Library/Frameworks/Python.framework/Versions/3.7/lib/python3.7/site-packages/py_entitymatching/feature/extractfeatures.py:233: FutureWarning: \n",
      ".ix is deprecated. Please use\n",
      ".loc for label based indexing or\n",
      ".iloc for positional indexing\n",
      "\n",
      "See the documentation here:\n",
      "http://pandas.pydata.org/pandas-docs/stable/user_guide/indexing.html#ix-indexer-is-deprecated\n",
      "  l_dict[fk_ltable_val] = l_df.ix[fk_ltable_val]\n",
      "/Library/Frameworks/Python.framework/Versions/3.7/lib/python3.7/site-packages/py_entitymatching/feature/extractfeatures.py:237: FutureWarning: \n",
      ".ix is deprecated. Please use\n",
      ".loc for label based indexing or\n",
      ".iloc for positional indexing\n",
      "\n",
      "See the documentation here:\n",
      "http://pandas.pydata.org/pandas-docs/stable/user_guide/indexing.html#ix-indexer-is-deprecated\n",
      "  r_dict[fk_rtable_val] = r_df.ix[fk_rtable_val]\n"
     ]
    }
   ],
   "source": [
    "# Convert the I into a set of feature vectors using F\n",
    "H = em.extract_feature_vecs(I, \n",
    "                            feature_table=F, \n",
    "                            attrs_after='label',\n",
    "                            show_progress=False)"
   ]
  },
  {
   "cell_type": "code",
   "execution_count": 75,
   "metadata": {},
   "outputs": [
    {
     "data": {
      "text/html": [
       "<div>\n",
       "<style scoped>\n",
       "    .dataframe tbody tr th:only-of-type {\n",
       "        vertical-align: middle;\n",
       "    }\n",
       "\n",
       "    .dataframe tbody tr th {\n",
       "        vertical-align: top;\n",
       "    }\n",
       "\n",
       "    .dataframe thead th {\n",
       "        text-align: right;\n",
       "    }\n",
       "</style>\n",
       "<table border=\"1\" class=\"dataframe\">\n",
       "  <thead>\n",
       "    <tr style=\"text-align: right;\">\n",
       "      <th></th>\n",
       "      <th>_id</th>\n",
       "      <th>ltable_id</th>\n",
       "      <th>rtable_id</th>\n",
       "      <th>id_id_lev_dist</th>\n",
       "      <th>id_id_lev_sim</th>\n",
       "      <th>id_id_jar</th>\n",
       "      <th>id_id_jwn</th>\n",
       "      <th>id_id_exm</th>\n",
       "      <th>id_id_jac_qgm_3_qgm_3</th>\n",
       "      <th>title_title_jac_qgm_3_qgm_3</th>\n",
       "      <th>...</th>\n",
       "      <th>authors_authors_jac_qgm_3_qgm_3</th>\n",
       "      <th>authors_authors_cos_dlm_dc0_dlm_dc0</th>\n",
       "      <th>authors_authors_mel</th>\n",
       "      <th>authors_authors_lev_dist</th>\n",
       "      <th>authors_authors_lev_sim</th>\n",
       "      <th>year_year_exm</th>\n",
       "      <th>year_year_anm</th>\n",
       "      <th>year_year_lev_dist</th>\n",
       "      <th>year_year_lev_sim</th>\n",
       "      <th>label</th>\n",
       "    </tr>\n",
       "  </thead>\n",
       "  <tbody>\n",
       "    <tr>\n",
       "      <th>430</th>\n",
       "      <td>430</td>\n",
       "      <td>l1494</td>\n",
       "      <td>r1257</td>\n",
       "      <td>4</td>\n",
       "      <td>0.20</td>\n",
       "      <td>0.466667</td>\n",
       "      <td>0.466667</td>\n",
       "      <td>0</td>\n",
       "      <td>0.000000</td>\n",
       "      <td>0.000000</td>\n",
       "      <td>...</td>\n",
       "      <td>0.000000</td>\n",
       "      <td>0.000000</td>\n",
       "      <td>0.445707</td>\n",
       "      <td>44.0</td>\n",
       "      <td>0.083333</td>\n",
       "      <td>1</td>\n",
       "      <td>1.0</td>\n",
       "      <td>0.0</td>\n",
       "      <td>1.0</td>\n",
       "      <td>0</td>\n",
       "    </tr>\n",
       "    <tr>\n",
       "      <th>35</th>\n",
       "      <td>35</td>\n",
       "      <td>l1385</td>\n",
       "      <td>r1160</td>\n",
       "      <td>4</td>\n",
       "      <td>0.20</td>\n",
       "      <td>0.466667</td>\n",
       "      <td>0.466667</td>\n",
       "      <td>0</td>\n",
       "      <td>0.000000</td>\n",
       "      <td>0.025641</td>\n",
       "      <td>...</td>\n",
       "      <td>0.000000</td>\n",
       "      <td>0.000000</td>\n",
       "      <td>0.589417</td>\n",
       "      <td>43.0</td>\n",
       "      <td>0.271186</td>\n",
       "      <td>1</td>\n",
       "      <td>1.0</td>\n",
       "      <td>0.0</td>\n",
       "      <td>1.0</td>\n",
       "      <td>0</td>\n",
       "    </tr>\n",
       "    <tr>\n",
       "      <th>394</th>\n",
       "      <td>394</td>\n",
       "      <td>l1345</td>\n",
       "      <td>r85</td>\n",
       "      <td>4</td>\n",
       "      <td>0.20</td>\n",
       "      <td>0.000000</td>\n",
       "      <td>0.000000</td>\n",
       "      <td>0</td>\n",
       "      <td>0.090909</td>\n",
       "      <td>1.000000</td>\n",
       "      <td>...</td>\n",
       "      <td>0.951111</td>\n",
       "      <td>0.945946</td>\n",
       "      <td>0.822080</td>\n",
       "      <td>172.0</td>\n",
       "      <td>0.338462</td>\n",
       "      <td>1</td>\n",
       "      <td>1.0</td>\n",
       "      <td>0.0</td>\n",
       "      <td>1.0</td>\n",
       "      <td>1</td>\n",
       "    </tr>\n",
       "    <tr>\n",
       "      <th>29</th>\n",
       "      <td>29</td>\n",
       "      <td>l611</td>\n",
       "      <td>r141</td>\n",
       "      <td>3</td>\n",
       "      <td>0.25</td>\n",
       "      <td>0.666667</td>\n",
       "      <td>0.666667</td>\n",
       "      <td>0</td>\n",
       "      <td>0.090909</td>\n",
       "      <td>0.049383</td>\n",
       "      <td>...</td>\n",
       "      <td>0.000000</td>\n",
       "      <td>0.000000</td>\n",
       "      <td>0.531543</td>\n",
       "      <td>26.0</td>\n",
       "      <td>0.277778</td>\n",
       "      <td>1</td>\n",
       "      <td>1.0</td>\n",
       "      <td>0.0</td>\n",
       "      <td>1.0</td>\n",
       "      <td>0</td>\n",
       "    </tr>\n",
       "    <tr>\n",
       "      <th>181</th>\n",
       "      <td>181</td>\n",
       "      <td>l1164</td>\n",
       "      <td>r1161</td>\n",
       "      <td>2</td>\n",
       "      <td>0.60</td>\n",
       "      <td>0.733333</td>\n",
       "      <td>0.733333</td>\n",
       "      <td>0</td>\n",
       "      <td>0.076923</td>\n",
       "      <td>1.000000</td>\n",
       "      <td>...</td>\n",
       "      <td>0.592593</td>\n",
       "      <td>0.668153</td>\n",
       "      <td>0.684700</td>\n",
       "      <td>34.0</td>\n",
       "      <td>0.244444</td>\n",
       "      <td>1</td>\n",
       "      <td>1.0</td>\n",
       "      <td>0.0</td>\n",
       "      <td>1.0</td>\n",
       "      <td>1</td>\n",
       "    </tr>\n",
       "  </tbody>\n",
       "</table>\n",
       "<p>5 rows × 24 columns</p>\n",
       "</div>"
      ],
      "text/plain": [
       "     _id ltable_id rtable_id  id_id_lev_dist  id_id_lev_sim  id_id_jar  \\\n",
       "430  430     l1494     r1257               4           0.20   0.466667   \n",
       "35    35     l1385     r1160               4           0.20   0.466667   \n",
       "394  394     l1345       r85               4           0.20   0.000000   \n",
       "29    29      l611      r141               3           0.25   0.666667   \n",
       "181  181     l1164     r1161               2           0.60   0.733333   \n",
       "\n",
       "     id_id_jwn  id_id_exm  id_id_jac_qgm_3_qgm_3  title_title_jac_qgm_3_qgm_3  \\\n",
       "430   0.466667          0               0.000000                     0.000000   \n",
       "35    0.466667          0               0.000000                     0.025641   \n",
       "394   0.000000          0               0.090909                     1.000000   \n",
       "29    0.666667          0               0.090909                     0.049383   \n",
       "181   0.733333          0               0.076923                     1.000000   \n",
       "\n",
       "     ...  authors_authors_jac_qgm_3_qgm_3  \\\n",
       "430  ...                         0.000000   \n",
       "35   ...                         0.000000   \n",
       "394  ...                         0.951111   \n",
       "29   ...                         0.000000   \n",
       "181  ...                         0.592593   \n",
       "\n",
       "     authors_authors_cos_dlm_dc0_dlm_dc0  authors_authors_mel  \\\n",
       "430                             0.000000             0.445707   \n",
       "35                              0.000000             0.589417   \n",
       "394                             0.945946             0.822080   \n",
       "29                              0.000000             0.531543   \n",
       "181                             0.668153             0.684700   \n",
       "\n",
       "     authors_authors_lev_dist  authors_authors_lev_sim  year_year_exm  \\\n",
       "430                      44.0                 0.083333              1   \n",
       "35                       43.0                 0.271186              1   \n",
       "394                     172.0                 0.338462              1   \n",
       "29                       26.0                 0.277778              1   \n",
       "181                      34.0                 0.244444              1   \n",
       "\n",
       "     year_year_anm  year_year_lev_dist  year_year_lev_sim  label  \n",
       "430            1.0                 0.0                1.0      0  \n",
       "35             1.0                 0.0                1.0      0  \n",
       "394            1.0                 0.0                1.0      1  \n",
       "29             1.0                 0.0                1.0      0  \n",
       "181            1.0                 0.0                1.0      1  \n",
       "\n",
       "[5 rows x 24 columns]"
      ]
     },
     "execution_count": 75,
     "metadata": {},
     "output_type": "execute_result"
    }
   ],
   "source": [
    "# Display first few rows\n",
    "H.head()"
   ]
  },
  {
   "cell_type": "code",
   "execution_count": 76,
   "metadata": {},
   "outputs": [
    {
     "data": {
      "text/plain": [
       "True"
      ]
     },
     "execution_count": 76,
     "metadata": {},
     "output_type": "execute_result"
    }
   ],
   "source": [
    "# Check if the feature vectors contain missing values\n",
    "# A return value of True means that there are missing values\n",
    "any(pd.notnull(H))"
   ]
  },
  {
   "cell_type": "code",
   "execution_count": 77,
   "metadata": {},
   "outputs": [
    {
     "name": "stderr",
     "output_type": "stream",
     "text": [
      "/Library/Frameworks/Python.framework/Versions/3.7/lib/python3.7/site-packages/sklearn/utils/deprecation.py:66: DeprecationWarning: Class Imputer is deprecated; Imputer was deprecated in version 0.20 and will be removed in 0.22. Import impute.SimpleImputer from sklearn instead.\n",
      "  warnings.warn(msg, category=DeprecationWarning)\n"
     ]
    }
   ],
   "source": [
    "# Impute feature vectors with the mean of the column values.\n",
    "H = em.impute_table(H, \n",
    "                exclude_attrs=['_id', 'ltable_id', 'rtable_id', 'label'],\n",
    "                strategy='mean')"
   ]
  },
  {
   "cell_type": "markdown",
   "metadata": {},
   "source": [
    "#### Selecting the best matcher using cross-validation"
   ]
  },
  {
   "cell_type": "code",
   "execution_count": 78,
   "metadata": {},
   "outputs": [
    {
     "data": {
      "text/html": [
       "<div>\n",
       "<style scoped>\n",
       "    .dataframe tbody tr th:only-of-type {\n",
       "        vertical-align: middle;\n",
       "    }\n",
       "\n",
       "    .dataframe tbody tr th {\n",
       "        vertical-align: top;\n",
       "    }\n",
       "\n",
       "    .dataframe thead th {\n",
       "        text-align: right;\n",
       "    }\n",
       "</style>\n",
       "<table border=\"1\" class=\"dataframe\">\n",
       "  <thead>\n",
       "    <tr style=\"text-align: right;\">\n",
       "      <th></th>\n",
       "      <th>Matcher</th>\n",
       "      <th>Average precision</th>\n",
       "      <th>Average recall</th>\n",
       "      <th>Average f1</th>\n",
       "    </tr>\n",
       "  </thead>\n",
       "  <tbody>\n",
       "    <tr>\n",
       "      <th>0</th>\n",
       "      <td>DecisionTree</td>\n",
       "      <td>0.915322</td>\n",
       "      <td>0.950714</td>\n",
       "      <td>0.930980</td>\n",
       "    </tr>\n",
       "    <tr>\n",
       "      <th>1</th>\n",
       "      <td>RF</td>\n",
       "      <td>1.000000</td>\n",
       "      <td>0.950714</td>\n",
       "      <td>0.974131</td>\n",
       "    </tr>\n",
       "    <tr>\n",
       "      <th>2</th>\n",
       "      <td>SVM</td>\n",
       "      <td>0.977778</td>\n",
       "      <td>0.810632</td>\n",
       "      <td>0.883248</td>\n",
       "    </tr>\n",
       "    <tr>\n",
       "      <th>3</th>\n",
       "      <td>LinReg</td>\n",
       "      <td>1.000000</td>\n",
       "      <td>0.935330</td>\n",
       "      <td>0.966131</td>\n",
       "    </tr>\n",
       "    <tr>\n",
       "      <th>4</th>\n",
       "      <td>LogReg</td>\n",
       "      <td>0.985714</td>\n",
       "      <td>0.935330</td>\n",
       "      <td>0.958724</td>\n",
       "    </tr>\n",
       "  </tbody>\n",
       "</table>\n",
       "</div>"
      ],
      "text/plain": [
       "        Matcher  Average precision  Average recall  Average f1\n",
       "0  DecisionTree           0.915322        0.950714    0.930980\n",
       "1            RF           1.000000        0.950714    0.974131\n",
       "2           SVM           0.977778        0.810632    0.883248\n",
       "3        LinReg           1.000000        0.935330    0.966131\n",
       "4        LogReg           0.985714        0.935330    0.958724"
      ]
     },
     "execution_count": 78,
     "metadata": {},
     "output_type": "execute_result"
    }
   ],
   "source": [
    "# Select the best ML matcher using CV\n",
    "result = em.select_matcher([dt, rf, svm, ln, lg], table=H, \n",
    "        exclude_attrs=['_id', 'ltable_id', 'rtable_id', 'label'],\n",
    "        k=5,\n",
    "        target_attr='label', metric_to_select_matcher='f1', random_state=0)\n",
    "result['cv_stats']"
   ]
  },
  {
   "cell_type": "code",
   "execution_count": 79,
   "metadata": {},
   "outputs": [
    {
     "data": {
      "text/html": [
       "<div>\n",
       "<style scoped>\n",
       "    .dataframe tbody tr th:only-of-type {\n",
       "        vertical-align: middle;\n",
       "    }\n",
       "\n",
       "    .dataframe tbody tr th {\n",
       "        vertical-align: top;\n",
       "    }\n",
       "\n",
       "    .dataframe thead th {\n",
       "        text-align: right;\n",
       "    }\n",
       "</style>\n",
       "<table border=\"1\" class=\"dataframe\">\n",
       "  <thead>\n",
       "    <tr style=\"text-align: right;\">\n",
       "      <th></th>\n",
       "      <th>Name</th>\n",
       "      <th>Matcher</th>\n",
       "      <th>Num folds</th>\n",
       "      <th>Fold 1</th>\n",
       "      <th>Fold 2</th>\n",
       "      <th>Fold 3</th>\n",
       "      <th>Fold 4</th>\n",
       "      <th>Fold 5</th>\n",
       "      <th>Mean score</th>\n",
       "    </tr>\n",
       "  </thead>\n",
       "  <tbody>\n",
       "    <tr>\n",
       "      <th>0</th>\n",
       "      <td>DecisionTree</td>\n",
       "      <td>&lt;py_entitymatching.matcher.dtmatcher.DTMatcher object at 0x1435d2310&gt;</td>\n",
       "      <td>5</td>\n",
       "      <td>0.95</td>\n",
       "      <td>1.000000</td>\n",
       "      <td>0.764706</td>\n",
       "      <td>0.933333</td>\n",
       "      <td>0.928571</td>\n",
       "      <td>0.915322</td>\n",
       "    </tr>\n",
       "    <tr>\n",
       "      <th>1</th>\n",
       "      <td>RF</td>\n",
       "      <td>&lt;py_entitymatching.matcher.rfmatcher.RFMatcher object at 0x1435f02d0&gt;</td>\n",
       "      <td>5</td>\n",
       "      <td>1.00</td>\n",
       "      <td>1.000000</td>\n",
       "      <td>1.000000</td>\n",
       "      <td>1.000000</td>\n",
       "      <td>1.000000</td>\n",
       "      <td>1.000000</td>\n",
       "    </tr>\n",
       "    <tr>\n",
       "      <th>2</th>\n",
       "      <td>SVM</td>\n",
       "      <td>&lt;py_entitymatching.matcher.svmmatcher.SVMMatcher object at 0x1435d23d0&gt;</td>\n",
       "      <td>5</td>\n",
       "      <td>1.00</td>\n",
       "      <td>1.000000</td>\n",
       "      <td>0.888889</td>\n",
       "      <td>1.000000</td>\n",
       "      <td>1.000000</td>\n",
       "      <td>0.977778</td>\n",
       "    </tr>\n",
       "    <tr>\n",
       "      <th>3</th>\n",
       "      <td>LinReg</td>\n",
       "      <td>&lt;py_entitymatching.matcher.linregmatcher.LinRegMatcher object at 0x143382e50&gt;</td>\n",
       "      <td>5</td>\n",
       "      <td>1.00</td>\n",
       "      <td>1.000000</td>\n",
       "      <td>1.000000</td>\n",
       "      <td>1.000000</td>\n",
       "      <td>1.000000</td>\n",
       "      <td>1.000000</td>\n",
       "    </tr>\n",
       "    <tr>\n",
       "      <th>4</th>\n",
       "      <td>LogReg</td>\n",
       "      <td>&lt;py_entitymatching.matcher.logregmatcher.LogRegMatcher object at 0x143384410&gt;</td>\n",
       "      <td>5</td>\n",
       "      <td>1.00</td>\n",
       "      <td>0.928571</td>\n",
       "      <td>1.000000</td>\n",
       "      <td>1.000000</td>\n",
       "      <td>1.000000</td>\n",
       "      <td>0.985714</td>\n",
       "    </tr>\n",
       "  </tbody>\n",
       "</table>\n",
       "</div>"
      ],
      "text/plain": [
       "           Name  \\\n",
       "0  DecisionTree   \n",
       "1            RF   \n",
       "2           SVM   \n",
       "3        LinReg   \n",
       "4        LogReg   \n",
       "\n",
       "                                                                         Matcher  \\\n",
       "0          <py_entitymatching.matcher.dtmatcher.DTMatcher object at 0x1435d2310>   \n",
       "1          <py_entitymatching.matcher.rfmatcher.RFMatcher object at 0x1435f02d0>   \n",
       "2        <py_entitymatching.matcher.svmmatcher.SVMMatcher object at 0x1435d23d0>   \n",
       "3  <py_entitymatching.matcher.linregmatcher.LinRegMatcher object at 0x143382e50>   \n",
       "4  <py_entitymatching.matcher.logregmatcher.LogRegMatcher object at 0x143384410>   \n",
       "\n",
       "   Num folds  Fold 1    Fold 2    Fold 3    Fold 4    Fold 5  Mean score  \n",
       "0          5    0.95  1.000000  0.764706  0.933333  0.928571    0.915322  \n",
       "1          5    1.00  1.000000  1.000000  1.000000  1.000000    1.000000  \n",
       "2          5    1.00  1.000000  0.888889  1.000000  1.000000    0.977778  \n",
       "3          5    1.00  1.000000  1.000000  1.000000  1.000000    1.000000  \n",
       "4          5    1.00  0.928571  1.000000  1.000000  1.000000    0.985714  "
      ]
     },
     "execution_count": 79,
     "metadata": {},
     "output_type": "execute_result"
    }
   ],
   "source": [
    "result['drill_down_cv_stats']['precision']"
   ]
  },
  {
   "cell_type": "code",
   "execution_count": 80,
   "metadata": {},
   "outputs": [
    {
     "data": {
      "text/html": [
       "<div>\n",
       "<style scoped>\n",
       "    .dataframe tbody tr th:only-of-type {\n",
       "        vertical-align: middle;\n",
       "    }\n",
       "\n",
       "    .dataframe tbody tr th {\n",
       "        vertical-align: top;\n",
       "    }\n",
       "\n",
       "    .dataframe thead th {\n",
       "        text-align: right;\n",
       "    }\n",
       "</style>\n",
       "<table border=\"1\" class=\"dataframe\">\n",
       "  <thead>\n",
       "    <tr style=\"text-align: right;\">\n",
       "      <th></th>\n",
       "      <th>Name</th>\n",
       "      <th>Matcher</th>\n",
       "      <th>Num folds</th>\n",
       "      <th>Fold 1</th>\n",
       "      <th>Fold 2</th>\n",
       "      <th>Fold 3</th>\n",
       "      <th>Fold 4</th>\n",
       "      <th>Fold 5</th>\n",
       "      <th>Mean score</th>\n",
       "    </tr>\n",
       "  </thead>\n",
       "  <tbody>\n",
       "    <tr>\n",
       "      <th>0</th>\n",
       "      <td>DecisionTree</td>\n",
       "      <td>&lt;py_entitymatching.matcher.dtmatcher.DTMatcher object at 0x1435d2310&gt;</td>\n",
       "      <td>5</td>\n",
       "      <td>0.95</td>\n",
       "      <td>1.000000</td>\n",
       "      <td>0.928571</td>\n",
       "      <td>0.8750</td>\n",
       "      <td>1.000000</td>\n",
       "      <td>0.950714</td>\n",
       "    </tr>\n",
       "    <tr>\n",
       "      <th>1</th>\n",
       "      <td>RF</td>\n",
       "      <td>&lt;py_entitymatching.matcher.rfmatcher.RFMatcher object at 0x1435f02d0&gt;</td>\n",
       "      <td>5</td>\n",
       "      <td>0.95</td>\n",
       "      <td>1.000000</td>\n",
       "      <td>0.928571</td>\n",
       "      <td>0.8750</td>\n",
       "      <td>1.000000</td>\n",
       "      <td>0.950714</td>\n",
       "    </tr>\n",
       "    <tr>\n",
       "      <th>2</th>\n",
       "      <td>SVM</td>\n",
       "      <td>&lt;py_entitymatching.matcher.svmmatcher.SVMMatcher object at 0x1435d23d0&gt;</td>\n",
       "      <td>5</td>\n",
       "      <td>0.90</td>\n",
       "      <td>0.923077</td>\n",
       "      <td>0.571429</td>\n",
       "      <td>0.8125</td>\n",
       "      <td>0.846154</td>\n",
       "      <td>0.810632</td>\n",
       "    </tr>\n",
       "    <tr>\n",
       "      <th>3</th>\n",
       "      <td>LinReg</td>\n",
       "      <td>&lt;py_entitymatching.matcher.linregmatcher.LinRegMatcher object at 0x143382e50&gt;</td>\n",
       "      <td>5</td>\n",
       "      <td>0.95</td>\n",
       "      <td>1.000000</td>\n",
       "      <td>0.928571</td>\n",
       "      <td>0.8750</td>\n",
       "      <td>0.923077</td>\n",
       "      <td>0.935330</td>\n",
       "    </tr>\n",
       "    <tr>\n",
       "      <th>4</th>\n",
       "      <td>LogReg</td>\n",
       "      <td>&lt;py_entitymatching.matcher.logregmatcher.LogRegMatcher object at 0x143384410&gt;</td>\n",
       "      <td>5</td>\n",
       "      <td>0.95</td>\n",
       "      <td>1.000000</td>\n",
       "      <td>0.928571</td>\n",
       "      <td>0.8750</td>\n",
       "      <td>0.923077</td>\n",
       "      <td>0.935330</td>\n",
       "    </tr>\n",
       "  </tbody>\n",
       "</table>\n",
       "</div>"
      ],
      "text/plain": [
       "           Name  \\\n",
       "0  DecisionTree   \n",
       "1            RF   \n",
       "2           SVM   \n",
       "3        LinReg   \n",
       "4        LogReg   \n",
       "\n",
       "                                                                         Matcher  \\\n",
       "0          <py_entitymatching.matcher.dtmatcher.DTMatcher object at 0x1435d2310>   \n",
       "1          <py_entitymatching.matcher.rfmatcher.RFMatcher object at 0x1435f02d0>   \n",
       "2        <py_entitymatching.matcher.svmmatcher.SVMMatcher object at 0x1435d23d0>   \n",
       "3  <py_entitymatching.matcher.linregmatcher.LinRegMatcher object at 0x143382e50>   \n",
       "4  <py_entitymatching.matcher.logregmatcher.LogRegMatcher object at 0x143384410>   \n",
       "\n",
       "   Num folds  Fold 1    Fold 2    Fold 3  Fold 4    Fold 5  Mean score  \n",
       "0          5    0.95  1.000000  0.928571  0.8750  1.000000    0.950714  \n",
       "1          5    0.95  1.000000  0.928571  0.8750  1.000000    0.950714  \n",
       "2          5    0.90  0.923077  0.571429  0.8125  0.846154    0.810632  \n",
       "3          5    0.95  1.000000  0.928571  0.8750  0.923077    0.935330  \n",
       "4          5    0.95  1.000000  0.928571  0.8750  0.923077    0.935330  "
      ]
     },
     "execution_count": 80,
     "metadata": {},
     "output_type": "execute_result"
    }
   ],
   "source": [
    "result['drill_down_cv_stats']['recall']"
   ]
  },
  {
   "cell_type": "code",
   "execution_count": 81,
   "metadata": {},
   "outputs": [
    {
     "data": {
      "text/html": [
       "<div>\n",
       "<style scoped>\n",
       "    .dataframe tbody tr th:only-of-type {\n",
       "        vertical-align: middle;\n",
       "    }\n",
       "\n",
       "    .dataframe tbody tr th {\n",
       "        vertical-align: top;\n",
       "    }\n",
       "\n",
       "    .dataframe thead th {\n",
       "        text-align: right;\n",
       "    }\n",
       "</style>\n",
       "<table border=\"1\" class=\"dataframe\">\n",
       "  <thead>\n",
       "    <tr style=\"text-align: right;\">\n",
       "      <th></th>\n",
       "      <th>Name</th>\n",
       "      <th>Matcher</th>\n",
       "      <th>Num folds</th>\n",
       "      <th>Fold 1</th>\n",
       "      <th>Fold 2</th>\n",
       "      <th>Fold 3</th>\n",
       "      <th>Fold 4</th>\n",
       "      <th>Fold 5</th>\n",
       "      <th>Mean score</th>\n",
       "    </tr>\n",
       "  </thead>\n",
       "  <tbody>\n",
       "    <tr>\n",
       "      <th>0</th>\n",
       "      <td>DecisionTree</td>\n",
       "      <td>&lt;py_entitymatching.matcher.dtmatcher.DTMatcher object at 0x1435d2310&gt;</td>\n",
       "      <td>5</td>\n",
       "      <td>0.950000</td>\n",
       "      <td>1.000000</td>\n",
       "      <td>0.838710</td>\n",
       "      <td>0.903226</td>\n",
       "      <td>0.962963</td>\n",
       "      <td>0.930980</td>\n",
       "    </tr>\n",
       "    <tr>\n",
       "      <th>1</th>\n",
       "      <td>RF</td>\n",
       "      <td>&lt;py_entitymatching.matcher.rfmatcher.RFMatcher object at 0x1435f02d0&gt;</td>\n",
       "      <td>5</td>\n",
       "      <td>0.974359</td>\n",
       "      <td>1.000000</td>\n",
       "      <td>0.962963</td>\n",
       "      <td>0.933333</td>\n",
       "      <td>1.000000</td>\n",
       "      <td>0.974131</td>\n",
       "    </tr>\n",
       "    <tr>\n",
       "      <th>2</th>\n",
       "      <td>SVM</td>\n",
       "      <td>&lt;py_entitymatching.matcher.svmmatcher.SVMMatcher object at 0x1435d23d0&gt;</td>\n",
       "      <td>5</td>\n",
       "      <td>0.947368</td>\n",
       "      <td>0.960000</td>\n",
       "      <td>0.695652</td>\n",
       "      <td>0.896552</td>\n",
       "      <td>0.916667</td>\n",
       "      <td>0.883248</td>\n",
       "    </tr>\n",
       "    <tr>\n",
       "      <th>3</th>\n",
       "      <td>LinReg</td>\n",
       "      <td>&lt;py_entitymatching.matcher.linregmatcher.LinRegMatcher object at 0x143382e50&gt;</td>\n",
       "      <td>5</td>\n",
       "      <td>0.974359</td>\n",
       "      <td>1.000000</td>\n",
       "      <td>0.962963</td>\n",
       "      <td>0.933333</td>\n",
       "      <td>0.960000</td>\n",
       "      <td>0.966131</td>\n",
       "    </tr>\n",
       "    <tr>\n",
       "      <th>4</th>\n",
       "      <td>LogReg</td>\n",
       "      <td>&lt;py_entitymatching.matcher.logregmatcher.LogRegMatcher object at 0x143384410&gt;</td>\n",
       "      <td>5</td>\n",
       "      <td>0.974359</td>\n",
       "      <td>0.962963</td>\n",
       "      <td>0.962963</td>\n",
       "      <td>0.933333</td>\n",
       "      <td>0.960000</td>\n",
       "      <td>0.958724</td>\n",
       "    </tr>\n",
       "  </tbody>\n",
       "</table>\n",
       "</div>"
      ],
      "text/plain": [
       "           Name  \\\n",
       "0  DecisionTree   \n",
       "1            RF   \n",
       "2           SVM   \n",
       "3        LinReg   \n",
       "4        LogReg   \n",
       "\n",
       "                                                                         Matcher  \\\n",
       "0          <py_entitymatching.matcher.dtmatcher.DTMatcher object at 0x1435d2310>   \n",
       "1          <py_entitymatching.matcher.rfmatcher.RFMatcher object at 0x1435f02d0>   \n",
       "2        <py_entitymatching.matcher.svmmatcher.SVMMatcher object at 0x1435d23d0>   \n",
       "3  <py_entitymatching.matcher.linregmatcher.LinRegMatcher object at 0x143382e50>   \n",
       "4  <py_entitymatching.matcher.logregmatcher.LogRegMatcher object at 0x143384410>   \n",
       "\n",
       "   Num folds    Fold 1    Fold 2    Fold 3    Fold 4    Fold 5  Mean score  \n",
       "0          5  0.950000  1.000000  0.838710  0.903226  0.962963    0.930980  \n",
       "1          5  0.974359  1.000000  0.962963  0.933333  1.000000    0.974131  \n",
       "2          5  0.947368  0.960000  0.695652  0.896552  0.916667    0.883248  \n",
       "3          5  0.974359  1.000000  0.962963  0.933333  0.960000    0.966131  \n",
       "4          5  0.974359  0.962963  0.962963  0.933333  0.960000    0.958724  "
      ]
     },
     "execution_count": 81,
     "metadata": {},
     "output_type": "execute_result"
    }
   ],
   "source": [
    "result['drill_down_cv_stats']['f1']"
   ]
  },
  {
   "cell_type": "code",
   "execution_count": 82,
   "metadata": {},
   "outputs": [],
   "source": [
    "### Exercise: how to add a feature to do Jaccard on title + authors and add it to the feature table?\n",
    "## check if it improves the matcher"
   ]
  },
  {
   "cell_type": "markdown",
   "metadata": {},
   "source": [
    "## Use a ML Matcher to Get Prediction and use Trigger to improve Results"
   ]
  },
  {
   "cell_type": "code",
   "execution_count": 83,
   "metadata": {},
   "outputs": [
    {
     "name": "stderr",
     "output_type": "stream",
     "text": [
      "/Library/Frameworks/Python.framework/Versions/3.7/lib/python3.7/site-packages/py_entitymatching/matcher/matcherutils.py:104: FutureWarning: \n",
      ".ix is deprecated. Please use\n",
      ".loc for label based indexing or\n",
      ".iloc for positional indexing\n",
      "\n",
      "See the documentation here:\n",
      "http://pandas.pydata.org/pandas-docs/stable/user_guide/indexing.html#ix-indexer-is-deprecated\n",
      "  label_train = labeled_data.ix[idx_train]\n",
      "/Library/Frameworks/Python.framework/Versions/3.7/lib/python3.7/site-packages/py_entitymatching/matcher/matcherutils.py:105: FutureWarning: \n",
      ".ix is deprecated. Please use\n",
      ".loc for label based indexing or\n",
      ".iloc for positional indexing\n",
      "\n",
      "See the documentation here:\n",
      "http://pandas.pydata.org/pandas-docs/stable/user_guide/indexing.html#ix-indexer-is-deprecated\n",
      "  label_test = labeled_data.ix[idx_test]\n"
     ]
    }
   ],
   "source": [
    "# Split S into I an J\n",
    "IJ = em.split_train_test(S, train_proportion=0.5, random_state=0)\n",
    "I = IJ['train']\n",
    "J = IJ['test']"
   ]
  },
  {
   "cell_type": "code",
   "execution_count": 84,
   "metadata": {},
   "outputs": [],
   "source": [
    "# Create a Decision Tree Matcher\n",
    "dt = em.DTMatcher(name='DecisionTree', random_state=0)"
   ]
  },
  {
   "cell_type": "code",
   "execution_count": 89,
   "metadata": {},
   "outputs": [],
   "source": [
    "# Generate a set of features\n",
    "feature_table = em.get_features_for_matching(A, B, validate_inferred_attr_types=False)"
   ]
  },
  {
   "cell_type": "code",
   "execution_count": 90,
   "metadata": {},
   "outputs": [
    {
     "data": {
      "text/html": [
       "<div>\n",
       "<style scoped>\n",
       "    .dataframe tbody tr th:only-of-type {\n",
       "        vertical-align: middle;\n",
       "    }\n",
       "\n",
       "    .dataframe tbody tr th {\n",
       "        vertical-align: top;\n",
       "    }\n",
       "\n",
       "    .dataframe thead th {\n",
       "        text-align: right;\n",
       "    }\n",
       "</style>\n",
       "<table border=\"1\" class=\"dataframe\">\n",
       "  <thead>\n",
       "    <tr style=\"text-align: right;\">\n",
       "      <th></th>\n",
       "      <th>feature_name</th>\n",
       "      <th>left_attribute</th>\n",
       "      <th>right_attribute</th>\n",
       "      <th>left_attr_tokenizer</th>\n",
       "      <th>right_attr_tokenizer</th>\n",
       "      <th>simfunction</th>\n",
       "      <th>function</th>\n",
       "      <th>function_source</th>\n",
       "      <th>is_auto_generated</th>\n",
       "    </tr>\n",
       "  </thead>\n",
       "  <tbody>\n",
       "    <tr>\n",
       "      <th>0</th>\n",
       "      <td>id_id_lev_dist</td>\n",
       "      <td>id</td>\n",
       "      <td>id</td>\n",
       "      <td>None</td>\n",
       "      <td>None</td>\n",
       "      <td>lev_dist</td>\n",
       "      <td>&lt;function id_id_lev_dist at 0x1435c28c0&gt;</td>\n",
       "      <td>from py_entitymatching.feature.simfunctions import *\\nfrom py_entitymatching.feature.tokenizers ...</td>\n",
       "      <td>True</td>\n",
       "    </tr>\n",
       "    <tr>\n",
       "      <th>15</th>\n",
       "      <td>authors_authors_lev_sim</td>\n",
       "      <td>authors</td>\n",
       "      <td>authors</td>\n",
       "      <td>None</td>\n",
       "      <td>None</td>\n",
       "      <td>lev_sim</td>\n",
       "      <td>&lt;function authors_authors_lev_sim at 0x146d71320&gt;</td>\n",
       "      <td>from py_entitymatching.feature.simfunctions import *\\nfrom py_entitymatching.feature.tokenizers ...</td>\n",
       "      <td>True</td>\n",
       "    </tr>\n",
       "    <tr>\n",
       "      <th>16</th>\n",
       "      <td>year_year_exm</td>\n",
       "      <td>year</td>\n",
       "      <td>year</td>\n",
       "      <td>None</td>\n",
       "      <td>None</td>\n",
       "      <td>exact_match</td>\n",
       "      <td>&lt;function year_year_exm at 0x146d71440&gt;</td>\n",
       "      <td>from py_entitymatching.feature.simfunctions import *\\nfrom py_entitymatching.feature.tokenizers ...</td>\n",
       "      <td>True</td>\n",
       "    </tr>\n",
       "    <tr>\n",
       "      <th>17</th>\n",
       "      <td>year_year_anm</td>\n",
       "      <td>year</td>\n",
       "      <td>year</td>\n",
       "      <td>None</td>\n",
       "      <td>None</td>\n",
       "      <td>abs_norm</td>\n",
       "      <td>&lt;function year_year_anm at 0x146d71560&gt;</td>\n",
       "      <td>from py_entitymatching.feature.simfunctions import *\\nfrom py_entitymatching.feature.tokenizers ...</td>\n",
       "      <td>True</td>\n",
       "    </tr>\n",
       "    <tr>\n",
       "      <th>18</th>\n",
       "      <td>year_year_lev_dist</td>\n",
       "      <td>year</td>\n",
       "      <td>year</td>\n",
       "      <td>None</td>\n",
       "      <td>None</td>\n",
       "      <td>lev_dist</td>\n",
       "      <td>&lt;function year_year_lev_dist at 0x146d71680&gt;</td>\n",
       "      <td>from py_entitymatching.feature.simfunctions import *\\nfrom py_entitymatching.feature.tokenizers ...</td>\n",
       "      <td>True</td>\n",
       "    </tr>\n",
       "    <tr>\n",
       "      <th>19</th>\n",
       "      <td>year_year_lev_sim</td>\n",
       "      <td>year</td>\n",
       "      <td>year</td>\n",
       "      <td>None</td>\n",
       "      <td>None</td>\n",
       "      <td>lev_sim</td>\n",
       "      <td>&lt;function year_year_lev_sim at 0x146d717a0&gt;</td>\n",
       "      <td>from py_entitymatching.feature.simfunctions import *\\nfrom py_entitymatching.feature.tokenizers ...</td>\n",
       "      <td>True</td>\n",
       "    </tr>\n",
       "  </tbody>\n",
       "</table>\n",
       "</div>"
      ],
      "text/plain": [
       "               feature_name left_attribute right_attribute  \\\n",
       "0            id_id_lev_dist             id              id   \n",
       "15  authors_authors_lev_sim        authors         authors   \n",
       "16            year_year_exm           year            year   \n",
       "17            year_year_anm           year            year   \n",
       "18       year_year_lev_dist           year            year   \n",
       "19        year_year_lev_sim           year            year   \n",
       "\n",
       "   left_attr_tokenizer right_attr_tokenizer  simfunction  \\\n",
       "0                 None                 None     lev_dist   \n",
       "15                None                 None      lev_sim   \n",
       "16                None                 None  exact_match   \n",
       "17                None                 None     abs_norm   \n",
       "18                None                 None     lev_dist   \n",
       "19                None                 None      lev_sim   \n",
       "\n",
       "                                             function  \\\n",
       "0            <function id_id_lev_dist at 0x1435c28c0>   \n",
       "15  <function authors_authors_lev_sim at 0x146d71320>   \n",
       "16            <function year_year_exm at 0x146d71440>   \n",
       "17            <function year_year_anm at 0x146d71560>   \n",
       "18       <function year_year_lev_dist at 0x146d71680>   \n",
       "19        <function year_year_lev_sim at 0x146d717a0>   \n",
       "\n",
       "                                                                                        function_source  \\\n",
       "0   from py_entitymatching.feature.simfunctions import *\\nfrom py_entitymatching.feature.tokenizers ...   \n",
       "15  from py_entitymatching.feature.simfunctions import *\\nfrom py_entitymatching.feature.tokenizers ...   \n",
       "16  from py_entitymatching.feature.simfunctions import *\\nfrom py_entitymatching.feature.tokenizers ...   \n",
       "17  from py_entitymatching.feature.simfunctions import *\\nfrom py_entitymatching.feature.tokenizers ...   \n",
       "18  from py_entitymatching.feature.simfunctions import *\\nfrom py_entitymatching.feature.tokenizers ...   \n",
       "19  from py_entitymatching.feature.simfunctions import *\\nfrom py_entitymatching.feature.tokenizers ...   \n",
       "\n",
       "    is_auto_generated  \n",
       "0                True  \n",
       "15               True  \n",
       "16               True  \n",
       "17               True  \n",
       "18               True  \n",
       "19               True  "
      ]
     },
     "execution_count": 90,
     "metadata": {},
     "output_type": "execute_result"
    }
   ],
   "source": [
    "# We will remove many of the features here to purposly create a poor model. This will make it easier \n",
    "# to demonstrate triggers later\n",
    "F = feature_table.drop([1, 2, 3, 4, 5, 6, 7, 8, 9, 10, 11, 12, 13, 14])\n",
    "F"
   ]
  },
  {
   "cell_type": "code",
   "execution_count": 91,
   "metadata": {},
   "outputs": [
    {
     "name": "stderr",
     "output_type": "stream",
     "text": [
      "/Library/Frameworks/Python.framework/Versions/3.7/lib/python3.7/site-packages/py_entitymatching/feature/extractfeatures.py:233: FutureWarning: \n",
      ".ix is deprecated. Please use\n",
      ".loc for label based indexing or\n",
      ".iloc for positional indexing\n",
      "\n",
      "See the documentation here:\n",
      "http://pandas.pydata.org/pandas-docs/stable/user_guide/indexing.html#ix-indexer-is-deprecated\n",
      "  l_dict[fk_ltable_val] = l_df.ix[fk_ltable_val]\n",
      "/Library/Frameworks/Python.framework/Versions/3.7/lib/python3.7/site-packages/py_entitymatching/feature/extractfeatures.py:237: FutureWarning: \n",
      ".ix is deprecated. Please use\n",
      ".loc for label based indexing or\n",
      ".iloc for positional indexing\n",
      "\n",
      "See the documentation here:\n",
      "http://pandas.pydata.org/pandas-docs/stable/user_guide/indexing.html#ix-indexer-is-deprecated\n",
      "  r_dict[fk_rtable_val] = r_df.ix[fk_rtable_val]\n"
     ]
    }
   ],
   "source": [
    "# Convert the I into a set of feature vectors using F\n",
    "H = em.extract_feature_vecs(I, \n",
    "                            feature_table=F, \n",
    "                            attrs_after='label',\n",
    "                            show_progress=False)"
   ]
  },
  {
   "cell_type": "code",
   "execution_count": 92,
   "metadata": {},
   "outputs": [
    {
     "name": "stderr",
     "output_type": "stream",
     "text": [
      "/Library/Frameworks/Python.framework/Versions/3.7/lib/python3.7/site-packages/sklearn/utils/deprecation.py:66: DeprecationWarning: Class Imputer is deprecated; Imputer was deprecated in version 0.20 and will be removed in 0.22. Import impute.SimpleImputer from sklearn instead.\n",
      "  warnings.warn(msg, category=DeprecationWarning)\n"
     ]
    }
   ],
   "source": [
    "# Impute feature vectors with the mean of the column values.\n",
    "H = em.impute_table(H, \n",
    "                exclude_attrs=['_id', 'ltable_id', 'rtable_id', 'label'],\n",
    "                strategy='mean')"
   ]
  },
  {
   "cell_type": "code",
   "execution_count": 93,
   "metadata": {},
   "outputs": [],
   "source": [
    "# Fit the decision tree to the feature vectors\n",
    "dt.fit(table=H, exclude_attrs=['_id', 'ltable_id', 'rtable_id', 'label'], target_attr='label')"
   ]
  },
  {
   "cell_type": "code",
   "execution_count": 94,
   "metadata": {},
   "outputs": [
    {
     "data": {
      "text/html": [
       "<div>\n",
       "<style scoped>\n",
       "    .dataframe tbody tr th:only-of-type {\n",
       "        vertical-align: middle;\n",
       "    }\n",
       "\n",
       "    .dataframe tbody tr th {\n",
       "        vertical-align: top;\n",
       "    }\n",
       "\n",
       "    .dataframe thead th {\n",
       "        text-align: right;\n",
       "    }\n",
       "</style>\n",
       "<table border=\"1\" class=\"dataframe\">\n",
       "  <thead>\n",
       "    <tr style=\"text-align: right;\">\n",
       "      <th></th>\n",
       "      <th>_id</th>\n",
       "      <th>ltable_id</th>\n",
       "      <th>rtable_id</th>\n",
       "      <th>id_id_lev_dist</th>\n",
       "      <th>authors_authors_lev_sim</th>\n",
       "      <th>year_year_exm</th>\n",
       "      <th>year_year_anm</th>\n",
       "      <th>year_year_lev_dist</th>\n",
       "      <th>year_year_lev_sim</th>\n",
       "      <th>label</th>\n",
       "      <th>predicted_labels</th>\n",
       "      <th>proba</th>\n",
       "    </tr>\n",
       "  </thead>\n",
       "  <tbody>\n",
       "    <tr>\n",
       "      <th>430</th>\n",
       "      <td>430</td>\n",
       "      <td>l1494</td>\n",
       "      <td>r1257</td>\n",
       "      <td>4.0</td>\n",
       "      <td>0.083333</td>\n",
       "      <td>1.0</td>\n",
       "      <td>1.0</td>\n",
       "      <td>0.0</td>\n",
       "      <td>1.0</td>\n",
       "      <td>0</td>\n",
       "      <td>0</td>\n",
       "      <td>0.0</td>\n",
       "    </tr>\n",
       "    <tr>\n",
       "      <th>35</th>\n",
       "      <td>35</td>\n",
       "      <td>l1385</td>\n",
       "      <td>r1160</td>\n",
       "      <td>4.0</td>\n",
       "      <td>0.271186</td>\n",
       "      <td>1.0</td>\n",
       "      <td>1.0</td>\n",
       "      <td>0.0</td>\n",
       "      <td>1.0</td>\n",
       "      <td>0</td>\n",
       "      <td>0</td>\n",
       "      <td>0.0</td>\n",
       "    </tr>\n",
       "    <tr>\n",
       "      <th>394</th>\n",
       "      <td>394</td>\n",
       "      <td>l1345</td>\n",
       "      <td>r85</td>\n",
       "      <td>4.0</td>\n",
       "      <td>0.338462</td>\n",
       "      <td>1.0</td>\n",
       "      <td>1.0</td>\n",
       "      <td>0.0</td>\n",
       "      <td>1.0</td>\n",
       "      <td>1</td>\n",
       "      <td>1</td>\n",
       "      <td>1.0</td>\n",
       "    </tr>\n",
       "    <tr>\n",
       "      <th>29</th>\n",
       "      <td>29</td>\n",
       "      <td>l611</td>\n",
       "      <td>r141</td>\n",
       "      <td>3.0</td>\n",
       "      <td>0.277778</td>\n",
       "      <td>1.0</td>\n",
       "      <td>1.0</td>\n",
       "      <td>0.0</td>\n",
       "      <td>1.0</td>\n",
       "      <td>0</td>\n",
       "      <td>0</td>\n",
       "      <td>0.0</td>\n",
       "    </tr>\n",
       "    <tr>\n",
       "      <th>181</th>\n",
       "      <td>181</td>\n",
       "      <td>l1164</td>\n",
       "      <td>r1161</td>\n",
       "      <td>2.0</td>\n",
       "      <td>0.244444</td>\n",
       "      <td>1.0</td>\n",
       "      <td>1.0</td>\n",
       "      <td>0.0</td>\n",
       "      <td>1.0</td>\n",
       "      <td>1</td>\n",
       "      <td>1</td>\n",
       "      <td>1.0</td>\n",
       "    </tr>\n",
       "  </tbody>\n",
       "</table>\n",
       "</div>"
      ],
      "text/plain": [
       "     _id ltable_id rtable_id  id_id_lev_dist  authors_authors_lev_sim  \\\n",
       "430  430     l1494     r1257             4.0                 0.083333   \n",
       "35    35     l1385     r1160             4.0                 0.271186   \n",
       "394  394     l1345       r85             4.0                 0.338462   \n",
       "29    29      l611      r141             3.0                 0.277778   \n",
       "181  181     l1164     r1161             2.0                 0.244444   \n",
       "\n",
       "     year_year_exm  year_year_anm  year_year_lev_dist  year_year_lev_sim  \\\n",
       "430            1.0            1.0                 0.0                1.0   \n",
       "35             1.0            1.0                 0.0                1.0   \n",
       "394            1.0            1.0                 0.0                1.0   \n",
       "29             1.0            1.0                 0.0                1.0   \n",
       "181            1.0            1.0                 0.0                1.0   \n",
       "\n",
       "     label  predicted_labels  proba  \n",
       "430      0                 0    0.0  \n",
       "35       0                 0    0.0  \n",
       "394      1                 1    1.0  \n",
       "29       0                 0    0.0  \n",
       "181      1                 1    1.0  "
      ]
     },
     "execution_count": 94,
     "metadata": {},
     "output_type": "execute_result"
    }
   ],
   "source": [
    "# Use the decision tree matcher to predict if tuple pairs match\n",
    "dt.predict(table=H, exclude_attrs=['_id', 'ltable_id', 'rtable_id', 'label'], target_attr='predicted_labels', \n",
    "           return_probs=True, probs_attr='proba', append=True, inplace=True)\n",
    "H.head()"
   ]
  },
  {
   "cell_type": "markdown",
   "metadata": {},
   "source": [
    "#### Debug the ML Matcher"
   ]
  },
  {
   "cell_type": "code",
   "execution_count": 96,
   "metadata": {},
   "outputs": [
    {
     "name": "stderr",
     "output_type": "stream",
     "text": [
      "/Library/Frameworks/Python.framework/Versions/3.7/lib/python3.7/site-packages/py_entitymatching/matcher/matcherutils.py:104: FutureWarning: \n",
      ".ix is deprecated. Please use\n",
      ".loc for label based indexing or\n",
      ".iloc for positional indexing\n",
      "\n",
      "See the documentation here:\n",
      "http://pandas.pydata.org/pandas-docs/stable/user_guide/indexing.html#ix-indexer-is-deprecated\n",
      "  label_train = labeled_data.ix[idx_train]\n",
      "/Library/Frameworks/Python.framework/Versions/3.7/lib/python3.7/site-packages/py_entitymatching/matcher/matcherutils.py:105: FutureWarning: \n",
      ".ix is deprecated. Please use\n",
      ".loc for label based indexing or\n",
      ".iloc for positional indexing\n",
      "\n",
      "See the documentation here:\n",
      "http://pandas.pydata.org/pandas-docs/stable/user_guide/indexing.html#ix-indexer-is-deprecated\n",
      "  label_test = labeled_data.ix[idx_test]\n"
     ]
    }
   ],
   "source": [
    "# Split H into P and Q\n",
    "PQ = em.split_train_test(H, train_proportion=0.5, random_state=0)\n",
    "P = PQ['train']\n",
    "Q = PQ['test']"
   ]
  },
  {
   "cell_type": "code",
   "execution_count": 97,
   "metadata": {},
   "outputs": [
    {
     "name": "stderr",
     "output_type": "stream",
     "text": [
      "/Library/Frameworks/Python.framework/Versions/3.7/lib/python3.7/site-packages/py_entitymatching/evaluation/evaluation.py:172: FutureWarning: \n",
      ".ix is deprecated. Please use\n",
      ".loc for label based indexing or\n",
      ".iloc for positional indexing\n",
      "\n",
      "See the documentation here:\n",
      "http://pandas.pydata.org/pandas-docs/stable/user_guide/indexing.html#ix-indexer-is-deprecated\n",
      "  false_pos_ls = list(new_data_frame.ix[false_positive_indices].index.values)\n",
      "/Library/Frameworks/Python.framework/Versions/3.7/lib/python3.7/site-packages/py_entitymatching/evaluation/evaluation.py:173: FutureWarning: \n",
      ".ix is deprecated. Please use\n",
      ".loc for label based indexing or\n",
      ".iloc for positional indexing\n",
      "\n",
      "See the documentation here:\n",
      "http://pandas.pydata.org/pandas-docs/stable/user_guide/indexing.html#ix-indexer-is-deprecated\n",
      "  false_neg_ls = list(new_data_frame.ix[false_negative_indices].index.values)\n",
      "/Library/Frameworks/Python.framework/Versions/3.7/lib/python3.7/site-packages/py_entitymatching/debugmatcher/debug_gui_utils.py:69: FutureWarning: \n",
      ".ix is deprecated. Please use\n",
      ".loc for label based indexing or\n",
      ".iloc for positional indexing\n",
      "\n",
      "See the documentation here:\n",
      "http://pandas.pydata.org/pandas-docs/stable/user_guide/indexing.html#ix-indexer-is-deprecated\n",
      "  d = table.ix[ls]\n"
     ]
    }
   ],
   "source": [
    "# Debug RF matcher using GUI\n",
    "em.vis_debug_dt(dt, P, Q, \n",
    "        exclude_attrs=['_id', 'ltable_id', 'rtable_id', 'label'],\n",
    "        target_attr='label')\n",
    "\n",
    "# We see with the debugger that the false negatives have completely different values in the Title attribute.\n",
    "# This is most likly because we removed all of the features that compare the Title attribute from each table earlier. \n"
   ]
  },
  {
   "cell_type": "code",
   "execution_count": 98,
   "metadata": {},
   "outputs": [
    {
     "data": {
      "text/html": [
       "<div>\n",
       "<style scoped>\n",
       "    .dataframe tbody tr th:only-of-type {\n",
       "        vertical-align: middle;\n",
       "    }\n",
       "\n",
       "    .dataframe tbody tr th {\n",
       "        vertical-align: top;\n",
       "    }\n",
       "\n",
       "    .dataframe thead th {\n",
       "        text-align: right;\n",
       "    }\n",
       "</style>\n",
       "<table border=\"1\" class=\"dataframe\">\n",
       "  <thead>\n",
       "    <tr style=\"text-align: right;\">\n",
       "      <th></th>\n",
       "      <th>_id</th>\n",
       "      <th>ltable_id</th>\n",
       "      <th>rtable_id</th>\n",
       "      <th>id_id_lev_dist</th>\n",
       "      <th>authors_authors_lev_sim</th>\n",
       "      <th>year_year_exm</th>\n",
       "      <th>year_year_anm</th>\n",
       "      <th>year_year_lev_dist</th>\n",
       "      <th>year_year_lev_sim</th>\n",
       "      <th>label</th>\n",
       "      <th>predicted_labels</th>\n",
       "      <th>proba</th>\n",
       "    </tr>\n",
       "  </thead>\n",
       "  <tbody>\n",
       "    <tr>\n",
       "      <th>371</th>\n",
       "      <td>371</td>\n",
       "      <td>l650</td>\n",
       "      <td>r1594</td>\n",
       "      <td>4.0</td>\n",
       "      <td>0.120000</td>\n",
       "      <td>1.0</td>\n",
       "      <td>1.0</td>\n",
       "      <td>0.0</td>\n",
       "      <td>1.0</td>\n",
       "      <td>1</td>\n",
       "      <td>0</td>\n",
       "      <td>0.500000</td>\n",
       "    </tr>\n",
       "    <tr>\n",
       "      <th>259</th>\n",
       "      <td>259</td>\n",
       "      <td>l938</td>\n",
       "      <td>r1090</td>\n",
       "      <td>5.0</td>\n",
       "      <td>0.200000</td>\n",
       "      <td>1.0</td>\n",
       "      <td>1.0</td>\n",
       "      <td>0.0</td>\n",
       "      <td>1.0</td>\n",
       "      <td>1</td>\n",
       "      <td>0</td>\n",
       "      <td>0.333333</td>\n",
       "    </tr>\n",
       "    <tr>\n",
       "      <th>346</th>\n",
       "      <td>346</td>\n",
       "      <td>l1681</td>\n",
       "      <td>r693</td>\n",
       "      <td>4.0</td>\n",
       "      <td>0.238095</td>\n",
       "      <td>1.0</td>\n",
       "      <td>1.0</td>\n",
       "      <td>0.0</td>\n",
       "      <td>1.0</td>\n",
       "      <td>1</td>\n",
       "      <td>0</td>\n",
       "      <td>0.500000</td>\n",
       "    </tr>\n",
       "    <tr>\n",
       "      <th>184</th>\n",
       "      <td>184</td>\n",
       "      <td>l891</td>\n",
       "      <td>r485</td>\n",
       "      <td>4.0</td>\n",
       "      <td>0.137931</td>\n",
       "      <td>1.0</td>\n",
       "      <td>1.0</td>\n",
       "      <td>0.0</td>\n",
       "      <td>1.0</td>\n",
       "      <td>1</td>\n",
       "      <td>0</td>\n",
       "      <td>0.500000</td>\n",
       "    </tr>\n",
       "    <tr>\n",
       "      <th>11</th>\n",
       "      <td>11</td>\n",
       "      <td>l1189</td>\n",
       "      <td>r1674</td>\n",
       "      <td>4.0</td>\n",
       "      <td>0.222222</td>\n",
       "      <td>1.0</td>\n",
       "      <td>1.0</td>\n",
       "      <td>0.0</td>\n",
       "      <td>1.0</td>\n",
       "      <td>1</td>\n",
       "      <td>0</td>\n",
       "      <td>0.250000</td>\n",
       "    </tr>\n",
       "    <tr>\n",
       "      <th>121</th>\n",
       "      <td>121</td>\n",
       "      <td>l169</td>\n",
       "      <td>r521</td>\n",
       "      <td>4.0</td>\n",
       "      <td>0.153846</td>\n",
       "      <td>1.0</td>\n",
       "      <td>1.0</td>\n",
       "      <td>0.0</td>\n",
       "      <td>1.0</td>\n",
       "      <td>1</td>\n",
       "      <td>0</td>\n",
       "      <td>0.500000</td>\n",
       "    </tr>\n",
       "    <tr>\n",
       "      <th>267</th>\n",
       "      <td>267</td>\n",
       "      <td>l120</td>\n",
       "      <td>r1181</td>\n",
       "      <td>4.0</td>\n",
       "      <td>0.216667</td>\n",
       "      <td>1.0</td>\n",
       "      <td>1.0</td>\n",
       "      <td>0.0</td>\n",
       "      <td>1.0</td>\n",
       "      <td>1</td>\n",
       "      <td>0</td>\n",
       "      <td>0.500000</td>\n",
       "    </tr>\n",
       "    <tr>\n",
       "      <th>147</th>\n",
       "      <td>147</td>\n",
       "      <td>l867</td>\n",
       "      <td>r1263</td>\n",
       "      <td>4.0</td>\n",
       "      <td>0.142857</td>\n",
       "      <td>1.0</td>\n",
       "      <td>1.0</td>\n",
       "      <td>0.0</td>\n",
       "      <td>1.0</td>\n",
       "      <td>1</td>\n",
       "      <td>0</td>\n",
       "      <td>0.333333</td>\n",
       "    </tr>\n",
       "  </tbody>\n",
       "</table>\n",
       "</div>"
      ],
      "text/plain": [
       "     _id ltable_id rtable_id  id_id_lev_dist  authors_authors_lev_sim  \\\n",
       "371  371      l650     r1594             4.0                 0.120000   \n",
       "259  259      l938     r1090             5.0                 0.200000   \n",
       "346  346     l1681      r693             4.0                 0.238095   \n",
       "184  184      l891      r485             4.0                 0.137931   \n",
       "11    11     l1189     r1674             4.0                 0.222222   \n",
       "121  121      l169      r521             4.0                 0.153846   \n",
       "267  267      l120     r1181             4.0                 0.216667   \n",
       "147  147      l867     r1263             4.0                 0.142857   \n",
       "\n",
       "     year_year_exm  year_year_anm  year_year_lev_dist  year_year_lev_sim  \\\n",
       "371            1.0            1.0                 0.0                1.0   \n",
       "259            1.0            1.0                 0.0                1.0   \n",
       "346            1.0            1.0                 0.0                1.0   \n",
       "184            1.0            1.0                 0.0                1.0   \n",
       "11             1.0            1.0                 0.0                1.0   \n",
       "121            1.0            1.0                 0.0                1.0   \n",
       "267            1.0            1.0                 0.0                1.0   \n",
       "147            1.0            1.0                 0.0                1.0   \n",
       "\n",
       "     label  predicted_labels     proba  \n",
       "371      1                 0  0.500000  \n",
       "259      1                 0  0.333333  \n",
       "346      1                 0  0.500000  \n",
       "184      1                 0  0.500000  \n",
       "11       1                 0  0.250000  \n",
       "121      1                 0  0.500000  \n",
       "267      1                 0  0.500000  \n",
       "147      1                 0  0.333333  "
      ]
     },
     "execution_count": 98,
     "metadata": {},
     "output_type": "execute_result"
    }
   ],
   "source": [
    "# We can see which tuples are not predicted correctly\n",
    "H[H['label'] != H['predicted_labels']]"
   ]
  },
  {
   "cell_type": "code",
   "execution_count": null,
   "metadata": {},
   "outputs": [],
   "source": [
    "#### Use trigger to improve result"
   ]
  },
  {
   "cell_type": "code",
   "execution_count": 99,
   "metadata": {},
   "outputs": [],
   "source": [
    "# Use the constructor to create a trigger\n",
    "mt = em.MatchTrigger()"
   ]
  },
  {
   "cell_type": "code",
   "execution_count": 100,
   "metadata": {},
   "outputs": [
    {
     "data": {
      "text/plain": [
       "odict_keys(['_rule_0', '_rule_1'])"
      ]
     },
     "execution_count": 100,
     "metadata": {},
     "output_type": "execute_result"
    }
   ],
   "source": [
    "# Add two rules to the rule-based matcher\n",
    "\n",
    "# Since we removed all of the features comparing Title earlier, we want to now add a rule that compares Titles\n",
    "mt.add_cond_rule(['title_title_lev_sim(ltuple, rtuple) > 0.7'], feature_table)\n",
    "# The rule has two predicates, one comparing the titles and the other looking for an exact match of the years\n",
    "mt.add_cond_rule(['title_title_lev_sim(ltuple, rtuple) > 0.4', 'year_year_exm(ltuple, rtuple) == 1'], feature_table)\n",
    "mt.get_rule_names()"
   ]
  },
  {
   "cell_type": "code",
   "execution_count": 101,
   "metadata": {},
   "outputs": [
    {
     "data": {
      "text/plain": [
       "True"
      ]
     },
     "execution_count": 101,
     "metadata": {},
     "output_type": "execute_result"
    }
   ],
   "source": [
    "# Since we are using the trigger to fix a problem related to false negatives, we want the condition to be \n",
    "# True and the action to be 1. This way, the trigger will set a prediction to 1 when the rule returns True.\n",
    "\n",
    "mt.add_cond_status(True)\n",
    "mt.add_action(1)"
   ]
  },
  {
   "cell_type": "code",
   "execution_count": 102,
   "metadata": {},
   "outputs": [
    {
     "name": "stderr",
     "output_type": "stream",
     "text": [
      "/Library/Frameworks/Python.framework/Versions/3.7/lib/python3.7/site-packages/py_entitymatching/utils/generic_helper.py:228: FutureWarning: \n",
      ".ix is deprecated. Please use\n",
      ".loc for label based indexing or\n",
      ".iloc for positional indexing\n",
      "\n",
      "See the documentation here:\n",
      "http://pandas.pydata.org/pandas-docs/stable/user_guide/indexing.html#ix-indexer-is-deprecated\n",
      "  return (ft_df.ix[feature_name]['is_auto_generated'],\n",
      "/Library/Frameworks/Python.framework/Versions/3.7/lib/python3.7/site-packages/py_entitymatching/utils/generic_helper.py:229: FutureWarning: \n",
      ".ix is deprecated. Please use\n",
      ".loc for label based indexing or\n",
      ".iloc for positional indexing\n",
      "\n",
      "See the documentation here:\n",
      "http://pandas.pydata.org/pandas-docs/stable/user_guide/indexing.html#ix-indexer-is-deprecated\n",
      "  ft_df.ix[feature_name]['simfunction'],\n",
      "/Library/Frameworks/Python.framework/Versions/3.7/lib/python3.7/site-packages/py_entitymatching/utils/generic_helper.py:230: FutureWarning: \n",
      ".ix is deprecated. Please use\n",
      ".loc for label based indexing or\n",
      ".iloc for positional indexing\n",
      "\n",
      "See the documentation here:\n",
      "http://pandas.pydata.org/pandas-docs/stable/user_guide/indexing.html#ix-indexer-is-deprecated\n",
      "  ft_df.ix[feature_name]['left_attribute'],\n",
      "/Library/Frameworks/Python.framework/Versions/3.7/lib/python3.7/site-packages/py_entitymatching/utils/generic_helper.py:231: FutureWarning: \n",
      ".ix is deprecated. Please use\n",
      ".loc for label based indexing or\n",
      ".iloc for positional indexing\n",
      "\n",
      "See the documentation here:\n",
      "http://pandas.pydata.org/pandas-docs/stable/user_guide/indexing.html#ix-indexer-is-deprecated\n",
      "  ft_df.ix[feature_name]['right_attribute'],\n",
      "/Library/Frameworks/Python.framework/Versions/3.7/lib/python3.7/site-packages/py_entitymatching/utils/generic_helper.py:232: FutureWarning: \n",
      ".ix is deprecated. Please use\n",
      ".loc for label based indexing or\n",
      ".iloc for positional indexing\n",
      "\n",
      "See the documentation here:\n",
      "http://pandas.pydata.org/pandas-docs/stable/user_guide/indexing.html#ix-indexer-is-deprecated\n",
      "  ft_df.ix[feature_name]['left_attr_tokenizer'],\n",
      "/Library/Frameworks/Python.framework/Versions/3.7/lib/python3.7/site-packages/py_entitymatching/utils/generic_helper.py:233: FutureWarning: \n",
      ".ix is deprecated. Please use\n",
      ".loc for label based indexing or\n",
      ".iloc for positional indexing\n",
      "\n",
      "See the documentation here:\n",
      "http://pandas.pydata.org/pandas-docs/stable/user_guide/indexing.html#ix-indexer-is-deprecated\n",
      "  ft_df.ix[feature_name]['right_attr_tokenizer'],\n",
      "/Library/Frameworks/Python.framework/Versions/3.7/lib/python3.7/site-packages/py_entitymatching/triggers/matchtrigger.py:236: FutureWarning: \n",
      ".ix is deprecated. Please use\n",
      ".loc for label based indexing or\n",
      ".iloc for positional indexing\n",
      "\n",
      "See the documentation here:\n",
      "http://pandas.pydata.org/pandas-docs/stable/user_guide/indexing.html#ix-indexer-is-deprecated\n",
      "  l_row = l_tbl.ix[row[lid_idx]]\n",
      "/Library/Frameworks/Python.framework/Versions/3.7/lib/python3.7/site-packages/py_entitymatching/triggers/matchtrigger.py:237: FutureWarning: \n",
      ".ix is deprecated. Please use\n",
      ".loc for label based indexing or\n",
      ".iloc for positional indexing\n",
      "\n",
      "See the documentation here:\n",
      "http://pandas.pydata.org/pandas-docs/stable/user_guide/indexing.html#ix-indexer-is-deprecated\n",
      "  r_row = r_tbl.ix[row[rid_idx]]\n"
     ]
    }
   ],
   "source": [
    "## Use the Trigger to improve results\n",
    "preds = mt.execute(input_table=H, label_column='predicted_labels', inplace=False)\n"
   ]
  },
  {
   "cell_type": "code",
   "execution_count": 103,
   "metadata": {},
   "outputs": [
    {
     "data": {
      "text/html": [
       "<div>\n",
       "<style scoped>\n",
       "    .dataframe tbody tr th:only-of-type {\n",
       "        vertical-align: middle;\n",
       "    }\n",
       "\n",
       "    .dataframe tbody tr th {\n",
       "        vertical-align: top;\n",
       "    }\n",
       "\n",
       "    .dataframe thead th {\n",
       "        text-align: right;\n",
       "    }\n",
       "</style>\n",
       "<table border=\"1\" class=\"dataframe\">\n",
       "  <thead>\n",
       "    <tr style=\"text-align: right;\">\n",
       "      <th></th>\n",
       "      <th>_id</th>\n",
       "      <th>ltable_id</th>\n",
       "      <th>rtable_id</th>\n",
       "      <th>id_id_lev_dist</th>\n",
       "      <th>authors_authors_lev_sim</th>\n",
       "      <th>year_year_exm</th>\n",
       "      <th>year_year_anm</th>\n",
       "      <th>year_year_lev_dist</th>\n",
       "      <th>year_year_lev_sim</th>\n",
       "      <th>label</th>\n",
       "      <th>predicted_labels</th>\n",
       "      <th>proba</th>\n",
       "    </tr>\n",
       "  </thead>\n",
       "  <tbody>\n",
       "    <tr>\n",
       "      <th>11</th>\n",
       "      <td>11</td>\n",
       "      <td>l1189</td>\n",
       "      <td>r1674</td>\n",
       "      <td>4.0</td>\n",
       "      <td>0.222222</td>\n",
       "      <td>1.0</td>\n",
       "      <td>1.0</td>\n",
       "      <td>0.0</td>\n",
       "      <td>1.0</td>\n",
       "      <td>1</td>\n",
       "      <td>0</td>\n",
       "      <td>0.25</td>\n",
       "    </tr>\n",
       "    <tr>\n",
       "      <th>86</th>\n",
       "      <td>86</td>\n",
       "      <td>l1570</td>\n",
       "      <td>r516</td>\n",
       "      <td>4.0</td>\n",
       "      <td>0.223684</td>\n",
       "      <td>1.0</td>\n",
       "      <td>1.0</td>\n",
       "      <td>0.0</td>\n",
       "      <td>1.0</td>\n",
       "      <td>0</td>\n",
       "      <td>1</td>\n",
       "      <td>0.00</td>\n",
       "    </tr>\n",
       "    <tr>\n",
       "      <th>267</th>\n",
       "      <td>267</td>\n",
       "      <td>l120</td>\n",
       "      <td>r1181</td>\n",
       "      <td>4.0</td>\n",
       "      <td>0.216667</td>\n",
       "      <td>1.0</td>\n",
       "      <td>1.0</td>\n",
       "      <td>0.0</td>\n",
       "      <td>1.0</td>\n",
       "      <td>1</td>\n",
       "      <td>0</td>\n",
       "      <td>0.50</td>\n",
       "    </tr>\n",
       "  </tbody>\n",
       "</table>\n",
       "</div>"
      ],
      "text/plain": [
       "     _id ltable_id rtable_id  id_id_lev_dist  authors_authors_lev_sim  \\\n",
       "11    11     l1189     r1674             4.0                 0.222222   \n",
       "86    86     l1570      r516             4.0                 0.223684   \n",
       "267  267      l120     r1181             4.0                 0.216667   \n",
       "\n",
       "     year_year_exm  year_year_anm  year_year_lev_dist  year_year_lev_sim  \\\n",
       "11             1.0            1.0                 0.0                1.0   \n",
       "86             1.0            1.0                 0.0                1.0   \n",
       "267            1.0            1.0                 0.0                1.0   \n",
       "\n",
       "     label  predicted_labels  proba  \n",
       "11       1                 0   0.25  \n",
       "86       0                 1   0.00  \n",
       "267      1                 0   0.50  "
      ]
     },
     "execution_count": 103,
     "metadata": {},
     "output_type": "execute_result"
    }
   ],
   "source": [
    "# We were able to significantly reduce the number of incorrectly labeled tuple pairs\n",
    "preds[preds['label'] != preds['predicted_labels']]"
   ]
  },
  {
   "cell_type": "code",
   "execution_count": 104,
   "metadata": {},
   "outputs": [
    {
     "data": {
      "text/html": [
       "<div>\n",
       "<style scoped>\n",
       "    .dataframe tbody tr th:only-of-type {\n",
       "        vertical-align: middle;\n",
       "    }\n",
       "\n",
       "    .dataframe tbody tr th {\n",
       "        vertical-align: top;\n",
       "    }\n",
       "\n",
       "    .dataframe thead th {\n",
       "        text-align: right;\n",
       "    }\n",
       "</style>\n",
       "<table border=\"1\" class=\"dataframe\">\n",
       "  <thead>\n",
       "    <tr style=\"text-align: right;\">\n",
       "      <th></th>\n",
       "      <th>_id</th>\n",
       "      <th>ltable_id</th>\n",
       "      <th>rtable_id</th>\n",
       "      <th>ltable_title</th>\n",
       "      <th>ltable_authors</th>\n",
       "      <th>ltable_year</th>\n",
       "      <th>rtable_title</th>\n",
       "      <th>rtable_authors</th>\n",
       "      <th>rtable_year</th>\n",
       "      <th>label</th>\n",
       "    </tr>\n",
       "  </thead>\n",
       "  <tbody>\n",
       "    <tr>\n",
       "      <th>11</th>\n",
       "      <td>11</td>\n",
       "      <td>l1189</td>\n",
       "      <td>r1674</td>\n",
       "      <td>Weimin Du, Xiangning Liu, Abdelsalam Helal</td>\n",
       "      <td>Multiview Access Protocols for Large-Scale Replication</td>\n",
       "      <td>1998</td>\n",
       "      <td>Multiview access protocols for large-scale replication</td>\n",
       "      <td>Xiangning Liu, Abdelsalam Helal, Weimin Du</td>\n",
       "      <td>1998</td>\n",
       "      <td>1</td>\n",
       "    </tr>\n",
       "    <tr>\n",
       "      <th>267</th>\n",
       "      <td>267</td>\n",
       "      <td>l120</td>\n",
       "      <td>r1181</td>\n",
       "      <td>w. Bruce kroft, James callan, erik w. Brown</td>\n",
       "      <td>fast incrremental indexiing for fulltext informtion retreval</td>\n",
       "      <td>1994</td>\n",
       "      <td>Fast Incremental Indexing For Full-Text Information Retrieval</td>\n",
       "      <td>Eric W. Brown, James P. Callan, W. Bruce Croft</td>\n",
       "      <td>1994</td>\n",
       "      <td>1</td>\n",
       "    </tr>\n",
       "  </tbody>\n",
       "</table>\n",
       "</div>"
      ],
      "text/plain": [
       "     _id ltable_id rtable_id                                 ltable_title  \\\n",
       "11    11     l1189     r1674   Weimin Du, Xiangning Liu, Abdelsalam Helal   \n",
       "267  267      l120     r1181  w. Bruce kroft, James callan, erik w. Brown   \n",
       "\n",
       "                                                   ltable_authors  \\\n",
       "11         Multiview Access Protocols for Large-Scale Replication   \n",
       "267  fast incrremental indexiing for fulltext informtion retreval   \n",
       "\n",
       "     ltable_year  \\\n",
       "11          1998   \n",
       "267         1994   \n",
       "\n",
       "                                                      rtable_title  \\\n",
       "11          Multiview access protocols for large-scale replication   \n",
       "267  Fast Incremental Indexing For Full-Text Information Retrieval   \n",
       "\n",
       "                                     rtable_authors  rtable_year  label  \n",
       "11       Xiangning Liu, Abdelsalam Helal, Weimin Du         1998      1  \n",
       "267  Eric W. Brown, James P. Callan, W. Bruce Croft         1994      1  "
      ]
     },
     "execution_count": 104,
     "metadata": {},
     "output_type": "execute_result"
    }
   ],
   "source": [
    "# We can see that the two tuples that are still labeled incorrectly are due to the title and authors being in the\n",
    "# wrong column for one of the tuples.\n",
    "pd.concat([S[S['_id'] == 11], S[S['_id'] == 267]])"
   ]
  },
  {
   "cell_type": "code",
   "execution_count": null,
   "metadata": {},
   "outputs": [],
   "source": []
  }
 ],
 "metadata": {
  "kernelspec": {
   "display_name": "Python 3",
   "language": "python",
   "name": "python3"
  },
  "language_info": {
   "codemirror_mode": {
    "name": "ipython",
    "version": 3
   },
   "file_extension": ".py",
   "mimetype": "text/x-python",
   "name": "python",
   "nbconvert_exporter": "python",
   "pygments_lexer": "ipython3",
   "version": "3.7.9"
  }
 },
 "nbformat": 4,
 "nbformat_minor": 2
}
