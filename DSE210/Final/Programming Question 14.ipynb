{
 "cells": [
  {
   "cell_type": "markdown",
   "metadata": {},
   "source": [
    "# 14. Programming Question"
   ]
  },
  {
   "cell_type": "markdown",
   "metadata": {},
   "source": [
    "Consider the weather data that we used before. This time we will focus on Philadelphia and New York\n",
    "weather data. Similar to what we did before, we will again convert Kelvin to Fahrenheit. Assuming\n",
    "we are in March 2017, we will try to understand if the temperatures of this month are within known\n",
    "limits."
   ]
  },
  {
   "cell_type": "markdown",
   "metadata": {},
   "source": [
    "Weather Data Set: https://www.kaggle.com/selfishgene/historical-hourly-weather-data/data"
   ]
  },
  {
   "cell_type": "code",
   "execution_count": 29,
   "metadata": {},
   "outputs": [
    {
     "data": {
      "text/html": [
       "<div>\n",
       "<style scoped>\n",
       "    .dataframe tbody tr th:only-of-type {\n",
       "        vertical-align: middle;\n",
       "    }\n",
       "\n",
       "    .dataframe tbody tr th {\n",
       "        vertical-align: top;\n",
       "    }\n",
       "\n",
       "    .dataframe thead th {\n",
       "        text-align: right;\n",
       "    }\n",
       "</style>\n",
       "<table border=\"1\" class=\"dataframe\">\n",
       "  <thead>\n",
       "    <tr style=\"text-align: right;\">\n",
       "      <th></th>\n",
       "      <th>datetime</th>\n",
       "      <th>Vancouver</th>\n",
       "      <th>Portland</th>\n",
       "      <th>San Francisco</th>\n",
       "      <th>Seattle</th>\n",
       "      <th>Los Angeles</th>\n",
       "      <th>San Diego</th>\n",
       "      <th>Las Vegas</th>\n",
       "      <th>Phoenix</th>\n",
       "      <th>Albuquerque</th>\n",
       "      <th>...</th>\n",
       "      <th>Philadelphia</th>\n",
       "      <th>New York</th>\n",
       "      <th>Montreal</th>\n",
       "      <th>Boston</th>\n",
       "      <th>Beersheba</th>\n",
       "      <th>Tel Aviv District</th>\n",
       "      <th>Eilat</th>\n",
       "      <th>Haifa</th>\n",
       "      <th>Nahariyya</th>\n",
       "      <th>Jerusalem</th>\n",
       "    </tr>\n",
       "  </thead>\n",
       "  <tbody>\n",
       "    <tr>\n",
       "      <th>0</th>\n",
       "      <td>2012-10-01 12:00:00</td>\n",
       "      <td>NaN</td>\n",
       "      <td>NaN</td>\n",
       "      <td>NaN</td>\n",
       "      <td>NaN</td>\n",
       "      <td>NaN</td>\n",
       "      <td>NaN</td>\n",
       "      <td>NaN</td>\n",
       "      <td>NaN</td>\n",
       "      <td>NaN</td>\n",
       "      <td>...</td>\n",
       "      <td>NaN</td>\n",
       "      <td>NaN</td>\n",
       "      <td>NaN</td>\n",
       "      <td>NaN</td>\n",
       "      <td>NaN</td>\n",
       "      <td>NaN</td>\n",
       "      <td>96.710000</td>\n",
       "      <td>NaN</td>\n",
       "      <td>NaN</td>\n",
       "      <td>NaN</td>\n",
       "    </tr>\n",
       "    <tr>\n",
       "      <th>1</th>\n",
       "      <td>2012-10-01 13:00:00</td>\n",
       "      <td>52.664000</td>\n",
       "      <td>48.074000</td>\n",
       "      <td>61.394000</td>\n",
       "      <td>47.570000</td>\n",
       "      <td>65.696000</td>\n",
       "      <td>65.084000</td>\n",
       "      <td>68.468000</td>\n",
       "      <td>74.210000</td>\n",
       "      <td>53.546000</td>\n",
       "      <td>...</td>\n",
       "      <td>54.464000</td>\n",
       "      <td>59.126000</td>\n",
       "      <td>54.824000</td>\n",
       "      <td>57.236000</td>\n",
       "      <td>93.992000</td>\n",
       "      <td>90.176000</td>\n",
       "      <td>99.374000</td>\n",
       "      <td>88.25</td>\n",
       "      <td>88.25</td>\n",
       "      <td>86.63</td>\n",
       "    </tr>\n",
       "    <tr>\n",
       "      <th>2</th>\n",
       "      <td>2012-10-01 14:00:00</td>\n",
       "      <td>52.662274</td>\n",
       "      <td>48.079854</td>\n",
       "      <td>61.384987</td>\n",
       "      <td>47.564990</td>\n",
       "      <td>65.692734</td>\n",
       "      <td>65.090302</td>\n",
       "      <td>68.455654</td>\n",
       "      <td>74.225315</td>\n",
       "      <td>53.608205</td>\n",
       "      <td>...</td>\n",
       "      <td>54.523774</td>\n",
       "      <td>59.175817</td>\n",
       "      <td>54.832370</td>\n",
       "      <td>57.264966</td>\n",
       "      <td>93.992000</td>\n",
       "      <td>88.088000</td>\n",
       "      <td>99.222385</td>\n",
       "      <td>88.25</td>\n",
       "      <td>88.25</td>\n",
       "      <td>86.63</td>\n",
       "    </tr>\n",
       "    <tr>\n",
       "      <th>3</th>\n",
       "      <td>2012-10-01 15:00:00</td>\n",
       "      <td>52.658596</td>\n",
       "      <td>48.095360</td>\n",
       "      <td>61.359113</td>\n",
       "      <td>47.551699</td>\n",
       "      <td>65.683120</td>\n",
       "      <td>65.108039</td>\n",
       "      <td>68.435919</td>\n",
       "      <td>74.266677</td>\n",
       "      <td>53.751113</td>\n",
       "      <td>...</td>\n",
       "      <td>54.692283</td>\n",
       "      <td>59.318491</td>\n",
       "      <td>54.856021</td>\n",
       "      <td>57.347009</td>\n",
       "      <td>93.634723</td>\n",
       "      <td>88.037314</td>\n",
       "      <td>99.070769</td>\n",
       "      <td>88.25</td>\n",
       "      <td>88.25</td>\n",
       "      <td>86.63</td>\n",
       "    </tr>\n",
       "    <tr>\n",
       "      <th>4</th>\n",
       "      <td>2012-10-01 16:00:00</td>\n",
       "      <td>52.654918</td>\n",
       "      <td>48.110866</td>\n",
       "      <td>61.333238</td>\n",
       "      <td>47.538407</td>\n",
       "      <td>65.673506</td>\n",
       "      <td>65.125777</td>\n",
       "      <td>68.416183</td>\n",
       "      <td>74.308039</td>\n",
       "      <td>53.894021</td>\n",
       "      <td>...</td>\n",
       "      <td>54.860793</td>\n",
       "      <td>59.461166</td>\n",
       "      <td>54.879672</td>\n",
       "      <td>57.429052</td>\n",
       "      <td>93.191359</td>\n",
       "      <td>87.958426</td>\n",
       "      <td>98.919154</td>\n",
       "      <td>88.25</td>\n",
       "      <td>88.25</td>\n",
       "      <td>86.63</td>\n",
       "    </tr>\n",
       "  </tbody>\n",
       "</table>\n",
       "<p>5 rows × 37 columns</p>\n",
       "</div>"
      ],
      "text/plain": [
       "              datetime  Vancouver   Portland  San Francisco    Seattle  \\\n",
       "0  2012-10-01 12:00:00        NaN        NaN            NaN        NaN   \n",
       "1  2012-10-01 13:00:00  52.664000  48.074000      61.394000  47.570000   \n",
       "2  2012-10-01 14:00:00  52.662274  48.079854      61.384987  47.564990   \n",
       "3  2012-10-01 15:00:00  52.658596  48.095360      61.359113  47.551699   \n",
       "4  2012-10-01 16:00:00  52.654918  48.110866      61.333238  47.538407   \n",
       "\n",
       "   Los Angeles  San Diego  Las Vegas    Phoenix  Albuquerque  ...  \\\n",
       "0          NaN        NaN        NaN        NaN          NaN  ...   \n",
       "1    65.696000  65.084000  68.468000  74.210000    53.546000  ...   \n",
       "2    65.692734  65.090302  68.455654  74.225315    53.608205  ...   \n",
       "3    65.683120  65.108039  68.435919  74.266677    53.751113  ...   \n",
       "4    65.673506  65.125777  68.416183  74.308039    53.894021  ...   \n",
       "\n",
       "   Philadelphia   New York   Montreal     Boston  Beersheba  \\\n",
       "0           NaN        NaN        NaN        NaN        NaN   \n",
       "1     54.464000  59.126000  54.824000  57.236000  93.992000   \n",
       "2     54.523774  59.175817  54.832370  57.264966  93.992000   \n",
       "3     54.692283  59.318491  54.856021  57.347009  93.634723   \n",
       "4     54.860793  59.461166  54.879672  57.429052  93.191359   \n",
       "\n",
       "   Tel Aviv District      Eilat  Haifa  Nahariyya  Jerusalem  \n",
       "0                NaN  96.710000    NaN        NaN        NaN  \n",
       "1          90.176000  99.374000  88.25      88.25      86.63  \n",
       "2          88.088000  99.222385  88.25      88.25      86.63  \n",
       "3          88.037314  99.070769  88.25      88.25      86.63  \n",
       "4          87.958426  98.919154  88.25      88.25      86.63  \n",
       "\n",
       "[5 rows x 37 columns]"
      ]
     },
     "execution_count": 29,
     "metadata": {},
     "output_type": "execute_result"
    }
   ],
   "source": [
    "# import libraries\n",
    "\n",
    "import pandas as pd\n",
    "import numpy as np\n",
    "import matplotlib.pyplot as plt\n",
    "from scipy.stats import norm\n",
    "\n",
    "# read the data\n",
    "temp = pd.read_csv('temperature.csv')\n",
    "\n",
    "# Convert Kelvin to Fahrenheit to Improve our Understanding\n",
    "temp.iloc[:,1:] = (temp.iloc[:,1:] - 273.15) * 1.8 + 32\n",
    "\n",
    "temp.head(5)"
   ]
  },
  {
   "cell_type": "markdown",
   "metadata": {},
   "source": [
    "(a) Filter March temperature records from all years, using all the data from all March records,\n",
    "calculate the mean and standard deviation. Do this separately for Philadelphia and New York.\n",
    "Later we will use these parameters as population parameters."
   ]
  },
  {
   "cell_type": "code",
   "execution_count": 30,
   "metadata": {},
   "outputs": [
    {
     "name": "stdout",
     "output_type": "stream",
     "text": [
      "PHL All March -> Mean: 39.41389525661157 , Std: 11.513138047695563\n",
      "NY All March -> Mean: 38.50143366971251 , Std: 10.611241372088655\n"
     ]
    }
   ],
   "source": [
    "# filter data for Philadelphia and New York separately\n",
    "\n",
    "temp_phl_mar = temp[temp['datetime'].str.contains('-03-')][['datetime', 'Philadelphia']]\n",
    "temp_ny_mar = temp[temp['datetime'].str.contains('-03-')][['datetime', 'New York']]\n",
    "\n",
    "# find the mean and standard deviation for all March records\n",
    "mean_phl_mar = np.mean(temp_phl_mar)\n",
    "stdev_phl_mar = np.std(temp_phl_mar)\n",
    "\n",
    "print('PHL All March ->', 'Mean:', mean_phl_mar[0], ', Std:', stdev_phl_mar[0])\n",
    "\n",
    "mean_ny_mar = np.mean(temp_ny_mar)\n",
    "stdev_ny_mar = np.std(temp_ny_mar)\n",
    "\n",
    "print('NY All March ->', 'Mean:', mean_ny_mar[0], ', Std:', stdev_ny_mar[0])"
   ]
  },
  {
   "cell_type": "markdown",
   "metadata": {},
   "source": [
    "(b) Filter the data for March 2017. Using this data calculate the sample means for Philadelphia and\n",
    "New York. We will use these sample means as our observations. Using these observations provide\n",
    "99% confidence intervals for the true mean. Do this separately for Philadelphia and New York.\n",
    "We already know the true means from part a. Do the true means lie within the intervals?"
   ]
  },
  {
   "cell_type": "code",
   "execution_count": 31,
   "metadata": {},
   "outputs": [
    {
     "name": "stdout",
     "output_type": "stream",
     "text": [
      "PHL March 2017 -> Mean: 39.49993730170569\n",
      "NY March 2017 -> Mean: 37.88183870967743\n"
     ]
    }
   ],
   "source": [
    "# calculate the sample means for March 2017 on each place\n",
    "\n",
    "temp_phl_mar17 = temp[temp['datetime'].str.contains('2017-03')][['datetime', 'Philadelphia']]\n",
    "temp_ny_mar17 = temp[temp['datetime'].str.contains('2017-03')][['datetime', 'New York']]\n",
    "\n",
    "mean_phl_mar17 = np.mean(temp_phl_mar17)\n",
    "mean_ny_mar17 = np.mean(temp_ny_mar17)\n",
    "\n",
    "print('PHL March 2017 ->', 'Mean:', mean_phl_mar17[0])\n",
    "print('NY March 2017 ->', 'Mean:', mean_ny_mar17[0])"
   ]
  },
  {
   "cell_type": "code",
   "execution_count": 32,
   "metadata": {},
   "outputs": [
    {
     "name": "stdout",
     "output_type": "stream",
     "text": [
      "PHL 99% CI -> Lower Bound: 38.41270005051068 , Upper Bound: 40.587174552900706\n",
      "NY 99% CI -> Lower Bound: 36.879771605699155 , Upper Bound: 38.88390581365571\n"
     ]
    }
   ],
   "source": [
    "# calculate the confidence interval separately for each place\n",
    "\n",
    "z_s = norm.ppf(0.995) # for 99% confidence interval, leave 1% probability on the tails\n",
    "\n",
    "upper_bound_z_phl = mean_phl_mar17 + z_s * stdev_phl_mar / np.sqrt(len(temp_phl_mar17))\n",
    "lower_bound_z_phl = mean_phl_mar17 - z_s * stdev_phl_mar / np.sqrt(len(temp_phl_mar17))\n",
    "print('PHL 99% CI ->', 'Lower Bound:', lower_bound_z_phl[0], ', Upper Bound:', upper_bound_z_phl[0])\n",
    "\n",
    "upper_bound_z_ny = mean_ny_mar17 + z_s * stdev_ny_mar / np.sqrt(len(temp_ny_mar17))\n",
    "lower_bound_z_ny = mean_ny_mar17 - z_s * stdev_ny_mar / np.sqrt(len(temp_ny_mar17))\n",
    "print('NY 99% CI ->', 'Lower Bound:', lower_bound_z_ny[0], ', Upper Bound:', upper_bound_z_ny[0])"
   ]
  },
  {
   "cell_type": "code",
   "execution_count": 33,
   "metadata": {},
   "outputs": [
    {
     "data": {
      "image/png": "[encoded data removed]",
      "text/plain": [
       "<Figure size 864x288 with 1 Axes>"
      ]
     },
     "metadata": {
      "needs_background": "light"
     },
     "output_type": "display_data"
    },
    {
     "data": {
      "image/png": "[encoded data removed]",
      "text/plain": [
       "<Figure size 864x288 with 1 Axes>"
      ]
     },
     "metadata": {
      "needs_background": "light"
     },
     "output_type": "display_data"
    },
    {
     "data": {
      "text/plain": [
       "'\\nThe plots below show clearly that the true mean (green vertical line) lies within \\nthe 99% confidence intervals (red vertical lines)\\n'"
      ]
     },
     "execution_count": 33,
     "metadata": {},
     "output_type": "execute_result"
    }
   ],
   "source": [
    "# plot the confidence interval and the true mean for each\n",
    "\n",
    "plt.figure(figsize=(12,4))\n",
    "plt.hist(temp_phl_mar17['Philadelphia'], bins = 50, density=True)\n",
    "plt.title('Philadelphia Hourly Weather Data Mar 2017')\n",
    "plt.plot([mean_phl_mar,mean_phl_mar],[0, 0.175], 'k-', lw=4, color='green')\n",
    "plt.plot([upper_bound_z_phl,upper_bound_z_phl],[0, 0.175], 'k-', lw=4, color='red')\n",
    "plt.plot([lower_bound_z_phl,lower_bound_z_phl],[0, 0.175], 'k-', lw=4, color='red')\n",
    "plt.show()\n",
    "\n",
    "plt.figure(figsize=(12,4))\n",
    "plt.hist(temp_ny_mar17['New York'], bins = 50, density=True)\n",
    "plt.title('New York Hourly Weather Data Mar 2017')\n",
    "plt.plot([mean_ny_mar,mean_ny_mar],[0, 0.175], 'k-', lw=4, color='green')\n",
    "plt.plot([upper_bound_z_ny,upper_bound_z_ny],[0, 0.175], 'k-', lw=4, color='red')\n",
    "plt.plot([lower_bound_z_ny,lower_bound_z_ny],[0, 0.175], 'k-', lw=4, color='red')\n",
    "plt.show()\n",
    "\n",
    "\"\"\"\n",
    "The plots below show clearly that the true mean (green vertical line) lies within \n",
    "the 99% confidence intervals (red vertical lines)\n",
    "\"\"\""
   ]
  },
  {
   "cell_type": "markdown",
   "metadata": {},
   "source": [
    "(c) Based on our prior knowledge we assert that March average temperatures for Philadelphia and\n",
    "New York are the same. Based on March 2017 temperature recordings we would like to test our\n",
    "prior knowledge. Conduct this test using hypothesis testing, please state your hypotheses as well.\n",
    "For population standard deviations use the standard deviations that you found in part a"
   ]
  },
  {
   "cell_type": "markdown",
   "metadata": {},
   "source": [
    "Hypothesis Testing\n",
    "\n",
    "$Null Hypothesis$, $H_0$ : March average temperatures for Philadelphia and New York are the same\n",
    "\n",
    "$Alternative Hypothesis$, $H_1$ : March average temperatures for Philadelphia and New York are not the same\n",
    "\n",
    "In other words,\n",
    "\n",
    "$H_0$: $T_{Philadelphia}$ - $T_{New York}$ = 0\n",
    "\n",
    "$H_1$: $T_{Philadelphia}$ - $T_{New York}$ $\\neq$ 0"
   ]
  },
  {
   "cell_type": "code",
   "execution_count": 34,
   "metadata": {},
   "outputs": [
    {
     "name": "stdout",
     "output_type": "stream",
     "text": [
      "z statistic: 2.8188683808462716\n",
      "p-value: 0.0024096637596531245\n"
     ]
    },
    {
     "data": {
      "text/plain": [
       "'\\np-value is very small, we can reject the null hypothesis with a 99% confidence interval\\n'"
      ]
     },
     "execution_count": 34,
     "metadata": {},
     "output_type": "execute_result"
    }
   ],
   "source": [
    "# calculate the z statistics with mean for March 2017 and standard deviation from March (population)\n",
    "\n",
    "z = ((mean_phl_mar17[0] - mean_ny_mar17[0]) - (0 - 0)) / np.sqrt(stdev_phl_mar[0]**2/len(temp_phl_mar17) + \n",
    "                                                                 stdev_ny_mar[0]**2/len(temp_ny_mar17))\n",
    "print(f'z statistic: {z}')\n",
    "print('p-value:', 1-norm.cdf(z))\n",
    "\n",
    "\"\"\"\n",
    "p-value is very small, we can reject the null hypothesis with a 99% confidence interval\n",
    "\"\"\""
   ]
  },
  {
   "cell_type": "markdown",
   "metadata": {},
   "source": [
    "(d) Repeat part c but this time assume that your sample sizes are 10. This means we have the same\n",
    "average March 2017 temperatures as part c. We will again use the population standard deviation\n",
    "from part a. However, we will use a different sample size this time."
   ]
  },
  {
   "cell_type": "code",
   "execution_count": 35,
   "metadata": {},
   "outputs": [
    {
     "name": "stdout",
     "output_type": "stream",
     "text": [
      "z statistic: 0.32680472755672585\n",
      "p-value: 0.3719077917654091\n"
     ]
    },
    {
     "data": {
      "text/plain": [
       "'\\np-value is not small enough to reject the null hypothesis under a 99% confidence interval\\n'"
      ]
     },
     "execution_count": 35,
     "metadata": {},
     "output_type": "execute_result"
    }
   ],
   "source": [
    "# calculate the z statistics with mean for March 2017 and standard deviation from March, but now for sample size of 10\n",
    "\n",
    "no_samples = 10\n",
    "z = ((mean_phl_mar17[0] - mean_ny_mar17[0]) - (0 - 0)) / np.sqrt(stdev_phl_mar[0]**2/no_samples + \n",
    "                                                                 stdev_ny_mar[0]**2/no_samples)\n",
    "print(f'z statistic: {z}')\n",
    "print('p-value:', 1-norm.cdf(z))\n",
    "\n",
    "\"\"\"\n",
    "p-value is not small enough to reject the null hypothesis under a 99% confidence interval\n",
    "\"\"\""
   ]
  },
  {
   "cell_type": "code",
   "execution_count": null,
   "metadata": {},
   "outputs": [],
   "source": []
  }
 ],
 "metadata": {
  "kernelspec": {
   "display_name": "Python 3",
   "language": "python",
   "name": "python3"
  },
  "language_info": {
   "codemirror_mode": {
    "name": "ipython",
    "version": 3
   },
   "file_extension": ".py",
   "mimetype": "text/x-python",
   "name": "python",
   "nbconvert_exporter": "python",
   "pygments_lexer": "ipython3",
   "version": "3.7.1"
  }
 },
 "nbformat": 4,
 "nbformat_minor": 2
}
