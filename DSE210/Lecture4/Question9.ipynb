{
 "cells": [
  {
   "cell_type": "markdown",
   "metadata": {},
   "source": [
    "## 9. Handwritten digit recognition using a Gaussian generative model"
   ]
  },
  {
   "cell_type": "code",
   "execution_count": 1,
   "metadata": {},
   "outputs": [],
   "source": [
    "# import libraries\n",
    "from struct import unpack\n",
    "import numpy as np\n",
    "import matplotlib.pylab as plt \n",
    "import gzip\n",
    "from sklearn.model_selection import train_test_split\n",
    "from collections import Counter\n",
    "from scipy.stats import multivariate_normal\n",
    "import random"
   ]
  },
  {
   "cell_type": "markdown",
   "metadata": {},
   "source": [
    "### (a) Load the MNIST training data."
   ]
  },
  {
   "cell_type": "code",
   "execution_count": 2,
   "metadata": {},
   "outputs": [],
   "source": [
    "# define load and display functions\n",
    "def loadmnist(imagefile, labelfile):\n",
    "    \"\"\"\n",
    "    Load the MNIST data set\n",
    "    \"\"\"\n",
    "    # Open the images with gzip in read binary mode\n",
    "    images = gzip.open(imagefile, 'rb')\n",
    "    labels = gzip.open(labelfile, 'rb')\n",
    "\n",
    "    # Get metadata for images\n",
    "    images.read(4)  # skip the magic_number\n",
    "    number_of_images = images.read(4)\n",
    "    number_of_images = unpack('>I', number_of_images)[0]\n",
    "    rows = images.read(4)\n",
    "    rows = unpack('>I', rows)[0]\n",
    "    cols = images.read(4)\n",
    "    cols = unpack('>I', cols)[0]\n",
    "\n",
    "    # Get metadata for labels\n",
    "    labels.read(4)\n",
    "    N = labels.read(4)\n",
    "    N = unpack('>I', N)[0]\n",
    "\n",
    "    # Get data\n",
    "    x = np.zeros((N, rows*cols), dtype=np.uint64)  # Initialize numpy array\n",
    "    y = np.zeros(N, dtype=np.uint8)  # Initialize numpy array\n",
    "    for i in range(N):\n",
    "        for j in range(rows*cols):\n",
    "            tmp_pixel = images.read(1)  # Just a single byte\n",
    "            tmp_pixel = unpack('>B', tmp_pixel)[0]\n",
    "            x[i][j] = tmp_pixel\n",
    "        tmp_label = labels.read(1)\n",
    "        y[i] = unpack('>B', tmp_label)[0]\n",
    "\n",
    "    images.close()\n",
    "    labels.close()\n",
    "    return (x, y)\n",
    "\n",
    "def displaychar(image):\n",
    "    plt.imshow(np.reshape(image, (28,28)), cmap=plt.cm.gray)\n",
    "    plt.axis('off')\n",
    "    plt.show()"
   ]
  },
  {
   "cell_type": "code",
   "execution_count": 3,
   "metadata": {},
   "outputs": [
    {
     "name": "stdout",
     "output_type": "stream",
     "text": [
      "(60000, 784)\n",
      "(60000,)\n"
     ]
    }
   ],
   "source": [
    "# read image and label .gz files\n",
    "imagefile_train = '/Users/gio/Documents/DSE/2019-rgm001/DSE210/Lecture4/train-images-idx3-ubyte.gz'\n",
    "labelfile_train = '/Users/gio/Documents/DSE/2019-rgm001/DSE210/Lecture4/train-labels-idx1-ubyte.gz'\n",
    "x_train,y_train = loadmnist(imagefile_train, labelfile_train)\n",
    "\n",
    "print(x_train.shape)\n",
    "print(y_train.shape)"
   ]
  },
  {
   "cell_type": "code",
   "execution_count": 4,
   "metadata": {},
   "outputs": [
    {
     "data": {
      "image/png": "[encoded data removed]",
      "text/plain": [
       "<Figure size 432x288 with 1 Axes>"
      ]
     },
     "metadata": {
      "needs_background": "light"
     },
     "output_type": "display_data"
    }
   ],
   "source": [
    "# show first data point\n",
    "displaychar(x_train[0])"
   ]
  },
  {
   "cell_type": "markdown",
   "metadata": {},
   "source": [
    "### (b) Split the training set into training (size 50000) and validation (size 10000). Also load the test data. "
   ]
  },
  {
   "cell_type": "code",
   "execution_count": 5,
   "metadata": {},
   "outputs": [
    {
     "name": "stdout",
     "output_type": "stream",
     "text": [
      "(50000, 784)\n",
      "(50000,)\n",
      "(10000, 784)\n",
      "(10000,)\n"
     ]
    }
   ],
   "source": [
    "# split into train and validation\n",
    "x_train, x_val, y_train, y_val = train_test_split(x_train,y_train, test_size=1/6, random_state=1)\n",
    "\n",
    "imagefile_test = '/Users/gio/Documents/DSE/2019-rgm001/DSE210/Lecture4/t10k-images-idx3-ubyte.gz'\n",
    "labelfile_test = '/Users/gio/Documents/DSE/2019-rgm001/DSE210/Lecture4/t10k-labels-idx1-ubyte.gz'\n",
    "\n",
    "print(x_train.shape)\n",
    "print(y_train.shape)\n",
    "print(x_val.shape)\n",
    "print(y_val.shape)"
   ]
  },
  {
   "cell_type": "code",
   "execution_count": 6,
   "metadata": {},
   "outputs": [
    {
     "name": "stdout",
     "output_type": "stream",
     "text": [
      "(10000, 784)\n",
      "(10000,)\n"
     ]
    }
   ],
   "source": [
    "# load test data\n",
    "x_test,y_test = loadmnist(imagefile_test, labelfile_test)\n",
    "\n",
    "print(x_test.shape)\n",
    "print(y_test.shape)"
   ]
  },
  {
   "cell_type": "markdown",
   "metadata": {},
   "source": [
    "### (c) Fit a Gaussian generative model to the training data of 50000 pts."
   ]
  },
  {
   "cell_type": "code",
   "execution_count": 7,
   "metadata": {},
   "outputs": [
    {
     "name": "stdout",
     "output_type": "stream",
     "text": [
      "Counter({1: 0.11184, 7: 0.10422, 3: 0.10204, 9: 0.09966, 2: 0.0996, 0: 0.09942, 6: 0.0981, 8: 0.09782, 4: 0.0972, 5: 0.0901})\n"
     ]
    }
   ],
   "source": [
    "# determine the class probabilities\n",
    "pi = Counter(y_train)\n",
    "for y, count in pi.items():\n",
    "    pi[y] = count/len(y_train)\n",
    "print(pi)"
   ]
  },
  {
   "cell_type": "code",
   "execution_count": 8,
   "metadata": {},
   "outputs": [
    {
     "data": {
      "text/plain": [
       "dict_keys([8, 6, 3, 0, 2, 4, 1, 9, 7, 5])"
      ]
     },
     "execution_count": 8,
     "metadata": {},
     "output_type": "execute_result"
    }
   ],
   "source": [
    "# generate dictionary with train data, labels as keys and data as lists\n",
    "train_data_dict = {}\n",
    "for idx, train_data in enumerate(x_train):\n",
    "    curr_y = y_train[idx] # get current label\n",
    "    if curr_y in train_data_dict:\n",
    "        temp_data = train_data_dict[curr_y]\n",
    "        temp_data.append(train_data)\n",
    "    else:\n",
    "        train_data_dict[curr_y] = [train_data]\n",
    "        \n",
    "train_data_dict.keys()"
   ]
  },
  {
   "cell_type": "code",
   "execution_count": 9,
   "metadata": {},
   "outputs": [
    {
     "name": "stdout",
     "output_type": "stream",
     "text": [
      "dict_keys([8, 6, 3, 0, 2, 4, 1, 9, 7, 5])\n",
      "dict_keys([8, 6, 3, 0, 2, 4, 1, 9, 7, 5])\n"
     ]
    }
   ],
   "source": [
    "# calculate mean and covariance\n",
    "mean_dict, cov_dict = {}, {}\n",
    "for y, x in train_data_dict.items():\n",
    "    mean_dict[y] = np.mean(x, axis=0)\n",
    "    cov_dict[y] = np.cov(x, rowvar=False)\n",
    "\n",
    "print(mean_dict.keys())\n",
    "print(cov_dict.keys())"
   ]
  },
  {
   "cell_type": "code",
   "execution_count": 10,
   "metadata": {},
   "outputs": [],
   "source": [
    "# Fit a Gaussian to each digit, let it be Pj = N(mean_j, covariance_j)\n",
    "def Gaussian(x, pi, mean_dict, cov_dict, c):\n",
    "    \"\"\"\n",
    "    Fit a Gaussian to each digit\n",
    "    Pj = N(mean_j, covariance_j)\n",
    "    \"\"\"\n",
    "    Prob_gaussian = []\n",
    "    for j in range(len(train_data_dict)):\n",
    "        # smooth covariance matrix with cI, where c is a constant and I is the identity matrix\n",
    "        cov_smooth = cov_dict[j] + (c * np.identity(784))\n",
    "\n",
    "        # work in log scale for pi_j*Pj for each j\n",
    "        log_pi_j = np.log(pi[j])\n",
    "        log_Pj = multivariate_normal.logpdf(x, mean_dict[j], cov_smooth)\n",
    "        \n",
    "        Prob_gaussian.append(log_pi_j + log_Pj)\n",
    "    return Prob_gaussian"
   ]
  },
  {
   "cell_type": "markdown",
   "metadata": {},
   "source": [
    "### (d) What value of c is right? Use the validation set to choose."
   ]
  },
  {
   "cell_type": "code",
   "execution_count": 22,
   "metadata": {},
   "outputs": [],
   "source": [
    "# function to find the error rate\n",
    "def get_error_rate(x, y, pi, mean_dict, cov_dict, c):\n",
    "    \"\"\"\n",
    "    Find error rate for predicted and label\n",
    "    \"\"\"\n",
    "    count_wrong = 0\n",
    "    missclass_digits = []\n",
    "    for idx, data in enumerate(x):\n",
    "        \n",
    "        # get predicted label from gaussian model, pick the max digit j\n",
    "        prob_gaussian = Gaussian(data, pi, mean_dict, cov_dict, c)\n",
    "        predicted = prob_gaussian.index(max(prob_gaussian))\n",
    "        \n",
    "        # find number of wrong predictions\n",
    "        if predicted != y[idx]:\n",
    "            count_wrong += 1\n",
    "            missclass_digits.append((predicted, data))\n",
    "    \n",
    "    # return error rate and missclassified digits\n",
    "    error_rate = float(count_wrong)/len(x)\n",
    "    return (error_rate, missclass_digits)"
   ]
  },
  {
   "cell_type": "code",
   "execution_count": 13,
   "metadata": {},
   "outputs": [],
   "source": [
    "# test different c values in the validation set\n",
    "c_values = [0.1, 10, 100, 1000, 10000, 100000]\n",
    "error_rate_list = []\n",
    "for c in c_values:\n",
    "    # only do 1000 values from the validation set \n",
    "    error_rate, missclass_digits = get_error_rate(x_val[:1000], y_val[:1000], pi, mean_dict, cov_dict, c)\n",
    "    error_rate_list.append(error_rate)"
   ]
  },
  {
   "cell_type": "code",
   "execution_count": 14,
   "metadata": {},
   "outputs": [
    {
     "name": "stdout",
     "output_type": "stream",
     "text": [
      "c-value:  0.1 \t Error Rate:  0.204\n",
      "c-value:  10 \t Error Rate:  0.135\n",
      "c-value:  100 \t Error Rate:  0.096\n",
      "c-value:  1000 \t Error Rate:  0.066\n",
      "c-value:  10000 \t Error Rate:  0.06\n",
      "c-value:  100000 \t Error Rate:  0.163\n"
     ]
    }
   ],
   "source": [
    "# print c values and error rate\n",
    "for c,e in zip(c_values, error_rate_list):\n",
    "    print('c-value: ',c,'\\t Error Rate: ', e)"
   ]
  },
  {
   "cell_type": "markdown",
   "metadata": {},
   "source": [
    "### (e) Find the error rate on the test data, pick five at random to display, and list the posterior probailities Pr(y|x)"
   ]
  },
  {
   "cell_type": "code",
   "execution_count": 15,
   "metadata": {},
   "outputs": [],
   "source": [
    "# use found c value and model to find the error rate on the MNIST test set\n",
    "c = 10000\n",
    "error_rate_test, missclass_digits_test = get_error_rate(x_test, y_test, pi, mean_dict, cov_dict, c)"
   ]
  },
  {
   "cell_type": "code",
   "execution_count": 23,
   "metadata": {},
   "outputs": [
    {
     "name": "stdout",
     "output_type": "stream",
     "text": [
      "MNIST Test Set, Error Rate:  5.2 %\n"
     ]
    }
   ],
   "source": [
    "print('MNIST Test Set, Error Rate: ', 100*error_rate_test, '%')"
   ]
  },
  {
   "cell_type": "code",
   "execution_count": 54,
   "metadata": {},
   "outputs": [
    {
     "name": "stdout",
     "output_type": "stream",
     "text": [
      "Digit 1 -> Predicted: 9 ; Data:\n"
     ]
    },
    {
     "data": {
      "image/png": "[encoded data removed]",
      "text/plain": [
       "<Figure size 432x288 with 1 Axes>"
      ]
     },
     "metadata": {
      "needs_background": "light"
     },
     "output_type": "display_data"
    },
    {
     "name": "stdout",
     "output_type": "stream",
     "text": [
      "Digit 2 -> Predicted: 0 ; Data:\n"
     ]
    },
    {
     "data": {
      "image/png": "[encoded data removed]",
      "text/plain": [
       "<Figure size 432x288 with 1 Axes>"
      ]
     },
     "metadata": {
      "needs_background": "light"
     },
     "output_type": "display_data"
    },
    {
     "name": "stdout",
     "output_type": "stream",
     "text": [
      "Digit 3 -> Predicted: 1 ; Data:\n"
     ]
    },
    {
     "data": {
      "image/png": "[encoded data removed]",
      "text/plain": [
       "<Figure size 432x288 with 1 Axes>"
      ]
     },
     "metadata": {
      "needs_background": "light"
     },
     "output_type": "display_data"
    },
    {
     "name": "stdout",
     "output_type": "stream",
     "text": [
      "Digit 4 -> Predicted: 1 ; Data:\n"
     ]
    },
    {
     "data": {
      "image/png": "[encoded data removed]",
      "text/plain": [
       "<Figure size 432x288 with 1 Axes>"
      ]
     },
     "metadata": {
      "needs_background": "light"
     },
     "output_type": "display_data"
    },
    {
     "name": "stdout",
     "output_type": "stream",
     "text": [
      "Digit 5 -> Predicted: 7 ; Data:\n"
     ]
    },
    {
     "data": {
      "image/png": "[encoded data removed]",
      "text/plain": [
       "<Figure size 432x288 with 1 Axes>"
      ]
     },
     "metadata": {
      "needs_background": "light"
     },
     "output_type": "display_data"
    }
   ],
   "source": [
    "# display 5 prediction errors at random\n",
    "five_digits = []\n",
    "digit = 1\n",
    "for y, data in random.choices(missclass_digits_test, k=5):\n",
    "    five_digits.append(data)\n",
    "    print('Digit', digit, '-> Predicted:', y, '; Data:')\n",
    "    displaychar(data)\n",
    "    digit += 1"
   ]
  },
  {
   "cell_type": "code",
   "execution_count": 56,
   "metadata": {},
   "outputs": [
    {
     "name": "stdout",
     "output_type": "stream",
     "text": [
      "Label:  0\n",
      "Log Probability for digit 1 :  -4483.697084518334\n",
      "Log Probability for digit 2 :  -4444.30697586138\n",
      "Log Probability for digit 3 :  -4465.044400905459\n",
      "Log Probability for digit 4 :  -4457.331395261728\n",
      "Log Probability for digit 5 :  -4503.799358574147\n",
      "Label:  1\n",
      "Log Probability for digit 1 :  -4480.386065294797\n",
      "Log Probability for digit 2 :  -4546.324965009476\n",
      "Log Probability for digit 3 :  -4403.689499990516\n",
      "Log Probability for digit 4 :  -4409.697307134239\n",
      "Log Probability for digit 5 :  -4482.298690276768\n",
      "Label:  2\n",
      "Log Probability for digit 1 :  -4467.34197460876\n",
      "Log Probability for digit 2 :  -4457.332595925104\n",
      "Log Probability for digit 3 :  -4455.1015772407745\n",
      "Log Probability for digit 4 :  -4446.86889622704\n",
      "Log Probability for digit 5 :  -4479.895689210735\n",
      "Label:  3\n",
      "Log Probability for digit 1 :  -4451.760085966908\n",
      "Log Probability for digit 2 :  -4453.267948208004\n",
      "Log Probability for digit 3 :  -4439.943401267994\n",
      "Log Probability for digit 4 :  -4449.413949464036\n",
      "Log Probability for digit 5 :  -4472.173411277892\n",
      "Label:  4\n",
      "Log Probability for digit 1 :  -4438.599656019027\n",
      "Log Probability for digit 2 :  -4501.691012602742\n",
      "Log Probability for digit 3 :  -4441.343200368346\n",
      "Log Probability for digit 4 :  -4450.591000455753\n",
      "Log Probability for digit 5 :  -4442.626879414615\n",
      "Label:  5\n",
      "Log Probability for digit 1 :  -4454.638825667363\n",
      "Log Probability for digit 2 :  -4464.551580175303\n",
      "Log Probability for digit 3 :  -4439.135790537592\n",
      "Log Probability for digit 4 :  -4430.185176688551\n",
      "Log Probability for digit 5 :  -4467.203539877663\n",
      "Label:  6\n",
      "Log Probability for digit 1 :  -4495.411637290953\n",
      "Log Probability for digit 2 :  -4497.04006442228\n",
      "Log Probability for digit 3 :  -4446.432408161289\n",
      "Log Probability for digit 4 :  -4448.540639210706\n",
      "Log Probability for digit 5 :  -4500.940810787345\n",
      "Label:  7\n",
      "Log Probability for digit 1 :  -4426.171758151863\n",
      "Log Probability for digit 2 :  -4515.582887455524\n",
      "Log Probability for digit 3 :  -4447.23793079878\n",
      "Log Probability for digit 4 :  -4443.917138470196\n",
      "Log Probability for digit 5 :  -4420.041365962184\n",
      "Label:  8\n",
      "Log Probability for digit 1 :  -4423.131763142699\n",
      "Log Probability for digit 2 :  -4472.27485501851\n",
      "Log Probability for digit 3 :  -4415.322842102786\n",
      "Log Probability for digit 4 :  -4432.219689629081\n",
      "Log Probability for digit 5 :  -4442.66421322814\n",
      "Label:  9\n",
      "Log Probability for digit 1 :  -4416.616440773744\n",
      "Log Probability for digit 2 :  -4496.348408913746\n",
      "Log Probability for digit 3 :  -4438.632386304114\n",
      "Log Probability for digit 4 :  -4446.975023815595\n",
      "Log Probability for digit 5 :  -4422.962963344602\n"
     ]
    }
   ],
   "source": [
    "# list the posterior probability Pr(y|x) of each of the ten classes\n",
    "\"\"\"\n",
    "We can calculate the posterior probability as:\n",
    "log(Pr(y|x)) = log(Pr(x|y)) + log(Pr(y))\n",
    "\n",
    "The evidence term Pr(x) can be ignored by normalizing across the classes\n",
    "\"\"\"\n",
    "\n",
    "# calculate the posterior probability for each class\n",
    "c = 10000\n",
    "log_Pr_y_x = Gaussian(five_digits, pi, mean_dict, cov_dict, c)\n",
    "\n",
    "# display the probabilities\n",
    "for j, data in enumerate(log_Pr_y_x):\n",
    "    print('Label: ', j)\n",
    "    for k, digit in enumerate(data):\n",
    "        print('Log Probability for digit', k+1, ': ', digit)"
   ]
  },
  {
   "cell_type": "code",
   "execution_count": null,
   "metadata": {},
   "outputs": [],
   "source": []
  }
 ],
 "metadata": {
  "kernelspec": {
   "display_name": "Python 3",
   "language": "python",
   "name": "python3"
  },
  "language_info": {
   "codemirror_mode": {
    "name": "ipython",
    "version": 3
   },
   "file_extension": ".py",
   "mimetype": "text/x-python",
   "name": "python",
   "nbconvert_exporter": "python",
   "pygments_lexer": "ipython3",
   "version": "3.7.1"
  }
 },
 "nbformat": 4,
 "nbformat_minor": 2
}
