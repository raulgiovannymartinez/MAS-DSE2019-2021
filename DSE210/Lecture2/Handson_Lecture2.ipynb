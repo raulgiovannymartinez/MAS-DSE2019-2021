{
 "cells": [
  {
   "cell_type": "markdown",
   "metadata": {
    "slideshow": {
     "slide_type": "slide"
    }
   },
   "source": [
    "# 1- Random Variables, Expectation, and Variance"
   ]
  },
  {
   "cell_type": "raw",
   "metadata": {
    "slideshow": {
     "slide_type": "fragment"
    }
   },
   "source": [
    "Outline:\n",
    "    Expectation\n",
    "    Variance"
   ]
  },
  {
   "cell_type": "markdown",
   "metadata": {
    "slideshow": {
     "slide_type": "slide"
    }
   },
   "source": [
    "#### Let's model rolling a dice experiment in Python:"
   ]
  },
  {
   "cell_type": "code",
   "execution_count": 5,
   "metadata": {
    "slideshow": {
     "slide_type": "fragment"
    }
   },
   "outputs": [],
   "source": [
    "import numpy as np\n",
    "\n",
    "x_values = np.array([1, 2, 3, 4, 5, 6])\n",
    "x_probabilities = np.array([1/6, 1/6, 1/6, 1/6, 1/6, 1/6])"
   ]
  },
  {
   "cell_type": "markdown",
   "metadata": {
    "slideshow": {
     "slide_type": "slide"
    }
   },
   "source": [
    "#### Expectation of X:\n",
    "$$\\displaystyle \\operatorname {E} [X]=\\sum _{i=1}^{k}x_{i}\\,p_{i}=x_{1}p_{1}+x_{2}p_{2}+\\cdots +x_{k}p_{k}.$$"
   ]
  },
  {
   "cell_type": "code",
   "execution_count": 6,
   "metadata": {
    "slideshow": {
     "slide_type": "fragment"
    }
   },
   "outputs": [
    {
     "name": "stdout",
     "output_type": "stream",
     "text": [
      "3.5\n"
     ]
    }
   ],
   "source": [
    "E_X = np.sum(x_values * x_probabilities)\n",
    "print(E_X)"
   ]
  },
  {
   "cell_type": "markdown",
   "metadata": {
    "slideshow": {
     "slide_type": "slide"
    }
   },
   "source": [
    "$$Var(X) =\\operatorname {E} \\left[X^{2}\\right]-\\operatorname {E} [X]^{2}\n",
    "\\\\=\\sum _{i=1}^{n}p_{i}\\cdot (x_{i}-\\mu )^{2}$$"
   ]
  },
  {
   "cell_type": "code",
   "execution_count": 7,
   "metadata": {
    "scrolled": true,
    "slideshow": {
     "slide_type": "fragment"
    }
   },
   "outputs": [
    {
     "name": "stdout",
     "output_type": "stream",
     "text": [
      "2.916666666666666\n"
     ]
    }
   ],
   "source": [
    "E_X2 = np.sum(x_values**2 * x_probabilities)\n",
    "Var_X = E_X2 - E_X**2\n",
    "print(Var_X)"
   ]
  },
  {
   "cell_type": "code",
   "execution_count": 12,
   "metadata": {
    "slideshow": {
     "slide_type": "fragment"
    }
   },
   "outputs": [
    {
     "data": {
      "text/plain": [
       "2.9166666666666665"
      ]
     },
     "execution_count": 12,
     "metadata": {},
     "output_type": "execute_result"
    }
   ],
   "source": [
    "np.sum((x_values - E_X)**2 * x_probabilities)"
   ]
  },
  {
   "cell_type": "markdown",
   "metadata": {
    "slideshow": {
     "slide_type": "slide"
    }
   },
   "source": [
    "#### Since all of the probabilies are equal in our example, we can use built-in functions too:"
   ]
  },
  {
   "cell_type": "code",
   "execution_count": 41,
   "metadata": {
    "slideshow": {
     "slide_type": "fragment"
    }
   },
   "outputs": [
    {
     "data": {
      "text/plain": [
       "3.5"
      ]
     },
     "execution_count": 41,
     "metadata": {},
     "output_type": "execute_result"
    }
   ],
   "source": [
    "np.mean(x_values)"
   ]
  },
  {
   "cell_type": "code",
   "execution_count": 42,
   "metadata": {
    "slideshow": {
     "slide_type": "fragment"
    }
   },
   "outputs": [
    {
     "data": {
      "text/plain": [
       "2.9166666666666665"
      ]
     },
     "execution_count": 42,
     "metadata": {},
     "output_type": "execute_result"
    }
   ],
   "source": [
    "np.var(x_values)"
   ]
  },
  {
   "cell_type": "code",
   "execution_count": 43,
   "metadata": {
    "slideshow": {
     "slide_type": "fragment"
    }
   },
   "outputs": [
    {
     "data": {
      "text/plain": [
       "1.707825127659933"
      ]
     },
     "execution_count": 43,
     "metadata": {},
     "output_type": "execute_result"
    }
   ],
   "source": [
    "np.std(x_values)"
   ]
  },
  {
   "cell_type": "code",
   "execution_count": 44,
   "metadata": {
    "slideshow": {
     "slide_type": "fragment"
    }
   },
   "outputs": [
    {
     "data": {
      "text/plain": [
       "1.707825127659933"
      ]
     },
     "execution_count": 44,
     "metadata": {},
     "output_type": "execute_result"
    }
   ],
   "source": [
    "np.sqrt(np.var(x_values))"
   ]
  },
  {
   "cell_type": "markdown",
   "metadata": {
    "slideshow": {
     "slide_type": "slide"
    }
   },
   "source": [
    "#### We can use these functions to find the means and variances of larger datasets"
   ]
  },
  {
   "cell_type": "code",
   "execution_count": 32,
   "metadata": {
    "slideshow": {
     "slide_type": "fragment"
    }
   },
   "outputs": [
    {
     "name": "stdout",
     "output_type": "stream",
     "text": [
      "10000\n"
     ]
    }
   ],
   "source": [
    "x_values = np.random.normal(loc = 10, scale = 5.0, size = 10000)\n",
    "print(len(x_values))"
   ]
  },
  {
   "cell_type": "code",
   "execution_count": 33,
   "metadata": {
    "slideshow": {
     "slide_type": "fragment"
    }
   },
   "outputs": [
    {
     "data": {
      "text/plain": [
       "9.990532200516055"
      ]
     },
     "execution_count": 33,
     "metadata": {},
     "output_type": "execute_result"
    }
   ],
   "source": [
    "np.mean(x_values)"
   ]
  },
  {
   "cell_type": "code",
   "execution_count": 35,
   "metadata": {
    "slideshow": {
     "slide_type": "fragment"
    }
   },
   "outputs": [
    {
     "data": {
      "text/plain": [
       "24.5312307911498"
      ]
     },
     "execution_count": 35,
     "metadata": {},
     "output_type": "execute_result"
    }
   ],
   "source": [
    "np.var(x_values) #since sd(x) = sqrt(Var(x))"
   ]
  },
  {
   "cell_type": "markdown",
   "metadata": {
    "slideshow": {
     "slide_type": "slide"
    }
   },
   "source": [
    "## Try it yourself:\n",
    "- Write a function that calculates the expectation of a loaded dice. Your function should take the probabilities of the numbers\n",
    "on the dice and return the expectation of this dice. For example, when the input [0.1, 0.2, 0.3, 0.4, 0, 0] is given, the output should be 3. Here 0.1 stands for the probability of getting a 1 when the dice rolled, 0.2 stands for the prob. of 2, 0.3 3 ...\n",
    "- After you write your function, expectation_die(v), find the answer for expectation_die([0.1, 0.2, 0.3, 0.1, 0.1, 0.2]) and show the answer."
   ]
  },
  {
   "cell_type": "markdown",
   "metadata": {
    "slideshow": {
     "slide_type": "slide"
    }
   },
   "source": [
    "# 2- Modeling Data with Probability Distributions"
   ]
  },
  {
   "cell_type": "raw",
   "metadata": {
    "slideshow": {
     "slide_type": "fragment"
    }
   },
   "source": [
    "Outline:\n",
    "    - Binomial Distribution\n",
    "    - Geometric Distribution\n",
    "    - Normal Distribution\n",
    "    - Multinomial Distribution\n",
    "    - Poisson Distribution\n",
    "    - Multivariate Normal Distribution"
   ]
  },
  {
   "cell_type": "markdown",
   "metadata": {
    "slideshow": {
     "slide_type": "slide"
    }
   },
   "source": [
    "#### - Binomial Distribution"
   ]
  },
  {
   "cell_type": "markdown",
   "metadata": {
    "slideshow": {
     "slide_type": "slide"
    }
   },
   "source": [
    "#### np.random.binomial(n, p, size)\n",
    "\n",
    "- Draw samples from a binomial distribution.\n",
    "\n",
    "- Samples are drawn from a binomial distribution with specified parameters, n trials and p probability of success where n an integer >= 0 and p is in the interval [0,1]."
   ]
  },
  {
   "cell_type": "code",
   "execution_count": 7,
   "metadata": {
    "slideshow": {
     "slide_type": "slide"
    }
   },
   "outputs": [],
   "source": [
    "import numpy as np\n",
    "import matplotlib.pyplot as plt\n",
    "\n",
    "values = np.random.binomial(n = 20, p = 0.5, size = 10000) #Tossing a coin 20 times, simulated 10000 times"
   ]
  },
  {
   "cell_type": "code",
   "execution_count": 8,
   "metadata": {
    "scrolled": true,
    "slideshow": {
     "slide_type": "fragment"
    }
   },
   "outputs": [
    {
     "data": {
      "image/png": "[encoded data removed]",
      "text/plain": [
       "<Figure size 432x288 with 1 Axes>"
      ]
     },
     "metadata": {
      "needs_background": "light"
     },
     "output_type": "display_data"
    }
   ],
   "source": [
    "mybins = np.linspace(0, 20, 21)\n",
    "plt.xticks(mybins, fontsize = 10)\n",
    "hist_binom = plt.hist(x = values, bins = mybins, density = True)"
   ]
  },
  {
   "cell_type": "code",
   "execution_count": 9,
   "metadata": {
    "slideshow": {
     "slide_type": "slide"
    }
   },
   "outputs": [
    {
     "data": {
      "image/png": "[encoded data removed]",
      "text/plain": [
       "<Figure size 432x288 with 1 Axes>"
      ]
     },
     "metadata": {
      "needs_background": "light"
     },
     "output_type": "display_data"
    }
   ],
   "source": [
    "hist_binom2 = plt.hist(x = values, bins = 15, density = True)"
   ]
  },
  {
   "cell_type": "code",
   "execution_count": 10,
   "metadata": {
    "slideshow": {
     "slide_type": "slide"
    }
   },
   "outputs": [],
   "source": [
    "mean_values = np.mean(values)\n",
    "theoretical_mean = 20 * 0.5 #n.p\n",
    "variance_values = np.var(values)\n",
    "theoretical_var = 20 * 0.5 * 0.5 #n.p.(1-p)"
   ]
  },
  {
   "cell_type": "code",
   "execution_count": 11,
   "metadata": {
    "slideshow": {
     "slide_type": "fragment"
    }
   },
   "outputs": [
    {
     "name": "stdout",
     "output_type": "stream",
     "text": [
      "Experimental Mean = 9.9949\n",
      "Theoretical Mean = 10.0\n",
      "Experimental Variance = 4.80087399\n",
      "Theoretical Variance = 5.0\n"
     ]
    }
   ],
   "source": [
    "print('Experimental Mean =', mean_values)\n",
    "print('Theoretical Mean =', theoretical_mean)\n",
    "print('Experimental Variance =', variance_values)\n",
    "print('Theoretical Variance =', theoretical_var)"
   ]
  },
  {
   "cell_type": "markdown",
   "metadata": {
    "slideshow": {
     "slide_type": "slide"
    }
   },
   "source": [
    "#### - Geometric Distribution"
   ]
  },
  {
   "cell_type": "markdown",
   "metadata": {
    "slideshow": {
     "slide_type": "fragment"
    }
   },
   "source": [
    "#### np.random.geometric(p, size)\n",
    "- Draw samples from the geometric distribution.\n",
    "\n",
    "- Bernoulli trials are experiments with one of two outcomes: success or failure (an example of such an experiment is flipping a coin). The geometric distribution models the number of trials that must be run in order to achieve success. It is therefore supported on the positive integers, k = 1, 2, ....\n",
    "\n",
    "- The probability mass function of the geometric distribution is\n",
    "\n",
    "f(k) = (1 - p)^{k - 1} p\n",
    "\n",
    "where p is the probability of success of an individual trial."
   ]
  },
  {
   "cell_type": "code",
   "execution_count": 24,
   "metadata": {
    "slideshow": {
     "slide_type": "slide"
    }
   },
   "outputs": [],
   "source": [
    "values = np.random.geometric(p = 1/6, size = 10000) #Roll a die until 6 is seen, repeat this experiment for 10000 times"
   ]
  },
  {
   "cell_type": "code",
   "execution_count": 25,
   "metadata": {
    "slideshow": {
     "slide_type": "fragment"
    }
   },
   "outputs": [
    {
     "data": {
      "image/png": "[encoded data removed]",
      "text/plain": [
       "<Figure size 432x288 with 1 Axes>"
      ]
     },
     "metadata": {
      "needs_background": "light"
     },
     "output_type": "display_data"
    }
   ],
   "source": [
    "mybins = np.linspace(0, 30, 31)\n",
    "plt.xticks(mybins, fontsize = 9)\n",
    "hist_geom = plt.hist(x = values, bins = mybins, density = True)"
   ]
  },
  {
   "cell_type": "code",
   "execution_count": 26,
   "metadata": {
    "slideshow": {
     "slide_type": "slide"
    }
   },
   "outputs": [],
   "source": [
    "mean_values = np.mean(values)\n",
    "theoretical_mean = 1 / (1/6) #1/p\n",
    "variance_values = np.var(values)\n",
    "theoretical_var = (1 - 1/6) / (1/6)**2 #(1 - p) / p^2"
   ]
  },
  {
   "cell_type": "code",
   "execution_count": 27,
   "metadata": {
    "slideshow": {
     "slide_type": "fragment"
    }
   },
   "outputs": [
    {
     "name": "stdout",
     "output_type": "stream",
     "text": [
      "Experimental Mean = 6.0313\n",
      "Theoretical Mean = 6.0\n",
      "Experimental Variance = 30.861520309999992\n",
      "Theoretical Variance = 30.000000000000004\n"
     ]
    }
   ],
   "source": [
    "print('Experimental Mean =', mean_values)\n",
    "print('Theoretical Mean =', theoretical_mean)\n",
    "print('Experimental Variance =', variance_values)\n",
    "print('Theoretical Variance =', theoretical_var)"
   ]
  },
  {
   "cell_type": "markdown",
   "metadata": {
    "slideshow": {
     "slide_type": "slide"
    }
   },
   "source": [
    "#### - Normal Distribution"
   ]
  },
  {
   "cell_type": "markdown",
   "metadata": {
    "slideshow": {
     "slide_type": "fragment"
    }
   },
   "source": [
    "#### np.random.normal(loc=0.0, scale=1.0, size=None)\n",
    "- Draw random samples from a normal (Gaussian) distribution.\n",
    "\n",
    "- loc = mean\n",
    "- scale = standard deviation "
   ]
  },
  {
   "cell_type": "markdown",
   "metadata": {
    "slideshow": {
     "slide_type": "slide"
    }
   },
   "source": [
    "#### Repeat the coin tossing example under the normal approximation to binomial assumption\n",
    "- n = 100\n",
    "- p = 0.5"
   ]
  },
  {
   "cell_type": "code",
   "execution_count": 28,
   "metadata": {
    "slideshow": {
     "slide_type": "fragment"
    }
   },
   "outputs": [],
   "source": [
    "mean_approx = 100 * 0.5 #np\n",
    "std_approx = np.sqrt(100 * 0.5 * 0.5) # sqrt(n.p.(1-p))"
   ]
  },
  {
   "cell_type": "code",
   "execution_count": 29,
   "metadata": {
    "slideshow": {
     "slide_type": "slide"
    }
   },
   "outputs": [],
   "source": [
    "values = np.random.normal(loc = mean_approx, scale = std_approx, size = 10000)"
   ]
  },
  {
   "cell_type": "code",
   "execution_count": 30,
   "metadata": {
    "scrolled": true,
    "slideshow": {
     "slide_type": "fragment"
    }
   },
   "outputs": [
    {
     "data": {
      "image/png": "[encoded data removed]",
      "text/plain": [
       "<Figure size 432x288 with 1 Axes>"
      ]
     },
     "metadata": {
      "needs_background": "light"
     },
     "output_type": "display_data"
    }
   ],
   "source": [
    "mybins = np.linspace(26, 74, 49)\n",
    "plt.xticks(mybins, fontsize = 5)\n",
    "hist_normal = plt.hist(x = values, bins = mybins, density = True)"
   ]
  },
  {
   "cell_type": "code",
   "execution_count": 31,
   "metadata": {
    "slideshow": {
     "slide_type": "slide"
    }
   },
   "outputs": [],
   "source": [
    "mean_values = np.mean(values)\n",
    "theoretical_mean = 100 * 0.5 #n.p (from binomial)\n",
    "variance_values = np.var(values)\n",
    "theoretical_var = 100 * 0.5 * 0.5 #n.p.(1-p) (from binomial)"
   ]
  },
  {
   "cell_type": "code",
   "execution_count": 32,
   "metadata": {
    "slideshow": {
     "slide_type": "fragment"
    }
   },
   "outputs": [
    {
     "name": "stdout",
     "output_type": "stream",
     "text": [
      "Experimental Mean of Normal Dist. = 49.98659927528418\n",
      "Theoretical Mean of Binomial Dist. = 50.0\n",
      "Experimental Variance of Normal Dist. = 25.149277815685963\n",
      "Theoretical Variance Binomial Dist. = 25.0\n"
     ]
    }
   ],
   "source": [
    "print('Experimental Mean of Normal Dist. =', mean_values)\n",
    "print('Theoretical Mean of Binomial Dist. =', theoretical_mean)\n",
    "print('Experimental Variance of Normal Dist. =', variance_values)\n",
    "print('Theoretical Variance Binomial Dist. =', theoretical_var)"
   ]
  },
  {
   "cell_type": "markdown",
   "metadata": {
    "slideshow": {
     "slide_type": "slide"
    }
   },
   "source": [
    "#### - Multinomial Distribution"
   ]
  },
  {
   "cell_type": "markdown",
   "metadata": {
    "slideshow": {
     "slide_type": "fragment"
    }
   },
   "source": [
    "#### np.random.multinomial(n, pvals, size=None)\n",
    "\n",
    "- Draw samples from a multinomial distribution.\n",
    "\n",
    "- The multinomial distribution is a multivariate generalisation of the binomial distribution. Take an experiment with one of p possible outcomes. An example of such an experiment is throwing a dice, where the outcome can be 1 through 6. Each sample drawn from the distribution represents n such experiments. Its values, $X_i = [X_1, ..., X_p]$, represent the number of times the outcome was i."
   ]
  },
  {
   "cell_type": "markdown",
   "metadata": {
    "slideshow": {
     "slide_type": "slide"
    }
   },
   "source": [
    "#### Example: Throw a fair dice 18 times"
   ]
  },
  {
   "cell_type": "code",
   "execution_count": 93,
   "metadata": {
    "slideshow": {
     "slide_type": "fragment"
    }
   },
   "outputs": [],
   "source": [
    "values = np.random.multinomial(18, [1/6.]*6, size=1) # run this experiment only 1 time"
   ]
  },
  {
   "cell_type": "code",
   "execution_count": 64,
   "metadata": {
    "slideshow": {
     "slide_type": "fragment"
    }
   },
   "outputs": [
    {
     "data": {
      "text/plain": [
       "array([[1, 5, 2, 4, 1, 5]])"
      ]
     },
     "execution_count": 64,
     "metadata": {},
     "output_type": "execute_result"
    }
   ],
   "source": [
    "values #it landed x1 times 1, x2 times 2, ... All sum up to 20"
   ]
  },
  {
   "cell_type": "code",
   "execution_count": 65,
   "metadata": {
    "slideshow": {
     "slide_type": "slide"
    }
   },
   "outputs": [
    {
     "data": {
      "text/plain": [
       "<BarContainer object of 6 artists>"
      ]
     },
     "execution_count": 65,
     "metadata": {},
     "output_type": "execute_result"
    },
    {
     "data": {
      "image/png": "[encoded data removed]",
      "text/plain": [
       "<Figure size 432x288 with 1 Axes>"
      ]
     },
     "metadata": {
      "needs_background": "light"
     },
     "output_type": "display_data"
    }
   ],
   "source": [
    "plt.bar(list(range(1, 7)), height = values[0])"
   ]
  },
  {
   "cell_type": "markdown",
   "metadata": {
    "slideshow": {
     "slide_type": "slide"
    }
   },
   "source": [
    "#### Run this experiment 10000 times"
   ]
  },
  {
   "cell_type": "code",
   "execution_count": 66,
   "metadata": {
    "slideshow": {
     "slide_type": "fragment"
    }
   },
   "outputs": [],
   "source": [
    "values = np.random.multinomial(18, [1/6.]*6, size=10000)"
   ]
  },
  {
   "cell_type": "code",
   "execution_count": 67,
   "metadata": {
    "slideshow": {
     "slide_type": "fragment"
    }
   },
   "outputs": [
    {
     "data": {
      "text/plain": [
       "array([3.0144, 3.0127, 3.0097, 2.9748, 2.9874, 3.001 ])"
      ]
     },
     "execution_count": 67,
     "metadata": {},
     "output_type": "execute_result"
    }
   ],
   "source": [
    "values.mean(axis = 0)"
   ]
  },
  {
   "cell_type": "code",
   "execution_count": 68,
   "metadata": {
    "slideshow": {
     "slide_type": "fragment"
    }
   },
   "outputs": [
    {
     "data": {
      "text/plain": [
       "<BarContainer object of 6 artists>"
      ]
     },
     "execution_count": 68,
     "metadata": {},
     "output_type": "execute_result"
    },
    {
     "data": {
      "image/png": "[encoded data removed]",
      "text/plain": [
       "<Figure size 432x288 with 1 Axes>"
      ]
     },
     "metadata": {
      "needs_background": "light"
     },
     "output_type": "display_data"
    }
   ],
   "source": [
    "plt.bar(list(range(1, 7)), height = values.mean(axis = 0))"
   ]
  },
  {
   "cell_type": "markdown",
   "metadata": {
    "slideshow": {
     "slide_type": "slide"
    }
   },
   "source": [
    "#### - Poisson Distribution"
   ]
  },
  {
   "cell_type": "markdown",
   "metadata": {
    "slideshow": {
     "slide_type": "fragment"
    }
   },
   "source": [
    "#### np.random.poisson(lam=1.0, size=None)\n",
    "-The Poisson distribution\n",
    "\n",
    "-For events with an expected separation lambda the Poisson distribution f(k; lambda) describes the probability of k events occurring within the observed interval lambda."
   ]
  },
  {
   "cell_type": "markdown",
   "metadata": {
    "slideshow": {
     "slide_type": "slide"
    }
   },
   "source": [
    "#### Example: Assume that # of customers arrive at a bank with an hourly rate $\\lambda$ = 5. Plot this experiment's distibution using Poisson Distribution"
   ]
  },
  {
   "cell_type": "code",
   "execution_count": 105,
   "metadata": {
    "slideshow": {
     "slide_type": "slide"
    }
   },
   "outputs": [],
   "source": [
    "values = np.random.poisson(lam = 5, size = 10000) "
   ]
  },
  {
   "cell_type": "code",
   "execution_count": 106,
   "metadata": {
    "slideshow": {
     "slide_type": "fragment"
    }
   },
   "outputs": [
    {
     "data": {
      "image/png": "[encoded data removed]",
      "text/plain": [
       "<Figure size 432x288 with 1 Axes>"
      ]
     },
     "metadata": {
      "needs_background": "light"
     },
     "output_type": "display_data"
    }
   ],
   "source": [
    "mybins = np.linspace(0, 29, 30)\n",
    "plt.xticks(mybins, fontsize = 10)\n",
    "hist_pois = plt.hist(x = values, bins = mybins, density = True)"
   ]
  },
  {
   "cell_type": "code",
   "execution_count": 72,
   "metadata": {
    "slideshow": {
     "slide_type": "slide"
    }
   },
   "outputs": [],
   "source": [
    "mean_values = np.mean(values)\n",
    "theoretical_mean = 5 #lambda\n",
    "variance_values = np.var(values)\n",
    "theoretical_var = 5 #lambda"
   ]
  },
  {
   "cell_type": "code",
   "execution_count": 73,
   "metadata": {
    "slideshow": {
     "slide_type": "fragment"
    }
   },
   "outputs": [
    {
     "name": "stdout",
     "output_type": "stream",
     "text": [
      "Experimental Mean = 4.9751\n",
      "Theoretical Mean = 5\n",
      "Experimental Variance = 4.97907999\n",
      "Theoretical Variance = 5\n"
     ]
    }
   ],
   "source": [
    "print('Experimental Mean =', mean_values)\n",
    "print('Theoretical Mean =', theoretical_mean)\n",
    "print('Experimental Variance =', variance_values)\n",
    "print('Theoretical Variance =', theoretical_var)"
   ]
  },
  {
   "cell_type": "markdown",
   "metadata": {
    "slideshow": {
     "slide_type": "slide"
    }
   },
   "source": [
    "#### -Multivariate Normal"
   ]
  },
  {
   "cell_type": "markdown",
   "metadata": {
    "slideshow": {
     "slide_type": "fragment"
    }
   },
   "source": [
    "#### - np.random.multivariate_normal\n",
    "-Draw random samples from a multivariate normal distribution.\n",
    "\n",
    "-The multivariate normal, multinormal or Gaussian distribution is a generalization of the one-dimensional normal distribution to higher dimensions. Such a distribution is specified by its mean and covariance matrix. These parameters are analogous to the mean (average or “center”) and variance (standard deviation, or “width,” squared) of the one-dimensional normal distribution."
   ]
  },
  {
   "cell_type": "code",
   "execution_count": 80,
   "metadata": {
    "slideshow": {
     "slide_type": "slide"
    }
   },
   "outputs": [],
   "source": [
    "mean = [0, 0] #mean matrix\n",
    "cov = [[1, 0], [0, 10]] #covariance matrix, in this example it is diagonal"
   ]
  },
  {
   "cell_type": "code",
   "execution_count": 81,
   "metadata": {
    "slideshow": {
     "slide_type": "fragment"
    }
   },
   "outputs": [
    {
     "data": {
      "image/png": "[encoded data removed]",
      "text/plain": [
       "<Figure size 432x288 with 1 Axes>"
      ]
     },
     "metadata": {
      "needs_background": "light"
     },
     "output_type": "display_data"
    }
   ],
   "source": [
    "x, y = np.random.multivariate_normal(mean, cov, 5000).T\n",
    "plt.plot(x, y, 'x')\n",
    "plt.axis('equal')\n",
    "plt.show()"
   ]
  },
  {
   "cell_type": "code",
   "execution_count": 82,
   "metadata": {
    "slideshow": {
     "slide_type": "slide"
    }
   },
   "outputs": [
    {
     "data": {
      "image/png": "[encoded data removed]",
      "text/plain": [
       "<Figure size 432x288 with 1 Axes>"
      ]
     },
     "metadata": {
      "needs_background": "light"
     },
     "output_type": "display_data"
    }
   ],
   "source": [
    "mean = [20, 0] #mean matrix\n",
    "cov = [[1, 0], [0, 10]] #covariance matrix, in this example it is diagonal\n",
    "x, y = np.random.multivariate_normal(mean, cov, 5000).T\n",
    "plt.plot(x, y, 'x')\n",
    "plt.axis('equal')\n",
    "plt.show()"
   ]
  },
  {
   "cell_type": "code",
   "execution_count": 83,
   "metadata": {
    "slideshow": {
     "slide_type": "slide"
    }
   },
   "outputs": [
    {
     "data": {
      "image/png": "[encoded data removed]",
      "text/plain": [
       "<Figure size 432x288 with 1 Axes>"
      ]
     },
     "metadata": {
      "needs_background": "light"
     },
     "output_type": "display_data"
    }
   ],
   "source": [
    "mean = [20, 0] #mean matrix\n",
    "cov = [[1, 0], [0, 100]] #covariance matrix, in this example it is diagonal\n",
    "x, y = np.random.multivariate_normal(mean, cov, 5000).T\n",
    "plt.plot(x, y, 'x')\n",
    "plt.axis('equal')\n",
    "plt.show()"
   ]
  },
  {
   "cell_type": "markdown",
   "metadata": {
    "slideshow": {
     "slide_type": "slide"
    }
   },
   "source": [
    "## Try it yourself:\n",
    "- Let X be the number of heads when a fair coin is tossed n times. We know that X ~ Binomial(n, p). In this problem assume p is 0.5 and n = 50. \n",
    "- Run this experiment for size = 10, 100, 1000, and 10000 runs. (Here size is not n, it is the size of random runs.) Record your outcomes from these different experiments. Then using the recorded outcomes plot the distribution of X for size = 10, 100, 1000, and 10000 on different plots. Comment on your results and describe how the plots change as n increases. Does this agree or contradict with a concept that we learned in class? Can you explain the results?"
   ]
  },
  {
   "cell_type": "markdown",
   "metadata": {
    "slideshow": {
     "slide_type": "slide"
    }
   },
   "source": [
    "# 3- Linear Algebra"
   ]
  },
  {
   "cell_type": "markdown",
   "metadata": {
    "slideshow": {
     "slide_type": "fragment"
    }
   },
   "source": [
    "Outline\n",
    "- Representing vector and matrix in python\n",
    "- Transpose, dot product, determinant, inverse"
   ]
  },
  {
   "cell_type": "code",
   "execution_count": 1,
   "metadata": {
    "slideshow": {
     "slide_type": "slide"
    }
   },
   "outputs": [],
   "source": [
    "import numpy as np"
   ]
  },
  {
   "cell_type": "code",
   "execution_count": 2,
   "metadata": {
    "slideshow": {
     "slide_type": "fragment"
    }
   },
   "outputs": [
    {
     "name": "stdout",
     "output_type": "stream",
     "text": [
      "Vector :\t [ 2  3  5  7 10]\n",
      "Vector Transpose :\t [ 2  3  5  7 10]\n"
     ]
    }
   ],
   "source": [
    "# n-dimensional vector\n",
    "vector = np.array([2, 3, 5, 7, 10])\n",
    "print(\"Vector :\\t\",vector)\n",
    "\n",
    "# Transpose of a vector\n",
    "vector_T = vector.transpose()\n",
    "print(\"Vector Transpose :\\t\",vector_T)"
   ]
  },
  {
   "cell_type": "code",
   "execution_count": 3,
   "metadata": {
    "slideshow": {
     "slide_type": "slide"
    }
   },
   "outputs": [
    {
     "name": "stdout",
     "output_type": "stream",
     "text": [
      "Matrix :\n",
      " [[1 2 3]\n",
      " [4 5 6]\n",
      " [7 8 9]]\n",
      "Matrix Transpose :\n",
      " [[1 4 7]\n",
      " [2 5 8]\n",
      " [3 6 9]]\n"
     ]
    }
   ],
   "source": [
    "# 3x3 matrix\n",
    "M = np.matrix([[1, 2, 3], [4, 5, 6], [7, 8, 9]])\n",
    "print(\"Matrix :\\n\",M)\n",
    "\n",
    "# 3x3 matrix transpose\n",
    "M_T = M.transpose()\n",
    "print(\"Matrix Transpose :\\n\",M_T)"
   ]
  },
  {
   "cell_type": "markdown",
   "metadata": {
    "slideshow": {
     "slide_type": "slide"
    }
   },
   "source": [
    "## Vector dot product"
   ]
  },
  {
   "cell_type": "markdown",
   "metadata": {
    "slideshow": {
     "slide_type": "fragment"
    }
   },
   "source": [
    "<img src=\"dot_product.png\">"
   ]
  },
  {
   "cell_type": "code",
   "execution_count": 20,
   "metadata": {
    "slideshow": {
     "slide_type": "fragment"
    }
   },
   "outputs": [
    {
     "name": "stdout",
     "output_type": "stream",
     "text": [
      "x_dot_y: \t -19.0\n",
      "<class 'numpy.float64'>\n"
     ]
    }
   ],
   "source": [
    "x = np.array([2, 4, 5, 8])\n",
    "y = np.array([1, 0, -5, 0.5])\n",
    "\n",
    "x_dot_y = np.dot(x, y)\n",
    "\n",
    "print(\"x_dot_y: \\t\",x_dot_y)\n",
    "print(type(x_dot_y))"
   ]
  },
  {
   "cell_type": "markdown",
   "metadata": {
    "slideshow": {
     "slide_type": "slide"
    }
   },
   "source": [
    "## Matrix product"
   ]
  },
  {
   "cell_type": "markdown",
   "metadata": {
    "slideshow": {
     "slide_type": "fragment"
    }
   },
   "source": [
    "<img src=\"matrix_product.png\">"
   ]
  },
  {
   "cell_type": "code",
   "execution_count": 35,
   "metadata": {
    "slideshow": {
     "slide_type": "slide"
    }
   },
   "outputs": [
    {
     "name": "stdout",
     "output_type": "stream",
     "text": [
      "A :\t (2, 3)\n",
      "B :\t (3, 4)\n"
     ]
    }
   ],
   "source": [
    "A = np.matrix([[1, 2, 3], [4, 5, 6]])\n",
    "B = np.matrix([[1, 0, -1, -1], [0, 0, 0, 0], [1, 99, 9, 3]])\n",
    "\n",
    "print(\"A :\\t\",A.shape)\n",
    "print(\"B :\\t\",B.shape)"
   ]
  },
  {
   "cell_type": "code",
   "execution_count": 36,
   "metadata": {
    "slideshow": {
     "slide_type": "fragment"
    }
   },
   "outputs": [
    {
     "name": "stdout",
     "output_type": "stream",
     "text": [
      "AB: \n",
      " [[  4 297  26   8]\n",
      " [ 10 594  50  14]]\n",
      "\n",
      "type:\t <class 'numpy.matrix'>\n",
      "\n",
      "AB :\t (2, 4)\n"
     ]
    }
   ],
   "source": [
    "AB = np.matmul(A, B)\n",
    "\n",
    "print(\"AB: \\n\",AB)\n",
    "print('\\ntype:\\t',type(AB))\n",
    "print(\"\\nAB :\\t\",AB.shape)"
   ]
  },
  {
   "cell_type": "code",
   "execution_count": 38,
   "metadata": {
    "slideshow": {
     "slide_type": "fragment"
    }
   },
   "outputs": [
    {
     "name": "stdout",
     "output_type": "stream",
     "text": [
      "AB: \n",
      " [[  4 297  26   8]\n",
      " [ 10 594  50  14]]\n",
      "\n",
      "type:\t <class 'numpy.matrix'>\n",
      "\n",
      "AB :\t (2, 4)\n"
     ]
    }
   ],
   "source": [
    "AB = np.dot(A, B)\n",
    "\n",
    "print(\"AB: \\n\",AB)\n",
    "print('\\ntype:\\t',type(AB))\n",
    "print(\"\\nAB :\\t\",AB.shape)"
   ]
  },
  {
   "cell_type": "code",
   "execution_count": 42,
   "metadata": {
    "slideshow": {
     "slide_type": "slide"
    }
   },
   "outputs": [
    {
     "name": "stdout",
     "output_type": "stream",
     "text": [
      "AB: \n",
      " [[ 1  4  9]\n",
      " [16 25 36]\n",
      " [49 64 81]]\n",
      "\n",
      "type:\t <class 'numpy.matrix'>\n",
      "\n",
      "AB :\t (3, 3)\n"
     ]
    }
   ],
   "source": [
    "# Element wise product\n",
    "A = np.matrix([[1, 2, 3], [4, 5, 6], [7, 8, 9]])\n",
    "B = np.matrix([[1, 2, 3], [4, 5, 6], [7, 8, 9]])\n",
    "\n",
    "AB = np.multiply(A, B)\n",
    "\n",
    "print(\"AB: \\n\",AB)\n",
    "print('\\ntype:\\t',type(AB))\n",
    "print(\"\\nAB :\\t\",AB.shape)"
   ]
  },
  {
   "cell_type": "markdown",
   "metadata": {
    "slideshow": {
     "slide_type": "slide"
    }
   },
   "source": [
    "## Determinant\n"
   ]
  },
  {
   "cell_type": "code",
   "execution_count": 48,
   "metadata": {
    "slideshow": {
     "slide_type": "fragment"
    }
   },
   "outputs": [
    {
     "name": "stdout",
     "output_type": "stream",
     "text": [
      "Matrix :\n",
      " [[ 6  1  1]\n",
      " [ 4 -2  5]\n",
      " [ 2  8  7]]\n"
     ]
    }
   ],
   "source": [
    "# 3x3 matrix\n",
    "M = np.array([[6,1,1], [4, -2, 5], [2,8,7]])\n",
    "print(\"Matrix :\\n\",M)\n"
   ]
  },
  {
   "cell_type": "code",
   "execution_count": 50,
   "metadata": {
    "slideshow": {
     "slide_type": "fragment"
    }
   },
   "outputs": [
    {
     "name": "stdout",
     "output_type": "stream",
     "text": [
      "-306\n"
     ]
    }
   ],
   "source": [
    "print(6*(-2*7 - 5*8) - 1*(4*7 - 5*2) + 1*(4*8 - -2*2))"
   ]
  },
  {
   "cell_type": "code",
   "execution_count": 51,
   "metadata": {
    "slideshow": {
     "slide_type": "fragment"
    }
   },
   "outputs": [
    {
     "data": {
      "text/plain": [
       "-306.0"
      ]
     },
     "execution_count": 51,
     "metadata": {},
     "output_type": "execute_result"
    }
   ],
   "source": [
    "np.linalg.det(M)"
   ]
  },
  {
   "cell_type": "markdown",
   "metadata": {
    "slideshow": {
     "slide_type": "slide"
    }
   },
   "source": [
    "## Inverse of a Matrix"
   ]
  },
  {
   "cell_type": "code",
   "execution_count": 53,
   "metadata": {
    "slideshow": {
     "slide_type": "fragment"
    }
   },
   "outputs": [
    {
     "name": "stdout",
     "output_type": "stream",
     "text": [
      "Matrix :\n",
      " [[ 6  1  1]\n",
      " [ 4 -2  5]\n",
      " [ 2  8  7]]\n"
     ]
    }
   ],
   "source": [
    "# 3x3 matrix\n",
    "M = np.array([[6,1,1], [4, -2, 5], [2,8,7]])\n",
    "print(\"Matrix :\\n\",M)"
   ]
  },
  {
   "cell_type": "code",
   "execution_count": 55,
   "metadata": {
    "slideshow": {
     "slide_type": "fragment"
    }
   },
   "outputs": [
    {
     "name": "stdout",
     "output_type": "stream",
     "text": [
      "M_inverse :\n",
      " [[ 0.17647059 -0.00326797 -0.02287582]\n",
      " [ 0.05882353 -0.13071895  0.08496732]\n",
      " [-0.11764706  0.1503268   0.05228758]]\n"
     ]
    }
   ],
   "source": [
    "M_inverse = np.linalg.inv(M) \n",
    "print(\"M_inverse :\\n\",M_inverse)"
   ]
  },
  {
   "cell_type": "markdown",
   "metadata": {
    "slideshow": {
     "slide_type": "slide"
    }
   },
   "source": [
    "### Is *M_inverse* correct ??"
   ]
  },
  {
   "cell_type": "markdown",
   "metadata": {
    "slideshow": {
     "slide_type": "fragment"
    }
   },
   "source": [
    "### If '*M_dot_M_inverse*' is an identity matrix then we can conclude that '*M_inverse*' is correct."
   ]
  },
  {
   "cell_type": "code",
   "execution_count": 57,
   "metadata": {
    "slideshow": {
     "slide_type": "fragment"
    }
   },
   "outputs": [
    {
     "name": "stdout",
     "output_type": "stream",
     "text": [
      "M_dot_M_inverse :\n",
      " [[1.00000000e+00 0.00000000e+00 6.93889390e-18]\n",
      " [2.77555756e-17 1.00000000e+00 4.85722573e-17]\n",
      " [8.32667268e-17 1.11022302e-16 1.00000000e+00]]\n"
     ]
    }
   ],
   "source": [
    "M_dot_M_inverse = np.dot(M, M_inverse)\n",
    "print(\"M_dot_M_inverse :\\n\",M_dot_M_inverse)"
   ]
  },
  {
   "cell_type": "markdown",
   "metadata": {
    "slideshow": {
     "slide_type": "slide"
    }
   },
   "source": [
    "### Try it yourself"
   ]
  },
  {
   "cell_type": "markdown",
   "metadata": {
    "slideshow": {
     "slide_type": "fragment"
    }
   },
   "source": [
    "- Find the vector matrix product of A and M (where A is a vector and M is a matrix).\n",
    "  where,\n",
    "         A = [1,-1,0]\n",
    "         M = [[1, 2, 3], [4, 5, 6], [7, 8, 9]]\n",
    "         \n",
    "- Find the matrix product of 3 matrices A, B and C (i.e. A_dot_B_dot_C).\n",
    "  where, \n",
    "         A = [[1, 2]]\n",
    "         B = [[2,3,4],[5,6,7]]\n",
    "         C = [[-1, 1, -1, 1], [0, 0, 0, 0], [1, 1, 1, 1]]\n",
    "         \n"
   ]
  }
 ],
 "metadata": {
  "celltoolbar": "Slideshow",
  "kernelspec": {
   "display_name": "Python 3",
   "language": "python",
   "name": "python3"
  },
  "language_info": {
   "codemirror_mode": {
    "name": "ipython",
    "version": 3
   },
   "file_extension": ".py",
   "mimetype": "text/x-python",
   "name": "python",
   "nbconvert_exporter": "python",
   "pygments_lexer": "ipython3",
   "version": "3.7.1"
  }
 },
 "nbformat": 4,
 "nbformat_minor": 2
}
