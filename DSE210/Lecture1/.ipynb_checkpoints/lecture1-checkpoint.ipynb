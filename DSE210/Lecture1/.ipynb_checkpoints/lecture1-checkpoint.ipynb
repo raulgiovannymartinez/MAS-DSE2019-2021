{
 "cells": [
  {
   "cell_type": "markdown",
   "metadata": {
    "slideshow": {
     "slide_type": "slide"
    }
   },
   "source": [
    "\n",
    "# Lecture 1 notebook\n",
    "\n",
    "\n",
    "\n",
    "(Reference: Sanjoy Dasguptha, Alon Orlitsky and Yoav Freund - edx)"
   ]
  },
  {
   "cell_type": "markdown",
   "metadata": {
    "slideshow": {
     "slide_type": "slide"
    }
   },
   "source": [
    "# Objective:\n",
    " - Implement Set and it's operations in Python.\n",
    "  - Create, Modify and Delete Sets\n",
    "  - Membership, Cardinality, and Properties of Sets\n",
    "  - Set Operations\n",
    " - Implementing Permutation and Combination in Python\n",
    " - Probability\n",
    "  - Simulations of biased and unbiased coin.\n",
    "  - Simulation of Socks in drawer problem.(From Lecture)\n",
    " - Conditional Probability\n",
    "  - Fair die Simulation\n",
    "  "
   ]
  },
  {
   "cell_type": "markdown",
   "metadata": {
    "slideshow": {
     "slide_type": "slide"
    }
   },
   "source": [
    "# Sets and Counting\n",
    " - Implement Set and it's operations in Python.\n",
    "  - Create, Modify and Delete Sets\n",
    "  - Membership, Cardinality, and Properties of Sets\n",
    "  - Set Operations\n",
    " - Implementing Permutation and Combination in Python"
   ]
  },
  {
   "cell_type": "markdown",
   "metadata": {
    "slideshow": {
     "slide_type": "slide"
    }
   },
   "source": [
    "# Set\n",
    "### A well-defined collection of distinct objects\n",
    "### Examples:\n",
    " - A = {1, 2, 3, ..., 9}\n",
    " - B = {a, b, c, ..., z}\n",
    " - C = {physics, maths, literature}\n",
    " - D = {'!', '#', '@', '*', '?'}\n",
    " \n",
    "\n"
   ]
  },
  {
   "cell_type": "markdown",
   "metadata": {
    "slideshow": {
     "slide_type": "slide"
    }
   },
   "source": [
    "# Sets in Python\n"
   ]
  },
  {
   "cell_type": "markdown",
   "metadata": {
    "slideshow": {
     "slide_type": "slide"
    }
   },
   "source": [
    "## Method 1"
   ]
  },
  {
   "cell_type": "code",
   "execution_count": 1,
   "metadata": {
    "slideshow": {
     "slide_type": "fragment"
    }
   },
   "outputs": [
    {
     "name": "stdout",
     "output_type": "stream",
     "text": [
      "<class 'set'>\n",
      "{1, 2, 3, 4}\n"
     ]
    }
   ],
   "source": [
    "A = {1, 2, 3, 4}\n",
    "\n",
    "print(type(A))\n",
    "print(A)"
   ]
  },
  {
   "cell_type": "markdown",
   "metadata": {
    "slideshow": {
     "slide_type": "slide"
    }
   },
   "source": [
    "## Method 2"
   ]
  },
  {
   "cell_type": "code",
   "execution_count": 2,
   "metadata": {
    "slideshow": {
     "slide_type": "fragment"
    }
   },
   "outputs": [
    {
     "name": "stdout",
     "output_type": "stream",
     "text": [
      "{1, 3.14, -99, 0.001}\n",
      "<class 'set'>\n"
     ]
    }
   ],
   "source": [
    "A = set()\n",
    "\n",
    "A.add(1)\n",
    "A.add(-99)\n",
    "A.add(0.001)\n",
    "A.add(3.14)\n",
    "\n",
    "print(A)\n",
    "print(type(A))"
   ]
  },
  {
   "cell_type": "markdown",
   "metadata": {
    "slideshow": {
     "slide_type": "slide"
    }
   },
   "source": [
    "## Method 3"
   ]
  },
  {
   "cell_type": "code",
   "execution_count": 3,
   "metadata": {
    "slideshow": {
     "slide_type": "fragment"
    }
   },
   "outputs": [
    {
     "name": "stdout",
     "output_type": "stream",
     "text": [
      "{1, 3.14, -99, 0.001}\n",
      "<class 'set'>\n"
     ]
    }
   ],
   "source": [
    "list1 = [-99, 0.001, 1, 3.14]\n",
    "A = set(list1)\n",
    "\n",
    "print(A)\n",
    "print(type(A))"
   ]
  },
  {
   "cell_type": "markdown",
   "metadata": {
    "slideshow": {
     "slide_type": "slide"
    }
   },
   "source": [
    "## Method 4"
   ]
  },
  {
   "cell_type": "code",
   "execution_count": 4,
   "metadata": {
    "slideshow": {
     "slide_type": "fragment"
    }
   },
   "outputs": [
    {
     "name": "stdout",
     "output_type": "stream",
     "text": [
      "{1, 2, 3, 4, 5}\n",
      "<class 'set'>\n"
     ]
    }
   ],
   "source": [
    "#set of first 5 positive integers\n",
    "A = set(i for i in range(1, 6))\n",
    "\n",
    "print(A)\n",
    "print(type(A))"
   ]
  },
  {
   "cell_type": "markdown",
   "metadata": {
    "slideshow": {
     "slide_type": "slide"
    }
   },
   "source": [
    "## Empty set"
   ]
  },
  {
   "cell_type": "code",
   "execution_count": 29,
   "metadata": {
    "slideshow": {
     "slide_type": "fragment"
    }
   },
   "outputs": [
    {
     "name": "stdout",
     "output_type": "stream",
     "text": [
      "<class 'list'>\n"
     ]
    }
   ],
   "source": [
    "# Empty list in python\n",
    "list1 = []\n",
    "print(type(list1))"
   ]
  },
  {
   "cell_type": "code",
   "execution_count": 30,
   "metadata": {
    "slideshow": {
     "slide_type": "fragment"
    }
   },
   "outputs": [
    {
     "name": "stdout",
     "output_type": "stream",
     "text": [
      "<class 'dict'>\n",
      "<class 'set'>\n"
     ]
    }
   ],
   "source": [
    "# Empty set in python \n",
    "empty1 = {}\n",
    "print(type(empty1))\n",
    "\n",
    "empty2 = set()\n",
    "print(type(empty2))"
   ]
  },
  {
   "cell_type": "markdown",
   "metadata": {
    "slideshow": {
     "slide_type": "slide"
    }
   },
   "source": [
    "## Delete a set"
   ]
  },
  {
   "cell_type": "code",
   "execution_count": 6,
   "metadata": {
    "slideshow": {
     "slide_type": "fragment"
    }
   },
   "outputs": [
    {
     "name": "stdout",
     "output_type": "stream",
     "text": [
      "<class 'set'>\n"
     ]
    },
    {
     "ename": "NameError",
     "evalue": "name 'A' is not defined",
     "output_type": "error",
     "traceback": [
      "\u001b[0;31m---------------------------------------------------------------------------\u001b[0m",
      "\u001b[0;31mNameError\u001b[0m                                 Traceback (most recent call last)",
      "\u001b[0;32m<ipython-input-6-564cab8a02bd>\u001b[0m in \u001b[0;36m<module>\u001b[0;34m\u001b[0m\n\u001b[1;32m      3\u001b[0m \u001b[0;34m\u001b[0m\u001b[0m\n\u001b[1;32m      4\u001b[0m \u001b[0;32mdel\u001b[0m \u001b[0mA\u001b[0m\u001b[0;34m\u001b[0m\u001b[0;34m\u001b[0m\u001b[0m\n\u001b[0;32m----> 5\u001b[0;31m \u001b[0mprint\u001b[0m\u001b[0;34m(\u001b[0m\u001b[0mtype\u001b[0m\u001b[0;34m(\u001b[0m\u001b[0mA\u001b[0m\u001b[0;34m)\u001b[0m\u001b[0;34m)\u001b[0m\u001b[0;34m\u001b[0m\u001b[0;34m\u001b[0m\u001b[0m\n\u001b[0m",
      "\u001b[0;31mNameError\u001b[0m: name 'A' is not defined"
     ]
    }
   ],
   "source": [
    "A = {1, 2, 3}\n",
    "print(type(A))\n",
    "\n",
    "del A\n",
    "print(type(A))"
   ]
  },
  {
   "cell_type": "markdown",
   "metadata": {
    "slideshow": {
     "slide_type": "slide"
    }
   },
   "source": [
    "## Membership of a set"
   ]
  },
  {
   "cell_type": "code",
   "execution_count": 7,
   "metadata": {
    "slideshow": {
     "slide_type": "fragment"
    }
   },
   "outputs": [
    {
     "name": "stdout",
     "output_type": "stream",
     "text": [
      "A:\t {2, 3, 5, 7, 11, 13, 17, 19}\n"
     ]
    }
   ],
   "source": [
    "# set of prime numbers less than 20\n",
    "A = set([2, 3, 5, 7, 11, 13, 17, 19])\n",
    "print(\"A:\\t\",A)"
   ]
  },
  {
   "cell_type": "code",
   "execution_count": 8,
   "metadata": {
    "slideshow": {
     "slide_type": "fragment"
    }
   },
   "outputs": [
    {
     "name": "stdout",
     "output_type": "stream",
     "text": [
      "12 is NOT a member of set A\n"
     ]
    }
   ],
   "source": [
    "# Membership\n",
    "test = 12\n",
    "if test in A:\n",
    "    print(\"{} is a member of set A\".format(test))\n",
    "else:\n",
    "    print(\"{} is NOT a member of set A\".format(test))"
   ]
  },
  {
   "cell_type": "markdown",
   "metadata": {
    "slideshow": {
     "slide_type": "slide"
    }
   },
   "source": [
    "## Size of a set in python"
   ]
  },
  {
   "cell_type": "code",
   "execution_count": 9,
   "metadata": {
    "slideshow": {
     "slide_type": "fragment"
    }
   },
   "outputs": [
    {
     "name": "stdout",
     "output_type": "stream",
     "text": [
      "Size of set B:\t 8\n"
     ]
    }
   ],
   "source": [
    "# set of prime numbers less than 20\n",
    "B = set([2, 3, 5, 7, 11, 13, 17, 19])\n",
    "sizeB = len(B)\n",
    "print(\"Size of set B:\\t\",sizeB)"
   ]
  },
  {
   "cell_type": "code",
   "execution_count": 10,
   "metadata": {
    "slideshow": {
     "slide_type": "fragment"
    }
   },
   "outputs": [
    {
     "name": "stdout",
     "output_type": "stream",
     "text": [
      "Size of set B:\t 0\n"
     ]
    }
   ],
   "source": [
    "# set of prime numbers less than 20\n",
    "B = set()\n",
    "sizeB = len(B)\n",
    "print(\"Size of set B:\\t\",sizeB)"
   ]
  },
  {
   "cell_type": "code",
   "execution_count": 11,
   "metadata": {
    "slideshow": {
     "slide_type": "slide"
    }
   },
   "outputs": [
    {
     "name": "stdout",
     "output_type": "stream",
     "text": [
      "1\n"
     ]
    }
   ],
   "source": [
    "# Smallest element in a set\n",
    "NewSet = {2, 1, 3}\n",
    "minimum_element = min(NewSet)\n",
    "print(minimum_element)\n"
   ]
  },
  {
   "cell_type": "code",
   "execution_count": 12,
   "metadata": {
    "slideshow": {
     "slide_type": "fragment"
    }
   },
   "outputs": [
    {
     "name": "stdout",
     "output_type": "stream",
     "text": [
      "-1\n"
     ]
    }
   ],
   "source": [
    "# Largest element in a set\n",
    "NewSet = {-9, -1, -7}\n",
    "maximum_element = max(NewSet)\n",
    "print(maximum_element)"
   ]
  },
  {
   "cell_type": "code",
   "execution_count": 31,
   "metadata": {
    "slideshow": {
     "slide_type": "fragment"
    }
   },
   "outputs": [
    {
     "name": "stdout",
     "output_type": "stream",
     "text": [
      "17\n"
     ]
    }
   ],
   "source": [
    "# Print the sum of elements of a set\n",
    "NewSet = {1, 5, 2, -10, 19}\n",
    "total_sum = sum(NewSet)\n",
    "print(total_sum)"
   ]
  },
  {
   "cell_type": "markdown",
   "metadata": {
    "slideshow": {
     "slide_type": "slide"
    }
   },
   "source": [
    "## Properties"
   ]
  },
  {
   "cell_type": "code",
   "execution_count": 33,
   "metadata": {
    "slideshow": {
     "slide_type": "fragment"
    }
   },
   "outputs": [
    {
     "name": "stdout",
     "output_type": "stream",
     "text": [
      "True\n"
     ]
    }
   ],
   "source": [
    "# Order of elements doesn't matter\n",
    "flag = {1,2,3} == {3,2,1}\n",
    "print(flag)"
   ]
  },
  {
   "cell_type": "code",
   "execution_count": 34,
   "metadata": {
    "slideshow": {
     "slide_type": "fragment"
    }
   },
   "outputs": [
    {
     "name": "stdout",
     "output_type": "stream",
     "text": [
      "True\n"
     ]
    }
   ],
   "source": [
    "# Repetition doesn't matter\n",
    "flag = {1,2,3} == {1, 2, 3, 3, 2, 3, 3, 3, 1}\n",
    "print(flag)"
   ]
  },
  {
   "cell_type": "markdown",
   "metadata": {
    "slideshow": {
     "slide_type": "slide"
    }
   },
   "source": [
    "## Venn diagrams in python"
   ]
  },
  {
   "cell_type": "code",
   "execution_count": 35,
   "metadata": {
    "slideshow": {
     "slide_type": "fragment"
    }
   },
   "outputs": [
    {
     "data": {
      "image/png": "[encoded data removed]",
      "text/plain": [
       "<Figure size 432x288 with 1 Axes>"
      ]
     },
     "metadata": {},
     "output_type": "display_data"
    }
   ],
   "source": [
    "import matplotlib.pyplot as plt\n",
    "import matplotlib_venn as venn\n",
    "A = {'1', '2', '3'}\n",
    "B = {'2', '3', '4', '5', '6'}\n",
    "venn1 = venn.venn2([A, B], set_labels=('A', 'B'))\n",
    "\n",
    "venn1.get_label_by_id('10').set_text('\\n'.join(A-B))\n",
    "venn1.get_label_by_id('11').set_text('\\n'.join(A&B))\n",
    "venn1.get_label_by_id('01').set_text('\\n'.join(B-A))\n",
    "\n",
    "plt.show()\n"
   ]
  },
  {
   "cell_type": "code",
   "execution_count": 16,
   "metadata": {
    "scrolled": true,
    "slideshow": {
     "slide_type": "slide"
    }
   },
   "outputs": [
    {
     "data": {
      "image/png": "[encoded data removed]",
      "text/plain": [
       "<Figure size 432x288 with 1 Axes>"
      ]
     },
     "metadata": {},
     "output_type": "display_data"
    }
   ],
   "source": [
    "from matplotlib_venn import venn3\n",
    "set1 = set(['A', 'B', 'C', 'D'])\n",
    "set2 = set(['B', 'C', 'D', 'E'])\n",
    "set3 = set(['C', 'D',' E', 'F', 'G'])\n",
    "\n",
    "venn = venn3([set1, set2, set3], ('Set1', 'Set2', 'Set3'))\n",
    "\n",
    "venn.get_label_by_id('100').set_text('\\n'.join(set1-set2-set3))\n",
    "venn.get_label_by_id('110').set_text('\\n'.join(set1&set2-set3))\n",
    "venn.get_label_by_id('010').set_text('\\n'.join(set2-set3-set1))\n",
    "venn.get_label_by_id('101').set_text('\\n'.join(set1&set3-set2))\n",
    "venn.get_label_by_id('111').set_text('\\n'.join(set1&set2&set3))\n",
    "venn.get_label_by_id('011').set_text('\\n'.join(set2&set3-set1))\n",
    "venn.get_label_by_id('001').set_text('\\n'.join(set3-set2-set1))\n",
    "\n",
    "plt.show()"
   ]
  },
  {
   "cell_type": "markdown",
   "metadata": {
    "slideshow": {
     "slide_type": "slide"
    }
   },
   "source": [
    "## Union, Intersection & set difference"
   ]
  },
  {
   "cell_type": "markdown",
   "metadata": {
    "slideshow": {
     "slide_type": "slide"
    }
   },
   "source": [
    "## Union"
   ]
  },
  {
   "cell_type": "code",
   "execution_count": 17,
   "metadata": {
    "slideshow": {
     "slide_type": "fragment"
    }
   },
   "outputs": [
    {
     "name": "stdout",
     "output_type": "stream",
     "text": [
      "<class 'set'>\n",
      "UNION:\t\t {'physics', 'literature', 'psychology', 'statistics', 'journalism', 'maths'} \n",
      "\n",
      "<class 'set'>\n",
      "UNION:\t\t {'physics', 'literature', 'psychology', 'statistics', 'journalism', 'maths'} \n",
      "\n"
     ]
    }
   ],
   "source": [
    "A = {'physics', 'maths', 'psychology'}\n",
    "B = {'maths', 'literature', 'statistics', 'journalism'}\n",
    "\n",
    "# Union\n",
    "A_UNION_B = A.union(B)\n",
    "print(type(A_UNION_B))\n",
    "print(\"UNION:\\t\\t\",A_UNION_B,\"\\n\")\n",
    "\n",
    "# Union\n",
    "A_UNION_B = A | B\n",
    "print(type(A_UNION_B))\n",
    "print(\"UNION:\\t\\t\",A_UNION_B,\"\\n\")"
   ]
  },
  {
   "cell_type": "markdown",
   "metadata": {
    "slideshow": {
     "slide_type": "slide"
    }
   },
   "source": [
    "## Intersection"
   ]
  },
  {
   "cell_type": "code",
   "execution_count": 18,
   "metadata": {
    "slideshow": {
     "slide_type": "fragment"
    }
   },
   "outputs": [
    {
     "name": "stdout",
     "output_type": "stream",
     "text": [
      "<class 'set'>\n",
      "INTERSECTION:\t {'maths'} \n",
      "\n",
      "<class 'set'>\n",
      "INTERSECTION:\t {'maths'} \n",
      "\n"
     ]
    }
   ],
   "source": [
    "A = {'physics', 'maths', 'psychology'}\n",
    "B = {'maths', 'literature', 'statistics', 'journalism'}\n",
    "\n",
    "# Intersection\n",
    "A_INTERSECTION_B = A.intersection(B)\n",
    "print(type(A_INTERSECTION_B))\n",
    "print(\"INTERSECTION:\\t\",A_INTERSECTION_B,\"\\n\")\n",
    "\n",
    "# Intersection\n",
    "A_INTERSECTION_B = A & B\n",
    "print(type(A_INTERSECTION_B))\n",
    "print(\"INTERSECTION:\\t\",A_INTERSECTION_B,\"\\n\")"
   ]
  },
  {
   "cell_type": "markdown",
   "metadata": {
    "slideshow": {
     "slide_type": "slide"
    }
   },
   "source": [
    "## Difference"
   ]
  },
  {
   "cell_type": "code",
   "execution_count": 19,
   "metadata": {
    "slideshow": {
     "slide_type": "fragment"
    }
   },
   "outputs": [
    {
     "name": "stdout",
     "output_type": "stream",
     "text": [
      "<class 'set'>\n",
      "DIFFERENCE:\t {'psychology', 'physics'} \n",
      "\n",
      "<class 'set'>\n",
      "DIFFERENCE:\t {'psychology', 'physics'} \n",
      "\n"
     ]
    }
   ],
   "source": [
    "A = {'physics', 'maths', 'psychology'}\n",
    "B = {'maths', 'literature', 'statistics', 'journalism'}\n",
    "\n",
    "# DIFFERENCE\n",
    "A_DIFF_B = A.difference(B)\n",
    "print(type(A_DIFF_B))\n",
    "print(\"DIFFERENCE:\\t\",A_DIFF_B,\"\\n\")\n",
    "\n",
    "# DIFFERENCE\n",
    "A_DIFF_B = A - B\n",
    "print(type(A_DIFF_B))\n",
    "print(\"DIFFERENCE:\\t\",A_DIFF_B,\"\\n\")"
   ]
  },
  {
   "cell_type": "markdown",
   "metadata": {
    "slideshow": {
     "slide_type": "slide"
    }
   },
   "source": [
    "## Symmetric difference\n",
    "Symmetric difference = (A UNION B) - (A INTERSECTION B)"
   ]
  },
  {
   "cell_type": "code",
   "execution_count": 20,
   "metadata": {
    "slideshow": {
     "slide_type": "fragment"
    }
   },
   "outputs": [
    {
     "name": "stdout",
     "output_type": "stream",
     "text": [
      "<class 'set'>\n",
      "SYMMETRIC DIFFERENCE:\t {'literature', 'psychology', 'statistics', 'physics', 'journalism'}\n",
      "<class 'set'>\n",
      "SYMMETRIC DIFFERENCE:\t {'literature', 'psychology', 'statistics', 'physics', 'journalism'}\n"
     ]
    }
   ],
   "source": [
    "A = {'physics', 'maths', 'psychology'}\n",
    "B = {'maths', 'literature', 'statistics', 'journalism'}\n",
    "\n",
    "# symmetric DIFFERENCE\n",
    "A_SYMDIFF_B = A.symmetric_difference(B)\n",
    "print(type(A_SYMDIFF_B))\n",
    "print(\"SYMMETRIC DIFFERENCE:\\t\",A_SYMDIFF_B)\n",
    "\n",
    "# symmetric DIFFERENCE\n",
    "A_SYMDIFF_B = A ^ B\n",
    "print(type(A_SYMDIFF_B))\n",
    "print(\"SYMMETRIC DIFFERENCE:\\t\",A_SYMDIFF_B)"
   ]
  },
  {
   "cell_type": "markdown",
   "metadata": {
    "slideshow": {
     "slide_type": "slide"
    }
   },
   "source": [
    "# Additional python commands for sets"
   ]
  },
  {
   "cell_type": "code",
   "execution_count": 21,
   "metadata": {
    "slideshow": {
     "slide_type": "fragment"
    }
   },
   "outputs": [
    {
     "name": "stdout",
     "output_type": "stream",
     "text": [
      "S is a subset of T:\t True\n",
      "S and T are disjoint sets:\t False\n"
     ]
    }
   ],
   "source": [
    "S = {1, 2}\n",
    "T = {1, 2, 3}\n",
    "\n",
    "# check if S is a subset of T\n",
    "print(\"S is a subset of T:\\t\", S.issubset(T))\n",
    "\n",
    "# check if S and T are disjoint sets\n",
    "print(\"S and T are disjoint sets:\\t\", S.isdisjoint(T))"
   ]
  },
  {
   "cell_type": "markdown",
   "metadata": {
    "slideshow": {
     "slide_type": "slide"
    }
   },
   "source": [
    "# Permutations and Combinations"
   ]
  },
  {
   "cell_type": "code",
   "execution_count": 22,
   "metadata": {
    "slideshow": {
     "slide_type": "slide"
    }
   },
   "outputs": [],
   "source": [
    "import itertools"
   ]
  },
  {
   "cell_type": "code",
   "execution_count": 36,
   "metadata": {
    "slideshow": {
     "slide_type": "fragment"
    }
   },
   "outputs": [],
   "source": [
    "A = {1, 2, 3}"
   ]
  },
  {
   "cell_type": "code",
   "execution_count": 37,
   "metadata": {
    "slideshow": {
     "slide_type": "fragment"
    }
   },
   "outputs": [],
   "source": [
    "# Find all permutations of A => n = 3 & k = 3\n",
    "\n",
    "# all permutations of A = 3!/0! = 3! = 6\n",
    "\n",
    "permute_all = set(itertools.permutations(A))"
   ]
  },
  {
   "cell_type": "code",
   "execution_count": 38,
   "metadata": {
    "slideshow": {
     "slide_type": "fragment"
    }
   },
   "outputs": [
    {
     "name": "stdout",
     "output_type": "stream",
     "text": [
      "Permutations of {1, 2, 3}:  \n",
      "(3, 1, 2)\n",
      "(1, 3, 2)\n",
      "(3, 2, 1)\n",
      "(2, 3, 1)\n",
      "(1, 2, 3)\n",
      "(2, 1, 3)\n",
      "Number of permutations:  6\n"
     ]
    }
   ],
   "source": [
    "print(\"Permutations of %s:  \" %A)\n",
    "for i in permute_all:\n",
    "    print(i)\n",
    "print(\"Number of permutations: \", len(permute_all))"
   ]
  },
  {
   "cell_type": "code",
   "execution_count": 24,
   "metadata": {
    "slideshow": {
     "slide_type": "slide"
    }
   },
   "outputs": [
    {
     "name": "stdout",
     "output_type": "stream",
     "text": [
      "3-permutations of {1, 2, 3, 4}:  \n",
      "(1, 3, 2)\n",
      "(4, 3, 2)\n",
      "(3, 4, 1)\n",
      "(1, 4, 2)\n",
      "(2, 4, 1)\n",
      "(3, 4, 2)\n",
      "(2, 3, 1)\n",
      "(1, 4, 3)\n",
      "(4, 3, 1)\n",
      "(2, 4, 3)\n",
      "(3, 1, 4)\n",
      "(3, 1, 2)\n",
      "(3, 2, 1)\n",
      "(2, 1, 4)\n",
      "(1, 2, 3)\n",
      "(1, 2, 4)\n",
      "(4, 1, 2)\n",
      "(2, 1, 3)\n",
      "(3, 2, 4)\n",
      "(4, 1, 3)\n",
      "(4, 2, 1)\n",
      "(1, 3, 4)\n",
      "(2, 3, 4)\n",
      "(4, 2, 3)\n",
      "Size =  4!/(4-3)! =  24\n"
     ]
    }
   ],
   "source": [
    "A = {1, 2, 3, 4}\n",
    "k = 3\n",
    "\n",
    "# Print all the k-permutations of A\n",
    "n = len(A)\n",
    "permute_k = set(itertools.permutations(A, k))\n",
    "print(\"%i-permutations of %s:  \" %(k,A))\n",
    "for i in permute_k:\n",
    "    print(i)\n",
    "print;print(\"Size = \", \"%i!/(%i-%i)! = \" %(n,n,k), len(permute_k))"
   ]
  },
  {
   "cell_type": "code",
   "execution_count": 40,
   "metadata": {
    "slideshow": {
     "slide_type": "slide"
    }
   },
   "outputs": [
    {
     "name": "stdout",
     "output_type": "stream",
     "text": [
      "3-combinations of {1, 2, 3, 4}:  \n",
      "(1, 2, 3)\n",
      "(1, 2, 4)\n",
      "(1, 3, 4)\n",
      "(2, 3, 4)\n",
      "Number of combinations = 1000!/(3!(1000-3)!) = 4\n"
     ]
    }
   ],
   "source": [
    "A = {1, 2, 3, 4}\n",
    "k = 3\n",
    "\n",
    "# Print all the k-combinations of A\n",
    "choose_k = list(itertools.combinations(A,k))\n",
    "print(\"%i-combinations of %s:  \" %(k,A))\n",
    "for i in choose_k:\n",
    "    print(i)\n",
    "print;print(\"Number of combinations = %i!/(%i!(%i-%i)!) = %i\" %(n,k,n,k,len(choose_k)  ))"
   ]
  },
  {
   "cell_type": "markdown",
   "metadata": {
    "slideshow": {
     "slide_type": "slide"
    }
   },
   "source": [
    "# Try it Your self!"
   ]
  },
  {
   "cell_type": "markdown",
   "metadata": {
    "slideshow": {
     "slide_type": "fragment"
    }
   },
   "source": [
    "Q1. Create a set of first 50 even numbers<br>\n",
    "Q2. Check if 1, 2, 25, 98, 99, 100  and 102 are members of the set<br>\n",
    "Q3. Create a set of first 50 odd numbers<br>\n",
    "Q4. Find union, intersection and difference of the above sets\n",
    "\n"
   ]
  },
  {
   "cell_type": "markdown",
   "metadata": {
    "slideshow": {
     "slide_type": "slide"
    }
   },
   "source": [
    "# Probability space\n",
    "- Probability\n",
    " - Simulations of biased and unbiased coin.\n",
    " - Simulation of Socks in drawer problem.(From Lecture)  "
   ]
  },
  {
   "cell_type": "markdown",
   "metadata": {
    "slideshow": {
     "slide_type": "slide"
    }
   },
   "source": [
    "# Simulate coin flip"
   ]
  },
  {
   "cell_type": "code",
   "execution_count": 26,
   "metadata": {
    "slideshow": {
     "slide_type": "slide"
    }
   },
   "outputs": [
    {
     "name": "stdout",
     "output_type": "stream",
     "text": [
      "Probability of Heads:\t 0.509\n",
      "Number of Heads:\t 5090\n",
      "Probability of Tails:\t 0.491\n",
      "Number of Tails:\t 4910\n"
     ]
    }
   ],
   "source": [
    "import numpy as np\n",
    "\n",
    "def Simulation(n=100):\n",
    "    \"\"\"\n",
    "    Flip a fair coin 'n' times and compute what fraction of it was heads('H') \n",
    "    and what fraction of it was tails('T'). \n",
    "    \"\"\"\n",
    "    coin = {'H': 0, 'T': 0}\n",
    "    \n",
    "    for _ in range(n):\n",
    "        # flip a fair coin i.e. randomly select 'H' or 'T' without any bias\n",
    "        output = np.random.choice(['H', 'T'], p = [0.5, 0.5])\n",
    "        coin[output] += 1\n",
    "        \n",
    "    print(\"Probability of Heads:\\t\",coin['H']/sum(coin.values()))\n",
    "    print(\"Number of Heads:\\t\",coin['H'])\n",
    "    print(\"Probability of Tails:\\t\",coin['T']/sum(coin.values()))\n",
    "    print(\"Number of Tails:\\t\",coin['T'])\n",
    "    \n",
    "Simulation(n=10000)"
   ]
  },
  {
   "cell_type": "markdown",
   "metadata": {
    "slideshow": {
     "slide_type": "slide"
    }
   },
   "source": [
    "## Socks in drawer problem\n",
    "### A drawer has three blue socks and three red socks. You put your hand in and pull out two socks at random. What is the probability that they match?\n",
    "### Expected answer is 2/5 (= 0.4)"
   ]
  },
  {
   "cell_type": "code",
   "execution_count": 46,
   "metadata": {
    "slideshow": {
     "slide_type": "slide"
    }
   },
   "outputs": [
    {
     "name": "stdout",
     "output_type": "stream",
     "text": [
      "Probability of match:\t 0.395\n"
     ]
    }
   ],
   "source": [
    "import numpy as np\n",
    "\n",
    "n = 1000\n",
    "match = 0\n",
    "for _ in range(n):\n",
    "    drawer = ['B', 'B', 'B', 'R', 'R', 'R' ]\n",
    "    select_1st = np.random.choice(drawer)\n",
    "    drawer.remove(select_1st) \n",
    "    select_2nd = np.random.choice(drawer)\n",
    "\n",
    "    if select_1st == select_2nd:\n",
    "        match += 1\n",
    "    \n",
    "print(\"Probability of match:\\t\", match/n)\n",
    "    "
   ]
  },
  {
   "cell_type": "markdown",
   "metadata": {
    "slideshow": {
     "slide_type": "slide"
    }
   },
   "source": [
    "# Try it Your self!\n",
    " - Simulate a biased coin which gives Heads with 0.8 probability"
   ]
  },
  {
   "cell_type": "markdown",
   "metadata": {
    "slideshow": {
     "slide_type": "slide"
    }
   },
   "source": [
    "# Multiple events, conditioning, and independence\n",
    " - Conditional Probability\n",
    "  - Fair die Simulation"
   ]
  },
  {
   "cell_type": "markdown",
   "metadata": {
    "slideshow": {
     "slide_type": "slide"
    }
   },
   "source": [
    "## Conditional Probability\n",
    "For 2 events E, F<br>\n",
    "Pr(F | E) = probability that F happens given that E happened\n",
    "\n",
    "## Independence\n",
    "For 2 events E, F<br>\n",
    "Pr(F | E) = Pr(F)"
   ]
  },
  {
   "cell_type": "markdown",
   "metadata": {
    "slideshow": {
     "slide_type": "slide"
    }
   },
   "source": [
    "### Example: In a fair die, what is the probability of the number being prime given that it's a odd number"
   ]
  },
  {
   "cell_type": "markdown",
   "metadata": {
    "slideshow": {
     "slide_type": "slide"
    }
   },
   "source": [
    "## Solution:\n",
    "\\begin{align*}\n",
    "Pr(odd) = \\frac{1}{6} + \\frac{1}{6} + \\frac{1}{6} = \\frac{1}{2} (odd = 1, 3, 5)\\\\\n",
    "Pr(prime) = \\frac{1}{6} + \\frac{1}{6} + \\frac{1}{6} = \\frac{1}{2} (prime = 2, 3, 5)\\\\\n",
    "Pr(prime | odd) =  \\frac{|{2, 3, 5}| \\cap |{1, 3, 5}|}{|{1, 3, 5}|} = \\frac{|{3, 5}|}{|{1, 3, 5}|} = \\frac{2}{3} = 0.66\n",
    "\\end{align*}"
   ]
  },
  {
   "cell_type": "code",
   "execution_count": 28,
   "metadata": {
    "slideshow": {
     "slide_type": "slide"
    }
   },
   "outputs": [
    {
     "name": "stdout",
     "output_type": "stream",
     "text": [
      "Pr(prime|odd) =  0.6699801192842942\n"
     ]
    }
   ],
   "source": [
    "import numpy as np\n",
    "\n",
    "\n",
    "def CP_Simulation(n, odd, prime, odd_given_prime):\n",
    "    for _ in range(n):\n",
    "        outcome = np.random.choice([1, 2, 3, 4, 5, 6])\n",
    "        if outcome in [1, 3, 5]:\n",
    "            odd += 1\n",
    "        if outcome in [2, 3, 5]:\n",
    "            prime += 1\n",
    "        if (outcome in [1, 3, 5]) and (outcome in [2, 3, 5]):\n",
    "            odd_given_prime += 1\n",
    "    print(\"Pr(prime|odd) = \", odd_given_prime/odd)\n",
    "            \n",
    "odd = 0\n",
    "prime = 0\n",
    "odd_given_prime = 0        \n",
    "CP_Simulation(1000, odd, prime, odd_given_prime)        "
   ]
  },
  {
   "cell_type": "markdown",
   "metadata": {
    "slideshow": {
     "slide_type": "slide"
    }
   },
   "source": [
    "# Try it Your self!\n",
    " - In a fair die, what is the probability of the number being odd given that it's greater than 3\n",
    " "
   ]
  },
  {
   "cell_type": "markdown",
   "metadata": {
    "slideshow": {
     "slide_type": "slide"
    }
   },
   "source": [
    "# End"
   ]
  }
 ],
 "metadata": {
  "celltoolbar": "Slideshow",
  "kernelspec": {
   "display_name": "Python 3",
   "language": "python",
   "name": "python3"
  },
  "language_info": {
   "codemirror_mode": {
    "name": "ipython",
    "version": 3
   },
   "file_extension": ".py",
   "mimetype": "text/x-python",
   "name": "python",
   "nbconvert_exporter": "python",
   "pygments_lexer": "ipython3",
   "version": "3.7.1"
  }
 },
 "nbformat": 4,
 "nbformat_minor": 2
}
