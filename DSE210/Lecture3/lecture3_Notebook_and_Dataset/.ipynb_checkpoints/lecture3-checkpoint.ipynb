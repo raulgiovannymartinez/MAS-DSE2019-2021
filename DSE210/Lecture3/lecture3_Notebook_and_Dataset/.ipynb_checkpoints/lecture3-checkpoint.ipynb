{
 "cells": [
  {
   "cell_type": "markdown",
   "metadata": {
    "slideshow": {
     "slide_type": "slide"
    }
   },
   "source": [
    "# Linear Algebra"
   ]
  },
  {
   "cell_type": "markdown",
   "metadata": {
    "slideshow": {
     "slide_type": "fragment"
    }
   },
   "source": [
    "- Representing vector and matrix in python\n",
    "- Transpose, dot product, determinant, inverse"
   ]
  },
  {
   "cell_type": "code",
   "execution_count": 1,
   "metadata": {
    "slideshow": {
     "slide_type": "slide"
    }
   },
   "outputs": [],
   "source": [
    "import numpy as np"
   ]
  },
  {
   "cell_type": "code",
   "execution_count": 2,
   "metadata": {
    "slideshow": {
     "slide_type": "fragment"
    }
   },
   "outputs": [
    {
     "name": "stdout",
     "output_type": "stream",
     "text": [
      "Vector :\t [ 2  3  5  7 10]\n",
      "Vector Transpose :\t [ 2  3  5  7 10]\n"
     ]
    }
   ],
   "source": [
    "# n-dimensional vector\n",
    "vector = np.array([2, 3, 5, 7, 10])\n",
    "print(\"Vector :\\t\",vector)\n",
    "\n",
    "# Transpose of a vector\n",
    "vector_T = vector.transpose()\n",
    "print(\"Vector Transpose :\\t\",vector_T)"
   ]
  },
  {
   "cell_type": "code",
   "execution_count": 3,
   "metadata": {
    "slideshow": {
     "slide_type": "slide"
    }
   },
   "outputs": [
    {
     "name": "stdout",
     "output_type": "stream",
     "text": [
      "Matrix :\n",
      " [[1 2 3]\n",
      " [4 5 6]\n",
      " [7 8 9]]\n",
      "Matrix Transpose :\n",
      " [[1 4 7]\n",
      " [2 5 8]\n",
      " [3 6 9]]\n"
     ]
    }
   ],
   "source": [
    "# 3x3 matrix\n",
    "M = np.matrix([[1, 2, 3], [4, 5, 6], [7, 8, 9]])\n",
    "print(\"Matrix :\\n\",M)\n",
    "\n",
    "# 3x3 matrix transpose\n",
    "M_T = M.transpose()\n",
    "print(\"Matrix Transpose :\\n\",M_T)"
   ]
  },
  {
   "cell_type": "markdown",
   "metadata": {
    "slideshow": {
     "slide_type": "slide"
    }
   },
   "source": [
    "## Vector dot product"
   ]
  },
  {
   "cell_type": "markdown",
   "metadata": {
    "slideshow": {
     "slide_type": "fragment"
    }
   },
   "source": [
    "<img src=\"dot_product.png\">"
   ]
  },
  {
   "cell_type": "code",
   "execution_count": 4,
   "metadata": {
    "slideshow": {
     "slide_type": "slide"
    }
   },
   "outputs": [
    {
     "name": "stdout",
     "output_type": "stream",
     "text": [
      "x_dot_y: \t -19.0\n",
      "<class 'numpy.float64'>\n"
     ]
    }
   ],
   "source": [
    "x = np.array([2, 4, 5, 8])\n",
    "y = np.array([1, 0, -5, 0.5])\n",
    "\n",
    "x_dot_y = np.dot(x, y)\n",
    "\n",
    "print(\"x_dot_y: \\t\",x_dot_y)\n",
    "print(type(x_dot_y))"
   ]
  },
  {
   "cell_type": "markdown",
   "metadata": {
    "slideshow": {
     "slide_type": "slide"
    }
   },
   "source": [
    "## Matrix product"
   ]
  },
  {
   "cell_type": "markdown",
   "metadata": {
    "slideshow": {
     "slide_type": "fragment"
    }
   },
   "source": [
    "<img src=\"matrix_product.png\">"
   ]
  },
  {
   "cell_type": "code",
   "execution_count": 5,
   "metadata": {
    "slideshow": {
     "slide_type": "slide"
    }
   },
   "outputs": [
    {
     "name": "stdout",
     "output_type": "stream",
     "text": [
      "A :\t (2, 3)\n",
      "B :\t (3, 4)\n"
     ]
    }
   ],
   "source": [
    "A = np.matrix([[1, 2, 3], [4, 5, 6]])\n",
    "B = np.matrix([[1, 0, -1, -1], [0, 0, 0, 0], [1, 99, 9, 3]])\n",
    "\n",
    "print(\"A :\\t\",A.shape)\n",
    "print(\"B :\\t\",B.shape)"
   ]
  },
  {
   "cell_type": "code",
   "execution_count": 6,
   "metadata": {
    "slideshow": {
     "slide_type": "fragment"
    }
   },
   "outputs": [
    {
     "name": "stdout",
     "output_type": "stream",
     "text": [
      "AB: \n",
      " [[  4 297  26   8]\n",
      " [ 10 594  50  14]]\n",
      "\n",
      "type:\t <class 'numpy.matrixlib.defmatrix.matrix'>\n",
      "\n",
      "AB :\t (2, 4)\n"
     ]
    }
   ],
   "source": [
    "AB = np.matmul(A, B)\n",
    "\n",
    "print(\"AB: \\n\",AB)\n",
    "print('\\ntype:\\t',type(AB))\n",
    "print(\"\\nAB :\\t\",AB.shape)"
   ]
  },
  {
   "cell_type": "code",
   "execution_count": 7,
   "metadata": {
    "slideshow": {
     "slide_type": "slide"
    }
   },
   "outputs": [
    {
     "name": "stdout",
     "output_type": "stream",
     "text": [
      "AB: \n",
      " [[  4 297  26   8]\n",
      " [ 10 594  50  14]]\n",
      "\n",
      "type:\t <class 'numpy.matrixlib.defmatrix.matrix'>\n",
      "\n",
      "AB :\t (2, 4)\n"
     ]
    }
   ],
   "source": [
    "AB = np.dot(A, B)\n",
    "\n",
    "print(\"AB: \\n\",AB)\n",
    "print('\\ntype:\\t',type(AB))\n",
    "print(\"\\nAB :\\t\",AB.shape)"
   ]
  },
  {
   "cell_type": "code",
   "execution_count": 8,
   "metadata": {
    "slideshow": {
     "slide_type": "slide"
    }
   },
   "outputs": [
    {
     "name": "stdout",
     "output_type": "stream",
     "text": [
      "AB: \n",
      " [[ 1  4  9]\n",
      " [16 25 36]\n",
      " [49 64 81]]\n",
      "\n",
      "type:\t <class 'numpy.matrixlib.defmatrix.matrix'>\n",
      "\n",
      "AB :\t (3, 3)\n"
     ]
    }
   ],
   "source": [
    "# Element wise product\n",
    "A = np.matrix([[1, 2, 3], [4, 5, 6], [7, 8, 9]])\n",
    "B = np.matrix([[1, 2, 3], [4, 5, 6], [7, 8, 9]])\n",
    "\n",
    "AB = np.multiply(A, B)\n",
    "\n",
    "print(\"AB: \\n\",AB)\n",
    "print('\\ntype:\\t',type(AB))\n",
    "print(\"\\nAB :\\t\",AB.shape)"
   ]
  },
  {
   "cell_type": "markdown",
   "metadata": {
    "slideshow": {
     "slide_type": "slide"
    }
   },
   "source": [
    "## Determinant\n"
   ]
  },
  {
   "cell_type": "code",
   "execution_count": 9,
   "metadata": {
    "slideshow": {
     "slide_type": "slide"
    }
   },
   "outputs": [
    {
     "name": "stdout",
     "output_type": "stream",
     "text": [
      "Matrix :\n",
      " [[ 6  1  1]\n",
      " [ 4 -2  5]\n",
      " [ 2  8  7]]\n"
     ]
    }
   ],
   "source": [
    "# 3x3 matrix\n",
    "M = np.array([[6,1,1], [4, -2, 5], [2,8,7]])\n",
    "print(\"Matrix :\\n\",M)\n"
   ]
  },
  {
   "cell_type": "code",
   "execution_count": 10,
   "metadata": {
    "slideshow": {
     "slide_type": "slide"
    }
   },
   "outputs": [
    {
     "name": "stdout",
     "output_type": "stream",
     "text": [
      "-306\n"
     ]
    }
   ],
   "source": [
    "print(6*(-2*7 - 5*8) - 1*(4*7 - 5*2) + 1*(4*8 - -2*2))"
   ]
  },
  {
   "cell_type": "code",
   "execution_count": 11,
   "metadata": {
    "slideshow": {
     "slide_type": "fragment"
    }
   },
   "outputs": [
    {
     "data": {
      "text/plain": [
       "-306.0"
      ]
     },
     "execution_count": 11,
     "metadata": {},
     "output_type": "execute_result"
    }
   ],
   "source": [
    "np.linalg.det(M)"
   ]
  },
  {
   "cell_type": "markdown",
   "metadata": {
    "slideshow": {
     "slide_type": "slide"
    }
   },
   "source": [
    "## Inverse of a Matrix"
   ]
  },
  {
   "cell_type": "code",
   "execution_count": 12,
   "metadata": {
    "slideshow": {
     "slide_type": "fragment"
    }
   },
   "outputs": [
    {
     "name": "stdout",
     "output_type": "stream",
     "text": [
      "Matrix :\n",
      " [[ 6  1  1]\n",
      " [ 4 -2  5]\n",
      " [ 2  8  7]]\n"
     ]
    }
   ],
   "source": [
    "# 3x3 matrix\n",
    "M = np.array([[6,1,1], [4, -2, 5], [2,8,7]])\n",
    "print(\"Matrix :\\n\",M)"
   ]
  },
  {
   "cell_type": "code",
   "execution_count": 13,
   "metadata": {
    "slideshow": {
     "slide_type": "fragment"
    }
   },
   "outputs": [
    {
     "name": "stdout",
     "output_type": "stream",
     "text": [
      "M_inverse :\n",
      " [[ 0.17647059 -0.00326797 -0.02287582]\n",
      " [ 0.05882353 -0.13071895  0.08496732]\n",
      " [-0.11764706  0.1503268   0.05228758]]\n"
     ]
    }
   ],
   "source": [
    "M_inverse = np.linalg.inv(M) \n",
    "print(\"M_inverse :\\n\",M_inverse)"
   ]
  },
  {
   "cell_type": "markdown",
   "metadata": {
    "slideshow": {
     "slide_type": "slide"
    }
   },
   "source": [
    "### Is *M_inverse* correct ??"
   ]
  },
  {
   "cell_type": "markdown",
   "metadata": {
    "slideshow": {
     "slide_type": "fragment"
    }
   },
   "source": [
    "### If '*M_dot_M_inverse*' is an identity matrix then we can conclude that '*M_inverse*' is correct."
   ]
  },
  {
   "cell_type": "code",
   "execution_count": 14,
   "metadata": {
    "slideshow": {
     "slide_type": "fragment"
    }
   },
   "outputs": [
    {
     "name": "stdout",
     "output_type": "stream",
     "text": [
      "M_dot_M_inverse :\n",
      " [[1.00000000e+00 0.00000000e+00 6.93889390e-18]\n",
      " [2.77555756e-17 1.00000000e+00 4.85722573e-17]\n",
      " [8.32667268e-17 1.11022302e-16 1.00000000e+00]]\n"
     ]
    }
   ],
   "source": [
    "M_dot_M_inverse = np.dot(M, M_inverse)\n",
    "print(\"M_dot_M_inverse :\\n\",M_dot_M_inverse)"
   ]
  },
  {
   "cell_type": "markdown",
   "metadata": {
    "slideshow": {
     "slide_type": "slide"
    }
   },
   "source": [
    "### Try it yourself"
   ]
  },
  {
   "cell_type": "markdown",
   "metadata": {
    "slideshow": {
     "slide_type": "fragment"
    }
   },
   "source": [
    "- Find the vector matrix product of A and M (where A is a vector and M is a matrix).\n",
    "  where,\n",
    "         A = [1,-1,0]\n",
    "         M = [[1, 2, 3], [4, 5, 6], [7, 8, 9]]\n",
    "         \n",
    "- Find the matrix product of 3 matrices A, B and C (i.e. A_dot_B_dot_C).\n",
    "  where, \n",
    "         A = [[1, 2]]\n",
    "         B = [[2,3,4],[5,6,7]]\n",
    "         C = [[-1, 1, -1, 1], [0, 0, 0, 0], [1, 1, 1, 1]]\n",
    "         \n"
   ]
  },
  {
   "cell_type": "code",
   "execution_count": 54,
   "metadata": {
    "slideshow": {
     "slide_type": "slide"
    }
   },
   "outputs": [
    {
     "name": "stdout",
     "output_type": "stream",
     "text": [
      "A shape :\t (1, 3)\n",
      "M shape :\t (3, 3)\n",
      "AM shape :\t (1, 3)\n",
      "AM :\t [[-3 -3 -3]]\n"
     ]
    }
   ],
   "source": [
    "# Find the vector matrix product of A and M (where A is a vector and M is a matrix)\n",
    "\n",
    "A = np.matrix([1,-1,0])\n",
    "M = np.matrix([[1, 2, 3], [4, 5, 6], [7, 8, 9]])\n",
    "\n",
    "AM = np.dot(A,M)\n",
    "\n",
    "print(\"A shape :\\t\",A.shape)\n",
    "print(\"M shape :\\t\",M.shape)\n",
    "print(\"AM shape :\\t\",AM.shape)\n",
    "print(\"AM :\\t\",AM)"
   ]
  },
  {
   "cell_type": "code",
   "execution_count": 56,
   "metadata": {},
   "outputs": [
    {
     "name": "stdout",
     "output_type": "stream",
     "text": [
      "A shape :\t (1, 2)\n",
      "B shape :\t (2, 3)\n",
      "C shape :\t (3, 4)\n",
      "A_dot_B shape :\t (1, 3)\n",
      "A_dot_B_dot_C shape :\t (1, 4)\n",
      "A_dot_B :\t [[12 15 18]]\n",
      "A_dot_B_dot_C :\t [[ 6 30  6 30]]\n"
     ]
    }
   ],
   "source": [
    "# Find the matrix product of 3 matrices A, B and C (i.e. A_dot_B_dot_C)\n",
    "\n",
    "A = np.matrix([1, 2])\n",
    "B = np.matrix([[2,3,4],[5,6,7]])\n",
    "C = np.matrix([[-1, 1, -1, 1], [0, 0, 0, 0], [1, 1, 1, 1]])\n",
    "\n",
    "A_dot_B = np.dot(A,B)\n",
    "A_dot_B_dot_C = np.dot(A_dot_B,C)\n",
    "\n",
    "print(\"A shape :\\t\",A.shape)\n",
    "print(\"B shape :\\t\",B.shape)\n",
    "print(\"C shape :\\t\",C.shape)\n",
    "print(\"A_dot_B shape :\\t\",A_dot_B.shape)\n",
    "print(\"A_dot_B_dot_C shape :\\t\",A_dot_B_dot_C.shape)\n",
    "print(\"A_dot_B :\\t\",A_dot_B)\n",
    "print(\"A_dot_B_dot_C :\\t\",A_dot_B_dot_C)"
   ]
  },
  {
   "cell_type": "markdown",
   "metadata": {
    "slideshow": {
     "slide_type": "slide"
    }
   },
   "source": [
    "# Generative Models 1"
   ]
  },
  {
   "cell_type": "raw",
   "metadata": {
    "slideshow": {
     "slide_type": "fragment"
    }
   },
   "source": [
    "Outline:\n",
    "    Load Wine data\n",
    "    Implement Gaussian Naive Bayes\n",
    "    Implement Multinomial Naive Bayes\n",
    "    Introduce GridSearchCV, accuracy_score, make_classification"
   ]
  },
  {
   "cell_type": "code",
   "execution_count": 3,
   "metadata": {
    "slideshow": {
     "slide_type": "slide"
    }
   },
   "outputs": [],
   "source": [
    "from sklearn import datasets\n",
    "from sklearn.model_selection import train_test_split\n",
    "import numpy as np\n",
    "import pandas as pd\n",
    "\n",
    "# Load the wine dataset\n",
    "data = pd.read_csv('wine_original.csv')\n",
    "labels = data['class']\n",
    "del data['class']\n",
    "\n",
    "# Create training and test sets\n",
    "X_train, X_test, y_train, y_test = train_test_split(data, labels, test_size=0.2, random_state=10)"
   ]
  },
  {
   "cell_type": "code",
   "execution_count": 4,
   "metadata": {
    "slideshow": {
     "slide_type": "slide"
    }
   },
   "outputs": [
    {
     "name": "stdout",
     "output_type": "stream",
     "text": [
      "(142, 13)\n"
     ]
    },
    {
     "data": {
      "text/html": [
       "<div>\n",
       "<style scoped>\n",
       "    .dataframe tbody tr th:only-of-type {\n",
       "        vertical-align: middle;\n",
       "    }\n",
       "\n",
       "    .dataframe tbody tr th {\n",
       "        vertical-align: top;\n",
       "    }\n",
       "\n",
       "    .dataframe thead th {\n",
       "        text-align: right;\n",
       "    }\n",
       "</style>\n",
       "<table border=\"1\" class=\"dataframe\">\n",
       "  <thead>\n",
       "    <tr style=\"text-align: right;\">\n",
       "      <th></th>\n",
       "      <th>Alcohol</th>\n",
       "      <th>Malic acid</th>\n",
       "      <th>Ash</th>\n",
       "      <th>Alcalinity of ash</th>\n",
       "      <th>Magnesium</th>\n",
       "      <th>Total phenols</th>\n",
       "      <th>Flavanoids</th>\n",
       "      <th>Nonflavanoid phenols</th>\n",
       "      <th>Proanthocyanins</th>\n",
       "      <th>Color intensity</th>\n",
       "      <th>Hue</th>\n",
       "      <th>OD280/OD315</th>\n",
       "      <th>Proline</th>\n",
       "    </tr>\n",
       "  </thead>\n",
       "  <tbody>\n",
       "    <tr>\n",
       "      <th>95</th>\n",
       "      <td>12.47</td>\n",
       "      <td>1.52</td>\n",
       "      <td>2.20</td>\n",
       "      <td>19.0</td>\n",
       "      <td>162</td>\n",
       "      <td>2.50</td>\n",
       "      <td>2.27</td>\n",
       "      <td>0.32</td>\n",
       "      <td>3.28</td>\n",
       "      <td>2.60</td>\n",
       "      <td>1.16</td>\n",
       "      <td>2.63</td>\n",
       "      <td>937</td>\n",
       "    </tr>\n",
       "    <tr>\n",
       "      <th>91</th>\n",
       "      <td>12.00</td>\n",
       "      <td>1.51</td>\n",
       "      <td>2.42</td>\n",
       "      <td>22.0</td>\n",
       "      <td>86</td>\n",
       "      <td>1.45</td>\n",
       "      <td>1.25</td>\n",
       "      <td>0.50</td>\n",
       "      <td>1.63</td>\n",
       "      <td>3.60</td>\n",
       "      <td>1.05</td>\n",
       "      <td>2.65</td>\n",
       "      <td>450</td>\n",
       "    </tr>\n",
       "    <tr>\n",
       "      <th>24</th>\n",
       "      <td>13.50</td>\n",
       "      <td>1.81</td>\n",
       "      <td>2.61</td>\n",
       "      <td>20.0</td>\n",
       "      <td>96</td>\n",
       "      <td>2.53</td>\n",
       "      <td>2.61</td>\n",
       "      <td>0.28</td>\n",
       "      <td>1.66</td>\n",
       "      <td>3.52</td>\n",
       "      <td>1.12</td>\n",
       "      <td>3.82</td>\n",
       "      <td>845</td>\n",
       "    </tr>\n",
       "    <tr>\n",
       "      <th>109</th>\n",
       "      <td>11.61</td>\n",
       "      <td>1.35</td>\n",
       "      <td>2.70</td>\n",
       "      <td>20.0</td>\n",
       "      <td>94</td>\n",
       "      <td>2.74</td>\n",
       "      <td>2.92</td>\n",
       "      <td>0.29</td>\n",
       "      <td>2.49</td>\n",
       "      <td>2.65</td>\n",
       "      <td>0.96</td>\n",
       "      <td>3.26</td>\n",
       "      <td>680</td>\n",
       "    </tr>\n",
       "    <tr>\n",
       "      <th>121</th>\n",
       "      <td>11.56</td>\n",
       "      <td>2.05</td>\n",
       "      <td>3.23</td>\n",
       "      <td>28.5</td>\n",
       "      <td>119</td>\n",
       "      <td>3.18</td>\n",
       "      <td>5.08</td>\n",
       "      <td>0.47</td>\n",
       "      <td>1.87</td>\n",
       "      <td>6.00</td>\n",
       "      <td>0.93</td>\n",
       "      <td>3.69</td>\n",
       "      <td>465</td>\n",
       "    </tr>\n",
       "  </tbody>\n",
       "</table>\n",
       "</div>"
      ],
      "text/plain": [
       "     Alcohol  Malic acid   Ash  Alcalinity of ash  Magnesium  Total phenols  \\\n",
       "95     12.47        1.52  2.20               19.0        162           2.50   \n",
       "91     12.00        1.51  2.42               22.0         86           1.45   \n",
       "24     13.50        1.81  2.61               20.0         96           2.53   \n",
       "109    11.61        1.35  2.70               20.0         94           2.74   \n",
       "121    11.56        2.05  3.23               28.5        119           3.18   \n",
       "\n",
       "     Flavanoids  Nonflavanoid phenols  Proanthocyanins  Color intensity   Hue  \\\n",
       "95         2.27                  0.32             3.28             2.60  1.16   \n",
       "91         1.25                  0.50             1.63             3.60  1.05   \n",
       "24         2.61                  0.28             1.66             3.52  1.12   \n",
       "109        2.92                  0.29             2.49             2.65  0.96   \n",
       "121        5.08                  0.47             1.87             6.00  0.93   \n",
       "\n",
       "     OD280/OD315  Proline  \n",
       "95          2.63      937  \n",
       "91          2.65      450  \n",
       "24          3.82      845  \n",
       "109         3.26      680  \n",
       "121         3.69      465  "
      ]
     },
     "execution_count": 4,
     "metadata": {},
     "output_type": "execute_result"
    }
   ],
   "source": [
    "print (X_train.shape)\n",
    "X_train.head()"
   ]
  },
  {
   "cell_type": "code",
   "execution_count": 5,
   "metadata": {
    "slideshow": {
     "slide_type": "fragment"
    }
   },
   "outputs": [
    {
     "data": {
      "text/plain": [
       "2    53\n",
       "1    49\n",
       "3    40\n",
       "Name: class, dtype: int64"
      ]
     },
     "execution_count": 5,
     "metadata": {},
     "output_type": "execute_result"
    }
   ],
   "source": [
    "y_train.value_counts()"
   ]
  },
  {
   "cell_type": "code",
   "execution_count": 6,
   "metadata": {
    "slideshow": {
     "slide_type": "slide"
    }
   },
   "outputs": [
    {
     "name": "stdout",
     "output_type": "stream",
     "text": [
      "Training accuracy = 0.9859154929577465\n",
      "Test accuracy = 0.8888888888888888\n"
     ]
    }
   ],
   "source": [
    "from sklearn.naive_bayes import GaussianNB, MultinomialNB\n",
    "\n",
    "# Initialize Gaussian Naive Bayes\n",
    "gnb = GaussianNB()\n",
    "# Train the classifier\n",
    "gnb.fit(X_train, y_train)\n",
    "# Make predictions on test data\n",
    "y_pred = gnb.predict(X_test)\n",
    "# Make predictions on training data (to see our fit)\n",
    "y_train_pred = gnb.predict(X_train)\n",
    "\n",
    "# print the accuracy\n",
    "print ('Training accuracy = ' + str(np.sum(y_train_pred == y_train)/len(y_train)))\n",
    "print ('Test accuracy = ' + str(np.sum(y_pred == y_test)/len(y_test)))"
   ]
  },
  {
   "cell_type": "raw",
   "metadata": {
    "slideshow": {
     "slide_type": "slide"
    }
   },
   "source": [
    "GridSearchCV and accuracy_score using Multinomial Naive Bayes"
   ]
  },
  {
   "cell_type": "code",
   "execution_count": 7,
   "metadata": {
    "scrolled": true,
    "slideshow": {
     "slide_type": "slide"
    }
   },
   "outputs": [
    {
     "name": "stdout",
     "output_type": "stream",
     "text": [
      "Fitting 3 folds for each of 10 candidates, totalling 30 fits\n"
     ]
    },
    {
     "name": "stderr",
     "output_type": "stream",
     "text": [
      "/Users/gio/anaconda3/lib/python3.7/site-packages/sklearn/model_selection/_split.py:2053: FutureWarning: You should specify a value for 'cv' instead of relying on the default value. The default value will change from 3 to 5 in version 0.22.\n",
      "  warnings.warn(CV_WARNING, FutureWarning)\n",
      "[Parallel(n_jobs=-1)]: Using backend LokyBackend with 4 concurrent workers.\n"
     ]
    },
    {
     "name": "stdout",
     "output_type": "stream",
     "text": [
      "Test accuracy = 0.8333333333333334\n",
      "Train accuracy = 0.852112676056338\n",
      "{'alpha': 0.001}\n"
     ]
    },
    {
     "name": "stderr",
     "output_type": "stream",
     "text": [
      "[Parallel(n_jobs=-1)]: Done  30 out of  30 | elapsed:    4.2s finished\n",
      "/Users/gio/anaconda3/lib/python3.7/site-packages/sklearn/model_selection/_search.py:841: DeprecationWarning: The default of the `iid` parameter will change from True to False in version 0.22 and will be removed in 0.24. This will change numeric results when test-set sizes are unequal.\n",
      "  DeprecationWarning)\n"
     ]
    }
   ],
   "source": [
    "from sklearn.model_selection import GridSearchCV\n",
    "from sklearn.metrics import accuracy_score\n",
    "\n",
    "#X_train, X_valid, y_train, y_valid = train_test_split(X_train, y_train, test_size=0.2, random_state=5)\n",
    "\n",
    "parameters = { 'alpha' : [0.001, 0.01, 0.1, 0.5, 1, 2, 3, 4, 5, 10] }\n",
    "mnb = MultinomialNB()\n",
    "clf = GridSearchCV(mnb, parameters, verbose=True, n_jobs=-1)\n",
    "clf.fit(X_train, y_train)\n",
    "y_pred = clf.predict(X_test)\n",
    "\n",
    "#accuracy = np.sum(y_pred == y_test)/len(y_test)\n",
    "accuracy = accuracy_score(y_pred, y_test)\n",
    "train_acc = accuracy_score(clf.predict(X_train), y_train)\n",
    "print ('Test accuracy = ' + str(accuracy))# + ' at alpha = ' + str(alpha))\n",
    "print ('Train accuracy = ' + str(train_acc)) \n",
    "print (clf.best_params_)"
   ]
  },
  {
   "cell_type": "markdown",
   "metadata": {
    "slideshow": {
     "slide_type": "slide"
    }
   },
   "source": [
    "# How to create a classification problem dataset"
   ]
  },
  {
   "cell_type": "code",
   "execution_count": 51,
   "metadata": {
    "slideshow": {
     "slide_type": "fragment"
    }
   },
   "outputs": [],
   "source": [
    "from sklearn.datasets import make_classification\n",
    "\n",
    "X, y = make_classification(n_samples=100, n_features=20, n_classes = 3, n_informative = 3)"
   ]
  },
  {
   "cell_type": "code",
   "execution_count": 52,
   "metadata": {
    "slideshow": {
     "slide_type": "slide"
    }
   },
   "outputs": [
    {
     "data": {
      "text/plain": [
       "(100, 20)"
      ]
     },
     "execution_count": 52,
     "metadata": {},
     "output_type": "execute_result"
    }
   ],
   "source": [
    "X.shape"
   ]
  },
  {
   "cell_type": "code",
   "execution_count": 53,
   "metadata": {
    "slideshow": {
     "slide_type": "fragment"
    }
   },
   "outputs": [
    {
     "data": {
      "text/html": [
       "<div>\n",
       "<style scoped>\n",
       "    .dataframe tbody tr th:only-of-type {\n",
       "        vertical-align: middle;\n",
       "    }\n",
       "\n",
       "    .dataframe tbody tr th {\n",
       "        vertical-align: top;\n",
       "    }\n",
       "\n",
       "    .dataframe thead th {\n",
       "        text-align: right;\n",
       "    }\n",
       "</style>\n",
       "<table border=\"1\" class=\"dataframe\">\n",
       "  <thead>\n",
       "    <tr style=\"text-align: right;\">\n",
       "      <th></th>\n",
       "      <th>0</th>\n",
       "      <th>1</th>\n",
       "      <th>2</th>\n",
       "      <th>3</th>\n",
       "      <th>4</th>\n",
       "      <th>5</th>\n",
       "      <th>6</th>\n",
       "      <th>7</th>\n",
       "      <th>8</th>\n",
       "      <th>9</th>\n",
       "      <th>10</th>\n",
       "      <th>11</th>\n",
       "      <th>12</th>\n",
       "      <th>13</th>\n",
       "      <th>14</th>\n",
       "      <th>15</th>\n",
       "      <th>16</th>\n",
       "      <th>17</th>\n",
       "      <th>18</th>\n",
       "      <th>19</th>\n",
       "    </tr>\n",
       "  </thead>\n",
       "  <tbody>\n",
       "    <tr>\n",
       "      <th>0</th>\n",
       "      <td>1.651974</td>\n",
       "      <td>0.852830</td>\n",
       "      <td>2.217686</td>\n",
       "      <td>0.396525</td>\n",
       "      <td>-0.446188</td>\n",
       "      <td>0.013384</td>\n",
       "      <td>-1.136327</td>\n",
       "      <td>0.319694</td>\n",
       "      <td>-0.914755</td>\n",
       "      <td>0.311523</td>\n",
       "      <td>-0.046454</td>\n",
       "      <td>-0.170417</td>\n",
       "      <td>0.767824</td>\n",
       "      <td>-0.005930</td>\n",
       "      <td>-0.014942</td>\n",
       "      <td>-1.355430</td>\n",
       "      <td>-0.812687</td>\n",
       "      <td>-0.732592</td>\n",
       "      <td>-0.112316</td>\n",
       "      <td>0.245824</td>\n",
       "    </tr>\n",
       "    <tr>\n",
       "      <th>1</th>\n",
       "      <td>-1.369365</td>\n",
       "      <td>-0.830684</td>\n",
       "      <td>-1.176038</td>\n",
       "      <td>-0.629892</td>\n",
       "      <td>0.192238</td>\n",
       "      <td>2.165497</td>\n",
       "      <td>1.591953</td>\n",
       "      <td>-0.118838</td>\n",
       "      <td>-0.742129</td>\n",
       "      <td>0.501616</td>\n",
       "      <td>1.138340</td>\n",
       "      <td>0.975204</td>\n",
       "      <td>-0.132918</td>\n",
       "      <td>1.170067</td>\n",
       "      <td>-0.644785</td>\n",
       "      <td>0.751794</td>\n",
       "      <td>0.299732</td>\n",
       "      <td>1.200675</td>\n",
       "      <td>-2.353202</td>\n",
       "      <td>-0.191087</td>\n",
       "    </tr>\n",
       "    <tr>\n",
       "      <th>2</th>\n",
       "      <td>-0.335313</td>\n",
       "      <td>0.988168</td>\n",
       "      <td>-0.056683</td>\n",
       "      <td>-0.146777</td>\n",
       "      <td>-1.115458</td>\n",
       "      <td>-0.415460</td>\n",
       "      <td>-1.008233</td>\n",
       "      <td>-1.415787</td>\n",
       "      <td>-0.491484</td>\n",
       "      <td>-0.115318</td>\n",
       "      <td>-1.735396</td>\n",
       "      <td>-0.722929</td>\n",
       "      <td>0.310783</td>\n",
       "      <td>-0.052385</td>\n",
       "      <td>0.739341</td>\n",
       "      <td>1.137149</td>\n",
       "      <td>2.457265</td>\n",
       "      <td>1.977110</td>\n",
       "      <td>-0.634900</td>\n",
       "      <td>-0.704078</td>\n",
       "    </tr>\n",
       "    <tr>\n",
       "      <th>3</th>\n",
       "      <td>-0.870118</td>\n",
       "      <td>1.916596</td>\n",
       "      <td>-0.065091</td>\n",
       "      <td>0.697129</td>\n",
       "      <td>1.684563</td>\n",
       "      <td>-0.130707</td>\n",
       "      <td>1.982868</td>\n",
       "      <td>1.182492</td>\n",
       "      <td>-2.678001</td>\n",
       "      <td>1.057621</td>\n",
       "      <td>-0.529890</td>\n",
       "      <td>1.227657</td>\n",
       "      <td>-1.760857</td>\n",
       "      <td>-0.821769</td>\n",
       "      <td>0.354259</td>\n",
       "      <td>-0.352379</td>\n",
       "      <td>0.386517</td>\n",
       "      <td>0.764791</td>\n",
       "      <td>-1.230550</td>\n",
       "      <td>0.164876</td>\n",
       "    </tr>\n",
       "    <tr>\n",
       "      <th>4</th>\n",
       "      <td>-1.185143</td>\n",
       "      <td>1.626507</td>\n",
       "      <td>-1.416213</td>\n",
       "      <td>0.722189</td>\n",
       "      <td>-0.179357</td>\n",
       "      <td>-1.022353</td>\n",
       "      <td>0.621295</td>\n",
       "      <td>0.958578</td>\n",
       "      <td>-1.180366</td>\n",
       "      <td>1.189275</td>\n",
       "      <td>-0.145039</td>\n",
       "      <td>0.559647</td>\n",
       "      <td>1.667523</td>\n",
       "      <td>-1.188217</td>\n",
       "      <td>-0.813369</td>\n",
       "      <td>0.654610</td>\n",
       "      <td>-0.139804</td>\n",
       "      <td>0.382780</td>\n",
       "      <td>1.671296</td>\n",
       "      <td>-0.038772</td>\n",
       "    </tr>\n",
       "  </tbody>\n",
       "</table>\n",
       "</div>"
      ],
      "text/plain": [
       "         0         1         2         3         4         5         6   \\\n",
       "0  1.651974  0.852830  2.217686  0.396525 -0.446188  0.013384 -1.136327   \n",
       "1 -1.369365 -0.830684 -1.176038 -0.629892  0.192238  2.165497  1.591953   \n",
       "2 -0.335313  0.988168 -0.056683 -0.146777 -1.115458 -0.415460 -1.008233   \n",
       "3 -0.870118  1.916596 -0.065091  0.697129  1.684563 -0.130707  1.982868   \n",
       "4 -1.185143  1.626507 -1.416213  0.722189 -0.179357 -1.022353  0.621295   \n",
       "\n",
       "         7         8         9         10        11        12        13  \\\n",
       "0  0.319694 -0.914755  0.311523 -0.046454 -0.170417  0.767824 -0.005930   \n",
       "1 -0.118838 -0.742129  0.501616  1.138340  0.975204 -0.132918  1.170067   \n",
       "2 -1.415787 -0.491484 -0.115318 -1.735396 -0.722929  0.310783 -0.052385   \n",
       "3  1.182492 -2.678001  1.057621 -0.529890  1.227657 -1.760857 -0.821769   \n",
       "4  0.958578 -1.180366  1.189275 -0.145039  0.559647  1.667523 -1.188217   \n",
       "\n",
       "         14        15        16        17        18        19  \n",
       "0 -0.014942 -1.355430 -0.812687 -0.732592 -0.112316  0.245824  \n",
       "1 -0.644785  0.751794  0.299732  1.200675 -2.353202 -0.191087  \n",
       "2  0.739341  1.137149  2.457265  1.977110 -0.634900 -0.704078  \n",
       "3  0.354259 -0.352379  0.386517  0.764791 -1.230550  0.164876  \n",
       "4 -0.813369  0.654610 -0.139804  0.382780  1.671296 -0.038772  "
      ]
     },
     "execution_count": 53,
     "metadata": {},
     "output_type": "execute_result"
    }
   ],
   "source": [
    "pd.DataFrame(X).head(5)\n",
    "# pd.DataFrame(X)"
   ]
  },
  {
   "cell_type": "code",
   "execution_count": 54,
   "metadata": {},
   "outputs": [
    {
     "data": {
      "text/html": [
       "<div>\n",
       "<style scoped>\n",
       "    .dataframe tbody tr th:only-of-type {\n",
       "        vertical-align: middle;\n",
       "    }\n",
       "\n",
       "    .dataframe tbody tr th {\n",
       "        vertical-align: top;\n",
       "    }\n",
       "\n",
       "    .dataframe thead th {\n",
       "        text-align: right;\n",
       "    }\n",
       "</style>\n",
       "<table border=\"1\" class=\"dataframe\">\n",
       "  <thead>\n",
       "    <tr style=\"text-align: right;\">\n",
       "      <th></th>\n",
       "      <th>0</th>\n",
       "    </tr>\n",
       "  </thead>\n",
       "  <tbody>\n",
       "    <tr>\n",
       "      <th>0</th>\n",
       "      <td>0</td>\n",
       "    </tr>\n",
       "    <tr>\n",
       "      <th>1</th>\n",
       "      <td>2</td>\n",
       "    </tr>\n",
       "    <tr>\n",
       "      <th>2</th>\n",
       "      <td>2</td>\n",
       "    </tr>\n",
       "    <tr>\n",
       "      <th>3</th>\n",
       "      <td>1</td>\n",
       "    </tr>\n",
       "    <tr>\n",
       "      <th>4</th>\n",
       "      <td>2</td>\n",
       "    </tr>\n",
       "  </tbody>\n",
       "</table>\n",
       "</div>"
      ],
      "text/plain": [
       "   0\n",
       "0  0\n",
       "1  2\n",
       "2  2\n",
       "3  1\n",
       "4  2"
      ]
     },
     "execution_count": 54,
     "metadata": {},
     "output_type": "execute_result"
    }
   ],
   "source": [
    "pd.DataFrame(y).head(5)"
   ]
  },
  {
   "cell_type": "markdown",
   "metadata": {
    "slideshow": {
     "slide_type": "slide"
    }
   },
   "source": [
    "# Try it yourself!"
   ]
  },
  {
   "cell_type": "markdown",
   "metadata": {
    "slideshow": {
     "slide_type": "fragment"
    }
   },
   "source": [
    "1. Create a classification problem with 3 classes, 15 features and 5000 rows\n",
    "2. Take the last 1000 rows to be the test set\n",
    "3. Run Gaussian naive bayes on this problem and report test accuracy\n",
    "4. Calculate class prior probabilities for each class in training data (first 4k rows)\n",
    "5. Calculate the probability of the samples for each class in the test set\n",
    "\n",
    "References:\n",
    "    http://scikit-learn.org/stable/modules/generated/sklearn.datasets.make_classification.html\n",
    "    http://scikit-learn.org/stable/modules/generated/sklearn.naive_bayes.GaussianNB.html#sklearn.naive_bayes.GaussianNB"
   ]
  },
  {
   "cell_type": "code",
   "execution_count": 116,
   "metadata": {},
   "outputs": [],
   "source": [
    "# 1. Create a classification problem with 3 classes, 15 features and 5000 rows\n",
    "\n",
    "from sklearn.datasets import make_classification\n",
    "\n",
    "X, y = make_classification(n_samples=5000, n_features=15, n_classes = 3, n_informative = 3)"
   ]
  },
  {
   "cell_type": "code",
   "execution_count": 117,
   "metadata": {},
   "outputs": [
    {
     "data": {
      "text/html": [
       "<div>\n",
       "<style scoped>\n",
       "    .dataframe tbody tr th:only-of-type {\n",
       "        vertical-align: middle;\n",
       "    }\n",
       "\n",
       "    .dataframe tbody tr th {\n",
       "        vertical-align: top;\n",
       "    }\n",
       "\n",
       "    .dataframe thead th {\n",
       "        text-align: right;\n",
       "    }\n",
       "</style>\n",
       "<table border=\"1\" class=\"dataframe\">\n",
       "  <thead>\n",
       "    <tr style=\"text-align: right;\">\n",
       "      <th></th>\n",
       "      <th>0</th>\n",
       "      <th>1</th>\n",
       "      <th>2</th>\n",
       "      <th>3</th>\n",
       "      <th>4</th>\n",
       "      <th>5</th>\n",
       "      <th>6</th>\n",
       "      <th>7</th>\n",
       "      <th>8</th>\n",
       "      <th>9</th>\n",
       "      <th>10</th>\n",
       "      <th>11</th>\n",
       "      <th>12</th>\n",
       "      <th>13</th>\n",
       "      <th>14</th>\n",
       "    </tr>\n",
       "  </thead>\n",
       "  <tbody>\n",
       "    <tr>\n",
       "      <th>0</th>\n",
       "      <td>-0.479888</td>\n",
       "      <td>-0.600105</td>\n",
       "      <td>0.303918</td>\n",
       "      <td>1.535755</td>\n",
       "      <td>0.340140</td>\n",
       "      <td>-1.988212</td>\n",
       "      <td>-0.027653</td>\n",
       "      <td>-0.894987</td>\n",
       "      <td>-1.587801</td>\n",
       "      <td>2.467105</td>\n",
       "      <td>-1.136715</td>\n",
       "      <td>-2.083581</td>\n",
       "      <td>-0.380400</td>\n",
       "      <td>1.974672</td>\n",
       "      <td>-0.697588</td>\n",
       "    </tr>\n",
       "    <tr>\n",
       "      <th>1</th>\n",
       "      <td>0.633348</td>\n",
       "      <td>0.962290</td>\n",
       "      <td>0.814473</td>\n",
       "      <td>-0.003243</td>\n",
       "      <td>0.929666</td>\n",
       "      <td>-0.744475</td>\n",
       "      <td>-1.337174</td>\n",
       "      <td>-0.366015</td>\n",
       "      <td>1.386391</td>\n",
       "      <td>-0.227363</td>\n",
       "      <td>0.760677</td>\n",
       "      <td>-0.936752</td>\n",
       "      <td>-0.685653</td>\n",
       "      <td>-0.756152</td>\n",
       "      <td>-1.657604</td>\n",
       "    </tr>\n",
       "    <tr>\n",
       "      <th>2</th>\n",
       "      <td>0.933183</td>\n",
       "      <td>-0.612267</td>\n",
       "      <td>-1.034197</td>\n",
       "      <td>0.369370</td>\n",
       "      <td>-1.411523</td>\n",
       "      <td>-0.324664</td>\n",
       "      <td>-0.064488</td>\n",
       "      <td>-0.172099</td>\n",
       "      <td>-2.458331</td>\n",
       "      <td>-1.098262</td>\n",
       "      <td>1.258992</td>\n",
       "      <td>0.611090</td>\n",
       "      <td>-0.705192</td>\n",
       "      <td>-1.617141</td>\n",
       "      <td>-0.264329</td>\n",
       "    </tr>\n",
       "    <tr>\n",
       "      <th>3</th>\n",
       "      <td>-3.441939</td>\n",
       "      <td>-0.951017</td>\n",
       "      <td>-1.048750</td>\n",
       "      <td>1.443221</td>\n",
       "      <td>-1.250332</td>\n",
       "      <td>0.164343</td>\n",
       "      <td>1.893598</td>\n",
       "      <td>-0.280170</td>\n",
       "      <td>-1.193462</td>\n",
       "      <td>-0.933628</td>\n",
       "      <td>-3.030818</td>\n",
       "      <td>0.813125</td>\n",
       "      <td>4.508485</td>\n",
       "      <td>3.222326</td>\n",
       "      <td>0.472896</td>\n",
       "    </tr>\n",
       "    <tr>\n",
       "      <th>4</th>\n",
       "      <td>0.385174</td>\n",
       "      <td>-0.315077</td>\n",
       "      <td>-1.458283</td>\n",
       "      <td>-0.506321</td>\n",
       "      <td>0.473403</td>\n",
       "      <td>-0.748647</td>\n",
       "      <td>-2.977722</td>\n",
       "      <td>0.326998</td>\n",
       "      <td>1.128224</td>\n",
       "      <td>0.548446</td>\n",
       "      <td>-0.833508</td>\n",
       "      <td>-1.124286</td>\n",
       "      <td>-0.551719</td>\n",
       "      <td>-0.902384</td>\n",
       "      <td>-1.055020</td>\n",
       "    </tr>\n",
       "  </tbody>\n",
       "</table>\n",
       "</div>"
      ],
      "text/plain": [
       "         0         1         2         3         4         5         6   \\\n",
       "0 -0.479888 -0.600105  0.303918  1.535755  0.340140 -1.988212 -0.027653   \n",
       "1  0.633348  0.962290  0.814473 -0.003243  0.929666 -0.744475 -1.337174   \n",
       "2  0.933183 -0.612267 -1.034197  0.369370 -1.411523 -0.324664 -0.064488   \n",
       "3 -3.441939 -0.951017 -1.048750  1.443221 -1.250332  0.164343  1.893598   \n",
       "4  0.385174 -0.315077 -1.458283 -0.506321  0.473403 -0.748647 -2.977722   \n",
       "\n",
       "         7         8         9         10        11        12        13  \\\n",
       "0 -0.894987 -1.587801  2.467105 -1.136715 -2.083581 -0.380400  1.974672   \n",
       "1 -0.366015  1.386391 -0.227363  0.760677 -0.936752 -0.685653 -0.756152   \n",
       "2 -0.172099 -2.458331 -1.098262  1.258992  0.611090 -0.705192 -1.617141   \n",
       "3 -0.280170 -1.193462 -0.933628 -3.030818  0.813125  4.508485  3.222326   \n",
       "4  0.326998  1.128224  0.548446 -0.833508 -1.124286 -0.551719 -0.902384   \n",
       "\n",
       "         14  \n",
       "0 -0.697588  \n",
       "1 -1.657604  \n",
       "2 -0.264329  \n",
       "3  0.472896  \n",
       "4 -1.055020  "
      ]
     },
     "execution_count": 117,
     "metadata": {},
     "output_type": "execute_result"
    }
   ],
   "source": [
    "# print X\n",
    "\n",
    "pd.DataFrame(X).head(5)"
   ]
  },
  {
   "cell_type": "code",
   "execution_count": 118,
   "metadata": {},
   "outputs": [
    {
     "data": {
      "text/plain": [
       "array([2, 2, 2, ..., 1, 2, 2])"
      ]
     },
     "execution_count": 118,
     "metadata": {},
     "output_type": "execute_result"
    }
   ],
   "source": [
    "# print y\n",
    "\n",
    "y"
   ]
  },
  {
   "cell_type": "code",
   "execution_count": 119,
   "metadata": {},
   "outputs": [
    {
     "name": "stdout",
     "output_type": "stream",
     "text": [
      "(5000, 15)\n",
      "(5000,)\n"
     ]
    }
   ],
   "source": [
    "# print size of X and y\n",
    "\n",
    "print(X.shape)\n",
    "print(y.shape)"
   ]
  },
  {
   "cell_type": "code",
   "execution_count": 120,
   "metadata": {},
   "outputs": [],
   "source": [
    "# 2. Take the last 1000 rows to be the test set, and the first 4k rows to be the train set\n",
    "\n",
    "X_test = X[-1000:,:]\n",
    "y_test = y[-1000:]\n",
    "\n",
    "X_train = X[:-1000,:]\n",
    "y_train = y[:-1000]"
   ]
  },
  {
   "cell_type": "code",
   "execution_count": 121,
   "metadata": {},
   "outputs": [
    {
     "name": "stdout",
     "output_type": "stream",
     "text": [
      "Training accuracy = 0.845\n",
      "Test accuracy = 0.833\n"
     ]
    }
   ],
   "source": [
    "# 3. Run Gaussian naive bayes on this problem and report test accuracy\n",
    "\n",
    "from sklearn.naive_bayes import GaussianNB, MultinomialNB\n",
    "\n",
    "# Initialize Gaussian Naive Bayes\n",
    "gnb = GaussianNB()\n",
    "# Train the classifier\n",
    "gnb.fit(X_train, y_train)\n",
    "# Make predictions on test data\n",
    "y_pred = gnb.predict(X_test)\n",
    "# Make predictions on training data (to see our fit)\n",
    "y_train_pred = gnb.predict(X_train)\n",
    "\n",
    "# print the accuracy\n",
    "print ('Training accuracy = ' + str(np.sum(y_train_pred == y_train)/len(y_train)))\n",
    "print ('Test accuracy = ' + str(np.sum(y_pred == y_test)/len(y_test)))"
   ]
  },
  {
   "cell_type": "code",
   "execution_count": 126,
   "metadata": {},
   "outputs": [
    {
     "data": {
      "text/plain": [
       "array([0.3305 , 0.33175, 0.33775])"
      ]
     },
     "execution_count": 126,
     "metadata": {},
     "output_type": "execute_result"
    }
   ],
   "source": [
    "# 4. Calculate class prior probabilities for each class in training data (first 4k rows)\n",
    "\n",
    "prob_prior_train = gnb.class_prior_\n",
    "prob_prior_train"
   ]
  },
  {
   "cell_type": "code",
   "execution_count": 127,
   "metadata": {},
   "outputs": [
    {
     "data": {
      "text/plain": [
       "array([[8.72482662e-01, 9.57308927e-02, 3.17864455e-02],\n",
       "       [2.55717046e-01, 7.14314246e-01, 2.99687078e-02],\n",
       "       [5.09309066e-08, 9.99996257e-01, 3.69179916e-06],\n",
       "       ...,\n",
       "       [9.67700599e-03, 9.89714274e-01, 6.08719607e-04],\n",
       "       [3.01023719e-02, 8.31934215e-03, 9.61578286e-01],\n",
       "       [1.96811484e-02, 5.01668944e-02, 9.30151957e-01]])"
      ]
     },
     "execution_count": 127,
     "metadata": {},
     "output_type": "execute_result"
    }
   ],
   "source": [
    "# 5. Calculate the probability of the samples for each class in the test set\n",
    "\n",
    "prob_test = gnb.predict_proba(X_test)\n",
    "prob_test"
   ]
  },
  {
   "cell_type": "code",
   "execution_count": 128,
   "metadata": {},
   "outputs": [
    {
     "data": {
      "text/plain": [
       "(1000, 3)"
      ]
     },
     "execution_count": 128,
     "metadata": {},
     "output_type": "execute_result"
    }
   ],
   "source": [
    "# find size of probability for test set\n",
    "prob_test.shape"
   ]
  }
 ],
 "metadata": {
  "celltoolbar": "Slideshow",
  "kernelspec": {
   "display_name": "Python 3",
   "language": "python",
   "name": "python3"
  },
  "language_info": {
   "codemirror_mode": {
    "name": "ipython",
    "version": 3
   },
   "file_extension": ".py",
   "mimetype": "text/x-python",
   "name": "python",
   "nbconvert_exporter": "python",
   "pygments_lexer": "ipython3",
   "version": "3.7.1"
  }
 },
 "nbformat": 4,
 "nbformat_minor": 2
}
