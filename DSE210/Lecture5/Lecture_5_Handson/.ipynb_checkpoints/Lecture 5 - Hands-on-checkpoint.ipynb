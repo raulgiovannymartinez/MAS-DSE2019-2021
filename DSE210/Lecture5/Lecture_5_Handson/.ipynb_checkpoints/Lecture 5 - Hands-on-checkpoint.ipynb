{
 "cells": [
  {
   "cell_type": "markdown",
   "metadata": {
    "slideshow": {
     "slide_type": "slide"
    }
   },
   "source": [
    "# Lecture 5: Hands-on"
   ]
  },
  {
   "cell_type": "markdown",
   "metadata": {
    "slideshow": {
     "slide_type": "fragment"
    }
   },
   "source": [
    "## Outline:\n",
    "\n",
    "- ### Law of Large Numbers\n",
    "- ### Central Limit Theorem\n",
    "- ### Confidence Interval\n",
    "- ### Hypothesis Testing"
   ]
  },
  {
   "cell_type": "markdown",
   "metadata": {
    "slideshow": {
     "slide_type": "fragment"
    }
   },
   "source": [
    "Reference: ECE 225, Alon Orlitsky, UCSD"
   ]
  },
  {
   "cell_type": "code",
   "execution_count": 38,
   "metadata": {
    "scrolled": true,
    "slideshow": {
     "slide_type": "slide"
    }
   },
   "outputs": [
    {
     "name": "stdout",
     "output_type": "stream",
     "text": [
      "Populating the interactive namespace from numpy and matplotlib\n"
     ]
    },
    {
     "name": "stderr",
     "output_type": "stream",
     "text": [
      "C:\\Users\\iocak\\Anaconda3\\lib\\site-packages\\IPython\\core\\magics\\pylab.py:160: UserWarning: pylab import has clobbered these variables: ['exp', 'sqrt']\n",
      "`%matplotlib` prevents importing * from pylab and numpy\n",
      "  \"\\n`%matplotlib` prevents importing * from pylab and numpy\"\n"
     ]
    }
   ],
   "source": [
    "%pylab inline\n",
    "import ipywidgets as widgets\n",
    "import matplotlib.pyplot as plt \n",
    "from math import sqrt,exp"
   ]
  },
  {
   "cell_type": "code",
   "execution_count": 28,
   "metadata": {
    "slideshow": {
     "slide_type": "fragment"
    }
   },
   "outputs": [],
   "source": [
    "plt.style.use([{\n",
    "    \"figure.figsize\":(12,9),\n",
    "    \"xtick.labelsize\": \"large\",\n",
    "    \"ytick.labelsize\": \"large\",\n",
    "    \"legend.fontsize\": \"x-large\",\n",
    "    \"axes.labelsize\": \"x-large\",\n",
    "    \"axes.titlesize\": \"xx-large\",\n",
    "    \"axes.spines.top\": False,\n",
    "    \"axes.spines.right\": False,\n",
    "},'seaborn-poster'])"
   ]
  },
  {
   "cell_type": "markdown",
   "metadata": {
    "slideshow": {
     "slide_type": "slide"
    }
   },
   "source": [
    "## Law of Large Numbers"
   ]
  },
  {
   "cell_type": "markdown",
   "metadata": {
    "slideshow": {
     "slide_type": "fragment"
    }
   },
   "source": [
    "We demonstrate the Law of Large Numbers by plotting the distribution of sample means.\n",
    "\n",
    "The following code calculates and plots the probability distribution  function (PDF) of the sample mean\n",
    "$$\\overline{X}_n=\\frac{1}{n}\\sum_{i=1}^n X_i.$$"
   ]
  },
  {
   "cell_type": "markdown",
   "metadata": {
    "slideshow": {
     "slide_type": "slide"
    }
   },
   "source": [
    "### Uniform distributions\n",
    "\n",
    "The $X_i$ follow an i.i.d. uniform distribution on interval $[a,b]$\n",
    "$$f_{X_i}(x)=\\begin{cases}\n",
    "\\frac{1}{b-a} & a\\le x\\le b\\\\\n",
    "0 & \\text{otherwise}\n",
    "\\end{cases}$$"
   ]
  },
  {
   "cell_type": "markdown",
   "metadata": {
    "slideshow": {
     "slide_type": "fragment"
    }
   },
   "source": [
    "We generate sliders to control the input to the function, followed by the actual simulation. \n",
    "\n",
    "$[a,b]$ is the range of the uniform distirbution, shown in blue, and its mean $x=\\mu=E[X_i]$\n",
    "is shown in green. $n$ is the number of variables that get averaged and the pdf of the average is shown in blue. For example, if $n=5$ and $s=1000$ then you generate 1000 samples, where each sample is the mean of 5 samples from the uniform distribution. \n",
    "\n",
    "Observe that as you increase $n$, the distribution of the mean approaches a spike at $\\mu$. And when you increase $s$ the simulation histogram approaches the actual distribution. "
   ]
  },
  {
   "cell_type": "code",
   "execution_count": 45,
   "metadata": {
    "slideshow": {
     "slide_type": "slide"
    }
   },
   "outputs": [
    {
     "data": {
      "application/vnd.jupyter.widget-view+json": {
       "model_id": "250f753892fd43f69b096c62de9e3562",
       "version_major": 2,
       "version_minor": 0
      },
      "text/plain": [
       "interactive(children=(FloatRangeSlider(value=(2.0, 8.0), continuous_update=False, description='[a, b]', max=9.…"
      ]
     },
     "metadata": {},
     "output_type": "display_data"
    }
   ],
   "source": [
    "# defining interactive widget object\n",
    "w=widgets.FloatRangeSlider(description = \"[a, b]\", \n",
    "                           value=[2, 8], \n",
    "                           min=0.02,\n",
    "                           max=9.98,\n",
    "                           step=0.01,\n",
    "                           continuous_update = False)\n",
    "\n",
    "\n",
    "# Generate samples of emphirical mean of k uniform distribution on [a,b]\n",
    "def generate_uniform_counts(a, b, sample_size, number_samples):\n",
    "    X= random.uniform(a,b,[sample_size, number_samples])  # generate a sample_size by number_samples matrix of uniform random numbers\n",
    "    S=sum(X,axis=0)/sample_size\n",
    "    return S\n",
    "\n",
    "def uniform_plot_hist(s, sample_size, number_samples):\n",
    "    a, b = s\n",
    "    if number_samples > 0:\n",
    "        n = number_samples\n",
    "        counts = generate_uniform_counts(a, b, sample_size, number_samples)\n",
    "        hist(counts,bins=30,normed=True,label=\"Histogram of mean values\")\n",
    "        xlim([0,10])\n",
    "        plot([(a+b)/2, (a+b)/2], [0, 1], 'g--', linewidth = 2.0,label=\"Mean of uniform distribution\")\n",
    "\n",
    "\n",
    "# plot the pdf of 1/n(\\sum_{i=1}^n X_i), X_i~U_{a,b}\n",
    "@widgets.interact(s=w,sample_size=(1,20),number_samples=(1,10000))\n",
    "def uniform_mean_pdf(s, sample_size, number_samples):\n",
    "    a,b = s \n",
    "    d = 10.0/1000;\n",
    "    x=linspace(0.01,10,1000)\n",
    "    close()\n",
    "    if a<b:\n",
    "        y=(1.0*(x>=a))*(1.0*(x<=b))/(b-a)\n",
    "        z=y\n",
    "        for j in range(2,sample_size+1):\n",
    "            t = [item/(j-1) for item in z for i in range(j-1)]\n",
    "            z=[0,] + convolve(y,t).tolist()\n",
    "            z=[i*d for i in z]\n",
    "            z = sum(reshape(z,(1000,j)),axis=1)\n",
    "        plot(x, z, label=\"Distribution of Mean\")\n",
    "        uniform_plot_hist(s,sample_size,number_samples)\n",
    "        title('PDF and histogram of $\\overline{X}_n$ with Sample Size=%d, Number of Samples=%d'%(sample_size,number_samples), fontsize = 20)\n",
    "        xlabel('$\\overline{x}_n$')\n",
    "        ylabel('$f_{\\overline{X}_n}(x)$')\n",
    "        plt.ylim([0,1.1])\n",
    "        plt.legend()\n"
   ]
  },
  {
   "cell_type": "code",
   "execution_count": 13,
   "metadata": {
    "slideshow": {
     "slide_type": "slide"
    }
   },
   "outputs": [
    {
     "data": {
      "text/plain": [
       "[1.2401667837223818,\n",
       " 4.919896924522598,\n",
       " 4.6959425485272,\n",
       " 5.08094481979567,\n",
       " 4.991622703482716,\n",
       " 4.984851598430491,\n",
       " 5.0009194500560845]"
      ]
     },
     "execution_count": 13,
     "metadata": {},
     "output_type": "execute_result"
    }
   ],
   "source": [
    "[np.mean(random.uniform(low = 0, high = 10, size = i)) for i in [1, 10, 100, 1000, 10000, 100000, 1000000]]"
   ]
  },
  {
   "cell_type": "markdown",
   "metadata": {
    "slideshow": {
     "slide_type": "slide"
    }
   },
   "source": [
    "## Central Limit Theorem\n",
    "### Uniform Distribution"
   ]
  },
  {
   "cell_type": "markdown",
   "metadata": {
    "slideshow": {
     "slide_type": "fragment"
    }
   },
   "source": [
    "This section demonstrates the Central Limit Theorem by comparing\n",
    "$$S_n=\\frac{1}{\\sqrt{n}}\\sum_{i=1}^n \\left({X_i-\\mu}\\right)$$\n",
    "with the normal distribution $\\mathcal{N}(0,\\sigma^2)$\n",
    "where $X_i$ are iid random variables and $\\mu=E[X_i]$, $\\sigma^2=V(X_i)$."
   ]
  },
  {
   "cell_type": "markdown",
   "metadata": {
    "slideshow": {
     "slide_type": "fragment"
    }
   },
   "source": [
    "The code below plots the probability distribution function (PDF) of $S_n$ and $\\mathcal{N}(0,\\sigma^2)$ when $X_i$ follows uniform distribution on $[a,b]$. Observe how quickly the distribution of $S_n$ converges to normal. "
   ]
  },
  {
   "cell_type": "code",
   "execution_count": 61,
   "metadata": {
    "scrolled": false,
    "slideshow": {
     "slide_type": "slide"
    }
   },
   "outputs": [
    {
     "data": {
      "application/vnd.jupyter.widget-view+json": {
       "model_id": "eebd2e3d9fd447539e288aba88bf9ae2",
       "version_major": 2,
       "version_minor": 0
      },
      "text/plain": [
       "interactive(children=(FloatRangeSlider(value=(2.0, 8.0), continuous_update=False, description='[a, b]', max=9.…"
      ]
     },
     "metadata": {},
     "output_type": "display_data"
    },
    {
     "data": {
      "text/plain": [
       "<function __main__.uniform_mean_pdf(s, sample_size, number_samples)>"
      ]
     },
     "execution_count": 61,
     "metadata": {},
     "output_type": "execute_result"
    }
   ],
   "source": [
    "# plot the pdf of 1/n(\\sum_{i=1}^n X_i), X_i~U_{a,b}\n",
    "def uniform_sample_counts(a, b, sample_size, number_samples):\n",
    "    X= random.uniform(a-(a+b)/2,b-(a+b)/2,[sample_size, number_samples])  # generate a sample_size by number_samples matrix of uniform random numbers\n",
    "    S=sum(X,axis=0)/sqrt(sample_size)\n",
    "    return S\n",
    "\n",
    "def uniform_plot_hist(s, sample_size, number_samples):\n",
    "    a=s[0]\n",
    "    b=s[1]\n",
    "    if number_samples>0:\n",
    "        counts=uniform_sample_counts(a, b, sample_size, number_samples)\n",
    "        hist(counts,bins=40,normed=1,label=\"Histogram of emphirical means\");\n",
    "    \n",
    "def uniform_mean_pdf(s, sample_size, number_samples):\n",
    "    a = s[0]\n",
    "    b = s[1]\n",
    "    d = 10.0/1000;\n",
    "    x=linspace(-4.99,5,1000)\n",
    "    if a<b:\n",
    "        y=(1.0*(x>=(a-b)/2))*(1.0*(x<=(b-a)/2))/(b-a)\n",
    "        z=y\n",
    "        for j in range(2,sample_size + 1):\n",
    "            t = [item/(j-1) for item in z for i in range(j-1)]\n",
    "            z=[0,] + convolve(y,t).tolist()\n",
    "            z=[i*d for i in z]\n",
    "            z = sum(reshape(z,(1000,j)),axis=1)\n",
    "        sc = int(sample_size/sqrt(sample_size))\n",
    "        rem = sample_size/sqrt(sample_size)-sc\n",
    "        z = [item/(rem+sc) for item in z for i in range(sc+random.binomial(1,rem))]\n",
    "        x = linspace(-d*len(z)/2,d*len(z)/2,len(z))\n",
    "        close()\n",
    "        plot(x, z,label=\"Distribution of the mean\")\n",
    "        xlim([-5,5])\n",
    "        title('PDF and histogram of ${Z}_n$ with sample size=%d'%sample_size)\n",
    "        xlabel('$x$')\n",
    "        ylabel('$f_{S_n}(x)$')\n",
    "        \n",
    "        var = (b-a)**2/12\n",
    "        p = linspace(-5,5,1000)\n",
    "        q = [exp(-i**2/(2*var))/(sqrt(2*pi*var)) for i in p]\n",
    "        plot(p,q,label=\"Gaussian distribution\")\n",
    "        uniform_plot_hist(s, sample_size, number_samples)\n",
    "        xlim([-5,5])\n",
    "        plt.legend()\n",
    "        grid()\n",
    "        \n",
    "        \n",
    "w=widgets.FloatRangeSlider(\n",
    "    description = \"[a, b]\",\n",
    "    value=[2, 8],\n",
    "    min=0.02,\n",
    "    max=9.98,\n",
    "    step=0.01,\n",
    "    continuous_update = False)\n",
    "widgets.interact(\n",
    "    uniform_mean_pdf,\n",
    "    s=w,\n",
    "    sample_size = widgets.IntSlider(min=1, max=10,description='sample size:', step=1, value=1),\n",
    "    number_samples = widgets.IntSlider(min=0, max=10000,description='number of samples :', step=50, value=0))"
   ]
  },
  {
   "cell_type": "markdown",
   "metadata": {
    "slideshow": {
     "slide_type": "slide"
    }
   },
   "source": [
    "# Confidence Interval"
   ]
  },
  {
   "cell_type": "markdown",
   "metadata": {
    "slideshow": {
     "slide_type": "fragment"
    }
   },
   "source": [
    "Weather Data Set:\n",
    "https://www.kaggle.com/selfishgene/historical-hourly-weather-data/data"
   ]
  },
  {
   "cell_type": "code",
   "execution_count": 13,
   "metadata": {
    "slideshow": {
     "slide_type": "slide"
    }
   },
   "outputs": [
    {
     "data": {
      "text/html": [
       "<div>\n",
       "<style scoped>\n",
       "    .dataframe tbody tr th:only-of-type {\n",
       "        vertical-align: middle;\n",
       "    }\n",
       "\n",
       "    .dataframe tbody tr th {\n",
       "        vertical-align: top;\n",
       "    }\n",
       "\n",
       "    .dataframe thead th {\n",
       "        text-align: right;\n",
       "    }\n",
       "</style>\n",
       "<table border=\"1\" class=\"dataframe\">\n",
       "  <thead>\n",
       "    <tr style=\"text-align: right;\">\n",
       "      <th></th>\n",
       "      <th>datetime</th>\n",
       "      <th>Vancouver</th>\n",
       "      <th>Portland</th>\n",
       "      <th>San Francisco</th>\n",
       "      <th>Seattle</th>\n",
       "      <th>Los Angeles</th>\n",
       "      <th>San Diego</th>\n",
       "      <th>Las Vegas</th>\n",
       "      <th>Phoenix</th>\n",
       "      <th>Albuquerque</th>\n",
       "      <th>...</th>\n",
       "      <th>Philadelphia</th>\n",
       "      <th>New York</th>\n",
       "      <th>Montreal</th>\n",
       "      <th>Boston</th>\n",
       "      <th>Beersheba</th>\n",
       "      <th>Tel Aviv District</th>\n",
       "      <th>Eilat</th>\n",
       "      <th>Haifa</th>\n",
       "      <th>Nahariyya</th>\n",
       "      <th>Jerusalem</th>\n",
       "    </tr>\n",
       "  </thead>\n",
       "  <tbody>\n",
       "    <tr>\n",
       "      <th>0</th>\n",
       "      <td>2012-10-01 12:00:00</td>\n",
       "      <td>NaN</td>\n",
       "      <td>NaN</td>\n",
       "      <td>NaN</td>\n",
       "      <td>NaN</td>\n",
       "      <td>NaN</td>\n",
       "      <td>NaN</td>\n",
       "      <td>NaN</td>\n",
       "      <td>NaN</td>\n",
       "      <td>NaN</td>\n",
       "      <td>...</td>\n",
       "      <td>NaN</td>\n",
       "      <td>NaN</td>\n",
       "      <td>NaN</td>\n",
       "      <td>NaN</td>\n",
       "      <td>NaN</td>\n",
       "      <td>NaN</td>\n",
       "      <td>96.710000</td>\n",
       "      <td>NaN</td>\n",
       "      <td>NaN</td>\n",
       "      <td>NaN</td>\n",
       "    </tr>\n",
       "    <tr>\n",
       "      <th>1</th>\n",
       "      <td>2012-10-01 13:00:00</td>\n",
       "      <td>52.664000</td>\n",
       "      <td>48.074000</td>\n",
       "      <td>61.394000</td>\n",
       "      <td>47.570000</td>\n",
       "      <td>65.696000</td>\n",
       "      <td>65.084000</td>\n",
       "      <td>68.468000</td>\n",
       "      <td>74.210000</td>\n",
       "      <td>53.546000</td>\n",
       "      <td>...</td>\n",
       "      <td>54.464000</td>\n",
       "      <td>59.126000</td>\n",
       "      <td>54.824000</td>\n",
       "      <td>57.236000</td>\n",
       "      <td>93.992000</td>\n",
       "      <td>90.176000</td>\n",
       "      <td>99.374000</td>\n",
       "      <td>88.25</td>\n",
       "      <td>88.25</td>\n",
       "      <td>86.63</td>\n",
       "    </tr>\n",
       "    <tr>\n",
       "      <th>2</th>\n",
       "      <td>2012-10-01 14:00:00</td>\n",
       "      <td>52.662274</td>\n",
       "      <td>48.079854</td>\n",
       "      <td>61.384987</td>\n",
       "      <td>47.564990</td>\n",
       "      <td>65.692734</td>\n",
       "      <td>65.090302</td>\n",
       "      <td>68.455654</td>\n",
       "      <td>74.225315</td>\n",
       "      <td>53.608205</td>\n",
       "      <td>...</td>\n",
       "      <td>54.523774</td>\n",
       "      <td>59.175817</td>\n",
       "      <td>54.832370</td>\n",
       "      <td>57.264966</td>\n",
       "      <td>93.992000</td>\n",
       "      <td>88.088000</td>\n",
       "      <td>99.222385</td>\n",
       "      <td>88.25</td>\n",
       "      <td>88.25</td>\n",
       "      <td>86.63</td>\n",
       "    </tr>\n",
       "    <tr>\n",
       "      <th>3</th>\n",
       "      <td>2012-10-01 15:00:00</td>\n",
       "      <td>52.658596</td>\n",
       "      <td>48.095360</td>\n",
       "      <td>61.359113</td>\n",
       "      <td>47.551699</td>\n",
       "      <td>65.683120</td>\n",
       "      <td>65.108039</td>\n",
       "      <td>68.435919</td>\n",
       "      <td>74.266677</td>\n",
       "      <td>53.751113</td>\n",
       "      <td>...</td>\n",
       "      <td>54.692283</td>\n",
       "      <td>59.318491</td>\n",
       "      <td>54.856021</td>\n",
       "      <td>57.347009</td>\n",
       "      <td>93.634723</td>\n",
       "      <td>88.037314</td>\n",
       "      <td>99.070769</td>\n",
       "      <td>88.25</td>\n",
       "      <td>88.25</td>\n",
       "      <td>86.63</td>\n",
       "    </tr>\n",
       "    <tr>\n",
       "      <th>4</th>\n",
       "      <td>2012-10-01 16:00:00</td>\n",
       "      <td>52.654918</td>\n",
       "      <td>48.110866</td>\n",
       "      <td>61.333238</td>\n",
       "      <td>47.538407</td>\n",
       "      <td>65.673506</td>\n",
       "      <td>65.125777</td>\n",
       "      <td>68.416183</td>\n",
       "      <td>74.308039</td>\n",
       "      <td>53.894021</td>\n",
       "      <td>...</td>\n",
       "      <td>54.860793</td>\n",
       "      <td>59.461166</td>\n",
       "      <td>54.879672</td>\n",
       "      <td>57.429052</td>\n",
       "      <td>93.191359</td>\n",
       "      <td>87.958426</td>\n",
       "      <td>98.919154</td>\n",
       "      <td>88.25</td>\n",
       "      <td>88.25</td>\n",
       "      <td>86.63</td>\n",
       "    </tr>\n",
       "  </tbody>\n",
       "</table>\n",
       "<p>5 rows × 37 columns</p>\n",
       "</div>"
      ],
      "text/plain": [
       "              datetime  Vancouver   Portland  San Francisco    Seattle  \\\n",
       "0  2012-10-01 12:00:00        NaN        NaN            NaN        NaN   \n",
       "1  2012-10-01 13:00:00  52.664000  48.074000      61.394000  47.570000   \n",
       "2  2012-10-01 14:00:00  52.662274  48.079854      61.384987  47.564990   \n",
       "3  2012-10-01 15:00:00  52.658596  48.095360      61.359113  47.551699   \n",
       "4  2012-10-01 16:00:00  52.654918  48.110866      61.333238  47.538407   \n",
       "\n",
       "   Los Angeles  San Diego  Las Vegas    Phoenix  Albuquerque  ...  \\\n",
       "0          NaN        NaN        NaN        NaN          NaN  ...   \n",
       "1    65.696000  65.084000  68.468000  74.210000    53.546000  ...   \n",
       "2    65.692734  65.090302  68.455654  74.225315    53.608205  ...   \n",
       "3    65.683120  65.108039  68.435919  74.266677    53.751113  ...   \n",
       "4    65.673506  65.125777  68.416183  74.308039    53.894021  ...   \n",
       "\n",
       "   Philadelphia   New York   Montreal     Boston  Beersheba  \\\n",
       "0           NaN        NaN        NaN        NaN        NaN   \n",
       "1     54.464000  59.126000  54.824000  57.236000  93.992000   \n",
       "2     54.523774  59.175817  54.832370  57.264966  93.992000   \n",
       "3     54.692283  59.318491  54.856021  57.347009  93.634723   \n",
       "4     54.860793  59.461166  54.879672  57.429052  93.191359   \n",
       "\n",
       "   Tel Aviv District      Eilat  Haifa  Nahariyya  Jerusalem  \n",
       "0                NaN  96.710000    NaN        NaN        NaN  \n",
       "1          90.176000  99.374000  88.25      88.25      86.63  \n",
       "2          88.088000  99.222385  88.25      88.25      86.63  \n",
       "3          88.037314  99.070769  88.25      88.25      86.63  \n",
       "4          87.958426  98.919154  88.25      88.25      86.63  \n",
       "\n",
       "[5 rows x 37 columns]"
      ]
     },
     "execution_count": 13,
     "metadata": {},
     "output_type": "execute_result"
    }
   ],
   "source": [
    "import pandas as pd\n",
    "import numpy as np\n",
    "import matplotlib.pyplot as plt\n",
    "from scipy.stats import norm\n",
    "\n",
    "# read the data\n",
    "temp = pd.read_csv('temperature.csv')\n",
    "\n",
    "# Convert Kelvin to Fahrenheit to Improve our Understanding\n",
    "temp.iloc[:,1:] = (temp.iloc[:,1:] - 273.15) * 1.8 + 32\n",
    "\n",
    "temp.head(5)"
   ]
  },
  {
   "cell_type": "code",
   "execution_count": 14,
   "metadata": {
    "slideshow": {
     "slide_type": "slide"
    }
   },
   "outputs": [
    {
     "name": "stderr",
     "output_type": "stream",
     "text": [
      "C:\\Users\\iocak\\Anaconda3\\lib\\site-packages\\numpy\\lib\\histograms.py:824: RuntimeWarning: invalid value encountered in greater_equal\n",
      "  keep = (tmp_a >= first_edge)\n",
      "C:\\Users\\iocak\\Anaconda3\\lib\\site-packages\\numpy\\lib\\histograms.py:825: RuntimeWarning: invalid value encountered in less_equal\n",
      "  keep &= (tmp_a <= last_edge)\n"
     ]
    },
    {
     "data": {
      "image/png": "[encoded data removed]",
      "text/plain": [
       "<Figure size 432x288 with 1 Axes>"
      ]
     },
     "metadata": {
      "needs_background": "light"
     },
     "output_type": "display_data"
    }
   ],
   "source": [
    "# Filter San Diego Weather Data and Plot The Histogram\n",
    "\n",
    "temp_sd = temp[['datetime', 'San Diego']]\n",
    "\n",
    "plt.hist(temp_sd['San Diego'], bins = 50, density=True)\n",
    "plt.title('San Diego Hourly Weather Data 2012-2017')\n",
    "plt.show()"
   ]
  },
  {
   "cell_type": "code",
   "execution_count": 17,
   "metadata": {
    "slideshow": {
     "slide_type": "slide"
    }
   },
   "outputs": [],
   "source": [
    "# Find the mean and standard deviation of San Diego Weather Data\n",
    "\n",
    "mean_sd = np.mean(temp_sd['San Diego'])\n",
    "stdev_sd = np.std(temp_sd['San Diego'])\n",
    "\n",
    "# Find the mean for Feb 2013\n",
    "temp_sd_feb13 = temp_sd[temp_sd['datetime'].str.contains('2013-02')]\n",
    "mean_sd_feb13 = np.mean(temp_sd_feb13['San Diego'])\n"
   ]
  },
  {
   "cell_type": "code",
   "execution_count": 18,
   "metadata": {
    "scrolled": true,
    "slideshow": {
     "slide_type": "fragment"
    }
   },
   "outputs": [
    {
     "name": "stdout",
     "output_type": "stream",
     "text": [
      "54.44721582437865\n",
      "53.1018046220536\n"
     ]
    }
   ],
   "source": [
    "# Calculate 90% Confidence interval for Feb 2013 using z-statistic, assuming the standard deviation from the whole data\n",
    "\n",
    "z_s = norm.ppf(0.95) # 90% Confidence interval leaves 5% probability on the tails\n",
    "\n",
    "upper_bound_z = mean_sd_feb13 + z_s * stdev_sd / np.sqrt(len(temp_sd_feb13))\n",
    "lower_bound_z = mean_sd_feb13 - z_s * stdev_sd / np.sqrt(len(temp_sd_feb13))\n",
    "\n",
    "print(upper_bound_z)\n",
    "print(lower_bound_z)\n"
   ]
  },
  {
   "cell_type": "code",
   "execution_count": 19,
   "metadata": {
    "scrolled": true,
    "slideshow": {
     "slide_type": "slide"
    }
   },
   "outputs": [
    {
     "data": {
      "image/png": "[encoded data removed]",
      "text/plain": [
       "<Figure size 432x288 with 1 Axes>"
      ]
     },
     "metadata": {
      "needs_background": "light"
     },
     "output_type": "display_data"
    }
   ],
   "source": [
    "# Plot the Histogram of Feb 2013 data, with upper and lower bounds\n",
    "\n",
    "plt.hist(temp_sd_feb13['San Diego'], bins = 50, density=True)\n",
    "plt.title('San Diego Hourly Weather Data Feb 2013')\n",
    "plt.plot([mean_sd_feb13,mean_sd_feb13],[0, 0.175], 'k-', lw=4, color='green')\n",
    "plt.plot([upper_bound_z,upper_bound_z],[0, 0.175], 'k-', lw=4, color='red')\n",
    "plt.plot([lower_bound_z,lower_bound_z],[0, 0.175], 'k-', lw=4, color='red')\n",
    "plt.show()"
   ]
  },
  {
   "cell_type": "markdown",
   "metadata": {
    "slideshow": {
     "slide_type": "slide"
    }
   },
   "source": [
    "# Hypothesis Testing"
   ]
  },
  {
   "cell_type": "code",
   "execution_count": 20,
   "metadata": {
    "slideshow": {
     "slide_type": "fragment"
    }
   },
   "outputs": [],
   "source": [
    "temp['date_timestamp'] = pd.to_datetime(temp['datetime'])\n",
    "temp['month'] = temp['date_timestamp'].apply(lambda x: x.month)\n",
    "temp_march = temp[temp['month'] == 3]"
   ]
  },
  {
   "cell_type": "markdown",
   "metadata": {
    "slideshow": {
     "slide_type": "slide"
    }
   },
   "source": [
    "Let's compare march average temperatures of San Diego and Jerusalem. Our null hypothesis is they are equal. So:\n",
    "\n",
    "$H_0$: $T_{San Diego}$ - $T_{Jerusalem}$ = 0\n",
    "\n",
    "$H_1$: $T_{San Diego}$ - $T_{Jerusalem}$ $\\neq$ 0"
   ]
  },
  {
   "cell_type": "code",
   "execution_count": 21,
   "metadata": {
    "scrolled": true,
    "slideshow": {
     "slide_type": "fragment"
    }
   },
   "outputs": [
    {
     "name": "stdout",
     "output_type": "stream",
     "text": [
      "San Diego Avg: 58.941351992768965, Jerusalem Avg: 61.315491580177834\n"
     ]
    }
   ],
   "source": [
    "x_sd = np.mean(temp_march['San Diego'])\n",
    "x_jr = np.mean(temp_march['Jerusalem'])\n",
    "print(f'San Diego Avg: {x_sd}, Jerusalem Avg: {x_jr}')"
   ]
  },
  {
   "cell_type": "code",
   "execution_count": 22,
   "metadata": {
    "slideshow": {
     "slide_type": "slide"
    }
   },
   "outputs": [
    {
     "name": "stdout",
     "output_type": "stream",
     "text": [
      "San Diego St Dev: 10.601868752494303, Jerusalem St Dev: 12.768305151076078\n"
     ]
    }
   ],
   "source": [
    "# using all years' data try to estimate population std\n",
    "\n",
    "std_sd = np.std(temp['San Diego'])\n",
    "std_jr = np.std(temp['Jerusalem'])\n",
    "print(f'San Diego St Dev: {std_sd}, Jerusalem St Dev: {std_jr}')"
   ]
  },
  {
   "cell_type": "code",
   "execution_count": 24,
   "metadata": {
    "slideshow": {
     "slide_type": "fragment"
    }
   },
   "outputs": [
    {
     "name": "stdout",
     "output_type": "stream",
     "text": [
      "z statistic: -8.725145937662406\n"
     ]
    }
   ],
   "source": [
    "# Using z-statistic and assuming standard deviations we estimated are population standard deviations\n",
    "z = ((x_sd - x_jr) - (0 - 0)) / np.sqrt(std_sd**2/len(temp_march) + std_jr**2/len(temp_march))\n",
    "print(f'z statistic: {z}')"
   ]
  },
  {
   "cell_type": "code",
   "execution_count": 25,
   "metadata": {
    "slideshow": {
     "slide_type": "slide"
    }
   },
   "outputs": [
    {
     "data": {
      "text/plain": [
       "1.3291878967126703e-18"
      ]
     },
     "execution_count": 25,
     "metadata": {},
     "output_type": "execute_result"
    }
   ],
   "source": [
    "norm.cdf(z)\n",
    "\n",
    "# p-value is really small, strong evidence against null. We would reject null hypothesis even with 99% confidence level."
   ]
  },
  {
   "cell_type": "code",
   "execution_count": 26,
   "metadata": {
    "slideshow": {
     "slide_type": "fragment"
    }
   },
   "outputs": [
    {
     "name": "stdout",
     "output_type": "stream",
     "text": [
      "z statistic: -0.4523777433414659\n",
      "p-value: 0.32549843896416086\n"
     ]
    }
   ],
   "source": [
    "# What if we had the same x_sd and x_jr but less number of samples \n",
    "# Using z-statistic and assuming standard deviations we estimated are population standard deviations\n",
    "no_samples = 10\n",
    "\n",
    "z = ((x_sd - x_jr) - (0 - 0)) / np.sqrt(std_sd**2/no_samples + std_jr**2/no_samples)\n",
    "print(f'z statistic: {z}')\n",
    "print(f'p-value: {norm.cdf(z)}')\n",
    "\n",
    "# This p-value would not be enough to reject the null hypthesis under 99% confidence level."
   ]
  },
  {
   "cell_type": "markdown",
   "metadata": {
    "slideshow": {
     "slide_type": "slide"
    }
   },
   "source": [
    "# Try it yourself"
   ]
  },
  {
   "cell_type": "markdown",
   "metadata": {
    "slideshow": {
     "slide_type": "fragment"
    }
   },
   "source": [
    "Consider the weather data that we used before. This time we will focus on Philadelphia and New York weather data. Similar to what we did before, we will again convert Kelvin to Fahrenheit. Assuming we are in March 2017, we will try to understand if the temperatures of this month are within known limits.\n",
    "\n",
    "a- Filter March temperature records from all years, using all the data from all March records, calculate the mean and standard deviation. Do this separately for Philadelphia and New York. Later we will use these parameters as population parameters.\n",
    "\n",
    "b- Filter the data for March 2017. Using this data calculate the sample means for Philadelphia and New York. We will use these sample means as our observations. Using these observations provide 99% confidence intervals for the true mean. Do this separately for Philadelphia and New York. We already know the true means from part a. Do the true means lie within the intervals?\n",
    "\n",
    "c- Based on our prior knowledge we assert that March average temperatures for Philadelphia and New York are the same. Based on March 2017 temperature recordings we would like to test our prior knowledge. Conduct this test using hypothesis testing, please state your hypotheses as well. For population standard deviations use the standard deviations that you found in part a.\n",
    "\n",
    "d- Repeat part c but this time assume that your sample sizes are 10. This means we have the same average March 2017 temperatures as part c. We will again use the population standard deviation from part a. However, we will use a different sample size this time."
   ]
  }
 ],
 "metadata": {
  "celltoolbar": "Slideshow",
  "kernelspec": {
   "display_name": "Python 3",
   "language": "python",
   "name": "python3"
  },
  "language_info": {
   "codemirror_mode": {
    "name": "ipython",
    "version": 3
   },
   "file_extension": ".py",
   "mimetype": "text/x-python",
   "name": "python",
   "nbconvert_exporter": "python",
   "pygments_lexer": "ipython3",
   "version": "3.7.1"
  }
 },
 "nbformat": 4,
 "nbformat_minor": 2
}
