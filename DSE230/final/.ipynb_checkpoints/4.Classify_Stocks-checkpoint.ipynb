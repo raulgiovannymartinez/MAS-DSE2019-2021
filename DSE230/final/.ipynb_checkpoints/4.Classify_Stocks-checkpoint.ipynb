{
 "cells": [
  {
   "cell_type": "markdown",
   "metadata": {
    "nbgrader": {
     "grade": false,
     "grade_id": "cell-2beb19248750c680",
     "locked": true,
     "schema_version": 1,
     "solution": false
    }
   },
   "source": [
    "# Stock category prediction using XGBoost"
   ]
  },
  {
   "cell_type": "code",
   "execution_count": 1,
   "metadata": {
    "ExecuteTime": {
     "end_time": "2020-06-02T21:50:50.128869Z",
     "start_time": "2020-06-02T21:50:47.512280Z"
    },
    "nbgrader": {
     "grade": false,
     "grade_id": "cell-dd2433d1712e4dd7",
     "locked": true,
     "schema_version": 1,
     "solution": false
    }
   },
   "outputs": [
    {
     "name": "stdout",
     "output_type": "stream",
     "text": [
      "Populating the interactive namespace from numpy and matplotlib\n"
     ]
    }
   ],
   "source": [
    "import pickle\n",
    "import pandas as pd\n",
    "import numpy as np\n",
    "import xgboost as xgb\n",
    "from sklearn.model_selection import train_test_split\n",
    "%pylab inline"
   ]
  },
  {
   "cell_type": "markdown",
   "metadata": {
    "nbgrader": {
     "grade": false,
     "grade_id": "cell-35c72b8f613eae6b",
     "locked": true,
     "schema_version": 1,
     "solution": false
    }
   },
   "source": [
    "## Read PCA parameters"
   ]
  },
  {
   "cell_type": "code",
   "execution_count": 2,
   "metadata": {
    "ExecuteTime": {
     "end_time": "2020-06-02T21:51:21.077589Z",
     "start_time": "2020-06-02T21:51:21.047723Z"
    },
    "nbgrader": {
     "grade": false,
     "grade_id": "cell-a7dfa39380b67535",
     "locked": true,
     "schema_version": 1,
     "solution": false
    },
    "scrolled": true
   },
   "outputs": [],
   "source": [
    "D=pickle.load(open('data/PCA_true.pickle','rb'))\n",
    "col=D['columns']\n",
    "eigvec=D['eigvec']\n",
    "eigval=D['eigval']"
   ]
  },
  {
   "cell_type": "markdown",
   "metadata": {
    "nbgrader": {
     "grade": false,
     "grade_id": "cell-9f516e49dc08b136",
     "locked": true,
     "schema_version": 1,
     "solution": false
    }
   },
   "source": [
    "### Sanity check\n",
    "The following scatterplot should be very similar to the scatter plot you produced in notebook 3 for eigvec 1, eigvec 2 (indexing starts with 1)"
   ]
  },
  {
   "cell_type": "code",
   "execution_count": 3,
   "metadata": {
    "ExecuteTime": {
     "end_time": "2020-06-02T21:51:32.618600Z",
     "start_time": "2020-06-02T21:51:32.405316Z"
    },
    "nbgrader": {
     "grade": false,
     "grade_id": "cell-89d72fab9ee2f887",
     "locked": true,
     "schema_version": 1,
     "solution": false
    }
   },
   "outputs": [
    {
     "data": {
      "text/plain": [
       "<matplotlib.collections.PathCollection at 0x1a1884af10>"
      ]
     },
     "execution_count": 3,
     "metadata": {},
     "output_type": "execute_result"
    },
    {
     "data": {
      "image/png": "[encoded data removed]",
      "text/plain": [
       "<Figure size 432x288 with 1 Axes>"
      ]
     },
     "metadata": {
      "needs_background": "light"
     },
     "output_type": "display_data"
    }
   ],
   "source": [
    "scatter(eigvec[:,0],eigvec[:,1])"
   ]
  },
  {
   "cell_type": "markdown",
   "metadata": {
    "nbgrader": {
     "grade": false,
     "grade_id": "cell-caead6f6257eae66",
     "locked": true,
     "schema_version": 1,
     "solution": false
    }
   },
   "source": [
    "## compute features\n",
    "\n",
    "The features that we use are the coefficients of the top 20 eigenvectors.\n",
    "\n",
    "Those can be read directly from the eigenvectors matrix."
   ]
  },
  {
   "cell_type": "code",
   "execution_count": 4,
   "metadata": {
    "ExecuteTime": {
     "end_time": "2020-06-02T21:51:47.449962Z",
     "start_time": "2020-06-02T21:51:47.441168Z"
    },
    "nbgrader": {
     "grade": false,
     "grade_id": "cell-25ab4021327ffdfd",
     "locked": true,
     "schema_version": 1,
     "solution": false
    }
   },
   "outputs": [
    {
     "data": {
      "text/plain": [
       "(481, 20)"
      ]
     },
     "execution_count": 4,
     "metadata": {},
     "output_type": "execute_result"
    }
   ],
   "source": [
    "#Taking the top 20 features(Eigen vectors)\n",
    "features=eigvec[:,:20]\n",
    "features.shape"
   ]
  },
  {
   "cell_type": "markdown",
   "metadata": {
    "nbgrader": {
     "grade": false,
     "grade_id": "cell-9eeb8f35efa872a6",
     "locked": true,
     "schema_version": 1,
     "solution": false
    }
   },
   "source": [
    "##  Compute labels (sectors)"
   ]
  },
  {
   "cell_type": "code",
   "execution_count": 5,
   "metadata": {
    "ExecuteTime": {
     "end_time": "2020-06-02T21:51:50.777920Z",
     "start_time": "2020-06-02T21:51:50.741978Z"
    },
    "nbgrader": {
     "grade": false,
     "grade_id": "cell-904d92c63c6ced4f",
     "locked": true,
     "schema_version": 1,
     "solution": false
    },
    "scrolled": true
   },
   "outputs": [
    {
     "name": "stdout",
     "output_type": "stream",
     "text": [
      "(505, 5)\n"
     ]
    },
    {
     "data": {
      "text/html": [
       "<div>\n",
       "<style scoped>\n",
       "    .dataframe tbody tr th:only-of-type {\n",
       "        vertical-align: middle;\n",
       "    }\n",
       "\n",
       "    .dataframe tbody tr th {\n",
       "        vertical-align: top;\n",
       "    }\n",
       "\n",
       "    .dataframe thead th {\n",
       "        text-align: right;\n",
       "    }\n",
       "</style>\n",
       "<table border=\"1\" class=\"dataframe\">\n",
       "  <thead>\n",
       "    <tr style=\"text-align: right;\">\n",
       "      <th></th>\n",
       "      <th>Unnamed: 0</th>\n",
       "      <th>Ticker</th>\n",
       "      <th>Name</th>\n",
       "      <th>Sector</th>\n",
       "      <th>SECTOR_ID</th>\n",
       "    </tr>\n",
       "  </thead>\n",
       "  <tbody>\n",
       "    <tr>\n",
       "      <th>0</th>\n",
       "      <td>0</td>\n",
       "      <td>MMM</td>\n",
       "      <td>3M|3M Company</td>\n",
       "      <td>Industrials</td>\n",
       "      <td>INDS</td>\n",
       "    </tr>\n",
       "    <tr>\n",
       "      <th>1</th>\n",
       "      <td>1</td>\n",
       "      <td>ABT</td>\n",
       "      <td>Abbott Laboratories</td>\n",
       "      <td>Health Care</td>\n",
       "      <td>HC</td>\n",
       "    </tr>\n",
       "    <tr>\n",
       "      <th>2</th>\n",
       "      <td>2</td>\n",
       "      <td>ABBV</td>\n",
       "      <td>AbbVie Inc.</td>\n",
       "      <td>Health Care</td>\n",
       "      <td>HC</td>\n",
       "    </tr>\n",
       "    <tr>\n",
       "      <th>3</th>\n",
       "      <td>3</td>\n",
       "      <td>ACN</td>\n",
       "      <td>Accenture plc</td>\n",
       "      <td>Information Technology</td>\n",
       "      <td>IT</td>\n",
       "    </tr>\n",
       "    <tr>\n",
       "      <th>4</th>\n",
       "      <td>4</td>\n",
       "      <td>ATVI</td>\n",
       "      <td>Activision Blizzard</td>\n",
       "      <td>Information Technology</td>\n",
       "      <td>IT</td>\n",
       "    </tr>\n",
       "  </tbody>\n",
       "</table>\n",
       "</div>"
      ],
      "text/plain": [
       "   Unnamed: 0 Ticker                 Name                  Sector SECTOR_ID\n",
       "0           0    MMM        3M|3M Company             Industrials      INDS\n",
       "1           1    ABT  Abbott Laboratories             Health Care        HC\n",
       "2           2   ABBV          AbbVie Inc.             Health Care        HC\n",
       "3           3    ACN        Accenture plc  Information Technology        IT\n",
       "4           4   ATVI  Activision Blizzard  Information Technology        IT"
      ]
     },
     "execution_count": 5,
     "metadata": {},
     "output_type": "execute_result"
    }
   ],
   "source": [
    "TickerInfo=pd.read_csv('data/tickerInfo.tsv',sep='\\t')\n",
    "print(TickerInfo.shape)\n",
    "TickerInfo.head()"
   ]
  },
  {
   "cell_type": "markdown",
   "metadata": {
    "nbgrader": {
     "grade": false,
     "grade_id": "cell-e270636f68791e01",
     "locked": true,
     "schema_version": 1,
     "solution": false
    }
   },
   "source": [
    "### Creating necessary dictionaries"
   ]
  },
  {
   "cell_type": "markdown",
   "metadata": {
    "nbgrader": {
     "grade": false,
     "grade_id": "cell-bcff91d92cda4ce8",
     "locked": true,
     "schema_version": 1,
     "solution": false
    }
   },
   "source": [
    "The Sectors dictionary below has the Sector name mapped to the sector ID. Using the Sectors dictionary below, create a dictionary mapping of the sector ID to indices incrementally as follows:\n",
    "\n",
    "```\n",
    "{\n",
    "    'CD': 0,\n",
    "    'CS': 1,\n",
    "    'EN': 2,\n",
    "    'FIN': 3,\n",
    "    'HC': 4,\n",
    "    'INDS': 5,\n",
    "    'IT': 6,\n",
    "    'MAT': 7,\n",
    "    'RE': 8,\n",
    "    'TS': 9,\n",
    "    'UTIL': 10\n",
    "}\n",
    "```\n",
    "\n",
    "In addition to this, you will need to create one more dictionary mapping index number to the sector name:\n",
    "```\n",
    "{\n",
    "    0: 'Consumer Discretionary',\n",
    "    1: 'Consumer Staples',\n",
    "    2: 'Energy',\n",
    "    3: 'Financials',\n",
    "    4: 'Health Care',\n",
    "    5: 'Industrials',\n",
    "    6: 'Information Technology',\n",
    "    7: 'Materials',\n",
    "    8: 'Real Estate',\n",
    "    9: 'Telecommunication Services',\n",
    "    10: 'Utilities'\n",
    "}\n",
    " ```\n",
    " \n",
    "**<font color=\"magenta\" size=2>Input</font>**\n",
    "<br>\n",
    "A dictionary **Sectors** as given in the following cell.\n",
    "\n",
    "**<font color=\"blue\" size=2>Output</font>**\n",
    "<br>\n",
    "Return two dictionaries **sector2number** and **number2sectorName** as mentioned in the description."
   ]
  },
  {
   "cell_type": "code",
   "execution_count": 6,
   "metadata": {
    "ExecuteTime": {
     "end_time": "2020-06-02T21:52:01.202436Z",
     "start_time": "2020-06-02T21:52:01.193755Z"
    },
    "nbgrader": {
     "grade": false,
     "grade_id": "cell-7e163b9f4a2312c8",
     "locked": true,
     "schema_version": 1,
     "solution": false
    }
   },
   "outputs": [],
   "source": [
    "Sectors={'Consumer Discretionary':'CD',\n",
    " 'Consumer Staples':'CS',\n",
    " 'Energy':'EN',\n",
    " 'Financials':'FIN',\n",
    " 'Health Care':'HC',\n",
    " 'Industrials':'INDS',\n",
    " 'Information Technology':'IT',\n",
    " 'Materials':'MAT',\n",
    " 'Real Estate':'RE',\n",
    " 'Telecommunication Services':'TS',\n",
    " 'Utilities':'UTIL'}\n"
   ]
  },
  {
   "cell_type": "code",
   "execution_count": 7,
   "metadata": {
    "ExecuteTime": {
     "end_time": "2020-06-02T21:52:11.217489Z",
     "start_time": "2020-06-02T21:52:11.201530Z"
    },
    "nbgrader": {
     "grade": false,
     "grade_id": "cell-48e618d54073cb44",
     "locked": false,
     "schema_version": 1,
     "solution": true
    }
   },
   "outputs": [],
   "source": [
    "#(3 points)\n",
    "\n",
    "def get_sector_dicts(Sectors):\n",
    "    \n",
    "    ### Your code here\n",
    "    \n",
    "    # import libraries\n",
    "    from collections import defaultdict\n",
    "    \n",
    "    # initialize dictionaries\n",
    "    sector2number, number2sectorName = {}, {}\n",
    "    \n",
    "    # loop over every sector\n",
    "    for idx,(k,v) in enumerate(Sectors.items()):\n",
    "        \n",
    "        # add data to dictionaries\n",
    "        sector2number[v] = idx\n",
    "        number2sectorName[idx] = k\n",
    "    \n",
    "    return sector2number, number2sectorName\n"
   ]
  },
  {
   "cell_type": "code",
   "execution_count": 8,
   "metadata": {
    "ExecuteTime": {
     "end_time": "2020-06-02T21:52:15.232159Z",
     "start_time": "2020-06-02T21:52:15.228609Z"
    },
    "nbgrader": {
     "grade": false,
     "grade_id": "cell-8969b6dbb6161bce",
     "locked": true,
     "schema_version": 1,
     "solution": false
    }
   },
   "outputs": [],
   "source": [
    "sector2number, number2sectorName = get_sector_dicts(Sectors)"
   ]
  },
  {
   "cell_type": "code",
   "execution_count": 9,
   "metadata": {
    "ExecuteTime": {
     "end_time": "2020-06-02T21:52:15.880666Z",
     "start_time": "2020-06-02T21:52:15.515910Z"
    },
    "nbgrader": {
     "grade": false,
     "grade_id": "cell-76dfe40b2999cb01",
     "locked": true,
     "schema_version": 1,
     "solution": false
    }
   },
   "outputs": [],
   "source": [
    "labels=[]\n",
    "feature_vectors=[]\n",
    "feature_vectors_test=[]\n",
    "test_nos = []\n",
    "for i in range(len(col)):\n",
    "    c=col[i]\n",
    "    if 'train' in c:\n",
    "        ticker=c[6:-2]\n",
    "        answer=list(TickerInfo[TickerInfo.Ticker==ticker]['SECTOR_ID'])\n",
    "        if len(answer)==1:\n",
    "            sector_no=sector2number[answer[0]]\n",
    "            labels.append(sector_no)\n",
    "            feature_vectors.append(features[i,:])\n",
    "        else:\n",
    "            print('error: could not find sector for ticker:',ticker)\n",
    "    if 'test' in c:\n",
    "        test_nos.append(c[5:-2])\n",
    "        feature_vectors_test.append(features[i,:])"
   ]
  },
  {
   "cell_type": "code",
   "execution_count": 10,
   "metadata": {
    "ExecuteTime": {
     "end_time": "2020-06-02T22:03:21.603606Z",
     "start_time": "2020-06-02T22:03:21.596425Z"
    },
    "nbgrader": {
     "grade": false,
     "grade_id": "cell-cd496764aef3e72c",
     "locked": true,
     "schema_version": 1,
     "solution": false
    }
   },
   "outputs": [],
   "source": [
    "#verify lengths\n",
    "assert len(labels) == 392\n",
    "assert len(feature_vectors) == 392\n",
    "assert len(test_nos) == 89\n",
    "assert len(feature_vectors_test) == 89"
   ]
  },
  {
   "cell_type": "markdown",
   "metadata": {},
   "source": [
    "## Placing the data into numpy arrays as expected by xgboost"
   ]
  },
  {
   "cell_type": "code",
   "execution_count": 11,
   "metadata": {
    "ExecuteTime": {
     "end_time": "2020-06-02T22:03:28.752934Z",
     "start_time": "2020-06-02T22:03:28.738499Z"
    },
    "nbgrader": {
     "grade": false,
     "grade_id": "cell-5354908ece6c0677",
     "locked": true,
     "schema_version": 1,
     "solution": false
    }
   },
   "outputs": [
    {
     "data": {
      "text/plain": [
       "((392, 20), (392,), (89, 20), (89,))"
      ]
     },
     "execution_count": 11,
     "metadata": {},
     "output_type": "execute_result"
    }
   ],
   "source": [
    "X=np.array(feature_vectors)\n",
    "y=np.array(labels)\n",
    "X_test = np.array(feature_vectors_test)\n",
    "y_test = np.array(test_nos)\n",
    "X.shape, y.shape, X_test.shape, y_test.shape"
   ]
  },
  {
   "cell_type": "code",
   "execution_count": 12,
   "metadata": {
    "ExecuteTime": {
     "end_time": "2020-06-02T22:03:29.501263Z",
     "start_time": "2020-06-02T22:03:29.489995Z"
    },
    "nbgrader": {
     "grade": false,
     "grade_id": "cell-2f563a060a7dabb5",
     "locked": true,
     "schema_version": 1,
     "solution": false
    }
   },
   "outputs": [
    {
     "data": {
      "text/plain": [
       "((274, 20), (118, 20))"
      ]
     },
     "execution_count": 12,
     "metadata": {},
     "output_type": "execute_result"
    }
   ],
   "source": [
    "#Splitting between train and validation\n",
    "X_train, X_valid, y_train, y_valid = train_test_split(X, y, test_size=0.30, random_state=6)\n",
    "X_train.shape, X_valid.shape"
   ]
  },
  {
   "cell_type": "code",
   "execution_count": 13,
   "metadata": {
    "ExecuteTime": {
     "end_time": "2020-06-02T22:03:32.665348Z",
     "start_time": "2020-06-02T22:03:32.652052Z"
    },
    "nbgrader": {
     "grade": false,
     "grade_id": "cell-e8794feabbdf7ddb",
     "locked": true,
     "schema_version": 1,
     "solution": false
    }
   },
   "outputs": [],
   "source": [
    "#Parameters\n",
    "param = {}\n",
    "param['max_depth']= 3   # depth of tree\n",
    "param['eta'] = 0.3      # shrinkage parameter\n",
    "param['silent'] = 1     # not silent\n",
    "param['objective'] = 'multi:softmax'\n",
    "param['nthread'] = 7 # Number of threads used\n",
    "param['num_class']=11\n",
    "\n",
    "num_round = 100"
   ]
  },
  {
   "cell_type": "markdown",
   "metadata": {
    "nbgrader": {
     "grade": false,
     "grade_id": "cell-e9687a05751d0ab1",
     "locked": true,
     "schema_version": 1,
     "solution": false
    }
   },
   "source": [
    "## Generating scores using XGBoost\n",
    "\n",
    "The function <font color=\"blue\">get_margin_scores</font> is used to predict the sector for each of the given samples.\n",
    "\n",
    "**<font color=\"magenta\" size=2>Input</font>**\n",
    "<br>\n",
    "1. **Training set** (X_train)\n",
    "2. **Validation set** (X_valid)\n",
    "3. **Training labels** (y_train)\n",
    "4. **XGBoost Parameter List** (param)\n",
    "\n",
    "\n",
    "**<font color=\"blue\" size=2>Output</font>**\n",
    "<br>\n",
    "Return the following:\n",
    "1. **y_pred_valid**: The raw output scores for the validation set\n",
    "\n",
    "\n",
    "**Note**:\n",
    "1. Round all raw scores to **three** decimal places\n",
    "2. Remember to use **verbose_eval = False** while training and **ntree_limit=bst.best_ntree_limit** and **output_margin=True** while predicting\n",
    "3. Remember to provide the **num_round** parameter while training and do not change it. We have currently set it to 100 (Refer previous cell). Not providing the parameter or changing it could produce different results."
   ]
  },
  {
   "cell_type": "code",
   "execution_count": 14,
   "metadata": {
    "ExecuteTime": {
     "end_time": "2020-06-02T21:55:22.976745Z",
     "start_time": "2020-06-02T21:55:22.958701Z"
    },
    "nbgrader": {
     "grade": false,
     "grade_id": "cell-0e8f383f79318be9",
     "locked": false,
     "schema_version": 1,
     "solution": true
    }
   },
   "outputs": [],
   "source": [
    "#(3 points)\n",
    "\n",
    "def get_margin_scores(X_train, X_valid, y_train, param):\n",
    "      \n",
    "    ### Your code here\n",
    "    \n",
    "    # define dtrain and dvalid\n",
    "    dtrain = xgb.DMatrix(np.round(X_train, 3), label=y_train)\n",
    "    dvalid = xgb.DMatrix(np.round(X_valid, 3))\n",
    "    \n",
    "    # define eval list\n",
    "    evallist = [(dtrain, 'train')]\n",
    "    \n",
    "    # train model\n",
    "    num_round = 100\n",
    "    bst = xgb.train(param, dtrain, num_round, evallist, verbose_eval = False)\n",
    "\n",
    "    # predict\n",
    "    y_pred_valid = np.array(bst.predict(dvalid, ntree_limit=bst.best_ntree_limit, output_margin=True))\n",
    "   \n",
    "    \n",
    "    return y_pred_valid"
   ]
  },
  {
   "cell_type": "code",
   "execution_count": 15,
   "metadata": {
    "ExecuteTime": {
     "end_time": "2020-06-02T21:55:42.928609Z",
     "start_time": "2020-06-02T21:55:40.182847Z"
    },
    "nbgrader": {
     "grade": false,
     "grade_id": "cell-b9e317c1fa1f35d3",
     "locked": true,
     "schema_version": 1,
     "solution": false
    }
   },
   "outputs": [
    {
     "name": "stdout",
     "output_type": "stream",
     "text": [
      "[23:35:28] WARNING: /Users/travis/build/dmlc/xgboost/src/learner.cc:480: \n",
      "Parameters: { silent } might not be used.\n",
      "\n",
      "  This may not be accurate due to some parameters are only used in language bindings but\n",
      "  passed down to XGBoost core.  Or some parameters are not used but slip through this\n",
      "  verification. Please open an issue if you find above cases.\n",
      "\n",
      "\n"
     ]
    }
   ],
   "source": [
    "y_pred_valid = get_margin_scores(X_train, X_valid, y_train, param)"
   ]
  },
  {
   "cell_type": "code",
   "execution_count": 16,
   "metadata": {
    "ExecuteTime": {
     "end_time": "2020-06-02T21:55:43.142532Z",
     "start_time": "2020-06-02T21:55:43.136874Z"
    },
    "nbgrader": {
     "grade": true,
     "grade_id": "cell-121c650f46b392f8",
     "locked": true,
     "points": 0,
     "schema_version": 1,
     "solution": false
    }
   },
   "outputs": [],
   "source": [
    "assert y_pred_valid.shape == (118, 11), \"Incorrect shape\"\n",
    "assert type(y_pred_valid) == numpy.ndarray, \"Incorrect type\""
   ]
  },
  {
   "cell_type": "code",
   "execution_count": 17,
   "metadata": {
    "ExecuteTime": {
     "end_time": "2020-06-02T21:55:55.480489Z",
     "start_time": "2020-06-02T21:55:55.465797Z"
    },
    "nbgrader": {
     "grade": true,
     "grade_id": "cell-c9419db9f474f",
     "locked": true,
     "points": 1,
     "schema_version": 1,
     "solution": false
    }
   },
   "outputs": [],
   "source": [
    "#(1 points)\n",
    "# Hidden Tests"
   ]
  },
  {
   "cell_type": "code",
   "execution_count": 18,
   "metadata": {
    "ExecuteTime": {
     "end_time": "2020-06-02T21:55:56.312744Z",
     "start_time": "2020-06-02T21:55:56.307176Z"
    },
    "nbgrader": {
     "grade": true,
     "grade_id": "cell-c9419db9f474f",
     "locked": true,
     "points": 2,
     "schema_version": 1,
     "solution": false
    }
   },
   "outputs": [],
   "source": [
    "#(2 points)\n",
    "# Hidden Tests"
   ]
  },
  {
   "cell_type": "code",
   "execution_count": 19,
   "metadata": {
    "ExecuteTime": {
     "end_time": "2020-06-02T21:55:58.005319Z",
     "start_time": "2020-06-02T21:55:57.998519Z"
    },
    "nbgrader": {
     "grade": true,
     "grade_id": "cell-230a6f02a9be68f8",
     "locked": true,
     "points": 5,
     "schema_version": 1,
     "solution": false
    }
   },
   "outputs": [],
   "source": [
    "#(5 points)\n",
    "# Hidden Tests"
   ]
  },
  {
   "cell_type": "markdown",
   "metadata": {
    "nbgrader": {
     "grade": false,
     "grade_id": "cell-64d5475ceb1f9cdb",
     "locked": true,
     "schema_version": 1,
     "solution": false
    }
   },
   "source": [
    "## Computing Top1 and Top5 predictions\n",
    "\n",
    "Using the margin scores generated, calculate top1 and top5 predictions for the given data:\n",
    "\n",
    "**top1**: Find the most probable prediction for each example in the validation set\n",
    "\n",
    "**top5**: Find the top 5 most probable predictions in descending order for each example in the validation set (most probable to fifth most probabale)\n",
    "\n",
    "**<font color=\"magenta\" size=2>Input</font>**\n",
    "<br>\n",
    "1. **Validation Output Scores** (y_pred_valid)\n",
    "\n",
    "**<font color=\"blue\" size=2>Output</font>**\n",
    "<br>\n",
    "1. **predictions_valid**: The most probable prediction for each example in the the validation set\n",
    "2. **predictions_topn**: The top 5 predictions for each example in the validation set\n",
    "\n",
    "**<font color=\"magenta\" size=2>Sample input</font>**\n",
    "1. **y_pred_valid**: [[-0.3, 1.2, 0.3, 0.5, -0.4, 0.0, 0.01, 1.0, -1.3, 0.2, -1.2], [0.4, -0.5, 1.3, -0.2, 0.6, -2.2, -0.8, 1.9, 0.9, -0.2, -1.7]]\n",
    "\n",
    "**<font color=\"blue\" size=2>Sample output</font>** \n",
    "1. **predictions_valid**: [1, 7]\n",
    "2. **predictions_top5**: [[1,  7,  3,  2,  9], [ 7,  2,  8,  4,  0]]"
   ]
  },
  {
   "cell_type": "code",
   "execution_count": 20,
   "metadata": {
    "ExecuteTime": {
     "end_time": "2020-06-02T21:56:19.044706Z",
     "start_time": "2020-06-02T21:56:19.033008Z"
    },
    "nbgrader": {
     "grade": false,
     "grade_id": "cell-12ee152fd08b1fdf",
     "locked": false,
     "schema_version": 1,
     "solution": true
    }
   },
   "outputs": [],
   "source": [
    "def get_predictions(y_pred_valid):\n",
    "    \n",
    "    ### Your code here\n",
    "    \n",
    "    # most probbable prediction\n",
    "    predictions_valid = np.apply_along_axis(lambda x: numpy.argsort(x)[::-1][0], 1, y_pred_valid)\n",
    "    \n",
    "    # top 5 predictions\n",
    "    predictions_topn = np.apply_along_axis(lambda x: numpy.argsort(x)[::-1][:5], 1, y_pred_valid)\n",
    "    \n",
    "    return predictions_valid, predictions_topn\n"
   ]
  },
  {
   "cell_type": "code",
   "execution_count": 21,
   "metadata": {
    "ExecuteTime": {
     "end_time": "2020-06-02T21:56:19.919997Z",
     "start_time": "2020-06-02T21:56:19.910570Z"
    },
    "nbgrader": {
     "grade": false,
     "grade_id": "cell-149bfef984002316",
     "locked": true,
     "schema_version": 1,
     "solution": false
    }
   },
   "outputs": [],
   "source": [
    "predictions_valid, predictions_top5 = get_predictions(y_pred_valid)"
   ]
  },
  {
   "cell_type": "code",
   "execution_count": 22,
   "metadata": {
    "ExecuteTime": {
     "end_time": "2020-06-02T21:56:20.828880Z",
     "start_time": "2020-06-02T21:56:20.819624Z"
    },
    "nbgrader": {
     "grade": true,
     "grade_id": "cell-02be6a89a5e44753",
     "locked": true,
     "points": 0,
     "schema_version": 1,
     "solution": false
    }
   },
   "outputs": [],
   "source": [
    "assert predictions_valid.shape == (118,), \"Incorrect shape\"\n",
    "assert predictions_top5.shape == (118, 5), \"Incorrect shape\"\n",
    "assert type(predictions_valid) == numpy.ndarray, \"Incorrect type\"\n",
    "assert type(predictions_top5) == numpy.ndarray, \"Incorrect type\""
   ]
  },
  {
   "cell_type": "code",
   "execution_count": 23,
   "metadata": {
    "ExecuteTime": {
     "end_time": "2020-06-02T21:56:22.258862Z",
     "start_time": "2020-06-02T21:56:22.243510Z"
    },
    "nbgrader": {
     "grade": true,
     "grade_id": "cell-bd4d60a046981072",
     "locked": true,
     "points": 3,
     "schema_version": 1,
     "solution": false
    }
   },
   "outputs": [],
   "source": [
    "#(3 points)\n",
    "# Hidden Tests Here"
   ]
  },
  {
   "cell_type": "code",
   "execution_count": 24,
   "metadata": {
    "ExecuteTime": {
     "end_time": "2020-06-02T21:56:23.110017Z",
     "start_time": "2020-06-02T21:56:23.097127Z"
    },
    "nbgrader": {
     "grade": true,
     "grade_id": "cell-96dc65236185c2de",
     "locked": true,
     "points": 3,
     "schema_version": 1,
     "solution": false
    }
   },
   "outputs": [],
   "source": [
    "#(3 points)\n",
    "# Hidden Tests Here"
   ]
  },
  {
   "cell_type": "code",
   "execution_count": 25,
   "metadata": {
    "ExecuteTime": {
     "end_time": "2020-06-02T21:56:24.898684Z",
     "start_time": "2020-06-02T21:56:24.885135Z"
    },
    "nbgrader": {
     "grade": false,
     "grade_id": "cell-67e0884f8fe20312",
     "locked": true,
     "schema_version": 1,
     "solution": false
    }
   },
   "outputs": [
    {
     "name": "stdout",
     "output_type": "stream",
     "text": [
      "Top  1 : \t 0.6864406779661016\n",
      "Top  2 : \t 0.8305084745762712\n",
      "Top  3 : \t 0.9322033898305084\n",
      "Top  4 : \t 0.940677966101695\n",
      "Top  5 : \t 0.9576271186440678\n"
     ]
    }
   ],
   "source": [
    "acc = 0\n",
    "for i in range(5):\n",
    "    acc += sum(predictions_top5[:, i]==y_valid)\n",
    "    print(\"Top \", i+1, \": \\t\", acc/len(y_valid))"
   ]
  },
  {
   "cell_type": "markdown",
   "metadata": {
    "nbgrader": {
     "grade": false,
     "grade_id": "cell-d839e3381ca150d2",
     "locked": true,
     "schema_version": 1,
     "solution": false
    }
   },
   "source": [
    "## Generating the confusion matrix\n",
    "\n",
    "What is a confusion matrix?\n",
    "This is a useful link that explains this: https://en.wikipedia.org/wiki/Confusion_matrix#Example\n",
    "\n",
    "We will now be using the top 2 values of the **predictions_top5** matrix generated, to produce the confusion matrix. We will be creating a confusion matrix by comparing the most probable prediction against the second most probable prediction. We are doing this to analyse the scenarios where the second most probable prediction is in fact the correct prediction. So remember to take **only the top2** from the **predictions_top5** matrix. For generating this matrix we do not need more than that.\n",
    "\n",
    "An example with 4 classes (0, 1, 2, 3):\n",
    "\n",
    "If 2 is getting confused with 1, i.e., if 1 is the top prediction and 2 is the second-top prediction, then your confusion matrix should add 1 to the cell (1, 2).\n",
    "\n",
    "Different example scenarios:\n",
    "\n",
    "**Scenario 1**:\n",
    "\n",
    "**<font color=\"magenta\" size=2>Sample Input</font>**<br>\n",
    "<br>\n",
    "y_label = 3<br>\n",
    "top2_predictions = [2, 3]\n",
    "\n",
    "**<font color=\"blue\" size=2>Output</font>**<br>\n",
    "confusion_matrix:<br>\n",
    "[0 0 0 0]<br>\n",
    "[0 0 0 0]<br>\n",
    "[0 0 0 1]<br>\n",
    "[0 0 0 0]<br>\n",
    "\n",
    "**Scenario 2**:\n",
    "\n",
    "**<font color=\"magenta\" size=2>Sample Input</font>**<br>\n",
    "<br>\n",
    "Say we have 7 sample prediction values<br>\n",
    "y_label = [3, 2, 3, 1, 0, 2, 2]<br>\n",
    "top2_predictions = [[2, 3], [0, 3], [2, 3], [1, 2], [3, 0], [2, 0], [3, 2]]\n",
    "\n",
    "**<font color=\"blue\" size=2>Output</font>**<br><br>\n",
    "confusion_matrix:<br>\n",
    "[0 0 0 0]<br>\n",
    "[0 0 0 0]<br>\n",
    "[0 0 0 2]<br>\n",
    "[1 0 1 0]<br>\n",
    "\n",
    "**Explanation**:\n",
    "\n",
    "The first example has top two predictions: (2, 3) and the label 3. So we add 1 to the position (2,3).\n",
    "\n",
    "The second example has 7 sample predictions: \n",
    "1. In two scenarios 2 is predicted in place of 3 and the cell (2,3) is incremented twice.\n",
    "2. In two other scenarios we have a case where the second prediction is right. The corresponding cells {(3,0) and (3,2)} are incremented once each.\n",
    "3. In two scenarios, the first element is the correct prediction. No cell is incremented then.\n",
    "4. In one scenario, neither of the top 2 predictions is correct. No cell is incremented then.\n",
    "\n",
    "**Note**: y_label is the same as y_valid here."
   ]
  },
  {
   "cell_type": "code",
   "execution_count": 26,
   "metadata": {
    "ExecuteTime": {
     "end_time": "2020-06-02T21:56:28.517049Z",
     "start_time": "2020-06-02T21:56:28.502208Z"
    },
    "nbgrader": {
     "grade": false,
     "grade_id": "cell-8e31e89d9f64d4d6",
     "locked": false,
     "schema_version": 1,
     "solution": true
    }
   },
   "outputs": [],
   "source": [
    "def get_confusion_matrix(predictions_top5, y_valid):\n",
    "    \n",
    "    ### Your code here\n",
    "    \n",
    "    # find matrix dimensions and initialize it\n",
    "    n = len(set(y_valid))\n",
    "    confusion_matrix = np.zeros((n,n), int64)\n",
    "\n",
    "    # loop over every label\n",
    "    for label, predictions in zip(y_valid, predictions_top5[:,:2]): # only take top 2\n",
    "    \n",
    "        # case when no increment is made\n",
    "        if (label == predictions[0]) | (label not in predictions):\n",
    "            continue\n",
    "\n",
    "        # case when the second prediction is right, increment by one\n",
    "        if (label == predictions[1]):\n",
    "            confusion_matrix[predictions[0], predictions[1]]+=1\n",
    "\n",
    "    return confusion_matrix\n"
   ]
  },
  {
   "cell_type": "code",
   "execution_count": 27,
   "metadata": {
    "ExecuteTime": {
     "end_time": "2020-06-02T21:56:30.034395Z",
     "start_time": "2020-06-02T21:56:30.029058Z"
    },
    "nbgrader": {
     "grade": false,
     "grade_id": "cell-1ed771c7dfe188d5",
     "locked": true,
     "schema_version": 1,
     "solution": false
    }
   },
   "outputs": [],
   "source": [
    "confusion_matrix = get_confusion_matrix(predictions_top5, y_valid)"
   ]
  },
  {
   "cell_type": "code",
   "execution_count": 28,
   "metadata": {
    "ExecuteTime": {
     "end_time": "2020-06-02T21:56:31.678461Z",
     "start_time": "2020-06-02T21:56:31.670966Z"
    },
    "nbgrader": {
     "grade": true,
     "grade_id": "cell-157fe9078d64488b",
     "locked": true,
     "points": 0,
     "schema_version": 1,
     "solution": false
    }
   },
   "outputs": [],
   "source": [
    "assert confusion_matrix.shape == (11, 11), \"Incorrect shape\"\n",
    "assert type(confusion_matrix) == numpy.ndarray, \"Incorrect type\"\n",
    "assert type(confusion_matrix[0][0]) == numpy.int64, \"Incorrect type\""
   ]
  },
  {
   "cell_type": "code",
   "execution_count": 29,
   "metadata": {
    "ExecuteTime": {
     "end_time": "2020-06-02T21:56:32.762567Z",
     "start_time": "2020-06-02T21:56:32.726175Z"
    },
    "nbgrader": {
     "grade": true,
     "grade_id": "cell-b659fe7e4e082e91",
     "locked": true,
     "points": 4,
     "schema_version": 1,
     "solution": false
    }
   },
   "outputs": [],
   "source": [
    "#(4 points)\n",
    "# Hidden Tests Here\n"
   ]
  },
  {
   "cell_type": "code",
   "execution_count": 30,
   "metadata": {
    "ExecuteTime": {
     "end_time": "2020-06-02T21:56:34.510329Z",
     "start_time": "2020-06-02T21:56:34.489361Z"
    },
    "nbgrader": {
     "grade": false,
     "grade_id": "cell-60985a0fe92e3ab9",
     "locked": true,
     "schema_version": 1,
     "solution": false
    }
   },
   "outputs": [
    {
     "name": "stdout",
     "output_type": "stream",
     "text": [
      "        Consumer Discretionary \t [0 1 0 0 0 1 1 0 0 0 0]\n",
      "              Consumer Staples \t [1 0 0 0 0 0 0 0 0 0 0]\n",
      "                        Energy \t [0 0 0 0 0 0 0 0 0 0 0]\n",
      "                    Financials \t [0 0 0 0 0 0 1 0 0 0 0]\n",
      "                   Health Care \t [0 0 0 0 0 1 2 0 0 0 0]\n",
      "                   Industrials \t [2 0 0 1 0 0 0 2 0 0 0]\n",
      "        Information Technology \t [2 0 0 0 0 0 0 0 0 0 0]\n",
      "                     Materials \t [0 0 0 0 0 1 0 0 0 0 0]\n",
      "                   Real Estate \t [1 0 0 0 0 0 0 0 0 0 0]\n",
      "    Telecommunication Services \t [0 0 0 0 0 0 0 0 0 0 0]\n",
      "                     Utilities \t [0 0 0 0 0 0 0 0 0 0 0]\n"
     ]
    }
   ],
   "source": [
    "for i in range(confusion_matrix.shape[0]):\n",
    "    print(\"%30s\" % number2sectorName[i], \"\\t\", confusion_matrix[i, :])"
   ]
  },
  {
   "cell_type": "markdown",
   "metadata": {
    "nbgrader": {
     "grade": false,
     "grade_id": "cell-0b2e2ac37d5f8694",
     "locked": true,
     "schema_version": 1,
     "solution": false
    }
   },
   "source": [
    "## Interpretation of confusion matrix\n",
    "\n",
    "Based on the confusion matrix generated, answer the following questions.\n",
    "\n",
    "Categories:\n",
    "```\n",
    "    0) Consumer Discretionary\n",
    "    1) Consumer Staples  \n",
    "    2) Energy  \n",
    "    3) Financials\n",
    "    4) Health Care   \n",
    "    5) Industrials   \n",
    "    6) Information Technology   \n",
    "    7) Materials   \n",
    "    8) Real Estate   \n",
    "    9) Telecommunication Services   \n",
    "    10) Utilities  \n",
    "```\n",
    "\n",
    "Some standard instructions while answering the questions:\n",
    "1. Each question has two parts: **ans** and **num_scen**\n",
    "    1. **ans**: A list with numbers corresponding to the different categories. For example, if the answer is Consumer Discretionary and Consumer Staples, the **ans** should be a **list** containing **[0, 1]**. \n",
    "    2. **num_scen**: Number of scenarios where the condition in the given question is applicable. For example, if the condition given in the question happens 5 times, the **num_scen** should return **5** as an integer.\n",
    "2. Type checks have been provided to validate the type of your answer\n",
    "3. Remember that just the answer for the given matrix should be enough. You do not have to write a generic function that answers the question for all confusion matrices."
   ]
  },
  {
   "cell_type": "markdown",
   "metadata": {
    "nbgrader": {
     "grade": false,
     "grade_id": "cell-68c1242a396f9445",
     "locked": true,
     "schema_version": 1,
     "solution": false
    }
   },
   "source": [
    "### Question 1\n",
    "\n",
    "Which two sectors are most often confused with each other and how many times? \n",
    "\n",
    "```\n",
    "    0) Consumer Discretionary  \n",
    "    1) Consumer Staples  \n",
    "    2) Energy  \n",
    "    3) Financials\n",
    "    4) Health Care   \n",
    "    5) Industrials   \n",
    "    6) Information Technology   \n",
    "    7) Materials   \n",
    "    8) Real Estate   \n",
    "    9) Telecommunication Services   \n",
    "    10) Utilities  \n",
    "```\n",
    "\n",
    "**Output format for this question**: The **ans1** must be list of tuples. If say sector 0 and sector 1 are confused with each other, then your answer must be [(0,1)]. If there are multiple pairs, then it must be a list of all the tuples. For example, **[(0,1),(2,3)]**.\n",
    "\n",
    "The format for **num_scen1** is the same as mentioned in 1.9."
   ]
  },
  {
   "cell_type": "code",
   "execution_count": 31,
   "metadata": {
    "ExecuteTime": {
     "end_time": "2020-06-02T21:56:39.469583Z",
     "start_time": "2020-06-02T21:56:39.460619Z"
    },
    "nbgrader": {
     "grade": false,
     "grade_id": "cell-67fa65ee294bbf52",
     "locked": false,
     "schema_version": 1,
     "solution": true
    }
   },
   "outputs": [],
   "source": [
    "def question_1():\n",
    "    \n",
    "    ### Your code here\n",
    "    \n",
    "    # find the max number of confusions\n",
    "    num_scen1 = int(np.max(confusion_matrix))\n",
    "    \n",
    "    # find the two sectors that are most often confused\n",
    "    ans1 = [(int(i[0]), int(i[1])) for i in np.argwhere(confusion_matrix==num_scen1)]\n",
    "    \n",
    "    return ans1, num_scen1 "
   ]
  },
  {
   "cell_type": "code",
   "execution_count": 32,
   "metadata": {
    "ExecuteTime": {
     "end_time": "2020-06-02T21:56:40.852592Z",
     "start_time": "2020-06-02T21:56:40.842269Z"
    },
    "nbgrader": {
     "grade": true,
     "grade_id": "cell-bf7603962387df88",
     "locked": true,
     "points": 0,
     "schema_version": 1,
     "solution": false
    }
   },
   "outputs": [],
   "source": [
    "ans1, num_scen1 = question_1()\n",
    "assert type(ans1) == list, \"Incorrect type\"\n",
    "assert type(ans1[0]) == tuple, \"Incorrect type\"\n",
    "assert type(ans1[0][0]) == int, \"Incorrect type\"\n",
    "assert type(num_scen1) == int, \"Incorrect type\""
   ]
  },
  {
   "cell_type": "code",
   "execution_count": 33,
   "metadata": {
    "ExecuteTime": {
     "end_time": "2020-06-02T21:56:42.146311Z",
     "start_time": "2020-06-02T21:56:42.134232Z"
    },
    "nbgrader": {
     "grade": true,
     "grade_id": "cell-d0a207dca2ce731e",
     "locked": true,
     "points": 2,
     "schema_version": 1,
     "solution": false
    }
   },
   "outputs": [],
   "source": [
    "#(2 points)\n",
    "# Hidden tests here"
   ]
  },
  {
   "cell_type": "code",
   "execution_count": 34,
   "metadata": {
    "ExecuteTime": {
     "end_time": "2020-06-02T21:56:42.412120Z",
     "start_time": "2020-06-02T21:56:42.405528Z"
    },
    "nbgrader": {
     "grade": true,
     "grade_id": "cell-d0a20ca2ce731e",
     "locked": true,
     "points": 2,
     "schema_version": 1,
     "solution": false
    }
   },
   "outputs": [],
   "source": [
    "#(2 points)\n",
    "# Hidden tests here"
   ]
  },
  {
   "cell_type": "markdown",
   "metadata": {
    "nbgrader": {
     "grade": false,
     "grade_id": "cell-85c8458857446214",
     "locked": true,
     "schema_version": 1,
     "solution": false
    }
   },
   "source": [
    "### Question 2\n",
    "Which sector(s) has/have the most number of scenarios where the prediction with the second highest score is actually correct? In other words, the sector receives the second highest score and but is correct. How many scenarios?\n",
    "\n",
    "```\n",
    "    0) Consumer Discretionary  \n",
    "    1) Consumer Staples  \n",
    "    2) Energy  \n",
    "    3) Financials\n",
    "    4) Health Care   \n",
    "    5) Industrials   \n",
    "    6) Information Technology   \n",
    "    7) Materials   \n",
    "    8) Real Estate   \n",
    "    9) Telecommunication Services   \n",
    "    10) Utilities  \n",
    "```\n",
    "\n",
    "**Note**: Output format for this question is the same as the output format mentioned in Section 1.9."
   ]
  },
  {
   "cell_type": "code",
   "execution_count": 35,
   "metadata": {
    "ExecuteTime": {
     "end_time": "2020-06-02T21:56:45.383435Z",
     "start_time": "2020-06-02T21:56:45.374729Z"
    },
    "nbgrader": {
     "grade": false,
     "grade_id": "cell-34137c196c56dd11",
     "locked": false,
     "schema_version": 1,
     "solution": true
    }
   },
   "outputs": [],
   "source": [
    "def question_2():\n",
    "    \n",
    "    ### Your code here\n",
    "    \n",
    "    # take the sum along the columns (actual label)\n",
    "    sum_actual_label = confusion_matrix.sum(axis=0)\n",
    "    \n",
    "    # find the max number of scenarios where the second highest score is correct\n",
    "    num_scen2 = int(max(sum_actual_label))\n",
    "    \n",
    "    # find the index labels (sectors) \n",
    "    ans2 = [int(i) for i in np.argwhere(sum_actual_label == num_scen2)]\n",
    "    \n",
    "    return ans2, num_scen2 "
   ]
  },
  {
   "cell_type": "code",
   "execution_count": 36,
   "metadata": {
    "ExecuteTime": {
     "end_time": "2020-06-02T21:56:45.661162Z",
     "start_time": "2020-06-02T21:56:45.653475Z"
    },
    "nbgrader": {
     "grade": true,
     "grade_id": "cell-3a56a331a146b70f",
     "locked": true,
     "points": 0,
     "schema_version": 1,
     "solution": false
    }
   },
   "outputs": [],
   "source": [
    "ans2, num_scen2 = question_2()\n",
    "assert type(ans2) == list, \"Incorrect type\"\n",
    "assert type(ans2[0]) == int, \"Incorrect type\"\n",
    "assert type(num_scen2) == int, \"Incorrect type\""
   ]
  },
  {
   "cell_type": "code",
   "execution_count": 37,
   "metadata": {
    "ExecuteTime": {
     "end_time": "2020-06-02T21:56:45.932369Z",
     "start_time": "2020-06-02T21:56:45.925107Z"
    },
    "nbgrader": {
     "grade": true,
     "grade_id": "cell-d0a7dca2ce731e",
     "locked": true,
     "points": 1,
     "schema_version": 1,
     "solution": false
    }
   },
   "outputs": [],
   "source": [
    "#(1 point)\n",
    "# Hidden tests here"
   ]
  },
  {
   "cell_type": "code",
   "execution_count": 38,
   "metadata": {
    "ExecuteTime": {
     "end_time": "2020-06-02T21:56:46.483181Z",
     "start_time": "2020-06-02T21:56:46.477586Z"
    },
    "nbgrader": {
     "grade": true,
     "grade_id": "cell-d0a20ca2ce1e",
     "locked": true,
     "points": 1,
     "schema_version": 1,
     "solution": false
    }
   },
   "outputs": [],
   "source": [
    "#(1 point)\n",
    "# Hidden tests here\n"
   ]
  },
  {
   "cell_type": "markdown",
   "metadata": {
    "nbgrader": {
     "grade": false,
     "grade_id": "cell-b14e32015cf9b095",
     "locked": true,
     "schema_version": 1,
     "solution": false
    }
   },
   "source": [
    "### Question 3\n",
    "\n",
    "Which sector(s) most often identified incorrectly? In other words, the sector recieves the highest score even though the sector with the second highest score is the correct sector. How many times does this happen for each of these sectors?\n",
    "```\n",
    "    0) Consumer Discretionary  \n",
    "    1) Consumer Staples  \n",
    "    2) Energy  \n",
    "    3) Financials\n",
    "    4) Health Care   \n",
    "    5) Industrials   \n",
    "    6) Information Technology   \n",
    "    7) Materials   \n",
    "    8) Real Estate   \n",
    "    9) Telecommunication Services   \n",
    "    10) Utilities  \n",
    "```\n",
    "\n",
    "**Note**: Output format for this question is the same as the output format mentioned in Section 1.9."
   ]
  },
  {
   "cell_type": "code",
   "execution_count": 39,
   "metadata": {
    "ExecuteTime": {
     "end_time": "2020-06-02T21:56:49.699960Z",
     "start_time": "2020-06-02T21:56:49.692244Z"
    },
    "nbgrader": {
     "grade": false,
     "grade_id": "cell-34137c196c5",
     "locked": false,
     "schema_version": 1,
     "solution": true
    }
   },
   "outputs": [],
   "source": [
    "def question_3():\n",
    "    \n",
    "    ### Your code here\n",
    "    \n",
    "    # take the sum along the rows (predicted labels)\n",
    "    sum_pred_label = confusion_matrix.sum(axis=1)\n",
    "    \n",
    "    # find the max number of scenarios where the sector with the highest score is incorrect\n",
    "    num_scen3 = int(max(sum_pred_label))\n",
    "    \n",
    "    # find the index labels (sectors) \n",
    "    ans3 = [int(i) for i in np.argwhere(sum_pred_label == num_scen3)]\n",
    "    \n",
    "    return ans3, num_scen3 "
   ]
  },
  {
   "cell_type": "code",
   "execution_count": 40,
   "metadata": {
    "ExecuteTime": {
     "end_time": "2020-06-02T21:57:04.542221Z",
     "start_time": "2020-06-02T21:57:04.534214Z"
    },
    "nbgrader": {
     "grade": true,
     "grade_id": "cell-3aa146b70f",
     "locked": true,
     "points": 0,
     "schema_version": 1,
     "solution": false
    }
   },
   "outputs": [],
   "source": [
    "ans3, num_scen3 = question_3()\n",
    "assert type(ans3) == list, \"Incorrect type\"\n",
    "assert type(ans3[0]) == int, \"Incorrect type\"\n",
    "assert type(num_scen3) == int, \"Incorrect type\""
   ]
  },
  {
   "cell_type": "code",
   "execution_count": 41,
   "metadata": {
    "ExecuteTime": {
     "end_time": "2020-06-02T21:57:05.272154Z",
     "start_time": "2020-06-02T21:57:05.265121Z"
    },
    "nbgrader": {
     "grade": true,
     "grade_id": "cell-d0a2ce731e",
     "locked": true,
     "points": 1,
     "schema_version": 1,
     "solution": false
    }
   },
   "outputs": [],
   "source": [
    "#(1 point)\n",
    "# Hidden tests here"
   ]
  },
  {
   "cell_type": "code",
   "execution_count": 42,
   "metadata": {
    "ExecuteTime": {
     "end_time": "2020-06-02T21:57:05.897141Z",
     "start_time": "2020-06-02T21:57:05.890266Z"
    },
    "nbgrader": {
     "grade": true,
     "grade_id": "cell-d0a20c1e",
     "locked": true,
     "points": 1,
     "schema_version": 1,
     "solution": false
    }
   },
   "outputs": [],
   "source": [
    "#(1 point)\n",
    "# Hidden tests here"
   ]
  },
  {
   "cell_type": "markdown",
   "metadata": {
    "nbgrader": {
     "grade": false,
     "grade_id": "cell-f83c4f45ece367e2",
     "locked": true,
     "schema_version": 1,
     "solution": false
    }
   },
   "source": [
    "### Note for question 4 and 5\n",
    "**Note**: The next set of questions might require you to generate a different confusion matrix. Feel free to change the original function or use the box below to write a new function for the same."
   ]
  },
  {
   "cell_type": "code",
   "execution_count": 43,
   "metadata": {
    "ExecuteTime": {
     "end_time": "2020-06-02T21:57:08.445358Z",
     "start_time": "2020-06-02T21:57:08.401829Z"
    },
    "nbgrader": {
     "grade": true,
     "grade_id": "cell-81118309a7120376",
     "locked": false,
     "points": 0,
     "schema_version": 1,
     "solution": true
    }
   },
   "outputs": [
    {
     "name": "stdout",
     "output_type": "stream",
     "text": [
      "        Consumer Discretionary \t [0 2 0 0 0 3 1 0 0 0 0]\n",
      "              Consumer Staples \t [3 0 0 0 0 0 1 0 0 1 0]\n",
      "                        Energy \t [0 0 0 0 0 0 0 0 0 0 1]\n",
      "                    Financials \t [1 0 0 0 0 0 2 0 0 0 0]\n",
      "                   Health Care \t [0 1 0 0 0 1 4 0 0 0 0]\n",
      "                   Industrials \t [2 0 0 1 0 0 1 3 0 0 0]\n",
      "        Information Technology \t [2 0 0 0 0 1 0 0 0 0 0]\n",
      "                     Materials \t [0 0 0 0 0 3 0 0 0 0 0]\n",
      "                   Real Estate \t [1 0 0 0 1 1 0 0 0 0 0]\n",
      "    Telecommunication Services \t [0 0 0 0 0 0 0 0 0 0 0]\n",
      "                     Utilities \t [0 0 0 0 0 0 0 0 0 0 0]\n"
     ]
    }
   ],
   "source": [
    "\n",
    "confusion_matrix2 = np.zeros((11,11), dtype=int)\n",
    "confusion_matrix3 = np.zeros((11), dtype=int)\n",
    "i=0\n",
    "for entry in predictions_top5[:, :1]:\n",
    "    if entry[0] != y_valid[i]:\n",
    "        confusion_matrix2[entry[0]][y_valid[i]] += 1\n",
    "        confusion_matrix3[y_valid[i]] += 1\n",
    "    i += 1\n",
    "for i in range(confusion_matrix2.shape[0]):\n",
    "    print(\"%30s\" % number2sectorName[i], \"\\t\", confusion_matrix2[i, :])"
   ]
  },
  {
   "cell_type": "markdown",
   "metadata": {
    "nbgrader": {
     "grade": false,
     "grade_id": "cell-c173a5759f316028",
     "locked": true,
     "schema_version": 1,
     "solution": false
    }
   },
   "source": [
    "### Question 4\n",
    "\n",
    "Which category/categories is/are never identified? In other words, which category/categories are never predicted as the top prediction?\n",
    "```\n",
    "    0) Consumer Discretionary  \n",
    "    1) Consumer Staples  \n",
    "    2) Energy  \n",
    "    3) Financials\n",
    "    4) Health Care   \n",
    "    5) Industrials   \n",
    "    6) Information Technology   \n",
    "    7) Materials   \n",
    "    8) Real Estate   \n",
    "    9) Telecommunication Services   \n",
    "    10) Utilities  \n",
    "```\n",
    "\n",
    "**Note**: \n",
    "1. This question does not have a second part, so your function has to return just one answer.\n",
    "2. Output format for this question is the same as the output format mentioned in Section 1.9."
   ]
  },
  {
   "cell_type": "code",
   "execution_count": 44,
   "metadata": {
    "ExecuteTime": {
     "end_time": "2020-06-02T21:57:10.977720Z",
     "start_time": "2020-06-02T21:57:10.970652Z"
    },
    "nbgrader": {
     "grade": false,
     "grade_id": "cell-34137c1c5",
     "locked": false,
     "schema_version": 1,
     "solution": true
    }
   },
   "outputs": [],
   "source": [
    "def question_4():\n",
    "    \n",
    "    ### Your code here\n",
    "    \n",
    "    # take the sum along the rows (predicted labels)\n",
    "    sum_pred_label = confusion_matrix2.sum(axis=1)\n",
    "    \n",
    "    # find the index labels where the sum is zero (never predicted as the top prediction)\n",
    "    ans4 = [int(i) for i in np.argwhere(sum_pred_label == 0)]\n",
    "    \n",
    "    return ans4"
   ]
  },
  {
   "cell_type": "code",
   "execution_count": 45,
   "metadata": {
    "ExecuteTime": {
     "end_time": "2020-06-02T21:57:12.806422Z",
     "start_time": "2020-06-02T21:57:12.799304Z"
    },
    "nbgrader": {
     "grade": true,
     "grade_id": "cell-3aa146b7lkbn0f",
     "locked": true,
     "points": 0,
     "schema_version": 1,
     "solution": false
    }
   },
   "outputs": [],
   "source": [
    "ans4 = question_4()\n",
    "assert type(ans4) == list, \"Incorrect type\"\n",
    "assert type(ans4[0]) == int, \"Incorrect type\""
   ]
  },
  {
   "cell_type": "code",
   "execution_count": 46,
   "metadata": {
    "ExecuteTime": {
     "end_time": "2020-06-02T21:57:13.087978Z",
     "start_time": "2020-06-02T21:57:13.079135Z"
    },
    "nbgrader": {
     "grade": true,
     "grade_id": "cell-d0a2ce7jn31e",
     "locked": true,
     "points": 2,
     "schema_version": 1,
     "solution": false
    }
   },
   "outputs": [],
   "source": [
    "#(2 points)\n",
    "# Hidden tests here"
   ]
  },
  {
   "cell_type": "markdown",
   "metadata": {
    "nbgrader": {
     "grade": false,
     "grade_id": "cell-f9ee96fe2999445d",
     "locked": true,
     "schema_version": 1,
     "solution": false
    }
   },
   "source": [
    "### Question 5\n",
    "\n",
    "Which sector(s) is/are most often missed while classifying? In other words, find the sector for which there is the largest number of examples such that the correct label does not appear as the top prediction.\n",
    "\n",
    "\n",
    "```\n",
    "    0) Consumer Discretionary  \n",
    "    1) Consumer Staples  \n",
    "    2) Energy  \n",
    "    3) Financials\n",
    "    4) Health Care   \n",
    "    5) Industrials   \n",
    "    6) Information Technology   \n",
    "    7) Materials   \n",
    "    8) Real Estate   \n",
    "    9) Telecommunication Services   \n",
    "    10) Utilities  \n",
    "```\n",
    "\n",
    "**Note**: Output format for this question is the same as the output format mentioned in Section 1.9."
   ]
  },
  {
   "cell_type": "code",
   "execution_count": 47,
   "metadata": {
    "ExecuteTime": {
     "end_time": "2020-06-02T21:57:13.948298Z",
     "start_time": "2020-06-02T21:57:13.940419Z"
    },
    "nbgrader": {
     "grade": false,
     "grade_id": "cell-34vd137c1c5",
     "locked": false,
     "schema_version": 1,
     "solution": true
    }
   },
   "outputs": [],
   "source": [
    "def question_5():\n",
    "    \n",
    "    ### Your code here\n",
    "  \n",
    "    # take the sum along the columns (actual label)\n",
    "    sum_actual_label = confusion_matrix2.sum(axis=0)\n",
    "    \n",
    "    # find the max number of times the sector is missed while classifying\n",
    "    # it does not appear as the top first prediction\n",
    "    num_scen5 = int(max(sum_actual_label))\n",
    "    \n",
    "    # find the index labels (sectors) \n",
    "    ans5 = [int(i) for i in np.argwhere(sum_actual_label == num_scen5)]\n",
    "    \n",
    "    return ans5, num_scen5 "
   ]
  },
  {
   "cell_type": "code",
   "execution_count": 48,
   "metadata": {
    "ExecuteTime": {
     "end_time": "2020-06-02T21:57:14.240566Z",
     "start_time": "2020-06-02T21:57:14.231317Z"
    },
    "nbgrader": {
     "grade": true,
     "grade_id": "cell-3aa146bsdv7lkbn0f",
     "locked": true,
     "points": 0,
     "schema_version": 1,
     "solution": false
    }
   },
   "outputs": [],
   "source": [
    "ans5, num_scen5 = question_5()\n",
    "assert type(ans5) == list, \"Incorrect type\"\n",
    "assert type(num_scen5) == int, \"Incorrect type\""
   ]
  },
  {
   "cell_type": "code",
   "execution_count": 49,
   "metadata": {
    "ExecuteTime": {
     "end_time": "2020-06-02T21:57:14.840832Z",
     "start_time": "2020-06-02T21:57:14.833983Z"
    },
    "nbgrader": {
     "grade": true,
     "grade_id": "cell-d0sda2ce7jn31e",
     "locked": true,
     "points": 2,
     "schema_version": 1,
     "solution": false
    }
   },
   "outputs": [],
   "source": [
    "#(2 points)\n",
    "# Hidden tests here"
   ]
  },
  {
   "cell_type": "code",
   "execution_count": 50,
   "metadata": {
    "ExecuteTime": {
     "end_time": "2020-06-02T21:57:15.124748Z",
     "start_time": "2020-06-02T21:57:15.117241Z"
    },
    "nbgrader": {
     "grade": true,
     "grade_id": "cell-d0vdahb20c1e",
     "locked": true,
     "points": 2,
     "schema_version": 1,
     "solution": false
    }
   },
   "outputs": [],
   "source": [
    "#(2 points)\n",
    "# Hidden tests here"
   ]
  },
  {
   "cell_type": "markdown",
   "metadata": {
    "nbgrader": {
     "grade": false,
     "grade_id": "cell-8be61fc0d1cb930e",
     "locked": true,
     "schema_version": 1,
     "solution": false
    }
   },
   "source": [
    "## Test set\n",
    "\n",
    "List the pair of top two sectors for each test ticker.\n",
    "Based on your validation results, estimate:\n",
    "1. ** Accuracy1:** What is the frequency in which the correct sector is the first element in the pair.\n",
    "2. ** Accuracy2:** What is the frequency in which the correct sector is in the pair."
   ]
  },
  {
   "cell_type": "markdown",
   "metadata": {
    "nbgrader": {
     "grade": false,
     "grade_id": "cell-67dd196da88a39af",
     "locked": true,
     "schema_version": 1,
     "solution": false
    }
   },
   "source": [
    "### Generating test scores\n",
    "\n",
    "The function <font color=\"blue\">get_margin_scores_test</font> is used to predict the sector for each of the given test samples. Split the input data into train and validation in different ways and average the prediction scores over a number of iterations. You can experiment with the number, but you will need to ensure you keep to the time limit. (This should not take you more than a minute)\n",
    "\n",
    "We estimate the predictions on the validation and the test set, compute the accuracy on the validation set and report the test predictions with the validation accuracy. In this scenario, we report the average top1 and top2 accuracy.\n",
    "\n",
    "**<font color=\"magenta\" size=2>Input</font>**\n",
    "<br>\n",
    "1. **Input data** (X)\n",
    "2. **Test data** (X_test)\n",
    "3. **Input labels** (y)\n",
    "4. **XGBoost Parameter List** (param)\n",
    "\n",
    "\n",
    "**<font color=\"blue\" size=2>Output</font>**\n",
    "<br>\n",
    "Return the following:\n",
    "1. **y_pred_test**: The raw output scores for the test set\n",
    "2. **top1_acc**: Top 1 accuracy on the validation set\n",
    "3. **top2_acc**: Top 2 accuracy on the validation set\n",
    "\n",
    "\n",
    "**Note**:\n",
    "1. You can reuse/call the <font color=\"blue\">get_margin_scores</font> function or rewrite it in this function.\n",
    "2. Instructions for the <font color=\"blue\">get_margin_scores</font> apply for this too."
   ]
  },
  {
   "cell_type": "code",
   "execution_count": 51,
   "metadata": {
    "ExecuteTime": {
     "end_time": "2020-06-02T21:57:31.679422Z",
     "start_time": "2020-06-02T21:57:31.573820Z"
    },
    "nbgrader": {
     "grade": false,
     "grade_id": "cell-396107076b2ccef8",
     "locked": false,
     "schema_version": 1,
     "solution": true
    }
   },
   "outputs": [],
   "source": [
    "def get_margin_scores_test(X, X_test, y, param):\n",
    "    \n",
    "    ### Your code here\n",
    "    \n",
    "    # calculate the scores for the test set\n",
    "    final_y_test = get_margin_scores(X, X_test, y, param)\n",
    "\n",
    "    # define lists to save accuracies\n",
    "    top1_acc, top2_acc = [], []\n",
    "\n",
    "    # generate 30 different predictions on val\n",
    "    for _ in range(30):\n",
    "\n",
    "        # split data into train and validation \n",
    "        X_train, X_valid, y_train, y_valid = train_test_split(X, y, test_size=0.3)\n",
    "\n",
    "        # save predictions on val\n",
    "        y_pred_valid = get_margin_scores(X_train, X_valid, y_train, param)\n",
    "\n",
    "        # compute top1 and top5 predictions\n",
    "        predictions_valid, predictions_top5 = get_predictions(y_pred_valid)\n",
    "\n",
    "        # compute final accuracies, and save on a list\n",
    "        top1_acc.append(sum(predictions_valid==y_valid)/len(y_valid))\n",
    "        top2_acc.append(sum([i in j for i,j in zip(y_valid,predictions_top5[:,:2])])/len(y_valid))\n",
    "    \n",
    "    # save final averaged accuracies\n",
    "    final_acc = [np.mean(top1_acc), np.mean(top2_acc)]\n",
    "    \n",
    "    \n",
    "    return final_y_test, final_acc[0], final_acc[1]\n",
    "    "
   ]
  },
  {
   "cell_type": "code",
   "execution_count": 52,
   "metadata": {
    "ExecuteTime": {
     "end_time": "2020-06-02T21:59:01.497234Z",
     "start_time": "2020-06-02T21:57:34.077714Z"
    },
    "nbgrader": {
     "grade": false,
     "grade_id": "cell-5c19dfa7332f28e5",
     "locked": true,
     "schema_version": 1,
     "solution": false
    }
   },
   "outputs": [
    {
     "name": "stdout",
     "output_type": "stream",
     "text": [
      "[23:35:29] WARNING: /Users/travis/build/dmlc/xgboost/src/learner.cc:480: \n",
      "Parameters: { silent } might not be used.\n",
      "\n",
      "  This may not be accurate due to some parameters are only used in language bindings but\n",
      "  passed down to XGBoost core.  Or some parameters are not used but slip through this\n",
      "  verification. Please open an issue if you find above cases.\n",
      "\n",
      "\n",
      "[23:35:30] WARNING: /Users/travis/build/dmlc/xgboost/src/learner.cc:480: \n",
      "Parameters: { silent } might not be used.\n",
      "\n",
      "  This may not be accurate due to some parameters are only used in language bindings but\n",
      "  passed down to XGBoost core.  Or some parameters are not used but slip through this\n",
      "  verification. Please open an issue if you find above cases.\n",
      "\n",
      "\n",
      "[23:35:30] WARNING: /Users/travis/build/dmlc/xgboost/src/learner.cc:480: \n",
      "Parameters: { silent } might not be used.\n",
      "\n",
      "  This may not be accurate due to some parameters are only used in language bindings but\n",
      "  passed down to XGBoost core.  Or some parameters are not used but slip through this\n",
      "  verification. Please open an issue if you find above cases.\n",
      "\n",
      "\n",
      "[23:35:31] WARNING: /Users/travis/build/dmlc/xgboost/src/learner.cc:480: \n",
      "Parameters: { silent } might not be used.\n",
      "\n",
      "  This may not be accurate due to some parameters are only used in language bindings but\n",
      "  passed down to XGBoost core.  Or some parameters are not used but slip through this\n",
      "  verification. Please open an issue if you find above cases.\n",
      "\n",
      "\n",
      "[23:35:31] WARNING: /Users/travis/build/dmlc/xgboost/src/learner.cc:480: \n",
      "Parameters: { silent } might not be used.\n",
      "\n",
      "  This may not be accurate due to some parameters are only used in language bindings but\n",
      "  passed down to XGBoost core.  Or some parameters are not used but slip through this\n",
      "  verification. Please open an issue if you find above cases.\n",
      "\n",
      "\n",
      "[23:35:32] WARNING: /Users/travis/build/dmlc/xgboost/src/learner.cc:480: \n",
      "Parameters: { silent } might not be used.\n",
      "\n",
      "  This may not be accurate due to some parameters are only used in language bindings but\n",
      "  passed down to XGBoost core.  Or some parameters are not used but slip through this\n",
      "  verification. Please open an issue if you find above cases.\n",
      "\n",
      "\n",
      "[23:35:32] WARNING: /Users/travis/build/dmlc/xgboost/src/learner.cc:480: \n",
      "Parameters: { silent } might not be used.\n",
      "\n",
      "  This may not be accurate due to some parameters are only used in language bindings but\n",
      "  passed down to XGBoost core.  Or some parameters are not used but slip through this\n",
      "  verification. Please open an issue if you find above cases.\n",
      "\n",
      "\n",
      "[23:35:33] WARNING: /Users/travis/build/dmlc/xgboost/src/learner.cc:480: \n",
      "Parameters: { silent } might not be used.\n",
      "\n",
      "  This may not be accurate due to some parameters are only used in language bindings but\n",
      "  passed down to XGBoost core.  Or some parameters are not used but slip through this\n",
      "  verification. Please open an issue if you find above cases.\n",
      "\n",
      "\n",
      "[23:35:33] WARNING: /Users/travis/build/dmlc/xgboost/src/learner.cc:480: \n",
      "Parameters: { silent } might not be used.\n",
      "\n",
      "  This may not be accurate due to some parameters are only used in language bindings but\n",
      "  passed down to XGBoost core.  Or some parameters are not used but slip through this\n",
      "  verification. Please open an issue if you find above cases.\n",
      "\n",
      "\n",
      "[23:35:34] WARNING: /Users/travis/build/dmlc/xgboost/src/learner.cc:480: \n",
      "Parameters: { silent } might not be used.\n",
      "\n",
      "  This may not be accurate due to some parameters are only used in language bindings but\n",
      "  passed down to XGBoost core.  Or some parameters are not used but slip through this\n",
      "  verification. Please open an issue if you find above cases.\n",
      "\n",
      "\n",
      "[23:35:35] WARNING: /Users/travis/build/dmlc/xgboost/src/learner.cc:480: \n",
      "Parameters: { silent } might not be used.\n",
      "\n",
      "  This may not be accurate due to some parameters are only used in language bindings but\n",
      "  passed down to XGBoost core.  Or some parameters are not used but slip through this\n",
      "  verification. Please open an issue if you find above cases.\n",
      "\n",
      "\n",
      "[23:35:35] WARNING: /Users/travis/build/dmlc/xgboost/src/learner.cc:480: \n",
      "Parameters: { silent } might not be used.\n",
      "\n",
      "  This may not be accurate due to some parameters are only used in language bindings but\n",
      "  passed down to XGBoost core.  Or some parameters are not used but slip through this\n",
      "  verification. Please open an issue if you find above cases.\n",
      "\n",
      "\n",
      "[23:35:36] WARNING: /Users/travis/build/dmlc/xgboost/src/learner.cc:480: \n",
      "Parameters: { silent } might not be used.\n",
      "\n",
      "  This may not be accurate due to some parameters are only used in language bindings but\n",
      "  passed down to XGBoost core.  Or some parameters are not used but slip through this\n",
      "  verification. Please open an issue if you find above cases.\n",
      "\n",
      "\n",
      "[23:35:36] WARNING: /Users/travis/build/dmlc/xgboost/src/learner.cc:480: \n",
      "Parameters: { silent } might not be used.\n",
      "\n",
      "  This may not be accurate due to some parameters are only used in language bindings but\n",
      "  passed down to XGBoost core.  Or some parameters are not used but slip through this\n",
      "  verification. Please open an issue if you find above cases.\n",
      "\n",
      "\n",
      "[23:35:37] WARNING: /Users/travis/build/dmlc/xgboost/src/learner.cc:480: \n",
      "Parameters: { silent } might not be used.\n",
      "\n",
      "  This may not be accurate due to some parameters are only used in language bindings but\n",
      "  passed down to XGBoost core.  Or some parameters are not used but slip through this\n",
      "  verification. Please open an issue if you find above cases.\n",
      "\n",
      "\n",
      "[23:35:37] WARNING: /Users/travis/build/dmlc/xgboost/src/learner.cc:480: \n",
      "Parameters: { silent } might not be used.\n",
      "\n",
      "  This may not be accurate due to some parameters are only used in language bindings but\n",
      "  passed down to XGBoost core.  Or some parameters are not used but slip through this\n",
      "  verification. Please open an issue if you find above cases.\n",
      "\n",
      "\n",
      "[23:35:38] WARNING: /Users/travis/build/dmlc/xgboost/src/learner.cc:480: \n",
      "Parameters: { silent } might not be used.\n",
      "\n",
      "  This may not be accurate due to some parameters are only used in language bindings but\n",
      "  passed down to XGBoost core.  Or some parameters are not used but slip through this\n",
      "  verification. Please open an issue if you find above cases.\n",
      "\n",
      "\n",
      "[23:35:39] WARNING: /Users/travis/build/dmlc/xgboost/src/learner.cc:480: \n",
      "Parameters: { silent } might not be used.\n",
      "\n",
      "  This may not be accurate due to some parameters are only used in language bindings but\n",
      "  passed down to XGBoost core.  Or some parameters are not used but slip through this\n",
      "  verification. Please open an issue if you find above cases.\n",
      "\n",
      "\n",
      "[23:35:40] WARNING: /Users/travis/build/dmlc/xgboost/src/learner.cc:480: \n",
      "Parameters: { silent } might not be used.\n",
      "\n",
      "  This may not be accurate due to some parameters are only used in language bindings but\n",
      "  passed down to XGBoost core.  Or some parameters are not used but slip through this\n",
      "  verification. Please open an issue if you find above cases.\n",
      "\n",
      "\n",
      "[23:35:40] WARNING: /Users/travis/build/dmlc/xgboost/src/learner.cc:480: \n",
      "Parameters: { silent } might not be used.\n",
      "\n",
      "  This may not be accurate due to some parameters are only used in language bindings but\n",
      "  passed down to XGBoost core.  Or some parameters are not used but slip through this\n",
      "  verification. Please open an issue if you find above cases.\n",
      "\n",
      "\n",
      "[23:35:41] WARNING: /Users/travis/build/dmlc/xgboost/src/learner.cc:480: \n",
      "Parameters: { silent } might not be used.\n",
      "\n",
      "  This may not be accurate due to some parameters are only used in language bindings but\n",
      "  passed down to XGBoost core.  Or some parameters are not used but slip through this\n",
      "  verification. Please open an issue if you find above cases.\n",
      "\n",
      "\n",
      "[23:35:42] WARNING: /Users/travis/build/dmlc/xgboost/src/learner.cc:480: \n",
      "Parameters: { silent } might not be used.\n",
      "\n",
      "  This may not be accurate due to some parameters are only used in language bindings but\n",
      "  passed down to XGBoost core.  Or some parameters are not used but slip through this\n",
      "  verification. Please open an issue if you find above cases.\n",
      "\n",
      "\n",
      "[23:35:42] WARNING: /Users/travis/build/dmlc/xgboost/src/learner.cc:480: \n",
      "Parameters: { silent } might not be used.\n",
      "\n",
      "  This may not be accurate due to some parameters are only used in language bindings but\n",
      "  passed down to XGBoost core.  Or some parameters are not used but slip through this\n",
      "  verification. Please open an issue if you find above cases.\n",
      "\n",
      "\n",
      "[23:35:43] WARNING: /Users/travis/build/dmlc/xgboost/src/learner.cc:480: \n",
      "Parameters: { silent } might not be used.\n",
      "\n",
      "  This may not be accurate due to some parameters are only used in language bindings but\n",
      "  passed down to XGBoost core.  Or some parameters are not used but slip through this\n",
      "  verification. Please open an issue if you find above cases.\n",
      "\n",
      "\n"
     ]
    },
    {
     "name": "stdout",
     "output_type": "stream",
     "text": [
      "[23:35:43] WARNING: /Users/travis/build/dmlc/xgboost/src/learner.cc:480: \n",
      "Parameters: { silent } might not be used.\n",
      "\n",
      "  This may not be accurate due to some parameters are only used in language bindings but\n",
      "  passed down to XGBoost core.  Or some parameters are not used but slip through this\n",
      "  verification. Please open an issue if you find above cases.\n",
      "\n",
      "\n",
      "[23:35:44] WARNING: /Users/travis/build/dmlc/xgboost/src/learner.cc:480: \n",
      "Parameters: { silent } might not be used.\n",
      "\n",
      "  This may not be accurate due to some parameters are only used in language bindings but\n",
      "  passed down to XGBoost core.  Or some parameters are not used but slip through this\n",
      "  verification. Please open an issue if you find above cases.\n",
      "\n",
      "\n",
      "[23:35:44] WARNING: /Users/travis/build/dmlc/xgboost/src/learner.cc:480: \n",
      "Parameters: { silent } might not be used.\n",
      "\n",
      "  This may not be accurate due to some parameters are only used in language bindings but\n",
      "  passed down to XGBoost core.  Or some parameters are not used but slip through this\n",
      "  verification. Please open an issue if you find above cases.\n",
      "\n",
      "\n",
      "[23:35:45] WARNING: /Users/travis/build/dmlc/xgboost/src/learner.cc:480: \n",
      "Parameters: { silent } might not be used.\n",
      "\n",
      "  This may not be accurate due to some parameters are only used in language bindings but\n",
      "  passed down to XGBoost core.  Or some parameters are not used but slip through this\n",
      "  verification. Please open an issue if you find above cases.\n",
      "\n",
      "\n",
      "[23:35:45] WARNING: /Users/travis/build/dmlc/xgboost/src/learner.cc:480: \n",
      "Parameters: { silent } might not be used.\n",
      "\n",
      "  This may not be accurate due to some parameters are only used in language bindings but\n",
      "  passed down to XGBoost core.  Or some parameters are not used but slip through this\n",
      "  verification. Please open an issue if you find above cases.\n",
      "\n",
      "\n",
      "[23:35:46] WARNING: /Users/travis/build/dmlc/xgboost/src/learner.cc:480: \n",
      "Parameters: { silent } might not be used.\n",
      "\n",
      "  This may not be accurate due to some parameters are only used in language bindings but\n",
      "  passed down to XGBoost core.  Or some parameters are not used but slip through this\n",
      "  verification. Please open an issue if you find above cases.\n",
      "\n",
      "\n",
      "[23:35:46] WARNING: /Users/travis/build/dmlc/xgboost/src/learner.cc:480: \n",
      "Parameters: { silent } might not be used.\n",
      "\n",
      "  This may not be accurate due to some parameters are only used in language bindings but\n",
      "  passed down to XGBoost core.  Or some parameters are not used but slip through this\n",
      "  verification. Please open an issue if you find above cases.\n",
      "\n",
      "\n"
     ]
    }
   ],
   "source": [
    "y_pred_test, top1_acc, top2_acc = get_margin_scores_test(X, X_test, y, param)"
   ]
  },
  {
   "cell_type": "code",
   "execution_count": 53,
   "metadata": {
    "ExecuteTime": {
     "end_time": "2020-06-02T21:59:01.749942Z",
     "start_time": "2020-06-02T21:59:01.743486Z"
    },
    "nbgrader": {
     "grade": true,
     "grade_id": "cell-4c7bb5430759629b",
     "locked": true,
     "points": 0,
     "schema_version": 1,
     "solution": false
    }
   },
   "outputs": [],
   "source": [
    "assert type(y_pred_test) == np.ndarray, \"\"\n",
    "assert y_pred_test.shape == (89, 11)"
   ]
  },
  {
   "cell_type": "code",
   "execution_count": 54,
   "metadata": {
    "ExecuteTime": {
     "end_time": "2020-06-02T21:59:02.029826Z",
     "start_time": "2020-06-02T21:59:02.007743Z"
    },
    "nbgrader": {
     "grade": true,
     "grade_id": "cell-b877235a2a80c672",
     "locked": true,
     "points": 2,
     "schema_version": 1,
     "solution": false
    }
   },
   "outputs": [],
   "source": [
    "#(2 points)\n",
    "# Hidden tests here"
   ]
  },
  {
   "cell_type": "code",
   "execution_count": 55,
   "metadata": {
    "ExecuteTime": {
     "end_time": "2020-06-02T21:59:02.370733Z",
     "start_time": "2020-06-02T21:59:02.362308Z"
    },
    "nbgrader": {
     "grade": true,
     "grade_id": "cell-0329170a30973225",
     "locked": true,
     "points": 2,
     "schema_version": 1,
     "solution": false
    }
   },
   "outputs": [],
   "source": [
    "#(2 points)\n",
    "# Hidden tests here"
   ]
  },
  {
   "cell_type": "code",
   "execution_count": 56,
   "metadata": {
    "ExecuteTime": {
     "end_time": "2020-06-02T21:59:02.815893Z",
     "start_time": "2020-06-02T21:59:02.807016Z"
    },
    "nbgrader": {
     "grade": true,
     "grade_id": "cell-38b270851d859ac7",
     "locked": true,
     "points": 2,
     "schema_version": 1,
     "solution": false
    }
   },
   "outputs": [],
   "source": [
    "#(2 points)\n",
    "# Hidden tests here"
   ]
  },
  {
   "cell_type": "markdown",
   "metadata": {
    "nbgrader": {
     "grade": false,
     "grade_id": "cell-a356322bc009212b",
     "locked": true,
     "schema_version": 1,
     "solution": false
    }
   },
   "source": [
    "### Computing the sector predictions\n",
    "\n",
    "**Note**: This section is not evaluated. This is merely to see your predictions on the test set and report the top1 and top2 accuracy"
   ]
  },
  {
   "cell_type": "code",
   "execution_count": 57,
   "metadata": {
    "ExecuteTime": {
     "end_time": "2020-06-02T21:59:03.207573Z",
     "start_time": "2020-06-02T21:59:03.175229Z"
    },
    "nbgrader": {
     "grade": false,
     "grade_id": "cell-1f48f3c5accd241f",
     "locked": true,
     "schema_version": 1,
     "solution": false
    }
   },
   "outputs": [
    {
     "name": "stdout",
     "output_type": "stream",
     "text": [
      "   Test ID                 Top prediction          Second Top prediction\n",
      "         0                      Utilities     Telecommunication Services\n",
      "        10         Information Technology                         Energy\n",
      "        11                      Materials                    Real Estate\n",
      "        12                      Materials                    Industrials\n",
      "        13         Consumer Discretionary                    Real Estate\n",
      "        14                     Financials         Consumer Discretionary\n",
      "        15         Consumer Discretionary         Information Technology\n",
      "        16         Information Technology                    Industrials\n",
      "        17                         Energy         Consumer Discretionary\n",
      "        18                         Energy         Consumer Discretionary\n",
      "        19                         Energy                    Health Care\n",
      "         1                     Financials               Consumer Staples\n",
      "        20               Consumer Staples         Information Technology\n",
      "        21                      Materials                    Industrials\n",
      "        22         Consumer Discretionary         Information Technology\n",
      "        23                     Financials     Telecommunication Services\n",
      "        24                    Industrials                      Materials\n",
      "        25         Consumer Discretionary         Information Technology\n",
      "        26                     Financials         Information Technology\n",
      "        27                    Industrials                      Materials\n",
      "        28         Consumer Discretionary         Information Technology\n",
      "        29         Information Technology                      Utilities\n",
      "         2                    Health Care         Consumer Discretionary\n",
      "        30                      Materials                    Health Care\n",
      "        31                      Materials                    Industrials\n",
      "        32         Consumer Discretionary                     Financials\n",
      "        33         Information Technology                     Financials\n",
      "        34                      Utilities     Telecommunication Services\n",
      "        35                     Financials                    Industrials\n",
      "        36                     Financials         Consumer Discretionary\n",
      "        37         Consumer Discretionary                         Energy\n",
      "        38         Consumer Discretionary               Consumer Staples\n",
      "        39                         Energy                      Materials\n",
      "         3         Information Technology                         Energy\n",
      "        40               Consumer Staples         Consumer Discretionary\n",
      "        41                     Financials         Information Technology\n",
      "        42                    Health Care                    Industrials\n",
      "        43                    Industrials                      Materials\n",
      "        44         Information Technology     Telecommunication Services\n",
      "        45                     Financials                    Health Care\n",
      "        46         Consumer Discretionary                     Financials\n",
      "        47                    Health Care         Consumer Discretionary\n",
      "        48               Consumer Staples                    Health Care\n",
      "        49                    Industrials                      Materials\n",
      "         4                     Financials                    Health Care\n",
      "        50         Information Technology     Telecommunication Services\n",
      "        51         Consumer Discretionary         Information Technology\n",
      "        52                    Real Estate         Consumer Discretionary\n",
      "        53               Consumer Staples                    Health Care\n",
      "        54         Information Technology         Consumer Discretionary\n",
      "        55                         Energy         Consumer Discretionary\n",
      "        56         Information Technology                         Energy\n",
      "        57                    Real Estate         Consumer Discretionary\n",
      "        58               Consumer Staples                     Financials\n",
      "        59                         Energy                    Industrials\n",
      "         5                    Health Care         Consumer Discretionary\n",
      "        60         Consumer Discretionary               Consumer Staples\n",
      "        61                         Energy               Consumer Staples\n",
      "        62                    Industrials                    Health Care\n",
      "        63         Consumer Discretionary                      Materials\n",
      "        64                         Energy         Consumer Discretionary\n",
      "        65                     Financials                    Real Estate\n",
      "        66                      Utilities     Telecommunication Services\n",
      "        67         Consumer Discretionary         Information Technology\n",
      "        68         Consumer Discretionary                    Industrials\n",
      "        69               Consumer Staples         Consumer Discretionary\n",
      "         6                         Energy         Consumer Discretionary\n",
      "        70                         Energy                      Materials\n",
      "        71               Consumer Staples                    Health Care\n",
      "        72                      Utilities     Telecommunication Services\n",
      "        73                      Materials                     Financials\n",
      "        74         Information Technology         Consumer Discretionary\n",
      "        75         Information Technology                     Financials\n",
      "        76                    Health Care                    Industrials\n",
      "        77               Consumer Staples                    Industrials\n",
      "        78                    Industrials         Consumer Discretionary\n",
      "        79         Consumer Discretionary                    Industrials\n",
      "         7         Information Technology                     Financials\n",
      "        80                    Industrials         Consumer Discretionary\n",
      "        81                    Industrials                      Materials\n",
      "        82                      Materials                    Industrials\n",
      "        83                    Industrials                    Health Care\n",
      "        84                    Health Care               Consumer Staples\n",
      "        85                      Materials                    Industrials\n",
      "        86         Consumer Discretionary               Consumer Staples\n",
      "        87                      Materials                    Industrials\n",
      "        88                         Energy               Consumer Staples\n",
      "         8                      Utilities     Telecommunication Services\n",
      "         9         Consumer Discretionary                    Industrials\n",
      "\n",
      "\n",
      "\n",
      "Top 1 accuracy: 75.42372881355932 %\n",
      "\n",
      "Top 2 accuracy: 88.36158192090394 %\n"
     ]
    }
   ],
   "source": [
    "predictions1, predictions5 = get_predictions(y_pred_test) #This line will fail if get_predictions is not defined\n",
    "i=0\n",
    "print(\"%10s\" % \"Test ID\", \"%30s\" % \"Top prediction\", \"%30s\" % \"Second Top prediction\")\n",
    "for entry in predictions5[:, :2]:\n",
    "    print(\"%10s\" % test_nos[i], \"%30s\" % number2sectorName[entry[0]], \"%30s\" % number2sectorName[entry[1]])\n",
    "    i += 1\n",
    "top1_acc_perc = top1_acc*100\n",
    "top2_acc_perc = top2_acc*100\n",
    "print(\"\\n\\n\\nTop 1 accuracy: %s\" % top1_acc_perc, \"%\")\n",
    "print(\"\\nTop 2 accuracy: %s\" % top2_acc_perc, \"%\")"
   ]
  },
  {
   "cell_type": "code",
   "execution_count": null,
   "metadata": {},
   "outputs": [],
   "source": []
  }
 ],
 "metadata": {
  "celltoolbar": "Create Assignment",
  "hide_input": false,
  "kernelspec": {
   "display_name": "Python 3",
   "language": "python",
   "name": "python3"
  },
  "language_info": {
   "codemirror_mode": {
    "name": "ipython",
    "version": 3
   },
   "file_extension": ".py",
   "mimetype": "text/x-python",
   "name": "python",
   "nbconvert_exporter": "python",
   "pygments_lexer": "ipython3",
   "version": "3.7.7"
  },
  "toc": {
   "base_numbering": 1,
   "nav_menu": {},
   "number_sections": true,
   "sideBar": true,
   "skip_h1_title": false,
   "title_cell": "Table of Contents",
   "title_sidebar": "Contents",
   "toc_cell": false,
   "toc_position": {},
   "toc_section_display": true,
   "toc_window_display": true
  },
  "varInspector": {
   "cols": {
    "lenName": 16,
    "lenType": 16,
    "lenVar": 40
   },
   "kernels_config": {
    "python": {
     "delete_cmd_postfix": "",
     "delete_cmd_prefix": "del ",
     "library": "var_list.py",
     "varRefreshCmd": "print(var_dic_list())"
    },
    "r": {
     "delete_cmd_postfix": ") ",
     "delete_cmd_prefix": "rm(",
     "library": "var_list.r",
     "varRefreshCmd": "cat(var_dic_list()) "
    }
   },
   "types_to_exclude": [
    "module",
    "function",
    "builtin_function_or_method",
    "instance",
    "_Feature"
   ],
   "window_display": false
  }
 },
 "nbformat": 4,
 "nbformat_minor": 2
}
