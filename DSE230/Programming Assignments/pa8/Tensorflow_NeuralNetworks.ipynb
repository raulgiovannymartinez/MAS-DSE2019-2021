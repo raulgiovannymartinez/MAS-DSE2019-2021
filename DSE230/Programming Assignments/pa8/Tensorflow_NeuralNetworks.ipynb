{
 "cells": [
  {
   "cell_type": "markdown",
   "metadata": {
    "deletable": false,
    "editable": false,
    "nbgrader": {
     "grade": false,
     "grade_id": "cell-158395db1eb13989",
     "locked": true,
     "schema_version": 1,
     "solution": false
    }
   },
   "source": [
    " **<font size=5>Programming Assignment 8: Neural Networks with Tensorflow</font>**"
   ]
  },
  {
   "cell_type": "markdown",
   "metadata": {
    "deletable": false,
    "editable": false,
    "nbgrader": {
     "grade": false,
     "grade_id": "cell-c303936544fce875",
     "locked": true,
     "schema_version": 1,
     "solution": false
    }
   },
   "source": [
    "## Problem Statement\n",
    "\n",
    "In this programming assignment, you will write Tensorflow code to distinguish between a signal process which produces Higgs bosons and a background process which does not. We model this problem as a binary classification problem. \n",
    "\n",
    "Note: This assignment is not designed to make you a professional Tensorflow programmer, but rather to introduce you to, and make you practice, the basic constructs and functionalities of Tensorflow. "
   ]
  },
  {
   "cell_type": "markdown",
   "metadata": {
    "deletable": false,
    "editable": false,
    "nbgrader": {
     "grade": false,
     "grade_id": "cell-9cedd227ae71fb17",
     "locked": true,
     "schema_version": 1,
     "solution": false
    }
   },
   "source": [
    "### CPU vs GPU\n",
    "\n",
    "You may want to read [this article](https://www.analyticsvidhya.com/blog/2017/05/gpus-necessary-for-deep-learning/) to know more about the CPU vs GPU discussion. This is totally optional, still highly recommended for those who are interested. \n",
    "\n",
    "You do not need to write any \"GPU specific\" code. Tensorflow automatically recognizes the underlying hardware, and optimizes your code to run accordingly.\n",
    "\n",
    "The most common bottleneck to training faster with a GPU is usually the speed at which data is fed to the GPU for processing. So the input data pipeline is an important construct when writing efficient, scalable code to train Neural networks using Tensorflow."
   ]
  },
  {
   "cell_type": "markdown",
   "metadata": {
    "deletable": false,
    "editable": false,
    "nbgrader": {
     "grade": false,
     "grade_id": "cell-f87b642b5252980b",
     "locked": true,
     "schema_version": 1,
     "solution": false
    }
   },
   "source": [
    "### Dataset\n",
    "\n",
    "For this assignment, we will use sampled data from a well known dataset: [Higgs Dataset](https://archive.ics.uci.edu/ml/datasets/HIGGS). \n",
    "\n",
    "Some information regarding the data and the problem: \n",
    "\n",
    "This is a classification problem to distinguish between a signal process which produces Higgs bosons and a background process which does not. The data has been produced using Monte Carlo simulations. The first 21 features (columns 2-22) are kinematic properties measured by the particle detectors in the accelerator. The last seven features are functions of the first 21 features; these are high-level features derived by physicists to help discriminate between the two classes."
   ]
  },
  {
   "cell_type": "markdown",
   "metadata": {
    "deletable": false,
    "editable": false,
    "nbgrader": {
     "grade": false,
     "grade_id": "cell-0f1b9f41248e8378",
     "locked": true,
     "schema_version": 1,
     "solution": false
    }
   },
   "source": [
    "The train and test files have the following characteristics:\n",
    "\n",
    "- The first row is a header that contains a comma-separated list of the names of the label and attributes\n",
    "- Each successive row represents a single example\n",
    "- The first column of each example is the label to be learned, and all other columns are attribute values.\n",
    "- All attributes are numerical i.e. real numbers."
   ]
  },
  {
   "cell_type": "markdown",
   "metadata": {
    "deletable": false,
    "editable": false,
    "nbgrader": {
     "grade": false,
     "grade_id": "cell-fc620c75541dd80e",
     "locked": true,
     "schema_version": 1,
     "solution": false
    }
   },
   "source": [
    "### Testing and Evaluation\n",
    "\n",
    "\n",
    "For local testing and for two of the three submissions, you will use the small training and test datasets that have been provided along with this notebook. \n",
    "\n",
    "When submitting on EdX, your code will be trained and evaluated on a much larger sample of the full dataset. \n",
    "\n",
    "Some suggestions you should keep in mind while implementing the functions:\n",
    "\n",
    "- Avoid doing repeated work i.e. anything that could be done outside the loop, should be outside.\n",
    "- Read the markdown of this notebook carefully."
   ]
  },
  {
   "cell_type": "markdown",
   "metadata": {
    "deletable": false,
    "editable": false,
    "nbgrader": {
     "grade": false,
     "grade_id": "cell-6995099148a8d8ee",
     "locked": true,
     "schema_version": 1,
     "solution": false
    }
   },
   "source": [
    "### Configuration File\n",
    "\n",
    "To make your code more robust, and to aid the process of grading your work, most of the required parameters for the network training and testing will come from a [YAML](http://yaml.org/) config file named \"nn_config.yaml\". \n",
    "\n",
    "This file is present in the same directory as the notebook. We have added default values to parameters, but you may modify them for debugging purposes. \n",
    "\n",
    "Information regarding what these variables mean, and how you should use them is present as comments in the yaml file. Information regarding how to read variables from the YAML config file is mentioned later in this notebook.\n",
    "\n",
    "However, remember that for grading your work we will use our own config files. So your code should always refer to variable values from the config file."
   ]
  },
  {
   "cell_type": "code",
   "execution_count": 1,
   "metadata": {
    "deletable": false,
    "editable": false,
    "nbgrader": {
     "grade": false,
     "grade_id": "cell-0e011b46c2ce211f",
     "locked": true,
     "schema_version": 1,
     "solution": false
    }
   },
   "outputs": [
    {
     "name": "stdout",
     "output_type": "stream",
     "text": [
      "## Training data file path\r\n",
      "training_data_path: ../resource/lib/publicdata/hw8/higgs_train_large.csv\r\n",
      "\r\n",
      "## Testing data file path\r\n",
      "test_data_path: ../resource/lib/publicdata/hw8/higgs_test_large.csv \r\n",
      "\r\n",
      "## Location in which you will save the pickle file containing predictions on test data\r\n",
      "output_predictions_pickle_path: ./test_predictions.pkl\r\n",
      "\r\n",
      "## How to split the input training data into train and validation sets. Value of 0.8 means that if there were initially 100 training examples in the input data, you should split them such that the first 80 are used as training examples and last 20 should be used for validation.\r\n",
      "training_to_validation_ratio: 0.8\r\n",
      "\r\n",
      "## the learning rate you should use for your optimizer \r\n",
      "learning_rate: 0.05\r\n",
      "\r\n",
      "## the total number of epochs or iterations to run over the (80) training examples\r\n",
      "epochs: 200\r\n",
      "\r\n",
      "## the number of mini batches in which you should split your training examples. Continuing with our example, if this value is 10, then each mini batch will have 8 training examples.\r\n",
      "num_mini_batches: 5\r\n",
      "\r\n",
      "## this variable is for your own use to modify when you would like to print any debug statements inside your training loop. For example, a value of 5 may suggest that you should print the training loss, validation loss, training accuracy and validation accuracy every 5 epochs.\r\n",
      "display_step: 1\r\n",
      "\r\n",
      "## the size of the network. If first_layer: 20 and second_layer: 8 then you should set the number of hidden units in first hidden layer and second layer to be 20 and 8 respectively.\r\n",
      "hidden_layer_sizes: \r\n",
      "    first_layer: 20\r\n",
      "    second_layer: 8\r\n",
      "\r\n",
      "## for grading purposes, you may ignore\r\n",
      "dataset_size: large\r\n",
      "grading_script_path: ../resource/lib/publicdata/hw8/grade_test_submission.py"
     ]
    }
   ],
   "source": [
    "# Let's look at the contents of the YAML config file\n",
    "!cat nn_config.yaml "
   ]
  },
  {
   "cell_type": "markdown",
   "metadata": {
    "deletable": false,
    "editable": false,
    "nbgrader": {
     "grade": false,
     "grade_id": "cell-4a4e23526701b920",
     "locked": true,
     "schema_version": 1,
     "solution": false
    }
   },
   "source": [
    "## Gameplan\n",
    "\n",
    "You will write robust code that builds a feedforward neural network, and trains it according to the given set of parameters.\n",
    "\n",
    "1. We will first load the training and test data using the parameters from the config file.\n",
    "2. We will then split the training data into training and validation sets using the value of \"training_to_validation_ratio\" parameter in the config. \n",
    "    For example, if the param is 0.8, it means that the initial 80% of the data should be kept for training, while the rest 20% should be used for validation.\n",
    "3. We will use Cross Entropy Loss as our cost functions and minimize it using AdamOptimizer as our optimizer.\n",
    "4. We will train our model in batches inside our main training loop. You will divide the training data into `num_batches` number of mini batches and for each epoch you will iterate and train over those many number of batches.\n",
    "5. You can use \"display_step\" param to control the frequency of print statements.\n",
    "6. You will maintain a list of training accuracies and losses (one value for each epoch).\n",
    "7. You will maintain a list of validation accuracy and loss (one value for each epoch)."
   ]
  },
  {
   "cell_type": "markdown",
   "metadata": {
    "deletable": false,
    "editable": false,
    "nbgrader": {
     "grade": false,
     "grade_id": "cell-c5dc5f0d1795d09a",
     "locked": true,
     "schema_version": 1,
     "solution": false
    }
   },
   "source": [
    "\n",
    "    The function tf.reduce_sum will allow you to sum across all instances.\n",
    "    "
   ]
  },
  {
   "cell_type": "markdown",
   "metadata": {
    "deletable": false,
    "editable": false,
    "nbgrader": {
     "grade": false,
     "grade_id": "cell-2952f5d422d0d1e7",
     "locked": true,
     "schema_version": 1,
     "solution": false
    }
   },
   "source": [
    "5) You should train your network using your inputted learning rate and for the inputted number of iterations. The iterations are simply a loop that calls Backpropagation a fixed number of times."
   ]
  },
  {
   "cell_type": "markdown",
   "metadata": {},
   "source": [
    "## Initialization "
   ]
  },
  {
   "cell_type": "code",
   "execution_count": 2,
   "metadata": {
    "collapsed": true,
    "deletable": false,
    "editable": false,
    "nbgrader": {
     "grade": false,
     "grade_id": "cell-9c01b1c216ee0572",
     "locked": true,
     "schema_version": 1,
     "solution": false
    }
   },
   "outputs": [],
   "source": [
    "## Tensorflow produces a lot of warnings. We generally want to suppress them. The below code does exactly that. \n",
    "import warnings\n",
    "warnings.filterwarnings('ignore')"
   ]
  },
  {
   "cell_type": "code",
   "execution_count": 3,
   "metadata": {
    "collapsed": true,
    "deletable": false,
    "editable": false,
    "nbgrader": {
     "grade": false,
     "grade_id": "cell-a554a48f73f64b13",
     "locked": true,
     "schema_version": 1,
     "solution": false
    }
   },
   "outputs": [],
   "source": [
    "import tensorflow as tf\n",
    "import numpy as np\n",
    "from matplotlib import pyplot as plt\n",
    "\n",
    "## Pretty Print\n",
    "import pprint as pp"
   ]
  },
  {
   "cell_type": "code",
   "execution_count": 4,
   "metadata": {
    "collapsed": true,
    "deletable": false,
    "editable": false,
    "nbgrader": {
     "grade": false,
     "grade_id": "cell-d1e7a22edc0fe397",
     "locked": true,
     "schema_version": 1,
     "solution": false
    }
   },
   "outputs": [],
   "source": [
    "import yaml\n",
    "def import_config():\n",
    "    with open(\"nn_config.yaml\", 'r') as ymlfile:\n",
    "        try:\n",
    "            cfg = yaml.load(ymlfile)\n",
    "        except yaml.YAMLError as err:\n",
    "            print(err)\n",
    "    return cfg"
   ]
  },
  {
   "cell_type": "code",
   "execution_count": 5,
   "metadata": {
    "deletable": false,
    "editable": false,
    "nbgrader": {
     "grade": false,
     "grade_id": "cell-fbb7c3cab0be00a7",
     "locked": true,
     "schema_version": 1,
     "solution": false
    }
   },
   "outputs": [
    {
     "name": "stdout",
     "output_type": "stream",
     "text": [
      "Your hardware either does not have a GPU or is not configured to use the GPU version of TF.\n",
      "        However, you do not need a GPU for this assignment as you will be completing this assigment on a\n",
      "        CPU enviroment, but evaluating it on a GPU enviroment.\n"
     ]
    }
   ],
   "source": [
    "if 'session' in locals() and session is not None:\n",
    "    print('Close interactive session')\n",
    "    session.close()\n",
    "\n",
    "config = tf.ConfigProto()\n",
    "config.gpu_options.allow_growth = True                    # Dynamically grow the memory used on the GPU\n",
    "session = tf.Session(config=config)\n",
    "    \n",
    "## The below function tests if Tensorflow has access to GPU or not.\n",
    "def test_cpu_gpu():\n",
    "    if tf.test.gpu_device_name():\n",
    "        print('Default GPU Device: {}'.format(tf.test.gpu_device_name()))\n",
    "    else:\n",
    "        print('''Your hardware either does not have a GPU or is not configured to use the GPU version of TF.\n",
    "        However, you do not need a GPU for this assignment as you will be completing this assigment on a\n",
    "        CPU enviroment, but evaluating it on a GPU enviroment.''')\n",
    "        \n",
    "test_cpu_gpu()"
   ]
  },
  {
   "cell_type": "code",
   "execution_count": 6,
   "metadata": {
    "deletable": false,
    "editable": false,
    "nbgrader": {
     "grade": false,
     "grade_id": "cell-4a59bb5add2fa75d",
     "locked": true,
     "schema_version": 1,
     "solution": false
    }
   },
   "outputs": [
    {
     "name": "stdout",
     "output_type": "stream",
     "text": [
      "{'dataset_size': 'large',\n",
      " 'display_step': 1,\n",
      " 'epochs': 200,\n",
      " 'grading_script_path': '../resource/lib/publicdata/hw8/grade_test_submission.py',\n",
      " 'hidden_layer_sizes': {'first_layer': 20, 'second_layer': 8},\n",
      " 'learning_rate': 0.05,\n",
      " 'num_mini_batches': 5,\n",
      " 'output_predictions_pickle_path': './test_predictions.pkl',\n",
      " 'test_data_path': '../resource/lib/publicdata/hw8/higgs_test_large.csv',\n",
      " 'training_data_path': '../resource/lib/publicdata/hw8/higgs_train_large.csv',\n",
      " 'training_to_validation_ratio': 0.8}\n"
     ]
    }
   ],
   "source": [
    "cfg = import_config()\n",
    "\n",
    "## Is it loaded correctly?\n",
    "pp.pprint(cfg)"
   ]
  },
  {
   "cell_type": "code",
   "execution_count": 7,
   "metadata": {
    "collapsed": true
   },
   "outputs": [],
   "source": [
    "# Removes the old test_predictions.pkl file\n",
    "# so that it will not affect your final tests at the end of the notebook\n",
    "!rm test_predictions.pkl 2> /dev/null"
   ]
  },
  {
   "cell_type": "markdown",
   "metadata": {},
   "source": [
    "## Reading in Data "
   ]
  },
  {
   "cell_type": "code",
   "execution_count": 8,
   "metadata": {
    "collapsed": true,
    "deletable": false,
    "editable": false,
    "nbgrader": {
     "grade": false,
     "grade_id": "cell-855db077a3fa0f0b",
     "locked": true,
     "schema_version": 1,
     "solution": false
    }
   },
   "outputs": [],
   "source": [
    "train_file_name = cfg['training_data_path']\n",
    "test_file_name = cfg['test_data_path']"
   ]
  },
  {
   "cell_type": "code",
   "execution_count": 9,
   "metadata": {
    "collapsed": true
   },
   "outputs": [],
   "source": [
    "# =========================================================================================== #\n",
    "# Uncomment this to test on smaller dataset. This is faster and can be used to debug quickly. #\n",
    "# PLEASE COMMENT THIS BEFORE SUBMITTING. YOUR NOTEBOOK IS EVALUATED ON LARGE DATASET.         #\n",
    "# =========================================================================================== #\n",
    "\n",
    "train_file_name = '../resource/lib/publicdata/hw8/higgs_train_small.csv'\n",
    "test_file_name = '../resource/lib/publicdata/hw8/higgs_test_small.csv'"
   ]
  },
  {
   "cell_type": "code",
   "execution_count": 10,
   "metadata": {
    "collapsed": true,
    "deletable": false,
    "editable": false,
    "nbgrader": {
     "grade": false,
     "grade_id": "cell-a6fc5a4686fa8347",
     "locked": true,
     "schema_version": 1,
     "solution": false
    }
   },
   "outputs": [],
   "source": [
    "## Loading the Data\n",
    "training_data = np.loadtxt(train_file_name, delimiter = ',')\n",
    "test_data = np.loadtxt(test_file_name, delimiter = ',')"
   ]
  },
  {
   "cell_type": "code",
   "execution_count": 11,
   "metadata": {},
   "outputs": [
    {
     "data": {
      "text/plain": [
       "(10000, 29)"
      ]
     },
     "execution_count": 11,
     "metadata": {},
     "output_type": "execute_result"
    }
   ],
   "source": [
    "training_data.shape"
   ]
  },
  {
   "cell_type": "code",
   "execution_count": 12,
   "metadata": {},
   "outputs": [
    {
     "data": {
      "text/plain": [
       "(2000, 28)"
      ]
     },
     "execution_count": 12,
     "metadata": {},
     "output_type": "execute_result"
    }
   ],
   "source": [
    "test_data.shape"
   ]
  },
  {
   "cell_type": "markdown",
   "metadata": {
    "deletable": false,
    "editable": false,
    "nbgrader": {
     "grade": false,
     "grade_id": "cell-f6ae15f9a3523674",
     "locked": true,
     "schema_version": 1,
     "solution": false
    }
   },
   "source": [
    "Now we have loaded the training and test data. However, we cannot use it directly. We first need to standardize it."
   ]
  },
  {
   "cell_type": "markdown",
   "metadata": {
    "deletable": false,
    "editable": false,
    "nbgrader": {
     "grade": false,
     "grade_id": "cell-bb592faa9bc02c71",
     "locked": true,
     "schema_version": 1,
     "solution": false
    }
   },
   "source": [
    "### Exercise: Implement the Standardize Function \n",
    "\n",
    "Neural networks work best when all features roughly are on the same scale and are centered around the mean.\n",
    "\n",
    "This is done by standardizing the feature vectors. Feature standardization makes the values of each feature in the data have zero-mean (when subtracting the mean in the numerator) and unit-variance.\n",
    "\n",
    "The function <font color=\"blue\">standardize</font> takes the input data and determines the distribution mean and standard deviation for each feature. Next the mean is subtracted from each feature. Then the mean-subtracted values of each feature are divided by its standard deviation.\n",
    "\n",
    "**<font color=\"magenta\" size=2>Example Input</font>**\n",
    "There are 3 training examples with 4 features each \n",
    "``` python\n",
    "np.array([[-0.22 -0.19 -0.17 -0.13][-0.1 -0.05 0.02 0.10][0.03 0.11 0.12 0.15]])\n",
    "```\n",
    "\n",
    "**<font color=\"blue\" size=2>Example Output</font>**\n",
    "There are 3 training examples (which have been standardized) along each of the 4 features\n",
    "``` python\n",
    "array([[-1.20809282, -1.19664225, -1.33025759, -1.39425471],\n",
    "       [-0.03265116, -0.05439283,  0.2494233 ,  0.4920899 ],\n",
    "       [ 1.24074398,  1.25103507,  1.08083429,  0.90216481]])\n",
    "```\n",
    "\n",
    "Refer the \"Standardization\" section of this [Wikipedia Feature Scaling Article](https://en.wikipedia.org/wiki/Feature_scaling)."
   ]
  },
  {
   "cell_type": "code",
   "execution_count": 13,
   "metadata": {
    "collapsed": true,
    "nbgrader": {
     "grade": false,
     "grade_id": "cell-305b411920b596a3",
     "locked": false,
     "schema_version": 1,
     "solution": true
    }
   },
   "outputs": [],
   "source": [
    "def standardize(data):\n",
    "    ###\n",
    "    ### YOUR CODE HERE\n",
    "    ###\n",
    "    \n",
    "    return (data-np.mean(data, axis=0))/np.std(data, axis=0)"
   ]
  },
  {
   "cell_type": "code",
   "execution_count": 14,
   "metadata": {
    "collapsed": true,
    "deletable": false,
    "editable": false,
    "nbgrader": {
     "grade": true,
     "grade_id": "standardize_vt",
     "locked": true,
     "points": "5",
     "schema_version": 1,
     "solution": false
    },
    "scrolled": true
   },
   "outputs": [],
   "source": [
    "dummy = np.array([[-0.22, -0.19, -0.17, -0.13],[-0.1, -0.05, 0.02, 0.10],[0.03, 0.11, 0.12, 0.15]])\n",
    "assert standardize(dummy).__class__ == np.ndarray, \"should return numpy array\"\n",
    "assert standardize(dummy).shape == dummy.shape, \"should have the same shape as the input array\"\n",
    "\n",
    "dummy_ans = np.round(np.array([[-1.20809282, -1.19664225, -1.33025759, -1.39425471],\n",
    "       [-0.03265116, -0.05439283,  0.2494233 ,  0.4920899 ],\n",
    "       [ 1.24074398,  1.25103507,  1.08083429,  0.90216481]]),3)\n",
    "assert (np.round(standardize(dummy)[0],3)==dummy_ans[0]).all(), \"check for correct return value failed\"\n",
    "assert (np.round(standardize(dummy)[2],3)==dummy_ans[2]).all(), \"check for correct return value failed\"\n",
    "del dummy, dummy_ans"
   ]
  },
  {
   "cell_type": "code",
   "execution_count": 15,
   "metadata": {
    "collapsed": true,
    "deletable": false,
    "editable": false,
    "nbgrader": {
     "grade": true,
     "grade_id": "standardize_ht",
     "locked": true,
     "points": "10",
     "schema_version": 1,
     "solution": false
    },
    "scrolled": true
   },
   "outputs": [],
   "source": [
    "# Hidden Tests Here\n",
    "\n",
    "###\n",
    "### AUTOGRADER TEST - DO NOT REMOVE\n",
    "###\n"
   ]
  },
  {
   "cell_type": "markdown",
   "metadata": {
    "deletable": false,
    "editable": false,
    "nbgrader": {
     "grade": false,
     "grade_id": "cell-6d1d2ce4cf36f9c1",
     "locked": true,
     "schema_version": 1,
     "solution": false
    }
   },
   "source": [
    "### Exercise: Implement the parse_training_data function\n",
    "\n",
    "The function <font color=\"blue\">parse_training_data</font> takes the input data and returns labels and features. \n",
    "\n",
    "Remember that the first column of the training data is the labels, and the remaining columns are the features\n",
    "\n",
    "The labels should be reshaped to a 2-D numpy matrix of shape (dataset_size, 1)\n",
    "The features should be standardized and have be a 2-D numpy matrix of shape (dataset_size, 28)\n",
    "\n",
    "**<font color=\"magenta\" size=2>Example Input</font>**\n",
    "There are 3 training examples with the label and 3 features each \n",
    "``` python\n",
    "np.array([[1 -0.19 -0.17 -0.13][0 -0.05 0.02 0.10][0 0.11 0.12 0.15]])\n",
    "```\n",
    "\n",
    "**<font color=\"blue\" size=2>Example Output</font>**\n",
    "Returns a tuple:\n",
    "    1st element is the labels\n",
    "    2nd element is the standardized features\n",
    "``` python\n",
    "(array([[1.],\n",
    "        [0.],\n",
    "        [1.]]), array([[-1.4688735 , -1.3105518 , -0.99390842],\n",
    "        [-0.36062164,  0.19350429,  0.82679107],\n",
    "        [ 0.90595192,  0.98511277,  1.22259531]]))\n",
    "```\n",
    "\n",
    "\n",
    "Remember to use the standardize function appropriately inside this function and use the visible assert statements to finetune the shape of your returned data."
   ]
  },
  {
   "cell_type": "code",
   "execution_count": 16,
   "metadata": {
    "collapsed": true,
    "nbgrader": {
     "grade": false,
     "grade_id": "cell-b74473c65b9d3782",
     "locked": false,
     "schema_version": 1,
     "solution": true
    }
   },
   "outputs": [],
   "source": [
    "def parse_training_data(numpy_matrix):  \n",
    "    ###\n",
    "    ### YOUR CODE HERE\n",
    "    ###\n",
    "    \n",
    "    # extract arrays for labels and features\n",
    "    l_arr = np.array([i[0] for i in numpy_matrix])\n",
    "    f_arr = np.array([i[1:] for i in numpy_matrix]) \n",
    "    \n",
    "    # transform arrays\n",
    "    labels = l_arr.reshape(len(l_arr), 1)\n",
    "    features = standardize(f_arr)\n",
    "    \n",
    "    return labels, features"
   ]
  },
  {
   "cell_type": "code",
   "execution_count": 17,
   "metadata": {
    "collapsed": true,
    "deletable": false,
    "editable": false,
    "nbgrader": {
     "grade": false,
     "grade_id": "cell-f0e069072154f863",
     "locked": true,
     "schema_version": 1,
     "solution": false
    }
   },
   "outputs": [],
   "source": [
    "# Parse Training Data. You will later split the `labels` and `features` into training and validation sets.\n",
    "labels, features = parse_training_data(training_data)"
   ]
  },
  {
   "cell_type": "code",
   "execution_count": 18,
   "metadata": {
    "collapsed": true,
    "deletable": false,
    "editable": false,
    "nbgrader": {
     "grade": true,
     "grade_id": "shape_v",
     "locked": true,
     "points": "5",
     "schema_version": 1,
     "solution": false
    }
   },
   "outputs": [],
   "source": [
    "assert labels.shape[1] == 1\n",
    "assert features.shape[1] == 28"
   ]
  },
  {
   "cell_type": "code",
   "execution_count": 19,
   "metadata": {
    "collapsed": true,
    "deletable": false,
    "editable": false,
    "nbgrader": {
     "grade": true,
     "grade_id": "values_h",
     "locked": true,
     "points": "10",
     "schema_version": 1,
     "solution": false
    }
   },
   "outputs": [],
   "source": [
    "###\n",
    "### AUTOGRADER TEST - DO NOT REMOVE\n",
    "###\n"
   ]
  },
  {
   "cell_type": "markdown",
   "metadata": {
    "deletable": false,
    "editable": false,
    "nbgrader": {
     "grade": false,
     "grade_id": "cell-714a63065a14a65f",
     "locked": true,
     "schema_version": 1,
     "solution": false
    }
   },
   "source": [
    "### Exercise: Implement the parse_test_data function\n",
    "\n",
    "The function <font color=\"blue\">parse_test_data</font> takes the input data and returns labels and features. \n",
    "\n",
    "We do not have access to labels while predicting the classes that our test examples belong to. The input data files for the test data would not have the labels column. \n",
    "\n",
    "So we need a different function to parse the test data. This should only return standardized features.\n",
    "\n",
    "The features should be standardized and have be a 2-D numpy matrix of shape (dataset_size, 28)\n",
    "\n",
    "**<font color=\"magenta\" size=2>Example Input</font>**\n",
    "There are 3 training examples with the label and 3 features each \n",
    "``` python\n",
    "np.array([[-0.19 -0.17 -0.13][-0.05 0.02 0.10][0.11 0.12 0.15]])\n",
    "```\n",
    "\n",
    "**<font color=\"blue\" size=2>Example Output</font>**\n",
    "Returns a tuple:\n",
    "    1st element is the labels\n",
    "    2nd element is the standardized features\n",
    "``` python\n",
    "array([[-1.4688735 , -1.3105518 , -0.99390842],\n",
    "        [-0.36062164,  0.19350429,  0.82679107],\n",
    "        [ 0.90595192,  0.98511277,  1.22259531]])\n",
    "```\n",
    "\n",
    "\n",
    "Remember to use the standardize function appropriately inside this function."
   ]
  },
  {
   "cell_type": "code",
   "execution_count": 20,
   "metadata": {
    "collapsed": true,
    "nbgrader": {
     "grade": false,
     "grade_id": "cell-cd58458c52559f0a",
     "locked": false,
     "schema_version": 1,
     "solution": true
    }
   },
   "outputs": [],
   "source": [
    "def parse_test_data(numpy_matrix):\n",
    "    \n",
    "    ###\n",
    "    ### YOUR CODE HERE\n",
    "    ###\n",
    "    \n",
    "    # use standardize function\n",
    "    test_features = standardize(numpy_matrix)\n",
    "    \n",
    "    return test_features"
   ]
  },
  {
   "cell_type": "code",
   "execution_count": 21,
   "metadata": {
    "collapsed": true,
    "deletable": false,
    "editable": false,
    "nbgrader": {
     "grade": false,
     "grade_id": "cell-febfb665f2f27e1e",
     "locked": true,
     "schema_version": 1,
     "solution": false
    }
   },
   "outputs": [],
   "source": [
    "test_features = parse_test_data(test_data)"
   ]
  },
  {
   "cell_type": "markdown",
   "metadata": {
    "deletable": false,
    "editable": false,
    "nbgrader": {
     "grade": false,
     "grade_id": "cell-0de20ca899b3afe6",
     "locked": true,
     "schema_version": 1,
     "solution": false
    }
   },
   "source": [
    "## Building the Neural Network "
   ]
  },
  {
   "cell_type": "markdown",
   "metadata": {
    "deletable": false,
    "editable": false,
    "nbgrader": {
     "grade": false,
     "grade_id": "cell-6b3f768be0607ffd",
     "locked": true,
     "schema_version": 1,
     "solution": false
    }
   },
   "source": [
    "### Initializing important parameters\n",
    "Use the below params appropriately inside the train_nn() function. We have initialized these variables in order to assist you in your implementation."
   ]
  },
  {
   "cell_type": "code",
   "execution_count": 22,
   "metadata": {
    "deletable": false,
    "editable": false,
    "nbgrader": {
     "grade": false,
     "grade_id": "cell-9496cea12852d1fa",
     "locked": true,
     "schema_version": 1,
     "solution": false
    }
   },
   "outputs": [
    {
     "name": "stdout",
     "output_type": "stream",
     "text": [
      "Total Training examples: 8000, Number of Batches: 5, Batch Size: 1600\n"
     ]
    }
   ],
   "source": [
    "learning_rate = cfg['learning_rate']\n",
    "training_epochs = cfg['epochs']\n",
    "train_valid_split = cfg['training_to_validation_ratio']\n",
    "num_batches = cfg['num_mini_batches']\n",
    "display_step = cfg['display_step']\n",
    "\n",
    "num_examples= training_data.shape[0]\n",
    "\n",
    "# The first `num_train_examples` should be used for training, the rest for validation.\n",
    "num_train_examples = int(num_examples * train_valid_split)\n",
    "\n",
    "batch_size = num_train_examples/num_batches\n",
    "\n",
    "\n",
    "# Network Parameters\n",
    "n_hidden_1 = cfg['hidden_layer_sizes']['first_layer'] # 1st layer number of features\n",
    "n_hidden_2 = cfg['hidden_layer_sizes']['second_layer'] # 2nd layer number of features\n",
    "n_input = 28 \n",
    "n_classes = 1 \n",
    "\n",
    "\n",
    "print(\"Total Training examples: %d, Number of Batches: %d, Batch Size: %d\" %(num_train_examples,num_batches,batch_size))"
   ]
  },
  {
   "cell_type": "markdown",
   "metadata": {
    "deletable": false,
    "editable": false,
    "nbgrader": {
     "grade": false,
     "grade_id": "cell-dc994f1830e0a244",
     "locked": true,
     "schema_version": 1,
     "solution": false
    }
   },
   "source": [
    "### Initializing placeholders for feeding into the TF graph\n",
    "\n",
    "Define the TF placeholders which will receive data for each mini batch. Similarly define weights and biases as TF variables "
   ]
  },
  {
   "cell_type": "code",
   "execution_count": 23,
   "metadata": {
    "collapsed": true,
    "deletable": false,
    "editable": false,
    "nbgrader": {
     "grade": false,
     "grade_id": "cell-47aa2936b36e30b8",
     "locked": true,
     "schema_version": 1,
     "solution": false
    }
   },
   "outputs": [],
   "source": [
    "# TF Graph input\n",
    "## Use the below placeholders appropriately inside the train_nn() function\n",
    "\n",
    "x = tf.placeholder(\"float\", [None, n_input])\n",
    "y = tf.placeholder(\"float\", [None, 1])\n",
    "\n",
    "\n",
    "# Store layers weight & bias\n",
    "weights = {\n",
    "    'h1': tf.Variable(tf.random_normal([n_input, n_hidden_1])),\n",
    "    'h2': tf.Variable(tf.random_normal([n_hidden_1, n_hidden_2])),\n",
    "    'out': tf.Variable(tf.random_normal([n_hidden_2, n_classes]))\n",
    "}\n",
    "\n",
    "biases = {\n",
    "    'b1': tf.Variable(tf.random_normal([n_hidden_1])),\n",
    "    'b2': tf.Variable(tf.random_normal([n_hidden_2])),\n",
    "    'out': tf.Variable(tf.random_normal([n_classes]))\n",
    "}"
   ]
  },
  {
   "cell_type": "markdown",
   "metadata": {
    "deletable": false,
    "editable": false,
    "nbgrader": {
     "grade": false,
     "grade_id": "cell-714a63065a14a6sd5f",
     "locked": true,
     "schema_version": 1,
     "solution": false
    }
   },
   "source": [
    "### Exercise: Implement the `calc_num_total_learnable_params` function.\n",
    "\n",
    "This function  calculates the number of learnable parameters of the network model. This number directly relates to the complexity of your model, as well as the training time. \n",
    "\n",
    "The function <font color=\"blue\">calc_num_total_learnable_params</font> takes the weights dictionary and bias dictionary and returns an integer which is equal to the number of total parameters in the network. \n",
    "\n",
    "You can make use of the `get_dims_as_tuple` as a helper function to access the shape of the weight and bias matrices easily."
   ]
  },
  {
   "cell_type": "code",
   "execution_count": 24,
   "metadata": {
    "deletable": false,
    "editable": false,
    "nbgrader": {
     "grade": false,
     "grade_id": "cell-bb3e6250332e0033",
     "locked": true,
     "schema_version": 1,
     "solution": false
    }
   },
   "outputs": [
    {
     "data": {
      "text/plain": [
       "(28, 20)"
      ]
     },
     "execution_count": 24,
     "metadata": {},
     "output_type": "execute_result"
    }
   ],
   "source": [
    "# Helper function which you may use in implementing `calc_num_total_learnable_params(weights,biases)` function below.\n",
    "def get_dims_as_tuple(x):\n",
    "    shape = x.get_shape()\n",
    "    dims = []\n",
    "    for dim in shape:\n",
    "        dims.append(dim.value)\n",
    "    return tuple(dims)\n",
    "\n",
    "# example usage:\n",
    "get_dims_as_tuple(weights['h1'])"
   ]
  },
  {
   "cell_type": "code",
   "execution_count": 25,
   "metadata": {
    "collapsed": true,
    "nbgrader": {
     "grade": false,
     "grade_id": "cell-94e7366afdd6358a",
     "locked": false,
     "schema_version": 1,
     "solution": true
    }
   },
   "outputs": [],
   "source": [
    "def calc_num_total_learnable_params(weights,biases):\n",
    "    \n",
    "    ###\n",
    "    ### YOUR CODE HERE\n",
    "    ###\n",
    "    \n",
    "    # get connections between layers\n",
    "    conn_betw_layers = 0\n",
    "    for w in ['h1','h2','out']:\n",
    "        dim = get_dims_as_tuple(weights[w])\n",
    "        conn_betw_layers += dim[0]*dim[1]\n",
    "        \n",
    "    # biases in every layer\n",
    "    bias_every_layer = 0\n",
    "    for b in ['b1','b2','out']:\n",
    "        dim = get_dims_as_tuple(biases[b])\n",
    "        bias_every_layer += dim[0]\n",
    "    \n",
    "    # num params = connections between layers + biases in every layer\n",
    "    return conn_betw_layers+bias_every_layer\n",
    "    "
   ]
  },
  {
   "cell_type": "code",
   "execution_count": 26,
   "metadata": {
    "collapsed": true,
    "deletable": false,
    "editable": false,
    "nbgrader": {
     "grade": true,
     "grade_id": "learnable_ht",
     "locked": true,
     "points": "10",
     "schema_version": 1,
     "solution": false
    }
   },
   "outputs": [],
   "source": [
    "## Hidden Tests Here\n",
    "###\n",
    "### AUTOGRADER TEST - DO NOT REMOVE\n",
    "###\n"
   ]
  },
  {
   "cell_type": "markdown",
   "metadata": {
    "deletable": false,
    "editable": false,
    "nbgrader": {
     "grade": false,
     "grade_id": "cell-40285d4b5a7d0481",
     "locked": true,
     "schema_version": 1,
     "solution": false
    }
   },
   "source": [
    "### Exercise: Create FeedForward Network Model\n",
    "\n",
    "This function needs to be filled up with code to construct the remaining two layers of the neural network. You have to add one more hidden layers and also the output layer.\n",
    "\n",
    "You should use the sigmoid activation function. Tensorflow's `tf.nn.sigmoid()` function should be helpful. \n",
    "\n",
    "We have partially implemented this function. Complete the rest of it. Remember to not apply the sigmoid activation at the last layer as we will be using `tf.nn.sigmoid_cross_entropy_with_logits()` later which does that.\n"
   ]
  },
  {
   "cell_type": "code",
   "execution_count": 54,
   "metadata": {
    "nbgrader": {
     "grade": false,
     "grade_id": "cell-0fd6390a18e16110",
     "locked": false,
     "schema_version": 1,
     "solution": true
    }
   },
   "outputs": [],
   "source": [
    "def create_feedforward_nn_model(x, weights, biases):\n",
    "    # Hidden layer with SIGMOID activation\n",
    "    layer_1 = tf.add(tf.matmul(x, weights['h1']), biases['b1'])\n",
    "    layer_1 = tf.nn.sigmoid(layer_1)\n",
    "    \n",
    "    ###\n",
    "    ### YOUR CODE HERE\n",
    "    ###\n",
    "        \n",
    "    layer_2 = tf.add(tf.matmul(layer_1, weights['h2']), biases['b2'])\n",
    "    layer_2 = tf.nn.sigmoid(layer_2)\n",
    "    \n",
    "    out_layer = tf.matmul(layer_2, weights['out']) + biases['out']\n",
    "    \n",
    "    return out_layer\n"
   ]
  },
  {
   "cell_type": "code",
   "execution_count": 55,
   "metadata": {},
   "outputs": [
    {
     "data": {
      "text/plain": [
       "<tf.Tensor 'add_21:0' shape=(?, 1) dtype=float32>"
      ]
     },
     "execution_count": 55,
     "metadata": {},
     "output_type": "execute_result"
    }
   ],
   "source": [
    "create_feedforward_nn_model(x, weights, biases)"
   ]
  },
  {
   "cell_type": "markdown",
   "metadata": {
    "deletable": false,
    "editable": false,
    "nbgrader": {
     "grade": false,
     "grade_id": "cell-6fcb5f53e1dbbae9",
     "locked": true,
     "schema_version": 1,
     "solution": false
    }
   },
   "source": [
    "### Exercise: Stitch the Neural Network Model\n",
    "\n",
    "Using the appropriate Tensorflow libraries, implement each of the following operations:\n",
    "- loss as the CrossEntropyLoss\n",
    "- train_op as the AdamOptimizer that minimizes the loss\n",
    "\n",
    "As inputs to these operators, you can use:\n",
    "- `pred_raw` which is the output of your neural network's last layer\n",
    "- `pred` is the predicted label, which is the output of rounding `pred_raw`. \n",
    "\n",
    "You might want to look at the Tensorflow Section notebooks as well as the TensorFlow API.\n",
    "\n",
    "Two of the returned values have been implemented as a hint for you.\n",
    "\n",
    "Functions that could be useful here: \n",
    "\n",
    "```python\n",
    "tf.nn.sigmoid_cross_entropy_with_logits()\n",
    "tf.reduce_mean()\n",
    "tf.round()\n",
    "tf.sigmoid()\n",
    "tf.train.AdamOptimizer().minimize()\n",
    "```"
   ]
  },
  {
   "cell_type": "code",
   "execution_count": 59,
   "metadata": {
    "nbgrader": {
     "grade": false,
     "grade_id": "cell-2a697316f54fa391",
     "locked": false,
     "schema_version": 1,
     "solution": true
    }
   },
   "outputs": [],
   "source": [
    "# Construct model\n",
    "def stitch_network(x, y, weights, biases, learning_rate):\n",
    "    \n",
    "    pred_raw = create_feedforward_nn_model(x, weights, biases)\n",
    "    pred = tf.round(tf.nn.sigmoid(pred_raw))\n",
    "    \n",
    "    ###reducere\n",
    "    ### YOUR CODE HERE\n",
    "    ###\n",
    "    \n",
    "    # define cost and optimizer\n",
    "    cost = tf.reduce_mean(tf.nn.sigmoid_cross_entropy_with_logits(logits=pred_raw, labels=y))\n",
    "    optimizer = tf.train.AdamOptimizer(learning_rate=learning_rate)\n",
    "    train_op = optimizer.minimize(cost, global_step=tf.train.get_global_step())\n",
    "    \n",
    "    return pred_raw, pred, cost, train_op\n",
    "\n",
    "\n",
    "pred_raw, pred, cost, train_op = stitch_network(x, y, weights, biases, learning_rate)"
   ]
  },
  {
   "cell_type": "code",
   "execution_count": 60,
   "metadata": {
    "collapsed": true,
    "deletable": false,
    "editable": false,
    "nbgrader": {
     "grade": true,
     "grade_id": "shape2_v",
     "locked": true,
     "points": "5",
     "schema_version": 1,
     "solution": false
    }
   },
   "outputs": [],
   "source": [
    "assert cost.__class__ == tf.Tensor\n",
    "assert cost.get_shape() == (), \"Make sure you have used reduce_mean\""
   ]
  },
  {
   "cell_type": "code",
   "execution_count": 61,
   "metadata": {
    "collapsed": true,
    "deletable": false,
    "editable": false,
    "nbgrader": {
     "grade": false,
     "grade_id": "cell-e9b4c53caccf6e1d",
     "locked": true,
     "schema_version": 1,
     "solution": false
    }
   },
   "outputs": [],
   "source": [
    "# Initializing the variables - IMPORTANT\n",
    "init = tf.global_variables_initializer()"
   ]
  },
  {
   "cell_type": "markdown",
   "metadata": {
    "deletable": false,
    "editable": false,
    "nbgrader": {
     "grade": false,
     "grade_id": "cell-b683e70b1b3eafa0",
     "locked": true,
     "schema_version": 1,
     "solution": false
    }
   },
   "source": [
    "## Training and Testing the Neural Network"
   ]
  },
  {
   "cell_type": "markdown",
   "metadata": {
    "deletable": false,
    "editable": false,
    "nbgrader": {
     "grade": false,
     "grade_id": "cell-b683e70b1b3asdaeafa0",
     "locked": true,
     "schema_version": 1,
     "solution": false
    }
   },
   "source": [
    "### Exercise: Writing the Train function\n",
    "\n",
    "This is where you will train your network.\n",
    "\n",
    "Your goal is to complete the following function named `train_nn()`. \n",
    "\n",
    "To help you structure your implementation, we have provided some starter code. \n",
    "\n",
    "We have also detailed each of the steps you need to pay attention to inside the main training loop.\n",
    "\n",
    "Remember you have access to all the parameters we initialized early on in the notebook, as well as to the parameters defined in the config file. \n",
    "\n",
    "`train_nn()` should return 5 python lists\n",
    "1. training_costs\n",
    "2. validation_costs\n",
    "3. training_accs\n",
    "4. validation_accs\n",
    "5. test_predictions "
   ]
  },
  {
   "cell_type": "code",
   "execution_count": 32,
   "metadata": {
    "nbgrader": {
     "grade": false,
     "grade_id": "cell-cd22bec67d6afd31",
     "locked": false,
     "schema_version": 1,
     "solution": true
    }
   },
   "outputs": [],
   "source": [
    "def train_nn():\n",
    "    with tf.Session() as sess:\n",
    "\n",
    "        sess.run(init)\n",
    "        \n",
    "        ## this is needed to print debug statements during training.\n",
    "        coord = tf.train.Coordinator()\n",
    "        threads = tf.train.start_queue_runners(coord=coord)\n",
    "\n",
    "        x_train, x_valid = features[:num_train_examples], features[num_train_examples:]\n",
    "        y_train, y_valid = labels[:num_train_examples], labels[num_train_examples:]\n",
    "\n",
    "        training_costs = []\n",
    "        training_accs = []\n",
    "\n",
    "        validation_costs = []\n",
    "        validation_accs = []\n",
    "\n",
    "        # 1-2 count epoch's total cost and number of correct predictions\n",
    "        epoch_total_cost = 0\n",
    "        epoch_num_correctPred = 0\n",
    "        \n",
    "        # get batch size for each epoch\n",
    "        num_examples= x_train.shape[0]\n",
    "        batch_size = num_train_examples/num_batches\n",
    "        \n",
    "        for epoch in range(training_epochs):\n",
    "        \n",
    "            '''\n",
    "            We recommend you first think about how you will implement this on your own before proceeding to read any further.\n",
    "        \n",
    "            HINT: You should implement the following procedure here:\n",
    "        \n",
    "            An epoch is one pass through your training data\n",
    "            1. Keep a counter of your epoch's total cost. \n",
    "               You will need this to average over the batches.\n",
    "            2. Keep a counter of the number of correct predictions in your epoch. \n",
    "               You will need this to sum over the batches to calculate per epoch accuracy.\n",
    "            \n",
    "            For each batch  (you should have `num_batches` number of batches totally)\n",
    "                --Batchwise training--\n",
    "                3. subset your features and labels from x_train and y_train\n",
    "                ex. for batch 1, you'd select all examples in the interval [0,batch_size)\n",
    "                    for batch 2, it would be between [batch_size, 2*batch_size)\n",
    "                    Make sure to account for a possible fractional batch as your last batch\n",
    "                4. Massage your x_batch and y_batch into numpy arrays of shape (size_of_batch, 28) \n",
    "                    and (size_of_batch, 1) respectively\n",
    "                    \n",
    "                5. Feed the x_batch and y_batch into your tensorflow graph and execute the optimizer, cost and pred \n",
    "                    in order to train your model using the current batch and also get back the batch_cost and batch_predictions\n",
    "                6. Count the number of correct predictions for this batch and add it to the counter for the \n",
    "                    correct predictions in the epoch\n",
    "                    \n",
    "            7. Calculate your average_epoch_cost as the total_epoch_cost divided by the number of training examples\n",
    "            8. Append the average_epoch_cost to `training_costs`\n",
    "            9. Calculate your epoch_accuracy as the total number of correct predictions in your epoch\n",
    "                    divided by the number of training examples\n",
    "            10. Append the epoch_accuracy to `training_accs`\n",
    "            \n",
    "            --Validation--\n",
    "            \n",
    "            11. Massage your validation labels (y_valid) into ampy arrays of shape (validation_set_size, 1)\n",
    "            12. With y_valid and x_valid as input to your graph, calculate the validation loss and validation predictions\n",
    "                    We are calculating validation accuracy at the end of each epoch\n",
    "            13. Calculate the number of correct validation predictions by comparing against your validation labels\n",
    "            14. Append validation costs and validation accuracy to their respective lists\n",
    "            15. Avoid printing a lot of debug information when you submit the assignment. \n",
    "                This reduces the speed of execution.\n",
    "                If you want to print some information every so often, you can use the following line \n",
    "                at the end of your epoch loop:\n",
    "                if epoch%display_step==0:\n",
    "                    print(\"Epoch %d | Tr cost: %f | Tr accuracy %f | Va cost: %f | Va accuracy: \n",
    "                        %f\"%(epoch + 1,avg_epoch_cost, this_epoch_accuracy, batch_valid_cost, valid_accuracy))\n",
    "            '''\n",
    "        ###\n",
    "        ### YOUR CODE HERE\n",
    "        ###\n",
    "                   \n",
    "            # 3. subset features and labels\n",
    "            batch_x = x_train[epoch*batch_size, (epoch+1)*batch_size]\n",
    "            batch_y = y_train[epoch*batch_size, (epoch+1)*batch_size]\n",
    "            \n",
    "            # 4. massage x and y batch array shapes\n",
    "            batch_x = batch_x_train.reshape(len(batch_x), 28)\n",
    "            batch_y = batch_y_train.reshape(len(batch_y), 1)\n",
    "\n",
    "            # 5. Feed the x_batch and y_batch into tensorflow, execute optimizer\n",
    "            batch_pred_raw, batch_pred, batch_cost, train_op = stitch_network(batch_x, batch_y, \n",
    "                                                                              weights, biases, learning_rate)\n",
    "            \n",
    "            # 6. count the number of correct batch predictions, add to the counter \n",
    "            correct_pred = tf.equal(batch_pred, tf.argmax(batch_y, 1))\n",
    "            accuracy = tf.reduce_mean(tf.cast(correct_pred, tf.float32))\n",
    "            epoch_num_correctPred+=len(correct_pred)\n",
    "            \n",
    "            # 7. calculate avg_epoch_cost\n",
    "            epoch_total_cost+=cost\n",
    "            avg_epoch_cost = epoch_total_cost / training_epochs\n",
    "            \n",
    "            # 8. append average epoch cost to training costs\n",
    "            training_costs.append(avg_epoch_cost)\n",
    "            \n",
    "            # 9. calculate epoch_accuracy\n",
    "            this_epoch_accuracy = len(correct_pred)/len(batch_y)\n",
    "            \n",
    "            # 10. append epoch_accuracy to training_accs\n",
    "            training_accs.append(this_epoch_accuracy)\n",
    "            \n",
    "            # 11. massage validation labels\n",
    "            y_valid = y_valid.reshape(len(y_valid), 1)\n",
    "            \n",
    "            # 12. calculate validation loss and predition            \n",
    "            valid_pred_raw, valid_pred, valid_cost, train_op = stitch_network(x_valid, y_valid, \n",
    "                                                                              weights, biases, learning_rate)\n",
    "            # 13. calculate the number of correct valid predictions\n",
    "            valid_correct_pred = tf.equal(valid_pred, tf.argmax(y_valid, 1))\n",
    "\n",
    "            # 14. append validation costs and accuracy\n",
    "            validation_costs.append(valid_cost)\n",
    "            validation_accs.append(len(valid_correct_pred)/len(y_valid))\n",
    "            \n",
    "            # 15. print information\n",
    "            if epoch%display_step==0:\n",
    "                print(\"Epoch %d | Tr cost: %f | Tr accuracy %f | Va cost: %f | Va accuracy: %f\"%(epoch + 1,avg_epoch_cost, this_epoch_accuracy, batch_valid_cost, valid_accuracy))\n",
    "        \n",
    "        ## Assuming the above part is completed, you should now use your trained model to make predictions on the test set.\n",
    "        \n",
    "        test_predictions = []\n",
    "        \n",
    "        '''\n",
    "        HINT:\n",
    "        Using the `test_features` as input to your trained graph,\n",
    "            run the graph once more to calculate the predictions on the test set\n",
    "        Cast the returned numpy array into the python list called `test_predictions`\n",
    "            where each element has type np.float64\n",
    "        '''\n",
    "        \n",
    "        ###\n",
    "        ### YOUR CODE HERE\n",
    "        ###\n",
    "                      \n",
    "        # make predictions on test\n",
    "        \n",
    "        \n",
    "        \n",
    "    ## close TF session if open\n",
    "    if 'session' in locals() and sess is not None:\n",
    "        print('Close interactive session')\n",
    "        sess.close()\n",
    "        \n",
    "    return training_costs, validation_costs, training_accs, validation_accs, test_predictions"
   ]
  },
  {
   "cell_type": "code",
   "execution_count": 62,
   "metadata": {},
   "outputs": [
    {
     "name": "stdout",
     "output_type": "stream",
     "text": [
      "WARNING:tensorflow:`tf.train.start_queue_runners()` was called when no queue runners were defined. You can safely remove the call to this deprecated function.\n"
     ]
    },
    {
     "ename": "TypeError",
     "evalue": "Input 'b' of 'MatMul' Op has type float32 that does not match type float64 of argument 'a'.",
     "output_type": "error",
     "traceback": [
      "\u001b[0;31m---------------------------------------------------------------------------\u001b[0m",
      "\u001b[0;31mValueError\u001b[0m                                Traceback (most recent call last)",
      "\u001b[0;32m/usr/local/lib/python3.6/site-packages/tensorflow/python/framework/op_def_library.py\u001b[0m in \u001b[0;36m_apply_op_helper\u001b[0;34m(self, op_type_name, name, **keywords)\u001b[0m\n\u001b[1;32m    509\u001b[0m                 \u001b[0mas_ref\u001b[0m\u001b[0;34m=\u001b[0m\u001b[0minput_arg\u001b[0m\u001b[0;34m.\u001b[0m\u001b[0mis_ref\u001b[0m\u001b[0;34m,\u001b[0m\u001b[0;34m\u001b[0m\u001b[0m\n\u001b[0;32m--> 510\u001b[0;31m                 preferred_dtype=default_dtype)\n\u001b[0m\u001b[1;32m    511\u001b[0m           \u001b[0;32mexcept\u001b[0m \u001b[0mTypeError\u001b[0m \u001b[0;32mas\u001b[0m \u001b[0merr\u001b[0m\u001b[0;34m:\u001b[0m\u001b[0;34m\u001b[0m\u001b[0m\n",
      "\u001b[0;32m/usr/local/lib/python3.6/site-packages/tensorflow/python/framework/ops.py\u001b[0m in \u001b[0;36minternal_convert_to_tensor\u001b[0;34m(value, dtype, name, as_ref, preferred_dtype, ctx)\u001b[0m\n\u001b[1;32m   1145\u001b[0m     \u001b[0;32mif\u001b[0m \u001b[0mret\u001b[0m \u001b[0;32mis\u001b[0m \u001b[0;32mNone\u001b[0m\u001b[0;34m:\u001b[0m\u001b[0;34m\u001b[0m\u001b[0m\n\u001b[0;32m-> 1146\u001b[0;31m       \u001b[0mret\u001b[0m \u001b[0;34m=\u001b[0m \u001b[0mconversion_func\u001b[0m\u001b[0;34m(\u001b[0m\u001b[0mvalue\u001b[0m\u001b[0;34m,\u001b[0m \u001b[0mdtype\u001b[0m\u001b[0;34m=\u001b[0m\u001b[0mdtype\u001b[0m\u001b[0;34m,\u001b[0m \u001b[0mname\u001b[0m\u001b[0;34m=\u001b[0m\u001b[0mname\u001b[0m\u001b[0;34m,\u001b[0m \u001b[0mas_ref\u001b[0m\u001b[0;34m=\u001b[0m\u001b[0mas_ref\u001b[0m\u001b[0;34m)\u001b[0m\u001b[0;34m\u001b[0m\u001b[0m\n\u001b[0m\u001b[1;32m   1147\u001b[0m \u001b[0;34m\u001b[0m\u001b[0m\n",
      "\u001b[0;32m/usr/local/lib/python3.6/site-packages/tensorflow/python/framework/ops.py\u001b[0m in \u001b[0;36m_TensorTensorConversionFunction\u001b[0;34m(t, dtype, name, as_ref)\u001b[0m\n\u001b[1;32m    982\u001b[0m         \u001b[0;34m\"Tensor conversion requested dtype %s for Tensor with dtype %s: %r\"\u001b[0m \u001b[0;34m%\u001b[0m\u001b[0;34m\u001b[0m\u001b[0m\n\u001b[0;32m--> 983\u001b[0;31m         (dtype.name, t.dtype.name, str(t)))\n\u001b[0m\u001b[1;32m    984\u001b[0m   \u001b[0;32mreturn\u001b[0m \u001b[0mt\u001b[0m\u001b[0;34m\u001b[0m\u001b[0m\n",
      "\u001b[0;31mValueError\u001b[0m: Tensor conversion requested dtype float64 for Tensor with dtype float32: 'Tensor(\"Variable/read:0\", shape=(28, 20), dtype=float32)'",
      "\nDuring handling of the above exception, another exception occurred:\n",
      "\u001b[0;31mTypeError\u001b[0m                                 Traceback (most recent call last)",
      "\u001b[0;32m<ipython-input-62-95cbc1883b18>\u001b[0m in \u001b[0;36m<module>\u001b[0;34m()\u001b[0m\n\u001b[1;32m     40\u001b[0m         \u001b[0;31m# 5. Feed the x_batch and y_batch into tensorflow, execute optimizer\u001b[0m\u001b[0;34m\u001b[0m\u001b[0;34m\u001b[0m\u001b[0m\n\u001b[1;32m     41\u001b[0m         batch_pred_raw, batch_pred, batch_cost, train_op = stitch_network(batch_x, batch_y, \n\u001b[0;32m---> 42\u001b[0;31m                                                                           weights, biases, learning_rate)\n\u001b[0m\u001b[1;32m     43\u001b[0m \u001b[0;34m\u001b[0m\u001b[0m\n\u001b[1;32m     44\u001b[0m         \u001b[0;31m# 6. count the number of correct batch predictions, add to the counter\u001b[0m\u001b[0;34m\u001b[0m\u001b[0;34m\u001b[0m\u001b[0m\n",
      "\u001b[0;32m<ipython-input-59-220b6d16998b>\u001b[0m in \u001b[0;36mstitch_network\u001b[0;34m(x, y, weights, biases, learning_rate)\u001b[0m\n\u001b[1;32m      2\u001b[0m \u001b[0;32mdef\u001b[0m \u001b[0mstitch_network\u001b[0m\u001b[0;34m(\u001b[0m\u001b[0mx\u001b[0m\u001b[0;34m,\u001b[0m \u001b[0my\u001b[0m\u001b[0;34m,\u001b[0m \u001b[0mweights\u001b[0m\u001b[0;34m,\u001b[0m \u001b[0mbiases\u001b[0m\u001b[0;34m,\u001b[0m \u001b[0mlearning_rate\u001b[0m\u001b[0;34m)\u001b[0m\u001b[0;34m:\u001b[0m\u001b[0;34m\u001b[0m\u001b[0m\n\u001b[1;32m      3\u001b[0m \u001b[0;34m\u001b[0m\u001b[0m\n\u001b[0;32m----> 4\u001b[0;31m     \u001b[0mpred_raw\u001b[0m \u001b[0;34m=\u001b[0m \u001b[0mcreate_feedforward_nn_model\u001b[0m\u001b[0;34m(\u001b[0m\u001b[0mx\u001b[0m\u001b[0;34m,\u001b[0m \u001b[0mweights\u001b[0m\u001b[0;34m,\u001b[0m \u001b[0mbiases\u001b[0m\u001b[0;34m)\u001b[0m\u001b[0;34m\u001b[0m\u001b[0m\n\u001b[0m\u001b[1;32m      5\u001b[0m     \u001b[0mpred\u001b[0m \u001b[0;34m=\u001b[0m \u001b[0mtf\u001b[0m\u001b[0;34m.\u001b[0m\u001b[0mround\u001b[0m\u001b[0;34m(\u001b[0m\u001b[0mtf\u001b[0m\u001b[0;34m.\u001b[0m\u001b[0mnn\u001b[0m\u001b[0;34m.\u001b[0m\u001b[0msigmoid\u001b[0m\u001b[0;34m(\u001b[0m\u001b[0mpred_raw\u001b[0m\u001b[0;34m)\u001b[0m\u001b[0;34m)\u001b[0m\u001b[0;34m\u001b[0m\u001b[0m\n\u001b[1;32m      6\u001b[0m \u001b[0;34m\u001b[0m\u001b[0m\n",
      "\u001b[0;32m<ipython-input-54-f869c35b01b9>\u001b[0m in \u001b[0;36mcreate_feedforward_nn_model\u001b[0;34m(x, weights, biases)\u001b[0m\n\u001b[1;32m      1\u001b[0m \u001b[0;32mdef\u001b[0m \u001b[0mcreate_feedforward_nn_model\u001b[0m\u001b[0;34m(\u001b[0m\u001b[0mx\u001b[0m\u001b[0;34m,\u001b[0m \u001b[0mweights\u001b[0m\u001b[0;34m,\u001b[0m \u001b[0mbiases\u001b[0m\u001b[0;34m)\u001b[0m\u001b[0;34m:\u001b[0m\u001b[0;34m\u001b[0m\u001b[0m\n\u001b[1;32m      2\u001b[0m     \u001b[0;31m# Hidden layer with SIGMOID activation\u001b[0m\u001b[0;34m\u001b[0m\u001b[0;34m\u001b[0m\u001b[0m\n\u001b[0;32m----> 3\u001b[0;31m     \u001b[0mlayer_1\u001b[0m \u001b[0;34m=\u001b[0m \u001b[0mtf\u001b[0m\u001b[0;34m.\u001b[0m\u001b[0madd\u001b[0m\u001b[0;34m(\u001b[0m\u001b[0mtf\u001b[0m\u001b[0;34m.\u001b[0m\u001b[0mmatmul\u001b[0m\u001b[0;34m(\u001b[0m\u001b[0mx\u001b[0m\u001b[0;34m,\u001b[0m \u001b[0mweights\u001b[0m\u001b[0;34m[\u001b[0m\u001b[0;34m'h1'\u001b[0m\u001b[0;34m]\u001b[0m\u001b[0;34m)\u001b[0m\u001b[0;34m,\u001b[0m \u001b[0mbiases\u001b[0m\u001b[0;34m[\u001b[0m\u001b[0;34m'b1'\u001b[0m\u001b[0;34m]\u001b[0m\u001b[0;34m)\u001b[0m\u001b[0;34m\u001b[0m\u001b[0m\n\u001b[0m\u001b[1;32m      4\u001b[0m     \u001b[0mlayer_1\u001b[0m \u001b[0;34m=\u001b[0m \u001b[0mtf\u001b[0m\u001b[0;34m.\u001b[0m\u001b[0mnn\u001b[0m\u001b[0;34m.\u001b[0m\u001b[0msigmoid\u001b[0m\u001b[0;34m(\u001b[0m\u001b[0mlayer_1\u001b[0m\u001b[0;34m)\u001b[0m\u001b[0;34m\u001b[0m\u001b[0m\n\u001b[1;32m      5\u001b[0m \u001b[0;34m\u001b[0m\u001b[0m\n",
      "\u001b[0;32m/usr/local/lib/python3.6/site-packages/tensorflow/python/ops/math_ops.py\u001b[0m in \u001b[0;36mmatmul\u001b[0;34m(a, b, transpose_a, transpose_b, adjoint_a, adjoint_b, a_is_sparse, b_is_sparse, name)\u001b[0m\n\u001b[1;32m   2055\u001b[0m     \u001b[0;32melse\u001b[0m\u001b[0;34m:\u001b[0m\u001b[0;34m\u001b[0m\u001b[0m\n\u001b[1;32m   2056\u001b[0m       return gen_math_ops.mat_mul(\n\u001b[0;32m-> 2057\u001b[0;31m           a, b, transpose_a=transpose_a, transpose_b=transpose_b, name=name)\n\u001b[0m\u001b[1;32m   2058\u001b[0m \u001b[0;34m\u001b[0m\u001b[0m\n\u001b[1;32m   2059\u001b[0m \u001b[0;34m\u001b[0m\u001b[0m\n",
      "\u001b[0;32m/usr/local/lib/python3.6/site-packages/tensorflow/python/ops/gen_math_ops.py\u001b[0m in \u001b[0;36mmat_mul\u001b[0;34m(a, b, transpose_a, transpose_b, name)\u001b[0m\n\u001b[1;32m   4558\u001b[0m     _, _, _op = _op_def_lib._apply_op_helper(\n\u001b[1;32m   4559\u001b[0m         \u001b[0;34m\"MatMul\"\u001b[0m\u001b[0;34m,\u001b[0m \u001b[0ma\u001b[0m\u001b[0;34m=\u001b[0m\u001b[0ma\u001b[0m\u001b[0;34m,\u001b[0m \u001b[0mb\u001b[0m\u001b[0;34m=\u001b[0m\u001b[0mb\u001b[0m\u001b[0;34m,\u001b[0m \u001b[0mtranspose_a\u001b[0m\u001b[0;34m=\u001b[0m\u001b[0mtranspose_a\u001b[0m\u001b[0;34m,\u001b[0m \u001b[0mtranspose_b\u001b[0m\u001b[0;34m=\u001b[0m\u001b[0mtranspose_b\u001b[0m\u001b[0;34m,\u001b[0m\u001b[0;34m\u001b[0m\u001b[0m\n\u001b[0;32m-> 4560\u001b[0;31m         name=name)\n\u001b[0m\u001b[1;32m   4561\u001b[0m     \u001b[0m_result\u001b[0m \u001b[0;34m=\u001b[0m \u001b[0m_op\u001b[0m\u001b[0;34m.\u001b[0m\u001b[0moutputs\u001b[0m\u001b[0;34m[\u001b[0m\u001b[0;34m:\u001b[0m\u001b[0;34m]\u001b[0m\u001b[0;34m\u001b[0m\u001b[0m\n\u001b[1;32m   4562\u001b[0m     \u001b[0m_inputs_flat\u001b[0m \u001b[0;34m=\u001b[0m \u001b[0m_op\u001b[0m\u001b[0;34m.\u001b[0m\u001b[0minputs\u001b[0m\u001b[0;34m\u001b[0m\u001b[0m\n",
      "\u001b[0;32m/usr/local/lib/python3.6/site-packages/tensorflow/python/framework/op_def_library.py\u001b[0m in \u001b[0;36m_apply_op_helper\u001b[0;34m(self, op_type_name, name, **keywords)\u001b[0m\n\u001b[1;32m    544\u001b[0m                   \u001b[0;34m\"%s type %s of argument '%s'.\"\u001b[0m \u001b[0;34m%\u001b[0m\u001b[0;34m\u001b[0m\u001b[0m\n\u001b[1;32m    545\u001b[0m                   (prefix, dtypes.as_dtype(attrs[input_arg.type_attr]).name,\n\u001b[0;32m--> 546\u001b[0;31m                    inferred_from[input_arg.type_attr]))\n\u001b[0m\u001b[1;32m    547\u001b[0m \u001b[0;34m\u001b[0m\u001b[0m\n\u001b[1;32m    548\u001b[0m           \u001b[0mtypes\u001b[0m \u001b[0;34m=\u001b[0m \u001b[0;34m[\u001b[0m\u001b[0mvalues\u001b[0m\u001b[0;34m.\u001b[0m\u001b[0mdtype\u001b[0m\u001b[0;34m]\u001b[0m\u001b[0;34m\u001b[0m\u001b[0m\n",
      "\u001b[0;31mTypeError\u001b[0m: Input 'b' of 'MatMul' Op has type float32 that does not match type float64 of argument 'a'."
     ]
    }
   ],
   "source": [
    "with tf.Session() as sess:\n",
    "\n",
    "    sess.run(init)\n",
    "\n",
    "    ## this is needed to print debug statements during training.\n",
    "    coord = tf.train.Coordinator()\n",
    "    threads = tf.train.start_queue_runners(coord=coord)\n",
    "\n",
    "    x_train, x_valid = features[:num_train_examples], features[num_train_examples:]\n",
    "    y_train, y_valid = labels[:num_train_examples], labels[num_train_examples:]\n",
    "\n",
    "    training_costs = []\n",
    "    training_accs = []\n",
    "\n",
    "    validation_costs = []\n",
    "    validation_accs = []\n",
    "\n",
    "    # 1-2 count epoch's total cost and number of correct predictions\n",
    "    epoch_total_cost = 0\n",
    "    epoch_num_correctPred = 0\n",
    "\n",
    "    # get batch size for each epoch\n",
    "    num_examples= x_train.shape[0]\n",
    "    batch_size = num_train_examples/num_batches\n",
    "\n",
    "    for epoch in range(training_epochs):\n",
    "\n",
    "    ###\n",
    "    ### YOUR CODE HERE\n",
    "    ###\n",
    "\n",
    "        # 3. subset features and labels\n",
    "        batch_x = x_train[int(epoch*batch_size):int((epoch+1)*batch_size)]\n",
    "        batch_y = y_train[int(epoch*batch_size):int((epoch+1)*batch_size)]\n",
    "\n",
    "        # 4. massage x and y batch array shapes\n",
    "        batch_x = batch_x.reshape(len(batch_x), 28)\n",
    "        batch_y = batch_y.reshape(len(batch_y), 1)\n",
    "\n",
    "        # 5. Feed the x_batch and y_batch into tensorflow, execute optimizer\n",
    "        batch_pred_raw, batch_pred, batch_cost, train_op = stitch_network(batch_x, batch_y, \n",
    "                                                                          weights, biases, learning_rate)\n",
    "\n",
    "        # 6. count the number of correct batch predictions, add to the counter \n",
    "        correct_pred = tf.equal(batch_pred, tf.argmax(batch_y, 1))\n",
    "        accuracy = tf.reduce_mean(tf.cast(correct_pred, tf.float32))\n",
    "        epoch_num_correctPred+=len(correct_pred)\n",
    "\n",
    "        # 7. calculate avg_epoch_cost\n",
    "        epoch_total_cost+=cost\n",
    "        avg_epoch_cost = epoch_total_cost / training_epochs\n",
    "\n",
    "        # 8. append average epoch cost to training costs\n",
    "        training_costs.append(avg_epoch_cost)\n",
    "\n",
    "        # 9. calculate epoch_accuracy\n",
    "        this_epoch_accuracy = len(correct_pred)/len(batch_y)\n",
    "\n",
    "        # 10. append epoch_accuracy to training_accs\n",
    "        training_accs.append(this_epoch_accuracy)\n",
    "\n",
    "        # 11. massage validation labels\n",
    "        y_valid = y_valid.reshape(len(y_valid), 1)\n",
    "\n",
    "        # 12. calculate validation loss and predition            \n",
    "        valid_pred_raw, valid_pred, valid_cost, train_op = stitch_network(x_valid, y_valid, \n",
    "                                                                          weights, biases, learning_rate)\n",
    "        # 13. calculate the number of correct valid predictions\n",
    "        valid_correct_pred = tf.equal(valid_pred, tf.argmax(y_valid, 1))\n",
    "\n",
    "        # 14. append validation costs and accuracy\n",
    "        validation_costs.append(valid_cost)\n",
    "        validation_accs.append(len(valid_correct_pred)/len(y_valid))\n",
    "\n",
    "        # 15. print information\n",
    "        if epoch%display_step==0:\n",
    "            print(\"Epoch %d | Tr cost: %f | Tr accuracy %f | Va cost: %f | Va accuracy: %f\"%(epoch + 1,avg_epoch_cost, this_epoch_accuracy, batch_valid_cost, valid_accuracy))\n",
    "\n",
    "    ## Assuming the above part is completed, you should now use your trained model to make predictions on the test set.\n",
    "\n",
    "    test_predictions = []\n",
    "\n",
    "    '''\n",
    "    HINT:\n",
    "    Using the `test_features` as input to your trained graph,\n",
    "        run the graph once more to calculate the predictions on the test set\n",
    "    Cast the returned numpy array into the python list called `test_predictions`\n",
    "        where each element has type np.float64\n",
    "    '''\n",
    "\n",
    "    ###\n",
    "    ### YOUR CODE HERE\n",
    "    ###\n",
    "\n",
    "    # make predictions on test\n",
    "\n",
    "\n",
    "\n",
    "## close TF session if open\n",
    "if 'session' in locals() and sess is not None:\n",
    "    print('Close interactive session')\n",
    "    sess.close()"
   ]
  },
  {
   "cell_type": "code",
   "execution_count": 64,
   "metadata": {},
   "outputs": [
    {
     "data": {
      "text/plain": [
       "dtype('float64')"
      ]
     },
     "execution_count": 64,
     "metadata": {},
     "output_type": "execute_result"
    }
   ],
   "source": [
    "batch_y.dtype"
   ]
  },
  {
   "cell_type": "code",
   "execution_count": 41,
   "metadata": {
    "deletable": false,
    "editable": false,
    "nbgrader": {
     "grade": false,
     "grade_id": "cell-099ff13f7570ad44",
     "locked": true,
     "schema_version": 1,
     "solution": false
    }
   },
   "outputs": [
    {
     "name": "stdout",
     "output_type": "stream",
     "text": [
      "WARNING:tensorflow:`tf.train.start_queue_runners()` was called when no queue runners were defined. You can safely remove the call to this deprecated function.\n"
     ]
    },
    {
     "ename": "IndexError",
     "evalue": "only integers, slices (`:`), ellipsis (`...`), numpy.newaxis (`None`) and integer or boolean arrays are valid indices",
     "output_type": "error",
     "traceback": [
      "\u001b[0;31m---------------------------------------------------------------------------\u001b[0m",
      "\u001b[0;31mIndexError\u001b[0m                                Traceback (most recent call last)",
      "\u001b[0;32m<ipython-input-41-c1c36e364be9>\u001b[0m in \u001b[0;36m<module>\u001b[0;34m()\u001b[0m\n\u001b[0;32m----> 1\u001b[0;31m \u001b[0mtraining_costs\u001b[0m\u001b[0;34m,\u001b[0m \u001b[0mvalidation_costs\u001b[0m\u001b[0;34m,\u001b[0m \u001b[0mtraining_accs\u001b[0m\u001b[0;34m,\u001b[0m \u001b[0mvalidation_accs\u001b[0m\u001b[0;34m,\u001b[0m \u001b[0mtest_predictions\u001b[0m \u001b[0;34m=\u001b[0m \u001b[0mtrain_nn\u001b[0m\u001b[0;34m(\u001b[0m\u001b[0;34m)\u001b[0m\u001b[0;34m\u001b[0m\u001b[0m\n\u001b[0m",
      "\u001b[0;32m<ipython-input-40-396a76816396>\u001b[0m in \u001b[0;36mtrain_nn\u001b[0;34m()\u001b[0m\n\u001b[1;32m     78\u001b[0m \u001b[0;34m\u001b[0m\u001b[0m\n\u001b[1;32m     79\u001b[0m             \u001b[0;31m# 3. subset features and labels\u001b[0m\u001b[0;34m\u001b[0m\u001b[0;34m\u001b[0m\u001b[0m\n\u001b[0;32m---> 80\u001b[0;31m             \u001b[0mbatch_x\u001b[0m \u001b[0;34m=\u001b[0m \u001b[0mx_train\u001b[0m\u001b[0;34m[\u001b[0m\u001b[0mepoch\u001b[0m\u001b[0;34m*\u001b[0m\u001b[0mbatch_size\u001b[0m\u001b[0;34m,\u001b[0m \u001b[0;34m(\u001b[0m\u001b[0mepoch\u001b[0m\u001b[0;34m+\u001b[0m\u001b[0;36m1\u001b[0m\u001b[0;34m)\u001b[0m\u001b[0;34m*\u001b[0m\u001b[0mbatch_size\u001b[0m\u001b[0;34m]\u001b[0m\u001b[0;34m\u001b[0m\u001b[0m\n\u001b[0m\u001b[1;32m     81\u001b[0m             \u001b[0mbatch_y\u001b[0m \u001b[0;34m=\u001b[0m \u001b[0my_train\u001b[0m\u001b[0;34m[\u001b[0m\u001b[0mepoch\u001b[0m\u001b[0;34m*\u001b[0m\u001b[0mbatch_size\u001b[0m\u001b[0;34m,\u001b[0m \u001b[0;34m(\u001b[0m\u001b[0mepoch\u001b[0m\u001b[0;34m+\u001b[0m\u001b[0;36m1\u001b[0m\u001b[0;34m)\u001b[0m\u001b[0;34m*\u001b[0m\u001b[0mbatch_size\u001b[0m\u001b[0;34m]\u001b[0m\u001b[0;34m\u001b[0m\u001b[0m\n\u001b[1;32m     82\u001b[0m \u001b[0;34m\u001b[0m\u001b[0m\n",
      "\u001b[0;31mIndexError\u001b[0m: only integers, slices (`:`), ellipsis (`...`), numpy.newaxis (`None`) and integer or boolean arrays are valid indices"
     ]
    }
   ],
   "source": [
    "training_costs, validation_costs, training_accs, validation_accs, test_predictions = train_nn()"
   ]
  },
  {
   "cell_type": "code",
   "execution_count": 31,
   "metadata": {
    "collapsed": true,
    "deletable": false,
    "editable": false,
    "nbgrader": {
     "grade": true,
     "grade_id": "typechecks_v",
     "locked": true,
     "points": "5",
     "schema_version": 1,
     "solution": false
    }
   },
   "outputs": [],
   "source": [
    "## making sure your train_nn() function returns variables as expected\n",
    "assert type(training_accs)==list,\"incorrect return type\"\n",
    "assert type(validation_accs)==list, \"incorrect return type\"\n",
    "assert type(training_costs)==list, \"incorrect return type\"\n",
    "assert type(validation_costs)==list,\"incorrect return type\"\n",
    "assert type(test_predictions[0])==type(training_accs[0])==type(validation_accs[0])==type(training_costs[0])==type(validation_costs[0])==np.float64, \"incorrect return type\"\n",
    "assert len(training_accs)==len(validation_accs)==len(training_costs)==len(validation_costs)==training_epochs,\"incorrect returned lengths\"\n",
    "assert len(test_predictions)==len(test_features),\"incorrect returned lengths\""
   ]
  },
  {
   "cell_type": "markdown",
   "metadata": {
    "deletable": false,
    "editable": false,
    "nbgrader": {
     "grade": false,
     "grade_id": "cell-4ed33d0856316a08",
     "locked": true,
     "schema_version": 1,
     "solution": false
    }
   },
   "source": [
    "### Analyzing cost and accuracy trends vs number of epochs"
   ]
  },
  {
   "cell_type": "code",
   "execution_count": 32,
   "metadata": {
    "collapsed": true,
    "deletable": false,
    "editable": false,
    "nbgrader": {
     "grade": false,
     "grade_id": "cell-450747d7f0431e00",
     "locked": true,
     "schema_version": 1,
     "solution": false
    },
    "scrolled": false
   },
   "outputs": [],
   "source": [
    "def plot_cost_vs_epochs(training_costs, validation_costs):\n",
    "    plt.title(\"cost vs epochs\")\n",
    "    plt.plot(training_costs)\n",
    "    plt.plot(validation_costs)\n",
    "    plt.legend([\"training\",\"validation\"])"
   ]
  },
  {
   "cell_type": "code",
   "execution_count": 33,
   "metadata": {
    "collapsed": true,
    "deletable": false,
    "editable": false,
    "nbgrader": {
     "grade": false,
     "grade_id": "cell-78d0e31f3ed4005e",
     "locked": true,
     "schema_version": 1,
     "solution": false
    },
    "scrolled": true
   },
   "outputs": [],
   "source": [
    "def plot_acc_vs_epochs(training_acc, validation_acc):\n",
    "    plt.title(\"accuracy vs epochs\")\n",
    "    plt.plot(training_acc)\n",
    "    plt.plot(validation_acc)\n",
    "    plt.legend([\"training\",\"validation\"])"
   ]
  },
  {
   "cell_type": "code",
   "execution_count": 34,
   "metadata": {
    "collapsed": true,
    "deletable": false,
    "editable": false,
    "nbgrader": {
     "grade": false,
     "grade_id": "cell-5f2c5d57928f7a69",
     "locked": true,
     "schema_version": 1,
     "solution": false
    }
   },
   "outputs": [],
   "source": [
    "\n",
    "def plots(training_costs, validation_costs, training_accs, validation_accs):\n",
    "    \n",
    "    fig = plt.figure(figsize=(20,10))\n",
    "    \n",
    "    plt.subplot(1,2,1)\n",
    "    plot_cost_vs_epochs(training_costs, validation_costs)\n",
    "    plt.subplot(1,2,2)\n",
    "    plot_acc_vs_epochs(training_accs, validation_accs)"
   ]
  },
  {
   "cell_type": "code",
   "execution_count": 35,
   "metadata": {
    "collapsed": true
   },
   "outputs": [],
   "source": [
    "plots(training_costs, validation_costs, training_accs, validation_accs)"
   ]
  },
  {
   "cell_type": "markdown",
   "metadata": {
    "deletable": false,
    "editable": false,
    "nbgrader": {
     "grade": false,
     "grade_id": "cell-7e48102290dfc483",
     "locked": true,
     "schema_version": 1,
     "solution": false
    }
   },
   "source": [
    "### Scoring Your Test Predictions\n",
    "\n",
    "The following code saves your test predictions locally in the same directory.\n",
    "\n",
    "It is required in order to give you a grade based on your network's performance."
   ]
  },
  {
   "cell_type": "code",
   "execution_count": 36,
   "metadata": {
    "collapsed": true,
    "deletable": false,
    "editable": false,
    "nbgrader": {
     "grade": false,
     "grade_id": "cell-9130fc95b3adda93",
     "locked": true,
     "schema_version": 1,
     "solution": false
    }
   },
   "outputs": [],
   "source": [
    "import pickle\n",
    "def save_test_predictions(test_predictions):\n",
    "     with open(cfg['output_predictions_pickle_path'], 'wb') as f:\n",
    "        pickle.dump(test_predictions, f)\n",
    "save_test_predictions(test_predictions)"
   ]
  },
  {
   "cell_type": "code",
   "execution_count": 37,
   "metadata": {
    "deletable": false,
    "editable": false,
    "nbgrader": {
     "grade": true,
     "grade_id": "threshold1_h",
     "locked": true,
     "points": "5",
     "schema_version": 1,
     "solution": false
    },
    "scrolled": true
   },
   "outputs": [
    {
     "name": "stdout",
     "output_type": "stream",
     "text": [
      "0.731575\n",
      " \n"
     ]
    }
   ],
   "source": [
    "#Hidden tests here\n",
    "###\n",
    "### AUTOGRADER TEST - DO NOT REMOVE\n",
    "###\n"
   ]
  },
  {
   "cell_type": "code",
   "execution_count": 38,
   "metadata": {
    "deletable": false,
    "editable": false,
    "nbgrader": {
     "grade": true,
     "grade_id": "threshold2_h",
     "locked": true,
     "points": "10",
     "schema_version": 1,
     "solution": false
    }
   },
   "outputs": [
    {
     "name": "stdout",
     "output_type": "stream",
     "text": [
      "0.731575\n",
      " \n"
     ]
    }
   ],
   "source": [
    "#Hidden tests here\n",
    "###\n",
    "### AUTOGRADER TEST - DO NOT REMOVE\n",
    "###\n"
   ]
  },
  {
   "cell_type": "code",
   "execution_count": 39,
   "metadata": {
    "deletable": false,
    "editable": false,
    "nbgrader": {
     "grade": true,
     "grade_id": "threshold3_h",
     "locked": true,
     "points": "15",
     "schema_version": 1,
     "solution": false
    }
   },
   "outputs": [
    {
     "name": "stdout",
     "output_type": "stream",
     "text": [
      "0.731575\n",
      " \n"
     ]
    }
   ],
   "source": [
    "#Hidden tests here\n",
    "###\n",
    "### AUTOGRADER TEST - DO NOT REMOVE\n",
    "###\n"
   ]
  },
  {
   "cell_type": "code",
   "execution_count": 40,
   "metadata": {
    "deletable": false,
    "editable": false,
    "nbgrader": {
     "grade": true,
     "grade_id": "threshold4_h",
     "locked": true,
     "points": "20",
     "schema_version": 1,
     "solution": false
    },
    "scrolled": true
   },
   "outputs": [
    {
     "name": "stdout",
     "output_type": "stream",
     "text": [
      "0.734055\n",
      " \n"
     ]
    }
   ],
   "source": [
    "#Hidden tests here\n",
    "###\n",
    "### AUTOGRADER TEST - DO NOT REMOVE\n",
    "###\n"
   ]
  }
 ],
 "metadata": {
  "celltoolbar": "Edit Metadata",
  "kernelspec": {
   "display_name": "Python 3 [3.6]",
   "language": "python",
   "name": "python3"
  },
  "language_info": {
   "codemirror_mode": {
    "name": "ipython",
    "version": 3
   },
   "file_extension": ".py",
   "mimetype": "text/x-python",
   "name": "python",
   "nbconvert_exporter": "python",
   "pygments_lexer": "ipython3",
   "version": "3.6.4"
  },
  "toc": {
   "base_numbering": 1,
   "nav_menu": [],
   "number_sections": true,
   "sideBar": true,
   "skip_h1_title": false,
   "title_cell": "Table of Contents",
   "title_sidebar": "Contents",
   "toc_cell": false,
   "toc_position": [],
   "toc_section_display": true,
   "toc_window_display": true
  },
  "varInspector": {
   "cols": {
    "lenName": 16,
    "lenType": 16,
    "lenVar": 40
   },
   "kernels_config": {
    "python": {
     "delete_cmd_postfix": "",
     "delete_cmd_prefix": "del ",
     "library": "var_list.py",
     "varRefreshCmd": "print(var_dic_list())"
    },
    "r": {
     "delete_cmd_postfix": ") ",
     "delete_cmd_prefix": "rm(",
     "library": "var_list.r",
     "varRefreshCmd": "cat(var_dic_list()) "
    }
   },
   "types_to_exclude": [
    "module",
    "function",
    "builtin_function_or_method",
    "instance",
    "_Feature"
   ],
   "window_display": false
  }
 },
 "nbformat": 4,
 "nbformat_minor": 2
}
