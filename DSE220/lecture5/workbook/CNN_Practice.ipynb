{
 "cells": [
  {
   "cell_type": "code",
   "execution_count": null,
   "metadata": {},
   "outputs": [],
   "source": [
    "Outline: \n",
    "    Load cifar dataset\n",
    "        - Normalization:\n",
    "            - Subtract 128\n",
    "            - Divide by 128\n",
    "    Implement convolutional network\n",
    "        - Model1\n",
    "            - Conv2D, 32 kernels, size = 3x3\n",
    "            - Dense(128)\n",
    "        - Model 2\n",
    "            - Conv2D, 32 kernels, size = 3x3\n",
    "            - Conv2D, 64 kernels, size = 3x3\n",
    "            - Dense 1(512)\n",
    "        - Use BatchNormalization/Dropout/Maxpooling as and when required"
   ]
  },
  {
   "cell_type": "markdown",
   "metadata": {},
   "source": [
    "## Import libraries"
   ]
  },
  {
   "cell_type": "code",
   "execution_count": 7,
   "metadata": {},
   "outputs": [],
   "source": [
    "from keras.layers import Input, Dense, Dropout, Flatten\n",
    "from keras.layers import Conv2D, MaxPooling2D, Activation\n",
    "from keras.layers.normalization import BatchNormalization\n",
    "from keras.models import Model\n",
    "import keras\n",
    "from keras.datasets import cifar10\n",
    "import matplotlib.pyplot as plt\n",
    "import numpy as np\n",
    "from keras.utils import np_utils"
   ]
  },
  {
   "cell_type": "markdown",
   "metadata": {},
   "source": [
    "## Load data"
   ]
  },
  {
   "cell_type": "code",
   "execution_count": 8,
   "metadata": {},
   "outputs": [
    {
     "name": "stdout",
     "output_type": "stream",
     "text": [
      "Number of train data: 50000\n",
      "Number of test data:  10000\n",
      "\n",
      "\n",
      "Shape of X_train: \t(50000, 32, 32, 3)\n",
      "\n",
      "Shape of y_train: \t(50000, 1)\n",
      "\n",
      "Shape of X_test: \t(10000, 32, 32, 3)\n",
      "\n",
      "Shape of X_test: \t(10000, 1)\n"
     ]
    }
   ],
   "source": [
    "(X_train, y_train), (X_test, y_test) = cifar10.load_data()\n",
    "print( \"Number of train data: \"+str(X_train.shape[0]) )\n",
    "print( \"Number of test data:  \"+str(X_test.shape[0]) )\n",
    "print( \"\\n\\nShape of X_train: \\t\" + str(X_train.shape) )\n",
    "print( \"\\nShape of y_train: \\t\" + str(y_train.shape) )\n",
    "print( \"\\nShape of X_test: \\t\" + str(X_test.shape) )\n",
    "print( \"\\nShape of X_test: \\t\" + str(y_test.shape) )"
   ]
  }
 ],
 "metadata": {
  "kernelspec": {
   "display_name": "tf",
   "language": "python",
   "name": "tf"
  },
  "language_info": {
   "codemirror_mode": {
    "name": "ipython",
    "version": 2
   },
   "file_extension": ".py",
   "mimetype": "text/x-python",
   "name": "python",
   "nbconvert_exporter": "python",
   "pygments_lexer": "ipython2",
   "version": "2.7.12"
  }
 },
 "nbformat": 4,
 "nbformat_minor": 2
}
