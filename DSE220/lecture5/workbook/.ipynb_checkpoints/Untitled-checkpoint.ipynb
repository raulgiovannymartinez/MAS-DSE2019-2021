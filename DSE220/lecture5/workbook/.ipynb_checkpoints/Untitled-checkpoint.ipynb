{
 "cells": [
  {
   "cell_type": "markdown",
   "metadata": {},
   "source": [
    "### Import libraries"
   ]
  },
  {
   "cell_type": "code",
   "execution_count": 6,
   "metadata": {},
   "outputs": [],
   "source": [
    "import numpy as np\n",
    "import matplotlib.pyplot as plt"
   ]
  },
  {
   "cell_type": "markdown",
   "metadata": {},
   "source": [
    "# Law of large numbers: Coin example"
   ]
  },
  {
   "cell_type": "markdown",
   "metadata": {},
   "source": [
    "### Function to flip the coin"
   ]
  },
  {
   "cell_type": "code",
   "execution_count": 3,
   "metadata": {},
   "outputs": [],
   "source": [
    "def getCoinTossSamples(nSamples = 100):\n",
    "    samples = np.random.choice(['H','T'], size=nSamples)\n",
    "    nHead = np.sum(samples=='H')\n",
    "    return samples, nHead"
   ]
  },
  {
   "cell_type": "markdown",
   "metadata": {},
   "source": [
    "### Flip coin 100 times"
   ]
  },
  {
   "cell_type": "code",
   "execution_count": 4,
   "metadata": {},
   "outputs": [
    {
     "name": "stdout",
     "output_type": "stream",
     "text": [
      "['H' 'H' 'T' 'H' 'T' 'T' 'H' 'T' 'H' 'H' 'T' 'T' 'T' 'T' 'H' 'T' 'T' 'H'\n",
      " 'T' 'T' 'T' 'T' 'H' 'H' 'H' 'T' 'H' 'T' 'T' 'T' 'H' 'T' 'T' 'T' 'T' 'T'\n",
      " 'T' 'T' 'H' 'H' 'T' 'H' 'T' 'T' 'H' 'T' 'H' 'T' 'H' 'T' 'H' 'T' 'H' 'H'\n",
      " 'T' 'T' 'H' 'H' 'T' 'H' 'T' 'H' 'H' 'T' 'T' 'H' 'T' 'H' 'H' 'T' 'H' 'H'\n",
      " 'H' 'T' 'H' 'T' 'T' 'T' 'T' 'H' 'T' 'T' 'H' 'T' 'H' 'H' 'H' 'H' 'H' 'T'\n",
      " 'T' 'H' 'H' 'T' 'H' 'H' 'T' 'T' 'H' 'T']\n",
      "\n",
      "Number of HEAD\t\t46\n"
     ]
    }
   ],
   "source": [
    "samples, nHead = getCoinTossSamples(nSamples =100)\n",
    "print samples\n",
    "print \"\\nNumber of HEAD\\t\\t\"+str(nHead)"
   ]
  },
  {
   "cell_type": "markdown",
   "metadata": {},
   "source": [
    "## Toss Coins 10 times"
   ]
  },
  {
   "cell_type": "code",
   "execution_count": 247,
   "metadata": {},
   "outputs": [
    {
     "name": "stdout",
     "output_type": "stream",
     "text": [
      "1.\t Number of HEAD: \t\t45\n",
      "2.\t Number of HEAD: \t\t41\n",
      "3.\t Number of HEAD: \t\t64\n",
      "4.\t Number of HEAD: \t\t39\n",
      "5.\t Number of HEAD: \t\t42\n",
      "6.\t Number of HEAD: \t\t50\n",
      "7.\t Number of HEAD: \t\t52\n",
      "8.\t Number of HEAD: \t\t53\n",
      "9.\t Number of HEAD: \t\t53\n",
      "10.\t Number of HEAD: \t\t40\n"
     ]
    }
   ],
   "source": [
    "for i in range(10):\n",
    "    _, nHead = getCoinTossSamples(nSamples = 100 )\n",
    "    print str(i+1)+\".\\t Number of HEAD: \\t\\t\"+str(nHead)"
   ]
  },
  {
   "cell_type": "markdown",
   "metadata": {},
   "source": [
    "## Check the average value\n",
    "\n",
    "$\\bar{x} = \\frac{1}{N}(X_1 + X_2 + X_3 ....... X_n)$"
   ]
  },
  {
   "cell_type": "code",
   "execution_count": 228,
   "metadata": {},
   "outputs": [
    {
     "name": "stdout",
     "output_type": "stream",
     "text": [
      "1.\t Number of HEAD: \t\t43\n",
      "2.\t Number of HEAD: \t\t46\n",
      "3.\t Number of HEAD: \t\t42\n",
      "4.\t Number of HEAD: \t\t41\n",
      "5.\t Number of HEAD: \t\t54\n",
      "6.\t Number of HEAD: \t\t49\n",
      "7.\t Number of HEAD: \t\t66\n",
      "8.\t Number of HEAD: \t\t51\n",
      "9.\t Number of HEAD: \t\t45\n",
      "10.\t Number of HEAD: \t\t47\n",
      "Average number of head:\t\t48\n"
     ]
    }
   ],
   "source": [
    "nExperiment = 10\n",
    "nTotalHead = 0\n",
    "for i in range(nExperiment):\n",
    "    _, nHead = getCoinTossSamples(nSamples = 100 )\n",
    "    nTotalHead += nHead\n",
    "    print str(i+1)+\".\\t Number of HEAD: \\t\\t\"+str(nHead)\n",
    "\n",
    "averageHead = nTotalHead/nExperiment\n",
    "print \"Average number of head:\\t\\t\"+str(averageHead)"
   ]
  },
  {
   "cell_type": "markdown",
   "metadata": {},
   "source": [
    "### Repeat the experiment ~ 5, 10, 100, 1000 times"
   ]
  },
  {
   "cell_type": "code",
   "execution_count": 227,
   "metadata": {},
   "outputs": [
    {
     "name": "stdout",
     "output_type": "stream",
     "text": [
      "Experiment repeated:\t500000\t\tAverage number of head:\t\t50.000952\n"
     ]
    }
   ],
   "source": [
    "nExperiment = 500000\n",
    "nTotalHead = 0\n",
    "for i in range(nExperiment):\n",
    "    _, nHead = getCoinTossSamples(nSamples = 100 )\n",
    "    nTotalHead += nHead\n",
    "#     print str(i)+\".\\t Number of HEAD: \\t\\t\"+str(nHead)\n",
    "\n",
    "averageHead = nTotalHead/float(nExperiment)\n",
    "print \"Experiment repeated:\\t\"+str(nExperiment)+\"\\t\\tAverage number of head:\\t\\t\"+str(averageHead)"
   ]
  },
  {
   "cell_type": "markdown",
   "metadata": {},
   "source": [
    "# Central Limit Theorm"
   ]
  },
  {
   "cell_type": "markdown",
   "metadata": {},
   "source": [
    "### Function to repeat experiments"
   ]
  },
  {
   "cell_type": "code",
   "execution_count": 251,
   "metadata": {},
   "outputs": [],
   "source": [
    "def getExperimentAverage(nExperiment = 100):\n",
    "    nTotalHead = 0\n",
    "    for i in range(nExperiment):\n",
    "        _, nHead = getCoinTossSamples(nSamples = 100 )\n",
    "        nTotalHead += nHead\n",
    "    #     print str(i)+\".\\t Number of HEAD: \\t\\t\"+str(nHead)\n",
    "\n",
    "    averageHead = nTotalHead/float(nExperiment)\n",
    "    return averageHead"
   ]
  },
  {
   "cell_type": "markdown",
   "metadata": {},
   "source": [
    "### Take average of 100 experiment"
   ]
  },
  {
   "cell_type": "code",
   "execution_count": 254,
   "metadata": {},
   "outputs": [
    {
     "name": "stdout",
     "output_type": "stream",
     "text": [
      "Experimetn 1: \t49.79\n",
      "Experimetn 2: \t49.68\n",
      "Experimetn 3: \t50.46\n"
     ]
    }
   ],
   "source": [
    "nHead = getExperimentAverage(nExperiment = 100)\n",
    "print \"Experimetn 1: \\t\"+str(nHead)\n",
    "nHead = getExperimentAverage(nExperiment = 100)\n",
    "print \"Experimetn 2: \\t\"+str(nHead)\n",
    "nHead = getExperimentAverage(nExperiment = 100)\n",
    "print \"Experimetn 3: \\t\"+str(nHead)"
   ]
  },
  {
   "cell_type": "code",
   "execution_count": 264,
   "metadata": {},
   "outputs": [
    {
     "data": {
      "text/plain": [
       "[49.86,\n",
       " 49.19,\n",
       " 50.58,\n",
       " 50.0,\n",
       " 49.32,\n",
       " 50.14,\n",
       " 49.89,\n",
       " 49.72,\n",
       " 49.69,\n",
       " 49.51,\n",
       " 50.91,\n",
       " 50.52,\n",
       " 50.71,\n",
       " 50.68,\n",
       " 50.34,\n",
       " 50.64,\n",
       " 49.52,\n",
       " 50.41,\n",
       " 50.2,\n",
       " 49.83,\n",
       " 49.45,\n",
       " 50.41,\n",
       " 50.45,\n",
       " 49.37,\n",
       " 49.77]"
      ]
     },
     "execution_count": 264,
     "metadata": {},
     "output_type": "execute_result"
    }
   ],
   "source": [
    "experimentResults = []\n",
    "for i in range(100):\n",
    "    nHead = getExperimentAverage(nExperiment = 100)\n",
    "    experimentResults.append(nHead)\n",
    "experimentResults[0:25]"
   ]
  },
  {
   "cell_type": "markdown",
   "metadata": {},
   "source": [
    "### Histogram for 100 experiments"
   ]
  },
  {
   "cell_type": "code",
   "execution_count": 265,
   "metadata": {},
   "outputs": [
    {
     "data": {
      "image/png": "[encoded data removed]",
      "text/plain": [
       "<matplotlib.figure.Figure at 0x7f5649aa4710>"
      ]
     },
     "metadata": {},
     "output_type": "display_data"
    }
   ],
   "source": [
    "plt.hist(experimentResults, bins=20)\n",
    "plt.title('Experiment repeated 100 times')\n",
    "plt.xlabel('Experiment trial')\n",
    "plt.ylabel('Frequency')\n",
    "plt.show()"
   ]
  },
  {
   "cell_type": "markdown",
   "metadata": {},
   "source": [
    "experimentResults = []\n",
    "for i in range(1000):\n",
    "    nHead = getExperimentAverage(nExperiment = 100)\n",
    "    experimentResults.append(nHead)\n",
    "experimentResults[0:25]\n",
    "plt.hist(experimentResults, bins=20)\n",
    "plt.title('Experiment repeated 1000 times')\n",
    "plt.xlabel('Experiment trial')\n",
    "plt.ylabel('Frequency')\n",
    "plt.show()"
   ]
  },
  {
   "cell_type": "code",
   "execution_count": 267,
   "metadata": {},
   "outputs": [
    {
     "data": {
      "image/png": "[encoded data removed]",
      "text/plain": [
       "<matplotlib.figure.Figure at 0x7f5649996150>"
      ]
     },
     "metadata": {},
     "output_type": "display_data"
    }
   ],
   "source": [
    "experimentResults = []\n",
    "for i in range(5000):\n",
    "    nHead = getExperimentAverage(nExperiment = 100)\n",
    "    experimentResults.append(nHead)\n",
    "experimentResults[0:25]\n",
    "plt.hist(experimentResults, bins=20)\n",
    "plt.title('Experiment repeated 5000 times')\n",
    "plt.xlabel('Experiment trial')\n",
    "plt.ylabel('Frequency')\n",
    "plt.show()"
   ]
  },
  {
   "cell_type": "code",
   "execution_count": 271,
   "metadata": {},
   "outputs": [],
   "source": [
    "### Increase number of experiments from 100 to 1000"
   ]
  },
  {
   "cell_type": "code",
   "execution_count": 270,
   "metadata": {},
   "outputs": [
    {
     "data": {
      "image/png": "[encoded data removed]",
      "text/plain": [
       "<matplotlib.figure.Figure at 0x7f5649c3a8d0>"
      ]
     },
     "metadata": {},
     "output_type": "display_data"
    }
   ],
   "source": [
    "experimentResults = []\n",
    "for i in range(1000):\n",
    "    nHead = getExperimentAverage(nExperiment = 1000)\n",
    "    experimentResults.append(nHead)\n",
    "experimentResults[0:25]\n",
    "plt.hist(experimentResults, bins=20)\n",
    "plt.title('Experiment repeated 1000 times')\n",
    "plt.xlabel('Experiment trial')\n",
    "plt.ylabel('Frequency')\n",
    "plt.show()"
   ]
  },
  {
   "cell_type": "markdown",
   "metadata": {},
   "source": [
    "### Do not run below cell.. takes hours to execute"
   ]
  },
  {
   "cell_type": "code",
   "execution_count": 274,
   "metadata": {},
   "outputs": [
    {
     "data": {
      "image/png": "[encoded data removed]",
      "text/plain": [
       "<matplotlib.figure.Figure at 0x7f5649900190>"
      ]
     },
     "metadata": {},
     "output_type": "display_data"
    }
   ],
   "source": [
    "experimentResults = []\n",
    "for i in range(10000):\n",
    "    nHead = getExperimentAverage(nExperiment = 1000)\n",
    "    experimentResults.append(nHead)\n",
    "experimentResults[0:25]\n",
    "plt.hist(experimentResults, bins=20)\n",
    "plt.title('Experiment repeated 10000 times')\n",
    "plt.xlabel('Experiment trial')\n",
    "plt.ylabel('Frequency')\n",
    "plt.show()"
   ]
  },
  {
   "cell_type": "code",
   "execution_count": 277,
   "metadata": {},
   "outputs": [
    {
     "data": {
      "image/png": "[encoded data removed]",
      "text/plain": [
       "<matplotlib.figure.Figure at 0x7f564971d2d0>"
      ]
     },
     "metadata": {},
     "output_type": "display_data"
    }
   ],
   "source": [
    "plt.hist(experimentResults, bins=70)\n",
    "plt.title('Experiment repeated 10000 times')\n",
    "plt.xlabel('Experiment trial')\n",
    "plt.ylabel('Frequency')\n",
    "plt.show()"
   ]
  }
 ],
 "metadata": {
  "kernelspec": {
   "display_name": "Python 3",
   "language": "python",
   "name": "python3"
  },
  "language_info": {
   "codemirror_mode": {
    "name": "ipython",
    "version": 3
   },
   "file_extension": ".py",
   "mimetype": "text/x-python",
   "name": "python",
   "nbconvert_exporter": "python",
   "pygments_lexer": "ipython3",
   "version": "3.7.1"
  },
  "varInspector": {
   "cols": {
    "lenName": 16,
    "lenType": 16,
    "lenVar": 40
   },
   "kernels_config": {
    "python": {
     "delete_cmd_postfix": "",
     "delete_cmd_prefix": "del ",
     "library": "var_list.py",
     "varRefreshCmd": "print(var_dic_list())"
    },
    "r": {
     "delete_cmd_postfix": ") ",
     "delete_cmd_prefix": "rm(",
     "library": "var_list.r",
     "varRefreshCmd": "cat(var_dic_list()) "
    }
   },
   "types_to_exclude": [
    "module",
    "function",
    "builtin_function_or_method",
    "instance",
    "_Feature"
   ],
   "window_display": false
  }
 },
 "nbformat": 4,
 "nbformat_minor": 2
}
