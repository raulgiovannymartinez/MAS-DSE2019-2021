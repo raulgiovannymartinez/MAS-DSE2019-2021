{
 "cells": [
  {
   "cell_type": "markdown",
   "metadata": {},
   "source": [
    "## Import libraries"
   ]
  },
  {
   "cell_type": "code",
   "execution_count": 1,
   "metadata": {
    "ExecuteTime": {
     "end_time": "2019-05-30T10:46:44.779004Z",
     "start_time": "2019-05-30T10:46:43.779028Z"
    }
   },
   "outputs": [
    {
     "name": "stderr",
     "output_type": "stream",
     "text": [
      "Using TensorFlow backend.\n"
     ]
    }
   ],
   "source": [
    "from keras.layers import Input, Dense, Dropout, Flatten\n",
    "from keras.layers import Conv2D, MaxPooling2D, Activation\n",
    "from keras.layers.normalization import BatchNormalization\n",
    "from keras.models import Model\n",
    "import keras\n",
    "from keras.datasets import mnist\n",
    "import matplotlib.pyplot as plt\n",
    "import numpy as np\n",
    "from keras.utils import np_utils"
   ]
  },
  {
   "cell_type": "markdown",
   "metadata": {},
   "source": [
    "## Load data"
   ]
  },
  {
   "cell_type": "code",
   "execution_count": 2,
   "metadata": {
    "ExecuteTime": {
     "end_time": "2019-05-30T10:46:49.224839Z",
     "start_time": "2019-05-30T10:46:49.003285Z"
    }
   },
   "outputs": [
    {
     "name": "stdout",
     "output_type": "stream",
     "text": [
      "Number of train data: 60000\n",
      "Number of test data:  10000\n",
      "\n",
      "\n",
      "Shape of X_train: \t(60000, 28, 28)\n",
      "\n",
      "Shape of y_train: \t(60000,)\n",
      "\n",
      "Shape of X_test: \t(10000, 28, 28)\n",
      "\n",
      "Shape of X_test: \t(10000,)\n"
     ]
    }
   ],
   "source": [
    "(X_train, y_train), (X_test, y_test) = mnist.load_data()\n",
    "print( \"Number of train data: \"+str(X_train.shape[0]) )\n",
    "print( \"Number of test data:  \"+str(X_test.shape[0]) )\n",
    "print( \"\\n\\nShape of X_train: \\t\" + str(X_train.shape) )\n",
    "print( \"\\nShape of y_train: \\t\" + str(y_train.shape) )\n",
    "print( \"\\nShape of X_test: \\t\" + str(X_test.shape) )\n",
    "print( \"\\nShape of X_test: \\t\" + str(y_test.shape) )"
   ]
  },
  {
   "cell_type": "markdown",
   "metadata": {},
   "source": [
    "## Visualize data"
   ]
  },
  {
   "cell_type": "code",
   "execution_count": 3,
   "metadata": {
    "ExecuteTime": {
     "end_time": "2019-05-30T10:46:50.714634Z",
     "start_time": "2019-05-30T10:46:50.553912Z"
    }
   },
   "outputs": [
    {
     "data": {
      "image/png": "[encoded data removed]",
      "text/plain": [
       "<Figure size 432x288 with 4 Axes>"
      ]
     },
     "metadata": {
      "needs_background": "light"
     },
     "output_type": "display_data"
    }
   ],
   "source": [
    "plt.subplot(221)\n",
    "plt.imshow(X_train[0], cmap=plt.get_cmap('gray'))\n",
    "plt.subplot(222)\n",
    "plt.imshow(X_train[123], cmap=plt.get_cmap('gray'))\n",
    "plt.subplot(223)\n",
    "plt.imshow(X_train[31245], cmap=plt.get_cmap('gray'))\n",
    "plt.subplot(224)\n",
    "plt.imshow(X_train[51069], cmap=plt.get_cmap('gray'))\n",
    "# show the plot\n",
    "plt.show()"
   ]
  },
  {
   "cell_type": "markdown",
   "metadata": {},
   "source": [
    "## Normalize Inputs"
   ]
  },
  {
   "cell_type": "code",
   "execution_count": 4,
   "metadata": {
    "ExecuteTime": {
     "end_time": "2019-05-30T10:46:53.884974Z",
     "start_time": "2019-05-30T10:46:53.725153Z"
    }
   },
   "outputs": [
    {
     "name": "stdout",
     "output_type": "stream",
     "text": [
      "Input shape: (60000, 28, 28, 1)\n"
     ]
    }
   ],
   "source": [
    "# normalize inputs from 0-255 to 0-1\n",
    "X_train = X_train.reshape(X_train.shape[0],28, 28, 1).astype('float32')\n",
    "X_test = X_test.reshape(X_test.shape[0],28,28, 1).astype('float32')\n",
    "X_train = (X_train-128.0) / 128.0\n",
    "X_test = (X_test-128.0) / 128.0\n",
    "print( \"Input shape: \" + str(X_train.shape) )"
   ]
  },
  {
   "cell_type": "markdown",
   "metadata": {},
   "source": [
    "## Convert labels to One hot"
   ]
  },
  {
   "cell_type": "code",
   "execution_count": 5,
   "metadata": {
    "ExecuteTime": {
     "end_time": "2019-05-30T10:46:54.867118Z",
     "start_time": "2019-05-30T10:46:54.859980Z"
    }
   },
   "outputs": [
    {
     "name": "stdout",
     "output_type": "stream",
     "text": [
      "Original shape of labels data:\t(60000,)\n",
      "Transformed shape of labels data:\t(60000, 10)\n",
      "Number of classes: \t10\n",
      "Label in one-hot: \t [0. 0. 0. 0. 0. 1. 0. 0. 0. 0.]\n"
     ]
    }
   ],
   "source": [
    "# one hot encode outputs\n",
    "print( \"Original shape of labels data:\\t\" + str(y_train.shape) )\n",
    "y_train = np_utils.to_categorical(y_train)\n",
    "y_test = np_utils.to_categorical(y_test)\n",
    "num_classes = y_test.shape[1]\n",
    "print( \"Transformed shape of labels data:\\t\" + str(y_train.shape) )\n",
    "print( \"Number of classes: \\t\" + str(num_classes) )\n",
    "print( \"Label in one-hot: \\t\" , y_train[0] )"
   ]
  },
  {
   "cell_type": "code",
   "execution_count": 6,
   "metadata": {
    "ExecuteTime": {
     "end_time": "2019-05-30T10:47:07.894621Z",
     "start_time": "2019-05-30T10:47:07.883464Z"
    }
   },
   "outputs": [],
   "source": [
    "def plotHistory(history):\n",
    "    # summarize history for accuracy\n",
    "    plt.plot(history.history['acc'])\n",
    "    plt.plot(history.history['val_acc'])\n",
    "    plt.title('model accuracy')\n",
    "    plt.ylabel('accuracy')\n",
    "    plt.xlabel('epoch')\n",
    "    plt.legend(['train', 'validation'], loc='upper left')\n",
    "    plt.show()\n",
    "    # summarize history for loss\n",
    "    plt.plot(history.history['loss'])\n",
    "    plt.plot(history.history['val_loss'])\n",
    "    plt.title('model loss')\n",
    "    plt.ylabel('loss')\n",
    "    plt.xlabel('epoch')\n",
    "    plt.legend(['train', 'validation'], loc='upper left')\n",
    "    plt.show()"
   ]
  },
  {
   "cell_type": "code",
   "execution_count": 10,
   "metadata": {},
   "outputs": [
    {
     "name": "stdout",
     "output_type": "stream",
     "text": [
      "_________________________________________________________________\n",
      "Layer (type)                 Output Shape              Param #   \n",
      "=================================================================\n",
      "input_4 (InputLayer)         (None, 28, 28, 1)         0         \n",
      "_________________________________________________________________\n",
      "conv2d_7 (Conv2D)            (None, 28, 28, 32)        320       \n",
      "_________________________________________________________________\n",
      "max_pooling2d_6 (MaxPooling2 (None, 14, 14, 32)        0         \n",
      "_________________________________________________________________\n",
      "conv2d_8 (Conv2D)            (None, 14, 14, 32)        9248      \n",
      "_________________________________________________________________\n",
      "max_pooling2d_7 (MaxPooling2 (None, 7, 7, 32)          0         \n",
      "_________________________________________________________________\n",
      "flatten_3 (Flatten)          (None, 1568)              0         \n",
      "_________________________________________________________________\n",
      "dense_5 (Dense)              (None, 128)               200832    \n",
      "_________________________________________________________________\n",
      "dense_6 (Dense)              (None, 10)                1290      \n",
      "=================================================================\n",
      "Total params: 211,690\n",
      "Trainable params: 211,690\n",
      "Non-trainable params: 0\n",
      "_________________________________________________________________\n",
      "Train on 40199 samples, validate on 19801 samples\n",
      "Epoch 1/10\n",
      "40199/40199 [==============================] - 37s 922us/step - loss: 0.8936 - acc: 0.7651 - val_loss: 0.2711 - val_acc: 0.9194\n",
      "Epoch 2/10\n",
      "40199/40199 [==============================] - 37s 920us/step - loss: 0.2138 - acc: 0.9375 - val_loss: 0.1524 - val_acc: 0.9570\n",
      "Epoch 3/10\n",
      "40199/40199 [==============================] - 37s 927us/step - loss: 0.1318 - acc: 0.9611 - val_loss: 0.1170 - val_acc: 0.9638\n",
      "Epoch 4/10\n",
      "40199/40199 [==============================] - 37s 918us/step - loss: 0.0980 - acc: 0.9716 - val_loss: 0.0899 - val_acc: 0.9724\n",
      "Epoch 5/10\n",
      "40199/40199 [==============================] - 37s 917us/step - loss: 0.0759 - acc: 0.9779 - val_loss: 0.0798 - val_acc: 0.9752\n",
      "Epoch 6/10\n",
      "40199/40199 [==============================] - 37s 931us/step - loss: 0.0659 - acc: 0.9809 - val_loss: 0.0737 - val_acc: 0.9766\n",
      "Epoch 7/10\n",
      "40199/40199 [==============================] - 37s 921us/step - loss: 0.0550 - acc: 0.9845 - val_loss: 0.0640 - val_acc: 0.9793\n",
      "Epoch 8/10\n",
      "40199/40199 [==============================] - 37s 923us/step - loss: 0.0492 - acc: 0.9861 - val_loss: 0.0605 - val_acc: 0.9807\n",
      "Epoch 9/10\n",
      "40199/40199 [==============================] - 37s 917us/step - loss: 0.0450 - acc: 0.9872 - val_loss: 0.0664 - val_acc: 0.9790\n",
      "Epoch 10/10\n",
      "40199/40199 [==============================] - 37s 921us/step - loss: 0.0421 - acc: 0.9878 - val_loss: 0.0625 - val_acc: 0.9799\n",
      "Baseline Error: 1.51%\n"
     ]
    },
    {
     "data": {
      "image/png": "[encoded data removed]",
      "text/plain": [
       "<matplotlib.figure.Figure at 0x7f1e743fdb90>"
      ]
     },
     "metadata": {},
     "output_type": "display_data"
    },
    {
     "data": {
      "image/png": "[encoded data removed]",
      "text/plain": [
       "<matplotlib.figure.Figure at 0x7f1e6f481fd0>"
      ]
     },
     "metadata": {},
     "output_type": "display_data"
    }
   ],
   "source": [
    "def getModel1():\n",
    "    inputs = Input(shape=(28,28,1))\n",
    "    x = Conv2D(32, kernel_size=(3, 3), strides=(1,1), padding='same', activation='relu')(inputs)\n",
    "    x = MaxPooling2D(pool_size=(2,2))(x)\n",
    "    x = Conv2D(32, kernel_size=(3, 3), strides=(1,1), padding='same', activation='relu')(x)\n",
    "    x = MaxPooling2D(pool_size=(2,2))(x)\n",
    "    x = Flatten()(x)\n",
    "    x = Dense(128, activation='relu')(x)\n",
    "    predictions = Dense(10, activation='softmax')(x)\n",
    "    model = Model(inputs=inputs, outputs=predictions)\n",
    "    return model\n",
    "\n",
    "model1 = getModel1()\n",
    "model1.summary()\n",
    "\n",
    "model1.compile(optimizer='adam',loss='categorical_crossentropy',metrics=['accuracy'])\n",
    "history = model1.fit(X_train, y_train, validation_split=0.33, epochs=10, batch_size=1000, verbose=1)\n",
    "# Final evaluation of the model\n",
    "scores = model1.evaluate(X_test, y_test, verbose=0)\n",
    "print(\"Baseline Error: %.2f%%\" % (100-scores[1]*100))\n",
    "plotHistory(history)"
   ]
  },
  {
   "cell_type": "markdown",
   "metadata": {},
   "source": [
    "## Model with BatchNormalization"
   ]
  },
  {
   "cell_type": "code",
   "execution_count": 14,
   "metadata": {},
   "outputs": [
    {
     "name": "stdout",
     "output_type": "stream",
     "text": [
      "_________________________________________________________________\n",
      "Layer (type)                 Output Shape              Param #   \n",
      "=================================================================\n",
      "input_7 (InputLayer)         (None, 28, 28, 1)         0         \n",
      "_________________________________________________________________\n",
      "conv2d_12 (Conv2D)           (None, 28, 28, 32)        320       \n",
      "_________________________________________________________________\n",
      "batch_normalization_4 (Batch (None, 28, 28, 32)        128       \n",
      "_________________________________________________________________\n",
      "activation_4 (Activation)    (None, 28, 28, 32)        0         \n",
      "_________________________________________________________________\n",
      "max_pooling2d_10 (MaxPooling (None, 14, 14, 32)        0         \n",
      "_________________________________________________________________\n",
      "conv2d_13 (Conv2D)           (None, 14, 14, 32)        9248      \n",
      "_________________________________________________________________\n",
      "batch_normalization_5 (Batch (None, 14, 14, 32)        128       \n",
      "_________________________________________________________________\n",
      "activation_5 (Activation)    (None, 14, 14, 32)        0         \n",
      "_________________________________________________________________\n",
      "max_pooling2d_11 (MaxPooling (None, 7, 7, 32)          0         \n",
      "_________________________________________________________________\n",
      "flatten_5 (Flatten)          (None, 1568)              0         \n",
      "_________________________________________________________________\n",
      "dropout_3 (Dropout)          (None, 1568)              0         \n",
      "_________________________________________________________________\n",
      "dense_9 (Dense)              (None, 512)               803328    \n",
      "_________________________________________________________________\n",
      "batch_normalization_6 (Batch (None, 512)               2048      \n",
      "_________________________________________________________________\n",
      "activation_6 (Activation)    (None, 512)               0         \n",
      "_________________________________________________________________\n",
      "dropout_4 (Dropout)          (None, 512)               0         \n",
      "_________________________________________________________________\n",
      "dense_10 (Dense)             (None, 10)                5130      \n",
      "=================================================================\n",
      "Total params: 820,330\n",
      "Trainable params: 819,178\n",
      "Non-trainable params: 1,152\n",
      "_________________________________________________________________\n",
      "Train on 40199 samples, validate on 19801 samples\n",
      "Epoch 1/5\n",
      "40199/40199 [==============================] - 99s 2ms/step - loss: 0.4283 - acc: 0.8671 - val_loss: 0.1277 - val_acc: 0.9636\n",
      "Epoch 2/5\n",
      "40199/40199 [==============================] - 95s 2ms/step - loss: 0.1166 - acc: 0.9650 - val_loss: 0.0824 - val_acc: 0.9741\n",
      "Epoch 3/5\n",
      "40199/40199 [==============================] - 96s 2ms/step - loss: 0.0807 - acc: 0.9757 - val_loss: 0.0666 - val_acc: 0.9795\n",
      "Epoch 4/5\n",
      "40199/40199 [==============================] - 95s 2ms/step - loss: 0.0659 - acc: 0.9803 - val_loss: 0.0817 - val_acc: 0.9745\n",
      "Epoch 5/5\n",
      "40199/40199 [==============================] - 95s 2ms/step - loss: 0.0547 - acc: 0.9838 - val_loss: 0.0686 - val_acc: 0.9774\n",
      "Baseline Error: 1.72%\n"
     ]
    },
    {
     "data": {
      "image/png": "[encoded data removed]",
      "text/plain": [
       "<matplotlib.figure.Figure at 0x7f1e6db29dd0>"
      ]
     },
     "metadata": {},
     "output_type": "display_data"
    },
    {
     "data": {
      "image/png": "[encoded data removed]",
      "text/plain": [
       "<matplotlib.figure.Figure at 0x7f1e6d7d1610>"
      ]
     },
     "metadata": {},
     "output_type": "display_data"
    }
   ],
   "source": [
    "def getModel2():\n",
    "    inputs = Input(shape=(28,28,1))\n",
    "\n",
    "    x = Conv2D(32, kernel_size=(3, 3), strides=(1,1), padding='same')(inputs)\n",
    "    x = BatchNormalization()(x)\n",
    "    x = Activation('relu')(x)\n",
    "\n",
    "    x = MaxPooling2D(pool_size=(2,2))(x)\n",
    "\n",
    "    x = Conv2D(32, kernel_size=(3, 3), strides=(1,1), padding='same')(x)\n",
    "    x = BatchNormalization()(x)\n",
    "    x = Activation('relu')(x)\n",
    "    \n",
    "    x = MaxPooling2D(pool_size=(2,2))(x)\n",
    "    \n",
    "    x = Flatten()(x)\n",
    "    x = Dropout(0.3)(x)\n",
    "    \n",
    "    x = Dense(512, activation=None)(x)\n",
    "    x = BatchNormalization()(x)\n",
    "    x = Activation('relu')(x)\n",
    "    \n",
    "    x = Dropout(0.3)(x)\n",
    "    \n",
    "    predictions = Dense(10, activation='softmax')(x)\n",
    "    model = Model(inputs=inputs, outputs=predictions)\n",
    "    return model\n",
    "\n",
    "model2 = getModel2()\n",
    "model2.summary()\n",
    "\n",
    "model2.compile(optimizer='adam',loss='categorical_crossentropy',metrics=['accuracy'])\n",
    "history = model2.fit(X_train, y_train, validation_split=0.33, epochs=5, batch_size=1000, verbose=1)\n",
    "# Final evaluation of the model\n",
    "scores = model2.evaluate(X_test, y_test, verbose=0)\n",
    "print(\"Baseline Error: %.2f%%\" % (100-scores[1]*100))\n",
    "plotHistory(history)"
   ]
  },
  {
   "cell_type": "code",
   "execution_count": null,
   "metadata": {},
   "outputs": [],
   "source": []
  }
 ],
 "metadata": {
  "kernelspec": {
   "display_name": "Python 3",
   "language": "python",
   "name": "python3"
  },
  "language_info": {
   "codemirror_mode": {
    "name": "ipython",
    "version": 3
   },
   "file_extension": ".py",
   "mimetype": "text/x-python",
   "name": "python",
   "nbconvert_exporter": "python",
   "pygments_lexer": "ipython3",
   "version": "3.7.1"
  },
  "varInspector": {
   "cols": {
    "lenName": 16,
    "lenType": 16,
    "lenVar": 40
   },
   "kernels_config": {
    "python": {
     "delete_cmd_postfix": "",
     "delete_cmd_prefix": "del ",
     "library": "var_list.py",
     "varRefreshCmd": "print(var_dic_list())"
    },
    "r": {
     "delete_cmd_postfix": ") ",
     "delete_cmd_prefix": "rm(",
     "library": "var_list.r",
     "varRefreshCmd": "cat(var_dic_list()) "
    }
   },
   "types_to_exclude": [
    "module",
    "function",
    "builtin_function_or_method",
    "instance",
    "_Feature"
   ],
   "window_display": false
  }
 },
 "nbformat": 4,
 "nbformat_minor": 2
}
