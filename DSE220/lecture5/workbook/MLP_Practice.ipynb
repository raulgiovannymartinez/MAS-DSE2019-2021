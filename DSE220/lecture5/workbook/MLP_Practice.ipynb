{
 "cells": [
  {
   "cell_type": "raw",
   "metadata": {},
   "source": [
    "Outline: \n",
    "    Load cifar dataset\n",
    "        - Normalizati\n",
    "    Implement multilayer perceptron network\n",
    "        - Model1\n",
    "            -No hidden layer\n",
    "        - Model 2\n",
    "            - Dense 1(128)\n",
    "            - Dense 2(128)\n",
    "            - Use Dropout/BatchNorm\n",
    "        - Model 3\n",
    "            - Dense 1(1024)\n",
    "            - Dense 2 (256)\n",
    "            - Dense 3(128)\n",
    "            - Dense 4 (64)\n",
    "            - Use Dropout/BatchNorm"
   ]
  },
  {
   "cell_type": "code",
   "execution_count": 1,
   "metadata": {},
   "outputs": [
    {
     "name": "stderr",
     "output_type": "stream",
     "text": [
      "/home/aditya/anaconda3/envs/conda_3/lib/python3.6/site-packages/h5py/__init__.py:36: FutureWarning: Conversion of the second argument of issubdtype from `float` to `np.floating` is deprecated. In future, it will be treated as `np.float64 == np.dtype(float).type`.\n",
      "  from ._conv import register_converters as _register_converters\n",
      "Using TensorFlow backend.\n"
     ]
    },
    {
     "name": "stdout",
     "output_type": "stream",
     "text": [
      "Keras version: 2.1.6\n"
     ]
    }
   ],
   "source": [
    "from keras.layers import Input, Dense, Dropout, BatchNormalization, Activation\n",
    "from keras.models import Model\n",
    "import keras\n",
    "from keras.datasets import cifar10\n",
    "import matplotlib.pyplot as plt\n",
    "import numpy as np\n",
    "from keras.utils import np_utils\n",
    "print( \"Keras version: \" + str(keras.__version__) )"
   ]
  },
  {
   "cell_type": "code",
   "execution_count": 2,
   "metadata": {},
   "outputs": [
    {
     "name": "stdout",
     "output_type": "stream",
     "text": [
      "Number of train data: 50000\n",
      "Number of test data:  10000\n",
      "\n",
      "\n",
      "Shape of X_train: \t(50000, 32, 32, 3)\n",
      "\n",
      "Shape of y_train: \t(50000, 1)\n",
      "\n",
      "Shape of X_test: \t(10000, 32, 32, 3)\n",
      "\n",
      "Shape of X_test: \t(10000, 1)\n"
     ]
    }
   ],
   "source": [
    "(X_train, y_train), (X_test, y_test) = cifar10.load_data()\n",
    "print( \"Number of train data: \"+str(X_train.shape[0]) )\n",
    "print( \"Number of test data:  \"+str(X_test.shape[0]) )\n",
    "print( \"\\n\\nShape of X_train: \\t\" + str(X_train.shape) )\n",
    "print( \"\\nShape of y_train: \\t\" + str(y_train.shape) )\n",
    "print( \"\\nShape of X_test: \\t\" + str(X_test.shape) )\n",
    "print( \"\\nShape of X_test: \\t\" + str(y_test.shape) )"
   ]
  }
 ],
 "metadata": {
  "kernelspec": {
   "display_name": "conda_3",
   "language": "python",
   "name": "conda_3"
  },
  "language_info": {
   "codemirror_mode": {
    "name": "ipython",
    "version": 3
   },
   "file_extension": ".py",
   "mimetype": "text/x-python",
   "name": "python",
   "nbconvert_exporter": "python",
   "pygments_lexer": "ipython3",
   "version": "3.6.4"
  }
 },
 "nbformat": 4,
 "nbformat_minor": 2
}
