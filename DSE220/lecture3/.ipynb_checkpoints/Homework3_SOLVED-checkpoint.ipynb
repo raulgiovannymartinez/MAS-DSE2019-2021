{
 "cells": [
  {
   "cell_type": "markdown",
   "metadata": {},
   "source": [
    "## Homework 3 - Raul G. Martinez (PID: A12461871)\n",
    "## DSE 220: Machine Learning \n",
    "## Due Date: May 14 11:59pm"
   ]
  },
  {
   "cell_type": "markdown",
   "metadata": {},
   "source": [
    "## 1. Turn-in Instructions"
   ]
  },
  {
   "cell_type": "markdown",
   "metadata": {},
   "source": [
    "The answers should be submitted on Gradescope. You should submit the PDF of the Jupyter Notebook. Explain your approach as clearly as possible whereever needed. Please make sure that the questions are clearly segmented and labeled. To secure full marks for a question both the answer and the code should be correct. Completely wrong (or missing) code with correct answer will result in zero marks. Please complete this homework individually."
   ]
  },
  {
   "cell_type": "code",
   "execution_count": 1,
   "metadata": {},
   "outputs": [],
   "source": [
    "# import libraries\n",
    "import pandas as pd\n",
    "import numpy as np\n",
    "import matplotlib.pyplot as plt\n",
    "import nltk\n",
    "from nltk.corpus import stopwords\n",
    "\n",
    "# import sklearn libraries\n",
    "from sklearn.datasets import fetch_20newsgroups\n",
    "from sklearn.feature_extraction.text import TfidfVectorizer\n",
    "from sklearn.linear_model import Perceptron\n",
    "from sklearn.metrics import accuracy_score\n",
    "from sklearn.svm import SVC\n",
    "from sklearn.model_selection import train_test_split\n",
    "from sklearn.metrics.pairwise import cosine_similarity, laplacian_kernel"
   ]
  },
  {
   "cell_type": "markdown",
   "metadata": {},
   "source": [
    "## 2. Logistic Regression"
   ]
  },
  {
   "cell_type": "markdown",
   "metadata": {},
   "source": [
    "#### Question 1: This question was included in the previous homework and no submission is needed."
   ]
  },
  {
   "cell_type": "markdown",
   "metadata": {},
   "source": [
    "## 3. Perceptron & Support Vector Machines"
   ]
  },
  {
   "cell_type": "markdown",
   "metadata": {},
   "source": [
    "### 3.1 Data"
   ]
  },
  {
   "cell_type": "markdown",
   "metadata": {},
   "source": [
    "In this section, we will work with text data. Download the newsgroups train and test data using fetch 20newsgroups for categories: ’alt.atheism’, ’comp.graphics’, ’sci.space’ and ’talk.politics.mideast’ after removing ’headers’, ’footers’ and ’quotes’ from the data."
   ]
  },
  {
   "cell_type": "code",
   "execution_count": 2,
   "metadata": {},
   "outputs": [
    {
     "name": "stdout",
     "output_type": "stream",
     "text": [
      "2221\n",
      "1478\n"
     ]
    }
   ],
   "source": [
    "# function to get data\n",
    "corpus_train = fetch_20newsgroups(subset = 'train',\n",
    "                        remove = ('headers', 'footers', 'quotes'),\n",
    "                        categories = ['alt.atheism', 'comp.graphics', 'sci.space', 'talk.politics.mideast'])\n",
    "corpus_test = fetch_20newsgroups(subset = 'test',\n",
    "                        remove = ('headers', 'footers', 'quotes'),\n",
    "                        categories = ['alt.atheism', 'comp.graphics', 'sci.space', 'talk.politics.mideast'])\n",
    "\n",
    "# split into features and labels\n",
    "X_train = corpus_train.data\n",
    "y_train = corpus_train.target\n",
    "\n",
    "X_test = corpus_test.data\n",
    "y_test = corpus_test.target\n",
    "\n",
    "# show size of data\n",
    "print(len(X_train))\n",
    "print(len(X_test))"
   ]
  },
  {
   "cell_type": "markdown",
   "metadata": {},
   "source": [
    "Next, we need to vectorize the documents to train our classifier. Use the TfidfVectorizer to get vectors of the documents (after smoothing). A common practice is to convert all the documents to lowercase and remove stopwords like a, and, the etc. Use the stopwords set provided by ’nltk.corpus.stopwords’. Take advantage of the parameters provided by the TfidfVectorizer to convert to lowercase and remove stopwords. (10 marks)\n",
    "\n",
    "Note: Fit the TfidfVectorizer only on the train data and re-use the same on the test data. Do not fit on the test data again.\n",
    "\n",
    "Note: You might have to run ’nltk.download(’stopwords’)’ before using nltk’s stopwords.\n",
    "\n",
    "Smoothing the next data is the same as computing the idf values after adding a document with all the words in the vocabulary."
   ]
  },
  {
   "cell_type": "code",
   "execution_count": 3,
   "metadata": {},
   "outputs": [
    {
     "name": "stdout",
     "output_type": "stream",
     "text": [
      "['i', 'me', 'my', 'myself', 'we', 'our', 'ours', 'ourselves', 'you', \"you're\", \"you've\", \"you'll\", \"you'd\", 'your', 'yours', 'yourself', 'yourselves', 'he', 'him', 'his', 'himself', 'she', \"she's\", 'her', 'hers', 'herself', 'it', \"it's\", 'its', 'itself', 'they', 'them', 'their', 'theirs', 'themselves', 'what', 'which', 'who', 'whom', 'this', 'that', \"that'll\", 'these', 'those', 'am', 'is', 'are', 'was', 'were', 'be', 'been', 'being', 'have', 'has', 'had', 'having', 'do', 'does', 'did', 'doing', 'a', 'an', 'the', 'and', 'but', 'if', 'or', 'because', 'as', 'until', 'while', 'of', 'at', 'by', 'for', 'with', 'about', 'against', 'between', 'into', 'through', 'during', 'before', 'after', 'above', 'below', 'to', 'from', 'up', 'down', 'in', 'out', 'on', 'off', 'over', 'under', 'again', 'further', 'then', 'once', 'here', 'there', 'when', 'where', 'why', 'how', 'all', 'any', 'both', 'each', 'few', 'more', 'most', 'other', 'some', 'such', 'no', 'nor', 'not', 'only', 'own', 'same', 'so', 'than', 'too', 'very', 's', 't', 'can', 'will', 'just', 'don', \"don't\", 'should', \"should've\", 'now', 'd', 'll', 'm', 'o', 're', 've', 'y', 'ain', 'aren', \"aren't\", 'couldn', \"couldn't\", 'didn', \"didn't\", 'doesn', \"doesn't\", 'hadn', \"hadn't\", 'hasn', \"hasn't\", 'haven', \"haven't\", 'isn', \"isn't\", 'ma', 'mightn', \"mightn't\", 'mustn', \"mustn't\", 'needn', \"needn't\", 'shan', \"shan't\", 'shouldn', \"shouldn't\", 'wasn', \"wasn't\", 'weren', \"weren't\", 'won', \"won't\", 'wouldn', \"wouldn't\"]\n"
     ]
    },
    {
     "name": "stderr",
     "output_type": "stream",
     "text": [
      "[nltk_data] Downloading package stopwords to /Users/gio/nltk_data...\n",
      "[nltk_data]   Package stopwords is already up-to-date!\n"
     ]
    }
   ],
   "source": [
    "# get stopwords from nltk library\n",
    "nltk.download('stopwords')\n",
    "stopW_list = stopwords.words('english')\n",
    "\n",
    "print(stopW_list)"
   ]
  },
  {
   "cell_type": "code",
   "execution_count": 4,
   "metadata": {},
   "outputs": [
    {
     "data": {
      "text/plain": [
       "TfidfVectorizer(analyzer='word', binary=False, decode_error='strict',\n",
       "                dtype=<class 'numpy.float64'>, encoding='utf-8',\n",
       "                input='content', lowercase=True, max_df=1.0, max_features=None,\n",
       "                min_df=1, ngram_range=(1, 1), norm='l2', preprocessor=None,\n",
       "                smooth_idf=True,\n",
       "                stop_words=['i', 'me', 'my', 'myself', 'we', 'our', 'ours',\n",
       "                            'ourselves', 'you', \"you're\", \"you've\", \"you'll\",\n",
       "                            \"you'd\", 'your', 'yours', 'yourself', 'yourselves',\n",
       "                            'he', 'him', 'his', 'himself', 'she', \"she's\",\n",
       "                            'her', 'hers', 'herself', 'it', \"it's\", 'its',\n",
       "                            'itself', ...],\n",
       "                strip_accents=None, sublinear_tf=False,\n",
       "                token_pattern='(?u)\\\\b\\\\w\\\\w+\\\\b', tokenizer=None, use_idf=True,\n",
       "                vocabulary=None)"
      ]
     },
     "execution_count": 4,
     "metadata": {},
     "output_type": "execute_result"
    }
   ],
   "source": [
    "# vectorize the documents with train data\n",
    "vectorizer = TfidfVectorizer(stop_words = stopW_list, lowercase=True, smooth_idf=True)\n",
    "vectorizer.fit(X_train)"
   ]
  },
  {
   "cell_type": "code",
   "execution_count": 5,
   "metadata": {},
   "outputs": [
    {
     "name": "stdout",
     "output_type": "stream",
     "text": [
      "30451\n"
     ]
    }
   ],
   "source": [
    "# print size of vocabulary from vectorizer\n",
    "print(len(vectorizer.vocabulary_))"
   ]
  },
  {
   "cell_type": "code",
   "execution_count": 6,
   "metadata": {},
   "outputs": [
    {
     "name": "stdout",
     "output_type": "stream",
     "text": [
      "(2221, 30451)\n",
      "(1478, 30451)\n"
     ]
    }
   ],
   "source": [
    "# obtain the tf-idf vectors for train and test data\n",
    "X_train_vector = vectorizer.transform(X_train)\n",
    "X_test_vector = vectorizer.transform(X_test)\n",
    "\n",
    "print(X_train_vector.shape)\n",
    "print(X_test_vector.shape)"
   ]
  },
  {
   "cell_type": "markdown",
   "metadata": {},
   "source": [
    "### 3.2 Learning"
   ]
  },
  {
   "cell_type": "markdown",
   "metadata": {},
   "source": [
    "#### Question 2: After obtaining the tf-idf vectors for train and test data, use the perceptron model (no penalty) to train on the training vectors and compute the accuracy on the test vectors. (5 marks)"
   ]
  },
  {
   "cell_type": "code",
   "execution_count": 7,
   "metadata": {},
   "outputs": [
    {
     "name": "stdout",
     "output_type": "stream",
     "text": [
      "Perceptron Model\n",
      "Test accuracy = 0.7949932341001353\n"
     ]
    }
   ],
   "source": [
    "# model\n",
    "clf = Perceptron(penalty=None)\n",
    "\n",
    "# fit \n",
    "clf.fit(X_train_vector, y_train)\n",
    "\n",
    "# predict\n",
    "pred = clf.predict(X_test_vector)\n",
    "\n",
    "# evaluate on test vector\n",
    "print('Perceptron Model')\n",
    "print ('Test accuracy = ' + str(accuracy_score(y_test, pred)))"
   ]
  },
  {
   "cell_type": "markdown",
   "metadata": {},
   "source": [
    "#### Question 3: Keeping all the above data processing steps same, observe how the test accuracy changes by varying the number of top features selected for 100, 200, 500, 1000, 1500, 2000, 4000, 10000, 20000, 30000 for a perceptron model. Report and plot the results. Provide a brief explanation of the observed results. (10 mark)"
   ]
  },
  {
   "cell_type": "code",
   "execution_count": 8,
   "metadata": {},
   "outputs": [
    {
     "name": "stdout",
     "output_type": "stream",
     "text": [
      "Perceptron Model, max_features = 100\n",
      "\tTest accuracy = 0.6041948579161028\n",
      "Perceptron Model, max_features = 200\n",
      "\tTest accuracy = 0.6759133964817321\n",
      "Perceptron Model, max_features = 500\n",
      "\tTest accuracy = 0.7205683355886333\n",
      "Perceptron Model, max_features = 1000\n",
      "\tTest accuracy = 0.7381596752368065\n",
      "Perceptron Model, max_features = 1500\n",
      "\tTest accuracy = 0.7530446549391069\n",
      "Perceptron Model, max_features = 2000\n",
      "\tTest accuracy = 0.7652232746955345\n",
      "Perceptron Model, max_features = 4000\n",
      "\tTest accuracy = 0.8010825439783491\n",
      "Perceptron Model, max_features = 10000\n",
      "\tTest accuracy = 0.8024357239512855\n",
      "Perceptron Model, max_features = 20000\n",
      "\tTest accuracy = 0.8017591339648173\n",
      "Perceptron Model, max_features = 30000\n",
      "\tTest accuracy = 0.8058186738836265\n"
     ]
    }
   ],
   "source": [
    "# Perceptron Model: calculate test accuracy by varying the max_features parameters for the vectorizer\n",
    "\n",
    "top_features_list = [100, 200, 500, 1000, 1500, 2000, 4000, 10000, 20000, 30000]\n",
    "accuracy_list = []\n",
    "\n",
    "for n in top_features_list:\n",
    "    \n",
    "    # vectorize the documents with train data\n",
    "    vectorizer_temp = TfidfVectorizer(stop_words = stopW_list, lowercase=True, max_features = n)\n",
    "    vectorizer_temp.fit(X_train)\n",
    "\n",
    "    # obtain the tf-idf vectors for train and test data\n",
    "    X_train_vector_temp = vectorizer_temp.transform(X_train)\n",
    "    X_test_vector_temp = vectorizer_temp.transform(X_test)\n",
    "\n",
    "    # model\n",
    "    clf = Perceptron(penalty=None)\n",
    "\n",
    "    # fit \n",
    "    clf.fit(X_train_vector_temp, y_train)\n",
    "\n",
    "    # predict\n",
    "    pred = clf.predict(X_test_vector_temp)\n",
    "\n",
    "    # calculate accuracy\n",
    "    accuracy = accuracy_score(y_test, pred)\n",
    "    accuracy_list.append(accuracy)\n",
    "    \n",
    "    # evaluate on test vector and report results\n",
    "    print('Perceptron Model, max_features = {}'.format(n))\n",
    "    print ('\\tTest accuracy = ' + str(accuracy))"
   ]
  },
  {
   "cell_type": "code",
   "execution_count": 9,
   "metadata": {},
   "outputs": [
    {
     "data": {
      "image/png": "[encoded data removed]",
      "text/plain": [
       "<Figure size 1224x360 with 1 Axes>"
      ]
     },
     "metadata": {
      "needs_background": "light"
     },
     "output_type": "display_data"
    }
   ],
   "source": [
    "# plot the results\n",
    "plt.figure(figsize = (17,5))\n",
    "plt.scatter(top_features_list, accuracy_list)\n",
    "plt.plot(top_features_list, accuracy_list, '--')\n",
    "plt.title('Perceptron Model: test accuracy changes by varying the max_features parameter of TfidfVectorizer')\n",
    "plt.xlabel('Number of top features selected (ordered by term frequency)')\n",
    "plt.ylabel('Accuracy')\n",
    "plt.xticks(top_features_list, rotation = 'vertical')\n",
    "plt.grid()\n",
    "plt.show()"
   ]
  },
  {
   "cell_type": "markdown",
   "metadata": {},
   "source": [
    "#### Explanation (Q3)\n",
    "\n",
    "The plot above shows how we can significantly reduce the amount of features required to predict in the perceptron model. For instance, we can use 4,000 features to obtain an accuracy of 80.10% on the test data, as opposed to an accuracy of 80.24% for 10,000 features. This leads to a reduction of at least 2.5-fold to the number of features needed with only ~0.1% difference in accuracy. In other words, accuracy has already plateau at 4,000 features and having additional features does not make our predictions better.  "
   ]
  },
  {
   "cell_type": "markdown",
   "metadata": {},
   "source": [
    "#### Question 4: After obtaining the tf-idf vectors for train and test data, use the SVM model to train on the training vectors and compute the accuracy on the test vectors. Use linear kernel and default parameters. (5 mark)"
   ]
  },
  {
   "cell_type": "code",
   "execution_count": 10,
   "metadata": {},
   "outputs": [
    {
     "name": "stdout",
     "output_type": "stream",
     "text": [
      "SVM Model\n",
      "Test accuracy = 0.8335588633288228\n"
     ]
    }
   ],
   "source": [
    "# use SVM model\n",
    "clf = SVC(kernel = 'linear')\n",
    "\n",
    "# fit \n",
    "clf.fit(X_train_vector, y_train)\n",
    "\n",
    "# predict\n",
    "pred = clf.predict(X_test_vector)\n",
    "\n",
    "# evaluate on test accuracy\n",
    "print('SVM Model')\n",
    "print ('Test accuracy = ' + str(accuracy_score(y_test, pred)))"
   ]
  },
  {
   "cell_type": "markdown",
   "metadata": {},
   "source": [
    "#### Question 5: Keeping all the above data processing steps same observe how the test accuracy changes by varying the number of top features selected for 100, 200, 500, 1000, 1500, 2000, 4000, 10000, 20000, 30000 for a linear SVM model. Report and plot the results. Provide a brief explanation of the observed results. (10 mark)"
   ]
  },
  {
   "cell_type": "code",
   "execution_count": 11,
   "metadata": {},
   "outputs": [
    {
     "name": "stdout",
     "output_type": "stream",
     "text": [
      "SVM Model, max_features = 100\n",
      "\tTest accuracy = 0.652232746955345\n",
      "SVM Model, max_features = 200\n",
      "\tTest accuracy = 0.6921515561569689\n",
      "SVM Model, max_features = 500\n",
      "\tTest accuracy = 0.7422192151556157\n",
      "SVM Model, max_features = 1000\n",
      "\tTest accuracy = 0.7672530446549392\n",
      "SVM Model, max_features = 1500\n",
      "\tTest accuracy = 0.7767253044654939\n",
      "SVM Model, max_features = 2000\n",
      "\tTest accuracy = 0.7855209742895806\n",
      "SVM Model, max_features = 4000\n",
      "\tTest accuracy = 0.8213802435723951\n",
      "SVM Model, max_features = 10000\n",
      "\tTest accuracy = 0.8328822733423545\n",
      "SVM Model, max_features = 20000\n",
      "\tTest accuracy = 0.8315290933694182\n",
      "SVM Model, max_features = 30000\n",
      "\tTest accuracy = 0.8328822733423545\n"
     ]
    }
   ],
   "source": [
    "# SVM Model: calculate test accuracy by varying the max_features parameters for the vectorizer\n",
    "\n",
    "top_features_list = [100, 200, 500, 1000, 1500, 2000, 4000, 10000, 20000, 30000]\n",
    "accuracy_list = []\n",
    "\n",
    "for n in top_features_list:\n",
    "    \n",
    "    # vectorize the documents with train data\n",
    "    vectorizer_temp = TfidfVectorizer(stop_words = stopW_list, lowercase=True, max_features = n)\n",
    "    vectorizer_temp.fit(X_train)\n",
    "\n",
    "    # obtain the tf-idf vectors for train and test data\n",
    "    X_train_vector_temp = vectorizer_temp.transform(X_train)\n",
    "    X_test_vector_temp = vectorizer_temp.transform(X_test)\n",
    "\n",
    "    # model\n",
    "    clf = SVC(kernel = 'linear')\n",
    "\n",
    "    # fit \n",
    "    clf.fit(X_train_vector_temp, y_train)\n",
    "    \n",
    "\n",
    "    # predict\n",
    "    pred = clf.predict(X_test_vector_temp)\n",
    "\n",
    "    # calculate accuracy\n",
    "    accuracy = accuracy_score(y_test, pred)\n",
    "    accuracy_list.append(accuracy)\n",
    "    \n",
    "    # evaluate on test vector and report results\n",
    "    print('SVM Model, max_features = {}'.format(n))\n",
    "    print ('\\tTest accuracy = ' + str(accuracy))"
   ]
  },
  {
   "cell_type": "code",
   "execution_count": 12,
   "metadata": {},
   "outputs": [
    {
     "data": {
      "image/png": "[encoded data removed]",
      "text/plain": [
       "<Figure size 1224x360 with 1 Axes>"
      ]
     },
     "metadata": {
      "needs_background": "light"
     },
     "output_type": "display_data"
    }
   ],
   "source": [
    "# plot the results\n",
    "plt.figure(figsize = (17,5))\n",
    "plt.scatter(top_features_list, accuracy_list)\n",
    "plt.plot(top_features_list, accuracy_list, '--')\n",
    "plt.title('SVM Model: test accuracy changes by varying the max_features parameter of TfidfVectorizer')\n",
    "plt.xlabel('Number of top features selected (ordered by term frequency)')\n",
    "plt.ylabel('Accuracy')\n",
    "plt.xticks(top_features_list, rotation = 'vertical')\n",
    "plt.grid()\n",
    "plt.show()"
   ]
  },
  {
   "cell_type": "markdown",
   "metadata": {},
   "source": [
    "#### Explanation (Q5)\n",
    "\n",
    "Similar observations to the Perceptron Model. The plot above shows how we can significantly reduce the amount of features required to predict in the SVM model. For instance, we can use 4,000 features to obtain an accuracy of 82.13% on the test data, as opposed to an accuracy of ~83.0% for >=10,000 features. This leads to a reduction of at least 2.5-fold to the number of features needed with only ~1.0% difference in accuracy. In other words, accuracy has already likely plateau at 4,000 features and having additional features does not make our predictions better.  "
   ]
  },
  {
   "cell_type": "markdown",
   "metadata": {},
   "source": [
    "#### Question 6: Perform 80-20 split of the training data to obtain validation data using train test split (random state=10). Use this validation data to tune the regularization parameter ’C’ for values 0.01,0.1,1,10,100. Select the best ’C’ and compute the accuracy for the test data. Report the validation and test accuracies. Use feature vectors of 2000 dimensions.(10 marks) \n",
    "\n",
    "Note: Retrain on train + validation data while reporting accuracy on test data"
   ]
  },
  {
   "cell_type": "code",
   "execution_count": 13,
   "metadata": {},
   "outputs": [],
   "source": [
    "# split training data into train + validation\n",
    "X_train2, X_val, y_train2, y_val = train_test_split(X_train, y_train, test_size=0.2, random_state=10)"
   ]
  },
  {
   "cell_type": "code",
   "execution_count": 14,
   "metadata": {},
   "outputs": [],
   "source": [
    "# vectorize the documents with train data\n",
    "vectorizer_temp = TfidfVectorizer(stop_words = stopW_list, lowercase=True, max_features = 2000)\n",
    "vectorizer_temp.fit(X_train2, y_train2)\n",
    "\n",
    "# obtain the tf-idf vectors for train and test data\n",
    "X_train_vector_temp = vectorizer_temp.transform(X_train2)\n",
    "X_val_vector_temp = vectorizer_temp.transform(X_val)\n",
    "\n",
    "# get original training and test data vectors with only 2000 features\n",
    "# this becomes train + val for finding test accuracy\n",
    "vectorizer2000 = TfidfVectorizer(stop_words = stopW_list, lowercase=True, max_features = 2000)\n",
    "vectorizer2000.fit(X_train, y_train)\n",
    "X_train2000_vector = vectorizer2000.transform(X_train)\n",
    "X_test2000_vector = vectorizer2000.transform(X_test)"
   ]
  },
  {
   "cell_type": "code",
   "execution_count": 15,
   "metadata": {},
   "outputs": [
    {
     "name": "stdout",
     "output_type": "stream",
     "text": [
      "C-value = 0.01\n",
      "\tSVC Model -> Validation accuracy = 0.2449438202247191\n",
      "C-value = 0.1\n",
      "\tSVC Model -> Validation accuracy = 0.7595505617977528\n",
      "C-value = 1\n",
      "\tSVC Model -> Validation accuracy = 0.8426966292134831\n",
      "C-value = 10\n",
      "\tSVC Model -> Validation accuracy = 0.8202247191011236\n",
      "C-value = 100\n",
      "\tSVC Model -> Validation accuracy = 0.797752808988764\n"
     ]
    }
   ],
   "source": [
    "# use validation data to tune the regularization parameter 'C', use SVM Model\n",
    "\n",
    "C_list = [0.01, 0.1, 1, 10, 100]\n",
    "\n",
    "for c in C_list:\n",
    "\n",
    "    # model\n",
    "    clf_SVC = SVC(kernel = 'linear', C = c)\n",
    "\n",
    "    # fit \n",
    "    clf_SVC.fit(X_train_vector_temp, y_train2)\n",
    "\n",
    "    # predict\n",
    "    pred_SVC = clf_SVC.predict(X_val_vector_temp)\n",
    "    \n",
    "    # evaluate on test vector and report results\n",
    "    print('C-value = {}'.format(c))\n",
    "    print ('\\tSVC Model -> Validation accuracy = ' + str(accuracy_score(y_val, pred_SVC)))"
   ]
  },
  {
   "cell_type": "code",
   "execution_count": 16,
   "metadata": {},
   "outputs": [
    {
     "name": "stdout",
     "output_type": "stream",
     "text": [
      "C-value = 1\n",
      "\tSVC Model -> Test accuracy = 0.7855209742895806\n"
     ]
    }
   ],
   "source": [
    "# use best C-value (C = 1, val accuracy of 84.3%) from validation to report test accuracy\n",
    "\n",
    "# model\n",
    "clf_SVC = SVC(kernel = 'linear', C = 1)\n",
    "\n",
    "# fit, use original training data that contains train + validation\n",
    "clf_SVC.fit(X_train2000_vector, y_train)\n",
    "\n",
    "# predict\n",
    "pred_SVC = clf_SVC.predict(X_test2000_vector)\n",
    "\n",
    "# evaluate on test vector and report results\n",
    "print('C-value = {}'.format(1))\n",
    "print ('\\tSVC Model -> Test accuracy = ' + str(accuracy_score(y_test, pred_SVC)))"
   ]
  },
  {
   "cell_type": "markdown",
   "metadata": {},
   "source": [
    "#### Question 7: Use the same train and validation split as the previous question. Train a kernelized SVM (with ’C’=10000) with kernel values - ’poly’ with degree 1, 2, 3, ’rbf ’ and ’sigmoid’, and report the one with best accuracy on validation data. Report the test accuracy for the selected kernel. (10 marks)"
   ]
  },
  {
   "cell_type": "code",
   "execution_count": 17,
   "metadata": {},
   "outputs": [
    {
     "name": "stdout",
     "output_type": "stream",
     "text": [
      "Kernel = poly, Poly Degree = 1, C-value = 10000\n",
      "\tSVC Model -> Validation accuracy = 0.7955056179775281\n",
      "Kernel = poly, Poly Degree = 2, C-value = 10000\n",
      "\tSVC Model -> Validation accuracy = 0.6269662921348315\n",
      "Kernel = poly, Poly Degree = 3, C-value = 10000\n",
      "\tSVC Model -> Validation accuracy = 0.3325842696629214\n",
      "Kernel = rbf, Poly Degree = NA, C-value = 10000\n",
      "\tSVC Model -> Validation accuracy = 0.8539325842696629\n",
      "Kernel = sigmoid, Poly Degree = NA, C-value = 10000\n",
      "\tSVC Model -> Validation accuracy = 0.7528089887640449\n"
     ]
    }
   ],
   "source": [
    "# use validation data to tune the kernel values\n",
    "\n",
    "kernel_values = ['poly', 'rbf', 'sigmoid']\n",
    "poly_values = [1, 2, 3]\n",
    "c = 10000\n",
    "\n",
    "for k in kernel_values:\n",
    "    for p in poly_values:\n",
    "        \n",
    "        # prevent from running same non-poly kernel multiple times\n",
    "        if k != 'poly' and p != 1: continue\n",
    "\n",
    "        # model\n",
    "        clf_SVC = SVC(kernel = k, C = c, degree = p)\n",
    "\n",
    "        # fit \n",
    "        clf_SVC.fit(X_train_vector_temp, y_train2)\n",
    "\n",
    "        # predict\n",
    "        pred_SVC = clf_SVC.predict(X_val_vector_temp)\n",
    "        \n",
    "        # change poly degree to NA for non-poly kernel\n",
    "        if k != 'poly': p = 'NA'\n",
    "\n",
    "        # evaluate on test vector and report results\n",
    "        print('Kernel = {}, Poly Degree = {}, C-value = {}'.format(k, p, c))\n",
    "        print ('\\tSVC Model -> Validation accuracy = ' + str(accuracy_score(y_val, pred_SVC)))"
   ]
  },
  {
   "cell_type": "code",
   "execution_count": 18,
   "metadata": {},
   "outputs": [
    {
     "name": "stdout",
     "output_type": "stream",
     "text": [
      "Kernel = rbf, C-value = 10000\n",
      "\tSVC Model -> Test accuracy = 0.7895805142083897\n"
     ]
    }
   ],
   "source": [
    "# use best kernel ('rbf', val accuracy of 82.0%) from validation to report test accuracy\n",
    "\n",
    "# model\n",
    "clf_SVC = SVC(kernel = 'rbf', C = 10000)\n",
    "\n",
    "# fit, use original training data that contains train + validation\n",
    "clf_SVC.fit(X_train2000_vector, y_train)\n",
    "\n",
    "# predict\n",
    "pred_SVC = clf_SVC.predict(X_test2000_vector)\n",
    "\n",
    "# evaluate on test vector and report results\n",
    "print('Kernel = {}, C-value = {}'.format('rbf', 10000))\n",
    "print ('\\tSVC Model -> Test accuracy = ' + str(accuracy_score(y_test, pred_SVC)))"
   ]
  },
  {
   "cell_type": "markdown",
   "metadata": {},
   "source": [
    "### 3.3 Custom Kernels\n",
    "\n",
    "Now we introduce the concept of custom kernels in Support Vector Machines. In class we discussed how kernel functions are a form of similarity measure for our data. There are good chances that we need some other form of similarity measure for our data which works better with the SVM classifier."
   ]
  },
  {
   "cell_type": "markdown",
   "metadata": {},
   "source": [
    "#### Question 8: Use Cosine Similarity and Laplacian Kernel (exp^−||x−y||1) measures, and report the test accuracies using these kernels with SVM. (15 marks)"
   ]
  },
  {
   "cell_type": "code",
   "execution_count": 19,
   "metadata": {},
   "outputs": [
    {
     "name": "stdout",
     "output_type": "stream",
     "text": [
      "Kernel = cosine_similarity\n",
      "\tSVC Model -> Test accuracy = 0.7855209742895806\n",
      "Kernel = laplacian_kernel\n",
      "\tSVC Model -> Test accuracy = 0.2665764546684709\n"
     ]
    }
   ],
   "source": [
    "# report test accuracies with both custom kernels\n",
    "\n",
    "kernel_list = [cosine_similarity, laplacian_kernel]\n",
    "k_name = ['cosine_similarity', 'laplacian_kernel']\n",
    "\n",
    "for k, k_name in zip(kernel_list, k_name):    \n",
    "    \n",
    "    # model\n",
    "    clf_SVC = SVC(kernel = k)\n",
    "\n",
    "    # fit, use original training data that contains train + validation\n",
    "    clf_SVC.fit(X_train2000_vector, y_train)\n",
    "\n",
    "    # predict\n",
    "    pred_SVC = clf_SVC.predict(X_test2000_vector)\n",
    "\n",
    "    # evaluate on test vector and report results\n",
    "    print('Kernel = {}'.format(k_name))\n",
    "    print ('\\tSVC Model -> Test accuracy = ' + str(accuracy_score(y_test, pred_SVC)))"
   ]
  },
  {
   "cell_type": "markdown",
   "metadata": {},
   "source": [
    "#### Question 9: Another way to construct a kernel is use a linear combination of 2 kernels. Let K be a kernel represented as:\n",
    "\n",
    "<br />\n",
    "<div style=\"text-align:center\">K(x,y) = αK1(x,y) + (1−α)K2(x,y) &nbsp; &nbsp; (0 ≤ α ≤ 1)</div>\n",
    "\n",
    "Provide a brief explanation of why K is a valid kernel. Does your reasoning hold true for other values of α as well? Let K1 be the Cosine Similarity and K2 be the Laplacian Kernel. Using K as kernel, train a SVM model to tune the value of α (upto one decimal) and report the accuracy on the test data using the selected parameter. (15 marks)"
   ]
  },
  {
   "cell_type": "code",
   "execution_count": 20,
   "metadata": {},
   "outputs": [],
   "source": [
    "def two_kernels_linear(X, Y):\n",
    "    \"\"\"\n",
    "    linear combination of two kernels, as:\n",
    "    K(x,y) = αK1(x,y) + (1−α)K2(x,y)\n",
    "    \n",
    "    where,\n",
    "    K1: cosine similarity\n",
    "    K2: laplacian kernel\n",
    "    \"\"\"\n",
    "    \n",
    "    global alpha # variable defined before func is called\n",
    "    K1_term = alpha * cosine_similarity(X, Y)\n",
    "    K2_term = (1 - alpha) * laplacian_kernel(X, Y)\n",
    "    \n",
    "    return K1_term + K2_term"
   ]
  },
  {
   "cell_type": "code",
   "execution_count": 21,
   "metadata": {},
   "outputs": [
    {
     "name": "stdout",
     "output_type": "stream",
     "text": [
      "alpha value = -0.4\n",
      "\tSVC Model -> Validation accuracy = 0.033707865168539325\n",
      "alpha value = -0.3\n",
      "\tSVC Model -> Validation accuracy = 0.04044943820224719\n",
      "alpha value = -0.2\n",
      "\tSVC Model -> Validation accuracy = 0.06292134831460675\n",
      "alpha value = -0.1\n",
      "\tSVC Model -> Validation accuracy = 0.16853932584269662\n",
      "alpha value = -0.0\n",
      "\tSVC Model -> Validation accuracy = 0.2449438202247191\n",
      "alpha value = 0.1\n",
      "\tSVC Model -> Validation accuracy = 0.7685393258426966\n",
      "alpha value = 0.2\n",
      "\tSVC Model -> Validation accuracy = 0.8179775280898877\n",
      "alpha value = 0.3\n",
      "\tSVC Model -> Validation accuracy = 0.8247191011235955\n",
      "alpha value = 0.4\n",
      "\tSVC Model -> Validation accuracy = 0.8337078651685393\n",
      "alpha value = 0.5\n",
      "\tSVC Model -> Validation accuracy = 0.8449438202247191\n",
      "alpha value = 0.6\n",
      "\tSVC Model -> Validation accuracy = 0.8449438202247191\n",
      "alpha value = 0.7\n",
      "\tSVC Model -> Validation accuracy = 0.8404494382022472\n",
      "alpha value = 0.8\n",
      "\tSVC Model -> Validation accuracy = 0.849438202247191\n",
      "alpha value = 0.9\n",
      "\tSVC Model -> Validation accuracy = 0.8471910112359551\n",
      "alpha value = 1.0\n",
      "\tSVC Model -> Validation accuracy = 0.8426966292134831\n",
      "alpha value = 1.1\n",
      "\tSVC Model -> Validation accuracy = 0.8359550561797753\n",
      "alpha value = 1.2\n",
      "\tSVC Model -> Validation accuracy = 0.8382022471910112\n"
     ]
    }
   ],
   "source": [
    "# tune the value for alpha up to one decimal, evaluate on validation data\n",
    "\n",
    "alpha_list = np.arange(-0.4,1.3,0.1)\n",
    "val_accuracy_list = []\n",
    "\n",
    "for alpha in alpha_list:\n",
    "\n",
    "    # model\n",
    "    clf_SVC = SVC(kernel = two_kernels_linear)\n",
    "\n",
    "    # fit \n",
    "    clf_SVC.fit(X_train_vector_temp, y_train2)\n",
    "\n",
    "    # predict\n",
    "    pred_SVC = clf_SVC.predict(X_val_vector_temp)\n",
    "    \n",
    "    # evaluate on val vector and report results\n",
    "    print('alpha value = {}'.format(np.round(alpha,1)))\n",
    "    val_accuracy = accuracy_score(y_val, pred_SVC)\n",
    "    val_accuracy_list.append(val_accuracy)\n",
    "    print ('\\tSVC Model -> Validation accuracy = ' + str(val_accuracy))"
   ]
  },
  {
   "cell_type": "code",
   "execution_count": 22,
   "metadata": {},
   "outputs": [
    {
     "data": {
      "image/png": "[encoded data removed]",
      "text/plain": [
       "<Figure size 1224x360 with 1 Axes>"
      ]
     },
     "metadata": {
      "needs_background": "light"
     },
     "output_type": "display_data"
    }
   ],
   "source": [
    "# plot the results\n",
    "plt.figure(figsize = (17,5))\n",
    "plt.scatter(alpha_list, val_accuracy_list)\n",
    "plt.plot(alpha_list, val_accuracy_list, '--')\n",
    "plt.title('SVM Model: validation accuracy changes by varying alpha param in linear combination of 2 kernels')\n",
    "plt.xlabel('Alpha Value')\n",
    "plt.ylabel('Accuracy')\n",
    "plt.xticks(alpha_list)\n",
    "plt.grid()\n",
    "plt.show()"
   ]
  },
  {
   "cell_type": "code",
   "execution_count": 23,
   "metadata": {},
   "outputs": [
    {
     "name": "stdout",
     "output_type": "stream",
     "text": [
      "alpha value = 0.0, Kernel = Linear Combination of 2\n",
      "\tSVC Model -> Test accuracy = 0.7922868741542625\n"
     ]
    }
   ],
   "source": [
    "# report accuracy on test data, selected alpha value is 0.8 with val accuracy of 0.8494\n",
    "\n",
    "# define alpha\n",
    "alpha = 0.8\n",
    "\n",
    "# model\n",
    "clf_SVC = SVC(kernel = two_kernels_linear)\n",
    "\n",
    "# fit \n",
    "clf_SVC.fit(X_train2000_vector, y_train)\n",
    "\n",
    "# predict\n",
    "pred_SVC = clf_SVC.predict(X_test2000_vector)\n",
    "\n",
    "# evaluate on test vector and report results\n",
    "print('alpha value = {}, Kernel = {}'.format(0.0, 'Linear Combination of 2', 10000))\n",
    "print ('\\tSVC Model -> Test accuracy = ' + str(accuracy_score(y_test, pred_SVC)))"
   ]
  },
  {
   "cell_type": "markdown",
   "metadata": {},
   "source": [
    "#### Explanation (Q9)\n",
    "\\\n",
    "K(x,y) is a valid kernel for the linear combination of K1(x,y) and K2(x,y) for alpha values from [0,1]. However, when alpha = 0 the accuracy is significantly reduced (about 3 times) as the K1(x,y) term is elimiated and K2(x,y) is the only one considered (see scatter plot above). Otherwise, any value from (0,1] (zero not included) yields an improvement in accuracy for the linear combination of 2 kernels as compared to their individual effects. \n",
    "\n",
    "\\\n",
    "Considering values for alpha outside the range [0,1]:\n",
    "\n",
    "The kernel is not valid for alpha values less than zero, and is not practically valid (with no added benefit) for values greater than 1. \n",
    "\n",
    "Below are the kernel properties, for any space X of samples and kernels:\n",
    "\n",
    "- (1) k(x, y) = k1(x, y) + k2(x, y)\n",
    "- (2) k(x, y) = ak1(x, y) where a > 0\n",
    "\n",
    "\n",
    "When alpha < 0: this will create a subtraction between K1(x,y) and K2(x,y), hence, making the accuracy of the linear combination of 2 kernels even worst than the lowest individual kernel accuracy between the two. Accuracy approximates to zero with more negative values for alpha (see scatter plot above). \n",
    "\n",
    "When alpha > 1: this will not affect the performance of accuracy but it will also not add any additional benefit as accuracy has already plateau between 0 and 1 (see scatter plot above), fundamentally, the linear combination of kernels will just have extra information (larger numbers) that is likely not very useful."
   ]
  },
  {
   "cell_type": "code",
   "execution_count": null,
   "metadata": {},
   "outputs": [],
   "source": []
  }
 ],
 "metadata": {
  "kernelspec": {
   "display_name": "Python 3",
   "language": "python",
   "name": "python3"
  },
  "language_info": {
   "codemirror_mode": {
    "name": "ipython",
    "version": 3
   },
   "file_extension": ".py",
   "mimetype": "text/x-python",
   "name": "python",
   "nbconvert_exporter": "python",
   "pygments_lexer": "ipython3",
   "version": "3.7.7"
  }
 },
 "nbformat": 4,
 "nbformat_minor": 2
}
