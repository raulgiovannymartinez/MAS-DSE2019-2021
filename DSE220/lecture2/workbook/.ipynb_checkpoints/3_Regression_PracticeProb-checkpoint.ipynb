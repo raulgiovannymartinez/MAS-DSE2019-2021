{
 "cells": [
  {
   "cell_type": "markdown",
   "metadata": {},
   "source": [
    "# Regression Pactice Problem\n",
    "\n",
    "## To-DO\n",
    "- Make a regressio problem with 20 features and 1000 rows using `make_regression` ([API Reference](https://scikit-learn.org/stable/modules/generated/sklearn.datasets.make_regression.html))\n",
    "- Split data - 80/20 split\n",
    "- Fit a Least Square Regression on the train data:\n",
    "    - Calculate show the $MSE$, $MAE$ and $R^2$ scores on train and test data\n",
    "- Add a bias to the vectors (a column of ones)\n",
    "    - Calculate show the $MSE$, $MAE$ and $R^2$ scores on train and test data\n",
    "- How do the results compare in both the cases?\n",
    "-------------------------------------------------\n",
    "**Bonus:**  \n",
    "- Add a few random features to the data (4-5 random features)\n",
    "- Use Lasso regression + BIC (or AIC) criteria to get the best model\n",
    "- Plot how BIC (or AIC) varies with alpha"
   ]
  },
  {
   "cell_type": "code",
   "execution_count": null,
   "metadata": {},
   "outputs": [],
   "source": []
  }
 ],
 "metadata": {
  "anaconda-cloud": {},
  "kernelspec": {
   "display_name": "Python 3",
   "language": "python",
   "name": "python3"
  },
  "language_info": {
   "codemirror_mode": {
    "name": "ipython",
    "version": 3
   },
   "file_extension": ".py",
   "mimetype": "text/x-python",
   "name": "python",
   "nbconvert_exporter": "python",
   "pygments_lexer": "ipython3",
   "version": "3.7.1"
  },
  "varInspector": {
   "cols": {
    "lenName": 16,
    "lenType": 16,
    "lenVar": 40
   },
   "kernels_config": {
    "python": {
     "delete_cmd_postfix": "",
     "delete_cmd_prefix": "del ",
     "library": "var_list.py",
     "varRefreshCmd": "print(var_dic_list())"
    },
    "r": {
     "delete_cmd_postfix": ") ",
     "delete_cmd_prefix": "rm(",
     "library": "var_list.r",
     "varRefreshCmd": "cat(var_dic_list()) "
    }
   },
   "types_to_exclude": [
    "module",
    "function",
    "builtin_function_or_method",
    "instance",
    "_Feature"
   ],
   "window_display": false
  }
 },
 "nbformat": 4,
 "nbformat_minor": 2
}
