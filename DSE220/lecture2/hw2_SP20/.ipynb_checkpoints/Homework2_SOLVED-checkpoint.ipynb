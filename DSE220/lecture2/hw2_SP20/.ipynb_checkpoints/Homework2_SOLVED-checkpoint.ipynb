{
 "cells": [
  {
   "cell_type": "markdown",
   "metadata": {},
   "source": [
    "## Homework 2 - Raul G. Martinez (PID: A12461871)\n",
    "\n",
    "## DSE 220: Machine Learning \n",
    "\n",
    "## Due Date: 30 April 2020, 11:59 PM "
   ]
  },
  {
   "cell_type": "markdown",
   "metadata": {},
   "source": [
    "### 1. Instructions"
   ]
  },
  {
   "cell_type": "markdown",
   "metadata": {},
   "source": [
    "The answers should be submitted on Gradescope. You should submit the PDF of the jupyter notebook and also submit a zip of the notebook with any additional files needed to run the notebook. Please make sure that the questions are clearly segmented and labeled. To secure full marks for a question both the answer and the code should be correct. Completely wrong (or missing) code with correct answer will result in zero marks. Please complete this homework individually."
   ]
  },
  {
   "cell_type": "code",
   "execution_count": 1,
   "metadata": {},
   "outputs": [],
   "source": [
    "# import libraries\n",
    "import pandas as pd\n",
    "import numpy as np\n",
    "import matplotlib.pyplot as plt\n",
    "import itertools\n",
    "\n",
    "# import sklearn libraries\n",
    "from sklearn.neighbors import KNeighborsClassifier\n",
    "from sklearn.naive_bayes import MultinomialNB \n",
    "from sklearn.metrics import confusion_matrix, mean_squared_error, mean_absolute_error, r2_score\n",
    "from sklearn.mixture import GaussianMixture\n",
    "from sklearn.datasets import load_breast_cancer, load_digits, load_diabetes\n",
    "from sklearn.model_selection import train_test_split, GridSearchCV\n",
    "from sklearn.metrics import accuracy_score\n",
    "from sklearn.discriminant_analysis import LinearDiscriminantAnalysis\n",
    "from sklearn.linear_model import LogisticRegression\n",
    "from sklearn.multiclass import OneVsRestClassifier\n",
    "\n",
    "# ignore warnings\n",
    "import warnings\n",
    "warnings.simplefilter(action='ignore', category=FutureWarning)"
   ]
  },
  {
   "cell_type": "markdown",
   "metadata": {},
   "source": [
    "### 2. Dataset for Section 3"
   ]
  },
  {
   "cell_type": "markdown",
   "metadata": {},
   "source": [
    "Download the ‘wine’ (train, validation and test) data from Canvas (hw1.zip). Use this data for the the k-Nearest Neighbours problems.\n",
    "\n",
    "Download from: Canvas/Files/Lecture1/hw1.zip"
   ]
  },
  {
   "cell_type": "code",
   "execution_count": 2,
   "metadata": {},
   "outputs": [],
   "source": [
    "# read wine train, validation, and test data\n",
    "X_train = pd.read_csv('wine_train_data.csv')\n",
    "X_val = pd.read_csv('wine_val_data.csv')\n",
    "X_test = pd.read_csv('wine_test_data.csv')\n",
    "\n",
    "y_train = pd.read_csv('wine_train_labels.csv')\n",
    "y_val = pd.read_csv('wine_val_labels.csv')\n",
    "y_test = pd.read_csv('wine_test_labels.csv')"
   ]
  },
  {
   "cell_type": "markdown",
   "metadata": {},
   "source": [
    "### 3. k-Nearest Neighbours"
   ]
  },
  {
   "cell_type": "markdown",
   "metadata": {},
   "source": [
    "Normalize Data: Normalize features such that for each feature the mean is 0 and the standard deviation is 1 in the train+validation data. Use the normal- izing factors calculated on train+validation data to modify the values in train, validation and test data."
   ]
  },
  {
   "cell_type": "code",
   "execution_count": 3,
   "metadata": {},
   "outputs": [],
   "source": [
    "# create the train+validation data\n",
    "X_train_val = pd.concat([X_train, X_val])\n",
    "y_train_val = pd.concat([y_train, y_val])\n",
    "\n",
    "# find mean and standard deviation of train+validation features\n",
    "mu_train_val = X_train_val.mean(axis = 0)\n",
    "std_train_val = X_train_val.std(axis = 0)"
   ]
  },
  {
   "cell_type": "code",
   "execution_count": 4,
   "metadata": {},
   "outputs": [],
   "source": [
    "# normalize train, validation, and test data with mu and std found on train+validation\n",
    "\"\"\"\n",
    "Formula: \n",
    "X_normalized = (X_i - mu)/std, for each feature\n",
    "\"\"\"\n",
    "X_trainNorm = X_train.apply(lambda x: (x-mu_train_val)/std_train_val, axis = 1)\n",
    "X_valNorm = X_val.apply(lambda x: (x-mu_train_val)/std_train_val, axis = 1)\n",
    "X_testNorm = X_test.apply(lambda x: (x-mu_train_val)/std_train_val, axis = 1)\n",
    "\n",
    "# also normalize the train+val data\n",
    "X_train_val_Norm = X_train_val.apply(lambda x: (x-mu_train_val)/std_train_val, axis = 1)"
   ]
  },
  {
   "cell_type": "markdown",
   "metadata": {},
   "source": [
    "#### Question 1: Train k-nn model on train + validation data and report accuracy on test data. Use Euclidean distance and k=3. (1 mark)"
   ]
  },
  {
   "cell_type": "code",
   "execution_count": 5,
   "metadata": {},
   "outputs": [
    {
     "name": "stdout",
     "output_type": "stream",
     "text": [
      "accuracy on test norm data = 0.8717948717948718\n"
     ]
    }
   ],
   "source": [
    "# create k-nn model and train on train+validation norm\n",
    "clf = KNeighborsClassifier(n_neighbors = 3, p = 2) # p = 2 is for the eucledian distance (L2)\n",
    "clf.fit(X_train_val_Norm, y_train_val['class']) \n",
    "\n",
    "# report accuracy on test norm data\n",
    "predictions = clf.predict(X_testNorm)\n",
    "print ('accuracy on test norm data = ' + str(np.sum(predictions == y_test['class'])/(len(y_test['class']))))"
   ]
  },
  {
   "cell_type": "markdown",
   "metadata": {},
   "source": [
    "#### Question 2: Train the model on train data for distance metrics defined by l1, linf, l2. Report the accuracies on the validation data. Select the best metric and report the accuracy on the test data for the selected metric. Use k=3. (1 mark)"
   ]
  },
  {
   "cell_type": "code",
   "execution_count": 6,
   "metadata": {},
   "outputs": [
    {
     "name": "stdout",
     "output_type": "stream",
     "text": [
      "norm: l1, distance metric: manhattan\n",
      "\taccuracy on val norm data = 0.9487179487179487\n",
      "norm: l2, distance metric: euclidean\n",
      "\taccuracy on val norm data = 0.9230769230769231\n",
      "norm: linf, distance metric: chebyshev\n",
      "\taccuracy on val norm data = 0.9230769230769231\n"
     ]
    }
   ],
   "source": [
    "# train model with train data for different distance metrics and report accuracies on val data\n",
    "\n",
    "# define metrics for distance norms\n",
    "dist_metrics = ['manhattan', 'euclidean', 'chebyshev'] # l1, l2, and linf\n",
    "L = ['l1', 'l2', 'linf']\n",
    "\n",
    "# loop over each norm\n",
    "for d, L in zip(dist_metrics, L):\n",
    "    \n",
    "    # create model and train, on train norm data\n",
    "    clf = KNeighborsClassifier(n_neighbors = 3, metric = d)\n",
    "    clf.fit(X_trainNorm, y_train['class']) \n",
    "    \n",
    "    # report accuracy on validation norm data\n",
    "    predictions = clf.predict(X_valNorm)\n",
    "    print('norm: {}, distance metric: {}'.format(L, d))\n",
    "    print ('\\taccuracy on val norm data = ' + str(np.sum(predictions == y_val['class'])/(len(y_val['class']))))"
   ]
  },
  {
   "cell_type": "code",
   "execution_count": 7,
   "metadata": {},
   "outputs": [
    {
     "name": "stdout",
     "output_type": "stream",
     "text": [
      "norm: l1, distance metric: manhattan\n",
      "\taccuracy on test norm data = 0.9743589743589743\n"
     ]
    }
   ],
   "source": [
    "# best metric is l1 norm with manhattan metric, now report accuracy on test data\n",
    " \n",
    "# create model and train, on train+validation norm\n",
    "clf = KNeighborsClassifier(n_neighbors = 3, metric = 'manhattan')\n",
    "clf.fit(X_train_val_Norm, y_train_val['class']) \n",
    "\n",
    "# report accuracy on test norm data\n",
    "predictions = clf.predict(X_testNorm)\n",
    "print('norm: {}, distance metric: {}'.format('l1', 'manhattan'))\n",
    "print ('\\taccuracy on test norm data = ' + str(np.sum(predictions == y_test['class'])/(len(y_test['class']))))"
   ]
  },
  {
   "cell_type": "markdown",
   "metadata": {},
   "source": [
    "#### Question 3: Train the k-nn model on train data for k=1,3,5,7,9. Report and plot the accuracies on the validation data. Select the best ’k’ value and report the accuracy on the test data for the selected ’k’. Use Euclidean distance. (2 marks)"
   ]
  },
  {
   "cell_type": "code",
   "execution_count": 8,
   "metadata": {},
   "outputs": [
    {
     "name": "stdout",
     "output_type": "stream",
     "text": [
      "k-value: 1, distance metric: euclidean\n",
      "\taccuracy on val norm data = 0.9487179487179487\n",
      "k-value: 3, distance metric: euclidean\n",
      "\taccuracy on val norm data = 0.9230769230769231\n",
      "k-value: 5, distance metric: euclidean\n",
      "\taccuracy on val norm data = 0.9487179487179487\n",
      "k-value: 7, distance metric: euclidean\n",
      "\taccuracy on val norm data = 0.9743589743589743\n",
      "k-value: 9, distance metric: euclidean\n",
      "\taccuracy on val norm data = 0.9487179487179487\n"
     ]
    }
   ],
   "source": [
    "# train model with train data for different values of k and report accuracies on val data\n",
    "\n",
    "# loop over each value of k\n",
    "accuracy_list = []\n",
    "k_values = [1, 3, 5, 7, 9] \n",
    "for k in k_values:\n",
    "    \n",
    "    # create model and train, on train norm data\n",
    "    clf = KNeighborsClassifier(n_neighbors = k, metric = 'euclidean')\n",
    "    clf.fit(X_trainNorm, y_train['class']) \n",
    "    \n",
    "    # report accuracy on validation norm data\n",
    "    predictions = clf.predict(X_valNorm)\n",
    "    print('k-value: {}, distance metric: {}'.format(k, 'euclidean'))\n",
    "    accuracy = np.sum(predictions == y_val['class'])/(len(y_val['class']))\n",
    "    print ('\\taccuracy on val norm data = ' + str(accuracy))\n",
    "    \n",
    "    # save k value and accuracy for plotting\n",
    "    accuracy_list.append(accuracy)"
   ]
  },
  {
   "cell_type": "code",
   "execution_count": 9,
   "metadata": {},
   "outputs": [
    {
     "data": {
      "image/png": "[encoded data removed]",
      "text/plain": [
       "<Figure size 432x288 with 1 Axes>"
      ]
     },
     "metadata": {
      "needs_background": "light"
     },
     "output_type": "display_data"
    }
   ],
   "source": [
    "# plot the accuracies on the validation data\n",
    "plt.scatter(k_values, accuracy_list)\n",
    "plt.plot(k_values, accuracy_list, '--')\n",
    "plt.title('Accuracies on the validation data for different k-values \\n Using Eucledian distance')\n",
    "plt.xlabel('k values (n_neighbors)')\n",
    "plt.ylabel('Accuracy')\n",
    "plt.grid()\n",
    "plt.show()"
   ]
  },
  {
   "cell_type": "code",
   "execution_count": 10,
   "metadata": {},
   "outputs": [
    {
     "name": "stdout",
     "output_type": "stream",
     "text": [
      "k-value: 7, distance metric: euclidean\n",
      "\taccuracy on test norm data = 0.9230769230769231\n"
     ]
    }
   ],
   "source": [
    "# best metric is k-value = 7, now report accuracy on test data\n",
    " \n",
    "# create model and train, on train+validation norm\n",
    "clf = KNeighborsClassifier(n_neighbors = 7, metric = 'euclidean')\n",
    "clf.fit(X_train_val_Norm, y_train_val['class']) \n",
    "\n",
    "# report accuracy on test norm data\n",
    "predictions = clf.predict(X_testNorm)\n",
    "print('k-value: {}, distance metric: {}'.format(7, 'euclidean'))\n",
    "print ('\\taccuracy on test norm data = ' + str(np.sum(predictions == y_test['class'])/(len(y_test['class']))))"
   ]
  },
  {
   "cell_type": "markdown",
   "metadata": {},
   "source": [
    "### 4. Data"
   ]
  },
  {
   "cell_type": "markdown",
   "metadata": {},
   "source": [
    "Download the MNIST train and test data from Canvas (hw2 SP20.zip) along with their corresponding label files. The train and test data consist of 6000 and 1000 binarized MNIST images respectively.\n",
    "\n",
    "Download from: Canvas/Files/Lecture2/hw2 SP20.zip"
   ]
  },
  {
   "cell_type": "code",
   "execution_count": 11,
   "metadata": {},
   "outputs": [],
   "source": [
    "# MNIST train and test data\n",
    "X_train = pd.read_csv('mnist_train_data.csv', header=None)\n",
    "X_test = pd.read_csv('mnist_test_data.csv', header=None)\n",
    "\n",
    "y_train = pd.read_csv('mnist_train_labels.csv', header=None)\n",
    "y_test = pd.read_csv('mnist_test_labels.csv', header=None)"
   ]
  },
  {
   "cell_type": "code",
   "execution_count": 12,
   "metadata": {},
   "outputs": [
    {
     "name": "stdout",
     "output_type": "stream",
     "text": [
      "Number of features: 784\n",
      "Number of labels: 10\n"
     ]
    }
   ],
   "source": [
    "print('Number of features: {}'.format(X_train.shape[1]))\n",
    "print('Number of labels: {}'.format(len(set(y_train.iloc[:,0]))))"
   ]
  },
  {
   "cell_type": "markdown",
   "metadata": {},
   "source": [
    "### 5. Generative Learning"
   ]
  },
  {
   "cell_type": "markdown",
   "metadata": {},
   "source": [
    "Please don’t use the direct function from scikit-learn library for ques- tions 4, 5, 6 and write your own implementation for them.\n",
    "\n",
    "#### Question 4: Compute and report the prior probabilities πj for all labels. (10 marks)"
   ]
  },
  {
   "cell_type": "code",
   "execution_count": 13,
   "metadata": {},
   "outputs": [
    {
     "name": "stdout",
     "output_type": "stream",
     "text": [
      "Prior probabilities for each label 0,1,2,...,9\n",
      "{0: 0.09866666666666667, 1: 0.11183333333333334, 2: 0.09683333333333333, 3: 0.10133333333333333, 4: 0.10383333333333333, 5: 0.08566666666666667, 6: 0.10133333333333333, 7: 0.1085, 8: 0.09183333333333334, 9: 0.10016666666666667}\n"
     ]
    }
   ],
   "source": [
    "# define dictionary for pi_j where j is each label 0,1,2,...,9\n",
    "pi_j = {k:v for (k, v) in zip(range(10), [0]*10)}\n",
    "    \n",
    "# count ocurrences for each label j in the train data \n",
    "for j in y_train.iloc[:,0]:\n",
    "    pi_j[j]+=1\n",
    "    \n",
    "# divide each label count by the total number of entries\n",
    "for j in pi_j.keys():\n",
    "    pi_j[j]/=len(y_train)\n",
    "    \n",
    "# print prior probabilities\n",
    "print('Prior probabilities for each label 0,1,2,...,9')  \n",
    "print(pi_j)"
   ]
  },
  {
   "cell_type": "markdown",
   "metadata": {},
   "source": [
    "#### Question 5: For each pixel Xi and label j, compute Pji = P(Xi = 1|y = j) (Use the maximum likelihood estimate shown in class). Use Laplacian Smoothing for computing Pji. Report the highest Pji for each label j. (15 marks)"
   ]
  },
  {
   "cell_type": "code",
   "execution_count": 14,
   "metadata": {},
   "outputs": [
    {
     "name": "stdout",
     "output_type": "stream",
     "text": [
      "Highest P_ji for each label j\n"
     ]
    },
    {
     "data": {
      "text/plain": [
       "{0: 0.8518518518518519,\n",
       " 1: 0.9851411589895989,\n",
       " 2: 0.7289879931389366,\n",
       " 3: 0.8081967213114755,\n",
       " 4: 0.8496,\n",
       " 5: 0.7112403100775194,\n",
       " 6: 0.8491803278688524,\n",
       " 7: 0.7947932618683001,\n",
       " 8: 0.8752260397830018,\n",
       " 9: 0.867330016583748}"
      ]
     },
     "execution_count": 14,
     "metadata": {},
     "output_type": "execute_result"
    }
   ],
   "source": [
    "# find the number of instances of class j\n",
    "n_j = {k:v for (k, v) in zip(range(10), [0]*10)}\n",
    "for j in y_train.iloc[:,0]:\n",
    "    n_j[j]+=1\n",
    "\n",
    "# loop over every j\n",
    "P_ji = {k:v for (k, v) in zip(range(10), [0]*10)}\n",
    "for j, num_j in n_j.items():\n",
    "    \n",
    "    # only leave x train data for label j\n",
    "    X_train_j = X_train.iloc[y_train[0][y_train[0]==j].index]\n",
    "    \n",
    "    # find the number of instance of class j with Xi = 1\n",
    "    n_ji = np.sum(X_train_j == 1, axis=0)\n",
    "\n",
    "    # use laplace smoothing to compute P_ji = Pr(Xi = 1| y = j)\n",
    "    P_ji[j] = [(num_ji + 1)/(num_j + 2) for num_ji in n_ji]\n",
    "\n",
    "# report highest P_ji for each label j\n",
    "print('Highest P_ji for each label j')\n",
    "{k:max(v) for (k,v) in P_ji.items()}"
   ]
  },
  {
   "cell_type": "markdown",
   "metadata": {},
   "source": [
    "#### Question 6: Use naive bayes (as shown in lecture slides) to classify the test data. Report the accuracy. (5 marks)\n",
    "\n",
    "Note: You can use the scikit-learn functions from Question 7 onwards"
   ]
  },
  {
   "cell_type": "code",
   "execution_count": 15,
   "metadata": {},
   "outputs": [
    {
     "name": "stdout",
     "output_type": "stream",
     "text": [
      "Using naive bayes equations from lecture slides\n",
      "accuracy on test data = 0.809\n"
     ]
    }
   ],
   "source": [
    "# use naive bayes to classify test data\n",
    "y_pred = []\n",
    "for img_idx in range(len(X_test)): # 0 --> 999\n",
    "    \n",
    "    # find the argmax of j for every image\n",
    "    list_ = []\n",
    "    for label in range(10):\n",
    "        \n",
    "        # get binomial array for each image\n",
    "        curr_img = X_test.iloc[img_idx]\n",
    "        \n",
    "        # calculate sum from terms for 0 and 1\n",
    "        term_x1 = curr_img * np.log(P_ji[label])\n",
    "        term_x0 = [1-n for n in curr_img] * np.log([1-n for n in P_ji[label]])\n",
    "        sum_ = sum(term_x1 + term_x0)\n",
    "        \n",
    "        # create temporal list where argmax is found\n",
    "        list_.append(np.log(pi_j[label]) + sum_)\n",
    "    \n",
    "    # classify each label\n",
    "    y_pred.append(list_.index(max(list_)))\n",
    "\n",
    "print('Using naive bayes equations from lecture slides')\n",
    "print ('accuracy on test data = ' + str(np.sum(y_pred == y_test[0])/(len(y_test[0]))))"
   ]
  },
  {
   "cell_type": "code",
   "execution_count": 16,
   "metadata": {},
   "outputs": [
    {
     "name": "stdout",
     "output_type": "stream",
     "text": [
      "Using scikit-learn Multinomial NB\n",
      "accuracy on test data = 0.799\n"
     ]
    }
   ],
   "source": [
    "# compare answer with scikit-learn Multinomial NB\n",
    "clf = MultinomialNB()\n",
    "clf.fit(X_train, y_train[0])\n",
    "predicted = clf.predict(X_test)\n",
    "\n",
    "print('Using scikit-learn Multinomial NB')\n",
    "print ('accuracy on test data = ' + str(np.sum(predicted == y_test[0])/(len(y_test[0]))))"
   ]
  },
  {
   "cell_type": "markdown",
   "metadata": {},
   "source": [
    "#### Question 7: Compute the confusion matrix (as shown in the lectures) and report the top 3 pairs with most (absolute number) incorrect classifications. (10 marks)"
   ]
  },
  {
   "cell_type": "code",
   "execution_count": 17,
   "metadata": {},
   "outputs": [
    {
     "name": "stdout",
     "output_type": "stream",
     "text": [
      "[[ 74   0   0   0   0   5   2   0   4   0]\n",
      " [  0 120   0   0   0   4   1   0   1   0]\n",
      " [  1   7  88   4   0   1   2   3   8   2]\n",
      " [  0   2   1  86   1   6   3   2   3   3]\n",
      " [  1   1   1   0  83   0   2   0   1  21]\n",
      " [  3   1   1  11   2  62   2   3   1   1]\n",
      " [  3   0   4   0   3   4  73   0   0   0]\n",
      " [  0   6   2   0   3   1   0  77   3   7]\n",
      " [  0   2   2   9   4   3   1   2  61   5]\n",
      " [  0   1   0   1   4   0   0   0   3  85]]\n"
     ]
    },
    {
     "data": {
      "image/png": "[encoded data removed]",
      "text/plain": [
       "<Figure size 432x288 with 2 Axes>"
      ]
     },
     "metadata": {
      "needs_background": "light"
     },
     "output_type": "display_data"
    }
   ],
   "source": [
    "def plot_confusion_matrix(cm, classes,\n",
    "                          normalize=False,\n",
    "                          title='Confusion matrix',\n",
    "                          cmap=plt.cm.Blues):\n",
    "    \"\"\"\n",
    "    This function prints and plots the confusion matrix.\n",
    "    Normalization can be applied by setting `normalize=True`.\n",
    "    \"\"\"\n",
    "    plt.imshow(cm, interpolation='nearest', cmap=cmap)\n",
    "    plt.title(title)\n",
    "    plt.colorbar()\n",
    "    tick_marks = np.arange(len(classes))\n",
    "    plt.xticks(tick_marks, classes, rotation=45)\n",
    "    plt.yticks(tick_marks, classes)\n",
    "\n",
    "    print(cm)\n",
    "\n",
    "    thresh = cm.max() / 2.\n",
    "    for i, j in itertools.product(range(cm.shape[0]), range(cm.shape[1])):\n",
    "        plt.text(j, i, cm[i, j],\n",
    "                 horizontalalignment=\"center\",\n",
    "                 color=\"white\" if cm[i, j] > thresh else \"black\")\n",
    "\n",
    "    plt.tight_layout()\n",
    "    plt.ylabel('True label')\n",
    "    plt.xlabel('Predicted label')\n",
    "\n",
    "# compute the confusion matrix\n",
    "cnf_matrix = confusion_matrix(y_test, y_pred)\n",
    "\n",
    "# Plot non-normalized confusion matrix\n",
    "plt.figure()\n",
    "plot_confusion_matrix(cnf_matrix, classes=range(10),\n",
    "                      title='Confusion matrix')\n",
    "\n",
    "plt.show()"
   ]
  },
  {
   "cell_type": "code",
   "execution_count": 18,
   "metadata": {},
   "outputs": [
    {
     "name": "stdout",
     "output_type": "stream",
     "text": [
      "True Label: 4, Predicted Label: 9\n",
      "\tIncorrect Number of Classifications: 21\n",
      "True Label: 5, Predicted Label: 3\n",
      "\tIncorrect Number of Classifications: 11\n",
      "True Label: 8, Predicted Label: 3\n",
      "\tIncorrect Number of Classifications: 9\n"
     ]
    }
   ],
   "source": [
    "# report the top 3 pairs with most (absolute number) incorrect classifications\n",
    "for i,j,k in [(4,9,21),(5,3,11),(8,3,9)]:\n",
    "    print('True Label: {}, Predicted Label: {}'.format(i,j))\n",
    "    print('\\tIncorrect Number of Classifications: {}'.format(k))"
   ]
  },
  {
   "cell_type": "markdown",
   "metadata": {},
   "source": [
    "#### Question 8: Visualizing mistakes: Print two MNIST images from the test data that your classifier misclassified. Write both the true and predicted labels for both of these misclassified digits. (10 marks)"
   ]
  },
  {
   "cell_type": "code",
   "execution_count": 19,
   "metadata": {},
   "outputs": [
    {
     "data": {
      "image/png": "[encoded data removed]",
      "text/plain": [
       "<Figure size 432x288 with 1 Axes>"
      ]
     },
     "metadata": {
      "needs_background": "light"
     },
     "output_type": "display_data"
    },
    {
     "data": {
      "image/png": "[encoded data removed]",
      "text/plain": [
       "<Figure size 432x288 with 1 Axes>"
      ]
     },
     "metadata": {
      "needs_background": "light"
     },
     "output_type": "display_data"
    },
    {
     "data": {
      "image/png": "[encoded data removed]",
      "text/plain": [
       "<Figure size 432x288 with 1 Axes>"
      ]
     },
     "metadata": {
      "needs_background": "light"
     },
     "output_type": "display_data"
    }
   ],
   "source": [
    "# print MNIST images from test data that were misclassified\n",
    "for digit in [4,5,8]:\n",
    "    \n",
    "    # find the indices for the misclassified digits, and just select just one\n",
    "    idx = y_test[(y_test[0]!=y_pred) & (y_test[0] == digit)].index\n",
    "    idX_one = idx[14]\n",
    "\n",
    "    # convert pixel array to image \n",
    "    pixels = np.array(X_test.iloc[idX_one], dtype='uint8')\n",
    "    pixels = pixels.reshape((28, 28))\n",
    "    \n",
    "    # print MNIST true image with true and predicted labels\n",
    "    plt.title('True Label: {}, Predicted Label: {}'.format(y_test[0][idX_one], y_pred[idX_one]))\n",
    "    plt.imshow(pixels, cmap='gray')\n",
    "    plt.show()"
   ]
  },
  {
   "cell_type": "markdown",
   "metadata": {},
   "source": [
    "Now, we will implement Gaussian Mixture Model and Linear Discriminant Anal- ysis on the breast cancer data (sklearn.datasets.load breast cancer) available in sklean.datasets. Load the data and split it into train-validation-test (40-20-40 split). Don’t shuffle the data, otherwise your results will be different."
   ]
  },
  {
   "cell_type": "code",
   "execution_count": 20,
   "metadata": {},
   "outputs": [
    {
     "name": "stdout",
     "output_type": "stream",
     "text": [
      ".. _breast_cancer_dataset:\n",
      "\n",
      "Breast cancer wisconsin (diagnostic) dataset\n",
      "--------------------------------------------\n",
      "\n",
      "**Data Set Characteristics:**\n",
      "\n",
      "    :Number of Instances: 569\n",
      "\n",
      "    :Number of Attributes: 30 numeric, predictive attributes and the class\n",
      "\n",
      "    :Attribute Information:\n",
      "        - radius (mean of distances from center to points on the perimeter)\n",
      "        - texture (standard deviation of gray-scale values)\n",
      "        - perimeter\n",
      "        - area\n",
      "        - smoothness (local variation in radius lengths)\n",
      "        - compactness (perimeter^2 / area - 1.0)\n",
      "        - concavity (severity of concave portions of the contour)\n",
      "        - concave points (number of concave portions of the contour)\n",
      "        - symmetry \n",
      "        - fractal dimension (\"coastline approximation\" - 1)\n",
      "\n",
      "        The mean, standard error, and \"worst\" or largest (mean of the three\n",
      "        largest values) of these features were computed for each image,\n",
      "        resulting in 30 features.  For instance, field 3 is Mean Radius, field\n",
      "        13 is Radius SE, field 23 is Worst Radius.\n",
      "\n",
      "        - class:\n",
      "                - WDBC-Malignant\n",
      "                - WDBC-Benign\n",
      "\n",
      "    :Summary Statistics:\n",
      "\n",
      "    ===================================== ====== ======\n",
      "                                           Min    Max\n",
      "    ===================================== ====== ======\n",
      "    radius (mean):                        6.981  28.11\n",
      "    texture (mean):                       9.71   39.28\n",
      "    perimeter (mean):                     43.79  188.5\n",
      "    area (mean):                          143.5  2501.0\n",
      "    smoothness (mean):                    0.053  0.163\n",
      "    compactness (mean):                   0.019  0.345\n",
      "    concavity (mean):                     0.0    0.427\n",
      "    concave points (mean):                0.0    0.201\n",
      "    symmetry (mean):                      0.106  0.304\n",
      "    fractal dimension (mean):             0.05   0.097\n",
      "    radius (standard error):              0.112  2.873\n",
      "    texture (standard error):             0.36   4.885\n",
      "    perimeter (standard error):           0.757  21.98\n",
      "    area (standard error):                6.802  542.2\n",
      "    smoothness (standard error):          0.002  0.031\n",
      "    compactness (standard error):         0.002  0.135\n",
      "    concavity (standard error):           0.0    0.396\n",
      "    concave points (standard error):      0.0    0.053\n",
      "    symmetry (standard error):            0.008  0.079\n",
      "    fractal dimension (standard error):   0.001  0.03\n",
      "    radius (worst):                       7.93   36.04\n",
      "    texture (worst):                      12.02  49.54\n",
      "    perimeter (worst):                    50.41  251.2\n",
      "    area (worst):                         185.2  4254.0\n",
      "    smoothness (worst):                   0.071  0.223\n",
      "    compactness (worst):                  0.027  1.058\n",
      "    concavity (worst):                    0.0    1.252\n",
      "    concave points (worst):               0.0    0.291\n",
      "    symmetry (worst):                     0.156  0.664\n",
      "    fractal dimension (worst):            0.055  0.208\n",
      "    ===================================== ====== ======\n",
      "\n",
      "    :Missing Attribute Values: None\n",
      "\n",
      "    :Class Distribution: 212 - Malignant, 357 - Benign\n",
      "\n",
      "    :Creator:  Dr. William H. Wolberg, W. Nick Street, Olvi L. Mangasarian\n",
      "\n",
      "    :Donor: Nick Street\n",
      "\n",
      "    :Date: November, 1995\n",
      "\n",
      "This is a copy of UCI ML Breast Cancer Wisconsin (Diagnostic) datasets.\n",
      "https://goo.gl/U2Uwz2\n",
      "\n",
      "Features are computed from a digitized image of a fine needle\n",
      "aspirate (FNA) of a breast mass.  They describe\n",
      "characteristics of the cell nuclei present in the image.\n",
      "\n",
      "Separating plane described above was obtained using\n",
      "Multisurface Method-Tree (MSM-T) [K. P. Bennett, \"Decision Tree\n",
      "Construction Via Linear Programming.\" Proceedings of the 4th\n",
      "Midwest Artificial Intelligence and Cognitive Science Society,\n",
      "pp. 97-101, 1992], a classification method which uses linear\n",
      "programming to construct a decision tree.  Relevant features\n",
      "were selected using an exhaustive search in the space of 1-4\n",
      "features and 1-3 separating planes.\n",
      "\n",
      "The actual linear program used to obtain the separating plane\n",
      "in the 3-dimensional space is that described in:\n",
      "[K. P. Bennett and O. L. Mangasarian: \"Robust Linear\n",
      "Programming Discrimination of Two Linearly Inseparable Sets\",\n",
      "Optimization Methods and Software 1, 1992, 23-34].\n",
      "\n",
      "This database is also available through the UW CS ftp server:\n",
      "\n",
      "ftp ftp.cs.wisc.edu\n",
      "cd math-prog/cpo-dataset/machine-learn/WDBC/\n",
      "\n",
      ".. topic:: References\n",
      "\n",
      "   - W.N. Street, W.H. Wolberg and O.L. Mangasarian. Nuclear feature extraction \n",
      "     for breast tumor diagnosis. IS&T/SPIE 1993 International Symposium on \n",
      "     Electronic Imaging: Science and Technology, volume 1905, pages 861-870,\n",
      "     San Jose, CA, 1993.\n",
      "   - O.L. Mangasarian, W.N. Street and W.H. Wolberg. Breast cancer diagnosis and \n",
      "     prognosis via linear programming. Operations Research, 43(4), pages 570-577, \n",
      "     July-August 1995.\n",
      "   - W.H. Wolberg, W.N. Street, and O.L. Mangasarian. Machine learning techniques\n",
      "     to diagnose breast cancer from fine-needle aspirates. Cancer Letters 77 (1994) \n",
      "     163-171.\n",
      "--------------------------------------------------------------------------------\n",
      "[1.799e+01 1.038e+01 1.228e+02 1.001e+03 1.184e-01 2.776e-01 3.001e-01\n",
      " 1.471e-01 2.419e-01 7.871e-02 1.095e+00 9.053e-01 8.589e+00 1.534e+02\n",
      " 6.399e-03 4.904e-02 5.373e-02 1.587e-02 3.003e-02 6.193e-03 2.538e+01\n",
      " 1.733e+01 1.846e+02 2.019e+03 1.622e-01 6.656e-01 7.119e-01 2.654e-01\n",
      " 4.601e-01 1.189e-01]\n",
      "(569, 30)\n"
     ]
    }
   ],
   "source": [
    "# load the data\n",
    "breast_cancer = load_breast_cancer()\n",
    "x = breast_cancer.data\n",
    "y = breast_cancer.target\n",
    "\n",
    "print(breast_cancer.DESCR)\n",
    "print(\"-\"*80)\n",
    "print(x[0])\n",
    "print(x.shape)"
   ]
  },
  {
   "cell_type": "code",
   "execution_count": 21,
   "metadata": {},
   "outputs": [],
   "source": [
    "# split data into train-validation-test (40-20-40)\n",
    "X_train, X_test, y_train, y_test = train_test_split(x, y, test_size = 0.4, \n",
    "                                                    random_state = 3, shuffle = False)\n",
    "X_train, X_val, y_train, y_val = train_test_split(X_train, y_train, test_size = 1/3, \n",
    "                                                  random_state = 3, shuffle = False)"
   ]
  },
  {
   "cell_type": "code",
   "execution_count": 22,
   "metadata": {},
   "outputs": [
    {
     "name": "stdout",
     "output_type": "stream",
     "text": [
      "train data is: 39.894551845342704%\n",
      "validation data is: 20.035149384885763%\n",
      "test data is: 40.070298769771526%\n"
     ]
    }
   ],
   "source": [
    "# verify the split of data is correct\n",
    "print('train data is: {}%'.format(len(X_train)*100/len(x)))\n",
    "print('validation data is: {}%'.format(len(X_val)*100/len(x)))\n",
    "print('test data is: {}%'.format(len(X_test)*100/len(x)))"
   ]
  },
  {
   "cell_type": "markdown",
   "metadata": {},
   "source": [
    "#### Question 9: Implement Gaussian Mixture model on the data as shown in class. Tune the covariance type parameter on the validation data. Use the selected value to compute the test accuracy. As always, train the model on train+validation data to compute the test accuracy. (10 mark)"
   ]
  },
  {
   "cell_type": "code",
   "execution_count": 23,
   "metadata": {},
   "outputs": [
    {
     "name": "stdout",
     "output_type": "stream",
     "text": [
      "covariance_type = full\n",
      "\tvalidation data accuracy = 0.9122807017543859\n",
      "covariance_type = tied\n",
      "\tvalidation data accuracy = 0.9035087719298246\n",
      "covariance_type = diag\n",
      "\tvalidation data accuracy = 0.9210526315789473\n",
      "covariance_type = spherical\n",
      "\tvalidation data accuracy = 0.9736842105263158\n"
     ]
    }
   ],
   "source": [
    "# use gaussian mixture model and tune covariance type parameter on validation data\n",
    "\n",
    "covariance_params = ['full', 'tied', 'diag', 'spherical'] # type of covariance\n",
    "for cov in covariance_params:\n",
    "    \n",
    "    # model\n",
    "    clf = GaussianMixture(n_components = 2, covariance_type = cov)  \n",
    "    clf.means_init = np.array([X_train[y_train == i].mean(axis = 0) for i in range(2)])\n",
    "\n",
    "    # fit\n",
    "    clf.fit(X_train, y_train)\n",
    "\n",
    "    # predict\n",
    "    pred = clf.predict(X_val)\n",
    "\n",
    "    # evaluate\n",
    "    print('covariance_type = {}'.format(cov))\n",
    "    print ('\\tvalidation data accuracy = ' + str(accuracy_score(y_val, pred)))"
   ]
  },
  {
   "cell_type": "code",
   "execution_count": 24,
   "metadata": {},
   "outputs": [
    {
     "name": "stdout",
     "output_type": "stream",
     "text": [
      "covariance_type = spherical\n",
      "\ttest data accuracy = 0.9385964912280702\n"
     ]
    }
   ],
   "source": [
    "# use \"spherical\" covariance type (highest accuracy on val data) to compute the test accuracy\n",
    "\n",
    "# combine train+validation\n",
    "X_train_val = np.concatenate((X_train, X_val))\n",
    "y_train_val = np.concatenate((y_train, y_val))\n",
    "\n",
    "# model\n",
    "clf = GaussianMixture(n_components = 2, covariance_type = 'spherical')  \n",
    "clf.means_init = np.array([X_train_val[y_train_val == i].mean(axis=0) for i in range(2)])\n",
    "\n",
    "# fit\n",
    "clf.fit(X_train_val, y_train_val)\n",
    "\n",
    "# predict\n",
    "pred = clf.predict(X_test)\n",
    "\n",
    "# evaluate\n",
    "print('covariance_type = {}'.format('spherical'))\n",
    "print ('\\ttest data accuracy = ' + str(accuracy_score(y_test, pred)))"
   ]
  },
  {
   "cell_type": "markdown",
   "metadata": {},
   "source": [
    "#### Question 10: Apply Linear Discriminant Analysis model on the train+validation data and report the accuracy obtained on test data. Report the transformation matrix (w) along with the intercept. (5 mark)"
   ]
  },
  {
   "cell_type": "code",
   "execution_count": 25,
   "metadata": {},
   "outputs": [
    {
     "name": "stdout",
     "output_type": "stream",
     "text": [
      "test accuracy = 0.9736842105263158\n"
     ]
    }
   ],
   "source": [
    "# apply LDA on train+validation data and find test data accuracy\n",
    "\n",
    "# intialize\n",
    "clf = LinearDiscriminantAnalysis()\n",
    "\n",
    "# train\n",
    "clf.fit(X_train_val, y_train_val, )\n",
    "\n",
    "# test\n",
    "y_pred = clf.predict(X_test)\n",
    "\n",
    "# print the accuracy\n",
    "print ('test accuracy = ' + str(np.sum(y_pred == y_test)/len(y_test)))"
   ]
  },
  {
   "cell_type": "code",
   "execution_count": 26,
   "metadata": {},
   "outputs": [
    {
     "name": "stdout",
     "output_type": "stream",
     "text": [
      "weight vector\n",
      "[ 5.33168485e+00 -2.12956799e-01 -6.01033070e-01 -8.89253348e-03\n",
      " -5.44754548e+01  7.43535846e+01 -4.97920818e+00 -3.41702295e+01\n",
      "  1.73163730e+01 -4.44714556e+01 -8.41409536e+00 -2.52828683e-01\n",
      "  5.78531220e-01  1.05895668e-02 -2.80550309e+02 -2.62778874e+00\n",
      "  4.25991726e+01 -1.67347238e+02  1.26610355e+01  2.01114643e+02\n",
      " -3.54374333e+00 -7.21909964e-02 -5.53734899e-02  2.39371964e-02\n",
      "  1.38875560e+01  1.03981200e+00 -6.05644948e+00 -1.47646877e+01\n",
      " -1.62743163e+01 -8.04669707e+01]\n",
      "\n",
      "intercept\n",
      "[50.95842876]\n"
     ]
    }
   ],
   "source": [
    "# transformation matrix and intercept\n",
    "print('weight vector')\n",
    "print(clf.coef_[0])\n",
    "\n",
    "print('\\nintercept')\n",
    "print(clf.intercept_)"
   ]
  },
  {
   "cell_type": "markdown",
   "metadata": {},
   "source": [
    "### 6. Evaluating Classifiers"
   ]
  },
  {
   "cell_type": "markdown",
   "metadata": {},
   "source": [
    "#### Question 11: Load sklearn’s digits dataset (sklearn.datasets.load digits) and take the last 1300 samples as your test set. Train a K-Nearest Neighbor (k=5, linf distance) model and then without using any scikit-learn method, report the final values for Specificity, Sensitivity, TPR, TNR, FNR, FPR, Precision and Recall for Digit 3 (this digit is a positive, everything else is a negative). (15 marks)"
   ]
  },
  {
   "cell_type": "code",
   "execution_count": 27,
   "metadata": {},
   "outputs": [
    {
     "name": "stdout",
     "output_type": "stream",
     "text": [
      ".. _digits_dataset:\n",
      "\n",
      "Optical recognition of handwritten digits dataset\n",
      "--------------------------------------------------\n",
      "\n",
      "**Data Set Characteristics:**\n",
      "\n",
      "    :Number of Instances: 5620\n",
      "    :Number of Attributes: 64\n",
      "    :Attribute Information: 8x8 image of integer pixels in the range 0..16.\n",
      "    :Missing Attribute Values: None\n",
      "    :Creator: E. Alpaydin (alpaydin '@' boun.edu.tr)\n",
      "    :Date: July; 1998\n",
      "\n",
      "This is a copy of the test set of the UCI ML hand-written digits datasets\n",
      "http://archive.ics.uci.edu/ml/datasets/Optical+Recognition+of+Handwritten+Digits\n",
      "\n",
      "The data set contains images of hand-written digits: 10 classes where\n",
      "each class refers to a digit.\n",
      "\n",
      "Preprocessing programs made available by NIST were used to extract\n",
      "normalized bitmaps of handwritten digits from a preprinted form. From a\n",
      "total of 43 people, 30 contributed to the training set and different 13\n",
      "to the test set. 32x32 bitmaps are divided into nonoverlapping blocks of\n",
      "4x4 and the number of on pixels are counted in each block. This generates\n",
      "an input matrix of 8x8 where each element is an integer in the range\n",
      "0..16. This reduces dimensionality and gives invariance to small\n",
      "distortions.\n",
      "\n",
      "For info on NIST preprocessing routines, see M. D. Garris, J. L. Blue, G.\n",
      "T. Candela, D. L. Dimmick, J. Geist, P. J. Grother, S. A. Janet, and C.\n",
      "L. Wilson, NIST Form-Based Handprint Recognition System, NISTIR 5469,\n",
      "1994.\n",
      "\n",
      ".. topic:: References\n",
      "\n",
      "  - C. Kaynak (1995) Methods of Combining Multiple Classifiers and Their\n",
      "    Applications to Handwritten Digit Recognition, MSc Thesis, Institute of\n",
      "    Graduate Studies in Science and Engineering, Bogazici University.\n",
      "  - E. Alpaydin, C. Kaynak (1998) Cascading Classifiers, Kybernetika.\n",
      "  - Ken Tang and Ponnuthurai N. Suganthan and Xi Yao and A. Kai Qin.\n",
      "    Linear dimensionalityreduction using relevance weighted LDA. School of\n",
      "    Electrical and Electronic Engineering Nanyang Technological University.\n",
      "    2005.\n",
      "  - Claudio Gentile. A New Approximate Maximal Margin Classification\n",
      "    Algorithm. NIPS. 2000.\n",
      "--------------------------------------------------------------------------------\n",
      "[ 0.  0.  5. 13.  9.  1.  0.  0.  0.  0. 13. 15. 10. 15.  5.  0.  0.  3.\n",
      " 15.  2.  0. 11.  8.  0.  0.  4. 12.  0.  0.  8.  8.  0.  0.  5.  8.  0.\n",
      "  0.  9.  8.  0.  0.  4. 11.  0.  1. 12.  7.  0.  0.  2. 14.  5. 10. 12.\n",
      "  0.  0.  0.  0.  6. 13. 10.  0.  0.  0.]\n",
      "(1797, 64)\n"
     ]
    }
   ],
   "source": [
    "# read data\n",
    "digits = load_digits()\n",
    "x = digits.data\n",
    "y = digits.target\n",
    "\n",
    "print(digits.DESCR)\n",
    "print(\"-\"*80)\n",
    "print(x[0])\n",
    "print(x.shape)"
   ]
  },
  {
   "cell_type": "code",
   "execution_count": 28,
   "metadata": {},
   "outputs": [],
   "source": [
    "# define train and test datasets\n",
    "X_train = x[:-1300]\n",
    "y_train = y[:-1300]\n",
    "\n",
    "X_test = x[-1300:]\n",
    "y_test = y[-1300:]\n",
    "\n",
    "# transform labels to binary, (+1 when digit is 3, -1 otherwise)\n",
    "y_train = [1 if i == 3 else -1 for i in y_train]\n",
    "y_test = [1 if i == 3 else -1 for i in y_test]"
   ]
  },
  {
   "cell_type": "code",
   "execution_count": 29,
   "metadata": {},
   "outputs": [
    {
     "name": "stdout",
     "output_type": "stream",
     "text": [
      "train data accuracy: 0.9959758551307847\n",
      "test data accuracy: 0.9784615384615385\n"
     ]
    }
   ],
   "source": [
    "# use KNN classifier\n",
    "classifier = KNeighborsClassifier(n_neighbors = 5, metric = 'chebyshev')\n",
    "\n",
    "# use model to predict\n",
    "model = classifier.fit(X_train, y_train)\n",
    "pred_train = model.predict(X_train)\n",
    "pred_test = model.predict(X_test)\n",
    "\n",
    "# report accuracy on test data\n",
    "print('train data accuracy: {}'.format(accuracy_score(pred_train, y_train)))\n",
    "print('test data accuracy: {}'.format(accuracy_score(pred_test, y_test)))"
   ]
  },
  {
   "cell_type": "code",
   "execution_count": 30,
   "metadata": {},
   "outputs": [
    {
     "name": "stdout",
     "output_type": "stream",
     "text": [
      "Evaluation metrics for digit 3 on test data:\n",
      "\n",
      "TP = 110, TN = 1162, FP = 8, FN = 20, P = 130, N = 1170\n",
      "\n",
      "FNR = 0.15384615384615385\n",
      "FPR = 0.006837606837606838\n",
      "Specificity or TNR = 0.9931623931623932\n",
      "Sensitivity or TPR or Recall = 0.8461538461538461\n",
      "Precision = 0.9322033898305084\n",
      "Accuracy = 0.9784615384615385\n"
     ]
    }
   ],
   "source": [
    "# report the final values for Specificity, Sensitivity, TPR, TNR, FNR, FPR, Precision and Recall \n",
    "#for Digit 3 (this digit is a positive, everything else is a negative)\n",
    "\n",
    "# calculate confusion matrix TP, FP, TP, FP\n",
    "TP = sum([i == j for i,j in zip(y_test, pred_test) if i == 1 and j == 1])\n",
    "TN = sum([i == j for i,j in zip(y_test, pred_test) if i == -1 and j == -1])\n",
    "FP = sum([i != j for i,j in zip(y_test, pred_test) if i == -1 and j == 1])\n",
    "FN = sum([i != j for i,j in zip(y_test, pred_test) if i == 1 and j == -1])\n",
    "P = sum([i == 1 for i in y_test])\n",
    "N = sum([i == -1 for i in y_test])\n",
    "\n",
    "# compute evaulation metrics and report them\n",
    "\n",
    "print('Evaluation metrics for digit 3 on test data:')\n",
    "print('\\nTP = {}, TN = {}, FP = {}, FN = {}, P = {}, N = {}'.format(TP, TN, FP, FN, P, N))\n",
    "\n",
    "print('\\nFNR = {}'.format(FN / (TP + FN)))\n",
    "print('FPR = {}'.format(FP / (TN + FP)))\n",
    "print('Specificity or TNR = {}'.format(TN / (TN + FP)))\n",
    "print('Sensitivity or TPR or Recall = {}'.format(TP / (TP + FN)))\n",
    "print('Precision = {}'.format(TP / (TP + FP)))\n",
    "print('Accuracy = {}'.format((TP + TN) / (P + N)))"
   ]
  },
  {
   "cell_type": "code",
   "execution_count": 31,
   "metadata": {},
   "outputs": [
    {
     "name": "stdout",
     "output_type": "stream",
     "text": [
      "[[1162    8]\n",
      " [  20  110]]\n"
     ]
    },
    {
     "data": {
      "image/png": "[encoded data removed]",
      "text/plain": [
       "<Figure size 432x288 with 2 Axes>"
      ]
     },
     "metadata": {
      "needs_background": "light"
     },
     "output_type": "display_data"
    }
   ],
   "source": [
    "# Compute confusion matrix to confirm the result from above\n",
    "cnf_matrix = confusion_matrix(y_test, pred_test)\n",
    "\n",
    "# Plot non-normalized confusion matrix\n",
    "plt.figure()\n",
    "plot_confusion_matrix(cnf_matrix, classes=[-1,1],\n",
    "                      title='Confusion matrix')\n",
    "\n",
    "plt.show()"
   ]
  },
  {
   "cell_type": "markdown",
   "metadata": {},
   "source": [
    "### 7. Regression"
   ]
  },
  {
   "cell_type": "markdown",
   "metadata": {},
   "source": [
    "An ablation experiment consists of removing one feature from an experiment, in order to assess the amount of additional information that feature provides above and beyond the others. For this section, we will use the diabetes dataset from scikit-learn’s toy datasets. Split the data into training and testing data as a 90-10 split with random state of 10."
   ]
  },
  {
   "cell_type": "code",
   "execution_count": 32,
   "metadata": {},
   "outputs": [
    {
     "name": "stdout",
     "output_type": "stream",
     "text": [
      ".. _diabetes_dataset:\n",
      "\n",
      "Diabetes dataset\n",
      "----------------\n",
      "\n",
      "Ten baseline variables, age, sex, body mass index, average blood\n",
      "pressure, and six blood serum measurements were obtained for each of n =\n",
      "442 diabetes patients, as well as the response of interest, a\n",
      "quantitative measure of disease progression one year after baseline.\n",
      "\n",
      "**Data Set Characteristics:**\n",
      "\n",
      "  :Number of Instances: 442\n",
      "\n",
      "  :Number of Attributes: First 10 columns are numeric predictive values\n",
      "\n",
      "  :Target: Column 11 is a quantitative measure of disease progression one year after baseline\n",
      "\n",
      "  :Attribute Information:\n",
      "      - Age\n",
      "      - Sex\n",
      "      - Body mass index\n",
      "      - Average blood pressure\n",
      "      - S1\n",
      "      - S2\n",
      "      - S3\n",
      "      - S4\n",
      "      - S5\n",
      "      - S6\n",
      "\n",
      "Note: Each of these 10 feature variables have been mean centered and scaled by the standard deviation times `n_samples` (i.e. the sum of squares of each column totals 1).\n",
      "\n",
      "Source URL:\n",
      "http://www4.stat.ncsu.edu/~boos/var.select/diabetes.html\n",
      "\n",
      "For more information see:\n",
      "Bradley Efron, Trevor Hastie, Iain Johnstone and Robert Tibshirani (2004) \"Least Angle Regression,\" Annals of Statistics (with discussion), 407-499.\n",
      "(http://web.stanford.edu/~hastie/Papers/LARS/LeastAngle_2002.pdf)\n",
      "--------------------------------------------------------------------------------\n",
      "[ 0.03807591  0.05068012  0.06169621  0.02187235 -0.0442235  -0.03482076\n",
      " -0.04340085 -0.00259226  0.01990842 -0.01764613]\n",
      "(442, 10)\n"
     ]
    }
   ],
   "source": [
    "# load diabetes dataset from scikit-learn's toy dataset\n",
    "diabetes = load_diabetes()\n",
    "x = diabetes.data\n",
    "y = diabetes.target\n",
    "\n",
    "print(diabetes.DESCR)\n",
    "print(\"-\"*80)\n",
    "print(x[0])\n",
    "print(x.shape)"
   ]
  },
  {
   "cell_type": "code",
   "execution_count": 33,
   "metadata": {},
   "outputs": [],
   "source": [
    "# split data into train-test (90-10)\n",
    "X_train, X_test, y_train, y_test = train_test_split(x, y, test_size = 0.1, random_state = 10)"
   ]
  },
  {
   "cell_type": "code",
   "execution_count": 34,
   "metadata": {},
   "outputs": [
    {
     "name": "stdout",
     "output_type": "stream",
     "text": [
      "train data is: 89.81900452488688%\n",
      "test data is: 10.180995475113122%\n"
     ]
    }
   ],
   "source": [
    "# verify the split of data is correct\n",
    "print('train data is: {}%'.format(len(X_train)*100/len(x)))\n",
    "print('test data is: {}%'.format(len(X_test)*100/len(x)))"
   ]
  },
  {
   "cell_type": "markdown",
   "metadata": {},
   "source": [
    "#### Question 12: Perform least squares regression on this dataset. Report the mean squared error and the mean absolute error on the test data. (5 marks)"
   ]
  },
  {
   "cell_type": "code",
   "execution_count": 35,
   "metadata": {},
   "outputs": [],
   "source": [
    "# apply least squares regression on trainning data\n",
    "theta,residuals,rank,s = np.linalg.lstsq(X_train, y_train)"
   ]
  },
  {
   "cell_type": "code",
   "execution_count": 36,
   "metadata": {},
   "outputs": [
    {
     "name": "stdout",
     "output_type": "stream",
     "text": [
      "10\n",
      "[1.91278384 1.14679608 1.0475563  0.92375493 0.76298714 0.72860172\n",
      " 0.69771063 0.62469455 0.26547165 0.08860349]\n"
     ]
    }
   ],
   "source": [
    "# show rank and singular values\n",
    "print(rank)\n",
    "print(s)"
   ]
  },
  {
   "cell_type": "code",
   "execution_count": 37,
   "metadata": {},
   "outputs": [],
   "source": [
    "# make predictions on the testing data, lets see training error as well\n",
    "y_train_pred = np.dot(X_train, theta) \n",
    "y_test_pred = np.dot(X_test, theta)"
   ]
  },
  {
   "cell_type": "code",
   "execution_count": 38,
   "metadata": {},
   "outputs": [
    {
     "name": "stdout",
     "output_type": "stream",
     "text": [
      "MSE for train data: 25835.24616748783\n",
      "MSE for test data: 28060.622559310537\n"
     ]
    }
   ],
   "source": [
    "# report the mean squared error (MSE) on the test data\n",
    "print('MSE for train data: {}'.format(mean_squared_error(y_train, y_train_pred)))\n",
    "print('MSE for test data: {}'.format(mean_squared_error(y_test, y_test_pred)))"
   ]
  },
  {
   "cell_type": "code",
   "execution_count": 39,
   "metadata": {},
   "outputs": [
    {
     "name": "stdout",
     "output_type": "stream",
     "text": [
      "MAE for train data: 151.1654348701378\n",
      "MAE for test data: 160.8439534334583\n"
     ]
    }
   ],
   "source": [
    "# report the mean absolute error (MAE) on the test data\n",
    "print('MAE for train data: {}'.format(mean_absolute_error(y_train, y_train_pred)))\n",
    "print('MAE for test data: {}'.format(mean_absolute_error(y_test, y_test_pred)))"
   ]
  },
  {
   "cell_type": "markdown",
   "metadata": {},
   "source": [
    "#### Question 13: Repeat the experiment from Question 9 for all possible values of ablation (i.e., removing the feature 1 only, then removing the feature 2 only, and so on). Report all MSEs. (10 marks)"
   ]
  },
  {
   "cell_type": "code",
   "execution_count": 40,
   "metadata": {},
   "outputs": [
    {
     "name": "stdout",
     "output_type": "stream",
     "text": [
      "Removing the feature 0 only\n",
      "\tMSE for train data: 25835.456145729608\n",
      "\tMSE for test data: 28062.711822238078\n",
      "Removing the feature 1 only\n",
      "\tMSE for train data: 25963.509410892115\n",
      "\tMSE for test data: 27936.317900620532\n",
      "Removing the feature 2 only\n",
      "\tMSE for train data: 26117.78113034645\n",
      "\tMSE for test data: 29481.631561162365\n",
      "Removing the feature 3 only\n",
      "\tMSE for train data: 25932.067639245513\n",
      "\tMSE for test data: 28762.573222191175\n",
      "Removing the feature 4 only\n",
      "\tMSE for train data: 25837.2062805149\n",
      "\tMSE for test data: 28159.085211182188\n",
      "Removing the feature 5 only\n",
      "\tMSE for train data: 25837.11626632769\n",
      "\tMSE for test data: 28123.775325632363\n",
      "Removing the feature 6 only\n",
      "\tMSE for train data: 25849.17168725327\n",
      "\tMSE for test data: 27710.698098097313\n",
      "Removing the feature 7 only\n",
      "\tMSE for train data: 25835.828130257145\n",
      "\tMSE for test data: 28006.79649746867\n",
      "Removing the feature 8 only\n",
      "\tMSE for train data: 25920.1352209274\n",
      "\tMSE for test data: 28512.722055593065\n",
      "Removing the feature 9 only\n",
      "\tMSE for train data: 25846.88235000444\n",
      "\tMSE for test data: 28017.248647620938\n"
     ]
    }
   ],
   "source": [
    "# perform ablation experiment by removing every features one at a time\n",
    "No_features = X_train.shape[1]\n",
    "MSE_test_list = []\n",
    "for f in range(No_features):\n",
    "\n",
    "    # remove feature from training and test data\n",
    "    feature_list = list(range(No_features)) \n",
    "    feature_list.remove(f) # remove only one features\n",
    "    X_train_temp = X_train[:, feature_list]\n",
    "    X_test_temp = X_test[:, feature_list]\n",
    "    \n",
    "    # least squares\n",
    "    theta,residuals,rank,s = np.linalg.lstsq(X_train_temp, y_train)\n",
    "    \n",
    "    # make predictions\n",
    "    y_train_pred = np.dot(X_train_temp, theta) \n",
    "    y_test_pred = np.dot(X_test_temp, theta)\n",
    "    \n",
    "    # report the mean squared error MSEs for train and test data\n",
    "    print('Removing the feature {} only'.format(f))\n",
    "    print('\\tMSE for train data: {}'.format(mean_squared_error(y_train, y_train_pred)))\n",
    "    MSE_test = mean_squared_error(y_test, y_test_pred)\n",
    "    print('\\tMSE for test data: {}'.format(MSE_test))\n",
    "    MSE_test_list.append(MSE_test)"
   ]
  },
  {
   "cell_type": "markdown",
   "metadata": {},
   "source": [
    "#### Question 14: Based on the MSE values obtained from Question 10, which fea- tures do you deem the most/least significant and why? (5 marks)"
   ]
  },
  {
   "cell_type": "code",
   "execution_count": 41,
   "metadata": {},
   "outputs": [
    {
     "data": {
      "image/png": "[encoded data removed]",
      "text/plain": [
       "<Figure size 648x432 with 1 Axes>"
      ]
     },
     "metadata": {
      "needs_background": "light"
     },
     "output_type": "display_data"
    }
   ],
   "source": [
    "# plot the MSE values obtained\n",
    "plt.figure(figsize = (9, 6))\n",
    "plt.scatter(range(10), MSE_test_list)\n",
    "plt.title('Ablation Experiment: MSEs for test data when removing one feature at a time')\n",
    "plt.xlabel('Removed feature index')\n",
    "plt.ylabel('Mean Squared Error (on Test data)')\n",
    "plt.xticks(range(10))\n",
    "plt.grid()\n",
    "plt.show()"
   ]
  },
  {
   "cell_type": "markdown",
   "metadata": {},
   "source": [
    "#### Answer (Q14):\n",
    "\n",
    "As shown in the scatter plot above, feature 2 is the most significant because when removed the MSE goes up to ~29481, while on the other hand, feature 6 seems to be the least significant as the MSE drops to ~27710 when removed. These observations are based on testing data MSE values. "
   ]
  },
  {
   "cell_type": "markdown",
   "metadata": {},
   "source": [
    "### 8. Logistic Regression"
   ]
  },
  {
   "cell_type": "markdown",
   "metadata": {},
   "source": [
    "For the following question use the wine dataset (wine original.csv). Download the file from Canvas (hw2 SP20.zip)\n",
    "\n",
    "Download from: Canvas/Files/Lecture2/hw2 SP20.zip"
   ]
  },
  {
   "cell_type": "code",
   "execution_count": 42,
   "metadata": {},
   "outputs": [
    {
     "data": {
      "text/html": [
       "<div>\n",
       "<style scoped>\n",
       "    .dataframe tbody tr th:only-of-type {\n",
       "        vertical-align: middle;\n",
       "    }\n",
       "\n",
       "    .dataframe tbody tr th {\n",
       "        vertical-align: top;\n",
       "    }\n",
       "\n",
       "    .dataframe thead th {\n",
       "        text-align: right;\n",
       "    }\n",
       "</style>\n",
       "<table border=\"1\" class=\"dataframe\">\n",
       "  <thead>\n",
       "    <tr style=\"text-align: right;\">\n",
       "      <th></th>\n",
       "      <th>class</th>\n",
       "      <th>Alcohol</th>\n",
       "      <th>Malic acid</th>\n",
       "      <th>Ash</th>\n",
       "      <th>Alcalinity of ash</th>\n",
       "      <th>Magnesium</th>\n",
       "      <th>Total phenols</th>\n",
       "      <th>Flavanoids</th>\n",
       "      <th>Nonflavanoid phenols</th>\n",
       "      <th>Proanthocyanins</th>\n",
       "      <th>Color intensity</th>\n",
       "      <th>Hue</th>\n",
       "      <th>OD280/OD315</th>\n",
       "      <th>Proline</th>\n",
       "    </tr>\n",
       "  </thead>\n",
       "  <tbody>\n",
       "    <tr>\n",
       "      <th>0</th>\n",
       "      <td>1</td>\n",
       "      <td>14.23</td>\n",
       "      <td>1.71</td>\n",
       "      <td>2.43</td>\n",
       "      <td>15.6</td>\n",
       "      <td>127</td>\n",
       "      <td>2.80</td>\n",
       "      <td>3.06</td>\n",
       "      <td>0.28</td>\n",
       "      <td>2.29</td>\n",
       "      <td>5.64</td>\n",
       "      <td>1.04</td>\n",
       "      <td>3.92</td>\n",
       "      <td>1065</td>\n",
       "    </tr>\n",
       "    <tr>\n",
       "      <th>1</th>\n",
       "      <td>1</td>\n",
       "      <td>13.20</td>\n",
       "      <td>1.78</td>\n",
       "      <td>2.14</td>\n",
       "      <td>11.2</td>\n",
       "      <td>100</td>\n",
       "      <td>2.65</td>\n",
       "      <td>2.76</td>\n",
       "      <td>0.26</td>\n",
       "      <td>1.28</td>\n",
       "      <td>4.38</td>\n",
       "      <td>1.05</td>\n",
       "      <td>3.40</td>\n",
       "      <td>1050</td>\n",
       "    </tr>\n",
       "    <tr>\n",
       "      <th>2</th>\n",
       "      <td>1</td>\n",
       "      <td>13.16</td>\n",
       "      <td>2.36</td>\n",
       "      <td>2.67</td>\n",
       "      <td>18.6</td>\n",
       "      <td>101</td>\n",
       "      <td>2.80</td>\n",
       "      <td>3.24</td>\n",
       "      <td>0.30</td>\n",
       "      <td>2.81</td>\n",
       "      <td>5.68</td>\n",
       "      <td>1.03</td>\n",
       "      <td>3.17</td>\n",
       "      <td>1185</td>\n",
       "    </tr>\n",
       "    <tr>\n",
       "      <th>3</th>\n",
       "      <td>1</td>\n",
       "      <td>14.37</td>\n",
       "      <td>1.95</td>\n",
       "      <td>2.50</td>\n",
       "      <td>16.8</td>\n",
       "      <td>113</td>\n",
       "      <td>3.85</td>\n",
       "      <td>3.49</td>\n",
       "      <td>0.24</td>\n",
       "      <td>2.18</td>\n",
       "      <td>7.80</td>\n",
       "      <td>0.86</td>\n",
       "      <td>3.45</td>\n",
       "      <td>1480</td>\n",
       "    </tr>\n",
       "    <tr>\n",
       "      <th>4</th>\n",
       "      <td>1</td>\n",
       "      <td>13.24</td>\n",
       "      <td>2.59</td>\n",
       "      <td>2.87</td>\n",
       "      <td>21.0</td>\n",
       "      <td>118</td>\n",
       "      <td>2.80</td>\n",
       "      <td>2.69</td>\n",
       "      <td>0.39</td>\n",
       "      <td>1.82</td>\n",
       "      <td>4.32</td>\n",
       "      <td>1.04</td>\n",
       "      <td>2.93</td>\n",
       "      <td>735</td>\n",
       "    </tr>\n",
       "  </tbody>\n",
       "</table>\n",
       "</div>"
      ],
      "text/plain": [
       "   class  Alcohol  Malic acid   Ash  Alcalinity of ash  Magnesium  \\\n",
       "0      1    14.23        1.71  2.43               15.6        127   \n",
       "1      1    13.20        1.78  2.14               11.2        100   \n",
       "2      1    13.16        2.36  2.67               18.6        101   \n",
       "3      1    14.37        1.95  2.50               16.8        113   \n",
       "4      1    13.24        2.59  2.87               21.0        118   \n",
       "\n",
       "   Total phenols  Flavanoids  Nonflavanoid phenols  Proanthocyanins  \\\n",
       "0           2.80        3.06                  0.28             2.29   \n",
       "1           2.65        2.76                  0.26             1.28   \n",
       "2           2.80        3.24                  0.30             2.81   \n",
       "3           3.85        3.49                  0.24             2.18   \n",
       "4           2.80        2.69                  0.39             1.82   \n",
       "\n",
       "   Color intensity   Hue  OD280/OD315  Proline  \n",
       "0             5.64  1.04         3.92     1065  \n",
       "1             4.38  1.05         3.40     1050  \n",
       "2             5.68  1.03         3.17     1185  \n",
       "3             7.80  0.86         3.45     1480  \n",
       "4             4.32  1.04         2.93      735  "
      ]
     },
     "execution_count": 42,
     "metadata": {},
     "output_type": "execute_result"
    }
   ],
   "source": [
    "# read wine dataset\n",
    "wine_data = pd.read_csv('wine_original.csv')\n",
    "wine_data.head()"
   ]
  },
  {
   "cell_type": "code",
   "execution_count": 43,
   "metadata": {},
   "outputs": [],
   "source": [
    "# define features and labels \n",
    "x = wine_data.drop(['class'], axis = 1)\n",
    "y = wine_data['class']"
   ]
  },
  {
   "cell_type": "markdown",
   "metadata": {},
   "source": [
    "#### Question 15: Perform a 80-20 split using train test split on the data to ob- tain the train and the test data. Set random state = 3 while performing the train test split. Use Logistic Regression to classify the wines according to their cultivators. Tune the classifier using Lasso and Ridge regularization techniques under different values of ‘C’ using GridSearchCV. Clearly report the parameters of the best classifier and the accuracy on the test data. (10 marks)."
   ]
  },
  {
   "cell_type": "code",
   "execution_count": 44,
   "metadata": {},
   "outputs": [
    {
     "name": "stdout",
     "output_type": "stream",
     "text": [
      "train data is: 79.7752808988764%\n",
      "test data is: 20.224719101123597%\n"
     ]
    }
   ],
   "source": [
    "# split data into train-test (80-20)\n",
    "X_train, X_test, y_train, y_test = train_test_split(x, y, test_size = 0.2, random_state = 3)\n",
    "\n",
    "# verify the split of data is correct\n",
    "print('train data is: {}%'.format(len(X_train)*100/len(x)))\n",
    "print('test data is: {}%'.format(len(X_test)*100/len(x)))"
   ]
  },
  {
   "cell_type": "code",
   "execution_count": 45,
   "metadata": {},
   "outputs": [],
   "source": [
    "# normalize X_train and X_test\n",
    "mu_train = X_train.mean(axis = 0)\n",
    "std_train = X_train.std(axis = 0)\n",
    "\n",
    "X_trainNorm = X_train.apply(lambda x: (x-mu_train)/std_train, axis = 1)\n",
    "X_testNorm = X_test.apply(lambda x: (x-mu_train)/std_train, axis = 1)"
   ]
  },
  {
   "cell_type": "code",
   "execution_count": 46,
   "metadata": {},
   "outputs": [
    {
     "name": "stdout",
     "output_type": "stream",
     "text": [
      "Fitting 3 folds for each of 16 candidates, totalling 48 fits\n"
     ]
    },
    {
     "name": "stderr",
     "output_type": "stream",
     "text": [
      "[Parallel(n_jobs=-1)]: Using backend LokyBackend with 4 concurrent workers.\n"
     ]
    },
    {
     "name": "stdout",
     "output_type": "stream",
     "text": [
      "Selected Parameters:  {'C': 1, 'penalty': 'l1'}\n",
      "Training Accuracy = 1.0\n",
      "Test Accuracy = 0.9444444444444444\n"
     ]
    },
    {
     "name": "stderr",
     "output_type": "stream",
     "text": [
      "[Parallel(n_jobs=-1)]: Done  41 out of  48 | elapsed:    3.4s remaining:    0.6s\n",
      "[Parallel(n_jobs=-1)]: Done  48 out of  48 | elapsed:    3.4s finished\n"
     ]
    }
   ],
   "source": [
    "# use logistic regression to classify wines, perform GridSearchCV. Use normalized data\n",
    "\n",
    "# tune with Lasso and Ridge regularization, and different values of C\n",
    "parameters = { 'penalty': ['l1','l2'], 'C':[0.1, 0.5, 1, 2, 3, 4, 5, 10]} # l1: Lasso, l2: Ridge Regression\n",
    "\n",
    "# model\n",
    "logreg = LogisticRegression()\n",
    "\n",
    "# perform grid search\n",
    "clf = GridSearchCV(logreg, parameters, verbose=True, n_jobs=-1)\n",
    "clf.fit(X_trainNorm, y_train)\n",
    "\n",
    "# get predictions\n",
    "y_pred = clf.predict(X_testNorm)\n",
    "\n",
    "# find train and test accuracy\n",
    "accuracy = accuracy_score(y_pred, y_test)\n",
    "train_acc = accuracy_score(clf.predict(X_trainNorm), y_train)\n",
    "\n",
    "# report parameters of the best classifier\n",
    "print ('Selected Parameters: ', clf.best_params_)\n",
    "print ('Training Accuracy = ' + str(train_acc))\n",
    "print ('Test Accuracy = ' + str(accuracy))"
   ]
  },
  {
   "cell_type": "code",
   "execution_count": null,
   "metadata": {},
   "outputs": [],
   "source": []
  }
 ],
 "metadata": {
  "kernelspec": {
   "display_name": "Python 3",
   "language": "python",
   "name": "python3"
  },
  "language_info": {
   "codemirror_mode": {
    "name": "ipython",
    "version": 3
   },
   "file_extension": ".py",
   "mimetype": "text/x-python",
   "name": "python",
   "nbconvert_exporter": "python",
   "pygments_lexer": "ipython3",
   "version": "3.7.7"
  }
 },
 "nbformat": 4,
 "nbformat_minor": 2
}
