{
 "cells": [
  {
   "cell_type": "markdown",
   "metadata": {},
   "source": [
    "# Decision Trees Practice Prob"
   ]
  },
  {
   "cell_type": "markdown",
   "metadata": {},
   "source": [
    "In this exercise you will use the iris dataset from scikit-learn dataset to perform multiclass classification.  \n",
    "For simplicity consider using only the first 2 features (_septal length_, _septal width_).\n",
    "\n",
    "### Things to do:\n",
    "1. Load the dataset\n",
    "2. Split the dataset into train/test/validation sets ( suggested: 60%, 20%, 20% )\n",
    "3. Fit a DecisionTree to the dataset\n",
    "4. Tune the `min_samples_leaf` parameter to find the best fit\n",
    "5. Report the accuracy of the classifier on train and test data"
   ]
  },
  {
   "cell_type": "code",
   "execution_count": 2,
   "metadata": {
    "ExecuteTime": {
     "end_time": "2019-04-05T07:41:08.818054Z",
     "start_time": "2019-04-05T07:41:08.509560Z"
    }
   },
   "outputs": [],
   "source": [
    "from sklearn import datasets\n",
    "from sklearn.model_selection import train_test_split\n",
    "from sklearn.tree import DecisionTreeClassifier, export_graphviz\n",
    "import pydotplus \n",
    "from IPython.display import Image\n",
    "import pandas as pd\n",
    "\n",
    "# import other libraries as needed"
   ]
  },
  {
   "cell_type": "code",
   "execution_count": 3,
   "metadata": {
    "ExecuteTime": {
     "end_time": "2019-04-05T07:41:09.503465Z",
     "start_time": "2019-04-05T07:41:09.487466Z"
    }
   },
   "outputs": [],
   "source": [
    "def visualizeTree(clf, feature_names, target_names):\n",
    "    dot_data = export_graphviz(clf, out_file=None, \n",
    "                         feature_names=feature_names,  \n",
    "                         class_names=target_names,  \n",
    "                         filled=True, rounded=True,  \n",
    "                         special_characters=True)  \n",
    "    graph = pydotplus.graph_from_dot_data(dot_data)  \n",
    "    return graph.create_png()\n",
    "\n",
    "# to visualize a tree perform the following call:\n",
    "# Image(visualizeTree(<classifier object>, <features names as array>, <target names as array>))"
   ]
  },
  {
   "cell_type": "code",
   "execution_count": 4,
   "metadata": {
    "ExecuteTime": {
     "end_time": "2019-04-05T07:41:10.224732Z",
     "start_time": "2019-04-05T07:41:10.219920Z"
    }
   },
   "outputs": [],
   "source": [
    "## Your code here"
   ]
  },
  {
   "cell_type": "code",
   "execution_count": null,
   "metadata": {},
   "outputs": [],
   "source": []
  }
 ],
 "metadata": {
  "kernelspec": {
   "display_name": "Python 3",
   "language": "python",
   "name": "python3"
  },
  "language_info": {
   "codemirror_mode": {
    "name": "ipython",
    "version": 3
   },
   "file_extension": ".py",
   "mimetype": "text/x-python",
   "name": "python",
   "nbconvert_exporter": "python",
   "pygments_lexer": "ipython3",
   "version": "3.7.1"
  },
  "varInspector": {
   "cols": {
    "lenName": 16,
    "lenType": 16,
    "lenVar": 40
   },
   "kernels_config": {
    "python": {
     "delete_cmd_postfix": "",
     "delete_cmd_prefix": "del ",
     "library": "var_list.py",
     "varRefreshCmd": "print(var_dic_list())"
    },
    "r": {
     "delete_cmd_postfix": ") ",
     "delete_cmd_prefix": "rm(",
     "library": "var_list.r",
     "varRefreshCmd": "cat(var_dic_list()) "
    }
   },
   "types_to_exclude": [
    "module",
    "function",
    "builtin_function_or_method",
    "instance",
    "_Feature"
   ],
   "window_display": false
  }
 },
 "nbformat": 4,
 "nbformat_minor": 2
}
