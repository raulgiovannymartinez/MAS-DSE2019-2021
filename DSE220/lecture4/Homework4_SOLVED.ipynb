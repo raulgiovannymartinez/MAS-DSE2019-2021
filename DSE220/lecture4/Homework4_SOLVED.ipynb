{
 "cells": [
  {
   "cell_type": "code",
   "execution_count": 140,
   "metadata": {},
   "outputs": [
    {
     "data": {
      "application/javascript": [
       "IPython.OutputArea.auto_scroll_threshold = 9999;\n"
      ],
      "text/plain": [
       "<IPython.core.display.Javascript object>"
      ]
     },
     "metadata": {},
     "output_type": "display_data"
    }
   ],
   "source": [
    "%%javascript\n",
    "IPython.OutputArea.auto_scroll_threshold = 9999;"
   ]
  },
  {
   "cell_type": "markdown",
   "metadata": {},
   "source": [
    "## Homework 4 - Raul G. Martinez (PID: A12461871)\n",
    "## DSE 220: Machine Learning \n",
    "## Due Date: May 28, 11:59 PM"
   ]
  },
  {
   "cell_type": "markdown",
   "metadata": {},
   "source": [
    "## 1 Instructions\n",
    "A report for this Homework should be submitted on Gradescope by May 28. The code will only be evaluated, so make sure that you include your code. To secure full marks both the report and the code should be in sync and logically correct. Please only submit relevant and legible code. Even if your method does not run well, you will gain marks for comprehensiveness of your analysis as and where applicable. Please complete this homework individually."
   ]
  },
  {
   "cell_type": "markdown",
   "metadata": {},
   "source": [
    "## 2 Overview\n",
    "The large number of English words can make language-based applications daunting. To cope with this, it is helpful to have a clustering or embedding of these words, so that words with similar meanings are clustered together, or have embedding that are close to one another.\n",
    "\n",
    "But how can we get at the meanings of words? John Firth (1957) put it thus:\n",
    "You shall know a word by the company it keeps.\n",
    "\n",
    "That is, words that tend to appear in similar contexts are likely to be related. In this assignment, you will investigate this idea by coming up with an embedding of words that is based on co-occurrence statistics.\n",
    "\n",
    "The description here assumes you are using Python with NLTK."
   ]
  },
  {
   "cell_type": "markdown",
   "metadata": {},
   "source": [
    "#### 1. First, download the Brown corpus (using nltk.corpus). This is a collection of text samples from a wide range of sources, with a total of over a million words. Calling brown.words() returns this text in one long list, which is useful."
   ]
  },
  {
   "cell_type": "code",
   "execution_count": 1,
   "metadata": {},
   "outputs": [
    {
     "name": "stderr",
     "output_type": "stream",
     "text": [
      "[nltk_data] Downloading package brown to /Users/gio/nltk_data...\n",
      "[nltk_data]   Package brown is already up-to-date!\n"
     ]
    },
    {
     "data": {
      "text/plain": [
       "1161192"
      ]
     },
     "execution_count": 1,
     "metadata": {},
     "output_type": "execute_result"
    }
   ],
   "source": [
    "import nltk\n",
    "nltk.download('brown')\n",
    "from nltk.corpus import brown\n",
    "\n",
    "# get brown corpus words\n",
    "brown_words = brown.words()\n",
    "\n",
    "# print number of words\n",
    "len(brown_words)"
   ]
  },
  {
   "cell_type": "markdown",
   "metadata": {},
   "source": [
    "\n",
    "#### 2. Remove stopwords and punctuation, make everything lowercase, and count how often each word occurs. Use this to come up with two lists:\n",
    "\n",
    "- A vocabulary V , consisting of a few thousand (e.g., 5000) of the most commonly-occurring words.\n",
    "- A shorter list C of at most 1000 of the most commonly-occurring words, which we shall call context words."
   ]
  },
  {
   "cell_type": "code",
   "execution_count": 2,
   "metadata": {},
   "outputs": [
    {
     "data": {
      "text/plain": [
       "1013319"
      ]
     },
     "execution_count": 2,
     "metadata": {},
     "output_type": "execute_result"
    }
   ],
   "source": [
    "import string\n",
    "\n",
    "# make lowercase\n",
    "brown_words = [i.lower() for i in brown_words]\n",
    "\n",
    "# remove punctuations from each word\n",
    "brown_words = [i.translate(str.maketrans('','',string.punctuation)) for i in brown_words]\n",
    "\n",
    "# exclude spaces and punctuations\n",
    "brown_words = [i for i in brown_words if i not in set([''] + list(string.punctuation))] \n",
    "\n",
    "# print number of words\n",
    "len(brown_words)"
   ]
  },
  {
   "cell_type": "code",
   "execution_count": 3,
   "metadata": {},
   "outputs": [
    {
     "name": "stderr",
     "output_type": "stream",
     "text": [
      "[nltk_data] Downloading package stopwords to /Users/gio/nltk_data...\n",
      "[nltk_data]   Package stopwords is already up-to-date!\n"
     ]
    },
    {
     "data": {
      "text/plain": [
       "539921"
      ]
     },
     "execution_count": 3,
     "metadata": {},
     "output_type": "execute_result"
    }
   ],
   "source": [
    "from nltk.corpus import stopwords\n",
    "nltk.download('stopwords')\n",
    "\n",
    "# get stop words from nltk and remove them\n",
    "stopwords = set(stopwords.words('english'))\n",
    "brown_words = [i for i in brown_words if i not in stopwords]\n",
    "\n",
    "# print number of words\n",
    "len(brown_words)"
   ]
  },
  {
   "cell_type": "code",
   "execution_count": 4,
   "metadata": {},
   "outputs": [
    {
     "data": {
      "text/plain": [
       "[('one', 3297),\n",
       " ('would', 2714),\n",
       " ('said', 1961),\n",
       " ('new', 1635),\n",
       " ('could', 1601),\n",
       " ('time', 1598),\n",
       " ('two', 1412),\n",
       " ('may', 1402),\n",
       " ('first', 1361),\n",
       " ('like', 1292)]"
      ]
     },
     "execution_count": 4,
     "metadata": {},
     "output_type": "execute_result"
    }
   ],
   "source": [
    "# get word frequency\n",
    "word_count = {i:0 for i in set(brown_words)}\n",
    "for i in brown_words:\n",
    "    word_count[i]+=1\n",
    "\n",
    "# convert to tuple and sort by count\n",
    "word_count = sorted([(k,v) for k,v in word_count.items()], key=lambda x: x[1], reverse=True)\n",
    "\n",
    "# print first ten elements of sorted tuple\n",
    "word_count[:10]"
   ]
  },
  {
   "cell_type": "code",
   "execution_count": 5,
   "metadata": {},
   "outputs": [],
   "source": [
    "# define vocabulary V, get 5,000 most commonly-occurring words\n",
    "V = [i[0] for i in word_count[:5000]]\n",
    "\n",
    "# define list C, get 1,000 most commonly-occurring words\n",
    "C = [i[0] for i in word_count[:1000]]"
   ]
  },
  {
   "cell_type": "markdown",
   "metadata": {},
   "source": [
    "#### 3. For each word w ∈ V , and each occurrence of it in the text stream, look at the surrounding window of four words (two before, two after):\n",
    "<br />\n",
    "<div align=\"center\">w1 &nbsp; &nbsp; w2 &nbsp; &nbsp; w &nbsp; &nbsp; w3 &nbsp; &nbsp; w4.</div>\n",
    "\n",
    "Keep count of how often context words from C appear in these positions around word w. That is, for w ∈ V, c ∈ C,  define\n",
    "\n",
    "<br />\n",
    "<div align=\"center\">n(w, c) = # of times c occurs in a window around w.</div>\n",
    "\n",
    "Using these counts, construct the probability distribution Pr(c|w) of context words around w (for each w ∈ V ), as well as the overall distribution Pr(c) of context words. These are distributions over C."
   ]
  },
  {
   "cell_type": "code",
   "execution_count": 6,
   "metadata": {},
   "outputs": [
    {
     "name": "stdout",
     "output_type": "stream",
     "text": [
      "CPU times: user 31.9 s, sys: 286 ms, total: 32.2 s\n",
      "Wall time: 32.8 s\n"
     ]
    },
    {
     "data": {
      "text/plain": [
       "(5000, 1000)"
      ]
     },
     "execution_count": 6,
     "metadata": {},
     "output_type": "execute_result"
    }
   ],
   "source": [
    "%%time\n",
    "\n",
    "# find n(w,c)\n",
    "\n",
    "import numpy as np\n",
    "\n",
    "# define empty array with 5,000 x 1,000 elements\n",
    "WordMatrix = np.zeros((5000, 1000))\n",
    "\n",
    "# convert to sets for superior speed\n",
    "set_V = set(V)\n",
    "set_C = set(C)\n",
    "\n",
    "# loop over all words from brown corpus (stream text)\n",
    "for n, stream_word in enumerate(brown_words):\n",
    "    \n",
    "    # check if word is in vocabulary \n",
    "    if stream_word in set_V:\n",
    "        \n",
    "        # find indices for window -2 to +2 (exclude indices from corner cases at the beginning and end)\n",
    "        textStream_indices = [i for i in range(n-2, n+3) if i>=0 and i<len(brown_words) and i!=n]\n",
    "        \n",
    "        # loop over the window of four words (less than four words for some corner cases)\n",
    "        for idx in textStream_indices:\n",
    "            \n",
    "            # use index to get word from stream text\n",
    "            window_word = brown_words[idx]\n",
    "            \n",
    "            # update WordMatrix count if word is present on context words\n",
    "            if window_word in set_C:\n",
    "                WordMatrix[V.index(stream_word), C.index(window_word)]+=1\n",
    "                \n",
    "# display shape of matrix\n",
    "WordMatrix.shape"
   ]
  },
  {
   "cell_type": "code",
   "execution_count": 7,
   "metadata": {},
   "outputs": [
    {
     "data": {
      "text/plain": [
       "(5000, 1000)"
      ]
     },
     "execution_count": 7,
     "metadata": {},
     "output_type": "execute_result"
    }
   ],
   "source": [
    "np.seterr(divide='ignore', invalid='ignore')\n",
    "\n",
    "# find the probability distribution Pr(c|w)\n",
    "Pr_c_w = WordMatrix/np.sum(WordMatrix, axis=1)[:, None]\n",
    "\n",
    "Pr_c_w.shape"
   ]
  },
  {
   "cell_type": "code",
   "execution_count": 8,
   "metadata": {},
   "outputs": [
    {
     "data": {
      "text/plain": [
       "(1000,)"
      ]
     },
     "execution_count": 8,
     "metadata": {},
     "output_type": "execute_result"
    }
   ],
   "source": [
    "# find the overall distribution Pr(c)\n",
    "Pr_c = np.sum(WordMatrix/np.sum(WordMatrix), axis=0)\n",
    "\n",
    "Pr_c.shape"
   ]
  },
  {
   "cell_type": "markdown",
   "metadata": {},
   "source": [
    "#### 4. Represent each vocabulary item w by a |C|-dimensional vector φ(w), whose cth coordinate is:\n",
    "<br />\n",
    "<div align=\"center\">φ(w) = max(0, log Pr(c|w) / Pr(c))</div>\n",
    "\n",
    "This is known as the (positive) pointwise mutual information, and has been quite successful in work on word embedding."
   ]
  },
  {
   "cell_type": "code",
   "execution_count": 9,
   "metadata": {},
   "outputs": [
    {
     "data": {
      "text/plain": [
       "(5000, 1000)"
      ]
     },
     "execution_count": 9,
     "metadata": {},
     "output_type": "execute_result"
    }
   ],
   "source": [
    "import numpy as geek\n",
    "\n",
    "# find element-wise maximum value \n",
    "Phi_w = geek.maximum(np.zeros((5000, 1000)),np.log(Pr_c_w/Pr_c))\n",
    "\n",
    "Phi_w.shape"
   ]
  },
  {
   "cell_type": "markdown",
   "metadata": {},
   "source": [
    "#### 5. Suppose we want a 100-dimensional representation. How would you achieve this?"
   ]
  },
  {
   "cell_type": "markdown",
   "metadata": {},
   "source": [
    "#### Method 1: Principal Component Analysis (PCA)"
   ]
  },
  {
   "cell_type": "code",
   "execution_count": 10,
   "metadata": {},
   "outputs": [
    {
     "data": {
      "text/plain": [
       "(5000, 100)"
      ]
     },
     "execution_count": 10,
     "metadata": {},
     "output_type": "execute_result"
    }
   ],
   "source": [
    "from sklearn.decomposition import PCA\n",
    "\n",
    "# use PCA to reduce to a 100-dimensional representation\n",
    "pca = PCA(n_components=100)\n",
    "pca.fit(Phi_w)\n",
    "\n",
    "# reduced data\n",
    "Phi_w_transformed_PCA = pca.fit_transform(Phi_w)\n",
    "\n",
    "Phi_w_transformed_PCA.shape"
   ]
  },
  {
   "cell_type": "code",
   "execution_count": 11,
   "metadata": {},
   "outputs": [
    {
     "name": "stdout",
     "output_type": "stream",
     "text": [
      "PCA total % variance explained: 22.53\n"
     ]
    },
    {
     "data": {
      "text/plain": [
       "[<matplotlib.lines.Line2D at 0x1a29f9a710>]"
      ]
     },
     "execution_count": 11,
     "metadata": {},
     "output_type": "execute_result"
    },
    {
     "data": {
      "image/png": "[encoded data removed]",
      "text/plain": [
       "<Figure size 432x288 with 1 Axes>"
      ]
     },
     "metadata": {
      "needs_background": "light"
     },
     "output_type": "display_data"
    }
   ],
   "source": [
    "import matplotlib.pyplot as plt\n",
    "\n",
    "# find percentage of variance explained using PCA\n",
    "perc_var = np.round(pca.explained_variance_ratio_, decimals=4)*100\n",
    "\n",
    "# plot cummulative distribution\n",
    "plt.ylabel('% Variance Explained')\n",
    "plt.xlabel('# of Features')\n",
    "plt.title('PCA Analysis')\n",
    "plt.ylim(0,25)\n",
    "\n",
    "print('PCA total % variance explained: {:.2f}'.format(np.sum(perc_var)))\n",
    "plt.plot(np.cumsum(perc_var))"
   ]
  },
  {
   "cell_type": "markdown",
   "metadata": {},
   "source": [
    "#### Method 2: Singular Value Decomposition (SVD)"
   ]
  },
  {
   "cell_type": "code",
   "execution_count": 12,
   "metadata": {},
   "outputs": [
    {
     "data": {
      "text/plain": [
       "(5000, 100)"
      ]
     },
     "execution_count": 12,
     "metadata": {},
     "output_type": "execute_result"
    }
   ],
   "source": [
    "from sklearn.decomposition import TruncatedSVD\n",
    "\n",
    "# use SVD to reduce to a 100-dimensional representation\n",
    "svd = TruncatedSVD(n_components=100)\n",
    "svd.fit(Phi_w)\n",
    "\n",
    "# reduced data\n",
    "Phi_w_transformed_SVD = svd.fit_transform(Phi_w)\n",
    "\n",
    "Phi_w_transformed_SVD.shape"
   ]
  },
  {
   "cell_type": "code",
   "execution_count": 13,
   "metadata": {},
   "outputs": [
    {
     "name": "stdout",
     "output_type": "stream",
     "text": [
      "SVD total % variance explained: 22.70\n"
     ]
    },
    {
     "data": {
      "text/plain": [
       "[<matplotlib.lines.Line2D at 0x1a28d00250>]"
      ]
     },
     "execution_count": 13,
     "metadata": {},
     "output_type": "execute_result"
    },
    {
     "data": {
      "image/png": "[encoded data removed]",
      "text/plain": [
       "<Figure size 432x288 with 1 Axes>"
      ]
     },
     "metadata": {
      "needs_background": "light"
     },
     "output_type": "display_data"
    }
   ],
   "source": [
    "# find percentage of variance explained using PCA\n",
    "perc_var = np.round(svd.explained_variance_ratio_, decimals=4)*100\n",
    "\n",
    "# plot cummulative distribution\n",
    "plt.ylabel('% Variance Explained')\n",
    "plt.xlabel('# of Features')\n",
    "plt.title('SVD Analysis')\n",
    "plt.ylim(0,25)\n",
    "\n",
    "print('SVD total % variance explained: {:.2f}'.format(np.sum(perc_var)))\n",
    "plt.plot(np.cumsum(perc_var))"
   ]
  },
  {
   "cell_type": "markdown",
   "metadata": {},
   "source": [
    "#### 6. Investigate the resulting embedding in two ways:\n",
    "\n",
    "- Cluster the vocabulary into 100 clusters. Look them over; do they seem completely random, or is there some sense       to them?\n",
    "- Try finding the nearest neighbor of selected words. Do the answers make sense?"
   ]
  },
  {
   "cell_type": "code",
   "execution_count": 14,
   "metadata": {},
   "outputs": [
    {
     "name": "stdout",
     "output_type": "stream",
     "text": [
      "CPU times: user 23.5 s, sys: 1.79 s, total: 25.3 s\n",
      "Wall time: 13.3 s\n"
     ]
    }
   ],
   "source": [
    "%%time\n",
    "\n",
    "from sklearn.cluster import KMeans\n",
    "\n",
    "# initialize k-means\n",
    "kmeans_PCA = KMeans(n_clusters=100, random_state=0, init='k-means++')\n",
    "kmeans_SVD = KMeans(n_clusters=100, random_state=0, init='k-means++')\n",
    "\n",
    "# git the k-means by passing it the input\n",
    "kmeans_PCA.fit(Phi_w_transformed_PCA) # method 1: PCA\n",
    "kmeans_SVD.fit(Phi_w_transformed_SVD) # method 2: SVD\n",
    "\n",
    "# retrieve labels (cluster ids) for all the inputs\n",
    "labels_PCA = kmeans_PCA.labels_\n",
    "labels_SVD = kmeans_SVD.labels_"
   ]
  },
  {
   "cell_type": "code",
   "execution_count": 15,
   "metadata": {},
   "outputs": [
    {
     "data": {
      "text/plain": [
       "100"
      ]
     },
     "execution_count": 15,
     "metadata": {},
     "output_type": "execute_result"
    }
   ],
   "source": [
    "from collections import defaultdict\n",
    "\n",
    "# initialize dictionaries\n",
    "V_clusters_PCA = defaultdict(list)\n",
    "V_clusters_SVD = defaultdict(list)\n",
    "\n",
    "# form clusters\n",
    "for c in range(100):\n",
    "    \n",
    "    # add clusters inside dict as lists\n",
    "    V_clusters_PCA[c] = [V[i] for i in np.where(labels_PCA == c)[0]]\n",
    "    V_clusters_SVD[c] = [V[i] for i in np.where(labels_SVD == c)[0]]\n",
    "    \n",
    "# display number of clusters\n",
    "len(V_clusters_PCA)"
   ]
  },
  {
   "cell_type": "code",
   "execution_count": 26,
   "metadata": {},
   "outputs": [
    {
     "name": "stdout",
     "output_type": "stream",
     "text": [
      "Method 1: PCA\n",
      "-----> word 1: magnitude\n",
      "['radio', 'mass', 'energy', 'source', 'produced', 'sources', 'loss', 'speed', 'plus', 'impact', 'resolution', 'associated', 'scale', 'intensity', 'measurements', 'foods', 'efficiency', 'comparison', 'concentration', 'essentially', 'models', 'wave', 'relative', 'atomic', 'meat', 'thickness', 'resulting', 'possibilities', 'sufficiently', 'particles', 'comparable', 'presumably', 'thyroid', 'output', '1000', 'visible', 'receiving', 'chlorine', 'missiles', 'emission', 'density', 'flux', 'proportion', 'magnitude', 'electron', 'velocity', 'estimates', 'heating', 'diffusion', 'planets', 'lengths', 'availability', 'particle', 'planetary', 'input', 'biological']\n",
      "-----> word 2: miles\n",
      "['two', 'years', 'three', 'days', 'later', 'several', 'four', 'times', 'five', 'ago', 'six', 'minutes', 'months', 'hours', 'miles', 'hundred', 'ten', 'weeks', 'nearly', 'persons', 'couple', 'seven', 'eight', 'spent', 'dollars', 'thousand', 'nine', 'spend', 'twelve', 'oclock', 'eleven', 'fourteen']\n",
      "\n",
      "Method 2: SVD\n",
      "-----> word 1: magnitude\n",
      "['mass', 'produce', 'impact', 'cutting', 'resolution', 'associated', 'tension', 'intensity', 'conventional', 'foods', 'efficiency', 'extremely', 'concentration', 'models', 'periods', 'wave', 'electrical', 'load', 'considerably', 'resulting', 'occur', 'possibilities', 'sufficiently', 'particles', 'presumably', 'introduction', 'pressures', 'thyroid', 'organic', 'contains', 'devices', 'output', 'visible', 'receiving', 'chlorine', 'emission', 'variation', 'skywave', 'density', 'fallout', 'strain', 'dimensions', 'flux', 'magnitude', 'electron', 'roots', 'velocity', 'reflect', 'exposure', 'composition', 'estimates', 'heating', 'diffusion', 'subjected', 'phases', 'planets', 'crystal', 'sphere', 'frequency', 'availability', 'loop', 'particle', 'fluid', 'protein', 'planetary', 'planet', 'input', 'fats', 'binding', 'hypothalamus', 'reactivity', 'optical', 'nonspecific']\n",
      "-----> word 2: miles\n",
      "['two', 'years', 'three', 'several', 'four', 'five', 'ago', 'six', 'minutes', 'miles', 'hundred', 'ten', 'couple', 'seven', 'eight', 'dollars', 'thousand', 'nine', 'twenty', 'fifty', 'thirty', 'fifteen', 'twelve', 'eleven', 'forty', 'fourteen', 'twentyfive']\n",
      "\n",
      "Similar words\n",
      "-----> word 1: magnitude\n",
      "{'visible', 'sufficiently', 'intensity', 'availability', 'flux', 'resulting', 'concentration', 'wave', 'resolution', 'receiving', 'velocity', 'planetary', 'possibilities', 'estimates', 'impact', 'particle', 'mass', 'associated', 'foods', 'heating', 'magnitude', 'density', 'electron', 'diffusion', 'input', 'emission', 'presumably', 'models', 'planets', 'thyroid', 'efficiency', 'output', 'chlorine', 'particles'}\n",
      "-----> word 2: miles\n",
      "{'years', 'minutes', 'three', 'fourteen', 'two', 'ten', 'five', 'several', 'hundred', 'seven', 'nine', 'eleven', 'couple', 'four', 'dollars', 'twelve', 'thousand', 'ago', 'six', 'eight', 'miles'}\n"
     ]
    }
   ],
   "source": [
    "# display clusters for selected words \n",
    "\n",
    "# define vocabulary word indices\n",
    "idx1, idx2 = 3563, 455\n",
    "\n",
    "# predict using PCA\n",
    "print('Embedding Method 1: PCA')\n",
    "print('-----> word 1: {}'.format(V[idx1]))\n",
    "Clust_word1_PCA = V_clusters_PCA[kmeans_PCA.predict([Phi_w_transformed_PCA[idx1]])[0]]\n",
    "print(Clust_word1_PCA)\n",
    "print('-----> word 2: {}'.format(V[idx2]))\n",
    "Clust_word2_PCA = V_clusters_PCA[kmeans_PCA.predict([Phi_w_transformed_PCA[idx2]])[0]]\n",
    "print(Clust_word2_PCA)\n",
    "\n",
    "# predict using SVD\n",
    "print('\\nEmbedding Method 2: SVD')\n",
    "print('-----> word 1: {}'.format(V[idx1]))\n",
    "Clust_word1_SVD = V_clusters_SVD[kmeans_SVD.predict([Phi_w_transformed_SVD[idx1]])[0]]\n",
    "print(Clust_word1_SVD)\n",
    "print('-----> word 2: {}'.format(V[idx2]))\n",
    "Clust_word2_SVD = V_clusters_SVD[kmeans_SVD.predict([Phi_w_transformed_SVD[idx2]])[0]]\n",
    "print(Clust_word2_SVD)\n",
    "\n",
    "# print similar words \n",
    "print('\\nSimilar words')\n",
    "print('-----> word 1: {}'.format(V[idx1]))\n",
    "print(set(Clust_word1_PCA).intersection(set(Clust_word1_SVD)))\n",
    "print('-----> word 2: {}'.format(V[idx2]))\n",
    "print(set(Clust_word2_PCA).intersection(set(Clust_word2_SVD)))"
   ]
  },
  {
   "cell_type": "markdown",
   "metadata": {},
   "source": [
    "#### Answer (Q6) - Clustering the vocabulary to 100 clusters with K-Means\n",
    "\n",
    "The clusters generated after dimensionality reduction, using PCA and SVD methods, seem to make sense and are not completely at random. To illustrate this idea two words have been chosen at random (see cell above) and their respective clusters are displayed using each method. Looking at the first word \"magnitude\" it seems that both methods are clustering very similarly with about 34 words overlapping between the both, and the context of the words are related mostly to science such as chemistry, biology, and physics. Likewise, the second word \"miles\" seems to cluster similarly with 21 words overlapping, and the context of the cluster seems to be related to time, numbers, and currency units. \n",
    "\n",
    "In general, the 100 dimensional representation using both methods (PCA and SVD) seems to be very similar in variance metrics with a total percentage of variance explained of about 23%. When K-means is applied to the vocabulary they both create clusters with words that have similar meaning, but the clusters are not exactly the same. The variation introduced when finding the clusters doesn't really mean that one is performing better over the other, but instead that they are capturing similar information differently. As a consequence, their applications would have to be considered based on the cluster labels defined and the context behind the words being used to process the stream of text. "
   ]
  },
  {
   "cell_type": "code",
   "execution_count": 134,
   "metadata": {},
   "outputs": [
    {
     "name": "stdout",
     "output_type": "stream",
     "text": [
      "Embedding Method 1: PCA\n",
      "Vocabulary, NN Prediction\n",
      "\n",
      "personnel , expenditures\n",
      "milligrams , beef\n",
      "window , door\n",
      "correct , measurement\n",
      "provided , provide\n",
      "mathematics , science\n",
      "studio , orange\n",
      "agencies , public\n",
      "jew , lonely\n",
      "reorganization , payments\n",
      "intensity , thermal\n",
      "folks , dare\n",
      "military , increased\n",
      "corps , peace\n",
      "originally , publication\n",
      "plenty , theres\n",
      "making , made\n",
      "hated , cold\n",
      "romantic , lucy\n",
      "damned , maggie\n",
      "answer , yes\n",
      "remainder , benefits\n",
      "christian , religious\n",
      "standard , materials\n",
      "17 , 30\n",
      "\n",
      "Embedding Method 2: SVD\n",
      "Vocabulary, NN Prediction\n",
      "\n",
      "personnel , service\n",
      "milligrams , beef\n",
      "window , stood\n",
      "correct , must\n",
      "provided , available\n",
      "mathematics , science\n",
      "studio , knows\n",
      "agencies , public\n",
      "jew , lonely\n",
      "reorganization , payments\n",
      "intensity , thermal\n",
      "folks , nice\n",
      "military , economic\n",
      "corps , peace\n",
      "originally , expert\n",
      "plenty , theres\n",
      "making , made\n",
      "hated , panic\n",
      "romantic , mercy\n",
      "damned , maggie\n",
      "answer , something\n",
      "remainder , revenues\n",
      "christian , religious\n",
      "standard , value\n",
      "17 , oct\n"
     ]
    }
   ],
   "source": [
    "from sklearn.neighbors import NearestNeighbors\n",
    "\n",
    "# try finding the nearest neighbor for 25 random words from the vocabulary\n",
    "\n",
    "# Embedding Method 1: PCA\n",
    "\n",
    "# find neighbors\n",
    "neigh = NearestNeighbors(n_neighbors=2, metric='cosine').fit(Phi_w_transformed_PCA)\n",
    "word_idx = [randrange(len(V)) for i in range(25)] # get random list of indices\n",
    "distances, indices = neigh.kneighbors(Phi_w_transformed_PCA[word_idx])\n",
    "\n",
    "# print words and NN\n",
    "print('Embedding Method 1: PCA\\nVocabulary, NN Prediction\\n')\n",
    "NN_idx = [k[1] for k in indices] # first element is the word itself, select second\n",
    "for i,j in zip(word_idx, NN_idx):\n",
    "    print(V[i],',',V[j])\n",
    "\n",
    "\n",
    "# Embedding Method 2: SVD\n",
    "\n",
    "# find neighbors\n",
    "neigh = NearestNeighbors(n_neighbors=2, metric='cosine').fit(Phi_w_transformed_SVD)\n",
    "distances, indices = neigh.kneighbors(Phi_w_transformed_SVD[word_idx])\n",
    "\n",
    "# print words and NN\n",
    "print('\\nEmbedding Method 2: SVD\\nVocabulary, NN Prediction\\n')\n",
    "NN_idx = [k[1] for k in indices] # first element is the word itself, select second\n",
    "for i,j in zip(word_idx, NN_idx):\n",
    "    print(V[i],',',V[j])"
   ]
  },
  {
   "cell_type": "markdown",
   "metadata": {},
   "source": [
    "#### Answer (Q6) - Finding the nearest neighbor of selected words\n",
    "\n",
    "A total of 25 random words were selected from the vocabulary in order to apply a Nearest Neighbors (NN) algorithm using embedded representations with PCA and SVD from a Positive Pointwise Mutual Information words matrix. The NN is then found for each word and printed side-by-side with the vocabulary word (as shown in the cell above). Looking at the list of pairs is very clear that many of the words selected make sense, meaning that is likely to find them next to each other on a text stream or they have similar context. And when comparing the performance between PCA and SVD they both seem to be performing somewhat similarly; in the example above there are about 11 words out of 25 where the NN is exactly the same which equals to ~44% accuracy. "
   ]
  },
  {
   "cell_type": "markdown",
   "metadata": {},
   "source": [
    "#### 7. The Brown corpus is very small. Current work on word embedding uses data sets that are several orders of magnitude larger, but the methodology is along the same lines."
   ]
  },
  {
   "cell_type": "markdown",
   "metadata": {},
   "source": [
    "## 3 What to turn in"
   ]
  },
  {
   "cell_type": "markdown",
   "metadata": {},
   "source": [
    "On the due date, turn in a typewritten report containing the following elements (each labeled clearly)."
   ]
  },
  {
   "cell_type": "markdown",
   "metadata": {},
   "source": [
    "1. A description of your 100-dimensional embedding.\n",
    "\n",
    "    The description should be concise and clear, and should make it obvious exactly what steps you took to obtain your word embeddings. Below, we will denote these as Ψ(w) ∈ R100, for w ∈ V . Also clarify exactly how you selected the vocabulary V and the context words C. (35 marks)"
   ]
  },
  {
   "cell_type": "code",
   "execution_count": 163,
   "metadata": {},
   "outputs": [
    {
     "data": {
      "text/plain": [
       "'\\nSteps used for this section are described in the implementation above, and also in the report below. \\n'"
      ]
     },
     "execution_count": 163,
     "metadata": {},
     "output_type": "execute_result"
    }
   ],
   "source": [
    "\"\"\"\n",
    "Steps used for this section are described in the implementation above, and also in the report below. \n",
    "\"\"\""
   ]
  },
  {
   "cell_type": "markdown",
   "metadata": {},
   "source": [
    "2. Nearest neighbor results.\n",
    "\n",
    "    Pick a collection of 25 words w ∈ V . For each w, return its nearest neighbor w′ ̸= w in V . A popular distance measure to use for this is cosine distance:\n",
    "<br />\n",
    "<div align=\"center\">1 − ( Ψ(w).Ψ(w′) / ||Ψ(w)|| ||Ψ(w′)|| )</div>\n",
    "\n",
    "    Here are some suggestions for words you might choose:\n",
    "\n",
    "    communism, autumn, cigarette, pulmonary, mankind, africa, chicago, revolution, september, chemical, detergent, dictionary, storm, worship\n",
    "\n",
    "    Do the results make any sense? You can use other distance measures apart from cosine distance to improve the results. (30 marks)"
   ]
  },
  {
   "cell_type": "code",
   "execution_count": 160,
   "metadata": {},
   "outputs": [
    {
     "data": {
      "text/html": [
       "<div>\n",
       "<style scoped>\n",
       "    .dataframe tbody tr th:only-of-type {\n",
       "        vertical-align: middle;\n",
       "    }\n",
       "\n",
       "    .dataframe tbody tr th {\n",
       "        vertical-align: top;\n",
       "    }\n",
       "\n",
       "    .dataframe thead th {\n",
       "        text-align: right;\n",
       "    }\n",
       "</style>\n",
       "<table border=\"1\" class=\"dataframe\">\n",
       "  <thead>\n",
       "    <tr style=\"text-align: right;\">\n",
       "      <th></th>\n",
       "      <th>vocabulary</th>\n",
       "      <th>PCA_cosine</th>\n",
       "      <th>SVD_cosine</th>\n",
       "      <th>PCA_euclidean</th>\n",
       "      <th>SVD_euclidean</th>\n",
       "      <th>PCA_manhattan</th>\n",
       "      <th>SVD_manhattan</th>\n",
       "      <th>PCA_chebyshev</th>\n",
       "      <th>SVD_chebyshev</th>\n",
       "    </tr>\n",
       "  </thead>\n",
       "  <tbody>\n",
       "    <tr>\n",
       "      <th>0</th>\n",
       "      <td>communism</td>\n",
       "      <td>era</td>\n",
       "      <td>war</td>\n",
       "      <td>era</td>\n",
       "      <td>utopian</td>\n",
       "      <td>utopian</td>\n",
       "      <td>utopian</td>\n",
       "      <td>giant</td>\n",
       "      <td>exploration</td>\n",
       "    </tr>\n",
       "    <tr>\n",
       "      <th>1</th>\n",
       "      <td>autumn</td>\n",
       "      <td>storm</td>\n",
       "      <td>summer</td>\n",
       "      <td>fogg</td>\n",
       "      <td>journey</td>\n",
       "      <td>storm</td>\n",
       "      <td>time</td>\n",
       "      <td>fogg</td>\n",
       "      <td>orleans</td>\n",
       "    </tr>\n",
       "    <tr>\n",
       "      <th>2</th>\n",
       "      <td>cigarette</td>\n",
       "      <td>swung</td>\n",
       "      <td>suddenly</td>\n",
       "      <td>bullet</td>\n",
       "      <td>ben</td>\n",
       "      <td>haney</td>\n",
       "      <td>time</td>\n",
       "      <td>bullet</td>\n",
       "      <td>whisky</td>\n",
       "    </tr>\n",
       "    <tr>\n",
       "      <th>3</th>\n",
       "      <td>pulmonary</td>\n",
       "      <td>artery</td>\n",
       "      <td>artery</td>\n",
       "      <td>artery</td>\n",
       "      <td>artery</td>\n",
       "      <td>artery</td>\n",
       "      <td>artery</td>\n",
       "      <td>artery</td>\n",
       "      <td>artery</td>\n",
       "    </tr>\n",
       "    <tr>\n",
       "      <th>4</th>\n",
       "      <td>mankind</td>\n",
       "      <td>divine</td>\n",
       "      <td>world</td>\n",
       "      <td>divine</td>\n",
       "      <td>fatal</td>\n",
       "      <td>twentieth</td>\n",
       "      <td>fatal</td>\n",
       "      <td>inevitably</td>\n",
       "      <td>world</td>\n",
       "    </tr>\n",
       "    <tr>\n",
       "      <th>5</th>\n",
       "      <td>africa</td>\n",
       "      <td>asia</td>\n",
       "      <td>asia</td>\n",
       "      <td>asia</td>\n",
       "      <td>asia</td>\n",
       "      <td>asia</td>\n",
       "      <td>asia</td>\n",
       "      <td>markets</td>\n",
       "      <td>germany</td>\n",
       "    </tr>\n",
       "    <tr>\n",
       "      <th>6</th>\n",
       "      <td>chicago</td>\n",
       "      <td>portland</td>\n",
       "      <td>club</td>\n",
       "      <td>portland</td>\n",
       "      <td>york</td>\n",
       "      <td>portland</td>\n",
       "      <td>portland</td>\n",
       "      <td>reports</td>\n",
       "      <td>club</td>\n",
       "    </tr>\n",
       "    <tr>\n",
       "      <th>7</th>\n",
       "      <td>revolution</td>\n",
       "      <td>modern</td>\n",
       "      <td>modern</td>\n",
       "      <td>time</td>\n",
       "      <td>oral</td>\n",
       "      <td>suspected</td>\n",
       "      <td>oral</td>\n",
       "      <td>legislative</td>\n",
       "      <td>killing</td>\n",
       "    </tr>\n",
       "    <tr>\n",
       "      <th>8</th>\n",
       "      <td>september</td>\n",
       "      <td>december</td>\n",
       "      <td>december</td>\n",
       "      <td>december</td>\n",
       "      <td>december</td>\n",
       "      <td>december</td>\n",
       "      <td>december</td>\n",
       "      <td>december</td>\n",
       "      <td>june</td>\n",
       "    </tr>\n",
       "    <tr>\n",
       "      <th>9</th>\n",
       "      <td>chemical</td>\n",
       "      <td>drugs</td>\n",
       "      <td>drugs</td>\n",
       "      <td>drugs</td>\n",
       "      <td>drugs</td>\n",
       "      <td>instances</td>\n",
       "      <td>drugs</td>\n",
       "      <td>drugs</td>\n",
       "      <td>drugs</td>\n",
       "    </tr>\n",
       "    <tr>\n",
       "      <th>10</th>\n",
       "      <td>detergent</td>\n",
       "      <td>fabrics</td>\n",
       "      <td>fabrics</td>\n",
       "      <td>fabrics</td>\n",
       "      <td>fabrics</td>\n",
       "      <td>fabrics</td>\n",
       "      <td>fabrics</td>\n",
       "      <td>illustration</td>\n",
       "      <td>folklore</td>\n",
       "    </tr>\n",
       "    <tr>\n",
       "      <th>11</th>\n",
       "      <td>dictionary</td>\n",
       "      <td>text</td>\n",
       "      <td>text</td>\n",
       "      <td>text</td>\n",
       "      <td>text</td>\n",
       "      <td>text</td>\n",
       "      <td>text</td>\n",
       "      <td>occurrence</td>\n",
       "      <td>text</td>\n",
       "    </tr>\n",
       "    <tr>\n",
       "      <th>12</th>\n",
       "      <td>storm</td>\n",
       "      <td>noon</td>\n",
       "      <td>summer</td>\n",
       "      <td>noon</td>\n",
       "      <td>fogg</td>\n",
       "      <td>noon</td>\n",
       "      <td>fogg</td>\n",
       "      <td>circuit</td>\n",
       "      <td>journey</td>\n",
       "    </tr>\n",
       "    <tr>\n",
       "      <th>13</th>\n",
       "      <td>worship</td>\n",
       "      <td>beliefs</td>\n",
       "      <td>organized</td>\n",
       "      <td>beliefs</td>\n",
       "      <td>conception</td>\n",
       "      <td>life</td>\n",
       "      <td>beliefs</td>\n",
       "      <td>beliefs</td>\n",
       "      <td>entering</td>\n",
       "    </tr>\n",
       "    <tr>\n",
       "      <th>14</th>\n",
       "      <td>received</td>\n",
       "      <td>receive</td>\n",
       "      <td>washington</td>\n",
       "      <td>first</td>\n",
       "      <td>washington</td>\n",
       "      <td>first</td>\n",
       "      <td>perhaps</td>\n",
       "      <td>special</td>\n",
       "      <td>washington</td>\n",
       "    </tr>\n",
       "    <tr>\n",
       "      <th>15</th>\n",
       "      <td>threw</td>\n",
       "      <td>door</td>\n",
       "      <td>front</td>\n",
       "      <td>barn</td>\n",
       "      <td>foot</td>\n",
       "      <td>barn</td>\n",
       "      <td>turned</td>\n",
       "      <td>stairs</td>\n",
       "      <td>gardens</td>\n",
       "    </tr>\n",
       "    <tr>\n",
       "      <th>16</th>\n",
       "      <td>ridiculous</td>\n",
       "      <td>screw</td>\n",
       "      <td>ben</td>\n",
       "      <td>one</td>\n",
       "      <td>ben</td>\n",
       "      <td>one</td>\n",
       "      <td>ben</td>\n",
       "      <td>skyros</td>\n",
       "      <td>victim</td>\n",
       "    </tr>\n",
       "    <tr>\n",
       "      <th>17</th>\n",
       "      <td>empirical</td>\n",
       "      <td>solutions</td>\n",
       "      <td>structure</td>\n",
       "      <td>hypothalamic</td>\n",
       "      <td>hypothalamic</td>\n",
       "      <td>hypothalamic</td>\n",
       "      <td>melody</td>\n",
       "      <td>hypothalamic</td>\n",
       "      <td>continuity</td>\n",
       "    </tr>\n",
       "    <tr>\n",
       "      <th>18</th>\n",
       "      <td>relatives</td>\n",
       "      <td>intimate</td>\n",
       "      <td>family</td>\n",
       "      <td>coolidge</td>\n",
       "      <td>bet</td>\n",
       "      <td>coolidge</td>\n",
       "      <td>coolidge</td>\n",
       "      <td>emperor</td>\n",
       "      <td>one</td>\n",
       "    </tr>\n",
       "    <tr>\n",
       "      <th>19</th>\n",
       "      <td>lack</td>\n",
       "      <td>interest</td>\n",
       "      <td>need</td>\n",
       "      <td>work</td>\n",
       "      <td>need</td>\n",
       "      <td>work</td>\n",
       "      <td>personal</td>\n",
       "      <td>view</td>\n",
       "      <td>making</td>\n",
       "    </tr>\n",
       "    <tr>\n",
       "      <th>20</th>\n",
       "      <td>religion</td>\n",
       "      <td>political</td>\n",
       "      <td>personal</td>\n",
       "      <td>great</td>\n",
       "      <td>personal</td>\n",
       "      <td>experience</td>\n",
       "      <td>philosophy</td>\n",
       "      <td>human</td>\n",
       "      <td>rather</td>\n",
       "    </tr>\n",
       "    <tr>\n",
       "      <th>21</th>\n",
       "      <td>accepted</td>\n",
       "      <td>merely</td>\n",
       "      <td>beginning</td>\n",
       "      <td>one</td>\n",
       "      <td>known</td>\n",
       "      <td>known</td>\n",
       "      <td>spencer</td>\n",
       "      <td>sometimes</td>\n",
       "      <td>history</td>\n",
       "    </tr>\n",
       "    <tr>\n",
       "      <th>22</th>\n",
       "      <td>knees</td>\n",
       "      <td>shoulders</td>\n",
       "      <td>shoulders</td>\n",
       "      <td>shaking</td>\n",
       "      <td>shaking</td>\n",
       "      <td>shaking</td>\n",
       "      <td>shaking</td>\n",
       "      <td>wiped</td>\n",
       "      <td>suitcase</td>\n",
       "    </tr>\n",
       "    <tr>\n",
       "      <th>23</th>\n",
       "      <td>city</td>\n",
       "      <td>york</td>\n",
       "      <td>york</td>\n",
       "      <td>york</td>\n",
       "      <td>york</td>\n",
       "      <td>york</td>\n",
       "      <td>york</td>\n",
       "      <td>central</td>\n",
       "      <td>located</td>\n",
       "    </tr>\n",
       "    <tr>\n",
       "      <th>24</th>\n",
       "      <td>billion</td>\n",
       "      <td>million</td>\n",
       "      <td>million</td>\n",
       "      <td>million</td>\n",
       "      <td>million</td>\n",
       "      <td>million</td>\n",
       "      <td>million</td>\n",
       "      <td>january</td>\n",
       "      <td>11</td>\n",
       "    </tr>\n",
       "  </tbody>\n",
       "</table>\n",
       "</div>"
      ],
      "text/plain": [
       "    vocabulary PCA_cosine  SVD_cosine PCA_euclidean SVD_euclidean  \\\n",
       "0    communism        era         war           era       utopian   \n",
       "1       autumn      storm      summer          fogg       journey   \n",
       "2    cigarette      swung    suddenly        bullet           ben   \n",
       "3    pulmonary     artery      artery        artery        artery   \n",
       "4      mankind     divine       world        divine         fatal   \n",
       "5       africa       asia        asia          asia          asia   \n",
       "6      chicago   portland        club      portland          york   \n",
       "7   revolution     modern      modern          time          oral   \n",
       "8    september   december    december      december      december   \n",
       "9     chemical      drugs       drugs         drugs         drugs   \n",
       "10   detergent    fabrics     fabrics       fabrics       fabrics   \n",
       "11  dictionary       text        text          text          text   \n",
       "12       storm       noon      summer          noon          fogg   \n",
       "13     worship    beliefs   organized       beliefs    conception   \n",
       "14    received    receive  washington         first    washington   \n",
       "15       threw       door       front          barn          foot   \n",
       "16  ridiculous      screw         ben           one           ben   \n",
       "17   empirical  solutions   structure  hypothalamic  hypothalamic   \n",
       "18   relatives   intimate      family      coolidge           bet   \n",
       "19        lack   interest        need          work          need   \n",
       "20    religion  political    personal         great      personal   \n",
       "21    accepted     merely   beginning           one         known   \n",
       "22       knees  shoulders   shoulders       shaking       shaking   \n",
       "23        city       york        york          york          york   \n",
       "24     billion    million     million       million       million   \n",
       "\n",
       "   PCA_manhattan SVD_manhattan PCA_chebyshev SVD_chebyshev  \n",
       "0        utopian       utopian         giant   exploration  \n",
       "1          storm          time          fogg       orleans  \n",
       "2          haney          time        bullet        whisky  \n",
       "3         artery        artery        artery        artery  \n",
       "4      twentieth         fatal    inevitably         world  \n",
       "5           asia          asia       markets       germany  \n",
       "6       portland      portland       reports          club  \n",
       "7      suspected          oral   legislative       killing  \n",
       "8       december      december      december          june  \n",
       "9      instances         drugs         drugs         drugs  \n",
       "10       fabrics       fabrics  illustration      folklore  \n",
       "11          text          text    occurrence          text  \n",
       "12          noon          fogg       circuit       journey  \n",
       "13          life       beliefs       beliefs      entering  \n",
       "14         first       perhaps       special    washington  \n",
       "15          barn        turned        stairs       gardens  \n",
       "16           one           ben        skyros        victim  \n",
       "17  hypothalamic        melody  hypothalamic    continuity  \n",
       "18      coolidge      coolidge       emperor           one  \n",
       "19          work      personal          view        making  \n",
       "20    experience    philosophy         human        rather  \n",
       "21         known       spencer     sometimes       history  \n",
       "22       shaking       shaking         wiped      suitcase  \n",
       "23          york          york       central       located  \n",
       "24       million       million       january            11  "
      ]
     },
     "execution_count": 160,
     "metadata": {},
     "output_type": "execute_result"
    }
   ],
   "source": [
    "from sklearn.neighbors import NearestNeighbors\n",
    "import pandas as pd\n",
    "\n",
    "# try finding the nearest neighbor for a collection of 25 words\n",
    "\n",
    "# define sample words and get their indices\n",
    "sample_words = ['communism', 'autumn', 'cigarette', 'pulmonary', 'mankind', 'africa', 'chicago', \n",
    "                'revolution', 'september', 'chemical', 'detergent', 'dictionary', 'storm', 'worship']\n",
    "sample_words_idx = [V.index(i) for i in sample_words]\n",
    "\n",
    "# fill the collection of 25 with 11 more random words\n",
    "word_idx = sample_words_idx + [randrange(len(V)) for i in range(11)] \n",
    "\n",
    "# create dataframe with vocabulary words\n",
    "df = pd.DataFrame([V[i] for i in word_idx], columns=['vocabulary'])\n",
    "\n",
    "# find NN word using different distance metrics\n",
    "for d in ['cosine', 'euclidean', 'manhattan', 'chebyshev']:\n",
    "\n",
    "    # Embedding Method 1: PCA\n",
    "\n",
    "    # find neighbors\n",
    "    neigh = NearestNeighbors(n_neighbors=2, metric=d).fit(Phi_w_transformed_PCA)\n",
    "    distances, indices = neigh.kneighbors(Phi_w_transformed_PCA[word_idx])\n",
    "\n",
    "    # add NN to dataframe\n",
    "    col_name = 'PCA' + '_' + d\n",
    "    df[col_name] = [V[i] for i in [k[1] for k in indices]] # second element is NN\n",
    "\n",
    "    # Embedding Method 2: SVD\n",
    "\n",
    "    # find neighbors\n",
    "    neigh = NearestNeighbors(n_neighbors=2, metric=d).fit(Phi_w_transformed_SVD)\n",
    "    distances, indices = neigh.kneighbors(Phi_w_transformed_SVD[word_idx])\n",
    "\n",
    "    # add NN to dataframe\n",
    "    col_name = 'SVD' + '_' + d\n",
    "    df[col_name] = [V[i] for i in [k[1] for k in indices]] # second element is NN\n",
    "\n",
    "# display dataframe\n",
    "df"
   ]
  },
  {
   "cell_type": "markdown",
   "metadata": {},
   "source": [
    "3. Clustering.\n",
    "\n",
    "    Using the vectorial representation Ψ(.), cluster the words in V into 100 groups. Clearly specify what algorithm and distance function you using for this, and the reasons for your choices.\n",
    "\n",
    "    Look over the resulting 100 clusters. Do any of them seem even moderately coherent? Pick out a few of the best clusters and list the words in them. (35 marks)"
   ]
  },
  {
   "cell_type": "code",
   "execution_count": 162,
   "metadata": {},
   "outputs": [
    {
     "data": {
      "text/plain": [
       "'\\nSteps used for this section are described in the implementation above, and also in the report below. \\n'"
      ]
     },
     "execution_count": 162,
     "metadata": {},
     "output_type": "execute_result"
    }
   ],
   "source": [
    "\"\"\"\n",
    "Steps used for this section are described in the implementation above, and also in the report below. \n",
    "\"\"\""
   ]
  },
  {
   "cell_type": "markdown",
   "metadata": {},
   "source": [
    "4. Compare the similarities and differences when using the embedding and full matrix"
   ]
  },
  {
   "cell_type": "code",
   "execution_count": 168,
   "metadata": {},
   "outputs": [
    {
     "data": {
      "text/html": [
       "<div>\n",
       "<style scoped>\n",
       "    .dataframe tbody tr th:only-of-type {\n",
       "        vertical-align: middle;\n",
       "    }\n",
       "\n",
       "    .dataframe tbody tr th {\n",
       "        vertical-align: top;\n",
       "    }\n",
       "\n",
       "    .dataframe thead th {\n",
       "        text-align: right;\n",
       "    }\n",
       "</style>\n",
       "<table border=\"1\" class=\"dataframe\">\n",
       "  <thead>\n",
       "    <tr style=\"text-align: right;\">\n",
       "      <th></th>\n",
       "      <th>vocabulary</th>\n",
       "      <th>Full-Matrix_cosine</th>\n",
       "      <th>Full-Matrix_euclidean</th>\n",
       "      <th>Full-Matrix_manhattan</th>\n",
       "      <th>Full-Matrix_chebyshev</th>\n",
       "    </tr>\n",
       "  </thead>\n",
       "  <tbody>\n",
       "    <tr>\n",
       "      <th>0</th>\n",
       "      <td>communism</td>\n",
       "      <td>utopian</td>\n",
       "      <td>one</td>\n",
       "      <td>rico</td>\n",
       "      <td>must</td>\n",
       "    </tr>\n",
       "    <tr>\n",
       "      <th>1</th>\n",
       "      <td>autumn</td>\n",
       "      <td>summer</td>\n",
       "      <td>one</td>\n",
       "      <td>notte</td>\n",
       "      <td>made</td>\n",
       "    </tr>\n",
       "    <tr>\n",
       "      <th>2</th>\n",
       "      <td>cigarette</td>\n",
       "      <td>sleeping</td>\n",
       "      <td>one</td>\n",
       "      <td>notte</td>\n",
       "      <td>back</td>\n",
       "    </tr>\n",
       "    <tr>\n",
       "      <th>3</th>\n",
       "      <td>pulmonary</td>\n",
       "      <td>artery</td>\n",
       "      <td>artery</td>\n",
       "      <td>artery</td>\n",
       "      <td>population</td>\n",
       "    </tr>\n",
       "    <tr>\n",
       "      <th>4</th>\n",
       "      <td>mankind</td>\n",
       "      <td>christ</td>\n",
       "      <td>one</td>\n",
       "      <td>rico</td>\n",
       "      <td>every</td>\n",
       "    </tr>\n",
       "    <tr>\n",
       "      <th>5</th>\n",
       "      <td>africa</td>\n",
       "      <td>asia</td>\n",
       "      <td>united</td>\n",
       "      <td>notte</td>\n",
       "      <td>among</td>\n",
       "    </tr>\n",
       "    <tr>\n",
       "      <th>6</th>\n",
       "      <td>chicago</td>\n",
       "      <td>portland</td>\n",
       "      <td>new</td>\n",
       "      <td>kansas</td>\n",
       "      <td>provide</td>\n",
       "    </tr>\n",
       "    <tr>\n",
       "      <th>7</th>\n",
       "      <td>revolution</td>\n",
       "      <td>music</td>\n",
       "      <td>one</td>\n",
       "      <td>notte</td>\n",
       "      <td>even</td>\n",
       "    </tr>\n",
       "    <tr>\n",
       "      <th>8</th>\n",
       "      <td>september</td>\n",
       "      <td>july</td>\n",
       "      <td>year</td>\n",
       "      <td>rico</td>\n",
       "      <td>1</td>\n",
       "    </tr>\n",
       "    <tr>\n",
       "      <th>9</th>\n",
       "      <td>chemical</td>\n",
       "      <td>drugs</td>\n",
       "      <td>one</td>\n",
       "      <td>notte</td>\n",
       "      <td>given</td>\n",
       "    </tr>\n",
       "    <tr>\n",
       "      <th>10</th>\n",
       "      <td>detergent</td>\n",
       "      <td>fabrics</td>\n",
       "      <td>one</td>\n",
       "      <td>rico</td>\n",
       "      <td>found</td>\n",
       "    </tr>\n",
       "    <tr>\n",
       "      <th>11</th>\n",
       "      <td>dictionary</td>\n",
       "      <td>text</td>\n",
       "      <td>one</td>\n",
       "      <td>rico</td>\n",
       "      <td>form</td>\n",
       "    </tr>\n",
       "    <tr>\n",
       "      <th>12</th>\n",
       "      <td>storm</td>\n",
       "      <td>weekend</td>\n",
       "      <td>one</td>\n",
       "      <td>rico</td>\n",
       "      <td>went</td>\n",
       "    </tr>\n",
       "    <tr>\n",
       "      <th>13</th>\n",
       "      <td>worship</td>\n",
       "      <td>degree</td>\n",
       "      <td>one</td>\n",
       "      <td>amen</td>\n",
       "      <td>program</td>\n",
       "    </tr>\n",
       "    <tr>\n",
       "      <th>14</th>\n",
       "      <td>depression</td>\n",
       "      <td>mount</td>\n",
       "      <td>one</td>\n",
       "      <td>puerto</td>\n",
       "      <td>every</td>\n",
       "    </tr>\n",
       "    <tr>\n",
       "      <th>15</th>\n",
       "      <td>collective</td>\n",
       "      <td>involves</td>\n",
       "      <td>one</td>\n",
       "      <td>notte</td>\n",
       "      <td>trade</td>\n",
       "    </tr>\n",
       "    <tr>\n",
       "      <th>16</th>\n",
       "      <td>especially</td>\n",
       "      <td>many</td>\n",
       "      <td>many</td>\n",
       "      <td>notte</td>\n",
       "      <td>work</td>\n",
       "    </tr>\n",
       "    <tr>\n",
       "      <th>17</th>\n",
       "      <td>often</td>\n",
       "      <td>different</td>\n",
       "      <td>one</td>\n",
       "      <td>notte</td>\n",
       "      <td>would</td>\n",
       "    </tr>\n",
       "    <tr>\n",
       "      <th>18</th>\n",
       "      <td>involved</td>\n",
       "      <td>fact</td>\n",
       "      <td>one</td>\n",
       "      <td>rico</td>\n",
       "      <td>among</td>\n",
       "    </tr>\n",
       "    <tr>\n",
       "      <th>19</th>\n",
       "      <td>paula</td>\n",
       "      <td>lover</td>\n",
       "      <td>one</td>\n",
       "      <td>rico</td>\n",
       "      <td>last</td>\n",
       "    </tr>\n",
       "    <tr>\n",
       "      <th>20</th>\n",
       "      <td>jobs</td>\n",
       "      <td>job</td>\n",
       "      <td>one</td>\n",
       "      <td>rico</td>\n",
       "      <td>although</td>\n",
       "    </tr>\n",
       "    <tr>\n",
       "      <th>21</th>\n",
       "      <td>dartmouth</td>\n",
       "      <td>college</td>\n",
       "      <td>one</td>\n",
       "      <td>rico</td>\n",
       "      <td>also</td>\n",
       "    </tr>\n",
       "    <tr>\n",
       "      <th>22</th>\n",
       "      <td>present</td>\n",
       "      <td>important</td>\n",
       "      <td>may</td>\n",
       "      <td>notte</td>\n",
       "      <td>perhaps</td>\n",
       "    </tr>\n",
       "    <tr>\n",
       "      <th>23</th>\n",
       "      <td>observations</td>\n",
       "      <td>measurements</td>\n",
       "      <td>one</td>\n",
       "      <td>tetrachloride</td>\n",
       "      <td>study</td>\n",
       "    </tr>\n",
       "    <tr>\n",
       "      <th>24</th>\n",
       "      <td>demand</td>\n",
       "      <td>area</td>\n",
       "      <td>one</td>\n",
       "      <td>dairy</td>\n",
       "      <td>many</td>\n",
       "    </tr>\n",
       "  </tbody>\n",
       "</table>\n",
       "</div>"
      ],
      "text/plain": [
       "      vocabulary Full-Matrix_cosine Full-Matrix_euclidean  \\\n",
       "0      communism            utopian                   one   \n",
       "1         autumn             summer                   one   \n",
       "2      cigarette           sleeping                   one   \n",
       "3      pulmonary             artery                artery   \n",
       "4        mankind             christ                   one   \n",
       "5         africa               asia                united   \n",
       "6        chicago           portland                   new   \n",
       "7     revolution              music                   one   \n",
       "8      september               july                  year   \n",
       "9       chemical              drugs                   one   \n",
       "10     detergent            fabrics                   one   \n",
       "11    dictionary               text                   one   \n",
       "12         storm            weekend                   one   \n",
       "13       worship             degree                   one   \n",
       "14    depression              mount                   one   \n",
       "15    collective           involves                   one   \n",
       "16    especially               many                  many   \n",
       "17         often          different                   one   \n",
       "18      involved               fact                   one   \n",
       "19         paula              lover                   one   \n",
       "20          jobs                job                   one   \n",
       "21     dartmouth            college                   one   \n",
       "22       present          important                   may   \n",
       "23  observations       measurements                   one   \n",
       "24        demand               area                   one   \n",
       "\n",
       "   Full-Matrix_manhattan Full-Matrix_chebyshev  \n",
       "0                   rico                  must  \n",
       "1                  notte                  made  \n",
       "2                  notte                  back  \n",
       "3                 artery            population  \n",
       "4                   rico                 every  \n",
       "5                  notte                 among  \n",
       "6                 kansas               provide  \n",
       "7                  notte                  even  \n",
       "8                   rico                     1  \n",
       "9                  notte                 given  \n",
       "10                  rico                 found  \n",
       "11                  rico                  form  \n",
       "12                  rico                  went  \n",
       "13                  amen               program  \n",
       "14                puerto                 every  \n",
       "15                 notte                 trade  \n",
       "16                 notte                  work  \n",
       "17                 notte                 would  \n",
       "18                  rico                 among  \n",
       "19                  rico                  last  \n",
       "20                  rico              although  \n",
       "21                  rico                  also  \n",
       "22                 notte               perhaps  \n",
       "23         tetrachloride                 study  \n",
       "24                 dairy                  many  "
      ]
     },
     "execution_count": 168,
     "metadata": {},
     "output_type": "execute_result"
    }
   ],
   "source": [
    "from sklearn.neighbors import NearestNeighbors\n",
    "import pandas as pd\n",
    "\n",
    "# try finding the nearest neighbor for a collection of 25 words\n",
    "\n",
    "# define sample words and get their indices\n",
    "sample_words = ['communism', 'autumn', 'cigarette', 'pulmonary', 'mankind', 'africa', 'chicago', \n",
    "                'revolution', 'september', 'chemical', 'detergent', 'dictionary', 'storm', 'worship']\n",
    "sample_words_idx = [V.index(i) for i in sample_words]\n",
    "\n",
    "# fill the collection of 25 with 11 more random words\n",
    "word_idx = sample_words_idx + [randrange(len(V)) for i in range(11)] \n",
    "\n",
    "# create dataframe with vocabulary words\n",
    "df = pd.DataFrame([V[i] for i in word_idx], columns=['vocabulary'])\n",
    "\n",
    "# compute neighbors without embedding\n",
    "for d in ['cosine', 'euclidean', 'manhattan', 'chebyshev']:\n",
    "    \n",
    "    # find neighbors\n",
    "    neigh = NearestNeighbors(n_neighbors=2, metric=d).fit(Phi_w)\n",
    "    distances, indices = neigh.kneighbors(Phi_w[word_idx])\n",
    "\n",
    "    # add NN to dataframe\n",
    "    col_name = 'Full-Matrix' + '_' + d\n",
    "    df[col_name] = [V[i] for i in [k[1] for k in indices]]\n",
    "\n",
    "# display dataframe\n",
    "df"
   ]
  },
  {
   "cell_type": "markdown",
   "metadata": {},
   "source": [
    "In this homework, you are expected to come up with three strategies (one for each task). You should to turn-in a concise report (2-3 pages) with the results of the above tasks along with a description of your final approach. You should clearly describe your approach along with all the parameters you use. The description should be enough for someone else to recreate your model/results. Along with the description, you are expected to provide the performance analysis of your model including the shortcomings (if any) and any ideas to further improve it. You should also include a brief description of all the major approaches you tried (with code on Gradescope), and the reason why you selected your current model over them."
   ]
  },
  {
   "cell_type": "markdown",
   "metadata": {},
   "source": [
    "You won’t be graded on the performance of your model but you’ll be graded (30%) on the comprehensiveness of your analysis. You are not expected to come up with a new algorithm (though that would be great!), but your report should justify that the approach you suggest is equivalent/better than some of the standard models discussed in the class. In essence, to secure full marks in this section, your analysis of this problem should be in-depth and thorough."
   ]
  },
  {
   "cell_type": "markdown",
   "metadata": {},
   "source": [
    "## Answer for section 3 - Report"
   ]
  },
  {
   "cell_type": "markdown",
   "metadata": {},
   "source": [
    "#### Description of the 100-dimensional embedding\n",
    "\n",
    "This analysis contains over 1 million words from the NLTK Brown corpus, which is a collection of text samples from a variety of sources. To start, the corpus was read into Python as a list of raw words coming from all the combined text streams. Then, data processing and preparation was achieved by first converting all letters for each word to lower case and removing any spaces or punctuations such as commas and question marks, following by removing list elements that appear in the stopwords list from the NLTK corpus library. After removing stopwords the remaining list of words had over half a million elements, from here two more lists were generated named as Vocabulary (C) and Context words (C) containing the most commonly-occuring words, 5000 and 1000 respectively; therefore the second is a subset of the first. And the last step for data preparation was to create the co-occurance matrix with both lists described above, whose dimension is 5000 x 1000. The matrix is basically created by scanning through the listed text stream (with processed words) and finding the number of times each element in C occurs in a defined window of two elements before and after around each element in V. \n",
    "\n",
    "Now, some natural language processing was performed by finding the positive pointwise mutual information (PPMI) on the co-ocurrance matrix. The first step was to find the probabilities for each element in C given elements in V, where the matrix dimension is the same as the original matrix with 5000 x 1000. Secondly, the probability distribution for each element in C was found, whose dimension is 1000. With this in mind, the PPMI was then be calculated by taking the element-wise maximum value between zero and the ratio of logs between the first and second probabilities calculated above. This was able to set any negative values to zero as the PPMI is only interested in understanding the mutual information between words and not how they occur individually, for example, it kept the relationship for the words \"new york\" despite the word \"new\" can appear many times individually in context with other words. \n",
    "\n",
    "Lastly, the PPMI result found was highly dimensional with 1000 dimensions, therefore, using a lower dimensional representation was used with the intent to help model training efficiency, or in theory it could also possibly help with issues related to the curse of dimensionality. To achieve this, the analysis considered a 100-dimensional embedding where two methods are compared, namely Singular Value Decomposition (SVD) and Principal Component Analysis (PCA). After applying each of them, the transformed PPMI expressed about 23% total variance explained from the original data. The embedding was essentially expressing about a fifth of the initial variance with 10-fold decrease in features, these kind of trade-offs are decided according to the practicality of the problem. "
   ]
  },
  {
   "cell_type": "markdown",
   "metadata": {},
   "source": [
    "#### Nearest neighbor results\n",
    "\n",
    "Nearest neighbors (NN) is implemented above (section 3.2) by defining a list of suggested words and adding an additional 11 random words to form a collection of 25 words total, where every word is an element of the vocabulary. The model used comes from the libray sklearn.neighbors and it was processed using both methods tested for embedding as mentioned above, PCA and SVD. For each, the embedding (or transformed data) of dimension 100 was processed with the NearestNeighbors model for each of the 5000 words in the vocabulary. The parameters used are n_neighbors=2, since the first NN is the word itself the second one is taken. In addition to different distance metrics including cosine, eucledian, manhattan, and chebyshev. The results are summarized in the dataframe from section 3.2, and basically the results appear to make sense as the majority of words have similar context despite which distance metric or embedding method was used. However, is worth highlighting that there is a distinguishable pattern for this collection of words where all methods predicted the same word with the exception of \"chebyshev\", and this happens on rows 5, 11, 23, and 24 for the words asia, fabrics, york, and million. All in all, Is probable that some methods are better at prediction a particular context or cluster of words by finding specific hidden patterns, for this reason the parameter selection should depend on the type of application and the ability to practically apply restrictions that would make the model predict more accurately. "
   ]
  },
  {
   "cell_type": "markdown",
   "metadata": {},
   "source": [
    "#### Clustering\n",
    "\n",
    "The embedding for each method, PCA and SVD, was used to cluster the vocabulary (with 5000 words) into 100 clusters. The algorithm used comes from sklearn.cluster library and is called Kmeans, where the parameters used are n_clusters = 100 and init = 'k-means++'. Section 2.6 from the notebook above shows an example where two words were picked at random, \"magnitude\" and \"miles\". In general, the clusters generated for such words seem to be coherent across both embeddings tested, the first word \"magnitude\" clustered with other words similar in the context of science such as chemistry, biology, and physics. While the second word \"miles\" clustered with other words related with time, numbers, and currency units. Then, when comparing the clusters where each of the words belongs PCA clustered a total of 56 and 32 words including \"magnitude\" and \"miles\" respectively, and SVD a total of 73 and 27 in the same order. And when comparing the overlapping words pertaining to the clusters of \"magnitude\" and \"miles\", both embeddings agreed on 34 and 21 respectively. This is a very decent result considering that both embeddings have about 23% as the total percentage of variance explained. The amount of overlap between embeddings and higher relationship within the cluster might also well depend on the word chosen, in this case the word \"magnitude\" seems to be part of a larger cluster as it is likely to be found in a variety of places and disciplines as compared to the word \"miles\" that is probably only found when refering to distances or measurements. "
   ]
  },
  {
   "cell_type": "markdown",
   "metadata": {},
   "source": [
    "#### Comparison using full matrix and reduced matrix\n",
    "\n",
    "To keep exploring the importance of the embeddings generated, the full matrix for PPMI was used to replicate the analysis for nearest neighbors from above. The results are summarized on a dataframe in section 3.4 where it basically shows how the performance is significantly lower as compared to the embedding results in section 3.2 with PCA and SVD. For instance, the full matrix resuls when using the cosine metric for distance seem to be decent as the context between words makes sense and is comparable to the embedding results, however, the other distance metrics are completely incorrect. There is an interesting repetition of errors where words are repeated when predicting the NN, for example the words \"one\" and \"rico\" appear multiple times for the distance metrics 'eucledian' and 'manhattan'. In summary, when comparing the NN prediction between full matrix and reduced matrix the winner seems to be the reduced matrix in every scenario tested in this analysis. Is possible that methods like clustering and nearest neighbor break down at higher dimensions as the distances might become highly concentrated or the values get lost in space, these observations could definitely be tied to the curse of dimensionality. And with this in mind, the need to create an embeding before clustering is of absolute importance in order to produce a useful model with accurate predictions.\n"
   ]
  },
  {
   "cell_type": "markdown",
   "metadata": {},
   "source": [
    "#### Future steps\n",
    "\n",
    "Lastly, to further explore this analysis there are a few things to consider around data preparation, domain knowledge, and statistics to bring better insight on the results. First, some restrictions in the vocabulary might be useful in order to elimiate added noise to the predictions. For example some words from the vocabulary appear as numerical values or text numbers (i.e. one), and in the context of words these can possibly appear in many places without any specific mutual information of interest between words. Another example would be to reduce the number of words by considering linguistics, words that have similar meaning, or known noise words that might induce negative interactions. Secondly, after data preparation is considered and clustering is performed, it would be useful to talk to a domain expert about each of the clusters learned in order to identify the nature of each group and whether they make sense to belong together or not. In addition, to keep exploring the clusters it would be fundamental to count and quantify que occurence of each word as multiple embedding methods (i.e. PCA) and parameters (i.e. cosine distance) are tested and implemented. And lastly, more work can be done in understanding the words that are clustered near the boundaries among other clusters as they might provide useful insights when trying to understand relationships, rank importance, or being able to discriminate with higher confidence. "
   ]
  },
  {
   "cell_type": "code",
   "execution_count": null,
   "metadata": {},
   "outputs": [],
   "source": []
  }
 ],
 "metadata": {
  "kernelspec": {
   "display_name": "Python 3",
   "language": "python",
   "name": "python3"
  },
  "language_info": {
   "codemirror_mode": {
    "name": "ipython",
    "version": 3
   },
   "file_extension": ".py",
   "mimetype": "text/x-python",
   "name": "python",
   "nbconvert_exporter": "python",
   "pygments_lexer": "ipython3",
   "version": "3.7.7"
  }
 },
 "nbformat": 4,
 "nbformat_minor": 2
}
